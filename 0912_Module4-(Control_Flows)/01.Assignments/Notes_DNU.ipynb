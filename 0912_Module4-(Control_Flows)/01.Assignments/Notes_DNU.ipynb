{
 "cells": [
  {
   "cell_type": "markdown",
   "id": "d2ba0d92-e438-4f2f-a080-f01fe1e6e5a0",
   "metadata": {},
   "source": [
    "# Notes - DNU"
   ]
  },
  {
   "cell_type": "code",
   "execution_count": 2,
   "id": "0e849b84-9ea9-43bb-b6a0-c3900a0bb367",
   "metadata": {},
   "outputs": [
    {
     "name": "stdout",
     "output_type": "stream",
     "text": [
      "2.10000\n",
      "2.1\n"
     ]
    }
   ],
   "source": [
    "floatNumber = 2.1\n",
    "#Method 1: use f-strings\n",
    "print(f\"{floatNumber:.5f}\") #Output: 2.13400 == '%.5f'%floatNumber\n",
    "#Method 2: use round\n",
    "print(round(floatNumber,5)) #Output: 2.134"
   ]
  },
  {
   "cell_type": "code",
   "execution_count": 3,
   "id": "623e9d1d-db3f-450b-ad22-c43721690000",
   "metadata": {},
   "outputs": [
    {
     "name": "stdout",
     "output_type": "stream",
     "text": [
      "2.10000\n"
     ]
    }
   ],
   "source": [
    "floatNumber = 2.1\n",
    "print(f\"{floatNumber:.5f}\")"
   ]
  },
  {
   "cell_type": "code",
   "execution_count": 5,
   "id": "dab7d26f-fb7b-4856-9591-10ce90d3f841",
   "metadata": {},
   "outputs": [],
   "source": [
    "floatNumberlist = [2.1, 2.2]\n",
    "#print(f\"{floatNumberlist:.5f}\")"
   ]
  },
  {
   "cell_type": "code",
   "execution_count": 6,
   "id": "c2071e49-575d-4f02-b770-6c4debbf0ffe",
   "metadata": {},
   "outputs": [
    {
     "data": {
      "text/plain": [
       "list"
      ]
     },
     "execution_count": 6,
     "metadata": {},
     "output_type": "execute_result"
    }
   ],
   "source": [
    "type(floatNumberlist)"
   ]
  },
  {
   "cell_type": "code",
   "execution_count": 7,
   "id": "79bc14d7-8e60-445e-9782-d5a2e5a47b03",
   "metadata": {},
   "outputs": [
    {
     "data": {
      "text/plain": [
       "2.1"
      ]
     },
     "execution_count": 7,
     "metadata": {},
     "output_type": "execute_result"
    }
   ],
   "source": [
    "floatNumberlist[0]"
   ]
  },
  {
   "cell_type": "code",
   "execution_count": 9,
   "id": "c698d81a-9576-4fe4-a5b6-e63d6715e7d9",
   "metadata": {},
   "outputs": [
    {
     "name": "stdout",
     "output_type": "stream",
     "text": [
      "2.1000\n"
     ]
    }
   ],
   "source": [
    "print(f\"{floatNumberlist[0]:.4f}\")"
   ]
  },
  {
   "cell_type": "code",
   "execution_count": 17,
   "id": "140c7d6b-8581-4033-99bc-1dc61106231b",
   "metadata": {},
   "outputs": [
    {
     "name": "stdout",
     "output_type": "stream",
     "text": [
      "1.0000\n",
      "2.0000\n",
      "3.0000\n",
      "4.0000\n"
     ]
    }
   ],
   "source": [
    "floatNumberlist = [1,2,3,4]\n",
    "for num in range(0,4):\n",
    "    print(f\"{floatNumberlist[num]:.4f}\")"
   ]
  },
  {
   "cell_type": "code",
   "execution_count": null,
   "id": "cfa516f8-4046-4d0f-bf4a-d6bb0f33d87b",
   "metadata": {},
   "outputs": [],
   "source": []
  }
 ],
 "metadata": {
  "kernelspec": {
   "display_name": "Python 3 (ipykernel)",
   "language": "python",
   "name": "python3"
  },
  "language_info": {
   "codemirror_mode": {
    "name": "ipython",
    "version": 3
   },
   "file_extension": ".py",
   "mimetype": "text/x-python",
   "name": "python",
   "nbconvert_exporter": "python",
   "pygments_lexer": "ipython3",
   "version": "3.9.12"
  }
 },
 "nbformat": 4,
 "nbformat_minor": 5
}
