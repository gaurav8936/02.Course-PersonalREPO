{
 "cells": [
  {
   "cell_type": "markdown",
   "metadata": {},
   "source": [
    "### 3-3. Fibonacci (25 points)\n",
    "\n",
    "The Fibonacci numbers begin with 1, 1.  After the first two numbers, each number is the sum of the previous two. 1 + 1 = 2, so 2 is the third number. Then 1 + 2 = 3, so 3 is the next one, and so on. Write a script that prompts the user for an integer number, then prints all the Fibonacci numbers that are less than or equal to the input, in order.\n",
    "\n",
    "Example:\n",
    "```\n",
    "Enter a number: 15\n",
    "\n",
    "1 1 2 3 5 8 13\n",
    "```"
   ]
  },
  {
   "cell_type": "markdown",
   "metadata": {},
   "source": [
    "<font size = 6, color = green>New Solution, 09122022"
   ]
  },
  {
   "cell_type": "code",
   "execution_count": 9,
   "metadata": {},
   "outputs": [
    {
     "name": "stdin",
     "output_type": "stream",
     "text": [
      "enter an integer : 45\n"
     ]
    },
    {
     "name": "stdout",
     "output_type": "stream",
     "text": [
      "1 1 2 3 5 8 13 21 34\n"
     ]
    }
   ],
   "source": [
    "rangemax = int(input(\"enter an integer :\"))\n",
    "\n",
    "#mystring1 = \"\"\n",
    "mystring = \"1 1\"\n",
    "a = 1\n",
    "b = 1\n",
    "\n",
    "\n",
    "for index in range(1,rangemax):\n",
    "    c = a + b\n",
    "    if c > rangemax:\n",
    "        break\n",
    "    else:\n",
    "        cstring = str(c)\n",
    "        mystring = mystring + ' ' + cstring\n",
    "        a = b # 1\n",
    "        b = c # 2\n",
    "\n",
    "print(mystring)"
   ]
  },
  {
   "cell_type": "markdown",
   "metadata": {},
   "source": [
    "# Solution 0"
   ]
  },
  {
   "cell_type": "code",
   "execution_count": 12,
   "metadata": {
    "tags": []
   },
   "outputs": [
    {
     "name": "stdin",
     "output_type": "stream",
     "text": [
      "enter an integer : 45\n"
     ]
    },
    {
     "name": "stdout",
     "output_type": "stream",
     "text": [
      "1\n",
      "1\n",
      "2\n",
      "3\n",
      "5\n",
      "8\n",
      "13\n",
      "21\n",
      "34\n"
     ]
    }
   ],
   "source": [
    "### Q3-3 Grading Tag: Please put your entire solution in this cell. Don't edit this line.\n",
    "\n",
    "rangemax = int(input(\"enter an integer :\"))\n",
    "\n",
    "a = 1\n",
    "b = 1\n",
    "\n",
    "print(a)\n",
    "print(b)\n",
    "for i in range(2, rangemax):\n",
    "    c = a + b\n",
    "    if c > rangemax:\n",
    "        break\n",
    "    else:\n",
    "        a = b\n",
    "        b = c\n",
    "        print(c)"
   ]
  },
  {
   "cell_type": "markdown",
   "metadata": {},
   "source": [
    "---"
   ]
  },
  {
   "cell_type": "markdown",
   "metadata": {},
   "source": [
    "# Solution 1 (Mine - List)"
   ]
  },
  {
   "cell_type": "code",
   "execution_count": null,
   "metadata": {},
   "outputs": [
    {
     "ename": "SyntaxError",
     "evalue": "unexpected EOF while parsing (403694221.py, line 19)",
     "output_type": "error",
     "traceback": [
      "\u001b[0;36m  Input \u001b[0;32mIn [6]\u001b[0;36m\u001b[0m\n\u001b[0;31m    print(str((mylist2 + mylist1))\u001b[0m\n\u001b[0m                                  ^\u001b[0m\n\u001b[0;31mSyntaxError\u001b[0m\u001b[0;31m:\u001b[0m unexpected EOF while parsing\n"
     ]
    }
   ],
   "source": [
    "rangemax = int(input(\"enter an integer :\"))\n",
    "\n",
    "mylist1 = []\n",
    "a = 1\n",
    "b = 1\n",
    "#rangemax = 15\n",
    "mylist2 = [1,1]\n",
    "\n",
    "\n",
    "for index in range(1,rangemax):\n",
    "    c = a + b\n",
    "    if c > rangemax:\n",
    "        break\n",
    "    else:\n",
    "        (mylist1).append(c)\n",
    "        a = b # 1\n",
    "        b = c # 2\n",
    "\n",
    "print(mylist2 + mylist1)"
   ]
  },
  {
   "cell_type": "markdown",
   "metadata": {},
   "source": [
    "---"
   ]
  },
  {
   "cell_type": "markdown",
   "metadata": {},
   "source": [
    "# My Solution 2 (print statement from string)"
   ]
  },
  {
   "cell_type": "code",
   "execution_count": 9,
   "metadata": {},
   "outputs": [
    {
     "name": "stdin",
     "output_type": "stream",
     "text": [
      "enter an integer : 45\n"
     ]
    },
    {
     "name": "stdout",
     "output_type": "stream",
     "text": [
      "[1, 1, 2, 3, 5, 8, 13, 21, 34]\n"
     ]
    }
   ],
   "source": [
    "rangemax = int(input(\"enter an integer :\"))\n",
    "\n",
    "mylist1 = []\n",
    "a = 1\n",
    "b = 1\n",
    "#rangemax = 15\n",
    "mylist2 = [1,1]\n",
    "\n",
    "\n",
    "for index in range(1,rangemax):\n",
    "    c = a + b\n",
    "    if c > rangemax:\n",
    "        break\n",
    "    else:\n",
    "        (mylist1).append(c)\n",
    "        a = b # 1\n",
    "        b = c # 2\n",
    "\n",
    "mylist = mylist2 + mylist1\n",
    "\n",
    "mystring = str(mylist)\n",
    "\n",
    "print(mystring)"
   ]
  },
  {
   "cell_type": "code",
   "execution_count": 7,
   "metadata": {},
   "outputs": [
    {
     "name": "stdin",
     "output_type": "stream",
     "text": [
      "enter an integer : 45\n"
     ]
    },
    {
     "name": "stdout",
     "output_type": "stream",
     "text": [
      "1 1 2 3 5 8 13 21 34\n"
     ]
    }
   ],
   "source": [
    "rangemax = int(input(\"enter an integer :\"))\n",
    "\n",
    "#mylist1 = []\n",
    "mystring1 = \"\"\n",
    "mystring2 = \"1 1\"\n",
    "a = 1\n",
    "b = 1\n",
    "#rangemax = 15\n",
    "#mylist2 = ['1','1']\n",
    "\n",
    "\n",
    "for index in range(1,rangemax):\n",
    "    c = a + b\n",
    "#    print('c before', c)\n",
    "    if c > rangemax:\n",
    "        break\n",
    "    else:\n",
    "#        print('c after', c)    \n",
    "        cstring = str(c)\n",
    "#        #mystring2 + str(c)\n",
    "        mystring2 = mystring2 + ' ' + cstring\n",
    "#        (mylist1).append(str(c))\n",
    "        a = b # 1\n",
    "        b = c # 2\n",
    "#    #print(mystring2)\n",
    "\n",
    "#mystring = mystring2 + mystring1\n",
    "\n",
    "print(mystring2)\n",
    "\n",
    "        \n",
    "#mylist = mylist2 + mylist1\n",
    "\n",
    "#mystring = str(mylist)\n",
    "\n",
    "#print(mystring)\n",
    "\n",
    "# print( mystring2 + cstring)"
   ]
  },
  {
   "cell_type": "code",
   "execution_count": 26,
   "metadata": {},
   "outputs": [
    {
     "data": {
      "text/plain": [
       "'1 1 3'"
      ]
     },
     "execution_count": 26,
     "metadata": {},
     "output_type": "execute_result"
    }
   ],
   "source": [
    "c = 13\n",
    "\n",
    "strb = \"1 1 \"\n",
    "c = str(3)\n",
    "\n",
    "strb + c\n",
    "\n"
   ]
  },
  {
   "cell_type": "code",
   "execution_count": null,
   "metadata": {},
   "outputs": [],
   "source": []
  },
  {
   "cell_type": "markdown",
   "metadata": {},
   "source": [
    "---"
   ]
  },
  {
   "cell_type": "markdown",
   "metadata": {},
   "source": [
    "# My Solution (just did not get the print before)"
   ]
  },
  {
   "cell_type": "code",
   "execution_count": 4,
   "metadata": {},
   "outputs": [
    {
     "name": "stdin",
     "output_type": "stream",
     "text": [
      "enter an integer : 45\n"
     ]
    },
    {
     "name": "stdout",
     "output_type": "stream",
     "text": [
      "2 3 5 8 13 21 34 "
     ]
    }
   ],
   "source": [
    "rangemax = int(input(\"enter an integer :\"))\n",
    "\n",
    "a = 1\n",
    "b = 1\n",
    "\n",
    "for index in range(1,rangemax):\n",
    "    c = a + b\n",
    "    if c > rangemax:\n",
    "        break\n",
    "    else:\n",
    "        a = b # 1\n",
    "        b = c # 2\n",
    "        print(c, end = \" \")"
   ]
  },
  {
   "cell_type": "code",
   "execution_count": null,
   "metadata": {},
   "outputs": [],
   "source": []
  },
  {
   "cell_type": "code",
   "execution_count": null,
   "metadata": {},
   "outputs": [],
   "source": []
  },
  {
   "cell_type": "code",
   "execution_count": null,
   "metadata": {},
   "outputs": [],
   "source": []
  },
  {
   "cell_type": "code",
   "execution_count": null,
   "metadata": {},
   "outputs": [],
   "source": []
  },
  {
   "cell_type": "code",
   "execution_count": null,
   "metadata": {},
   "outputs": [],
   "source": []
  },
  {
   "cell_type": "code",
   "execution_count": null,
   "metadata": {},
   "outputs": [],
   "source": []
  },
  {
   "cell_type": "markdown",
   "metadata": {},
   "source": [
    "# Solution 1"
   ]
  },
  {
   "cell_type": "code",
   "execution_count": 13,
   "metadata": {},
   "outputs": [
    {
     "name": "stdin",
     "output_type": "stream",
     "text": [
      "enter an integer : 15\n"
     ]
    },
    {
     "name": "stdout",
     "output_type": "stream",
     "text": [
      "1 2 3 4 5 6 7 8 9 10 11 12 13 14 "
     ]
    }
   ],
   "source": [
    "rangemax = int(input(\"enter an integer :\"))\n",
    "\n",
    "a = 1\n",
    "b = 1\n",
    "\n",
    "for a in range(1,rangemax):\n",
    "#    print(a, end = \" \")\n",
    "    b = a\n",
    "    c = a + b\n",
    "    print(b, end = \" \")\n",
    "    # a = b # 1\n",
    "    # b = c # 2\n",
    "#    c = a + b\n",
    "#    c = a + b\n",
    "#    if c > rangemax:\n",
    "#        break"
   ]
  },
  {
   "cell_type": "code",
   "execution_count": 7,
   "metadata": {},
   "outputs": [
    {
     "name": "stdin",
     "output_type": "stream",
     "text": [
      "enter an integer : 15\n"
     ]
    },
    {
     "name": "stdout",
     "output_type": "stream",
     "text": [
      "1\n",
      "1\n",
      "2\n",
      "3\n",
      "5\n",
      "8\n",
      "13\n",
      "21\n",
      "34\n",
      "55\n",
      "89\n",
      "144\n",
      "233\n",
      "377\n",
      "610\n"
     ]
    }
   ],
   "source": [
    "rangemax = int(input(\"enter an integer :\"))\n",
    "\n",
    "a = 1\n",
    "b = 1\n",
    "\n",
    "print(a)\n",
    "print(b)\n",
    "for i in range(2, rangemax):\n",
    "    c = a + b\n",
    "    a = b\n",
    "    b = c\n",
    "    print(c)\n",
    "\n"
   ]
  },
  {
   "cell_type": "code",
   "execution_count": 20,
   "metadata": {},
   "outputs": [
    {
     "name": "stdin",
     "output_type": "stream",
     "text": [
      "enter an integer : 45\n"
     ]
    },
    {
     "name": "stdout",
     "output_type": "stream",
     "text": [
      "1\n",
      "1\n",
      "2\n",
      "3\n",
      "5\n",
      "8\n",
      "13\n",
      "21\n",
      "34\n"
     ]
    }
   ],
   "source": [
    "rangemax = int(input(\"enter an integer :\"))\n",
    "\n",
    "a = 1\n",
    "b = 1\n",
    "\n",
    "print(a)\n",
    "print(b)\n",
    "for i in range(2, rangemax):\n",
    "    c = a + b\n",
    "    if c > rangemax:\n",
    "        break\n",
    "    else:\n",
    "        a = b\n",
    "        b = c\n",
    "        print(c)"
   ]
  },
  {
   "cell_type": "code",
   "execution_count": null,
   "metadata": {},
   "outputs": [],
   "source": [
    "rangemax = int(input(\"enter an integer :\"))\n",
    "\n",
    "a = 1\n",
    "b = 1\n",
    "c = a + b\n",
    "\n",
    "if c < rangemax:\n",
    "    "
   ]
  },
  {
   "cell_type": "code",
   "execution_count": 3,
   "metadata": {},
   "outputs": [
    {
     "name": "stdin",
     "output_type": "stream",
     "text": [
      "enter an integer : 45\n"
     ]
    },
    {
     "name": "stdout",
     "output_type": "stream",
     "text": [
      "2 3 5 8 13 21 34 "
     ]
    }
   ],
   "source": [
    "rangemax = int(input(\"enter an integer :\"))\n",
    "\n",
    "a = 1\n",
    "b = 1\n",
    "\n",
    "for index in range(1,rangemax):\n",
    "    c = a + b\n",
    "    if c > rangemax:\n",
    "        break\n",
    "    else:\n",
    "        a = b # 1\n",
    "        b = c # 2\n",
    "        print(c, end = \" \")\n",
    "#        print(a, end = \" \")"
   ]
  },
  {
   "attachments": {
    "8b6dd739-a2bc-4161-8e55-36fa8577d5ed.png": {
     "image/png": "[encoded data removed]"
    }
   },
   "cell_type": "markdown",
   "metadata": {},
   "source": [
    "![image.png](attachment:8b6dd739-a2bc-4161-8e55-36fa8577d5ed.png)"
   ]
  },
  {
   "cell_type": "markdown",
   "metadata": {},
   "source": [
    "# Solution 2"
   ]
  },
  {
   "cell_type": "code",
   "execution_count": 14,
   "metadata": {},
   "outputs": [
    {
     "name": "stdin",
     "output_type": "stream",
     "text": [
      "enter an integer : 15\n"
     ]
    },
    {
     "name": "stdout",
     "output_type": "stream",
     "text": [
      "[1, 1, 2, 3, 5, 8, 13]\n"
     ]
    }
   ],
   "source": [
    "rangemax = int(input(\"enter an integer :\"))\n",
    "\n",
    "mylist1 = []\n",
    "a = 1\n",
    "b = 1\n",
    "#rangemax = 15\n",
    "mylist2 = [1,1]\n",
    "\n",
    "\n",
    "for index in range(1,rangemax):\n",
    "    c = a + b\n",
    "    if c > rangemax:\n",
    "        break\n",
    "    else:\n",
    "        (mylist1).append(c)\n",
    "        a = b # 1\n",
    "        b = c # 2\n",
    "\n",
    "print(mylist2 + mylist1)"
   ]
  },
  {
   "cell_type": "code",
   "execution_count": null,
   "metadata": {},
   "outputs": [],
   "source": []
  },
  {
   "cell_type": "code",
   "execution_count": 5,
   "metadata": {},
   "outputs": [
    {
     "name": "stdout",
     "output_type": "stream",
     "text": [
      "c before 2\n",
      "[1, 1, 2]\n",
      "c acter:  2\n",
      "c before 2\n",
      "[1, 1, 2, 2]\n",
      "c acter:  2\n"
     ]
    }
   ],
   "source": [
    "num = 15\n",
    "sum = 0\n",
    "mylist = [1,1]\n",
    "sum1 = 0\n",
    "sum2 = 0\n",
    "\n",
    "for index in range(3,5):\n",
    "    if index == 0 or index == 0:\n",
    "        continue\n",
    "    else:\n",
    "    #print(index[3])\n",
    "        a = 1\n",
    "        b = 1\n",
    "        c = a + b\n",
    "        print('c before', c)\n",
    "        (mylist).append(c)\n",
    "        print(mylist)\n",
    "        a = b # 1\n",
    "        b = c # 2\n",
    "        print('c acter: ', c)\n",
    "        #print(a,b,c)\n",
    "        \n",
    "#         num1 = index\n",
    "#         num2 = index + num1\n",
    "#         sum = num1 + num2\n",
    "#         print(sum)\n",
    "        \n",
    "# #         print('the index is \"',index)\n",
    "# # #         sum = (index + (index+1))\n",
    "# # #         print('the sum is \"',sum)\n",
    "\n",
    "# 11235813\n",
    "\n",
    "# 1 + 0 = 1\n",
    "\n",
    "# 1 + 1 = 2\n",
    "\n",
    "# 2 + 1 = 3\n",
    "\n",
    "# 2 + 3 = 5\n",
    "\n",
    "# 3 + 5 = 8\n",
    "\n",
    "# 8 + 5 = 13"
   ]
  },
  {
   "cell_type": "code",
   "execution_count": 3,
   "metadata": {},
   "outputs": [
    {
     "name": "stdout",
     "output_type": "stream",
     "text": [
      "[1, 1, 2, 3, 5, 8, 13, 21, 34, 55, 89, 144, 233, 377, 610, 987]\n"
     ]
    }
   ],
   "source": [
    "mylist1 = []\n",
    "a = 1\n",
    "b = 1\n",
    "rangemax = 15\n",
    "mylist2 = [1,1]\n",
    "\n",
    "for index in range(1,rangemax):\n",
    "#    print('round :', index)\n",
    "    # a = index\n",
    "    # b = index\n",
    "    c = a + b\n",
    "    # print('a before', a)\n",
    "    # print('b before', b)    \n",
    "    # print('c before', c)\n",
    "    (mylist1).append(c)\n",
    "#    print(mylist1)\n",
    "    a = b # 1\n",
    "    b = c # 2\n",
    "    # print('a after', a)\n",
    "    # print('b after', b)    \n",
    "    # print('c after', c)\n",
    "\n",
    "    # if c > rangemax:\n",
    "    #     break\n",
    "#print(mylist1)\n",
    "\n",
    "mylist3 = mylist2 + mylist1\n",
    "print(mylist3)"
   ]
  },
  {
   "cell_type": "code",
   "execution_count": 11,
   "metadata": {},
   "outputs": [
    {
     "data": {
      "text/plain": [
       "[2, 4]"
      ]
     },
     "execution_count": 11,
     "metadata": {},
     "output_type": "execute_result"
    }
   ],
   "source": [
    "mylist1"
   ]
  },
  {
   "cell_type": "code",
   "execution_count": 4,
   "metadata": {},
   "outputs": [
    {
     "name": "stdout",
     "output_type": "stream",
     "text": [
      "[1, 1, 2, 3, 5, 8, 13, 21]\n"
     ]
    }
   ],
   "source": [
    "mylist1 = []\n",
    "a = 1\n",
    "b = 1\n",
    "rangemax = 15\n",
    "mylist2 = [1,1]\n",
    "\n",
    "for index in range(1,rangemax):\n",
    "#    print('round :', index)\n",
    "    # a = index\n",
    "    # b = index\n",
    "    c = a + b\n",
    "    # print('a before', a)\n",
    "    # print('b before', b)    \n",
    "    # print('c before', c)\n",
    "    (mylist1).append(c)\n",
    "#    print(mylist1)\n",
    "\n",
    "    if c > rangemax:\n",
    "        break\n",
    "    else:\n",
    "        a = b # 1\n",
    "        b = c # 2\n",
    "        # print('a after', a)\n",
    "        # print('b after', b)    \n",
    "        # print('c after', c)\n",
    "\n",
    "\n",
    "#print(mylist1)\n",
    "\n",
    "mylist3 = mylist2 + mylist1\n",
    "print(mylist3)"
   ]
  },
  {
   "cell_type": "code",
   "execution_count": null,
   "metadata": {},
   "outputs": [],
   "source": [
    "mylist1 = []\n",
    "a = 1\n",
    "b = 1\n",
    "rangemax = 15\n",
    "mylist2 = [1,1]\n",
    "stop = False\n",
    "\n",
    "while stop:\n",
    "    c = a + b\n",
    "    (mylist1).append(c)\n",
    "    a = b # 1\n",
    "    b = c # 2\n",
    "\n",
    "for index in range(1,rangemax):\n",
    "#    print('round :', index)\n",
    "    # a = index\n",
    "    # b = index\n",
    "    c = a + b\n",
    "    # print('a before', a)\n",
    "    # print('b before', b)    \n",
    "    # print('c before', c)\n",
    "    (mylist1).append(c)\n",
    "#    print(mylist1)\n",
    "\n",
    "    if c > rangemax:\n",
    "        break\n",
    "    else:\n",
    "        a = b # 1\n",
    "        b = c # 2\n",
    "        # print('a after', a)\n",
    "        # print('b after', b)    \n",
    "        # print('c after', c)\n",
    "\n",
    "\n",
    "#print(mylist1)\n",
    "\n",
    "mylist3 = mylist2 + mylist1\n",
    "print(mylist3)"
   ]
  },
  {
   "cell_type": "code",
   "execution_count": 5,
   "metadata": {},
   "outputs": [
    {
     "name": "stdout",
     "output_type": "stream",
     "text": [
      "[1, 1, 2, 3, 5, 8, 13]\n"
     ]
    }
   ],
   "source": [
    "mylist1 = []\n",
    "a = 1\n",
    "b = 1\n",
    "rangemax = 15\n",
    "mylist2 = [1,1]\n",
    "\n",
    "\n",
    "for index in range(1,rangemax):\n",
    "#    print('round :', index)\n",
    "    # a = index\n",
    "    # b = index\n",
    "    c = a + b\n",
    "    # print('a before', a)\n",
    "    # print('b before', b)    \n",
    "    # print('c before', c)\n",
    "#    print(mylist1)\n",
    "\n",
    "    if c > rangemax:\n",
    "        break\n",
    "    else:\n",
    "        (mylist1).append(c)\n",
    "        a = b # 1\n",
    "        b = c # 2\n",
    "        # print('a after', a)\n",
    "        # print('b after', b)    \n",
    "        # print('c after', c)\n",
    "\n",
    "\n",
    "#print(mylist1)\n",
    "\n",
    "mylist3 = mylist2 + mylist1\n",
    "print(mylist3)"
   ]
  },
  {
   "cell_type": "markdown",
   "metadata": {},
   "source": [
    "### My Solution"
   ]
  },
  {
   "cell_type": "code",
   "execution_count": 15,
   "metadata": {},
   "outputs": [
    {
     "name": "stdin",
     "output_type": "stream",
     "text": [
      "enter an integer : 15\n"
     ]
    },
    {
     "name": "stdout",
     "output_type": "stream",
     "text": [
      "[1, 1, 2, 3, 5, 8, 13]\n"
     ]
    }
   ],
   "source": [
    "rangemax = int(input(\"enter an integer :\"))\n",
    "\n",
    "mylist1 = []\n",
    "a = 1\n",
    "b = 1\n",
    "#rangemax = 15\n",
    "mylist2 = [1,1]\n",
    "\n",
    "\n",
    "for index in range(1,rangemax):\n",
    "    c = a + b\n",
    "    if c > rangemax:\n",
    "        break\n",
    "    else:\n",
    "        (mylist1).append(c)\n",
    "        a = b # 1\n",
    "        b = c # 2\n",
    "\n",
    "print(mylist2 + mylist1)"
   ]
  },
  {
   "cell_type": "code",
   "execution_count": null,
   "metadata": {},
   "outputs": [],
   "source": [
    "rangemax = int(input(\"enter an integer :\"))\n",
    "\n",
    "mylist1 = []\n",
    "a = 1\n",
    "b = 1\n",
    "#rangemax = 15\n",
    "mylist2 = [1,1]\n",
    "\n",
    "\n",
    "for index in range(1,rangemax):\n",
    "    c = a + b\n",
    "    if c > rangemax:\n",
    "        break\n",
    "    else:\n",
    "        print(c, end = \" \")\n",
    "        #(mylist1).append(c)\n",
    "        a = b # 1\n",
    "        b = c # 2\n",
    "\n",
    "#print(mylist2 + mylist1)"
   ]
  },
  {
   "cell_type": "markdown",
   "metadata": {},
   "source": [
    "# this is a better solution"
   ]
  },
  {
   "cell_type": "code",
   "execution_count": 40,
   "metadata": {},
   "outputs": [
    {
     "name": "stdin",
     "output_type": "stream",
     "text": [
      "enter an integer : 34\n"
     ]
    },
    {
     "name": "stdout",
     "output_type": "stream",
     "text": [
      "1 1 2 3 5 8 13 "
     ]
    }
   ],
   "source": [
    "rangemax = int(input(\"enter an integer :\"))\n",
    "\n",
    "mylist1 = []\n",
    "a = 1\n",
    "b = 1\n",
    "#rangemax = 15\n",
    "#mylist2 = [1,1]\n",
    "#print(1,1, \" \")\n",
    "end = \" \"\n",
    "\n",
    "for index in range(1,rangemax):\n",
    "    c = a + b\n",
    "    if b >= rangemax:\n",
    "        break\n",
    "    else:\n",
    "        print(a, end = \" \")\n",
    "        #(mylist1).append(c)\n",
    "        a = b # 1\n",
    "        b = c # 2\n",
    "\n",
    "#print(mylist2 + mylist1)\n",
    "#print(\" \".join(mylist2 + mylist3))"
   ]
  },
  {
   "cell_type": "code",
   "execution_count": 30,
   "metadata": {},
   "outputs": [
    {
     "name": "stdin",
     "output_type": "stream",
     "text": [
      "Give amount:  5\n"
     ]
    },
    {
     "name": "stdout",
     "output_type": "stream",
     "text": [
      "[0, 1, 1, 2, 3]\n"
     ]
    }
   ],
   "source": [
    "a = int(input('Give amount: '))\n",
    "\n",
    "def fib(n):\n",
    "    a, b = 0, 1\n",
    "    for _ in range(n):\n",
    "        yield a\n",
    "        a, b = b, a + b\n",
    "\n",
    "print(list(fib(a)))"
   ]
  },
  {
   "cell_type": "code",
   "execution_count": 32,
   "metadata": {},
   "outputs": [
    {
     "name": "stdin",
     "output_type": "stream",
     "text": [
      "How many terms?  5\n"
     ]
    },
    {
     "name": "stdout",
     "output_type": "stream",
     "text": [
      "Fibonacci sequence:\n",
      "0 1 1 2 3 "
     ]
    }
   ],
   "source": [
    "# Program to display the Fibonacci sequence up to n-th term\n",
    "\n",
    "nterms = int(input(\"How many terms? \"))\n",
    "\n",
    "# first two terms\n",
    "n1, n2 = 0, 1\n",
    "count = 0\n",
    "\n",
    "# check if the number of terms is valid\n",
    "if nterms <= 0:\n",
    "   print(\"Please enter a positive integer\")\n",
    "# if there is only one term, return n1\n",
    "elif nterms == 1:\n",
    "   print(\"Fibonacci sequence upto\",nterms,\":\")\n",
    "   print(n1)\n",
    "# generate fibonacci sequence\n",
    "else:\n",
    "   print(\"Fibonacci sequence:\")\n",
    "   while count < nterms:\n",
    "       print(n1, end = \" \")\n",
    "       nth = n1 + n2\n",
    "       # update values\n",
    "       n1 = n2\n",
    "       n2 = nth\n",
    "       count += 1"
   ]
  },
  {
   "cell_type": "code",
   "execution_count": 33,
   "metadata": {},
   "outputs": [
    {
     "name": "stdin",
     "output_type": "stream",
     "text": [
      "How many terms?  5\n"
     ]
    },
    {
     "name": "stdout",
     "output_type": "stream",
     "text": [
      "0 1 1 2 3 "
     ]
    }
   ],
   "source": [
    "n1, n2 = 0, 1\n",
    "count = 0\n",
    "nterms = int(input(\"How many terms? \"))\n",
    "\n",
    "while count < nterms:\n",
    "       print(n1, end = \" \")\n",
    "       nth = n1 + n2\n",
    "       # update values\n",
    "       n1 = n2\n",
    "       n2 = nth\n",
    "       count += 1\n",
    "    "
   ]
  },
  {
   "cell_type": "code",
   "execution_count": null,
   "metadata": {},
   "outputs": [],
   "source": []
  }
 ],
 "metadata": {
  "anaconda-cloud": {},
  "kernelspec": {
   "display_name": "Python 3 (ipykernel)",
   "language": "python",
   "name": "python3"
  },
  "language_info": {
   "codemirror_mode": {
    "name": "ipython",
    "version": 3
   },
   "file_extension": ".py",
   "mimetype": "text/x-python",
   "name": "python",
   "nbconvert_exporter": "python",
   "pygments_lexer": "ipython3",
   "version": "3.9.12"
  }
 },
 "nbformat": 4,
 "nbformat_minor": 4
}
