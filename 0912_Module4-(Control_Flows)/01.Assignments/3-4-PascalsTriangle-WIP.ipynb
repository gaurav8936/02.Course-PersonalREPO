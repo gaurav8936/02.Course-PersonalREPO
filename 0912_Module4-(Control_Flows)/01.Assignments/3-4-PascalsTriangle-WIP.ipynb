{
 "cells": [
  {
   "cell_type": "markdown",
   "metadata": {},
   "source": [
    "### 3-4. Pascal's Triangle (25 points)\n",
    "\n",
    "Pascal's triangle is a triangle of numbers that is computed as follows. The first row contains a 1.  Each row after that begins and ends with a 1, and every other number is the sum of the two numbers above it. The first six rows of Pascal's triangle are shown below.\n",
    "```\n",
    "      1\n",
    "     1 1\n",
    "    1 2 1\n",
    "  1  3 3  1\n",
    " 1 4  6  4 1\n",
    "1 5 10 10 5 1\n",
    "```\n",
    "Write a script to compute and print the *n*th row of Pascal's triangle. Do not spend time trying to print the entire triangle in the format above (it is for illustrative purposes only).  The input will be the row number as an integer starting with row 1 as the first row.\n",
    "\n",
    "** Hint: Think about the type of objects you need to solve the problem. What are you iterating over? It may help to calculate a couple of rows by hand and think about the process you take. **\n",
    "\n",
    "Example:\n",
    "```\n",
    "Enter a row number: 5\n",
    "\n",
    "1 4 6 4 1\n",
    "```\n"
   ]
  },
  {
   "cell_type": "code",
   "execution_count": null,
   "metadata": {
    "tags": []
   },
   "outputs": [],
   "source": [
    "### Q3-4 Grading Tag: Please put your entire solution in this cell. Don't edit this line.\n"
   ]
  },
  {
   "cell_type": "code",
   "execution_count": null,
   "metadata": {},
   "outputs": [],
   "source": [
    "       1\n",
    "      1 1\n",
    "     1 2 1\n",
    "    1 3 3 1\n",
    "   1 4 6 4 1\n",
    " 1 5 10 10 5 1"
   ]
  },
  {
   "cell_type": "markdown",
   "metadata": {},
   "source": [
    "1 6 15 20 15 6 1"
   ]
  },
  {
   "cell_type": "code",
   "execution_count": null,
   "metadata": {},
   "outputs": [],
   "source": [
    "# outer loop - running through the rows (from 1 - x) \n",
    "\n",
    "# inner loop running on the columns (per row)\n",
    "\n",
    "#  row 1 = 1\n",
    "\n",
    "# row 2 = 1 1\n",
    "\n",
    "# row 3 = 1 (1+1) 1\n",
    "\n",
    "# row 4 = 1 3  3  1\n",
    "\n",
    "# row 5 = 1 4 6 4 1\n",
    "\n",
    "# row 6 = 1 5 10 10 5 1"
   ]
  },
  {
   "cell_type": "code",
   "execution_count": 17,
   "metadata": {},
   "outputs": [
    {
     "name": "stdout",
     "output_type": "stream",
     "text": [
      "3\n"
     ]
    },
    {
     "ename": "IndexError",
     "evalue": "list assignment index out of range",
     "output_type": "error",
     "traceback": [
      "\u001b[0;31m---------------------------------------------------------------------------\u001b[0m",
      "\u001b[0;31mIndexError\u001b[0m                                Traceback (most recent call last)",
      "Input \u001b[0;32mIn [17]\u001b[0m, in \u001b[0;36m<cell line: 9>\u001b[0;34m()\u001b[0m\n\u001b[1;32m     19\u001b[0m        \u001b[38;5;28;01mfor\u001b[39;00m index \u001b[38;5;129;01min\u001b[39;00m \u001b[38;5;28mrange\u001b[39m(\u001b[38;5;241m3\u001b[39m, number):\n\u001b[1;32m     20\u001b[0m            innerloop \u001b[38;5;241m=\u001b[39m [\u001b[38;5;241m1\u001b[39m,\u001b[38;5;241m2\u001b[39m,\u001b[38;5;241m1\u001b[39m]\n\u001b[0;32m---> 21\u001b[0m            innerloop2[\u001b[38;5;241m0\u001b[39m] \u001b[38;5;241m=\u001b[39m \u001b[38;5;241m1\u001b[39m\n\u001b[1;32m     22\u001b[0m            innerloop2[number] \u001b[38;5;241m=\u001b[39m \u001b[38;5;241m1\u001b[39m\n\u001b[1;32m     23\u001b[0m \u001b[38;5;66;03m#           innerloop2[index] = innerloop[index]\u001b[39;00m\n",
      "\u001b[0;31mIndexError\u001b[0m: list assignment index out of range"
     ]
    }
   ],
   "source": [
    "outerloop = []\n",
    "innerloop = [1,1]\n",
    "innerloop2 = []\n",
    "\n",
    "number = 5\n",
    "\n",
    "rows = range(3,number)\n",
    "\n",
    "for num in rows:\n",
    "    #print(num, end = \" \")\n",
    "    print(num)\n",
    "    outerloop.append(num)\n",
    "    \n",
    "    # initializing the loop\n",
    "    \n",
    "    if number == 3:\n",
    "        innerloop = [1,2,1]\n",
    "    elif number > 3:\n",
    "        for index in range(3, number):\n",
    "            innerloop = [1,2,1]\n",
    "            innerloop2[0] = 1\n",
    "            innerloop2[number] = 1\n",
    "            innerloop2[index] = innerloop[index]\n",
    "            print(innerloop2)\n",
    "\n",
    "        \n",
    "        \n",
    "#     while True:\n",
    "#         innerloop\n",
    "    \n",
    "    \n",
    "    \n",
    "    \n",
    "print(outerloop) # this is the row counter"
   ]
  },
  {
   "cell_type": "code",
   "execution_count": null,
   "metadata": {},
   "outputs": [],
   "source": [
    "mylist = []\n",
    "\n",
    "for n in range(4):\n",
    "    mylist.append[]\n",
    "    mylist[n].append(1)"
   ]
  },
  {
   "cell_type": "code",
   "execution_count": 18,
   "metadata": {},
   "outputs": [],
   "source": [
    "mylist = []"
   ]
  },
  {
   "cell_type": "code",
   "execution_count": 20,
   "metadata": {},
   "outputs": [
    {
     "ename": "IndexError",
     "evalue": "list index out of range",
     "output_type": "error",
     "traceback": [
      "\u001b[0;31m---------------------------------------------------------------------------\u001b[0m",
      "\u001b[0;31mIndexError\u001b[0m                                Traceback (most recent call last)",
      "Input \u001b[0;32mIn [20]\u001b[0m, in \u001b[0;36m<cell line: 1>\u001b[0;34m()\u001b[0m\n\u001b[0;32m----> 1\u001b[0m \u001b[43mmylist\u001b[49m\u001b[43m[\u001b[49m\u001b[38;5;241;43m0\u001b[39;49m\u001b[43m]\u001b[49m\u001b[38;5;241m.\u001b[39mappend(\u001b[38;5;241m1\u001b[39m)\n\u001b[1;32m      3\u001b[0m mylist\n",
      "\u001b[0;31mIndexError\u001b[0m: list index out of range"
     ]
    }
   ],
   "source": [
    "mylist[0].append(1)\n",
    "\n",
    "mylist"
   ]
  },
  {
   "cell_type": "code",
   "execution_count": 21,
   "metadata": {},
   "outputs": [],
   "source": [
    "mylist.append(1)"
   ]
  },
  {
   "cell_type": "code",
   "execution_count": 22,
   "metadata": {},
   "outputs": [
    {
     "data": {
      "text/plain": [
       "[1]"
      ]
     },
     "execution_count": 22,
     "metadata": {},
     "output_type": "execute_result"
    }
   ],
   "source": [
    "mylist"
   ]
  },
  {
   "cell_type": "code",
   "execution_count": 23,
   "metadata": {},
   "outputs": [
    {
     "ename": "IndexError",
     "evalue": "list index out of range",
     "output_type": "error",
     "traceback": [
      "\u001b[0;31m---------------------------------------------------------------------------\u001b[0m",
      "\u001b[0;31mIndexError\u001b[0m                                Traceback (most recent call last)",
      "Input \u001b[0;32mIn [23]\u001b[0m, in \u001b[0;36m<cell line: 1>\u001b[0;34m()\u001b[0m\n\u001b[0;32m----> 1\u001b[0m \u001b[43mmylist\u001b[49m\u001b[43m[\u001b[49m\u001b[38;5;241;43m1\u001b[39;49m\u001b[43m]\u001b[49m\u001b[38;5;241m.\u001b[39mappend(\u001b[38;5;241m2\u001b[39m)\n",
      "\u001b[0;31mIndexError\u001b[0m: list index out of range"
     ]
    }
   ],
   "source": [
    "mylist[1].append(2)"
   ]
  },
  {
   "cell_type": "code",
   "execution_count": 24,
   "metadata": {},
   "outputs": [],
   "source": [
    "mylist.append([])"
   ]
  },
  {
   "cell_type": "code",
   "execution_count": 25,
   "metadata": {},
   "outputs": [
    {
     "data": {
      "text/plain": [
       "[1, []]"
      ]
     },
     "execution_count": 25,
     "metadata": {},
     "output_type": "execute_result"
    }
   ],
   "source": [
    "mylist"
   ]
  },
  {
   "cell_type": "code",
   "execution_count": 26,
   "metadata": {},
   "outputs": [],
   "source": [
    "mylist2 = []"
   ]
  },
  {
   "attachments": {
    "867e5e57-d1d3-4750-9c35-31412d6a99df.png": {
     "image/png": "[encoded data removed]"
    }
   },
   "cell_type": "markdown",
   "metadata": {},
   "source": [
    "![image.png](attachment:867e5e57-d1d3-4750-9c35-31412d6a99df.png)"
   ]
  },
  {
   "attachments": {
    "5e30155f-f4a9-4da5-b9b5-cd656040f809.png": {
     "image/png": "[encoded data removed]"
    }
   },
   "cell_type": "markdown",
   "metadata": {},
   "source": [
    "![image.png](attachment:5e30155f-f4a9-4da5-b9b5-cd656040f809.png)"
   ]
  },
  {
   "cell_type": "code",
   "execution_count": 1,
   "metadata": {},
   "outputs": [],
   "source": [
    "num = 5\n",
    "index = 1\n",
    "\n",
    "while num >= index >1:\n",
    "    print(index)\n",
    "    nfactorialinner = index*(index-1)\n",
    "    print(nfactorialinner)\n",
    "    index +=1\n",
    "    # if n > 5:\n",
    "    #     break\n",
    "#print(nfactorial)"
   ]
  },
  {
   "cell_type": "code",
   "execution_count": 16,
   "metadata": {},
   "outputs": [
    {
     "name": "stdout",
     "output_type": "stream",
     "text": [
      "index is : 1\n",
      "index+1 is : 2\n",
      "nfactorial is  2\n",
      "sum is : 2\n",
      "index is : 2\n",
      "index+1 is : 3\n",
      "nfactorial is  6\n",
      "sum is : 12\n",
      "index is : 3\n",
      "index+1 is : 4\n",
      "nfactorial is  12\n",
      "sum is : 144\n",
      "index is : 4\n",
      "index+1 is : 5\n",
      "nfactorial is  20\n",
      "sum is : 2880\n"
     ]
    }
   ],
   "source": [
    "num = 5\n",
    "sum = 1\n",
    "start = 2\n",
    "\n",
    "for index in range(1,num):\n",
    "    print('index is :',index)\n",
    "    print('index+1 is :',index+1)\n",
    "    nfactorial = index*(index+1)\n",
    "    print('nfactorial is ', nfactorial)\n",
    "    sum*=nfactorial\n",
    "    print('sum is :',sum)\n",
    "    "
   ]
  },
  {
   "cell_type": "code",
   "execution_count": 14,
   "metadata": {},
   "outputs": [
    {
     "data": {
      "text/plain": [
       "120"
      ]
     },
     "execution_count": 14,
     "metadata": {},
     "output_type": "execute_result"
    }
   ],
   "source": [
    "1*2*3*4*5"
   ]
  },
  {
   "cell_type": "code",
   "execution_count": 17,
   "metadata": {},
   "outputs": [
    {
     "data": {
      "text/plain": [
       "2880"
      ]
     },
     "execution_count": 17,
     "metadata": {},
     "output_type": "execute_result"
    }
   ],
   "source": [
    "2*6*12*20"
   ]
  },
  {
   "cell_type": "code",
   "execution_count": 6,
   "metadata": {},
   "outputs": [
    {
     "name": "stdout",
     "output_type": "stream",
     "text": [
      "index is : 1\n",
      "index+1 is : 2\n",
      "nfactorial before is  1\n",
      "nfactorial after is  2\n",
      "index is : 2\n",
      "index+1 is : 3\n",
      "nfactorial before is  2\n",
      "nfactorial after is  6\n",
      "index is : 3\n",
      "index+1 is : 4\n",
      "nfactorial before is  6\n",
      "nfactorial after is  24\n",
      "index is : 4\n",
      "index+1 is : 5\n",
      "nfactorial before is  24\n",
      "nfactorial after is  120\n"
     ]
    }
   ],
   "source": [
    "num = 5\n",
    "nfactorial = 1\n",
    "\n",
    "for index in range(1,num):\n",
    "    print('index is :',index)\n",
    "    print('index+1 is :',index+1)\n",
    "    print('nfactorial before is ', nfactorial)\n",
    "#    nfactorial = index*(index+1)\n",
    "    nfactorial = nfactorial*(index+1)\n",
    "    \n",
    "#    nfactorial *= index\n",
    "    print('nfactorial after is ', nfactorial)\n",
    "    #sum*=nfactorial\n",
    "    #print('sum is :',sum)"
   ]
  },
  {
   "cell_type": "code",
   "execution_count": 5,
   "metadata": {},
   "outputs": [
    {
     "data": {
      "text/plain": [
       "120"
      ]
     },
     "execution_count": 5,
     "metadata": {},
     "output_type": "execute_result"
    }
   ],
   "source": [
    "1*2*3*4*5"
   ]
  },
  {
   "cell_type": "markdown",
   "metadata": {},
   "source": [
    "### n factorial"
   ]
  },
  {
   "cell_type": "code",
   "execution_count": 18,
   "metadata": {},
   "outputs": [
    {
     "name": "stdout",
     "output_type": "stream",
     "text": [
      "nfactorial is  6\n"
     ]
    }
   ],
   "source": [
    "n = 3\n",
    "nfactorial = 1\n",
    "\n",
    "for index in range(1,n):\n",
    "    nfactorial = nfactorial*(index+1)\n",
    "print('nfactorial is ', nfactorial)"
   ]
  },
  {
   "cell_type": "markdown",
   "metadata": {},
   "source": [
    "### r factorial"
   ]
  },
  {
   "cell_type": "code",
   "execution_count": 19,
   "metadata": {},
   "outputs": [
    {
     "name": "stdout",
     "output_type": "stream",
     "text": [
      "rfactorial is  6\n"
     ]
    }
   ],
   "source": [
    "r = 3\n",
    "rfactorial = 1\n",
    "\n",
    "for index in range(1,r):\n",
    "    rfactorial = rfactorial*(index+1)\n",
    "print('rfactorial is ', rfactorial)"
   ]
  },
  {
   "cell_type": "code",
   "execution_count": 8,
   "metadata": {},
   "outputs": [
    {
     "name": "stdout",
     "output_type": "stream",
     "text": [
      "nfactorial is  2\n",
      "rfactorial is  1\n",
      "nminusrfactorial is  1\n",
      "ncr is 2\n"
     ]
    }
   ],
   "source": [
    "n = 2\n",
    "r = 1\n",
    "nminusr = n-r\n",
    "\n",
    "\n",
    "nfactorial = 1\n",
    "rfactorial = 1\n",
    "nminusrfactorial = 1\n",
    "\n",
    "for index in range(1,n):\n",
    "    nfactorial = nfactorial*(index+1)\n",
    "print('nfactorial is ', nfactorial)\n",
    "\n",
    "for index in range(1,r):\n",
    "    rfactorial = rfactorial*(index+1)\n",
    "print('rfactorial is ', rfactorial)\n",
    "\n",
    "for index in range(1,nminusr):\n",
    "    nminusrfactorial = nminusrfactorial*(index+1)\n",
    "print('nminusrfactorial is ', nminusrfactorial)\n",
    "\n",
    "ncr = int(nfactorial/((nminusrfactorial) * rfactorial))\n",
    "\n",
    "print('ncr is', ncr)"
   ]
  },
  {
   "cell_type": "code",
   "execution_count": 13,
   "metadata": {},
   "outputs": [
    {
     "name": "stdout",
     "output_type": "stream",
     "text": [
      "starting r is  0\n",
      "nfactorial is  2\n",
      "nfactorial is  6\n",
      "nminusrfactorial is  2\n",
      "nminusrfactorial is  6\n",
      "ncr is 1\n",
      "starting r is  1\n",
      "nfactorial is  12\n",
      "nfactorial is  36\n",
      "nminusrfactorial is  12\n",
      "nminusrfactorial is  36\n",
      "ncr is 1\n",
      "starting r is  2\n",
      "nfactorial is  72\n",
      "nfactorial is  216\n",
      "rfactorial is  2\n",
      "nminusrfactorial is  72\n",
      "nminusrfactorial is  216\n",
      "ncr is 0\n"
     ]
    }
   ],
   "source": [
    "n = 3\n",
    "r = 0\n",
    "\n",
    "nminusr = n-r\n",
    "nfactorial = 1\n",
    "rfactorial = 1\n",
    "nminusrfactorial = 1\n",
    "\n",
    "for r in range(n):\n",
    "    print('starting r is ',r)\n",
    "    c\n",
    "\n",
    "    for index in range(1,r):\n",
    "        rfactorial = rfactorial*(index+1)\n",
    "        print('rfactorial is ', rfactorial)\n",
    "\n",
    "    for index in range(1,nminusr):\n",
    "        nminusrfactorial = nminusrfactorial*(index+1)\n",
    "        print('nminusrfactorial is ', nminusrfactorial)\n",
    "\n",
    "    ncr = int(nfactorial/((nminusrfactorial) * rfactorial))\n",
    "\n",
    "    print('ncr is', ncr)\n",
    "\n",
    "    \n",
    "    "
   ]
  },
  {
   "cell_type": "code",
   "execution_count": 20,
   "metadata": {},
   "outputs": [
    {
     "name": "stdout",
     "output_type": "stream",
     "text": [
      "nfactorial is  2\n",
      "rfactorial is  1\n",
      "nminusrfactorial is  1\n",
      "ncr is 2\n",
      "rfactorial is  2\n",
      "nminusrfactorial is  2\n",
      "ncr is 0\n",
      "rfactorial is  6\n",
      "nminusrfactorial is  6\n",
      "ncr is 0\n",
      "nfactorial is  6\n",
      "rfactorial is  6\n",
      "nminusrfactorial is  6\n",
      "ncr is 0\n",
      "rfactorial is  12\n",
      "nminusrfactorial is  12\n",
      "ncr is 0\n",
      "rfactorial is  36\n",
      "nminusrfactorial is  36\n",
      "ncr is 0\n"
     ]
    }
   ],
   "source": [
    "n = 3\n",
    "r = 1\n",
    "\n",
    "nminusr = n-r\n",
    "nfactorial = 1\n",
    "rfactorial = 1\n",
    "nminusrfactorial = 1\n",
    "\n",
    "for index in range(1,n):\n",
    "    nfactorial = nfactorial*(index+1)\n",
    "    print('nfactorial is ', nfactorial)\n",
    "\n",
    "\n",
    "    for r in range(n):\n",
    "        # print('starting r is ',r)\n",
    "        # nfactorial = nfactorial*(n+1)\n",
    "        # print('nfactorial is ', nfactorial)\n",
    "\n",
    "        rfactorial = rfactorial*(r+1)\n",
    "        print('rfactorial is ', rfactorial)\n",
    "\n",
    "        nminusrfactorial = nminusrfactorial*(r+1)\n",
    "        print('nminusrfactorial is ', nminusrfactorial)\n",
    "\n",
    "        ncr = int(nfactorial/((nminusrfactorial) * rfactorial))\n",
    "\n",
    "        print('ncr is', ncr)\n"
   ]
  },
  {
   "cell_type": "code",
   "execution_count": null,
   "metadata": {},
   "outputs": [],
   "source": [
    "6/(2*1)"
   ]
  },
  {
   "cell_type": "code",
   "execution_count": 23,
   "metadata": {},
   "outputs": [],
   "source": [
    "from math import factorial\n",
    "\n",
    "def pascal_tri(numRows):\n",
    "  '''Print Pascal's triangle with numRows.'''\n",
    "  for i in range(numRows):\n",
    "    # loop to get leading spaces\n",
    "\t  for j in range(numRows-i+1):\n",
    "\t\t  print(end=\" \")\n",
    "    \n",
    "    # loop to get elements of row i\n",
    "\t  for j in range(i+1):\n",
    "\t\t  # nCr = n!/((n-r)!*r!)\n",
    "\t\t  print(factorial(i)//(factorial(j)*factorial(i-j)), end=\" \")\n",
    "\n",
    "\t # print each row in a new line\n",
    "\t  print(\"\\n\")"
   ]
  },
  {
   "cell_type": "code",
   "execution_count": 24,
   "metadata": {},
   "outputs": [
    {
     "name": "stdout",
     "output_type": "stream",
     "text": [
      "    1 \n",
      "\n",
      "   1 1 \n",
      "\n",
      "  1 2 1 \n",
      "\n"
     ]
    }
   ],
   "source": [
    "pascal_tri(3)"
   ]
  },
  {
   "cell_type": "markdown",
   "metadata": {},
   "source": [
    "### This function works"
   ]
  },
  {
   "cell_type": "code",
   "execution_count": 58,
   "metadata": {},
   "outputs": [],
   "source": [
    "def factorial(n,r):\n",
    "    \n",
    "    nminusr = n-r\n",
    "\n",
    "    nfactorial = 1\n",
    "    rfactorial = 1\n",
    "    nminusrfactorial = 1\n",
    "\n",
    "    for index in range(1,n):\n",
    "        nfactorial = nfactorial*(index+1)\n",
    "    #print('nfactorial is ', nfactorial)\n",
    "\n",
    "    for index in range(1,r):\n",
    "        rfactorial = rfactorial*(index+1)\n",
    "    #print('rfactorial is ', rfactorial)\n",
    "\n",
    "    for index in range(1,nminusr):\n",
    "        nminusrfactorial = nminusrfactorial*(index+1)\n",
    "    #print('nminusrfactorial is ', nminusrfactorial)\n",
    "\n",
    "    ncr = int(nfactorial/((nminusrfactorial) * rfactorial))\n",
    "\n",
    "    #print('ncr is', ncr)\n",
    "    print(ncr, end = \" \")"
   ]
  },
  {
   "cell_type": "code",
   "execution_count": 49,
   "metadata": {},
   "outputs": [
    {
     "name": "stdout",
     "output_type": "stream",
     "text": [
      "nfactorial is  120\n",
      "rfactorial is  1\n",
      "nminusrfactorial is  120\n",
      "ncr is 1\n"
     ]
    }
   ],
   "source": [
    "factorial(5,0)"
   ]
  },
  {
   "cell_type": "code",
   "execution_count": 69,
   "metadata": {},
   "outputs": [
    {
     "name": "stdin",
     "output_type": "stream",
     "text": [
      "enter a number  1\n"
     ]
    },
    {
     "name": "stdout",
     "output_type": "stream",
     "text": [
      "1 "
     ]
    }
   ],
   "source": [
    "num = int(input('enter a number '))\n",
    "n = num-1\n",
    "r = 0\n",
    "\n",
    "for r in range(n+1):\n",
    "    #print(r)\n",
    "    factorial(n,r)\n",
    "        \n",
    "\n"
   ]
  },
  {
   "cell_type": "markdown",
   "metadata": {},
   "source": [
    "<font size = 6, color = green>THIS WORKS!"
   ]
  },
  {
   "cell_type": "code",
   "execution_count": 70,
   "metadata": {},
   "outputs": [
    {
     "name": "stdin",
     "output_type": "stream",
     "text": [
      "enter a number  5\n"
     ]
    },
    {
     "name": "stdout",
     "output_type": "stream",
     "text": [
      "1 4 6 4 1 "
     ]
    }
   ],
   "source": [
    "def factorial(n,r):\n",
    "    \n",
    "    nminusr = n-r\n",
    "\n",
    "    nfactorial = 1\n",
    "    rfactorial = 1\n",
    "    nminusrfactorial = 1\n",
    "\n",
    "    for index in range(1,n):\n",
    "        nfactorial = nfactorial*(index+1)\n",
    "    #print('nfactorial is ', nfactorial)\n",
    "\n",
    "    for index in range(1,r):\n",
    "        rfactorial = rfactorial*(index+1)\n",
    "    #print('rfactorial is ', rfactorial)\n",
    "\n",
    "    for index in range(1,nminusr):\n",
    "        nminusrfactorial = nminusrfactorial*(index+1)\n",
    "    #print('nminusrfactorial is ', nminusrfactorial)\n",
    "\n",
    "    ncr = int(nfactorial/((nminusrfactorial) * rfactorial))\n",
    "\n",
    "    #print('ncr is', ncr)\n",
    "    print(ncr, end = \" \")\n",
    "\n",
    "num = int(input('enter a number '))\n",
    "n = num-1\n",
    "r = 0\n",
    "\n",
    "for r in range(n+1):\n",
    "    #print(r)\n",
    "    factorial(n,r)\n",
    "        "
   ]
  },
  {
   "cell_type": "code",
   "execution_count": null,
   "metadata": {},
   "outputs": [],
   "source": []
  }
 ],
 "metadata": {
  "anaconda-cloud": {},
  "kernelspec": {
   "display_name": "Python 3 (ipykernel)",
   "language": "python",
   "name": "python3"
  },
  "language_info": {
   "codemirror_mode": {
    "name": "ipython",
    "version": 3
   },
   "file_extension": ".py",
   "mimetype": "text/x-python",
   "name": "python",
   "nbconvert_exporter": "python",
   "pygments_lexer": "ipython3",
   "version": "3.9.12"
  }
 },
 "nbformat": 4,
 "nbformat_minor": 4
}
