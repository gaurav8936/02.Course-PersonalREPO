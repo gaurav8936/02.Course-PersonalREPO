{
 "cells": [
  {
   "cell_type": "markdown",
   "metadata": {},
   "source": [
    "## For Loops\n",
    "\n",
    "Each subsequent exercise ramps up in difficulty. Sample answers are in a separate folder with an explanation (there might be multiple ways to solve a problem though!) "
   ]
  },
  {
   "cell_type": "markdown",
   "metadata": {},
   "source": [
    "1) Code a ```for``` loop that counts all numbers from 1 to 10."
   ]
  },
  {
   "cell_type": "code",
   "execution_count": 4,
   "metadata": {},
   "outputs": [
    {
     "name": "stdout",
     "output_type": "stream",
     "text": [
      "10\n"
     ]
    }
   ],
   "source": [
    "# Your code here\n",
    "count = 0\n",
    "\n",
    "for item in range(10):\n",
    "    count += 1\n",
    "print(count)\n",
    "    "
   ]
  },
  {
   "cell_type": "markdown",
   "metadata": {},
   "source": [
    "2) Code a ```for``` loop that loops through the following string (named sentence) and removes the spaces."
   ]
  },
  {
   "cell_type": "code",
   "execution_count": 6,
   "metadata": {},
   "outputs": [
    {
     "name": "stdout",
     "output_type": "stream",
     "text": [
      "Excellent!"
     ]
    }
   ],
   "source": [
    "sentence = \"E x  ce ll  ent !\"\n",
    "# Your code here\n",
    "\n",
    "for item in sentence:\n",
    "    if item in \" \":\n",
    "        continue\n",
    "    else:\n",
    "        print(item, end = \"\")"
   ]
  },
  {
   "cell_type": "markdown",
   "metadata": {},
   "source": [
    "3) Code a ```for``` loop that loops through the following list (named small_list) and sums up all of the numbers and finds the minimum and maximum (there are built in functions to do this but please do this with a for loop)."
   ]
  },
  {
   "cell_type": "code",
   "execution_count": 11,
   "metadata": {},
   "outputs": [
    {
     "name": "stdout",
     "output_type": "stream",
     "text": [
      "113\n",
      "44\n",
      "1\n"
     ]
    }
   ],
   "source": [
    "num_list = [1,2,3,10,12,13,22,44,6]\n",
    "# Your code here\n",
    "\n",
    "sum = 0\n",
    "\n",
    "for item in num_list:\n",
    "    sum = sum + item\n",
    "print(sum)\n",
    "    \n",
    "maxnum = 1\n",
    "minnum = 1\n",
    "\n",
    "\n",
    "for item in num_list:\n",
    "    if item > maxnum:\n",
    "        maxnum = item\n",
    "    elif item < minnum:\n",
    "        minnum = item\n",
    "print(maxnum)\n",
    "print(minnum)"
   ]
  },
  {
   "cell_type": "code",
   "execution_count": 16,
   "metadata": {},
   "outputs": [
    {
     "name": "stdout",
     "output_type": "stream",
     "text": [
      "sum is:  113\n",
      "max num is: 44\n",
      "min num is : 1\n"
     ]
    }
   ],
   "source": [
    "num_list = [1,2,3,10,12,13,22,44,6]\n",
    "\n",
    "sum = 0\n",
    "maxnum = 1\n",
    "minnum = 1\n",
    "\n",
    "for item in num_list:\n",
    "    sum = sum + item\n",
    "    if item > maxnum:\n",
    "        maxnum = item\n",
    "    elif item < minnum:\n",
    "        minnum = item\n",
    "\n",
    "print('sum is: ', sum)\n",
    "print('max num is:', maxnum)\n",
    "print('min num is :', minnum)"
   ]
  },
  {
   "cell_type": "code",
   "execution_count": 24,
   "metadata": {},
   "outputs": [
    {
     "data": {
      "text/plain": [
       "int"
      ]
     },
     "execution_count": 24,
     "metadata": {},
     "output_type": "execute_result"
    }
   ],
   "source": [
    "x = 2\n",
    "type(x)"
   ]
  },
  {
   "cell_type": "markdown",
   "metadata": {},
   "source": [
    "4) Code a ```for``` loop that loops through the following list (named small_list) and only prints out the numbers."
   ]
  },
  {
   "cell_type": "code",
   "execution_count": 29,
   "metadata": {},
   "outputs": [
    {
     "name": "stdout",
     "output_type": "stream",
     "text": [
      "\n",
      "\n",
      "\n",
      "\n",
      "\n",
      "\n",
      "\n",
      "\n"
     ]
    }
   ],
   "source": [
    "small_list = ['The', 'number', 1, 'of', True, 'guesses', 'is', 10.0]\n",
    "\n",
    "# Your code here\n",
    "\n",
    "for item in small_list:\n",
    "#    if float(item) == True:\n",
    "    if type(item) == 'float' or type(item) == 'int':\n",
    "        print(item)\n",
    "    # elif type(item) == 'int':\n",
    "    #     print(item)\n",
    "    else:\n",
    "        print('')\n",
    "    #print(item)"
   ]
  },
  {
   "cell_type": "code",
   "execution_count": 41,
   "metadata": {},
   "outputs": [
    {
     "name": "stdout",
     "output_type": "stream",
     "text": [
      "1\n",
      "True\n",
      "10.0\n"
     ]
    }
   ],
   "source": [
    "small_list = ['The', 'number', 1, 'of', True, 'guesses', 'is', 10.0]\n",
    "\n",
    "for item in small_list:\n",
    "    if item == True:\n",
    "        pass  \n",
    "    if isinstance(item, int) == True:\n",
    "        print(item)\n",
    "    # elif isinstance(item, bool) == False:\n",
    "    #     print(\"\")\n",
    "    elif isinstance(item, float) == True:\n",
    "        print(item)\n",
    "    \n",
    "    else:\n",
    "        continue \n",
    "#print(item)\n",
    "    \n",
    "    # else:\n",
    "    #     print(\"\")\n",
    "    \n",
    "\n"
   ]
  },
  {
   "cell_type": "markdown",
   "metadata": {},
   "source": [
    "5) Code a ```for``` loop that finds the factorial of a number given below: "
   ]
  },
  {
   "cell_type": "code",
   "execution_count": 51,
   "metadata": {},
   "outputs": [
    {
     "name": "stdout",
     "output_type": "stream",
     "text": [
      "the factorial is : 120\n"
     ]
    }
   ],
   "source": [
    "fact_num = 5\n",
    "\n",
    "myrange = int(fact_num)\n",
    "\n",
    "#5 * 4 * 3 * 2 * 1\n",
    "\n",
    "factorial = 1\n",
    "\n",
    "for num in range(1,6):\n",
    "    factorial = factorial*num\n",
    "    # print(factorial)\n",
    "print('the factorial is :',factorial)"
   ]
  },
  {
   "cell_type": "markdown",
   "metadata": {},
   "source": [
    "6) Code ```for``` loops that loops through the list of lists below and prints out each character only doing a return (or line break) at the end of each sub-list."
   ]
  },
  {
   "cell_type": "code",
   "execution_count": 1,
   "metadata": {},
   "outputs": [],
   "source": [
    "list_of_lists = [['E', 'n', 'c', 'h', 'a', 'n', 't', 'i', 'n', 'g'], ['p', 'r', 'o', 'c', 'e', 's', 's', ','], \n",
    "                 ['i', 'n', 'v', 'i', 't', 'i', 'n', 'g'], ['w', 'a', 'r', 'm'], ['s', 'c', 'e', 'n', 'e', 'r', 'y', ','],\n",
    "                 ['b', 'e', 'a', 'u', 't', 'i', 'f', 'u', 'l'], ['w', 'i', 's', 'd', 'o', 'm', '.']\n",
    "                ]\n",
    "\n",
    "# Your code here\n",
    "\n",
    "len(list_of_lists)\n",
    "\n",
    "#len(list_of_lists[1])\n",
    "\n",
    "sublist_len = 0\n",
    "sublist_count = 0"
   ]
  },
  {
   "cell_type": "code",
   "execution_count": null,
   "metadata": {},
   "outputs": [],
   "source": [
    "list_of_lists = [['E', 'n', 'c', 'h', 'a', 'n', 't', 'i', 'n', 'g'], ['p', 'r', 'o', 'c', 'e', 's', 's', ','], \n",
    "                 ['i', 'n', 'v', 'i', 't', 'i', 'n', 'g'], ['w', 'a', 'r', 'm'], ['s', 'c', 'e', 'n', 'e', 'r', 'y', ','],\n",
    "                 ['b', 'e', 'a', 'u', 't', 'i', 'f', 'u', 'l'], ['w', 'i', 's', 'd', 'o', 'm', '.']\n",
    "                ]\n",
    "\n",
    "# print(len(list_of_lists))\n",
    "# 7\n",
    "# print(len(list_of_lists[1]))\n",
    "# 8\n",
    "\n",
    "sublist_count = len(list_of_lists)\n",
    "sublist_len = 0\n",
    "mylist = []\n",
    "\n",
    "for item in list_of_lists:\n",
    "    # print(item)\n",
    "    \n",
    "    # for subitem in list_of_lists[sublist_len]:\n",
    "    for subitem in list_of_lists[1]:\n",
    "         print(subitem)\n",
    "    \n",
    "    \n",
    "    "
   ]
  },
  {
   "cell_type": "code",
   "execution_count": 31,
   "metadata": {},
   "outputs": [
    {
     "name": "stdout",
     "output_type": "stream",
     "text": [
      "p\n",
      "r\n",
      "o\n",
      "c\n",
      "e\n",
      "s\n",
      "s\n",
      ",\n"
     ]
    }
   ],
   "source": [
    "   for subitem in list_of_lists[1]:\n",
    "         print(subitem)"
   ]
  },
  {
   "cell_type": "code",
   "execution_count": 62,
   "metadata": {},
   "outputs": [
    {
     "name": "stdout",
     "output_type": "stream",
     "text": [
      "E\n",
      "n\n",
      "c\n",
      "h\n",
      "a\n",
      "n\n",
      "t\n",
      "i\n",
      "n\n",
      "g\n",
      "--------------------------------------------------\n",
      "p\n",
      "r\n",
      "o\n",
      "c\n",
      "e\n",
      "s\n",
      "s\n",
      ",\n",
      "--------------------------------------------------\n",
      "i\n",
      "n\n",
      "v\n",
      "i\n",
      "t\n",
      "i\n",
      "n\n",
      "g\n",
      "--------------------------------------------------\n",
      "w\n",
      "a\n",
      "r\n",
      "m\n",
      "--------------------------------------------------\n",
      "s\n",
      "c\n",
      "e\n",
      "n\n",
      "e\n",
      "r\n",
      "y\n",
      ",\n",
      "--------------------------------------------------\n",
      "b\n",
      "e\n",
      "a\n",
      "u\n",
      "t\n",
      "i\n",
      "f\n",
      "u\n",
      "l\n",
      "--------------------------------------------------\n",
      "w\n",
      "i\n",
      "s\n",
      "d\n",
      "o\n",
      "m\n",
      ".\n",
      "--------------------------------------------------\n"
     ]
    }
   ],
   "source": [
    "list_of_lists = [['E', 'n', 'c', 'h', 'a', 'n', 't', 'i', 'n', 'g'], ['p', 'r', 'o', 'c', 'e', 's', 's', ','], \n",
    "                 ['i', 'n', 'v', 'i', 't', 'i', 'n', 'g'], ['w', 'a', 'r', 'm'], ['s', 'c', 'e', 'n', 'e', 'r', 'y', ','],\n",
    "                 ['b', 'e', 'a', 'u', 't', 'i', 'f', 'u', 'l'], ['w', 'i', 's', 'd', 'o', 'm', '.']\n",
    "                ]\n",
    "\n",
    "sublist_count = len(list_of_lists)\n",
    "\n",
    "for index in range(0, len(list_of_lists)):\n",
    "    for subitem in list_of_lists[index]:\n",
    "        print(subitem)\n",
    "    print(\"-\"*50)"
   ]
  },
  {
   "cell_type": "markdown",
   "metadata": {},
   "source": [
    "<font size = 6, Color = red>THIS WORKS!!"
   ]
  },
  {
   "cell_type": "code",
   "execution_count": 74,
   "metadata": {},
   "outputs": [
    {
     "name": "stdout",
     "output_type": "stream",
     "text": [
      "E\n",
      "n\n",
      "c\n",
      "h\n",
      "a\n",
      "n\n",
      "t\n",
      "i\n",
      "n\n",
      "g\n",
      "--------------------------------------------------\n",
      "p\n",
      "r\n",
      "o\n",
      "c\n",
      "e\n",
      "s\n",
      "s\n",
      "--------------------------------------------------\n",
      "i\n",
      "n\n",
      "v\n",
      "i\n",
      "t\n",
      "i\n",
      "n\n",
      "g\n",
      "--------------------------------------------------\n",
      "w\n",
      "a\n",
      "r\n",
      "m\n",
      "--------------------------------------------------\n",
      "s\n",
      "c\n",
      "e\n",
      "n\n",
      "e\n",
      "r\n",
      "y\n",
      "--------------------------------------------------\n",
      "b\n",
      "e\n",
      "a\n",
      "u\n",
      "t\n",
      "i\n",
      "f\n",
      "u\n",
      "l\n",
      "--------------------------------------------------\n",
      "w\n",
      "i\n",
      "s\n",
      "d\n",
      "o\n",
      "m\n",
      "--------------------------------------------------\n"
     ]
    }
   ],
   "source": [
    "list_of_lists = [['E', 'n', 'c', 'h', 'a', 'n', 't', 'i', 'n', 'g'], ['p', 'r', 'o', 'c', 'e', 's', 's', ','], \n",
    "                 ['i', 'n', 'v', 'i', 't', 'i', 'n', 'g'], ['w', 'a', 'r', 'm'], ['s', 'c', 'e', 'n', 'e', 'r', 'y', ','],\n",
    "                 ['b', 'e', 'a', 'u', 't', 'i', 'f', 'u', 'l'], ['w', 'i', 's', 'd', 'o', 'm', '.']\n",
    "                ]\n",
    "\n",
    "sublist_count = len(list_of_lists)\n",
    "special_char = \"$!&+.,\"\n",
    "\n",
    "for index in range(0, len(list_of_lists)):\n",
    "    for subitem in list_of_lists[index]:\n",
    "        if subitem in special_char:\n",
    "            continue  \n",
    "        print(subitem)\n",
    "    print(\"-\"*50)"
   ]
  },
  {
   "cell_type": "code",
   "execution_count": null,
   "metadata": {},
   "outputs": [],
   "source": []
  },
  {
   "cell_type": "markdown",
   "metadata": {},
   "source": [
    "7) Code two ```for``` loops that makes a rectangle of ```#```s using the length and width given below. For example:\n",
    "```\n",
    "length = 3\n",
    "width = 2\n",
    "\n",
    "Answer:\n",
    "###\n",
    "###\n",
    "```"
   ]
  },
  {
   "cell_type": "code",
   "execution_count": 91,
   "metadata": {},
   "outputs": [
    {
     "name": "stdout",
     "output_type": "stream",
     "text": [
      "#####\n",
      "#####\n",
      "#####\n",
      "#####\n"
     ]
    }
   ],
   "source": [
    "length = 4\n",
    "width = 5\n",
    "# Your code here\n",
    "\n",
    "for num2 in range(length):\n",
    "    for num1 in range(width):\n",
    "        print('#', end = \"\")\n",
    "        continue \n",
    "    #print((\".\")*50)\n",
    "    print(\"\")"
   ]
  },
  {
   "cell_type": "markdown",
   "metadata": {},
   "source": [
    "8) A simple word count! Loop through the passage of text below and store each word in a dictionary that \n",
    "has a key:value pair of ```word: # of occurrences``` (for example if there are 10  occurrences of 'the' in the passage, one dictionary entry would be 'the': 10)"
   ]
  },
  {
   "cell_type": "code",
   "execution_count": 30,
   "metadata": {},
   "outputs": [],
   "source": [
    "# This text adapted from the wikipedia entry on python\n",
    "\n",
    "text_list = ['Python', 'was', 'conceived', 'in', 'the', 'late', '1980s', 'and', 'its', 'implementation', 'began', 'in',\n",
    " 'December', '1989', 'by', 'Guido', 'van', 'Rossum', 'at', 'Centrum', 'Wiskunde', '&', 'Informatica', 'in', 'the',\n",
    " 'Netherlands', 'as', 'a', 'successor', 'to', 'the', 'ABC', 'language', 'itself', 'inspired', 'by', 'SETL', 'capable',\n",
    " 'of', 'exception', 'handling', 'and', 'interfacing', 'with', 'the', 'Amoeba', 'operating', 'system', '.', 'Van', 'Rossum',\n",
    " 'remains', \"Python's\", 'principal', 'author', '.', 'His', 'continuing', 'central', 'role', 'in', \"Python's\", 'development',\n",
    " 'is', 'reflected', 'in', 'the', 'title', 'given', 'to', 'him', 'by', 'the', 'Python', 'community', 'Benevolent', 'Dictator',\n",
    " 'For', 'Life', '.', 'On', 'the', 'origins', 'of', 'Python', 'Van', 'Rossum', 'wrote', 'in', '1996', 'In', 'December',\n",
    " '1989', 'I', 'was', 'looking', 'for', 'a', 'hobby', 'programming', 'project', 'that', 'would', 'keep', 'me', 'occupied',\n",
    " 'during', 'the', 'week', 'around', 'Christmas', '.', 'My', 'office', 'would', 'be', 'closed', 'but', 'I', 'had', 'a',\n",
    " 'home', 'computer', 'and', 'not', 'much', 'else', 'on', 'my', 'hands', '.', 'I', 'decided', 'to', 'write', 'an', 'interpreter',\n",
    " 'for', 'the', 'new', 'scripting', 'language', 'I', 'had', 'been', 'thinking', 'about', 'lately', 'a', 'descendant', 'of',\n",
    " 'ABC', 'that', 'would', 'appeal', 'to', 'Unix/C', 'hackers', '.', 'I', 'chose', 'Python', 'as', 'a', 'working', 'title',\n",
    " 'for', 'the', 'project', 'being', 'in', 'a', 'slightly', 'irreverent', 'mood', 'and', 'a', 'big', 'fan', 'of', 'Monty',\n",
    " \"Python's\", 'Flying', 'Circus', '.']\n",
    "\n",
    "# Your code here"
   ]
  },
  {
   "cell_type": "code",
   "execution_count": 104,
   "metadata": {},
   "outputs": [
    {
     "name": "stdout",
     "output_type": "stream",
     "text": [
      "2\n"
     ]
    },
    {
     "data": {
      "text/plain": [
       "True"
      ]
     },
     "execution_count": 104,
     "metadata": {},
     "output_type": "execute_result"
    }
   ],
   "source": [
    "#string1 = 'hey how are you'\n",
    "string1 = \"a hey\"\n",
    "\n",
    "print(string1.find(\"hey\"))\n",
    "\n",
    "'hey' in string1"
   ]
  },
  {
   "cell_type": "code",
   "execution_count": 110,
   "metadata": {},
   "outputs": [
    {
     "data": {
      "text/plain": [
       "3"
      ]
     },
     "execution_count": 110,
     "metadata": {},
     "output_type": "execute_result"
    }
   ],
   "source": [
    "mylist1 = ['a', 'the', 'the', 'hello', 'hello', 'hello']\n",
    "mylist1.count('hello')"
   ]
  },
  {
   "cell_type": "code",
   "execution_count": 115,
   "metadata": {},
   "outputs": [
    {
     "name": "stdout",
     "output_type": "stream",
     "text": [
      "136\n"
     ]
    }
   ],
   "source": [
    "print(mylist1.__sizeof__())"
   ]
  },
  {
   "cell_type": "code",
   "execution_count": 112,
   "metadata": {},
   "outputs": [
    {
     "data": {
      "text/plain": [
       "['__add__',\n",
       " '__class__',\n",
       " '__class_getitem__',\n",
       " '__contains__',\n",
       " '__delattr__',\n",
       " '__delitem__',\n",
       " '__dir__',\n",
       " '__doc__',\n",
       " '__eq__',\n",
       " '__format__',\n",
       " '__ge__',\n",
       " '__getattribute__',\n",
       " '__getitem__',\n",
       " '__gt__',\n",
       " '__hash__',\n",
       " '__iadd__',\n",
       " '__imul__',\n",
       " '__init__',\n",
       " '__init_subclass__',\n",
       " '__iter__',\n",
       " '__le__',\n",
       " '__len__',\n",
       " '__lt__',\n",
       " '__mul__',\n",
       " '__ne__',\n",
       " '__new__',\n",
       " '__reduce__',\n",
       " '__reduce_ex__',\n",
       " '__repr__',\n",
       " '__reversed__',\n",
       " '__rmul__',\n",
       " '__setattr__',\n",
       " '__setitem__',\n",
       " '__sizeof__',\n",
       " '__str__',\n",
       " '__subclasshook__',\n",
       " 'append',\n",
       " 'clear',\n",
       " 'copy',\n",
       " 'count',\n",
       " 'extend',\n",
       " 'index',\n",
       " 'insert',\n",
       " 'pop',\n",
       " 'remove',\n",
       " 'reverse',\n",
       " 'sort']"
      ]
     },
     "execution_count": 112,
     "metadata": {},
     "output_type": "execute_result"
    }
   ],
   "source": [
    "dir(mylist1)"
   ]
  },
  {
   "cell_type": "code",
   "execution_count": 114,
   "metadata": {},
   "outputs": [
    {
     "data": {
      "text/plain": [
       "['__add__',\n",
       " '__class__',\n",
       " '__contains__',\n",
       " '__delattr__',\n",
       " '__dir__',\n",
       " '__doc__',\n",
       " '__eq__',\n",
       " '__format__',\n",
       " '__ge__',\n",
       " '__getattribute__',\n",
       " '__getitem__',\n",
       " '__getnewargs__',\n",
       " '__gt__',\n",
       " '__hash__',\n",
       " '__init__',\n",
       " '__init_subclass__',\n",
       " '__iter__',\n",
       " '__le__',\n",
       " '__len__',\n",
       " '__lt__',\n",
       " '__mod__',\n",
       " '__mul__',\n",
       " '__ne__',\n",
       " '__new__',\n",
       " '__reduce__',\n",
       " '__reduce_ex__',\n",
       " '__repr__',\n",
       " '__rmod__',\n",
       " '__rmul__',\n",
       " '__setattr__',\n",
       " '__sizeof__',\n",
       " '__str__',\n",
       " '__subclasshook__',\n",
       " 'capitalize',\n",
       " 'casefold',\n",
       " 'center',\n",
       " 'count',\n",
       " 'encode',\n",
       " 'endswith',\n",
       " 'expandtabs',\n",
       " 'find',\n",
       " 'format',\n",
       " 'format_map',\n",
       " 'index',\n",
       " 'isalnum',\n",
       " 'isalpha',\n",
       " 'isascii',\n",
       " 'isdecimal',\n",
       " 'isdigit',\n",
       " 'isidentifier',\n",
       " 'islower',\n",
       " 'isnumeric',\n",
       " 'isprintable',\n",
       " 'isspace',\n",
       " 'istitle',\n",
       " 'isupper',\n",
       " 'join',\n",
       " 'ljust',\n",
       " 'lower',\n",
       " 'lstrip',\n",
       " 'maketrans',\n",
       " 'partition',\n",
       " 'removeprefix',\n",
       " 'removesuffix',\n",
       " 'replace',\n",
       " 'rfind',\n",
       " 'rindex',\n",
       " 'rjust',\n",
       " 'rpartition',\n",
       " 'rsplit',\n",
       " 'rstrip',\n",
       " 'split',\n",
       " 'splitlines',\n",
       " 'startswith',\n",
       " 'strip',\n",
       " 'swapcase',\n",
       " 'title',\n",
       " 'translate',\n",
       " 'upper',\n",
       " 'zfill']"
      ]
     },
     "execution_count": 114,
     "metadata": {},
     "output_type": "execute_result"
    }
   ],
   "source": [
    "mystring1 = 'abc'\n",
    "\n",
    "dir(mystring1)"
   ]
  },
  {
   "cell_type": "markdown",
   "metadata": {},
   "source": [
    "---"
   ]
  },
  {
   "cell_type": "code",
   "execution_count": 3,
   "metadata": {},
   "outputs": [],
   "source": [
    "text_list = ['Python', 'was', 'conceived', 'in', 'the', 'late', '1980s', 'and', 'its', 'implementation', 'began', 'in',\n",
    " 'December', '1989', 'by', 'Guido', 'van', 'Rossum', 'at', 'Centrum', 'Wiskunde', '&', 'Informatica', 'in', 'the',\n",
    " 'Netherlands', 'as', 'a', 'successor', 'to', 'the', 'ABC', 'language', 'itself', 'inspired', 'by', 'SETL', 'capable',\n",
    " 'of', 'exception', 'handling', 'and', 'interfacing', 'with', 'the', 'Amoeba', 'operating', 'system', '.', 'Van', 'Rossum',\n",
    " 'remains', \"Python's\", 'principal', 'author', '.', 'His', 'continuing', 'central', 'role', 'in', \"Python's\", 'development',\n",
    " 'is', 'reflected', 'in', 'the', 'title', 'given', 'to', 'him', 'by', 'the', 'Python', 'community', 'Benevolent', 'Dictator',\n",
    " 'For', 'Life', '.', 'On', 'the', 'origins', 'of', 'Python', 'Van', 'Rossum', 'wrote', 'in', '1996', 'In', 'December',\n",
    " '1989', 'I', 'was', 'looking', 'for', 'a', 'hobby', 'programming', 'project', 'that', 'would', 'keep', 'me', 'occupied',\n",
    " 'during', 'the', 'week', 'around', 'Christmas', '.', 'My', 'office', 'would', 'be', 'closed', 'but', 'I', 'had', 'a',\n",
    " 'home', 'computer', 'and', 'not', 'much', 'else', 'on', 'my', 'hands', '.', 'I', 'decided', 'to', 'write', 'an', 'interpreter',\n",
    " 'for', 'the', 'new', 'scripting', 'language', 'I', 'had', 'been', 'thinking', 'about', 'lately', 'a', 'descendant', 'of',\n",
    " 'ABC', 'that', 'would', 'appeal', 'to', 'Unix/C', 'hackers', '.', 'I', 'chose', 'Python', 'as', 'a', 'working', 'title',\n",
    " 'for', 'the', 'project', 'being', 'in', 'a', 'slightly', 'irreverent', 'mood', 'and', 'a', 'big', 'fan', 'of', 'Monty',\n",
    " \"Python's\", 'Flying', 'Circus', '.']\n"
   ]
  },
  {
   "cell_type": "code",
   "execution_count": 117,
   "metadata": {},
   "outputs": [],
   "source": [
    "myset = set(text_list)"
   ]
  },
  {
   "cell_type": "code",
   "execution_count": 118,
   "metadata": {},
   "outputs": [
    {
     "data": {
      "text/plain": [
       "{'&',\n",
       " '.',\n",
       " '1980s',\n",
       " '1989',\n",
       " '1996',\n",
       " 'ABC',\n",
       " 'Amoeba',\n",
       " 'Benevolent',\n",
       " 'Centrum',\n",
       " 'Christmas',\n",
       " 'Circus',\n",
       " 'December',\n",
       " 'Dictator',\n",
       " 'Flying',\n",
       " 'For',\n",
       " 'Guido',\n",
       " 'His',\n",
       " 'I',\n",
       " 'In',\n",
       " 'Informatica',\n",
       " 'Life',\n",
       " 'Monty',\n",
       " 'My',\n",
       " 'Netherlands',\n",
       " 'On',\n",
       " 'Python',\n",
       " \"Python's\",\n",
       " 'Rossum',\n",
       " 'SETL',\n",
       " 'Unix/C',\n",
       " 'Van',\n",
       " 'Wiskunde',\n",
       " 'a',\n",
       " 'about',\n",
       " 'an',\n",
       " 'and',\n",
       " 'appeal',\n",
       " 'around',\n",
       " 'as',\n",
       " 'at',\n",
       " 'author',\n",
       " 'be',\n",
       " 'been',\n",
       " 'began',\n",
       " 'being',\n",
       " 'big',\n",
       " 'but',\n",
       " 'by',\n",
       " 'capable',\n",
       " 'central',\n",
       " 'chose',\n",
       " 'closed',\n",
       " 'community',\n",
       " 'computer',\n",
       " 'conceived',\n",
       " 'continuing',\n",
       " 'decided',\n",
       " 'descendant',\n",
       " 'development',\n",
       " 'during',\n",
       " 'else',\n",
       " 'exception',\n",
       " 'fan',\n",
       " 'for',\n",
       " 'given',\n",
       " 'hackers',\n",
       " 'had',\n",
       " 'handling',\n",
       " 'hands',\n",
       " 'him',\n",
       " 'hobby',\n",
       " 'home',\n",
       " 'implementation',\n",
       " 'in',\n",
       " 'inspired',\n",
       " 'interfacing',\n",
       " 'interpreter',\n",
       " 'irreverent',\n",
       " 'is',\n",
       " 'its',\n",
       " 'itself',\n",
       " 'keep',\n",
       " 'language',\n",
       " 'late',\n",
       " 'lately',\n",
       " 'looking',\n",
       " 'me',\n",
       " 'mood',\n",
       " 'much',\n",
       " 'my',\n",
       " 'new',\n",
       " 'not',\n",
       " 'occupied',\n",
       " 'of',\n",
       " 'office',\n",
       " 'on',\n",
       " 'operating',\n",
       " 'origins',\n",
       " 'principal',\n",
       " 'programming',\n",
       " 'project',\n",
       " 'reflected',\n",
       " 'remains',\n",
       " 'role',\n",
       " 'scripting',\n",
       " 'slightly',\n",
       " 'successor',\n",
       " 'system',\n",
       " 'that',\n",
       " 'the',\n",
       " 'thinking',\n",
       " 'title',\n",
       " 'to',\n",
       " 'van',\n",
       " 'was',\n",
       " 'week',\n",
       " 'with',\n",
       " 'working',\n",
       " 'would',\n",
       " 'write',\n",
       " 'wrote'}"
      ]
     },
     "execution_count": 118,
     "metadata": {},
     "output_type": "execute_result"
    }
   ],
   "source": [
    "myset"
   ]
  },
  {
   "cell_type": "markdown",
   "metadata": {},
   "source": [
    "<font size = 6, color = red>THIS WORKS TOO!!!"
   ]
  },
  {
   "cell_type": "code",
   "execution_count": 94,
   "metadata": {},
   "outputs": [],
   "source": [
    "mydict5 = {}\n",
    "\n",
    "for item in text_list:\n",
    "    mydict5[item] = (text_list.count(item))\n"
   ]
  },
  {
   "cell_type": "code",
   "execution_count": 95,
   "metadata": {},
   "outputs": [
    {
     "data": {
      "text/plain": [
       "{'Python': 4,\n",
       " 'was': 2,\n",
       " 'conceived': 1,\n",
       " 'in': 7,\n",
       " 'the': 10,\n",
       " 'late': 1,\n",
       " '1980s': 1,\n",
       " 'and': 4,\n",
       " 'its': 1,\n",
       " 'implementation': 1,\n",
       " 'began': 1,\n",
       " 'December': 2,\n",
       " '1989': 2,\n",
       " 'by': 3,\n",
       " 'Guido': 1,\n",
       " 'van': 1,\n",
       " 'Rossum': 3,\n",
       " 'at': 1,\n",
       " 'Centrum': 1,\n",
       " 'Wiskunde': 1,\n",
       " '&': 1,\n",
       " 'Informatica': 1,\n",
       " 'Netherlands': 1,\n",
       " 'as': 2,\n",
       " 'a': 7,\n",
       " 'successor': 1,\n",
       " 'to': 4,\n",
       " 'ABC': 2,\n",
       " 'language': 2,\n",
       " 'itself': 1,\n",
       " 'inspired': 1,\n",
       " 'SETL': 1,\n",
       " 'capable': 1,\n",
       " 'of': 4,\n",
       " 'exception': 1,\n",
       " 'handling': 1,\n",
       " 'interfacing': 1,\n",
       " 'with': 1,\n",
       " 'Amoeba': 1,\n",
       " 'operating': 1,\n",
       " 'system': 1,\n",
       " '.': 7,\n",
       " 'Van': 2,\n",
       " 'remains': 1,\n",
       " \"Python's\": 3,\n",
       " 'principal': 1,\n",
       " 'author': 1,\n",
       " 'His': 1,\n",
       " 'continuing': 1,\n",
       " 'central': 1,\n",
       " 'role': 1,\n",
       " 'development': 1,\n",
       " 'is': 1,\n",
       " 'reflected': 1,\n",
       " 'title': 2,\n",
       " 'given': 1,\n",
       " 'him': 1,\n",
       " 'community': 1,\n",
       " 'Benevolent': 1,\n",
       " 'Dictator': 1,\n",
       " 'For': 1,\n",
       " 'Life': 1,\n",
       " 'On': 1,\n",
       " 'origins': 1,\n",
       " 'wrote': 1,\n",
       " '1996': 1,\n",
       " 'In': 1,\n",
       " 'I': 5,\n",
       " 'looking': 1,\n",
       " 'for': 3,\n",
       " 'hobby': 1,\n",
       " 'programming': 1,\n",
       " 'project': 2,\n",
       " 'that': 2,\n",
       " 'would': 3,\n",
       " 'keep': 1,\n",
       " 'me': 1,\n",
       " 'occupied': 1,\n",
       " 'during': 1,\n",
       " 'week': 1,\n",
       " 'around': 1,\n",
       " 'Christmas': 1,\n",
       " 'My': 1,\n",
       " 'office': 1,\n",
       " 'be': 1,\n",
       " 'closed': 1,\n",
       " 'but': 1,\n",
       " 'had': 2,\n",
       " 'home': 1,\n",
       " 'computer': 1,\n",
       " 'not': 1,\n",
       " 'much': 1,\n",
       " 'else': 1,\n",
       " 'on': 1,\n",
       " 'my': 1,\n",
       " 'hands': 1,\n",
       " 'decided': 1,\n",
       " 'write': 1,\n",
       " 'an': 1,\n",
       " 'interpreter': 1,\n",
       " 'new': 1,\n",
       " 'scripting': 1,\n",
       " 'been': 1,\n",
       " 'thinking': 1,\n",
       " 'about': 1,\n",
       " 'lately': 1,\n",
       " 'descendant': 1,\n",
       " 'appeal': 1,\n",
       " 'Unix/C': 1,\n",
       " 'hackers': 1,\n",
       " 'chose': 1,\n",
       " 'working': 1,\n",
       " 'being': 1,\n",
       " 'slightly': 1,\n",
       " 'irreverent': 1,\n",
       " 'mood': 1,\n",
       " 'big': 1,\n",
       " 'fan': 1,\n",
       " 'Monty': 1,\n",
       " 'Flying': 1,\n",
       " 'Circus': 1}"
      ]
     },
     "execution_count": 95,
     "metadata": {},
     "output_type": "execute_result"
    }
   ],
   "source": [
    "mydict5"
   ]
  },
  {
   "cell_type": "markdown",
   "metadata": {},
   "source": [
    "### This works"
   ]
  },
  {
   "cell_type": "code",
   "execution_count": 26,
   "metadata": {},
   "outputs": [
    {
     "data": {
      "text/plain": [
       "{'Python': 4,\n",
       " 'was': 2,\n",
       " 'conceived': 1,\n",
       " 'in': 7,\n",
       " 'the': 10,\n",
       " 'late': 1,\n",
       " '1980s': 1,\n",
       " 'and': 4,\n",
       " 'its': 1,\n",
       " 'implementation': 1,\n",
       " 'began': 1,\n",
       " 'December': 2,\n",
       " '1989': 2,\n",
       " 'by': 3,\n",
       " 'Guido': 1,\n",
       " 'van': 1,\n",
       " 'Rossum': 3,\n",
       " 'at': 1,\n",
       " 'Centrum': 1,\n",
       " 'Wiskunde': 1,\n",
       " '&': 1,\n",
       " 'Informatica': 1,\n",
       " 'Netherlands': 1,\n",
       " 'as': 2,\n",
       " 'a': 7,\n",
       " 'successor': 1,\n",
       " 'to': 4,\n",
       " 'ABC': 2,\n",
       " 'language': 2,\n",
       " 'itself': 1,\n",
       " 'inspired': 1,\n",
       " 'SETL': 1,\n",
       " 'capable': 1,\n",
       " 'of': 4,\n",
       " 'exception': 1,\n",
       " 'handling': 1,\n",
       " 'interfacing': 1,\n",
       " 'with': 1,\n",
       " 'Amoeba': 1,\n",
       " 'operating': 1,\n",
       " 'system': 1,\n",
       " '.': 7,\n",
       " 'Van': 2,\n",
       " 'remains': 1,\n",
       " \"Python's\": 3,\n",
       " 'principal': 1,\n",
       " 'author': 1,\n",
       " 'His': 1,\n",
       " 'continuing': 1,\n",
       " 'central': 1,\n",
       " 'role': 1,\n",
       " 'development': 1,\n",
       " 'is': 1,\n",
       " 'reflected': 1,\n",
       " 'title': 2,\n",
       " 'given': 1,\n",
       " 'him': 1,\n",
       " 'community': 1,\n",
       " 'Benevolent': 1,\n",
       " 'Dictator': 1,\n",
       " 'For': 1,\n",
       " 'Life': 1,\n",
       " 'On': 1,\n",
       " 'origins': 1,\n",
       " 'wrote': 1,\n",
       " '1996': 1,\n",
       " 'In': 1,\n",
       " 'I': 5,\n",
       " 'looking': 1,\n",
       " 'for': 3,\n",
       " 'hobby': 1,\n",
       " 'programming': 1,\n",
       " 'project': 2,\n",
       " 'that': 2,\n",
       " 'would': 3,\n",
       " 'keep': 1,\n",
       " 'me': 1,\n",
       " 'occupied': 1,\n",
       " 'during': 1,\n",
       " 'week': 1,\n",
       " 'around': 1,\n",
       " 'Christmas': 1,\n",
       " 'My': 1,\n",
       " 'office': 1,\n",
       " 'be': 1,\n",
       " 'closed': 1,\n",
       " 'but': 1,\n",
       " 'had': 2,\n",
       " 'home': 1,\n",
       " 'computer': 1,\n",
       " 'not': 1,\n",
       " 'much': 1,\n",
       " 'else': 1,\n",
       " 'on': 1,\n",
       " 'my': 1,\n",
       " 'hands': 1,\n",
       " 'decided': 1,\n",
       " 'write': 1,\n",
       " 'an': 1,\n",
       " 'interpreter': 1,\n",
       " 'new': 1,\n",
       " 'scripting': 1,\n",
       " 'been': 1,\n",
       " 'thinking': 1,\n",
       " 'about': 1,\n",
       " 'lately': 1,\n",
       " 'descendant': 1,\n",
       " 'appeal': 1,\n",
       " 'Unix/C': 1,\n",
       " 'hackers': 1,\n",
       " 'chose': 1,\n",
       " 'working': 1,\n",
       " 'being': 1,\n",
       " 'slightly': 1,\n",
       " 'irreverent': 1,\n",
       " 'mood': 1,\n",
       " 'big': 1,\n",
       " 'fan': 1,\n",
       " 'Monty': 1,\n",
       " 'Flying': 1,\n",
       " 'Circus': 1}"
      ]
     },
     "execution_count": 26,
     "metadata": {},
     "output_type": "execute_result"
    }
   ],
   "source": [
    "# THIS IS THE SOLUTION (USING DICTIONARY COMPREHENSION)\n",
    "\n",
    "word_counts = {item:text_list.count(item) for item in text_list}\n",
    "\n",
    "word_counts"
   ]
  },
  {
   "cell_type": "code",
   "execution_count": 47,
   "metadata": {},
   "outputs": [],
   "source": [
    "# THIS COMES CLOSE... BUT DICTIONARY HAS TUPLE INSIDE IT\n",
    "\n",
    "mydict = {}\n",
    "#key = {\"\", \"\"}\n",
    "\n",
    "for item in text_list:\n",
    "    index = item, text_list.count(item)\n",
    "    #mydict[key] = (item, text_list.count(item))\n",
    "    mydict[index] = {}\n",
    "    #mydict(key) = (item, text_list.count(item))"
   ]
  },
  {
   "cell_type": "code",
   "execution_count": 48,
   "metadata": {},
   "outputs": [
    {
     "data": {
      "text/plain": [
       "{('Python', 4): {},\n",
       " ('was', 2): {},\n",
       " ('conceived', 1): {},\n",
       " ('in', 7): {},\n",
       " ('the', 10): {},\n",
       " ('late', 1): {},\n",
       " ('1980s', 1): {},\n",
       " ('and', 4): {},\n",
       " ('its', 1): {},\n",
       " ('implementation', 1): {},\n",
       " ('began', 1): {},\n",
       " ('December', 2): {},\n",
       " ('1989', 2): {},\n",
       " ('by', 3): {},\n",
       " ('Guido', 1): {},\n",
       " ('van', 1): {},\n",
       " ('Rossum', 3): {},\n",
       " ('at', 1): {},\n",
       " ('Centrum', 1): {},\n",
       " ('Wiskunde', 1): {},\n",
       " ('&', 1): {},\n",
       " ('Informatica', 1): {},\n",
       " ('Netherlands', 1): {},\n",
       " ('as', 2): {},\n",
       " ('a', 7): {},\n",
       " ('successor', 1): {},\n",
       " ('to', 4): {},\n",
       " ('ABC', 2): {},\n",
       " ('language', 2): {},\n",
       " ('itself', 1): {},\n",
       " ('inspired', 1): {},\n",
       " ('SETL', 1): {},\n",
       " ('capable', 1): {},\n",
       " ('of', 4): {},\n",
       " ('exception', 1): {},\n",
       " ('handling', 1): {},\n",
       " ('interfacing', 1): {},\n",
       " ('with', 1): {},\n",
       " ('Amoeba', 1): {},\n",
       " ('operating', 1): {},\n",
       " ('system', 1): {},\n",
       " ('.', 7): {},\n",
       " ('Van', 2): {},\n",
       " ('remains', 1): {},\n",
       " (\"Python's\", 3): {},\n",
       " ('principal', 1): {},\n",
       " ('author', 1): {},\n",
       " ('His', 1): {},\n",
       " ('continuing', 1): {},\n",
       " ('central', 1): {},\n",
       " ('role', 1): {},\n",
       " ('development', 1): {},\n",
       " ('is', 1): {},\n",
       " ('reflected', 1): {},\n",
       " ('title', 2): {},\n",
       " ('given', 1): {},\n",
       " ('him', 1): {},\n",
       " ('community', 1): {},\n",
       " ('Benevolent', 1): {},\n",
       " ('Dictator', 1): {},\n",
       " ('For', 1): {},\n",
       " ('Life', 1): {},\n",
       " ('On', 1): {},\n",
       " ('origins', 1): {},\n",
       " ('wrote', 1): {},\n",
       " ('1996', 1): {},\n",
       " ('In', 1): {},\n",
       " ('I', 5): {},\n",
       " ('looking', 1): {},\n",
       " ('for', 3): {},\n",
       " ('hobby', 1): {},\n",
       " ('programming', 1): {},\n",
       " ('project', 2): {},\n",
       " ('that', 2): {},\n",
       " ('would', 3): {},\n",
       " ('keep', 1): {},\n",
       " ('me', 1): {},\n",
       " ('occupied', 1): {},\n",
       " ('during', 1): {},\n",
       " ('week', 1): {},\n",
       " ('around', 1): {},\n",
       " ('Christmas', 1): {},\n",
       " ('My', 1): {},\n",
       " ('office', 1): {},\n",
       " ('be', 1): {},\n",
       " ('closed', 1): {},\n",
       " ('but', 1): {},\n",
       " ('had', 2): {},\n",
       " ('home', 1): {},\n",
       " ('computer', 1): {},\n",
       " ('not', 1): {},\n",
       " ('much', 1): {},\n",
       " ('else', 1): {},\n",
       " ('on', 1): {},\n",
       " ('my', 1): {},\n",
       " ('hands', 1): {},\n",
       " ('decided', 1): {},\n",
       " ('write', 1): {},\n",
       " ('an', 1): {},\n",
       " ('interpreter', 1): {},\n",
       " ('new', 1): {},\n",
       " ('scripting', 1): {},\n",
       " ('been', 1): {},\n",
       " ('thinking', 1): {},\n",
       " ('about', 1): {},\n",
       " ('lately', 1): {},\n",
       " ('descendant', 1): {},\n",
       " ('appeal', 1): {},\n",
       " ('Unix/C', 1): {},\n",
       " ('hackers', 1): {},\n",
       " ('chose', 1): {},\n",
       " ('working', 1): {},\n",
       " ('being', 1): {},\n",
       " ('slightly', 1): {},\n",
       " ('irreverent', 1): {},\n",
       " ('mood', 1): {},\n",
       " ('big', 1): {},\n",
       " ('fan', 1): {},\n",
       " ('Monty', 1): {},\n",
       " ('Flying', 1): {},\n",
       " ('Circus', 1): {}}"
      ]
     },
     "execution_count": 48,
     "metadata": {},
     "output_type": "execute_result"
    }
   ],
   "source": [
    "mydict"
   ]
  },
  {
   "cell_type": "markdown",
   "metadata": {},
   "source": [
    "---"
   ]
  },
  {
   "cell_type": "markdown",
   "metadata": {},
   "source": [
    "9) Loop through the dictionary you made above of {word: # of occurrences}, sum up the total number of words and divide each entry in the dictionary by that total sum and store it in a new dictionary (this will take 2 separate loops!) (In data science this is called Term-Frequency or TF) \n",
    "\n",
    "Extra challenge: Sort the output by the TF in descending order."
   ]
  },
  {
   "cell_type": "code",
   "execution_count": 52,
   "metadata": {},
   "outputs": [
    {
     "data": {
      "text/plain": [
       "121"
      ]
     },
     "execution_count": 52,
     "metadata": {},
     "output_type": "execute_result"
    }
   ],
   "source": [
    "# Your code here\n",
    "\n",
    "len(word_counts.keys())"
   ]
  },
  {
   "cell_type": "markdown",
   "metadata": {},
   "source": [
    "### this works"
   ]
  },
  {
   "cell_type": "code",
   "execution_count": 68,
   "metadata": {},
   "outputs": [],
   "source": [
    "## THIS WORKS\n",
    "\n",
    "word_counts2 = {item:text_list.count(item)/(len(word_counts.keys())) for item in text_list}"
   ]
  },
  {
   "cell_type": "code",
   "execution_count": 67,
   "metadata": {},
   "outputs": [
    {
     "data": {
      "text/plain": [
       "{'Python': 0.03305785123966942,\n",
       " 'was': 0.01652892561983471,\n",
       " 'conceived': 0.008264462809917356,\n",
       " 'in': 0.05785123966942149,\n",
       " 'the': 0.08264462809917356,\n",
       " 'late': 0.008264462809917356,\n",
       " '1980s': 0.008264462809917356,\n",
       " 'and': 0.03305785123966942,\n",
       " 'its': 0.008264462809917356,\n",
       " 'implementation': 0.008264462809917356,\n",
       " 'began': 0.008264462809917356,\n",
       " 'December': 0.01652892561983471,\n",
       " '1989': 0.01652892561983471,\n",
       " 'by': 0.024793388429752067,\n",
       " 'Guido': 0.008264462809917356,\n",
       " 'van': 0.008264462809917356,\n",
       " 'Rossum': 0.024793388429752067,\n",
       " 'at': 0.008264462809917356,\n",
       " 'Centrum': 0.008264462809917356,\n",
       " 'Wiskunde': 0.008264462809917356,\n",
       " '&': 0.008264462809917356,\n",
       " 'Informatica': 0.008264462809917356,\n",
       " 'Netherlands': 0.008264462809917356,\n",
       " 'as': 0.01652892561983471,\n",
       " 'a': 0.05785123966942149,\n",
       " 'successor': 0.008264462809917356,\n",
       " 'to': 0.03305785123966942,\n",
       " 'ABC': 0.01652892561983471,\n",
       " 'language': 0.01652892561983471,\n",
       " 'itself': 0.008264462809917356,\n",
       " 'inspired': 0.008264462809917356,\n",
       " 'SETL': 0.008264462809917356,\n",
       " 'capable': 0.008264462809917356,\n",
       " 'of': 0.03305785123966942,\n",
       " 'exception': 0.008264462809917356,\n",
       " 'handling': 0.008264462809917356,\n",
       " 'interfacing': 0.008264462809917356,\n",
       " 'with': 0.008264462809917356,\n",
       " 'Amoeba': 0.008264462809917356,\n",
       " 'operating': 0.008264462809917356,\n",
       " 'system': 0.008264462809917356,\n",
       " '.': 0.05785123966942149,\n",
       " 'Van': 0.01652892561983471,\n",
       " 'remains': 0.008264462809917356,\n",
       " \"Python's\": 0.024793388429752067,\n",
       " 'principal': 0.008264462809917356,\n",
       " 'author': 0.008264462809917356,\n",
       " 'His': 0.008264462809917356,\n",
       " 'continuing': 0.008264462809917356,\n",
       " 'central': 0.008264462809917356,\n",
       " 'role': 0.008264462809917356,\n",
       " 'development': 0.008264462809917356,\n",
       " 'is': 0.008264462809917356,\n",
       " 'reflected': 0.008264462809917356,\n",
       " 'title': 0.01652892561983471,\n",
       " 'given': 0.008264462809917356,\n",
       " 'him': 0.008264462809917356,\n",
       " 'community': 0.008264462809917356,\n",
       " 'Benevolent': 0.008264462809917356,\n",
       " 'Dictator': 0.008264462809917356,\n",
       " 'For': 0.008264462809917356,\n",
       " 'Life': 0.008264462809917356,\n",
       " 'On': 0.008264462809917356,\n",
       " 'origins': 0.008264462809917356,\n",
       " 'wrote': 0.008264462809917356,\n",
       " '1996': 0.008264462809917356,\n",
       " 'In': 0.008264462809917356,\n",
       " 'I': 0.04132231404958678,\n",
       " 'looking': 0.008264462809917356,\n",
       " 'for': 0.024793388429752067,\n",
       " 'hobby': 0.008264462809917356,\n",
       " 'programming': 0.008264462809917356,\n",
       " 'project': 0.01652892561983471,\n",
       " 'that': 0.01652892561983471,\n",
       " 'would': 0.024793388429752067,\n",
       " 'keep': 0.008264462809917356,\n",
       " 'me': 0.008264462809917356,\n",
       " 'occupied': 0.008264462809917356,\n",
       " 'during': 0.008264462809917356,\n",
       " 'week': 0.008264462809917356,\n",
       " 'around': 0.008264462809917356,\n",
       " 'Christmas': 0.008264462809917356,\n",
       " 'My': 0.008264462809917356,\n",
       " 'office': 0.008264462809917356,\n",
       " 'be': 0.008264462809917356,\n",
       " 'closed': 0.008264462809917356,\n",
       " 'but': 0.008264462809917356,\n",
       " 'had': 0.01652892561983471,\n",
       " 'home': 0.008264462809917356,\n",
       " 'computer': 0.008264462809917356,\n",
       " 'not': 0.008264462809917356,\n",
       " 'much': 0.008264462809917356,\n",
       " 'else': 0.008264462809917356,\n",
       " 'on': 0.008264462809917356,\n",
       " 'my': 0.008264462809917356,\n",
       " 'hands': 0.008264462809917356,\n",
       " 'decided': 0.008264462809917356,\n",
       " 'write': 0.008264462809917356,\n",
       " 'an': 0.008264462809917356,\n",
       " 'interpreter': 0.008264462809917356,\n",
       " 'new': 0.008264462809917356,\n",
       " 'scripting': 0.008264462809917356,\n",
       " 'been': 0.008264462809917356,\n",
       " 'thinking': 0.008264462809917356,\n",
       " 'about': 0.008264462809917356,\n",
       " 'lately': 0.008264462809917356,\n",
       " 'descendant': 0.008264462809917356,\n",
       " 'appeal': 0.008264462809917356,\n",
       " 'Unix/C': 0.008264462809917356,\n",
       " 'hackers': 0.008264462809917356,\n",
       " 'chose': 0.008264462809917356,\n",
       " 'working': 0.008264462809917356,\n",
       " 'being': 0.008264462809917356,\n",
       " 'slightly': 0.008264462809917356,\n",
       " 'irreverent': 0.008264462809917356,\n",
       " 'mood': 0.008264462809917356,\n",
       " 'big': 0.008264462809917356,\n",
       " 'fan': 0.008264462809917356,\n",
       " 'Monty': 0.008264462809917356,\n",
       " 'Flying': 0.008264462809917356,\n",
       " 'Circus': 0.008264462809917356}"
      ]
     },
     "execution_count": 67,
     "metadata": {},
     "output_type": "execute_result"
    }
   ],
   "source": [
    "word_counts2"
   ]
  },
  {
   "cell_type": "markdown",
   "metadata": {},
   "source": [
    "<font size = 6, color = red>THIS WORKS!!!"
   ]
  },
  {
   "cell_type": "code",
   "execution_count": 98,
   "metadata": {},
   "outputs": [],
   "source": [
    "mydict4 = {}\n",
    "\n",
    "for item, key in word_counts.items():\n",
    "    mydict4[item] = key/(len(word_counts.keys()))\n"
   ]
  },
  {
   "cell_type": "code",
   "execution_count": 92,
   "metadata": {},
   "outputs": [
    {
     "data": {
      "text/plain": [
       "{'Python': 0.03305785123966942,\n",
       " 'was': 0.01652892561983471,\n",
       " 'conceived': 0.008264462809917356,\n",
       " 'in': 0.05785123966942149,\n",
       " 'the': 0.08264462809917356,\n",
       " 'late': 0.008264462809917356,\n",
       " '1980s': 0.008264462809917356,\n",
       " 'and': 0.03305785123966942,\n",
       " 'its': 0.008264462809917356,\n",
       " 'implementation': 0.008264462809917356,\n",
       " 'began': 0.008264462809917356,\n",
       " 'December': 0.01652892561983471,\n",
       " '1989': 0.01652892561983471,\n",
       " 'by': 0.024793388429752067,\n",
       " 'Guido': 0.008264462809917356,\n",
       " 'van': 0.008264462809917356,\n",
       " 'Rossum': 0.024793388429752067,\n",
       " 'at': 0.008264462809917356,\n",
       " 'Centrum': 0.008264462809917356,\n",
       " 'Wiskunde': 0.008264462809917356,\n",
       " '&': 0.008264462809917356,\n",
       " 'Informatica': 0.008264462809917356,\n",
       " 'Netherlands': 0.008264462809917356,\n",
       " 'as': 0.01652892561983471,\n",
       " 'a': 0.05785123966942149,\n",
       " 'successor': 0.008264462809917356,\n",
       " 'to': 0.03305785123966942,\n",
       " 'ABC': 0.01652892561983471,\n",
       " 'language': 0.01652892561983471,\n",
       " 'itself': 0.008264462809917356,\n",
       " 'inspired': 0.008264462809917356,\n",
       " 'SETL': 0.008264462809917356,\n",
       " 'capable': 0.008264462809917356,\n",
       " 'of': 0.03305785123966942,\n",
       " 'exception': 0.008264462809917356,\n",
       " 'handling': 0.008264462809917356,\n",
       " 'interfacing': 0.008264462809917356,\n",
       " 'with': 0.008264462809917356,\n",
       " 'Amoeba': 0.008264462809917356,\n",
       " 'operating': 0.008264462809917356,\n",
       " 'system': 0.008264462809917356,\n",
       " '.': 0.05785123966942149,\n",
       " 'Van': 0.01652892561983471,\n",
       " 'remains': 0.008264462809917356,\n",
       " \"Python's\": 0.024793388429752067,\n",
       " 'principal': 0.008264462809917356,\n",
       " 'author': 0.008264462809917356,\n",
       " 'His': 0.008264462809917356,\n",
       " 'continuing': 0.008264462809917356,\n",
       " 'central': 0.008264462809917356,\n",
       " 'role': 0.008264462809917356,\n",
       " 'development': 0.008264462809917356,\n",
       " 'is': 0.008264462809917356,\n",
       " 'reflected': 0.008264462809917356,\n",
       " 'title': 0.01652892561983471,\n",
       " 'given': 0.008264462809917356,\n",
       " 'him': 0.008264462809917356,\n",
       " 'community': 0.008264462809917356,\n",
       " 'Benevolent': 0.008264462809917356,\n",
       " 'Dictator': 0.008264462809917356,\n",
       " 'For': 0.008264462809917356,\n",
       " 'Life': 0.008264462809917356,\n",
       " 'On': 0.008264462809917356,\n",
       " 'origins': 0.008264462809917356,\n",
       " 'wrote': 0.008264462809917356,\n",
       " '1996': 0.008264462809917356,\n",
       " 'In': 0.008264462809917356,\n",
       " 'I': 0.04132231404958678,\n",
       " 'looking': 0.008264462809917356,\n",
       " 'for': 0.024793388429752067,\n",
       " 'hobby': 0.008264462809917356,\n",
       " 'programming': 0.008264462809917356,\n",
       " 'project': 0.01652892561983471,\n",
       " 'that': 0.01652892561983471,\n",
       " 'would': 0.024793388429752067,\n",
       " 'keep': 0.008264462809917356,\n",
       " 'me': 0.008264462809917356,\n",
       " 'occupied': 0.008264462809917356,\n",
       " 'during': 0.008264462809917356,\n",
       " 'week': 0.008264462809917356,\n",
       " 'around': 0.008264462809917356,\n",
       " 'Christmas': 0.008264462809917356,\n",
       " 'My': 0.008264462809917356,\n",
       " 'office': 0.008264462809917356,\n",
       " 'be': 0.008264462809917356,\n",
       " 'closed': 0.008264462809917356,\n",
       " 'but': 0.008264462809917356,\n",
       " 'had': 0.01652892561983471,\n",
       " 'home': 0.008264462809917356,\n",
       " 'computer': 0.008264462809917356,\n",
       " 'not': 0.008264462809917356,\n",
       " 'much': 0.008264462809917356,\n",
       " 'else': 0.008264462809917356,\n",
       " 'on': 0.008264462809917356,\n",
       " 'my': 0.008264462809917356,\n",
       " 'hands': 0.008264462809917356,\n",
       " 'decided': 0.008264462809917356,\n",
       " 'write': 0.008264462809917356,\n",
       " 'an': 0.008264462809917356,\n",
       " 'interpreter': 0.008264462809917356,\n",
       " 'new': 0.008264462809917356,\n",
       " 'scripting': 0.008264462809917356,\n",
       " 'been': 0.008264462809917356,\n",
       " 'thinking': 0.008264462809917356,\n",
       " 'about': 0.008264462809917356,\n",
       " 'lately': 0.008264462809917356,\n",
       " 'descendant': 0.008264462809917356,\n",
       " 'appeal': 0.008264462809917356,\n",
       " 'Unix/C': 0.008264462809917356,\n",
       " 'hackers': 0.008264462809917356,\n",
       " 'chose': 0.008264462809917356,\n",
       " 'working': 0.008264462809917356,\n",
       " 'being': 0.008264462809917356,\n",
       " 'slightly': 0.008264462809917356,\n",
       " 'irreverent': 0.008264462809917356,\n",
       " 'mood': 0.008264462809917356,\n",
       " 'big': 0.008264462809917356,\n",
       " 'fan': 0.008264462809917356,\n",
       " 'Monty': 0.008264462809917356,\n",
       " 'Flying': 0.008264462809917356,\n",
       " 'Circus': 0.008264462809917356}"
      ]
     },
     "execution_count": 92,
     "metadata": {},
     "output_type": "execute_result"
    }
   ],
   "source": [
    "mydict4"
   ]
  },
  {
   "cell_type": "code",
   "execution_count": null,
   "metadata": {},
   "outputs": [],
   "source": []
  }
 ],
 "metadata": {
  "kernelspec": {
   "display_name": "Python 3 (ipykernel)",
   "language": "python",
   "name": "python3"
  },
  "language_info": {
   "codemirror_mode": {
    "name": "ipython",
    "version": 3
   },
   "file_extension": ".py",
   "mimetype": "text/x-python",
   "name": "python",
   "nbconvert_exporter": "python",
   "pygments_lexer": "ipython3",
   "version": "3.9.12"
  }
 },
 "nbformat": 4,
 "nbformat_minor": 4
}
