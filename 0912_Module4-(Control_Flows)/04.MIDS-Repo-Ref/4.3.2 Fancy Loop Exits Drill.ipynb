{
 "cells": [
  {
   "cell_type": "markdown",
   "metadata": {},
   "source": [
    "## Fancy Loop Exits\n",
    "\n",
    "Sample answers are in a separate folder with an explanation (there might be multiple ways to solve a problem though!) \n"
   ]
  },
  {
   "cell_type": "markdown",
   "metadata": {},
   "source": [
    "1) Using a loop skip any lines that are comments in the file_contents list below.  Comment lines are denoted by the '#' as the first character.  If the line is not a comment line print out the date once until it changes.  Underneath that date print out each time entry and the reading for that time.  (format for non-comment lines are <'date time reading'>."
   ]
  },
  {
   "cell_type": "code",
   "execution_count": 1,
   "metadata": {
    "tags": []
   },
   "outputs": [],
   "source": [
    "file_contents = ['# This is a file that records', '# Entries every 15 minutes from a meter', '# Property of p36'\n",
    "                 '# Next lines are from 10-11', '5-20-2018 1000 15', '5-20-2018 1015 16', '5-20-2018 1030 14', \n",
    "                 '5-20-2018 1045 -', '# Next lines are from 11-12', '5-20-2018 1100 12', '5-20-2018 1115 10', \n",
    "                 '5-20-2018 1130 12', '5-20-2018 1145 18', '# Next lines are from 12-1', \n",
    "                 '5-21-2018 1200 12', '5-21-2018 1215 15',]\n",
    "\n",
    "# Your code here"
   ]
  },
  {
   "cell_type": "code",
   "execution_count": 8,
   "metadata": {},
   "outputs": [
    {
     "data": {
      "text/plain": [
       "'#'"
      ]
     },
     "execution_count": 8,
     "metadata": {},
     "output_type": "execute_result"
    }
   ],
   "source": [
    "#len(file_contents\n",
    "\n",
    "file_contents[0][0]"
   ]
  },
  {
   "cell_type": "code",
   "execution_count": 2,
   "metadata": {},
   "outputs": [
    {
     "name": "stdout",
     "output_type": "stream",
     "text": [
      "5-20-2018\n",
      "5-20-2018\n",
      "5-20-2018\n",
      "5-20-2018\n",
      "5-20-2018\n",
      "5-20-2018\n",
      "5-20-2018\n",
      "5-20-2018\n",
      "5-21-2018\n",
      "5-21-2018\n",
      "['5-20-2018', '5-21-2018']\n"
     ]
    }
   ],
   "source": [
    "index = 0\n",
    "distinct_date_list = []\n",
    "\n",
    "while index < len(file_contents):\n",
    "    if file_contents[index][0] == '#':\n",
    "        #print('this starts with #')\n",
    "        # continue\n",
    "        pass \n",
    "    else:\n",
    "        #print(file_contents[index])\n",
    "        print(file_contents[index][:9])\n",
    "        if (file_contents[index][:9]) not in distinct_date_list:\n",
    "            distinct_date_list.append(file_contents[index][:9])\n",
    " #       if file_contents[index] > distinct_date_list:\n",
    " #         distinct_date_list.append(file_contents(index))\n",
    "\n",
    "    index+= 1\n",
    "print(distinct_date_list)"
   ]
  },
  {
   "cell_type": "code",
   "execution_count": 5,
   "metadata": {},
   "outputs": [
    {
     "name": "stdout",
     "output_type": "stream",
     "text": [
      "5-20-2018\n",
      "1000 1\n",
      "1000 1\n",
      "1000 1\n",
      "1000 1\n",
      "1000 1\n",
      "1000 1\n",
      "1000 1\n",
      "1000 1\n",
      "1000 1\n",
      "1015 1\n",
      "1015 1\n",
      "1015 1\n",
      "1015 1\n",
      "1015 1\n",
      "1015 1\n",
      "1015 1\n",
      "1015 1\n",
      "1015 1\n",
      "1030 1\n",
      "1030 1\n",
      "1030 1\n",
      "1030 1\n",
      "1030 1\n",
      "1030 1\n",
      "1030 1\n",
      "1030 1\n",
      "1030 1\n",
      "1045 -\n",
      "1045 -\n",
      "1045 -\n",
      "1045 -\n",
      "1045 -\n",
      "1045 -\n",
      "1045 -\n",
      "1045 -\n",
      "1045 -\n",
      "1100 1\n",
      "1100 1\n",
      "1100 1\n",
      "1100 1\n",
      "1100 1\n",
      "1100 1\n",
      "1100 1\n",
      "1100 1\n",
      "1100 1\n",
      "1115 1\n",
      "1115 1\n",
      "1115 1\n",
      "1115 1\n",
      "1115 1\n",
      "1115 1\n",
      "1115 1\n",
      "1115 1\n",
      "1115 1\n",
      "1130 1\n",
      "1130 1\n",
      "1130 1\n",
      "1130 1\n",
      "1130 1\n",
      "1130 1\n",
      "1130 1\n",
      "1130 1\n",
      "1130 1\n",
      "1145 1\n",
      "1145 1\n",
      "1145 1\n",
      "1145 1\n",
      "1145 1\n",
      "1145 1\n",
      "1145 1\n",
      "1145 1\n",
      "1145 1\n",
      "5-21-2018\n",
      "1200 1\n",
      "1200 1\n",
      "1200 1\n",
      "1200 1\n",
      "1200 1\n",
      "1200 1\n",
      "1200 1\n",
      "1200 1\n",
      "1200 1\n",
      "1215 1\n",
      "1215 1\n",
      "1215 1\n",
      "1215 1\n",
      "1215 1\n",
      "1215 1\n",
      "1215 1\n",
      "1215 1\n",
      "1215 1\n",
      "['5-20-2018', '5-21-2018']\n"
     ]
    }
   ],
   "source": [
    "index = 0\n",
    "distinct_date_list = []\n",
    "\n",
    "while index < len(file_contents):\n",
    "    if file_contents[index][0] == '#':\n",
    "        pass \n",
    "    else:\n",
    "#        print(file_contents[index][:9])\n",
    "        if (file_contents[index][:9]) not in distinct_date_list:\n",
    "            distinct_date_list.append(file_contents[index][:9])\n",
    "            print(file_contents[index][:9])\n",
    "#            print(file_contents[index][10:16])\n",
    "            \n",
    "        for item in file_contents[index][:9]:\n",
    "            print(file_contents[index][10:16])\n",
    "    index+= 1\n",
    "print(distinct_date_list)"
   ]
  },
  {
   "cell_type": "code",
   "execution_count": null,
   "metadata": {},
   "outputs": [
    {
     "name": "stdout",
     "output_type": "stream",
     "text": [
      "# This is\n",
      "a file\n"
     ]
    }
   ],
   "source": [
    "index = 0\n",
    "distinct_date_list = []\n",
    "\n",
    "while index < len(file_contents):\n",
    "    if file_contents[index][0] == '#':\n",
    "        pass \n",
    "\n",
    "    if (file_contents[index][:9]) not in distinct_date_list:\n",
    "        distinct_date_list.append(file_contents[index][:9])\n",
    "        print(file_contents[index][:9])\n",
    "\n",
    "#    for item in file_contents[index][:9]:\n",
    "        print(file_contents[index][10:16])\n",
    "index+= 1\n",
    "print(distinct_date_list)"
   ]
  },
  {
   "cell_type": "code",
   "execution_count": 12,
   "metadata": {},
   "outputs": [
    {
     "name": "stdout",
     "output_type": "stream",
     "text": [
      "5-20-2018 1000 15\n",
      "['5']\n",
      "5-20-2018 1015 16\n",
      "5-20-2018 1030 14\n",
      "5-20-2018 1045 -\n",
      "5-20-2018 1100 12\n",
      "5-20-2018 1115 10\n",
      "5-20-2018 1130 12\n",
      "5-20-2018 1145 18\n",
      "5-21-2018 1200 12\n",
      "5-21-2018 1215 15\n"
     ]
    }
   ],
   "source": [
    "file_contents = ['# This is a file that records', '# Entries every 15 minutes from a meter', '# Property of p36'\n",
    "                 '# Next lines are from 10-11', '5-20-2018 1000 15', '5-20-2018 1015 16', '5-20-2018 1030 14', \n",
    "                 '5-20-2018 1045 -', '# Next lines are from 11-12', '5-20-2018 1100 12', '5-20-2018 1115 10', \n",
    "                 '5-20-2018 1130 12', '5-20-2018 1145 18', '# Next lines are from 12-1', \n",
    "                 '5-21-2018 1200 12', '5-21-2018 1215 15',]\n",
    "\n",
    "# Your code here\n",
    "distinct_date_list = []\n",
    "index = 0\n",
    "\n",
    "for item in file_contents:\n",
    "    if item[0] == '#':\n",
    "        continue\n",
    "    else:\n",
    "        print(item)\n",
    "        if item[0][:9] not in distinct_date_list:\n",
    "            distinct_date_list.append(item[0][:9])\n",
    "\n",
    "            print(distinct_date_list)\n"
   ]
  },
  {
   "cell_type": "code",
   "execution_count": 14,
   "metadata": {},
   "outputs": [
    {
     "name": "stdout",
     "output_type": "stream",
     "text": [
      "\n",
      "Date:   5-20-2018\n",
      "\t 1000 \t 15\n",
      "\t 1015 \t 16\n",
      "\t 1030 \t 14\n",
      "\t 1045 \t -\n",
      "\t 1100 \t 12\n",
      "\t 1115 \t 10\n",
      "\t 1130 \t 12\n",
      "\t 1145 \t 18\n",
      "\n",
      "Date:   5-21-2018\n",
      "\t 1200 \t 12\n",
      "\t 1215 \t 15\n"
     ]
    }
   ],
   "source": [
    "### this is the course answer:\n",
    "\n",
    "file_contents = ['# This is a file that records', '# Entries every 15 minutes from a meter', '# Property of p36'\n",
    "                 '# Next lines are from 10-11', '5-20-2018 1000 15', '5-20-2018 1015 16', '5-20-2018 1030 14', \n",
    "                 '5-20-2018 1045 -', '# Next lines are from 11-12', '5-20-2018 1100 12', '5-20-2018 1115 10', \n",
    "                 '5-20-2018 1130 12', '5-20-2018 1145 18', '# Next lines are from 12-1', \n",
    "                 '5-21-2018 1200 12', '5-21-2018 1215 15']\n",
    "\n",
    "date = ''\n",
    "\n",
    "for line in file_contents:\n",
    "    \n",
    "    if line[0] == '#':\n",
    "        continue\n",
    "    \n",
    "    new_date, time, reading = line.split(' ')\n",
    "    \n",
    "    if date != new_date:\n",
    "        date = new_date\n",
    "        print('\\nDate:  ', date)\n",
    "    \n",
    "    print('\\t', time, '\\t', reading)"
   ]
  },
  {
   "cell_type": "code",
   "execution_count": null,
   "metadata": {},
   "outputs": [],
   "source": []
  },
  {
   "cell_type": "code",
   "execution_count": null,
   "metadata": {},
   "outputs": [],
   "source": []
  },
  {
   "cell_type": "markdown",
   "metadata": {},
   "source": [
    "2) Using a while loop keep adding items to a to-do list that a user inputs until the user types 'q'. At the end, print out that list."
   ]
  },
  {
   "cell_type": "markdown",
   "metadata": {},
   "source": [
    "<font size = 5, color = blue>I got this right!"
   ]
  },
  {
   "cell_type": "code",
   "execution_count": 3,
   "metadata": {},
   "outputs": [
    {
     "name": "stdin",
     "output_type": "stream",
     "text": [
      "Please enter a to-do hello\n",
      "Please enter a to-do q\n"
     ]
    },
    {
     "name": "stdout",
     "output_type": "stream",
     "text": [
      "['hello']\n"
     ]
    }
   ],
   "source": [
    "valid = True\n",
    "to_do = []\n",
    "\n",
    "while valid == True:\n",
    "  item = str(input(\"Please enter a to-do\"))\n",
    "\n",
    "  if item == 'q':\n",
    "    valid = False\n",
    "    break\n",
    "  else:\n",
    "    to_do.append(item)\n",
    "    valid = True\n",
    "\n",
    "print(to_do)"
   ]
  },
  {
   "cell_type": "code",
   "execution_count": null,
   "metadata": {},
   "outputs": [],
   "source": []
  },
  {
   "cell_type": "markdown",
   "metadata": {},
   "source": [
    "3) Using a while loop keep asking the user for a number between 1 and 5 until the user inputs a valid number."
   ]
  },
  {
   "cell_type": "markdown",
   "metadata": {},
   "source": [
    "<font size = 5, color = blue>I got this right!"
   ]
  },
  {
   "cell_type": "code",
   "execution_count": 14,
   "metadata": {},
   "outputs": [
    {
     "name": "stdin",
     "output_type": "stream",
     "text": [
      "Please enter a number between 1 & 5 2\n"
     ]
    },
    {
     "name": "stdout",
     "output_type": "stream",
     "text": [
      "perfect\n"
     ]
    },
    {
     "name": "stdin",
     "output_type": "stream",
     "text": [
      "Please enter a number between 1 & 5 2\n"
     ]
    },
    {
     "name": "stdout",
     "output_type": "stream",
     "text": [
      "perfect\n"
     ]
    },
    {
     "name": "stdin",
     "output_type": "stream",
     "text": [
      "Please enter a number between 1 & 5 1\n"
     ]
    },
    {
     "name": "stdout",
     "output_type": "stream",
     "text": [
      "This is not an integer\n"
     ]
    }
   ],
   "source": [
    "# Your code here\n",
    "\n",
    "userinput = ''\n",
    "valid = True\n",
    "\n",
    "while valid == True:\n",
    "    userinput = int(input(\"Please enter a number between 1 & 5\"))\n",
    "    \n",
    "    # if isinstance(userinput, int) == True:\n",
    "    #     print('perfect')\n",
    "    if userinput > 1 and userinput < 5:\n",
    "        \n",
    "        print('perfect')\n",
    "        valid == True\n",
    "    \n",
    "    else:\n",
    "        print(\"This is not an integer\")\n",
    "        valid == False \n",
    "        break \n",
    "                      \n"
   ]
  },
  {
   "cell_type": "markdown",
   "metadata": {},
   "source": [
    "4) Using 2 loops print out all of the numbers from 2-20 that are prime numbers."
   ]
  },
  {
   "cell_type": "markdown",
   "metadata": {},
   "source": [
    "<font size = 5, color = blue>I got this right!"
   ]
  },
  {
   "cell_type": "code",
   "execution_count": 16,
   "metadata": {},
   "outputs": [
    {
     "name": "stdout",
     "output_type": "stream",
     "text": [
      "[2, 3, 5, 7, 11, 13, 17, 19]\n"
     ]
    }
   ],
   "source": [
    "# Your code here\n",
    "\n",
    "mylist2 = []\n",
    "\n",
    "for num in range(2,20):\n",
    "    for item in range(2,num):\n",
    "#    print(num, item, num%item)\n",
    "        if num % item == 0:\n",
    "#            print(\"Not a prime\")\n",
    "            break\n",
    "    if num % item != 0:\n",
    "    #    print(num, item, num%item)\n",
    "#        print(\"Is a prime\")\n",
    "        mylist2.append(num)\n",
    "print(mylist2)"
   ]
  },
  {
   "cell_type": "markdown",
   "metadata": {},
   "source": [
    "5) Make a loop to go through a list of numbers - if that list only contains valid numbers then print valid, if the list has entries that are not numbers print out invalid and that (first) invalid entry."
   ]
  },
  {
   "cell_type": "markdown",
   "metadata": {},
   "source": [
    "<font size = 5, color = blue>I got this right!"
   ]
  },
  {
   "cell_type": "code",
   "execution_count": 29,
   "metadata": {},
   "outputs": [
    {
     "name": "stdout",
     "output_type": "stream",
     "text": [
      "-1 item is a number\n",
      "2.0 item is a number\n",
      "0 item is a number\n",
      "3 item is a number\n",
      "45 item is a number\n",
      "6 item is a number\n",
      "7 item is a number\n",
      " Item is not a number\n"
     ]
    }
   ],
   "source": [
    "# Try your code with each list!\n",
    "list1 = [1,2.0,3,4,5,7,8,9,19,0,-10]\n",
    "list2 = [-1,2.0,0,3,45,6,7,'',10,200]\n",
    "\n",
    "# Your code here\n",
    "\n",
    "valid = True\n",
    "\n",
    "for item in list2:\n",
    "    if (isinstance(item, int) == True):\n",
    "        print(item, \"item is a number\")\n",
    "    elif (isinstance(item, float) == True):\n",
    "        print(item, \"item is a number\")\n",
    "    else:\n",
    "        print(item, \"Item is not a number\")\n",
    "        break\n",
    "    \n",
    "#     if (isinstance(item, int) == False) or  (isinstance(item, float) == False) :\n",
    "#         print(item, 'is not an integer')\n",
    "#     else:\n",
    "#         print(item, 'is an integer')"
   ]
  },
  {
   "cell_type": "markdown",
   "metadata": {},
   "source": [
    "6) Make a loop to keep asking a user to guess a number between 1 & 10.  The user will have 3 guesses. If the user guesses the right number tell them they won the game.  If the user doesn't guess the right number in 3 guesses tell them they lost the game."
   ]
  },
  {
   "cell_type": "code",
   "execution_count": null,
   "metadata": {},
   "outputs": [
    {
     "name": "stdin",
     "output_type": "stream",
     "text": [
      "Please guess a number between 1 & 10 1\n",
      "Please guess a number between 1 & 10 1\n",
      "Please guess a number between 1 & 10 1\n",
      "Please guess a number between 1 & 10 2\n"
     ]
    }
   ],
   "source": [
    "# Setting the number of guesses and picking a random number as the number to guess\n",
    "import random\n",
    "guesses = 3\n",
    "number = random.randint(1,10)\n",
    "#guess = ''\n",
    "gameon = True\n",
    "counter = 0\n",
    "\n",
    "#print(number)\n",
    "\n",
    "# Your code here\n",
    "\n",
    "while gameon == True:\n",
    "    guess = int(input(\"Please guess a number between 1 & 10\"))\n",
    "    \n",
    "    if guess == number:\n",
    "        print(\"this is great\")\n",
    "        break\n",
    "    else:\n",
    "        counter +- 1\n",
    "        \n",
    "        if counter > 3:\n",
    "            print(\"game over\")\n",
    "            break \n",
    "            \n",
    "            \n",
    "#             continue\n",
    "#         else:\n",
    "#             print(\"game over\")\n",
    "#             break \n",
    "    \n"
   ]
  },
  {
   "cell_type": "code",
   "execution_count": null,
   "metadata": {},
   "outputs": [],
   "source": []
  }
 ],
 "metadata": {
  "kernelspec": {
   "display_name": "Python 3 (ipykernel)",
   "language": "python",
   "name": "python3"
  },
  "language_info": {
   "codemirror_mode": {
    "name": "ipython",
    "version": 3
   },
   "file_extension": ".py",
   "mimetype": "text/x-python",
   "name": "python",
   "nbconvert_exporter": "python",
   "pygments_lexer": "ipython3",
   "version": "3.9.12"
  }
 },
 "nbformat": 4,
 "nbformat_minor": 4
}
