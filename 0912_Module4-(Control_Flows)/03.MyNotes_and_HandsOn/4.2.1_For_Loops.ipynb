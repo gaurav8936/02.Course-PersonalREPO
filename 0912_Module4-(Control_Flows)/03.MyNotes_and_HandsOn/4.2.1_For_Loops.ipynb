{
 "cells": [
  {
   "cell_type": "markdown",
   "id": "3d6e1c45-965a-4f4e-bf9c-82ec2742dcfe",
   "metadata": {},
   "source": [
    "# FOR Loops"
   ]
  },
  {
   "cell_type": "code",
   "execution_count": 2,
   "id": "6aed20ba-0082-46b1-bb8c-b120327c7738",
   "metadata": {},
   "outputs": [
    {
     "name": "stdout",
     "output_type": "stream",
     "text": [
      "5\n",
      "4\n",
      "3\n",
      "2\n",
      "1\n",
      "Blast Off\n"
     ]
    }
   ],
   "source": [
    "countdown = 5\n",
    "\n",
    "while countdown > 0:\n",
    "    print(countdown)\n",
    "    countdown -= 1\n",
    "print('Blast Off')"
   ]
  },
  {
   "cell_type": "markdown",
   "id": "65b1e38c-471c-4679-917e-135254de147c",
   "metadata": {},
   "source": [
    "---"
   ]
  },
  {
   "cell_type": "markdown",
   "id": "3659c5df-b98b-4e73-884e-d704b16244ff",
   "metadata": {},
   "source": [
    "## FOR LOOP"
   ]
  },
  {
   "cell_type": "code",
   "execution_count": 4,
   "id": "93af736f-676e-416e-b5a0-77e1c6445c35",
   "metadata": {},
   "outputs": [
    {
     "name": "stdout",
     "output_type": "stream",
     "text": [
      "5\n",
      "4\n",
      "3\n",
      "2\n",
      "1\n",
      "Blast Off\n"
     ]
    }
   ],
   "source": [
    "countdown = 5\n",
    "\n",
    "for item in range(countdown, 0, -1):\n",
    "    print(item)\n",
    "print('Blast Off')"
   ]
  },
  {
   "cell_type": "code",
   "execution_count": 5,
   "id": "de5db1cf-fbec-46a0-8538-e13078b5d743",
   "metadata": {},
   "outputs": [],
   "source": [
    "# the FOR loop does increment/decrement counter automatically"
   ]
  },
  {
   "cell_type": "code",
   "execution_count": 6,
   "id": "ef2bf194-9704-4c21-b529-0b3817756fa5",
   "metadata": {},
   "outputs": [],
   "source": [
    "# earlier example with WHILE loop"
   ]
  },
  {
   "cell_type": "markdown",
   "id": "4b7a4015-eb82-45b6-a8fb-0f0cfb1ed88f",
   "metadata": {},
   "source": [
    "### Nested WHILE LOOP (earlier example)"
   ]
  },
  {
   "cell_type": "code",
   "execution_count": 16,
   "id": "79510957-350c-4ed5-a3a5-3356faaf0f8c",
   "metadata": {},
   "outputs": [
    {
     "name": "stdout",
     "output_type": "stream",
     "text": [
      "012345\n",
      "01234\n",
      "0123\n",
      "012\n",
      "01\n",
      "0\n"
     ]
    }
   ],
   "source": [
    "row = 5\n",
    "\n",
    "while row >= 0:\n",
    "    col = 0\n",
    "    while col <= row:\n",
    "        print(col, end = \"\")\n",
    "        col +=1\n",
    "    print(\"\")\n",
    "    row -= 1"
   ]
  },
  {
   "cell_type": "markdown",
   "id": "1eff548e-5ef4-4ae9-9042-860ff983e978",
   "metadata": {},
   "source": [
    "### Doing the same with FOR Loops"
   ]
  },
  {
   "cell_type": "code",
   "execution_count": 25,
   "id": "c648cdb5-dfbb-4e97-9611-3425d84d0ef8",
   "metadata": {},
   "outputs": [
    {
     "name": "stdout",
     "output_type": "stream",
     "text": [
      "5\n",
      "4\n",
      "3\n",
      "2\n",
      "1\n",
      "0\n"
     ]
    }
   ],
   "source": [
    "for a in range(5, -1, -1):\n",
    "    print(a)"
   ]
  },
  {
   "cell_type": "code",
   "execution_count": 24,
   "id": "5ad1977c-c1d5-44bf-9bc0-cd38f40416ad",
   "metadata": {},
   "outputs": [
    {
     "name": "stdout",
     "output_type": "stream",
     "text": [
      "0 1 2 3 4 5 \n",
      "0 1 2 3 4 \n",
      "0 1 2 3 \n",
      "0 1 2 \n",
      "0 1 \n",
      "0 \n"
     ]
    }
   ],
   "source": [
    "row = 5\n",
    "\n",
    "for a in range(row,-1, -1):\n",
    "    for b in range(a+1):\n",
    "        print(b, end = \" \")\n",
    "    print(\"\")\n",
    "    #print(a)"
   ]
  },
  {
   "cell_type": "code",
   "execution_count": 31,
   "id": "e836a4b5-dc1d-4a88-8d31-eef77419342a",
   "metadata": {},
   "outputs": [],
   "source": [
    "x = list(range(1,5,1))"
   ]
  },
  {
   "cell_type": "code",
   "execution_count": 32,
   "id": "e318e155-2f91-4df3-97e6-ee7912a8619b",
   "metadata": {},
   "outputs": [
    {
     "data": {
      "text/plain": [
       "list"
      ]
     },
     "execution_count": 32,
     "metadata": {},
     "output_type": "execute_result"
    }
   ],
   "source": [
    "type(x)"
   ]
  },
  {
   "cell_type": "code",
   "execution_count": 33,
   "id": "c7cb4785-4566-4bc3-8c55-20cf0096833e",
   "metadata": {},
   "outputs": [
    {
     "data": {
      "text/plain": [
       "[1, 2, 3, 4]"
      ]
     },
     "execution_count": 33,
     "metadata": {},
     "output_type": "execute_result"
    }
   ],
   "source": [
    "x"
   ]
  },
  {
   "cell_type": "markdown",
   "id": "ebaabc2f-ba30-4665-b827-df88490f0735",
   "metadata": {},
   "source": [
    "---"
   ]
  },
  {
   "cell_type": "markdown",
   "id": "6b6d58e2-abc1-4aae-8a23-f98f20de9079",
   "metadata": {},
   "source": [
    "### The object we put in the FOR must be a iterable\n",
    "#### includes  lists, tuples, sets, dictionaries, strings etc"
   ]
  },
  {
   "cell_type": "code",
   "execution_count": 36,
   "id": "138c53f3-da1d-44ca-ac6b-729005d2d6af",
   "metadata": {},
   "outputs": [
    {
     "name": "stdout",
     "output_type": "stream",
     "text": [
      "012345\n",
      "01234\n",
      "0123\n",
      "012\n",
      "01\n",
      "0\n"
     ]
    }
   ],
   "source": [
    "mylist = [5,4,3,2,1,0]\n",
    "\n",
    "for a in mylist:\n",
    "    for b in range(a+1):\n",
    "        print(b, end = \"\")\n",
    "    print(\"\")\n",
    "    #print(a)"
   ]
  },
  {
   "cell_type": "markdown",
   "id": "d364f1b1-2849-43a8-8c16-a2b942c426cb",
   "metadata": {},
   "source": [
    "---"
   ]
  },
  {
   "cell_type": "code",
   "execution_count": 42,
   "id": "c6926581-6cfa-4566-834f-c72ce34c7c92",
   "metadata": {},
   "outputs": [
    {
     "name": "stdout",
     "output_type": "stream",
     "text": [
      "dfdfdrr"
     ]
    }
   ],
   "source": [
    "# take a name and remove vowels\n",
    "\n",
    "#x = input('enter you name: ')\n",
    "x = 'dfdfeedeeerreeiuo'\n",
    "\n",
    "for char in x:\n",
    "    if char.lower() not in \"aeiou\":\n",
    "        \n",
    "        print(char, end = \"\")"
   ]
  },
  {
   "cell_type": "code",
   "execution_count": null,
   "id": "a979c61d-51d1-4e4d-a992-a55c396f8b1b",
   "metadata": {
    "jupyter": {
     "source_hidden": true
    },
    "tags": []
   },
   "outputs": [],
   "source": [
    "# x = 'dfdfeedeeerreeiuo'\n",
    "# vowels = 'aeiou'\n",
    "# newlist = ''\n",
    "\n",
    "# counter = 0\n",
    "\n",
    "# while counter <= len(x):\n",
    "#     if \n"
   ]
  },
  {
   "cell_type": "markdown",
   "id": "4e847786-31bd-4586-9414-2da2e4a0c897",
   "metadata": {},
   "source": [
    "---"
   ]
  },
  {
   "cell_type": "code",
   "execution_count": 45,
   "id": "1f273f36-7762-4fa0-a034-b3c6cbd06bb0",
   "metadata": {},
   "outputs": [
    {
     "name": "stdout",
     "output_type": "stream",
     "text": [
      "Paul\n",
      "Bill\n",
      "Kay\n"
     ]
    }
   ],
   "source": [
    "x = ['Paul', 'Bill', 'Kay']\n",
    "\n",
    "for name in x:\n",
    "    print(name)"
   ]
  },
  {
   "cell_type": "code",
   "execution_count": 48,
   "id": "6068655e-7ba8-45d1-88fd-9ea5a2b1152f",
   "metadata": {},
   "outputs": [
    {
     "name": "stdout",
     "output_type": "stream",
     "text": [
      "Paul, as himself\n",
      "Bill, as himself\n",
      "Kay, as himself\n"
     ]
    }
   ],
   "source": [
    "x = ['Paul', 'Bill', 'Kay']\n",
    "\n",
    "for name in x:\n",
    "    print(name + \", as himself\")"
   ]
  },
  {
   "cell_type": "markdown",
   "id": "47f2e91e-e2ef-4e44-a1d7-dd7683efc56c",
   "metadata": {},
   "source": [
    "<font size = 6, color = red>While loops are more flexible than FOR loops -- there are cases where a corresponding For loop does not exist"
   ]
  },
  {
   "cell_type": "markdown",
   "id": "40ee06b5-4bbe-49f3-ba88-8e40634bce39",
   "metadata": {},
   "source": [
    "<font size = 6, color = magenta>For every FOR loop, it is fairly easy to have a FOR loop equivalent"
   ]
  },
  {
   "cell_type": "code",
   "execution_count": null,
   "id": "0619b0a3-758f-4aec-8933-a5e42998a980",
   "metadata": {},
   "outputs": [],
   "source": []
  }
 ],
 "metadata": {
  "kernelspec": {
   "display_name": "Python 3 (ipykernel)",
   "language": "python",
   "name": "python3"
  },
  "language_info": {
   "codemirror_mode": {
    "name": "ipython",
    "version": 3
   },
   "file_extension": ".py",
   "mimetype": "text/x-python",
   "name": "python",
   "nbconvert_exporter": "python",
   "pygments_lexer": "ipython3",
   "version": "3.9.12"
  }
 },
 "nbformat": 4,
 "nbformat_minor": 5
}
