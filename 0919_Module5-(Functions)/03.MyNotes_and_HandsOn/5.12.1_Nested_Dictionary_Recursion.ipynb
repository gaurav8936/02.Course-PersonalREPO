{
 "cells": [
  {
   "cell_type": "markdown",
   "id": "624d7b82-fc45-43de-9525-3b1cb62ded50",
   "metadata": {},
   "source": [
    "# Traversing Nested Dictionaries with Recursion"
   ]
  },
  {
   "cell_type": "code",
   "execution_count": 3,
   "id": "8985e02e-2422-49fe-9ab8-841e56f0f511",
   "metadata": {},
   "outputs": [],
   "source": [
    "def factorial(n):\n",
    "    if n == 1:\n",
    "        return 1\n",
    "    else:\n",
    "        return n * factorial(n-1)"
   ]
  },
  {
   "cell_type": "code",
   "execution_count": 4,
   "id": "f4c992a1-ab84-459e-87cf-e18b63ba33f3",
   "metadata": {},
   "outputs": [
    {
     "data": {
      "text/plain": [
       "6"
      ]
     },
     "execution_count": 4,
     "metadata": {},
     "output_type": "execute_result"
    }
   ],
   "source": [
    "factorial(3)"
   ]
  },
  {
   "cell_type": "code",
   "execution_count": 5,
   "id": "69f01164-ccae-480c-8450-9a18cbc7430e",
   "metadata": {},
   "outputs": [
    {
     "data": {
      "text/plain": [
       "720"
      ]
     },
     "execution_count": 5,
     "metadata": {},
     "output_type": "execute_result"
    }
   ],
   "source": [
    "factorial(6)"
   ]
  },
  {
   "cell_type": "code",
   "execution_count": 6,
   "id": "a005363c-3087-4eae-8df7-6f44d42613b4",
   "metadata": {},
   "outputs": [
    {
     "data": {
      "text/plain": [
       "720"
      ]
     },
     "execution_count": 6,
     "metadata": {},
     "output_type": "execute_result"
    }
   ],
   "source": [
    "6 * 5 * 4 * 3 * 2"
   ]
  },
  {
   "cell_type": "markdown",
   "id": "e9778375-63e4-454d-8dde-3baae8d81255",
   "metadata": {},
   "source": [
    "---"
   ]
  },
  {
   "cell_type": "code",
   "execution_count": 7,
   "id": "ff6eb17a-1c67-420a-b0b8-9ce2ad06a0a3",
   "metadata": {},
   "outputs": [],
   "source": [
    "# it is possible to write every recursive function can be reqritten with loops"
   ]
  },
  {
   "cell_type": "markdown",
   "id": "35f2094c-85ef-48e6-bb63-b534ef1ae11f",
   "metadata": {},
   "source": [
    "# example of recursion"
   ]
  },
  {
   "cell_type": "code",
   "execution_count": 8,
   "id": "1abce4c9-9caa-42f9-8451-11410b89539b",
   "metadata": {},
   "outputs": [],
   "source": [
    "import json \n",
    "\n",
    "json_str = \"\"\"\n",
    "{\"widget\": {\n",
    "    \"debug\": \"on\",\n",
    "    \"window\": {\n",
    "        \"title\": \"Sample Konfabulator Widget\",\n",
    "        \"name\": \"main_window\",\n",
    "        \"width\": 500,\n",
    "        \"height\": 500\n",
    "    },\n",
    "    \"image\": { \n",
    "        \"src\": \"Images/Sun.png\",\n",
    "        \"name\": \"sun1\",\n",
    "        \"hOffset\": 250,\n",
    "        \"vOffset\": 250,\n",
    "        \"alignment\": \"center\"\n",
    "    },\n",
    "    \"text\": {\n",
    "        \"data\": \"Click Here\",\n",
    "        \"size\": 36,\n",
    "        \"style\": \"bold\",\n",
    "        \"name\": \"text1\",\n",
    "        \"hOffset\": 250,\n",
    "        \"vOffset\": 100,\n",
    "        \"alignment\": \"center\",\n",
    "        \"onMouseUp\": \"sun1.opacity = (sun1.opacity / 100) * 90;\"\n",
    "    }\n",
    "}}    \n",
    "\"\"\"\n",
    "\n",
    "data = json.loads(json_str)"
   ]
  },
  {
   "cell_type": "markdown",
   "id": "ff6a44e1-7615-4d1d-a78d-f1c22e2eb633",
   "metadata": {},
   "source": [
    "#### JSON -- key value pairs"
   ]
  },
  {
   "cell_type": "code",
   "execution_count": 9,
   "id": "8ff4629b-ff16-4420-889e-6f70598bd08f",
   "metadata": {},
   "outputs": [],
   "source": [
    "data = json.loads(json_str)"
   ]
  },
  {
   "cell_type": "code",
   "execution_count": 10,
   "id": "95cbcf4c-169c-467d-9719-83922b939dd8",
   "metadata": {},
   "outputs": [
    {
     "data": {
      "text/plain": [
       "dict"
      ]
     },
     "execution_count": 10,
     "metadata": {},
     "output_type": "execute_result"
    }
   ],
   "source": [
    "type(data)"
   ]
  },
  {
   "cell_type": "code",
   "execution_count": 11,
   "id": "31e4da51-e8ef-44d4-8007-6329aff59714",
   "metadata": {},
   "outputs": [
    {
     "data": {
      "text/plain": [
       "dict_keys(['widget'])"
      ]
     },
     "execution_count": 11,
     "metadata": {},
     "output_type": "execute_result"
    }
   ],
   "source": [
    "data.keys()"
   ]
  },
  {
   "cell_type": "code",
   "execution_count": 12,
   "id": "f6de211d-9ca8-4d9a-a3dc-f22650f8da75",
   "metadata": {},
   "outputs": [
    {
     "name": "stdout",
     "output_type": "stream",
     "text": [
      "dict_keys(['widget'])\n"
     ]
    }
   ],
   "source": [
    "print(data.keys())"
   ]
  },
  {
   "cell_type": "code",
   "execution_count": 13,
   "id": "0868b875-f175-4f22-9ae4-f0cf70f40bfa",
   "metadata": {},
   "outputs": [],
   "source": [
    "# at the top level, there is just one key (widget)"
   ]
  },
  {
   "cell_type": "markdown",
   "id": "c4b4194c-3fd5-4d95-9e2e-92784c9d29fd",
   "metadata": {},
   "source": [
    "---"
   ]
  },
  {
   "cell_type": "markdown",
   "id": "9095739a-547a-4aee-a8d0-0765a6d85f20",
   "metadata": {},
   "source": [
    "#### drill down further"
   ]
  },
  {
   "cell_type": "code",
   "execution_count": 16,
   "id": "8ab137dc-751c-4684-b29c-4778522b466d",
   "metadata": {},
   "outputs": [
    {
     "data": {
      "text/plain": [
       "dict"
      ]
     },
     "execution_count": 16,
     "metadata": {},
     "output_type": "execute_result"
    }
   ],
   "source": [
    "type(data['widget'])"
   ]
  },
  {
   "cell_type": "code",
   "execution_count": 17,
   "id": "111c6c52-d25b-48f3-afb0-731d6a7561ba",
   "metadata": {},
   "outputs": [
    {
     "data": {
      "text/plain": [
       "{'debug': 'on',\n",
       " 'window': {'title': 'Sample Konfabulator Widget',\n",
       "  'name': 'main_window',\n",
       "  'width': 500,\n",
       "  'height': 500},\n",
       " 'image': {'src': 'Images/Sun.png',\n",
       "  'name': 'sun1',\n",
       "  'hOffset': 250,\n",
       "  'vOffset': 250,\n",
       "  'alignment': 'center'},\n",
       " 'text': {'data': 'Click Here',\n",
       "  'size': 36,\n",
       "  'style': 'bold',\n",
       "  'name': 'text1',\n",
       "  'hOffset': 250,\n",
       "  'vOffset': 100,\n",
       "  'alignment': 'center',\n",
       "  'onMouseUp': 'sun1.opacity = (sun1.opacity / 100) * 90;'}}"
      ]
     },
     "execution_count": 17,
     "metadata": {},
     "output_type": "execute_result"
    }
   ],
   "source": [
    "data['widget']"
   ]
  },
  {
   "cell_type": "code",
   "execution_count": 18,
   "id": "737891c9-faed-4e38-b5b1-da84be57c305",
   "metadata": {},
   "outputs": [
    {
     "name": "stdout",
     "output_type": "stream",
     "text": [
      "{'debug': 'on', 'window': {'title': 'Sample Konfabulator Widget', 'name': 'main_window', 'width': 500, 'height': 500}, 'image': {'src': 'Images/Sun.png', 'name': 'sun1', 'hOffset': 250, 'vOffset': 250, 'alignment': 'center'}, 'text': {'data': 'Click Here', 'size': 36, 'style': 'bold', 'name': 'text1', 'hOffset': 250, 'vOffset': 100, 'alignment': 'center', 'onMouseUp': 'sun1.opacity = (sun1.opacity / 100) * 90;'}}\n"
     ]
    }
   ],
   "source": [
    "print(data['widget'])"
   ]
  },
  {
   "cell_type": "markdown",
   "id": "808a197b-6c6b-4df1-b0d7-28c075e0ef64",
   "metadata": {},
   "source": [
    "#### JSON is loaded as a set of nested dictionaries"
   ]
  },
  {
   "cell_type": "markdown",
   "id": "56f3c20d-e978-4123-ad41-80258197311f",
   "metadata": {},
   "source": [
    "# RECURSION need = how many layers of dictionaries are there?"
   ]
  },
  {
   "cell_type": "markdown",
   "id": "a712dddd-e0e4-4b0d-a8df-7b2ec66bb221",
   "metadata": {},
   "source": [
    "depth( data ) = 1 + max( depth(data[0]), depth( depth(data[1])....)"
   ]
  },
  {
   "cell_type": "code",
   "execution_count": 19,
   "id": "ebedaa33-88cd-473a-9e48-6003e9b1beb3",
   "metadata": {},
   "outputs": [],
   "source": [
    "# depth = 1 (is the top level)"
   ]
  },
  {
   "cell_type": "markdown",
   "id": "2534c148-ac31-4e13-ad38-b188400a2e01",
   "metadata": {},
   "source": [
    "## using FOR Loop"
   ]
  },
  {
   "cell_type": "code",
   "execution_count": 20,
   "id": "d2292b95-9cbf-426a-ad8a-83dd839cf7ff",
   "metadata": {},
   "outputs": [],
   "source": [
    "def depth(data):\n",
    "    ans = 0\n",
    "    for item in data.values():\n",
    "        ans = max(ans, depth[item])\n",
    "    return ans + 1"
   ]
  },
  {
   "cell_type": "markdown",
   "id": "da3c4f22-8fbc-4dab-ba1a-574833bf5a3b",
   "metadata": {},
   "source": [
    "## using List Comprehension"
   ]
  },
  {
   "cell_type": "code",
   "execution_count": 25,
   "id": "592f3c51-f964-4230-bfaf-418ff9361095",
   "metadata": {},
   "outputs": [],
   "source": [
    "def depth(data):\n",
    "    return 1 + max(depth(item) for item in data.values())"
   ]
  },
  {
   "cell_type": "code",
   "execution_count": 22,
   "id": "2cb5751c-b566-4fd0-a1a3-0ad4fe8adb4d",
   "metadata": {},
   "outputs": [],
   "source": [
    "# at some point the recursive loop has to stop\n",
    "\n",
    "# at the end, it becomes no longer a dictionary; say it becomes a string"
   ]
  },
  {
   "cell_type": "code",
   "execution_count": 26,
   "id": "2301c7ab-68a2-44a6-a733-6237c8450e0f",
   "metadata": {},
   "outputs": [],
   "source": [
    "# modify the above\n",
    "\n",
    "def depth(data):\n",
    "    if type(data) == dict:\n",
    "        return 1 + max(depth(item) for item in data.values())\n",
    "    else:\n",
    "        return 1"
   ]
  },
  {
   "cell_type": "code",
   "execution_count": 27,
   "id": "73f2d4d7-4568-44fc-bd95-334201deadcc",
   "metadata": {},
   "outputs": [
    {
     "data": {
      "text/plain": [
       "4"
      ]
     },
     "execution_count": 27,
     "metadata": {},
     "output_type": "execute_result"
    }
   ],
   "source": [
    "depth(data)"
   ]
  },
  {
   "cell_type": "code",
   "execution_count": null,
   "id": "ce082515-3ecc-4ab1-a949-8ad95474098d",
   "metadata": {},
   "outputs": [],
   "source": []
  }
 ],
 "metadata": {
  "kernelspec": {
   "display_name": "Python 3 (ipykernel)",
   "language": "python",
   "name": "python3"
  },
  "language_info": {
   "codemirror_mode": {
    "name": "ipython",
    "version": 3
   },
   "file_extension": ".py",
   "mimetype": "text/x-python",
   "name": "python",
   "nbconvert_exporter": "python",
   "pygments_lexer": "ipython3",
   "version": "3.9.12"
  }
 },
 "nbformat": 4,
 "nbformat_minor": 5
}
