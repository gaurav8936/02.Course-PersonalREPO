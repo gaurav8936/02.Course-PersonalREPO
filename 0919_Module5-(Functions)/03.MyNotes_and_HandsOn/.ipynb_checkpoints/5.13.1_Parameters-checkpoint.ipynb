{
 "cells": [
  {
   "cell_type": "markdown",
   "id": "34a103d3-2ea6-43fb-8899-69f58296f6b1",
   "metadata": {},
   "source": [
    "# Using Parameters"
   ]
  },
  {
   "cell_type": "code",
   "execution_count": 4,
   "id": "319c9c71-174e-484f-ae29-2cd4df747a65",
   "metadata": {},
   "outputs": [],
   "source": [
    "def feedback(grade,comment=\"\"):\n",
    "    if grade >= 90 and grade <= 100:\n",
    "        return(\"A \" + comment)\n",
    "    elif grade >=80 and grade < 90:\n",
    "        return(\"B \" + comment)\n",
    "    elif grade >= 70 and grade < 80:\n",
    "        return(\"C \" + comment)\n",
    "    elif grade >=60 and grade < 70:\n",
    "        return(\"D \" + comment)\n",
    "    else:\n",
    "        return(\"F \" + comment)"
   ]
  },
  {
   "cell_type": "code",
   "execution_count": 6,
   "id": "711bed24-0fb9-412b-b7fc-7e1bcfb9b6b9",
   "metadata": {},
   "outputs": [
    {
     "name": "stdout",
     "output_type": "stream",
     "text": [
      "A Great work!\n"
     ]
    }
   ],
   "source": [
    "print(feedback(90, 'Great work!'))"
   ]
  },
  {
   "cell_type": "code",
   "execution_count": 8,
   "id": "fe6a77b5-3b05-44dd-9ee7-f3030eb569ba",
   "metadata": {},
   "outputs": [
    {
     "name": "stdout",
     "output_type": "stream",
     "text": [
      "B \n"
     ]
    }
   ],
   "source": [
    "print(feedback(80))\n",
    "\n",
    "# don't provide the parameter"
   ]
  },
  {
   "cell_type": "code",
   "execution_count": 9,
   "id": "baa0ee49-3b98-4295-9ee2-c633ff334bdb",
   "metadata": {},
   "outputs": [
    {
     "name": "stdout",
     "output_type": "stream",
     "text": [
      "C please study more\n"
     ]
    }
   ],
   "source": [
    "print(feedback(75, \"please study more\"))"
   ]
  },
  {
   "cell_type": "code",
   "execution_count": 10,
   "id": "1a19e160-f330-48d3-a6c9-a4094b102ac0",
   "metadata": {},
   "outputs": [],
   "source": [
    "# the parameter is the default value"
   ]
  },
  {
   "cell_type": "markdown",
   "id": "5d7002f4-2527-433e-b117-5b086deee8c1",
   "metadata": {},
   "source": [
    "### None"
   ]
  },
  {
   "cell_type": "code",
   "execution_count": 11,
   "id": "2061019e-6d9f-43a3-870e-3cbd2d97f73f",
   "metadata": {},
   "outputs": [
    {
     "data": {
      "text/plain": [
       "NoneType"
      ]
     },
     "execution_count": 11,
     "metadata": {},
     "output_type": "execute_result"
    }
   ],
   "source": [
    "type(None)"
   ]
  },
  {
   "cell_type": "code",
   "execution_count": 12,
   "id": "0b1780e1-b166-4f77-9ee7-4574025a87bf",
   "metadata": {},
   "outputs": [],
   "source": [
    "# unique object"
   ]
  },
  {
   "cell_type": "code",
   "execution_count": 13,
   "id": "115e5442-953a-4fbf-88a8-5351803f24f0",
   "metadata": {},
   "outputs": [],
   "source": [
    "# modify the code"
   ]
  },
  {
   "cell_type": "code",
   "execution_count": 16,
   "id": "75fd448e-aa16-4ce8-babb-d201bd94e863",
   "metadata": {},
   "outputs": [],
   "source": [
    "# use NONE type for both parameters"
   ]
  },
  {
   "cell_type": "code",
   "execution_count": 23,
   "id": "54fbcfd0-3cf7-445a-a997-435697f5defa",
   "metadata": {},
   "outputs": [],
   "source": [
    "def feedback(grade=None,comment=None):\n",
    "    text  = \"\" if comment == None else \" - \" + comment # this is a form of comprehension\n",
    "    \n",
    "    if grade == None:\n",
    "        return(\"Grade is missing \" + text)\n",
    "    \n",
    "    elif grade >= 90 and grade <= 100:\n",
    "        return(\"A \" + text)\n",
    "    elif grade >=80 and grade < 90:\n",
    "        return(\"B \" + text)\n",
    "    elif grade >= 70 and grade < 80:\n",
    "        return(\"C \" + text)\n",
    "    elif grade >=60 and grade < 70:\n",
    "        return(\"D \" + text)\n",
    "    else:\n",
    "        return(\"F \" + text)"
   ]
  },
  {
   "cell_type": "code",
   "execution_count": 19,
   "id": "ab3b67ae-78f9-4ee3-9234-e01a766e8e0e",
   "metadata": {},
   "outputs": [
    {
     "data": {
      "text/plain": [
       "'B '"
      ]
     },
     "execution_count": 19,
     "metadata": {},
     "output_type": "execute_result"
    }
   ],
   "source": [
    "feedback(80)"
   ]
  },
  {
   "cell_type": "code",
   "execution_count": 20,
   "id": "8cee1b9f-430b-4bb1-8f95-d2bdf1fd741b",
   "metadata": {},
   "outputs": [
    {
     "data": {
      "text/plain": [
       "'A  - great'"
      ]
     },
     "execution_count": 20,
     "metadata": {},
     "output_type": "execute_result"
    }
   ],
   "source": [
    "feedback(90, 'great')"
   ]
  },
  {
   "cell_type": "code",
   "execution_count": 25,
   "id": "c4cf3775-5a04-4f94-b4e7-6fe1dbb2ffca",
   "metadata": {},
   "outputs": [
    {
     "data": {
      "text/plain": [
       "'Grade is missing '"
      ]
     },
     "execution_count": 25,
     "metadata": {},
     "output_type": "execute_result"
    }
   ],
   "source": [
    "feedback()"
   ]
  },
  {
   "cell_type": "code",
   "execution_count": 26,
   "id": "4391cdb2-819d-488c-a57d-f37cb3f2039c",
   "metadata": {},
   "outputs": [],
   "source": [
    "# default parameter value is set only once"
   ]
  },
  {
   "cell_type": "markdown",
   "id": "bb95ec8f-9be9-49a2-b5f8-f496659ea5b0",
   "metadata": {},
   "source": [
    "---"
   ]
  },
  {
   "cell_type": "code",
   "execution_count": 29,
   "id": "6538dc43-0f1c-484e-b720-f0ac231bc711",
   "metadata": {},
   "outputs": [],
   "source": [
    "def add_total(order_list = []):\n",
    "    total = sum((quantity for name, quantity in order_list))\n",
    "    order_list.append((\"Total\", total))\n",
    "    print(order_list)"
   ]
  },
  {
   "cell_type": "code",
   "execution_count": 31,
   "id": "03418103-92a4-42e9-8b17-2c8e805271f4",
   "metadata": {},
   "outputs": [],
   "source": [
    "order_list = [(\"Bob\", 8), (\"Terry\", 4), (\"Pat\", 9)]\n",
    "\n",
    "# this is a list of tuples"
   ]
  },
  {
   "cell_type": "code",
   "execution_count": 30,
   "id": "3cc25c60-1c0e-4f5d-9caf-981d76583b33",
   "metadata": {},
   "outputs": [
    {
     "name": "stdout",
     "output_type": "stream",
     "text": [
      "[('Bob', 8), ('Terry', 4), ('Pat', 9), ('Total', 21)]\n"
     ]
    }
   ],
   "source": [
    "add_total(order_list)"
   ]
  },
  {
   "cell_type": "markdown",
   "id": "c64d15ec-46ef-4f5c-aeab-123a4e451358",
   "metadata": {},
   "source": [
    "---"
   ]
  },
  {
   "cell_type": "code",
   "execution_count": 32,
   "id": "a20c54ff-f054-44dd-ba29-18294d941805",
   "metadata": {},
   "outputs": [
    {
     "name": "stdout",
     "output_type": "stream",
     "text": [
      "[('Total', 0)]\n"
     ]
    }
   ],
   "source": [
    "add_total()"
   ]
  },
  {
   "cell_type": "code",
   "execution_count": 33,
   "id": "166c1644-4064-4625-a1a9-b44b11ff0668",
   "metadata": {},
   "outputs": [
    {
     "name": "stdout",
     "output_type": "stream",
     "text": [
      "[('Total', 0), ('Total', 0)]\n"
     ]
    }
   ],
   "source": [
    "add_total()"
   ]
  },
  {
   "cell_type": "code",
   "execution_count": 34,
   "id": "e65121a5-7d99-4370-a219-6fee3cf07da8",
   "metadata": {},
   "outputs": [
    {
     "name": "stdout",
     "output_type": "stream",
     "text": [
      "[('Total', 0), ('Total', 0), ('Total', 0)]\n"
     ]
    }
   ],
   "source": [
    "add_total()"
   ]
  },
  {
   "cell_type": "markdown",
   "id": "028cfa7f-3636-4a58-9748-c39aaf8fd270",
   "metadata": {},
   "source": [
    "<font size = 4, color = red>The default object is not reset every time the function is called. Hence, the repetition"
   ]
  },
  {
   "cell_type": "code",
   "execution_count": 35,
   "id": "d9c405c1-c7b8-480a-a427-cfd9d3fb4083",
   "metadata": {},
   "outputs": [],
   "source": [
    "# default values are seen as permanent aspects of the function"
   ]
  },
  {
   "cell_type": "markdown",
   "id": "3a99d061-56fc-4ea1-ad2b-bc03a951bd8e",
   "metadata": {},
   "source": [
    "---"
   ]
  },
  {
   "cell_type": "code",
   "execution_count": 36,
   "id": "5e0ea268-174e-4ec2-bf1c-6f75366e84be",
   "metadata": {},
   "outputs": [
    {
     "name": "stdout",
     "output_type": "stream",
     "text": [
      "A  - Keep it up!\n"
     ]
    }
   ],
   "source": [
    "print(feedback(90, comment = \"Keep it up!\"))"
   ]
  },
  {
   "cell_type": "markdown",
   "id": "45dc8f26-a391-4c73-bdd6-10500c42781f",
   "metadata": {},
   "source": [
    "## Order of parameters does NOT MATTER"
   ]
  },
  {
   "cell_type": "code",
   "execution_count": 38,
   "id": "ca885c5f-a47d-4744-827c-4b1cdded2535",
   "metadata": {},
   "outputs": [
    {
     "name": "stdout",
     "output_type": "stream",
     "text": [
      "B  - Not Bad\n"
     ]
    }
   ],
   "source": [
    "print(feedback(comment = \"Not Bad\", grade = 88))"
   ]
  },
  {
   "cell_type": "markdown",
   "id": "0554a1aa-52f4-428b-add9-8da689fe7a6e",
   "metadata": {},
   "source": [
    "---"
   ]
  },
  {
   "cell_type": "code",
   "execution_count": 37,
   "id": "186157ea-38d4-475b-9606-23bababeaa23",
   "metadata": {},
   "outputs": [
    {
     "name": "stdout",
     "output_type": "stream",
     "text": [
      "Grade is missing  - Not Bad\n"
     ]
    }
   ],
   "source": [
    "print(feedback(comment = \"Not Bad\"))"
   ]
  },
  {
   "cell_type": "markdown",
   "id": "ae80174d-1109-4938-af3f-0c13f6473355",
   "metadata": {},
   "source": [
    "---"
   ]
  },
  {
   "cell_type": "markdown",
   "id": "6f0a904b-31c4-46f3-9a8f-3e6438d55649",
   "metadata": {},
   "source": [
    "## Using Keyword Arguments"
   ]
  },
  {
   "cell_type": "code",
   "execution_count": 41,
   "id": "fbabdd7c-c216-448d-a05e-6913bdffdff5",
   "metadata": {},
   "outputs": [
    {
     "name": "stdout",
     "output_type": "stream",
     "text": [
      "Default\n",
      "print\n",
      "behavior\n",
      "Modified print behavior."
     ]
    }
   ],
   "source": [
    "print(\"Default\")\n",
    "print(\"print\")\n",
    "print(\"behavior\")\n",
    "\n",
    "print(\"Modified\", end = \" \")\n",
    "print(\"print\", end = \" \")\n",
    "print(\"behavior\", end = \".\")"
   ]
  },
  {
   "cell_type": "code",
   "execution_count": null,
   "id": "ce515ace-1bcc-4ee1-83b3-f9fca4dbdbc3",
   "metadata": {},
   "outputs": [],
   "source": []
  }
 ],
 "metadata": {
  "kernelspec": {
   "display_name": "Python 3 (ipykernel)",
   "language": "python",
   "name": "python3"
  },
  "language_info": {
   "codemirror_mode": {
    "name": "ipython",
    "version": 3
   },
   "file_extension": ".py",
   "mimetype": "text/x-python",
   "name": "python",
   "nbconvert_exporter": "python",
   "pygments_lexer": "ipython3",
   "version": "3.7.13"
  }
 },
 "nbformat": 4,
 "nbformat_minor": 5
}
