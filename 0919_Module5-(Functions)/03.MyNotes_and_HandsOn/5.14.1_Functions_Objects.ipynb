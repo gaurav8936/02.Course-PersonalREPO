{
 "cells": [
  {
   "cell_type": "markdown",
   "id": "a2a32afb-86f3-4b90-baea-fd45ad830487",
   "metadata": {},
   "source": [
    "# Functions are Objects"
   ]
  },
  {
   "cell_type": "code",
   "execution_count": 11,
   "id": "8959392f-7d48-400f-b6fd-de70967d80ae",
   "metadata": {},
   "outputs": [],
   "source": [
    "def round10(x):\n",
    "    return((x + 5) // 10) * 10"
   ]
  },
  {
   "cell_type": "code",
   "execution_count": 6,
   "id": "3350295a-e75d-4eb9-926d-558a38f5cd27",
   "metadata": {},
   "outputs": [
    {
     "data": {
      "text/plain": [
       "function"
      ]
     },
     "execution_count": 6,
     "metadata": {},
     "output_type": "execute_result"
    }
   ],
   "source": [
    "type(round10)"
   ]
  },
  {
   "cell_type": "code",
   "execution_count": 10,
   "id": "e27681bb-566c-4745-a682-dad9bb1a878d",
   "metadata": {},
   "outputs": [
    {
     "data": {
      "text/plain": [
       "10"
      ]
     },
     "execution_count": 10,
     "metadata": {},
     "output_type": "execute_result"
    }
   ],
   "source": [
    "(15//10) * 10"
   ]
  },
  {
   "cell_type": "markdown",
   "id": "eadfed77-ff6e-43bd-a837-f625e368639f",
   "metadata": {},
   "source": [
    "### Assing the function to a variable (a)"
   ]
  },
  {
   "cell_type": "code",
   "execution_count": 7,
   "id": "59b62977-071a-4e74-b6b5-702be60c3556",
   "metadata": {},
   "outputs": [],
   "source": [
    "a = round10"
   ]
  },
  {
   "cell_type": "code",
   "execution_count": 12,
   "id": "99524c49-ced1-4b14-9365-afd199982536",
   "metadata": {},
   "outputs": [
    {
     "data": {
      "text/plain": [
       "10"
      ]
     },
     "execution_count": 12,
     "metadata": {},
     "output_type": "execute_result"
    }
   ],
   "source": [
    "a(12)"
   ]
  },
  {
   "cell_type": "markdown",
   "id": "bf5c358f-d198-447d-b009-c753bc47474b",
   "metadata": {},
   "source": [
    "---"
   ]
  },
  {
   "cell_type": "markdown",
   "id": "1bf005d0-c2f3-4d19-a140-73e039c5e5af",
   "metadata": {},
   "source": [
    "### Pass another function as a parameter"
   ]
  },
  {
   "cell_type": "markdown",
   "id": "9d797935-130c-4255-94f7-39ce9d536e41",
   "metadata": {},
   "source": [
    "##### In this case, operation is the parameter (which will come from round10)"
   ]
  },
  {
   "cell_type": "code",
   "execution_count": 13,
   "id": "6ddf32b2-775c-4997-953b-548c45013378",
   "metadata": {},
   "outputs": [],
   "source": [
    "def apply_to_grades(operation, grade_list):\n",
    "    \n",
    "    return [(name, operation(grade)) for name, grade in grade_list]"
   ]
  },
  {
   "cell_type": "code",
   "execution_count": 14,
   "id": "fcb0b778-a463-456e-8d68-ce3148545c36",
   "metadata": {},
   "outputs": [],
   "source": [
    "grade_list = [('betty', 34), ('terry', 78), (\"sandy\", 90)]"
   ]
  },
  {
   "cell_type": "code",
   "execution_count": 15,
   "id": "d1410d11-b4a6-4915-912c-c501ab547b32",
   "metadata": {},
   "outputs": [
    {
     "name": "stdout",
     "output_type": "stream",
     "text": [
      "[('betty', 30), ('terry', 80), ('sandy', 90)]\n"
     ]
    }
   ],
   "source": [
    "print(apply_to_grades(round10, grade_list))"
   ]
  },
  {
   "cell_type": "markdown",
   "id": "3e1f9d89-dba9-4e85-843b-a715cbb18038",
   "metadata": {},
   "source": [
    "### This is what the MAP operator does"
   ]
  },
  {
   "cell_type": "code",
   "execution_count": 16,
   "id": "2659ece9-14f9-4b28-9d4b-01caa264b829",
   "metadata": {},
   "outputs": [
    {
     "data": {
      "text/plain": [
       "[20, 50, 40, 70]"
      ]
     },
     "execution_count": 16,
     "metadata": {},
     "output_type": "execute_result"
    }
   ],
   "source": [
    "list(map(round10, (23,45,42,66)))"
   ]
  },
  {
   "cell_type": "code",
   "execution_count": 17,
   "id": "b237de5f-8b4b-4d7b-adaa-1b5a413feffb",
   "metadata": {},
   "outputs": [],
   "source": [
    "# map applies the function (round10) to the tuple of numbers"
   ]
  },
  {
   "cell_type": "code",
   "execution_count": 18,
   "id": "0cb02214-7629-4f3e-8f21-03cba8bad646",
   "metadata": {},
   "outputs": [
    {
     "data": {
      "text/plain": [
       "[20, 50, 40, 70]"
      ]
     },
     "execution_count": 18,
     "metadata": {},
     "output_type": "execute_result"
    }
   ],
   "source": [
    "list(map(round10, [23,45,42,66]))"
   ]
  },
  {
   "cell_type": "markdown",
   "id": "7be90c67-41e9-4606-b226-3582f9cfeffd",
   "metadata": {},
   "source": []
  },
  {
   "cell_type": "markdown",
   "id": "4b90d4dd-1240-4b54-abac-70637122409d",
   "metadata": {},
   "source": [
    "---"
   ]
  },
  {
   "cell_type": "markdown",
   "id": "c417f9c6-ad54-4f2f-8b03-47817378a9af",
   "metadata": {},
   "source": [
    "# Lambda"
   ]
  },
  {
   "cell_type": "markdown",
   "id": "0036359b-f343-41a2-b7ac-3913048a718d",
   "metadata": {},
   "source": [
    "### anonymous functions"
   ]
  },
  {
   "cell_type": "code",
   "execution_count": 20,
   "id": "95f9dc1e-80aa-42c7-8e15-468592c52f87",
   "metadata": {},
   "outputs": [
    {
     "data": {
      "text/plain": [
       "<function __main__.<lambda>(x)>"
      ]
     },
     "execution_count": 20,
     "metadata": {},
     "output_type": "execute_result"
    }
   ],
   "source": [
    "lambda x : 100 - (100-x)/2"
   ]
  },
  {
   "cell_type": "code",
   "execution_count": 21,
   "id": "c1c3c240-0f7f-4b50-a23e-720fffcea157",
   "metadata": {},
   "outputs": [],
   "source": [
    "# lambda can have several parameters"
   ]
  },
  {
   "cell_type": "markdown",
   "id": "d25361aa-3932-493c-863c-078e44285f74",
   "metadata": {},
   "source": [
    "---"
   ]
  },
  {
   "cell_type": "markdown",
   "id": "a701b04f-d06d-42b5-add5-3828e50d3e6f",
   "metadata": {},
   "source": [
    "## apply lambda to grades"
   ]
  },
  {
   "cell_type": "code",
   "execution_count": 24,
   "id": "70e8c46b-378f-4a55-831e-39c5deb9f20c",
   "metadata": {},
   "outputs": [
    {
     "data": {
      "text/plain": [
       "[('betty', 33.0), ('terry', 11.0), ('sandy', 5.0)]"
      ]
     },
     "execution_count": 24,
     "metadata": {},
     "output_type": "execute_result"
    }
   ],
   "source": [
    "apply_to_grades(lambda x : (100-x)/2, grade_list)"
   ]
  },
  {
   "cell_type": "code",
   "execution_count": 25,
   "id": "b0a5baa1-c382-449e-843d-fa3cb6a1d806",
   "metadata": {},
   "outputs": [],
   "source": [
    "# this has applied the lambda function to teh grade_list"
   ]
  },
  {
   "cell_type": "markdown",
   "id": "b9a7ac8d-1b29-4076-a89e-215604ffd4b0",
   "metadata": {},
   "source": [
    "---"
   ]
  },
  {
   "cell_type": "markdown",
   "id": "1035ac2a-8f1d-4c54-9936-9c9caf385ec0",
   "metadata": {},
   "source": [
    "# Square numbers in list"
   ]
  },
  {
   "cell_type": "code",
   "execution_count": 29,
   "id": "99368939-757b-4888-98cc-c14896582203",
   "metadata": {},
   "outputs": [
    {
     "data": {
      "text/plain": [
       "[484, 1156, 3025, 529]"
      ]
     },
     "execution_count": 29,
     "metadata": {},
     "output_type": "execute_result"
    }
   ],
   "source": [
    "list(map(lambda x: x**2, [22,34,55,23]))"
   ]
  },
  {
   "cell_type": "code",
   "execution_count": null,
   "id": "dc732a37-93c7-41ed-824a-dc70b4d230f1",
   "metadata": {},
   "outputs": [],
   "source": []
  }
 ],
 "metadata": {
  "kernelspec": {
   "display_name": "Python 3 (ipykernel)",
   "language": "python",
   "name": "python3"
  },
  "language_info": {
   "codemirror_mode": {
    "name": "ipython",
    "version": 3
   },
   "file_extension": ".py",
   "mimetype": "text/x-python",
   "name": "python",
   "nbconvert_exporter": "python",
   "pygments_lexer": "ipython3",
   "version": "3.9.12"
  }
 },
 "nbformat": 4,
 "nbformat_minor": 5
}
