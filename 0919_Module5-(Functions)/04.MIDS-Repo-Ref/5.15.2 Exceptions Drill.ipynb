{
 "cells": [
  {
   "cell_type": "markdown",
   "metadata": {},
   "source": [
    "## Exceptions\n",
    "\n",
    "This drill has multiple parts to help you practice exceptions.  Sample answers are in a separate folder with an explanation (there might be multiple ways to solve a problem though!) "
   ]
  },
  {
   "cell_type": "markdown",
   "metadata": {},
   "source": [
    "1) Use a \"try\" / \"except\" block to prevent the below code from breaking. Do not modify \"my_list\"."
   ]
  },
  {
   "cell_type": "code",
   "execution_count": 1,
   "metadata": {},
   "outputs": [
    {
     "name": "stdout",
     "output_type": "stream",
     "text": [
      "2\n",
      "4\n",
      "6\n",
      "8\n",
      "appleapple\n",
      "['sub', 'list', 'sub', 'list']\n"
     ]
    },
    {
     "ename": "TypeError",
     "evalue": "unsupported operand type(s) for *: 'dict' and 'int'",
     "output_type": "error",
     "traceback": [
      "\u001b[1;31m---------------------------------------------------------------------------\u001b[0m",
      "\u001b[1;31mTypeError\u001b[0m                                 Traceback (most recent call last)",
      "\u001b[1;32m<ipython-input-1-c326c02f1dfa>\u001b[0m in \u001b[0;36m<module>\u001b[1;34m\u001b[0m\n\u001b[0;32m      2\u001b[0m \u001b[1;33m\u001b[0m\u001b[0m\n\u001b[0;32m      3\u001b[0m \u001b[1;32mfor\u001b[0m \u001b[0mitem\u001b[0m \u001b[1;32min\u001b[0m \u001b[0mmy_list\u001b[0m\u001b[1;33m:\u001b[0m\u001b[1;33m\u001b[0m\u001b[1;33m\u001b[0m\u001b[0m\n\u001b[1;32m----> 4\u001b[1;33m     \u001b[0mitem\u001b[0m \u001b[1;33m=\u001b[0m \u001b[0mitem\u001b[0m \u001b[1;33m*\u001b[0m \u001b[1;36m2\u001b[0m\u001b[1;33m\u001b[0m\u001b[1;33m\u001b[0m\u001b[0m\n\u001b[0m\u001b[0;32m      5\u001b[0m     \u001b[0mprint\u001b[0m\u001b[1;33m(\u001b[0m\u001b[0mitem\u001b[0m\u001b[1;33m)\u001b[0m\u001b[1;33m\u001b[0m\u001b[1;33m\u001b[0m\u001b[0m\n",
      "\u001b[1;31mTypeError\u001b[0m: unsupported operand type(s) for *: 'dict' and 'int'"
     ]
    }
   ],
   "source": [
    "my_list = [1, 2, 3, 4, \"apple\", ['sub','list'], {'dictionary':'too', 'why':'whynot?'}, 3, 4]\n",
    "\n",
    "for item in my_list:\n",
    "    item = item * 2\n",
    "    print(item)"
   ]
  },
  {
   "cell_type": "code",
   "execution_count": null,
   "metadata": {},
   "outputs": [],
   "source": []
  },
  {
   "cell_type": "markdown",
   "metadata": {},
   "source": [
    "---"
   ]
  },
  {
   "cell_type": "code",
   "execution_count": 2,
   "metadata": {},
   "outputs": [
    {
     "name": "stdout",
     "output_type": "stream",
     "text": [
      "2\n",
      "4\n",
      "6\n",
      "8\n",
      "appleapple\n",
      "['sub', 'list', 'sub', 'list']\n",
      "Wrong Type!\n"
     ]
    }
   ],
   "source": [
    "my_list = [1, 2, 3, 4, \"apple\", ['sub','list'], {'dictionary':'too', 'why':'whynot?'}, 3, 4]\n",
    "\n",
    "try:\n",
    "\n",
    "    for item in my_list:\n",
    "        item = item * 2\n",
    "        print(item)\n",
    "\n",
    "except TypeError:\n",
    "    print(\"Wrong Type!\")"
   ]
  },
  {
   "cell_type": "code",
   "execution_count": null,
   "metadata": {},
   "outputs": [],
   "source": []
  },
  {
   "cell_type": "markdown",
   "metadata": {},
   "source": [
    "---"
   ]
  },
  {
   "cell_type": "markdown",
   "metadata": {},
   "source": [
    "2) Update your solution to add a message to tell the user what kind of error happened. Use the \"except Exception as e:\" framework."
   ]
  },
  {
   "cell_type": "code",
   "execution_count": null,
   "metadata": {},
   "outputs": [],
   "source": [
    "# Your code here"
   ]
  },
  {
   "cell_type": "markdown",
   "metadata": {},
   "source": [
    "---"
   ]
  },
  {
   "cell_type": "code",
   "execution_count": 4,
   "metadata": {},
   "outputs": [
    {
     "name": "stdout",
     "output_type": "stream",
     "text": [
      "2\n",
      "4\n",
      "6\n",
      "8\n",
      "appleapple\n",
      "['sub', 'list', 'sub', 'list']\n",
      "Error - Wrong Type! unsupported operand type(s) for *: 'dict' and 'int'\n"
     ]
    }
   ],
   "source": [
    "my_list = [1, 2, 3, 4, \"apple\", ['sub','list'], {'dictionary':'too', 'why':'whynot?'}, 3, 4]\n",
    "\n",
    "try:\n",
    "\n",
    "    for item in my_list:\n",
    "        item = item * 2\n",
    "        print(item)\n",
    "\n",
    "except Exception as e:\n",
    "    print(\"Error - Wrong Type!\", str(e))"
   ]
  },
  {
   "cell_type": "markdown",
   "metadata": {},
   "source": [
    "---"
   ]
  },
  {
   "cell_type": "markdown",
   "metadata": {},
   "source": [
    "3) Let's try an example more similar to the real-world! Pretend that below we have a list that contains the output from some code that scrapes websites. The code returns a valid HTML string, an invalid pull, or a text string with a 404 error code.  \n",
    "\n",
    "Write code that loops through each site and uses the \"replace\" function to clean up  tags '\\<html\\>' and '\\</html\\>'.  When your code encounters a \"404\" error, instead print \"WARNING: Encountered 404 Error\".  Use try/except to protect against invalid data when running your \".replace\" function.  Have this exception print \"ERROR: Invalid data returned\"."
   ]
  },
  {
   "cell_type": "code",
   "execution_count": null,
   "metadata": {},
   "outputs": [],
   "source": [
    "websites = [\"<html> Stuff! </html>\",\"<html> Other Stuff! </html>\",\n",
    "            \"404 Error - Page Not Found\",\"<html> Valid Stuff! </html>\",1231,\n",
    "            \"<html> Stuff! </html>\",\"<html> Valid Stuff! </html>\"]"
   ]
  },
  {
   "cell_type": "code",
   "execution_count": null,
   "metadata": {},
   "outputs": [],
   "source": [
    "# Your code here\n",
    "\n",
    "websites = [\"<html> Stuff! </html>\",\"<html> Other Stuff! </html>\",\n",
    "            \"404 Error - Page Not Found\",\"<html> Valid Stuff! </html>\",1231,\n",
    "            \"<html> Stuff! </html>\",\"<html> Valid Stuff! </html>\"]\n",
    "\n",
    "\n",
    "valid_string(websites):\n",
    "    \n",
    "    for item in websites:\n",
    "        "
   ]
  },
  {
   "cell_type": "code",
   "execution_count": 16,
   "metadata": {},
   "outputs": [
    {
     "name": "stdout",
     "output_type": "stream",
     "text": [
      "Wrong type\n",
      "[]\n"
     ]
    }
   ],
   "source": [
    "websites = [\"<html> Stuff! </html>\",\"<html> Other Stuff! </html>\",\n",
    "            \"404 Error - Page Not Found\",\"<html> Valid Stuff! </html>\",1231,\n",
    "            \"<html> Stuff! </html>\",\"<html> Valid Stuff! </html>\"]\n",
    "\n",
    "websites2 = []\n",
    "\n",
    "try:\n",
    "    websites2 = [index.replace(\"<html>\", \"\") for index in websites ]\n",
    "except AttributeError:\n",
    "    print(\"Wrong type\")\n",
    "except Exception as e:\n",
    "    print(\"Error - Wrong Type!\", str(e))\n",
    "        \n",
    "\n",
    "\n",
    "\n",
    "print(websites2)"
   ]
  },
  {
   "cell_type": "code",
   "execution_count": 28,
   "metadata": {},
   "outputs": [
    {
     "ename": "SyntaxError",
     "evalue": "invalid syntax (3233762932.py, line 12)",
     "output_type": "error",
     "traceback": [
      "\u001b[0;36m  Input \u001b[0;32mIn [28]\u001b[0;36m\u001b[0m\n\u001b[0;31m    websites2.append(item2)\u001b[0m\n\u001b[0m    ^\u001b[0m\n\u001b[0;31mSyntaxError\u001b[0m\u001b[0;31m:\u001b[0m invalid syntax\n"
     ]
    }
   ],
   "source": [
    "websites = [\"<html> Stuff! </html>\",\"<html> Other Stuff! </html>\",\n",
    "            \"404 Error - Page Not Found\",\"<html> Valid Stuff! </html>\",1231,\n",
    "            \"<html> Stuff! </html>\",\"<html> Valid Stuff! </html>\"]\n",
    "item2 = \"\"\n",
    "websites2 = []\n",
    "\n",
    "try:\n",
    "    for item in websites:\n",
    "        #item2 = item.replace(\"<html>\", \"\") #or item2 = item.replace(\"</html>\", \"\") \n",
    "        item2 = ((item.replace(\"<html>\", \"\"), item.replace(\"</html>\", \"\")) \n",
    "        #item2 in ()\n",
    "        websites2.append(item2)\n",
    "    #websites2 = [index.replace(\"<html>\", \"\") for index in websites ]\n",
    "except AttributeError:\n",
    "    print(\"Wrong type - Item is a number\")\n",
    "except Exception as e:\n",
    "    print(\"Error - Wrong Type!\", str(e))\n",
    "        \n",
    "\n",
    "\n",
    "\n",
    "print(websites2)"
   ]
  },
  {
   "cell_type": "code",
   "execution_count": 31,
   "metadata": {},
   "outputs": [
    {
     "name": "stdout",
     "output_type": "stream",
     "text": [
      "Error - Wrong Type! argument of type 'int' is not iterable\n",
      "['<html> Stuff! </html>', '<html> Other Stuff! </html>', '404 Error - Page Not Found', '<html> Valid Stuff! </html>']\n"
     ]
    }
   ],
   "source": [
    "websites = [\"<html> Stuff! </html>\",\"<html> Other Stuff! </html>\",\n",
    "            \"404 Error - Page Not Found\",\"<html> Valid Stuff! </html>\",1231,\n",
    "            \"<html> Stuff! </html>\",\"<html> Valid Stuff! </html>\"]\n",
    "item2 = \"\"\n",
    "websites2 = []\n",
    "\n",
    "try:\n",
    "    for item in websites:\n",
    "        \n",
    "        if \"<html>\" in item:\n",
    "            item.replace(\"<html>\", \"\")\n",
    "        elif \"</html>\" in item:\n",
    "            item.replace(\"<html>\", \"\")\n",
    "        # #item2 = item.replace(\"<html>\", \"\") #or item2 = item.replace(\"</html>\", \"\") \n",
    "        # item2 = ((item.replace(\"<html>\", \"\"), item.replace(\"</html>\", \"\")) \n",
    "        # #item2 in ()\n",
    "        websites2.append(item)\n",
    "    #websites2 = [index.replace(\"<html>\", \"\") for index in websites ]\n",
    "except AttributeError:\n",
    "    print(\"Wrong type - Item is a number\")\n",
    "except Exception as e:\n",
    "    print(\"Error - Wrong Type!\", str(e))\n",
    "        \n",
    "\n",
    "\n",
    "\n",
    "print(websites2)"
   ]
  },
  {
   "cell_type": "code",
   "execution_count": null,
   "metadata": {},
   "outputs": [],
   "source": [
    "\n"
   ]
  },
  {
   "cell_type": "code",
   "execution_count": null,
   "metadata": {},
   "outputs": [],
   "source": []
  },
  {
   "cell_type": "code",
   "execution_count": 33,
   "metadata": {},
   "outputs": [
    {
     "name": "stdout",
     "output_type": "stream",
     "text": [
      "Error - Wrong Type! 'int' object is not iterable\n",
      "['<html> Stuff! </html>', '<html> Other Stuff! </html>', '404 Error - Page Not Found', '<html> Valid Stuff! </html>']\n"
     ]
    }
   ],
   "source": [
    "websites = [\"<html> Stuff! </html>\",\"<html> Other Stuff! </html>\",\n",
    "            \"404 Error - Page Not Found\",\"<html> Valid Stuff! </html>\",1231,\n",
    "            \"<html> Stuff! </html>\",\"<html> Valid Stuff! </html>\"]\n",
    "item2 = \"\"\n",
    "websites2 = []\n",
    "\n",
    "try:\n",
    "    for item in websites:\n",
    "        \n",
    "        \"\".join(c for c in item if c not in '<html')\n",
    "        \n",
    "        # if \"<html>\" in item:\n",
    "        #     item.replace(\"<html>\", \"\")\n",
    "        # elif \"</html>\" in item:\n",
    "        #     item.replace(\"<html>\", \"\")\n",
    "        # #item2 = item.replace(\"<html>\", \"\") #or item2 = item.replace(\"</html>\", \"\") \n",
    "        # item2 = ((item.replace(\"<html>\", \"\"), item.replace(\"</html>\", \"\")) \n",
    "        # #item2 in ()\n",
    "        websites2.append(item)\n",
    "    #websites2 = [index.replace(\"<html>\", \"\") for index in websites ]\n",
    "except AttributeError:\n",
    "    print(\"Wrong type - Item is a number\")\n",
    "except Exception as e:\n",
    "    print(\"Error - Wrong Type!\", str(e))\n",
    "        \n",
    "\n",
    "\n",
    "\n",
    "print(websites2)"
   ]
  },
  {
   "cell_type": "markdown",
   "metadata": {},
   "source": [
    "---"
   ]
  },
  {
   "cell_type": "markdown",
   "metadata": {},
   "source": [
    "# This works"
   ]
  },
  {
   "cell_type": "code",
   "execution_count": 45,
   "metadata": {},
   "outputs": [
    {
     "name": "stdout",
     "output_type": "stream",
     "text": [
      "Wrong type - Item is a number\n",
      "['> Stuff!', '> Other Stuff!', '404 Error - Page Not Found', '> Valid Stuff!', '> Stuff!', '> Valid Stuff!']\n"
     ]
    }
   ],
   "source": [
    "websites = [\"<html> Stuff! </html>\",\"<html> Other Stuff! </html>\",\n",
    "            \"404 Error - Page Not Found\",\"<html> Valid Stuff! </html>\",1231,\n",
    "            \"<html> Stuff! </html>\",\"<html> Valid Stuff! </html>\"]\n",
    "item2 = \"\"\n",
    "websites2 = []\n",
    "\n",
    "for item in websites:\n",
    "    try:\n",
    "        item = item.replace(\"<html\", \"\").replace(\"</html>\", \"\").strip()\n",
    "    \n",
    "        websites2.append(item)\n",
    "    except AttributeError:\n",
    "        print(\"Wrong type - Item is a number\")\n",
    "    except Exception as e:\n",
    "        print(\"Error - Wrong Type!\", str(e))\n",
    "    \n",
    "print(websites2)    "
   ]
  },
  {
   "cell_type": "code",
   "execution_count": null,
   "metadata": {},
   "outputs": [],
   "source": [
    "websites = [\"<html> Stuff! </html>\",\"<html> Other Stuff! </html>\",\n",
    "            \"404 Error - Page Not Found\",\"<html> Valid Stuff! </html>\",1231,\n",
    "            \"<html> Stuff! </html>\",\"<html> Valid Stuff! </html>\"]\n",
    "item2 = \"\"\n",
    "websites2 = []\n",
    "\n",
    "for item in websites:\n",
    "    try:\n",
    "        item = item.replace(\"<html\", \"\").replace(\"</html>\", \"\").strip()\n",
    "    \n",
    "        websites2.append(item)\n",
    "    except AttributeError:\n",
    "        print(\"Wrong type - Item is a number\")\n",
    "    except Exception as e:\n",
    "        print(\"Error - Wrong Type!\", str(e))\n",
    "    \n",
    "print(websites2) "
   ]
  },
  {
   "cell_type": "code",
   "execution_count": null,
   "metadata": {},
   "outputs": [],
   "source": []
  },
  {
   "cell_type": "code",
   "execution_count": null,
   "metadata": {},
   "outputs": [],
   "source": [
    "# this does not work"
   ]
  },
  {
   "cell_type": "code",
   "execution_count": 47,
   "metadata": {},
   "outputs": [
    {
     "name": "stdout",
     "output_type": "stream",
     "text": [
      "['']\n"
     ]
    }
   ],
   "source": [
    "websites = [\"<html> Stuff! </html>\",\"<html> Other Stuff! </html>\",\n",
    "            \"404 Error - Page Not Found\",\"<html> Valid Stuff! </html>\",1231,\n",
    "            \"<html> Stuff! </html>\",\"<html> Valid Stuff! </html>\"]\n",
    "\n",
    "websites2 = []\n",
    "substitutions = ['<html>', '</html>']\n",
    "\n",
    "try:\n",
    "    for n in substitutions:\n",
    "        item = item.replace(n, '')\n",
    "except AttributeError:\n",
    "    print(\"Wrong type - Item is a number\")\n",
    "except Exception as e:\n",
    "    print(\"Error - Wrong Type!\", str(e))\n",
    "\n",
    "websites2.append(item)\n",
    "\n",
    "    \n",
    "print(websites2) \n",
    "    "
   ]
  },
  {
   "cell_type": "code",
   "execution_count": null,
   "metadata": {},
   "outputs": [],
   "source": []
  }
 ],
 "metadata": {
  "kernelspec": {
   "display_name": "Python 3 (ipykernel)",
   "language": "python",
   "name": "python3"
  },
  "language_info": {
   "codemirror_mode": {
    "name": "ipython",
    "version": 3
   },
   "file_extension": ".py",
   "mimetype": "text/x-python",
   "name": "python",
   "nbconvert_exporter": "python",
   "pygments_lexer": "ipython3",
   "version": "3.9.12"
  }
 },
 "nbformat": 4,
 "nbformat_minor": 4
}
