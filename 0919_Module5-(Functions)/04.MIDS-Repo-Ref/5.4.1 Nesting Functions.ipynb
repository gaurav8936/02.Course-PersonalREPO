{
 "cells": [
  {
   "cell_type": "markdown",
   "metadata": {},
   "source": [
    "In the previous example, we actually used the `sqrt` function twice: once to compute the square root of 5, and once to compute the fourth root of 5. In principle, the same function can be used in a wide variety of places; it can even be used inside other functions. Wherever you are in a program, you can call a function (as long as it has been defined already).\n",
    "\n",
    "### Nesting Functions\n",
    "\n",
    "In the next example, we will make use of our `sqrt` function to create two more functions:  `distance_to_origin` computes the distance from a point (x, y) to the orgin (0, 0) in the x-y plane, and `geometric_mean` computes the value $\\sqrt{xy}$, a value known as the geometric mean of x and y. Both of these functions call `sqrt` in the function body."
   ]
  },
  {
   "cell_type": "code",
   "execution_count": null,
   "metadata": {},
   "outputs": [],
   "source": [
    "## Demonstration of nested function calls\n",
    "def sqrt(x, epsilon):\n",
    "    \"\"\"Newton's Method to find square root\n",
    "       with precision epsilon (Heron's algorithm)\"\"\"\n",
    "    ans = 1\n",
    "    num_guesses = 0\n",
    "    while abs(x/ans - ans) > epsilon:\n",
    "        ans = (x/ans + ans)/2\n",
    "        num_guesses += 1\n",
    "    return ans\n",
    "\n",
    "def distance_to_origin(x, y):\n",
    "    \"\"\"find the distance from a point at (x, y) to the origin\"\"\"\n",
    "    ans = sqrt(x**2 + y**2, 0.00001)\n",
    "    return ans\n",
    "\n",
    "def geometric_mean(x, y):\n",
    "    \"\"\"Returns the root of x*y\"\"\"\n",
    "    return sqrt(x*y, 0.00001)\n",
    "\n",
    "x = float(input(\"Enter a x-coordinate:\"))\n",
    "y = float(input(\"Enter a y-coordinate:\"))\n",
    "magnitude = distance_to_origin(x, y)\n",
    "print(\"The magnitude of your vector is\", magnitude)\n",
    "geo_mean = geometric_mean( x, y)\n",
    "print(\"The geometric mean of x and y is\", geo_mean)"
   ]
  },
  {
   "cell_type": "code",
   "execution_count": null,
   "metadata": {
    "collapsed": true
   },
   "outputs": [],
   "source": []
  }
 ],
 "metadata": {
  "kernelspec": {
   "display_name": "Python 3",
   "language": "python",
   "name": "python3"
  },
  "language_info": {
   "codemirror_mode": {
    "name": "ipython",
    "version": 3
   },
   "file_extension": ".py",
   "mimetype": "text/x-python",
   "name": "python",
   "nbconvert_exporter": "python",
   "pygments_lexer": "ipython3",
   "version": "3.8.11"
  }
 },
 "nbformat": 4,
 "nbformat_minor": 1
}
