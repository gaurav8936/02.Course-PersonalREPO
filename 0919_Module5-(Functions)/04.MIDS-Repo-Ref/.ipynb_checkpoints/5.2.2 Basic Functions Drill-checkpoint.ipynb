{
 "cells": [
  {
   "cell_type": "markdown",
   "metadata": {},
   "source": [
    "### Basic Functions Drill\n",
    "\n",
    "For this exercise please make single functions that return the required information."
   ]
  },
  {
   "cell_type": "markdown",
   "metadata": {},
   "source": [
    "1) Make a function that takes a word, makes it lower case and strips out any characters that arent letters.\n",
    "\n",
    "Example: `Don't` \n",
    "\n",
    "Returns: `dont`"
   ]
  },
  {
   "cell_type": "code",
   "execution_count": 14,
   "metadata": {},
   "outputs": [],
   "source": [
    "# your code here\n",
    "def strip_nonchar(word):\n",
    "    word2 = word.lower()\n",
    "    word3= ''.join([i for i in word2 if i.isalpha()])\n",
    "    # word4 = word.lower()''.join([i for i in word2 if i.isalpha()])\n",
    "    return word3\n",
    "    # return word4"
   ]
  },
  {
   "cell_type": "code",
   "execution_count": 15,
   "metadata": {},
   "outputs": [
    {
     "data": {
      "text/plain": [
       "'rtrfffrr'"
      ]
     },
     "execution_count": 15,
     "metadata": {},
     "output_type": "execute_result"
    }
   ],
   "source": [
    "strip_nonchar('RTRfffrR!!221')"
   ]
  },
  {
   "cell_type": "markdown",
   "metadata": {},
   "source": [
    "---"
   ]
  },
  {
   "cell_type": "markdown",
   "metadata": {},
   "source": [
    "2) Code a function that counts the number of vowels (aeiou) and consonants (rest of the letters) in a word and returns those in a dictionary with keys: vowel_num, cons_num\n",
    "\n",
    "Example: \n",
    "`'elephant'`\n",
    "\n",
    "Returns:\n",
    "`{'vowel_num': 3, 'cons_num': 5}`"
   ]
  },
  {
   "cell_type": "code",
   "execution_count": 17,
   "metadata": {},
   "outputs": [],
   "source": [
    "# your code here\n",
    "\n",
    "vowels = 'aeiou'\n",
    "\n",
    "def strip_vowels(word):\n",
    "    vowel_counts = {letter:word.count(letter) for letter in set(word) if letter in vowels}\n",
    "    return vowel_counts\n"
   ]
  },
  {
   "cell_type": "code",
   "execution_count": 20,
   "metadata": {},
   "outputs": [
    {
     "data": {
      "text/plain": [
       "{'o': 3, 'a': 3, 'e': 3}"
      ]
     },
     "execution_count": 20,
     "metadata": {},
     "output_type": "execute_result"
    }
   ],
   "source": [
    "strip_vowels('Hellooosaaawwees')"
   ]
  },
  {
   "cell_type": "markdown",
   "metadata": {},
   "source": [
    "### this is the correct version (needed to just count vowels and consonants in the word)"
   ]
  },
  {
   "cell_type": "code",
   "execution_count": 38,
   "metadata": {},
   "outputs": [],
   "source": [
    "vowels = 'aeiou'\n",
    "\n",
    "word = word.lower()\n",
    "\n",
    "def split_word(word):\n",
    "    \n",
    "    count_dict = {'vowel_count': 0, 'consonant_count': 0}\n",
    "    \n",
    "    for letter in word:\n",
    "        if letter in vowels:\n",
    "            count_dict['vowel_count'] += 1\n",
    "        else:\n",
    "            count_dict['consonant_count'] += 1\n",
    "    return(count_dict)\n",
    "    "
   ]
  },
  {
   "cell_type": "code",
   "execution_count": 40,
   "metadata": {},
   "outputs": [
    {
     "data": {
      "text/plain": [
       "{'vowel_count': 11, 'consonant_count': 4}"
      ]
     },
     "execution_count": 40,
     "metadata": {},
     "output_type": "execute_result"
    }
   ],
   "source": [
    "split_word('aaaeeee1rreeeet')"
   ]
  },
  {
   "cell_type": "markdown",
   "metadata": {},
   "source": [
    "---"
   ]
  },
  {
   "cell_type": "markdown",
   "metadata": {},
   "source": [
    "3) Design a function that finds the max score of the items in score_dict and returns that item and its max score in a tuple.\n",
    "\n",
    "In the example dict below the function would return `('type_4', 10)`"
   ]
  },
  {
   "cell_type": "code",
   "execution_count": null,
   "metadata": {},
   "outputs": [],
   "source": [
    "score_dict = {'type_1': [1,2,3,4,5], 'type_2': [1,2,3,4,7], 'type_3': [2,3,4,6,7], 'type_4': [10,2,3,4,5]}\n",
    "\n",
    "# your code here"
   ]
  },
  {
   "cell_type": "code",
   "execution_count": 41,
   "metadata": {},
   "outputs": [],
   "source": [
    "my_dict = {'item1': 2, \"item2\": 3, \"Item3\": 5}"
   ]
  },
  {
   "cell_type": "code",
   "execution_count": 44,
   "metadata": {},
   "outputs": [],
   "source": [
    "mylist = list(my_dict.values())"
   ]
  },
  {
   "cell_type": "code",
   "execution_count": 45,
   "metadata": {},
   "outputs": [
    {
     "data": {
      "text/plain": [
       "[2, 3, 5]"
      ]
     },
     "execution_count": 45,
     "metadata": {},
     "output_type": "execute_result"
    }
   ],
   "source": [
    "mylist"
   ]
  },
  {
   "cell_type": "code",
   "execution_count": 46,
   "metadata": {},
   "outputs": [],
   "source": [
    "score_dict = {'type_1': [1,2,3,4,5], 'type_2': [1,2,3,4,7], 'type_3': [2,3,4,6,7], 'type_4': [10,2,3,4,5]}\n"
   ]
  },
  {
   "cell_type": "code",
   "execution_count": 48,
   "metadata": {},
   "outputs": [
    {
     "data": {
      "text/plain": [
       "dict_keys(['type_1', 'type_2', 'type_3', 'type_4'])"
      ]
     },
     "execution_count": 48,
     "metadata": {},
     "output_type": "execute_result"
    }
   ],
   "source": [
    "score_dict.keys()"
   ]
  },
  {
   "cell_type": "code",
   "execution_count": 49,
   "metadata": {},
   "outputs": [
    {
     "data": {
      "text/plain": [
       "dict_values([[1, 2, 3, 4, 5], [1, 2, 3, 4, 7], [2, 3, 4, 6, 7], [10, 2, 3, 4, 5]])"
      ]
     },
     "execution_count": 49,
     "metadata": {},
     "output_type": "execute_result"
    }
   ],
   "source": [
    "score_dict.values()"
   ]
  },
  {
   "cell_type": "code",
   "execution_count": 56,
   "metadata": {},
   "outputs": [
    {
     "data": {
      "text/plain": [
       "dict_values([[1, 2, 3, 4, 5], [1, 2, 3, 4, 7], [2, 3, 4, 6, 7], [10, 2, 3, 4, 5]])"
      ]
     },
     "execution_count": 56,
     "metadata": {},
     "output_type": "execute_result"
    }
   ],
   "source": [
    "score_dict.values()"
   ]
  },
  {
   "cell_type": "code",
   "execution_count": 68,
   "metadata": {},
   "outputs": [
    {
     "name": "stdout",
     "output_type": "stream",
     "text": [
      "dict_keys(['type_1', 'type_2', 'type_3', 'type_4']) 10\n"
     ]
    }
   ],
   "source": [
    "max_num = 0\n",
    "max_key = 'type_1'\n",
    "\n",
    "for item in score_dict.values():\n",
    "#    print(item)\n",
    "    for n in item:\n",
    "#        print(n)\n",
    "        if n > max_num:\n",
    "            max_num = n\n",
    "#            max_key = \n",
    "        else:\n",
    "            pass \n",
    "print(score_dict.keys(), max_num)"
   ]
  },
  {
   "cell_type": "markdown",
   "metadata": {},
   "source": [
    "## This is MY SOLUTION which is different fron the course one!"
   ]
  },
  {
   "cell_type": "code",
   "execution_count": 79,
   "metadata": {},
   "outputs": [
    {
     "name": "stdout",
     "output_type": "stream",
     "text": [
      "('type_4', 10)\n"
     ]
    }
   ],
   "source": [
    "max_num = 0\n",
    "max_key = 'type_1'\n",
    "mytuple = ('', 0)\n",
    "\n",
    "for item, value in score_dict.items():\n",
    "#    print(item)\n",
    "    for n in value:\n",
    "#        print(n)\n",
    "        if n > max_num:\n",
    "            max_num = n\n",
    "            max_key = item\n",
    "            mytuple = (max_key, max_num)\n",
    "        else:\n",
    "            pass \n",
    "#print(score_dict.keys(), max_num)\n",
    "# print(max_key, max_num)\n",
    "#mytuple = tuple(max_key, max_num)\n",
    "print(mytuple)"
   ]
  },
  {
   "cell_type": "markdown",
   "metadata": {},
   "source": [
    "### Course Solution"
   ]
  },
  {
   "cell_type": "code",
   "execution_count": 71,
   "metadata": {},
   "outputs": [
    {
     "data": {
      "text/plain": [
       "('type_4', 10)"
      ]
     },
     "execution_count": 71,
     "metadata": {},
     "output_type": "execute_result"
    }
   ],
   "source": [
    "score_dict = {'type_1': [1,2,3,4,5], 'type_2': [1,2,3,4,7], 'type_3': [2,3,4,6,7], 'type_4': [10,2,3,4,5]}\n",
    "\n",
    "def max_score(s_dict):\n",
    "    \"\"\"\n",
    "    This function takes a dictionary and returns the item with the max score in a tuple \n",
    "    Args:\n",
    "      s_dict: dict: A dictionary of the keys as the items and the values a list of scores for that item\n",
    "    Returns:\n",
    "      tuple. A tuple of the item with the max score like: (item, max_score)\n",
    "    \"\"\"\n",
    "    \n",
    "    max_tuple = ('', 0)\n",
    "    for key in s_dict:\n",
    "        max_num = max(s_dict[key])\n",
    "        if max_num > max_tuple[1]:\n",
    "            max_tuple = (key, max_num)\n",
    "    return max_tuple        \n",
    "        \n",
    "max_score(score_dict)"
   ]
  },
  {
   "cell_type": "code",
   "execution_count": null,
   "metadata": {},
   "outputs": [],
   "source": []
  }
 ],
 "metadata": {
  "kernelspec": {
   "display_name": "Python 3 (ipykernel)",
   "language": "python",
   "name": "python3"
  },
  "language_info": {
   "codemirror_mode": {
    "name": "ipython",
    "version": 3
   },
   "file_extension": ".py",
   "mimetype": "text/x-python",
   "name": "python",
   "nbconvert_exporter": "python",
   "pygments_lexer": "ipython3",
   "version": "3.9.12"
  }
 },
 "nbformat": 4,
 "nbformat_minor": 4
}
