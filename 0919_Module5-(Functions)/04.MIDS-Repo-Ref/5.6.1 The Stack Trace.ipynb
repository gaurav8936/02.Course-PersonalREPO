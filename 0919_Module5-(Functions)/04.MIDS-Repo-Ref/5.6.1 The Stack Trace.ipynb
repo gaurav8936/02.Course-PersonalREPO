{
 "cells": [
  {
   "cell_type": "markdown",
   "metadata": {},
   "source": [
    "## The Stack Trace\n",
    "\n",
    "Python has to keep track of where it is executing inside a function as well as where control needs to return when the function completes. If functions are nested, Python must keep track of an entire sequence of places where control must return as each function completes. To do this, the interpreter uses a data structure known as a *call stack* or *execution stack*.\n",
    "\n",
    "You may not have realized it, but when you encounter an error in your scripts, the interpreter actually gives you a printout of the stack. Try inserting the statement `0/0` into the `sqrt` function above, then running the script.\n",
    "\n",
    "You will get a printout of the execution stack at the moment the error was thrown. This is sometimes called a *stack trace*. As you can see, there are three stack frames. The first is the main program, labeled `module()` here. The next frame tells you that control entered the `distance_to_origin` function. The final frame tells you that control entered the `sqrt` function.  Finally, the error message can be seen: `division by zero`. This type of printout can help you understand what was happening in your program when something went wrong. It is an important tool for debugging."
   ]
  },
  {
   "cell_type": "code",
   "execution_count": null,
   "metadata": {
    "collapsed": true
   },
   "outputs": [],
   "source": []
  }
 ],
 "metadata": {
  "kernelspec": {
   "display_name": "Python 3",
   "language": "python",
   "name": "python3"
  },
  "language_info": {
   "codemirror_mode": {
    "name": "ipython",
    "version": 3
   },
   "file_extension": ".py",
   "mimetype": "text/x-python",
   "name": "python",
   "nbconvert_exporter": "python",
   "pygments_lexer": "ipython3",
   "version": "3.8.11"
  }
 },
 "nbformat": 4,
 "nbformat_minor": 1
}
