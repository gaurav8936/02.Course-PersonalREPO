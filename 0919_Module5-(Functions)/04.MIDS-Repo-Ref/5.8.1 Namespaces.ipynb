{
 "cells": [
  {
   "cell_type": "markdown",
   "metadata": {},
   "source": [
    "## Namespaces\n",
    "\n",
    "You might have noticed that we sometimes use the same variable names in different functions.  Common names like x and y tend to appear quite often.  You might have wondered, in fact, if this is a dangerous thing to do.  Is there a risk that we change a variable in one function and affect the operation of another function?  \n",
    "\n",
    "We will investigate this issue in the following code. Notice that we initialize a variable, x, in the main program. Inside the function, we have a statement that seems to add one to x. Back in the main program, we then try to print the value of x. Try to predict the output of the code, then execute it."
   ]
  },
  {
   "cell_type": "code",
   "execution_count": 2,
   "metadata": {},
   "outputs": [
    {
     "name": "stdout",
     "output_type": "stream",
     "text": [
      "In the function, x = 4\n",
      "the function returns 4\n",
      "outside the function, x = 3\n"
     ]
    }
   ],
   "source": [
    "def add_one(x):\n",
    "    x = x + 1\n",
    "    print('In the function, x =', x)\n",
    "    return x\n",
    "\n",
    "x = 3\n",
    "result = add_one(x)\n",
    "print('the function returns', result)\n",
    "print('outside the function, x =', x)"
   ]
  },
  {
   "cell_type": "markdown",
   "metadata": {},
   "source": [
    "As you can see, within the function, x took on the value 4, but in the main program, the value is still 3. There is not just one x variable; the x variable inside the function is a totally different variable than the x variable in the main program. The x inside the function is what we call a *local variable*. When we add 1 to its value, we do not change the x back outside, which is called a *global variable*.\n",
    "\n",
    "Recall that Python uses a special object called a *namespace* to hold the names of variables, which reference objects. In fact, a program can have many different namespaces. There is a global namespace that holds global variables. Whenever a function is called, Python also creates a local namespace that holds local variables for that function.\n",
    "\n",
    "We have seen that function parameters become local variables. We could also create a local variable by defining it inside the function. Here is another example in which we create a local variable y by assignment. Notice that the local y is not the same as the global y."
   ]
  },
  {
   "cell_type": "code",
   "execution_count": 5,
   "metadata": {},
   "outputs": [
    {
     "name": "stdout",
     "output_type": "stream",
     "text": [
      "In the function, y = 4\n",
      "the function returns 4\n",
      "outside the function, y = 3\n"
     ]
    }
   ],
   "source": [
    "def add_one(x):\n",
    "    y = x + 1 # assignment: this creates a local variable, y\n",
    "    print('In the function, y =', y)\n",
    "    return y\n",
    "\n",
    "x = 3\n",
    "y = 3\n",
    "result = add_one(x)\n",
    "print('the function returns', result)\n",
    "print('outside the function, y =', y)"
   ]
  }
 ],
 "metadata": {
  "kernelspec": {
   "display_name": "Python 3",
   "language": "python",
   "name": "python3"
  },
  "language_info": {
   "codemirror_mode": {
    "name": "ipython",
    "version": 3
   },
   "file_extension": ".py",
   "mimetype": "text/x-python",
   "name": "python",
   "nbconvert_exporter": "python",
   "pygments_lexer": "ipython3",
   "version": "3.8.11"
  }
 },
 "nbformat": 4,
 "nbformat_minor": 1
}
