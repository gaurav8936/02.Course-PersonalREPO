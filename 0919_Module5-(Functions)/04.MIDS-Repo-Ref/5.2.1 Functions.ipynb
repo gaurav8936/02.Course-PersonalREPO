{
 "cells": [
  {
   "cell_type": "markdown",
   "metadata": {},
   "source": [
    "## Functions\n",
    "\n",
    "By this point in the course, you are starting to tackle more complex algorithms and your Python scripts are getting longer. As you continue to take on more ambitious programs, you will need to start organizing your code into manageable pieces. One of the most basic ways programmers do this is with *functions*.\n",
    "\n",
    "A function is a piece of code that you can reuse in other parts of your program. There are two steps to using a function:\n",
    "\n",
    "1. Define the function.  In this step, you specify what code should be run when the function is called.\n",
    "2. Call the function.  At this point, the code in the function actually executes.\n",
    "\n",
    "Here is a very simple example of a function definition that just prints two lines of text."
   ]
  },
  {
   "cell_type": "code",
   "execution_count": 3,
   "metadata": {
    "collapsed": true
   },
   "outputs": [],
   "source": [
    "def print_stuff():\n",
    "    print(\"some stuff\")\n",
    "    print(\"more stuff\")"
   ]
  },
  {
   "cell_type": "markdown",
   "metadata": {},
   "source": [
    "Go ahead and execute that code, and notice that there is no output. The code inside a function is not executed when a function is defined.\n",
    "\n",
    "Take a close look at the function definition. Notice that it begins with the keyword `def`, followed by the name of the function we are defining, then a set of parentheses (these will hold input parameters, but this function does not have any), then a colon. After this, we have the actual body of the function, which just includes two print statements.\n",
    "\n",
    "In the next bit of code, we will call the function we have defined."
   ]
  },
  {
   "cell_type": "code",
   "execution_count": 6,
   "metadata": {},
   "outputs": [
    {
     "name": "stdout",
     "output_type": "stream",
     "text": [
      "Things on my todo list:\n",
      "some stuff\n",
      "more stuff\n",
      "some stuff\n",
      "more stuff\n"
     ]
    }
   ],
   "source": [
    "print(\"Things on my todo list:\")\n",
    "print_stuff()\n",
    "print_stuff()"
   ]
  },
  {
   "cell_type": "markdown",
   "metadata": {},
   "source": [
    "Notice that we called the function twice, and it executed twice.  This is one of the big advantages of modularizing code into functions: you can reuse it in many places."
   ]
  },
  {
   "cell_type": "markdown",
   "metadata": {},
   "source": [
    "In this example, our function does the same thing every time we call it. To make functions more useful, we need to be able to pass in different values as inputs. We will also want to take values that the function calculates and return them as outputs so we can use them in other parts of the program.\n",
    "\n",
    "In the next example, we have taken the square root algorithm we wrote earlier and placed it inside a function, `sqrt`. (Note that Python has a `sqrt` function in the math package, and you would normally use that one. There are circumstances, however, in which you may want to rewrite a function yourself to make it work in a slightly different way.) \n",
    "\n",
    "Looking at the function header, notice that it now includes two variables in parentheses: `x` and `epsilon`. These are called function *parameters*. Parameters are the values that are passed into the function, which the function will operate on. Notice that the function body contains the same code we wrote earlier to compute a square root, but it ends with a return statement.  This takes the value we care about, stored in answer, and returns it to the main program.\n",
    "*Is \"stored in answer\" correct?*\n",
    "\n",
    "In the main program (after the function is defined), we call the `sqrt` function, passing in the values 5 and 0.00001. After the function executes, we get back the square root from the return statement and store it in the variable `root`. We can then continue using this variable in the main program."
   ]
  },
  {
   "cell_type": "code",
   "execution_count": 11,
   "metadata": {},
   "outputs": [
    {
     "name": "stdout",
     "output_type": "stream",
     "text": [
      "2.2360688956433634 is close to the square root of 5\n",
      "1.495349088238384 is close to the fourth root of 5\n"
     ]
    }
   ],
   "source": [
    "##Square root algorithm as a function\n",
    "def sqrt(x, epsilon):\n",
    "    \"\"\"Newton's Method to find square root\n",
    "       with precision epsilon (Heron's algorithm)\"\"\"\n",
    "    ans = 1\n",
    "    num_guesses = 0\n",
    "    while abs(x/ans - ans) > epsilon:\n",
    "        ans = (x/ans + ans)/2\n",
    "        num_guesses += 1\n",
    "    return ans\n",
    "\n",
    "root = sqrt(5, 0.00001)\n",
    "print(root, \"is close to the square root of 5\")\n",
    "\n",
    "fourth_root = sqrt(root, 0.00001)\n",
    "print(fourth_root, \"is close to the fourth root of 5\")"
   ]
  },
  {
   "cell_type": "markdown",
   "metadata": {},
   "source": [
    "You might have noticed that we included a string by itself right after the function header, enclosed in triple quotation marks.  This is known as a *docstring*, and Python understands this as documentation about the function. One way to access it is with the `help` statement. As you can imagine, this is especially helpful when other programmers use functions that you write."
   ]
  },
  {
   "cell_type": "code",
   "execution_count": null,
   "metadata": {},
   "outputs": [],
   "source": [
    "help(sqrt)"
   ]
  }
 ],
 "metadata": {
  "kernelspec": {
   "display_name": "Python 3",
   "language": "python",
   "name": "python3"
  },
  "language_info": {
   "codemirror_mode": {
    "name": "ipython",
    "version": 3
   },
   "file_extension": ".py",
   "mimetype": "text/x-python",
   "name": "python",
   "nbconvert_exporter": "python",
   "pygments_lexer": "ipython3",
   "version": "3.8.11"
  }
 },
 "nbformat": 4,
 "nbformat_minor": 1
}
