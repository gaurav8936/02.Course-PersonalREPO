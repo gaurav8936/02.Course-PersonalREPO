{
 "cells": [
  {
   "cell_type": "markdown",
   "metadata": {},
   "source": [
    "# Week 4 Assignment - W200 Introduction to Data Science Programming, UC Berkeley MIDS"
   ]
  },
  {
   "cell_type": "markdown",
   "metadata": {},
   "source": [
    "Write code in this Jupyter Notebook to solve the following problems. Please upload this **Notebook** with your solutions to your GitHub repository and gradescope.\n",
    "\n",
    "Assignment due date: 11:59PM PT the night before the Week 5 Live Session."
   ]
  },
  {
   "cell_type": "markdown",
   "metadata": {},
   "source": [
    "## Objectives:\n",
    "\n",
    "- More practice with for & while loops, if statements and gathering user inputs\n",
    "- Demonstrate use of Python list comprehensions.\n",
    "- Understand the pseudo-coding and algorithm complexities"
   ]
  },
  {
   "cell_type": "markdown",
   "metadata": {},
   "source": [
    "## General Guidelines:\n",
    "\n",
    "- In each code block, do NOT delete the ### comment at the top of a cell (it's needed for the auto-grading!)\n",
    "  - Autograder tests and results are on gradescope.\n",
    "  - You will get 80 points from the autograder for this assignment and 20 points will be hidden. That is, passing all of the visible tests will give you 80 points. Make sure you are meeting the requirements of the problem to get the other 20 points!\n",
    "  - You may upload and run the autograder as many times as needed in your time window\n",
    "  - The assignment needs to be named HW_Unit_04.ipynb to be graded from the autograder!\n",
    "  - The examples given are samples of how we will test/grade your code. Please ensure your code outputs the same information.\n",
    "    - In addition to the given example, the autograder will test other examples\n",
    "    - Each autograder test tells you what input it is using\n",
    "  - Once complete, the autograder will show each tests, if that test is passed or failed, and your total score\n",
    "  - The autograder fails for a couple of reasons:\n",
    "    - Your code crashes with that input (for example: `Test Failed: string index out of range`)\n",
    "    - Your code output does not match the 'correct' output (for example: `Test Failed: '1 2 3 2 1' != '1 4 6 4 1'`)\n",
    "- Limited user input validation and error checking is encouraged on this assignment. Each question below will indicate the type of input that you can expect. (for example, if the question states the input will be an integer, you can expect the user to input an integer and do not need to check to ensure it is an integer versus a float or a string)\n",
    "- Adding comments in your code is strongly suggested but won't be graded.\n",
    "- The examples given are samples of how we will test/grade your code. Please ensure your code outputs the same information.\n",
    "- If you are stuck on a problem or do not understand a question - please come to office hours or ask questions to the class Google group (please don't post your code though). If it is a coding problem send a private email to all of the instructors at: mids-python-instructors@googlegroups.com\n",
    "- You may use any libraries from the Python Standard Library for this assignment: https://docs.python.org/3/library/\n",
    "- We also have a tutor if you would like a 1 on 1 session!"
   ]
  },
  {
   "cell_type": "markdown",
   "metadata": {},
   "source": [
    "## Grading Rubric\n",
    "\n",
    "General grading rubric guidelines / philosophy:\n",
    "\n",
    "- The total possible points will be shown for each question\n",
    "- Please read each question carefully to understand the requirements\n",
    "- Points for each question are rewarded based on how well your code fulfills those requirements\n",
    "- All of the problems have an example given to help show what is needed and how to format the answer\n",
    "- For the rest of the questions, its up to you to determine the requirements and code them!\n",
    "\n",
    "More on grading:\n",
    "- If the question is blank / not attempted, no points will be given\n",
    "- Most points are given for code that runs (does not crash) and fulfills the requirements\n",
    "- Minor points are given for formatting the answer in accordance with the question"
   ]
  },
  {
   "cell_type": "markdown",
   "metadata": {},
   "source": [
    "### 4-1. For Loops (20 points)\n",
    "\n",
    "Write a script that prompts the user for two words (two, one-word strings). Print all the **unique** letters that are common to both words, in alphabetical order, using **for** loops in your solution. As shown below case does not matter. If there are no letters in common print `There are no letters in common`.\n",
    "\n",
    "Example:\n",
    "```\n",
    "Enter one word: Home\n",
    "Enter another word: Meter\n",
    "\n",
    "Letters in common: em\n",
    "```"
   ]
  },
  {
   "cell_type": "code",
   "execution_count": 2,
   "metadata": {},
   "outputs": [
    {
     "name": "stdin",
     "output_type": "stream",
     "text": [
      "Please enter the first word wweert\n",
      "Please enter the second word qwweettuoi\n"
     ]
    },
    {
     "name": "stdout",
     "output_type": "stream",
     "text": [
      "Letters in common:  etw\n"
     ]
    }
   ],
   "source": [
    "# Q4-1 Grading Tag:\n",
    "\n",
    "# collect input\n",
    "word1 = str(input(\"Please enter the first word\"))\n",
    "word2 = str(input(\"Please enter the second word\"))\n",
    "\n",
    "# convert input to set\n",
    "word11 = set(word1.lower())\n",
    "word12 = set(word2.lower())\n",
    "\n",
    "# find the intersection of the set & sort\n",
    "intset = sorted((word11 & word12))\n",
    "\n",
    "if len(intset) == 0:\n",
    "    print(\"There are no letters in common\")\n",
    "else:\n",
    "    print('Letters in common:', \"\".join(map(str, intset)))"
   ]
  },
  {
   "cell_type": "markdown",
   "metadata": {},
   "source": [
    "### 4-2. A Game of Chess (20 points)\n",
    "You place a pawn at the top left corner of an n-by-n chess board, labeled (0,0).  For each move, you have a choice: move the pawn down a single space, or move the pawn down one space and right one space.  That is, if the pawn is at position (i,j), you can move the pawn to (i+1,j) or (i+1, j+1).\n",
    "\n",
    "Ask the user for the size of a chessboard, n (**integer**).  Find the number of different paths **starting from (0,0)** that the pawn could take to reach each position on the chess board.  For example, there are two different paths the pawn can take to reach (2,1). Look at the diagrams below to convince yourself of this. You can see the four paths that you can take by move 2.\n",
    "```\n",
    "  Start -> Move 1 -> Move 2\n",
    "\n",
    "  (0,0) ->  (1,0) -> (2,1)\n",
    "  \n",
    "  (0,0) ->  (1,0) -> (2,0)\n",
    "  \n",
    "  (0,0) ->  (1,1) -> (2,1)\n",
    "  \n",
    "  (0,0) ->  (1,1) -> (2,2)\n",
    "```\n",
    "\n",
    "Print the board with the number of ways to reach each square labeled as shown below.\n",
    "\n",
    "For example:\n",
    "```\n",
    "Enter a board size: 4\n",
    "\n",
    "1 0 0 0\n",
    "1 1 0 0\n",
    "1 2 1 0\n",
    "1 3 3 1\n",
    "```"
   ]
  },
  {
   "cell_type": "code",
   "execution_count": 3,
   "metadata": {},
   "outputs": [
    {
     "name": "stdin",
     "output_type": "stream",
     "text": [
      "Enter a board size:  3\n"
     ]
    },
    {
     "name": "stdout",
     "output_type": "stream",
     "text": [
      "1 0 0 \n",
      "1 1 0 \n",
      "1 2 1 \n"
     ]
    }
   ],
   "source": [
    "# Q4-2 Grading Tag:\n",
    "\n",
    "# Get the user input for the board size\n",
    "\n",
    "# 1. Generate square and store as coord\n",
    "# 2. Model the movements into two paths (a & b) - define functions for each\n",
    "# 3. Generate superset of possible outcomes starting from (0,0)\n",
    "# 4. Sum up distinct combinations of moves (say, (2,1) exists 3 times, it implies that it took three moves to get to (2,1) from (0,0)\n",
    "# 5. Flatten out the resulting nested list into a dictionary & get key-value pairs\n",
    "# 6. Print output in a square\n",
    "\n",
    "# ------------------------------------------------------------------------------------\n",
    "n = int(input(\"Enter a board size: \"))\n",
    "\n",
    "# ------------------------------------------------------------------------------------\n",
    "\n",
    "# Step 1: Generate square and store as coord\n",
    "row = 0\n",
    "col = 0\n",
    "coord = []\n",
    "\n",
    "for row in range(0,n+1):\n",
    "    for col in range(0,n+1):\n",
    "        \n",
    "        coord.append([row, col])\n",
    "    #     #print(coord, end = \"\")\n",
    "    #     print([row, col], end = \"\")\n",
    "    # print(\"\")\n",
    "\n",
    "# ------------------------------------------------------------------------------------\n",
    "\n",
    "# Step 2: Model the movements into two paths (a & b) - define functions for each\n",
    "\n",
    "def funca(item):\n",
    "    row = item[0]\n",
    "    col = item[1]\n",
    "    return([row+1, col])\n",
    "\n",
    "def funcb(item):\n",
    "    row = item[0]\n",
    "    col = item[1]\n",
    "    return([row+1, col+1])\n",
    "\n",
    "# ------------------------------------------------------------------------------------\n",
    "\n",
    "# Step 3: Generate superset of possible outcomes starting from (0,0)\n",
    "\n",
    "mylist = [[0,0]]\n",
    "counter = 0\n",
    "\n",
    "for item in mylist:\n",
    "    patha = funca(item)\n",
    "    if patha not in [item for item in coord]:\n",
    "        break\n",
    "    #print(patha)\n",
    "    pathb = funcb(item)\n",
    "    if pathb not in [item for item in coord]:\n",
    "        break\n",
    "    #print(pathb)\n",
    "    mylist.extend([patha])\n",
    "    mylist.extend([pathb])\n",
    "    counter += 1\n",
    "    if counter> n*20:\n",
    "        break\n",
    "#print(mylist)\n",
    "\n",
    "# ------------------------------------------------------------------------------------\n",
    "\n",
    "# Step 4: Sum up distinct combinations of moves (say, (2,1) exists 3 times, it implies that it took three moves to get to (2,1) from (0,0)\n",
    "\n",
    "new_arr = []\n",
    "for elem in mylist:\n",
    "    obj = [ [elem, mylist.count(elem)] ]\n",
    "    if obj[0] not in new_arr:\n",
    "        new_arr += obj\n",
    "\n",
    "#print(new_arr)\n",
    "\n",
    "# ------------------------------------------------------------------------------------\n",
    "\n",
    "# Step 5: Flatten out the resulting nested list into a dictionary & get key-value pairs\n",
    "\n",
    "d = {tuple(l):x for l, x in new_arr}\n",
    "# convert the nested list into a dictionary of tuples (with key == coord and value == count)\n",
    "# {(0, 0): 1, (1, 0): 1, (1, 1): 1, (2, 0): 1, (2, 1): 2, (2, 2): 1}\n",
    "\n",
    "#out = [d.get((i,j), 0) for i in range(n) for j in range(n)]\n",
    "# [1, 0, 0, 1, 1, 0, 1, 2, 1]\n",
    "\n",
    "out = [[d.get((i,j), 0) for j in range(n)] for i in range(n)]\n",
    "\n",
    "# ------------------------------------------------------------------------------------\n",
    "\n",
    "# Step 6: Print output in a square\n",
    "\n",
    "for row in out:\n",
    "    for cell in row:\n",
    "        print(cell, end=\" \")\n",
    "    print()"
   ]
  },
  {
   "cell_type": "markdown",
   "metadata": {},
   "source": [
    "### 4-3. Fixing the Bisection Search (15 points)\n",
    "\n",
    "The bisection code below finds the square root of a number. Try inputting 16 into the code to confirm it works. Next, try inputting 0.25 into the bisection search algorithm below and confirm that it doesn't work. Then correct the algorithm so that it works for all positive numbers, including decimals such as 0.25."
   ]
  },
  {
   "cell_type": "code",
   "execution_count": 4,
   "metadata": {},
   "outputs": [
    {
     "name": "stdin",
     "output_type": "stream",
     "text": [
      "enter a number: .5\n"
     ]
    },
    {
     "name": "stdout",
     "output_type": "stream",
     "text": [
      "low = 0.5 high = 1.0\n",
      "low = 0.5 high = 0.75\n",
      "low = 0.625 high = 0.75\n",
      "low = 0.6875 high = 0.75\n",
      "low = 0.6875 high = 0.71875\n",
      "low = 0.703125 high = 0.71875\n",
      "low = 0.703125 high = 0.7109375\n",
      "low = 0.70703125 high = 0.7109375\n",
      "low = 0.70703125 high = 0.708984375\n",
      "low = 0.70703125 high = 0.7080078125\n",
      "low = 0.70703125 high = 0.70751953125\n",
      "low = 0.70703125 high = 0.707275390625\n",
      "low = 0.70703125 high = 0.7071533203125\n",
      "low = 0.70709228515625 high = 0.7071533203125\n",
      "low = 0.70709228515625 high = 0.707122802734375\n",
      "Number of guesses = 15\n",
      "0.7070999145507812 is close to square root of 0.5\n"
     ]
    }
   ],
   "source": [
    "# Q4-3 Grading Tag:\n",
    "\n",
    "## Please fix the code in this cell (that is don't make a new cell)\n",
    "## Bisection Search to Find a Square Root\n",
    "\n",
    "x = float(input(\"enter a number:\"))\n",
    "\n",
    "epsilon = 0.00001\n",
    "num_guesses = 0\n",
    "\n",
    "if x > 1:\n",
    "    low = 0.0\n",
    "    high = x\n",
    "    ans = (high+low)/ 2\n",
    "    while (high-low) >= 2*epsilon:\n",
    "        print(\"low =\",low,\"high =\", high)\n",
    "        num_guesses += 1\n",
    "        if ans ** 2 < x:\n",
    "            low = ans\n",
    "        else:\n",
    "            high = ans\n",
    "        ans = (high + low)/2.0\n",
    "else:\n",
    "    low = x\n",
    "    high = 1.0\n",
    "    ans = (high+low)/ 2\n",
    "    while (high-low) >= 2*epsilon:\n",
    "        print(\"low =\",low,\"high =\", high)\n",
    "        num_guesses += 1\n",
    "        if ans**2 < x:\n",
    "            low = ans\n",
    "        else:\n",
    "            high = ans\n",
    "        ans = (high + low) / 2\n",
    "\n",
    "print('Number of guesses =', num_guesses)\n",
    "print(ans, 'is close to square root of', x)"
   ]
  },
  {
   "cell_type": "markdown",
   "metadata": {},
   "source": [
    "### 4-4. Interpreting Instructions for an Algorithm (20 points)\n",
    "\n",
    "Implement this digit-by-digit algorithm to find the square root of x to a precision of epsilon.\n",
    "  1. Begin with a step size of 1 and guess of zero.\n",
    "  2. Increase the guess by the step size as long as doing so would not cause the guess^2 to exceed x. Repeat this step (step 2) until the next repetition will cause guess^2 to exceed x.\n",
    "  3. If the step size is greater than or equal to epsilon, then divide the step size by 10 and go back to step 2.\n",
    "\n",
    "Notice that once a digit has been found, it is not changed again. Try using your code to find the square root of 10 to an epsilon of 8 decimal places. This algorithm should not take over 10 seconds to run (if it does you have coded something incorrectly!). \n",
    "\n",
    "If you are getting an answer that is off by epsilon (for example 3.16227767 instead of 3.16227766), this might be caused by the floating point error. You can read more about that here: https://docs.python.org/3/tutorial/floatingpoint.html. To fix this problem, you can use the Decimal library here: https://docs.python.org/3/library/decimal.html#module-decimal\n",
    "\n",
    "Hint: It might be helpful to write out by hand an easier example like '4' to understand how the algorithm works.\n",
    "\n",
    "Example output:\n",
    "\n",
    "```\n",
    "Enter a number to find the square root: 10\n",
    "The square root of 10 is: 3.16227766\n",
    "```"
   ]
  },
  {
   "cell_type": "code",
   "execution_count": 1,
   "metadata": {},
   "outputs": [
    {
     "name": "stdin",
     "output_type": "stream",
     "text": [
      "Enter a number to find the square root:  76\n"
     ]
    },
    {
     "name": "stdout",
     "output_type": "stream",
     "text": [
      "square root of number is  8.717788879999999\n"
     ]
    }
   ],
   "source": [
    "# Q4-4 Grading Tag:\n",
    "\n",
    "num = float(input(\"Enter a number to find the square root: \"))\n",
    "\n",
    "epsilon = 0.00000001\n",
    "\n",
    "# ---------------------------------------------------------------\n",
    "# function to extract power from decimals\n",
    "\n",
    "def powerfromdecimal(epsilon):\n",
    "    mydecimal = epsilon\n",
    "    mydecimalstring = str(mydecimal)\n",
    "    power = newnum = int(str(mydecimalstring)[-2:])\n",
    "    return(power)\n",
    "# ---------------------------------------------------------------\n",
    "    \n",
    "a = 0.0\n",
    "dec = 0.0\n",
    "num2 = int(num) # the integer portion of the number\n",
    "divisor = 10\n",
    "power = powerfromdecimal(epsilon)\n",
    "sum = 0\n",
    "\n",
    "### integer section ####\n",
    "for int in range(1,num2):\n",
    "    if int**2 < num2:\n",
    "        a = int\n",
    "    else:\n",
    "        break\n",
    "\n",
    "### recursive calculation for epsilon\n",
    "\n",
    "for c in range(1,power+1):\n",
    "#    print(c)\n",
    "    divisor = 10**c\n",
    "#    print('this is the entering divisor', divisor)\n",
    "\n",
    "### decimal section\n",
    "\n",
    "    for dec in range(1, 10):\n",
    "#        print('value of divisor inside dec loop', divisor)\n",
    "        if (a + dec/divisor)**2 < num:\n",
    "#            print('exit value of dec/divisor is', dec/divisor )\n",
    "            # sum = dec/divisor\n",
    "            # print('sum is', sum)\n",
    "            None \n",
    "        else:\n",
    "            break\n",
    "    sum = sum + (dec-1)/divisor\n",
    "    a = a + (dec-1)/divisor\n",
    "\n",
    "print('The square root of ', num2, 'is: ', a)"
   ]
  },
  {
   "cell_type": "markdown",
   "metadata": {},
   "source": [
    "## 4-5. List Comprehensions (25 points - 5 points each)\n",
    "\n",
    "Each list comprehension below can be done in just one line/statement and needs to output one list. The autograder will fail if the line count is more than 5 lines in a cell (not including Q4-5-2 which has the longer text string).\n",
    "\n",
    "**Please print this list so the autograder will pickup the output. That is, you need to use `print(<list comprehension>)`** <br>\n",
    "A note on displaying lists in Python: sometimes Python displays lists like `[1,2,3]` and other times lists display as \n",
    "```\n",
    "[1,\n",
    " 2,\n",
    " 3]\n",
    "```\n",
    "Either way these lists contain the same values and information (and are the same answer for this problem)."
   ]
  },
  {
   "cell_type": "markdown",
   "metadata": {},
   "source": [
    "**4-5-1. Use a single comprehension** to make a list of the square numbers below 100 that give a remainder of 1 when divided by 3.\n",
    "\n",
    "Example output (these are the first two elements of the list - obviously not the full list!):\n",
    "```\n",
    "[1, 4, ... ]\n",
    "```"
   ]
  },
  {
   "cell_type": "code",
   "execution_count": 2,
   "metadata": {},
   "outputs": [
    {
     "name": "stdout",
     "output_type": "stream",
     "text": [
      "[1, 4, 16, 25, 49, 64]\n"
     ]
    }
   ],
   "source": [
    "# Q4-5-1 Grading Tag:\n",
    "\n",
    "mylist = [num**2 for num in range(1,100) if num**2 < 100 and num**2%3 ==1]\n",
    "print(mylist)"
   ]
  },
  {
   "cell_type": "markdown",
   "metadata": {},
   "source": [
    "**4-5-2.** A string is defined in the code snippet below. **Use a single comprehension** to make a list of the first letter of each word in the snippet.\n",
    "\n",
    "Example output (these are the first two elements of the list - obviously not the full list!):\n",
    "```\n",
    "['I', 'l', ... ]\n",
    "```"
   ]
  },
  {
   "cell_type": "code",
   "execution_count": 3,
   "metadata": {},
   "outputs": [
    {
     "name": "stdout",
     "output_type": "stream",
     "text": [
      "['I', 'l', 'm', 'l', 'a', 'q', 'm', 'a', 'a', 't', 'N', 'e', 'm', 'n', 't', 'm', 'n', 't', 's', 'n', 'm', 't', 'a', 'a', 't', 'b', 'F', 't', 't', 's', 'o', 'l', 'I', 'f']\n"
     ]
    }
   ],
   "source": [
    "# Q4-5-2 Grading Tag:\n",
    "\n",
    "text = \"I live my life a quarter mile at a time. \\\n",
    "Nothing else matters: not the mortgage, not the store, \\\n",
    "not my team and all their bullshit. \\\n",
    "For those ten seconds or less, I’m free.\"\n",
    "\n",
    "mylist = [word[0] for word in text.split()]\n",
    "print(mylist)\n",
    "\n",
    "# the slashes just mean that the string continues onto the next line\n",
    "# if you print the text, it will make no difference"
   ]
  },
  {
   "cell_type": "markdown",
   "metadata": {},
   "source": [
    "**4-5-3.** A Pythagorean triple is a set (x,y,z), with positive integers x ≤ y ≤ z such that $x^2+y^2=z^2$. **Use a single comprehension** to make a list of all Pythagorean triples such that all 3 numbers are below 25.\n",
    "\n",
    "Example output (these are the first two elements of the list - obviously not the full list!):\n",
    "```\n",
    "[(3, 4, 5), (5, 12, 13), ... ]\n",
    "```"
   ]
  },
  {
   "cell_type": "code",
   "execution_count": 4,
   "metadata": {},
   "outputs": [
    {
     "name": "stdout",
     "output_type": "stream",
     "text": [
      "[(3, 4, 5), (5, 12, 13), (6, 8, 10), (8, 15, 17), (9, 12, 15), (12, 16, 20)]\n"
     ]
    }
   ],
   "source": [
    "# Q4-5-3 Grading Tag:\n",
    "\n",
    "mylist = [(x,y,z) for x in range(1,25) for y in range(1,25) for z in range(1,25)  if x**2 + y**2 == z**2 if x<y<z]\n",
    "\n",
    "print(mylist)"
   ]
  },
  {
   "cell_type": "markdown",
   "metadata": {},
   "source": [
    "**4-5-4.** Given a word, provided below, **use a single comprehension** to make a list of all strings that can be formed by deleting exactly one character from the word.\n",
    "\n",
    "Required output:\n",
    "```\n",
    "['elcomed', 'Wlcomed', 'Wecomed', 'Welomed', 'Welcmed', 'Welcoed', 'Welcomd', 'Welcome']\n",
    "```"
   ]
  },
  {
   "cell_type": "code",
   "execution_count": 5,
   "metadata": {},
   "outputs": [
    {
     "name": "stdout",
     "output_type": "stream",
     "text": [
      "['elcomed', 'Wlcomed', 'Wecomed', 'Welomed', 'Welcmed', 'Welcoed', 'Welcomd', 'Welcome']\n"
     ]
    }
   ],
   "source": [
    "# Q4-5-4 Grading Tag:\n",
    "word = \"Welcomed\"\n",
    "\n",
    "new_list = [word[:i] + word[i+1:] for i in range(len(word))]\n",
    "print(new_list)"
   ]
  },
  {
   "cell_type": "markdown",
   "metadata": {},
   "source": [
    "**4-5-5.** Given a word, provided below, **use a single comprehension** to make a list of all strings that can be formed by replacing exactly one vowel in the word with a different vowel (a vowel is a,e,i,o,u).\n",
    "\n",
    "Required output:\n",
    "```\n",
    "['Baoted', 'Beoted', 'Bioted', 'Buoted', 'Boated', 'Boeted', 'Boited', 'Bouted', 'Bootad', 'Bootid', 'Bootod', 'Bootud']\n",
    "```"
   ]
  },
  {
   "cell_type": "code",
   "execution_count": 2,
   "metadata": {},
   "outputs": [
    {
     "name": "stdout",
     "output_type": "stream",
     "text": [
      "['Baated', 'Beeted', 'Biited', 'Buuted', 'Baated', 'Beeted', 'Biited', 'Buuted', 'Bootad', 'Bootid', 'Bootod', 'Bootud']\n"
     ]
    }
   ],
   "source": [
    "# Q4-5-5 Grading Tag:\n",
    "word = \"Booted\"\n",
    "import re\n",
    "\n",
    "vowels = 'aeiou'\n",
    "result = [re.sub(c,v,word) for c in word if c in vowels for v in vowels if c!=v ]\n",
    "print(result)"
   ]
  },
  {
   "cell_type": "markdown",
   "metadata": {},
   "source": [
    "## If you have feedback for this homework, please submit it using the link below:\n",
    "\n",
    "http://goo.gl/forms/74yCiQTf6k"
   ]
  }
 ],
 "metadata": {
  "kernelspec": {
   "display_name": "Python 3 (ipykernel)",
   "language": "python",
   "name": "python3"
  },
  "language_info": {
   "codemirror_mode": {
    "name": "ipython",
    "version": 3
   },
   "file_extension": ".py",
   "mimetype": "text/x-python",
   "name": "python",
   "nbconvert_exporter": "python",
   "pygments_lexer": "ipython3",
   "version": "3.9.12"
  }
 },
 "nbformat": 4,
 "nbformat_minor": 4
}
