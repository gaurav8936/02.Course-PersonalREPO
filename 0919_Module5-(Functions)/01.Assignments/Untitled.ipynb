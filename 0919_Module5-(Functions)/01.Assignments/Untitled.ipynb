{
 "cells": [
  {
   "cell_type": "code",
   "execution_count": 2,
   "id": "8d3c4917-3a42-4316-af2d-4727b1f5cdcb",
   "metadata": {},
   "outputs": [
    {
     "name": "stdout",
     "output_type": "stream",
     "text": [
      "[['halla'], ['hulla'], ['holle'], ['hulle'], ['hulle']]\n"
     ]
    }
   ],
   "source": [
    "import random\n",
    "word = 'hello'\n",
    "vowels = 'aeiou'\n",
    "new_list = [[\"\".join([random.choice(vowels) if c in vowels else c for c in word])] for c in range(len(word))]\n",
    "print(new_list)"
   ]
  },
  {
   "cell_type": "code",
   "execution_count": null,
   "id": "692b40e8-797d-44f2-aa9e-f8ade9a64e84",
   "metadata": {},
   "outputs": [],
   "source": []
  }
 ],
 "metadata": {
  "kernelspec": {
   "display_name": "Python 3 (ipykernel)",
   "language": "python",
   "name": "python3"
  },
  "language_info": {
   "codemirror_mode": {
    "name": "ipython",
    "version": 3
   },
   "file_extension": ".py",
   "mimetype": "text/x-python",
   "name": "python",
   "nbconvert_exporter": "python",
   "pygments_lexer": "ipython3",
   "version": "3.9.12"
  }
 },
 "nbformat": 4,
 "nbformat_minor": 5
}
