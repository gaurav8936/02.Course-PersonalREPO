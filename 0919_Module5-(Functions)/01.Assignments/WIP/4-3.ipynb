{
 "cells": [
  {
   "cell_type": "markdown",
   "metadata": {},
   "source": [
    "### 4-3. Fixing the Bisection Search (15 points)\n",
    "\n",
    "The bisection code below finds the square root of a number. Try inputting 16 into the code to confirm it works. Next, try inputting 0.25 into the bisection search algorithm below and confirm that it doesn't work. Then correct the algorithm so that it works for all positive numbers, including decimals such as 0.25."
   ]
  },
  {
   "cell_type": "code",
   "execution_count": 5,
   "metadata": {},
   "outputs": [
    {
     "name": "stdin",
     "output_type": "stream",
     "text": [
      "enter a number: 4\n"
     ]
    },
    {
     "name": "stdout",
     "output_type": "stream",
     "text": [
      "low = 0.0 high = 4.0\n",
      "low = 0.0 high = 2.0\n",
      "low = 1.0 high = 2.0\n",
      "low = 1.5 high = 2.0\n",
      "low = 1.75 high = 2.0\n",
      "low = 1.875 high = 2.0\n",
      "low = 1.9375 high = 2.0\n",
      "low = 1.96875 high = 2.0\n",
      "low = 1.984375 high = 2.0\n",
      "low = 1.9921875 high = 2.0\n",
      "low = 1.99609375 high = 2.0\n",
      "low = 1.998046875 high = 2.0\n",
      "low = 1.9990234375 high = 2.0\n",
      "low = 1.99951171875 high = 2.0\n",
      "low = 1.999755859375 high = 2.0\n",
      "low = 1.9998779296875 high = 2.0\n",
      "low = 1.99993896484375 high = 2.0\n",
      "low = 1.999969482421875 high = 2.0\n",
      "Number of guesses = 18\n",
      "1.9999923706054688 is close to square root of 4.0\n"
     ]
    }
   ],
   "source": [
    "# Q4-3 Grading Tag:\n",
    "\n",
    "## Please fix the code in this cell (that is don't make a new cell)\n",
    "## Bisection Search to Find a Square Root\n",
    "\n",
    "x = float(input(\"enter a number:\"))\n",
    "\n",
    "epsilon = 0.00001\n",
    "num_guesses = 0\n",
    "low = 0.0\n",
    "high = x\n",
    "ans = (high + low)/2.0\n",
    "\n",
    "while high - low >= 2 * epsilon:\n",
    "    print(\"low =\",low,\"high =\", high)\n",
    "    num_guesses += 1\n",
    "    if ans ** 2 < x:\n",
    "        low = ans\n",
    "    else:\n",
    "        high = ans\n",
    "    ans = (high + low)/2.0\n",
    "\n",
    "# Do not modify these output statements as the autograder looks for these!\n",
    "print('Number of guesses =', num_guesses)\n",
    "print(ans, 'is close to square root of', x)"
   ]
  },
  {
   "cell_type": "code",
   "execution_count": null,
   "metadata": {},
   "outputs": [],
   "source": [
    "x = float(input(\"enter a number:\"))\n",
    "\n",
    "epsilon = 0.00001\n",
    "num_guesses = 0\n",
    "low = 0.0\n",
    "high = x\n",
    "ans = (high + low)/2.0\n",
    "\n",
    "if x > 1:\n",
    "    ans = (high + low) / 2.0\n",
    "\n",
    "while high - low >= 2 * epsilon:\n",
    "    print(\"low =\",low,\"high =\", high)\n",
    "    num_guesses += 1\n",
    "    if ans ** 2 < x:\n",
    "        low = ans\n",
    "    else:\n",
    "        high = ans\n",
    "    ans = (high + low)/2.0\n",
    "\n",
    "# Do not modify these output statements as the autograder looks for these!\n",
    "print('Number of guesses =', num_guesses)\n",
    "print(ans, 'is close to square root of', x)"
   ]
  },
  {
   "cell_type": "code",
   "execution_count": 11,
   "metadata": {},
   "outputs": [
    {
     "name": "stdin",
     "output_type": "stream",
     "text": [
      "enter a number: 4\n"
     ]
    },
    {
     "name": "stdout",
     "output_type": "stream",
     "text": [
      "low = 0.0 high = 4.0\n",
      "low = 0.0 high = 2.0\n",
      "low = 1.0 high = 2.0\n",
      "low = 1.5 high = 2.0\n",
      "low = 1.75 high = 2.0\n",
      "low = 1.875 high = 2.0\n",
      "low = 1.9375 high = 2.0\n",
      "low = 1.96875 high = 2.0\n",
      "low = 1.984375 high = 2.0\n",
      "low = 1.9921875 high = 2.0\n",
      "low = 1.99609375 high = 2.0\n",
      "low = 1.998046875 high = 2.0\n",
      "low = 1.9990234375 high = 2.0\n",
      "low = 1.99951171875 high = 2.0\n",
      "low = 1.999755859375 high = 2.0\n",
      "low = 1.9998779296875 high = 2.0\n",
      "low = 1.99993896484375 high = 2.0\n",
      "low = 1.999969482421875 high = 2.0\n",
      "Number of guesses = 18\n",
      "1.9999923706054688 is close to square root of 4.0\n"
     ]
    }
   ],
   "source": [
    "x = float(input(\"enter a number:\"))\n",
    "\n",
    "epsilon = 0.00001\n",
    "num_guesses = 0\n",
    "\n",
    "\n",
    "if x > 1:\n",
    "    low = 0.0\n",
    "    high = x\n",
    "    ans = (high+low)/ 2\n",
    "    while (high-low) >= 2*epsilon:\n",
    "        print(\"low =\",low,\"high =\", high)\n",
    "        num_guesses += 1\n",
    "        if ans ** 2 < x:\n",
    "            low = ans\n",
    "        else:\n",
    "            high = ans\n",
    "        ans = (high + low)/2.0\n",
    "else:\n",
    "    low = x\n",
    "    high = 1.0\n",
    "    ans = (high+low)/ 2\n",
    "    while (high-low) >= 2*epsilon:\n",
    "        print(\"low =\",low,\"high =\", high)\n",
    "        num_guesses += 1\n",
    "        if ans**2 < x:\n",
    "            low = ans\n",
    "        else:\n",
    "            high = ans\n",
    "        ans = (high + low) / 2\n",
    "\n",
    "print('Number of guesses =', num_guesses)\n",
    "print(ans, 'is close to square root of', x)\n"
   ]
  },
  {
   "cell_type": "markdown",
   "metadata": {},
   "source": [
    "## Solution from Stack Overflow"
   ]
  },
  {
   "cell_type": "code",
   "execution_count": 6,
   "metadata": {},
   "outputs": [
    {
     "name": "stdout",
     "output_type": "stream",
     "text": [
      "low =0.0high = 0.25 ans = 1\n",
      "numGuesses =1\n",
      "0.5is close to square root of0.25\n"
     ]
    }
   ],
   "source": [
    "x = 0.25\n",
    "dp = 0.00001\n",
    "numGuesses = 0\n",
    "low = 0.0\n",
    "high = x\n",
    "ans = 0\n",
    "if x> 1:\n",
    "    ans = (high + low)/2.0\n",
    "else:\n",
    "    ans = 1\n",
    "while abs(ans**2 - x) >= dp:\n",
    "    print(\"low =\"+ str(low) + \"high = \" + str(high) + \" ans = \"  + str(ans))\n",
    "    numGuesses += 1\n",
    "    if ans**2 < x:\n",
    "        low = ans\n",
    "    else:\n",
    "        high = ans\n",
    "    ans = (high + low)/2.0\n",
    "print(\"numGuesses =\" + str(numGuesses))\n",
    "print(str(ans) + \"is close to square root of\"  + str(x))"
   ]
  },
  {
   "cell_type": "code",
   "execution_count": null,
   "metadata": {},
   "outputs": [],
   "source": []
  }
 ],
 "metadata": {
  "kernelspec": {
   "display_name": "Python 3 (ipykernel)",
   "language": "python",
   "name": "python3"
  },
  "language_info": {
   "codemirror_mode": {
    "name": "ipython",
    "version": 3
   },
   "file_extension": ".py",
   "mimetype": "text/x-python",
   "name": "python",
   "nbconvert_exporter": "python",
   "pygments_lexer": "ipython3",
   "version": "3.9.12"
  }
 },
 "nbformat": 4,
 "nbformat_minor": 4
}
