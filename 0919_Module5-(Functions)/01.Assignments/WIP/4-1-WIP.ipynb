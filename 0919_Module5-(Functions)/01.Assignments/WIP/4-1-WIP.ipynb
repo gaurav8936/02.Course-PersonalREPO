{
 "cells": [
  {
   "cell_type": "markdown",
   "metadata": {},
   "source": [
    "### 4-1. For Loops (20 points)\n",
    "\n",
    "Write a script that prompts the user for two words (two, one-word strings). Print all the **unique** letters that are common to both words, in alphabetical order, using **for** loops in your solution. As shown below case does not matter. If there are no letters in common print `There are no letters in common`.\n",
    "\n",
    "Example:\n",
    "```\n",
    "Enter one word: Home\n",
    "Enter another word: Meter\n",
    "\n",
    "Letters in common: em\n",
    "```"
   ]
  },
  {
   "cell_type": "code",
   "execution_count": 8,
   "metadata": {},
   "outputs": [],
   "source": [
    "# Q4-1 Grading Tag:\n",
    "\n",
    "word1 = \"Home\"\n",
    "word2 = \"Meter\"\n",
    "\n",
    "word11 = set(word1.lower())\n",
    "word12 = set(word2.lower())\n",
    "intset = set()"
   ]
  },
  {
   "cell_type": "markdown",
   "metadata": {},
   "source": [
    "* 4-1: Test input of all caps: ab, cd (0.0/5.0)\n",
    "Test Failed: False is not true : Expecting answer of \"There are no letters in common\", output received is Letters in common:\n",
    "* 4-1: Test input of mixed case: hOMe MeTEr (0.0/5.0)\n",
    "Test Failed: False is not true : Expecting answer of \"Letters in common: em\", output received is Letters in common:  em\n",
    "* 4-1: Test input of Home and Meter (0.0/5.0)\n",
    "Test Failed: False is not true : Expecting answer of \"Letters in common: em\", output received is Letters in common:  em\n"
   ]
  },
  {
   "cell_type": "code",
   "execution_count": 9,
   "metadata": {},
   "outputs": [
    {
     "data": {
      "text/plain": [
       "{'e', 'h', 'm', 'o'}"
      ]
     },
     "execution_count": 9,
     "metadata": {},
     "output_type": "execute_result"
    }
   ],
   "source": [
    "word11"
   ]
  },
  {
   "cell_type": "code",
   "execution_count": 11,
   "metadata": {},
   "outputs": [
    {
     "data": {
      "text/plain": [
       "{'e', 'm', 'r', 't'}"
      ]
     },
     "execution_count": 11,
     "metadata": {},
     "output_type": "execute_result"
    }
   ],
   "source": [
    "word12"
   ]
  },
  {
   "cell_type": "code",
   "execution_count": 12,
   "metadata": {},
   "outputs": [],
   "source": [
    "intset = word11 & word12"
   ]
  },
  {
   "cell_type": "code",
   "execution_count": 13,
   "metadata": {},
   "outputs": [
    {
     "data": {
      "text/plain": [
       "{'e', 'm'}"
      ]
     },
     "execution_count": 13,
     "metadata": {},
     "output_type": "execute_result"
    }
   ],
   "source": [
    "intset"
   ]
  },
  {
   "cell_type": "code",
   "execution_count": 5,
   "metadata": {},
   "outputs": [
    {
     "name": "stdin",
     "output_type": "stream",
     "text": [
      "Please enter the first word Home\n",
      "Please enter the second word Meter\n"
     ]
    },
    {
     "name": "stdout",
     "output_type": "stream",
     "text": [
      "Letters in common:  em\n"
     ]
    }
   ],
   "source": [
    "# collect input\n",
    "word1 = str(input(\"Please enter the first word\"))\n",
    "word2 = str(input(\"Please enter the second word\"))\n",
    "\n",
    "# convert input to set\n",
    "word11 = set(word1.lower())\n",
    "word12 = set(word2.lower())\n",
    "\n",
    "# find the intersection of the set & sort\n",
    "intset = sorted((word11 & word12))\n",
    "\n",
    "if len(intset) == 0:\n",
    "    print(\"There are no letters in common\")\n",
    "else:\n",
    "    print('Letters in common:', \"\".join(map(str, intset)))"
   ]
  },
  {
   "cell_type": "code",
   "execution_count": 32,
   "metadata": {},
   "outputs": [
    {
     "name": "stdout",
     "output_type": "stream",
     "text": [
      "blank\n"
     ]
    }
   ],
   "source": [
    "intset = set()\n",
    "\n",
    "if intset == set():\n",
    "    print('blank')\n",
    "else:\n",
    "    print('not blank')"
   ]
  },
  {
   "cell_type": "code",
   "execution_count": 8,
   "metadata": {},
   "outputs": [
    {
     "ename": "SyntaxError",
     "evalue": "invalid syntax (2151935517.py, line 1)",
     "output_type": "error",
     "traceback": [
      "\u001b[0;36m  Input \u001b[0;32mIn [8]\u001b[0;36m\u001b[0m\n\u001b[0;31m    str{'w', 'rrt'}\u001b[0m\n\u001b[0m       ^\u001b[0m\n\u001b[0;31mSyntaxError\u001b[0m\u001b[0;31m:\u001b[0m invalid syntax\n"
     ]
    }
   ],
   "source": [
    "str{'w','rrt'}"
   ]
  },
  {
   "cell_type": "code",
   "execution_count": 14,
   "metadata": {},
   "outputs": [],
   "source": [
    "s = {'a','b'}"
   ]
  },
  {
   "cell_type": "code",
   "execution_count": 15,
   "metadata": {},
   "outputs": [],
   "source": [
    "s = \"\".join(map(str, s))"
   ]
  },
  {
   "cell_type": "code",
   "execution_count": 16,
   "metadata": {},
   "outputs": [
    {
     "data": {
      "text/plain": [
       "'ba'"
      ]
     },
     "execution_count": 16,
     "metadata": {},
     "output_type": "execute_result"
    }
   ],
   "source": [
    "s"
   ]
  },
  {
   "cell_type": "code",
   "execution_count": 17,
   "metadata": {},
   "outputs": [
    {
     "name": "stdout",
     "output_type": "stream",
     "text": [
      "a, b"
     ]
    }
   ],
   "source": [
    "for item in s:\n",
    "    print(item, end = \"\")"
   ]
  },
  {
   "cell_type": "code",
   "execution_count": 19,
   "metadata": {},
   "outputs": [
    {
     "name": "stdout",
     "output_type": "stream",
     "text": [
      "easy is 3.8 to learn python\n"
     ]
    }
   ],
   "source": [
    "set_val = {\"python\",3.8,\"is\",\"easy\",\"to\",\"learn\"}\n",
    "#print(set_val)\n",
    "#print(type(set_val))\n",
    "# Convert set to string\n",
    "str_val = \" \".join(map(str,set_val))\n",
    "# Print value and it's type\n",
    "print(str_val)\n",
    "#print(type(str_val))"
   ]
  },
  {
   "cell_type": "markdown",
   "metadata": {},
   "source": [
    "---"
   ]
  },
  {
   "cell_type": "markdown",
   "metadata": {},
   "source": [
    "# FAILURES - Gradescope"
   ]
  },
  {
   "cell_type": "markdown",
   "metadata": {},
   "source": [
    "4-1: Test input of all caps: ab, cd (0.0/5.0)\n",
    "Test Failed: False is not true : Expecting answer of \"There are no letters in common\", output received is Letters in common:\n",
    "4-1: Test input of mixed case: hOMe MeTEr (0.0/5.0)\n",
    "Test Failed: False is not true : Expecting answer of \"Letters in common: em\", output received is Letters in common:  em\n",
    "4-1: Test input of Home and Meter (0.0/5.0)\n",
    "Test Failed: False is not true : Expecting answer of \"Letters in common: em\", output received is Letters in common:  em\n"
   ]
  },
  {
   "cell_type": "code",
   "execution_count": null,
   "metadata": {},
   "outputs": [],
   "source": []
  }
 ],
 "metadata": {
  "kernelspec": {
   "display_name": "Python 3 (ipykernel)",
   "language": "python",
   "name": "python3"
  },
  "language_info": {
   "codemirror_mode": {
    "name": "ipython",
    "version": 3
   },
   "file_extension": ".py",
   "mimetype": "text/x-python",
   "name": "python",
   "nbconvert_exporter": "python",
   "pygments_lexer": "ipython3",
   "version": "3.9.12"
  }
 },
 "nbformat": 4,
 "nbformat_minor": 4
}
