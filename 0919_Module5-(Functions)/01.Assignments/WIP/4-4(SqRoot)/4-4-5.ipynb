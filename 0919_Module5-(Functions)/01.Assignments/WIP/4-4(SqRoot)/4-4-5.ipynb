{
 "cells": [
  {
   "cell_type": "markdown",
   "metadata": {},
   "source": [
    "## Week 4 Assignment - W200 Introduction to Data Science Programming, UC Berkeley MIDS"
   ]
  },
  {
   "cell_type": "markdown",
   "metadata": {},
   "source": [
    "### 4-4. Interpreting Instructions for an Algorithm (20 points)\n",
    "\n",
    "Implement this digit-by-digit algorithm to find the square root of x to a precision of epsilon.\n",
    "  1. Begin with a step size of 1 and guess of zero.\n",
    "  2. Increase the guess by the step size as long as doing so would not cause the guess^2 to exceed x. Repeat this step (step 2) until the next repetition will cause guess^2 to exceed x.\n",
    "  3. If the step size is greater than or equal to epsilon, then divide the step size by 10 and go back to step 2.\n",
    "\n",
    "Notice that once a digit has been found, it is not changed again. Try using your code to find the square root of 10 to an epsilon of 8 decimal places. This algorithm should not take over 10 seconds to run (if it does you have coded something incorrectly!). \n",
    "\n",
    "If you are getting an answer that is off by epsilon (for example 3.16227767 instead of 3.16227766), this might be caused by the floating point error. You can read more about that here: https://docs.python.org/3/tutorial/floatingpoint.html. To fix this problem, you can use the Decimal library here: https://docs.python.org/3/library/decimal.html#module-decimal\n",
    "\n",
    "Hint: It might be helpful to write out by hand an easier example like '4' to understand how the algorithm works.\n",
    "\n",
    "Example output:\n",
    "\n",
    "```\n",
    "Enter a number to find the square root: 10\n",
    "The square root of 10 is: 3.16227766\n",
    "```"
   ]
  },
  {
   "cell_type": "markdown",
   "metadata": {},
   "source": [
    "<font size = 6, color = red>Making Solution work for floats"
   ]
  },
  {
   "cell_type": "code",
   "execution_count": 1,
   "metadata": {},
   "outputs": [
    {
     "name": "stdin",
     "output_type": "stream",
     "text": [
      "Enter a number to find the square root:  75.23\n"
     ]
    },
    {
     "name": "stdout",
     "output_type": "stream",
     "text": [
      "square root of number is  8.67352288\n"
     ]
    }
   ],
   "source": [
    "# Q4-4 Grading Tag:\n",
    "\n",
    "num = float(input(\"Enter a number to find the square root: \"))\n",
    "\n",
    "epsilon = 0.00000001\n",
    "\n",
    "# ---------------------------------------------------------------\n",
    "# function to extract power from decimals\n",
    "\n",
    "def powerfromdecimal(epsilon):\n",
    "    mydecimal = epsilon\n",
    "    mydecimalstring = str(mydecimal)\n",
    "    power = newnum = int(str(mydecimalstring)[-2:])\n",
    "    return(power)\n",
    "# ---------------------------------------------------------------\n",
    "    \n",
    "a = 0.0\n",
    "dec = 0.0\n",
    "num2 = int(num) # the integer portion of the number\n",
    "divisor = 10\n",
    "power = powerfromdecimal(epsilon)\n",
    "sum = 0\n",
    "\n",
    "### integer section ####\n",
    "for int in range(1,num2):\n",
    "    if int**2 < num2:\n",
    "        a = int\n",
    "    else:\n",
    "        break\n",
    "\n",
    "### recursive calculation for epsilon\n",
    "\n",
    "for c in range(1,power+1):\n",
    "#    print(c)\n",
    "    divisor = 10**c\n",
    "#    print('this is the entering divisor', divisor)\n",
    "\n",
    "### decimal section\n",
    "\n",
    "    for dec in range(1, 10):\n",
    "#        print('value of divisor inside dec loop', divisor)\n",
    "        if (a + dec/divisor)**2 < num:\n",
    "#            print('exit value of dec/divisor is', dec/divisor )\n",
    "            # sum = dec/divisor\n",
    "            # print('sum is', sum)\n",
    "            None \n",
    "        else:\n",
    "            break\n",
    "    sum = sum + (dec-1)/divisor\n",
    "    a = a + (dec-1)/divisor\n",
    "\n",
    "print('square root of number is ', a)"
   ]
  },
  {
   "cell_type": "code",
   "execution_count": null,
   "metadata": {},
   "outputs": [],
   "source": []
  },
  {
   "cell_type": "code",
   "execution_count": null,
   "metadata": {},
   "outputs": [],
   "source": []
  },
  {
   "cell_type": "code",
   "execution_count": null,
   "metadata": {},
   "outputs": [],
   "source": []
  },
  {
   "cell_type": "code",
   "execution_count": null,
   "metadata": {},
   "outputs": [],
   "source": []
  },
  {
   "cell_type": "code",
   "execution_count": null,
   "metadata": {},
   "outputs": [],
   "source": []
  },
  {
   "cell_type": "code",
   "execution_count": null,
   "metadata": {},
   "outputs": [],
   "source": []
  },
  {
   "cell_type": "code",
   "execution_count": null,
   "metadata": {},
   "outputs": [],
   "source": []
  },
  {
   "cell_type": "code",
   "execution_count": null,
   "metadata": {},
   "outputs": [],
   "source": []
  },
  {
   "cell_type": "code",
   "execution_count": null,
   "metadata": {},
   "outputs": [],
   "source": []
  }
 ],
 "metadata": {
  "kernelspec": {
   "display_name": "Python 3 (ipykernel)",
   "language": "python",
   "name": "python3"
  },
  "language_info": {
   "codemirror_mode": {
    "name": "ipython",
    "version": 3
   },
   "file_extension": ".py",
   "mimetype": "text/x-python",
   "name": "python",
   "nbconvert_exporter": "python",
   "pygments_lexer": "ipython3",
   "version": "3.9.12"
  }
 },
 "nbformat": 4,
 "nbformat_minor": 4
}
