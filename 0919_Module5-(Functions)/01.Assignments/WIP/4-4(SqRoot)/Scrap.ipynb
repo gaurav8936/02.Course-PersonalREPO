{
 "cells": [
  {
   "cell_type": "code",
   "execution_count": 1,
   "id": "22dc5333-b44f-4574-8a9b-f525ca0e5bfe",
   "metadata": {},
   "outputs": [],
   "source": [
    "num = 9.02"
   ]
  },
  {
   "cell_type": "code",
   "execution_count": 2,
   "id": "ebaca76c-b71f-48dd-b52e-b5efbbfed083",
   "metadata": {},
   "outputs": [
    {
     "data": {
      "text/plain": [
       "float"
      ]
     },
     "execution_count": 2,
     "metadata": {},
     "output_type": "execute_result"
    }
   ],
   "source": [
    "type(num)"
   ]
  },
  {
   "cell_type": "code",
   "execution_count": 3,
   "id": "54d78b73-8497-4641-8d3e-3bffa8bac887",
   "metadata": {},
   "outputs": [],
   "source": [
    "num2 = int(num)"
   ]
  },
  {
   "cell_type": "code",
   "execution_count": 4,
   "id": "e3ca5df0-e1c2-4704-b7d4-9ab6eff0b9ca",
   "metadata": {},
   "outputs": [
    {
     "data": {
      "text/plain": [
       "9"
      ]
     },
     "execution_count": 4,
     "metadata": {},
     "output_type": "execute_result"
    }
   ],
   "source": [
    "num2"
   ]
  },
  {
   "cell_type": "code",
   "execution_count": 5,
   "id": "7e22bf08-242a-4366-9ee3-49952bc54d13",
   "metadata": {},
   "outputs": [
    {
     "data": {
      "text/plain": [
       "int"
      ]
     },
     "execution_count": 5,
     "metadata": {},
     "output_type": "execute_result"
    }
   ],
   "source": [
    "type(num2)"
   ]
  },
  {
   "cell_type": "code",
   "execution_count": 6,
   "id": "1f9e577a-efd3-4cb0-b1fc-e6d096ece56f",
   "metadata": {},
   "outputs": [
    {
     "name": "stdout",
     "output_type": "stream",
     "text": [
      "<class 'int'>\n"
     ]
    }
   ],
   "source": [
    "print(int)"
   ]
  },
  {
   "cell_type": "code",
   "execution_count": null,
   "id": "ad515474-7452-4481-b978-07f3b87b0757",
   "metadata": {},
   "outputs": [],
   "source": []
  }
 ],
 "metadata": {
  "kernelspec": {
   "display_name": "Python 3 (ipykernel)",
   "language": "python",
   "name": "python3"
  },
  "language_info": {
   "codemirror_mode": {
    "name": "ipython",
    "version": 3
   },
   "file_extension": ".py",
   "mimetype": "text/x-python",
   "name": "python",
   "nbconvert_exporter": "python",
   "pygments_lexer": "ipython3",
   "version": "3.9.12"
  }
 },
 "nbformat": 4,
 "nbformat_minor": 5
}
