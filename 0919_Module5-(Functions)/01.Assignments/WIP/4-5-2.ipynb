{
 "cells": [
  {
   "cell_type": "markdown",
   "metadata": {},
   "source": [
    "## Week 4 Assignment - W200 Introduction to Data Science Programming, UC Berkeley MIDS"
   ]
  },
  {
   "cell_type": "markdown",
   "metadata": {},
   "source": [
    "## 4-5. List Comprehensions (25 points - 5 points each)\n",
    "\n",
    "Each list comprehension below can be done in just one line/statement and needs to output one list. The autograder will fail if the line count is more than 5 lines in a cell (not including Q4-5-2 which has the longer text string).\n",
    "\n",
    "**Please print this list so the autograder will pickup the output. That is, you need to use `print(<list comprehension>)`** <br>\n",
    "A note on displaying lists in Python: sometimes Python displays lists like `[1,2,3]` and other times lists display as \n",
    "```\n",
    "[1,\n",
    " 2,\n",
    " 3]\n",
    "```\n",
    "Either way these lists contain the same values and information (and are the same answer for this problem)."
   ]
  },
  {
   "cell_type": "markdown",
   "metadata": {},
   "source": [
    "**4-5-2.** A string is defined in the code snippet below. **Use a single comprehension** to make a list of the first letter of each word in the snippet.\n",
    "\n",
    "Example output (these are the first two elements of the list - obviously not the full list!):\n",
    "```\n",
    "['I', 'l', ... ]\n",
    "```"
   ]
  },
  {
   "cell_type": "code",
   "execution_count": 2,
   "metadata": {},
   "outputs": [
    {
     "name": "stdout",
     "output_type": "stream",
     "text": [
      "['I', 'l', 'm', 'l', 'a', 'q', 'm', 'a', 'a', 't', 'N', 'e', 'm', 'n', 't', 'm', 'n', 't', 's', 'n', 'm', 't', 'a', 'a', 't', 'b', 'F', 't', 't', 's', 'o', 'l', 'I', 'f']\n"
     ]
    }
   ],
   "source": [
    "# Q4-5-2 Grading Tag:\n",
    "\n",
    "text = \"I live my life a quarter mile at a time. \\\n",
    "Nothing else matters: not the mortgage, not the store, \\\n",
    "not my team and all their bullshit. \\\n",
    "For those ten seconds or less, I’m free.\"\n",
    "\n",
    "mylist = [word[0] for word in text.split()]\n",
    "print(mylist)\n",
    "\n",
    "# the slashes just mean that the string continues onto the next line\n",
    "# if you print the text, it will make no difference"
   ]
  },
  {
   "cell_type": "code",
   "execution_count": null,
   "metadata": {},
   "outputs": [],
   "source": []
  }
 ],
 "metadata": {
  "kernelspec": {
   "display_name": "Python 3 (ipykernel)",
   "language": "python",
   "name": "python3"
  },
  "language_info": {
   "codemirror_mode": {
    "name": "ipython",
    "version": 3
   },
   "file_extension": ".py",
   "mimetype": "text/x-python",
   "name": "python",
   "nbconvert_exporter": "python",
   "pygments_lexer": "ipython3",
   "version": "3.9.12"
  }
 },
 "nbformat": 4,
 "nbformat_minor": 4
}
