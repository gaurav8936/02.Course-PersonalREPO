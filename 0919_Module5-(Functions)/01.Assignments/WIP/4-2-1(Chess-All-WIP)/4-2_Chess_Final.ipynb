{
 "cells": [
  {
   "cell_type": "markdown",
   "id": "b3463aad-0c90-44b7-855c-05f09916d236",
   "metadata": {
    "tags": []
   },
   "source": [
    "### 4-2. A Game of Chess (20 points)\n",
    "You place a pawn at the top left corner of an n-by-n chess board, labeled (0,0).  For each move, you have a choice: move the pawn down a single space, or move the pawn down one space and right one space.  That is, if the pawn is at position (i,j), you can move the pawn to (i+1,j) or (i+1, j+1).\n",
    "\n",
    "Ask the user for the size of a chessboard, n (**integer**).  Find the number of different paths **starting from (0,0)** that the pawn could take to reach each position on the chess board.  For example, there are two different paths the pawn can take to reach (2,1). Look at the diagrams below to convince yourself of this. You can see the four paths that you can take by move 2.\n",
    "```\n",
    "  Start -> Move 1 -> Move 2\n",
    "\n",
    "  (0,0) ->  (1,0) -> (2,1)\n",
    "  \n",
    "  (0,0) ->  (1,0) -> (2,0)\n",
    "  \n",
    "  (0,0) ->  (1,1) -> (2,1)\n",
    "  \n",
    "  (0,0) ->  (1,1) -> (2,2)\n",
    "```\n",
    "\n",
    "Print the board with the number of ways to reach each square labeled as shown below.\n",
    "\n",
    "For example:\n",
    "```\n",
    "Enter a board size: 4\n",
    "\n",
    "1 0 0 0\n",
    "1 1 0 0\n",
    "1 2 1 0\n",
    "1 3 3 1\n",
    "```"
   ]
  },
  {
   "cell_type": "code",
   "execution_count": null,
   "id": "d31e125d-646e-4cfe-a505-838bc6fdc60f",
   "metadata": {},
   "outputs": [],
   "source": [
    "# Q4-2 Grading Tag:\n",
    "\n",
    "# Get the user input for the board size\n",
    "n = int(input(\"Enter a board size: \"))"
   ]
  },
  {
   "cell_type": "markdown",
   "id": "50b86983-e877-44bf-a56d-41f4c7370471",
   "metadata": {},
   "source": [
    "Process\n",
    "\n",
    "1. Generate square and store as coord\n",
    "2. Model the movements into two paths (a & b) - define functions for each\n",
    "3. Generate superset of possible outcomes starting from (0,0)\n",
    "4. Sum up distinct combinations of moves (say, (2,1) exists 3 times, it implies that it took three moves to get to (2,1) from \n",
    "5. Flatten out the resulting nested list into a dictionary & get key-value pairs\n",
    "6. Print output in a square\n",
    "\n"
   ]
  },
  {
   "cell_type": "markdown",
   "id": "5ce878a1-1a8c-4a86-bfdf-bae73682cb9f",
   "metadata": {},
   "source": [
    "# 1"
   ]
  },
  {
   "cell_type": "code",
   "execution_count": 2,
   "id": "a9768280-2a0d-4a9f-a4d3-18557fb13ed1",
   "metadata": {},
   "outputs": [
    {
     "name": "stdin",
     "output_type": "stream",
     "text": [
      "Enter a board size:  8\n"
     ]
    },
    {
     "name": "stdout",
     "output_type": "stream",
     "text": [
      "[0, 0][0, 1][0, 2][0, 3][0, 4][0, 5][0, 6][0, 7][0, 8]\n",
      "[1, 0][1, 1][1, 2][1, 3][1, 4][1, 5][1, 6][1, 7][1, 8]\n",
      "[2, 0][2, 1][2, 2][2, 3][2, 4][2, 5][2, 6][2, 7][2, 8]\n",
      "[3, 0][3, 1][3, 2][3, 3][3, 4][3, 5][3, 6][3, 7][3, 8]\n",
      "[4, 0][4, 1][4, 2][4, 3][4, 4][4, 5][4, 6][4, 7][4, 8]\n",
      "[5, 0][5, 1][5, 2][5, 3][5, 4][5, 5][5, 6][5, 7][5, 8]\n",
      "[6, 0][6, 1][6, 2][6, 3][6, 4][6, 5][6, 6][6, 7][6, 8]\n",
      "[7, 0][7, 1][7, 2][7, 3][7, 4][7, 5][7, 6][7, 7][7, 8]\n",
      "[8, 0][8, 1][8, 2][8, 3][8, 4][8, 5][8, 6][8, 7][8, 8]\n"
     ]
    }
   ],
   "source": [
    "n = int(input(\"Enter a board size: \"))\n",
    "\n",
    "row = 0\n",
    "col = 0\n",
    "coord = []\n",
    "\n",
    "for row in range(0,n+1):\n",
    "    for col in range(0,n+1):\n",
    "        \n",
    "        coord.append([row, col])\n",
    "        #print(coord, end = \"\")\n",
    "        print([row, col], end = \"\")\n",
    "    print(\"\")"
   ]
  },
  {
   "cell_type": "markdown",
   "id": "67564548-6429-4640-b353-b17779a9a055",
   "metadata": {},
   "source": [
    "# 2"
   ]
  },
  {
   "cell_type": "code",
   "execution_count": 3,
   "id": "d6ddc56d-08af-4bbf-b389-0cac403b7ec7",
   "metadata": {},
   "outputs": [],
   "source": [
    "# function that takes in an item(i,j) and returns two values: patha and pathb\n",
    "\n",
    "def funca(item):\n",
    "    row = item[0]\n",
    "    col = item[1]\n",
    "    return([row+1, col])\n",
    "\n",
    "def funcb(item):\n",
    "    row = item[0]\n",
    "    col = item[1]\n",
    "    return([row+1, col+1])"
   ]
  },
  {
   "cell_type": "markdown",
   "id": "68bd9f65-27c7-4f9d-a2b8-3ccd8a15d7fe",
   "metadata": {},
   "source": [
    "# 3"
   ]
  },
  {
   "cell_type": "code",
   "execution_count": 6,
   "id": "4db57a1a-4e1f-4855-9c30-017c5e48d57d",
   "metadata": {},
   "outputs": [
    {
     "name": "stdout",
     "output_type": "stream",
     "text": [
      "[[0, 0], [1, 0], [1, 1], [2, 0], [2, 1], [2, 1], [2, 2], [3, 0], [3, 1], [3, 1], [3, 2], [3, 1], [3, 2], [3, 2], [3, 3], [4, 0], [4, 1], [4, 1], [4, 2], [4, 1], [4, 2], [4, 2], [4, 3], [4, 1], [4, 2], [4, 2], [4, 3], [4, 2], [4, 3], [4, 3], [4, 4], [5, 0], [5, 1], [5, 1], [5, 2], [5, 1], [5, 2], [5, 2], [5, 3], [5, 1], [5, 2], [5, 2], [5, 3], [5, 2], [5, 3], [5, 3], [5, 4], [5, 1], [5, 2], [5, 2], [5, 3], [5, 2], [5, 3], [5, 3], [5, 4], [5, 2], [5, 3], [5, 3], [5, 4], [5, 3], [5, 4], [5, 4], [5, 5], [6, 0], [6, 1], [6, 1], [6, 2], [6, 1], [6, 2], [6, 2], [6, 3], [6, 1], [6, 2], [6, 2], [6, 3], [6, 2], [6, 3], [6, 3], [6, 4], [6, 1], [6, 2], [6, 2], [6, 3], [6, 2], [6, 3], [6, 3], [6, 4], [6, 2], [6, 3], [6, 3], [6, 4], [6, 3], [6, 4], [6, 4], [6, 5], [6, 1], [6, 2], [6, 2], [6, 3], [6, 2], [6, 3], [6, 3], [6, 4], [6, 2], [6, 3], [6, 3], [6, 4], [6, 3], [6, 4], [6, 4], [6, 5], [6, 2], [6, 3], [6, 3], [6, 4], [6, 3], [6, 4], [6, 4], [6, 5], [6, 3], [6, 4], [6, 4], [6, 5], [6, 4], [6, 5], [6, 5], [6, 6], [7, 0], [7, 1], [7, 1], [7, 2], [7, 1], [7, 2], [7, 2], [7, 3], [7, 1], [7, 2], [7, 2], [7, 3], [7, 2], [7, 3], [7, 3], [7, 4], [7, 1], [7, 2], [7, 2], [7, 3], [7, 2], [7, 3], [7, 3], [7, 4], [7, 2], [7, 3], [7, 3], [7, 4], [7, 3], [7, 4], [7, 4], [7, 5], [7, 1], [7, 2], [7, 2], [7, 3], [7, 2], [7, 3], [7, 3], [7, 4], [7, 2], [7, 3], [7, 3], [7, 4], [7, 3], [7, 4], [7, 4], [7, 5], [7, 2], [7, 3], [7, 3], [7, 4], [7, 3], [7, 4], [7, 4], [7, 5], [7, 3], [7, 4], [7, 4], [7, 5], [7, 4], [7, 5], [7, 5], [7, 6], [7, 1], [7, 2], [7, 2], [7, 3], [7, 2], [7, 3], [7, 3], [7, 4], [7, 2], [7, 3], [7, 3], [7, 4], [7, 3], [7, 4], [7, 4], [7, 5], [7, 2], [7, 3], [7, 3], [7, 4], [7, 3], [7, 4], [7, 4], [7, 5], [7, 3], [7, 4], [7, 4], [7, 5], [7, 4], [7, 5], [7, 5], [7, 6], [7, 2], [7, 3], [7, 3], [7, 4], [7, 3], [7, 4], [7, 4], [7, 5], [7, 3], [7, 4], [7, 4], [7, 5], [7, 4], [7, 5], [7, 5], [7, 6], [7, 3], [7, 4], [7, 4], [7, 5], [7, 4], [7, 5], [7, 5], [7, 6], [7, 4], [7, 5], [7, 5], [7, 6], [7, 5], [7, 6], [7, 6], [7, 7], [8, 0], [8, 1], [8, 1], [8, 2], [8, 1], [8, 2], [8, 2], [8, 3], [8, 1], [8, 2], [8, 2], [8, 3], [8, 2], [8, 3], [8, 3], [8, 4], [8, 1], [8, 2], [8, 2], [8, 3], [8, 2], [8, 3], [8, 3], [8, 4], [8, 2], [8, 3], [8, 3], [8, 4], [8, 3], [8, 4], [8, 4], [8, 5], [8, 1], [8, 2], [8, 2], [8, 3], [8, 2], [8, 3], [8, 3], [8, 4], [8, 2], [8, 3], [8, 3], [8, 4], [8, 3], [8, 4], [8, 4], [8, 5], [8, 2], [8, 3], [8, 3], [8, 4], [8, 3], [8, 4], [8, 4], [8, 5], [8, 3], [8, 4], [8, 4], [8, 5], [8, 4], [8, 5], [8, 5], [8, 6], [8, 1], [8, 2], [8, 2], [8, 3]]\n"
     ]
    }
   ],
   "source": [
    "mylist = [[0,0]]\n",
    "counter = 0\n",
    "\n",
    "for item in mylist:\n",
    "    patha = funca(item)\n",
    "    if patha not in [item for item in coord]:\n",
    "        break\n",
    "    #print(patha)\n",
    "    pathb = funcb(item)\n",
    "    if pathb not in [item for item in coord]:\n",
    "        break\n",
    "    #print(pathb)\n",
    "    mylist.extend([patha])\n",
    "    mylist.extend([pathb])\n",
    "    counter += 1\n",
    "    if counter> n*20:\n",
    "        break\n",
    "print(mylist)"
   ]
  },
  {
   "cell_type": "markdown",
   "id": "4170a8b2-0099-4eef-af94-72c6f0cdec2a",
   "metadata": {},
   "source": [
    "# 4"
   ]
  },
  {
   "cell_type": "code",
   "execution_count": 7,
   "id": "5c7d1cb0-094c-4f6c-af52-62823d67fa12",
   "metadata": {},
   "outputs": [
    {
     "name": "stdout",
     "output_type": "stream",
     "text": [
      "[[[0, 0], 1], [[1, 0], 1], [[1, 1], 1], [[2, 0], 1], [[2, 1], 2], [[2, 2], 1], [[3, 0], 1], [[3, 1], 3], [[3, 2], 3], [[3, 3], 1], [[4, 0], 1], [[4, 1], 4], [[4, 2], 6], [[4, 3], 4], [[4, 4], 1], [[5, 0], 1], [[5, 1], 5], [[5, 2], 10], [[5, 3], 10], [[5, 4], 5], [[5, 5], 1], [[6, 0], 1], [[6, 1], 6], [[6, 2], 15], [[6, 3], 20], [[6, 4], 15], [[6, 5], 6], [[6, 6], 1], [[7, 0], 1], [[7, 1], 7], [[7, 2], 21], [[7, 3], 35], [[7, 4], 35], [[7, 5], 21], [[7, 6], 7], [[7, 7], 1], [[8, 0], 1], [[8, 1], 7], [[8, 2], 17], [[8, 3], 21], [[8, 4], 15], [[8, 5], 6], [[8, 6], 1]]\n"
     ]
    }
   ],
   "source": [
    "new_arr = []\n",
    "for elem in mylist:\n",
    "    obj = [ [elem, mylist.count(elem)] ]\n",
    "    if obj[0] not in new_arr:\n",
    "        new_arr += obj\n",
    "\n",
    "print(new_arr)"
   ]
  },
  {
   "cell_type": "markdown",
   "id": "fcb5765f-8741-4065-82ec-5e37c1481843",
   "metadata": {},
   "source": [
    "# 5"
   ]
  },
  {
   "cell_type": "code",
   "execution_count": 14,
   "id": "c83dfc89-ff5e-487f-9cf5-7270451b365d",
   "metadata": {},
   "outputs": [],
   "source": [
    "d = {tuple(l):x for l, x in new_arr}\n",
    "# convert the nested list into a dictionary of tuples (with key == coord and value == count)\n",
    "# {(0, 0): 1, (1, 0): 1, (1, 1): 1, (2, 0): 1, (2, 1): 2, (2, 2): 1}\n",
    "\n",
    "#out = [d.get((i,j), 0) for i in range(n) for j in range(n)]\n",
    "# [1, 0, 0, 1, 1, 0, 1, 2, 1]\n",
    "\n",
    "out = [[d.get((i,j), 0) for j in range(n)] for i in range(n)]"
   ]
  },
  {
   "cell_type": "markdown",
   "id": "ad1e3a80-4df6-4e3e-a967-cb12241743cf",
   "metadata": {},
   "source": [
    "# 6"
   ]
  },
  {
   "cell_type": "code",
   "execution_count": 15,
   "id": "eb77231f-54d9-411b-a621-ad98358615e2",
   "metadata": {},
   "outputs": [
    {
     "name": "stdout",
     "output_type": "stream",
     "text": [
      "1 0 0 0 0 0 0 0 \n",
      "1 1 0 0 0 0 0 0 \n",
      "1 2 1 0 0 0 0 0 \n",
      "1 3 3 1 0 0 0 0 \n",
      "1 4 6 4 1 0 0 0 \n",
      "1 5 10 10 5 1 0 0 \n",
      "1 6 15 20 15 6 1 0 \n",
      "1 7 21 35 35 21 7 1 \n"
     ]
    }
   ],
   "source": [
    "for row in out:\n",
    "    for cell in row:\n",
    "        print(cell, end=\" \")\n",
    "    print()"
   ]
  },
  {
   "cell_type": "code",
   "execution_count": null,
   "id": "165b88ba-5c5a-4718-98d1-005e49118981",
   "metadata": {},
   "outputs": [],
   "source": []
  }
 ],
 "metadata": {
  "kernelspec": {
   "display_name": "Python 3 (ipykernel)",
   "language": "python",
   "name": "python3"
  },
  "language_info": {
   "codemirror_mode": {
    "name": "ipython",
    "version": 3
   },
   "file_extension": ".py",
   "mimetype": "text/x-python",
   "name": "python",
   "nbconvert_exporter": "python",
   "pygments_lexer": "ipython3",
   "version": "3.9.12"
  }
 },
 "nbformat": 4,
 "nbformat_minor": 5
}
