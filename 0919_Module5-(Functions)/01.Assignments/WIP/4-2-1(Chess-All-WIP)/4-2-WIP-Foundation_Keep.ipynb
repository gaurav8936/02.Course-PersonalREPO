{
 "cells": [
  {
   "cell_type": "markdown",
   "metadata": {},
   "source": [
    "### 4-2. A Game of Chess (20 points)\n",
    "You place a pawn at the top left corner of an n-by-n chess board, labeled (0,0).  For each move, you have a choice: move the pawn down a single space, or move the pawn down one space and right one space.  That is, if the pawn is at position (i,j), you can move the pawn to (i+1,j) or (i+1, j+1).\n",
    "\n",
    "Ask the user for the size of a chessboard, n (**integer**).  Find the number of different paths **starting from (0,0)** that the pawn could take to reach each position on the chess board.  For example, there are two different paths the pawn can take to reach (2,1). Look at the diagrams below to convince yourself of this. You can see the four paths that you can take by move 2.\n",
    "```\n",
    "  Start -> Move 1 -> Move 2\n",
    "\n",
    "  (0,0) ->  (1,0) -> (2,1)\n",
    "  \n",
    "  (0,0) ->  (1,0) -> (2,0)\n",
    "  \n",
    "  (0,0) ->  (1,1) -> (2,1)\n",
    "  \n",
    "  (0,0) ->  (1,1) -> (2,2)\n",
    "```\n",
    "\n",
    "Print the board with the number of ways to reach each square labeled as shown below.\n",
    "\n",
    "For example:\n",
    "```\n",
    "Enter a board size: 4\n",
    "\n",
    "1 0 0 0\n",
    "1 1 0 0\n",
    "1 2 1 0\n",
    "1 3 3 1\n",
    "```"
   ]
  },
  {
   "cell_type": "code",
   "execution_count": null,
   "metadata": {},
   "outputs": [],
   "source": [
    "# Q4-2 Grading Tag:\n",
    "\n",
    "# Get the user input for the board size\n",
    "n = int(input(\"Enter a board size: \"))"
   ]
  },
  {
   "cell_type": "markdown",
   "metadata": {},
   "source": [
    "choices from any position: starting at (i,j)\n",
    "(i + 1, j)\n",
    "(i + 1, j + 1)\n",
    "\n",
    "`` options for moving from (0,0) to (2,1)\n",
    "\n",
    "(0,0) --> (1,0) --> (2,0)\n",
    "(0,0) --> (1,0) --> (2,1)\n",
    "(0,0) --> (1,1) --> (2,1)\n",
    "(0,0) --> (1,1) --> (2,2)\n",
    "\n",
    "\n",
    "step 1: (0,0) --> (1,0) or (1,1)\n",
    "\n",
    "step 2: (1,0) --> (2,1) or (2,0)\n",
    "        (1,1) --> (2,1) or (2,2)\n",
    "        \n",
    "i = 0\n",
    "j = 0\n",
    "\n",
    "move 1: (i+1, j)   or  (i+1, j+1)\n",
    "move 2: (i+1, j)   --> (i+1+1, j) .... (2,0)\n",
    "                   --> (i+1+1, j+1)... (2,1)\n",
    "        (i+1, j+1) --> (i+1+1, j+1)... (2,1)\n",
    "                   --> (i+1+1, j+1+1). (2,2)\n",
    "`` rule at each step\n",
    ".......apply (i+1, j) first, then (i+1, j+1)\n",
    "....... reset the new i + j\n",
    "....... 2 paths again (i+1, j) or (i+1, j+1)\n",
    "\n",
    "(0,0) --> (0,1) down --> (1,2) down & right\n",
    "\n",
    "(0,0) --> (1,1) down & right--> (1,2) down\n",
    "\n",
    "(0,0) -- > (1,0) up --> (2,0) up -- else, down and right is alsopossibel\n",
    "\n",
    "(0,0) --> (1,0) up --> (0,1) down & right\n",
    "\n",
    "(0,0) --> (1,1) down & right --> (2,1)"
   ]
  },
  {
   "cell_type": "code",
   "execution_count": 3,
   "metadata": {},
   "outputs": [],
   "source": [
    "# #### (3,2)\n",
    "# ....... validate the theory \n",
    "# --> (3,2)\n",
    "# .. (0,0) -->  (1,0) --> (2,0) --> (3,0)\n",
    "#                               --> (3,1)\n",
    "#                     --> (2,1) --> (3,1)\n",
    "#                               --> (3,2)\n",
    "#          ---> (1,1) --> (2,1) --> (3,1)\n",
    "#                               --> (3,2)\n",
    "#                     --> (2,2) --> (3,2)\n",
    "#                               --> (3,3)\n",
    "# ............ there are 3 ways to get from (0,0) to (3,2)                              \n",
    "\n",
    "# #### (2,1)\n",
    "\n",
    "# --> (1,1)\n",
    "# .. (0,0) -->  (1,0) --> (2,0) \n",
    "#                     --> (2,1) \n",
    "#          ---> (1,1) --> (2,1) \n",
    "#                     --> (2,2) \n",
    "                    \n",
    "# ............ there are 3 ways to get from (0,0) to (3,2)  \n"
   ]
  },
  {
   "cell_type": "code",
   "execution_count": null,
   "metadata": {},
   "outputs": [],
   "source": [
    "# Steps \n",
    "\n",
    "# 1.take user input for number\n",
    "# 2. generate a square to get all position positional combinations\n",
    "# 3. you can move in three directions (first pick 1,0) and 0,1 & 1,1\n",
    "\n",
    "# 4. determine logic for 1,0 (this is 1 move)\n",
    "# 5. validation logic for 0,1 (this is 0 moves)\n",
    "# 6. determine logic for 1,1 (this is also 0 moves)\n",
    "\n",
    "# 7."
   ]
  },
  {
   "cell_type": "code",
   "execution_count": null,
   "metadata": {},
   "outputs": [],
   "source": [
    "#1. take input and generate square\n",
    "\n",
    "num = 5\n",
    "\n",
    "row = 0\n",
    "col = 0\n",
    "coord = []\n",
    "\n",
    "for row in range(0,num+1):\n",
    "    for col in range(0,num+1):\n",
    "        coord.append([row, col])\n",
    "        print(coord, end = \"\")\n",
    "        print()\n",
    "#        end = \"\"\n",
    "\n",
    "print(coord)#, end = \"\")"
   ]
  },
  {
   "cell_type": "markdown",
   "metadata": {},
   "source": [
    "### this code works"
   ]
  },
  {
   "cell_type": "code",
   "execution_count": 1,
   "metadata": {},
   "outputs": [
    {
     "name": "stdin",
     "output_type": "stream",
     "text": [
      "Please enter a number : 6\n"
     ]
    },
    {
     "name": "stdout",
     "output_type": "stream",
     "text": [
      "(0, 0)(0, 1)(0, 2)(0, 3)(0, 4)(0, 5)(0, 6)\n",
      "(1, 0)(1, 1)(1, 2)(1, 3)(1, 4)(1, 5)(1, 6)\n",
      "(2, 0)(2, 1)(2, 2)(2, 3)(2, 4)(2, 5)(2, 6)\n",
      "(3, 0)(3, 1)(3, 2)(3, 3)(3, 4)(3, 5)(3, 6)\n",
      "(4, 0)(4, 1)(4, 2)(4, 3)(4, 4)(4, 5)(4, 6)\n",
      "(5, 0)(5, 1)(5, 2)(5, 3)(5, 4)(5, 5)(5, 6)\n",
      "(6, 0)(6, 1)(6, 2)(6, 3)(6, 4)(6, 5)(6, 6)\n"
     ]
    }
   ],
   "source": [
    "#1. take input and generate square\n",
    "\n",
    "#num = 4\n",
    "\n",
    "num = int(input(\"Please enter a number :\"))\n",
    "\n",
    "row = 0\n",
    "col = 0\n",
    "coord = []\n",
    "\n",
    "for row in range(0,num+1):\n",
    "    for col in range(0,num+1):\n",
    "        \n",
    "        coord.append([row, col])\n",
    "        #print(coord, end = \"\")\n",
    "        print((row, col), end = \"\")\n",
    "    print(\"\")\n",
    "#        end = \"\"\n",
    "\n",
    "#print(coord)#, end = \"\")\n",
    "\n",
    "\n",
    "# num = 5\n",
    "\n",
    "# print(\"Square pattern is: \")\n",
    "# for i in range(1,num+1):\n",
    "#     for j in range(1,num+1):\n",
    "#         print((i, j), end=\"\")\n",
    "#     print()\n",
    "    \n",
    "    \n",
    "    "
   ]
  },
  {
   "cell_type": "code",
   "execution_count": 81,
   "metadata": {},
   "outputs": [
    {
     "name": "stdout",
     "output_type": "stream",
     "text": [
      "\n",
      "[[0, 0], [0, 1], [0, 2], [0, 3], [0, 4]]\n",
      "\n",
      "[[0, 0], [0, 1], [0, 2], [0, 3], [0, 4], [1, 0], [1, 1], [1, 2], [1, 3], [1, 4]]\n",
      "\n",
      "[[0, 0], [0, 1], [0, 2], [0, 3], [0, 4], [1, 0], [1, 1], [1, 2], [1, 3], [1, 4], [2, 0], [2, 1], [2, 2], [2, 3], [2, 4]]\n",
      "\n",
      "[[0, 0], [0, 1], [0, 2], [0, 3], [0, 4], [1, 0], [1, 1], [1, 2], [1, 3], [1, 4], [2, 0], [2, 1], [2, 2], [2, 3], [2, 4], [3, 0], [3, 1], [3, 2], [3, 3], [3, 4]]\n",
      "\n",
      "[[0, 0], [0, 1], [0, 2], [0, 3], [0, 4], [1, 0], [1, 1], [1, 2], [1, 3], [1, 4], [2, 0], [2, 1], [2, 2], [2, 3], [2, 4], [3, 0], [3, 1], [3, 2], [3, 3], [3, 4], [4, 0], [4, 1], [4, 2], [4, 3], [4, 4]]\n"
     ]
    }
   ],
   "source": [
    "num = 4\n",
    "\n",
    "#num = int(input(\"Please enter a number :\"))\n",
    "\n",
    "row = 0\n",
    "col = 0\n",
    "coord = []\n",
    "\n",
    "for row in range(0,num+1):\n",
    "    for col in range(0,num+1):\n",
    "        \n",
    "        coord.append([row, col])\n",
    "        #print(coord, end = \"\")\n",
    "        #print((row, col), end = \"\")\n",
    "    print(\"\")\n",
    "    print(coord)\n",
    "#    print(coord[1])\n",
    "    #print(coord[0], end = \" \")"
   ]
  },
  {
   "cell_type": "code",
   "execution_count": 85,
   "metadata": {},
   "outputs": [
    {
     "name": "stdout",
     "output_type": "stream",
     "text": [
      "[0, 0][0, 1][0, 2][0, 3][0, 4][1, 0][1, 1][1, 2][1, 3][1, 4][2, 0][2, 1][2, 2][2, 3][2, 4][3, 0][3, 1][3, 2][3, 3][3, 4][4, 0][4, 1][4, 2][4, 3][4, 4]"
     ]
    },
    {
     "data": {
      "text/plain": [
       "[0, 0]"
      ]
     },
     "execution_count": 85,
     "metadata": {},
     "output_type": "execute_result"
    }
   ],
   "source": [
    "for item in coord:\n",
    "    print(item, end = \"\")\n",
    "\n",
    "coord[0]"
   ]
  },
  {
   "cell_type": "markdown",
   "metadata": {},
   "source": [
    "## this gives us the position and number of elements"
   ]
  },
  {
   "cell_type": "code",
   "execution_count": 86,
   "metadata": {},
   "outputs": [
    {
     "name": "stdout",
     "output_type": "stream",
     "text": [
      "0 [0, 0]\n",
      "1 [0, 1]\n",
      "2 [0, 2]\n",
      "3 [0, 3]\n",
      "4 [0, 4]\n",
      "5 [1, 0]\n",
      "6 [1, 1]\n",
      "7 [1, 2]\n",
      "8 [1, 3]\n",
      "9 [1, 4]\n",
      "10 [2, 0]\n",
      "11 [2, 1]\n",
      "12 [2, 2]\n",
      "13 [2, 3]\n",
      "14 [2, 4]\n",
      "15 [3, 0]\n",
      "16 [3, 1]\n",
      "17 [3, 2]\n",
      "18 [3, 3]\n",
      "19 [3, 4]\n",
      "20 [4, 0]\n",
      "21 [4, 1]\n",
      "22 [4, 2]\n",
      "23 [4, 3]\n",
      "24 [4, 4]\n"
     ]
    }
   ],
   "source": [
    "for i, item in enumerate(coord):\n",
    "    print(i, item)"
   ]
  },
  {
   "cell_type": "code",
   "execution_count": 87,
   "metadata": {},
   "outputs": [
    {
     "data": {
      "text/plain": [
       "[0, 4]"
      ]
     },
     "execution_count": 87,
     "metadata": {},
     "output_type": "execute_result"
    }
   ],
   "source": [
    "coord[4]"
   ]
  },
  {
   "cell_type": "code",
   "execution_count": 63,
   "metadata": {},
   "outputs": [
    {
     "name": "stdout",
     "output_type": "stream",
     "text": [
      "[[0, 0], [0, 1], [0, 2], [0, 3], [0, 4], [1, 0], [1, 1], [1, 2], [1, 3], [1, 4], [2, 0], [2, 1], [2, 2], [2, 3], [2, 4], [3, 0], [3, 1], [3, 2], [3, 3], [3, 4], [4, 0], [4, 1], [4, 2], [4, 3], [4, 4]]\n"
     ]
    }
   ],
   "source": [
    "print(coord, sep = '\\n')"
   ]
  },
  {
   "cell_type": "code",
   "execution_count": null,
   "metadata": {},
   "outputs": [],
   "source": []
  },
  {
   "cell_type": "code",
   "execution_count": 27,
   "metadata": {},
   "outputs": [
    {
     "name": "stdout",
     "output_type": "stream",
     "text": [
      "[(0, 0), (0, 1), (0, 2), (0, 3), (0, 4), (0, 5), (1, 0), (1, 1), (1, 2), (1, 3), (1, 4), (1, 5), (2, 0), (2, 1), (2, 2), (2, 3), (2, 4), (2, 5), (3, 0), (3, 1), (3, 2), (3, 3), (3, 4), (3, 5), (4, 0), (4, 1), (4, 2), (4, 3), (4, 4), (4, 5), (5, 0), (5, 1), (5, 2), (5, 3), (5, 4), (5, 5)]\n"
     ]
    }
   ],
   "source": [
    "# using list comprehensions\n",
    "\n",
    "# list of lists\n",
    "coord1 = [[x,y] for x in range(0,6) for y in range(0,6)]\n",
    "\n",
    "# list of tuples\n",
    "coord2 = [(x,y) for x in range(0,6) for y in range(0,6)]\n",
    "\n",
    "print(coord2)"
   ]
  },
  {
   "cell_type": "code",
   "execution_count": 54,
   "metadata": {},
   "outputs": [
    {
     "name": "stdout",
     "output_type": "stream",
     "text": [
      "Square pattern is: \n",
      "(1, 1)(1, 2)(1, 3)(1, 4)(1, 5)\n",
      "(2, 1)(2, 2)(2, 3)(2, 4)(2, 5)\n",
      "(3, 1)(3, 2)(3, 3)(3, 4)(3, 5)\n",
      "(4, 1)(4, 2)(4, 3)(4, 4)(4, 5)\n",
      "(5, 1)(5, 2)(5, 3)(5, 4)(5, 5)\n"
     ]
    }
   ],
   "source": []
  },
  {
   "cell_type": "code",
   "execution_count": null,
   "metadata": {},
   "outputs": [],
   "source": []
  }
 ],
 "metadata": {
  "kernelspec": {
   "display_name": "Python 3 (ipykernel)",
   "language": "python",
   "name": "python3"
  },
  "language_info": {
   "codemirror_mode": {
    "name": "ipython",
    "version": 3
   },
   "file_extension": ".py",
   "mimetype": "text/x-python",
   "name": "python",
   "nbconvert_exporter": "python",
   "pygments_lexer": "ipython3",
   "version": "3.9.12"
  }
 },
 "nbformat": 4,
 "nbformat_minor": 4
}
