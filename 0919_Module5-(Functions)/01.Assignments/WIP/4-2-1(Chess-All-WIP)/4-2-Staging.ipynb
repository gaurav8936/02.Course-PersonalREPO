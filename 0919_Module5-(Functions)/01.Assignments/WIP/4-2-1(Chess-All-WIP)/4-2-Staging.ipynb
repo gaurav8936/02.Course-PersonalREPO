{
 "cells": [
  {
   "cell_type": "markdown",
   "metadata": {},
   "source": [
    "### 4-2. A Game of Chess (20 points)\n",
    "You place a pawn at the top left corner of an n-by-n chess board, labeled (0,0).  For each move, you have a choice: move the pawn down a single space, or move the pawn down one space and right one space.  That is, if the pawn is at position (i,j), you can move the pawn to (i+1,j) or (i+1, j+1).\n",
    "\n",
    "Ask the user for the size of a chessboard, n (**integer**).  Find the number of different paths **starting from (0,0)** that the pawn could take to reach each position on the chess board.  For example, there are two different paths the pawn can take to reach (2,1). Look at the diagrams below to convince yourself of this. You can see the four paths that you can take by move 2.\n",
    "```\n",
    "  Start -> Move 1 -> Move 2\n",
    "\n",
    "  (0,0) ->  (1,0) -> (2,1)\n",
    "  \n",
    "  (0,0) ->  (1,0) -> (2,0)\n",
    "  \n",
    "  (0,0) ->  (1,1) -> (2,1)\n",
    "  \n",
    "  (0,0) ->  (1,1) -> (2,2)\n",
    "```\n",
    "\n",
    "Print the board with the number of ways to reach each square labeled as shown below.\n",
    "\n",
    "For example:\n",
    "```\n",
    "Enter a board size: 4\n",
    "\n",
    "1 0 0 0\n",
    "1 1 0 0\n",
    "1 2 1 0\n",
    "1 3 3 1\n",
    "```"
   ]
  },
  {
   "cell_type": "code",
   "execution_count": null,
   "metadata": {},
   "outputs": [],
   "source": [
    "# Q4-2 Grading Tag:\n",
    "\n",
    "# Get the user input for the board size\n",
    "n = int(input(\"Enter a board size: \"))"
   ]
  },
  {
   "cell_type": "code",
   "execution_count": null,
   "metadata": {},
   "outputs": [],
   "source": [
    "# Steps \n",
    "\n",
    "# 1.take user input for number\n",
    "# 2. generate a square to get all position positional combinations\n",
    "# 3. you can move in three directions (first pick 1,0) and 0,1 & 1,1\n",
    "\n",
    "# 4. determine logic for 1,0 (this is 1 move)\n",
    "# 5. validation logic for 0,1 (this is 0 moves)\n",
    "# 6. determine logic for 1,1 (this is also 0 moves)\n",
    "\n",
    "# 7."
   ]
  },
  {
   "cell_type": "markdown",
   "metadata": {},
   "source": [
    "### this code works"
   ]
  },
  {
   "cell_type": "code",
   "execution_count": 28,
   "metadata": {
    "collapsed": true,
    "jupyter": {
     "outputs_hidden": true
    },
    "tags": []
   },
   "outputs": [
    {
     "name": "stdin",
     "output_type": "stream",
     "text": [
      "Please enter a number : 6\n"
     ]
    },
    {
     "name": "stdout",
     "output_type": "stream",
     "text": [
      "[0, 0][0, 1][0, 2][0, 3][0, 4][0, 5][0, 6]\n",
      "[1, 0][1, 1][1, 2][1, 3][1, 4][1, 5][1, 6]\n",
      "[2, 0][2, 1][2, 2][2, 3][2, 4][2, 5][2, 6]\n",
      "[3, 0][3, 1][3, 2][3, 3][3, 4][3, 5][3, 6]\n",
      "[4, 0][4, 1][4, 2][4, 3][4, 4][4, 5][4, 6]\n",
      "[5, 0][5, 1][5, 2][5, 3][5, 4][5, 5][5, 6]\n",
      "[6, 0][6, 1][6, 2][6, 3][6, 4][6, 5][6, 6]\n"
     ]
    }
   ],
   "source": [
    "#1. take input and generate square\n",
    "\n",
    "#num = 4\n",
    "\n",
    "num = int(input(\"Please enter a number :\"))\n",
    "\n",
    "row = 0\n",
    "col = 0\n",
    "coord = []\n",
    "\n",
    "for row in range(0,num+1):\n",
    "    for col in range(0,num+1):\n",
    "        \n",
    "        coord.append([row, col])\n",
    "        #print(coord, end = \"\")\n",
    "    #     print((row, col), end = \"\")\n",
    "    # print(\"\")\n",
    "        print([row, col], end = \"\")\n",
    "    print(\"\")\n"
   ]
  },
  {
   "cell_type": "code",
   "execution_count": 30,
   "metadata": {},
   "outputs": [
    {
     "name": "stdout",
     "output_type": "stream",
     "text": [
      "[[0, 0], [0, 1], [0, 2], [0, 3], [0, 4], [0, 5], [0, 6], [1, 0], [1, 1], [1, 2], [1, 3], [1, 4], [1, 5], [1, 6], [2, 0], [2, 1], [2, 2], [2, 3], [2, 4], [2, 5], [2, 6], [3, 0], [3, 1], [3, 2], [3, 3], [3, 4], [3, 5], [3, 6], [4, 0], [4, 1], [4, 2], [4, 3], [4, 4], [4, 5], [4, 6], [5, 0], [5, 1], [5, 2], [5, 3], [5, 4], [5, 5], [5, 6], [6, 0], [6, 1], [6, 2], [6, 3], [6, 4], [6, 5], [6, 6]]"
     ]
    }
   ],
   "source": [
    "print(coord, end = \"\")"
   ]
  },
  {
   "cell_type": "markdown",
   "metadata": {},
   "source": [
    "## this gives us the position and number of elements"
   ]
  },
  {
   "cell_type": "code",
   "execution_count": 22,
   "metadata": {},
   "outputs": [
    {
     "name": "stdout",
     "output_type": "stream",
     "text": [
      "0 [0, 0]\n",
      "1 [0, 1]\n",
      "2 [0, 2]\n",
      "3 [0, 3]\n",
      "4 [0, 4]\n",
      "5 [0, 5]\n",
      "6 [0, 6]\n",
      "7 [1, 0]\n",
      "8 [1, 1]\n",
      "9 [1, 2]\n",
      "10 [1, 3]\n",
      "11 [1, 4]\n",
      "12 [1, 5]\n",
      "13 [1, 6]\n",
      "14 [2, 0]\n",
      "15 [2, 1]\n",
      "16 [2, 2]\n",
      "17 [2, 3]\n",
      "18 [2, 4]\n",
      "19 [2, 5]\n",
      "20 [2, 6]\n",
      "21 [3, 0]\n",
      "22 [3, 1]\n",
      "23 [3, 2]\n",
      "24 [3, 3]\n",
      "25 [3, 4]\n",
      "26 [3, 5]\n",
      "27 [3, 6]\n",
      "28 [4, 0]\n",
      "29 [4, 1]\n",
      "30 [4, 2]\n",
      "31 [4, 3]\n",
      "32 [4, 4]\n",
      "33 [4, 5]\n",
      "34 [4, 6]\n",
      "35 [5, 0]\n",
      "36 [5, 1]\n",
      "37 [5, 2]\n",
      "38 [5, 3]\n",
      "39 [5, 4]\n",
      "40 [5, 5]\n",
      "41 [5, 6]\n",
      "42 [6, 0]\n",
      "43 [6, 1]\n",
      "44 [6, 2]\n",
      "45 [6, 3]\n",
      "46 [6, 4]\n",
      "47 [6, 5]\n",
      "48 [6, 6]\n"
     ]
    }
   ],
   "source": [
    "# Generate index position for the full square\n",
    "\n",
    "for i, item in enumerate(coord):\n",
    "    print(i, item)"
   ]
  },
  {
   "cell_type": "markdown",
   "metadata": {},
   "source": [
    "### Last attempt at While Loop"
   ]
  },
  {
   "cell_type": "code",
   "execution_count": 5,
   "metadata": {},
   "outputs": [
    {
     "name": "stdout",
     "output_type": "stream",
     "text": [
      "Starting value : [0, 0]\n",
      "Starting Counter:  0\n",
      "Path A is : [1, 0]\n",
      "Path B is : [2, 1]\n"
     ]
    }
   ],
   "source": [
    "#mylist = [[0, 0], [0, 1], [0, 2], [0, 3], [1, 0], [1, 1], [1, 2], [1, 3], [2, 0], [2, 1]]\n",
    "mylist = [[0, 0], [0, 1], [1, 0], [1, 1]]\n",
    "\n",
    "start = [0,0]\n",
    "#end = [2,1]\n",
    "target = [1,1]\n",
    "counter = 0\n",
    "patha = []\n",
    "pathb = [0,0]\n",
    "match = False\n",
    "newitem = [0,0]\n",
    "item = [0,0]\n",
    "itema = [1,0]\n",
    "itemb = [1,1]\n",
    "\n",
    "def funca(item):\n",
    "    row = item[0]\n",
    "    col = item[1]\n",
    "    return([row+1, col])\n",
    "\n",
    "def funcb(item):\n",
    "    row = item[0]\n",
    "    col = item[1]\n",
    "    return([row+1, col+1])\n",
    "\n",
    "\n",
    "\n",
    "while match == False:\n",
    "    if item == patha:\n",
    "        print('Starting value :',item)#, 'counter is', counter)\n",
    "        print('Starting Counter: ', counter)\n",
    "        patha = funca(item)\n",
    "        item = patha\n",
    "        print('Path A is :', item)\n",
    "        if item not in mylist:\n",
    "            break\n",
    "        pathb = funcb(item)\n",
    "        item = pathb\n",
    "        print('Path B is :',item)\n",
    "        if item not in mylist:\n",
    "            break\n",
    "        counter += 1\n",
    "    elif item == pathb:\n",
    "        print('Starting value :',item)\n",
    "        print('Starting Counter: ', counter)\n",
    "        patha = funca(item)\n",
    "        item = patha\n",
    "        print('Path A is :', item)\n",
    "        if item not in mylist:\n",
    "            break\n",
    "        pathb = funcb(item)\n",
    "        item = pathb\n",
    "        print('Path B is :',item)\n",
    "        if item not in mylist:\n",
    "            break\n",
    "        counter += 1\n",
    "    else:\n",
    "        print('end of loop')\n",
    "        break"
   ]
  },
  {
   "cell_type": "markdown",
   "metadata": {},
   "source": [
    "---"
   ]
  },
  {
   "cell_type": "markdown",
   "metadata": {},
   "source": [
    "### Trying out Nested Functions approach"
   ]
  },
  {
   "cell_type": "code",
   "execution_count": 2,
   "metadata": {},
   "outputs": [],
   "source": [
    "#mylist = [[0, 0], [0, 1], [1, 0], [1, 1], [1, 2], [1, 3], [2, 0], [2, 1]]\n",
    "mylist = [[0,0]]\n",
    "\n",
    "#start = [0,0]\n",
    "item = [0,0]\n",
    "end = [2,1]\n",
    "target = [2,1]\n",
    "counter = 0\n",
    "patha = [0,0]\n",
    "pathb = [0,0]\n",
    "match = False\n",
    "newitem = [0,0]\n",
    "item = [0,0]\n",
    "itema = [1,0]\n",
    "itemb = [1,1]\n",
    "\n",
    "def funca(item):\n",
    "    row = item[0]\n",
    "    col = item[1]\n",
    "    return([row+1, col])\n",
    "\n",
    "def funcb(item):\n",
    "    row = item[0]\n",
    "    col = item[1]\n",
    "    return([row+1, col+1])\n",
    "\n",
    "def listsquares(mylist):\n",
    "    \n",
    "    for item in mylist:\n",
    "        print('initial item value is', item)\n",
    "        \n",
    "        \n",
    "        \n",
    "        patha = funca(item)\n",
    "        print('Path A is :', patha)\n",
    "        item = patha\n",
    "#        print('exit item value is', item)\n",
    "        # if item != target:\n",
    "        if True:\n",
    "            patha = funca(item)\n",
    "            print('Path AA2 is :', patha)\n",
    "            pathb = funcb(item)\n",
    "            print('Path AB2 is :', pathb)\n",
    "#             # listquares(item)\n",
    "#             for item in listsquares(item):\n",
    "#                  print(item)\n",
    "\n",
    "#             if item not in mylist:\n",
    "#                 break\n",
    "        \n",
    "\n",
    "        print('value of item in loop B is', item)\n",
    "        pathb = funcb(item)\n",
    "        print('Path B is :', pathb)\n",
    "        item = pathb\n",
    "#        print(item)\n",
    "#        print('exit item value is', item)\n",
    "        # for subitem in listsquares(item):\n",
    "        #     yield subitem\n",
    "        # if item != target:\n",
    "        if True:\n",
    "            patha = funca(item)\n",
    "            print('Path BA2 is :', patha)\n",
    "            pathb = funcb(item)\n",
    "            print('Path BB2 is :', pathb)        \n",
    "            # if item not in mylist:\n",
    "            #     break\n",
    "        \n",
    "        if item not in mylist:\n",
    "            break    "
   ]
  },
  {
   "cell_type": "code",
   "execution_count": 67,
   "metadata": {},
   "outputs": [
    {
     "name": "stdout",
     "output_type": "stream",
     "text": [
      "initial item value is [0, 0]\n",
      "Path A is : [1, 0]\n",
      "Path AA2 is : [2, 0]\n",
      "Path AB2 is : [2, 1]\n",
      "value of item in loop B is [1, 0]\n",
      "Path B is : [2, 1]\n",
      "Path BA2 is : [3, 1]\n",
      "Path BB2 is : [3, 2]\n"
     ]
    }
   ],
   "source": [
    "listsquares(mylist)"
   ]
  },
  {
   "cell_type": "markdown",
   "metadata": {},
   "source": [
    "### Nested Functions (with patha, patha2 etc)"
   ]
  },
  {
   "cell_type": "code",
   "execution_count": 5,
   "metadata": {},
   "outputs": [],
   "source": [
    "#mylist = [[0, 0], [0, 1], [1, 0], [1, 1], [1, 2], [1, 3], [2, 0], [2, 1]]\n",
    "mylist = [[0,0]]\n",
    "\n",
    "#start = [0,0]\n",
    "item = [0,0]\n",
    "end = [2,1]\n",
    "target = [2,1]\n",
    "counter = 0\n",
    "patha = [0,0]\n",
    "pathb = [0,0]\n",
    "match = False\n",
    "newitem = [0,0]\n",
    "item = [0,0]\n",
    "itema = [1,0]\n",
    "itemb = [1,1]\n",
    "\n",
    "def funca(item):\n",
    "    row = item[0]\n",
    "    col = item[1]\n",
    "    return([row+1, col])\n",
    "\n",
    "def funcb(item):\n",
    "    row = item[0]\n",
    "    col = item[1]\n",
    "    return([row+1, col+1])\n",
    "\n",
    "def listsquares(mylist):\n",
    "    \n",
    "    for item in mylist:\n",
    "        print('initial item value is', item)\n",
    "        \n",
    "        patha = funca(item)\n",
    "#        print(patha)\n",
    "        pathb = funcb(item)\n",
    "#        print(pathb)\n",
    "            \n",
    "        \n",
    "        \n",
    "        if patha: # (i+1, j)\n",
    "            print('Path A is :', patha)\n",
    "            item = patha\n",
    "    #        print('exit item value is', item)\n",
    "            # if item != target:\n",
    "            if True:\n",
    "                patha2 = funca(item)\n",
    "                print('Path AA2 is :', patha2)\n",
    "                pathb2 = funcb(item)\n",
    "                print('Path AB2 is :', pathb2)\n",
    "    #             # listquares(item)\n",
    "    #             for item in listsquares(item):\n",
    "    #                  print(item)\n",
    "\n",
    "    #             if item not in mylist:\n",
    "    #                 break\n",
    "\n",
    "\n",
    "        if pathb: #(i+1, j+1)\n",
    "#            print('value of item in loop B is', item)\n",
    "            print('Path B is :', pathb)\n",
    "            item = pathb\n",
    "    #        print(item)\n",
    "    #        print('exit item value is', item)\n",
    "            # for subitem in listsquares(item):\n",
    "            #     yield subitem\n",
    "            # if item != target:\n",
    "            if True:\n",
    "                patha = funca(item)\n",
    "                print('Path BA2 is :', patha)\n",
    "                pathb = funcb(item)\n",
    "                print('Path BB2 is :', pathb)        \n",
    "                # if item not in mylist:\n",
    "                #     break\n",
    "\n",
    "        if item not in mylist:\n",
    "            break    "
   ]
  },
  {
   "cell_type": "code",
   "execution_count": 6,
   "metadata": {},
   "outputs": [
    {
     "name": "stdout",
     "output_type": "stream",
     "text": [
      "initial item value is [0, 0]\n",
      "Path A is : [1, 0]\n",
      "Path AA2 is : [2, 0]\n",
      "Path AB2 is : [2, 1]\n",
      "Path B is : [1, 1]\n",
      "Path BA2 is : [2, 1]\n",
      "Path BB2 is : [2, 2]\n"
     ]
    }
   ],
   "source": [
    "listsquares(mylist)"
   ]
  },
  {
   "cell_type": "markdown",
   "metadata": {},
   "source": [
    "---"
   ]
  },
  {
   "cell_type": "markdown",
   "metadata": {},
   "source": [
    "## Breaking this into more modular functions"
   ]
  },
  {
   "cell_type": "code",
   "execution_count": 1,
   "metadata": {},
   "outputs": [],
   "source": [
    "# function that takes in an item(i,j) and returns two values: patha and pathb\n",
    "\n",
    "def funca(item):\n",
    "    row = item[0]\n",
    "    col = item[1]\n",
    "    return([row+1, col])\n",
    "\n",
    "def funcb(item):\n",
    "    row = item[0]\n",
    "    col = item[1]\n",
    "    return([row+1, col+1])\n",
    "\n",
    "def twopaths(item):\n",
    "        patha = funca(item)\n",
    "        print('(i+1, j) ==',patha)\n",
    "        pathb = funcb(item)\n",
    "        print('(i+1, j+1) == ', pathb)\n",
    "        newpath = [patha, pathb]\n",
    "        print('NewList is' , newpath)\n",
    "\n",
    "\n",
    "# def twopathsalt(item):\n",
    "#         mylist = [[0,0]]\n",
    "#         for item in mylist:\n",
    "#             patha = funca(item)\n",
    "#             print('(i+1, j) ==',patha)\n",
    "#             pathb = funcb(item)\n",
    "#             print('(i+1, j+1) == ', pathb)\n",
    "#             newpath = [patha, pathb]\n",
    "#             # print('NewList is' , newpath)\n",
    "#             mylist = mylist.append(newpath)\n",
    "#             print(mylist)"
   ]
  },
  {
   "cell_type": "code",
   "execution_count": null,
   "metadata": {},
   "outputs": [],
   "source": [
    "item = [1,1]\n",
    "\n",
    "twopathsalt(item)"
   ]
  },
  {
   "cell_type": "code",
   "execution_count": 16,
   "metadata": {},
   "outputs": [
    {
     "name": "stdout",
     "output_type": "stream",
     "text": [
      "[[0, 0], [1, 0], [1, 1]]\n",
      "0\n",
      "[[0, 0], [1, 0], [1, 1], [2, 0], [2, 1]]\n",
      "1\n",
      "[[0, 0], [1, 0], [1, 1], [2, 0], [2, 1], [2, 1], [2, 2]]\n",
      "2\n",
      "[[0, 0], [1, 0], [1, 1], [2, 0], [2, 1], [2, 1], [2, 2], [3, 0], [3, 1]]\n",
      "3\n",
      "[[0, 0], [1, 0], [1, 1], [2, 0], [2, 1], [2, 1], [2, 2], [3, 0], [3, 1], [3, 1], [3, 2]]\n",
      "4\n",
      "[[0, 0], [1, 0], [1, 1], [2, 0], [2, 1], [2, 1], [2, 2], [3, 0], [3, 1], [3, 1], [3, 2], [3, 1], [3, 2]]\n",
      "5\n",
      "[[0, 0], [1, 0], [1, 1], [2, 0], [2, 1], [2, 1], [2, 2], [3, 0], [3, 1], [3, 1], [3, 2], [3, 1], [3, 2], [3, 2], [3, 3]]\n",
      "6\n",
      "[[0, 0], [1, 0], [1, 1], [2, 0], [2, 1], [2, 1], [2, 2], [3, 0], [3, 1], [3, 1], [3, 2], [3, 1], [3, 2], [3, 2], [3, 3], [4, 0], [4, 1]]\n",
      "7\n",
      "[[0, 0], [1, 0], [1, 1], [2, 0], [2, 1], [2, 1], [2, 2], [3, 0], [3, 1], [3, 1], [3, 2], [3, 1], [3, 2], [3, 2], [3, 3], [4, 0], [4, 1], [4, 1], [4, 2]]\n",
      "8\n",
      "[[0, 0], [1, 0], [1, 1], [2, 0], [2, 1], [2, 1], [2, 2], [3, 0], [3, 1], [3, 1], [3, 2], [3, 1], [3, 2], [3, 2], [3, 3], [4, 0], [4, 1], [4, 1], [4, 2], [4, 1], [4, 2]]\n",
      "9\n",
      "[[0, 0], [1, 0], [1, 1], [2, 0], [2, 1], [2, 1], [2, 2], [3, 0], [3, 1], [3, 1], [3, 2], [3, 1], [3, 2], [3, 2], [3, 3], [4, 0], [4, 1], [4, 1], [4, 2], [4, 1], [4, 2], [4, 2], [4, 3]]\n",
      "10\n",
      "[[0, 0], [1, 0], [1, 1], [2, 0], [2, 1], [2, 1], [2, 2], [3, 0], [3, 1], [3, 1], [3, 2], [3, 1], [3, 2], [3, 2], [3, 3], [4, 0], [4, 1], [4, 1], [4, 2], [4, 1], [4, 2], [4, 2], [4, 3], [4, 1], [4, 2]]\n",
      "11\n",
      "[[0, 0], [1, 0], [1, 1], [2, 0], [2, 1], [2, 1], [2, 2], [3, 0], [3, 1], [3, 1], [3, 2], [3, 1], [3, 2], [3, 2], [3, 3], [4, 0], [4, 1], [4, 1], [4, 2], [4, 1], [4, 2], [4, 2], [4, 3], [4, 1], [4, 2], [4, 2], [4, 3]]\n",
      "12\n",
      "[[0, 0], [1, 0], [1, 1], [2, 0], [2, 1], [2, 1], [2, 2], [3, 0], [3, 1], [3, 1], [3, 2], [3, 1], [3, 2], [3, 2], [3, 3], [4, 0], [4, 1], [4, 1], [4, 2], [4, 1], [4, 2], [4, 2], [4, 3], [4, 1], [4, 2], [4, 2], [4, 3], [4, 2], [4, 3]]\n",
      "13\n",
      "[[0, 0], [1, 0], [1, 1], [2, 0], [2, 1], [2, 1], [2, 2], [3, 0], [3, 1], [3, 1], [3, 2], [3, 1], [3, 2], [3, 2], [3, 3], [4, 0], [4, 1], [4, 1], [4, 2], [4, 1], [4, 2], [4, 2], [4, 3], [4, 1], [4, 2], [4, 2], [4, 3], [4, 2], [4, 3], [4, 3], [4, 4]]\n",
      "14\n",
      "[[0, 0], [1, 0], [1, 1], [2, 0], [2, 1], [2, 1], [2, 2], [3, 0], [3, 1], [3, 1], [3, 2], [3, 1], [3, 2], [3, 2], [3, 3], [4, 0], [4, 1], [4, 1], [4, 2], [4, 1], [4, 2], [4, 2], [4, 3], [4, 1], [4, 2], [4, 2], [4, 3], [4, 2], [4, 3], [4, 3], [4, 4], [5, 0], [5, 1]]\n",
      "15\n",
      "[[0, 0], [1, 0], [1, 1], [2, 0], [2, 1], [2, 1], [2, 2], [3, 0], [3, 1], [3, 1], [3, 2], [3, 1], [3, 2], [3, 2], [3, 3], [4, 0], [4, 1], [4, 1], [4, 2], [4, 1], [4, 2], [4, 2], [4, 3], [4, 1], [4, 2], [4, 2], [4, 3], [4, 2], [4, 3], [4, 3], [4, 4], [5, 0], [5, 1], [5, 1], [5, 2]]\n",
      "16\n",
      "[[0, 0], [1, 0], [1, 1], [2, 0], [2, 1], [2, 1], [2, 2], [3, 0], [3, 1], [3, 1], [3, 2], [3, 1], [3, 2], [3, 2], [3, 3], [4, 0], [4, 1], [4, 1], [4, 2], [4, 1], [4, 2], [4, 2], [4, 3], [4, 1], [4, 2], [4, 2], [4, 3], [4, 2], [4, 3], [4, 3], [4, 4], [5, 0], [5, 1], [5, 1], [5, 2], [5, 1], [5, 2]]\n",
      "17\n",
      "[[0, 0], [1, 0], [1, 1], [2, 0], [2, 1], [2, 1], [2, 2], [3, 0], [3, 1], [3, 1], [3, 2], [3, 1], [3, 2], [3, 2], [3, 3], [4, 0], [4, 1], [4, 1], [4, 2], [4, 1], [4, 2], [4, 2], [4, 3], [4, 1], [4, 2], [4, 2], [4, 3], [4, 2], [4, 3], [4, 3], [4, 4], [5, 0], [5, 1], [5, 1], [5, 2], [5, 1], [5, 2], [5, 2], [5, 3]]\n",
      "18\n",
      "[[0, 0], [1, 0], [1, 1], [2, 0], [2, 1], [2, 1], [2, 2], [3, 0], [3, 1], [3, 1], [3, 2], [3, 1], [3, 2], [3, 2], [3, 3], [4, 0], [4, 1], [4, 1], [4, 2], [4, 1], [4, 2], [4, 2], [4, 3], [4, 1], [4, 2], [4, 2], [4, 3], [4, 2], [4, 3], [4, 3], [4, 4], [5, 0], [5, 1], [5, 1], [5, 2], [5, 1], [5, 2], [5, 2], [5, 3], [5, 1], [5, 2]]\n",
      "19\n",
      "[[0, 0], [1, 0], [1, 1], [2, 0], [2, 1], [2, 1], [2, 2], [3, 0], [3, 1], [3, 1], [3, 2], [3, 1], [3, 2], [3, 2], [3, 3], [4, 0], [4, 1], [4, 1], [4, 2], [4, 1], [4, 2], [4, 2], [4, 3], [4, 1], [4, 2], [4, 2], [4, 3], [4, 2], [4, 3], [4, 3], [4, 4], [5, 0], [5, 1], [5, 1], [5, 2], [5, 1], [5, 2], [5, 2], [5, 3], [5, 1], [5, 2], [5, 2], [5, 3]]\n",
      "20\n",
      "[[0, 0], [1, 0], [1, 1], [2, 0], [2, 1], [2, 1], [2, 2], [3, 0], [3, 1], [3, 1], [3, 2], [3, 1], [3, 2], [3, 2], [3, 3], [4, 0], [4, 1], [4, 1], [4, 2], [4, 1], [4, 2], [4, 2], [4, 3], [4, 1], [4, 2], [4, 2], [4, 3], [4, 2], [4, 3], [4, 3], [4, 4], [5, 0], [5, 1], [5, 1], [5, 2], [5, 1], [5, 2], [5, 2], [5, 3], [5, 1], [5, 2], [5, 2], [5, 3], [5, 2], [5, 3]]\n",
      "21\n",
      "[[0, 0], [1, 0], [1, 1], [2, 0], [2, 1], [2, 1], [2, 2], [3, 0], [3, 1], [3, 1], [3, 2], [3, 1], [3, 2], [3, 2], [3, 3], [4, 0], [4, 1], [4, 1], [4, 2], [4, 1], [4, 2], [4, 2], [4, 3], [4, 1], [4, 2], [4, 2], [4, 3], [4, 2], [4, 3], [4, 3], [4, 4], [5, 0], [5, 1], [5, 1], [5, 2], [5, 1], [5, 2], [5, 2], [5, 3], [5, 1], [5, 2], [5, 2], [5, 3], [5, 2], [5, 3], [5, 3], [5, 4]]\n",
      "22\n",
      "[[0, 0], [1, 0], [1, 1], [2, 0], [2, 1], [2, 1], [2, 2], [3, 0], [3, 1], [3, 1], [3, 2], [3, 1], [3, 2], [3, 2], [3, 3], [4, 0], [4, 1], [4, 1], [4, 2], [4, 1], [4, 2], [4, 2], [4, 3], [4, 1], [4, 2], [4, 2], [4, 3], [4, 2], [4, 3], [4, 3], [4, 4], [5, 0], [5, 1], [5, 1], [5, 2], [5, 1], [5, 2], [5, 2], [5, 3], [5, 1], [5, 2], [5, 2], [5, 3], [5, 2], [5, 3], [5, 3], [5, 4], [5, 1], [5, 2]]\n",
      "23\n",
      "[[0, 0], [1, 0], [1, 1], [2, 0], [2, 1], [2, 1], [2, 2], [3, 0], [3, 1], [3, 1], [3, 2], [3, 1], [3, 2], [3, 2], [3, 3], [4, 0], [4, 1], [4, 1], [4, 2], [4, 1], [4, 2], [4, 2], [4, 3], [4, 1], [4, 2], [4, 2], [4, 3], [4, 2], [4, 3], [4, 3], [4, 4], [5, 0], [5, 1], [5, 1], [5, 2], [5, 1], [5, 2], [5, 2], [5, 3], [5, 1], [5, 2], [5, 2], [5, 3], [5, 2], [5, 3], [5, 3], [5, 4], [5, 1], [5, 2], [5, 2], [5, 3]]\n",
      "24\n",
      "[[0, 0], [1, 0], [1, 1], [2, 0], [2, 1], [2, 1], [2, 2], [3, 0], [3, 1], [3, 1], [3, 2], [3, 1], [3, 2], [3, 2], [3, 3], [4, 0], [4, 1], [4, 1], [4, 2], [4, 1], [4, 2], [4, 2], [4, 3], [4, 1], [4, 2], [4, 2], [4, 3], [4, 2], [4, 3], [4, 3], [4, 4], [5, 0], [5, 1], [5, 1], [5, 2], [5, 1], [5, 2], [5, 2], [5, 3], [5, 1], [5, 2], [5, 2], [5, 3], [5, 2], [5, 3], [5, 3], [5, 4], [5, 1], [5, 2], [5, 2], [5, 3], [5, 2], [5, 3]]\n",
      "25\n",
      "[[0, 0], [1, 0], [1, 1], [2, 0], [2, 1], [2, 1], [2, 2], [3, 0], [3, 1], [3, 1], [3, 2], [3, 1], [3, 2], [3, 2], [3, 3], [4, 0], [4, 1], [4, 1], [4, 2], [4, 1], [4, 2], [4, 2], [4, 3], [4, 1], [4, 2], [4, 2], [4, 3], [4, 2], [4, 3], [4, 3], [4, 4], [5, 0], [5, 1], [5, 1], [5, 2], [5, 1], [5, 2], [5, 2], [5, 3], [5, 1], [5, 2], [5, 2], [5, 3], [5, 2], [5, 3], [5, 3], [5, 4], [5, 1], [5, 2], [5, 2], [5, 3], [5, 2], [5, 3], [5, 3], [5, 4]]\n",
      "26\n",
      "[[0, 0], [1, 0], [1, 1], [2, 0], [2, 1], [2, 1], [2, 2], [3, 0], [3, 1], [3, 1], [3, 2], [3, 1], [3, 2], [3, 2], [3, 3], [4, 0], [4, 1], [4, 1], [4, 2], [4, 1], [4, 2], [4, 2], [4, 3], [4, 1], [4, 2], [4, 2], [4, 3], [4, 2], [4, 3], [4, 3], [4, 4], [5, 0], [5, 1], [5, 1], [5, 2], [5, 1], [5, 2], [5, 2], [5, 3], [5, 1], [5, 2], [5, 2], [5, 3], [5, 2], [5, 3], [5, 3], [5, 4], [5, 1], [5, 2], [5, 2], [5, 3], [5, 2], [5, 3], [5, 3], [5, 4], [5, 2], [5, 3]]\n",
      "27\n",
      "[[0, 0], [1, 0], [1, 1], [2, 0], [2, 1], [2, 1], [2, 2], [3, 0], [3, 1], [3, 1], [3, 2], [3, 1], [3, 2], [3, 2], [3, 3], [4, 0], [4, 1], [4, 1], [4, 2], [4, 1], [4, 2], [4, 2], [4, 3], [4, 1], [4, 2], [4, 2], [4, 3], [4, 2], [4, 3], [4, 3], [4, 4], [5, 0], [5, 1], [5, 1], [5, 2], [5, 1], [5, 2], [5, 2], [5, 3], [5, 1], [5, 2], [5, 2], [5, 3], [5, 2], [5, 3], [5, 3], [5, 4], [5, 1], [5, 2], [5, 2], [5, 3], [5, 2], [5, 3], [5, 3], [5, 4], [5, 2], [5, 3], [5, 3], [5, 4]]\n",
      "28\n",
      "[[0, 0], [1, 0], [1, 1], [2, 0], [2, 1], [2, 1], [2, 2], [3, 0], [3, 1], [3, 1], [3, 2], [3, 1], [3, 2], [3, 2], [3, 3], [4, 0], [4, 1], [4, 1], [4, 2], [4, 1], [4, 2], [4, 2], [4, 3], [4, 1], [4, 2], [4, 2], [4, 3], [4, 2], [4, 3], [4, 3], [4, 4], [5, 0], [5, 1], [5, 1], [5, 2], [5, 1], [5, 2], [5, 2], [5, 3], [5, 1], [5, 2], [5, 2], [5, 3], [5, 2], [5, 3], [5, 3], [5, 4], [5, 1], [5, 2], [5, 2], [5, 3], [5, 2], [5, 3], [5, 3], [5, 4], [5, 2], [5, 3], [5, 3], [5, 4], [5, 3], [5, 4]]\n",
      "29\n",
      "[[0, 0], [1, 0], [1, 1], [2, 0], [2, 1], [2, 1], [2, 2], [3, 0], [3, 1], [3, 1], [3, 2], [3, 1], [3, 2], [3, 2], [3, 3], [4, 0], [4, 1], [4, 1], [4, 2], [4, 1], [4, 2], [4, 2], [4, 3], [4, 1], [4, 2], [4, 2], [4, 3], [4, 2], [4, 3], [4, 3], [4, 4], [5, 0], [5, 1], [5, 1], [5, 2], [5, 1], [5, 2], [5, 2], [5, 3], [5, 1], [5, 2], [5, 2], [5, 3], [5, 2], [5, 3], [5, 3], [5, 4], [5, 1], [5, 2], [5, 2], [5, 3], [5, 2], [5, 3], [5, 3], [5, 4], [5, 2], [5, 3], [5, 3], [5, 4], [5, 3], [5, 4], [5, 4], [5, 5]]\n",
      "30\n",
      "[[0, 0], [1, 0], [1, 1], [2, 0], [2, 1], [2, 1], [2, 2], [3, 0], [3, 1], [3, 1], [3, 2], [3, 1], [3, 2], [3, 2], [3, 3], [4, 0], [4, 1], [4, 1], [4, 2], [4, 1], [4, 2], [4, 2], [4, 3], [4, 1], [4, 2], [4, 2], [4, 3], [4, 2], [4, 3], [4, 3], [4, 4], [5, 0], [5, 1], [5, 1], [5, 2], [5, 1], [5, 2], [5, 2], [5, 3], [5, 1], [5, 2], [5, 2], [5, 3], [5, 2], [5, 3], [5, 3], [5, 4], [5, 1], [5, 2], [5, 2], [5, 3], [5, 2], [5, 3], [5, 3], [5, 4], [5, 2], [5, 3], [5, 3], [5, 4], [5, 3], [5, 4], [5, 4], [5, 5], [6, 0], [6, 1]]\n",
      "31\n",
      "[[0, 0], [1, 0], [1, 1], [2, 0], [2, 1], [2, 1], [2, 2], [3, 0], [3, 1], [3, 1], [3, 2], [3, 1], [3, 2], [3, 2], [3, 3], [4, 0], [4, 1], [4, 1], [4, 2], [4, 1], [4, 2], [4, 2], [4, 3], [4, 1], [4, 2], [4, 2], [4, 3], [4, 2], [4, 3], [4, 3], [4, 4], [5, 0], [5, 1], [5, 1], [5, 2], [5, 1], [5, 2], [5, 2], [5, 3], [5, 1], [5, 2], [5, 2], [5, 3], [5, 2], [5, 3], [5, 3], [5, 4], [5, 1], [5, 2], [5, 2], [5, 3], [5, 2], [5, 3], [5, 3], [5, 4], [5, 2], [5, 3], [5, 3], [5, 4], [5, 3], [5, 4], [5, 4], [5, 5], [6, 0], [6, 1], [6, 1], [6, 2]]\n",
      "32\n",
      "[[0, 0], [1, 0], [1, 1], [2, 0], [2, 1], [2, 1], [2, 2], [3, 0], [3, 1], [3, 1], [3, 2], [3, 1], [3, 2], [3, 2], [3, 3], [4, 0], [4, 1], [4, 1], [4, 2], [4, 1], [4, 2], [4, 2], [4, 3], [4, 1], [4, 2], [4, 2], [4, 3], [4, 2], [4, 3], [4, 3], [4, 4], [5, 0], [5, 1], [5, 1], [5, 2], [5, 1], [5, 2], [5, 2], [5, 3], [5, 1], [5, 2], [5, 2], [5, 3], [5, 2], [5, 3], [5, 3], [5, 4], [5, 1], [5, 2], [5, 2], [5, 3], [5, 2], [5, 3], [5, 3], [5, 4], [5, 2], [5, 3], [5, 3], [5, 4], [5, 3], [5, 4], [5, 4], [5, 5], [6, 0], [6, 1], [6, 1], [6, 2], [6, 1], [6, 2]]\n",
      "33\n",
      "[[0, 0], [1, 0], [1, 1], [2, 0], [2, 1], [2, 1], [2, 2], [3, 0], [3, 1], [3, 1], [3, 2], [3, 1], [3, 2], [3, 2], [3, 3], [4, 0], [4, 1], [4, 1], [4, 2], [4, 1], [4, 2], [4, 2], [4, 3], [4, 1], [4, 2], [4, 2], [4, 3], [4, 2], [4, 3], [4, 3], [4, 4], [5, 0], [5, 1], [5, 1], [5, 2], [5, 1], [5, 2], [5, 2], [5, 3], [5, 1], [5, 2], [5, 2], [5, 3], [5, 2], [5, 3], [5, 3], [5, 4], [5, 1], [5, 2], [5, 2], [5, 3], [5, 2], [5, 3], [5, 3], [5, 4], [5, 2], [5, 3], [5, 3], [5, 4], [5, 3], [5, 4], [5, 4], [5, 5], [6, 0], [6, 1], [6, 1], [6, 2], [6, 1], [6, 2], [6, 2], [6, 3]]\n",
      "34\n",
      "[[0, 0], [1, 0], [1, 1], [2, 0], [2, 1], [2, 1], [2, 2], [3, 0], [3, 1], [3, 1], [3, 2], [3, 1], [3, 2], [3, 2], [3, 3], [4, 0], [4, 1], [4, 1], [4, 2], [4, 1], [4, 2], [4, 2], [4, 3], [4, 1], [4, 2], [4, 2], [4, 3], [4, 2], [4, 3], [4, 3], [4, 4], [5, 0], [5, 1], [5, 1], [5, 2], [5, 1], [5, 2], [5, 2], [5, 3], [5, 1], [5, 2], [5, 2], [5, 3], [5, 2], [5, 3], [5, 3], [5, 4], [5, 1], [5, 2], [5, 2], [5, 3], [5, 2], [5, 3], [5, 3], [5, 4], [5, 2], [5, 3], [5, 3], [5, 4], [5, 3], [5, 4], [5, 4], [5, 5], [6, 0], [6, 1], [6, 1], [6, 2], [6, 1], [6, 2], [6, 2], [6, 3], [6, 1], [6, 2]]\n",
      "35\n",
      "[[0, 0], [1, 0], [1, 1], [2, 0], [2, 1], [2, 1], [2, 2], [3, 0], [3, 1], [3, 1], [3, 2], [3, 1], [3, 2], [3, 2], [3, 3], [4, 0], [4, 1], [4, 1], [4, 2], [4, 1], [4, 2], [4, 2], [4, 3], [4, 1], [4, 2], [4, 2], [4, 3], [4, 2], [4, 3], [4, 3], [4, 4], [5, 0], [5, 1], [5, 1], [5, 2], [5, 1], [5, 2], [5, 2], [5, 3], [5, 1], [5, 2], [5, 2], [5, 3], [5, 2], [5, 3], [5, 3], [5, 4], [5, 1], [5, 2], [5, 2], [5, 3], [5, 2], [5, 3], [5, 3], [5, 4], [5, 2], [5, 3], [5, 3], [5, 4], [5, 3], [5, 4], [5, 4], [5, 5], [6, 0], [6, 1], [6, 1], [6, 2], [6, 1], [6, 2], [6, 2], [6, 3], [6, 1], [6, 2], [6, 2], [6, 3]]\n",
      "36\n",
      "[[0, 0], [1, 0], [1, 1], [2, 0], [2, 1], [2, 1], [2, 2], [3, 0], [3, 1], [3, 1], [3, 2], [3, 1], [3, 2], [3, 2], [3, 3], [4, 0], [4, 1], [4, 1], [4, 2], [4, 1], [4, 2], [4, 2], [4, 3], [4, 1], [4, 2], [4, 2], [4, 3], [4, 2], [4, 3], [4, 3], [4, 4], [5, 0], [5, 1], [5, 1], [5, 2], [5, 1], [5, 2], [5, 2], [5, 3], [5, 1], [5, 2], [5, 2], [5, 3], [5, 2], [5, 3], [5, 3], [5, 4], [5, 1], [5, 2], [5, 2], [5, 3], [5, 2], [5, 3], [5, 3], [5, 4], [5, 2], [5, 3], [5, 3], [5, 4], [5, 3], [5, 4], [5, 4], [5, 5], [6, 0], [6, 1], [6, 1], [6, 2], [6, 1], [6, 2], [6, 2], [6, 3], [6, 1], [6, 2], [6, 2], [6, 3], [6, 2], [6, 3]]\n",
      "37\n",
      "[[0, 0], [1, 0], [1, 1], [2, 0], [2, 1], [2, 1], [2, 2], [3, 0], [3, 1], [3, 1], [3, 2], [3, 1], [3, 2], [3, 2], [3, 3], [4, 0], [4, 1], [4, 1], [4, 2], [4, 1], [4, 2], [4, 2], [4, 3], [4, 1], [4, 2], [4, 2], [4, 3], [4, 2], [4, 3], [4, 3], [4, 4], [5, 0], [5, 1], [5, 1], [5, 2], [5, 1], [5, 2], [5, 2], [5, 3], [5, 1], [5, 2], [5, 2], [5, 3], [5, 2], [5, 3], [5, 3], [5, 4], [5, 1], [5, 2], [5, 2], [5, 3], [5, 2], [5, 3], [5, 3], [5, 4], [5, 2], [5, 3], [5, 3], [5, 4], [5, 3], [5, 4], [5, 4], [5, 5], [6, 0], [6, 1], [6, 1], [6, 2], [6, 1], [6, 2], [6, 2], [6, 3], [6, 1], [6, 2], [6, 2], [6, 3], [6, 2], [6, 3], [6, 3], [6, 4]]\n",
      "38\n",
      "[[0, 0], [1, 0], [1, 1], [2, 0], [2, 1], [2, 1], [2, 2], [3, 0], [3, 1], [3, 1], [3, 2], [3, 1], [3, 2], [3, 2], [3, 3], [4, 0], [4, 1], [4, 1], [4, 2], [4, 1], [4, 2], [4, 2], [4, 3], [4, 1], [4, 2], [4, 2], [4, 3], [4, 2], [4, 3], [4, 3], [4, 4], [5, 0], [5, 1], [5, 1], [5, 2], [5, 1], [5, 2], [5, 2], [5, 3], [5, 1], [5, 2], [5, 2], [5, 3], [5, 2], [5, 3], [5, 3], [5, 4], [5, 1], [5, 2], [5, 2], [5, 3], [5, 2], [5, 3], [5, 3], [5, 4], [5, 2], [5, 3], [5, 3], [5, 4], [5, 3], [5, 4], [5, 4], [5, 5], [6, 0], [6, 1], [6, 1], [6, 2], [6, 1], [6, 2], [6, 2], [6, 3], [6, 1], [6, 2], [6, 2], [6, 3], [6, 2], [6, 3], [6, 3], [6, 4], [6, 1], [6, 2]]\n",
      "39\n",
      "[[0, 0], [1, 0], [1, 1], [2, 0], [2, 1], [2, 1], [2, 2], [3, 0], [3, 1], [3, 1], [3, 2], [3, 1], [3, 2], [3, 2], [3, 3], [4, 0], [4, 1], [4, 1], [4, 2], [4, 1], [4, 2], [4, 2], [4, 3], [4, 1], [4, 2], [4, 2], [4, 3], [4, 2], [4, 3], [4, 3], [4, 4], [5, 0], [5, 1], [5, 1], [5, 2], [5, 1], [5, 2], [5, 2], [5, 3], [5, 1], [5, 2], [5, 2], [5, 3], [5, 2], [5, 3], [5, 3], [5, 4], [5, 1], [5, 2], [5, 2], [5, 3], [5, 2], [5, 3], [5, 3], [5, 4], [5, 2], [5, 3], [5, 3], [5, 4], [5, 3], [5, 4], [5, 4], [5, 5], [6, 0], [6, 1], [6, 1], [6, 2], [6, 1], [6, 2], [6, 2], [6, 3], [6, 1], [6, 2], [6, 2], [6, 3], [6, 2], [6, 3], [6, 3], [6, 4], [6, 1], [6, 2], [6, 2], [6, 3]]\n",
      "40\n"
     ]
    }
   ],
   "source": [
    "mylist = [[0,0]]\n",
    "counter = 0\n",
    "# condition = True\n",
    "\n",
    "#while condition == True:\n",
    "while counter <= 3:\n",
    "    for item in mylist:\n",
    "        patha = funca(item)\n",
    "        #print(patha)\n",
    "        pathb = funcb(item)\n",
    "        #print(pathb)\n",
    "        #mylist.append(patha)\n",
    "        mylist.extend([patha])\n",
    "        mylist.extend([pathb])\n",
    "        # if counter> 10:\n",
    "        #     break\n",
    "        print(mylist)\n",
    "        print(counter)\n",
    "        counter += 1\n",
    "        if counter> 40:\n",
    "            break\n",
    "        #     condition = False\n",
    "#    print(mylist)\n",
    "    #break\n",
    "    #newpath = [patha, pathb]\n",
    "    #mylist.append(newpath)\n",
    "\n",
    "# patha = [1,0]\n",
    "# pathb = [1,1]\n",
    "# newpath = [patha, pathb]\n",
    "\n",
    "# mylist.append(newpath)\n",
    "# print(mylist)"
   ]
  },
  {
   "cell_type": "markdown",
   "metadata": {},
   "source": [
    "<font size = 6, color = red>Current"
   ]
  },
  {
   "cell_type": "markdown",
   "metadata": {},
   "source": [
    "# Working with this model now"
   ]
  },
  {
   "cell_type": "code",
   "execution_count": 25,
   "metadata": {},
   "outputs": [
    {
     "name": "stdout",
     "output_type": "stream",
     "text": [
      "[[0, 0], [1, 0], [1, 1], [2, 0], [2, 1], [2, 1], [2, 2], [3, 0], [3, 1], [3, 1], [3, 2], [3, 1], [3, 2], [3, 2], [3, 3], [4, 0], [4, 1], [4, 1], [4, 2], [4, 1], [4, 2], [4, 2], [4, 3], [4, 1], [4, 2], [4, 2], [4, 3], [4, 2], [4, 3], [4, 3], [4, 4], [5, 0], [5, 1], [5, 1], [5, 2], [5, 1], [5, 2], [5, 2], [5, 3], [5, 1], [5, 2], [5, 2], [5, 3], [5, 2], [5, 3], [5, 3], [5, 4], [5, 1], [5, 2], [5, 2], [5, 3], [5, 2], [5, 3], [5, 3], [5, 4], [5, 2], [5, 3], [5, 3], [5, 4], [5, 3], [5, 4], [5, 4], [5, 5], [6, 0], [6, 1], [6, 1], [6, 2], [6, 1], [6, 2], [6, 2], [6, 3], [6, 1], [6, 2], [6, 2], [6, 3], [6, 2], [6, 3], [6, 3], [6, 4], [6, 1], [6, 2], [6, 2], [6, 3], [6, 2], [6, 3], [6, 3], [6, 4], [6, 2], [6, 3], [6, 3], [6, 4], [6, 3], [6, 4], [6, 4], [6, 5], [6, 1], [6, 2], [6, 2], [6, 3], [6, 2], [6, 3], [6, 3], [6, 4], [6, 2], [6, 3], [6, 3], [6, 4], [6, 3], [6, 4], [6, 4], [6, 5], [6, 2], [6, 3], [6, 3], [6, 4], [6, 3], [6, 4], [6, 4], [6, 5], [6, 3], [6, 4], [6, 4], [6, 5], [6, 4], [6, 5], [6, 5], [6, 6], [7, 0], [7, 1], [7, 1], [7, 2], [7, 1], [7, 2], [7, 2], [7, 3], [7, 1], [7, 2], [7, 2], [7, 3], [7, 2], [7, 3], [7, 3], [7, 4], [7, 1], [7, 2], [7, 2], [7, 3], [7, 2], [7, 3], [7, 3], [7, 4], [7, 2], [7, 3], [7, 3], [7, 4], [7, 3], [7, 4], [7, 4], [7, 5], [7, 1], [7, 2], [7, 2], [7, 3]]\n"
     ]
    }
   ],
   "source": [
    "# function that takes in an item(i,j) and returns two values: patha and pathb\n",
    "\n",
    "def funca(item):\n",
    "    row = item[0]\n",
    "    col = item[1]\n",
    "    return([row+1, col])\n",
    "\n",
    "def funcb(item):\n",
    "    row = item[0]\n",
    "    col = item[1]\n",
    "    return([row+1, col+1])\n",
    "\n",
    "mylist = [[0,0]]\n",
    "counter = 0\n",
    "# condition = True\n",
    "\n",
    "#while condition == True:\n",
    "\n",
    "for item in mylist:\n",
    "    patha = funca(item)\n",
    "    #print(patha)\n",
    "    pathb = funcb(item)\n",
    "    #print(pathb)\n",
    "    #mylist.append(patha)\n",
    "    mylist.extend([patha])\n",
    "    mylist.extend([pathb])\n",
    "    # if counter> 10:\n",
    "    #     break\n",
    "    #print(mylist)\n",
    "    #print(counter)\n",
    "    counter += 1\n",
    "    if counter> 80:\n",
    "        break\n",
    "print(mylist)"
   ]
  },
  {
   "cell_type": "code",
   "execution_count": 27,
   "metadata": {},
   "outputs": [
    {
     "data": {
      "text/plain": [
       "163"
      ]
     },
     "execution_count": 27,
     "metadata": {},
     "output_type": "execute_result"
    }
   ],
   "source": [
    "len(mylist)"
   ]
  },
  {
   "cell_type": "code",
   "execution_count": null,
   "metadata": {},
   "outputs": [],
   "source": []
  },
  {
   "cell_type": "code",
   "execution_count": null,
   "metadata": {},
   "outputs": [],
   "source": []
  },
  {
   "cell_type": "code",
   "execution_count": null,
   "metadata": {},
   "outputs": [],
   "source": []
  },
  {
   "cell_type": "code",
   "execution_count": null,
   "metadata": {},
   "outputs": [],
   "source": []
  },
  {
   "cell_type": "code",
   "execution_count": null,
   "metadata": {},
   "outputs": [],
   "source": []
  },
  {
   "cell_type": "code",
   "execution_count": null,
   "metadata": {},
   "outputs": [],
   "source": []
  },
  {
   "cell_type": "code",
   "execution_count": null,
   "metadata": {},
   "outputs": [],
   "source": []
  },
  {
   "cell_type": "code",
   "execution_count": null,
   "metadata": {},
   "outputs": [],
   "source": []
  },
  {
   "cell_type": "code",
   "execution_count": null,
   "metadata": {},
   "outputs": [],
   "source": []
  },
  {
   "cell_type": "code",
   "execution_count": null,
   "metadata": {},
   "outputs": [],
   "source": []
  },
  {
   "cell_type": "code",
   "execution_count": null,
   "metadata": {},
   "outputs": [],
   "source": []
  },
  {
   "cell_type": "code",
   "execution_count": null,
   "metadata": {},
   "outputs": [],
   "source": []
  },
  {
   "cell_type": "code",
   "execution_count": null,
   "metadata": {},
   "outputs": [],
   "source": [
    "mylist = [[0,0]]\n",
    "patha = funca([0,0])\n",
    "print(patha)\n",
    "mylist = mylist.append(patha)\n",
    "pathb = funcb([0,0])\n",
    "mylist = mylist.append(pathb)\n",
    "# newpath = [patha, pathb]\n",
    "# print(newpath)\n",
    "# mylist.append(newpath)\n",
    "print(mylist)"
   ]
  },
  {
   "cell_type": "code",
   "execution_count": null,
   "metadata": {},
   "outputs": [],
   "source": []
  },
  {
   "cell_type": "code",
   "execution_count": 52,
   "metadata": {},
   "outputs": [
    {
     "name": "stdout",
     "output_type": "stream",
     "text": [
      "(i+1, j) == [1, 0]\n",
      "(i+1, j+1) ==  [1, 1]\n",
      "NewList is [[1, 0], [1, 1]]\n",
      "checking this list None\n",
      "(i+1, j) == [1, 0]\n",
      "(i+1, j+1) ==  [1, 1]\n",
      "NewList is [[1, 0], [1, 1]]\n"
     ]
    },
    {
     "ename": "AttributeError",
     "evalue": "'NoneType' object has no attribute 'append'",
     "output_type": "error",
     "traceback": [
      "\u001b[0;31m---------------------------------------------------------------------------\u001b[0m",
      "\u001b[0;31mAttributeError\u001b[0m                            Traceback (most recent call last)",
      "Input \u001b[0;32mIn [52]\u001b[0m, in \u001b[0;36m<cell line: 4>\u001b[0;34m()\u001b[0m\n\u001b[1;32m      5\u001b[0m     twopaths(item)\n\u001b[1;32m      6\u001b[0m \u001b[38;5;66;03m#    print(twopaths.newpath())\u001b[39;00m\n\u001b[0;32m----> 7\u001b[0m     mylist \u001b[38;5;241m=\u001b[39m \u001b[43mmylist\u001b[49m\u001b[38;5;241;43m.\u001b[39;49m\u001b[43mappend\u001b[49m(patha)\n\u001b[1;32m      8\u001b[0m     \u001b[38;5;28mprint\u001b[39m(\u001b[38;5;124m'\u001b[39m\u001b[38;5;124mchecking this list\u001b[39m\u001b[38;5;124m'\u001b[39m, mylist)\n",
      "\u001b[0;31mAttributeError\u001b[0m: 'NoneType' object has no attribute 'append'"
     ]
    }
   ],
   "source": [
    "# mylist = [[0,0], [0,1], [1,0], [1,1]]\n",
    "mylist = [[0,0]]\n",
    "\n",
    "for item in mylist:\n",
    "    twopaths(item)\n",
    "#    print(twopaths.newpath())\n",
    "    mylist = mylist.append(patha)\n",
    "    print('checking this list', mylist)\n",
    "    #mylist = mylist.append(pathb)\n",
    "    # for num in newpath: #twopaths(item):\n",
    "    #     twopaths(num)\n",
    "    # #     twopaths(item)\n",
    "    # if isinstance(item, list):\n",
    "    #     yield from twopaths(item)\n",
    "    # else:\n",
    "    #     yield item"
   ]
  },
  {
   "cell_type": "code",
   "execution_count": 39,
   "metadata": {},
   "outputs": [
    {
     "name": "stdout",
     "output_type": "stream",
     "text": [
      "\n",
      "\n",
      "\n",
      "\n",
      "\n",
      "[0, 0][0, 1][0, 2][0, 3][0, 4][1, 0][1, 1][1, 2][1, 3][1, 4][2, 0][2, 1][2, 2][2, 3][2, 4][3, 0][3, 1][3, 2][3, 3][3, 4][4, 0][4, 1][4, 2][4, 3][4, 4]"
     ]
    }
   ],
   "source": [
    "num = 4\n",
    "\n",
    "#num = int(input(\"Please enter a number :\"))\n",
    "\n",
    "row = 0\n",
    "col = 0\n",
    "coord = []\n",
    "\n",
    "for row in range(0,num+1):\n",
    "    for col in range(0,num+1):\n",
    "        \n",
    "        coord.append([row, col])\n",
    "        #print(coord, end = \"\")\n",
    "        #print((row, col), end = \"\")\n",
    "    print(\"\")\n",
    "\n",
    "for item in coord:\n",
    "    print(item, end = \"\")"
   ]
  },
  {
   "cell_type": "code",
   "execution_count": 40,
   "metadata": {},
   "outputs": [
    {
     "name": "stdout",
     "output_type": "stream",
     "text": [
      "0 [0, 0]\n",
      "1 [0, 1]\n",
      "2 [0, 2]\n",
      "3 [0, 3]\n",
      "4 [0, 4]\n",
      "5 [1, 0]\n",
      "6 [1, 1]\n",
      "7 [1, 2]\n",
      "8 [1, 3]\n",
      "9 [1, 4]\n",
      "10 [2, 0]\n",
      "11 [2, 1]\n",
      "12 [2, 2]\n",
      "13 [2, 3]\n",
      "14 [2, 4]\n",
      "15 [3, 0]\n",
      "16 [3, 1]\n",
      "17 [3, 2]\n",
      "18 [3, 3]\n",
      "19 [3, 4]\n",
      "20 [4, 0]\n",
      "21 [4, 1]\n",
      "22 [4, 2]\n",
      "23 [4, 3]\n",
      "24 [4, 4]\n"
     ]
    }
   ],
   "source": [
    "for i, item in enumerate(coord):\n",
    "    print(i, item)"
   ]
  },
  {
   "cell_type": "code",
   "execution_count": null,
   "metadata": {},
   "outputs": [],
   "source": []
  },
  {
   "cell_type": "code",
   "execution_count": null,
   "metadata": {},
   "outputs": [],
   "source": []
  },
  {
   "cell_type": "code",
   "execution_count": null,
   "metadata": {},
   "outputs": [],
   "source": []
  },
  {
   "cell_type": "code",
   "execution_count": null,
   "metadata": {},
   "outputs": [],
   "source": []
  },
  {
   "cell_type": "markdown",
   "metadata": {},
   "source": [
    "### found this chess challenge on stack overflow"
   ]
  },
  {
   "cell_type": "code",
   "execution_count": 85,
   "metadata": {},
   "outputs": [],
   "source": [
    "def Steps(sourceX, sourceY, destX, destY):\n",
    "  SourceX = sourceX\n",
    "  SourceY = sourceY\n",
    "  DestX = destX\n",
    "  DestY = destY\n",
    "\n",
    "  i = 0\n",
    "  j = 0\n",
    "  while( (SourceX != DestX) or (SourceY != DestY) ):\n",
    "    #Go up\n",
    "    if(SourceX < DestX):\n",
    "      SourceX+=1\n",
    "      i+=1\n",
    "\n",
    "    #Go right\n",
    "    if(SourceY < DestY):\n",
    "      SourceY+=1\n",
    "      i+=1\n",
    "  \n",
    "  return i+j\n",
    "    \n",
    "\n",
    "def ChessChallenge(strParam):\n",
    "  arr = Substr(strParam)\n",
    "  SourceX = arr[0]\n",
    "  SourceY = arr[1]\n",
    "  DestX = arr[2]\n",
    "  DestY = arr[3]\n",
    "  # code goes here\n",
    "  return Steps(SourceX, SourceY, DestX, DestY)\n"
   ]
  },
  {
   "cell_type": "code",
   "execution_count": 86,
   "metadata": {},
   "outputs": [
    {
     "ename": "SyntaxError",
     "evalue": "invalid syntax (3921673395.py, line 2)",
     "output_type": "error",
     "traceback": [
      "\u001b[0;36m  File \u001b[0;32m\"/var/folders/hb/f2vn4dyn2_n5b7z6g7g6zwx00000gn/T/ipykernel_23476/3921673395.py\"\u001b[0;36m, line \u001b[0;32m2\u001b[0m\n\u001b[0;31m    print ChessChallenge(raw_input(2 2)(4 3))\u001b[0m\n\u001b[0m                       ^\u001b[0m\n\u001b[0;31mSyntaxError\u001b[0m\u001b[0;31m:\u001b[0m invalid syntax\n"
     ]
    }
   ],
   "source": [
    "# keep this function call here \n",
    "print ChessChallenge(raw_input(2 2)(4 3))"
   ]
  },
  {
   "cell_type": "code",
   "execution_count": null,
   "metadata": {},
   "outputs": [],
   "source": []
  }
 ],
 "metadata": {
  "kernelspec": {
   "display_name": "Python 3 (ipykernel)",
   "language": "python",
   "name": "python3"
  },
  "language_info": {
   "codemirror_mode": {
    "name": "ipython",
    "version": 3
   },
   "file_extension": ".py",
   "mimetype": "text/x-python",
   "name": "python",
   "nbconvert_exporter": "python",
   "pygments_lexer": "ipython3",
   "version": "3.9.12"
  }
 },
 "nbformat": 4,
 "nbformat_minor": 4
}
