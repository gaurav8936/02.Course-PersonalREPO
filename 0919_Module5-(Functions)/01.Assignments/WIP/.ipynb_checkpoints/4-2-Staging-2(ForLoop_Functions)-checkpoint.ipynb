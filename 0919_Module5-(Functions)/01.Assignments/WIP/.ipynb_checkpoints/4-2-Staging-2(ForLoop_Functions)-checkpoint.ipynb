{
 "cells": [
  {
   "cell_type": "markdown",
   "metadata": {},
   "source": [
    "### 4-2. A Game of Chess (20 points)\n",
    "You place a pawn at the top left corner of an n-by-n chess board, labeled (0,0).  For each move, you have a choice: move the pawn down a single space, or move the pawn down one space and right one space.  That is, if the pawn is at position (i,j), you can move the pawn to (i+1,j) or (i+1, j+1).\n",
    "\n",
    "Ask the user for the size of a chessboard, n (**integer**).  Find the number of different paths **starting from (0,0)** that the pawn could take to reach each position on the chess board.  For example, there are two different paths the pawn can take to reach (2,1). Look at the diagrams below to convince yourself of this. You can see the four paths that you can take by move 2.\n",
    "```\n",
    "  Start -> Move 1 -> Move 2\n",
    "\n",
    "  (0,0) ->  (1,0) -> (2,1)\n",
    "  \n",
    "  (0,0) ->  (1,0) -> (2,0)\n",
    "  \n",
    "  (0,0) ->  (1,1) -> (2,1)\n",
    "  \n",
    "  (0,0) ->  (1,1) -> (2,2)\n",
    "```\n",
    "\n",
    "Print the board with the number of ways to reach each square labeled as shown below.\n",
    "\n",
    "For example:\n",
    "```\n",
    "Enter a board size: 4\n",
    "\n",
    "1 0 0 0\n",
    "1 1 0 0\n",
    "1 2 1 0\n",
    "1 3 3 1\n",
    "```"
   ]
  },
  {
   "cell_type": "code",
   "execution_count": null,
   "metadata": {},
   "outputs": [],
   "source": [
    "# Q4-2 Grading Tag:\n",
    "\n",
    "# Get the user input for the board size\n",
    "n = int(input(\"Enter a board size: \"))"
   ]
  },
  {
   "cell_type": "code",
   "execution_count": null,
   "metadata": {},
   "outputs": [],
   "source": [
    "# Steps \n",
    "\n",
    "# 1.take user input for number\n",
    "# 2. generate a square to get all position positional combinations\n",
    "# 3. you can move in three directions (first pick 1,0) and 0,1 & 1,1\n",
    "\n",
    "# 4. determine logic for 1,0 (this is 1 move)\n",
    "# 5. validation logic for 0,1 (this is 0 moves)\n",
    "# 6. determine logic for 1,1 (this is also 0 moves)\n",
    "\n",
    "# 7."
   ]
  },
  {
   "cell_type": "markdown",
   "metadata": {},
   "source": [
    "### this code works"
   ]
  },
  {
   "cell_type": "code",
   "execution_count": 28,
   "metadata": {
    "tags": []
   },
   "outputs": [
    {
     "name": "stdin",
     "output_type": "stream",
     "text": [
      "Please enter a number : 6\n"
     ]
    },
    {
     "name": "stdout",
     "output_type": "stream",
     "text": [
      "[0, 0][0, 1][0, 2][0, 3][0, 4][0, 5][0, 6]\n",
      "[1, 0][1, 1][1, 2][1, 3][1, 4][1, 5][1, 6]\n",
      "[2, 0][2, 1][2, 2][2, 3][2, 4][2, 5][2, 6]\n",
      "[3, 0][3, 1][3, 2][3, 3][3, 4][3, 5][3, 6]\n",
      "[4, 0][4, 1][4, 2][4, 3][4, 4][4, 5][4, 6]\n",
      "[5, 0][5, 1][5, 2][5, 3][5, 4][5, 5][5, 6]\n",
      "[6, 0][6, 1][6, 2][6, 3][6, 4][6, 5][6, 6]\n"
     ]
    }
   ],
   "source": [
    "#1. take input and generate square\n",
    "\n",
    "#num = 4\n",
    "\n",
    "num = int(input(\"Please enter a number :\"))\n",
    "\n",
    "row = 0\n",
    "col = 0\n",
    "coord = []\n",
    "\n",
    "for row in range(0,num+1):\n",
    "    for col in range(0,num+1):\n",
    "        \n",
    "        coord.append([row, col])\n",
    "        #print(coord, end = \"\")\n",
    "    #     print((row, col), end = \"\")\n",
    "    # print(\"\")\n",
    "        print([row, col], end = \"\")\n",
    "    print(\"\")\n"
   ]
  },
  {
   "cell_type": "code",
   "execution_count": 30,
   "metadata": {
    "collapsed": true,
    "jupyter": {
     "outputs_hidden": true
    },
    "tags": []
   },
   "outputs": [
    {
     "name": "stdout",
     "output_type": "stream",
     "text": [
      "[[0, 0], [0, 1], [0, 2], [0, 3], [0, 4], [0, 5], [0, 6], [1, 0], [1, 1], [1, 2], [1, 3], [1, 4], [1, 5], [1, 6], [2, 0], [2, 1], [2, 2], [2, 3], [2, 4], [2, 5], [2, 6], [3, 0], [3, 1], [3, 2], [3, 3], [3, 4], [3, 5], [3, 6], [4, 0], [4, 1], [4, 2], [4, 3], [4, 4], [4, 5], [4, 6], [5, 0], [5, 1], [5, 2], [5, 3], [5, 4], [5, 5], [5, 6], [6, 0], [6, 1], [6, 2], [6, 3], [6, 4], [6, 5], [6, 6]]"
     ]
    }
   ],
   "source": [
    "print(coord, end = \"\")"
   ]
  },
  {
   "cell_type": "markdown",
   "metadata": {
    "jupyter": {
     "source_hidden": true
    },
    "tags": []
   },
   "source": [
    "## this gives us the position and number of elements"
   ]
  },
  {
   "cell_type": "code",
   "execution_count": 22,
   "metadata": {
    "collapsed": true,
    "jupyter": {
     "outputs_hidden": true
    },
    "tags": []
   },
   "outputs": [
    {
     "name": "stdout",
     "output_type": "stream",
     "text": [
      "0 [0, 0]\n",
      "1 [0, 1]\n",
      "2 [0, 2]\n",
      "3 [0, 3]\n",
      "4 [0, 4]\n",
      "5 [0, 5]\n",
      "6 [0, 6]\n",
      "7 [1, 0]\n",
      "8 [1, 1]\n",
      "9 [1, 2]\n",
      "10 [1, 3]\n",
      "11 [1, 4]\n",
      "12 [1, 5]\n",
      "13 [1, 6]\n",
      "14 [2, 0]\n",
      "15 [2, 1]\n",
      "16 [2, 2]\n",
      "17 [2, 3]\n",
      "18 [2, 4]\n",
      "19 [2, 5]\n",
      "20 [2, 6]\n",
      "21 [3, 0]\n",
      "22 [3, 1]\n",
      "23 [3, 2]\n",
      "24 [3, 3]\n",
      "25 [3, 4]\n",
      "26 [3, 5]\n",
      "27 [3, 6]\n",
      "28 [4, 0]\n",
      "29 [4, 1]\n",
      "30 [4, 2]\n",
      "31 [4, 3]\n",
      "32 [4, 4]\n",
      "33 [4, 5]\n",
      "34 [4, 6]\n",
      "35 [5, 0]\n",
      "36 [5, 1]\n",
      "37 [5, 2]\n",
      "38 [5, 3]\n",
      "39 [5, 4]\n",
      "40 [5, 5]\n",
      "41 [5, 6]\n",
      "42 [6, 0]\n",
      "43 [6, 1]\n",
      "44 [6, 2]\n",
      "45 [6, 3]\n",
      "46 [6, 4]\n",
      "47 [6, 5]\n",
      "48 [6, 6]\n"
     ]
    }
   ],
   "source": [
    "# Generate index position for the full square\n",
    "\n",
    "for i, item in enumerate(coord):\n",
    "    print(i, item)"
   ]
  },
  {
   "cell_type": "markdown",
   "metadata": {
    "jupyter": {
     "source_hidden": true
    },
    "tags": []
   },
   "source": [
    "### WHILE Loop (NOT REQUIRED -- Refer FOR Loop below)"
   ]
  },
  {
   "cell_type": "code",
   "execution_count": null,
   "metadata": {
    "jupyter": {
     "source_hidden": true
    },
    "tags": []
   },
   "outputs": [],
   "source": [
    "mylist = [[0,0]]\n",
    "counter = 0\n",
    "# condition = True\n",
    "\n",
    "#while condition == True:\n",
    "while counter <= 3:\n",
    "    for item in mylist:\n",
    "        patha = funca(item)\n",
    "        #print(patha)\n",
    "        pathb = funcb(item)\n",
    "        #print(pathb)\n",
    "        #mylist.append(patha)\n",
    "        mylist.extend([patha])\n",
    "        mylist.extend([pathb])\n",
    "        # if counter> 10:\n",
    "        #     break\n",
    "        print(mylist)\n",
    "        print(counter)\n",
    "        counter += 1\n",
    "        if counter> 40:\n",
    "            break\n",
    "        #     condition = False\n",
    "#    print(mylist)\n",
    "    #break\n",
    "    #newpath = [patha, pathb]\n",
    "    #mylist.append(newpath)\n",
    "\n",
    "# patha = [1,0]\n",
    "# pathb = [1,1]\n",
    "# newpath = [patha, pathb]\n",
    "\n",
    "# mylist.append(newpath)\n",
    "# print(mylist)"
   ]
  },
  {
   "cell_type": "markdown",
   "metadata": {},
   "source": [
    "<font size = 6, color = red>Current"
   ]
  },
  {
   "cell_type": "markdown",
   "metadata": {},
   "source": [
    "# Working with this model now"
   ]
  },
  {
   "cell_type": "code",
   "execution_count": 73,
   "metadata": {},
   "outputs": [
    {
     "name": "stdout",
     "output_type": "stream",
     "text": [
      "[[0, 0], [1, 0], [1, 1], [2, 0], [2, 1], [2, 1], [2, 2], [3, 0], [3, 1], [3, 1], [3, 2], [3, 1], [3, 2], [3, 2], [3, 3], [4, 0], [4, 1], [4, 1], [4, 2], [4, 1], [4, 2], [4, 2], [4, 3], [4, 1], [4, 2], [4, 2], [4, 3], [4, 2], [4, 3], [4, 3], [4, 4], [5, 0], [5, 1], [5, 1], [5, 2], [5, 1], [5, 2], [5, 2], [5, 3], [5, 1], [5, 2], [5, 2], [5, 3], [5, 2], [5, 3], [5, 3], [5, 4], [5, 1], [5, 2], [5, 2], [5, 3], [5, 2], [5, 3], [5, 3], [5, 4], [5, 2], [5, 3], [5, 3], [5, 4], [5, 3], [5, 4], [5, 4], [5, 5], [6, 0], [6, 1], [6, 1], [6, 2], [6, 1], [6, 2], [6, 2], [6, 3], [6, 1], [6, 2], [6, 2], [6, 3], [6, 2], [6, 3], [6, 3], [6, 4], [6, 1], [6, 2], [6, 2], [6, 3], [6, 2], [6, 3], [6, 3], [6, 4], [6, 2], [6, 3], [6, 3], [6, 4], [6, 3], [6, 4], [6, 4], [6, 5], [6, 1], [6, 2], [6, 2], [6, 3], [6, 2], [6, 3], [6, 3], [6, 4], [6, 2], [6, 3], [6, 3], [6, 4], [6, 3], [6, 4], [6, 4], [6, 5], [6, 2], [6, 3], [6, 3], [6, 4], [6, 3], [6, 4], [6, 4], [6, 5], [6, 3], [6, 4], [6, 4], [6, 5], [6, 4], [6, 5], [6, 5], [6, 6]]\n"
     ]
    }
   ],
   "source": [
    "# function that takes in an item(i,j) and returns two values: patha and pathb\n",
    "\n",
    "def funca(item):\n",
    "    row = item[0]\n",
    "    col = item[1]\n",
    "    return([row+1, col])\n",
    "\n",
    "def funcb(item):\n",
    "    row = item[0]\n",
    "    col = item[1]\n",
    "    return([row+1, col+1])\n",
    "\n",
    "# def incoord(item):\n",
    "#     if item in coord:\n",
    "#         continue\n",
    "#     else:\n",
    "#         break\n",
    "\n",
    "# mylist = [[0,0]]\n",
    "# counter = 0\n",
    "\n",
    "# for item in mylist:\n",
    "#     patha = funca(item)\n",
    "#     if patha not in [item for item in coord]:\n",
    "#         break\n",
    "#     #print(patha)\n",
    "#     pathb = funcb(item)\n",
    "#     if pathb not in [item for item in coord]:\n",
    "#         break\n",
    "#     #print(pathb)\n",
    "#     mylist.extend([patha])\n",
    "#     mylist.extend([pathb])\n",
    "#     counter += 1\n",
    "#     if counter> 80:\n",
    "#         break\n",
    "# print(mylist)"
   ]
  },
  {
   "cell_type": "markdown",
   "metadata": {},
   "source": [
    "## Generating universe of combinations and possible paths"
   ]
  },
  {
   "cell_type": "code",
   "execution_count": 103,
   "metadata": {},
   "outputs": [
    {
     "name": "stdout",
     "output_type": "stream",
     "text": [
      "[[0, 0], [1, 0], [1, 1], [2, 0], [2, 1], [2, 1], [2, 2], [3, 0], [3, 1], [3, 1], [3, 2], [3, 1], [3, 2], [3, 2], [3, 3], [4, 0], [4, 1], [4, 1], [4, 2], [4, 1], [4, 2], [4, 2], [4, 3], [4, 1], [4, 2], [4, 2], [4, 3], [4, 2], [4, 3], [4, 3], [4, 4], [5, 0], [5, 1], [5, 1], [5, 2], [5, 1], [5, 2], [5, 2], [5, 3], [5, 1], [5, 2], [5, 2], [5, 3], [5, 2], [5, 3], [5, 3], [5, 4], [5, 1], [5, 2], [5, 2], [5, 3], [5, 2], [5, 3], [5, 3], [5, 4], [5, 2], [5, 3], [5, 3], [5, 4], [5, 3], [5, 4], [5, 4], [5, 5], [6, 0], [6, 1], [6, 1], [6, 2], [6, 1], [6, 2], [6, 2], [6, 3], [6, 1], [6, 2], [6, 2], [6, 3], [6, 2], [6, 3], [6, 3], [6, 4], [6, 1], [6, 2], [6, 2], [6, 3], [6, 2], [6, 3], [6, 3], [6, 4], [6, 2], [6, 3], [6, 3], [6, 4], [6, 3], [6, 4], [6, 4], [6, 5], [6, 1], [6, 2], [6, 2], [6, 3], [6, 2], [6, 3], [6, 3], [6, 4], [6, 2], [6, 3], [6, 3], [6, 4], [6, 3], [6, 4], [6, 4], [6, 5], [6, 2], [6, 3], [6, 3], [6, 4], [6, 3], [6, 4], [6, 4], [6, 5], [6, 3], [6, 4], [6, 4], [6, 5], [6, 4], [6, 5], [6, 5], [6, 6]]\n"
     ]
    }
   ],
   "source": [
    "mylist = [[0,0]]\n",
    "counter = 0\n",
    "\n",
    "for item in mylist:\n",
    "    patha = funca(item)\n",
    "    if patha not in [item for item in coord]:\n",
    "        break\n",
    "    #print(patha)\n",
    "    pathb = funcb(item)\n",
    "    if pathb not in [item for item in coord]:\n",
    "        break\n",
    "    #print(pathb)\n",
    "    mylist.extend([patha])\n",
    "    mylist.extend([pathb])\n",
    "    counter += 1\n",
    "    if counter> 80:\n",
    "        break\n",
    "print(mylist)"
   ]
  },
  {
   "cell_type": "markdown",
   "metadata": {},
   "source": [
    "## counting distinct combinations for each position in the list"
   ]
  },
  {
   "cell_type": "code",
   "execution_count": 99,
   "metadata": {
    "tags": []
   },
   "outputs": [
    {
     "name": "stdout",
     "output_type": "stream",
     "text": [
      "[[[0, 0], 1], [[1, 0], 1], [[1, 1], 1], [[2, 0], 1], [[2, 1], 2], [[2, 2], 1], [[3, 0], 1], [[3, 1], 3], [[3, 2], 3], [[3, 3], 1], [[4, 0], 1], [[4, 1], 4], [[4, 2], 6], [[4, 3], 4], [[4, 4], 1], [[5, 0], 1], [[5, 1], 5], [[5, 2], 10], [[5, 3], 10], [[5, 4], 5], [[5, 5], 1], [[6, 0], 1], [[6, 1], 6], [[6, 2], 15], [[6, 3], 20], [[6, 4], 15], [[6, 5], 6], [[6, 6], 1]]\n"
     ]
    }
   ],
   "source": [
    "new_arr = []\n",
    "for elem in mylist:\n",
    "    obj = [ [elem, mylist.count(elem)] ]\n",
    "    if obj[0] not in new_arr:\n",
    "        new_arr += obj\n",
    "\n",
    "print(new_arr)"
   ]
  },
  {
   "cell_type": "code",
   "execution_count": null,
   "metadata": {},
   "outputs": [],
   "source": []
  },
  {
   "cell_type": "code",
   "execution_count": 74,
   "metadata": {
    "collapsed": true,
    "jupyter": {
     "outputs_hidden": true,
     "source_hidden": true
    },
    "tags": []
   },
   "outputs": [
    {
     "ename": "TypeError",
     "evalue": "'int' object is not callable",
     "output_type": "error",
     "traceback": [
      "\u001b[0;31m---------------------------------------------------------------------------\u001b[0m",
      "\u001b[0;31mTypeError\u001b[0m                                 Traceback (most recent call last)",
      "Input \u001b[0;32mIn [74]\u001b[0m, in \u001b[0;36m<cell line: 5>\u001b[0;34m()\u001b[0m\n\u001b[1;32m      1\u001b[0m \u001b[38;5;28;01mfrom\u001b[39;00m \u001b[38;5;21;01mcollections\u001b[39;00m \u001b[38;5;28;01mimport\u001b[39;00m Counter\n\u001b[1;32m      3\u001b[0m \u001b[38;5;28minput\u001b[39m \u001b[38;5;241m=\u001b[39m mylist\n\u001b[0;32m----> 5\u001b[0m c \u001b[38;5;241m=\u001b[39m \u001b[43mcounter\u001b[49m\u001b[43m(\u001b[49m\u001b[43m \u001b[49m\u001b[38;5;28;43minput\u001b[39;49m\u001b[43m \u001b[49m\u001b[43m)\u001b[49m\n\u001b[1;32m      7\u001b[0m \u001b[38;5;28mprint\u001b[39m( c\u001b[38;5;241m.\u001b[39mitems() )\n",
      "\u001b[0;31mTypeError\u001b[0m: 'int' object is not callable"
     ]
    }
   ],
   "source": [
    "from collections import Counter\n",
    "\n",
    "input = mylist\n",
    "\n",
    "c = counter( input )\n",
    "\n",
    "print( c.items() )"
   ]
  },
  {
   "cell_type": "code",
   "execution_count": 75,
   "metadata": {},
   "outputs": [
    {
     "name": "stdout",
     "output_type": "stream",
     "text": [
      "28\n"
     ]
    }
   ],
   "source": [
    "ll = mylist #[ [1,2,3], [2,3,4], [1,2,3] ]\n",
    "print(len(set(map(tuple, mylist))))"
   ]
  },
  {
   "cell_type": "code",
   "execution_count": 83,
   "metadata": {
    "collapsed": true,
    "jupyter": {
     "outputs_hidden": true,
     "source_hidden": true
    },
    "tags": []
   },
   "outputs": [
    {
     "name": "stdout",
     "output_type": "stream",
     "text": [
      "Repeated Items\n",
      "[2, 1]\n",
      "[3, 1]\n",
      "[3, 2]\n",
      "[4, 1]\n",
      "[4, 2]\n",
      "[4, 3]\n",
      "[5, 1]\n",
      "[5, 2]\n",
      "[5, 3]\n",
      "[5, 4]\n",
      "[6, 1]\n",
      "[6, 2]\n",
      "[6, 3]\n",
      "[6, 4]\n",
      "[6, 5]\n",
      "\n",
      "Unique items: 13 1\n"
     ]
    }
   ],
   "source": [
    "list =  mylist\n",
    "repeats = []\n",
    "unique = 0\n",
    "for i in list:\n",
    "    count = 0;\n",
    "    if i not in repeats:\n",
    "        for i2 in list:\n",
    "            if i == i2:\n",
    "                count += 1\n",
    "    if count > 1:\n",
    "        repeats.append(i)\n",
    "    elif count == 1:\n",
    "        unique += 1\n",
    "\n",
    "print(\"Repeated Items\")\n",
    "for r in repeats:\n",
    "    print(r)\n",
    "\n",
    "print(\"\\nUnique items:\", unique, count)"
   ]
  },
  {
   "cell_type": "code",
   "execution_count": 92,
   "metadata": {
    "collapsed": true,
    "jupyter": {
     "outputs_hidden": true,
     "source_hidden": true
    },
    "tags": []
   },
   "outputs": [
    {
     "name": "stdout",
     "output_type": "stream",
     "text": [
      "Counter({(6, 3): 20, (6, 2): 15, (6, 4): 15, (5, 2): 10, (5, 3): 10, (4, 2): 6, (6, 1): 6, (6, 5): 6, (5, 1): 5, (5, 4): 5, (4, 1): 4, (4, 3): 4, (3, 1): 3, (3, 2): 3, (2, 1): 2, (0, 0): 1, (1, 0): 1, (1, 1): 1, (2, 0): 1, (2, 2): 1, (3, 0): 1, (3, 3): 1, (4, 0): 1, (4, 4): 1, (5, 0): 1, (5, 5): 1, (6, 0): 1, (6, 6): 1}) "
     ]
    }
   ],
   "source": [
    ">>> from collections import Counter\n",
    ">>> li= mylist\n",
    "mytuple = Counter(tuple(item) for item in li)\n",
    "#Counter(item for item in li)\n",
    "# >>> Counter(str(e) for e in li)\n",
    "print(mytuple, end = \" \")"
   ]
  },
  {
   "cell_type": "code",
   "execution_count": 94,
   "metadata": {
    "collapsed": true,
    "jupyter": {
     "outputs_hidden": true,
     "source_hidden": true
    },
    "tags": []
   },
   "outputs": [
    {
     "data": {
      "text/plain": [
       "collections.Counter"
      ]
     },
     "execution_count": 94,
     "metadata": {},
     "output_type": "execute_result"
    }
   ],
   "source": [
    "type(mytuple)"
   ]
  },
  {
   "cell_type": "code",
   "execution_count": 97,
   "metadata": {
    "collapsed": true,
    "jupyter": {
     "outputs_hidden": true,
     "source_hidden": true
    },
    "tags": []
   },
   "outputs": [
    {
     "ename": "TypeError",
     "evalue": "'list' object is not callable",
     "output_type": "error",
     "traceback": [
      "\u001b[0;31m---------------------------------------------------------------------------\u001b[0m",
      "\u001b[0;31mTypeError\u001b[0m                                 Traceback (most recent call last)",
      "Input \u001b[0;32mIn [97]\u001b[0m, in \u001b[0;36m<cell line: 2>\u001b[0;34m()\u001b[0m\n\u001b[1;32m      1\u001b[0m res\u001b[38;5;241m=\u001b[39m()\n\u001b[1;32m      2\u001b[0m \u001b[38;5;28;01mfor\u001b[39;00m item \u001b[38;5;129;01min\u001b[39;00m mylist:\n\u001b[0;32m----> 3\u001b[0m     res \u001b[38;5;241m=\u001b[39m \u001b[38;5;28;43mlist\u001b[39;49m\u001b[43m(\u001b[49m\u001b[38;5;28;43mset\u001b[39;49m\u001b[43m(\u001b[49m\u001b[43mres\u001b[49m\u001b[43m)\u001b[49m\u001b[43m \u001b[49m\u001b[38;5;241;43m|\u001b[39;49m\u001b[43m \u001b[49m\u001b[38;5;28;43mset\u001b[39;49m\u001b[43m(\u001b[49m\u001b[43mitem\u001b[49m\u001b[43m)\u001b[49m\u001b[43m)\u001b[49m\n\u001b[1;32m      4\u001b[0m \u001b[38;5;28mprint\u001b[39m(res)\n",
      "\u001b[0;31mTypeError\u001b[0m: 'list' object is not callable"
     ]
    }
   ],
   "source": [
    "res=()\n",
    "for item in mylist:\n",
    "    res = list(set(res) | set(item))\n",
    "print(res)"
   ]
  },
  {
   "cell_type": "code",
   "execution_count": 102,
   "metadata": {
    "tags": []
   },
   "outputs": [
    {
     "data": {
      "text/plain": [
       "1"
      ]
     },
     "execution_count": 102,
     "metadata": {},
     "output_type": "execute_result"
    }
   ],
   "source": [
    "new_arr[1][1]"
   ]
  },
  {
   "cell_type": "code",
   "execution_count": null,
   "metadata": {},
   "outputs": [],
   "source": []
  },
  {
   "cell_type": "code",
   "execution_count": null,
   "metadata": {},
   "outputs": [],
   "source": []
  },
  {
   "cell_type": "code",
   "execution_count": null,
   "metadata": {},
   "outputs": [],
   "source": []
  },
  {
   "cell_type": "code",
   "execution_count": null,
   "metadata": {},
   "outputs": [],
   "source": []
  },
  {
   "cell_type": "code",
   "execution_count": 54,
   "metadata": {},
   "outputs": [
    {
     "data": {
      "text/plain": [
       "False"
      ]
     },
     "execution_count": 54,
     "metadata": {},
     "output_type": "execute_result"
    }
   ],
   "source": [
    "#item = [8,9]\n",
    "item = [1,0]\n",
    "\n",
    "any(item in sl for sl in coord)"
   ]
  },
  {
   "cell_type": "code",
   "execution_count": null,
   "metadata": {},
   "outputs": [],
   "source": []
  },
  {
   "cell_type": "code",
   "execution_count": null,
   "metadata": {},
   "outputs": [],
   "source": []
  },
  {
   "cell_type": "code",
   "execution_count": 27,
   "metadata": {},
   "outputs": [
    {
     "data": {
      "text/plain": [
       "163"
      ]
     },
     "execution_count": 27,
     "metadata": {},
     "output_type": "execute_result"
    }
   ],
   "source": [
    "len(mylist)"
   ]
  },
  {
   "cell_type": "code",
   "execution_count": 34,
   "metadata": {},
   "outputs": [
    {
     "ename": "TypeError",
     "evalue": "unsupported operand type(s) for &: 'list' and 'list'",
     "output_type": "error",
     "traceback": [
      "\u001b[0;31m---------------------------------------------------------------------------\u001b[0m",
      "\u001b[0;31mTypeError\u001b[0m                                 Traceback (most recent call last)",
      "Input \u001b[0;32mIn [34]\u001b[0m, in \u001b[0;36m<cell line: 1>\u001b[0;34m()\u001b[0m\n\u001b[0;32m----> 1\u001b[0m newlist \u001b[38;5;241m=\u001b[39m \u001b[43mmylist\u001b[49m\u001b[43m \u001b[49m\u001b[38;5;241;43m&\u001b[39;49m\u001b[43m \u001b[49m\u001b[43mcoord\u001b[49m\n",
      "\u001b[0;31mTypeError\u001b[0m: unsupported operand type(s) for &: 'list' and 'list'"
     ]
    }
   ],
   "source": [
    "newlist = mylist & coord"
   ]
  },
  {
   "cell_type": "code",
   "execution_count": null,
   "metadata": {},
   "outputs": [],
   "source": []
  },
  {
   "cell_type": "code",
   "execution_count": null,
   "metadata": {},
   "outputs": [],
   "source": []
  },
  {
   "cell_type": "code",
   "execution_count": null,
   "metadata": {},
   "outputs": [],
   "source": []
  },
  {
   "cell_type": "code",
   "execution_count": null,
   "metadata": {},
   "outputs": [],
   "source": []
  },
  {
   "cell_type": "code",
   "execution_count": null,
   "metadata": {},
   "outputs": [],
   "source": []
  },
  {
   "cell_type": "code",
   "execution_count": null,
   "metadata": {},
   "outputs": [],
   "source": []
  },
  {
   "cell_type": "code",
   "execution_count": null,
   "metadata": {},
   "outputs": [],
   "source": []
  },
  {
   "cell_type": "code",
   "execution_count": null,
   "metadata": {},
   "outputs": [],
   "source": []
  },
  {
   "cell_type": "code",
   "execution_count": null,
   "metadata": {},
   "outputs": [],
   "source": []
  },
  {
   "cell_type": "code",
   "execution_count": null,
   "metadata": {},
   "outputs": [],
   "source": []
  },
  {
   "cell_type": "code",
   "execution_count": null,
   "metadata": {},
   "outputs": [],
   "source": []
  },
  {
   "cell_type": "code",
   "execution_count": null,
   "metadata": {},
   "outputs": [],
   "source": [
    "mylist = [[0,0]]\n",
    "patha = funca([0,0])\n",
    "print(patha)\n",
    "mylist = mylist.append(patha)\n",
    "pathb = funcb([0,0])\n",
    "mylist = mylist.append(pathb)\n",
    "# newpath = [patha, pathb]\n",
    "# print(newpath)\n",
    "# mylist.append(newpath)\n",
    "print(mylist)"
   ]
  },
  {
   "cell_type": "code",
   "execution_count": null,
   "metadata": {},
   "outputs": [],
   "source": []
  },
  {
   "cell_type": "code",
   "execution_count": 52,
   "metadata": {},
   "outputs": [
    {
     "name": "stdout",
     "output_type": "stream",
     "text": [
      "(i+1, j) == [1, 0]\n",
      "(i+1, j+1) ==  [1, 1]\n",
      "NewList is [[1, 0], [1, 1]]\n",
      "checking this list None\n",
      "(i+1, j) == [1, 0]\n",
      "(i+1, j+1) ==  [1, 1]\n",
      "NewList is [[1, 0], [1, 1]]\n"
     ]
    },
    {
     "ename": "AttributeError",
     "evalue": "'NoneType' object has no attribute 'append'",
     "output_type": "error",
     "traceback": [
      "\u001b[0;31m---------------------------------------------------------------------------\u001b[0m",
      "\u001b[0;31mAttributeError\u001b[0m                            Traceback (most recent call last)",
      "Input \u001b[0;32mIn [52]\u001b[0m, in \u001b[0;36m<cell line: 4>\u001b[0;34m()\u001b[0m\n\u001b[1;32m      5\u001b[0m     twopaths(item)\n\u001b[1;32m      6\u001b[0m \u001b[38;5;66;03m#    print(twopaths.newpath())\u001b[39;00m\n\u001b[0;32m----> 7\u001b[0m     mylist \u001b[38;5;241m=\u001b[39m \u001b[43mmylist\u001b[49m\u001b[38;5;241;43m.\u001b[39;49m\u001b[43mappend\u001b[49m(patha)\n\u001b[1;32m      8\u001b[0m     \u001b[38;5;28mprint\u001b[39m(\u001b[38;5;124m'\u001b[39m\u001b[38;5;124mchecking this list\u001b[39m\u001b[38;5;124m'\u001b[39m, mylist)\n",
      "\u001b[0;31mAttributeError\u001b[0m: 'NoneType' object has no attribute 'append'"
     ]
    }
   ],
   "source": [
    "# mylist = [[0,0], [0,1], [1,0], [1,1]]\n",
    "mylist = [[0,0]]\n",
    "\n",
    "for item in mylist:\n",
    "    twopaths(item)\n",
    "#    print(twopaths.newpath())\n",
    "    mylist = mylist.append(patha)\n",
    "    print('checking this list', mylist)\n",
    "    #mylist = mylist.append(pathb)\n",
    "    # for num in newpath: #twopaths(item):\n",
    "    #     twopaths(num)\n",
    "    # #     twopaths(item)\n",
    "    # if isinstance(item, list):\n",
    "    #     yield from twopaths(item)\n",
    "    # else:\n",
    "    #     yield item"
   ]
  },
  {
   "cell_type": "code",
   "execution_count": 39,
   "metadata": {},
   "outputs": [
    {
     "name": "stdout",
     "output_type": "stream",
     "text": [
      "\n",
      "\n",
      "\n",
      "\n",
      "\n",
      "[0, 0][0, 1][0, 2][0, 3][0, 4][1, 0][1, 1][1, 2][1, 3][1, 4][2, 0][2, 1][2, 2][2, 3][2, 4][3, 0][3, 1][3, 2][3, 3][3, 4][4, 0][4, 1][4, 2][4, 3][4, 4]"
     ]
    }
   ],
   "source": [
    "num = 4\n",
    "\n",
    "#num = int(input(\"Please enter a number :\"))\n",
    "\n",
    "row = 0\n",
    "col = 0\n",
    "coord = []\n",
    "\n",
    "for row in range(0,num+1):\n",
    "    for col in range(0,num+1):\n",
    "        \n",
    "        coord.append([row, col])\n",
    "        #print(coord, end = \"\")\n",
    "        #print((row, col), end = \"\")\n",
    "    print(\"\")\n",
    "\n",
    "for item in coord:\n",
    "    print(item, end = \"\")"
   ]
  },
  {
   "cell_type": "code",
   "execution_count": 40,
   "metadata": {},
   "outputs": [
    {
     "name": "stdout",
     "output_type": "stream",
     "text": [
      "0 [0, 0]\n",
      "1 [0, 1]\n",
      "2 [0, 2]\n",
      "3 [0, 3]\n",
      "4 [0, 4]\n",
      "5 [1, 0]\n",
      "6 [1, 1]\n",
      "7 [1, 2]\n",
      "8 [1, 3]\n",
      "9 [1, 4]\n",
      "10 [2, 0]\n",
      "11 [2, 1]\n",
      "12 [2, 2]\n",
      "13 [2, 3]\n",
      "14 [2, 4]\n",
      "15 [3, 0]\n",
      "16 [3, 1]\n",
      "17 [3, 2]\n",
      "18 [3, 3]\n",
      "19 [3, 4]\n",
      "20 [4, 0]\n",
      "21 [4, 1]\n",
      "22 [4, 2]\n",
      "23 [4, 3]\n",
      "24 [4, 4]\n"
     ]
    }
   ],
   "source": [
    "for i, item in enumerate(coord):\n",
    "    print(i, item)"
   ]
  },
  {
   "cell_type": "code",
   "execution_count": null,
   "metadata": {},
   "outputs": [],
   "source": []
  },
  {
   "cell_type": "code",
   "execution_count": null,
   "metadata": {},
   "outputs": [],
   "source": []
  },
  {
   "cell_type": "code",
   "execution_count": null,
   "metadata": {},
   "outputs": [],
   "source": []
  },
  {
   "cell_type": "code",
   "execution_count": null,
   "metadata": {},
   "outputs": [],
   "source": []
  },
  {
   "cell_type": "markdown",
   "metadata": {},
   "source": [
    "### found this chess challenge on stack overflow"
   ]
  },
  {
   "cell_type": "code",
   "execution_count": 85,
   "metadata": {},
   "outputs": [],
   "source": [
    "def Steps(sourceX, sourceY, destX, destY):\n",
    "  SourceX = sourceX\n",
    "  SourceY = sourceY\n",
    "  DestX = destX\n",
    "  DestY = destY\n",
    "\n",
    "  i = 0\n",
    "  j = 0\n",
    "  while( (SourceX != DestX) or (SourceY != DestY) ):\n",
    "    #Go up\n",
    "    if(SourceX < DestX):\n",
    "      SourceX+=1\n",
    "      i+=1\n",
    "\n",
    "    #Go right\n",
    "    if(SourceY < DestY):\n",
    "      SourceY+=1\n",
    "      i+=1\n",
    "  \n",
    "  return i+j\n",
    "    \n",
    "\n",
    "def ChessChallenge(strParam):\n",
    "  arr = Substr(strParam)\n",
    "  SourceX = arr[0]\n",
    "  SourceY = arr[1]\n",
    "  DestX = arr[2]\n",
    "  DestY = arr[3]\n",
    "  # code goes here\n",
    "  return Steps(SourceX, SourceY, DestX, DestY)\n"
   ]
  },
  {
   "cell_type": "code",
   "execution_count": 86,
   "metadata": {},
   "outputs": [
    {
     "ename": "SyntaxError",
     "evalue": "invalid syntax (3921673395.py, line 2)",
     "output_type": "error",
     "traceback": [
      "\u001b[0;36m  File \u001b[0;32m\"/var/folders/hb/f2vn4dyn2_n5b7z6g7g6zwx00000gn/T/ipykernel_23476/3921673395.py\"\u001b[0;36m, line \u001b[0;32m2\u001b[0m\n\u001b[0;31m    print ChessChallenge(raw_input(2 2)(4 3))\u001b[0m\n\u001b[0m                       ^\u001b[0m\n\u001b[0;31mSyntaxError\u001b[0m\u001b[0;31m:\u001b[0m invalid syntax\n"
     ]
    }
   ],
   "source": [
    "# keep this function call here \n",
    "print ChessChallenge(raw_input(2 2)(4 3))"
   ]
  },
  {
   "cell_type": "code",
   "execution_count": null,
   "metadata": {},
   "outputs": [],
   "source": []
  }
 ],
 "metadata": {
  "kernelspec": {
   "display_name": "Python 3 (ipykernel)",
   "language": "python",
   "name": "python3"
  },
  "language_info": {
   "codemirror_mode": {
    "name": "ipython",
    "version": 3
   },
   "file_extension": ".py",
   "mimetype": "text/x-python",
   "name": "python",
   "nbconvert_exporter": "python",
   "pygments_lexer": "ipython3",
   "version": "3.9.12"
  }
 },
 "nbformat": 4,
 "nbformat_minor": 4
}
