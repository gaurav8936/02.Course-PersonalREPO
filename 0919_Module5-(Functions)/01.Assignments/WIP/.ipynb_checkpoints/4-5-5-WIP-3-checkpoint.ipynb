{
 "cells": [
  {
   "cell_type": "markdown",
   "metadata": {},
   "source": [
    "## 4-5. List Comprehensions (25 points - 5 points each)\n",
    "\n",
    "Each list comprehension below can be done in just one line/statement and needs to output one list. The autograder will fail if the line count is more than 5 lines in a cell (not including Q4-5-2 which has the longer text string).\n",
    "\n",
    "**Please print this list so the autograder will pickup the output. That is, you need to use `print(<list comprehension>)`** <br>\n",
    "A note on displaying lists in Python: sometimes Python displays lists like `[1,2,3]` and other times lists display as \n",
    "```\n",
    "[1,\n",
    " 2,\n",
    " 3]\n",
    "```\n",
    "Either way these lists contain the same values and information (and are the same answer for this problem)."
   ]
  },
  {
   "cell_type": "markdown",
   "metadata": {},
   "source": [
    "**4-5-5.** Given a word, provided below, **use a single comprehension** to make a list of all strings that can be formed by replacing exactly one vowel in the word with a different vowel (a vowel is a,e,i,o,u).\n",
    "\n",
    "Required output:\n",
    "```\n",
    "['Baoted', 'Beoted', 'Bioted', 'Buoted', 'Boated', 'Boeted', 'Boited', 'Bouted', 'Bootad', 'Bootid', 'Bootod', 'Bootud']\n",
    "```"
   ]
  },
  {
   "cell_type": "code",
   "execution_count": 2,
   "metadata": {},
   "outputs": [],
   "source": [
    "# Q4-5-5 Grading Tag:\n",
    "word = \"Booted\""
   ]
  },
  {
   "cell_type": "code",
   "execution_count": 3,
   "metadata": {},
   "outputs": [
    {
     "name": "stdout",
     "output_type": "stream",
     "text": [
      "['ooted', 'Boted', 'Boted', 'Booed', 'Bootd', 'Boote']\n"
     ]
    }
   ],
   "source": [
    "new_list = [word[:i] + word[i+1:] for i in range(len(word))]\n",
    "print(new_list)"
   ]
  },
  {
   "cell_type": "code",
   "execution_count": 5,
   "metadata": {},
   "outputs": [
    {
     "name": "stdout",
     "output_type": "stream",
     "text": [
      "['', 'B', 'Bo', 'Boo', 'Boot', 'Boote']\n"
     ]
    }
   ],
   "source": [
    "new_list = [word[:i]  for i in range(len(word))]\n",
    "print(new_list)"
   ]
  },
  {
   "cell_type": "code",
   "execution_count": 6,
   "metadata": {},
   "outputs": [
    {
     "name": "stdout",
     "output_type": "stream",
     "text": [
      "['ooted', 'oted', 'ted', 'ed', 'd', '']\n"
     ]
    }
   ],
   "source": [
    "new_list = [word[i+1:]  for i in range(len(word))]\n",
    "print(new_list)"
   ]
  },
  {
   "cell_type": "markdown",
   "metadata": {},
   "source": [
    "---"
   ]
  },
  {
   "cell_type": "markdown",
   "metadata": {},
   "source": [
    "# This solution works for replacing one vowel with another for a single utterance"
   ]
  },
  {
   "cell_type": "code",
   "execution_count": 47,
   "metadata": {},
   "outputs": [
    {
     "name": "stdout",
     "output_type": "stream",
     "text": [
      "['holli']\n"
     ]
    }
   ],
   "source": [
    "import random\n",
    "vowels = 'aeiou'\n",
    "word = 'hello'\n",
    "new_list = [\"\".join([random.choice(vowels) if c in vowels else c  for c in word])]\n",
    "print(new_list)"
   ]
  },
  {
   "cell_type": "markdown",
   "metadata": {},
   "source": [
    "---"
   ]
  },
  {
   "cell_type": "code",
   "execution_count": 48,
   "metadata": {},
   "outputs": [
    {
     "name": "stdout",
     "output_type": "stream",
     "text": [
      "['hille']\n"
     ]
    }
   ],
   "source": [
    "import random\n",
    "word = 'hello'\n",
    "new_list = [\"\".join([random.choice(vowels) if c in 'aeiou' else c  for c in word])]\n",
    "print(new_list)"
   ]
  },
  {
   "cell_type": "markdown",
   "metadata": {},
   "source": []
  },
  {
   "cell_type": "markdown",
   "metadata": {},
   "source": [
    "---"
   ]
  },
  {
   "cell_type": "markdown",
   "metadata": {},
   "source": [
    "<font size = 6, color = red>Closest Solution"
   ]
  },
  {
   "cell_type": "markdown",
   "metadata": {},
   "source": [
    "# This is the solution (just validating that the original word isn't there)"
   ]
  },
  {
   "cell_type": "markdown",
   "metadata": {},
   "source": [
    "## trying the same logic with repetition for len(word)"
   ]
  },
  {
   "cell_type": "code",
   "execution_count": 64,
   "metadata": {},
   "outputs": [
    {
     "name": "stdout",
     "output_type": "stream",
     "text": [
      "[['hulla'], ['hilli'], ['hella'], ['hollu'], ['hulla']]\n"
     ]
    }
   ],
   "source": [
    "import random\n",
    "word = 'hello'\n",
    "new_list = [[\"\".join([random.choice(vowels) if c in 'aeiou' else c for c in word])] for c in range(len(word))]\n",
    "print(new_list)"
   ]
  },
  {
   "cell_type": "code",
   "execution_count": 68,
   "metadata": {},
   "outputs": [
    {
     "name": "stdout",
     "output_type": "stream",
     "text": [
      "[['tumo'], ['tamo'], ['timu'], ['temo']]\n"
     ]
    }
   ],
   "source": [
    "import random\n",
    "word = 'tame'\n",
    "new_list = [[\"\".join([random.choice(vowels) if c in 'aeiou' else c for c in word])] for c in range(len(word))]\n",
    "print(new_list)"
   ]
  },
  {
   "cell_type": "markdown",
   "metadata": {},
   "source": [
    "---"
   ]
  },
  {
   "cell_type": "markdown",
   "metadata": {},
   "source": [
    "---"
   ]
  },
  {
   "cell_type": "markdown",
   "metadata": {},
   "source": [
    "# Trying out recommendation from Stack Overflow"
   ]
  },
  {
   "cell_type": "markdown",
   "metadata": {},
   "source": [
    "### Solution 1"
   ]
  },
  {
   "cell_type": "code",
   "execution_count": 74,
   "metadata": {},
   "outputs": [
    {
     "name": "stdout",
     "output_type": "stream",
     "text": [
      "['halloo', 'hilloo', 'holloo', 'hulloo', 'hellaa', 'hellee', 'hellii', 'helluu', 'hellaa', 'hellee', 'hellii', 'helluu']\n"
     ]
    }
   ],
   "source": [
    "import re\n",
    "vowels = 'aeiou'\n",
    "word = 'helloo'\n",
    "result = []\n",
    "for c in word:\n",
    "    if c in vowels:\n",
    "       for v in vowels:\n",
    "          if c != v:\n",
    "            result.append(re.sub(c, v, word))\n",
    "print(result)"
   ]
  },
  {
   "cell_type": "markdown",
   "metadata": {},
   "source": [
    "### Solution 2"
   ]
  },
  {
   "cell_type": "code",
   "execution_count": 76,
   "metadata": {},
   "outputs": [
    {
     "name": "stdout",
     "output_type": "stream",
     "text": [
      "['halloo', 'hilloo', 'holloo', 'hulloo', 'hellao', 'helleo', 'hellio', 'helluo', 'helloa', 'helloe', 'helloi', 'hellou']\n"
     ]
    }
   ],
   "source": [
    "word = 'helloo'\n",
    "vowels = 'aeiou'\n",
    "res=[]\n",
    "for idx, letter in enumerate(word):\n",
    "    if letter in vowels:\n",
    "        for vowel in vowels:\n",
    "            w = word[:idx] + vowel + word[idx+1:]\n",
    "            if w != word:\n",
    "                res.append(w)\n",
    "print(res)"
   ]
  },
  {
   "cell_type": "code",
   "execution_count": null,
   "metadata": {},
   "outputs": [],
   "source": []
  },
  {
   "cell_type": "markdown",
   "metadata": {},
   "source": [
    "# this is a randomly generating all possible combinations of the vowel"
   ]
  },
  {
   "cell_type": "code",
   "execution_count": 56,
   "metadata": {},
   "outputs": [
    {
     "name": "stdout",
     "output_type": "stream",
     "text": [
      "[['hulla'], ['halle'], ['holli'], ['hullu'], ['hilli'], ['holla'], ['hello'], ['hullu'], ['hulle'], ['hallo'], ['hollu'], ['holle'], ['hellu'], ['helle'], ['halli'], ['hulli'], ['helli'], ['holli'], ['holla'], ['holli'], ['hilla'], ['hellu'], ['hello'], ['hellu'], ['hella'], ['halla'], ['hulli'], ['halli'], ['hullo'], ['hulli'], ['hollu'], ['halle'], ['helle'], ['helli'], ['hilli'], ['holle'], ['hille'], ['hallu'], ['helle'], ['hillu'], ['hallo'], ['hallo'], ['hollu'], ['halli'], ['hollu'], ['hellu'], ['hallu'], ['helle'], ['holli'], ['hulli'], ['hello'], ['holla'], ['hillu'], ['halla'], ['hilli'], ['holli'], ['holla'], ['hallu'], ['hille'], ['halla'], ['hallo'], ['hulli'], ['hallu'], ['hollo'], ['halle'], ['hollu'], ['hello'], ['holle'], ['halli'], ['holle'], ['hilli'], ['hulla'], ['hallu'], ['hulli'], ['hulla'], ['hullo'], ['hollo'], ['hulla'], ['hello'], ['hullo'], ['hulle'], ['hulla'], ['halle'], ['hillo'], ['hillo'], ['holla'], ['hollo'], ['hillo'], ['hillu'], ['halla'], ['hallu'], ['holla'], ['halli'], ['helli'], ['hille'], ['helle'], ['holle'], ['hulla'], ['hallu'], ['hulla'], ['hollu'], ['hellu'], ['hilla'], ['hollu'], ['halli'], ['halle'], ['halle'], ['hallu'], ['hilli'], ['halle'], ['hulli'], ['helle'], ['halle'], ['hulle'], ['helli'], ['hille'], ['hillo'], ['hillo'], ['hulle'], ['hilli'], ['hulli'], ['hallo'], ['hollu'], ['hulli'], ['hallu']]\n"
     ]
    }
   ],
   "source": [
    "import random\n",
    "word = 'hello'\n",
    "new_list = [[\"\".join([random.choice(vowels) if c in 'aeiou' else c  for c in word])] for c in range(len(word)**3)]\n",
    "print(new_list)"
   ]
  },
  {
   "cell_type": "code",
   "execution_count": null,
   "metadata": {},
   "outputs": [],
   "source": []
  },
  {
   "cell_type": "markdown",
   "metadata": {},
   "source": [
    "---"
   ]
  },
  {
   "cell_type": "markdown",
   "metadata": {},
   "source": [
    "### solution from 5.4 (repetition)"
   ]
  },
  {
   "cell_type": "code",
   "execution_count": 18,
   "metadata": {},
   "outputs": [
    {
     "name": "stdout",
     "output_type": "stream",
     "text": [
      "['ello', 'hllo', 'helo', 'helo', 'hell']\n"
     ]
    }
   ],
   "source": [
    "word = 'hello'\n",
    "\n",
    "new_list = [word[:i] + word[i+1:] for i in range(len(word))]\n",
    "print(new_list)"
   ]
  },
  {
   "cell_type": "markdown",
   "metadata": {},
   "source": [
    "---"
   ]
  },
  {
   "cell_type": "markdown",
   "metadata": {},
   "source": [
    "# this is the closest I have come so far"
   ]
  },
  {
   "cell_type": "code",
   "execution_count": 20,
   "metadata": {},
   "outputs": [
    {
     "name": "stdout",
     "output_type": "stream",
     "text": [
      "['ello hllo helo helo hell']\n"
     ]
    }
   ],
   "source": [
    "import random\n",
    "word = 'hello'\n",
    "new_list = [\" \".join([random.choice(vowels) if c in 'aeiou' else c  for c in [word[:i] + word[i+1:] for i in range(len(word))]])]\n",
    "print(new_list)"
   ]
  },
  {
   "cell_type": "markdown",
   "metadata": {},
   "source": [
    "---"
   ]
  },
  {
   "cell_type": "markdown",
   "metadata": {},
   "source": [
    "---"
   ]
  },
  {
   "cell_type": "markdown",
   "metadata": {},
   "source": [
    "# WRONG PATH - Using Itertools to get permutations"
   ]
  },
  {
   "cell_type": "code",
   "execution_count": null,
   "metadata": {},
   "outputs": [],
   "source": [
    "import itertools\n",
    "s='READ'\n",
    "t=list(itertools.permutations(s,len(s)))\n",
    "for i in range(0,len(t)):\n",
    "    print(''.join(t[i]))"
   ]
  },
  {
   "cell_type": "markdown",
   "metadata": {
    "jupyter": {
     "source_hidden": true
    },
    "tags": []
   },
   "source": [
    "### DNU trying to get this output with list comprehensions"
   ]
  },
  {
   "cell_type": "code",
   "execution_count": 44,
   "metadata": {
    "collapsed": true,
    "jupyter": {
     "outputs_hidden": true,
     "source_hidden": true
    },
    "tags": []
   },
   "outputs": [
    {
     "name": "stdout",
     "output_type": "stream",
     "text": [
      "[('R', 'E', 'A', 'D'), ('R', 'E', 'D', 'A'), ('R', 'A', 'E', 'D'), ('R', 'A', 'D', 'E'), ('R', 'D', 'E', 'A'), ('R', 'D', 'A', 'E'), ('E', 'R', 'A', 'D'), ('E', 'R', 'D', 'A'), ('E', 'A', 'R', 'D'), ('E', 'A', 'D', 'R'), ('E', 'D', 'R', 'A'), ('E', 'D', 'A', 'R'), ('A', 'R', 'E', 'D'), ('A', 'R', 'D', 'E'), ('A', 'E', 'R', 'D'), ('A', 'E', 'D', 'R'), ('A', 'D', 'R', 'E'), ('A', 'D', 'E', 'R'), ('D', 'R', 'E', 'A'), ('D', 'R', 'A', 'E'), ('D', 'E', 'R', 'A'), ('D', 'E', 'A', 'R'), ('D', 'A', 'R', 'E'), ('D', 'A', 'E', 'R')]\n"
     ]
    }
   ],
   "source": [
    "import itertools\n",
    "s='READ'\n",
    "t=list(itertools.permutations(s,len(s)))\n",
    "print(t)\n",
    "# for i in range(0,len(t)):\n",
    "#     print(''.join(t[i]))"
   ]
  },
  {
   "cell_type": "markdown",
   "metadata": {},
   "source": [
    "---"
   ]
  },
  {
   "cell_type": "code",
   "execution_count": null,
   "metadata": {},
   "outputs": [],
   "source": []
  },
  {
   "cell_type": "code",
   "execution_count": null,
   "metadata": {},
   "outputs": [],
   "source": []
  },
  {
   "cell_type": "markdown",
   "metadata": {},
   "source": [
    "---"
   ]
  },
  {
   "cell_type": "code",
   "execution_count": 36,
   "metadata": {},
   "outputs": [
    {
     "name": "stdout",
     "output_type": "stream",
     "text": [
      "['a', 'b', 'c', 'd', 'e', 'f', 'g', 'h', 'i', 'j', 'k', 'l', 'm', 'n', 'o', 'p', 'q', 'r', 's', 't', 'u', 'v', 'w', 'x', 'y', 'z']\n"
     ]
    }
   ],
   "source": [
    "alphabet=[chr(c) for c in range(ord('a'),ord('z')+1)]\n",
    "print(alphabet)"
   ]
  },
  {
   "cell_type": "markdown",
   "metadata": {},
   "source": [
    "---"
   ]
  },
  {
   "cell_type": "code",
   "execution_count": null,
   "metadata": {},
   "outputs": [],
   "source": []
  },
  {
   "cell_type": "code",
   "execution_count": null,
   "metadata": {},
   "outputs": [],
   "source": []
  },
  {
   "cell_type": "code",
   "execution_count": null,
   "metadata": {},
   "outputs": [],
   "source": []
  },
  {
   "cell_type": "code",
   "execution_count": null,
   "metadata": {},
   "outputs": [],
   "source": []
  },
  {
   "cell_type": "code",
   "execution_count": 9,
   "metadata": {},
   "outputs": [
    {
     "name": "stdout",
     "output_type": "stream",
     "text": [
      "['CVCCV']\n"
     ]
    }
   ],
   "source": [
    "previous_list = ['hello']\n",
    "\n",
    "new_list = [''.join(('V' if char in {'a', 'e', 'i', 'o', 'u'} else 'C') for char in string) for string in previous_list]\n",
    "\n",
    "print(new_list)\n"
   ]
  },
  {
   "cell_type": "markdown",
   "metadata": {},
   "source": [
    "---"
   ]
  },
  {
   "cell_type": "code",
   "execution_count": 37,
   "metadata": {},
   "outputs": [
    {
     "data": {
      "text/plain": [
       "'c'"
      ]
     },
     "execution_count": 37,
     "metadata": {},
     "output_type": "execute_result"
    }
   ],
   "source": [
    "import random\n",
    "word = ['a','b', 'c', 'd', 'e']\n",
    "random.choice(word)"
   ]
  },
  {
   "cell_type": "code",
   "execution_count": null,
   "metadata": {},
   "outputs": [],
   "source": []
  }
 ],
 "metadata": {
  "kernelspec": {
   "display_name": "Python 3 (ipykernel)",
   "language": "python",
   "name": "python3"
  },
  "language_info": {
   "codemirror_mode": {
    "name": "ipython",
    "version": 3
   },
   "file_extension": ".py",
   "mimetype": "text/x-python",
   "name": "python",
   "nbconvert_exporter": "python",
   "pygments_lexer": "ipython3",
   "version": "3.9.12"
  }
 },
 "nbformat": 4,
 "nbformat_minor": 4
}
