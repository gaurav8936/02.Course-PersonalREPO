{
 "cells": [
  {
   "cell_type": "markdown",
   "metadata": {},
   "source": [
    "## Week 4 Assignment - W200 Introduction to Data Science Programming, UC Berkeley MIDS"
   ]
  },
  {
   "cell_type": "markdown",
   "metadata": {},
   "source": [
    "### 4-4. Interpreting Instructions for an Algorithm (20 points)\n",
    "\n",
    "Implement this digit-by-digit algorithm to find the square root of x to a precision of epsilon.\n",
    "  1. Begin with a step size of 1 and guess of zero.\n",
    "  2. Increase the guess by the step size as long as doing so would not cause the guess^2 to exceed x. Repeat this step (step 2) until the next repetition will cause guess^2 to exceed x.\n",
    "  3. If the step size is greater than or equal to epsilon, then divide the step size by 10 and go back to step 2.\n",
    "\n",
    "Notice that once a digit has been found, it is not changed again. Try using your code to find the square root of 10 to an epsilon of 8 decimal places. This algorithm should not take over 10 seconds to run (if it does you have coded something incorrectly!). \n",
    "\n",
    "If you are getting an answer that is off by epsilon (for example 3.16227767 instead of 3.16227766), this might be caused by the floating point error. You can read more about that here: https://docs.python.org/3/tutorial/floatingpoint.html. To fix this problem, you can use the Decimal library here: https://docs.python.org/3/library/decimal.html#module-decimal\n",
    "\n",
    "Hint: It might be helpful to write out by hand an easier example like '4' to understand how the algorithm works.\n",
    "\n",
    "Example output:\n",
    "\n",
    "```\n",
    "Enter a number to find the square root: 10\n",
    "The square root of 10 is: 3.16227766\n",
    "```"
   ]
  },
  {
   "cell_type": "code",
   "execution_count": null,
   "metadata": {},
   "outputs": [],
   "source": [
    "# Q4-4 Grading Tag:\n",
    "\n",
    "num = float(input(\"Enter a number to find the square root: \"))\n",
    "\n",
    "epsilon = 0.00000001"
   ]
  },
  {
   "cell_type": "markdown",
   "metadata": {},
   "source": [
    "<font size = 6, color = red>Current"
   ]
  },
  {
   "cell_type": "markdown",
   "metadata": {},
   "source": [
    "## Adding epsilon to my version"
   ]
  },
  {
   "cell_type": "code",
   "execution_count": 81,
   "metadata": {},
   "outputs": [
    {
     "name": "stdout",
     "output_type": "stream",
     "text": [
      "square root of number is  8.660254\n"
     ]
    }
   ],
   "source": [
    "num = 75\n",
    "a = 0.0\n",
    "dec = 0.0\n",
    "power = 6\n",
    "epsilon = 10**-power \n",
    "divisor = 10\n",
    "sum = 0\n",
    "#print(epsilon)\n",
    "\n",
    "\n",
    "### integer section ####\n",
    "for int in range(1,num):\n",
    "    if int**2 < num:\n",
    "        a = int\n",
    "    else:\n",
    "        break\n",
    "#b = a\n",
    "#print('exit value of a is', a)\n",
    "\n",
    "### recursive calculation for epsilon\n",
    "\n",
    "for c in range(1,power+1):\n",
    "#    print(c)\n",
    "    divisor = 10**c\n",
    "#    print('this is the entering divisor', divisor)\n",
    "\n",
    "### decimal section\n",
    "\n",
    "    for dec in range(1, 10):\n",
    "#        print('value of divisor inside dec loop', divisor)\n",
    "        if (a + dec/divisor)**2 < num:\n",
    "#            print('exit value of dec/divisor is', dec/divisor )\n",
    "            # sum = dec/divisor\n",
    "            # print('sum is', sum)\n",
    "            None \n",
    "        else:\n",
    "            break\n",
    "    sum = sum + (dec-1)/divisor\n",
    "    a = a + (dec-1)/divisor\n",
    "#    print('A is', a)\n",
    "#    print('Decimal sum is', sum)\n",
    "\n",
    "print('square root of number is ', a)\n",
    "#print('square root of number is ', (b + sum))\n",
    "\n",
    "#print('square root of ', num, ' is', (a + (dec-1)/(divisor)) )"
   ]
  },
  {
   "cell_type": "code",
   "execution_count": 88,
   "metadata": {},
   "outputs": [
    {
     "name": "stdout",
     "output_type": "stream",
     "text": [
      "1e-06\n"
     ]
    },
    {
     "data": {
      "text/plain": [
       "-1"
      ]
     },
     "execution_count": 88,
     "metadata": {},
     "output_type": "execute_result"
    }
   ],
   "source": [
    "# converting decimals to power\n",
    "\n",
    "e = 0.000001\n",
    "\n",
    "e1 = str(e)\n",
    "print(e1)\n",
    "\n",
    "power = e1[::-1].find('.')\n",
    "power"
   ]
  },
  {
   "cell_type": "code",
   "execution_count": 89,
   "metadata": {},
   "outputs": [
    {
     "data": {
      "text/plain": [
       "str"
      ]
     },
     "execution_count": 89,
     "metadata": {},
     "output_type": "execute_result"
    }
   ],
   "source": [
    "type(e1)"
   ]
  },
  {
   "cell_type": "code",
   "execution_count": 90,
   "metadata": {},
   "outputs": [
    {
     "name": "stdout",
     "output_type": "stream",
     "text": [
      "the string is 1e-06\n"
     ]
    }
   ],
   "source": [
    "print('the string is', e1)"
   ]
  },
  {
   "cell_type": "code",
   "execution_count": null,
   "metadata": {},
   "outputs": [],
   "source": [
    "e = 0.000001\n",
    "\n",
    "import math\n",
    "\n",
    "f,i"
   ]
  }
 ],
 "metadata": {
  "kernelspec": {
   "display_name": "Python 3 (ipykernel)",
   "language": "python",
   "name": "python3"
  },
  "language_info": {
   "codemirror_mode": {
    "name": "ipython",
    "version": 3
   },
   "file_extension": ".py",
   "mimetype": "text/x-python",
   "name": "python",
   "nbconvert_exporter": "python",
   "pygments_lexer": "ipython3",
   "version": "3.9.12"
  }
 },
 "nbformat": 4,
 "nbformat_minor": 4
}
