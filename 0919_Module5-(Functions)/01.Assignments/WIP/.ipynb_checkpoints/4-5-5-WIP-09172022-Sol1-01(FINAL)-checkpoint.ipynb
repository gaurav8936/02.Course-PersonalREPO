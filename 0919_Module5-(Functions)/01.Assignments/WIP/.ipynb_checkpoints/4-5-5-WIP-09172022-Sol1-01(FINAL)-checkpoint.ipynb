{
 "cells": [
  {
   "cell_type": "markdown",
   "metadata": {},
   "source": [
    "## 4-5. List Comprehensions (25 points - 5 points each)\n",
    "\n",
    "Each list comprehension below can be done in just one line/statement and needs to output one list. The autograder will fail if the line count is more than 5 lines in a cell (not including Q4-5-2 which has the longer text string).\n",
    "\n",
    "**Please print this list so the autograder will pickup the output. That is, you need to use `print(<list comprehension>)`** <br>\n",
    "A note on displaying lists in Python: sometimes Python displays lists like `[1,2,3]` and other times lists display as \n",
    "```\n",
    "[1,\n",
    " 2,\n",
    " 3]\n",
    "```\n",
    "Either way these lists contain the same values and information (and are the same answer for this problem)."
   ]
  },
  {
   "cell_type": "markdown",
   "metadata": {},
   "source": [
    "**4-5-5.** Given a word, provided below, **use a single comprehension** to make a list of all strings that can be formed by replacing exactly one vowel in the word with a different vowel (a vowel is a,e,i,o,u).\n",
    "\n",
    "Required output:\n",
    "```\n",
    "['Baoted', 'Beoted', 'Bioted', 'Buoted', 'Boated', 'Boeted', 'Boited', 'Bouted', 'Bootad', 'Bootid', 'Bootod', 'Bootud']\n",
    "```"
   ]
  },
  {
   "cell_type": "code",
   "execution_count": 2,
   "metadata": {},
   "outputs": [],
   "source": [
    "# Q4-5-5 Grading Tag:\n",
    "word = \"Booted\""
   ]
  },
  {
   "cell_type": "code",
   "execution_count": 3,
   "metadata": {},
   "outputs": [
    {
     "name": "stdout",
     "output_type": "stream",
     "text": [
      "['ooted', 'Boted', 'Boted', 'Booed', 'Bootd', 'Boote']\n"
     ]
    }
   ],
   "source": [
    "new_list = [word[:i] + word[i+1:] for i in range(len(word))]\n",
    "print(new_list)"
   ]
  },
  {
   "cell_type": "code",
   "execution_count": 5,
   "metadata": {},
   "outputs": [
    {
     "name": "stdout",
     "output_type": "stream",
     "text": [
      "['', 'B', 'Bo', 'Boo', 'Boot', 'Boote']\n"
     ]
    }
   ],
   "source": [
    "new_list = [word[:i]  for i in range(len(word))]\n",
    "print(new_list)"
   ]
  },
  {
   "cell_type": "code",
   "execution_count": 6,
   "metadata": {},
   "outputs": [
    {
     "name": "stdout",
     "output_type": "stream",
     "text": [
      "['ooted', 'oted', 'ted', 'ed', 'd', '']\n"
     ]
    }
   ],
   "source": [
    "new_list = [word[i+1:]  for i in range(len(word))]\n",
    "print(new_list)"
   ]
  },
  {
   "cell_type": "markdown",
   "metadata": {},
   "source": [
    "---"
   ]
  },
  {
   "cell_type": "markdown",
   "metadata": {},
   "source": [
    "# This solution works for replacing one vowel with another for a single utterance"
   ]
  },
  {
   "cell_type": "code",
   "execution_count": 47,
   "metadata": {},
   "outputs": [
    {
     "name": "stdout",
     "output_type": "stream",
     "text": [
      "['holli']\n"
     ]
    }
   ],
   "source": [
    "import random\n",
    "vowels = 'aeiou'\n",
    "word = 'hello'\n",
    "new_list = [\"\".join([random.choice(vowels) if c in vowels else c  for c in word])]\n",
    "print(new_list)"
   ]
  },
  {
   "cell_type": "markdown",
   "metadata": {},
   "source": [
    "---"
   ]
  },
  {
   "cell_type": "code",
   "execution_count": 48,
   "metadata": {},
   "outputs": [
    {
     "name": "stdout",
     "output_type": "stream",
     "text": [
      "['hille']\n"
     ]
    }
   ],
   "source": [
    "import random\n",
    "word = 'hello'\n",
    "new_list = [\"\".join([random.choice(vowels) if c in 'aeiou' else c  for c in word])]\n",
    "print(new_list)"
   ]
  },
  {
   "cell_type": "markdown",
   "metadata": {},
   "source": []
  },
  {
   "cell_type": "markdown",
   "metadata": {},
   "source": [
    "---"
   ]
  },
  {
   "cell_type": "markdown",
   "metadata": {},
   "source": [
    "<font size = 6, color = red>Closest Solution"
   ]
  },
  {
   "cell_type": "markdown",
   "metadata": {},
   "source": [
    "# This is the solution (just validating that the original word isn't there)"
   ]
  },
  {
   "cell_type": "markdown",
   "metadata": {},
   "source": [
    "## trying the same logic with repetition for len(word)"
   ]
  },
  {
   "cell_type": "code",
   "execution_count": 64,
   "metadata": {
    "tags": []
   },
   "outputs": [
    {
     "name": "stdout",
     "output_type": "stream",
     "text": [
      "[['hulla'], ['hilli'], ['hella'], ['hollu'], ['hulla']]\n"
     ]
    }
   ],
   "source": [
    "import random\n",
    "word = 'hello'\n",
    "new_list = [[\"\".join([random.choice(vowels) if c in 'aeiou' else c for c in word])] for c in range(len(word))]\n",
    "print(new_list)"
   ]
  },
  {
   "cell_type": "code",
   "execution_count": 68,
   "metadata": {},
   "outputs": [
    {
     "name": "stdout",
     "output_type": "stream",
     "text": [
      "[['tumo'], ['tamo'], ['timu'], ['temo']]\n"
     ]
    }
   ],
   "source": [
    "import random\n",
    "word = 'tame'\n",
    "new_list = [[\"\".join([random.choice(vowels) if c in 'aeiou' else c for c in word])] for c in range(len(word))]\n",
    "print(new_list)"
   ]
  },
  {
   "cell_type": "markdown",
   "metadata": {},
   "source": [
    "---"
   ]
  },
  {
   "cell_type": "markdown",
   "metadata": {},
   "source": [
    "---"
   ]
  },
  {
   "cell_type": "markdown",
   "metadata": {},
   "source": [
    "# Trying out recommendation from Stack Overflow"
   ]
  },
  {
   "cell_type": "markdown",
   "metadata": {},
   "source": [
    "### Solution 1"
   ]
  },
  {
   "cell_type": "code",
   "execution_count": 74,
   "metadata": {},
   "outputs": [
    {
     "name": "stdout",
     "output_type": "stream",
     "text": [
      "['halloo', 'hilloo', 'holloo', 'hulloo', 'hellaa', 'hellee', 'hellii', 'helluu', 'hellaa', 'hellee', 'hellii', 'helluu']\n"
     ]
    }
   ],
   "source": [
    "import re\n",
    "vowels = 'aeiou'\n",
    "word = 'helloo'\n",
    "result = []\n",
    "for c in word:\n",
    "    if c in vowels:\n",
    "       for v in vowels:\n",
    "          if c != v:\n",
    "            result.append(re.sub(c, v, word))\n",
    "print(result)"
   ]
  },
  {
   "cell_type": "markdown",
   "metadata": {
    "jupyter": {
     "source_hidden": true
    },
    "tags": []
   },
   "source": [
    "### Solution 2"
   ]
  },
  {
   "cell_type": "code",
   "execution_count": 76,
   "metadata": {
    "collapsed": true,
    "jupyter": {
     "outputs_hidden": true,
     "source_hidden": true
    },
    "tags": []
   },
   "outputs": [
    {
     "name": "stdout",
     "output_type": "stream",
     "text": [
      "['halloo', 'hilloo', 'holloo', 'hulloo', 'hellao', 'helleo', 'hellio', 'helluo', 'helloa', 'helloe', 'helloi', 'hellou']\n"
     ]
    }
   ],
   "source": [
    "word = 'helloo'\n",
    "vowels = 'aeiou'\n",
    "res=[]\n",
    "for idx, letter in enumerate(word):\n",
    "    if letter in vowels:\n",
    "        for vowel in vowels:\n",
    "            w = word[:idx] + vowel + word[idx+1:]\n",
    "            if w != word:\n",
    "                res.append(w)\n",
    "print(res)"
   ]
  },
  {
   "cell_type": "markdown",
   "metadata": {},
   "source": [
    "---"
   ]
  },
  {
   "cell_type": "markdown",
   "metadata": {},
   "source": [
    "---"
   ]
  },
  {
   "cell_type": "markdown",
   "metadata": {},
   "source": [
    "# Exploring Solution 1 (import re)"
   ]
  },
  {
   "cell_type": "code",
   "execution_count": 77,
   "metadata": {},
   "outputs": [
    {
     "name": "stdout",
     "output_type": "stream",
     "text": [
      "['halloo', 'hilloo', 'holloo', 'hulloo', 'hellaa', 'hellee', 'hellii', 'helluu', 'hellaa', 'hellee', 'hellii', 'helluu']\n"
     ]
    }
   ],
   "source": [
    "import re\n",
    "vowels = 'aeiou'\n",
    "word = 'helloo'\n",
    "result = []\n",
    "for c in word:\n",
    "    if c in vowels:\n",
    "       for v in vowels:\n",
    "          if c != v:\n",
    "            result.append(re.sub(c, v, word))\n",
    "print(result)"
   ]
  },
  {
   "cell_type": "markdown",
   "metadata": {},
   "source": [
    "---"
   ]
  },
  {
   "cell_type": "code",
   "execution_count": 78,
   "metadata": {
    "collapsed": true,
    "jupyter": {
     "outputs_hidden": true,
     "source_hidden": true
    },
    "tags": []
   },
   "outputs": [
    {
     "name": "stdout",
     "output_type": "stream",
     "text": [
      "[['hille'], ['holla'], ['halli'], ['hillu'], ['holle']]\n"
     ]
    }
   ],
   "source": [
    "import random\n",
    "word = 'hello'\n",
    "new_list = [[\"\".join([random.choice(vowels) if c in 'aeiou' else c for c in word])] for c in range(len(word))]\n",
    "print(new_list)"
   ]
  },
  {
   "cell_type": "code",
   "execution_count": null,
   "metadata": {
    "jupyter": {
     "source_hidden": true
    },
    "tags": []
   },
   "outputs": [],
   "source": [
    "# Prior example for reference\n",
    "# word = \"Welcomed\"\n",
    "\n",
    "# new_list = [word[:i] + word[i+1:] for i in range(len(word))]\n",
    "# print(new_list)"
   ]
  },
  {
   "cell_type": "markdown",
   "metadata": {},
   "source": [
    "---"
   ]
  },
  {
   "cell_type": "markdown",
   "metadata": {},
   "source": [
    "# Trying out the 'all' condition"
   ]
  },
  {
   "cell_type": "code",
   "execution_count": 11,
   "metadata": {
    "collapsed": true,
    "jupyter": {
     "outputs_hidden": true,
     "source_hidden": true
    },
    "tags": []
   },
   "outputs": [
    {
     "ename": "TypeError",
     "evalue": "all() takes exactly one argument (3 given)",
     "output_type": "error",
     "traceback": [
      "\u001b[0;31m---------------------------------------------------------------------------\u001b[0m",
      "\u001b[0;31mTypeError\u001b[0m                                 Traceback (most recent call last)",
      "Input \u001b[0;32mIn [11]\u001b[0m, in \u001b[0;36m<cell line: 5>\u001b[0;34m()\u001b[0m\n\u001b[1;32m      2\u001b[0m word \u001b[38;5;241m=\u001b[39m \u001b[38;5;124m'\u001b[39m\u001b[38;5;124mtame\u001b[39m\u001b[38;5;124m'\u001b[39m\n\u001b[1;32m      3\u001b[0m v \u001b[38;5;241m=\u001b[39m \u001b[38;5;124m'\u001b[39m\u001b[38;5;124m'\u001b[39m\n\u001b[0;32m----> 5\u001b[0m new_list \u001b[38;5;241m=\u001b[39m [[\u001b[38;5;124m\"\u001b[39m\u001b[38;5;124m\"\u001b[39m\u001b[38;5;241m.\u001b[39mjoin([result\u001b[38;5;241m.\u001b[39mappend(re\u001b[38;5;241m.\u001b[39msub(c,v,word)) \u001b[38;5;28;01mif\u001b[39;00m \u001b[38;5;28mall\u001b[39m( c \u001b[38;5;129;01min\u001b[39;00m \u001b[38;5;124m'\u001b[39m\u001b[38;5;124maeiou\u001b[39m\u001b[38;5;124m'\u001b[39m,  v \u001b[38;5;129;01min\u001b[39;00m \u001b[38;5;124m'\u001b[39m\u001b[38;5;124maeiou\u001b[39m\u001b[38;5;124m'\u001b[39m,  c \u001b[38;5;241m!=\u001b[39mv) \u001b[38;5;28;01melse\u001b[39;00m c \u001b[38;5;28;01mfor\u001b[39;00m c \u001b[38;5;129;01min\u001b[39;00m word])]]\n",
      "Input \u001b[0;32mIn [11]\u001b[0m, in \u001b[0;36m<listcomp>\u001b[0;34m(.0)\u001b[0m\n\u001b[1;32m      2\u001b[0m word \u001b[38;5;241m=\u001b[39m \u001b[38;5;124m'\u001b[39m\u001b[38;5;124mtame\u001b[39m\u001b[38;5;124m'\u001b[39m\n\u001b[1;32m      3\u001b[0m v \u001b[38;5;241m=\u001b[39m \u001b[38;5;124m'\u001b[39m\u001b[38;5;124m'\u001b[39m\n\u001b[0;32m----> 5\u001b[0m new_list \u001b[38;5;241m=\u001b[39m [[\u001b[38;5;124m\"\u001b[39m\u001b[38;5;124m\"\u001b[39m\u001b[38;5;241m.\u001b[39mjoin([result\u001b[38;5;241m.\u001b[39mappend(re\u001b[38;5;241m.\u001b[39msub(c,v,word)) \u001b[38;5;28;01mif\u001b[39;00m \u001b[38;5;28;43mall\u001b[39;49m\u001b[43m(\u001b[49m\u001b[43m \u001b[49m\u001b[43mc\u001b[49m\u001b[43m \u001b[49m\u001b[38;5;129;43;01min\u001b[39;49;00m\u001b[43m \u001b[49m\u001b[38;5;124;43m'\u001b[39;49m\u001b[38;5;124;43maeiou\u001b[39;49m\u001b[38;5;124;43m'\u001b[39;49m\u001b[43m,\u001b[49m\u001b[43m  \u001b[49m\u001b[43mv\u001b[49m\u001b[43m \u001b[49m\u001b[38;5;129;43;01min\u001b[39;49;00m\u001b[43m \u001b[49m\u001b[38;5;124;43m'\u001b[39;49m\u001b[38;5;124;43maeiou\u001b[39;49m\u001b[38;5;124;43m'\u001b[39;49m\u001b[43m,\u001b[49m\u001b[43m  \u001b[49m\u001b[43mc\u001b[49m\u001b[43m \u001b[49m\u001b[38;5;241;43m!=\u001b[39;49m\u001b[43mv\u001b[49m\u001b[43m)\u001b[49m \u001b[38;5;28;01melse\u001b[39;00m c \u001b[38;5;28;01mfor\u001b[39;00m c \u001b[38;5;129;01min\u001b[39;00m word])]]\n",
      "\u001b[0;31mTypeError\u001b[0m: all() takes exactly one argument (3 given)"
     ]
    }
   ],
   "source": [
    "import re\n",
    "word = 'tame'\n",
    "v = ''\n",
    "\n",
    "new_list = [[\"\".join([result.append(re.sub(c,v,word)) if all( c in 'aeiou',  v in 'aeiou',  c !=v) else c for c in word])]]"
   ]
  },
  {
   "cell_type": "code",
   "execution_count": 15,
   "metadata": {
    "collapsed": true,
    "jupyter": {
     "outputs_hidden": true,
     "source_hidden": true
    },
    "tags": []
   },
   "outputs": [
    {
     "ename": "TypeError",
     "evalue": "sequence item 1: expected str instance, NoneType found",
     "output_type": "error",
     "traceback": [
      "\u001b[0;31m---------------------------------------------------------------------------\u001b[0m",
      "\u001b[0;31mTypeError\u001b[0m                                 Traceback (most recent call last)",
      "Input \u001b[0;32mIn [15]\u001b[0m, in \u001b[0;36m<cell line: 6>\u001b[0;34m()\u001b[0m\n\u001b[1;32m      3\u001b[0m \u001b[38;5;66;03m#v = ''\u001b[39;00m\n\u001b[1;32m      4\u001b[0m result \u001b[38;5;241m=\u001b[39m []\n\u001b[0;32m----> 6\u001b[0m new_list \u001b[38;5;241m=\u001b[39m [\u001b[38;5;124;43m\"\u001b[39;49m\u001b[38;5;124;43m\"\u001b[39;49m\u001b[38;5;241;43m.\u001b[39;49m\u001b[43mjoin\u001b[49m\u001b[43m(\u001b[49m\u001b[43m[\u001b[49m\u001b[43mresult\u001b[49m\u001b[38;5;241;43m.\u001b[39;49m\u001b[43mappend\u001b[49m\u001b[43m(\u001b[49m\u001b[43mre\u001b[49m\u001b[38;5;241;43m.\u001b[39;49m\u001b[43msub\u001b[49m\u001b[43m(\u001b[49m\u001b[43mc\u001b[49m\u001b[43m,\u001b[49m\u001b[43mv\u001b[49m\u001b[43m,\u001b[49m\u001b[43mword\u001b[49m\u001b[43m)\u001b[49m\u001b[43m)\u001b[49m\u001b[43m \u001b[49m\u001b[38;5;28;43;01mif\u001b[39;49;00m\u001b[43m \u001b[49m\u001b[43mc\u001b[49m\u001b[43m \u001b[49m\u001b[38;5;129;43;01min\u001b[39;49;00m\u001b[43m \u001b[49m\u001b[38;5;124;43m'\u001b[39;49m\u001b[38;5;124;43maeiou\u001b[39;49m\u001b[38;5;124;43m'\u001b[39;49m\u001b[43m \u001b[49m\u001b[38;5;129;43;01mand\u001b[39;49;00m\u001b[43m \u001b[49m\u001b[43mv\u001b[49m\u001b[43m \u001b[49m\u001b[38;5;129;43;01min\u001b[39;49;00m\u001b[43m \u001b[49m\u001b[38;5;124;43m'\u001b[39;49m\u001b[38;5;124;43maeiou\u001b[39;49m\u001b[38;5;124;43m'\u001b[39;49m\u001b[43m \u001b[49m\u001b[38;5;129;43;01mand\u001b[39;49;00m\u001b[43m \u001b[49m\u001b[43mc\u001b[49m\u001b[43m \u001b[49m\u001b[38;5;241;43m!=\u001b[39;49m\u001b[43mv\u001b[49m\u001b[43m \u001b[49m\u001b[38;5;28;43;01melse\u001b[39;49;00m\u001b[43m \u001b[49m\u001b[43mc\u001b[49m\u001b[43m \u001b[49m\u001b[38;5;28;43;01mfor\u001b[39;49;00m\u001b[43m \u001b[49m\u001b[43mc\u001b[49m\u001b[43m \u001b[49m\u001b[38;5;129;43;01min\u001b[39;49;00m\u001b[43m \u001b[49m\u001b[43mword\u001b[49m\u001b[43m]\u001b[49m\u001b[43m)\u001b[49m]\n",
      "\u001b[0;31mTypeError\u001b[0m: sequence item 1: expected str instance, NoneType found"
     ]
    }
   ],
   "source": [
    "import re\n",
    "word = 'tame'\n",
    "#v = ''\n",
    "result = []\n",
    "\n",
    "new_list = [\"\".join([result.append(re.sub(c,v,word)) if c in 'aeiou' and v in 'aeiou' and c !=v else c for c in word])]"
   ]
  },
  {
   "cell_type": "code",
   "execution_count": 20,
   "metadata": {
    "collapsed": true,
    "jupyter": {
     "outputs_hidden": true,
     "source_hidden": true
    },
    "tags": []
   },
   "outputs": [
    {
     "ename": "TypeError",
     "evalue": "any() takes exactly one argument (3 given)",
     "output_type": "error",
     "traceback": [
      "\u001b[0;31m---------------------------------------------------------------------------\u001b[0m",
      "\u001b[0;31mTypeError\u001b[0m                                 Traceback (most recent call last)",
      "Input \u001b[0;32mIn [20]\u001b[0m, in \u001b[0;36m<cell line: 6>\u001b[0;34m()\u001b[0m\n\u001b[1;32m      3\u001b[0m \u001b[38;5;66;03m#v = ''\u001b[39;00m\n\u001b[1;32m      4\u001b[0m result \u001b[38;5;241m=\u001b[39m []\n\u001b[0;32m----> 6\u001b[0m new_list \u001b[38;5;241m=\u001b[39m [\u001b[38;5;124m\"\u001b[39m\u001b[38;5;124m\"\u001b[39m\u001b[38;5;241m.\u001b[39mjoin(c) \u001b[38;5;28;01mif\u001b[39;00m \u001b[38;5;28many\u001b[39m(c \u001b[38;5;129;01min\u001b[39;00m \u001b[38;5;124m'\u001b[39m\u001b[38;5;124maeiou\u001b[39m\u001b[38;5;124m'\u001b[39m, v \u001b[38;5;129;01min\u001b[39;00m \u001b[38;5;124m'\u001b[39m\u001b[38;5;124maeiou\u001b[39m\u001b[38;5;124m'\u001b[39m, c \u001b[38;5;241m!=\u001b[39mv) \u001b[38;5;28;01melse\u001b[39;00m c \u001b[38;5;28;01mfor\u001b[39;00m c \u001b[38;5;129;01min\u001b[39;00m word]\n",
      "Input \u001b[0;32mIn [20]\u001b[0m, in \u001b[0;36m<listcomp>\u001b[0;34m(.0)\u001b[0m\n\u001b[1;32m      3\u001b[0m \u001b[38;5;66;03m#v = ''\u001b[39;00m\n\u001b[1;32m      4\u001b[0m result \u001b[38;5;241m=\u001b[39m []\n\u001b[0;32m----> 6\u001b[0m new_list \u001b[38;5;241m=\u001b[39m [\u001b[38;5;124m\"\u001b[39m\u001b[38;5;124m\"\u001b[39m\u001b[38;5;241m.\u001b[39mjoin(c) \u001b[38;5;28;01mif\u001b[39;00m \u001b[38;5;28;43many\u001b[39;49m\u001b[43m(\u001b[49m\u001b[43mc\u001b[49m\u001b[43m \u001b[49m\u001b[38;5;129;43;01min\u001b[39;49;00m\u001b[43m \u001b[49m\u001b[38;5;124;43m'\u001b[39;49m\u001b[38;5;124;43maeiou\u001b[39;49m\u001b[38;5;124;43m'\u001b[39;49m\u001b[43m,\u001b[49m\u001b[43m \u001b[49m\u001b[43mv\u001b[49m\u001b[43m \u001b[49m\u001b[38;5;129;43;01min\u001b[39;49;00m\u001b[43m \u001b[49m\u001b[38;5;124;43m'\u001b[39;49m\u001b[38;5;124;43maeiou\u001b[39;49m\u001b[38;5;124;43m'\u001b[39;49m\u001b[43m,\u001b[49m\u001b[43m \u001b[49m\u001b[43mc\u001b[49m\u001b[43m \u001b[49m\u001b[38;5;241;43m!=\u001b[39;49m\u001b[43mv\u001b[49m\u001b[43m)\u001b[49m \u001b[38;5;28;01melse\u001b[39;00m c \u001b[38;5;28;01mfor\u001b[39;00m c \u001b[38;5;129;01min\u001b[39;00m word]\n",
      "\u001b[0;31mTypeError\u001b[0m: any() takes exactly one argument (3 given)"
     ]
    }
   ],
   "source": [
    "import re\n",
    "word = 'tame'\n",
    "#v = ''\n",
    "result = []\n",
    "\n",
    "new_list = [\"\".join(c) if any(c in 'aeiou', v in 'aeiou', c !=v) else c for c in word]"
   ]
  },
  {
   "cell_type": "code",
   "execution_count": null,
   "metadata": {},
   "outputs": [],
   "source": []
  },
  {
   "cell_type": "markdown",
   "metadata": {},
   "source": [
    "# Example of 3 IF conditions chained"
   ]
  },
  {
   "cell_type": "code",
   "execution_count": 17,
   "metadata": {},
   "outputs": [
    {
     "name": "stdout",
     "output_type": "stream",
     "text": [
      "[0, 6, 12, 18, 24, 30, 36, 42, 48]\n"
     ]
    }
   ],
   "source": [
    "num = [i for i in range(50) if i%2==0 if i%3==0 if i%3==0]\n",
    "print(num)"
   ]
  },
  {
   "cell_type": "code",
   "execution_count": 1,
   "metadata": {},
   "outputs": [
    {
     "ename": "SyntaxError",
     "evalue": "invalid syntax (2556665330.py, line 6)",
     "output_type": "error",
     "traceback": [
      "\u001b[0;36m  Input \u001b[0;32mIn [1]\u001b[0;36m\u001b[0m\n\u001b[0;31m    new_list = [\"\".join([result.append(re.sub(c,v,word)) if c in 'aeiou' for v in 'aeiou' if c !=v ])] #else c for c in word])]\u001b[0m\n\u001b[0m                                                                         ^\u001b[0m\n\u001b[0;31mSyntaxError\u001b[0m\u001b[0;31m:\u001b[0m invalid syntax\n"
     ]
    }
   ],
   "source": [
    "import re\n",
    "word = 'tame'\n",
    "#v = ''\n",
    "result = []\n",
    "\n",
    "new_list = [\"\".join([result.append(re.sub(c,v,word)) if c in 'aeiou' for v in 'aeiou' if c !=v ])] #else c for c in word])]"
   ]
  },
  {
   "cell_type": "markdown",
   "metadata": {},
   "source": [
    "### Comparing Solution 1 and 2 (Stack Overflow)"
   ]
  },
  {
   "attachments": {
    "ee885d82-a875-4f34-a8da-a11dd4823436.png": {
     "image/png": "[encoded data removed]"
    }
   },
   "cell_type": "markdown",
   "metadata": {},
   "source": [
    "![image.png](attachment:ee885d82-a875-4f34-a8da-a11dd4823436.png)"
   ]
  },
  {
   "cell_type": "code",
   "execution_count": 2,
   "metadata": {},
   "outputs": [],
   "source": [
    "\n",
    "\n",
    "word = 'tame'\n",
    "vowels = 'aeiou'\n",
    "res = [w for idx,letter in enumerate(word) if letter in vowels for vowel in vowels if (w:=word[:idx]+vowel+word[idx+1:]) != word]"
   ]
  },
  {
   "attachments": {
    "79a67176-3899-4e5b-95d2-0ff9b638e7d4.png": {
     "image/png": "[encoded data removed]"
    }
   },
   "cell_type": "markdown",
   "metadata": {},
   "source": [
    "![image.png](attachment:79a67176-3899-4e5b-95d2-0ff9b638e7d4.png)"
   ]
  },
  {
   "cell_type": "markdown",
   "metadata": {},
   "source": [
    " Move the appended expression re.sub(c, v, word) to the beginning, and then write the for and if clauses in the original orde"
   ]
  },
  {
   "cell_type": "markdown",
   "metadata": {
    "jp-MarkdownHeadingCollapsed": true,
    "tags": []
   },
   "source": [
    "<font size = 6, color = red> This DOES NOT ERROR!!"
   ]
  },
  {
   "cell_type": "code",
   "execution_count": 11,
   "metadata": {},
   "outputs": [
    {
     "name": "stdout",
     "output_type": "stream",
     "text": [
      "[None, None, None, None, None, None, None, None]\n"
     ]
    }
   ],
   "source": [
    "import re\n",
    "word = 'tame'\n",
    "vowels = 'aeiou'\n",
    "result = []\n",
    "mylist = [result.append(re.sub(c,v,word)) for c in word if c in vowels for v in vowels if c!=v ]\n",
    "print(mylist)"
   ]
  },
  {
   "cell_type": "code",
   "execution_count": 18,
   "metadata": {},
   "outputs": [
    {
     "name": "stdout",
     "output_type": "stream",
     "text": [
      "['teme', 'time', 'tome', 'tume', 'tama', 'tami', 'tamo', 'tamu']\n"
     ]
    }
   ],
   "source": [
    "import re\n",
    "word = 'tame'\n",
    "vowels = 'aeiou'\n",
    "result = [re.sub(c,v,word) for c in word if c in vowels for v in vowels if c!=v ]\n",
    "print(result)"
   ]
  },
  {
   "cell_type": "code",
   "execution_count": null,
   "metadata": {},
   "outputs": [],
   "source": []
  },
  {
   "cell_type": "code",
   "execution_count": 15,
   "metadata": {},
   "outputs": [
    {
     "ename": "TypeError",
     "evalue": "sequence item 0: expected str instance, NoneType found",
     "output_type": "error",
     "traceback": [
      "\u001b[0;31m---------------------------------------------------------------------------\u001b[0m",
      "\u001b[0;31mTypeError\u001b[0m                                 Traceback (most recent call last)",
      "Input \u001b[0;32mIn [15]\u001b[0m, in \u001b[0;36m<cell line: 7>\u001b[0;34m()\u001b[0m\n\u001b[1;32m      5\u001b[0m vowels \u001b[38;5;241m=\u001b[39m \u001b[38;5;124m'\u001b[39m\u001b[38;5;124maeiou\u001b[39m\u001b[38;5;124m'\u001b[39m\n\u001b[1;32m      6\u001b[0m result \u001b[38;5;241m=\u001b[39m []\n\u001b[0;32m----> 7\u001b[0m mylist \u001b[38;5;241m=\u001b[39m [\u001b[38;5;124;43m\"\u001b[39;49m\u001b[38;5;124;43m\"\u001b[39;49m\u001b[38;5;241;43m.\u001b[39;49m\u001b[43mjoin\u001b[49m\u001b[43m(\u001b[49m\u001b[43mresult\u001b[49m\u001b[38;5;241;43m.\u001b[39;49m\u001b[43mappend\u001b[49m\u001b[43m(\u001b[49m\u001b[43mre\u001b[49m\u001b[38;5;241;43m.\u001b[39;49m\u001b[43msub\u001b[49m\u001b[43m(\u001b[49m\u001b[43mc\u001b[49m\u001b[43m,\u001b[49m\u001b[43mv\u001b[49m\u001b[43m,\u001b[49m\u001b[43mword\u001b[49m\u001b[43m)\u001b[49m\u001b[43m)\u001b[49m\u001b[43m \u001b[49m\u001b[38;5;28;43;01mfor\u001b[39;49;00m\u001b[43m \u001b[49m\u001b[43mc\u001b[49m\u001b[43m \u001b[49m\u001b[38;5;129;43;01min\u001b[39;49;00m\u001b[43m \u001b[49m\u001b[43mword\u001b[49m\u001b[43m \u001b[49m\u001b[38;5;28;43;01mif\u001b[39;49;00m\u001b[43m \u001b[49m\u001b[43mc\u001b[49m\u001b[43m \u001b[49m\u001b[38;5;129;43;01min\u001b[39;49;00m\u001b[43m \u001b[49m\u001b[43mvowels\u001b[49m\u001b[43m \u001b[49m\u001b[38;5;28;43;01mfor\u001b[39;49;00m\u001b[43m \u001b[49m\u001b[43mv\u001b[49m\u001b[43m \u001b[49m\u001b[38;5;129;43;01min\u001b[39;49;00m\u001b[43m \u001b[49m\u001b[43mvowels\u001b[49m\u001b[43m \u001b[49m\u001b[38;5;28;43;01mif\u001b[39;49;00m\u001b[43m \u001b[49m\u001b[43mc\u001b[49m\u001b[38;5;241;43m!=\u001b[39;49m\u001b[43mv\u001b[49m\u001b[43m)\u001b[49m]\n\u001b[1;32m      8\u001b[0m \u001b[38;5;28mprint\u001b[39m(mylist)\n",
      "\u001b[0;31mTypeError\u001b[0m: sequence item 0: expected str instance, NoneType found"
     ]
    }
   ],
   "source": [
    "# this does not work\n",
    "\n",
    "import re\n",
    "word = 'tame'\n",
    "vowels = 'aeiou'\n",
    "result = []\n",
    "mylist = [\"\".join(result.append(re.sub(c,v,word)) for c in word if c in vowels for v in vowels if c!=v)]\n",
    "print(mylist)"
   ]
  },
  {
   "cell_type": "code",
   "execution_count": 17,
   "metadata": {},
   "outputs": [
    {
     "name": "stdout",
     "output_type": "stream",
     "text": [
      "[None, None, None, None, None, None, None, None]\n"
     ]
    }
   ],
   "source": [
    "import re\n",
    "word = 'tame'\n",
    "vowels = 'aeiou'\n",
    "result = []\n",
    "mylist = [result.append(re.sub(c,v,word)) for c in word if c in vowels for v in vowels if c!=v ]\n",
    "print(mylist)"
   ]
  },
  {
   "cell_type": "code",
   "execution_count": null,
   "metadata": {},
   "outputs": [],
   "source": [
    "Nested for/if like this translate mechanically into list comprehensions. Move the appended expression re.sub(c, v, word) to the beginning, and then write the for and if clauses in the original order. Please see e.g. Double iteration in list comprehension. – \n",
    "Karl Knechtel\n"
   ]
  },
  {
   "cell_type": "code",
   "execution_count": null,
   "metadata": {},
   "outputs": [],
   "source": []
  },
  {
   "cell_type": "code",
   "execution_count": null,
   "metadata": {},
   "outputs": [],
   "source": []
  },
  {
   "cell_type": "code",
   "execution_count": null,
   "metadata": {},
   "outputs": [],
   "source": []
  },
  {
   "cell_type": "code",
   "execution_count": 7,
   "metadata": {},
   "outputs": [
    {
     "ename": "TypeError",
     "evalue": "all() takes exactly one argument (3 given)",
     "output_type": "error",
     "traceback": [
      "\u001b[0;31m---------------------------------------------------------------------------\u001b[0m",
      "\u001b[0;31mTypeError\u001b[0m                                 Traceback (most recent call last)",
      "Input \u001b[0;32mIn [7]\u001b[0m, in \u001b[0;36m<cell line: 19>\u001b[0;34m()\u001b[0m\n\u001b[1;32m     16\u001b[0m word \u001b[38;5;241m=\u001b[39m \u001b[38;5;124m'\u001b[39m\u001b[38;5;124mtame\u001b[39m\u001b[38;5;124m'\u001b[39m\n\u001b[1;32m     17\u001b[0m v \u001b[38;5;241m=\u001b[39m \u001b[38;5;124m'\u001b[39m\u001b[38;5;124m'\u001b[39m\n\u001b[0;32m---> 19\u001b[0m new_list \u001b[38;5;241m=\u001b[39m [[\u001b[38;5;124m\"\u001b[39m\u001b[38;5;124m\"\u001b[39m\u001b[38;5;241m.\u001b[39mjoin([result\u001b[38;5;241m.\u001b[39mappend(re\u001b[38;5;241m.\u001b[39msub(c,v,word)) \u001b[38;5;28;01mif\u001b[39;00m \u001b[38;5;28mall\u001b[39m( c \u001b[38;5;129;01min\u001b[39;00m \u001b[38;5;124m'\u001b[39m\u001b[38;5;124maeiou\u001b[39m\u001b[38;5;124m'\u001b[39m,  v \u001b[38;5;129;01min\u001b[39;00m \u001b[38;5;124m'\u001b[39m\u001b[38;5;124maeiou\u001b[39m\u001b[38;5;124m'\u001b[39m,  c \u001b[38;5;241m!=\u001b[39mv) \u001b[38;5;28;01melse\u001b[39;00m c \u001b[38;5;28;01mfor\u001b[39;00m c \u001b[38;5;129;01min\u001b[39;00m word])]]\n",
      "Input \u001b[0;32mIn [7]\u001b[0m, in \u001b[0;36m<listcomp>\u001b[0;34m(.0)\u001b[0m\n\u001b[1;32m     16\u001b[0m word \u001b[38;5;241m=\u001b[39m \u001b[38;5;124m'\u001b[39m\u001b[38;5;124mtame\u001b[39m\u001b[38;5;124m'\u001b[39m\n\u001b[1;32m     17\u001b[0m v \u001b[38;5;241m=\u001b[39m \u001b[38;5;124m'\u001b[39m\u001b[38;5;124m'\u001b[39m\n\u001b[0;32m---> 19\u001b[0m new_list \u001b[38;5;241m=\u001b[39m [[\u001b[38;5;124m\"\u001b[39m\u001b[38;5;124m\"\u001b[39m\u001b[38;5;241m.\u001b[39mjoin([result\u001b[38;5;241m.\u001b[39mappend(re\u001b[38;5;241m.\u001b[39msub(c,v,word)) \u001b[38;5;28;01mif\u001b[39;00m \u001b[38;5;28;43mall\u001b[39;49m\u001b[43m(\u001b[49m\u001b[43m \u001b[49m\u001b[43mc\u001b[49m\u001b[43m \u001b[49m\u001b[38;5;129;43;01min\u001b[39;49;00m\u001b[43m \u001b[49m\u001b[38;5;124;43m'\u001b[39;49m\u001b[38;5;124;43maeiou\u001b[39;49m\u001b[38;5;124;43m'\u001b[39;49m\u001b[43m,\u001b[49m\u001b[43m  \u001b[49m\u001b[43mv\u001b[49m\u001b[43m \u001b[49m\u001b[38;5;129;43;01min\u001b[39;49;00m\u001b[43m \u001b[49m\u001b[38;5;124;43m'\u001b[39;49m\u001b[38;5;124;43maeiou\u001b[39;49m\u001b[38;5;124;43m'\u001b[39;49m\u001b[43m,\u001b[49m\u001b[43m  \u001b[49m\u001b[43mc\u001b[49m\u001b[43m \u001b[49m\u001b[38;5;241;43m!=\u001b[39;49m\u001b[43mv\u001b[49m\u001b[43m)\u001b[49m \u001b[38;5;28;01melse\u001b[39;00m c \u001b[38;5;28;01mfor\u001b[39;00m c \u001b[38;5;129;01min\u001b[39;00m word])]]\n",
      "\u001b[0;31mTypeError\u001b[0m: all() takes exactly one argument (3 given)"
     ]
    }
   ],
   "source": [
    "import re\n",
    "#import random\n",
    "#vowels = 'aeiou'\n",
    "#result = [[\"\".join([random.choice(vowels) if c in 'aeiou' else c for c in word])] for c in range(len(word))]\n",
    "#result = [[\"\".join([random.choice(vowels) if c in 'aeiou' else c for c in word])] for c in range(len(word))]\n",
    "#-----\n",
    "#result = [[\"\".join([result.append(re.sub(c,v,word) if c in vowels if v in vowels if c!=v)])]]\n",
    "#-----\n",
    "\n",
    "#result = [[\"\".join([result.append(re.sub(c,v,word)) if c in vowels else c for c in word])]]# for v in vowels if c!=v]]\n",
    "\n",
    "#new_list = [[\"\".join([result.append(re.sub(c,v,word) if c in 'aeiou' and v in 'aeiou' and c !=v else c for c in word)])]]\n",
    "\n",
    "#new_list = [[\"\".join([result.append(re.sub(c,v,word)) if c in 'aeiou' else c for c in word])] for v in 'aeiou' and c !=v]\n",
    "\n",
    "word = 'tame'\n",
    "v = ''\n",
    "\n",
    "new_list = [[\"\".join([result.append(re.sub(c,v,word)) if all( c in 'aeiou',  v in 'aeiou',  c !=v) else c for c in word])]]\n",
    "\n",
    "#print(result)\n"
   ]
  },
  {
   "cell_type": "markdown",
   "metadata": {},
   "source": [
    "### Potential -- might post on Stack Overview"
   ]
  },
  {
   "cell_type": "code",
   "execution_count": 155,
   "metadata": {},
   "outputs": [
    {
     "ename": "TypeError",
     "evalue": "'bool' object is not iterable",
     "output_type": "error",
     "traceback": [
      "\u001b[0;31m---------------------------------------------------------------------------\u001b[0m",
      "\u001b[0;31mTypeError\u001b[0m                                 Traceback (most recent call last)",
      "Input \u001b[0;32mIn [155]\u001b[0m, in \u001b[0;36m<cell line: 4>\u001b[0;34m()\u001b[0m\n\u001b[1;32m      2\u001b[0m \u001b[38;5;28;01mimport\u001b[39;00m \u001b[38;5;21;01mre\u001b[39;00m\n\u001b[1;32m      3\u001b[0m result \u001b[38;5;241m=\u001b[39m []\n\u001b[0;32m----> 4\u001b[0m new_list \u001b[38;5;241m=\u001b[39m [[\u001b[38;5;124m\"\u001b[39m\u001b[38;5;124m\"\u001b[39m\u001b[38;5;241m.\u001b[39mjoin([result\u001b[38;5;241m.\u001b[39mappend(re\u001b[38;5;241m.\u001b[39msub(c,v,word)) \u001b[38;5;28;01mif\u001b[39;00m c \u001b[38;5;129;01min\u001b[39;00m \u001b[38;5;124m'\u001b[39m\u001b[38;5;124maeiou\u001b[39m\u001b[38;5;124m'\u001b[39m \u001b[38;5;28;01melse\u001b[39;00m c \u001b[38;5;28;01mfor\u001b[39;00m c \u001b[38;5;129;01min\u001b[39;00m word])] \u001b[38;5;28;01mfor\u001b[39;00m v \u001b[38;5;129;01min\u001b[39;00m \u001b[38;5;124m'\u001b[39m\u001b[38;5;124maeiou\u001b[39m\u001b[38;5;124m'\u001b[39m \u001b[38;5;129;01mand\u001b[39;00m c \u001b[38;5;241m!=\u001b[39mv]\n\u001b[1;32m      5\u001b[0m \u001b[38;5;28mprint\u001b[39m(result)\n",
      "\u001b[0;31mTypeError\u001b[0m: 'bool' object is not iterable"
     ]
    }
   ],
   "source": [
    "word = 'tame'\n",
    "import re\n",
    "result = []\n",
    "new_list = [[\"\".join([result.append(re.sub(c,v,word)) if c in 'aeiou' else c for c in word])] for v in 'aeiou' and c !=v]\n",
    "print(result)"
   ]
  },
  {
   "cell_type": "markdown",
   "metadata": {},
   "source": [
    "----"
   ]
  },
  {
   "cell_type": "code",
   "execution_count": 157,
   "metadata": {},
   "outputs": [
    {
     "ename": "SyntaxError",
     "evalue": "invalid syntax (805744585.py, line 5)",
     "output_type": "error",
     "traceback": [
      "\u001b[0;36m  Input \u001b[0;32mIn [157]\u001b[0;36m\u001b[0m\n\u001b[0;31m    new_list = [[\"\".join([result.append(re.sub(c,v,word)) if c in 'aeiou' if v in 'aeiou' if c !=v  else c for c in word])]]\u001b[0m\n\u001b[0m                                                                          ^\u001b[0m\n\u001b[0;31mSyntaxError\u001b[0m\u001b[0;31m:\u001b[0m invalid syntax\n"
     ]
    }
   ],
   "source": [
    "# another potential for stack overflow\n",
    "word = 'hate'\n",
    "import re\n",
    "result = []\n",
    "new_list = [[\"\".join([result.append(re.sub(c,v,word)) if c in 'aeiou' if v in 'aeiou' if c !=v  else c for c in word])]]\n",
    "print(result)\n"
   ]
  },
  {
   "cell_type": "code",
   "execution_count": 132,
   "metadata": {},
   "outputs": [
    {
     "ename": "SyntaxError",
     "evalue": "invalid syntax (1393858006.py, line 5)",
     "output_type": "error",
     "traceback": [
      "\u001b[0;36m  Input \u001b[0;32mIn [132]\u001b[0;36m\u001b[0m\n\u001b[0;31m    new_list = [[\"\".join([result.append(re.sub(c,v,word)) for c in 'aeiou' for v in 'aeiou' for c !=v else c for c in word])]]\u001b[0m\n\u001b[0m                                                                                                      ^\u001b[0m\n\u001b[0;31mSyntaxError\u001b[0m\u001b[0;31m:\u001b[0m invalid syntax\n"
     ]
    }
   ],
   "source": [
    "# another potential for stack overflow\n",
    "word = 'hate'\n",
    "import re\n",
    "result = []\n",
    "new_list = [[\"\".join([result.append(re.sub(c,v,word)) for c in 'aeiou' for v in 'aeiou' for c !=v else c for c in word])]]\n",
    "print(result)"
   ]
  },
  {
   "cell_type": "code",
   "execution_count": 152,
   "metadata": {},
   "outputs": [
    {
     "ename": "SyntaxError",
     "evalue": "invalid syntax (276517702.py, line 5)",
     "output_type": "error",
     "traceback": [
      "\u001b[0;36m  Input \u001b[0;32mIn [152]\u001b[0;36m\u001b[0m\n\u001b[0;31m    new_list = [[\"\".join([result.append(re.sub(c,v,word)) if c in 'aeiou' if v in 'aeiou' and c !=v else c for c in word])]]\u001b[0m\n\u001b[0m                                                                          ^\u001b[0m\n\u001b[0;31mSyntaxError\u001b[0m\u001b[0;31m:\u001b[0m invalid syntax\n"
     ]
    }
   ],
   "source": [
    "# another potential for stack overflow\n",
    "word = 'tame'\n",
    "import re\n",
    "result = []\n",
    "new_list = [[\"\".join([result.append(re.sub(c,v,word)) if c in 'aeiou' if v in 'aeiou' and c !=v else c for c in word])]]\n",
    "print(result)"
   ]
  },
  {
   "cell_type": "markdown",
   "metadata": {},
   "source": [
    "### trying this without the (c for c in word)"
   ]
  },
  {
   "cell_type": "code",
   "execution_count": 151,
   "metadata": {},
   "outputs": [
    {
     "ename": "SyntaxError",
     "evalue": "invalid syntax (3941264025.py, line 4)",
     "output_type": "error",
     "traceback": [
      "\u001b[0;36m  Input \u001b[0;32mIn [151]\u001b[0;36m\u001b[0m\n\u001b[0;31m    new_list = [[\"\".join([result.append(re.sub(c,v,word)) if c in 'aeiou' if v in 'aeiou' if c !=v])]]\u001b[0m\n\u001b[0m                                                                          ^\u001b[0m\n\u001b[0;31mSyntaxError\u001b[0m\u001b[0;31m:\u001b[0m invalid syntax\n"
     ]
    }
   ],
   "source": [
    "word = 'tame'\n",
    "import re\n",
    "result = []\n",
    "new_list = [[\"\".join([result.append(re.sub(c,v,word)) if c in 'aeiou' if v in 'aeiou' if c !=v])]]\n",
    "print(result)"
   ]
  },
  {
   "cell_type": "code",
   "execution_count": null,
   "metadata": {},
   "outputs": [],
   "source": []
  },
  {
   "attachments": {
    "f428db55-bcb9-43bb-a3c7-c7b824e07e09.png": {
     "image/png": "[encoded data removed]"
    }
   },
   "cell_type": "markdown",
   "metadata": {},
   "source": [
    "![image.png](attachment:f428db55-bcb9-43bb-a3c7-c7b824e07e09.png)"
   ]
  },
  {
   "cell_type": "code",
   "execution_count": 153,
   "metadata": {},
   "outputs": [
    {
     "ename": "TypeError",
     "evalue": "sequence item 1: expected str instance, NoneType found",
     "output_type": "error",
     "traceback": [
      "\u001b[0;31m---------------------------------------------------------------------------\u001b[0m",
      "\u001b[0;31mTypeError\u001b[0m                                 Traceback (most recent call last)",
      "Input \u001b[0;32mIn [153]\u001b[0m, in \u001b[0;36m<cell line: 4>\u001b[0;34m()\u001b[0m\n\u001b[1;32m      2\u001b[0m \u001b[38;5;28;01mimport\u001b[39;00m \u001b[38;5;21;01mre\u001b[39;00m\n\u001b[1;32m      3\u001b[0m result \u001b[38;5;241m=\u001b[39m []\n\u001b[0;32m----> 4\u001b[0m new_list \u001b[38;5;241m=\u001b[39m [[\u001b[38;5;124m\"\u001b[39m\u001b[38;5;124m\"\u001b[39m\u001b[38;5;241m.\u001b[39mjoin([result\u001b[38;5;241m.\u001b[39mappend(re\u001b[38;5;241m.\u001b[39msub(c,v,word)) \u001b[38;5;28;01mif\u001b[39;00m c \u001b[38;5;129;01min\u001b[39;00m \u001b[38;5;124m'\u001b[39m\u001b[38;5;124maeiou\u001b[39m\u001b[38;5;124m'\u001b[39m \u001b[38;5;28;01melse\u001b[39;00m c \u001b[38;5;28;01mfor\u001b[39;00m c \u001b[38;5;129;01min\u001b[39;00m word])] \u001b[38;5;28;01mfor\u001b[39;00m v \u001b[38;5;129;01min\u001b[39;00m \u001b[38;5;124m'\u001b[39m\u001b[38;5;124maeiou\u001b[39m\u001b[38;5;124m'\u001b[39m \u001b[38;5;28;01mif\u001b[39;00m c \u001b[38;5;241m!=\u001b[39mv]\n\u001b[1;32m      5\u001b[0m \u001b[38;5;28mprint\u001b[39m(result)\n",
      "Input \u001b[0;32mIn [153]\u001b[0m, in \u001b[0;36m<listcomp>\u001b[0;34m(.0)\u001b[0m\n\u001b[1;32m      2\u001b[0m \u001b[38;5;28;01mimport\u001b[39;00m \u001b[38;5;21;01mre\u001b[39;00m\n\u001b[1;32m      3\u001b[0m result \u001b[38;5;241m=\u001b[39m []\n\u001b[0;32m----> 4\u001b[0m new_list \u001b[38;5;241m=\u001b[39m [[\u001b[38;5;124;43m\"\u001b[39;49m\u001b[38;5;124;43m\"\u001b[39;49m\u001b[38;5;241;43m.\u001b[39;49m\u001b[43mjoin\u001b[49m\u001b[43m(\u001b[49m\u001b[43m[\u001b[49m\u001b[43mresult\u001b[49m\u001b[38;5;241;43m.\u001b[39;49m\u001b[43mappend\u001b[49m\u001b[43m(\u001b[49m\u001b[43mre\u001b[49m\u001b[38;5;241;43m.\u001b[39;49m\u001b[43msub\u001b[49m\u001b[43m(\u001b[49m\u001b[43mc\u001b[49m\u001b[43m,\u001b[49m\u001b[43mv\u001b[49m\u001b[43m,\u001b[49m\u001b[43mword\u001b[49m\u001b[43m)\u001b[49m\u001b[43m)\u001b[49m\u001b[43m \u001b[49m\u001b[38;5;28;43;01mif\u001b[39;49;00m\u001b[43m \u001b[49m\u001b[43mc\u001b[49m\u001b[43m \u001b[49m\u001b[38;5;129;43;01min\u001b[39;49;00m\u001b[43m \u001b[49m\u001b[38;5;124;43m'\u001b[39;49m\u001b[38;5;124;43maeiou\u001b[39;49m\u001b[38;5;124;43m'\u001b[39;49m\u001b[43m \u001b[49m\u001b[38;5;28;43;01melse\u001b[39;49;00m\u001b[43m \u001b[49m\u001b[43mc\u001b[49m\u001b[43m \u001b[49m\u001b[38;5;28;43;01mfor\u001b[39;49;00m\u001b[43m \u001b[49m\u001b[43mc\u001b[49m\u001b[43m \u001b[49m\u001b[38;5;129;43;01min\u001b[39;49;00m\u001b[43m \u001b[49m\u001b[43mword\u001b[49m\u001b[43m]\u001b[49m\u001b[43m)\u001b[49m] \u001b[38;5;28;01mfor\u001b[39;00m v \u001b[38;5;129;01min\u001b[39;00m \u001b[38;5;124m'\u001b[39m\u001b[38;5;124maeiou\u001b[39m\u001b[38;5;124m'\u001b[39m \u001b[38;5;28;01mif\u001b[39;00m c \u001b[38;5;241m!=\u001b[39mv]\n\u001b[1;32m      5\u001b[0m \u001b[38;5;28mprint\u001b[39m(result)\n",
      "\u001b[0;31mTypeError\u001b[0m: sequence item 1: expected str instance, NoneType found"
     ]
    }
   ],
   "source": [
    "word = 'tame'\n",
    "import re\n",
    "result = []\n",
    "new_list = [[\"\".join([result.append(re.sub(c,v,word)) if c in 'aeiou' else c for c in word])] for v in 'aeiou' if c !=v]\n",
    "print(result)"
   ]
  },
  {
   "cell_type": "code",
   "execution_count": null,
   "metadata": {},
   "outputs": [],
   "source": []
  },
  {
   "cell_type": "code",
   "execution_count": null,
   "metadata": {},
   "outputs": [],
   "source": []
  },
  {
   "cell_type": "code",
   "execution_count": null,
   "metadata": {},
   "outputs": [],
   "source": []
  },
  {
   "cell_type": "code",
   "execution_count": null,
   "metadata": {},
   "outputs": [],
   "source": []
  },
  {
   "cell_type": "code",
   "execution_count": null,
   "metadata": {},
   "outputs": [],
   "source": []
  },
  {
   "cell_type": "code",
   "execution_count": null,
   "metadata": {},
   "outputs": [],
   "source": []
  },
  {
   "cell_type": "code",
   "execution_count": null,
   "metadata": {},
   "outputs": [],
   "source": []
  },
  {
   "cell_type": "code",
   "execution_count": null,
   "metadata": {},
   "outputs": [],
   "source": []
  },
  {
   "cell_type": "markdown",
   "metadata": {},
   "source": [
    "# this is a randomly generating all possible combinations of the vowel"
   ]
  },
  {
   "cell_type": "code",
   "execution_count": 56,
   "metadata": {},
   "outputs": [
    {
     "name": "stdout",
     "output_type": "stream",
     "text": [
      "[['hulla'], ['halle'], ['holli'], ['hullu'], ['hilli'], ['holla'], ['hello'], ['hullu'], ['hulle'], ['hallo'], ['hollu'], ['holle'], ['hellu'], ['helle'], ['halli'], ['hulli'], ['helli'], ['holli'], ['holla'], ['holli'], ['hilla'], ['hellu'], ['hello'], ['hellu'], ['hella'], ['halla'], ['hulli'], ['halli'], ['hullo'], ['hulli'], ['hollu'], ['halle'], ['helle'], ['helli'], ['hilli'], ['holle'], ['hille'], ['hallu'], ['helle'], ['hillu'], ['hallo'], ['hallo'], ['hollu'], ['halli'], ['hollu'], ['hellu'], ['hallu'], ['helle'], ['holli'], ['hulli'], ['hello'], ['holla'], ['hillu'], ['halla'], ['hilli'], ['holli'], ['holla'], ['hallu'], ['hille'], ['halla'], ['hallo'], ['hulli'], ['hallu'], ['hollo'], ['halle'], ['hollu'], ['hello'], ['holle'], ['halli'], ['holle'], ['hilli'], ['hulla'], ['hallu'], ['hulli'], ['hulla'], ['hullo'], ['hollo'], ['hulla'], ['hello'], ['hullo'], ['hulle'], ['hulla'], ['halle'], ['hillo'], ['hillo'], ['holla'], ['hollo'], ['hillo'], ['hillu'], ['halla'], ['hallu'], ['holla'], ['halli'], ['helli'], ['hille'], ['helle'], ['holle'], ['hulla'], ['hallu'], ['hulla'], ['hollu'], ['hellu'], ['hilla'], ['hollu'], ['halli'], ['halle'], ['halle'], ['hallu'], ['hilli'], ['halle'], ['hulli'], ['helle'], ['halle'], ['hulle'], ['helli'], ['hille'], ['hillo'], ['hillo'], ['hulle'], ['hilli'], ['hulli'], ['hallo'], ['hollu'], ['hulli'], ['hallu']]\n"
     ]
    }
   ],
   "source": [
    "import random\n",
    "word = 'hello'\n",
    "new_list = [[\"\".join([random.choice(vowels) if c in 'aeiou' else c  for c in word])] for c in range(len(word)**3)]\n",
    "print(new_list)"
   ]
  },
  {
   "cell_type": "code",
   "execution_count": null,
   "metadata": {},
   "outputs": [],
   "source": []
  },
  {
   "cell_type": "markdown",
   "metadata": {},
   "source": [
    "---"
   ]
  },
  {
   "cell_type": "markdown",
   "metadata": {},
   "source": [
    "### solution from 5.4 (repetition)"
   ]
  },
  {
   "cell_type": "code",
   "execution_count": 18,
   "metadata": {},
   "outputs": [
    {
     "name": "stdout",
     "output_type": "stream",
     "text": [
      "['ello', 'hllo', 'helo', 'helo', 'hell']\n"
     ]
    }
   ],
   "source": [
    "word = 'hello'\n",
    "\n",
    "new_list = [word[:i] + word[i+1:] for i in range(len(word))]\n",
    "print(new_list)"
   ]
  },
  {
   "cell_type": "markdown",
   "metadata": {},
   "source": [
    "---"
   ]
  },
  {
   "cell_type": "markdown",
   "metadata": {},
   "source": [
    "# this is the closest I have come so far"
   ]
  },
  {
   "cell_type": "code",
   "execution_count": 20,
   "metadata": {},
   "outputs": [
    {
     "name": "stdout",
     "output_type": "stream",
     "text": [
      "['ello hllo helo helo hell']\n"
     ]
    }
   ],
   "source": [
    "import random\n",
    "word = 'hello'\n",
    "new_list = [\" \".join([random.choice(vowels) if c in 'aeiou' else c  for c in [word[:i] + word[i+1:] for i in range(len(word))]])]\n",
    "print(new_list)"
   ]
  },
  {
   "cell_type": "markdown",
   "metadata": {},
   "source": [
    "---"
   ]
  },
  {
   "cell_type": "markdown",
   "metadata": {},
   "source": [
    "---"
   ]
  },
  {
   "cell_type": "markdown",
   "metadata": {},
   "source": [
    "# WRONG PATH - Using Itertools to get permutations"
   ]
  },
  {
   "cell_type": "code",
   "execution_count": null,
   "metadata": {},
   "outputs": [],
   "source": [
    "import itertools\n",
    "s='READ'\n",
    "t=list(itertools.permutations(s,len(s)))\n",
    "for i in range(0,len(t)):\n",
    "    print(''.join(t[i]))"
   ]
  },
  {
   "cell_type": "markdown",
   "metadata": {
    "jupyter": {
     "source_hidden": true
    },
    "tags": []
   },
   "source": [
    "### DNU trying to get this output with list comprehensions"
   ]
  },
  {
   "cell_type": "code",
   "execution_count": 44,
   "metadata": {
    "collapsed": true,
    "jupyter": {
     "outputs_hidden": true,
     "source_hidden": true
    },
    "tags": []
   },
   "outputs": [
    {
     "name": "stdout",
     "output_type": "stream",
     "text": [
      "[('R', 'E', 'A', 'D'), ('R', 'E', 'D', 'A'), ('R', 'A', 'E', 'D'), ('R', 'A', 'D', 'E'), ('R', 'D', 'E', 'A'), ('R', 'D', 'A', 'E'), ('E', 'R', 'A', 'D'), ('E', 'R', 'D', 'A'), ('E', 'A', 'R', 'D'), ('E', 'A', 'D', 'R'), ('E', 'D', 'R', 'A'), ('E', 'D', 'A', 'R'), ('A', 'R', 'E', 'D'), ('A', 'R', 'D', 'E'), ('A', 'E', 'R', 'D'), ('A', 'E', 'D', 'R'), ('A', 'D', 'R', 'E'), ('A', 'D', 'E', 'R'), ('D', 'R', 'E', 'A'), ('D', 'R', 'A', 'E'), ('D', 'E', 'R', 'A'), ('D', 'E', 'A', 'R'), ('D', 'A', 'R', 'E'), ('D', 'A', 'E', 'R')]\n"
     ]
    }
   ],
   "source": [
    "import itertools\n",
    "s='READ'\n",
    "t=list(itertools.permutations(s,len(s)))\n",
    "print(t)\n",
    "# for i in range(0,len(t)):\n",
    "#     print(''.join(t[i]))"
   ]
  },
  {
   "cell_type": "markdown",
   "metadata": {},
   "source": [
    "---"
   ]
  },
  {
   "cell_type": "code",
   "execution_count": null,
   "metadata": {},
   "outputs": [],
   "source": []
  },
  {
   "cell_type": "code",
   "execution_count": null,
   "metadata": {},
   "outputs": [],
   "source": []
  },
  {
   "cell_type": "markdown",
   "metadata": {},
   "source": [
    "---"
   ]
  },
  {
   "cell_type": "code",
   "execution_count": 36,
   "metadata": {},
   "outputs": [
    {
     "name": "stdout",
     "output_type": "stream",
     "text": [
      "['a', 'b', 'c', 'd', 'e', 'f', 'g', 'h', 'i', 'j', 'k', 'l', 'm', 'n', 'o', 'p', 'q', 'r', 's', 't', 'u', 'v', 'w', 'x', 'y', 'z']\n"
     ]
    }
   ],
   "source": [
    "alphabet=[chr(c) for c in range(ord('a'),ord('z')+1)]\n",
    "print(alphabet)"
   ]
  },
  {
   "cell_type": "markdown",
   "metadata": {},
   "source": [
    "---"
   ]
  },
  {
   "cell_type": "code",
   "execution_count": null,
   "metadata": {},
   "outputs": [],
   "source": []
  },
  {
   "cell_type": "code",
   "execution_count": null,
   "metadata": {},
   "outputs": [],
   "source": []
  },
  {
   "cell_type": "code",
   "execution_count": null,
   "metadata": {},
   "outputs": [],
   "source": []
  },
  {
   "cell_type": "code",
   "execution_count": null,
   "metadata": {},
   "outputs": [],
   "source": []
  },
  {
   "cell_type": "code",
   "execution_count": 9,
   "metadata": {},
   "outputs": [
    {
     "name": "stdout",
     "output_type": "stream",
     "text": [
      "['CVCCV']\n"
     ]
    }
   ],
   "source": [
    "previous_list = ['hello']\n",
    "\n",
    "new_list = [''.join(('V' if char in {'a', 'e', 'i', 'o', 'u'} else 'C') for char in string) for string in previous_list]\n",
    "\n",
    "print(new_list)\n"
   ]
  },
  {
   "cell_type": "markdown",
   "metadata": {},
   "source": [
    "---"
   ]
  },
  {
   "cell_type": "code",
   "execution_count": 37,
   "metadata": {},
   "outputs": [
    {
     "data": {
      "text/plain": [
       "'c'"
      ]
     },
     "execution_count": 37,
     "metadata": {},
     "output_type": "execute_result"
    }
   ],
   "source": [
    "import random\n",
    "word = ['a','b', 'c', 'd', 'e']\n",
    "random.choice(word)"
   ]
  },
  {
   "cell_type": "code",
   "execution_count": null,
   "metadata": {},
   "outputs": [],
   "source": []
  }
 ],
 "metadata": {
  "kernelspec": {
   "display_name": "Python 3 (ipykernel)",
   "language": "python",
   "name": "python3"
  },
  "language_info": {
   "codemirror_mode": {
    "name": "ipython",
    "version": 3
   },
   "file_extension": ".py",
   "mimetype": "text/x-python",
   "name": "python",
   "nbconvert_exporter": "python",
   "pygments_lexer": "ipython3",
   "version": "3.9.12"
  }
 },
 "nbformat": 4,
 "nbformat_minor": 4
}
