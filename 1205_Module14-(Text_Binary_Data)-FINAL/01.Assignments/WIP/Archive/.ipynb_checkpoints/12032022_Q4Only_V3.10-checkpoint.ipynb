{
 "cells": [
  {
   "cell_type": "code",
   "execution_count": 1,
   "metadata": {},
   "outputs": [
    {
     "name": "stdout",
     "output_type": "stream",
     "text": [
      "3.9.13 (main, Aug 25 2022, 18:29:29) \n",
      "[Clang 12.0.0 ]\n",
      "1.4.4\n",
      "1.21.5\n"
     ]
    }
   ],
   "source": [
    "import numpy as np\n",
    "import pandas as pd\n",
    "import matplotlib.pyplot as plt\n",
    "import sys\n",
    "import seaborn as sns\n",
    "\n",
    "pd.options.display.float_format = '{:,.2f}'.format\n",
    "%matplotlib inline\n",
    "\n",
    "print(sys.version)\n",
    "print(pd.__version__)\n",
    "print(np.__version__)\n",
    "\n",
    "import io\n",
    "import os\n",
    "import pandas as pd"
   ]
  },
  {
   "cell_type": "markdown",
   "metadata": {},
   "source": [
    "---"
   ]
  },
  {
   "cell_type": "markdown",
   "metadata": {
    "id": "qGnnkRF9g7Tq"
   },
   "source": [
    "## 4: Clinical disease data (40 pts)\n",
    "\n",
    "Your boss comes to you Monday morning and says “I figured out our next step; we are going to pivot from an online craft store and become a data center for genetic disease information! I found **ClinVar** which is a repository that contains expert curated data, and it is free for the taking. This is a gold mine! Look at the file and tell me what gene and mutation combinations are classified as dangerous.”\n",
    "\n",
    "Make sure that you only give your boss the dangerous mutations and include:\n",
    "\n",
    "1) Gene name\n",
    "\n",
    "2) Mutation ID number\n",
    "\n",
    "3) Mutation Position (chromosome & position)\n",
    "\n",
    "4) Mutation value (reference & alternate bases)\n",
    "\n",
    "5) Clinical significance (CLNSIG)\n",
    "\n",
    "6) Disease that is implicated\n",
    "\n",
    "**Requirements**\n",
    "\n",
    "1) The deliverables are the final result as a dataframe with a short discussion of any specifics. (that is, what data you would present to your boss with the explanation of your results)\n",
    "\n",
    "2) Limit your output to the first 100 harmful mutations and tell your boss how many total harmful mutations were found in the file\n",
    "\n",
    "3) Use the instructor-modified \"clinvar_final.txt\" at this link: https://drive.google.com/file/d/1Zps0YssoJbZHrn6iLte2RDLlgruhAX1s/view?usp=sharing This file was modified to be not exactly the same as 'standard' .vcf file to test your data parsing skills. **This is a large file so do NOT upload it into your github repo!**\n",
    "\n",
    "4) Replace missing values in the dataframe with: 'Not_Given'. Print or display this (including the Not_Given count) for the column `CLNSIG` by using pandas value_counts() function (https://pandas.pydata.org/docs/reference/api/pandas.Series.value_counts.html).\n",
    "\n",
    "5) State in your answer how you define harmful mutations\n",
    "\n",
    "**6) Do your best on getting to above requirements and submit whatever you do before the deadline. If your work is incomplete be sure to describe the blockers that got in your way and how you might get past them (if given more time).**\n",
    "\n",
    "7) You can use as many code blocks as you need. Please clean-up your code and make it readable for the graders!\n",
    "\n",
    "**Hints** \n",
    "* We do not expect you to have any medical knowledge to solve this problem; look at the data, read the documentation provided, and write down your assumptions!\n",
    "\n",
    "* Correct pseudocode will give you partial credit so start with that. \n",
    "\n",
    "* Map out which fields you want to extract: Are they in the same place every time? What strategy will you use to robustly extract and filter your data of interest? How do you plan to handle missing data?\n",
    "\n",
    "* A good way to start is to print out each line, then practice parsing them to see if you can recover the fields of interest\n",
    "\n",
    "* A starting solution for parsing .vcfs can be found here: https://gist.github.com/dceoy/99d976a2c01e7f0ba1c813778f9db744 This solution does **NOT** work due to the changes we've made but can be modified to work. As with any solution that needs modifications, it may take less time to make your own solution!\n",
    "\n",
    "* Filter out junk and lines with no mutation data. Just focus on the data your need to deliver to your boss. \n",
    "\n",
    "* Pandas and NumPy parsers correctly recognize the end of each line in in the ClinVar file.\n",
    "\n",
    "* The unit of observation of this dataset is one row per mutation.\n",
    "\n",
    "* This is similar to a task that one of us tackled at work. You can answer the question with the information provided below or using the (partial) data dictionary file at this link: https://drive.google.com/file/d/1lx9yHdlcqmU_OlHiTUXKC_LQDqYBypH_/view?usp=sharing. Our goal is to see that you can put together a sensible plan, implement a solid parsing strategy, and document and justify the decisions that you made."
   ]
  },
  {
   "cell_type": "markdown",
   "metadata": {
    "id": "vxoh6uLEg7Tr"
   },
   "source": [
    "### VCF file description (Summarized from version 4.1)\n",
    "\n",
    "```\n",
    "* The VCF specification:\n",
    "\n",
    "VCF is a text file format which contains meta-information lines, a header line, and then data lines each containing information about a position in the genome. The format also can contain genotype information on samples for each position.\n",
    "\n",
    "* Fixed fields:\n",
    "\n",
    "There are 8 fixed fields per record. All data lines are **tab-delimited**. In all cases, missing values are specified with a dot (‘.’). \n",
    "\n",
    "1. CHROM - chromosome number\n",
    "2. POS - position DNA nuceleotide count (bases) along the chromosome\n",
    "3. ID - The unique identifier for each mutation\n",
    "4. REF - reference base(s)\n",
    "5. ALT - alternate base(s)\n",
    "6. FILTER - filter status\n",
    "7. QUAL - quality\n",
    "8. INFO - a semicolon-separated series of keys with values in the format: <key>=<data>\n",
    "\n",
    "```\n",
    "### Applicable INFO field specifications\n",
    "\n",
    "```\n",
    "GENEINFO = <Gene name>\n",
    "CLNSIG =  <Clinical significance>\n",
    "CLNDN = <Disease name>\n",
    "```\n",
    "\n",
    "### Sample ClinVar data (vcf file format - not exactly the same as the file to download!)\n",
    "\n",
    "```\n",
    "##fileformat=VCFv4.1\n",
    "##fileDate=2019-03-19\n",
    "##source=ClinVar\n",
    "##reference=GRCh38\t\t\t\t\t\t\t\n",
    "#CHROM\tPOS\tID\tREF\tALT\tQUAL\tFILTER\tINFO\n",
    "1\t949523\trs786201005\tC\tT\t.\t.\tGENEINFO=ISG15;CLNSIG=5\n",
    "1\t949696\trs672601345\tC\tCG\t.\t.\tGENEINFO=ISG15;CLNSIG=5;CLNDN=Cancer\n",
    "1\t949739\trs672601312\tG\tT\t.\t.\tGENEINFO=ISG15;CLNDBN=Cancer\n",
    "1\t955597\trs115173026\tG\tT\t.\t.\tGENEINFO=AGRN;CLNSIG=2; CLNDN=Cancer\n",
    "1\t955619\trs201073369\tG\tC\t.\t.\tGENEINFO=AGG;CLNDN=Heart_dis \n",
    "1\t957640\trs6657048\tC\tT\t.\t.\tGENEINFO=AGG;CLNSIG=3;CLNDN=Heart_dis \n",
    "1\t976059\trs544749044\tC\tT\t.\t.\tGENEINFO=AGG;CLNSIG=0;CLNDN=Heart_dis \n",
    "```"
   ]
  },
  {
   "cell_type": "code",
   "execution_count": 2,
   "metadata": {
    "id": "qPhDns3zg7Tr"
   },
   "outputs": [],
   "source": [
    "# 4) Your code here - can use as many code blocks as you would like"
   ]
  },
  {
   "cell_type": "markdown",
   "metadata": {
    "id": "QvWAQKYag7Tr"
   },
   "source": [
    "4) Please Write your assumptions here:"
   ]
  },
  {
   "cell_type": "markdown",
   "metadata": {
    "id": "_r9uXf94g7Ts"
   },
   "source": [
    "4) Findings / What would you present to your boss?"
   ]
  },
  {
   "cell_type": "markdown",
   "metadata": {},
   "source": [
    "----"
   ]
  },
  {
   "cell_type": "code",
   "execution_count": 3,
   "metadata": {},
   "outputs": [],
   "source": [
    "def read_vcf(path):\n",
    "    with open(path, 'r') as f:\n",
    "        lines = [l for l in f if not l.startswith('##')]\n",
    "    return pd.read_csv(\n",
    "        io.StringIO(''.join(lines)),\n",
    "        dtype={'#CHROM': str, 'POS': int, 'ID': str, 'REF': str, 'ALT': str,\n",
    "               'QUAL': str, 'FILTER': str, 'INFO': str},\n",
    "        sep='\\t'\n",
    "    ).rename(columns={'#CHROM': 'CHROM'})"
   ]
  },
  {
   "cell_type": "code",
   "execution_count": 21,
   "metadata": {},
   "outputs": [],
   "source": [
    "df=pd.read_table('../clinvar_final.txt', sep='\\t',skiprows=(27), header=(0))"
   ]
  },
  {
   "cell_type": "code",
   "execution_count": 22,
   "metadata": {},
   "outputs": [
    {
     "data": {
      "text/html": [
       "<div>\n",
       "<style scoped>\n",
       "    .dataframe tbody tr th:only-of-type {\n",
       "        vertical-align: middle;\n",
       "    }\n",
       "\n",
       "    .dataframe tbody tr th {\n",
       "        vertical-align: top;\n",
       "    }\n",
       "\n",
       "    .dataframe thead th {\n",
       "        text-align: right;\n",
       "    }\n",
       "</style>\n",
       "<table border=\"1\" class=\"dataframe\">\n",
       "  <thead>\n",
       "    <tr style=\"text-align: right;\">\n",
       "      <th></th>\n",
       "      <th>CHROM</th>\n",
       "      <th>POS</th>\n",
       "      <th>ID</th>\n",
       "      <th>REF</th>\n",
       "      <th>ALT</th>\n",
       "      <th>FILTER</th>\n",
       "      <th>QUAL</th>\n",
       "      <th>INFO</th>\n",
       "    </tr>\n",
       "  </thead>\n",
       "  <tbody>\n",
       "    <tr>\n",
       "      <th>0</th>\n",
       "      <td>1</td>\n",
       "      <td>1014O42</td>\n",
       "      <td>475283</td>\n",
       "      <td>G</td>\n",
       "      <td>A</td>\n",
       "      <td>.</td>\n",
       "      <td>.</td>\n",
       "      <td>AF_ESP=0.00546;AF_EXAC=0.00165;AF_TGP=0.00619;...</td>\n",
       "    </tr>\n",
       "    <tr>\n",
       "      <th>1</th>\n",
       "      <td>1</td>\n",
       "      <td>1O14122</td>\n",
       "      <td>542074</td>\n",
       "      <td>C</td>\n",
       "      <td>T</td>\n",
       "      <td>.</td>\n",
       "      <td>.</td>\n",
       "      <td>AF_ESP=0.00015;AF_EXAC=0.00010;ALLELEID=514926...</td>\n",
       "    </tr>\n",
       "    <tr>\n",
       "      <th>2</th>\n",
       "      <td>1</td>\n",
       "      <td>1014143</td>\n",
       "      <td>183381</td>\n",
       "      <td>C</td>\n",
       "      <td>T</td>\n",
       "      <td>.</td>\n",
       "      <td>.</td>\n",
       "      <td>ALLELEID=181485;CLNDISDB=MedGen:C4015293,OMIM:...</td>\n",
       "    </tr>\n",
       "    <tr>\n",
       "      <th>3</th>\n",
       "      <td>1</td>\n",
       "      <td>1014179</td>\n",
       "      <td>542075</td>\n",
       "      <td>C</td>\n",
       "      <td>T</td>\n",
       "      <td>.</td>\n",
       "      <td>.</td>\n",
       "      <td>ALLELEID=514896;CLNDISDB=MedGen:C4015293,OMIM:...</td>\n",
       "    </tr>\n",
       "    <tr>\n",
       "      <th>4</th>\n",
       "      <td>1</td>\n",
       "      <td>1014217</td>\n",
       "      <td>475278</td>\n",
       "      <td>C</td>\n",
       "      <td>T</td>\n",
       "      <td>.</td>\n",
       "      <td>.</td>\n",
       "      <td>AF_ESP=0.00515;AF_EXAC=0.00831;AF_TGP=0.00339;...</td>\n",
       "    </tr>\n",
       "  </tbody>\n",
       "</table>\n",
       "</div>"
      ],
      "text/plain": [
       "   CHROM      POS      ID REF ALT FILTER QUAL  \\\n",
       "0      1  1014O42  475283   G   A      .    .   \n",
       "1      1  1O14122  542074   C   T      .    .   \n",
       "2      1  1014143  183381   C   T      .    .   \n",
       "3      1  1014179  542075   C   T      .    .   \n",
       "4      1  1014217  475278   C   T      .    .   \n",
       "\n",
       "                                                INFO  \n",
       "0  AF_ESP=0.00546;AF_EXAC=0.00165;AF_TGP=0.00619;...  \n",
       "1  AF_ESP=0.00015;AF_EXAC=0.00010;ALLELEID=514926...  \n",
       "2  ALLELEID=181485;CLNDISDB=MedGen:C4015293,OMIM:...  \n",
       "3  ALLELEID=514896;CLNDISDB=MedGen:C4015293,OMIM:...  \n",
       "4  AF_ESP=0.00515;AF_EXAC=0.00831;AF_TGP=0.00339;...  "
      ]
     },
     "execution_count": 22,
     "metadata": {},
     "output_type": "execute_result"
    }
   ],
   "source": [
    "df.head(5)"
   ]
  },
  {
   "cell_type": "code",
   "execution_count": 23,
   "metadata": {},
   "outputs": [
    {
     "name": "stdout",
     "output_type": "stream",
     "text": [
      "<class 'pandas.core.frame.DataFrame'>\n",
      "RangeIndex: 102321 entries, 0 to 102320\n",
      "Data columns (total 8 columns):\n",
      " #   Column  Non-Null Count   Dtype \n",
      "---  ------  --------------   ----- \n",
      " 0   CHROM   102321 non-null  int64 \n",
      " 1   POS     102321 non-null  object\n",
      " 2   ID      102321 non-null  int64 \n",
      " 3   REF     102321 non-null  object\n",
      " 4   ALT     102321 non-null  object\n",
      " 5   FILTER  102321 non-null  object\n",
      " 6   QUAL    102321 non-null  object\n",
      " 7   INFO    102321 non-null  object\n",
      "dtypes: int64(2), object(6)\n",
      "memory usage: 6.2+ MB\n"
     ]
    }
   ],
   "source": [
    "df.info()"
   ]
  },
  {
   "cell_type": "code",
   "execution_count": 27,
   "metadata": {},
   "outputs": [
    {
     "data": {
      "text/plain": [
       "array(['1014O42', '1O14122', '1014143', ..., '179210515', '179210516',\n",
       "       '179210538'], dtype=object)"
      ]
     },
     "execution_count": 27,
     "metadata": {},
     "output_type": "execute_result"
    }
   ],
   "source": [
    "df['POS'].unique()"
   ]
  },
  {
   "cell_type": "code",
   "execution_count": 32,
   "metadata": {},
   "outputs": [],
   "source": [
    "pd.set_option(\"display.max_rows\", None)"
   ]
  },
  {
   "cell_type": "code",
   "execution_count": 34,
   "metadata": {},
   "outputs": [
    {
     "data": {
      "text/plain": [
       "178572986    1\n",
       "81705620     1\n",
       "239134438    1\n",
       "119415387    1\n",
       "39056718     1\n",
       "216198366    1\n",
       "73424847     1\n",
       "74368830     1\n",
       "120989380    1\n",
       "42930724     2\n",
       "27322487     1\n",
       "166045072    1\n",
       "237380912    1\n",
       "37025874     1\n",
       "73600746     1\n",
       "3405543      1\n",
       "202565727    1\n",
       "219055644    1\n",
       "165314010    1\n",
       "43404420     1\n",
       "189064580    2\n",
       "62489068     1\n",
       "178558419    1\n",
       "2306689      1\n",
       "102888543    1\n",
       "13875181     1\n",
       "121530919    1\n",
       "47806640     1\n",
       "178565431    1\n",
       "149207611    1\n",
       "38550890     1\n",
       "45331761     1\n",
       "21007058     1\n",
       "61031834     1\n",
       "141559949    1\n",
       "127654492    1\n",
       "178575154    1\n",
       "188991049    1\n",
       "52407375     1\n",
       "63492941     1\n",
       "147908442    1\n",
       "10142006     1\n",
       "3425566      1\n",
       "237454544    1\n",
       "218263064    1\n",
       "37025884     1\n",
       "71570214     1\n",
       "188990317    2\n",
       "193249726    1\n",
       "168968486    1\n",
       "162276924    1\n",
       "186119831    1\n",
       "197442274    1\n",
       "26773661     1\n",
       "68446845     1\n",
       "158691473    1\n",
       "44832154     1\n",
       "45508329     1\n",
       "96254056     1\n",
       "12609236     1\n",
       "219418935    1\n",
       "233767922    1\n",
       "178559608    1\n",
       "189004248    1\n",
       "197124103    1\n",
       "25300227     1\n",
       "201077934    1\n",
       "161362517    1\n",
       "211478446    1\n",
       "23810809     1\n",
       "208356395    1\n",
       "133764879    1\n",
       "53210413     1\n",
       "71520769     1\n",
       "178565119    1\n",
       "38586012     1\n",
       "162333056    1\n",
       "12664121     1\n",
       "61031467     1\n",
       "178748451    1\n",
       "201075508    1\n",
       "215900129    1\n",
       "6471554      1\n",
       "47806493     3\n",
       "201065936    1\n",
       "46189458     1\n",
       "11791274     1\n",
       "86215520     1\n",
       "160375890    1\n",
       "165992305    1\n",
       "178733470    1\n",
       "238848408    1\n",
       "169520549    1\n",
       "31337745     1\n",
       "38550409     1\n",
       "69374078     1\n",
       "47378971     1\n",
       "220171939    1\n",
       "197084179    1\n",
       "178734959    1\n",
       "Name: POS, dtype: int64"
      ]
     },
     "execution_count": 34,
     "metadata": {},
     "output_type": "execute_result"
    }
   ],
   "source": [
    "df['POS'].value_counts().sample(100)"
   ]
  },
  {
   "cell_type": "code",
   "execution_count": 20,
   "metadata": {},
   "outputs": [],
   "source": [
    "# Convert object to string\n",
    "\n",
    "df['CHROM'] = df['CHROM'].astype('str') "
   ]
  },
  {
   "cell_type": "code",
   "execution_count": 18,
   "metadata": {},
   "outputs": [],
   "source": [
    "# df['CHROM2'] = df['CHROM'].astype('str') "
   ]
  },
  {
   "cell_type": "code",
   "execution_count": 19,
   "metadata": {},
   "outputs": [
    {
     "name": "stdout",
     "output_type": "stream",
     "text": [
      "<class 'pandas.core.frame.DataFrame'>\n",
      "RangeIndex: 102321 entries, 0 to 102320\n",
      "Data columns (total 9 columns):\n",
      " #   Column  Non-Null Count   Dtype \n",
      "---  ------  --------------   ----- \n",
      " 0   CHROM   102321 non-null  object\n",
      " 1   POS     102321 non-null  object\n",
      " 2   ID      102321 non-null  int64 \n",
      " 3   REF     102321 non-null  object\n",
      " 4   ALT     102321 non-null  object\n",
      " 5   FILTER  102321 non-null  object\n",
      " 6   QUAL    102321 non-null  object\n",
      " 7   INFO    102321 non-null  object\n",
      " 8   CHROM2  102321 non-null  object\n",
      "dtypes: int64(1), object(8)\n",
      "memory usage: 7.0+ MB\n"
     ]
    }
   ],
   "source": [
    "df.info()"
   ]
  },
  {
   "cell_type": "code",
   "execution_count": 8,
   "metadata": {},
   "outputs": [
    {
     "data": {
      "text/html": [
       "<div>\n",
       "<style scoped>\n",
       "    .dataframe tbody tr th:only-of-type {\n",
       "        vertical-align: middle;\n",
       "    }\n",
       "\n",
       "    .dataframe tbody tr th {\n",
       "        vertical-align: top;\n",
       "    }\n",
       "\n",
       "    .dataframe thead th {\n",
       "        text-align: right;\n",
       "    }\n",
       "</style>\n",
       "<table border=\"1\" class=\"dataframe\">\n",
       "  <thead>\n",
       "    <tr style=\"text-align: right;\">\n",
       "      <th></th>\n",
       "      <th>CHROM</th>\n",
       "      <th>ID</th>\n",
       "    </tr>\n",
       "  </thead>\n",
       "  <tbody>\n",
       "    <tr>\n",
       "      <th>count</th>\n",
       "      <td>102,321.00</td>\n",
       "      <td>102,321.00</td>\n",
       "    </tr>\n",
       "    <tr>\n",
       "      <th>mean</th>\n",
       "      <td>1.88</td>\n",
       "      <td>340,282.99</td>\n",
       "    </tr>\n",
       "    <tr>\n",
       "      <th>std</th>\n",
       "      <td>0.71</td>\n",
       "      <td>163,372.00</td>\n",
       "    </tr>\n",
       "    <tr>\n",
       "      <th>min</th>\n",
       "      <td>1.00</td>\n",
       "      <td>20.00</td>\n",
       "    </tr>\n",
       "    <tr>\n",
       "      <th>25%</th>\n",
       "      <td>1.00</td>\n",
       "      <td>216,958.00</td>\n",
       "    </tr>\n",
       "    <tr>\n",
       "      <th>50%</th>\n",
       "      <td>2.00</td>\n",
       "      <td>342,510.00</td>\n",
       "    </tr>\n",
       "    <tr>\n",
       "      <th>75%</th>\n",
       "      <td>2.00</td>\n",
       "      <td>479,701.00</td>\n",
       "    </tr>\n",
       "    <tr>\n",
       "      <th>max</th>\n",
       "      <td>3.00</td>\n",
       "      <td>620,635.00</td>\n",
       "    </tr>\n",
       "  </tbody>\n",
       "</table>\n",
       "</div>"
      ],
      "text/plain": [
       "           CHROM         ID\n",
       "count 102,321.00 102,321.00\n",
       "mean        1.88 340,282.99\n",
       "std         0.71 163,372.00\n",
       "min         1.00      20.00\n",
       "25%         1.00 216,958.00\n",
       "50%         2.00 342,510.00\n",
       "75%         2.00 479,701.00\n",
       "max         3.00 620,635.00"
      ]
     },
     "execution_count": 8,
     "metadata": {},
     "output_type": "execute_result"
    }
   ],
   "source": [
    "data.describe()"
   ]
  },
  {
   "cell_type": "code",
   "execution_count": 11,
   "metadata": {},
   "outputs": [
    {
     "data": {
      "text/plain": [
       "0    1014O42\n",
       "1    1O14122\n",
       "2    1014143\n",
       "3    1014179\n",
       "4    1014217\n",
       "Name: POS, dtype: object"
      ]
     },
     "execution_count": 11,
     "metadata": {},
     "output_type": "execute_result"
    }
   ],
   "source": [
    "data['POS'].head()"
   ]
  },
  {
   "cell_type": "code",
   "execution_count": 12,
   "metadata": {},
   "outputs": [
    {
     "ename": "AttributeError",
     "evalue": "'Series' object has no attribute 'unique_values'",
     "output_type": "error",
     "traceback": [
      "\u001b[0;31m---------------------------------------------------------------------------\u001b[0m",
      "\u001b[0;31mAttributeError\u001b[0m                            Traceback (most recent call last)",
      "\u001b[0;32m/var/folders/xj/j51mz36s00z2vnfq7wp23hxm0000gn/T/ipykernel_33121/3481042486.py\u001b[0m in \u001b[0;36m<module>\u001b[0;34m\u001b[0m\n\u001b[0;32m----> 1\u001b[0;31m \u001b[0mdata\u001b[0m\u001b[0;34m[\u001b[0m\u001b[0;34m'CHROM'\u001b[0m\u001b[0;34m]\u001b[0m\u001b[0;34m.\u001b[0m\u001b[0munique_values\u001b[0m\u001b[0;34m(\u001b[0m\u001b[0;34m)\u001b[0m\u001b[0;34m\u001b[0m\u001b[0;34m\u001b[0m\u001b[0m\n\u001b[0m",
      "\u001b[0;32m~/opt/anaconda3/lib/python3.9/site-packages/pandas/core/generic.py\u001b[0m in \u001b[0;36m__getattr__\u001b[0;34m(self, name)\u001b[0m\n\u001b[1;32m   5573\u001b[0m         ):\n\u001b[1;32m   5574\u001b[0m             \u001b[0;32mreturn\u001b[0m \u001b[0mself\u001b[0m\u001b[0;34m[\u001b[0m\u001b[0mname\u001b[0m\u001b[0;34m]\u001b[0m\u001b[0;34m\u001b[0m\u001b[0;34m\u001b[0m\u001b[0m\n\u001b[0;32m-> 5575\u001b[0;31m         \u001b[0;32mreturn\u001b[0m \u001b[0mobject\u001b[0m\u001b[0;34m.\u001b[0m\u001b[0m__getattribute__\u001b[0m\u001b[0;34m(\u001b[0m\u001b[0mself\u001b[0m\u001b[0;34m,\u001b[0m \u001b[0mname\u001b[0m\u001b[0;34m)\u001b[0m\u001b[0;34m\u001b[0m\u001b[0;34m\u001b[0m\u001b[0m\n\u001b[0m\u001b[1;32m   5576\u001b[0m \u001b[0;34m\u001b[0m\u001b[0m\n\u001b[1;32m   5577\u001b[0m     \u001b[0;32mdef\u001b[0m \u001b[0m__setattr__\u001b[0m\u001b[0;34m(\u001b[0m\u001b[0mself\u001b[0m\u001b[0;34m,\u001b[0m \u001b[0mname\u001b[0m\u001b[0;34m:\u001b[0m \u001b[0mstr\u001b[0m\u001b[0;34m,\u001b[0m \u001b[0mvalue\u001b[0m\u001b[0;34m)\u001b[0m \u001b[0;34m->\u001b[0m \u001b[0;32mNone\u001b[0m\u001b[0;34m:\u001b[0m\u001b[0;34m\u001b[0m\u001b[0;34m\u001b[0m\u001b[0m\n",
      "\u001b[0;31mAttributeError\u001b[0m: 'Series' object has no attribute 'unique_values'"
     ]
    }
   ],
   "source": [
    "data['CHROM'].unique_values()"
   ]
  },
  {
   "cell_type": "code",
   "execution_count": null,
   "metadata": {},
   "outputs": [],
   "source": []
  }
 ],
 "metadata": {
  "colab": {
   "provenance": []
  },
  "kernelspec": {
   "display_name": "Python 3 (ipykernel)",
   "language": "python",
   "name": "python3"
  },
  "language_info": {
   "codemirror_mode": {
    "name": "ipython",
    "version": 3
   },
   "file_extension": ".py",
   "mimetype": "text/x-python",
   "name": "python",
   "nbconvert_exporter": "python",
   "pygments_lexer": "ipython3",
   "version": "3.9.13"
  }
 },
 "nbformat": 4,
 "nbformat_minor": 4
}
