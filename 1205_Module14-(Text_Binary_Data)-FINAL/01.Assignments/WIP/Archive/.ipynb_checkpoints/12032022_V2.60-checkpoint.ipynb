{
 "cells": [
  {
   "cell_type": "code",
   "execution_count": 1,
   "metadata": {},
   "outputs": [
    {
     "name": "stdout",
     "output_type": "stream",
     "text": [
      "3.9.13 (main, Aug 25 2022, 18:29:29) \n",
      "[Clang 12.0.0 ]\n",
      "1.4.4\n",
      "1.21.5\n"
     ]
    }
   ],
   "source": [
    "import numpy as np\n",
    "import pandas as pd\n",
    "import matplotlib.pyplot as plt\n",
    "import sys\n",
    "import seaborn as sns\n",
    "\n",
    "pd.options.display.float_format = '{:,.2f}'.format\n",
    "%matplotlib inline\n",
    "\n",
    "print(sys.version)\n",
    "print(pd.__version__)\n",
    "print(np.__version__)"
   ]
  },
  {
   "cell_type": "markdown",
   "metadata": {},
   "source": [
    "---"
   ]
  },
  {
   "cell_type": "markdown",
   "metadata": {
    "id": "Dxxzo-O4g7TU"
   },
   "source": [
    "## 1: Short Answer Questions (25 pts - each question = 5 pts)\n",
    "\n",
    "a) The following class ```Cart``` and method ```add_to_cart``` are parts of a larger program used by a mobile phone company.  The method ```add_to_cart``` will work when an object of type MobileDevice or of type ServiceContract is passed to it. State whether the method ```add_to_cart``` is a demonstration of the following items (yes/no) and the reasoning (1-2 sentences): \n",
    "\n",
    "    1. Inheritance\n",
    "    2. Polymorphism\n",
    "    3. Object-Oriented programming\n",
    "    4. Top-down design\n",
    "    5. Functional programming"
   ]
  },
  {
   "cell_type": "code",
   "execution_count": 2,
   "metadata": {
    "id": "okLhQLwfg7TV"
   },
   "outputs": [],
   "source": [
    "# Method:\n",
    "class Cart():\n",
    "    \n",
    "    def __init__(self):\n",
    "        self.cart = []\n",
    "        self.total = 0\n",
    "    \n",
    "    def add_to_cart(self, item):\n",
    "        self.cart.append(item)\n",
    "        self.total += item.price"
   ]
  },
  {
   "cell_type": "markdown",
   "metadata": {},
   "source": [
    "---"
   ]
  },
  {
   "cell_type": "markdown",
   "metadata": {
    "id": "syKK8Dj_g7Ta"
   },
   "source": [
    "- a) Your answer here\n",
    "\n",
    "\n",
    "1. Inheritance:\n",
    "    * No, this is just an example of an instance of the class MobileDevice or ServiceContract when created can be added to the add_to_cart.\n",
    "    * Inheritence are cases where subclasses can reuse the behavior from the parent class (ie inherited from)\n",
    "    \n",
    "2. Polymorphism:\n",
    "    * No, this isnt a case of polymorphism as well. Polymorphism is a case best explained with the Class (Animal) and subclasses Dog and Cat -- both inhering a common method (talk) but return different values. So, when called, Cat and Dog objects will return 2 different values (asuming they are meow and woof!). I see polymorphism (in the sense of classes) as a special case of inheritence.\n",
    "    \n",
    "\n",
    "3. Object-Oriented programming:\n",
    "    * Yes. For sure this is case of OOP because both MobileDevice and ServiceContract are classes from which specific instances are created. These objects have methods which allow them to interact with other classes (like, Cart for example) which is the textbook definition of OOP\n",
    "\n",
    "4. Top-down design:\n",
    "    * this could be a case of bottom-up design where the problem space (ie shopping mobile devices and signing a service contrat) is the problem space which has been broken down into 3 large component. A typical characteristic of bottom-up deisgn is wehre the pieces are well known and some experimentation is necessary to assemble them into the whole\n",
    "\n",
    "\n",
    "5. Functional programming:\n",
    "    * No, this is not an example of functional programming, which by definition passing functions as parameters to other functions. In the above example, we are passing objects to functions of other class-objects. Moreover, the fn programming also involves  writing code that does not change state (ie multiple function will yield the same result) which is not the case here as each object is unique and different from the other"
   ]
  },
  {
   "cell_type": "markdown",
   "metadata": {},
   "source": [
    "---"
   ]
  },
  {
   "cell_type": "markdown",
   "metadata": {
    "id": "JdTWk7xZg7Ta"
   },
   "source": [
    "b) Suppose you have a long list of digits (0-9) that you want to write to a file.  From a storage standpoint, would it be more efficient to use ASCII or UTF-8 as an encoding? What is the most efficient way to create an even smaller file to store the information?"
   ]
  },
  {
   "cell_type": "markdown",
   "metadata": {
    "id": "UDRs-eIxg7Tb"
   },
   "source": [
    "- b) Your answer here\n",
    "\n",
    "    * There is no difference between storing data in ASCII or UTF-8 as regards to this character range. \n",
    "    * If compression is a requirement, then one can consider BCD(4 bits per digit), 2-base binary values and Huffman compression"
   ]
  },
  {
   "cell_type": "markdown",
   "metadata": {
    "id": "RMIrgGNjg7Tc"
   },
   "source": [
    "c) How would you sanity-check your data? Why is it important to sanity-check your data before you begin your analysis? What could happen if you don't?"
   ]
  },
  {
   "cell_type": "markdown",
   "metadata": {
    "id": "errKkCYQg7Td"
   },
   "source": [
    "- c) Your answer here\n",
    "\n",
    "    * Sanity testing any dataset is important. Assuming the dataset is accessible with pandas, then I would recommend the following:\n",
    "    * head (to quickly look at the top few records)\n",
    "    * tail (to quickly look at the bottom few records)\n",
    "    * describe (this gives a birds-eye view of metrics like counts, mean, percentiles et). However, thsi works only for numerical data\n",
    "    * value_counts specifically for non-numerical data\n",
    "    * df.columns to get a list of columns\n",
    "    * df.info() ( general information about the object)\n",
    "    "
   ]
  },
  {
   "cell_type": "markdown",
   "metadata": {},
   "source": [
    "---"
   ]
  },
  {
   "cell_type": "markdown",
   "metadata": {
    "id": "pY3aAxV-g7Te"
   },
   "source": [
    "d) How do you determine which variables in your dataset you should check for issues prior to starting an analysis? "
   ]
  },
  {
   "cell_type": "markdown",
   "metadata": {
    "id": "doSOqeqog7Te"
   },
   "source": [
    "- d) Your answer here\n",
    "\n",
    "    * It begins with understanding what the dataset is being used for (ie what question is being answere). Followed by a review of the variables (ie columns) and dropping those that are not relevant.\n",
    "    * For the chosen variable, we identify NaN values, blank/missing values, erronous values etc by running basic commands like df.describe(), df.info() etc. \n",
    "    * Especially for numerical data, I would be interested in outlines depending on the mean, medium. max and std deviation - which I can get from df.info()\n",
    "    * I would also understand the relationship between variable and assess the impact of missing or outlier data. \n",
    "    * For example, our final project works with NBA season data (from 1946 till now). For reasons like those above, we eliminated a number of years of data (say, the past couple Covid years with skewed match data)"
   ]
  },
  {
   "cell_type": "markdown",
   "metadata": {},
   "source": [
    "---"
   ]
  },
  {
   "cell_type": "markdown",
   "metadata": {
    "id": "GQjhe5avg7Tf"
   },
   "source": [
    "e1) Explain why the following code prints what it does."
   ]
  },
  {
   "cell_type": "code",
   "execution_count": 3,
   "metadata": {
    "id": "j2cQqWirg7Tg"
   },
   "outputs": [
    {
     "name": "stdout",
     "output_type": "stream",
     "text": [
      "<class 'function'>\n"
     ]
    }
   ],
   "source": [
    "def g(): pass\n",
    "print(type(g))"
   ]
  },
  {
   "cell_type": "markdown",
   "metadata": {
    "id": "YOrDq07ag7Th"
   },
   "source": [
    "- e1) Your answer here\n",
    "\n",
    "    * This is of type function and as of Python 3, all built in types (like functions) are classes under the hood."
   ]
  },
  {
   "cell_type": "markdown",
   "metadata": {},
   "source": [
    "---"
   ]
  },
  {
   "cell_type": "markdown",
   "metadata": {
    "id": "MAs1nQZ_g7Th"
   },
   "source": [
    "e2) Explain why the following code prints something different."
   ]
  },
  {
   "cell_type": "code",
   "execution_count": 4,
   "metadata": {
    "id": "1b49c_4Ag7Ti"
   },
   "outputs": [
    {
     "name": "stdout",
     "output_type": "stream",
     "text": [
      "<class 'NoneType'>\n"
     ]
    }
   ],
   "source": [
    "def g(): pass\n",
    "print(type(g()))"
   ]
  },
  {
   "cell_type": "markdown",
   "metadata": {
    "id": "9jBjkguyg7Tj"
   },
   "source": [
    "- e2) Your answer here\n",
    "\n",
    "    * this is because the function g does not return anything when executed\n",
    "    * the difference between this question and one above, is that here we are executing the function with g() which returns no value, ie NoneType"
   ]
  },
  {
   "cell_type": "markdown",
   "metadata": {},
   "source": [
    "---"
   ]
  },
  {
   "cell_type": "markdown",
   "metadata": {
    "id": "jtHAe_5Pg7Tj"
   },
   "source": [
    "## 2:  General Coding Questions (15 pts - each question 5 pts)"
   ]
  },
  {
   "cell_type": "markdown",
   "metadata": {},
   "source": [
    "---"
   ]
  },
  {
   "cell_type": "markdown",
   "metadata": {
    "id": "2EAQnoKwg7Tj"
   },
   "source": [
    "a) Using a dictionary comprehension, make a dictionary with the keys being the lowercase vowels (aeiou) and the values being the number of vowels in the example_text (case insensitive). Fill in a dictionary comprehension below so that we get this desired output.\n",
    "\n",
    "```\n",
    "example_text = 'Outlook is bright!'\n",
    "```\n",
    "\n",
    "expected output:\n",
    "```\n",
    "{'i': 2, 'o': 3, 'u': 1}\n",
    "\n",
    "or\n",
    "\n",
    "{'a': 0, 'e': 0, 'i': 2, 'o': 3, 'u': 1}\n",
    "```"
   ]
  },
  {
   "cell_type": "code",
   "execution_count": 5,
   "metadata": {
    "id": "yT_f_hhgg7Tk"
   },
   "outputs": [
    {
     "data": {
      "text/plain": [
       "{'a': 0, 'e': 1, 'i': 3, 'o': 3, 'u': 0}"
      ]
     },
     "execution_count": 5,
     "metadata": {},
     "output_type": "execute_result"
    }
   ],
   "source": [
    "example_text = \"I love coding in python!\"\n",
    "#example_text = 'Outlook is bright!'\n",
    "\n",
    "# 2a) Your code here\n",
    "\n",
    "{x: example_text.lower().count(x) for x in 'aeiou'}"
   ]
  },
  {
   "cell_type": "markdown",
   "metadata": {},
   "source": [
    "---"
   ]
  },
  {
   "cell_type": "markdown",
   "metadata": {
    "id": "j5v3mwmVg7Tk"
   },
   "source": [
    "b) Below is a data frame of customers that have different cooling systems. Your data science team lead wants the column ```cooling_system``` to be labeled with the integer numbers 1-4 instead of the text as shown below:\n",
    "\n",
    "- 1 = Air Conditioning / Air Con / AC\n",
    "- 2 = Heat Pump / HP\n",
    "- 3 = Evaporative Cooler / EvapCooler / EC\n",
    "- 4 = Fan\n",
    "\n",
    "Make a new column called ```cooling_type``` that maps the text values to the new numeric values. Filter out / remove rows with the values that are not included in the mapping above. Print out/display this new data frame. Be sure to list any assumptions also!"
   ]
  },
  {
   "cell_type": "code",
   "execution_count": 6,
   "metadata": {
    "id": "61EFcCtbg7Tl"
   },
   "outputs": [
    {
     "data": {
      "text/html": [
       "<div>\n",
       "<style scoped>\n",
       "    .dataframe tbody tr th:only-of-type {\n",
       "        vertical-align: middle;\n",
       "    }\n",
       "\n",
       "    .dataframe tbody tr th {\n",
       "        vertical-align: top;\n",
       "    }\n",
       "\n",
       "    .dataframe thead th {\n",
       "        text-align: right;\n",
       "    }\n",
       "</style>\n",
       "<table border=\"1\" class=\"dataframe\">\n",
       "  <thead>\n",
       "    <tr style=\"text-align: right;\">\n",
       "      <th></th>\n",
       "      <th>Cust_Number</th>\n",
       "      <th>Cooling_System</th>\n",
       "    </tr>\n",
       "  </thead>\n",
       "  <tbody>\n",
       "    <tr>\n",
       "      <th>0</th>\n",
       "      <td>101</td>\n",
       "      <td>AC</td>\n",
       "    </tr>\n",
       "    <tr>\n",
       "      <th>1</th>\n",
       "      <td>102</td>\n",
       "      <td>Heat Pump</td>\n",
       "    </tr>\n",
       "    <tr>\n",
       "      <th>2</th>\n",
       "      <td>103</td>\n",
       "      <td>Air Con</td>\n",
       "    </tr>\n",
       "    <tr>\n",
       "      <th>3</th>\n",
       "      <td>104</td>\n",
       "      <td>Air Conditioning</td>\n",
       "    </tr>\n",
       "    <tr>\n",
       "      <th>4</th>\n",
       "      <td>105</td>\n",
       "      <td>Fan</td>\n",
       "    </tr>\n",
       "    <tr>\n",
       "      <th>5</th>\n",
       "      <td>106</td>\n",
       "      <td>None</td>\n",
       "    </tr>\n",
       "    <tr>\n",
       "      <th>6</th>\n",
       "      <td>107</td>\n",
       "      <td>EvapCooler</td>\n",
       "    </tr>\n",
       "    <tr>\n",
       "      <th>7</th>\n",
       "      <td>108</td>\n",
       "      <td>None</td>\n",
       "    </tr>\n",
       "    <tr>\n",
       "      <th>8</th>\n",
       "      <td>109</td>\n",
       "      <td>EC</td>\n",
       "    </tr>\n",
       "    <tr>\n",
       "      <th>9</th>\n",
       "      <td>110</td>\n",
       "      <td>Evaporative Cooler</td>\n",
       "    </tr>\n",
       "    <tr>\n",
       "      <th>10</th>\n",
       "      <td>111</td>\n",
       "      <td>geothermal</td>\n",
       "    </tr>\n",
       "    <tr>\n",
       "      <th>11</th>\n",
       "      <td>112</td>\n",
       "      <td>8</td>\n",
       "    </tr>\n",
       "    <tr>\n",
       "      <th>12</th>\n",
       "      <td>113</td>\n",
       "      <td>Air Con</td>\n",
       "    </tr>\n",
       "  </tbody>\n",
       "</table>\n",
       "</div>"
      ],
      "text/plain": [
       "    Cust_Number      Cooling_System\n",
       "0           101                  AC\n",
       "1           102           Heat Pump\n",
       "2           103             Air Con\n",
       "3           104    Air Conditioning\n",
       "4           105                 Fan\n",
       "5           106                None\n",
       "6           107          EvapCooler\n",
       "7           108                None\n",
       "8           109                  EC\n",
       "9           110  Evaporative Cooler\n",
       "10          111          geothermal\n",
       "11          112                   8\n",
       "12          113             Air Con"
      ]
     },
     "execution_count": 6,
     "metadata": {},
     "output_type": "execute_result"
    }
   ],
   "source": [
    "import pandas\n",
    "\n",
    "# creating a data frame from scratch - list of lists\n",
    "\n",
    "data = [ \n",
    "         [101, 'AC'], \n",
    "         [102, 'Heat Pump'], \n",
    "         [103, 'Air Con'], \n",
    "         [104, 'Air Conditioning'],\n",
    "         [105, 'Fan'],\n",
    "         [106, 'None'],\n",
    "         [107, 'EvapCooler'],\n",
    "         [108, None],\n",
    "         [109, 'EC'],\n",
    "         [110, 'Evaporative Cooler'],\n",
    "         [111, 'geothermal'],\n",
    "         [112, 8],\n",
    "         [113, 'Air Con']\n",
    "       ]\n",
    "\n",
    "# create a data frame with column names - list of lists\n",
    "\n",
    "col_names = ['Cust_Number', 'Cooling_System']\n",
    "df = pandas.DataFrame(data, columns=col_names)\n",
    "df"
   ]
  },
  {
   "cell_type": "code",
   "execution_count": 7,
   "metadata": {},
   "outputs": [
    {
     "data": {
      "text/html": [
       "<div>\n",
       "<style scoped>\n",
       "    .dataframe tbody tr th:only-of-type {\n",
       "        vertical-align: middle;\n",
       "    }\n",
       "\n",
       "    .dataframe tbody tr th {\n",
       "        vertical-align: top;\n",
       "    }\n",
       "\n",
       "    .dataframe thead th {\n",
       "        text-align: right;\n",
       "    }\n",
       "</style>\n",
       "<table border=\"1\" class=\"dataframe\">\n",
       "  <thead>\n",
       "    <tr style=\"text-align: right;\">\n",
       "      <th></th>\n",
       "      <th>Cust_Number</th>\n",
       "      <th>Cooling_System</th>\n",
       "      <th>Cooling_type</th>\n",
       "    </tr>\n",
       "  </thead>\n",
       "  <tbody>\n",
       "    <tr>\n",
       "      <th>0</th>\n",
       "      <td>101</td>\n",
       "      <td>AC</td>\n",
       "      <td>1</td>\n",
       "    </tr>\n",
       "    <tr>\n",
       "      <th>1</th>\n",
       "      <td>102</td>\n",
       "      <td>Heat Pump</td>\n",
       "      <td>2</td>\n",
       "    </tr>\n",
       "    <tr>\n",
       "      <th>2</th>\n",
       "      <td>103</td>\n",
       "      <td>Air Con</td>\n",
       "      <td>1</td>\n",
       "    </tr>\n",
       "    <tr>\n",
       "      <th>3</th>\n",
       "      <td>104</td>\n",
       "      <td>Air Conditioning</td>\n",
       "      <td>1</td>\n",
       "    </tr>\n",
       "    <tr>\n",
       "      <th>4</th>\n",
       "      <td>105</td>\n",
       "      <td>Fan</td>\n",
       "      <td>4</td>\n",
       "    </tr>\n",
       "    <tr>\n",
       "      <th>6</th>\n",
       "      <td>107</td>\n",
       "      <td>EvapCooler</td>\n",
       "      <td>3</td>\n",
       "    </tr>\n",
       "    <tr>\n",
       "      <th>8</th>\n",
       "      <td>109</td>\n",
       "      <td>EC</td>\n",
       "      <td>3</td>\n",
       "    </tr>\n",
       "    <tr>\n",
       "      <th>9</th>\n",
       "      <td>110</td>\n",
       "      <td>Evaporative Cooler</td>\n",
       "      <td>3</td>\n",
       "    </tr>\n",
       "    <tr>\n",
       "      <th>12</th>\n",
       "      <td>113</td>\n",
       "      <td>Air Con</td>\n",
       "      <td>1</td>\n",
       "    </tr>\n",
       "  </tbody>\n",
       "</table>\n",
       "</div>"
      ],
      "text/plain": [
       "    Cust_Number      Cooling_System  Cooling_type\n",
       "0           101                  AC             1\n",
       "1           102           Heat Pump             2\n",
       "2           103             Air Con             1\n",
       "3           104    Air Conditioning             1\n",
       "4           105                 Fan             4\n",
       "6           107          EvapCooler             3\n",
       "8           109                  EC             3\n",
       "9           110  Evaporative Cooler             3\n",
       "12          113             Air Con             1"
      ]
     },
     "execution_count": 7,
     "metadata": {},
     "output_type": "execute_result"
    }
   ],
   "source": [
    "# DEFINE MAPPING\n",
    "mapping = {'Air Conditioning': 1, 'Air Con' : 1, 'AC' : 1, 'Heat Pump': 2, 'HP':2, 'Evaporative Cooler': 3, \\\n",
    "           'EvapCooler':3, 'EC': 3, 'Fan': 4}\n",
    "\n",
    "# CREATE NEW COLUMN\n",
    "df['Cooling_type'] = df['Cooling_System'].map(mapping).fillna(0).astype(int)\n",
    "#df\n",
    "#----------- going with a function - solution --------\n",
    "\n",
    "# FILTER VALUES (I know this is not elegant, like say df = df[df.Cooling_type !=0] ), but I would prefer to use a function\n",
    "values = list(mapping.values())\n",
    "\n",
    "# DEFINE A FUNCTION\n",
    "def filter_rows_by_values(df, col, values):\n",
    "    return df[df[col].isin(values)]\n",
    "\n",
    "# APPLY THE FUNCTION\n",
    "filter_rows_by_values(df, 'Cooling_type', values)\n",
    "\n",
    "# ASSUMPTION\n",
    "# There are outlier values in teh Cooling System, particularly 8. I have removed all values not in the dictionary"
   ]
  },
  {
   "cell_type": "markdown",
   "metadata": {},
   "source": [
    "---"
   ]
  },
  {
   "cell_type": "markdown",
   "metadata": {
    "id": "LzguKp3Rg7Tm"
   },
   "source": [
    "c) From the dataframe below, use groupby in Pandas to show how many total delegates were obtained grouped by state. Print this out."
   ]
  },
  {
   "cell_type": "code",
   "execution_count": 8,
   "metadata": {
    "id": "SBKSw6hsg7Tm"
   },
   "outputs": [
    {
     "data": {
      "text/html": [
       "<div>\n",
       "<style scoped>\n",
       "    .dataframe tbody tr th:only-of-type {\n",
       "        vertical-align: middle;\n",
       "    }\n",
       "\n",
       "    .dataframe tbody tr th {\n",
       "        vertical-align: top;\n",
       "    }\n",
       "\n",
       "    .dataframe thead th {\n",
       "        text-align: right;\n",
       "    }\n",
       "</style>\n",
       "<table border=\"1\" class=\"dataframe\">\n",
       "  <thead>\n",
       "    <tr style=\"text-align: right;\">\n",
       "      <th></th>\n",
       "      <th>name</th>\n",
       "      <th>delegates</th>\n",
       "      <th>color</th>\n",
       "      <th>state</th>\n",
       "    </tr>\n",
       "  </thead>\n",
       "  <tbody>\n",
       "    <tr>\n",
       "      <th>0</th>\n",
       "      <td>marco</td>\n",
       "      <td>165</td>\n",
       "      <td>blue</td>\n",
       "      <td>FL</td>\n",
       "    </tr>\n",
       "    <tr>\n",
       "      <th>1</th>\n",
       "      <td>jeb</td>\n",
       "      <td>35</td>\n",
       "      <td>red</td>\n",
       "      <td>FL</td>\n",
       "    </tr>\n",
       "    <tr>\n",
       "      <th>2</th>\n",
       "      <td>chris</td>\n",
       "      <td>0</td>\n",
       "      <td>white</td>\n",
       "      <td>NY</td>\n",
       "    </tr>\n",
       "    <tr>\n",
       "      <th>3</th>\n",
       "      <td>donald</td>\n",
       "      <td>1543</td>\n",
       "      <td>white</td>\n",
       "      <td>NY</td>\n",
       "    </tr>\n",
       "    <tr>\n",
       "      <th>4</th>\n",
       "      <td>ted</td>\n",
       "      <td>559</td>\n",
       "      <td>blue</td>\n",
       "      <td>NY</td>\n",
       "    </tr>\n",
       "    <tr>\n",
       "      <th>5</th>\n",
       "      <td>john</td>\n",
       "      <td>161</td>\n",
       "      <td>red</td>\n",
       "      <td>OH</td>\n",
       "    </tr>\n",
       "  </tbody>\n",
       "</table>\n",
       "</div>"
      ],
      "text/plain": [
       "     name  delegates  color state\n",
       "0   marco        165   blue    FL\n",
       "1     jeb         35    red    FL\n",
       "2   chris          0  white    NY\n",
       "3  donald       1543  white    NY\n",
       "4     ted        559   blue    NY\n",
       "5    john        161    red    OH"
      ]
     },
     "execution_count": 8,
     "metadata": {},
     "output_type": "execute_result"
    }
   ],
   "source": [
    "import pandas\n",
    "\n",
    "# creating a data frame from scratch - list of lists\n",
    "\n",
    "data = [ ['marco', 165, 'blue', 'FL'], \n",
    "         ['jeb', 35, 'red', 'FL'], \n",
    "         ['chris', 0, 'white', 'NY'], \n",
    "         ['donald', 1543, 'white', 'NY'],\n",
    "         ['ted', 559, 'blue', 'NY'],\n",
    "         ['john', 161, 'red', 'OH']\n",
    "       ]\n",
    "\n",
    "# create a data frame with column names - list of lists\n",
    "\n",
    "col_names = ['name', 'delegates', 'color', 'state']\n",
    "df = pandas.DataFrame(data, columns=col_names)\n",
    "df"
   ]
  },
  {
   "cell_type": "code",
   "execution_count": 9,
   "metadata": {
    "id": "KNNZmJGUg7To"
   },
   "outputs": [
    {
     "name": "stdout",
     "output_type": "stream",
     "text": [
      "state\n",
      "FL     200\n",
      "NY    2102\n",
      "OH     161\n",
      "Name: delegates, dtype: int64\n"
     ]
    }
   ],
   "source": [
    "# 2c) Your code here\n",
    "\n",
    "# df.delegates.groupby(df['state']).sum()\n",
    "\n",
    "print(df.delegates.groupby(df['state']).sum())"
   ]
  },
  {
   "cell_type": "markdown",
   "metadata": {},
   "source": [
    "----"
   ]
  },
  {
   "cell_type": "markdown",
   "metadata": {
    "id": "j0vXNb_Yg7Tp"
   },
   "source": [
    "## 3: Bitcoin coding problem (20 points):"
   ]
  },
  {
   "cell_type": "markdown",
   "metadata": {
    "id": "PWU5dtSEg7Tp"
   },
   "source": [
    "#### Bitcoin\n",
    "\n",
    "Consider a record of a one-time investment in bitcoin with value of that investment tracked monthly, provided as an (ordered) tuple of dictionaries, where each dictionary comprises one key for the month and corresponding one value for the value of the investment as of that date. (For example 31 Jan 2018 was $1200 as shown in `data` below).\n",
    "\n",
    "The initial investment is made on 1 Jan 2018 and was for $1000 (labelled 'Initial' in the `data` below).\n",
    "\n",
    "Fill in the Python function (named `bitcoin_invest` below) to take such a record of any length (the below `data` is only a sample but the full data will be in the same format), and return a dataframe comprising a row for each month with columns for date, balance, and return. **Print out/display this dataframe.**\n",
    "\n",
    "Also, visualize the record as two vertically arranged plots (there are a few ways to do this, keep it consistent over both plots). \n",
    "- The top plot should show a line plot of balance vs. month \n",
    "- The bottom plot should show a bar plot of return vs. month, with a black horizontal line at return=0, and bars color-coded such that positive returns are green and negative returns are red.  \n",
    "- The two plots' horizontal axes should align. Demonstrate that your code works by applying it to `data`.\n",
    "\n",
    "Some definitions: <br>\n",
    "- The gain for each period is the end balance minus the start balance. \n",
    "- The growth factor for each period is the end balance divided by the start balance.  \n",
    "- The return for each period is the growth factor minus 1."
   ]
  },
  {
   "cell_type": "code",
   "execution_count": 10,
   "metadata": {
    "id": "nNyReUHXg7Tp"
   },
   "outputs": [
    {
     "data": {
      "text/plain": [
       "({'Initial': 1000},\n",
       " {'Jan 2018': 1200},\n",
       " {'Feb 2018': 1400},\n",
       " {'Mar 2018': 700},\n",
       " {'Apr 2018': 800},\n",
       " {'May 2018': 500})"
      ]
     },
     "execution_count": 10,
     "metadata": {},
     "output_type": "execute_result"
    }
   ],
   "source": [
    "data = ({\"Initial\": 1000}, {\"Jan 2018\":1200},{\"Feb 2018\":1400},{\"Mar 2018\":700},{\"Apr 2018\":800},{\"May 2018\":500})\n",
    "data"
   ]
  },
  {
   "cell_type": "code",
   "execution_count": 11,
   "metadata": {
    "id": "tqPVdbgkg7Tp"
   },
   "outputs": [],
   "source": [
    "# 3) Your code here\n",
    "\n",
    "def bitcoin_invest(monthly_data):\n",
    "    # add code here\n",
    "    pass"
   ]
  },
  {
   "cell_type": "markdown",
   "metadata": {},
   "source": [
    "# Current GOLD"
   ]
  },
  {
   "cell_type": "code",
   "execution_count": 25,
   "metadata": {},
   "outputs": [
    {
     "name": "stdout",
     "output_type": "stream",
     "text": [
      "          Balance  Return\n",
      "Month                    \n",
      "Initial  1,000.00    0.00\n",
      "Jan 2018 1,200.00    0.20\n",
      "Feb 2018 1,400.00    0.17\n",
      "Mar 2018   700.00   -0.50\n",
      "Apr 2018   800.00    0.14\n",
      "May 2018   500.00   -0.38\n"
     ]
    },
    {
     "data": {
      "image/png": "[encoded data removed]",
      "text/plain": [
       "<Figure size 1000x1000 with 2 Axes>"
      ]
     },
     "metadata": {},
     "output_type": "display_data"
    }
   ],
   "source": [
    "# Create Initial Dataframe\n",
    "df = pd.DataFrame(data).T\n",
    "df['Balance']= df.sum(axis=1)\n",
    "df = df.iloc[:, 6:]\n",
    "#df['Balance'] = df['Investment'].cumsum() --- took this out becausae of assumption of Investment v/s Balance\n",
    "\n",
    "# Calculate Gain\n",
    "df['Gain'] = df['Balance'].diff(1).fillna(0)\n",
    "\n",
    "# Calculate Growth\n",
    "df['Growth_Factor'] = df['Balance'] / df['Balance'].shift(1)\n",
    "\n",
    "df['Return'] = df['Growth_Factor']-1\n",
    "df.index.name = 'Month'\n",
    "\n",
    "df = df.fillna(0)\n",
    "#print(df)\n",
    "\n",
    "# Prints just the two computed columns\n",
    "print(df[['Balance', 'Return']])\n",
    "\n",
    "fig, ax = plt.subplots(nrows = 2, figsize = (10,10), sharex = True)\n",
    "fig.align_labels()\n",
    "\n",
    "df['Balance'].plot.line(ax = ax[0], color = 'blue', alpha = 0.5 , linestyle = '--', marker = 'x', lw = 4)\n",
    "ax[0].set_title('Balance per Month')\n",
    "ax[0].set_xlabel('Month')\n",
    "ax[0].set_ylabel('Balance Amount')\n",
    "ax[0].legend(loc = 'best')\n",
    "\n",
    "color = (df['Return'] > 0).map({True: 'g',False: 'r'})\n",
    "#df['Return'].plot.bar(ax = ax[1], color = 'k', alpha = 0.5 )\n",
    "df['Return'].plot.bar(ax = ax[1], color = color, alpha = 0.5 )\n",
    "ax[1].set_title('Returns per Month')\n",
    "ax[1].set_xlabel('Month')\n",
    "ax[1].set_ylabel('Return')\n",
    "ax[1].axhline(y=0.0, color='k', linestyle='-')\n",
    "ax[1].legend(loc = 'best')\n",
    "\n",
    "plt.tight_layout(pad=1)\n",
    "plt.show()"
   ]
  },
  {
   "cell_type": "code",
   "execution_count": null,
   "metadata": {},
   "outputs": [],
   "source": []
  },
  {
   "cell_type": "code",
   "execution_count": null,
   "metadata": {},
   "outputs": [],
   "source": []
  },
  {
   "cell_type": "code",
   "execution_count": null,
   "metadata": {},
   "outputs": [],
   "source": []
  },
  {
   "cell_type": "code",
   "execution_count": null,
   "metadata": {},
   "outputs": [],
   "source": []
  },
  {
   "cell_type": "markdown",
   "metadata": {},
   "source": [
    "---"
   ]
  },
  {
   "cell_type": "markdown",
   "metadata": {
    "id": "qGnnkRF9g7Tq"
   },
   "source": [
    "## 4: Clinical disease data (40 pts)\n",
    "\n",
    "Your boss comes to you Monday morning and says “I figured out our next step; we are going to pivot from an online craft store and become a data center for genetic disease information! I found **ClinVar** which is a repository that contains expert curated data, and it is free for the taking. This is a gold mine! Look at the file and tell me what gene and mutation combinations are classified as dangerous.”\n",
    "\n",
    "Make sure that you only give your boss the dangerous mutations and include:\n",
    "\n",
    "1) Gene name\n",
    "\n",
    "2) Mutation ID number\n",
    "\n",
    "3) Mutation Position (chromosome & position)\n",
    "\n",
    "4) Mutation value (reference & alternate bases)\n",
    "\n",
    "5) Clinical significance (CLNSIG)\n",
    "\n",
    "6) Disease that is implicated\n",
    "\n",
    "**Requirements**\n",
    "\n",
    "1) The deliverables are the final result as a dataframe with a short discussion of any specifics. (that is, what data you would present to your boss with the explanation of your results)\n",
    "\n",
    "2) Limit your output to the first 100 harmful mutations and tell your boss how many total harmful mutations were found in the file\n",
    "\n",
    "3) Use the instructor-modified \"clinvar_final.txt\" at this link: https://drive.google.com/file/d/1Zps0YssoJbZHrn6iLte2RDLlgruhAX1s/view?usp=sharing This file was modified to be not exactly the same as 'standard' .vcf file to test your data parsing skills. **This is a large file so do NOT upload it into your github repo!**\n",
    "\n",
    "4) Replace missing values in the dataframe with: 'Not_Given'. Print or display this (including the Not_Given count) for the column `CLNSIG` by using pandas value_counts() function (https://pandas.pydata.org/docs/reference/api/pandas.Series.value_counts.html).\n",
    "\n",
    "5) State in your answer how you define harmful mutations\n",
    "\n",
    "**6) Do your best on getting to above requirements and submit whatever you do before the deadline. If your work is incomplete be sure to describe the blockers that got in your way and how you might get past them (if given more time).**\n",
    "\n",
    "7) You can use as many code blocks as you need. Please clean-up your code and make it readable for the graders!\n",
    "\n",
    "**Hints** \n",
    "* We do not expect you to have any medical knowledge to solve this problem; look at the data, read the documentation provided, and write down your assumptions!\n",
    "\n",
    "* Correct pseudocode will give you partial credit so start with that. \n",
    "\n",
    "* Map out which fields you want to extract: Are they in the same place every time? What strategy will you use to robustly extract and filter your data of interest? How do you plan to handle missing data?\n",
    "\n",
    "* A good way to start is to print out each line, then practice parsing them to see if you can recover the fields of interest\n",
    "\n",
    "* A starting solution for parsing .vcfs can be found here: https://gist.github.com/dceoy/99d976a2c01e7f0ba1c813778f9db744 This solution does **NOT** work due to the changes we've made but can be modified to work. As with any solution that needs modifications, it may take less time to make your own solution!\n",
    "\n",
    "* Filter out junk and lines with no mutation data. Just focus on the data your need to deliver to your boss. \n",
    "\n",
    "* Pandas and NumPy parsers correctly recognize the end of each line in in the ClinVar file.\n",
    "\n",
    "* The unit of observation of this dataset is one row per mutation.\n",
    "\n",
    "* This is similar to a task that one of us tackled at work. You can answer the question with the information provided below or using the (partial) data dictionary file at this link: https://drive.google.com/file/d/1lx9yHdlcqmU_OlHiTUXKC_LQDqYBypH_/view?usp=sharing. Our goal is to see that you can put together a sensible plan, implement a solid parsing strategy, and document and justify the decisions that you made."
   ]
  },
  {
   "cell_type": "markdown",
   "metadata": {
    "id": "vxoh6uLEg7Tr"
   },
   "source": [
    "### VCF file description (Summarized from version 4.1)\n",
    "\n",
    "```\n",
    "* The VCF specification:\n",
    "\n",
    "VCF is a text file format which contains meta-information lines, a header line, and then data lines each containing information about a position in the genome. The format also can contain genotype information on samples for each position.\n",
    "\n",
    "* Fixed fields:\n",
    "\n",
    "There are 8 fixed fields per record. All data lines are **tab-delimited**. In all cases, missing values are specified with a dot (‘.’). \n",
    "\n",
    "1. CHROM - chromosome number\n",
    "2. POS - position DNA nuceleotide count (bases) along the chromosome\n",
    "3. ID - The unique identifier for each mutation\n",
    "4. REF - reference base(s)\n",
    "5. ALT - alternate base(s)\n",
    "6. FILTER - filter status\n",
    "7. QUAL - quality\n",
    "8. INFO - a semicolon-separated series of keys with values in the format: <key>=<data>\n",
    "\n",
    "```\n",
    "### Applicable INFO field specifications\n",
    "\n",
    "```\n",
    "GENEINFO = <Gene name>\n",
    "CLNSIG =  <Clinical significance>\n",
    "CLNDN = <Disease name>\n",
    "```\n",
    "\n",
    "### Sample ClinVar data (vcf file format - not exactly the same as the file to download!)\n",
    "\n",
    "```\n",
    "##fileformat=VCFv4.1\n",
    "##fileDate=2019-03-19\n",
    "##source=ClinVar\n",
    "##reference=GRCh38\t\t\t\t\t\t\t\n",
    "#CHROM\tPOS\tID\tREF\tALT\tQUAL\tFILTER\tINFO\n",
    "1\t949523\trs786201005\tC\tT\t.\t.\tGENEINFO=ISG15;CLNSIG=5\n",
    "1\t949696\trs672601345\tC\tCG\t.\t.\tGENEINFO=ISG15;CLNSIG=5;CLNDN=Cancer\n",
    "1\t949739\trs672601312\tG\tT\t.\t.\tGENEINFO=ISG15;CLNDBN=Cancer\n",
    "1\t955597\trs115173026\tG\tT\t.\t.\tGENEINFO=AGRN;CLNSIG=2; CLNDN=Cancer\n",
    "1\t955619\trs201073369\tG\tC\t.\t.\tGENEINFO=AGG;CLNDN=Heart_dis \n",
    "1\t957640\trs6657048\tC\tT\t.\t.\tGENEINFO=AGG;CLNSIG=3;CLNDN=Heart_dis \n",
    "1\t976059\trs544749044\tC\tT\t.\t.\tGENEINFO=AGG;CLNSIG=0;CLNDN=Heart_dis \n",
    "```"
   ]
  },
  {
   "cell_type": "code",
   "execution_count": 13,
   "metadata": {
    "id": "qPhDns3zg7Tr"
   },
   "outputs": [],
   "source": [
    "# 4) Your code here - can use as many code blocks as you would like"
   ]
  },
  {
   "cell_type": "markdown",
   "metadata": {
    "id": "QvWAQKYag7Tr"
   },
   "source": [
    "4) Please Write your assumptions here:"
   ]
  },
  {
   "cell_type": "markdown",
   "metadata": {
    "id": "_r9uXf94g7Ts"
   },
   "source": [
    "4) Findings / What would you present to your boss?"
   ]
  }
 ],
 "metadata": {
  "colab": {
   "provenance": []
  },
  "kernelspec": {
   "display_name": "Python 3 (ipykernel)",
   "language": "python",
   "name": "python3"
  },
  "language_info": {
   "codemirror_mode": {
    "name": "ipython",
    "version": 3
   },
   "file_extension": ".py",
   "mimetype": "text/x-python",
   "name": "python",
   "nbconvert_exporter": "python",
   "pygments_lexer": "ipython3",
   "version": "3.9.13"
  }
 },
 "nbformat": 4,
 "nbformat_minor": 4
}
