{
 "cells": [
  {
   "cell_type": "code",
   "execution_count": 1,
   "id": "0072cbef-153b-4fca-a0a9-cbc9cbeb98db",
   "metadata": {},
   "outputs": [],
   "source": [
    "import numpy as np\n",
    "np.random.seed(25)\n",
    "\n",
    "# Creating the matrixes to use for the problem\n",
    "features = np.random.randint(0, 100, 10000).reshape(1000,10)\n",
    "weights = np.array([ 0.24540611,  0.31467517, -0.07656614, -0.16161533, -0.09064962,\n",
    "                    -0.00315615,  0.09609595,  0.2517064 ,  0.01100181, -0.38629211])\n",
    "\n",
    "\n",
    "\n"
   ]
  },
  {
   "cell_type": "code",
   "execution_count": 2,
   "id": "9a791adc-8b04-44e6-84fc-04fe1b9d50d0",
   "metadata": {},
   "outputs": [],
   "source": [
    "# Q9-1 Grading Tag:\n",
    "def get_shape(ar):\n",
    "    return ar.shape"
   ]
  },
  {
   "cell_type": "code",
   "execution_count": 5,
   "id": "5e9b4680-4e86-4051-b039-ef072eb74153",
   "metadata": {},
   "outputs": [
    {
     "data": {
      "text/plain": [
       "(10,)"
      ]
     },
     "execution_count": 5,
     "metadata": {},
     "output_type": "execute_result"
    }
   ],
   "source": [
    "# Q9-1 Grading Tag:\n",
    "get_shape(weights)"
   ]
  },
  {
   "cell_type": "code",
   "execution_count": null,
   "id": "40caa30a-4be4-489e-9381-6c745fb58c3a",
   "metadata": {},
   "outputs": [],
   "source": []
  }
 ],
 "metadata": {
  "kernelspec": {
   "display_name": "Python 3 (ipykernel)",
   "language": "python",
   "name": "python3"
  },
  "language_info": {
   "codemirror_mode": {
    "name": "ipython",
    "version": 3
   },
   "file_extension": ".py",
   "mimetype": "text/x-python",
   "name": "python",
   "nbconvert_exporter": "python",
   "pygments_lexer": "ipython3",
   "version": "3.9.12"
  }
 },
 "nbformat": 4,
 "nbformat_minor": 5
}
