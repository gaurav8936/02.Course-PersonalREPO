{
 "cells": [
  {
   "cell_type": "markdown",
   "id": "c828acbe-bf35-430b-b74f-436c450fb0e6",
   "metadata": {},
   "source": [
    "# EDA Graphics Example"
   ]
  },
  {
   "cell_type": "code",
   "execution_count": null,
   "id": "fa88e9c2-16f6-4a06-92c5-e94cad98b9f6",
   "metadata": {},
   "outputs": [],
   "source": []
  }
 ],
 "metadata": {
  "kernelspec": {
   "display_name": "Python 3 (ipykernel)",
   "language": "python",
   "name": "python3"
  },
  "language_info": {
   "codemirror_mode": {
    "name": "ipython",
    "version": 3
   },
   "file_extension": ".py",
   "mimetype": "text/x-python",
   "name": "python",
   "nbconvert_exporter": "python",
   "pygments_lexer": "ipython3",
   "version": "3.9.12"
  }
 },
 "nbformat": 4,
 "nbformat_minor": 5
}
