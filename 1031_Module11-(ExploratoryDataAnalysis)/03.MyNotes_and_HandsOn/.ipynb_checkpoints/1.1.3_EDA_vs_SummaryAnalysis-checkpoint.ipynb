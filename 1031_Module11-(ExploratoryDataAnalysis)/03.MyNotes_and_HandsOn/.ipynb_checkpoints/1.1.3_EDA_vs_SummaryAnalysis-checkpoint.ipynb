{
 "cells": [
  {
   "cell_type": "markdown",
   "id": "678d588a-c335-43a7-b556-8dfef313e3ac",
   "metadata": {},
   "source": [
    "# EDA vs Summary Analysis"
   ]
  },
  {
   "cell_type": "markdown",
   "id": "380be846-98b4-4f84-bd35-0c50209486dd",
   "metadata": {},
   "source": [
    "## Summary"
   ]
  },
  {
   "cell_type": "markdown",
   "id": "0aac50b2-a8bd-498e-a897-77861daf55f1",
   "metadata": {},
   "source": [
    "    A summary analysis is simply a numeric reduction of a historical data set. \n",
    "    \n",
    "    It is quite passive. \n",
    "    \n",
    "    Its focus is in the past. \n",
    "    \n",
    "    Quite commonly, its purpose is to simply arrive at a few key statistics (for example, mean and standard deviation) which may then either replace the data set or be added to the data set in the form of a summary table"
   ]
  },
  {
   "cell_type": "markdown",
   "id": "dc3d846c-2610-474b-b9d4-8c306a7c9f62",
   "metadata": {},
   "source": [
    "## Exploratory"
   ]
  },
  {
   "cell_type": "markdown",
   "id": "f42ad0c0-70ea-4893-a896-8773cee1ac47",
   "metadata": {},
   "source": [
    "    In contrast, EDA has as its broadest goal the desire to gain insight into the engineering/scientific process behind the data. \n",
    "    \n",
    "    Whereas summary statistics are passive and historical, EDA is active and futuristic. \n",
    "    \n",
    "    In an attempt to \"understand\" the process and improve it in the future, EDA uses the data as a \"window\" to peer into the heart of the process that generated the data. \n",
    "    \n",
    "    There is an archival role in the research and manufacturing world for summary statistics, but there is an enormously larger role for the EDA approach."
   ]
  },
  {
   "cell_type": "code",
   "execution_count": null,
   "id": "d4bcde94-3828-4344-bb76-448781cb5f78",
   "metadata": {},
   "outputs": [],
   "source": []
  }
 ],
 "metadata": {
  "kernelspec": {
   "display_name": "Python 3 (ipykernel)",
   "language": "python",
   "name": "python3"
  },
  "language_info": {
   "codemirror_mode": {
    "name": "ipython",
    "version": 3
   },
   "file_extension": ".py",
   "mimetype": "text/x-python",
   "name": "python",
   "nbconvert_exporter": "python",
   "pygments_lexer": "ipython3",
   "version": "3.9.12"
  }
 },
 "nbformat": 4,
 "nbformat_minor": 5
}
