{
 "cells": [
  {
   "cell_type": "markdown",
   "id": "ee629802-7ea4-4e1a-89ac-741737d19b65",
   "metadata": {},
   "source": [
    "# What is EDA?"
   ]
  },
  {
   "cell_type": "markdown",
   "id": "dd26666c-e20d-477d-8e32-4890e1abd70c",
   "metadata": {},
   "source": [
    "## Approach"
   ]
  },
  {
   "cell_type": "markdown",
   "id": "f41ff37b-ef84-4caa-84a2-42b18420ed9b",
   "metadata": {},
   "source": [
    "    Exploratory Data Analysis (EDA) is an approach/philosophy for data analysis that employs a variety of techniques (mostly graphical) to\n",
    "    1. maximize insight into a data set;\n",
    "    2. uncover underlying structure;\n",
    "    3. extract important variables;\n",
    "    4. detect outliers and anomalies;\n",
    "    5. test underlying assumptions;\n",
    "    6. develop parsimonious models; and\n",
    "    7. determine optimal factor settings."
   ]
  },
  {
   "cell_type": "markdown",
   "id": "e09bb370-032c-4c78-b96c-d54aaf6e1a8f",
   "metadata": {},
   "source": [
    "## Focus"
   ]
  },
  {
   "cell_type": "markdown",
   "id": "2c51e372-412f-40aa-8ddd-c43f7b98fd00",
   "metadata": {},
   "source": [
    "\tThe EDA approach is precisely that--an approach--not a set of techniques, but an attitude/philosophy about how a data analysis should be carried out."
   ]
  },
  {
   "cell_type": "markdown",
   "id": "b1500100-d234-4833-bd30-182a29292790",
   "metadata": {},
   "source": [
    "## Philosophy"
   ]
  },
  {
   "cell_type": "markdown",
   "id": "78cddac0-fc05-4f80-a1a2-4abfbc4b8c57",
   "metadata": {},
   "source": [
    "    EDA is not identical to statistical graphics although the two terms are used almost interchangeably. \n",
    "    \n",
    "    Statistical graphics is a collection of techniques--all graphically based and all focusing on one data characterization aspect. \n",
    "    \n",
    "    EDA encompasses a larger venue; EDA is an approach to data analysis that postpones the usual assumptions about what kind of model the data follow with the more direct approach of allowing the data itself to reveal its underlying structure and model. \n",
    "    \n",
    "    EDA is not a mere collection of techniques; EDA is a philosophy as to how we dissect a data set; what we look for; how we look; and how we interpret. \n",
    "    \n",
    "    It is true that EDA heavily uses the collection of techniques that we call \"statistical graphics\", but it is not identical to statistical graphics per se."
   ]
  },
  {
   "cell_type": "markdown",
   "id": "f43132fc-facf-4fe9-8120-fdd136efb9db",
   "metadata": {},
   "source": [
    "## History"
   ]
  },
  {
   "cell_type": "markdown",
   "id": "556acb09-9f61-4459-aa86-c53b216faed2",
   "metadata": {},
   "source": [
    "    The seminal work in EDA is Exploratory Data Analysis, Tukey, (1977). Over the years it has benefitted from other noteworthy publications such as Data Analysis and Regression, Mosteller and Tukey (1977), Interactive Data Analysis, Hoaglin (1977), The ABC's of EDA, Velleman and Hoaglin (1981) and has gained a large following as \"the\" way to analyze a data set."
   ]
  },
  {
   "cell_type": "markdown",
   "id": "6a5fedc2-234e-4fda-9bee-fffd6f23477c",
   "metadata": {},
   "source": [
    "## Techniques"
   ]
  },
  {
   "cell_type": "markdown",
   "id": "d8c950f6-0523-4824-a503-a9d6280ed5d5",
   "metadata": {},
   "source": [
    "    Most EDA techniques are graphical in nature with a few quantitative techniques. \n",
    "    \n",
    "    The reason for the heavy reliance on graphics is that by its very nature the main role of EDA is to open-mindedly explore, and graphics gives the analysts unparalleled power to do so, enticing the data to reveal its structural secrets, and being always ready to gain some new, often unsuspected, insight into the data. \n",
    "    \n",
    "    In combination with the natural pattern-recognition capabilities that we all possess, graphics provides, of course, unparalleled power to carry this out.\n",
    "    \n",
    "    The particular graphical techniques employed in EDA are often quite simple, consisting of various techniques of:"
   ]
  },
  {
   "cell_type": "markdown",
   "id": "b88ff162-4bea-4600-98c5-f42976f1a6b5",
   "metadata": {},
   "source": [
    "    1. Plotting the raw data (such as data traces, histograms, bihistograms, probability plots, lag plots, block plots, and Youden plots.\n",
    "    \n",
    "    2. Plotting simple statistics such as mean plots, standard deviation plots, box plots, and main effects plots of the raw data.\n",
    "    \n",
    "    3. Positioning such plots so as to maximize our natural pattern-recognition abilities, such as using multiple plots per page"
   ]
  },
  {
   "cell_type": "markdown",
   "id": "28dd045e-6c04-4751-a0f3-01a2f52d498d",
   "metadata": {},
   "source": [
    "---"
   ]
  },
  {
   "cell_type": "code",
   "execution_count": null,
   "id": "843dff87-569c-4f58-bb2e-3e4b918cf350",
   "metadata": {},
   "outputs": [],
   "source": []
  }
 ],
 "metadata": {
  "kernelspec": {
   "display_name": "Python 3 (ipykernel)",
   "language": "python",
   "name": "python3"
  },
  "language_info": {
   "codemirror_mode": {
    "name": "ipython",
    "version": 3
   },
   "file_extension": ".py",
   "mimetype": "text/x-python",
   "name": "python",
   "nbconvert_exporter": "python",
   "pygments_lexer": "ipython3",
   "version": "3.9.12"
  }
 },
 "nbformat": 4,
 "nbformat_minor": 5
}
