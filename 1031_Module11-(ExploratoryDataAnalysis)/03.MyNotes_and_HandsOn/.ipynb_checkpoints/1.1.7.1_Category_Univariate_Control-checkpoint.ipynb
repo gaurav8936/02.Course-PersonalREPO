{
 "cells": [
  {
   "cell_type": "markdown",
   "id": "f5c6d9bc-babc-4068-bcb9-91ca5190eccb",
   "metadata": {},
   "source": [
    "# General Problem Categories"
   ]
  },
  {
   "cell_type": "code",
   "execution_count": null,
   "id": "b7a705c9-1854-4ad1-bb95-2ba92bc6d099",
   "metadata": {},
   "outputs": [],
   "source": []
  }
 ],
 "metadata": {
  "kernelspec": {
   "display_name": "Python 3 (ipykernel)",
   "language": "python",
   "name": "python3"
  },
  "language_info": {
   "codemirror_mode": {
    "name": "ipython",
    "version": 3
   },
   "file_extension": ".py",
   "mimetype": "text/x-python",
   "name": "python",
   "nbconvert_exporter": "python",
   "pygments_lexer": "ipython3",
   "version": "3.9.12"
  }
 },
 "nbformat": 4,
 "nbformat_minor": 5
}
