{
 "cells": [
  {
   "cell_type": "markdown",
   "id": "1276cee8-ee57-4676-84eb-76ff01142b38",
   "metadata": {},
   "source": [
    "# EDA Goals"
   ]
  },
  {
   "cell_type": "markdown",
   "id": "7db762f0-3e70-4df3-9494-71506202246b",
   "metadata": {},
   "source": [
    "## Primary and Secondary Goals"
   ]
  },
  {
   "cell_type": "markdown",
   "id": "09f89e31-6dea-4c32-9dce-5b3a5fa1cc0f",
   "metadata": {},
   "source": [
    "    The primary goal of EDA is to maximize the analyst's insight into a data set and into the underlying structure of a data set, while providing all of the specific items that an analyst would want to extract from a data set, such as:"
   ]
  },
  {
   "cell_type": "markdown",
   "id": "c730ecdd-7f80-478b-9aab-1049ce168c3d",
   "metadata": {},
   "source": [
    "    1. a good-fitting, parsimonious model\n",
    "    2. a list of outliers\n",
    "    3. a sense of robustness of conclusions\n",
    "    4. estimates for parameters\n",
    "    5. uncertainties for those estimates\n",
    "    6. a ranked list of important factors\n",
    "    7. conclusions as to whether individual factors are statistically significant\n",
    "    8. optimal settings"
   ]
  },
  {
   "cell_type": "markdown",
   "id": "e10fb8e3-d34b-40d0-b13b-dc149f703f6f",
   "metadata": {},
   "source": [
    "## Insight into the Data"
   ]
  },
  {
   "cell_type": "markdown",
   "id": "96dab615-a041-4920-9bbd-f26721308a3c",
   "metadata": {},
   "source": [
    "    Insight implies detecting and uncovering underlying structure in the data. \n",
    "    \n",
    "    Such underlying structure may not be encapsulated in the list of items above; such items serve as the specific targets of an analysis, but the real insight and \"feel\" for a data set comes as the analyst judiciously probes and explores the various subtleties of the data. \n",
    "    \n",
    "    The \"feel\" for the data comes almost exclusively from the application of various graphical techniques, the collection of which serves as the window into the essence of the data. \n",
    "    \n",
    "    Graphics are irreplaceable--there are no quantitative analogues that will give the same insight as well-chosen graphics."
   ]
  },
  {
   "cell_type": "markdown",
   "id": "2a7c51a1-fb2a-4db2-908b-ad0d5535e23c",
   "metadata": {},
   "source": [
    "    To get a \"feel\" for the data, it is not enough for the analyst to know what is in the data; the analyst also must know what is not in the data, and the only way to do that is to draw on our own human pattern-recognition and comparative abilities in the context of a series of judicious graphical techniques applied to the data."
   ]
  },
  {
   "cell_type": "code",
   "execution_count": null,
   "id": "6e103a40-f8f8-4f53-a9b3-aefa298c63a2",
   "metadata": {},
   "outputs": [],
   "source": []
  }
 ],
 "metadata": {
  "kernelspec": {
   "display_name": "Python 3 (ipykernel)",
   "language": "python",
   "name": "python3"
  },
  "language_info": {
   "codemirror_mode": {
    "name": "ipython",
    "version": 3
   },
   "file_extension": ".py",
   "mimetype": "text/x-python",
   "name": "python",
   "nbconvert_exporter": "python",
   "pygments_lexer": "ipython3",
   "version": "3.9.12"
  }
 },
 "nbformat": 4,
 "nbformat_minor": 5
}
