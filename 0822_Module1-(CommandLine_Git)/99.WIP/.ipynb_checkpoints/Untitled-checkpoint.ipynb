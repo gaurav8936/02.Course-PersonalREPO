{
 "cells": [
  {
   "cell_type": "markdown",
   "id": "8fd4a4d6-b457-4a98-8ffd-cfb4d5b827fd",
   "metadata": {},
   "source": [
    "# Notes: 10072022"
   ]
  },
  {
   "cell_type": "code",
   "execution_count": 1,
   "id": "5da598d9-3fce-4c88-b675-1195f0fa7216",
   "metadata": {},
   "outputs": [],
   "source": [
    "a = 'hello'"
   ]
  },
  {
   "cell_type": "code",
   "execution_count": 5,
   "id": "b4366fb2-b09e-4894-b208-151c35eae789",
   "metadata": {},
   "outputs": [
    {
     "name": "stdout",
     "output_type": "stream",
     "text": [
      "0.3434\n"
     ]
    }
   ],
   "source": [
    "print(\"{:.4f}\".format(.34343))"
   ]
  },
  {
   "cell_type": "code",
   "execution_count": 8,
   "id": "5175a13c-fd8a-4dec-8c92-25a052ba6283",
   "metadata": {},
   "outputs": [
    {
     "name": "stdout",
     "output_type": "stream",
     "text": [
      "+0.343430\n"
     ]
    }
   ],
   "source": [
    "print(\"{:+4f}\".format(.34343))"
   ]
  },
  {
   "cell_type": "code",
   "execution_count": 9,
   "id": "3a46efef-dc47-414c-b186-c2ad9d5ab57e",
   "metadata": {},
   "outputs": [
    {
     "name": "stdout",
     "output_type": "stream",
     "text": [
      "hello\n"
     ]
    }
   ],
   "source": [
    "print(\"hello\".format(1212))"
   ]
  },
  {
   "cell_type": "code",
   "execution_count": 12,
   "id": "f20f7f79-86c8-49f6-b4b3-7d3b7eef4ce4",
   "metadata": {},
   "outputs": [
    {
     "name": "stdout",
     "output_type": "stream",
     "text": [
      "1.000000e+14\n"
     ]
    }
   ],
   "source": [
    "print(\"{:2e}\".format(100000000000000))"
   ]
  },
  {
   "cell_type": "code",
   "execution_count": 14,
   "id": "e944b0ec-40eb-4708-906a-e3a38b5f0291",
   "metadata": {},
   "outputs": [
    {
     "name": "stdout",
     "output_type": "stream",
     "text": [
      "90.087%\n"
     ]
    }
   ],
   "source": [
    "print(\"{:.3%}\".format(.90087))"
   ]
  },
  {
   "cell_type": "code",
   "execution_count": 16,
   "id": "14a989bf-fe70-4cc3-b04d-1659b94df795",
   "metadata": {},
   "outputs": [
    {
     "name": "stdout",
     "output_type": "stream",
     "text": [
      "this is the sdfdtree\n"
     ]
    }
   ],
   "source": [
    "print(\"this is the {}{}\".format('sdfd', 'tree'))"
   ]
  },
  {
   "cell_type": "markdown",
   "id": "34162286-03a9-4c94-a5e5-90ebbfb3034a",
   "metadata": {},
   "source": [
    "## Older print formats"
   ]
  },
  {
   "cell_type": "code",
   "execution_count": 17,
   "id": "2ea3e685-9b91-461e-8cc7-12a9515b5a80",
   "metadata": {},
   "outputs": [],
   "source": [
    "pi = 3.141827"
   ]
  },
  {
   "cell_type": "code",
   "execution_count": 18,
   "id": "c8cce2c3-333a-449f-a217-a2c167b5230b",
   "metadata": {},
   "outputs": [
    {
     "name": "stdout",
     "output_type": "stream",
     "text": [
      "the format for pi is 3.141827\n"
     ]
    }
   ],
   "source": [
    "print(\"the format for pi is {}\".format(pi))"
   ]
  },
  {
   "cell_type": "code",
   "execution_count": 19,
   "id": "cbd81bcc-c697-4114-98e9-fcf636166c77",
   "metadata": {},
   "outputs": [
    {
     "name": "stdout",
     "output_type": "stream",
     "text": [
      " pi = 3.14\n"
     ]
    }
   ],
   "source": [
    "print(\" pi = %1.2f\" %pi)"
   ]
  },
  {
   "cell_type": "code",
   "execution_count": 20,
   "id": "705ec7de-53dc-487f-abce-22770edb9867",
   "metadata": {},
   "outputs": [
    {
     "name": "stdout",
     "output_type": "stream",
     "text": [
      "pi = 3.14\n"
     ]
    }
   ],
   "source": [
    "print(\"pi = {:.2f}\".format(pi))"
   ]
  },
  {
   "cell_type": "code",
   "execution_count": 21,
   "id": "438318a2-bd3a-4b40-b5ff-337ee05fd5b4",
   "metadata": {},
   "outputs": [],
   "source": [
    "s1 = 'cats'"
   ]
  },
  {
   "cell_type": "code",
   "execution_count": 22,
   "id": "72be98e9-6220-45fa-8bca-45fea0f29ad4",
   "metadata": {},
   "outputs": [],
   "source": [
    "s2 = 'dogs'"
   ]
  },
  {
   "cell_type": "code",
   "execution_count": 26,
   "id": "5c244900-9233-4003-8dca-16cb17340bb8",
   "metadata": {},
   "outputs": [
    {
     "name": "stdout",
     "output_type": "stream",
     "text": [
      "cats and dogs living togetyher\n"
     ]
    }
   ],
   "source": [
    "print(\"%s and %s living togetyher\" %(s1, s2))"
   ]
  },
  {
   "cell_type": "markdown",
   "id": "46b066ef-1e51-4f27-aca4-dc40cdee4b33",
   "metadata": {},
   "source": [
    "---"
   ]
  },
  {
   "cell_type": "code",
   "execution_count": 28,
   "id": "e9410fe3-a3c2-4fb8-9c64-da5bd18a3b74",
   "metadata": {},
   "outputs": [
    {
     "name": "stdout",
     "output_type": "stream",
     "text": [
      "the hello there formatting methods do not they actually do work\n"
     ]
    }
   ],
   "source": [
    "print(\"the {older} formatting methods do not {work}\". format(older = \"hello there\", work = \"they actually do work\"))"
   ]
  },
  {
   "cell_type": "markdown",
   "id": "0a1e528b-0c15-48ce-a6de-9fb2c7e7a0bb",
   "metadata": {},
   "source": [
    "---"
   ]
  },
  {
   "cell_type": "markdown",
   "id": "c713ad48-62b0-48ae-99f9-91a468b8e3cc",
   "metadata": {},
   "source": [
    "# F Strings"
   ]
  },
  {
   "cell_type": "code",
   "execution_count": 35,
   "id": "49dace00-df02-4ee5-ab84-b7df445bbbe6",
   "metadata": {},
   "outputs": [],
   "source": [
    "book = \"lord of the rings\"\n",
    "author = 'JRR Tolkein'"
   ]
  },
  {
   "cell_type": "code",
   "execution_count": 31,
   "id": "bd5ba635-af1d-42a8-9ae6-b2b4ede09dbe",
   "metadata": {},
   "outputs": [
    {
     "name": "stdout",
     "output_type": "stream",
     "text": [
      "This is the sdfdf written by ertr\n"
     ]
    }
   ],
   "source": [
    "print(\"This is the {book} written by {author}\".format(book = \"sdfdf\", author = \"ertr\"))"
   ]
  },
  {
   "cell_type": "code",
   "execution_count": 33,
   "id": "70419234-bca4-4a6a-8f90-80a556fa7a26",
   "metadata": {},
   "outputs": [
    {
     "ename": "KeyError",
     "evalue": "'book'",
     "output_type": "error",
     "traceback": [
      "\u001b[0;31m---------------------------------------------------------------------------\u001b[0m",
      "\u001b[0;31mKeyError\u001b[0m                                  Traceback (most recent call last)",
      "Input \u001b[0;32mIn [33]\u001b[0m, in \u001b[0;36m<cell line: 1>\u001b[0;34m()\u001b[0m\n\u001b[0;32m----> 1\u001b[0m \u001b[38;5;28mprint\u001b[39m(\u001b[38;5;124;43m\"\u001b[39;49m\u001b[38;5;124;43mThis is the \u001b[39;49m\u001b[38;5;132;43;01m{book}\u001b[39;49;00m\u001b[38;5;124;43m written by \u001b[39;49m\u001b[38;5;132;43;01m{author}\u001b[39;49;00m\u001b[38;5;124;43m\"\u001b[39;49m\u001b[38;5;241;43m.\u001b[39;49m\u001b[43mformat\u001b[49m\u001b[43m(\u001b[49m\u001b[43mbook\u001b[49m\u001b[43m,\u001b[49m\u001b[43m \u001b[49m\u001b[43mauthor\u001b[49m\u001b[43m)\u001b[49m)\n",
      "\u001b[0;31mKeyError\u001b[0m: 'book'"
     ]
    }
   ],
   "source": [
    "print(\"This is the {book} written by {author}\".format(book, author))"
   ]
  },
  {
   "cell_type": "code",
   "execution_count": 37,
   "id": "a3fe0d42-c0d1-4854-a38c-ff875cb91090",
   "metadata": {},
   "outputs": [
    {
     "name": "stdout",
     "output_type": "stream",
     "text": [
      "the lord of the rings was written by JRR Tolkein\n"
     ]
    }
   ],
   "source": [
    "print(f\"the {book} was written by {author}\")"
   ]
  },
  {
   "cell_type": "code",
   "execution_count": 38,
   "id": "6c527958-0f12-40f3-83c1-b1fdb32472db",
   "metadata": {},
   "outputs": [
    {
     "data": {
      "text/plain": [
       "float"
      ]
     },
     "execution_count": 38,
     "metadata": {},
     "output_type": "execute_result"
    }
   ],
   "source": [
    "float"
   ]
  },
  {
   "cell_type": "code",
   "execution_count": 39,
   "id": "9c323fc3-da62-497d-887a-b31b70ebc806",
   "metadata": {},
   "outputs": [
    {
     "data": {
      "text/plain": [
       "type"
      ]
     },
     "execution_count": 39,
     "metadata": {},
     "output_type": "execute_result"
    }
   ],
   "source": [
    "type(float)"
   ]
  },
  {
   "cell_type": "code",
   "execution_count": 40,
   "id": "6b17147d-404a-4490-9b38-29a18fffbb63",
   "metadata": {},
   "outputs": [],
   "source": [
    "a = 1.223"
   ]
  },
  {
   "cell_type": "code",
   "execution_count": 41,
   "id": "b763d81a-2b96-401e-8860-e715b5e66fab",
   "metadata": {},
   "outputs": [
    {
     "data": {
      "text/plain": [
       "float"
      ]
     },
     "execution_count": 41,
     "metadata": {},
     "output_type": "execute_result"
    }
   ],
   "source": [
    "type(a)"
   ]
  },
  {
   "cell_type": "code",
   "execution_count": 42,
   "id": "80d5dd34-f6ef-4299-9f91-42775efd11e1",
   "metadata": {},
   "outputs": [
    {
     "data": {
      "text/plain": [
       "0.1"
      ]
     },
     "execution_count": 42,
     "metadata": {},
     "output_type": "execute_result"
    }
   ],
   "source": [
    "1/10"
   ]
  },
  {
   "cell_type": "code",
   "execution_count": 43,
   "id": "e7a0c31b-a88e-4fed-b997-433a86f38129",
   "metadata": {},
   "outputs": [
    {
     "data": {
      "text/plain": [
       "10.01"
      ]
     },
     "execution_count": 43,
     "metadata": {},
     "output_type": "execute_result"
    }
   ],
   "source": [
    "10.01\n",
    "\n",
    "#  2^1 + 2^1 + 2^1/2 + 2^1/4 "
   ]
  },
  {
   "cell_type": "code",
   "execution_count": 44,
   "id": "2597ade0-70ee-4b0f-8de3-7a1ff65d1c19",
   "metadata": {},
   "outputs": [],
   "source": [
    "# 2 + 0 + 1/4\n"
   ]
  },
  {
   "cell_type": "code",
   "execution_count": 45,
   "id": "4d2ce57c-bdb3-4053-86c4-f9e60c70c176",
   "metadata": {},
   "outputs": [],
   "source": [
    "# 2 1/4 -- tjos os stored as 10.01 in binary"
   ]
  },
  {
   "cell_type": "markdown",
   "id": "6a0eee4c-ad87-4270-8fce-b425c149da11",
   "metadata": {},
   "source": [
    "3.5 in decimals\n",
    "\n",
    "1/10\n",
    "\n",
    "is not 1.00\n",
    "\n",
    "0.10000000\n",
    "\n",
    "2^0 = 1"
   ]
  },
  {
   "cell_type": "markdown",
   "id": "854d6211-bfdd-473e-a94a-f88b82f7952f",
   "metadata": {},
   "source": [
    "# why can't 0.2 (base 10 )be represented in binary as 0.10 (base 2)"
   ]
  },
  {
   "attachments": {
    "27ed503b-1d86-4876-9c24-b39beedc5980.png": {
     "image/png": "[encoded data removed]"
    }
   },
   "cell_type": "markdown",
   "id": "1917bbc5-1c5c-40be-849b-f44d4dd6ad0c",
   "metadata": {},
   "source": [
    "![image.png](attachment:27ed503b-1d86-4876-9c24-b39beedc5980.png)"
   ]
  },
  {
   "cell_type": "markdown",
   "id": "41d36fd8-858c-4573-ad0b-6929e7bb045f",
   "metadata": {},
   "source": [
    "### Converting 0.3 to binary"
   ]
  },
  {
   "cell_type": "markdown",
   "id": "079940a7-5fc2-44c9-bce3-f4d68d83432c",
   "metadata": {},
   "source": [
    "* 0.3 * 2 = 0.6 --> 0\n",
    "* 0.6 * 2 = 1.2 --> 1\n",
    "* 0.2 * 2 = 0.4 --> 0\n",
    "* 0.4 * 2 = 0.8 --> 0\n",
    "* 0.8 * 2 = 1.6 --> 1\n",
    "* 0.6 * 2 = 1.2 --> 1\n",
    "* 0.2 * 2 = 0.4 --> 0\n",
    "* 0.4 * 2 = 0.8 --> 0\n",
    "* 0.8 * 2 = 1.6 --> 1\n",
    "\n",
    "\n",
    "#### so 0.3 would be 0.01001001...."
   ]
  },
  {
   "cell_type": "markdown",
   "id": "ea76a50a-77c4-48b9-a4a6-d52831220354",
   "metadata": {},
   "source": [
    "0.1 * 2 = 0.2 -> 0\n",
    "0.2 * 2 = 0.4 -> 0\n",
    "0.4 * 2 = 0.8 -> 0\n",
    "0.8 * 2 = 1.6 -> 1\n",
    "0.6 * 2 = 1.2 -> 1\n",
    "0.2 * 2 = 0.4 -> 0\n",
    "0.4 * 2 = 0.8 -> 0\n",
    "0.8 * 2 = 1.6 -> 1\n",
    "0.6 * 2 = 1.2 -> 1\n",
    "Result: 0.00011(0011) periodic."
   ]
  },
  {
   "cell_type": "code",
   "execution_count": null,
   "id": "a7a36def-740c-4fc9-9bf1-42a5fe3fd464",
   "metadata": {},
   "outputs": [],
   "source": []
  }
 ],
 "metadata": {
  "kernelspec": {
   "display_name": "Python 3 (ipykernel)",
   "language": "python",
   "name": "python3"
  },
  "language_info": {
   "codemirror_mode": {
    "name": "ipython",
    "version": 3
   },
   "file_extension": ".py",
   "mimetype": "text/x-python",
   "name": "python",
   "nbconvert_exporter": "python",
   "pygments_lexer": "ipython3",
   "version": "3.9.12"
  }
 },
 "nbformat": 4,
 "nbformat_minor": 5
}
