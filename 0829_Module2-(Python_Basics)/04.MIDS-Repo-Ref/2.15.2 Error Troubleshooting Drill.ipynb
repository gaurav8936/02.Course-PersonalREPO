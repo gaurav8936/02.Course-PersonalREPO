{
 "cells": [
  {
   "cell_type": "markdown",
   "metadata": {},
   "source": [
    "### Error Troubleshooting Drill\n",
    "\n",
    "In this exercise, we will walkthrough troubleshooting an error in a small program."
   ]
  },
  {
   "cell_type": "markdown",
   "metadata": {},
   "source": [
    "#### Program with logic errors\n",
    "\n",
    "The program below is suppose to check a U.S. zipcode to make sure it consists 5 numbers. As written it runs but doesnt provide the correct output.\n",
    "\n",
    "It should run and say if the zipcode is invalid or is valid. As seen below - I entered `abcde` which should be invalid but it doesn't print out anything. If you enter a valid zipcode like `12345` it also doesnt say that it is valid (or print out anything).\n",
    "\n",
    "Whats happening here?  How would we troubleshoot this?"
   ]
  },
  {
   "cell_type": "code",
   "execution_count": 2,
   "metadata": {},
   "outputs": [
    {
     "name": "stdin",
     "output_type": "stream",
     "text": [
      "Enter a zipcode to test:  12345\n"
     ]
    }
   ],
   "source": [
    "zipcode = input(\"Enter a zipcode to test: \")\n",
    "\n",
    "length = len(zipcode)\n",
    "valid = False\n",
    "\n",
    "# check to make sure the length is correct\n",
    "if length != 5:\n",
    "    print(f'The zipcode entered {zipcode} is not the required length. Please enter 5 digits.')\n",
    "\n",
    "else:\n",
    "    \n",
    "    # Set the index to 0 and then go through each character\n",
    "    # checking to make sure the characters are numeric\n",
    "    index = 0\n",
    "    while index != length:\n",
    "        \n",
    "        if zipcode[index] == 1 or 2 or 3 or 4 or 5 or 6  or 7 or 8 or 9 or 0:\n",
    "            index += 1\n",
    "            \n",
    "        else:\n",
    "            print(f'The zipcode is not valid because it contains the character \"{zipcode[index]}\"')\n",
    "            index = length\n",
    "            valid = False\n",
    "            \n",
    "if valid:\n",
    "    print(f'The zipcode {zipcode} is valid')"
   ]
  },
  {
   "cell_type": "code",
   "execution_count": 39,
   "metadata": {},
   "outputs": [
    {
     "name": "stdin",
     "output_type": "stream",
     "text": [
      "Enter a zipcode to test:  12345\n"
     ]
    },
    {
     "name": "stdout",
     "output_type": "stream",
     "text": [
      "--------------------------------------------------\n",
      "zipcode: 12345\n",
      "index before: 0\n",
      "1 is in index 0\n",
      "index after: 1\n",
      "--------------------------------------------------\n",
      "zipcode: 12345\n",
      "index before: 1\n",
      "2 is in index 1\n",
      "index after: 2\n",
      "--------------------------------------------------\n",
      "zipcode: 12345\n",
      "index before: 2\n",
      "3 is in index 2\n",
      "index after: 3\n",
      "--------------------------------------------------\n",
      "zipcode: 12345\n",
      "index before: 3\n",
      "4 is in index 3\n",
      "index after: 4\n",
      "--------------------------------------------------\n",
      "zipcode: 12345\n",
      "index before: 4\n",
      "5 is in index 4\n",
      "index after: 5\n"
     ]
    }
   ],
   "source": [
    "zipcode = input(\"Enter a zipcode to test: \")\n",
    "\n",
    "length = len(zipcode)\n",
    "valid = False\n",
    "\n",
    "# check to make sure the length is correct\n",
    "if length != 5:\n",
    "    print(f'The zipcode entered {zipcode} is not the required length. Please enter 5 digits.')\n",
    "\n",
    "    ############################\n",
    "    print('-'*50)\n",
    "    print(f'zipcode: {zipcode}')\n",
    "else:\n",
    "    \n",
    "    # Set the index to 0 and then go through each character\n",
    "    # checking to make sure the characters are numeric\n",
    "    \n",
    "    index = 0\n",
    "    while index < length: # index not equal to \n",
    "\n",
    "    ############################\n",
    "        print('-'*50)\n",
    "        print(f'zipcode: {zipcode}')\n",
    "        \n",
    "        if zipcode[index] != 0 or 1 or 2 or 3: \n",
    "        #or 4 or 5 or 6  or 7 or 8 or 9 or 0:\n",
    "            print(f'index before: {index}')\n",
    "            print(f'{zipcode[index]} is in index {index}')\n",
    "            index += 1\n",
    "            print(f'index after: {index}')\n",
    "            \n",
    "#            print(f'{zipcode[index]} is in index {index}')\n",
    "            \n",
    "        else:\n",
    "            print(f'The zipcode is not valid because it contains the character \"{zipcode[index]}\"')\n",
    "            index = length\n",
    "            valid = False\n",
    "            \n",
    "if valid:\n",
    "    print(f'The zipcode {zipcode} is valid')"
   ]
  },
  {
   "cell_type": "code",
   "execution_count": 9,
   "metadata": {},
   "outputs": [
    {
     "name": "stdin",
     "output_type": "stream",
     "text": [
      "Enter a zipcode to test:  4556yu\n"
     ]
    },
    {
     "name": "stdout",
     "output_type": "stream",
     "text": [
      "The zipcode entered 4556yu is not the required length. Please enter 5 digits.\n",
      "--------------------------------------------------\n",
      "zipcode: 4556yu\n",
      "index before: 0\n",
      "4 is in index 0\n",
      "The zipcode 4556yu is valid\n",
      "index after: 1\n",
      "--------------------------------------------------\n",
      "zipcode: 4556yu\n",
      "index before: 1\n",
      "5 is in index 1\n",
      "The zipcode 4556yu is valid\n",
      "index after: 2\n",
      "--------------------------------------------------\n",
      "zipcode: 4556yu\n",
      "index before: 2\n",
      "5 is in index 2\n",
      "The zipcode 4556yu is valid\n",
      "index after: 3\n",
      "--------------------------------------------------\n",
      "zipcode: 4556yu\n",
      "index before: 3\n",
      "6 is in index 3\n",
      "The zipcode 4556yu is valid\n",
      "index after: 4\n",
      "--------------------------------------------------\n",
      "zipcode: 4556yu\n",
      "index before: 4\n",
      "y is in index 4\n",
      "The zipcode 4556yu is valid\n",
      "index after: 5\n",
      "--------------------------------------------------\n",
      "zipcode: 4556yu\n",
      "index before: 5\n",
      "u is in index 5\n",
      "The zipcode 4556yu is valid\n",
      "index after: 6\n"
     ]
    },
    {
     "ename": "IndexError",
     "evalue": "string index out of range",
     "output_type": "error",
     "traceback": [
      "\u001b[0;31m---------------------------------------------------------------------------\u001b[0m",
      "\u001b[0;31mIndexError\u001b[0m                                Traceback (most recent call last)",
      "Input \u001b[0;32mIn [9]\u001b[0m, in \u001b[0;36m<cell line: 10>\u001b[0;34m()\u001b[0m\n\u001b[1;32m      7\u001b[0m \u001b[38;5;28;01mif\u001b[39;00m length \u001b[38;5;241m!=\u001b[39m \u001b[38;5;241m5\u001b[39m:\n\u001b[1;32m      8\u001b[0m     \u001b[38;5;28mprint\u001b[39m(\u001b[38;5;124mf\u001b[39m\u001b[38;5;124m'\u001b[39m\u001b[38;5;124mThe zipcode entered \u001b[39m\u001b[38;5;132;01m{\u001b[39;00mzipcode\u001b[38;5;132;01m}\u001b[39;00m\u001b[38;5;124m is not the required length. Please enter 5 digits.\u001b[39m\u001b[38;5;124m'\u001b[39m)\n\u001b[0;32m---> 10\u001b[0m \u001b[38;5;28;01mwhile\u001b[39;00m \u001b[43mzipcode\u001b[49m\u001b[43m[\u001b[49m\u001b[43mindex\u001b[49m\u001b[43m]\u001b[49m\u001b[38;5;241m.\u001b[39misnumeric():\n\u001b[1;32m     12\u001b[0m     \u001b[38;5;28;01mwhile\u001b[39;00m index \u001b[38;5;241m!=\u001b[39m length:\n\u001b[1;32m     13\u001b[0m         \n\u001b[1;32m     14\u001b[0m     \u001b[38;5;66;03m############################\u001b[39;00m\n\u001b[1;32m     15\u001b[0m         \u001b[38;5;28mprint\u001b[39m(\u001b[38;5;124m'\u001b[39m\u001b[38;5;124m-\u001b[39m\u001b[38;5;124m'\u001b[39m\u001b[38;5;241m*\u001b[39m\u001b[38;5;241m50\u001b[39m)\n",
      "\u001b[0;31mIndexError\u001b[0m: string index out of range"
     ]
    }
   ],
   "source": [
    "zipcode = input(\"Enter a zipcode to test: \")\n",
    "\n",
    "length = len(zipcode)\n",
    "valid = False\n",
    "index = 0\n",
    "\n",
    "if length != 5:\n",
    "    print(f'The zipcode entered {zipcode} is not the required length. Please enter 5 digits.')\n",
    "\n",
    "while zipcode[index].isnumeric():\n",
    "\n",
    "    while index != length:\n",
    "        \n",
    "    ############################\n",
    "        print('-'*50)\n",
    "        print(f'zipcode: {zipcode}')\n",
    "        \n",
    "#        if zipcode[index].isnumeric():\n",
    "\n",
    "        print(f'index before: {index}')\n",
    "        print(f'{zipcode[index]} is in index {index}')\n",
    "        valid = True\n",
    "        print(f'The zipcode {zipcode} is valid')\n",
    "        index += 1\n",
    "        print(f'index after: {index}')\n",
    "    valid = False\n",
    "            \n",
    "\n",
    "if valid == False:\n",
    "    print(f'The zipcode is not valid because it contains the character \"{zipcode[index]}\"')"
   ]
  },
  {
   "cell_type": "code",
   "execution_count": null,
   "metadata": {},
   "outputs": [],
   "source": []
  },
  {
   "cell_type": "code",
   "execution_count": null,
   "metadata": {},
   "outputs": [],
   "source": []
  },
  {
   "cell_type": "code",
   "execution_count": null,
   "metadata": {},
   "outputs": [],
   "source": []
  },
  {
   "cell_type": "code",
   "execution_count": null,
   "metadata": {},
   "outputs": [],
   "source": []
  },
  {
   "cell_type": "code",
   "execution_count": null,
   "metadata": {},
   "outputs": [],
   "source": []
  },
  {
   "cell_type": "markdown",
   "metadata": {},
   "source": [
    "### Troubleshoot the errors!\n",
    "\n",
    "Hints:\n",
    "- Use print statements to see what the variables contain\n",
    "- You wont need to add any lines; just need to fix the lines so that the logic is correct\n",
    "- There are (at least) two logic errors in the program to fix!"
   ]
  },
  {
   "cell_type": "code",
   "execution_count": null,
   "metadata": {},
   "outputs": [],
   "source": [
    "### Your code here"
   ]
  },
  {
   "cell_type": "code",
   "execution_count": null,
   "metadata": {},
   "outputs": [],
   "source": []
  },
  {
   "cell_type": "code",
   "execution_count": 26,
   "metadata": {},
   "outputs": [],
   "source": [
    "mylist = [1,2,3,4,5,6]"
   ]
  },
  {
   "cell_type": "code",
   "execution_count": 27,
   "metadata": {},
   "outputs": [
    {
     "data": {
      "text/plain": [
       "1"
      ]
     },
     "execution_count": 27,
     "metadata": {},
     "output_type": "execute_result"
    }
   ],
   "source": [
    "mylist[0]"
   ]
  },
  {
   "cell_type": "code",
   "execution_count": 28,
   "metadata": {},
   "outputs": [
    {
     "data": {
      "text/plain": [
       "2"
      ]
     },
     "execution_count": 28,
     "metadata": {},
     "output_type": "execute_result"
    }
   ],
   "source": [
    "mylist[1]"
   ]
  },
  {
   "cell_type": "code",
   "execution_count": 61,
   "metadata": {},
   "outputs": [
    {
     "name": "stdin",
     "output_type": "stream",
     "text": [
      "Enter a zipcode to test:  cv234\n"
     ]
    },
    {
     "ename": "ValueError",
     "evalue": "invalid literal for int() with base 10: 'cv234'",
     "output_type": "error",
     "traceback": [
      "\u001b[0;31m---------------------------------------------------------------------------\u001b[0m",
      "\u001b[0;31mValueError\u001b[0m                                Traceback (most recent call last)",
      "Input \u001b[0;32mIn [61]\u001b[0m, in \u001b[0;36m<cell line: 1>\u001b[0;34m()\u001b[0m\n\u001b[0;32m----> 1\u001b[0m zipcode \u001b[38;5;241m=\u001b[39m \u001b[38;5;28;43mint\u001b[39;49m\u001b[43m(\u001b[49m\u001b[38;5;28;43minput\u001b[39;49m\u001b[43m(\u001b[49m\u001b[38;5;124;43m\"\u001b[39;49m\u001b[38;5;124;43mEnter a zipcode to test: \u001b[39;49m\u001b[38;5;124;43m\"\u001b[39;49m\u001b[43m)\u001b[49m\u001b[43m)\u001b[49m\n",
      "\u001b[0;31mValueError\u001b[0m: invalid literal for int() with base 10: 'cv234'"
     ]
    }
   ],
   "source": [
    "zipcode = int(input(\"Enter a zipcode to test: \"))"
   ]
  },
  {
   "cell_type": "code",
   "execution_count": null,
   "metadata": {},
   "outputs": [],
   "source": []
  },
  {
   "cell_type": "code",
   "execution_count": null,
   "metadata": {},
   "outputs": [],
   "source": []
  },
  {
   "cell_type": "code",
   "execution_count": null,
   "metadata": {},
   "outputs": [],
   "source": []
  },
  {
   "cell_type": "code",
   "execution_count": null,
   "metadata": {},
   "outputs": [],
   "source": []
  },
  {
   "cell_type": "code",
   "execution_count": null,
   "metadata": {},
   "outputs": [],
   "source": []
  },
  {
   "cell_type": "code",
   "execution_count": 11,
   "metadata": {},
   "outputs": [
    {
     "name": "stdin",
     "output_type": "stream",
     "text": [
      "Enter a zipcode to test:  123er\n"
     ]
    },
    {
     "name": "stdout",
     "output_type": "stream",
     "text": [
      "Zipcode is not valid because it contains characters\n"
     ]
    }
   ],
   "source": [
    "zipcode = input(\"Enter a zipcode to test: \")\n",
    "\n",
    "length = len(zipcode)\n",
    "valid = False\n",
    "\n",
    "# check to make sure the length is correct\n",
    "if length != 5:\n",
    "    print(f'The zipcode entered {zipcode} is not the required length. Please enter 5 digits.')\n",
    "\n",
    "if zipcode.isnumeric() == False:\n",
    "    print(\"Zipcode is not valid because it contains characters\")\n",
    "    \n",
    "else:\n",
    "    \n",
    "    # Set the index to 0 and then go through each character\n",
    "    # checking to make sure the characters are numeric\n",
    "    index = 0\n",
    "    while index != length:\n",
    "        ############################\n",
    "        print('-'*50)    \n",
    "        if zipcode[index] == 1 or 2 or 3 or 4 or 5 or 6  or 7 or 8 or 9 or 0:\n",
    "            print(f'index before: {index}')\n",
    "            print(f'{zipcode[index]} is in index {index}')\n",
    "            valid = True\n",
    "#            print(f'The zipcode {zipcode} is valid')\n",
    "            index += 1\n",
    "            print(f'index after: {index}')\n",
    "            print(f'The zipcode {zipcode} is valid')\n",
    "            \n",
    "        else:\n",
    "            index = length\n",
    "            valid = False\n",
    "            print(f'The zipcode is not valid because it contains the character \"{zipcode[index]}\"')\n",
    "            \n",
    "# if valid == False:\n",
    "#     print(f'The zipcode is not valid because it contains the character \"{zipcode[index]}\"')"
   ]
  },
  {
   "cell_type": "code",
   "execution_count": null,
   "metadata": {},
   "outputs": [],
   "source": []
  },
  {
   "cell_type": "code",
   "execution_count": null,
   "metadata": {},
   "outputs": [],
   "source": []
  },
  {
   "cell_type": "code",
   "execution_count": 7,
   "metadata": {},
   "outputs": [
    {
     "name": "stdin",
     "output_type": "stream",
     "text": [
      "Enter a zipcode to test:  123rg\n"
     ]
    },
    {
     "data": {
      "text/plain": [
       "False"
      ]
     },
     "execution_count": 7,
     "metadata": {},
     "output_type": "execute_result"
    }
   ],
   "source": [
    "zipcode = input(\"Enter a zipcode to test: \")\n",
    "\n",
    "zipcode.isnumeric()"
   ]
  },
  {
   "cell_type": "code",
   "execution_count": 9,
   "metadata": {},
   "outputs": [
    {
     "name": "stdin",
     "output_type": "stream",
     "text": [
      "Enter a zipcode to test:  1223t\n"
     ]
    },
    {
     "name": "stdout",
     "output_type": "stream",
     "text": [
      "--------------------------------------------------\n",
      "index before: 0\n",
      "1 is in index 0\n",
      "index after: 1\n",
      "--------------------------------------------------\n",
      "index before: 1\n",
      "2 is in index 1\n",
      "index after: 2\n",
      "--------------------------------------------------\n",
      "index before: 2\n",
      "2 is in index 2\n",
      "index after: 3\n",
      "--------------------------------------------------\n",
      "index before: 3\n",
      "3 is in index 3\n",
      "index after: 4\n",
      "--------------------------------------------------\n",
      "index : 4\n",
      "The zipcode is not valid because it contains the character \"t\"\n"
     ]
    }
   ],
   "source": [
    "zipcode = input(\"Enter a zipcode to test: \")\n",
    "\n",
    "length = len(zipcode)\n",
    "valid = False\n",
    "\n",
    "# check to make sure the length is correct\n",
    "if length != 5:\n",
    "    print(f'The zipcode entered {zipcode} is not the required length. Please enter 5 digits.')\n",
    "\n",
    "# if zipcode.isnumeric() == False:\n",
    "#     print(\"Zipcode is not valid because it contains characters\")\n",
    "    \n",
    "else:\n",
    "    \n",
    "    # Set the index to 0 and then go through each character\n",
    "    # checking to make sure the characters are numeric\n",
    "    index = 0\n",
    "    while index != length:\n",
    "        ############################\n",
    "        print('-'*50)    \n",
    "#        if zipcode[index] == 1 or 2 or 3 or 4 or 5 or 6  or 7 or 8 or 9 or 0:\n",
    "        if zipcode[index].isdigit():\n",
    "            print(f'index before: {index}')\n",
    "            print(f'{zipcode[index]} is in index {index}')\n",
    "            valid = True\n",
    "#            print(f'The zipcode {zipcode} is valid')\n",
    "            index += 1\n",
    "            print(f'index after: {index}')\n",
    "#            print(f'The zipcode {zipcode} is valid')\n",
    "            \n",
    "        else:\n",
    "            valid = False\n",
    "            print(f'index : {index}')\n",
    "            print(f'The zipcode is not valid because it contains the character \"{zipcode[index]}\"')\n",
    "            index = length\n",
    "\n",
    "            \n",
    "if valid:\n",
    "    print(f'The zipcode {zipcode} is valid')"
   ]
  },
  {
   "cell_type": "code",
   "execution_count": 17,
   "metadata": {},
   "outputs": [
    {
     "data": {
      "text/plain": [
       "False"
      ]
     },
     "execution_count": 17,
     "metadata": {},
     "output_type": "execute_result"
    }
   ],
   "source": [
    "zipcode = '1234S'\n",
    "\n",
    "zipcode.isdigit()"
   ]
  },
  {
   "cell_type": "code",
   "execution_count": 12,
   "metadata": {},
   "outputs": [
    {
     "name": "stdin",
     "output_type": "stream",
     "text": [
      "Enter a zipcode to test:  1234r\n"
     ]
    },
    {
     "name": "stdout",
     "output_type": "stream",
     "text": [
      "--------------------------------------------------\n",
      "index before: 0\n",
      "1 is in index 0\n",
      "index after: 1\n",
      "--------------------------------------------------\n",
      "index before: 1\n",
      "2 is in index 1\n",
      "index after: 2\n",
      "--------------------------------------------------\n",
      "index before: 2\n",
      "3 is in index 2\n",
      "index after: 3\n",
      "--------------------------------------------------\n",
      "index before: 3\n",
      "4 is in index 3\n",
      "index after: 4\n",
      "--------------------------------------------------\n",
      "r is in index 4\n",
      "The zipcode is not valid because it contains the character \"r\"\n"
     ]
    }
   ],
   "source": [
    "zipcode = input(\"Enter a zipcode to test: \")\n",
    "\n",
    "length = len(zipcode)\n",
    "valid = False\n",
    "\n",
    "if length != 5:\n",
    "    print(f'The zipcode entered {zipcode} is not the required length. Please enter 5 digits.')\n",
    "    \n",
    "else:\n",
    "    \n",
    "    index = 0\n",
    "    while index != length:\n",
    "        ############################\n",
    "        print('-'*50)    \n",
    "        if zipcode[index].isdigit():\n",
    "            valid = True\n",
    "            print(f'index before: {index}')\n",
    "            print(f'{zipcode[index]} is in index {index}')\n",
    "            index += 1\n",
    "            print(f'index after: {index}')\n",
    "            \n",
    "        else:\n",
    "            valid = False\n",
    "            print(f'{zipcode[index]} is in index {index}')\n",
    "            print(f'The zipcode is not valid because it contains the character \"{zipcode[index]}\"')\n",
    "            index = length\n",
    "            \n",
    "if valid:\n",
    "    print(f'The zipcode {zipcode} is valid')"
   ]
  },
  {
   "cell_type": "code",
   "execution_count": null,
   "metadata": {},
   "outputs": [],
   "source": []
  }
 ],
 "metadata": {
  "kernelspec": {
   "display_name": "Python 3 (ipykernel)",
   "language": "python",
   "name": "python3"
  },
  "language_info": {
   "codemirror_mode": {
    "name": "ipython",
    "version": 3
   },
   "file_extension": ".py",
   "mimetype": "text/x-python",
   "name": "python",
   "nbconvert_exporter": "python",
   "pygments_lexer": "ipython3",
   "version": "3.9.12"
  }
 },
 "nbformat": 4,
 "nbformat_minor": 4
}
