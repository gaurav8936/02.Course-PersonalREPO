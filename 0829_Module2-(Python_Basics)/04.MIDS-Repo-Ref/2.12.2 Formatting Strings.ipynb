{
 "cells": [
  {
   "cell_type": "markdown",
   "metadata": {},
   "source": [
    "#### Formatting Strings\n",
    "\n",
    "There are many different methods for formatting strings. Formatting means creating strings that match a certain pattern, especially inserting numbers and other objects into text. Ensuring that strings are formatted correctly will make your printed output look better but also has many applications in Machine Learning especially Natural Language Processing algorithms.\n",
    "\n",
    "In the past, Python had a few different ways to format strings including the % sign and .format(). For the lesson, I going to talk about the fstrings, which are becoming the standard in python as well as string concatenation styles."
   ]
  },
  {
   "cell_type": "code",
   "execution_count": 1,
   "metadata": {},
   "outputs": [],
   "source": [
    "name = 'Rob'\n",
    "money = 10.846"
   ]
  },
  {
   "cell_type": "code",
   "execution_count": 2,
   "metadata": {},
   "outputs": [
    {
     "name": "stdout",
     "output_type": "stream",
     "text": [
      "My name is Rob and I have 10.846 in my wallet.\n"
     ]
    }
   ],
   "source": [
    "# String Concatenation method\n",
    "\n",
    "str_con = \"My name is \" + name + \" and I have \" + str(money) + \" in my wallet.\"\n",
    "print(str_con)"
   ]
  },
  {
   "cell_type": "code",
   "execution_count": 3,
   "metadata": {},
   "outputs": [
    {
     "name": "stdout",
     "output_type": "stream",
     "text": [
      "My name is Rob and I have 10.846 in my wallet.\n"
     ]
    }
   ],
   "source": [
    "# f-Strings method\n",
    "\n",
    "f_str = f\"My name is {name} and I have {money} in my wallet.\"\n",
    "print(f_str)"
   ]
  },
  {
   "cell_type": "code",
   "execution_count": 4,
   "metadata": {},
   "outputs": [
    {
     "name": "stdout",
     "output_type": "stream",
     "text": [
      "My name is Rob and I have 10.846 in my wallet.\n"
     ]
    }
   ],
   "source": [
    "print(f\"My name is {name} and I have {money} in my wallet.\")"
   ]
  },
  {
   "cell_type": "markdown",
   "metadata": {},
   "source": [
    "#### Formatting a float to a number of decimal places"
   ]
  },
  {
   "cell_type": "code",
   "execution_count": 5,
   "metadata": {},
   "outputs": [
    {
     "name": "stdout",
     "output_type": "stream",
     "text": [
      "My name is Rob and I have 10.85 in my wallet.\n"
     ]
    }
   ],
   "source": [
    "str_con = \"My name is \" + name + \" and I have \" + str(round(money,2)) + \" in my wallet.\"\n",
    "print(str_con)"
   ]
  },
  {
   "cell_type": "markdown",
   "metadata": {},
   "source": [
    "In a f-Strings the to format a number you add a : and a period and then the number of decimal places wanted. You need the lower case to state that you want this to be a float number (without it the number might get formatted to scientific notation)."
   ]
  },
  {
   "cell_type": "code",
   "execution_count": 6,
   "metadata": {},
   "outputs": [
    {
     "name": "stdout",
     "output_type": "stream",
     "text": [
      "My name is Rob and I have 10.85 in my wallet.\n"
     ]
    }
   ],
   "source": [
    "f_str = f\"My name is {name} and I have {money:.2f} in my wallet.\"\n",
    "print(f_str)"
   ]
  },
  {
   "cell_type": "code",
   "execution_count": 7,
   "metadata": {},
   "outputs": [
    {
     "name": "stdout",
     "output_type": "stream",
     "text": [
      "My name is Rob and I have 1.1e+01 in my wallet.\n"
     ]
    }
   ],
   "source": [
    "f_str = f\"My name is {name} and I have {money:.2} in my wallet.\"\n",
    "print(f_str)"
   ]
  },
  {
   "cell_type": "markdown",
   "metadata": {},
   "source": [
    "#### Field Width\n",
    "\n",
    "You can use the numbers in front a the decimal to state how wide you want the formatting field ()"
   ]
  },
  {
   "cell_type": "code",
   "execution_count": 8,
   "metadata": {},
   "outputs": [
    {
     "name": "stdout",
     "output_type": "stream",
     "text": [
      "Price:      12.00\n",
      "Taxes:       1.20\n",
      "Total:      13.20\n",
      "\n"
     ]
    }
   ],
   "source": [
    "price = 12\n",
    "\n",
    "print(f\"\"\"Price: {price:10.2f}\n",
    "Taxes: {price*0.10:10.2f}\n",
    "Total: {price + price*0.10:10.2f}\n",
    "\"\"\")"
   ]
  }
 ],
 "metadata": {
  "kernelspec": {
   "display_name": "Python 3",
   "language": "python",
   "name": "python3"
  },
  "language_info": {
   "codemirror_mode": {
    "name": "ipython",
    "version": 3
   },
   "file_extension": ".py",
   "mimetype": "text/x-python",
   "name": "python",
   "nbconvert_exporter": "python",
   "pygments_lexer": "ipython3",
   "version": "3.8.5"
  }
 },
 "nbformat": 4,
 "nbformat_minor": 4
}
