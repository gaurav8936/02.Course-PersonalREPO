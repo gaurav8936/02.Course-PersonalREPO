{
 "cells": [
  {
   "cell_type": "markdown",
   "metadata": {},
   "source": [
    "# Strings Drill"
   ]
  },
  {
   "cell_type": "markdown",
   "metadata": {},
   "source": [
    "#### String Operations\n",
    "\n",
    "- Use different string operations below as described in the comments"
   ]
  },
  {
   "cell_type": "code",
   "execution_count": 1,
   "metadata": {},
   "outputs": [],
   "source": [
    "my_str = \"python\""
   ]
  },
  {
   "cell_type": "code",
   "execution_count": 3,
   "metadata": {},
   "outputs": [
    {
     "data": {
      "text/plain": [
       "'PYTHON'"
      ]
     },
     "execution_count": 3,
     "metadata": {},
     "output_type": "execute_result"
    }
   ],
   "source": [
    "# Make my_str all upper case\n",
    "\n",
    "my_str.upper()\n"
   ]
  },
  {
   "cell_type": "code",
   "execution_count": 4,
   "metadata": {},
   "outputs": [
    {
     "data": {
      "text/plain": [
       "'Python'"
      ]
     },
     "execution_count": 4,
     "metadata": {},
     "output_type": "execute_result"
    }
   ],
   "source": [
    "# Make my_str first letter capitalized\n",
    "\n",
    "my_str.title()"
   ]
  },
  {
   "cell_type": "code",
   "execution_count": 5,
   "metadata": {},
   "outputs": [
    {
     "data": {
      "text/plain": [
       "'Python'"
      ]
     },
     "execution_count": 5,
     "metadata": {},
     "output_type": "execute_result"
    }
   ],
   "source": [
    "my_str.capitalize()"
   ]
  },
  {
   "cell_type": "code",
   "execution_count": null,
   "metadata": {},
   "outputs": [],
   "source": [
    "my_str2 = \"PYTHON\"\n",
    "\n",
    "# Make my_str2 lower case\n",
    "\n"
   ]
  },
  {
   "cell_type": "code",
   "execution_count": 7,
   "metadata": {},
   "outputs": [
    {
     "data": {
      "text/plain": [
       "'Learning Python Is So Fun!'"
      ]
     },
     "execution_count": 7,
     "metadata": {},
     "output_type": "execute_result"
    }
   ],
   "source": [
    "# Make the first letter of each word in the `sentence` capitalized\n",
    "\n",
    "sentence = \"Learning python is so fun!\"\n",
    "\n",
    "sentence.title()\n"
   ]
  },
  {
   "cell_type": "markdown",
   "metadata": {},
   "source": [
    "#### String Concatenation\n",
    "\n",
    "Make the Nikola Tesla quote below into a single string using mathematical symbols as shown in the previous lecture:\n",
    "\n",
    "```\n",
    "\"The scientists of today\"\n",
    "\n",
    "\"think deeply instead of clearly.\"\n",
    "\n",
    "\"One must be sane to think clearly,\"\n",
    "\n",
    "\"but one can think deeply and be\"\n",
    "\n",
    "\"quite insane.\"\n",
    "```"
   ]
  },
  {
   "cell_type": "code",
   "execution_count": 10,
   "metadata": {},
   "outputs": [
    {
     "name": "stdout",
     "output_type": "stream",
     "text": [
      "The scientists of today think deeply instead of clearly. One must be sane to think clearly, but one can think deeply and be quite insane.\n"
     ]
    }
   ],
   "source": [
    "a = \"The scientists of today\" \n",
    "s = \"think deeply instead of clearly.\" \n",
    "V = \"One must be sane to think clearly,\"\n",
    "w = \"but one can think deeply and be\"\n",
    "z = \"quite insane.\"\n",
    "\n",
    "######## your code here #######\n",
    "\n",
    "f_str = f\"{a} {s} {V} {w} {z}\"\n",
    "\n",
    "print(f_str)"
   ]
  },
  {
   "cell_type": "code",
   "execution_count": 12,
   "metadata": {},
   "outputs": [
    {
     "name": "stdout",
     "output_type": "stream",
     "text": [
      "The scientists of today \n",
      "think deeply instead of clearly. \n",
      "One must be sane to think clearly, \n",
      "but one can think deeply and be \n",
      "quite insane.\n"
     ]
    }
   ],
   "source": [
    "\n",
    "\n",
    "f_str = f\"{a} \\n{s} \\n{V} \\n{w} \\n{z}\"\n",
    "\n",
    "print(f_str)"
   ]
  },
  {
   "cell_type": "markdown",
   "metadata": {},
   "source": [
    "#### String Indexing\n",
    "\n",
    "- Use string indexing to accomplish the following tasks:"
   ]
  },
  {
   "cell_type": "code",
   "execution_count": 13,
   "metadata": {},
   "outputs": [
    {
     "data": {
      "text/plain": [
       "'D'"
      ]
     },
     "execution_count": 13,
     "metadata": {},
     "output_type": "execute_result"
    }
   ],
   "source": [
    "# output a new word that consists of the first letter and the last letter of old_str\n",
    "\n",
    "old_str = \"Data\"\n",
    "\n",
    "old_str[:1]"
   ]
  },
  {
   "cell_type": "code",
   "execution_count": 14,
   "metadata": {},
   "outputs": [
    {
     "data": {
      "text/plain": [
       "'a'"
      ]
     },
     "execution_count": 14,
     "metadata": {},
     "output_type": "execute_result"
    }
   ],
   "source": [
    "old_str[-1]"
   ]
  },
  {
   "cell_type": "code",
   "execution_count": 20,
   "metadata": {},
   "outputs": [
    {
     "name": "stdout",
     "output_type": "stream",
     "text": [
      "Da\n",
      "<class 'str'>\n"
     ]
    }
   ],
   "source": [
    "new_word = old_str[:1] + old_str[-1]\n",
    "\n",
    "print(new_word)\n",
    "print(type(new_word))"
   ]
  },
  {
   "cell_type": "code",
   "execution_count": 17,
   "metadata": {},
   "outputs": [
    {
     "data": {
      "text/plain": [
       "'DTSINE'"
      ]
     },
     "execution_count": 17,
     "metadata": {},
     "output_type": "execute_result"
    }
   ],
   "source": [
    "# output a new word that takes every other letter of old_str2 and capitilzes them\n",
    "\n",
    "old_str2 = \"datascience\"\n",
    "\n",
    "old_str2[::2].upper()"
   ]
  },
  {
   "cell_type": "code",
   "execution_count": null,
   "metadata": {},
   "outputs": [],
   "source": []
  }
 ],
 "metadata": {
  "kernelspec": {
   "display_name": "Python 3 (ipykernel)",
   "language": "python",
   "name": "python3"
  },
  "language_info": {
   "codemirror_mode": {
    "name": "ipython",
    "version": 3
   },
   "file_extension": ".py",
   "mimetype": "text/x-python",
   "name": "python",
   "nbconvert_exporter": "python",
   "pygments_lexer": "ipython3",
   "version": "3.7.13"
  }
 },
 "nbformat": 4,
 "nbformat_minor": 4
}
