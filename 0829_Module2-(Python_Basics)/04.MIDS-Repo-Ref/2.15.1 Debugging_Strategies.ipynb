{
 "cells": [
  {
   "cell_type": "markdown",
   "metadata": {},
   "source": [
    "I'm writing a program to show the position of letters in a name. I write it as shown below but when I run it I get an error. I'm not sure why this is happening - how do I fix it? "
   ]
  },
  {
   "cell_type": "code",
   "execution_count": 12,
   "metadata": {},
   "outputs": [
    {
     "name": "stdout",
     "output_type": "stream",
     "text": [
      "R is in index #0\n",
      "o is in index #1\n",
      "b is in index #2\n"
     ]
    },
    {
     "ename": "IndexError",
     "evalue": "string index out of range",
     "output_type": "error",
     "traceback": [
      "\u001b[1;31m---------------------------------------------------------------------------\u001b[0m",
      "\u001b[1;31mIndexError\u001b[0m                                Traceback (most recent call last)",
      "\u001b[1;32m<ipython-input-12-dc06efbcd8fa>\u001b[0m in \u001b[0;36m<module>\u001b[1;34m\u001b[0m\n\u001b[0;32m      4\u001b[0m \u001b[1;33m\u001b[0m\u001b[0m\n\u001b[0;32m      5\u001b[0m \u001b[1;32mwhile\u001b[0m \u001b[0mnum\u001b[0m \u001b[1;33m<=\u001b[0m \u001b[0mlen\u001b[0m\u001b[1;33m(\u001b[0m\u001b[0mname\u001b[0m\u001b[1;33m)\u001b[0m\u001b[1;33m:\u001b[0m\u001b[1;33m\u001b[0m\u001b[1;33m\u001b[0m\u001b[0m\n\u001b[1;32m----> 6\u001b[1;33m     \u001b[0mprint\u001b[0m\u001b[1;33m(\u001b[0m\u001b[1;34mf'{name[num]} is in index #{num}'\u001b[0m\u001b[1;33m)\u001b[0m\u001b[1;33m\u001b[0m\u001b[1;33m\u001b[0m\u001b[0m\n\u001b[0m\u001b[0;32m      7\u001b[0m     \u001b[0mnum\u001b[0m \u001b[1;33m+=\u001b[0m \u001b[1;36m1\u001b[0m\u001b[1;33m\u001b[0m\u001b[1;33m\u001b[0m\u001b[0m\n\u001b[0;32m      8\u001b[0m \u001b[1;33m\u001b[0m\u001b[0m\n",
      "\u001b[1;31mIndexError\u001b[0m: string index out of range"
     ]
    }
   ],
   "source": [
    "name = 'Rob'\n",
    "\n",
    "num = 0\n",
    "\n",
    "while num <= len(name):\n",
    "    print(f'{name[num]} is in index #{num}')\n",
    "    num += 1\n",
    "    \n",
    "print(f'The word is {nam}')"
   ]
  },
  {
   "cell_type": "markdown",
   "metadata": {},
   "source": [
    "The first method to try is putting `print` statements in before the error to see what's stored in the variables. Some tools will also let you go line by line through your code and you can see what is in each variable. The reason I personally use print statements is because they work in most environments where sometimes you won't have access to that special programming tool. Another problem with debuggers is that executing statements one-by-one might take too long until you get to an error."
   ]
  },
  {
   "cell_type": "code",
   "execution_count": 13,
   "metadata": {},
   "outputs": [
    {
     "name": "stdout",
     "output_type": "stream",
     "text": [
      "--------------------------------------------------\n",
      "Name: Rob\n",
      "Num: 0\n",
      "Name[num]: R\n",
      "R is in index #0\n",
      "--------------------------------------------------\n",
      "Name: Rob\n",
      "Num: 1\n",
      "Name[num]: o\n",
      "o is in index #1\n",
      "--------------------------------------------------\n",
      "Name: Rob\n",
      "Num: 2\n",
      "Name[num]: b\n",
      "b is in index #2\n",
      "--------------------------------------------------\n",
      "Name: Rob\n",
      "Num: 3\n"
     ]
    },
    {
     "ename": "IndexError",
     "evalue": "string index out of range",
     "output_type": "error",
     "traceback": [
      "\u001b[1;31m---------------------------------------------------------------------------\u001b[0m",
      "\u001b[1;31mIndexError\u001b[0m                                Traceback (most recent call last)",
      "\u001b[1;32m<ipython-input-13-6c589fbe2ade>\u001b[0m in \u001b[0;36m<module>\u001b[1;34m\u001b[0m\n\u001b[0;32m      7\u001b[0m     \u001b[0mprint\u001b[0m\u001b[1;33m(\u001b[0m\u001b[1;34mf'Name: {name}'\u001b[0m\u001b[1;33m)\u001b[0m\u001b[1;33m\u001b[0m\u001b[1;33m\u001b[0m\u001b[0m\n\u001b[0;32m      8\u001b[0m     \u001b[0mprint\u001b[0m\u001b[1;33m(\u001b[0m\u001b[1;34mf'Num: {num}'\u001b[0m\u001b[1;33m)\u001b[0m\u001b[1;33m\u001b[0m\u001b[1;33m\u001b[0m\u001b[0m\n\u001b[1;32m----> 9\u001b[1;33m     \u001b[0mprint\u001b[0m\u001b[1;33m(\u001b[0m\u001b[1;34mf'Name[num]: {name[num]}'\u001b[0m\u001b[1;33m)\u001b[0m\u001b[1;33m\u001b[0m\u001b[1;33m\u001b[0m\u001b[0m\n\u001b[0m\u001b[0;32m     10\u001b[0m     \u001b[0mprint\u001b[0m\u001b[1;33m(\u001b[0m\u001b[1;34mf'{name[num]} is in index #{num}'\u001b[0m\u001b[1;33m)\u001b[0m\u001b[1;33m\u001b[0m\u001b[1;33m\u001b[0m\u001b[0m\n\u001b[0;32m     11\u001b[0m     \u001b[0mnum\u001b[0m \u001b[1;33m+=\u001b[0m \u001b[1;36m1\u001b[0m\u001b[1;33m\u001b[0m\u001b[1;33m\u001b[0m\u001b[0m\n",
      "\u001b[1;31mIndexError\u001b[0m: string index out of range"
     ]
    }
   ],
   "source": [
    "name = 'Rob'\n",
    "\n",
    "num = 0\n",
    "\n",
    "while num <= len(name):\n",
    "    \n",
    "    ##############\n",
    "    print('-'*50)\n",
    "    print(f'Name: {name}')\n",
    "    print(f'Num: {num}')\n",
    "    print(f'Name[num]: {name[num]}')\n",
    "    ##############\n",
    "    \n",
    "    print(f'{name[num]} is in index #{num}')\n",
    "    num += 1\n",
    "    \n",
    "print(f'The word is {nam}')"
   ]
  },
  {
   "cell_type": "markdown",
   "metadata": {},
   "source": [
    "Oh so the program is crashing trying to do name[3] which makes sense since there isnt a character in index 3 of the string 'Rob'. Maybe I didnt need the <= in the while - let me change it just to <."
   ]
  },
  {
   "cell_type": "code",
   "execution_count": 11,
   "metadata": {},
   "outputs": [
    {
     "name": "stdout",
     "output_type": "stream",
     "text": [
      "--------------------------------------------------\n",
      "Name: Rob\n",
      "Num: 0\n",
      "Name[num]: R\n",
      "R is in index #0\n",
      "--------------------------------------------------\n",
      "Name: Rob\n",
      "Num: 1\n",
      "Name[num]: o\n",
      "o is in index #1\n",
      "--------------------------------------------------\n",
      "Name: Rob\n",
      "Num: 2\n",
      "Name[num]: b\n",
      "b is in index #2\n"
     ]
    },
    {
     "ename": "NameError",
     "evalue": "name 'nam' is not defined",
     "output_type": "error",
     "traceback": [
      "\u001b[1;31m---------------------------------------------------------------------------\u001b[0m",
      "\u001b[1;31mNameError\u001b[0m                                 Traceback (most recent call last)",
      "\u001b[1;32m<ipython-input-11-d022cc61d6c5>\u001b[0m in \u001b[0;36m<module>\u001b[1;34m\u001b[0m\n\u001b[0;32m     11\u001b[0m     \u001b[0mnum\u001b[0m \u001b[1;33m+=\u001b[0m \u001b[1;36m1\u001b[0m\u001b[1;33m\u001b[0m\u001b[1;33m\u001b[0m\u001b[0m\n\u001b[0;32m     12\u001b[0m \u001b[1;33m\u001b[0m\u001b[0m\n\u001b[1;32m---> 13\u001b[1;33m \u001b[0mprint\u001b[0m\u001b[1;33m(\u001b[0m\u001b[1;34mf'The word is {nam}'\u001b[0m\u001b[1;33m)\u001b[0m\u001b[1;33m\u001b[0m\u001b[1;33m\u001b[0m\u001b[0m\n\u001b[0m",
      "\u001b[1;31mNameError\u001b[0m: name 'nam' is not defined"
     ]
    }
   ],
   "source": [
    "name = 'Rob'\n",
    "\n",
    "num = 0\n",
    "\n",
    "while num < len(name):\n",
    "    \n",
    "    ##############\n",
    "    print('-'*50)\n",
    "    print(f'Name: {name}')\n",
    "    print(f'Num: {num}')\n",
    "    print(f'Name[num]: {name[num]}')\n",
    "    ##############\n",
    "    \n",
    "    print(f'{name[num]} is in index #{num}')\n",
    "    num += 1\n",
    "    \n",
    "print(f'The word is {nam}')"
   ]
  },
  {
   "cell_type": "markdown",
   "metadata": {},
   "source": [
    "##### Online error help\n",
    "\n",
    "First the documentation for Python at https://docs.python.org/3/ is a great resource for looking at syntax and different functions/methods available for different objects. Another online resource is stackoverflow which crowd-sourced answers to a lot of programming questions. If you copy multiple-lines of code from somewhere else, please attribute it in a comment."
   ]
  },
  {
   "cell_type": "code",
   "execution_count": 18,
   "metadata": {},
   "outputs": [
    {
     "name": "stdout",
     "output_type": "stream",
     "text": [
      "R is in index #0\n",
      "o is in index #1\n",
      "b is in index #2\n",
      "The word is Rob\n"
     ]
    }
   ],
   "source": [
    "name = 'Rob'\n",
    "\n",
    "num = 0\n",
    "\n",
    "while num < len(name):\n",
    "    print(f'{name[num]} is in index #{num}')\n",
    "    num += 1\n",
    "    \n",
    "print(f'The word is {name}')"
   ]
  }
 ],
 "metadata": {
  "kernelspec": {
   "display_name": "Python 3",
   "language": "python",
   "name": "python3"
  },
  "language_info": {
   "codemirror_mode": {
    "name": "ipython",
    "version": 3
   },
   "file_extension": ".py",
   "mimetype": "text/x-python",
   "name": "python",
   "nbconvert_exporter": "python",
   "pygments_lexer": "ipython3",
   "version": "3.8.5"
  }
 },
 "nbformat": 4,
 "nbformat_minor": 2
}
