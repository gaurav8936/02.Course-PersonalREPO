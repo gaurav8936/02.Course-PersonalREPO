{
 "cells": [
  {
   "cell_type": "markdown",
   "id": "b258bc20-097f-4cf9-9c00-f3de283fed73",
   "metadata": {},
   "source": [
    "# While Loops"
   ]
  },
  {
   "cell_type": "markdown",
   "id": "d52b9df3-4a9e-470c-9e7f-7d3c8333ad28",
   "metadata": {},
   "source": [
    "## remember IF is not a loop"
   ]
  },
  {
   "cell_type": "markdown",
   "id": "7f69e49c-a3e2-4ee6-88e5-7f043a7152cf",
   "metadata": {},
   "source": [
    "### While"
   ]
  },
  {
   "cell_type": "markdown",
   "id": "ac98bd4a-71c1-4933-ab63-332df3d9058a",
   "metadata": {},
   "source": [
    "### For"
   ]
  },
  {
   "cell_type": "markdown",
   "id": "33d5f538-e54d-4de4-98d3-42aca8932585",
   "metadata": {},
   "source": [
    "# While | most general loop in Python"
   ]
  },
  {
   "cell_type": "code",
   "execution_count": 1,
   "id": "c8df9015-832f-4c9d-a011-3a3f0d828020",
   "metadata": {},
   "outputs": [
    {
     "name": "stdout",
     "output_type": "stream",
     "text": [
      "5\n",
      "4\n",
      "3\n",
      "2\n",
      "1\n",
      "Blast Off\n"
     ]
    }
   ],
   "source": [
    "countdown = 5\n",
    "\n",
    "while countdown > 0:\n",
    "    \n",
    "    print(countdown)\n",
    "    \n",
    "    countdown -= 1\n",
    "\n",
    "print(\"Blast Off\")"
   ]
  },
  {
   "cell_type": "code",
   "execution_count": 2,
   "id": "25e201ae-ae59-4d63-9398-bd4400ebab59",
   "metadata": {},
   "outputs": [
    {
     "name": "stdout",
     "output_type": "stream",
     "text": [
      "5\n",
      "Blast Off\n",
      "4\n",
      "Blast Off\n",
      "3\n",
      "Blast Off\n",
      "2\n",
      "Blast Off\n",
      "1\n",
      "Blast Off\n"
     ]
    }
   ],
   "source": [
    "countdown = 5\n",
    "\n",
    "while countdown > 0:\n",
    "    \n",
    "    print(countdown)\n",
    "    \n",
    "    countdown -= 1\n",
    "\n",
    "    print(\"Blast Off\")"
   ]
  },
  {
   "cell_type": "code",
   "execution_count": 3,
   "id": "1bbb415a-e3ed-4609-9a83-febb411089d7",
   "metadata": {},
   "outputs": [
    {
     "name": "stdout",
     "output_type": "stream",
     "text": [
      "10\n",
      "9\n",
      "8\n",
      "7\n",
      "6\n",
      "5\n",
      "4\n",
      "3\n",
      "2\n",
      "1\n"
     ]
    }
   ],
   "source": [
    "num = 10\n",
    "\n",
    "while num > 0:\n",
    "    \n",
    "    print(num)\n",
    "    \n",
    "    num -= 1\n",
    "    "
   ]
  },
  {
   "cell_type": "code",
   "execution_count": 7,
   "id": "37302048-30cd-480b-87c1-4b454d9a2fa5",
   "metadata": {},
   "outputs": [
    {
     "name": "stdin",
     "output_type": "stream",
     "text": [
      "Enter an integer:  20\n"
     ]
    },
    {
     "name": "stdout",
     "output_type": "stream",
     "text": [
      "Your number with all the 2's factored out is:  5.0\n"
     ]
    }
   ],
   "source": [
    "x = int(input(\"Enter an integer: \"))\n",
    "\n",
    "while x%2 == 0:\n",
    "    \n",
    "    x = x/2\n",
    "\n",
    "print(\"Your number with all the 2's factored out is: \", x)"
   ]
  },
  {
   "cell_type": "markdown",
   "id": "77667967-e71e-4562-89fe-f5d26e5ef5a5",
   "metadata": {},
   "source": [
    "## nested loops"
   ]
  },
  {
   "cell_type": "code",
   "execution_count": 8,
   "id": "05e4a651-26b6-4768-8db8-ddf1494690c8",
   "metadata": {},
   "outputs": [
    {
     "name": "stdin",
     "output_type": "stream",
     "text": [
      "Please enter an integer:  10\n"
     ]
    },
    {
     "name": "stdout",
     "output_type": "stream",
     "text": [
      "0\n",
      "1\n",
      "2\n",
      "3\n",
      "4\n",
      "5\n",
      "6\n",
      "7\n",
      "8\n",
      "9\n",
      "10\n"
     ]
    }
   ],
   "source": [
    "row = int(input(\"Please enter an integer: \"))\n",
    "          \n",
    "#while row >= 0:\n",
    "    \n",
    "\n",
    "j = 0\n",
    "\n",
    "while j <= row:\n",
    "    print(j)\n",
    "    j += 1\n",
    "          \n",
    "          \n",
    "          "
   ]
  },
  {
   "cell_type": "markdown",
   "id": "cbba8b78-edac-49fd-8fb5-fd477512b4d0",
   "metadata": {},
   "source": [
    "# end (prints content in one line)"
   ]
  },
  {
   "cell_type": "code",
   "execution_count": 9,
   "id": "255237d7-d963-4b25-83ed-42a2d70126f6",
   "metadata": {},
   "outputs": [
    {
     "name": "stdin",
     "output_type": "stream",
     "text": [
      "Please enter an integer:  10\n"
     ]
    },
    {
     "name": "stdout",
     "output_type": "stream",
     "text": [
      "0 1 2 3 4 5 6 7 8 9 10 "
     ]
    }
   ],
   "source": [
    "row = int(input(\"Please enter an integer: \"))\n",
    "          \n",
    "#while row >= 0:\n",
    "    \n",
    "\n",
    "j = 0\n",
    "\n",
    "while j <= row:\n",
    "    print(j, end = \" \")\n",
    "    j += 1"
   ]
  },
  {
   "cell_type": "markdown",
   "id": "1adda00f-fe68-4abf-bd69-c05c0d59fb83",
   "metadata": {},
   "source": [
    "---"
   ]
  },
  {
   "cell_type": "code",
   "execution_count": 16,
   "id": "f80646da-59cb-4f68-b927-351d532c0c16",
   "metadata": {},
   "outputs": [
    {
     "name": "stdin",
     "output_type": "stream",
     "text": [
      "Please enter an integer:  10\n"
     ]
    },
    {
     "name": "stdout",
     "output_type": "stream",
     "text": [
      "0 1 2 3 4 5 6 7 8 9 10          \n",
      "0 1 2 3 4 5 6 7 8 9          \n",
      "0 1 2 3 4 5 6 7 8          \n",
      "0 1 2 3 4 5 6 7          \n",
      "0 1 2 3 4 5 6          \n",
      "0 1 2 3 4 5          \n",
      "0 1 2 3 4          \n",
      "0 1 2 3          \n",
      "0 1 2          \n",
      "0 1          \n",
      "0          \n"
     ]
    }
   ],
   "source": [
    "row = int(input(\"Please enter an integer: \"))\n",
    "          \n",
    "\n",
    "# outer loop\n",
    "while row >= 0:\n",
    "    \n",
    "    # inner loop\n",
    "    j = 0\n",
    "\n",
    "    while j <= row:\n",
    "        print(j, end = \" \")\n",
    "        j += 1\n",
    "    \n",
    "    print(\"\")\n",
    "    \n",
    "    row -= 1"
   ]
  },
  {
   "cell_type": "markdown",
   "id": "a36197f7-bada-43d8-8b6b-5fb808f2d0b2",
   "metadata": {},
   "source": [
    "### note the print(\"\")"
   ]
  },
  {
   "attachments": {
    "2566d450-f44d-41c9-b332-942676e3f578.png": {
     "image/png": "[encoded data removed]"
    }
   },
   "cell_type": "markdown",
   "id": "1a1a9746-1c1b-4279-857a-ebf6513893fd",
   "metadata": {},
   "source": [
    "![image.png](attachment:2566d450-f44d-41c9-b332-942676e3f578.png)"
   ]
  },
  {
   "cell_type": "markdown",
   "id": "34a46fe6-c428-4ceb-904d-ac2736cc865a",
   "metadata": {},
   "source": [
    "---"
   ]
  },
  {
   "cell_type": "markdown",
   "id": "84e11437-378d-403a-9ef7-47d3e372f4e8",
   "metadata": {},
   "source": [
    "# write a program where an integer is a square number -- then return square root"
   ]
  },
  {
   "cell_type": "markdown",
   "id": "fa14587c-0242-43df-bb75-52b96d5f209b",
   "metadata": {},
   "source": [
    "## get the square root of a number"
   ]
  },
  {
   "cell_type": "code",
   "execution_count": 28,
   "id": "0f402c53-c0b2-49e0-9d26-c128dd5ee623",
   "metadata": {},
   "outputs": [
    {
     "name": "stdin",
     "output_type": "stream",
     "text": [
      "Please enter an integer:  13\n"
     ]
    },
    {
     "name": "stdout",
     "output_type": "stream",
     "text": [
      "guess is:  0 , guess squared is:  0 which is less than x , 13 to go\n",
      "guess is:  1 , guess squared is:  1 which is less than x , 12 to go\n",
      "guess is:  2 , guess squared is:  4 which is less than x , 9 to go\n",
      "guess is:  3 , guess squared is:  9 which is less than x , 4 to go\n"
     ]
    }
   ],
   "source": [
    "x = int(input(\"Please enter an integer: \"))\n",
    "\n",
    "guess = 0\n",
    "\n",
    "while guess**2 < x:\n",
    "    \n",
    "    print(\"guess is: \", guess, \",\",\"guess squared is: \", guess**2, \\\n",
    "          \"which is less than x\",\",\",x - guess**2, \"to go\")\n",
    "    \n",
    "    guess += 1\n",
    "    \n",
    "    "
   ]
  },
  {
   "cell_type": "markdown",
   "id": "3a89927b-8775-47ca-8391-58762d932dfe",
   "metadata": {},
   "source": [
    "---"
   ]
  },
  {
   "cell_type": "code",
   "execution_count": 30,
   "id": "0432f35d-00dd-4862-ac7c-ee487ab370bc",
   "metadata": {},
   "outputs": [
    {
     "name": "stdin",
     "output_type": "stream",
     "text": [
      "Please enter an integer:  16\n"
     ]
    },
    {
     "name": "stdout",
     "output_type": "stream",
     "text": [
      "guess is:  0 , guess squared is:  0 which is less than x , 16 to go\n",
      "guess is:  1 , guess squared is:  1 which is less than x , 15 to go\n",
      "guess is:  2 , guess squared is:  4 which is less than x , 12 to go\n",
      "guess is:  3 , guess squared is:  9 which is less than x , 7 to go\n",
      "4 is the square root of  16\n"
     ]
    }
   ],
   "source": [
    "x = int(input(\"Please enter an integer: \"))\n",
    "\n",
    "guess = 0\n",
    "\n",
    "while guess**2 < x:\n",
    "    \n",
    "    print(\"guess is: \", guess, \",\",\"guess squared is: \", guess**2, \\\n",
    "          \"which is less than x\",\",\",x - guess**2, \"to go\")\n",
    "    \n",
    "    guess += 1\n",
    "\n",
    "if guess**2 == x:\n",
    "    \n",
    "    print(guess, \"is the square root of \", x)"
   ]
  },
  {
   "cell_type": "markdown",
   "id": "f844b95f-91f8-4ec5-a067-7d427d80337a",
   "metadata": {},
   "source": [
    "---"
   ]
  },
  {
   "cell_type": "code",
   "execution_count": 32,
   "id": "2be9b5ea-cb49-483d-abcb-17c5082bcf3c",
   "metadata": {},
   "outputs": [
    {
     "name": "stdin",
     "output_type": "stream",
     "text": [
      "Please enter an integer:  13\n"
     ]
    },
    {
     "name": "stdout",
     "output_type": "stream",
     "text": [
      "guess is:  0 , guess squared is:  0 which is less than x , 13 to go\n",
      "guess is:  1 , guess squared is:  1 which is less than x , 12 to go\n",
      "guess is:  2 , guess squared is:  4 which is less than x , 9 to go\n",
      "guess is:  3 , guess squared is:  9 which is less than x , 4 to go\n",
      "13  is not a perfect square\n"
     ]
    }
   ],
   "source": [
    "x = int(input(\"Please enter an integer: \"))\n",
    "\n",
    "guess = 0\n",
    "\n",
    "while guess**2 < x:\n",
    "    \n",
    "    print(\"guess is: \", guess, \",\",\"guess squared is: \", guess**2, \\\n",
    "          \"which is less than x\",\",\",x - guess**2, \"to go\")\n",
    "    \n",
    "    guess += 1\n",
    "\n",
    "if guess**2 == x:\n",
    "    \n",
    "    print(guess, \"is the square root of \", x)\n",
    "    \n",
    "else:\n",
    "    print(x, \" is not a perfect square\")"
   ]
  },
  {
   "cell_type": "code",
   "execution_count": null,
   "id": "b4153673-3a6a-459f-bfe8-b07fa6f2e642",
   "metadata": {},
   "outputs": [],
   "source": []
  }
 ],
 "metadata": {
  "kernelspec": {
   "display_name": "Python 3 (ipykernel)",
   "language": "python",
   "name": "python3"
  },
  "language_info": {
   "codemirror_mode": {
    "name": "ipython",
    "version": 3
   },
   "file_extension": ".py",
   "mimetype": "text/x-python",
   "name": "python",
   "nbconvert_exporter": "python",
   "pygments_lexer": "ipython3",
   "version": "3.9.12"
  }
 },
 "nbformat": 4,
 "nbformat_minor": 5
}
