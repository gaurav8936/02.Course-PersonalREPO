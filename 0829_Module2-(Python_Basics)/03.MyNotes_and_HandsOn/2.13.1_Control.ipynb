{
 "cells": [
  {
   "cell_type": "markdown",
   "id": "b002a6d0-ac46-4a15-a93b-754cb472d2d0",
   "metadata": {},
   "source": [
    "# Control"
   ]
  },
  {
   "cell_type": "markdown",
   "id": "c522d2b6-6904-4af3-ba8a-7b55df9e2853",
   "metadata": {},
   "source": [
    "## Conditionals"
   ]
  },
  {
   "cell_type": "code",
   "execution_count": 8,
   "id": "77d6506d-4d54-4436-a4a2-023e95d9bd5a",
   "metadata": {},
   "outputs": [
    {
     "name": "stdin",
     "output_type": "stream",
     "text": [
      "Enter an integer:  2\n"
     ]
    },
    {
     "name": "stdout",
     "output_type": "stream",
     "text": [
      "Even\n",
      "Odd?\n"
     ]
    }
   ],
   "source": [
    "x = int(input(\"Enter an integer: \"))\n",
    "\n",
    "if x%2 == 0:\n",
    "    print(\"Even\")\n",
    "else:\n",
    "    print(\"Odd\")\n",
    "print(\"Odd?\")"
   ]
  },
  {
   "cell_type": "code",
   "execution_count": 9,
   "id": "0a0e4184-69f8-4082-878b-2a9d1370541b",
   "metadata": {},
   "outputs": [],
   "source": [
    "# be careful of tab and 4 spaces"
   ]
  },
  {
   "cell_type": "markdown",
   "id": "7381bf2b-8bfc-4987-8e41-ad85e7e81292",
   "metadata": {},
   "source": [
    "### make sure the editor inserts 4 spaces for each tab"
   ]
  },
  {
   "cell_type": "code",
   "execution_count": 10,
   "id": "bb067d2b-c97d-4997-a83f-473d6652d9a3",
   "metadata": {},
   "outputs": [
    {
     "name": "stdin",
     "output_type": "stream",
     "text": [
      "Enter an integer:  6\n"
     ]
    },
    {
     "name": "stdout",
     "output_type": "stream",
     "text": [
      "Even\n",
      "lesser than 10\n"
     ]
    }
   ],
   "source": [
    "x = int(input(\"Enter an integer: \"))\n",
    "\n",
    "if x%2 == 0:\n",
    "    print(\"Even\")\n",
    "    \n",
    "    if x > 10:\n",
    "        print(\"greater than 10\")\n",
    "    else:\n",
    "        print(\"lesser than 10\")\n",
    "    \n",
    "else:\n",
    "    print(\"Odd\")"
   ]
  },
  {
   "cell_type": "code",
   "execution_count": 12,
   "id": "287fa2ae-16bb-416c-8e12-d6c7f769c94c",
   "metadata": {},
   "outputs": [
    {
     "name": "stdin",
     "output_type": "stream",
     "text": [
      "Enter your grade as an integer from 1-100:  91\n"
     ]
    },
    {
     "name": "stdout",
     "output_type": "stream",
     "text": [
      "You got an A\n",
      "Congratulations\n"
     ]
    }
   ],
   "source": [
    "x = int(input(\"Enter your grade as an integer from 1-100: \"))\n",
    "\n",
    "if x >= 90:\n",
    "    print(\"You got an A\")\n",
    "    print(\"Congratulations\")\n",
    "else:\n",
    "    if x >= 80:\n",
    "        print(\"You got a B\")\n",
    "    else:\n",
    "        print(\"Better luck next time\")"
   ]
  },
  {
   "cell_type": "markdown",
   "id": "0b046d8a-909a-4a64-a53d-924317d5442f",
   "metadata": {},
   "source": [
    "---"
   ]
  },
  {
   "cell_type": "code",
   "execution_count": 14,
   "id": "c297f288-987b-4aec-8879-4386ec61d490",
   "metadata": {},
   "outputs": [
    {
     "name": "stdin",
     "output_type": "stream",
     "text": [
      "Enter your grade as an integer from 1-100:  67\n"
     ]
    },
    {
     "name": "stdout",
     "output_type": "stream",
     "text": [
      "Better luck next time\n"
     ]
    }
   ],
   "source": [
    "x = int(input(\"Enter your grade as an integer from 1-100: \"))\n",
    "\n",
    "if x >= 90:\n",
    "    print(\"You got an A\")\n",
    "    print(\"Congratulations\")\n",
    "elif x >= 80:\n",
    "    print(\"You got a B\")\n",
    "else:\n",
    "    print(\"Better luck next time\")"
   ]
  },
  {
   "cell_type": "code",
   "execution_count": null,
   "id": "6d587378-ad36-4176-9562-d2fd2138028f",
   "metadata": {},
   "outputs": [],
   "source": []
  }
 ],
 "metadata": {
  "kernelspec": {
   "display_name": "Python 3 (ipykernel)",
   "language": "python",
   "name": "python3"
  },
  "language_info": {
   "codemirror_mode": {
    "name": "ipython",
    "version": 3
   },
   "file_extension": ".py",
   "mimetype": "text/x-python",
   "name": "python",
   "nbconvert_exporter": "python",
   "pygments_lexer": "ipython3",
   "version": "3.9.12"
  }
 },
 "nbformat": 4,
 "nbformat_minor": 5
}
