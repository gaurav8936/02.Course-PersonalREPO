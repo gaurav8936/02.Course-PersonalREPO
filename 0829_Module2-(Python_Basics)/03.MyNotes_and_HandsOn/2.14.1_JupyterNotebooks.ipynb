{
 "cells": [
  {
   "cell_type": "markdown",
   "id": "7c935af4-7048-4a7f-b254-07b4f284d98c",
   "metadata": {},
   "source": [
    "# Working with Jupyter Notebooks"
   ]
  },
  {
   "cell_type": "code",
   "execution_count": 2,
   "id": "cc6b6648-7e99-4c66-aaa7-79424d9b1364",
   "metadata": {},
   "outputs": [
    {
     "ename": "NameError",
     "evalue": "name 'sdf' is not defined",
     "output_type": "error",
     "traceback": [
      "\u001b[0;31m---------------------------------------------------------------------------\u001b[0m",
      "\u001b[0;31mNameError\u001b[0m                                 Traceback (most recent call last)",
      "Input \u001b[0;32mIn [2]\u001b[0m, in \u001b[0;36m<cell line: 1>\u001b[0;34m()\u001b[0m\n\u001b[0;32m----> 1\u001b[0m \u001b[43msdf\u001b[49m \n\u001b[1;32m      3\u001b[0m \u001b[38;5;241m5656\u001b[39m\n\u001b[1;32m      5\u001b[0m rr\n",
      "\u001b[0;31mNameError\u001b[0m: name 'sdf' is not defined"
     ]
    }
   ],
   "source": [
    "sdf \n",
    "\n",
    "5656\n",
    "\n",
    "rr\n",
    "\n",
    "rr\n",
    "1212\n"
   ]
  },
  {
   "cell_type": "markdown",
   "id": "458ba1bc-66e0-4ada-8940-cbf4ae6aafe3",
   "metadata": {},
   "source": [
    "# SHIFT L"
   ]
  },
  {
   "cell_type": "code",
   "execution_count": 3,
   "id": "111fba43-2ff9-44f3-972a-91eba7e1f03c",
   "metadata": {},
   "outputs": [],
   "source": [
    "# to show lines"
   ]
  },
  {
   "cell_type": "code",
   "execution_count": null,
   "id": "9aa20f43-1736-4357-b960-ef00efe3c94d",
   "metadata": {},
   "outputs": [],
   "source": []
  }
 ],
 "metadata": {
  "kernelspec": {
   "display_name": "Python 3 (ipykernel)",
   "language": "python",
   "name": "python3"
  },
  "language_info": {
   "codemirror_mode": {
    "name": "ipython",
    "version": 3
   },
   "file_extension": ".py",
   "mimetype": "text/x-python",
   "name": "python",
   "nbconvert_exporter": "python",
   "pygments_lexer": "ipython3",
   "version": "3.9.12"
  }
 },
 "nbformat": 4,
 "nbformat_minor": 5
}
