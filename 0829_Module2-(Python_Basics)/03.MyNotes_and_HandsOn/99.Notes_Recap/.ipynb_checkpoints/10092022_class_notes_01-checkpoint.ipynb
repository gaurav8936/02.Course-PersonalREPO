{
 "cells": [
  {
   "cell_type": "markdown",
   "id": "4726ba9a-df2a-4f94-b792-da5288bc310b",
   "metadata": {},
   "source": [
    "# Class Notes"
   ]
  },
  {
   "cell_type": "code",
   "execution_count": 3,
   "id": "4c1e6035-91ff-46b6-bc4b-b2d243cd6cbe",
   "metadata": {},
   "outputs": [
    {
     "name": "stdout",
     "output_type": "stream",
     "text": [
      "the closest square root is 1.8579999999999062\n",
      "the number of guesses is 1858\n"
     ]
    }
   ],
   "source": [
    "epsilon = 0.001\n",
    "\n",
    "guesses = 0\n",
    "\n",
    "x = 3.45\n",
    "ans = 0\n",
    "\n",
    "while ans**2 < x:\n",
    "    ans += epsilon\n",
    "    guesses += 1\n",
    "print('the closest square root is', ans)\n",
    "print('the number of guesses is', guesses)"
   ]
  },
  {
   "cell_type": "code",
   "execution_count": 6,
   "id": "b19b2b47-751c-4559-bbae-4db04a023d1b",
   "metadata": {},
   "outputs": [
    {
     "name": "stdout",
     "output_type": "stream",
     "text": [
      "1.85723876953125 12\n"
     ]
    }
   ],
   "source": [
    "epsilon = 0.001\n",
    "\n",
    "guesses = 0\n",
    "\n",
    "x = 3.45\n",
    "#ans = 0\n",
    "\n",
    "low = 0\n",
    "high = x\n",
    "ans = 0\n",
    "\n",
    "while high-low >= 2*epsilon:\n",
    "    \n",
    "    guesses += 1\n",
    "    \n",
    "    if ans**2 < x:\n",
    "        low = ans\n",
    "    else:\n",
    "        high = ans\n",
    "    ans = (low+high)/2\n",
    "print(ans, guesses)"
   ]
  },
  {
   "cell_type": "code",
   "execution_count": 9,
   "id": "c244cb8f-5549-4e7f-afe6-35ea69781d55",
   "metadata": {},
   "outputs": [],
   "source": [
    "# low = 1\n",
    "# high = 5\n",
    "# ans = 2.5 \n",
    "# ans = 2.5**2 (6.25)\n",
    "# ans is > high\n",
    "# so, high = ans, low = 0\n",
    "# low = 0, high = 2.5\n",
    "# ans = 1.25\n",
    "# ans**2 1.5625 (this is less than 2.5)\n",
    "# low = 1.25, high = 2.5\n",
    "# ans = 1.8725..\n",
    "\n"
   ]
  },
  {
   "cell_type": "code",
   "execution_count": 10,
   "id": "fa0afd90-a005-434c-a3fc-90fd4a6d58e7",
   "metadata": {},
   "outputs": [],
   "source": [
    "# newton's method\n",
    "# heron's method is an implementation of newton's method to calculate square roots"
   ]
  },
  {
   "cell_type": "markdown",
   "id": "d858651d-a4f2-4525-8211-f19e018d9a25",
   "metadata": {},
   "source": [
    "---"
   ]
  },
  {
   "cell_type": "code",
   "execution_count": 11,
   "id": "7004aa57-ea1f-4039-96fd-43b481f2d970",
   "metadata": {},
   "outputs": [
    {
     "data": {
      "text/plain": [
       "[0, 1, 2, 3, 4, 5, 6, 7, 8, 9]"
      ]
     },
     "execution_count": 11,
     "metadata": {},
     "output_type": "execute_result"
    }
   ],
   "source": [
    "[i for i in range(10)]"
   ]
  },
  {
   "cell_type": "code",
   "execution_count": 13,
   "id": "918cd65a-1b16-4384-873e-13783b256a84",
   "metadata": {},
   "outputs": [
    {
     "data": {
      "text/plain": [
       "[(0, 0), (0, 1), (0, 2), (1, 0), (1, 1), (1, 2), (2, 0), (2, 1), (2, 2)]"
      ]
     },
     "execution_count": 13,
     "metadata": {},
     "output_type": "execute_result"
    }
   ],
   "source": [
    "# create all coordinates\n",
    "\n",
    "[(row, column) for row in range(3) for column in range(3)]"
   ]
  },
  {
   "cell_type": "code",
   "execution_count": 15,
   "id": "49bd7a03-1376-42f7-9ccf-a612db4fdda0",
   "metadata": {},
   "outputs": [
    {
     "data": {
      "text/plain": [
       "['e', 'r', 'w']"
      ]
     },
     "execution_count": 15,
     "metadata": {},
     "output_type": "execute_result"
    }
   ],
   "source": [
    "import string\n",
    "\n",
    "[a for a in string.ascii_lowercase if a in 'were']"
   ]
  },
  {
   "cell_type": "markdown",
   "id": "8c3056ba-8f0e-43b8-b366-9d41af0c0905",
   "metadata": {},
   "source": [
    "# dictionary comprehensions"
   ]
  },
  {
   "cell_type": "code",
   "execution_count": 18,
   "id": "c54759b0-967d-40b7-8f4e-d205c5bd24ed",
   "metadata": {},
   "outputs": [
    {
     "data": {
      "text/plain": [
       "{'H': 1,\n",
       " 'e': 6,\n",
       " 'r': 1,\n",
       " ' ': 4,\n",
       " 'i': 1,\n",
       " 's': 2,\n",
       " 'o': 1,\n",
       " 'm': 2,\n",
       " 'x': 2,\n",
       " 'a': 1,\n",
       " 'p': 1,\n",
       " 'l': 1,\n",
       " 't': 2}"
      ]
     },
     "execution_count": 18,
     "metadata": {},
     "output_type": "execute_result"
    }
   ],
   "source": [
    "text = \"Here is some example text\"\n",
    "\n",
    "mydict2 = {letter:text.count(letter) for letter in text}\n",
    "mydict2"
   ]
  },
  {
   "cell_type": "code",
   "execution_count": 20,
   "id": "946cc4eb-fed5-48bb-a3d4-9574fce7c72d",
   "metadata": {},
   "outputs": [
    {
     "data": {
      "text/plain": [
       "2"
      ]
     },
     "execution_count": 20,
     "metadata": {},
     "output_type": "execute_result"
    }
   ],
   "source": [
    "mydict2['s']"
   ]
  },
  {
   "cell_type": "code",
   "execution_count": 21,
   "id": "8a6184a9-c88a-4662-923e-a248bacd731a",
   "metadata": {},
   "outputs": [
    {
     "data": {
      "text/plain": [
       "dict_values([1, 6, 1, 4, 1, 2, 1, 2, 2, 1, 1, 1, 2])"
      ]
     },
     "execution_count": 21,
     "metadata": {},
     "output_type": "execute_result"
    }
   ],
   "source": [
    "mydict2.values()"
   ]
  },
  {
   "cell_type": "markdown",
   "id": "8280ecd5-b8ef-41ec-a45b-3193dbc77f6d",
   "metadata": {},
   "source": [
    "---"
   ]
  },
  {
   "cell_type": "markdown",
   "id": "81c99ec9-275c-4b5e-81f6-9685e362bde8",
   "metadata": {},
   "source": [
    "---"
   ]
  },
  {
   "cell_type": "code",
   "execution_count": 22,
   "id": "cd295d5c-96be-4927-9158-5cbfef8a542a",
   "metadata": {},
   "outputs": [],
   "source": [
    "# namespace\n",
    "# objecspace"
   ]
  },
  {
   "cell_type": "code",
   "execution_count": 23,
   "id": "ab1155d5-4457-4839-945e-06cb3fd09273",
   "metadata": {},
   "outputs": [
    {
     "name": "stdout",
     "output_type": "stream",
     "text": [
      "in the function, y =  4\n",
      "the function returned  3\n",
      "Outside the function, y = 3\n"
     ]
    }
   ],
   "source": [
    "def add_one(x):\n",
    "    y = x + 1\n",
    "    print('in the function, y = ',y)\n",
    "    return x\n",
    "\n",
    "x = 3\n",
    "y = 3\n",
    "result = add_one(x)\n",
    "print('the function returned ', result)\n",
    "print('Outside the function, y =', y)"
   ]
  },
  {
   "cell_type": "code",
   "execution_count": 24,
   "id": "933600e2-004d-46a5-9cdf-1b31e410a9d3",
   "metadata": {},
   "outputs": [
    {
     "name": "stdout",
     "output_type": "stream",
     "text": [
      "In the function, y 5\n",
      "the function returned  8\n",
      "Outside the function, y  5\n"
     ]
    }
   ],
   "source": [
    "def add_y(x):\n",
    "    ans = x + y\n",
    "    # notice there is not local y\n",
    "    # x is a local variable\n",
    "    print(\"In the function, y\", y)\n",
    "    return ans\n",
    "    \n",
    "\n",
    "y = 5\n",
    "result = add_y(3)\n",
    "print(\"the function returned \", result)\n",
    "print(\"Outside the function, y \", y)"
   ]
  },
  {
   "cell_type": "code",
   "execution_count": 26,
   "id": "bb4f9812-6c3d-4324-8c94-2efff08af73a",
   "metadata": {},
   "outputs": [
    {
     "name": "stdout",
     "output_type": "stream",
     "text": [
      "Inside the function, y 6\n",
      "Outside the function, y 6\n"
     ]
    }
   ],
   "source": [
    "def change_y():\n",
    "    global y\n",
    "    y = y + 1\n",
    "    print(\"Inside the function, y\", y)\n",
    "\n",
    "y = 5\n",
    "change_y()\n",
    "print(\"Outside the function, y\", y)"
   ]
  },
  {
   "cell_type": "markdown",
   "id": "c45c458f-368e-44ee-8e2f-35b2e95b2d2d",
   "metadata": {},
   "source": [
    "---"
   ]
  },
  {
   "cell_type": "markdown",
   "id": "d8a0f71c-1a55-497b-8860-8528ca611178",
   "metadata": {},
   "source": [
    "Big theta - worst case running time"
   ]
  },
  {
   "attachments": {
    "cbcffb16-7442-4128-bb03-23152b9c6c50.png": {
     "image/png": "[encoded data removed]"
    }
   },
   "cell_type": "markdown",
   "id": "ca18444d-b3be-4376-b4b4-18f7a76108dc",
   "metadata": {},
   "source": [
    "![image.png](attachment:cbcffb16-7442-4128-bb03-23152b9c6c50.png)"
   ]
  },
  {
   "cell_type": "code",
   "execution_count": 27,
   "id": "6933b7b3-fbde-40dc-af1c-54318759d291",
   "metadata": {},
   "outputs": [],
   "source": [
    "# we can say big theta (n) where n gets large enough the running time is at least k1.n and at most k2.n\n",
    "# for some constants k1 and k2"
   ]
  },
  {
   "cell_type": "code",
   "execution_count": 28,
   "id": "714d5dd7-12d7-4462-ae76-1afb9d7b3af4",
   "metadata": {},
   "outputs": [],
   "source": [
    "# as long as these constants k1 and k2 exist, we say the running time is theta (n)"
   ]
  },
  {
   "cell_type": "code",
   "execution_count": 29,
   "id": "8a2cd034-1445-405e-924e-a4429481c595",
   "metadata": {},
   "outputs": [],
   "source": [
    "# theta(f(n)) --  this applies to any function such as n2, nlogn"
   ]
  },
  {
   "cell_type": "code",
   "execution_count": 30,
   "id": "add244c4-f705-495c-abb0-ca65f551527f",
   "metadata": {},
   "outputs": [],
   "source": [
    "# you can say the running time is theta (n**2)"
   ]
  },
  {
   "cell_type": "code",
   "execution_count": 31,
   "id": "2d3bd73d-c23a-4c0b-bbb4-5931adf0399e",
   "metadata": {},
   "outputs": [],
   "source": [
    "# conditions for big theta\n",
    "### asymptotic (only care about large values of n)\n",
    "### tight boung -- we have nailed the running time to within a constant factor above and below"
   ]
  },
  {
   "cell_type": "code",
   "execution_count": 32,
   "id": "eaf365c2-ae50-4662-8a3e-6cdc7fa02e29",
   "metadata": {},
   "outputs": [],
   "source": [
    "# big theta (bound up and dow)"
   ]
  },
  {
   "cell_type": "code",
   "execution_count": 33,
   "id": "89d3e71a-21cc-4761-997c-5b3b5c2a196c",
   "metadata": {},
   "outputs": [],
   "source": [
    "# big O - just upper bound"
   ]
  },
  {
   "cell_type": "code",
   "execution_count": 34,
   "id": "38432da7-efa8-48d3-9168-c5f0d693777b",
   "metadata": {},
   "outputs": [],
   "source": [
    "# we can say the running time in bigO (of f(n)) of just o(f(n)) if it meets the criteria of the asymptotic upper bounds"
   ]
  },
  {
   "cell_type": "code",
   "execution_count": 35,
   "id": "0a773620-dc2d-4221-802e-c9984a4368b5",
   "metadata": {},
   "outputs": [],
   "source": [
    "# big omega (horseshoe)\n",
    "# takes at least this base amount of time"
   ]
  },
  {
   "cell_type": "code",
   "execution_count": 36,
   "id": "2267abd5-302a-462b-90ff-94f4976070d2",
   "metadata": {},
   "outputs": [],
   "source": [
    "# can say the running time is omega(f(n)) ofr a large enough value of n, teh running time is at least k.f(n)"
   ]
  },
  {
   "cell_type": "code",
   "execution_count": null,
   "id": "4778bee1-9262-4129-9e1c-ad5dcacc9a27",
   "metadata": {},
   "outputs": [],
   "source": [
    "# what is f(n) -- ths could be n**2, n**3 etc 2**n ax + bn + cn**2"
   ]
  }
 ],
 "metadata": {
  "kernelspec": {
   "display_name": "Python 3 (ipykernel)",
   "language": "python",
   "name": "python3"
  },
  "language_info": {
   "codemirror_mode": {
    "name": "ipython",
    "version": 3
   },
   "file_extension": ".py",
   "mimetype": "text/x-python",
   "name": "python",
   "nbconvert_exporter": "python",
   "pygments_lexer": "ipython3",
   "version": "3.9.12"
  }
 },
 "nbformat": 4,
 "nbformat_minor": 5
}
