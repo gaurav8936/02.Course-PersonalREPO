{
 "cells": [
  {
   "cell_type": "code",
   "execution_count": 1,
   "id": "0f44afc0-be41-4a4b-b304-f0b11c93e656",
   "metadata": {},
   "outputs": [],
   "source": [
    "x = 10"
   ]
  },
  {
   "cell_type": "code",
   "execution_count": 2,
   "id": "daab28d6-9f56-4a5e-bbf3-26f3429c316d",
   "metadata": {},
   "outputs": [
    {
     "ename": "AttributeError",
     "evalue": "'int' object has no attribute 'append'",
     "output_type": "error",
     "traceback": [
      "\u001b[0;31m---------------------------------------------------------------------------\u001b[0m",
      "\u001b[0;31mAttributeError\u001b[0m                            Traceback (most recent call last)",
      "Input \u001b[0;32mIn [2]\u001b[0m, in \u001b[0;36m<cell line: 1>\u001b[0;34m()\u001b[0m\n\u001b[0;32m----> 1\u001b[0m \u001b[43mx\u001b[49m\u001b[38;5;241;43m.\u001b[39;49m\u001b[43mappend\u001b[49m(\u001b[38;5;241m10\u001b[39m)\n",
      "\u001b[0;31mAttributeError\u001b[0m: 'int' object has no attribute 'append'"
     ]
    }
   ],
   "source": [
    "x.append(10)"
   ]
  },
  {
   "cell_type": "code",
   "execution_count": 3,
   "id": "48560f15-73ab-480b-92c2-ce81ed437f4a",
   "metadata": {},
   "outputs": [
    {
     "ename": "AttributeError",
     "evalue": "'int' object has no attribute 'append'",
     "output_type": "error",
     "traceback": [
      "\u001b[0;31m---------------------------------------------------------------------------\u001b[0m",
      "\u001b[0;31mAttributeError\u001b[0m                            Traceback (most recent call last)",
      "Input \u001b[0;32mIn [3]\u001b[0m, in \u001b[0;36m<cell line: 1>\u001b[0;34m()\u001b[0m\n\u001b[0;32m----> 1\u001b[0m \u001b[43mx\u001b[49m\u001b[38;5;241;43m.\u001b[39;49m\u001b[43mappend\u001b[49m[\u001b[38;5;241m10\u001b[39m]\n",
      "\u001b[0;31mAttributeError\u001b[0m: 'int' object has no attribute 'append'"
     ]
    }
   ],
   "source": [
    "x.append[10]"
   ]
  },
  {
   "cell_type": "code",
   "execution_count": 4,
   "id": "08045bf9-a17b-4224-b46d-2903ee367abd",
   "metadata": {},
   "outputs": [],
   "source": [
    "x = 10"
   ]
  },
  {
   "cell_type": "code",
   "execution_count": 5,
   "id": "c61ca817-de95-4d8b-8129-732cb932d0e4",
   "metadata": {},
   "outputs": [
    {
     "ename": "AttributeError",
     "evalue": "'int' object has no attribute 'append'",
     "output_type": "error",
     "traceback": [
      "\u001b[0;31m---------------------------------------------------------------------------\u001b[0m",
      "\u001b[0;31mAttributeError\u001b[0m                            Traceback (most recent call last)",
      "Input \u001b[0;32mIn [5]\u001b[0m, in \u001b[0;36m<cell line: 1>\u001b[0;34m()\u001b[0m\n\u001b[0;32m----> 1\u001b[0m \u001b[43mx\u001b[49m\u001b[38;5;241;43m.\u001b[39;49m\u001b[43mappend\u001b[49m(\u001b[38;5;241m20\u001b[39m)\n",
      "\u001b[0;31mAttributeError\u001b[0m: 'int' object has no attribute 'append'"
     ]
    }
   ],
   "source": [
    "x.append(20)"
   ]
  },
  {
   "cell_type": "code",
   "execution_count": 6,
   "id": "1d653bb0-6408-439b-8352-01dec1eabb1f",
   "metadata": {},
   "outputs": [
    {
     "ename": "AttributeError",
     "evalue": "'int' object has no attribute 'append'",
     "output_type": "error",
     "traceback": [
      "\u001b[0;31m---------------------------------------------------------------------------\u001b[0m",
      "\u001b[0;31mAttributeError\u001b[0m                            Traceback (most recent call last)",
      "Input \u001b[0;32mIn [6]\u001b[0m, in \u001b[0;36m<cell line: 1>\u001b[0;34m()\u001b[0m\n\u001b[0;32m----> 1\u001b[0m \u001b[43mx\u001b[49m\u001b[38;5;241;43m.\u001b[39;49m\u001b[43mappend\u001b[49m[\u001b[38;5;241m20\u001b[39m]\n",
      "\u001b[0;31mAttributeError\u001b[0m: 'int' object has no attribute 'append'"
     ]
    }
   ],
   "source": [
    "x.append[20]"
   ]
  },
  {
   "cell_type": "code",
   "execution_count": 7,
   "id": "0e31c40a-de61-440f-915e-f40d356470c0",
   "metadata": {},
   "outputs": [],
   "source": [
    "x = [10]"
   ]
  },
  {
   "cell_type": "code",
   "execution_count": 8,
   "id": "60f07496-b378-465e-8fa4-ce4da5d9c9f8",
   "metadata": {},
   "outputs": [],
   "source": [
    "x.append(20)"
   ]
  },
  {
   "cell_type": "code",
   "execution_count": 9,
   "id": "570b6d71-fb99-4642-a41c-33ee88ec54a4",
   "metadata": {},
   "outputs": [
    {
     "ename": "TypeError",
     "evalue": "'builtin_function_or_method' object is not subscriptable",
     "output_type": "error",
     "traceback": [
      "\u001b[0;31m---------------------------------------------------------------------------\u001b[0m",
      "\u001b[0;31mTypeError\u001b[0m                                 Traceback (most recent call last)",
      "Input \u001b[0;32mIn [9]\u001b[0m, in \u001b[0;36m<cell line: 1>\u001b[0;34m()\u001b[0m\n\u001b[0;32m----> 1\u001b[0m \u001b[43mx\u001b[49m\u001b[38;5;241;43m.\u001b[39;49m\u001b[43mappend\u001b[49m\u001b[43m[\u001b[49m\u001b[38;5;241;43m30\u001b[39;49m\u001b[43m]\u001b[49m\n",
      "\u001b[0;31mTypeError\u001b[0m: 'builtin_function_or_method' object is not subscriptable"
     ]
    }
   ],
   "source": [
    "x.append[30]"
   ]
  },
  {
   "cell_type": "code",
   "execution_count": 10,
   "id": "2085a84a-bb4c-4767-8d74-483b72a41d99",
   "metadata": {},
   "outputs": [
    {
     "data": {
      "text/plain": [
       "[10, 20]"
      ]
     },
     "execution_count": 10,
     "metadata": {},
     "output_type": "execute_result"
    }
   ],
   "source": [
    "x"
   ]
  },
  {
   "cell_type": "code",
   "execution_count": 11,
   "id": "414f1c74-992f-4ce4-9ec7-242822aa2c5a",
   "metadata": {},
   "outputs": [],
   "source": [
    "x.extend([30,40])"
   ]
  },
  {
   "cell_type": "code",
   "execution_count": 13,
   "id": "2be0e6c3-2d83-4561-8fdb-e57ae3347af4",
   "metadata": {},
   "outputs": [
    {
     "data": {
      "text/plain": [
       "[10, 20, 30, 40]"
      ]
     },
     "execution_count": 13,
     "metadata": {},
     "output_type": "execute_result"
    }
   ],
   "source": [
    "x"
   ]
  },
  {
   "cell_type": "code",
   "execution_count": 14,
   "id": "bac5d33e-b57d-41e7-ba58-f66336c3eb74",
   "metadata": {},
   "outputs": [],
   "source": [
    "y = [50,60]"
   ]
  },
  {
   "cell_type": "code",
   "execution_count": 15,
   "id": "5d4bd3a7-7adf-4f7e-b619-0e9827225d5c",
   "metadata": {},
   "outputs": [],
   "source": [
    "x.extend(y)"
   ]
  },
  {
   "cell_type": "code",
   "execution_count": 16,
   "id": "b083f972-5895-4bbd-9dd8-a86e44af952c",
   "metadata": {},
   "outputs": [
    {
     "data": {
      "text/plain": [
       "[10, 20, 30, 40, 50, 60]"
      ]
     },
     "execution_count": 16,
     "metadata": {},
     "output_type": "execute_result"
    }
   ],
   "source": [
    "x"
   ]
  },
  {
   "cell_type": "code",
   "execution_count": 21,
   "id": "a112e64d-9e90-43e5-aa69-3eb38f4ae946",
   "metadata": {},
   "outputs": [],
   "source": [
    "x[0:2] = [101, 210]"
   ]
  },
  {
   "cell_type": "code",
   "execution_count": 22,
   "id": "710c3c5a-f719-409f-95cc-d7e3fa24fa15",
   "metadata": {},
   "outputs": [
    {
     "data": {
      "text/plain": [
       "[101, 210, 200, 30, 40, 50, 60]"
      ]
     },
     "execution_count": 22,
     "metadata": {},
     "output_type": "execute_result"
    }
   ],
   "source": [
    "x"
   ]
  },
  {
   "cell_type": "code",
   "execution_count": 23,
   "id": "6b015250-a7c1-4dfc-91df-ee09028d2acc",
   "metadata": {},
   "outputs": [],
   "source": [
    "del x[0:2]"
   ]
  },
  {
   "cell_type": "code",
   "execution_count": 24,
   "id": "1a886c1d-b147-4a87-bbf7-eec26c7c3563",
   "metadata": {},
   "outputs": [
    {
     "data": {
      "text/plain": [
       "[200, 30, 40, 50, 60]"
      ]
     },
     "execution_count": 24,
     "metadata": {},
     "output_type": "execute_result"
    }
   ],
   "source": [
    "x"
   ]
  },
  {
   "cell_type": "code",
   "execution_count": 26,
   "id": "424efda4-5912-4763-98e0-f01038ea5c81",
   "metadata": {},
   "outputs": [
    {
     "data": {
      "text/plain": [
       "[200, 30, 40, 50, 60]"
      ]
     },
     "execution_count": 26,
     "metadata": {},
     "output_type": "execute_result"
    }
   ],
   "source": [
    "x"
   ]
  },
  {
   "cell_type": "code",
   "execution_count": 28,
   "id": "5f31c52d-635d-4025-ae14-357727a17e0e",
   "metadata": {},
   "outputs": [],
   "source": [
    "x.insert(1, 100)"
   ]
  },
  {
   "cell_type": "code",
   "execution_count": 29,
   "id": "6ce2537b-2faf-4b3c-99fa-9ea17c9d6eea",
   "metadata": {},
   "outputs": [
    {
     "data": {
      "text/plain": [
       "[200, 100, 30, 40, 50, 60]"
      ]
     },
     "execution_count": 29,
     "metadata": {},
     "output_type": "execute_result"
    }
   ],
   "source": [
    "x"
   ]
  },
  {
   "cell_type": "code",
   "execution_count": 30,
   "id": "17630f67-b512-4a04-8e06-57b6b1ca604c",
   "metadata": {},
   "outputs": [],
   "source": [
    "x.insert(3,540)"
   ]
  },
  {
   "cell_type": "code",
   "execution_count": 31,
   "id": "b1dd06a2-2288-4c9a-b156-812897dc3581",
   "metadata": {},
   "outputs": [
    {
     "data": {
      "text/plain": [
       "[200, 100, 30, 540, 40, 50, 60]"
      ]
     },
     "execution_count": 31,
     "metadata": {},
     "output_type": "execute_result"
    }
   ],
   "source": [
    "x"
   ]
  },
  {
   "cell_type": "code",
   "execution_count": 33,
   "id": "85fad7e1-2db8-4281-9af0-73157468fe03",
   "metadata": {},
   "outputs": [
    {
     "data": {
      "text/plain": [
       "60"
      ]
     },
     "execution_count": 33,
     "metadata": {},
     "output_type": "execute_result"
    }
   ],
   "source": [
    "x.pop()"
   ]
  },
  {
   "cell_type": "code",
   "execution_count": 34,
   "id": "c50b6836-554f-4109-8772-894cd7d052bc",
   "metadata": {},
   "outputs": [
    {
     "data": {
      "text/plain": [
       "[200, 100, 30, 540, 40, 50]"
      ]
     },
     "execution_count": 34,
     "metadata": {},
     "output_type": "execute_result"
    }
   ],
   "source": [
    "x"
   ]
  },
  {
   "cell_type": "code",
   "execution_count": 35,
   "id": "ca28de2a-a3c6-43f2-9e02-91954f1ad822",
   "metadata": {},
   "outputs": [
    {
     "data": {
      "text/plain": [
       "50"
      ]
     },
     "execution_count": 35,
     "metadata": {},
     "output_type": "execute_result"
    }
   ],
   "source": [
    "x.pop()"
   ]
  },
  {
   "cell_type": "code",
   "execution_count": 36,
   "id": "ffe27373-075e-4182-8743-d5c09d182f10",
   "metadata": {},
   "outputs": [
    {
     "data": {
      "text/plain": [
       "[200, 100, 30, 540, 40]"
      ]
     },
     "execution_count": 36,
     "metadata": {},
     "output_type": "execute_result"
    }
   ],
   "source": [
    "x"
   ]
  },
  {
   "cell_type": "code",
   "execution_count": 37,
   "id": "af8335c1-ea10-4850-abfc-44b4084c910b",
   "metadata": {},
   "outputs": [],
   "source": [
    "x.extend(range(1,10))"
   ]
  },
  {
   "cell_type": "code",
   "execution_count": 38,
   "id": "b5f0135a-188a-4c2b-bd4f-117a550c1afb",
   "metadata": {},
   "outputs": [
    {
     "data": {
      "text/plain": [
       "[200, 100, 30, 540, 40, 1, 2, 3, 4, 5, 6, 7, 8, 9]"
      ]
     },
     "execution_count": 38,
     "metadata": {},
     "output_type": "execute_result"
    }
   ],
   "source": [
    "x"
   ]
  },
  {
   "cell_type": "code",
   "execution_count": 40,
   "id": "5e0ca6d6-2b0b-48c6-8ab9-4d94dc605e13",
   "metadata": {},
   "outputs": [],
   "source": [
    "y.extend(range(1,10))"
   ]
  },
  {
   "cell_type": "code",
   "execution_count": 41,
   "id": "4e86f3f8-3027-4dfc-863c-d931661cf9db",
   "metadata": {},
   "outputs": [
    {
     "data": {
      "text/plain": [
       "[50, 60, 1, 2, 3, 4, 5, 6, 7, 8, 9]"
      ]
     },
     "execution_count": 41,
     "metadata": {},
     "output_type": "execute_result"
    }
   ],
   "source": [
    "y"
   ]
  },
  {
   "cell_type": "code",
   "execution_count": 45,
   "id": "01ce7891-8352-4230-9edc-4980a5695a52",
   "metadata": {},
   "outputs": [
    {
     "data": {
      "text/plain": [
       "[1, 2, 3, 4, 5, 6, 7, 8, 9]"
      ]
     },
     "execution_count": 45,
     "metadata": {},
     "output_type": "execute_result"
    }
   ],
   "source": [
    "z = []\n",
    "z.extend(range(1,10))\n",
    "z"
   ]
  },
  {
   "cell_type": "code",
   "execution_count": 46,
   "id": "e26fe123-d711-40f9-bc34-de06a7509b0e",
   "metadata": {},
   "outputs": [
    {
     "data": {
      "text/plain": [
       "[1, 2, 3, 4, 5, 6, 7, 8]"
      ]
     },
     "execution_count": 46,
     "metadata": {},
     "output_type": "execute_result"
    }
   ],
   "source": [
    "z.pop()\n",
    "z"
   ]
  },
  {
   "cell_type": "code",
   "execution_count": 47,
   "id": "81998709-1755-44a8-869d-e7af8614be1f",
   "metadata": {},
   "outputs": [],
   "source": [
    "z.remove(1)"
   ]
  },
  {
   "cell_type": "code",
   "execution_count": 48,
   "id": "7be9aeb7-81ec-4b29-89c9-098ea8ee2fb6",
   "metadata": {},
   "outputs": [
    {
     "data": {
      "text/plain": [
       "[2, 3, 4, 5, 6, 7, 8]"
      ]
     },
     "execution_count": 48,
     "metadata": {},
     "output_type": "execute_result"
    }
   ],
   "source": [
    "z"
   ]
  },
  {
   "cell_type": "code",
   "execution_count": 49,
   "id": "8e8b808f-4f38-423e-8ec9-216390609957",
   "metadata": {},
   "outputs": [
    {
     "ename": "NameError",
     "evalue": "name 'reverse' is not defined",
     "output_type": "error",
     "traceback": [
      "\u001b[0;31m---------------------------------------------------------------------------\u001b[0m",
      "\u001b[0;31mNameError\u001b[0m                                 Traceback (most recent call last)",
      "Input \u001b[0;32mIn [49]\u001b[0m, in \u001b[0;36m<cell line: 1>\u001b[0;34m()\u001b[0m\n\u001b[0;32m----> 1\u001b[0m z\u001b[38;5;241m.\u001b[39msort(\u001b[43mreverse\u001b[49m\u001b[38;5;241m==\u001b[39m\u001b[38;5;28;01mTrue\u001b[39;00m)\n",
      "\u001b[0;31mNameError\u001b[0m: name 'reverse' is not defined"
     ]
    }
   ],
   "source": [
    "z.sort(reverse==True)"
   ]
  },
  {
   "cell_type": "code",
   "execution_count": 50,
   "id": "ccf9b345-b129-4eb8-95f5-a46ae4c592b4",
   "metadata": {},
   "outputs": [],
   "source": [
    "a = [1,2,[3,4]]"
   ]
  },
  {
   "cell_type": "code",
   "execution_count": 52,
   "id": "8e2b0b24-4943-4047-807c-b8d725e08ce8",
   "metadata": {},
   "outputs": [
    {
     "data": {
      "text/plain": [
       "2"
      ]
     },
     "execution_count": 52,
     "metadata": {},
     "output_type": "execute_result"
    }
   ],
   "source": [
    "a[1]"
   ]
  },
  {
   "cell_type": "code",
   "execution_count": 53,
   "id": "00b8e73d-bada-4ca5-940b-2b02f7e6b2ec",
   "metadata": {},
   "outputs": [],
   "source": [
    "b = [3,4]"
   ]
  },
  {
   "cell_type": "code",
   "execution_count": 54,
   "id": "7d7127f7-7e36-4a91-9291-7b73daf7a6ff",
   "metadata": {},
   "outputs": [],
   "source": [
    "a[2][0] = 5"
   ]
  },
  {
   "cell_type": "code",
   "execution_count": 55,
   "id": "253add4c-bfe7-4b5b-aab5-7c3d48ce97dd",
   "metadata": {},
   "outputs": [
    {
     "data": {
      "text/plain": [
       "[1, 2, [5, 4]]"
      ]
     },
     "execution_count": 55,
     "metadata": {},
     "output_type": "execute_result"
    }
   ],
   "source": [
    "a"
   ]
  },
  {
   "cell_type": "code",
   "execution_count": 56,
   "id": "ddef64a1-c6be-43d7-ad09-517587242f92",
   "metadata": {},
   "outputs": [
    {
     "data": {
      "text/plain": [
       "[3, 4]"
      ]
     },
     "execution_count": 56,
     "metadata": {},
     "output_type": "execute_result"
    }
   ],
   "source": [
    "b"
   ]
  },
  {
   "cell_type": "code",
   "execution_count": 57,
   "id": "d709f41c-1f10-45a9-b1b1-ff31a3b235b7",
   "metadata": {},
   "outputs": [],
   "source": [
    "a = [1,2,3]"
   ]
  },
  {
   "cell_type": "code",
   "execution_count": 58,
   "id": "1ec14f17-d809-45b6-a47f-70d7c731e3cd",
   "metadata": {},
   "outputs": [],
   "source": [
    "b = a"
   ]
  },
  {
   "cell_type": "code",
   "execution_count": 59,
   "id": "15f1ab08-4a45-4657-89d1-6671796eebae",
   "metadata": {},
   "outputs": [],
   "source": [
    "a[0] = 4"
   ]
  },
  {
   "cell_type": "code",
   "execution_count": 60,
   "id": "8634499b-c4ac-41f5-9224-9dde3381fe5a",
   "metadata": {},
   "outputs": [
    {
     "data": {
      "text/plain": [
       "[4, 2, 3]"
      ]
     },
     "execution_count": 60,
     "metadata": {},
     "output_type": "execute_result"
    }
   ],
   "source": [
    "b"
   ]
  },
  {
   "cell_type": "code",
   "execution_count": 61,
   "id": "b0a4c99d-8e34-44aa-afd7-d1434a4ca2fc",
   "metadata": {},
   "outputs": [],
   "source": [
    "b[0] = 5"
   ]
  },
  {
   "cell_type": "code",
   "execution_count": 62,
   "id": "c91e5856-c30d-4cb9-83d3-e168ca1d2466",
   "metadata": {},
   "outputs": [
    {
     "data": {
      "text/plain": [
       "[5, 2, 3]"
      ]
     },
     "execution_count": 62,
     "metadata": {},
     "output_type": "execute_result"
    }
   ],
   "source": [
    "a"
   ]
  },
  {
   "cell_type": "markdown",
   "id": "4976101b-0084-4ef3-a864-80f3589d1510",
   "metadata": {},
   "source": [
    "---"
   ]
  },
  {
   "cell_type": "code",
   "execution_count": 63,
   "id": "4ac12a16-1451-4ca9-a03f-9c373cc22cc5",
   "metadata": {},
   "outputs": [
    {
     "data": {
      "text/plain": [
       "[5, 2, 3]"
      ]
     },
     "execution_count": 63,
     "metadata": {},
     "output_type": "execute_result"
    }
   ],
   "source": [
    "a"
   ]
  },
  {
   "cell_type": "code",
   "execution_count": 67,
   "id": "2ede0d61-f1db-485f-ac69-acb34958b1d0",
   "metadata": {},
   "outputs": [],
   "source": [
    "a.extend([6,7,8])"
   ]
  },
  {
   "cell_type": "code",
   "execution_count": 68,
   "id": "b433e2bc-a1f1-40bc-8f12-b20287c9c601",
   "metadata": {},
   "outputs": [
    {
     "data": {
      "text/plain": [
       "[5, 2, 3, 6, 7, 8]"
      ]
     },
     "execution_count": 68,
     "metadata": {},
     "output_type": "execute_result"
    }
   ],
   "source": [
    "a"
   ]
  },
  {
   "cell_type": "code",
   "execution_count": 69,
   "id": "a3688e61-7174-4097-8775-b1225ed14ff8",
   "metadata": {},
   "outputs": [],
   "source": [
    "a.append([1,2,3])"
   ]
  },
  {
   "cell_type": "code",
   "execution_count": 70,
   "id": "5163fe9b-1e82-4c15-b866-435a03d2d837",
   "metadata": {},
   "outputs": [
    {
     "data": {
      "text/plain": [
       "[5, 2, 3, 6, 7, 8, [1, 2, 3]]"
      ]
     },
     "execution_count": 70,
     "metadata": {},
     "output_type": "execute_result"
    }
   ],
   "source": [
    "a"
   ]
  },
  {
   "cell_type": "code",
   "execution_count": 71,
   "id": "afde8825-45e0-42b3-8ac8-b02e52baa909",
   "metadata": {},
   "outputs": [],
   "source": [
    "b = [11,12,13]"
   ]
  },
  {
   "cell_type": "code",
   "execution_count": 73,
   "id": "cc78268d-d43e-4182-aaad-1ba7e0a36691",
   "metadata": {},
   "outputs": [],
   "source": [
    "a.append(b)"
   ]
  },
  {
   "cell_type": "code",
   "execution_count": 74,
   "id": "e1a5822d-251f-450c-9806-d7a59f9b12e9",
   "metadata": {},
   "outputs": [
    {
     "data": {
      "text/plain": [
       "[5, 2, 3, 6, 7, 8, [1, 2, 3], [11, 12, 13]]"
      ]
     },
     "execution_count": 74,
     "metadata": {},
     "output_type": "execute_result"
    }
   ],
   "source": [
    "a"
   ]
  },
  {
   "cell_type": "code",
   "execution_count": 77,
   "id": "8ee682c1-e2c0-4b83-a5e7-85464b744de4",
   "metadata": {},
   "outputs": [],
   "source": [
    "b[1] = 51"
   ]
  },
  {
   "cell_type": "code",
   "execution_count": 78,
   "id": "9e100098-61d0-46c3-ab5e-aba4f0594479",
   "metadata": {},
   "outputs": [
    {
     "data": {
      "text/plain": [
       "[11, 51, 13]"
      ]
     },
     "execution_count": 78,
     "metadata": {},
     "output_type": "execute_result"
    }
   ],
   "source": [
    "b"
   ]
  },
  {
   "cell_type": "code",
   "execution_count": 79,
   "id": "1f8299c4-2650-426d-b059-2d87e692e11b",
   "metadata": {},
   "outputs": [
    {
     "data": {
      "text/plain": [
       "[5, 2, 3, 6, 7, 8, [1, 2, 3], [11, 51, 13]]"
      ]
     },
     "execution_count": 79,
     "metadata": {},
     "output_type": "execute_result"
    }
   ],
   "source": [
    "a"
   ]
  },
  {
   "cell_type": "code",
   "execution_count": 80,
   "id": "3684fbdb-4adb-464b-842e-cf1b2ba98a7f",
   "metadata": {},
   "outputs": [],
   "source": [
    "c = [a]"
   ]
  },
  {
   "cell_type": "code",
   "execution_count": 81,
   "id": "ec67792b-a9e3-43a3-966f-0c4173cf56b7",
   "metadata": {},
   "outputs": [
    {
     "data": {
      "text/plain": [
       "[[5, 2, 3, 6, 7, 8, [1, 2, 3], [11, 51, 13]]]"
      ]
     },
     "execution_count": 81,
     "metadata": {},
     "output_type": "execute_result"
    }
   ],
   "source": [
    "c"
   ]
  },
  {
   "cell_type": "code",
   "execution_count": 82,
   "id": "226534af-9ee5-414d-885e-2b1c057c15b8",
   "metadata": {},
   "outputs": [],
   "source": [
    "cd = a"
   ]
  },
  {
   "cell_type": "code",
   "execution_count": 83,
   "id": "3b97d0a9-fa69-4412-8b55-ea87717783e4",
   "metadata": {},
   "outputs": [],
   "source": [
    "d = a"
   ]
  },
  {
   "cell_type": "code",
   "execution_count": 84,
   "id": "b1fcdddc-335d-4826-85b6-2d52ae45275e",
   "metadata": {},
   "outputs": [
    {
     "data": {
      "text/plain": [
       "[5, 2, 3, 6, 7, 8, [1, 2, 3], [11, 51, 13]]"
      ]
     },
     "execution_count": 84,
     "metadata": {},
     "output_type": "execute_result"
    }
   ],
   "source": [
    "d"
   ]
  },
  {
   "cell_type": "code",
   "execution_count": 89,
   "id": "b382daa7-2dd5-4b50-8abb-296d774aa603",
   "metadata": {},
   "outputs": [
    {
     "name": "stdout",
     "output_type": "stream",
     "text": [
      "a is  [5, 2, 3, 6, 7, 8, [1, 2, 3], [11, 51, 13]]\n",
      "b is  [11, 51, 13]\n",
      "c is  [[5, 2, 3, 6, 7, 8, [1, 2, 3], [11, 51, 13]]]\n",
      "d is  [5, 2, 3, 6, 7, 8, [1, 2, 3], [11, 51, 13]]\n"
     ]
    }
   ],
   "source": [
    "print('a is ', a)\n",
    "print('b is ', b)\n",
    "print('c is ', c)\n",
    "print('d is ', d)"
   ]
  },
  {
   "cell_type": "code",
   "execution_count": 90,
   "id": "a62dc41c-a498-4d97-8c2f-0b7d151550fa",
   "metadata": {},
   "outputs": [],
   "source": [
    "d[1] = 200"
   ]
  },
  {
   "cell_type": "code",
   "execution_count": 91,
   "id": "9c0bafdf-0341-4025-9c4b-d730690f4a81",
   "metadata": {},
   "outputs": [
    {
     "data": {
      "text/plain": [
       "[5, 200, 3, 6, 7, 8, [1, 2, 3], [11, 51, 13]]"
      ]
     },
     "execution_count": 91,
     "metadata": {},
     "output_type": "execute_result"
    }
   ],
   "source": [
    "d"
   ]
  },
  {
   "cell_type": "code",
   "execution_count": 92,
   "id": "2a9c7681-7a08-462b-befd-a1b6b9f68282",
   "metadata": {},
   "outputs": [
    {
     "data": {
      "text/plain": [
       "[5, 200, 3, 6, 7, 8, [1, 2, 3], [11, 51, 13]]"
      ]
     },
     "execution_count": 92,
     "metadata": {},
     "output_type": "execute_result"
    }
   ],
   "source": [
    "a"
   ]
  },
  {
   "cell_type": "markdown",
   "id": "afe9ebb4-bf7e-4754-a5c9-d7e6b89515ad",
   "metadata": {},
   "source": [
    "---"
   ]
  },
  {
   "cell_type": "code",
   "execution_count": 93,
   "id": "ebdea3a9-61f4-482d-adef-8b79eecb9550",
   "metadata": {},
   "outputs": [],
   "source": [
    "a1 = [1]\n",
    "b1 = [2,3,4]"
   ]
  },
  {
   "cell_type": "code",
   "execution_count": 94,
   "id": "90df5723-a27f-4e3a-af6a-0e2f0cbf35ee",
   "metadata": {},
   "outputs": [],
   "source": [
    "c1 = [b1]"
   ]
  },
  {
   "cell_type": "code",
   "execution_count": 95,
   "id": "862068b2-bb3b-481a-845e-b6b992660385",
   "metadata": {},
   "outputs": [
    {
     "data": {
      "text/plain": [
       "[[2, 3, 4]]"
      ]
     },
     "execution_count": 95,
     "metadata": {},
     "output_type": "execute_result"
    }
   ],
   "source": [
    "c1"
   ]
  },
  {
   "cell_type": "code",
   "execution_count": 97,
   "id": "0e425f41-6317-4e5f-958b-9ef1b02bd201",
   "metadata": {},
   "outputs": [],
   "source": [
    "c1.extend(b1)"
   ]
  },
  {
   "cell_type": "code",
   "execution_count": 98,
   "id": "8048a301-7562-4189-abd7-207c3f22766c",
   "metadata": {},
   "outputs": [
    {
     "data": {
      "text/plain": [
       "[[2, 3, 4], 2, 3, 4]"
      ]
     },
     "execution_count": 98,
     "metadata": {},
     "output_type": "execute_result"
    }
   ],
   "source": [
    "c1"
   ]
  },
  {
   "cell_type": "code",
   "execution_count": 100,
   "id": "05631298-4002-4622-a640-464eb26dd405",
   "metadata": {},
   "outputs": [
    {
     "name": "stdout",
     "output_type": "stream",
     "text": [
      "[['nah'], ['nah']]\n",
      "[[['nah'], ['nah']], [['nah'], ['nah']]]\n"
     ]
    }
   ],
   "source": [
    "A = ['nah']\n",
    "B = [A,A]\n",
    "print(B)\n",
    "C = B\n",
    "D = [B,C]\n",
    "print(D)"
   ]
  },
  {
   "cell_type": "code",
   "execution_count": 101,
   "id": "3d7820c4-ce00-43c8-838b-24922a4b4da9",
   "metadata": {},
   "outputs": [
    {
     "name": "stdout",
     "output_type": "stream",
     "text": [
      "[['nee', 'ner'], ['nee', 'ner']]\n"
     ]
    }
   ],
   "source": [
    "B[0] = 'nee'\n",
    "B[1] = 'ner'\n",
    "print(D)"
   ]
  },
  {
   "cell_type": "markdown",
   "id": "069956bd-8293-473e-b9ba-c94206e3888d",
   "metadata": {},
   "source": [
    "---"
   ]
  },
  {
   "cell_type": "code",
   "execution_count": 103,
   "id": "113a4607-754b-49ca-bd09-d1e7b99fbd23",
   "metadata": {},
   "outputs": [],
   "source": [
    "a7 = []"
   ]
  },
  {
   "cell_type": "code",
   "execution_count": 104,
   "id": "7ff40bc6-d816-4836-8956-db014fe1fafa",
   "metadata": {},
   "outputs": [],
   "source": [
    "b7 = ['ra', a7]"
   ]
  },
  {
   "cell_type": "code",
   "execution_count": 105,
   "id": "3be95c8a-90fb-4a1a-8ffe-d696fe2c3064",
   "metadata": {},
   "outputs": [
    {
     "data": {
      "text/plain": [
       "['ra', []]"
      ]
     },
     "execution_count": 105,
     "metadata": {},
     "output_type": "execute_result"
    }
   ],
   "source": [
    "b7"
   ]
  },
  {
   "cell_type": "code",
   "execution_count": 107,
   "id": "8fc8cbee-8a18-4d04-8218-055454c2886e",
   "metadata": {},
   "outputs": [],
   "source": [
    "b7[1].append('ta')"
   ]
  },
  {
   "cell_type": "code",
   "execution_count": 108,
   "id": "b343111d-ac87-4899-bb03-96d842b8f4a3",
   "metadata": {},
   "outputs": [
    {
     "data": {
      "text/plain": [
       "['ra', ['ta']]"
      ]
     },
     "execution_count": 108,
     "metadata": {},
     "output_type": "execute_result"
    }
   ],
   "source": [
    "b7"
   ]
  },
  {
   "cell_type": "code",
   "execution_count": 109,
   "id": "2d8cd4b9-ad31-43ce-bc5a-dac953157e34",
   "metadata": {},
   "outputs": [
    {
     "data": {
      "text/plain": [
       "['ta']"
      ]
     },
     "execution_count": 109,
     "metadata": {},
     "output_type": "execute_result"
    }
   ],
   "source": [
    "a7"
   ]
  },
  {
   "cell_type": "code",
   "execution_count": 110,
   "id": "3317e72b-a356-46c1-a1cb-fb80027149f7",
   "metadata": {},
   "outputs": [],
   "source": [
    "a8 = ['go']"
   ]
  },
  {
   "cell_type": "code",
   "execution_count": 111,
   "id": "ad6b9c31-bf07-4ad8-99d1-4bfac71fc916",
   "metadata": {},
   "outputs": [],
   "source": [
    "a8.append(a8)"
   ]
  },
  {
   "cell_type": "code",
   "execution_count": 112,
   "id": "5b453d44-c417-40ca-ac12-90702bc8b563",
   "metadata": {},
   "outputs": [
    {
     "data": {
      "text/plain": [
       "['go', [...]]"
      ]
     },
     "execution_count": 112,
     "metadata": {},
     "output_type": "execute_result"
    }
   ],
   "source": [
    "a8"
   ]
  },
  {
   "cell_type": "code",
   "execution_count": 113,
   "id": "0aec18e0-b7d4-4f30-987e-2e456fa4377c",
   "metadata": {},
   "outputs": [],
   "source": [
    "a7.append(a7)"
   ]
  },
  {
   "cell_type": "code",
   "execution_count": 114,
   "id": "3a65bc01-ba95-4704-80b4-bcf2d6763552",
   "metadata": {},
   "outputs": [
    {
     "data": {
      "text/plain": [
       "['ta', [...]]"
      ]
     },
     "execution_count": 114,
     "metadata": {},
     "output_type": "execute_result"
    }
   ],
   "source": [
    "a7"
   ]
  },
  {
   "cell_type": "markdown",
   "id": "eda58494-3c53-427d-ab10-8ddcd65ddbd2",
   "metadata": {},
   "source": [
    "---"
   ]
  },
  {
   "cell_type": "code",
   "execution_count": 123,
   "id": "4627d8f2-db02-440f-a836-2e99a7da066c",
   "metadata": {},
   "outputs": [],
   "source": [
    "a10 = [1,2,[3,4]]"
   ]
  },
  {
   "cell_type": "code",
   "execution_count": 124,
   "id": "53bee996-c10a-42e4-a407-828b49690547",
   "metadata": {},
   "outputs": [],
   "source": [
    "b10 = a10.copy()"
   ]
  },
  {
   "cell_type": "code",
   "execution_count": 125,
   "id": "5b660503-180d-472f-a46f-759e0a2a4960",
   "metadata": {},
   "outputs": [
    {
     "data": {
      "text/plain": [
       "[1, 2, [3, 4]]"
      ]
     },
     "execution_count": 125,
     "metadata": {},
     "output_type": "execute_result"
    }
   ],
   "source": [
    "b10"
   ]
  },
  {
   "cell_type": "code",
   "execution_count": 126,
   "id": "0878d4b0-8148-4c52-94de-6a5d088ebf74",
   "metadata": {},
   "outputs": [],
   "source": [
    "a10[2][0] = 'paul'"
   ]
  },
  {
   "cell_type": "code",
   "execution_count": 127,
   "id": "5ed160c4-7a35-4591-b128-c2c31a49982d",
   "metadata": {},
   "outputs": [
    {
     "data": {
      "text/plain": [
       "[1, 2, ['paul', 4]]"
      ]
     },
     "execution_count": 127,
     "metadata": {},
     "output_type": "execute_result"
    }
   ],
   "source": [
    "a10"
   ]
  },
  {
   "cell_type": "code",
   "execution_count": 128,
   "id": "efc9cb2a-3893-4ffd-954b-fa64735c36a5",
   "metadata": {},
   "outputs": [
    {
     "data": {
      "text/plain": [
       "[1, 2, ['paul', 4]]"
      ]
     },
     "execution_count": 128,
     "metadata": {},
     "output_type": "execute_result"
    }
   ],
   "source": [
    "b10"
   ]
  },
  {
   "cell_type": "markdown",
   "id": "1e3b11f1-9c19-4888-8d98-5cfcae08afc5",
   "metadata": {},
   "source": [
    "---"
   ]
  },
  {
   "cell_type": "markdown",
   "id": "5c145110-9755-40b6-ba45-7ee6500805ef",
   "metadata": {},
   "source": [
    "## Deep Copy"
   ]
  },
  {
   "cell_type": "code",
   "execution_count": 129,
   "id": "d488976d-f9f9-41e7-adcb-45c1ca9d028a",
   "metadata": {},
   "outputs": [],
   "source": [
    "from copy import deepcopy\n",
    "\n",
    "c10 = deepcopy(a10)"
   ]
  },
  {
   "cell_type": "code",
   "execution_count": 130,
   "id": "7ca3cd12-05f7-4322-b736-8bedf2c2fb14",
   "metadata": {},
   "outputs": [],
   "source": [
    "a10[2][1] = 'visian'"
   ]
  },
  {
   "cell_type": "code",
   "execution_count": 131,
   "id": "e87186e8-3e23-4cb0-959d-f9d6d3cb04bb",
   "metadata": {},
   "outputs": [
    {
     "data": {
      "text/plain": [
       "[1, 2, ['paul', 'visian']]"
      ]
     },
     "execution_count": 131,
     "metadata": {},
     "output_type": "execute_result"
    }
   ],
   "source": [
    "a10"
   ]
  },
  {
   "cell_type": "code",
   "execution_count": 132,
   "id": "78efd308-ab1d-4116-b398-83d2962b072d",
   "metadata": {},
   "outputs": [
    {
     "data": {
      "text/plain": [
       "[1, 2, ['paul', 4]]"
      ]
     },
     "execution_count": 132,
     "metadata": {},
     "output_type": "execute_result"
    }
   ],
   "source": [
    "c10"
   ]
  },
  {
   "cell_type": "markdown",
   "id": "9b347e11-b453-4119-abd2-a20f344545cc",
   "metadata": {},
   "source": [
    "---"
   ]
  },
  {
   "cell_type": "markdown",
   "id": "68f0dae5-f145-46e5-9003-67a3c925d370",
   "metadata": {},
   "source": [
    "\n",
    "---"
   ]
  },
  {
   "cell_type": "markdown",
   "id": "630ed43f-ef0d-429a-9368-d4953b49f82f",
   "metadata": {},
   "source": [
    "# Tuples"
   ]
  },
  {
   "cell_type": "code",
   "execution_count": 134,
   "id": "1484d4c8-3243-4d14-a4ab-b18715ad8b77",
   "metadata": {},
   "outputs": [],
   "source": [
    "x = (1,2,3)"
   ]
  },
  {
   "cell_type": "code",
   "execution_count": 135,
   "id": "5608d3f7-056b-47b7-81a4-705437be0b16",
   "metadata": {},
   "outputs": [
    {
     "ename": "TypeError",
     "evalue": "'tuple' object does not support item assignment",
     "output_type": "error",
     "traceback": [
      "\u001b[0;31m---------------------------------------------------------------------------\u001b[0m",
      "\u001b[0;31mTypeError\u001b[0m                                 Traceback (most recent call last)",
      "Input \u001b[0;32mIn [135]\u001b[0m, in \u001b[0;36m<cell line: 1>\u001b[0;34m()\u001b[0m\n\u001b[0;32m----> 1\u001b[0m x[\u001b[38;5;241m1\u001b[39m] \u001b[38;5;241m=\u001b[39m \u001b[38;5;241m3\u001b[39m\n",
      "\u001b[0;31mTypeError\u001b[0m: 'tuple' object does not support item assignment"
     ]
    }
   ],
   "source": [
    "x[1] = 3"
   ]
  },
  {
   "cell_type": "code",
   "execution_count": 136,
   "id": "9e58cfa2-d2c9-4d29-80e8-13488f19cf9a",
   "metadata": {},
   "outputs": [
    {
     "data": {
      "text/plain": [
       "(2, 3)"
      ]
     },
     "execution_count": 136,
     "metadata": {},
     "output_type": "execute_result"
    }
   ],
   "source": [
    "x[1:]"
   ]
  },
  {
   "cell_type": "code",
   "execution_count": 137,
   "id": "a663774b-04f2-489f-ac76-df1c734112a0",
   "metadata": {},
   "outputs": [
    {
     "data": {
      "text/plain": [
       "(1, 2, 3, 4, 5, 6)"
      ]
     },
     "execution_count": 137,
     "metadata": {},
     "output_type": "execute_result"
    }
   ],
   "source": [
    "x + (4,5,6)"
   ]
  },
  {
   "cell_type": "code",
   "execution_count": 138,
   "id": "9294f039-4dac-42e6-ba45-cacf297b5572",
   "metadata": {},
   "outputs": [
    {
     "data": {
      "text/plain": [
       "(1, 2, 3)"
      ]
     },
     "execution_count": 138,
     "metadata": {},
     "output_type": "execute_result"
    }
   ],
   "source": [
    "x"
   ]
  },
  {
   "cell_type": "code",
   "execution_count": 139,
   "id": "7f8225ca-86bf-4416-8cae-2d92a312f060",
   "metadata": {},
   "outputs": [],
   "source": [
    "y = x + (4,5,6)"
   ]
  },
  {
   "cell_type": "code",
   "execution_count": 140,
   "id": "6b36f353-af22-48d3-94f1-8489f6297326",
   "metadata": {},
   "outputs": [
    {
     "data": {
      "text/plain": [
       "(1, 2, 3, 4, 5, 6)"
      ]
     },
     "execution_count": 140,
     "metadata": {},
     "output_type": "execute_result"
    }
   ],
   "source": [
    "y"
   ]
  },
  {
   "cell_type": "code",
   "execution_count": 141,
   "id": "5186922e-e744-4444-aa79-70807e381b29",
   "metadata": {},
   "outputs": [],
   "source": [
    "x = x + (4,5,6)"
   ]
  },
  {
   "cell_type": "code",
   "execution_count": 142,
   "id": "265dda67-50b9-4b7d-9e36-1e05016a2128",
   "metadata": {},
   "outputs": [
    {
     "data": {
      "text/plain": [
       "(1, 2, 3, 4, 5, 6)"
      ]
     },
     "execution_count": 142,
     "metadata": {},
     "output_type": "execute_result"
    }
   ],
   "source": [
    "x"
   ]
  },
  {
   "cell_type": "code",
   "execution_count": 143,
   "id": "bfa1b2a5-ae1a-4b2a-a5e5-6373953b4431",
   "metadata": {},
   "outputs": [
    {
     "data": {
      "text/plain": [
       "140284907023424"
      ]
     },
     "execution_count": 143,
     "metadata": {},
     "output_type": "execute_result"
    }
   ],
   "source": [
    "id(x)"
   ]
  },
  {
   "cell_type": "code",
   "execution_count": 144,
   "id": "5094e577-d919-4f8d-8c67-55a24b62fb5d",
   "metadata": {},
   "outputs": [],
   "source": [
    "x = x + (4,5,6)"
   ]
  },
  {
   "cell_type": "code",
   "execution_count": 145,
   "id": "face82f1-94a5-46b2-8c97-8c4e8d63e82a",
   "metadata": {},
   "outputs": [
    {
     "data": {
      "text/plain": [
       "(1, 2, 3, 4, 5, 6, 4, 5, 6)"
      ]
     },
     "execution_count": 145,
     "metadata": {},
     "output_type": "execute_result"
    }
   ],
   "source": [
    "x"
   ]
  },
  {
   "cell_type": "code",
   "execution_count": 146,
   "id": "b41033ce-16f5-479f-abea-763532837d2c",
   "metadata": {},
   "outputs": [
    {
     "data": {
      "text/plain": [
       "140284907017664"
      ]
     },
     "execution_count": 146,
     "metadata": {},
     "output_type": "execute_result"
    }
   ],
   "source": [
    "id(x)"
   ]
  },
  {
   "cell_type": "code",
   "execution_count": 147,
   "id": "4bb548d8-c3d5-4c15-91b4-923c281c9838",
   "metadata": {},
   "outputs": [
    {
     "data": {
      "text/plain": [
       "(1, 2, 3, 4, 5, 6, 4, 5, 6)"
      ]
     },
     "execution_count": 147,
     "metadata": {},
     "output_type": "execute_result"
    }
   ],
   "source": [
    "x"
   ]
  },
  {
   "cell_type": "code",
   "execution_count": 148,
   "id": "3961a4f4-b839-4a0e-9e8e-7ddb14cb4286",
   "metadata": {},
   "outputs": [],
   "source": [
    "a,b,c = 1,2,3"
   ]
  },
  {
   "cell_type": "code",
   "execution_count": 149,
   "id": "6cef254b-bca0-4365-90c7-6945e30cb4cd",
   "metadata": {},
   "outputs": [
    {
     "name": "stdout",
     "output_type": "stream",
     "text": [
      "1\n"
     ]
    }
   ],
   "source": [
    "print(a)"
   ]
  },
  {
   "cell_type": "code",
   "execution_count": 150,
   "id": "bfabb33b-7efd-4ed2-88d4-38fd4ea12043",
   "metadata": {},
   "outputs": [],
   "source": [
    "a = range(10)"
   ]
  },
  {
   "cell_type": "code",
   "execution_count": 151,
   "id": "455f0742-9d66-48e1-998b-b5900e6f5f3d",
   "metadata": {},
   "outputs": [
    {
     "data": {
      "text/plain": [
       "range(0, 10)"
      ]
     },
     "execution_count": 151,
     "metadata": {},
     "output_type": "execute_result"
    }
   ],
   "source": [
    "a"
   ]
  },
  {
   "cell_type": "code",
   "execution_count": 152,
   "id": "7e6baae0-47ea-4a7f-aa1a-66e229f657f7",
   "metadata": {},
   "outputs": [
    {
     "data": {
      "text/plain": [
       "[0, 1, 2, 3, 4, 5, 6, 7, 8, 9]"
      ]
     },
     "execution_count": 152,
     "metadata": {},
     "output_type": "execute_result"
    }
   ],
   "source": [
    "list(a)"
   ]
  },
  {
   "cell_type": "code",
   "execution_count": 153,
   "id": "d01be006-ae64-4c1b-95ca-77223d7926a0",
   "metadata": {},
   "outputs": [],
   "source": [
    "# ragne is a cgenerator"
   ]
  },
  {
   "cell_type": "code",
   "execution_count": 154,
   "id": "55befedb-8be8-49eb-9c0a-083ec5c78b11",
   "metadata": {},
   "outputs": [
    {
     "data": {
      "text/plain": [
       "range(0, 10)"
      ]
     },
     "execution_count": 154,
     "metadata": {},
     "output_type": "execute_result"
    }
   ],
   "source": [
    "a"
   ]
  },
  {
   "cell_type": "code",
   "execution_count": 155,
   "id": "27eee996-3d5b-4a70-abe3-aa8c7244f9f3",
   "metadata": {},
   "outputs": [
    {
     "data": {
      "text/plain": [
       "True"
      ]
     },
     "execution_count": 155,
     "metadata": {},
     "output_type": "execute_result"
    }
   ],
   "source": [
    "5 in a"
   ]
  },
  {
   "cell_type": "code",
   "execution_count": 156,
   "id": "a408301b-22a3-4763-a11e-ada2ed0a1464",
   "metadata": {},
   "outputs": [
    {
     "data": {
      "text/plain": [
       "True"
      ]
     },
     "execution_count": 156,
     "metadata": {},
     "output_type": "execute_result"
    }
   ],
   "source": [
    "15 not in a"
   ]
  },
  {
   "cell_type": "code",
   "execution_count": 157,
   "id": "753a39c2-9e23-4c69-aa80-ff58abef3e51",
   "metadata": {},
   "outputs": [
    {
     "data": {
      "text/plain": [
       "2"
      ]
     },
     "execution_count": 157,
     "metadata": {},
     "output_type": "execute_result"
    }
   ],
   "source": [
    "a.index(2)"
   ]
  },
  {
   "cell_type": "markdown",
   "id": "6a65bb5d-3db9-4ac1-ad18-98f8e6573a5f",
   "metadata": {},
   "source": [
    "---                                                                                                             "
   ]
  },
  {
   "cell_type": "code",
   "execution_count": 158,
   "id": "c89d2da2-3a49-4a05-841f-62492bb3a6bd",
   "metadata": {},
   "outputs": [],
   "source": [
    "a = {'a': 12, 'b': 343,  'c': 345}"
   ]
  },
  {
   "cell_type": "code",
   "execution_count": 162,
   "id": "44c6c435-3985-4c49-830f-0a2ff5e26d8d",
   "metadata": {},
   "outputs": [
    {
     "data": {
      "text/plain": [
       "12"
      ]
     },
     "execution_count": 162,
     "metadata": {},
     "output_type": "execute_result"
    }
   ],
   "source": [
    "a['a']"
   ]
  },
  {
   "cell_type": "code",
   "execution_count": 163,
   "id": "2da65582-8d04-464d-a162-865c5d304e12",
   "metadata": {},
   "outputs": [
    {
     "ename": "TypeError",
     "evalue": "'dict' object is not callable",
     "output_type": "error",
     "traceback": [
      "\u001b[0;31m---------------------------------------------------------------------------\u001b[0m",
      "\u001b[0;31mTypeError\u001b[0m                                 Traceback (most recent call last)",
      "Input \u001b[0;32mIn [163]\u001b[0m, in \u001b[0;36m<cell line: 1>\u001b[0;34m()\u001b[0m\n\u001b[0;32m----> 1\u001b[0m \u001b[43ma\u001b[49m\u001b[43m(\u001b[49m\u001b[38;5;124;43m'\u001b[39;49m\u001b[38;5;124;43ma\u001b[39;49m\u001b[38;5;124;43m'\u001b[39;49m\u001b[43m)\u001b[49m\n",
      "\u001b[0;31mTypeError\u001b[0m: 'dict' object is not callable"
     ]
    }
   ],
   "source": [
    "a('a')"
   ]
  },
  {
   "cell_type": "code",
   "execution_count": 164,
   "id": "3e8807b7-62b8-43e3-9f2c-de989d2557f2",
   "metadata": {},
   "outputs": [],
   "source": [
    "c = dict(a = 'sdfds', b = 'sdfasdf', c = 'ertr')"
   ]
  },
  {
   "cell_type": "code",
   "execution_count": 165,
   "id": "3e269010-0838-4d9a-aa22-ccc67a685459",
   "metadata": {},
   "outputs": [
    {
     "data": {
      "text/plain": [
       "{'a': 'sdfds', 'b': 'sdfasdf', 'c': 'ertr'}"
      ]
     },
     "execution_count": 165,
     "metadata": {},
     "output_type": "execute_result"
    }
   ],
   "source": [
    "c"
   ]
  },
  {
   "cell_type": "code",
   "execution_count": 167,
   "id": "80beea65-ecce-4c5c-8def-713db86887a6",
   "metadata": {},
   "outputs": [],
   "source": [
    "c = {'a' : 12, 'b': 345, 'c': 45654}"
   ]
  },
  {
   "cell_type": "code",
   "execution_count": 168,
   "id": "88d2dec9-30fb-48c0-bf49-171375f97595",
   "metadata": {},
   "outputs": [
    {
     "data": {
      "text/plain": [
       "{'a': 12, 'b': 345, 'c': 45654}"
      ]
     },
     "execution_count": 168,
     "metadata": {},
     "output_type": "execute_result"
    }
   ],
   "source": [
    "c"
   ]
  },
  {
   "cell_type": "code",
   "execution_count": 169,
   "id": "cdb7bb65-06d7-4fb5-b61b-df94fd321505",
   "metadata": {},
   "outputs": [
    {
     "data": {
      "text/plain": [
       "12"
      ]
     },
     "execution_count": 169,
     "metadata": {},
     "output_type": "execute_result"
    }
   ],
   "source": [
    "c['a']"
   ]
  },
  {
   "cell_type": "code",
   "execution_count": 170,
   "id": "c2eb38ff-d454-4b89-9c80-689c4759cac9",
   "metadata": {},
   "outputs": [],
   "source": [
    "d = dict([('a', '1232'), ('r', 'tert'), ('rt', 'ertret')])"
   ]
  },
  {
   "cell_type": "code",
   "execution_count": 171,
   "id": "3caafc32-8933-48f5-a32c-2c8dadef9281",
   "metadata": {},
   "outputs": [
    {
     "data": {
      "text/plain": [
       "{'a': '1232', 'r': 'tert', 'rt': 'ertret'}"
      ]
     },
     "execution_count": 171,
     "metadata": {},
     "output_type": "execute_result"
    }
   ],
   "source": [
    "d"
   ]
  },
  {
   "cell_type": "code",
   "execution_count": 172,
   "id": "dbbec267-1a76-4862-83a1-740b7d64d4b8",
   "metadata": {},
   "outputs": [],
   "source": [
    "# from a list of tuples (above)"
   ]
  },
  {
   "cell_type": "code",
   "execution_count": 173,
   "id": "a25d41c9-b3fc-45ce-bee3-62ba748195b0",
   "metadata": {},
   "outputs": [],
   "source": [
    "# have no sequence"
   ]
  },
  {
   "cell_type": "markdown",
   "id": "6018783a-ba9d-4019-8b7c-9bb05849a84f",
   "metadata": {},
   "source": [
    "---"
   ]
  },
  {
   "cell_type": "code",
   "execution_count": 174,
   "id": "32aff244-a861-4486-bc01-03f159c3acae",
   "metadata": {},
   "outputs": [],
   "source": [
    "mydict = {}"
   ]
  },
  {
   "cell_type": "code",
   "execution_count": 175,
   "id": "52d6cc4e-30f3-4351-996f-134ddc835327",
   "metadata": {},
   "outputs": [],
   "source": [
    "mydict['mary'] = (123456)"
   ]
  },
  {
   "cell_type": "code",
   "execution_count": 176,
   "id": "c77a75c4-32ff-4f68-b2a8-bf527de1209a",
   "metadata": {},
   "outputs": [
    {
     "data": {
      "text/plain": [
       "{'mary': 123456}"
      ]
     },
     "execution_count": 176,
     "metadata": {},
     "output_type": "execute_result"
    }
   ],
   "source": [
    "mydict"
   ]
  },
  {
   "cell_type": "code",
   "execution_count": 177,
   "id": "b46d2cab-d7f7-4f98-929d-9890c599f6bb",
   "metadata": {},
   "outputs": [],
   "source": [
    "mydict['john'] = 3433"
   ]
  },
  {
   "cell_type": "code",
   "execution_count": 178,
   "id": "8657590a-03a1-4926-b0dc-231241886c92",
   "metadata": {},
   "outputs": [
    {
     "data": {
      "text/plain": [
       "{'mary': 123456, 'john': 3433}"
      ]
     },
     "execution_count": 178,
     "metadata": {},
     "output_type": "execute_result"
    }
   ],
   "source": [
    "mydict"
   ]
  },
  {
   "cell_type": "code",
   "execution_count": 181,
   "id": "91c378a9-5e36-4672-bdc8-a040485b9d12",
   "metadata": {},
   "outputs": [
    {
     "data": {
      "text/plain": [
       "123456"
      ]
     },
     "execution_count": 181,
     "metadata": {},
     "output_type": "execute_result"
    }
   ],
   "source": [
    "mydict['mary']"
   ]
  },
  {
   "cell_type": "code",
   "execution_count": 182,
   "id": "d84599a6-1c33-4c2b-b1bc-f844243e9e52",
   "metadata": {},
   "outputs": [
    {
     "name": "stdout",
     "output_type": "stream",
     "text": [
      "123456\n"
     ]
    }
   ],
   "source": [
    "print(mydict['mary'])"
   ]
  },
  {
   "cell_type": "code",
   "execution_count": 183,
   "id": "66fa687f-d184-47e1-a4a5-e6e1d668c750",
   "metadata": {},
   "outputs": [
    {
     "data": {
      "text/plain": [
       "True"
      ]
     },
     "execution_count": 183,
     "metadata": {},
     "output_type": "execute_result"
    }
   ],
   "source": [
    "'mary' in mydict"
   ]
  },
  {
   "cell_type": "code",
   "execution_count": 184,
   "id": "a989bc4a-3ff6-4497-a42e-74fa76cbac2c",
   "metadata": {},
   "outputs": [
    {
     "data": {
      "text/plain": [
       "False"
      ]
     },
     "execution_count": 184,
     "metadata": {},
     "output_type": "execute_result"
    }
   ],
   "source": [
    "123456 in mydict"
   ]
  },
  {
   "cell_type": "code",
   "execution_count": 185,
   "id": "5da4c366-ad43-462b-88d4-bd26feb323af",
   "metadata": {},
   "outputs": [
    {
     "name": "stdout",
     "output_type": "stream",
     "text": [
      "123456\n"
     ]
    }
   ],
   "source": [
    "if 'mary' in mydict:\n",
    "    print(mydict['mary'])"
   ]
  },
  {
   "cell_type": "code",
   "execution_count": 186,
   "id": "9517afe8-aebb-496e-9803-b8048e4c60a8",
   "metadata": {},
   "outputs": [],
   "source": [
    "del mydict['mary']"
   ]
  },
  {
   "cell_type": "code",
   "execution_count": 187,
   "id": "9d2c50e6-27c5-4aef-9479-a5728316233b",
   "metadata": {},
   "outputs": [
    {
     "data": {
      "text/plain": [
       "{'john': 3433}"
      ]
     },
     "execution_count": 187,
     "metadata": {},
     "output_type": "execute_result"
    }
   ],
   "source": [
    "mydict"
   ]
  },
  {
   "cell_type": "code",
   "execution_count": 188,
   "id": "32eb02e5-a8d9-4660-98f5-7d54cddd5637",
   "metadata": {},
   "outputs": [],
   "source": [
    "mydict['hello'] = 234324"
   ]
  },
  {
   "cell_type": "code",
   "execution_count": 189,
   "id": "aa1ecf00-d12e-4051-abb7-7c2424c3b3b0",
   "metadata": {},
   "outputs": [
    {
     "data": {
      "text/plain": [
       "{'john': 3433, 'hello': 234324}"
      ]
     },
     "execution_count": 189,
     "metadata": {},
     "output_type": "execute_result"
    }
   ],
   "source": [
    "mydict"
   ]
  },
  {
   "cell_type": "code",
   "execution_count": 190,
   "id": "da1ca261-5cc3-4394-a0b0-e33ccb402cfa",
   "metadata": {},
   "outputs": [],
   "source": [
    "mytuple = (('a', 3454), ('b', 3454), ('c', 456))"
   ]
  },
  {
   "cell_type": "code",
   "execution_count": 191,
   "id": "f62b39b2-eda5-4d2a-aa5c-497217241f7d",
   "metadata": {},
   "outputs": [
    {
     "data": {
      "text/plain": [
       "(('a', 3454), ('b', 3454), ('c', 456))"
      ]
     },
     "execution_count": 191,
     "metadata": {},
     "output_type": "execute_result"
    }
   ],
   "source": [
    "mytuple"
   ]
  },
  {
   "cell_type": "code",
   "execution_count": 192,
   "id": "6a509cac-a0b7-48bc-8861-19705c56df59",
   "metadata": {},
   "outputs": [
    {
     "ename": "AttributeError",
     "evalue": "'dict' object has no attribute 'append'",
     "output_type": "error",
     "traceback": [
      "\u001b[0;31m---------------------------------------------------------------------------\u001b[0m",
      "\u001b[0;31mAttributeError\u001b[0m                            Traceback (most recent call last)",
      "Input \u001b[0;32mIn [192]\u001b[0m, in \u001b[0;36m<cell line: 1>\u001b[0;34m()\u001b[0m\n\u001b[0;32m----> 1\u001b[0m \u001b[43mmydict\u001b[49m\u001b[38;5;241;43m.\u001b[39;49m\u001b[43mappend\u001b[49m\u001b[38;5;241m.\u001b[39mdict(mytuple)\n",
      "\u001b[0;31mAttributeError\u001b[0m: 'dict' object has no attribute 'append'"
     ]
    }
   ],
   "source": [
    "mydict.append.dict(mytuple)"
   ]
  },
  {
   "cell_type": "code",
   "execution_count": 193,
   "id": "bb92419a-a416-4560-846f-a34f29865dca",
   "metadata": {},
   "outputs": [
    {
     "data": {
      "text/plain": [
       "{'john': 3433, 'hello': 234324}"
      ]
     },
     "execution_count": 193,
     "metadata": {},
     "output_type": "execute_result"
    }
   ],
   "source": [
    "mydict"
   ]
  },
  {
   "cell_type": "code",
   "execution_count": 194,
   "id": "e50fdd23-8e40-4a9d-9610-32fdb98a0828",
   "metadata": {},
   "outputs": [],
   "source": [
    "mydict['dfd'] = [1,2,3,34,4,5]"
   ]
  },
  {
   "cell_type": "code",
   "execution_count": 195,
   "id": "f382b0db-7e65-4806-9ff3-224778d7ef45",
   "metadata": {},
   "outputs": [
    {
     "data": {
      "text/plain": [
       "{'john': 3433, 'hello': 234324, 'dfd': [1, 2, 3, 34, 4, 5]}"
      ]
     },
     "execution_count": 195,
     "metadata": {},
     "output_type": "execute_result"
    }
   ],
   "source": [
    "mydict"
   ]
  },
  {
   "cell_type": "code",
   "execution_count": 198,
   "id": "0a088772-7dc4-44a0-8d91-56a25ffc285a",
   "metadata": {},
   "outputs": [],
   "source": [
    "mydict['df'] = ((3.4))"
   ]
  },
  {
   "cell_type": "code",
   "execution_count": 199,
   "id": "b170fd57-ee0a-4c36-9d1c-76a0b343d11b",
   "metadata": {},
   "outputs": [
    {
     "data": {
      "text/plain": [
       "{'john': 3433, 'hello': 234324, 'dfd': [1, 2, 3, 34, 4, 5], 'df': 3.4}"
      ]
     },
     "execution_count": 199,
     "metadata": {},
     "output_type": "execute_result"
    }
   ],
   "source": [
    "mydict"
   ]
  },
  {
   "cell_type": "code",
   "execution_count": 200,
   "id": "dbb5080e-2e11-4b4b-8b09-e4f09d22a513",
   "metadata": {},
   "outputs": [],
   "source": [
    "mydict['dgfh'] = {'t': 3454, 'yu': 56765, 'tyy': 4565}"
   ]
  },
  {
   "cell_type": "code",
   "execution_count": 201,
   "id": "c9803520-efa9-471b-8e31-aa42c467170f",
   "metadata": {},
   "outputs": [
    {
     "data": {
      "text/plain": [
       "{'john': 3433,\n",
       " 'hello': 234324,\n",
       " 'dfd': [1, 2, 3, 34, 4, 5],\n",
       " 'df': 3.4,\n",
       " 'dgfh': {'t': 3454, 'yu': 56765, 'tyy': 4565}}"
      ]
     },
     "execution_count": 201,
     "metadata": {},
     "output_type": "execute_result"
    }
   ],
   "source": [
    "mydict"
   ]
  },
  {
   "cell_type": "code",
   "execution_count": 202,
   "id": "efe978e4-f135-46ab-bd72-47d5481e4486",
   "metadata": {},
   "outputs": [],
   "source": [
    "mydict[1] = 3454"
   ]
  },
  {
   "cell_type": "code",
   "execution_count": 203,
   "id": "ab50d720-5fe4-4090-991c-ef85e3ca14a6",
   "metadata": {},
   "outputs": [
    {
     "data": {
      "text/plain": [
       "{'john': 3433,\n",
       " 'hello': 234324,\n",
       " 'dfd': [1, 2, 3, 34, 4, 5],\n",
       " 'df': 3.4,\n",
       " 'dgfh': {'t': 3454, 'yu': 56765, 'tyy': 4565},\n",
       " 1: 3454}"
      ]
     },
     "execution_count": 203,
     "metadata": {},
     "output_type": "execute_result"
    }
   ],
   "source": [
    "mydict"
   ]
  },
  {
   "cell_type": "markdown",
   "id": "4bdb1a7e-e168-4117-a8e8-a975e3dee544",
   "metadata": {},
   "source": [
    "---"
   ]
  },
  {
   "cell_type": "code",
   "execution_count": 205,
   "id": "5a6d9840-82cd-460f-8439-b64f5897f228",
   "metadata": {},
   "outputs": [],
   "source": [
    "mydict1 = ((1,2), (3,4), (5,6))"
   ]
  },
  {
   "cell_type": "code",
   "execution_count": 206,
   "id": "f18674a8-60f3-4c40-b7e1-c0334688486c",
   "metadata": {},
   "outputs": [
    {
     "data": {
      "text/plain": [
       "((1, 2), (3, 4), (5, 6))"
      ]
     },
     "execution_count": 206,
     "metadata": {},
     "output_type": "execute_result"
    }
   ],
   "source": [
    "mydict1"
   ]
  },
  {
   "cell_type": "code",
   "execution_count": 210,
   "id": "43ada436-c785-4944-a793-485e96db348d",
   "metadata": {},
   "outputs": [],
   "source": [
    "mydict1 = dict([(1,2), (3,4), (5,6)])"
   ]
  },
  {
   "cell_type": "code",
   "execution_count": 211,
   "id": "c4096a99-9fbc-449b-8bb4-da0a3798d988",
   "metadata": {},
   "outputs": [
    {
     "data": {
      "text/plain": [
       "{1: 2, 3: 4, 5: 6}"
      ]
     },
     "execution_count": 211,
     "metadata": {},
     "output_type": "execute_result"
    }
   ],
   "source": [
    "mydict1"
   ]
  },
  {
   "cell_type": "code",
   "execution_count": 212,
   "id": "45511f9f-a87e-4588-b9fe-6fc947f40525",
   "metadata": {},
   "outputs": [
    {
     "data": {
      "text/plain": [
       "dict"
      ]
     },
     "execution_count": 212,
     "metadata": {},
     "output_type": "execute_result"
    }
   ],
   "source": [
    "type(mydict1)"
   ]
  },
  {
   "cell_type": "code",
   "execution_count": 213,
   "id": "6160f08f-5b46-4d33-8a48-553a251bda14",
   "metadata": {},
   "outputs": [],
   "source": [
    "mydict2 = {7:8, 9:10}"
   ]
  },
  {
   "cell_type": "code",
   "execution_count": 215,
   "id": "6e2624b2-cedd-4da4-9409-3475975816c5",
   "metadata": {},
   "outputs": [],
   "source": [
    "mydict1.update(mydict2)"
   ]
  },
  {
   "cell_type": "code",
   "execution_count": 216,
   "id": "d2fb9e9b-d826-41ff-94f3-df6bf8c28c7f",
   "metadata": {},
   "outputs": [
    {
     "data": {
      "text/plain": [
       "{1: 2, 3: 4, 5: 6, 7: 8, 9: 10}"
      ]
     },
     "execution_count": 216,
     "metadata": {},
     "output_type": "execute_result"
    }
   ],
   "source": [
    "mydict1"
   ]
  },
  {
   "cell_type": "code",
   "execution_count": 217,
   "id": "4ed32173-bbbe-48e8-8674-ff3b85101831",
   "metadata": {},
   "outputs": [
    {
     "data": {
      "text/plain": [
       "dict_keys([1, 3, 5, 7, 9])"
      ]
     },
     "execution_count": 217,
     "metadata": {},
     "output_type": "execute_result"
    }
   ],
   "source": [
    "mydict1.keys()"
   ]
  },
  {
   "cell_type": "code",
   "execution_count": 218,
   "id": "085cb0f9-1f69-4fc2-a37f-7c0fac5742bc",
   "metadata": {},
   "outputs": [
    {
     "data": {
      "text/plain": [
       "dict_values([2, 4, 6, 8, 10])"
      ]
     },
     "execution_count": 218,
     "metadata": {},
     "output_type": "execute_result"
    }
   ],
   "source": [
    "mydict1.values()"
   ]
  },
  {
   "cell_type": "code",
   "execution_count": 219,
   "id": "9389a22d-4822-475e-87f4-afc18edaa334",
   "metadata": {},
   "outputs": [
    {
     "data": {
      "text/plain": [
       "dict_items([(1, 2), (3, 4), (5, 6), (7, 8), (9, 10)])"
      ]
     },
     "execution_count": 219,
     "metadata": {},
     "output_type": "execute_result"
    }
   ],
   "source": [
    "mydict1.items()"
   ]
  },
  {
   "cell_type": "code",
   "execution_count": 220,
   "id": "ddfcc5f3-e28a-45da-88a6-1c654a20c56a",
   "metadata": {},
   "outputs": [
    {
     "data": {
      "text/plain": [
       "2"
      ]
     },
     "execution_count": 220,
     "metadata": {},
     "output_type": "execute_result"
    }
   ],
   "source": [
    "mydict1.get(1)"
   ]
  },
  {
   "cell_type": "code",
   "execution_count": 221,
   "id": "0e6fbcbe-7882-4e43-a777-86f8f9f27b16",
   "metadata": {},
   "outputs": [],
   "source": [
    "mylist1 = list(range(10))"
   ]
  },
  {
   "cell_type": "code",
   "execution_count": 222,
   "id": "2aa6854b-d0d6-42e6-8863-3c9aea4ad81c",
   "metadata": {},
   "outputs": [
    {
     "data": {
      "text/plain": [
       "[0, 1, 2, 3, 4, 5, 6, 7, 8, 9]"
      ]
     },
     "execution_count": 222,
     "metadata": {},
     "output_type": "execute_result"
    }
   ],
   "source": [
    "mylist1"
   ]
  },
  {
   "cell_type": "code",
   "execution_count": 223,
   "id": "4ba39aa5-4633-410f-9b32-119a30caad30",
   "metadata": {},
   "outputs": [],
   "source": [
    "grades = {'a': {'a': 12, 'b': 34}}"
   ]
  },
  {
   "cell_type": "code",
   "execution_count": 224,
   "id": "9cd1914a-e0aa-4ee6-973d-d7a26bd455f0",
   "metadata": {},
   "outputs": [
    {
     "data": {
      "text/plain": [
       "{'a': {'a': 12, 'b': 34}}"
      ]
     },
     "execution_count": 224,
     "metadata": {},
     "output_type": "execute_result"
    }
   ],
   "source": [
    "grades"
   ]
  },
  {
   "cell_type": "code",
   "execution_count": 227,
   "id": "24bdb583-f12a-4010-a9e6-f27d5762759a",
   "metadata": {},
   "outputs": [
    {
     "data": {
      "text/plain": [
       "34"
      ]
     },
     "execution_count": 227,
     "metadata": {},
     "output_type": "execute_result"
    }
   ],
   "source": [
    "grades['a']['b']"
   ]
  },
  {
   "cell_type": "code",
   "execution_count": 228,
   "id": "b4d3a415-2714-4953-8815-868fe61291e5",
   "metadata": {},
   "outputs": [],
   "source": [
    "grades['c'] = 345"
   ]
  },
  {
   "cell_type": "code",
   "execution_count": 229,
   "id": "042a4a33-4214-479d-bcc8-e63ea1e7ced8",
   "metadata": {},
   "outputs": [
    {
     "data": {
      "text/plain": [
       "{'a': {'a': 12, 'b': 34}, 'c': 345}"
      ]
     },
     "execution_count": 229,
     "metadata": {},
     "output_type": "execute_result"
    }
   ],
   "source": [
    "grades"
   ]
  },
  {
   "cell_type": "code",
   "execution_count": 231,
   "id": "f10735cd-278f-415f-938d-0c6bae4ef18e",
   "metadata": {},
   "outputs": [],
   "source": [
    "data ={k:v for k,v in (('a', 1), ('b',2), ('c',3)) }"
   ]
  },
  {
   "cell_type": "code",
   "execution_count": 232,
   "id": "8e077550-661c-4871-a93a-5066fff8cccc",
   "metadata": {},
   "outputs": [
    {
     "data": {
      "text/plain": [
       "{'a': 1, 'b': 2, 'c': 3}"
      ]
     },
     "execution_count": 232,
     "metadata": {},
     "output_type": "execute_result"
    }
   ],
   "source": [
    "data"
   ]
  },
  {
   "cell_type": "markdown",
   "id": "e0e6b773-ee8d-4e50-bb36-da8ab0476a31",
   "metadata": {},
   "source": [
    "# Zip"
   ]
  },
  {
   "cell_type": "code",
   "execution_count": 233,
   "id": "3cf8adca-b622-4bdb-a230-0170037a970a",
   "metadata": {},
   "outputs": [],
   "source": [
    "list1 = [1,2,3,4]\n",
    "list2 = [5,6,7,8]"
   ]
  },
  {
   "cell_type": "code",
   "execution_count": 234,
   "id": "6be6e9c9-f98a-4a2d-9be3-a41c4b64794a",
   "metadata": {},
   "outputs": [],
   "source": [
    "mydict2 = dict(zip(list1, list2))"
   ]
  },
  {
   "cell_type": "code",
   "execution_count": 235,
   "id": "dfc17acf-34b3-43cd-9d48-04e541c0267b",
   "metadata": {},
   "outputs": [
    {
     "data": {
      "text/plain": [
       "{1: 5, 2: 6, 3: 7, 4: 8}"
      ]
     },
     "execution_count": 235,
     "metadata": {},
     "output_type": "execute_result"
    }
   ],
   "source": [
    "mydict2"
   ]
  },
  {
   "cell_type": "code",
   "execution_count": 236,
   "id": "51fba1d7-aa40-4ca1-a238-bddb41c7374a",
   "metadata": {},
   "outputs": [],
   "source": [
    "coins = [\n",
    "    {'name': 'Penny', 'metal': ['Copper', 'Zinc'], 'value' : 0.01},\n",
    "    {'name': 'Dime', 'metal': ['Copper', 'Nickel'], 'value' : 0.10},\n",
    "    {'name': 'Quarter', 'metal': ['Copper', 'Nickel'], 'value' : 0.25}\n",
    "]"
   ]
  },
  {
   "cell_type": "code",
   "execution_count": 237,
   "id": "a09dbc41-8e66-4d67-b5a6-c5bf88e2e2dd",
   "metadata": {},
   "outputs": [
    {
     "data": {
      "text/plain": [
       "{'name': 'Dime', 'metal': ['Copper', 'Nickel'], 'value': 0.1}"
      ]
     },
     "execution_count": 237,
     "metadata": {},
     "output_type": "execute_result"
    }
   ],
   "source": [
    "coins[1]"
   ]
  },
  {
   "cell_type": "code",
   "execution_count": 241,
   "id": "88e53e51-40c7-48f2-b8d0-0efd615b758f",
   "metadata": {},
   "outputs": [
    {
     "data": {
      "text/plain": [
       "dict_items([('name', 'Dime'), ('metal', ['Copper', 'Nickel']), ('value', 0.1)])"
      ]
     },
     "execution_count": 241,
     "metadata": {},
     "output_type": "execute_result"
    }
   ],
   "source": [
    "coins[1].items()"
   ]
  },
  {
   "cell_type": "code",
   "execution_count": null,
   "id": "e29426e2-6539-4609-81c5-b9aefec51766",
   "metadata": {},
   "outputs": [],
   "source": []
  }
 ],
 "metadata": {
  "kernelspec": {
   "display_name": "Python 3 (ipykernel)",
   "language": "python",
   "name": "python3"
  },
  "language_info": {
   "codemirror_mode": {
    "name": "ipython",
    "version": 3
   },
   "file_extension": ".py",
   "mimetype": "text/x-python",
   "name": "python",
   "nbconvert_exporter": "python",
   "pygments_lexer": "ipython3",
   "version": "3.9.12"
  }
 },
 "nbformat": 4,
 "nbformat_minor": 5
}
