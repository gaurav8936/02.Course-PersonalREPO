{
 "cells": [
  {
   "cell_type": "markdown",
   "id": "31fd78af-52b1-4167-985b-c02a26fb619a",
   "metadata": {},
   "source": [
    "# Titles, Ticks and Text"
   ]
  },
  {
   "cell_type": "code",
   "execution_count": null,
   "id": "552ee20d-9e96-4e74-a3b1-304329387cff",
   "metadata": {},
   "outputs": [],
   "source": []
  },
  {
   "cell_type": "code",
   "execution_count": 1,
   "id": "f7e3d173-b3da-4a85-9cd5-be12dc24e54e",
   "metadata": {},
   "outputs": [
    {
     "ename": "NameError",
     "evalue": "name 'colors' is not defined",
     "output_type": "error",
     "traceback": [
      "\u001b[0;31m---------------------------------------------------------------------------\u001b[0m",
      "\u001b[0;31mNameError\u001b[0m                                 Traceback (most recent call last)",
      "Input \u001b[0;32mIn [1]\u001b[0m, in \u001b[0;36m<cell line: 13>\u001b[0;34m()\u001b[0m\n\u001b[1;32m      1\u001b[0m labeldict \u001b[38;5;241m=\u001b[39m {\u001b[38;5;124m'\u001b[39m\u001b[38;5;124mless_than_high_school\u001b[39m\u001b[38;5;124m'\u001b[39m: \u001b[38;5;124m'\u001b[39m\u001b[38;5;124mless than high school\u001b[39m\u001b[38;5;124m'\u001b[39m,\n\u001b[1;32m      2\u001b[0m             \u001b[38;5;124m'\u001b[39m\u001b[38;5;124mhigh_school\u001b[39m\u001b[38;5;124m'\u001b[39m: \u001b[38;5;124m'\u001b[39m\u001b[38;5;124mhigh school\u001b[39m\u001b[38;5;124m'\u001b[39m,\n\u001b[1;32m      3\u001b[0m              \u001b[38;5;124m'\u001b[39m\u001b[38;5;124msome_college\u001b[39m\u001b[38;5;124m'\u001b[39m: \u001b[38;5;124m'\u001b[39m\u001b[38;5;124msome college\u001b[39m\u001b[38;5;124m'\u001b[39m,\n\u001b[1;32m      4\u001b[0m              \u001b[38;5;124m'\u001b[39m\u001b[38;5;124mcollege_degree\u001b[39m\u001b[38;5;124m'\u001b[39m: \u001b[38;5;124m'\u001b[39m\u001b[38;5;124mcollege degree\u001b[39m\u001b[38;5;124m'\u001b[39m,\n\u001b[1;32m      5\u001b[0m              \u001b[38;5;124m'\u001b[39m\u001b[38;5;124madvanced_degree\u001b[39m\u001b[38;5;124m'\u001b[39m: \u001b[38;5;124m'\u001b[39m\u001b[38;5;124madvanced degree\u001b[39m\u001b[38;5;124m'\u001b[39m\n\u001b[1;32m      6\u001b[0m             }\n\u001b[1;32m      7\u001b[0m linestyledict \u001b[38;5;241m=\u001b[39m {\u001b[38;5;124m'\u001b[39m\u001b[38;5;124mless_than_high_school\u001b[39m\u001b[38;5;124m'\u001b[39m: (\u001b[38;5;241m0\u001b[39m, (\u001b[38;5;241m1\u001b[39m,\u001b[38;5;241m1\u001b[39m)),\n\u001b[1;32m      8\u001b[0m                 \u001b[38;5;124m'\u001b[39m\u001b[38;5;124mhigh_school\u001b[39m\u001b[38;5;124m'\u001b[39m: (\u001b[38;5;241m0\u001b[39m, (\u001b[38;5;241m2\u001b[39m,\u001b[38;5;241m1\u001b[39m)),\n\u001b[1;32m      9\u001b[0m                  \u001b[38;5;124m'\u001b[39m\u001b[38;5;124msome_college\u001b[39m\u001b[38;5;124m'\u001b[39m: (\u001b[38;5;241m0\u001b[39m, (\u001b[38;5;241m4\u001b[39m,\u001b[38;5;241m1\u001b[39m)),\n\u001b[1;32m     10\u001b[0m                  \u001b[38;5;124m'\u001b[39m\u001b[38;5;124mcollege_degree\u001b[39m\u001b[38;5;124m'\u001b[39m: (\u001b[38;5;241m0\u001b[39m, (\u001b[38;5;241m6\u001b[39m,\u001b[38;5;241m1\u001b[39m)),\n\u001b[1;32m     11\u001b[0m                  \u001b[38;5;124m'\u001b[39m\u001b[38;5;124madvanced_degree\u001b[39m\u001b[38;5;124m'\u001b[39m: (\u001b[38;5;241m0\u001b[39m, (\u001b[38;5;241m10\u001b[39m,\u001b[38;5;241m1\u001b[39m))\n\u001b[1;32m     12\u001b[0m                 }\n\u001b[1;32m     13\u001b[0m colordict \u001b[38;5;241m=\u001b[39m \u001b[38;5;28mdict\u001b[39m(\u001b[38;5;28mzip\u001b[39m([\u001b[38;5;124m'\u001b[39m\u001b[38;5;124mless_than_high_school\u001b[39m\u001b[38;5;124m'\u001b[39m,\n\u001b[1;32m     14\u001b[0m             \u001b[38;5;124m'\u001b[39m\u001b[38;5;124mhigh_school\u001b[39m\u001b[38;5;124m'\u001b[39m,\n\u001b[1;32m     15\u001b[0m             \u001b[38;5;124m'\u001b[39m\u001b[38;5;124msome_college\u001b[39m\u001b[38;5;124m'\u001b[39m,\n\u001b[1;32m     16\u001b[0m              \u001b[38;5;124m'\u001b[39m\u001b[38;5;124mcollege_degree\u001b[39m\u001b[38;5;124m'\u001b[39m,\n\u001b[0;32m---> 17\u001b[0m              \u001b[38;5;124m'\u001b[39m\u001b[38;5;124madvanced_degree\u001b[39m\u001b[38;5;124m'\u001b[39m] , \u001b[43mcolors\u001b[49m))\n",
      "\u001b[0;31mNameError\u001b[0m: name 'colors' is not defined"
     ]
    }
   ],
   "source": [
    "labeldict = {'less_than_high_school': 'less than high school',\n",
    "            'high_school': 'high school',\n",
    "             'some_college': 'some college',\n",
    "             'college_degree': 'college degree',\n",
    "             'advanced_degree': 'advanced degree'\n",
    "            }\n",
    "linestyledict = {'less_than_high_school': (0, (1,1)),\n",
    "                'high_school': (0, (2,1)),\n",
    "                 'some_college': (0, (4,1)),\n",
    "                 'college_degree': (0, (6,1)),\n",
    "                 'advanced_degree': (0, (10,1))\n",
    "                }\n",
    "colordict = dict(zip(['less_than_high_school',\n",
    "            'high_school',\n",
    "            'some_college',\n",
    "             'college_degree',\n",
    "             'advanced_degree'] , colors))"
   ]
  },
  {
   "cell_type": "code",
   "execution_count": null,
   "id": "85bb1183-71eb-4367-91b5-31bce0e87758",
   "metadata": {},
   "outputs": [],
   "source": []
  }
 ],
 "metadata": {
  "kernelspec": {
   "display_name": "Python 3 (ipykernel)",
   "language": "python",
   "name": "python3"
  },
  "language_info": {
   "codemirror_mode": {
    "name": "ipython",
    "version": 3
   },
   "file_extension": ".py",
   "mimetype": "text/x-python",
   "name": "python",
   "nbconvert_exporter": "python",
   "pygments_lexer": "ipython3",
   "version": "3.9.12"
  }
 },
 "nbformat": 4,
 "nbformat_minor": 5
}
