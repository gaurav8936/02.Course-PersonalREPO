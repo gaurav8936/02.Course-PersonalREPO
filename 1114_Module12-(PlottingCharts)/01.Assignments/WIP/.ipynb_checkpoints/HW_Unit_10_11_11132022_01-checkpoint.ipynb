{
 "cells": [
  {
   "cell_type": "markdown",
   "metadata": {},
   "source": [
    "## Week 10 and 11 Assignment - DATASCI200 Introduction to Data Science Programming, UC Berkeley MIDS\n",
    "\n",
    "Write code in this Jupyter Notebook to solve the following problems. Please upload this **Notebook** with your solutions to your GitHub repository and provide a link in the last question in gradescope. \n",
    "\n",
    "Assignment due date: 11:59PM PT the night before the Week 12 Live Session. Do **NOT** push/upload the data file. "
   ]
  },
  {
   "cell_type": "markdown",
   "metadata": {},
   "source": [
    "## Objectives\n",
    "\n",
    "- Explore and glean insights from a real dataset using pandas\n",
    "- Practice using pandas for exploratory analysis, information gathering, and discovery\n",
    "- Practice cleaning data and answering questions"
   ]
  },
  {
   "cell_type": "markdown",
   "metadata": {},
   "source": [
    "## General Guidelines:\n",
    "\n",
    "- This is a **real** dataset and so it may contain errors and other pecularities to work through\n",
    "- This dataset is ~218mb, which will take some time to load (and probably won't load in Google Sheets or Excel)\n",
    "- If you make assumptions, annotate them in your responses\n",
    "- While there is one code/markdown cell positioned after each question as a placeholder, some of your code/responses may require multiple cells\n",
    "- Double-click the markdown cells that say for example **1a answer here:** to enter your written answers. If you need more cells for your written answers, make them markdown cells (rather than code cells)\n",
    "- This homework assignment is not autograded because of the variety of responses one could give. \n",
    "  - Please upload this notebook to the autograder page and the TAs will manually grade it. \n",
    "  - Ensure that each cell is run and outputs your answer for ease of grading! \n",
    "  - Highly suggest to do a `restart & run all` before uploading your code to ensure everything runs and outputs correctly.\n",
    "  - Answers without code (or code that runs) will be given 0 points.\n",
    "- **This is meant to simulate real world data so you will have to do some external research to determine what some of the answers are!** "
   ]
  },
  {
   "cell_type": "markdown",
   "metadata": {},
   "source": [
    "## Dataset\n",
    "\n",
    "You are to analyze campaign contributions to the 2016 U.S. presidential primary races made in California. Use the csv file located here: https://drive.google.com/file/d/1Lgg-PwXQ6TQLDowd6XyBxZw5g1NGWPjB/view?usp=sharing. You should download and save this file in the same folder as this notebook is stored.  This file originally came from the U.S. Federal Election Commission (https://www.fec.gov/).\n",
    "\n",
    "**DO NOT PUSH THIS FILE TO YOUR GITHUB REPO!**\n",
    "\n",
    "- Best practice is to not have DATA files in your code repo. As shown below, the default load is outside of the folder this notebook is in. If you change the folder where the file is stored please update the first cell!\n",
    "- If you do accidentally push the file to your github repo - follow the directions here to fix it: https://docs.google.com/document/d/15Irgb5V5G7pKPWgAerH7FPMpKeQRunbNflaW-hR2hTA/edit?usp=sharing\n",
    "\n",
    "Documentation for this data can be found here: https://drive.google.com/file/d/11o_SByceenv0NgNMstM-dxC1jL7I9fHL/view?usp=sharing"
   ]
  },
  {
   "cell_type": "markdown",
   "metadata": {},
   "source": [
    "## Data Questions\n",
    "\n",
    "You are working for a California state-wide election campaign. Your boss wants you to examine historic 2016 election contribution data to see what zipcodes are more supportive of fundraising for your candidate. \n",
    "\n",
    "Your boss asks you to filter out some of the records:\n",
    "- Only use primary 2016 contribution data (more like how your race is).\n",
    "- Concentrate on Bernie Sanders as a candidate (most a like your candidate)\n",
    "\n",
    "The questions your boss wants answered is:\n",
    "- Which zipcode (5-digit zipcode) had the highest count of contributions and the most dollar amount?\n",
    "- What day(s) of the month do most people donate?"
   ]
  },
  {
   "cell_type": "markdown",
   "metadata": {},
   "source": [
    "## Setup\n",
    "\n",
    "Run the cell below as it will load the data into a pandas dataframe named `contrib`. Note that a custom date parser is defined to speed up loading. If Python were to guess the date format, it would take even longer to load."
   ]
  },
  {
   "cell_type": "code",
   "execution_count": 3,
   "metadata": {},
   "outputs": [
    {
     "name": "stderr",
     "output_type": "stream",
     "text": [
      "/var/folders/_5/mw87wr4s5p902pvj5xm4sqnw0000gn/T/ipykernel_94500/2050583822.py:14: DtypeWarning: Columns (6,11,12) have mixed types. Specify dtype option on import or set low_memory=False.\n",
      "  contrib = pd.read_csv('P00000001-CA.csv', index_col=False, parse_dates=['contb_receipt_dt'], date_parser=d)\n"
     ]
    }
   ],
   "source": [
    "import pandas as pd\n",
    "import numpy as np\n",
    "from datetime import datetime\n",
    "\n",
    "# These commands below set some options for pandas and to have matplotlib show the charts in the notebook\n",
    "pd.set_option('display.max_rows', 1000)\n",
    "pd.options.display.float_format = '{:,.2f}'.format\n",
    "\n",
    "# Define a date parser to pass to read_csv\n",
    "d = lambda x: datetime.strptime(x, '%d-%b-%y')\n",
    "\n",
    "# Load the data\n",
    "# We have this defaulted to the folder OUTSIDE of your repo - please change it as needed\n",
    "contrib = pd.read_csv('P00000001-CA.csv', index_col=False, parse_dates=['contb_receipt_dt'], date_parser=d)\n",
    "\n",
    "# Note - for now, it is okay to ignore the warning about mixed types. "
   ]
  },
  {
   "cell_type": "markdown",
   "metadata": {},
   "source": [
    "***\n",
    "## 1. Initial Data Checks (50 points)\n",
    "\n",
    "First we will take a preliminary look at the data to check that it was loaded correctly and contains the info we need.\n",
    "\n",
    "The questions to answer at the end of this section:\n",
    "- Do we have the correct # of columns and rows. \n",
    "- Do the records contain data for the questions we want to answer \n",
    "- What columns are important? \n",
    "- What columns can be dropped?\n",
    "- What are the data problems?"
   ]
  },
  {
   "cell_type": "code",
   "execution_count": 5,
   "metadata": {},
   "outputs": [
    {
     "data": {
      "text/html": [
       "<div>\n",
       "<style scoped>\n",
       "    .dataframe tbody tr th:only-of-type {\n",
       "        vertical-align: middle;\n",
       "    }\n",
       "\n",
       "    .dataframe tbody tr th {\n",
       "        vertical-align: top;\n",
       "    }\n",
       "\n",
       "    .dataframe thead th {\n",
       "        text-align: right;\n",
       "    }\n",
       "</style>\n",
       "<table border=\"1\" class=\"dataframe\">\n",
       "  <thead>\n",
       "    <tr style=\"text-align: right;\">\n",
       "      <th></th>\n",
       "      <th>cmte_id</th>\n",
       "      <th>cand_id</th>\n",
       "      <th>cand_nm</th>\n",
       "      <th>contbr_nm</th>\n",
       "      <th>contbr_city</th>\n",
       "      <th>contbr_st</th>\n",
       "      <th>contbr_zip</th>\n",
       "      <th>contbr_employer</th>\n",
       "      <th>contbr_occupation</th>\n",
       "      <th>contb_receipt_amt</th>\n",
       "      <th>contb_receipt_dt</th>\n",
       "      <th>receipt_desc</th>\n",
       "      <th>memo_cd</th>\n",
       "      <th>memo_text</th>\n",
       "      <th>form_tp</th>\n",
       "      <th>file_num</th>\n",
       "      <th>tran_id</th>\n",
       "      <th>election_tp</th>\n",
       "    </tr>\n",
       "  </thead>\n",
       "  <tbody>\n",
       "    <tr>\n",
       "      <th>0</th>\n",
       "      <td>C00575795</td>\n",
       "      <td>P00003392</td>\n",
       "      <td>Clinton, Hillary Rodham</td>\n",
       "      <td>AULL, ANNE</td>\n",
       "      <td>LARKSPUR</td>\n",
       "      <td>CA</td>\n",
       "      <td>949,391,913.00</td>\n",
       "      <td>NaN</td>\n",
       "      <td>RETIRED</td>\n",
       "      <td>50.00</td>\n",
       "      <td>2016-04-26</td>\n",
       "      <td>NaN</td>\n",
       "      <td>X</td>\n",
       "      <td>* HILLARY VICTORY FUND</td>\n",
       "      <td>SA18</td>\n",
       "      <td>1091718</td>\n",
       "      <td>C4768722</td>\n",
       "      <td>P2016</td>\n",
       "    </tr>\n",
       "    <tr>\n",
       "      <th>1</th>\n",
       "      <td>C00575795</td>\n",
       "      <td>P00003392</td>\n",
       "      <td>Clinton, Hillary Rodham</td>\n",
       "      <td>CARROLL, MARYJEAN</td>\n",
       "      <td>CAMBRIA</td>\n",
       "      <td>CA</td>\n",
       "      <td>934,284,638.00</td>\n",
       "      <td>NaN</td>\n",
       "      <td>RETIRED</td>\n",
       "      <td>200.00</td>\n",
       "      <td>2016-04-20</td>\n",
       "      <td>NaN</td>\n",
       "      <td>X</td>\n",
       "      <td>* HILLARY VICTORY FUND</td>\n",
       "      <td>SA18</td>\n",
       "      <td>1091718</td>\n",
       "      <td>C4747242</td>\n",
       "      <td>P2016</td>\n",
       "    </tr>\n",
       "    <tr>\n",
       "      <th>2</th>\n",
       "      <td>C00575795</td>\n",
       "      <td>P00003392</td>\n",
       "      <td>Clinton, Hillary Rodham</td>\n",
       "      <td>GANDARA, DESIREE</td>\n",
       "      <td>FONTANA</td>\n",
       "      <td>CA</td>\n",
       "      <td>923,371,507.00</td>\n",
       "      <td>NaN</td>\n",
       "      <td>RETIRED</td>\n",
       "      <td>5.00</td>\n",
       "      <td>2016-04-02</td>\n",
       "      <td>NaN</td>\n",
       "      <td>X</td>\n",
       "      <td>* HILLARY VICTORY FUND</td>\n",
       "      <td>SA18</td>\n",
       "      <td>1091718</td>\n",
       "      <td>C4666603</td>\n",
       "      <td>P2016</td>\n",
       "    </tr>\n",
       "    <tr>\n",
       "      <th>3</th>\n",
       "      <td>C00577130</td>\n",
       "      <td>P60007168</td>\n",
       "      <td>Sanders, Bernard</td>\n",
       "      <td>LEE, ALAN</td>\n",
       "      <td>CAMARILLO</td>\n",
       "      <td>CA</td>\n",
       "      <td>930,111,214.00</td>\n",
       "      <td>AT&amp;T GOVERNMENT SOLUTIONS</td>\n",
       "      <td>SOFTWARE ENGINEER</td>\n",
       "      <td>40.00</td>\n",
       "      <td>2016-03-04</td>\n",
       "      <td>NaN</td>\n",
       "      <td>NaN</td>\n",
       "      <td>* EARMARKED CONTRIBUTION: SEE BELOW</td>\n",
       "      <td>SA17A</td>\n",
       "      <td>1077404</td>\n",
       "      <td>VPF7BKWA097</td>\n",
       "      <td>P2016</td>\n",
       "    </tr>\n",
       "    <tr>\n",
       "      <th>4</th>\n",
       "      <td>C00577130</td>\n",
       "      <td>P60007168</td>\n",
       "      <td>Sanders, Bernard</td>\n",
       "      <td>LEONELLI, ODETTE</td>\n",
       "      <td>REDONDO BEACH</td>\n",
       "      <td>CA</td>\n",
       "      <td>902,784,310.00</td>\n",
       "      <td>VERICOR ENTERPRISES INC.</td>\n",
       "      <td>PHARMACIST</td>\n",
       "      <td>35.00</td>\n",
       "      <td>2016-03-05</td>\n",
       "      <td>NaN</td>\n",
       "      <td>NaN</td>\n",
       "      <td>* EARMARKED CONTRIBUTION: SEE BELOW</td>\n",
       "      <td>SA17A</td>\n",
       "      <td>1077404</td>\n",
       "      <td>VPF7BKX3MB3</td>\n",
       "      <td>P2016</td>\n",
       "    </tr>\n",
       "    <tr>\n",
       "      <th>...</th>\n",
       "      <td>...</td>\n",
       "      <td>...</td>\n",
       "      <td>...</td>\n",
       "      <td>...</td>\n",
       "      <td>...</td>\n",
       "      <td>...</td>\n",
       "      <td>...</td>\n",
       "      <td>...</td>\n",
       "      <td>...</td>\n",
       "      <td>...</td>\n",
       "      <td>...</td>\n",
       "      <td>...</td>\n",
       "      <td>...</td>\n",
       "      <td>...</td>\n",
       "      <td>...</td>\n",
       "      <td>...</td>\n",
       "      <td>...</td>\n",
       "      <td>...</td>\n",
       "    </tr>\n",
       "    <tr>\n",
       "      <th>1125644</th>\n",
       "      <td>C00573519</td>\n",
       "      <td>P60005915</td>\n",
       "      <td>Carson, Benjamin S.</td>\n",
       "      <td>WATSON, DANNY</td>\n",
       "      <td>MEADOW VISTA</td>\n",
       "      <td>CA</td>\n",
       "      <td>957229516</td>\n",
       "      <td>RETIRED</td>\n",
       "      <td>RETIRED</td>\n",
       "      <td>25.00</td>\n",
       "      <td>2016-01-16</td>\n",
       "      <td>NaN</td>\n",
       "      <td>NaN</td>\n",
       "      <td>NaN</td>\n",
       "      <td>SA17A</td>\n",
       "      <td>1073637</td>\n",
       "      <td>SA17.1142327</td>\n",
       "      <td>P2016</td>\n",
       "    </tr>\n",
       "    <tr>\n",
       "      <th>1125645</th>\n",
       "      <td>C00573519</td>\n",
       "      <td>P60005915</td>\n",
       "      <td>Carson, Benjamin S.</td>\n",
       "      <td>WIEBE, JACQUELINE</td>\n",
       "      <td>BAKERSFIELD</td>\n",
       "      <td>CA</td>\n",
       "      <td>933113065</td>\n",
       "      <td>SELF EMPLOYED</td>\n",
       "      <td>PSYCHIATRIST</td>\n",
       "      <td>25.00</td>\n",
       "      <td>2016-01-21</td>\n",
       "      <td>NaN</td>\n",
       "      <td>NaN</td>\n",
       "      <td>NaN</td>\n",
       "      <td>SA17A</td>\n",
       "      <td>1073637</td>\n",
       "      <td>SA17.1155204</td>\n",
       "      <td>P2016</td>\n",
       "    </tr>\n",
       "    <tr>\n",
       "      <th>1125646</th>\n",
       "      <td>C00573519</td>\n",
       "      <td>P60005915</td>\n",
       "      <td>Carson, Benjamin S.</td>\n",
       "      <td>WIEBE, JACQUELINE</td>\n",
       "      <td>BAKERSFIELD</td>\n",
       "      <td>CA</td>\n",
       "      <td>933113065</td>\n",
       "      <td>SELF EMPLOYED</td>\n",
       "      <td>PSYCHIATRIST</td>\n",
       "      <td>10.00</td>\n",
       "      <td>2016-01-31</td>\n",
       "      <td>NaN</td>\n",
       "      <td>NaN</td>\n",
       "      <td>NaN</td>\n",
       "      <td>SA17A</td>\n",
       "      <td>1073637</td>\n",
       "      <td>SA17.1180293</td>\n",
       "      <td>P2016</td>\n",
       "    </tr>\n",
       "    <tr>\n",
       "      <th>1125647</th>\n",
       "      <td>C00573519</td>\n",
       "      <td>P60005915</td>\n",
       "      <td>Carson, Benjamin S.</td>\n",
       "      <td>WIEDMANN, MARTHA</td>\n",
       "      <td>BAKERSFIELD</td>\n",
       "      <td>CA</td>\n",
       "      <td>933127012</td>\n",
       "      <td>SELF EMPLOYED</td>\n",
       "      <td>COMPLIANCE CONSULTANT</td>\n",
       "      <td>100.00</td>\n",
       "      <td>2016-01-30</td>\n",
       "      <td>NaN</td>\n",
       "      <td>NaN</td>\n",
       "      <td>NaN</td>\n",
       "      <td>SA17A</td>\n",
       "      <td>1073637</td>\n",
       "      <td>SA17.1179583</td>\n",
       "      <td>P2016</td>\n",
       "    </tr>\n",
       "    <tr>\n",
       "      <th>1125648</th>\n",
       "      <td>C00573519</td>\n",
       "      <td>P60005915</td>\n",
       "      <td>Carson, Benjamin S.</td>\n",
       "      <td>RIPA, KELLY</td>\n",
       "      <td>OJAI</td>\n",
       "      <td>CA</td>\n",
       "      <td>930233496</td>\n",
       "      <td>INTRI OLEX TECHNOLOGIES</td>\n",
       "      <td>MACHINIST</td>\n",
       "      <td>50.00</td>\n",
       "      <td>2016-01-31</td>\n",
       "      <td>NaN</td>\n",
       "      <td>NaN</td>\n",
       "      <td>NaN</td>\n",
       "      <td>SA17A</td>\n",
       "      <td>1073637</td>\n",
       "      <td>SA17.1182848</td>\n",
       "      <td>P2016</td>\n",
       "    </tr>\n",
       "  </tbody>\n",
       "</table>\n",
       "<p>1125649 rows × 18 columns</p>\n",
       "</div>"
      ],
      "text/plain": [
       "           cmte_id    cand_id                  cand_nm          contbr_nm  \\\n",
       "0        C00575795  P00003392  Clinton, Hillary Rodham         AULL, ANNE   \n",
       "1        C00575795  P00003392  Clinton, Hillary Rodham  CARROLL, MARYJEAN   \n",
       "2        C00575795  P00003392  Clinton, Hillary Rodham   GANDARA, DESIREE   \n",
       "3        C00577130  P60007168         Sanders, Bernard          LEE, ALAN   \n",
       "4        C00577130  P60007168         Sanders, Bernard   LEONELLI, ODETTE   \n",
       "...            ...        ...                      ...                ...   \n",
       "1125644  C00573519  P60005915      Carson, Benjamin S.      WATSON, DANNY   \n",
       "1125645  C00573519  P60005915      Carson, Benjamin S.  WIEBE, JACQUELINE   \n",
       "1125646  C00573519  P60005915      Carson, Benjamin S.  WIEBE, JACQUELINE   \n",
       "1125647  C00573519  P60005915      Carson, Benjamin S.   WIEDMANN, MARTHA   \n",
       "1125648  C00573519  P60005915      Carson, Benjamin S.        RIPA, KELLY   \n",
       "\n",
       "           contbr_city contbr_st     contbr_zip            contbr_employer  \\\n",
       "0             LARKSPUR        CA 949,391,913.00                        NaN   \n",
       "1              CAMBRIA        CA 934,284,638.00                        NaN   \n",
       "2              FONTANA        CA 923,371,507.00                        NaN   \n",
       "3            CAMARILLO        CA 930,111,214.00  AT&T GOVERNMENT SOLUTIONS   \n",
       "4        REDONDO BEACH        CA 902,784,310.00   VERICOR ENTERPRISES INC.   \n",
       "...                ...       ...            ...                        ...   \n",
       "1125644   MEADOW VISTA        CA      957229516                    RETIRED   \n",
       "1125645    BAKERSFIELD        CA      933113065              SELF EMPLOYED   \n",
       "1125646    BAKERSFIELD        CA      933113065              SELF EMPLOYED   \n",
       "1125647    BAKERSFIELD        CA      933127012              SELF EMPLOYED   \n",
       "1125648           OJAI        CA      930233496    INTRI OLEX TECHNOLOGIES   \n",
       "\n",
       "             contbr_occupation  contb_receipt_amt contb_receipt_dt  \\\n",
       "0                      RETIRED              50.00       2016-04-26   \n",
       "1                      RETIRED             200.00       2016-04-20   \n",
       "2                      RETIRED               5.00       2016-04-02   \n",
       "3            SOFTWARE ENGINEER              40.00       2016-03-04   \n",
       "4                   PHARMACIST              35.00       2016-03-05   \n",
       "...                        ...                ...              ...   \n",
       "1125644                RETIRED              25.00       2016-01-16   \n",
       "1125645           PSYCHIATRIST              25.00       2016-01-21   \n",
       "1125646           PSYCHIATRIST              10.00       2016-01-31   \n",
       "1125647  COMPLIANCE CONSULTANT             100.00       2016-01-30   \n",
       "1125648              MACHINIST              50.00       2016-01-31   \n",
       "\n",
       "        receipt_desc memo_cd                            memo_text form_tp  \\\n",
       "0                NaN       X               * HILLARY VICTORY FUND    SA18   \n",
       "1                NaN       X               * HILLARY VICTORY FUND    SA18   \n",
       "2                NaN       X               * HILLARY VICTORY FUND    SA18   \n",
       "3                NaN     NaN  * EARMARKED CONTRIBUTION: SEE BELOW   SA17A   \n",
       "4                NaN     NaN  * EARMARKED CONTRIBUTION: SEE BELOW   SA17A   \n",
       "...              ...     ...                                  ...     ...   \n",
       "1125644          NaN     NaN                                  NaN   SA17A   \n",
       "1125645          NaN     NaN                                  NaN   SA17A   \n",
       "1125646          NaN     NaN                                  NaN   SA17A   \n",
       "1125647          NaN     NaN                                  NaN   SA17A   \n",
       "1125648          NaN     NaN                                  NaN   SA17A   \n",
       "\n",
       "         file_num       tran_id election_tp  \n",
       "0         1091718      C4768722       P2016  \n",
       "1         1091718      C4747242       P2016  \n",
       "2         1091718      C4666603       P2016  \n",
       "3         1077404   VPF7BKWA097       P2016  \n",
       "4         1077404   VPF7BKX3MB3       P2016  \n",
       "...           ...           ...         ...  \n",
       "1125644   1073637  SA17.1142327       P2016  \n",
       "1125645   1073637  SA17.1155204       P2016  \n",
       "1125646   1073637  SA17.1180293       P2016  \n",
       "1125647   1073637  SA17.1179583       P2016  \n",
       "1125648   1073637  SA17.1182848       P2016  \n",
       "\n",
       "[1125649 rows x 18 columns]"
      ]
     },
     "execution_count": 5,
     "metadata": {},
     "output_type": "execute_result"
    }
   ],
   "source": [
    "contrib.head(-10)"
   ]
  },
  {
   "cell_type": "markdown",
   "metadata": {},
   "source": [
    "**1a.** Print the *shape* of the data. Does this match the expectation? (2 points)"
   ]
  },
  {
   "cell_type": "code",
   "execution_count": 2,
   "metadata": {
    "deletable": false,
    "nbgrader": {
     "checksum": "9f7a7938e43b14d3c7c49d6a278b0bb1",
     "grade": true,
     "grade_id": "cell-5d017805206f18b1",
     "locked": false,
     "points": 0,
     "schema_version": 1,
     "solution": true
    }
   },
   "outputs": [
    {
     "data": {
      "text/plain": [
       "(1125659, 18)"
      ]
     },
     "execution_count": 2,
     "metadata": {},
     "output_type": "execute_result"
    }
   ],
   "source": [
    "# 1a YOUR CODE HERE\n",
    "\n",
    "contrib.shape"
   ]
  },
  {
   "cell_type": "markdown",
   "metadata": {},
   "source": [
    "- **1a answer here:** \n",
    "\n",
    "The shape matches expectations. I used contrib.head(-10) to get a list of the last 10 rows and see that that last row is 1125659 and the count of columns is 18"
   ]
  },
  {
   "cell_type": "markdown",
   "metadata": {
    "deletable": false,
    "nbgrader": {
     "checksum": "e6a198453ec4b0171a064fef0bd7c678",
     "grade": true,
     "grade_id": "cell-3bc26919169bf4aa",
     "locked": false,
     "points": 5,
     "schema_version": 1,
     "solution": true
    }
   },
   "source": [
    "**1b.** Print a list of column names. Are all the columns included that are in the documentation? (2 points)"
   ]
  },
  {
   "cell_type": "code",
   "execution_count": 7,
   "metadata": {
    "deletable": false,
    "nbgrader": {
     "checksum": "4fbf682f1c78b3614832c6f48ecd88c7",
     "grade": true,
     "grade_id": "cell-72bc97601b84f17d",
     "locked": false,
     "points": 5,
     "schema_version": 1,
     "solution": true
    }
   },
   "outputs": [
    {
     "data": {
      "text/plain": [
       "Index(['cmte_id', 'cand_id', 'cand_nm', 'contbr_nm', 'contbr_city',\n",
       "       'contbr_st', 'contbr_zip', 'contbr_employer', 'contbr_occupation',\n",
       "       'contb_receipt_amt', 'contb_receipt_dt', 'receipt_desc', 'memo_cd',\n",
       "       'memo_text', 'form_tp', 'file_num', 'tran_id', 'election_tp'],\n",
       "      dtype='object')"
      ]
     },
     "execution_count": 7,
     "metadata": {},
     "output_type": "execute_result"
    }
   ],
   "source": [
    "# 1b YOUR CODE HERE\n",
    "\n",
    "contrib.columns"
   ]
  },
  {
   "cell_type": "markdown",
   "metadata": {},
   "source": [
    "- **1b answer here:** \n",
    "\n",
    "I can't say for sure if the 18 columsns are precisely what was in the documentation as I could not find a single bulk file with the 18 fields. However, I reviewed several files (like those listed below) and reason to believe that the data is complete as it has been blended from multiple sources and the relevant information needed to answer the question is contained.\n",
    "\n",
    "https://www.fec.gov/data/browse-data/?tab=bulk-data\n",
    "\n",
    "https://www.fec.gov/campaign-finance-data/candidate-committee-linkage-file-description/\n",
    "\n",
    "https://www.fec.gov/campaign-finance-data/all-candidates-file-description/\n",
    "\n",
    "https://www.fec.gov/campaign-finance-data/committee-master-file-description/\n",
    "\n",
    "https://www.fec.gov/campaign-finance-data/contributions-committees-candidates-file-description/\n",
    "\n",
    "\n",
    "\n",
    "\n"
   ]
  },
  {
   "cell_type": "markdown",
   "metadata": {},
   "source": [
    "**1c** Print out the first five rows of the dataset. How do the columns `cand_id`, `cand_nm` and `contbr_st` look? (3 points)"
   ]
  },
  {
   "cell_type": "code",
   "execution_count": 9,
   "metadata": {},
   "outputs": [
    {
     "data": {
      "text/html": [
       "<div>\n",
       "<style scoped>\n",
       "    .dataframe tbody tr th:only-of-type {\n",
       "        vertical-align: middle;\n",
       "    }\n",
       "\n",
       "    .dataframe tbody tr th {\n",
       "        vertical-align: top;\n",
       "    }\n",
       "\n",
       "    .dataframe thead th {\n",
       "        text-align: right;\n",
       "    }\n",
       "</style>\n",
       "<table border=\"1\" class=\"dataframe\">\n",
       "  <thead>\n",
       "    <tr style=\"text-align: right;\">\n",
       "      <th></th>\n",
       "      <th>cmte_id</th>\n",
       "      <th>cand_id</th>\n",
       "      <th>cand_nm</th>\n",
       "      <th>contbr_nm</th>\n",
       "      <th>contbr_city</th>\n",
       "      <th>contbr_st</th>\n",
       "      <th>contbr_zip</th>\n",
       "      <th>contbr_employer</th>\n",
       "      <th>contbr_occupation</th>\n",
       "      <th>contb_receipt_amt</th>\n",
       "      <th>contb_receipt_dt</th>\n",
       "      <th>receipt_desc</th>\n",
       "      <th>memo_cd</th>\n",
       "      <th>memo_text</th>\n",
       "      <th>form_tp</th>\n",
       "      <th>file_num</th>\n",
       "      <th>tran_id</th>\n",
       "      <th>election_tp</th>\n",
       "    </tr>\n",
       "  </thead>\n",
       "  <tbody>\n",
       "    <tr>\n",
       "      <th>0</th>\n",
       "      <td>C00575795</td>\n",
       "      <td>P00003392</td>\n",
       "      <td>Clinton, Hillary Rodham</td>\n",
       "      <td>AULL, ANNE</td>\n",
       "      <td>LARKSPUR</td>\n",
       "      <td>CA</td>\n",
       "      <td>949,391,913.00</td>\n",
       "      <td>NaN</td>\n",
       "      <td>RETIRED</td>\n",
       "      <td>50.00</td>\n",
       "      <td>2016-04-26</td>\n",
       "      <td>NaN</td>\n",
       "      <td>X</td>\n",
       "      <td>* HILLARY VICTORY FUND</td>\n",
       "      <td>SA18</td>\n",
       "      <td>1091718</td>\n",
       "      <td>C4768722</td>\n",
       "      <td>P2016</td>\n",
       "    </tr>\n",
       "    <tr>\n",
       "      <th>1</th>\n",
       "      <td>C00575795</td>\n",
       "      <td>P00003392</td>\n",
       "      <td>Clinton, Hillary Rodham</td>\n",
       "      <td>CARROLL, MARYJEAN</td>\n",
       "      <td>CAMBRIA</td>\n",
       "      <td>CA</td>\n",
       "      <td>934,284,638.00</td>\n",
       "      <td>NaN</td>\n",
       "      <td>RETIRED</td>\n",
       "      <td>200.00</td>\n",
       "      <td>2016-04-20</td>\n",
       "      <td>NaN</td>\n",
       "      <td>X</td>\n",
       "      <td>* HILLARY VICTORY FUND</td>\n",
       "      <td>SA18</td>\n",
       "      <td>1091718</td>\n",
       "      <td>C4747242</td>\n",
       "      <td>P2016</td>\n",
       "    </tr>\n",
       "    <tr>\n",
       "      <th>2</th>\n",
       "      <td>C00575795</td>\n",
       "      <td>P00003392</td>\n",
       "      <td>Clinton, Hillary Rodham</td>\n",
       "      <td>GANDARA, DESIREE</td>\n",
       "      <td>FONTANA</td>\n",
       "      <td>CA</td>\n",
       "      <td>923,371,507.00</td>\n",
       "      <td>NaN</td>\n",
       "      <td>RETIRED</td>\n",
       "      <td>5.00</td>\n",
       "      <td>2016-04-02</td>\n",
       "      <td>NaN</td>\n",
       "      <td>X</td>\n",
       "      <td>* HILLARY VICTORY FUND</td>\n",
       "      <td>SA18</td>\n",
       "      <td>1091718</td>\n",
       "      <td>C4666603</td>\n",
       "      <td>P2016</td>\n",
       "    </tr>\n",
       "    <tr>\n",
       "      <th>3</th>\n",
       "      <td>C00577130</td>\n",
       "      <td>P60007168</td>\n",
       "      <td>Sanders, Bernard</td>\n",
       "      <td>LEE, ALAN</td>\n",
       "      <td>CAMARILLO</td>\n",
       "      <td>CA</td>\n",
       "      <td>930,111,214.00</td>\n",
       "      <td>AT&amp;T GOVERNMENT SOLUTIONS</td>\n",
       "      <td>SOFTWARE ENGINEER</td>\n",
       "      <td>40.00</td>\n",
       "      <td>2016-03-04</td>\n",
       "      <td>NaN</td>\n",
       "      <td>NaN</td>\n",
       "      <td>* EARMARKED CONTRIBUTION: SEE BELOW</td>\n",
       "      <td>SA17A</td>\n",
       "      <td>1077404</td>\n",
       "      <td>VPF7BKWA097</td>\n",
       "      <td>P2016</td>\n",
       "    </tr>\n",
       "    <tr>\n",
       "      <th>4</th>\n",
       "      <td>C00577130</td>\n",
       "      <td>P60007168</td>\n",
       "      <td>Sanders, Bernard</td>\n",
       "      <td>LEONELLI, ODETTE</td>\n",
       "      <td>REDONDO BEACH</td>\n",
       "      <td>CA</td>\n",
       "      <td>902,784,310.00</td>\n",
       "      <td>VERICOR ENTERPRISES INC.</td>\n",
       "      <td>PHARMACIST</td>\n",
       "      <td>35.00</td>\n",
       "      <td>2016-03-05</td>\n",
       "      <td>NaN</td>\n",
       "      <td>NaN</td>\n",
       "      <td>* EARMARKED CONTRIBUTION: SEE BELOW</td>\n",
       "      <td>SA17A</td>\n",
       "      <td>1077404</td>\n",
       "      <td>VPF7BKX3MB3</td>\n",
       "      <td>P2016</td>\n",
       "    </tr>\n",
       "  </tbody>\n",
       "</table>\n",
       "</div>"
      ],
      "text/plain": [
       "     cmte_id    cand_id                  cand_nm          contbr_nm  \\\n",
       "0  C00575795  P00003392  Clinton, Hillary Rodham         AULL, ANNE   \n",
       "1  C00575795  P00003392  Clinton, Hillary Rodham  CARROLL, MARYJEAN   \n",
       "2  C00575795  P00003392  Clinton, Hillary Rodham   GANDARA, DESIREE   \n",
       "3  C00577130  P60007168         Sanders, Bernard          LEE, ALAN   \n",
       "4  C00577130  P60007168         Sanders, Bernard   LEONELLI, ODETTE   \n",
       "\n",
       "     contbr_city contbr_st     contbr_zip            contbr_employer  \\\n",
       "0       LARKSPUR        CA 949,391,913.00                        NaN   \n",
       "1        CAMBRIA        CA 934,284,638.00                        NaN   \n",
       "2        FONTANA        CA 923,371,507.00                        NaN   \n",
       "3      CAMARILLO        CA 930,111,214.00  AT&T GOVERNMENT SOLUTIONS   \n",
       "4  REDONDO BEACH        CA 902,784,310.00   VERICOR ENTERPRISES INC.   \n",
       "\n",
       "   contbr_occupation  contb_receipt_amt contb_receipt_dt receipt_desc memo_cd  \\\n",
       "0            RETIRED              50.00       2016-04-26          NaN       X   \n",
       "1            RETIRED             200.00       2016-04-20          NaN       X   \n",
       "2            RETIRED               5.00       2016-04-02          NaN       X   \n",
       "3  SOFTWARE ENGINEER              40.00       2016-03-04          NaN     NaN   \n",
       "4         PHARMACIST              35.00       2016-03-05          NaN     NaN   \n",
       "\n",
       "                             memo_text form_tp  file_num      tran_id  \\\n",
       "0               * HILLARY VICTORY FUND    SA18   1091718     C4768722   \n",
       "1               * HILLARY VICTORY FUND    SA18   1091718     C4747242   \n",
       "2               * HILLARY VICTORY FUND    SA18   1091718     C4666603   \n",
       "3  * EARMARKED CONTRIBUTION: SEE BELOW   SA17A   1077404  VPF7BKWA097   \n",
       "4  * EARMARKED CONTRIBUTION: SEE BELOW   SA17A   1077404  VPF7BKX3MB3   \n",
       "\n",
       "  election_tp  \n",
       "0       P2016  \n",
       "1       P2016  \n",
       "2       P2016  \n",
       "3       P2016  \n",
       "4       P2016  "
      ]
     },
     "execution_count": 9,
     "metadata": {},
     "output_type": "execute_result"
    }
   ],
   "source": [
    "# 1c YOUR CODE HERE\n",
    "contrib.head()"
   ]
  },
  {
   "cell_type": "markdown",
   "metadata": {},
   "source": [
    "- **1c answer here:** \n",
    "\n",
    "The 4 fields are cand_id (ie candidate id) which is a alphanumeric type. The cand_nm (ie candidate name) is alphabetic (unless we have a name like X Æ A-Xii, thanks to Elon). \n",
    "\n",
    "The contbd_st (constribution state) is a 2 digid alphabet (caps) that stands for CA (as this data is limited to california)"
   ]
  },
  {
   "cell_type": "markdown",
   "metadata": {
    "deletable": false,
    "nbgrader": {
     "checksum": "0ec29a2cabd52709322d1cfd650babe7",
     "grade": true,
     "grade_id": "cell-23b51536d24c1645",
     "locked": false,
     "points": 0,
     "schema_version": 1,
     "solution": true
    }
   },
   "source": [
    "**1d.** Print out the values for the column `election_tp`. In your own words, based on the documentation, what information does the `election_tp` variable contain? Do the values in the column match the documentation? (3 points)"
   ]
  },
  {
   "cell_type": "code",
   "execution_count": 10,
   "metadata": {},
   "outputs": [
    {
     "data": {
      "text/plain": [
       "array(['P2016', 'G2016', nan, 'P2020'], dtype=object)"
      ]
     },
     "execution_count": 10,
     "metadata": {},
     "output_type": "execute_result"
    }
   ],
   "source": [
    "# 1d YOUR CODE HERE\n",
    "\n",
    "contrib.election_tp.unique()"
   ]
  },
  {
   "cell_type": "markdown",
   "metadata": {
    "deletable": false,
    "nbgrader": {
     "checksum": "cfa64002e64474584dc1442b5a39b460",
     "grade": true,
     "grade_id": "cell-8a320c2ff7c24d98",
     "locked": false,
     "points": 0,
     "schema_version": 1,
     "solution": true
    }
   },
   "source": [
    "- **1d answer here:** \n",
    "\n",
    "I see 4 valuesP2016, G2016, P2020 and a nan). I can infer that we have two anomolies here (asusming that P2020 refers to campaign finance data for CY 2020). Also, the nan values have to be fixed as well"
   ]
  },
  {
   "cell_type": "markdown",
   "metadata": {
    "deletable": false,
    "nbgrader": {
     "checksum": "442b24601da06376c43cbe6ef5c5348a",
     "grade": true,
     "grade_id": "cell-6a453219105384dd",
     "locked": false,
     "points": 0,
     "schema_version": 1,
     "solution": true
    }
   },
   "source": [
    "**1e.** Print out the datatypes for all of the columns. What are the datatypes for the `contbr_zip`, `contb_receipt_amt`, `contb_receipt_dt`? (5 points)"
   ]
  },
  {
   "cell_type": "code",
   "execution_count": 19,
   "metadata": {
    "deletable": false,
    "nbgrader": {
     "checksum": "c5a1b7f30648cced7269ccb9b1532bd6",
     "grade": true,
     "grade_id": "cell-90c49bd6471a3dc9",
     "locked": false,
     "points": 0,
     "schema_version": 1,
     "solution": true
    }
   },
   "outputs": [
    {
     "name": "stdout",
     "output_type": "stream",
     "text": [
      "<class 'pandas.core.frame.DataFrame'>\n",
      "RangeIndex: 1125659 entries, 0 to 1125658\n",
      "Data columns (total 18 columns):\n",
      " #   Column             Non-Null Count    Dtype         \n",
      "---  ------             --------------    -----         \n",
      " 0   cmte_id            1125659 non-null  object        \n",
      " 1   cand_id            1125659 non-null  object        \n",
      " 2   cand_nm            1125659 non-null  object        \n",
      " 3   contbr_nm          1125659 non-null  object        \n",
      " 4   contbr_city        1125633 non-null  object        \n",
      " 5   contbr_st          1125659 non-null  object        \n",
      " 6   contbr_zip         1125564 non-null  object        \n",
      " 7   contbr_employer    967757 non-null   object        \n",
      " 8   contbr_occupation  1115260 non-null  object        \n",
      " 9   contb_receipt_amt  1125659 non-null  float64       \n",
      " 10  contb_receipt_dt   1125659 non-null  datetime64[ns]\n",
      " 11  receipt_desc       15045 non-null    object        \n",
      " 12  memo_cd            144268 non-null   object        \n",
      " 13  memo_text          501148 non-null   object        \n",
      " 14  form_tp            1125659 non-null  object        \n",
      " 15  file_num           1125659 non-null  int64         \n",
      " 16  tran_id            1125659 non-null  object        \n",
      " 17  election_tp        1124234 non-null  object        \n",
      "dtypes: datetime64[ns](1), float64(1), int64(1), object(15)\n",
      "memory usage: 154.6+ MB\n"
     ]
    }
   ],
   "source": [
    "# 1e YOUR CODE HERE\n",
    "\n",
    "#type(contrib)\n",
    "\n",
    "contrib.info()\n",
    "\n",
    "#contrib.dtypes"
   ]
  },
  {
   "cell_type": "markdown",
   "metadata": {
    "deletable": false,
    "nbgrader": {
     "checksum": "60d3e303837e9603de5b96e32af7d806",
     "grade": true,
     "grade_id": "cell-447dc63eff8ebc5f",
     "locked": false,
     "points": 0,
     "schema_version": 1,
     "solution": true
    }
   },
   "source": [
    "- **1e answer here:** \n",
    "\n",
    "* contbr_zip : object\n",
    "* contb_receipt_amt : float64\n",
    "* contb_receipt_dt: datetime64[ns]\n"
   ]
  },
  {
   "cell_type": "markdown",
   "metadata": {
    "deletable": false,
    "nbgrader": {
     "checksum": "20a71229316bf24a2ce62c52f72d8142",
     "grade": true,
     "grade_id": "cell-963603c5ed346a99",
     "locked": false,
     "points": 0,
     "schema_version": 1,
     "solution": true
    }
   },
   "source": [
    "**1f.** What columns have the most non-nulls?  Would you recommend to drop any columns based on the number of nulls? (5 points)"
   ]
  },
  {
   "cell_type": "code",
   "execution_count": 26,
   "metadata": {
    "deletable": false,
    "nbgrader": {
     "checksum": "426b589a9d6457f38381eb1c77678d4f",
     "grade": true,
     "grade_id": "cell-b6fc3f7c906c95a2",
     "locked": false,
     "points": 0,
     "schema_version": 1,
     "solution": true
    }
   },
   "outputs": [
    {
     "name": "stdout",
     "output_type": "stream",
     "text": [
      "<class 'pandas.core.frame.DataFrame'>\n",
      "RangeIndex: 1125659 entries, 0 to 1125658\n",
      "Data columns (total 18 columns):\n",
      " #   Column             Non-Null Count    Dtype         \n",
      "---  ------             --------------    -----         \n",
      " 0   cmte_id            1125659 non-null  object        \n",
      " 1   cand_id            1125659 non-null  object        \n",
      " 2   cand_nm            1125659 non-null  object        \n",
      " 3   contbr_nm          1125659 non-null  object        \n",
      " 4   contbr_city        1125633 non-null  object        \n",
      " 5   contbr_st          1125659 non-null  object        \n",
      " 6   contbr_zip         1125564 non-null  object        \n",
      " 7   contbr_employer    967757 non-null   object        \n",
      " 8   contbr_occupation  1115260 non-null  object        \n",
      " 9   contb_receipt_amt  1125659 non-null  float64       \n",
      " 10  contb_receipt_dt   1125659 non-null  datetime64[ns]\n",
      " 11  receipt_desc       15045 non-null    object        \n",
      " 12  memo_cd            144268 non-null   object        \n",
      " 13  memo_text          501148 non-null   object        \n",
      " 14  form_tp            1125659 non-null  object        \n",
      " 15  file_num           1125659 non-null  int64         \n",
      " 16  tran_id            1125659 non-null  object        \n",
      " 17  election_tp        1124234 non-null  object        \n",
      "dtypes: datetime64[ns](1), float64(1), int64(1), object(15)\n",
      "memory usage: 154.6+ MB\n"
     ]
    }
   ],
   "source": [
    "# 1f YOUR CODE HERE\n",
    "contrib.info()\n",
    "#contrib.isnull().sum(axis = 0)\n",
    "\n",
    "# to get the column with the least non-null values\n",
    "#contrib.count().idxmin()\n",
    "\n",
    "# to get the column with the most non-null values\n",
    "# contrib.count().idxmax()"
   ]
  },
  {
   "cell_type": "markdown",
   "metadata": {
    "deletable": false,
    "nbgrader": {
     "checksum": "81ebf2a2f96961b4464f6c35d2143427",
     "grade": true,
     "grade_id": "cell-bea2cf7a6fff8565",
     "locked": false,
     "points": 0,
     "schema_version": 1,
     "solution": true
    }
   },
   "source": [
    "- **1f answer here:** \n",
    "\n",
    "The max count (for non-null values) is 1125659 and there are a number of columns have the most non-null values. In order they are\n",
    "* 0   cmte_id            1125659 non-null  object        \n",
    "* 1   cand_id            1125659 non-null  object        \n",
    "* 2   cand_nm            1125659 non-null  object        \n",
    "* 3   contbr_nm          1125659 non-null  object\n",
    "* 5   contbr_st          1125659 non-null  object \n",
    "* 9   contb_receipt_amt  1125659 non-null  float64       \n",
    "* 10  contb_receipt_dt   1125659 non-null  datetime64[ns]\n",
    "* 14  form_tp            1125659 non-null  object        \n",
    "* 15  file_num           1125659 non-null  int64         \n",
    "* 16  tran_id            1125659 non-null  object        \n",
    "* 17  election_tp        1124234 non-null  object \n",
    "\n",
    "receipt_desc has the least number of non-null values (15045), implying there are 1110614, or ~ 99% of values are null. This is a candidate to be removed\n",
    "\n",
    "I would also consider the following two columns for removal as well as they don't seem relevant to the basic question and have a ton of null values\n",
    "\n",
    "Percentage of non-null values: \n",
    "\n",
    "* memo_cd: 87%\n",
    "* memo_text: 55%"
   ]
  },
  {
   "cell_type": "markdown",
   "metadata": {},
   "source": [
    "**1g.** A column we know that we want to use is the cand_nm column.  From the documentation each candidate is a unique candidate id also. Check data quality of `cand_id` column to see if it matches `cand_nm` column. Specifically check to ensure our targetted candidate 'Bernard Sanders' always has the same cand_id throughout. Any issues with `cand_nm` matching `cand_id`? (5 points)"
   ]
  },
  {
   "cell_type": "code",
   "execution_count": 28,
   "metadata": {},
   "outputs": [
    {
     "data": {
      "text/plain": [
       "array(['Clinton, Hillary Rodham', 'Sanders, Bernard',\n",
       "       \"Cruz, Rafael Edward 'Ted'\", 'Walker, Scott', 'Bush, Jeb',\n",
       "       'Rubio, Marco', 'Kasich, John R.', 'Christie, Christopher J.',\n",
       "       'Johnson, Gary', 'Trump, Donald J.', 'Paul, Rand',\n",
       "       'Webb, James Henry Jr.', 'Carson, Benjamin S.', 'Fiorina, Carly',\n",
       "       'Santorum, Richard J.', 'Jindal, Bobby', 'Huckabee, Mike',\n",
       "       'Lessig, Lawrence', \"O'Malley, Martin Joseph\",\n",
       "       'Graham, Lindsey O.', 'Pataki, George E.', 'Stein, Jill',\n",
       "       'McMullin, Evan', 'Perry, James R. (Rick)', 'Gilmore, James S III'],\n",
       "      dtype=object)"
      ]
     },
     "execution_count": 28,
     "metadata": {},
     "output_type": "execute_result"
    }
   ],
   "source": [
    "contrib['cand_nm'].unique()"
   ]
  },
  {
   "cell_type": "code",
   "execution_count": 27,
   "metadata": {},
   "outputs": [
    {
     "data": {
      "text/html": [
       "<div>\n",
       "<style scoped>\n",
       "    .dataframe tbody tr th:only-of-type {\n",
       "        vertical-align: middle;\n",
       "    }\n",
       "\n",
       "    .dataframe tbody tr th {\n",
       "        vertical-align: top;\n",
       "    }\n",
       "\n",
       "    .dataframe thead th {\n",
       "        text-align: right;\n",
       "    }\n",
       "</style>\n",
       "<table border=\"1\" class=\"dataframe\">\n",
       "  <thead>\n",
       "    <tr style=\"text-align: right;\">\n",
       "      <th></th>\n",
       "      <th>cmte_id</th>\n",
       "      <th>cand_id</th>\n",
       "      <th>cand_nm</th>\n",
       "      <th>contbr_nm</th>\n",
       "      <th>contbr_city</th>\n",
       "      <th>contbr_st</th>\n",
       "      <th>contbr_zip</th>\n",
       "      <th>contbr_employer</th>\n",
       "      <th>contbr_occupation</th>\n",
       "      <th>contb_receipt_amt</th>\n",
       "      <th>contb_receipt_dt</th>\n",
       "      <th>receipt_desc</th>\n",
       "      <th>memo_cd</th>\n",
       "      <th>memo_text</th>\n",
       "      <th>form_tp</th>\n",
       "      <th>file_num</th>\n",
       "      <th>tran_id</th>\n",
       "      <th>election_tp</th>\n",
       "    </tr>\n",
       "  </thead>\n",
       "  <tbody>\n",
       "    <tr>\n",
       "      <th>0</th>\n",
       "      <td>C00575795</td>\n",
       "      <td>P00003392</td>\n",
       "      <td>Clinton, Hillary Rodham</td>\n",
       "      <td>AULL, ANNE</td>\n",
       "      <td>LARKSPUR</td>\n",
       "      <td>CA</td>\n",
       "      <td>949,391,913.00</td>\n",
       "      <td>NaN</td>\n",
       "      <td>RETIRED</td>\n",
       "      <td>50.00</td>\n",
       "      <td>2016-04-26</td>\n",
       "      <td>NaN</td>\n",
       "      <td>X</td>\n",
       "      <td>* HILLARY VICTORY FUND</td>\n",
       "      <td>SA18</td>\n",
       "      <td>1091718</td>\n",
       "      <td>C4768722</td>\n",
       "      <td>P2016</td>\n",
       "    </tr>\n",
       "    <tr>\n",
       "      <th>1</th>\n",
       "      <td>C00575795</td>\n",
       "      <td>P00003392</td>\n",
       "      <td>Clinton, Hillary Rodham</td>\n",
       "      <td>CARROLL, MARYJEAN</td>\n",
       "      <td>CAMBRIA</td>\n",
       "      <td>CA</td>\n",
       "      <td>934,284,638.00</td>\n",
       "      <td>NaN</td>\n",
       "      <td>RETIRED</td>\n",
       "      <td>200.00</td>\n",
       "      <td>2016-04-20</td>\n",
       "      <td>NaN</td>\n",
       "      <td>X</td>\n",
       "      <td>* HILLARY VICTORY FUND</td>\n",
       "      <td>SA18</td>\n",
       "      <td>1091718</td>\n",
       "      <td>C4747242</td>\n",
       "      <td>P2016</td>\n",
       "    </tr>\n",
       "    <tr>\n",
       "      <th>2</th>\n",
       "      <td>C00575795</td>\n",
       "      <td>P00003392</td>\n",
       "      <td>Clinton, Hillary Rodham</td>\n",
       "      <td>GANDARA, DESIREE</td>\n",
       "      <td>FONTANA</td>\n",
       "      <td>CA</td>\n",
       "      <td>923,371,507.00</td>\n",
       "      <td>NaN</td>\n",
       "      <td>RETIRED</td>\n",
       "      <td>5.00</td>\n",
       "      <td>2016-04-02</td>\n",
       "      <td>NaN</td>\n",
       "      <td>X</td>\n",
       "      <td>* HILLARY VICTORY FUND</td>\n",
       "      <td>SA18</td>\n",
       "      <td>1091718</td>\n",
       "      <td>C4666603</td>\n",
       "      <td>P2016</td>\n",
       "    </tr>\n",
       "    <tr>\n",
       "      <th>3</th>\n",
       "      <td>C00577130</td>\n",
       "      <td>P60007168</td>\n",
       "      <td>Sanders, Bernard</td>\n",
       "      <td>LEE, ALAN</td>\n",
       "      <td>CAMARILLO</td>\n",
       "      <td>CA</td>\n",
       "      <td>930,111,214.00</td>\n",
       "      <td>AT&amp;T GOVERNMENT SOLUTIONS</td>\n",
       "      <td>SOFTWARE ENGINEER</td>\n",
       "      <td>40.00</td>\n",
       "      <td>2016-03-04</td>\n",
       "      <td>NaN</td>\n",
       "      <td>NaN</td>\n",
       "      <td>* EARMARKED CONTRIBUTION: SEE BELOW</td>\n",
       "      <td>SA17A</td>\n",
       "      <td>1077404</td>\n",
       "      <td>VPF7BKWA097</td>\n",
       "      <td>P2016</td>\n",
       "    </tr>\n",
       "    <tr>\n",
       "      <th>4</th>\n",
       "      <td>C00577130</td>\n",
       "      <td>P60007168</td>\n",
       "      <td>Sanders, Bernard</td>\n",
       "      <td>LEONELLI, ODETTE</td>\n",
       "      <td>REDONDO BEACH</td>\n",
       "      <td>CA</td>\n",
       "      <td>902,784,310.00</td>\n",
       "      <td>VERICOR ENTERPRISES INC.</td>\n",
       "      <td>PHARMACIST</td>\n",
       "      <td>35.00</td>\n",
       "      <td>2016-03-05</td>\n",
       "      <td>NaN</td>\n",
       "      <td>NaN</td>\n",
       "      <td>* EARMARKED CONTRIBUTION: SEE BELOW</td>\n",
       "      <td>SA17A</td>\n",
       "      <td>1077404</td>\n",
       "      <td>VPF7BKX3MB3</td>\n",
       "      <td>P2016</td>\n",
       "    </tr>\n",
       "  </tbody>\n",
       "</table>\n",
       "</div>"
      ],
      "text/plain": [
       "     cmte_id    cand_id                  cand_nm          contbr_nm  \\\n",
       "0  C00575795  P00003392  Clinton, Hillary Rodham         AULL, ANNE   \n",
       "1  C00575795  P00003392  Clinton, Hillary Rodham  CARROLL, MARYJEAN   \n",
       "2  C00575795  P00003392  Clinton, Hillary Rodham   GANDARA, DESIREE   \n",
       "3  C00577130  P60007168         Sanders, Bernard          LEE, ALAN   \n",
       "4  C00577130  P60007168         Sanders, Bernard   LEONELLI, ODETTE   \n",
       "\n",
       "     contbr_city contbr_st     contbr_zip            contbr_employer  \\\n",
       "0       LARKSPUR        CA 949,391,913.00                        NaN   \n",
       "1        CAMBRIA        CA 934,284,638.00                        NaN   \n",
       "2        FONTANA        CA 923,371,507.00                        NaN   \n",
       "3      CAMARILLO        CA 930,111,214.00  AT&T GOVERNMENT SOLUTIONS   \n",
       "4  REDONDO BEACH        CA 902,784,310.00   VERICOR ENTERPRISES INC.   \n",
       "\n",
       "   contbr_occupation  contb_receipt_amt contb_receipt_dt receipt_desc memo_cd  \\\n",
       "0            RETIRED              50.00       2016-04-26          NaN       X   \n",
       "1            RETIRED             200.00       2016-04-20          NaN       X   \n",
       "2            RETIRED               5.00       2016-04-02          NaN       X   \n",
       "3  SOFTWARE ENGINEER              40.00       2016-03-04          NaN     NaN   \n",
       "4         PHARMACIST              35.00       2016-03-05          NaN     NaN   \n",
       "\n",
       "                             memo_text form_tp  file_num      tran_id  \\\n",
       "0               * HILLARY VICTORY FUND    SA18   1091718     C4768722   \n",
       "1               * HILLARY VICTORY FUND    SA18   1091718     C4747242   \n",
       "2               * HILLARY VICTORY FUND    SA18   1091718     C4666603   \n",
       "3  * EARMARKED CONTRIBUTION: SEE BELOW   SA17A   1077404  VPF7BKWA097   \n",
       "4  * EARMARKED CONTRIBUTION: SEE BELOW   SA17A   1077404  VPF7BKX3MB3   \n",
       "\n",
       "  election_tp  \n",
       "0       P2016  \n",
       "1       P2016  \n",
       "2       P2016  \n",
       "3       P2016  \n",
       "4       P2016  "
      ]
     },
     "execution_count": 27,
     "metadata": {},
     "output_type": "execute_result"
    }
   ],
   "source": [
    "# 1g YOUR CODE HERE\n",
    "contrib.head()"
   ]
  },
  {
   "cell_type": "code",
   "execution_count": null,
   "metadata": {},
   "outputs": [],
   "source": []
  },
  {
   "cell_type": "markdown",
   "metadata": {},
   "source": [
    "- **1g answer here:** "
   ]
  },
  {
   "cell_type": "markdown",
   "metadata": {},
   "source": [
    "**1h.** Another area to check is to make sure all of the records are from California. Check the `contbr_st` column - are there any records outside of California based on `contbr_st`? (5 points)"
   ]
  },
  {
   "cell_type": "code",
   "execution_count": null,
   "metadata": {},
   "outputs": [],
   "source": [
    "# 1h YOUR CODE HERE\n"
   ]
  },
  {
   "cell_type": "markdown",
   "metadata": {},
   "source": [
    "- **1h answer here:** "
   ]
  },
  {
   "cell_type": "markdown",
   "metadata": {},
   "source": [
    "**1i.** The next column to check for the analysis is the `tran_id` column. This column could be the primary key so look for duplicates. How many duplicate entries are there? Any pattern for why are there duplicate entries? (5 points)"
   ]
  },
  {
   "cell_type": "code",
   "execution_count": null,
   "metadata": {},
   "outputs": [],
   "source": [
    "# 1i YOUR CODE HERE\n"
   ]
  },
  {
   "cell_type": "markdown",
   "metadata": {},
   "source": [
    "- **1i answer here:** "
   ]
  },
  {
   "cell_type": "markdown",
   "metadata": {},
   "source": [
    "**1j.** Another column to check is the `contb_receipt_amt` that shows the donation amounts. How many negative donations are included? What do negative donations mean? Please show at least pull a few rows to look at the records with negative donations. Do these records match with the expectation of why a negative donation would happen? (5 points)"
   ]
  },
  {
   "cell_type": "code",
   "execution_count": null,
   "metadata": {},
   "outputs": [],
   "source": [
    "# 1j YOUR CODE HERE\n"
   ]
  },
  {
   "cell_type": "markdown",
   "metadata": {},
   "source": [
    "- **1j answer here:**"
   ]
  },
  {
   "cell_type": "markdown",
   "metadata": {},
   "source": [
    "**1k.** One more column to look at is the date of donation column. Are there any dates outside of the primary period (defined as 1 Jan 2014 to 7 June 2016)? Are the dates well-formatted for our analysis? (5 points)"
   ]
  },
  {
   "cell_type": "code",
   "execution_count": null,
   "metadata": {},
   "outputs": [],
   "source": [
    "# 1k YOUR CODE HERE\n"
   ]
  },
  {
   "cell_type": "markdown",
   "metadata": {},
   "source": [
    "- **1k answer here:**"
   ]
  },
  {
   "cell_type": "markdown",
   "metadata": {
    "deletable": false,
    "nbgrader": {
     "checksum": "bffd2778d22127102347386bfb6f5b20",
     "grade": true,
     "grade_id": "cell-4ad1da24176f0450",
     "locked": false,
     "points": 0,
     "schema_version": 1,
     "solution": true
    }
   },
   "source": [
    "**1l.** Finally, answer the initial questions in the cells below (5 points)"
   ]
  },
  {
   "cell_type": "markdown",
   "metadata": {},
   "source": [
    "**1l.1** Do we have the correct # of columns and rows.\n",
    "\n",
    "- **1l.1 answer here:**"
   ]
  },
  {
   "cell_type": "markdown",
   "metadata": {},
   "source": [
    "**1l.2** Do the records contain data for the questions we want to answer?\n",
    "\n",
    "- **1l.2 answer here:**"
   ]
  },
  {
   "cell_type": "markdown",
   "metadata": {},
   "source": [
    "**1l.3** What columns are important?\n",
    "\n",
    "- **1l.3 answer here:** "
   ]
  },
  {
   "cell_type": "markdown",
   "metadata": {},
   "source": [
    "**1l.4** What columns can be dropped?\n",
    "\n",
    "- **1l.4 answer here:** "
   ]
  },
  {
   "cell_type": "markdown",
   "metadata": {},
   "source": [
    "**1l.5** What are the data problems?\n",
    "\n",
    "- **1l.5 answer here:**"
   ]
  },
  {
   "cell_type": "markdown",
   "metadata": {},
   "source": [
    "**1l.6** List any assumptions so far:\n",
    "\n",
    "- **1l.6 answer here:**"
   ]
  },
  {
   "cell_type": "markdown",
   "metadata": {
    "deletable": false,
    "nbgrader": {
     "checksum": "14c2855e3d59f0da6b1afd5cf0da2da8",
     "grade": true,
     "grade_id": "cell-fd840cdd19d2bd2a",
     "locked": false,
     "points": 0,
     "schema_version": 1,
     "solution": true
    }
   },
   "source": [
    "***\n",
    "## 2. Data filtering and data quality fixes (30 points)\n",
    "\n",
    "Now that we have a basic understanding of the data, let's filter out the records we don't need and fix the data."
   ]
  },
  {
   "cell_type": "markdown",
   "metadata": {},
   "source": [
    "**2a.** From the dataset filter out (remove) any election_tp not in the primary election. Print/show the shape of the dataframe after the filtering is complete. (5 points)"
   ]
  },
  {
   "cell_type": "code",
   "execution_count": null,
   "metadata": {
    "deletable": false,
    "nbgrader": {
     "checksum": "43ce3d15cee7ab73f53fd8f054c9826c",
     "grade": true,
     "grade_id": "cell-dce8d3107c1463ca",
     "locked": false,
     "points": 0,
     "schema_version": 1,
     "solution": true
    }
   },
   "outputs": [],
   "source": [
    "# 2a YOUR CODE HERE\n"
   ]
  },
  {
   "cell_type": "markdown",
   "metadata": {
    "deletable": false,
    "nbgrader": {
     "checksum": "a5f4e6df0f32e24c492a9589ec87fef6",
     "grade": true,
     "grade_id": "cell-9e3f68b21dac8e10",
     "locked": false,
     "points": 0,
     "schema_version": 1,
     "solution": true
    }
   },
   "source": [
    "**2b.** From the dataset filter out (remove) any candidate that is not Bernie Sanders. Print/show the shape of the dataframe after the filtering is complete. (5 points)"
   ]
  },
  {
   "cell_type": "code",
   "execution_count": null,
   "metadata": {
    "deletable": false,
    "nbgrader": {
     "checksum": "4f1a9e7ee0ded9d2b5af5777cb85e505",
     "grade": true,
     "grade_id": "cell-c14fbed9d72d54e3",
     "locked": false,
     "points": 0,
     "schema_version": 1,
     "solution": true
    }
   },
   "outputs": [],
   "source": [
    "# 2b YOUR CODE HERE\n"
   ]
  },
  {
   "cell_type": "markdown",
   "metadata": {},
   "source": [
    "**2c.** The `contbr_zip` column is not formatted well for our analysis. Make a new zipcode column that is the five-digit zipcodes. Filter out any records outside of California based on the zipcode. Print/show the shape of the dataframe after the filtering is complete. (10 points).\n",
    "\n",
    "- You will have to research what the valid 5-digit zipcodes for California are!"
   ]
  },
  {
   "cell_type": "code",
   "execution_count": null,
   "metadata": {},
   "outputs": [],
   "source": [
    "# 2c YOUR CODE HERE\n"
   ]
  },
  {
   "cell_type": "markdown",
   "metadata": {},
   "source": [
    "**2d.** The receipt amount column has negative donations. After talking with your team, a decision was made that the best course of action is to remove these negative values so that the donation count and amount is more accurate. Print/show the shape of the dataframe after the filtering is complete. (5 points)"
   ]
  },
  {
   "cell_type": "code",
   "execution_count": null,
   "metadata": {},
   "outputs": [],
   "source": [
    "# 2d YOUR CODE HERE\n"
   ]
  },
  {
   "cell_type": "markdown",
   "metadata": {},
   "source": [
    "**2e.** From the dataset drop any columns that won't be used in the analysis. Print/show the shape of the dataframe after the dropping is complete. What columns did you drop and why? (5 points)"
   ]
  },
  {
   "cell_type": "code",
   "execution_count": null,
   "metadata": {},
   "outputs": [],
   "source": [
    "# 2e YOUR CODE HERE\n"
   ]
  },
  {
   "cell_type": "markdown",
   "metadata": {},
   "source": [
    "- **2e answer here:**"
   ]
  },
  {
   "cell_type": "markdown",
   "metadata": {},
   "source": [
    "**2f.** List any assumptions that you made up to this point:"
   ]
  },
  {
   "cell_type": "markdown",
   "metadata": {},
   "source": [
    "- **2f answer here:**"
   ]
  },
  {
   "cell_type": "markdown",
   "metadata": {
    "deletable": false,
    "nbgrader": {
     "checksum": "6dc1481a003cdd752c5edfa9ac400879",
     "grade": true,
     "grade_id": "cell-f7a01ce9c5b10ac7",
     "locked": false,
     "points": 0,
     "schema_version": 1,
     "solution": true
    }
   },
   "source": [
    "***\n",
    "## 3. Answering the questions (20 points)\n",
    "\n",
    "Now that the data is cleaned and filterd - let's answer the two questions from your boss!"
   ]
  },
  {
   "cell_type": "markdown",
   "metadata": {
    "deletable": false,
    "nbgrader": {
     "checksum": "010f5de5f6af4c7f830d1cf7a81bbc0f",
     "grade": true,
     "grade_id": "cell-5617179133b06d0c",
     "locked": false,
     "points": 0,
     "schema_version": 1,
     "solution": true
    }
   },
   "source": [
    "**3a.** Which zipcode had the highest count of contributions and the most dollar amount? (10 points)"
   ]
  },
  {
   "cell_type": "code",
   "execution_count": null,
   "metadata": {},
   "outputs": [],
   "source": [
    "# 3a YOUR CODE HERE\n"
   ]
  },
  {
   "cell_type": "markdown",
   "metadata": {},
   "source": [
    "- **3a answer here:** "
   ]
  },
  {
   "cell_type": "markdown",
   "metadata": {},
   "source": [
    "**3b.** What day(s) of the month do most people donate? (10 points)"
   ]
  },
  {
   "cell_type": "code",
   "execution_count": null,
   "metadata": {},
   "outputs": [],
   "source": [
    "# 3b YOUR CODE HERE\n"
   ]
  },
  {
   "cell_type": "markdown",
   "metadata": {},
   "source": [
    "- **3b answer here:** "
   ]
  },
  {
   "cell_type": "markdown",
   "metadata": {},
   "source": [
    "## If you have feedback for this homework, please submit it using the link below:\n",
    "\n",
    "http://goo.gl/forms/74yCiQTf6k"
   ]
  }
 ],
 "metadata": {
  "kernelspec": {
   "display_name": "Python 3 (ipykernel)",
   "language": "python",
   "name": "python3"
  },
  "language_info": {
   "codemirror_mode": {
    "name": "ipython",
    "version": 3
   },
   "file_extension": ".py",
   "mimetype": "text/x-python",
   "name": "python",
   "nbconvert_exporter": "python",
   "pygments_lexer": "ipython3",
   "version": "3.9.12"
  }
 },
 "nbformat": 4,
 "nbformat_minor": 4
}
