{
 "cells": [
  {
   "cell_type": "markdown",
   "metadata": {},
   "source": [
    "## Week 10 and 11 Assignment - DATASCI200 Introduction to Data Science Programming, UC Berkeley MIDS\n",
    "\n",
    "Write code in this Jupyter Notebook to solve the following problems. Please upload this **Notebook** with your solutions to your GitHub repository and provide a link in the last question in gradescope. \n",
    "\n",
    "Assignment due date: 11:59PM PT the night before the Week 12 Live Session. Do **NOT** push/upload the data file. "
   ]
  },
  {
   "cell_type": "markdown",
   "metadata": {},
   "source": [
    "## Objectives\n",
    "\n",
    "- Explore and glean insights from a real dataset using pandas\n",
    "- Practice using pandas for exploratory analysis, information gathering, and discovery\n",
    "- Practice cleaning data and answering questions"
   ]
  },
  {
   "cell_type": "markdown",
   "metadata": {},
   "source": [
    "## General Guidelines:\n",
    "\n",
    "- This is a **real** dataset and so it may contain errors and other pecularities to work through\n",
    "- This dataset is ~218mb, which will take some time to load (and probably won't load in Google Sheets or Excel)\n",
    "- If you make assumptions, annotate them in your responses\n",
    "- While there is one code/markdown cell positioned after each question as a placeholder, some of your code/responses may require multiple cells\n",
    "- Double-click the markdown cells that say for example **1a answer here:** to enter your written answers. If you need more cells for your written answers, make them markdown cells (rather than code cells)\n",
    "- This homework assignment is not autograded because of the variety of responses one could give. \n",
    "  - Please upload this notebook to the autograder page and the TAs will manually grade it. \n",
    "  - Ensure that each cell is run and outputs your answer for ease of grading! \n",
    "  - Highly suggest to do a `restart & run all` before uploading your code to ensure everything runs and outputs correctly.\n",
    "  - Answers without code (or code that runs) will be given 0 points.\n",
    "- **This is meant to simulate real world data so you will have to do some external research to determine what some of the answers are!** "
   ]
  },
  {
   "cell_type": "markdown",
   "metadata": {},
   "source": [
    "## Dataset\n",
    "\n",
    "You are to analyze campaign contributions to the 2016 U.S. presidential primary races made in California. Use the csv file located here: https://drive.google.com/file/d/1Lgg-PwXQ6TQLDowd6XyBxZw5g1NGWPjB/view?usp=sharing. You should download and save this file in the same folder as this notebook is stored.  This file originally came from the U.S. Federal Election Commission (https://www.fec.gov/).\n",
    "\n",
    "**DO NOT PUSH THIS FILE TO YOUR GITHUB REPO!**\n",
    "\n",
    "- Best practice is to not have DATA files in your code repo. As shown below, the default load is outside of the folder this notebook is in. If you change the folder where the file is stored please update the first cell!\n",
    "- If you do accidentally push the file to your github repo - follow the directions here to fix it: https://docs.google.com/document/d/15Irgb5V5G7pKPWgAerH7FPMpKeQRunbNflaW-hR2hTA/edit?usp=sharing\n",
    "\n",
    "Documentation for this data can be found here: https://drive.google.com/file/d/11o_SByceenv0NgNMstM-dxC1jL7I9fHL/view?usp=sharing"
   ]
  },
  {
   "cell_type": "markdown",
   "metadata": {},
   "source": [
    "## Data Questions\n",
    "\n",
    "You are working for a California state-wide election campaign. Your boss wants you to examine historic 2016 election contribution data to see what zipcodes are more supportive of fundraising for your candidate. \n",
    "\n",
    "Your boss asks you to filter out some of the records:\n",
    "- Only use primary 2016 contribution data (more like how your race is).\n",
    "- Concentrate on Bernie Sanders as a candidate (most a like your candidate)\n",
    "\n",
    "The questions your boss wants answered is:\n",
    "- Which zipcode (5-digit zipcode) had the highest count of contributions and the most dollar amount?\n",
    "- What day(s) of the month do most people donate?"
   ]
  },
  {
   "cell_type": "markdown",
   "metadata": {},
   "source": [
    "## Setup\n",
    "\n",
    "Run the cell below as it will load the data into a pandas dataframe named `contrib`. Note that a custom date parser is defined to speed up loading. If Python were to guess the date format, it would take even longer to load."
   ]
  },
  {
   "cell_type": "code",
   "execution_count": 1,
   "metadata": {},
   "outputs": [
    {
     "name": "stderr",
     "output_type": "stream",
     "text": [
      "/var/folders/_5/mw87wr4s5p902pvj5xm4sqnw0000gn/T/ipykernel_7841/3235627308.py:14: DtypeWarning: Columns (6,11,12) have mixed types. Specify dtype option on import or set low_memory=False.\n",
      "  contrib = pd.read_csv('../../../P00000001-CA.csv', index_col=False, parse_dates=['contb_receipt_dt'], date_parser=d)\n"
     ]
    }
   ],
   "source": [
    "import pandas as pd\n",
    "import numpy as np\n",
    "from datetime import datetime\n",
    "\n",
    "# These commands below set some options for pandas and to have matplotlib show the charts in the notebook\n",
    "pd.set_option('display.max_rows', 1000)\n",
    "pd.options.display.float_format = '{:,.2f}'.format\n",
    "\n",
    "# Define a date parser to pass to read_csv\n",
    "d = lambda x: datetime.strptime(x, '%d-%b-%y')\n",
    "\n",
    "# Load the data\n",
    "# We have this defaulted to the folder OUTSIDE of your repo - please change it as needed\n",
    "contrib = pd.read_csv('../../../P00000001-CA.csv', index_col=False, parse_dates=['contb_receipt_dt'], date_parser=d)\n",
    "\n",
    "# Note - for now, it is okay to ignore the warning about mixed types. "
   ]
  },
  {
   "cell_type": "markdown",
   "metadata": {},
   "source": [
    "***\n",
    "## 1. Initial Data Checks (50 points)\n",
    "\n",
    "First we will take a preliminary look at the data to check that it was loaded correctly and contains the info we need.\n",
    "\n",
    "The questions to answer at the end of this section:\n",
    "- Do we have the correct # of columns and rows. \n",
    "- Do the records contain data for the questions we want to answer \n",
    "- What columns are important? \n",
    "- What columns can be dropped?\n",
    "- What are the data problems?"
   ]
  },
  {
   "cell_type": "markdown",
   "metadata": {},
   "source": [
    "---"
   ]
  },
  {
   "cell_type": "markdown",
   "metadata": {},
   "source": [
    "**1a.** Print the *shape* of the data. Does this match the expectation? (2 points)"
   ]
  },
  {
   "cell_type": "code",
   "execution_count": 2,
   "metadata": {
    "deletable": false,
    "nbgrader": {
     "checksum": "9f7a7938e43b14d3c7c49d6a278b0bb1",
     "grade": true,
     "grade_id": "cell-5d017805206f18b1",
     "locked": false,
     "points": 0,
     "schema_version": 1,
     "solution": true
    }
   },
   "outputs": [
    {
     "data": {
      "text/plain": [
       "(1125659, 18)"
      ]
     },
     "execution_count": 2,
     "metadata": {},
     "output_type": "execute_result"
    }
   ],
   "source": [
    "# 1a YOUR CODE HERE\n",
    "\n",
    "# contrib.head(-10)\n",
    "\n",
    "contrib.shape"
   ]
  },
  {
   "cell_type": "markdown",
   "metadata": {},
   "source": [
    "- **1a answer here:** \n",
    "\n",
    "The shape matches expectations. I used contrib.head(-10) to get a list of the last 10 rows and see that that last row is 1125659 and the count of columns is 18"
   ]
  },
  {
   "cell_type": "markdown",
   "metadata": {},
   "source": [
    "---"
   ]
  },
  {
   "cell_type": "markdown",
   "metadata": {
    "deletable": false,
    "nbgrader": {
     "checksum": "e6a198453ec4b0171a064fef0bd7c678",
     "grade": true,
     "grade_id": "cell-3bc26919169bf4aa",
     "locked": false,
     "points": 5,
     "schema_version": 1,
     "solution": true
    }
   },
   "source": [
    "**1b.** Print a list of column names. Are all the columns included that are in the documentation? (2 points)"
   ]
  },
  {
   "cell_type": "code",
   "execution_count": 3,
   "metadata": {
    "deletable": false,
    "nbgrader": {
     "checksum": "4fbf682f1c78b3614832c6f48ecd88c7",
     "grade": true,
     "grade_id": "cell-72bc97601b84f17d",
     "locked": false,
     "points": 5,
     "schema_version": 1,
     "solution": true
    }
   },
   "outputs": [
    {
     "data": {
      "text/plain": [
       "Index(['cmte_id', 'cand_id', 'cand_nm', 'contbr_nm', 'contbr_city',\n",
       "       'contbr_st', 'contbr_zip', 'contbr_employer', 'contbr_occupation',\n",
       "       'contb_receipt_amt', 'contb_receipt_dt', 'receipt_desc', 'memo_cd',\n",
       "       'memo_text', 'form_tp', 'file_num', 'tran_id', 'election_tp'],\n",
       "      dtype='object')"
      ]
     },
     "execution_count": 3,
     "metadata": {},
     "output_type": "execute_result"
    }
   ],
   "source": [
    "# 1b YOUR CODE HERE\n",
    "\n",
    "contrib.columns"
   ]
  },
  {
   "cell_type": "markdown",
   "metadata": {},
   "source": [
    "- **1b answer here:** \n",
    "\n",
    "I reviewed several of the content in the 'download bulk data' section of the Federal Election Commission site. The primary file is  'Individual Contributions' which has the following columns. This matches with some of the content in P00000001-CA.csv but not all. \n",
    "\n",
    "******* list of fields in the individual contributions file ***********\n",
    "https://www.fec.gov/data/receipts/individual-contributions\n",
    "\n",
    "CMTE_ID\n",
    "AMNDT_IND\n",
    "RPT_TP\n",
    "TRANSACTION_PGI\n",
    "IMAGE_NUM\n",
    "TRANSACTION_TP\n",
    "ENTITY_TP\n",
    "NAME\n",
    "CITY\n",
    "STATE\n",
    "ZIP_CODE\n",
    "EMPLOYER\n",
    "OCCUPATION\n",
    "TRANSACTION_DT\n",
    "TRANSACTION_AMT\n",
    "OTHER_ID\n",
    "TRAN_ID\tFILE_NUM\n",
    "MEMO_CD\n",
    "MEMO_TEXT\n",
    "SUB_ID\n",
    "\n",
    "********* I believe some of the data has been compiled from other files **************\n",
    "\n",
    "I can't say for sure if the 18 columsns are precisely what was in the documentation as I could not find a single bulk file with the 18 fields. However, I reviewed several files (like those listed below) and reason to believe that the data is complete as it has been blended from multiple sources and the relevant information needed to answer the question is contained.\n",
    "\n",
    "https://www.fec.gov/data/receipts/individual-contributions/?two_year_transaction_period=2016&contributor_state=CA&recipient_committee_type=P\n",
    "\n",
    "https://www.fec.gov/data/browse-data/?tab=bulk-data\n",
    "\n",
    "https://www.fec.gov/campaign-finance-data/candidate-committee-linkage-file-description/\n",
    "\n",
    "https://www.fec.gov/campaign-finance-data/all-candidates-file-description/\n",
    "\n",
    "https://www.fec.gov/campaign-finance-data/committee-master-file-description/\n",
    "\n",
    "https://www.fec.gov/campaign-finance-data/contributions-committees-candidates-file-description/"
   ]
  },
  {
   "cell_type": "markdown",
   "metadata": {},
   "source": [
    "---"
   ]
  },
  {
   "cell_type": "markdown",
   "metadata": {},
   "source": [
    "**1c** Print out the first five rows of the dataset. How do the columns `cand_id`, `cand_nm` and `contbr_st` look? (3 points)"
   ]
  },
  {
   "cell_type": "code",
   "execution_count": 4,
   "metadata": {},
   "outputs": [
    {
     "data": {
      "text/html": [
       "<div>\n",
       "<style scoped>\n",
       "    .dataframe tbody tr th:only-of-type {\n",
       "        vertical-align: middle;\n",
       "    }\n",
       "\n",
       "    .dataframe tbody tr th {\n",
       "        vertical-align: top;\n",
       "    }\n",
       "\n",
       "    .dataframe thead th {\n",
       "        text-align: right;\n",
       "    }\n",
       "</style>\n",
       "<table border=\"1\" class=\"dataframe\">\n",
       "  <thead>\n",
       "    <tr style=\"text-align: right;\">\n",
       "      <th></th>\n",
       "      <th>cmte_id</th>\n",
       "      <th>cand_id</th>\n",
       "      <th>cand_nm</th>\n",
       "      <th>contbr_nm</th>\n",
       "      <th>contbr_city</th>\n",
       "      <th>contbr_st</th>\n",
       "      <th>contbr_zip</th>\n",
       "      <th>contbr_employer</th>\n",
       "      <th>contbr_occupation</th>\n",
       "      <th>contb_receipt_amt</th>\n",
       "      <th>contb_receipt_dt</th>\n",
       "      <th>receipt_desc</th>\n",
       "      <th>memo_cd</th>\n",
       "      <th>memo_text</th>\n",
       "      <th>form_tp</th>\n",
       "      <th>file_num</th>\n",
       "      <th>tran_id</th>\n",
       "      <th>election_tp</th>\n",
       "    </tr>\n",
       "  </thead>\n",
       "  <tbody>\n",
       "    <tr>\n",
       "      <th>0</th>\n",
       "      <td>C00575795</td>\n",
       "      <td>P00003392</td>\n",
       "      <td>Clinton, Hillary Rodham</td>\n",
       "      <td>AULL, ANNE</td>\n",
       "      <td>LARKSPUR</td>\n",
       "      <td>CA</td>\n",
       "      <td>949,391,913.00</td>\n",
       "      <td>NaN</td>\n",
       "      <td>RETIRED</td>\n",
       "      <td>50.00</td>\n",
       "      <td>2016-04-26</td>\n",
       "      <td>NaN</td>\n",
       "      <td>X</td>\n",
       "      <td>* HILLARY VICTORY FUND</td>\n",
       "      <td>SA18</td>\n",
       "      <td>1091718</td>\n",
       "      <td>C4768722</td>\n",
       "      <td>P2016</td>\n",
       "    </tr>\n",
       "    <tr>\n",
       "      <th>1</th>\n",
       "      <td>C00575795</td>\n",
       "      <td>P00003392</td>\n",
       "      <td>Clinton, Hillary Rodham</td>\n",
       "      <td>CARROLL, MARYJEAN</td>\n",
       "      <td>CAMBRIA</td>\n",
       "      <td>CA</td>\n",
       "      <td>934,284,638.00</td>\n",
       "      <td>NaN</td>\n",
       "      <td>RETIRED</td>\n",
       "      <td>200.00</td>\n",
       "      <td>2016-04-20</td>\n",
       "      <td>NaN</td>\n",
       "      <td>X</td>\n",
       "      <td>* HILLARY VICTORY FUND</td>\n",
       "      <td>SA18</td>\n",
       "      <td>1091718</td>\n",
       "      <td>C4747242</td>\n",
       "      <td>P2016</td>\n",
       "    </tr>\n",
       "    <tr>\n",
       "      <th>2</th>\n",
       "      <td>C00575795</td>\n",
       "      <td>P00003392</td>\n",
       "      <td>Clinton, Hillary Rodham</td>\n",
       "      <td>GANDARA, DESIREE</td>\n",
       "      <td>FONTANA</td>\n",
       "      <td>CA</td>\n",
       "      <td>923,371,507.00</td>\n",
       "      <td>NaN</td>\n",
       "      <td>RETIRED</td>\n",
       "      <td>5.00</td>\n",
       "      <td>2016-04-02</td>\n",
       "      <td>NaN</td>\n",
       "      <td>X</td>\n",
       "      <td>* HILLARY VICTORY FUND</td>\n",
       "      <td>SA18</td>\n",
       "      <td>1091718</td>\n",
       "      <td>C4666603</td>\n",
       "      <td>P2016</td>\n",
       "    </tr>\n",
       "    <tr>\n",
       "      <th>3</th>\n",
       "      <td>C00577130</td>\n",
       "      <td>P60007168</td>\n",
       "      <td>Sanders, Bernard</td>\n",
       "      <td>LEE, ALAN</td>\n",
       "      <td>CAMARILLO</td>\n",
       "      <td>CA</td>\n",
       "      <td>930,111,214.00</td>\n",
       "      <td>AT&amp;T GOVERNMENT SOLUTIONS</td>\n",
       "      <td>SOFTWARE ENGINEER</td>\n",
       "      <td>40.00</td>\n",
       "      <td>2016-03-04</td>\n",
       "      <td>NaN</td>\n",
       "      <td>NaN</td>\n",
       "      <td>* EARMARKED CONTRIBUTION: SEE BELOW</td>\n",
       "      <td>SA17A</td>\n",
       "      <td>1077404</td>\n",
       "      <td>VPF7BKWA097</td>\n",
       "      <td>P2016</td>\n",
       "    </tr>\n",
       "    <tr>\n",
       "      <th>4</th>\n",
       "      <td>C00577130</td>\n",
       "      <td>P60007168</td>\n",
       "      <td>Sanders, Bernard</td>\n",
       "      <td>LEONELLI, ODETTE</td>\n",
       "      <td>REDONDO BEACH</td>\n",
       "      <td>CA</td>\n",
       "      <td>902,784,310.00</td>\n",
       "      <td>VERICOR ENTERPRISES INC.</td>\n",
       "      <td>PHARMACIST</td>\n",
       "      <td>35.00</td>\n",
       "      <td>2016-03-05</td>\n",
       "      <td>NaN</td>\n",
       "      <td>NaN</td>\n",
       "      <td>* EARMARKED CONTRIBUTION: SEE BELOW</td>\n",
       "      <td>SA17A</td>\n",
       "      <td>1077404</td>\n",
       "      <td>VPF7BKX3MB3</td>\n",
       "      <td>P2016</td>\n",
       "    </tr>\n",
       "  </tbody>\n",
       "</table>\n",
       "</div>"
      ],
      "text/plain": [
       "     cmte_id    cand_id                  cand_nm          contbr_nm  \\\n",
       "0  C00575795  P00003392  Clinton, Hillary Rodham         AULL, ANNE   \n",
       "1  C00575795  P00003392  Clinton, Hillary Rodham  CARROLL, MARYJEAN   \n",
       "2  C00575795  P00003392  Clinton, Hillary Rodham   GANDARA, DESIREE   \n",
       "3  C00577130  P60007168         Sanders, Bernard          LEE, ALAN   \n",
       "4  C00577130  P60007168         Sanders, Bernard   LEONELLI, ODETTE   \n",
       "\n",
       "     contbr_city contbr_st     contbr_zip            contbr_employer  \\\n",
       "0       LARKSPUR        CA 949,391,913.00                        NaN   \n",
       "1        CAMBRIA        CA 934,284,638.00                        NaN   \n",
       "2        FONTANA        CA 923,371,507.00                        NaN   \n",
       "3      CAMARILLO        CA 930,111,214.00  AT&T GOVERNMENT SOLUTIONS   \n",
       "4  REDONDO BEACH        CA 902,784,310.00   VERICOR ENTERPRISES INC.   \n",
       "\n",
       "   contbr_occupation  contb_receipt_amt contb_receipt_dt receipt_desc memo_cd  \\\n",
       "0            RETIRED              50.00       2016-04-26          NaN       X   \n",
       "1            RETIRED             200.00       2016-04-20          NaN       X   \n",
       "2            RETIRED               5.00       2016-04-02          NaN       X   \n",
       "3  SOFTWARE ENGINEER              40.00       2016-03-04          NaN     NaN   \n",
       "4         PHARMACIST              35.00       2016-03-05          NaN     NaN   \n",
       "\n",
       "                             memo_text form_tp  file_num      tran_id  \\\n",
       "0               * HILLARY VICTORY FUND    SA18   1091718     C4768722   \n",
       "1               * HILLARY VICTORY FUND    SA18   1091718     C4747242   \n",
       "2               * HILLARY VICTORY FUND    SA18   1091718     C4666603   \n",
       "3  * EARMARKED CONTRIBUTION: SEE BELOW   SA17A   1077404  VPF7BKWA097   \n",
       "4  * EARMARKED CONTRIBUTION: SEE BELOW   SA17A   1077404  VPF7BKX3MB3   \n",
       "\n",
       "  election_tp  \n",
       "0       P2016  \n",
       "1       P2016  \n",
       "2       P2016  \n",
       "3       P2016  \n",
       "4       P2016  "
      ]
     },
     "execution_count": 4,
     "metadata": {},
     "output_type": "execute_result"
    }
   ],
   "source": [
    "# 1c YOUR CODE HERE\n",
    "contrib.head()"
   ]
  },
  {
   "cell_type": "markdown",
   "metadata": {},
   "source": [
    "- **1c answer here:** \n",
    "\n",
    "The fields are \n",
    "\n",
    "* cand_id (ie candidate id) which is a alphanumeric type. \n",
    "* The cand_nm (ie candidate name) is alphabetic (unless we have a name like X Æ A-Xii, thanks to Elon). \n",
    "* The contbd_st (constribution state) is a 2 digid alphabet (caps) that stands for CA (as this data is limited to california)"
   ]
  },
  {
   "cell_type": "markdown",
   "metadata": {},
   "source": [
    "---"
   ]
  },
  {
   "cell_type": "markdown",
   "metadata": {
    "deletable": false,
    "nbgrader": {
     "checksum": "0ec29a2cabd52709322d1cfd650babe7",
     "grade": true,
     "grade_id": "cell-23b51536d24c1645",
     "locked": false,
     "points": 0,
     "schema_version": 1,
     "solution": true
    }
   },
   "source": [
    "**1d.** Print out the values for the column `election_tp`. In your own words, based on the documentation, what information does the `election_tp` variable contain? Do the values in the column match the documentation? (3 points)"
   ]
  },
  {
   "cell_type": "code",
   "execution_count": 5,
   "metadata": {},
   "outputs": [
    {
     "data": {
      "text/plain": [
       "array(['P2016', 'G2016', nan, 'P2020'], dtype=object)"
      ]
     },
     "execution_count": 5,
     "metadata": {},
     "output_type": "execute_result"
    }
   ],
   "source": [
    "# 1d YOUR CODE HERE\n",
    "\n",
    "contrib.election_tp.unique()"
   ]
  },
  {
   "cell_type": "markdown",
   "metadata": {
    "deletable": false,
    "nbgrader": {
     "checksum": "cfa64002e64474584dc1442b5a39b460",
     "grade": true,
     "grade_id": "cell-8a320c2ff7c24d98",
     "locked": false,
     "points": 0,
     "schema_version": 1,
     "solution": true
    }
   },
   "source": [
    "- **1d answer here:** \n",
    "\n",
    "I see 4 valuesP2016, G2016, P2020 and a nan). P2016 is for the 2016 Primary Season while the others are not relevant to the question on hand. P2020 is for 2020 Primaries while G2016 is for the 2016 General Eletion. Also, the nan values have to be fixed as well"
   ]
  },
  {
   "cell_type": "markdown",
   "metadata": {},
   "source": [
    "---"
   ]
  },
  {
   "cell_type": "markdown",
   "metadata": {
    "deletable": false,
    "nbgrader": {
     "checksum": "442b24601da06376c43cbe6ef5c5348a",
     "grade": true,
     "grade_id": "cell-6a453219105384dd",
     "locked": false,
     "points": 0,
     "schema_version": 1,
     "solution": true
    }
   },
   "source": [
    "**1e.** Print out the datatypes for all of the columns. What are the datatypes for the `contbr_zip`, `contb_receipt_amt`, `contb_receipt_dt`? (5 points)"
   ]
  },
  {
   "cell_type": "code",
   "execution_count": 6,
   "metadata": {
    "deletable": false,
    "nbgrader": {
     "checksum": "c5a1b7f30648cced7269ccb9b1532bd6",
     "grade": true,
     "grade_id": "cell-90c49bd6471a3dc9",
     "locked": false,
     "points": 0,
     "schema_version": 1,
     "solution": true
    }
   },
   "outputs": [
    {
     "name": "stdout",
     "output_type": "stream",
     "text": [
      "<class 'pandas.core.frame.DataFrame'>\n",
      "RangeIndex: 1125659 entries, 0 to 1125658\n",
      "Data columns (total 18 columns):\n",
      " #   Column             Non-Null Count    Dtype         \n",
      "---  ------             --------------    -----         \n",
      " 0   cmte_id            1125659 non-null  object        \n",
      " 1   cand_id            1125659 non-null  object        \n",
      " 2   cand_nm            1125659 non-null  object        \n",
      " 3   contbr_nm          1125659 non-null  object        \n",
      " 4   contbr_city        1125633 non-null  object        \n",
      " 5   contbr_st          1125659 non-null  object        \n",
      " 6   contbr_zip         1125564 non-null  object        \n",
      " 7   contbr_employer    967757 non-null   object        \n",
      " 8   contbr_occupation  1115260 non-null  object        \n",
      " 9   contb_receipt_amt  1125659 non-null  float64       \n",
      " 10  contb_receipt_dt   1125659 non-null  datetime64[ns]\n",
      " 11  receipt_desc       15045 non-null    object        \n",
      " 12  memo_cd            144268 non-null   object        \n",
      " 13  memo_text          501148 non-null   object        \n",
      " 14  form_tp            1125659 non-null  object        \n",
      " 15  file_num           1125659 non-null  int64         \n",
      " 16  tran_id            1125659 non-null  object        \n",
      " 17  election_tp        1124234 non-null  object        \n",
      "dtypes: datetime64[ns](1), float64(1), int64(1), object(15)\n",
      "memory usage: 154.6+ MB\n"
     ]
    }
   ],
   "source": [
    "# 1e YOUR CODE HERE\n",
    "\n",
    "#type(contrib)\n",
    "\n",
    "contrib.info()\n",
    "\n",
    "#contrib.dtypes"
   ]
  },
  {
   "cell_type": "markdown",
   "metadata": {
    "deletable": false,
    "nbgrader": {
     "checksum": "60d3e303837e9603de5b96e32af7d806",
     "grade": true,
     "grade_id": "cell-447dc63eff8ebc5f",
     "locked": false,
     "points": 0,
     "schema_version": 1,
     "solution": true
    }
   },
   "source": [
    "- **1e answer here:** \n",
    "\n",
    "* contbr_zip : object\n",
    "* contb_receipt_amt : float64\n",
    "* contb_receipt_dt: datetime64[ns]\n"
   ]
  },
  {
   "cell_type": "markdown",
   "metadata": {},
   "source": [
    "---"
   ]
  },
  {
   "cell_type": "markdown",
   "metadata": {
    "deletable": false,
    "nbgrader": {
     "checksum": "20a71229316bf24a2ce62c52f72d8142",
     "grade": true,
     "grade_id": "cell-963603c5ed346a99",
     "locked": false,
     "points": 0,
     "schema_version": 1,
     "solution": true
    }
   },
   "source": [
    "**1f.** What columns have the most non-nulls?  Would you recommend to drop any columns based on the number of nulls? (5 points)"
   ]
  },
  {
   "cell_type": "code",
   "execution_count": 7,
   "metadata": {
    "deletable": false,
    "nbgrader": {
     "checksum": "426b589a9d6457f38381eb1c77678d4f",
     "grade": true,
     "grade_id": "cell-b6fc3f7c906c95a2",
     "locked": false,
     "points": 0,
     "schema_version": 1,
     "solution": true
    },
    "tags": []
   },
   "outputs": [
    {
     "name": "stdout",
     "output_type": "stream",
     "text": [
      "<class 'pandas.core.frame.DataFrame'>\n",
      "RangeIndex: 1125659 entries, 0 to 1125658\n",
      "Data columns (total 18 columns):\n",
      " #   Column             Non-Null Count    Dtype         \n",
      "---  ------             --------------    -----         \n",
      " 0   cmte_id            1125659 non-null  object        \n",
      " 1   cand_id            1125659 non-null  object        \n",
      " 2   cand_nm            1125659 non-null  object        \n",
      " 3   contbr_nm          1125659 non-null  object        \n",
      " 4   contbr_city        1125633 non-null  object        \n",
      " 5   contbr_st          1125659 non-null  object        \n",
      " 6   contbr_zip         1125564 non-null  object        \n",
      " 7   contbr_employer    967757 non-null   object        \n",
      " 8   contbr_occupation  1115260 non-null  object        \n",
      " 9   contb_receipt_amt  1125659 non-null  float64       \n",
      " 10  contb_receipt_dt   1125659 non-null  datetime64[ns]\n",
      " 11  receipt_desc       15045 non-null    object        \n",
      " 12  memo_cd            144268 non-null   object        \n",
      " 13  memo_text          501148 non-null   object        \n",
      " 14  form_tp            1125659 non-null  object        \n",
      " 15  file_num           1125659 non-null  int64         \n",
      " 16  tran_id            1125659 non-null  object        \n",
      " 17  election_tp        1124234 non-null  object        \n",
      "dtypes: datetime64[ns](1), float64(1), int64(1), object(15)\n",
      "memory usage: 154.6+ MB\n"
     ]
    },
    {
     "data": {
      "text/plain": [
       "'cmte_id'"
      ]
     },
     "execution_count": 7,
     "metadata": {},
     "output_type": "execute_result"
    }
   ],
   "source": [
    "# 1f YOUR CODE HERE\n",
    "contrib.info()\n",
    "#contrib.isnull().sum(axis = 0)\n",
    "\n",
    "# to get the column with the least non-null values\n",
    "#contrib.count().idxmin()\n",
    "\n",
    "# to get the column with the most non-null values\n",
    "contrib.count().idxmax()"
   ]
  },
  {
   "cell_type": "markdown",
   "metadata": {
    "deletable": false,
    "nbgrader": {
     "checksum": "81ebf2a2f96961b4464f6c35d2143427",
     "grade": true,
     "grade_id": "cell-bea2cf7a6fff8565",
     "locked": false,
     "points": 0,
     "schema_version": 1,
     "solution": true
    }
   },
   "source": [
    "- **1f answer here:** \n",
    "\n",
    "I am using multiple queries here -- starting with contrib.info() which gives me the detailed listing (refer 1g). I just validated if I am on the right track with query contrib.count().idxmax()\n",
    "\n",
    "The max count (for non-null values) is 1125659 and there are a number of columns have the most non-null values. In order they are\n",
    "* 0   cmte_id            1125659 non-null  object        \n",
    "* 1   cand_id            1125659 non-null  object        \n",
    "* 2   cand_nm            1125659 non-null  object        \n",
    "* 3   contbr_nm          1125659 non-null  object\n",
    "* 5   contbr_st          1125659 non-null  object \n",
    "* 9   contb_receipt_amt  1125659 non-null  float64       \n",
    "* 10  contb_receipt_dt   1125659 non-null  datetime64[ns]\n",
    "* 14  form_tp            1125659 non-null  object        \n",
    "* 15  file_num           1125659 non-null  int64         \n",
    "* 16  tran_id            1125659 non-null  object        \n",
    "\n",
    "receipt_desc has the least number of non-null values (15045), implying there are 1110614, or ~ 99% of values are null. This is a candidate to be removed\n",
    "\n",
    "I would also consider the following two columns for removal as well as they don't seem relevant to the basic question and have a ton of null values\n",
    "\n",
    "Percentage of non-null values: \n",
    "\n",
    "* memo_cd: 87%\n",
    "* memo_text: 55%"
   ]
  },
  {
   "cell_type": "markdown",
   "metadata": {},
   "source": [
    "---"
   ]
  },
  {
   "cell_type": "markdown",
   "metadata": {},
   "source": [
    "**1g.** A column we know that we want to use is the cand_nm column.  From the documentation each candidate is a unique candidate id also. Check data quality of `cand_id` column to see if it matches `cand_nm` column. Specifically check to ensure our targetted candidate 'Bernard Sanders' always has the same cand_id throughout. Any issues with `cand_nm` matching `cand_id`? (5 points)"
   ]
  },
  {
   "cell_type": "code",
   "execution_count": 2,
   "metadata": {},
   "outputs": [
    {
     "data": {
      "text/plain": [
       "array(['P60007168'], dtype=object)"
      ]
     },
     "execution_count": 2,
     "metadata": {},
     "output_type": "execute_result"
    }
   ],
   "source": [
    "# 1g YOUR CODE HERE\n",
    "\n",
    "# this gives me a list of all records for Bernie\n",
    "df1 = contrib.loc[contrib['cand_nm'].str.contains('Sanders, Bernard')]\n",
    "\n",
    "# this is a lsit of all bernie records in California\n",
    "df2 = df1.loc[df1['contbr_st']=='CA']\n",
    "\n",
    "# get a list of all candidate ids for bernie in california\n",
    "df2['cand_id'].unique()"
   ]
  },
  {
   "cell_type": "markdown",
   "metadata": {},
   "source": [
    "- **1g answer here:** \n",
    "\n",
    "appears that bernie has candidate id of 'P60007168' throughout the CA dataset. No problem"
   ]
  },
  {
   "cell_type": "markdown",
   "metadata": {},
   "source": [
    "---"
   ]
  },
  {
   "cell_type": "markdown",
   "metadata": {},
   "source": [
    "**1h.** Another area to check is to make sure all of the records are from California. Check the `contbr_st` column - are there any records outside of California based on `contbr_st`? (5 points)"
   ]
  },
  {
   "cell_type": "code",
   "execution_count": 9,
   "metadata": {},
   "outputs": [
    {
     "data": {
      "text/plain": [
       "array(['CA'], dtype=object)"
      ]
     },
     "execution_count": 9,
     "metadata": {},
     "output_type": "execute_result"
    }
   ],
   "source": [
    "# 1h YOUR CODE HERE\n",
    "contrib['contbr_st'].unique()"
   ]
  },
  {
   "cell_type": "markdown",
   "metadata": {},
   "source": [
    "- **1h answer here:** \n",
    "\n",
    "it appears that all the records are from california. We do not see any records from outside California"
   ]
  },
  {
   "cell_type": "markdown",
   "metadata": {},
   "source": [
    "---"
   ]
  },
  {
   "cell_type": "markdown",
   "metadata": {},
   "source": [
    "**1i.** The next column to check for the analysis is the `tran_id` column. This column could be the primary key so look for duplicates. How many duplicate entries are there? Any pattern for why are there duplicate entries? (5 points)"
   ]
  },
  {
   "cell_type": "code",
   "execution_count": 3,
   "metadata": {},
   "outputs": [
    {
     "data": {
      "text/plain": [
       "6873"
      ]
     },
     "execution_count": 3,
     "metadata": {},
     "output_type": "execute_result"
    }
   ],
   "source": [
    "# 1i YOUR CODE HERE\n",
    "\n",
    "df_dupes = pd.concat(x for _, x in contrib.groupby(\"tran_id\") if len(x) > 1)\n",
    "\n",
    "len(df_dupes.index)"
   ]
  },
  {
   "cell_type": "markdown",
   "metadata": {},
   "source": [
    "---"
   ]
  },
  {
   "cell_type": "markdown",
   "metadata": {},
   "source": [
    "- **1i answer here:** \n",
    "\n",
    "* yes, there are several duplicate entries (6873 to be precise)\n",
    "* The interesting coincidence is that they seem to occur in 3's!\n",
    "* There are others where the duplicates are in 2's where the only variable seems to be where the \n",
    "* -- contbr_occupation is 'Information Requested'\n",
    "\n",
    "* These also are cases where the contributor zip code is incorrect. \n",
    "\n",
    "* There are other variations but these are the primary ones"
   ]
  },
  {
   "cell_type": "markdown",
   "metadata": {},
   "source": [
    "---"
   ]
  },
  {
   "cell_type": "markdown",
   "metadata": {},
   "source": [
    "**1j.** Another column to check is the `contb_receipt_amt` that shows the donation amounts. How many negative donations are included? What do negative donations mean? Please show at least pull a few rows to look at the records with negative donations. Do these records match with the expectation of why a negative donation would happen? (5 points)"
   ]
  },
  {
   "cell_type": "code",
   "execution_count": 4,
   "metadata": {
    "collapsed": true,
    "jupyter": {
     "outputs_hidden": true
    },
    "tags": []
   },
   "outputs": [
    {
     "name": "stdout",
     "output_type": "stream",
     "text": [
      "the total number of negative contributions are : 11896\n"
     ]
    },
    {
     "data": {
      "text/html": [
       "<div>\n",
       "<style scoped>\n",
       "    .dataframe tbody tr th:only-of-type {\n",
       "        vertical-align: middle;\n",
       "    }\n",
       "\n",
       "    .dataframe tbody tr th {\n",
       "        vertical-align: top;\n",
       "    }\n",
       "\n",
       "    .dataframe thead th {\n",
       "        text-align: right;\n",
       "    }\n",
       "</style>\n",
       "<table border=\"1\" class=\"dataframe\">\n",
       "  <thead>\n",
       "    <tr style=\"text-align: right;\">\n",
       "      <th></th>\n",
       "      <th>cmte_id</th>\n",
       "      <th>cand_id</th>\n",
       "      <th>cand_nm</th>\n",
       "      <th>contbr_nm</th>\n",
       "      <th>contbr_city</th>\n",
       "      <th>contbr_st</th>\n",
       "      <th>contbr_zip</th>\n",
       "      <th>contbr_employer</th>\n",
       "      <th>contbr_occupation</th>\n",
       "      <th>contb_receipt_amt</th>\n",
       "      <th>contb_receipt_dt</th>\n",
       "      <th>receipt_desc</th>\n",
       "      <th>memo_cd</th>\n",
       "      <th>memo_text</th>\n",
       "      <th>form_tp</th>\n",
       "      <th>file_num</th>\n",
       "      <th>tran_id</th>\n",
       "      <th>election_tp</th>\n",
       "    </tr>\n",
       "  </thead>\n",
       "  <tbody>\n",
       "    <tr>\n",
       "      <th>19</th>\n",
       "      <td>C00574624</td>\n",
       "      <td>P60006111</td>\n",
       "      <td>Cruz, Rafael Edward 'Ted'</td>\n",
       "      <td>JOLLIFF, RICHARD</td>\n",
       "      <td>CHICO</td>\n",
       "      <td>CA</td>\n",
       "      <td>959,289,507.00</td>\n",
       "      <td>SELF EMPLOYED</td>\n",
       "      <td>RANCHER</td>\n",
       "      <td>-25.00</td>\n",
       "      <td>2016-04-29</td>\n",
       "      <td>REDESIGNATION TO GENERAL</td>\n",
       "      <td>X</td>\n",
       "      <td>REDESIGNATION TO GENERAL</td>\n",
       "      <td>SA17A</td>\n",
       "      <td>1077664</td>\n",
       "      <td>SA17A.1826482B</td>\n",
       "      <td>P2016</td>\n",
       "    </tr>\n",
       "    <tr>\n",
       "      <th>23</th>\n",
       "      <td>C00574624</td>\n",
       "      <td>P60006111</td>\n",
       "      <td>Cruz, Rafael Edward 'Ted'</td>\n",
       "      <td>JOLLIFF, RICHARD</td>\n",
       "      <td>CHICO</td>\n",
       "      <td>CA</td>\n",
       "      <td>959,289,507.00</td>\n",
       "      <td>SELF EMPLOYED</td>\n",
       "      <td>RANCHER</td>\n",
       "      <td>-150.00</td>\n",
       "      <td>2016-04-29</td>\n",
       "      <td>REDESIGNATION TO GENERAL</td>\n",
       "      <td>X</td>\n",
       "      <td>REDESIGNATION TO GENERAL</td>\n",
       "      <td>SA17A</td>\n",
       "      <td>1077664</td>\n",
       "      <td>SA17A.1826483B</td>\n",
       "      <td>P2016</td>\n",
       "    </tr>\n",
       "    <tr>\n",
       "      <th>81</th>\n",
       "      <td>C00574624</td>\n",
       "      <td>P60006111</td>\n",
       "      <td>Cruz, Rafael Edward 'Ted'</td>\n",
       "      <td>JOLLIFF, RICHARD</td>\n",
       "      <td>CHICO</td>\n",
       "      <td>CA</td>\n",
       "      <td>959,289,507.00</td>\n",
       "      <td>SELF EMPLOYED</td>\n",
       "      <td>RANCHER</td>\n",
       "      <td>-60.00</td>\n",
       "      <td>2016-04-14</td>\n",
       "      <td>REDESIGNATION TO GENERAL</td>\n",
       "      <td>X</td>\n",
       "      <td>REDESIGNATION TO GENERAL</td>\n",
       "      <td>SA17A</td>\n",
       "      <td>1077664</td>\n",
       "      <td>SA17A.1827494</td>\n",
       "      <td>P2016</td>\n",
       "    </tr>\n",
       "    <tr>\n",
       "      <th>190</th>\n",
       "      <td>C00574624</td>\n",
       "      <td>P60006111</td>\n",
       "      <td>Cruz, Rafael Edward 'Ted'</td>\n",
       "      <td>NOWELL, DIANA L.</td>\n",
       "      <td>RANCHO SANTA MARGARITA</td>\n",
       "      <td>CA</td>\n",
       "      <td>926,884,928.00</td>\n",
       "      <td>CAPISTRAND UNIFIED SCHOOL DISTRICT</td>\n",
       "      <td>LIBRARIAN TECHNICIAN</td>\n",
       "      <td>-100.00</td>\n",
       "      <td>2016-04-11</td>\n",
       "      <td>REDESIGNATION TO GENERAL</td>\n",
       "      <td>X</td>\n",
       "      <td>REDESIGNATION TO GENERAL</td>\n",
       "      <td>SA17A</td>\n",
       "      <td>1077664</td>\n",
       "      <td>SA17A.1639830B</td>\n",
       "      <td>P2016</td>\n",
       "    </tr>\n",
       "    <tr>\n",
       "      <th>213</th>\n",
       "      <td>C00574624</td>\n",
       "      <td>P60006111</td>\n",
       "      <td>Cruz, Rafael Edward 'Ted'</td>\n",
       "      <td>LICHTY, ANDREW MR.</td>\n",
       "      <td>SAN DIEGO</td>\n",
       "      <td>CA</td>\n",
       "      <td>921,096,720.00</td>\n",
       "      <td>SELF EMPLOYED</td>\n",
       "      <td>REAL ESTATE</td>\n",
       "      <td>-25.00</td>\n",
       "      <td>2016-04-30</td>\n",
       "      <td>REDESIGNATION TO GENERAL</td>\n",
       "      <td>X</td>\n",
       "      <td>REDESIGNATION TO GENERAL</td>\n",
       "      <td>SA17A</td>\n",
       "      <td>1077664</td>\n",
       "      <td>SA17A.1826888B</td>\n",
       "      <td>P2016</td>\n",
       "    </tr>\n",
       "    <tr>\n",
       "      <th>220</th>\n",
       "      <td>C00574624</td>\n",
       "      <td>P60006111</td>\n",
       "      <td>Cruz, Rafael Edward 'Ted'</td>\n",
       "      <td>LICHTY, ANDREW MR.</td>\n",
       "      <td>SAN DIEGO</td>\n",
       "      <td>CA</td>\n",
       "      <td>921,096,720.00</td>\n",
       "      <td>SELF EMPLOYED</td>\n",
       "      <td>REAL ESTATE</td>\n",
       "      <td>-25.00</td>\n",
       "      <td>2016-04-30</td>\n",
       "      <td>REDESIGNATION TO GENERAL</td>\n",
       "      <td>X</td>\n",
       "      <td>REDESIGNATION TO GENERAL</td>\n",
       "      <td>SA17A</td>\n",
       "      <td>1077664</td>\n",
       "      <td>SA17A.1826894B</td>\n",
       "      <td>P2016</td>\n",
       "    </tr>\n",
       "    <tr>\n",
       "      <th>223</th>\n",
       "      <td>C00574624</td>\n",
       "      <td>P60006111</td>\n",
       "      <td>Cruz, Rafael Edward 'Ted'</td>\n",
       "      <td>LICHTY, ANDREW MR.</td>\n",
       "      <td>SAN DIEGO</td>\n",
       "      <td>CA</td>\n",
       "      <td>921,096,720.00</td>\n",
       "      <td>SELF EMPLOYED</td>\n",
       "      <td>REAL ESTATE</td>\n",
       "      <td>-50.00</td>\n",
       "      <td>2016-04-30</td>\n",
       "      <td>REDESIGNATION TO GENERAL</td>\n",
       "      <td>X</td>\n",
       "      <td>REDESIGNATION TO GENERAL</td>\n",
       "      <td>SA17A</td>\n",
       "      <td>1077664</td>\n",
       "      <td>SA17A.1826895B</td>\n",
       "      <td>P2016</td>\n",
       "    </tr>\n",
       "    <tr>\n",
       "      <th>231</th>\n",
       "      <td>C00574624</td>\n",
       "      <td>P60006111</td>\n",
       "      <td>Cruz, Rafael Edward 'Ted'</td>\n",
       "      <td>LICHTY, ANDREW MR.</td>\n",
       "      <td>SAN DIEGO</td>\n",
       "      <td>CA</td>\n",
       "      <td>921,096,720.00</td>\n",
       "      <td>SELF EMPLOYED</td>\n",
       "      <td>REAL ESTATE</td>\n",
       "      <td>-50.00</td>\n",
       "      <td>2016-04-30</td>\n",
       "      <td>REDESIGNATION TO GENERAL</td>\n",
       "      <td>X</td>\n",
       "      <td>REDESIGNATION TO GENERAL</td>\n",
       "      <td>SA17A</td>\n",
       "      <td>1077664</td>\n",
       "      <td>SA17A.1826886B</td>\n",
       "      <td>P2016</td>\n",
       "    </tr>\n",
       "    <tr>\n",
       "      <th>261</th>\n",
       "      <td>C00574624</td>\n",
       "      <td>P60006111</td>\n",
       "      <td>Cruz, Rafael Edward 'Ted'</td>\n",
       "      <td>NOWELL, DIANA L.</td>\n",
       "      <td>RANCHO SANTA MARGARITA</td>\n",
       "      <td>CA</td>\n",
       "      <td>926,884,928.00</td>\n",
       "      <td>CAPISTRAND UNIFIED SCHOOL DISTRICT</td>\n",
       "      <td>LIBRARIAN TECHNICIAN</td>\n",
       "      <td>-150.00</td>\n",
       "      <td>2016-04-11</td>\n",
       "      <td>REDESIGNATION TO GENERAL</td>\n",
       "      <td>X</td>\n",
       "      <td>REDESIGNATION TO GENERAL</td>\n",
       "      <td>SA17A</td>\n",
       "      <td>1077664</td>\n",
       "      <td>SA17A.1639829B</td>\n",
       "      <td>P2016</td>\n",
       "    </tr>\n",
       "    <tr>\n",
       "      <th>307</th>\n",
       "      <td>C00574624</td>\n",
       "      <td>P60006111</td>\n",
       "      <td>Cruz, Rafael Edward 'Ted'</td>\n",
       "      <td>LICHTY, ANDREW MR.</td>\n",
       "      <td>SAN DIEGO</td>\n",
       "      <td>CA</td>\n",
       "      <td>921,096,720.00</td>\n",
       "      <td>SELF EMPLOYED</td>\n",
       "      <td>REAL ESTATE</td>\n",
       "      <td>-50.00</td>\n",
       "      <td>2016-04-30</td>\n",
       "      <td>REDESIGNATION TO GENERAL</td>\n",
       "      <td>X</td>\n",
       "      <td>REDESIGNATION TO GENERAL</td>\n",
       "      <td>SA17A</td>\n",
       "      <td>1077664</td>\n",
       "      <td>SA17A.1826889B</td>\n",
       "      <td>P2016</td>\n",
       "    </tr>\n",
       "  </tbody>\n",
       "</table>\n",
       "</div>"
      ],
      "text/plain": [
       "       cmte_id    cand_id                    cand_nm           contbr_nm  \\\n",
       "19   C00574624  P60006111  Cruz, Rafael Edward 'Ted'    JOLLIFF, RICHARD   \n",
       "23   C00574624  P60006111  Cruz, Rafael Edward 'Ted'    JOLLIFF, RICHARD   \n",
       "81   C00574624  P60006111  Cruz, Rafael Edward 'Ted'    JOLLIFF, RICHARD   \n",
       "190  C00574624  P60006111  Cruz, Rafael Edward 'Ted'    NOWELL, DIANA L.   \n",
       "213  C00574624  P60006111  Cruz, Rafael Edward 'Ted'  LICHTY, ANDREW MR.   \n",
       "220  C00574624  P60006111  Cruz, Rafael Edward 'Ted'  LICHTY, ANDREW MR.   \n",
       "223  C00574624  P60006111  Cruz, Rafael Edward 'Ted'  LICHTY, ANDREW MR.   \n",
       "231  C00574624  P60006111  Cruz, Rafael Edward 'Ted'  LICHTY, ANDREW MR.   \n",
       "261  C00574624  P60006111  Cruz, Rafael Edward 'Ted'    NOWELL, DIANA L.   \n",
       "307  C00574624  P60006111  Cruz, Rafael Edward 'Ted'  LICHTY, ANDREW MR.   \n",
       "\n",
       "                contbr_city contbr_st     contbr_zip  \\\n",
       "19                    CHICO        CA 959,289,507.00   \n",
       "23                    CHICO        CA 959,289,507.00   \n",
       "81                    CHICO        CA 959,289,507.00   \n",
       "190  RANCHO SANTA MARGARITA        CA 926,884,928.00   \n",
       "213               SAN DIEGO        CA 921,096,720.00   \n",
       "220               SAN DIEGO        CA 921,096,720.00   \n",
       "223               SAN DIEGO        CA 921,096,720.00   \n",
       "231               SAN DIEGO        CA 921,096,720.00   \n",
       "261  RANCHO SANTA MARGARITA        CA 926,884,928.00   \n",
       "307               SAN DIEGO        CA 921,096,720.00   \n",
       "\n",
       "                        contbr_employer     contbr_occupation  \\\n",
       "19                        SELF EMPLOYED               RANCHER   \n",
       "23                        SELF EMPLOYED               RANCHER   \n",
       "81                        SELF EMPLOYED               RANCHER   \n",
       "190  CAPISTRAND UNIFIED SCHOOL DISTRICT  LIBRARIAN TECHNICIAN   \n",
       "213                       SELF EMPLOYED           REAL ESTATE   \n",
       "220                       SELF EMPLOYED           REAL ESTATE   \n",
       "223                       SELF EMPLOYED           REAL ESTATE   \n",
       "231                       SELF EMPLOYED           REAL ESTATE   \n",
       "261  CAPISTRAND UNIFIED SCHOOL DISTRICT  LIBRARIAN TECHNICIAN   \n",
       "307                       SELF EMPLOYED           REAL ESTATE   \n",
       "\n",
       "     contb_receipt_amt contb_receipt_dt              receipt_desc memo_cd  \\\n",
       "19              -25.00       2016-04-29  REDESIGNATION TO GENERAL       X   \n",
       "23             -150.00       2016-04-29  REDESIGNATION TO GENERAL       X   \n",
       "81              -60.00       2016-04-14  REDESIGNATION TO GENERAL       X   \n",
       "190            -100.00       2016-04-11  REDESIGNATION TO GENERAL       X   \n",
       "213             -25.00       2016-04-30  REDESIGNATION TO GENERAL       X   \n",
       "220             -25.00       2016-04-30  REDESIGNATION TO GENERAL       X   \n",
       "223             -50.00       2016-04-30  REDESIGNATION TO GENERAL       X   \n",
       "231             -50.00       2016-04-30  REDESIGNATION TO GENERAL       X   \n",
       "261            -150.00       2016-04-11  REDESIGNATION TO GENERAL       X   \n",
       "307             -50.00       2016-04-30  REDESIGNATION TO GENERAL       X   \n",
       "\n",
       "                    memo_text form_tp  file_num         tran_id election_tp  \n",
       "19   REDESIGNATION TO GENERAL   SA17A   1077664  SA17A.1826482B       P2016  \n",
       "23   REDESIGNATION TO GENERAL   SA17A   1077664  SA17A.1826483B       P2016  \n",
       "81   REDESIGNATION TO GENERAL   SA17A   1077664   SA17A.1827494       P2016  \n",
       "190  REDESIGNATION TO GENERAL   SA17A   1077664  SA17A.1639830B       P2016  \n",
       "213  REDESIGNATION TO GENERAL   SA17A   1077664  SA17A.1826888B       P2016  \n",
       "220  REDESIGNATION TO GENERAL   SA17A   1077664  SA17A.1826894B       P2016  \n",
       "223  REDESIGNATION TO GENERAL   SA17A   1077664  SA17A.1826895B       P2016  \n",
       "231  REDESIGNATION TO GENERAL   SA17A   1077664  SA17A.1826886B       P2016  \n",
       "261  REDESIGNATION TO GENERAL   SA17A   1077664  SA17A.1639829B       P2016  \n",
       "307  REDESIGNATION TO GENERAL   SA17A   1077664  SA17A.1826889B       P2016  "
      ]
     },
     "execution_count": 4,
     "metadata": {},
     "output_type": "execute_result"
    }
   ],
   "source": [
    "# 1j YOUR CODE HERE\n",
    "\n",
    "contrib_neg = contrib[contrib['contb_receipt_amt'] < 0]\n",
    "\n",
    "neg_contributions = contrib_neg['contb_receipt_amt'].count()\n",
    "\n",
    "print('the total number of negative contributions are :', neg_contributions)\n",
    "\n",
    "contrib_neg[:10]"
   ]
  },
  {
   "cell_type": "markdown",
   "metadata": {},
   "source": [
    "- **1j answer here:**\n",
    "\n",
    "NOTE: The question does not specify if the scope is for P2016 only. I have analyzed the full dataset unless the questions specifically states, 2016 primary season\n",
    "\n",
    "* total number of positive values = 1113763\n",
    "\n",
    "* total number of negative values = 11896\n",
    "\n",
    "* sum of counts of negative and positive values = 1125659 (which is the total number of records)\n",
    "\n",
    "* about 1% of thse records have a -ve contb_receipt_amt value\n",
    "\n",
    "* it appears that the -ve values are driven by the fact that this is an accounting transaction where these amounnts are moved to a different account. You can see this by the 'receipt_desc' as 'REDESIGNATION TO GENERAL' or other reasons like 'REATTRIBUTION TO SPOUSE'. The full list of these account related charges are shown below\n",
    "\n",
    "'REDESIGNATION TO GENERAL', nan, '* HILLARY VICTORY FUND',\n",
    "       'REATTRIBUTION TO SPOUSE', 'CHARGED BACK',\n",
    "       'REDESIGNATION TO PRESIDENTIAL GENERAL',\n",
    "       'TRANSFER FROM RUBIO VICTORY',\n",
    "       '2016 SENATE PRIMARY DONOR REDESIGNATION TO GENERAL',\n",
    "       'REDESIGNATION FROM PRIMARY',\n",
    "       'US CITIZEN REDESIGNATION TO GENERAL',\n",
    "       'REDESIGNATION TO CRUZ FOR SENATE',\n",
    "       '* REATTRIBUTED TO JOHN CASTOR', 'NSF/RETURNED CHECK',\n",
    "       '* REATTRIBUTED TO FRANK DARABONT',\n",
    "       'REFUND TO BE ISSUED; REDESIGNATION TO GENERAL',\n",
    "       'REFUND TO BE ISSUED; CHARGED BACK',\n",
    "       'REATTRIBUTION TO SPOUSE; SEE REDESIGNATION',\n",
    "       'CHECK RETURNED BY BANK', 'OVERPAYMENT', '*BEST EFFORTS UPDATE',\n",
    "       '* REATTRIBUTED TO CHRISTINE MARSHALL',\n",
    "       '* REATTRIBUTED TO CAROL FITZMORRIS',\n",
    "       '* REATTRIBUTED TO ERIC UHRANE', '* REATTRIBUTED TO YEU-WEI YEE',\n",
    "       '* REATTRIBUTED TO NORAH STONE', '* REATTRIBUTED FROM KIM RIDDER',\n",
    "       'INSUFFICIENT FUNDS', 'REDESIGNATION TO PRIMARY',\n",
    "       'REATTRIBUTION TO SPOUSE, TERRIE SCHULTZ.',\n",
    "       '* HILLARY ACTION FUND', 'VOIDED 9/16/16', '2016 SENATE GENERAL',\n",
    "       '* REATTRIBUTION TO SPOUSE, TERRIE SCHULTZ.', 'REISSUED ON 6/21',\n",
    "       'CHARGEBACK REVERSAL', 'REATTRIBUTION TO SPOUSE, HARRY HICKS.',\n",
    "       'REATTRIBUTION/REDESIGNATION REQUESTED REDESIGNATION TO GENERAL',\n",
    "       '* REATTRIBUTED TO ELIZABETH DOYLE',\n",
    "       '* REATTRIBUTED TO PRUDENCE MOORE',\n",
    "       '* REATTRIBUTED TO AISHA LYNCH',\n",
    "       '* REATTRIBUTED TO SHEILA NEWBERRY',\n",
    "       '* REATTRIBUTED TO JESSIKA CROIZAT',\n",
    "       '* REATTRIBUTED TO JUDITH HAYNIE'], dtype=object)"
   ]
  },
  {
   "cell_type": "markdown",
   "metadata": {},
   "source": [
    "---"
   ]
  },
  {
   "cell_type": "markdown",
   "metadata": {},
   "source": [
    "**1k.** One more column to look at is the date of donation column. Are there any dates outside of the primary period (defined as 1 Jan 2014 to 7 June 2016)? Are the dates well-formatted for our analysis? (5 points)"
   ]
  },
  {
   "cell_type": "code",
   "execution_count": 5,
   "metadata": {
    "tags": []
   },
   "outputs": [
    {
     "name": "stdout",
     "output_type": "stream",
     "text": [
      "invalid records in 2016 primary onlyis :  141617\n"
     ]
    }
   ],
   "source": [
    "# 1k YOUR CODE HERE\n",
    "\n",
    "# contrib['election_tp'].unique()\n",
    "\n",
    "# 1 first filter out the non P2016 records and save contents in a new df\n",
    "\n",
    "contrib_p2016 = contrib[contrib['election_tp'] == 'P2016']\n",
    "\n",
    "# 2 select records based on the data parameters\n",
    "\n",
    "inscope_p2016 = contrib_p2016[(contrib_p2016['contb_receipt_dt'] >= '2014-01-01')  & \\\n",
    "                       (contrib_p2016['contb_receipt_dt'] <= '2016-06-07')]\n",
    "\n",
    "# 3 count of records in scope\n",
    "#len(inscope_p2016.index)\n",
    "# 668864\n",
    "p2016_valid = len(inscope_p2016.index)\n",
    "\n",
    "\n",
    "# 4 count of records out of scope (from full dataframe)\n",
    "# 1125659\n",
    "contrib_full = len(contrib.index)\n",
    "\n",
    "# 5 count of records of only the P2016 primary\n",
    "#len(contrib_p2016.index)\n",
    "# 810481\n",
    "p2016_all = len(contrib_p2016.index)\n",
    "\n",
    "# 6 calculate the invalid records\n",
    "\n",
    "print(\"invalid records in 2016 primary onlyis : \", p2016_all - p2016_valid)"
   ]
  },
  {
   "cell_type": "markdown",
   "metadata": {},
   "source": [
    "- **1k answer here:**\n",
    "* first, isolcate the records in the contrib df to only those for the primary campaign 2016. I see the file contains data from 3 cycles ['P2016', 'G2016', nan, 'P2020']. So, we need to exclude the others first. This may be contentious and this step may not be needed because the label may be misclassified, One can argue that we could start with step 2 directly. \n",
    "\n",
    "* the date of the donation is the field 'receipt_dt'\n",
    "* as you can see from above, I have taken 5 steps (admittedly this can be done in a single line, but that would be \n",
    "  hard to interpret as yet)\n",
    "* I first calculate the number of inscope rows (from the already narrowed df of contrib_p2016)\n",
    "* I then compare that with the full list of rows in the p2016 section\n",
    "* the final answer is 141617 records that are outside the date range"
   ]
  },
  {
   "cell_type": "markdown",
   "metadata": {},
   "source": [
    "---"
   ]
  },
  {
   "cell_type": "markdown",
   "metadata": {
    "deletable": false,
    "nbgrader": {
     "checksum": "bffd2778d22127102347386bfb6f5b20",
     "grade": true,
     "grade_id": "cell-4ad1da24176f0450",
     "locked": false,
     "points": 0,
     "schema_version": 1,
     "solution": true
    }
   },
   "source": [
    "**1l.** Finally, answer the initial questions in the cells below (5 points)"
   ]
  },
  {
   "cell_type": "markdown",
   "metadata": {},
   "source": [
    "---"
   ]
  },
  {
   "cell_type": "markdown",
   "metadata": {},
   "source": [
    "**1l.1** Do we have the correct # of columns and rows.\n",
    "\n",
    "- **1l.1 answer here:**\n",
    "\n",
    "Not sure what this exactly means. If by 'correct', you mean 'adequate', the answer is yes we do have the adequate data in order to answer the two questions. Having 407172 records for Bernie is a good enouigh sample size for us to work with. It also shows that Bernie got 36% of all contributions, which is pretty cool.\n",
    "\n",
    "bernie = len(contrib[contrib['cand_nm'].str.contains('Sanders, Bernard')].index)\n",
    "total = len(contrib.index)\n",
    "print(bernie/total)"
   ]
  },
  {
   "cell_type": "markdown",
   "metadata": {},
   "source": [
    "---"
   ]
  },
  {
   "cell_type": "markdown",
   "metadata": {},
   "source": [
    "**1l.2** Do the records contain data for the questions we want to answer?\n",
    "\n",
    "- **1l.2 answer here:**\n",
    "\n",
    "The two primary questions are about the most supportive zip code (5 digit) and the days of the month are people most likely to donate. However we have a problem\n",
    "\n",
    "The zipcode field is not really 5 digits -- it is more like the expanded 9 digit format. Infact, only 2% of the records are 5 digits and the rest are greater than 5. More research needs to be done for the > 5 digit data and clean it, which could be as simply as taking just the first 5 digits and ignoring the rest.\n",
    "\n",
    "------------------------ query used ------------------------\n",
    "The query I used was\n",
    "zip_greater_5 = len(contrib[contrib['contbr_zip'].str.len() > 5].index)\n",
    "zip_5 = len(contrib[contrib['contbr_zip'].str.len() == 5].index)\n",
    "\n",
    "print(zip_5/zip_greater_5)\n",
    "\n",
    "Coming to the dates, it appears that all records are of length 10, which is good. This means, we don't have records less than 10 or greater than 10. However, further research needs to be done if the order (yyyy-mm-dd) is consistent across all records\n",
    "\n",
    "------------------------ query used ------------------------\n",
    "date_string = contrib['contb_receipt_dt'].astype('str')\n",
    "date_string_10 = date_string.str.len() == 10\n",
    "date_string_10.value_counts()\n",
    "#type(date_string_10)\n",
    "#len(date_string_10)\n",
    "date_string_less_10 = date_string.str.len() < 10\n",
    "date_string_less_10.value_counts()\n",
    "date_string_greater_10 = date_string.str.len() > 10"
   ]
  },
  {
   "cell_type": "markdown",
   "metadata": {},
   "source": [
    "---"
   ]
  },
  {
   "cell_type": "markdown",
   "metadata": {},
   "source": [
    "**1l.3** What columns are important?\n",
    "\n",
    "- **1l.3 answer here:** \n",
    "\n",
    "The two questions are (1) Which zipcode (5-digit zipcode) had the highest count of contributions and the most dollar amount? and (2) What day(s) of the month do most people donate?\n",
    "\n",
    "to answer these 2 questions, the following 5 fields are most relevant\n",
    "\n",
    "--- filter first ---\n",
    "* cand_nm (filtered for only Bernie)\n",
    "* election_to (filtered for only P2016)\n",
    "\n",
    "--- key data -----\n",
    "* contr_zip\n",
    "* contb_receipt_amt\n",
    "* contb_receipt_dt\n"
   ]
  },
  {
   "cell_type": "markdown",
   "metadata": {},
   "source": [
    "---"
   ]
  },
  {
   "cell_type": "markdown",
   "metadata": {},
   "source": [
    "**1l.4** What columns can be dropped?\n",
    "\n",
    "- **1l.4 answer here:** \n",
    "\n",
    "The following columns can be dropped\n",
    "\n",
    "* cmte_id'\n",
    "* 'contbr_nm', \n",
    "* 'contbr_city',\n",
    "* 'contbr_st', \n",
    "* 'contbr_employer', \n",
    "* 'contbr_occupation',  \n",
    "* 'form_tp', \n",
    "* 'file_num', \n",
    "* 'tran_id',\n",
    "\n",
    "While not entirely relevant to the question, I would like to retain the following fields as they help clarify accounting discrepencies\n",
    "* 'receipt_desc', \n",
    "* 'memo_cd',\n",
    "* 'memo_text',"
   ]
  },
  {
   "cell_type": "markdown",
   "metadata": {},
   "source": [
    "---"
   ]
  },
  {
   "cell_type": "markdown",
   "metadata": {},
   "source": [
    "**1l.5** What are the data problems?\n",
    "\n",
    "- **1l.5 answer here:**\n",
    "\n",
    "There are several data problems, but the primary one being the following\n",
    "* -ve receipt amounts\n",
    "* duplicate records (which in cases is tired to the -ve receipt amounts as they are accounting transfers / corrections)\n",
    "\n",
    "Some minor data issues include\n",
    "* receipt_desc is NaN\n",
    "* memo_cd contains irrelevant / incorrect / Nan\n",
    "\n",
    "On a side note, I was concerned if the candidate name was missplet in the data, but no. I valided this with the query\n",
    "\n",
    "* bernie_all = contrib[contrib['cand_nm'].str.contains('Bern')]\n",
    "* bernie_all['cand_nm'].unique()"
   ]
  },
  {
   "cell_type": "markdown",
   "metadata": {},
   "source": [
    "---"
   ]
  },
  {
   "cell_type": "markdown",
   "metadata": {},
   "source": [
    "**1l.6** List any assumptions so far:\n",
    "\n",
    "- **1l.6 answer here:**\n",
    "\n",
    "* All the contribtions are from either american citizens or those resident here. Foreign contributions are excluded \n",
    "* All contributions were done legally and following campaign contribution guidelines\n",
    "* Individual contributions are only done up to the max allowed ($1000 per candidate per election)\n",
    "* Contributions are limited to only those for a candidate. Contribution to Super-PACs or political parties is excluded.\n",
    "* Fields like receipt_desc have many null values. This is concerning but assumed to be benign\n",
    "* Memo_cd in particular has many null or irrelevant values. This is also assumed to be benigh\n",
    "* All contributions are in US dollars\n",
    "* Tran_id has multiple formats, which perhaps means it originated from multiple places. Assumption here that this value is benign and does not influence the outcome of the analysis"
   ]
  },
  {
   "cell_type": "markdown",
   "metadata": {
    "deletable": false,
    "nbgrader": {
     "checksum": "14c2855e3d59f0da6b1afd5cf0da2da8",
     "grade": true,
     "grade_id": "cell-fd840cdd19d2bd2a",
     "locked": false,
     "points": 0,
     "schema_version": 1,
     "solution": true
    }
   },
   "source": [
    "***\n",
    "## 2. Data filtering and data quality fixes (30 points)\n",
    "\n",
    "Now that we have a basic understanding of the data, let's filter out the records we don't need and fix the data."
   ]
  },
  {
   "cell_type": "markdown",
   "metadata": {},
   "source": [
    "---"
   ]
  },
  {
   "cell_type": "markdown",
   "metadata": {},
   "source": [
    "**2a.** From the dataset filter out (remove) any election_tp not in the primary election. Print/show the shape of the dataframe after the filtering is complete. (5 points)"
   ]
  },
  {
   "cell_type": "code",
   "execution_count": 13,
   "metadata": {
    "deletable": false,
    "nbgrader": {
     "checksum": "43ce3d15cee7ab73f53fd8f054c9826c",
     "grade": true,
     "grade_id": "cell-dce8d3107c1463ca",
     "locked": false,
     "points": 0,
     "schema_version": 1,
     "solution": true
    }
   },
   "outputs": [
    {
     "name": "stdout",
     "output_type": "stream",
     "text": [
      "Contribution shape after filtering only for 2016 CA primary is : (810481, 18)\n"
     ]
    }
   ],
   "source": [
    "# 2a YOUR CODE HERE\n",
    "\n",
    "contrib_p2016 = contrib[contrib['election_tp'] == 'P2016']\n",
    "\n",
    "contrib_shape = contrib_p2016.shape\n",
    "print('Contribution shape after filtering only for 2016 CA primary is :', contrib_shape)\n",
    "#print(contrib_p2016.shape())\n",
    "#contrib_p2016"
   ]
  },
  {
   "cell_type": "markdown",
   "metadata": {},
   "source": [
    "---"
   ]
  },
  {
   "cell_type": "markdown",
   "metadata": {
    "deletable": false,
    "nbgrader": {
     "checksum": "a5f4e6df0f32e24c492a9589ec87fef6",
     "grade": true,
     "grade_id": "cell-9e3f68b21dac8e10",
     "locked": false,
     "points": 0,
     "schema_version": 1,
     "solution": true
    }
   },
   "source": [
    "**2b.** From the dataset filter out (remove) any candidate that is not Bernie Sanders. Print/show the shape of the dataframe after the filtering is complete. (5 points)"
   ]
  },
  {
   "cell_type": "code",
   "execution_count": 27,
   "metadata": {
    "deletable": false,
    "nbgrader": {
     "checksum": "4f1a9e7ee0ded9d2b5af5777cb85e505",
     "grade": true,
     "grade_id": "cell-c14fbed9d72d54e3",
     "locked": false,
     "points": 0,
     "schema_version": 1,
     "solution": true
    },
    "tags": []
   },
   "outputs": [
    {
     "name": "stdout",
     "output_type": "stream",
     "text": [
      "Shape of Bernie-only data for 2016 CA Primaries is  (407171, 18)\n"
     ]
    }
   ],
   "source": [
    "# 2b YOUR CODE HERE\n",
    "\n",
    "## assumption -- I am assuming 2a as sequential to 2b adn beyond. for example, this means that the analysis\n",
    "## is limited to 2016 primary elections only\n",
    "\n",
    "\n",
    "# start by confirming all of bernie records\n",
    "#bernie_all = contrib[contrib['cand_nm'].str.contains('Bern')]\n",
    "\n",
    "bernie_2016p = contrib_p2016[contrib_p2016['cand_nm'].str.contains('Bern')]\n",
    "\n",
    "# I chose a .contains('Bern') in order to check if there are records with the name misspelt\n",
    "#bernie_2016p['cand_nm'].unique()\n",
    "# the outcome from this confirms there is just one candidate record for 'Sanders, Bernard'\n",
    "#bernie\n",
    "\n",
    "# print shape of bernie only records for P2016\n",
    "\n",
    "print('Shape of Bernie-only data for 2016 CA Primaries is ', bernie_2016p.shape)"
   ]
  },
  {
   "cell_type": "markdown",
   "metadata": {},
   "source": [
    "**2c.** The `contbr_zip` column is not formatted well for our analysis. Make a new zipcode column that is the five-digit zipcodes. Filter out any records outside of California based on the zipcode. Print/show the shape of the dataframe after the filtering is complete. (10 points).\n",
    "\n",
    "- You will have to research what the valid 5-digit zipcodes for California are!"
   ]
  },
  {
   "cell_type": "markdown",
   "metadata": {},
   "source": [
    "---"
   ]
  },
  {
   "cell_type": "code",
   "execution_count": 31,
   "metadata": {
    "tags": []
   },
   "outputs": [
    {
     "name": "stderr",
     "output_type": "stream",
     "text": [
      "/var/folders/_5/mw87wr4s5p902pvj5xm4sqnw0000gn/T/ipykernel_18637/1091508623.py:11: SettingWithCopyWarning: \n",
      "A value is trying to be set on a copy of a slice from a DataFrame.\n",
      "Try using .loc[row_indexer,col_indexer] = value instead\n",
      "\n",
      "See the caveats in the documentation: https://pandas.pydata.org/pandas-docs/stable/user_guide/indexing.html#returning-a-view-versus-a-copy\n",
      "  bernie_2016p['temp']  = bernie_2016p['contbr_zip'].astype(str).str[:5]\n",
      "/var/folders/_5/mw87wr4s5p902pvj5xm4sqnw0000gn/T/ipykernel_18637/1091508623.py:17: SettingWithCopyWarning: \n",
      "A value is trying to be set on a copy of a slice from a DataFrame.\n",
      "Try using .loc[row_indexer,col_indexer] = value instead\n",
      "\n",
      "See the caveats in the documentation: https://pandas.pydata.org/pandas-docs/stable/user_guide/indexing.html#returning-a-view-versus-a-copy\n",
      "  bernie_2016p['zipcode_5'] = pd.to_numeric(bernie_2016p['temp'], errors='coerce').fillna(0).astype(np.int64)\n"
     ]
    },
    {
     "name": "stdout",
     "output_type": "stream",
     "text": [
      "The shape of the data is  (407085, 20)\n"
     ]
    }
   ],
   "source": [
    "# 2c YOUR CODE HERE\n",
    "\n",
    "#I have followed a multi-step process to (1) extract the first 5 numbers in the zip code and then to filter them \n",
    "# from a list of california zip codes\n",
    "\n",
    "#1 import zipcodes library\n",
    "import zipcodes\n",
    "\n",
    "#2 extract first 5 characters from the zip code field. Store as 'temp' field\n",
    "\n",
    "bernie_2016p['temp']  = bernie_2016p['contbr_zip'].astype(str).str[:5]\n",
    "#bernie_2016p_temp = bernie_2016p['contbr_zip'].astype(str).str[:5]\n",
    "#bernie_2016p_temp\n",
    "\n",
    "#3 convert the new field (temp) to an integer\n",
    "\n",
    "bernie_2016p['zipcode_5'] = pd.to_numeric(bernie_2016p['temp'], errors='coerce').fillna(0).astype(np.int64)\n",
    "#bernie_2016p\n",
    "\n",
    "#4 get a list of all zipodes in California and store as a list 'res'\n",
    "\n",
    "filtered_zips = zipcodes.filter_by(state=\"CA\")\n",
    "#filtered_zips\n",
    "\n",
    "res = [sub['zip_code'] for sub in filtered_zips]\n",
    "\n",
    "#5 convert res (string) to res_int(integers) \n",
    "res_int = [eval(i) for i in res]\n",
    "#res_int\n",
    "\n",
    "#6 filter the dataframe for only california zip codes\n",
    "\n",
    "#bernie_2016p[bernie_2016p['zipcode_5'].isin(res_int)]\n",
    "#bernie_2016p_cazip = bernie_2016p[bernie_2016p['zipcode_5'].isin(res_int)]\n",
    "\n",
    "\n",
    "#print('The shape of the new dataframe is ', bernie_2016p_cazip.shape)\n",
    "print(\"The shape of the data is \", bernie_2016p[bernie_2016p['zipcode_5'].isin(res_int)].shape)"
   ]
  },
  {
   "cell_type": "markdown",
   "metadata": {},
   "source": [
    "---"
   ]
  },
  {
   "cell_type": "markdown",
   "metadata": {},
   "source": [
    "**2d.** The receipt amount column has negative donations. After talking with your team, a decision was made that the best course of action is to remove these negative values so that the donation count and amount is more accurate. Print/show the shape of the dataframe after the filtering is complete. (5 points)"
   ]
  },
  {
   "cell_type": "code",
   "execution_count": 33,
   "metadata": {
    "tags": []
   },
   "outputs": [
    {
     "data": {
      "text/plain": [
       "(403998, 20)"
      ]
     },
     "execution_count": 33,
     "metadata": {},
     "output_type": "execute_result"
    }
   ],
   "source": [
    "# 2d YOUR CODE HERE\n",
    "\n",
    "#1 start by creating a new dataframe (I personally don't like to pollute existing dataframe or overwrite them)\n",
    "###### I understand this isn't the smartest way to code, but I have my preferences for ease of recollection adn reuse\n",
    "bernie_2016p_CA = bernie_2016p[bernie_2016p['zipcode_5'].isin(res_int)]\n",
    "bernie_2016p_CA\n",
    "\n",
    "#2 identify the records with a negative contribution amount\n",
    "\n",
    "bernie_2016p_CA[bernie_2016p_CA['contb_receipt_amt']<0]\n",
    "\n",
    "#3 Drop these records from the bernie_2016p_CA df. I have chosen to save this in a new dataframe with just +ve values\n",
    "\n",
    "bernie_2016p_CA_positive = bernie_2016p_CA.drop(bernie_2016p_CA[bernie_2016p_CA['contb_receipt_amt']<0].index)\n",
    "#bernie_2016p_CA_positive.shape\n",
    "\n",
    "#4 you will notice 20 columns (instead). Drop the 2 columns\n",
    "#bernie_2016p_CA_positive = bernie_2016p_CA_positive.drop('temp', axis = 1)\n",
    "#bernie_2016p_CA_positive = bernie_2016p_CA_positive.drop('zipcode_5', axis = 1)\n",
    "\n",
    "#5 get shape of the data\n",
    "\n",
    "bernie_2016p_CA_positive.shape\n"
   ]
  },
  {
   "cell_type": "markdown",
   "metadata": {},
   "source": [
    "---"
   ]
  },
  {
   "cell_type": "markdown",
   "metadata": {},
   "source": [
    "**2e.** From the dataset drop any columns that won't be used in the analysis. Print/show the shape of the dataframe after the dropping is complete. What columns did you drop and why? (5 points)"
   ]
  },
  {
   "cell_type": "code",
   "execution_count": 17,
   "metadata": {
    "tags": []
   },
   "outputs": [
    {
     "name": "stdout",
     "output_type": "stream",
     "text": [
      "The final dataframe for analysis has 3 columns only  (403998, 3)\n"
     ]
    }
   ],
   "source": [
    "# 2e YOUR CODE HERE\n",
    "# bernie_2016p_CA_positive.columns\n",
    "\n",
    "bernie_2016p_CA_positive.drop(['cmte_id', 'contbr_zip', 'cand_nm', 'cand_id', 'contbr_nm', 'contbr_city','contbr_st',\\\n",
    "                             'contbr_employer', 'contbr_occupation','receipt_desc', 'memo_cd',\\\n",
    "                             'memo_text', 'form_tp', 'file_num', 'tran_id', 'election_tp', 'temp'], \\\n",
    "                              axis = 1, inplace = True)\n",
    "print('The final dataframe for analysis has 3 columns only ', bernie_2016p_CA_positive.shape)"
   ]
  },
  {
   "cell_type": "markdown",
   "metadata": {},
   "source": [
    "- **2e answer here:**\n",
    "\n",
    "I have retained only 3 columns (contb_receipt_amt, contb_receipt_dt,zipcode_5 ) and dropped the rest.\n",
    "\n",
    "I believe these are the only columns needed to answer the 2 questions on hand"
   ]
  },
  {
   "cell_type": "markdown",
   "metadata": {},
   "source": [
    "---"
   ]
  },
  {
   "cell_type": "markdown",
   "metadata": {},
   "source": [
    "**2f.** List any assumptions that you made up to this point:"
   ]
  },
  {
   "cell_type": "markdown",
   "metadata": {},
   "source": [
    "- **2f answer here:**\n",
    "\n",
    "* I have dropped several fields that could be interested from an analytical point of view, but not relevant for the question on hand. These fields are: 'cmte_id', 'contbr_zip', 'cand_nm', 'cand_id', 'contbr_nm', 'contbr_city','contbr_st','contbr_employer', 'contbr_occupation','receipt_desc', 'memo_cd', 'memo_text', 'form_tp', 'file_num', 'tran_id', 'election_tp', 'temp'\n",
    "* so the primary assumption is regarding the scope of the analysis which is quite limited. \n",
    "* I got the list of california zip codes from an external library and believe this to be accurate\n",
    "* all contribution amounts are in us dollars"
   ]
  },
  {
   "cell_type": "markdown",
   "metadata": {
    "deletable": false,
    "nbgrader": {
     "checksum": "6dc1481a003cdd752c5edfa9ac400879",
     "grade": true,
     "grade_id": "cell-f7a01ce9c5b10ac7",
     "locked": false,
     "points": 0,
     "schema_version": 1,
     "solution": true
    }
   },
   "source": [
    "***\n",
    "## 3. Answering the questions (20 points)\n",
    "\n",
    "Now that the data is cleaned and filterd - let's answer the two questions from your boss!"
   ]
  },
  {
   "cell_type": "markdown",
   "metadata": {
    "deletable": false,
    "nbgrader": {
     "checksum": "010f5de5f6af4c7f830d1cf7a81bbc0f",
     "grade": true,
     "grade_id": "cell-5617179133b06d0c",
     "locked": false,
     "points": 0,
     "schema_version": 1,
     "solution": true
    }
   },
   "source": [
    "**3a.** Which zipcode had the highest count of contributions and the most dollar amount? (10 points)"
   ]
  },
  {
   "cell_type": "code",
   "execution_count": 35,
   "metadata": {},
   "outputs": [
    {
     "name": "stdout",
     "output_type": "stream",
     "text": [
      "the zip code with the highest count of contributions is : 94110\n",
      "the max sum collected is : contb_receipt_amt  sum   294,061.13\n",
      "dtype: float64\n",
      "zipcode for the max sum : contb_receipt_amt  sum    94110\n",
      "dtype: int64\n"
     ]
    }
   ],
   "source": [
    "# 3a YOUR CODE HERE\n",
    "\n",
    "################## PART 1: most prolific zipcode ##################\n",
    "items_counts = bernie_2016p_CA_positive['zipcode_5'].value_counts(sort=False)\n",
    "top = items_counts.loc[[items_counts.idxmax()]]\n",
    "# value, count = top.index[0], top.iat[0]\n",
    "# print(value, count)\n",
    "\n",
    "print('the zip code with the highest count of contributions is :', top.index[0])\n",
    "\n",
    "################## PART 2: max sum of contributions  ##################\n",
    "\n",
    "max_sum = bernie_2016p_CA_positive.groupby('zipcode_5').agg({'contb_receipt_amt': ['sum']}).max()\n",
    "print(\"the max sum collected is :\", max_sum)\n",
    "\n",
    "# max contribution amount zipcode\n",
    "max_sum_zip = bernie_2016p_CA_positive.groupby('zipcode_5').agg({'contb_receipt_amt': ['sum']}).idxmax()\n",
    "print(\"zipcode for the max sum :\", max_sum_zip)"
   ]
  },
  {
   "cell_type": "markdown",
   "metadata": {},
   "source": [
    "---"
   ]
  },
  {
   "cell_type": "markdown",
   "metadata": {},
   "source": [
    "- **3a answer here:** \n",
    "\n",
    "I have two separate parts to the answer\n",
    "* Part 1:  most prolific zipcode (ie with the highest count of contributions)\n",
    "* the zipcode is 94110 (which ironically is the zipcode of where I lived till recently in San Francisco)\n",
    "\n",
    "\n",
    "* Part 2: max sum of contributions  (this is the zipcode with the highest sum of contributions)\n",
    "* the max sum collected is 294,061.13\n",
    "* the zipcode where the max sum of contributions is collected is 94110\n"
   ]
  },
  {
   "cell_type": "markdown",
   "metadata": {},
   "source": [
    "---"
   ]
  },
  {
   "cell_type": "markdown",
   "metadata": {},
   "source": [
    "**3b.** What day(s) of the month do most people donate? (10 points)"
   ]
  },
  {
   "cell_type": "code",
   "execution_count": 19,
   "metadata": {},
   "outputs": [
    {
     "name": "stdout",
     "output_type": "stream",
     "text": [
      "the max sum is collected on date : contb_receipt_amt  sum   2016-02-29\n",
      "dtype: datetime64[ns]\n",
      "the max sum collected is : contb_receipt_amt  sum   460,480.99\n",
      "dtype: float64\n",
      "the most prolific date is : 2016-02-29 00:00:00\n",
      "based on the count of contributions, the most likely dates for seeking contributions is : 2016-02-29    8458\n",
      "2016-03-31    8436\n",
      "2016-05-31    7084\n",
      "2016-04-30    6689\n",
      "2016-03-09    6494\n",
      "2016-03-14    6396\n",
      "2016-03-30    6389\n",
      "2016-04-08    5611\n",
      "2016-03-16    4898\n",
      "2016-04-06    4822\n",
      "Name: contb_receipt_dt, dtype: int64\n"
     ]
    }
   ],
   "source": [
    "# 3b YOUR CODE HERE\n",
    "\n",
    "############## Based on contribution amount ############################\n",
    "\n",
    "max_sum_date = bernie_2016p_CA_positive.groupby('contb_receipt_dt').agg({'contb_receipt_amt': ['sum']}).idxmax()\n",
    "print(\"the max sum is collected on date :\", max_sum_date)\n",
    "\n",
    "max_sum_date_value = bernie_2016p_CA_positive.groupby('contb_receipt_dt').agg({'contb_receipt_amt': ['sum']}).max()\n",
    "print(\"the max sum collected is :\", max_sum_date_value)\n",
    "\n",
    "############## Based on count of contributions ############################\n",
    "#----------------------------------------------------------------------------------------\n",
    "date_counts = bernie_2016p_CA_positive['contb_receipt_dt'].value_counts(sort=False)\n",
    "top_date = date_counts.loc[[date_counts.idxmax()]]\n",
    "# value, count = top.index[0], top.iat[0]\n",
    "# print(value, count)\n",
    "\n",
    "print('the most prolific date is :', top_date.index[0])\n",
    "#date_counts\n",
    "#.sort(ascending=False)\n",
    "type(date_counts)\n",
    "\n",
    "top_10_dates = date_counts.sort_values(ascending = False).head(10)\n",
    "print('based on the count of contributions, the most likely dates for seeking contributions is :',top_10_dates)"
   ]
  },
  {
   "cell_type": "markdown",
   "metadata": {},
   "source": [
    "- **3b answer here:** \n",
    "\n",
    "The question is a bit ambiguous and I have approached it in two ways\n",
    "\n",
    "1. based on the sum of contributions; ie date with the highest total sum of contributions\n",
    "-------- for this metric, the date with the highest sum of contributions is 2016-02-29 wiht a sum of 460,480.99\n",
    "\n",
    "2. based on the count/number of occurances of contributions\n",
    "-------- for this metric, I have listed the top 10 dates with a descending list of the count of contributers \n",
    "* based on this the most likely dates are towards the end of the month. As can be seen from the data, the most likely date is actually the 31st of the month followed by the 30th of the month. \n",
    "* so, it is fair to say that people are more likely to contribute towards the end of the month\n"
   ]
  },
  {
   "cell_type": "markdown",
   "metadata": {},
   "source": [
    "---"
   ]
  },
  {
   "cell_type": "markdown",
   "metadata": {},
   "source": [
    "## If you have feedback for this homework, please submit it using the link below:\n",
    "\n",
    "http://goo.gl/forms/74yCiQTf6k"
   ]
  }
 ],
 "metadata": {
  "kernelspec": {
   "display_name": "Python 3 (ipykernel)",
   "language": "python",
   "name": "python3"
  },
  "language_info": {
   "codemirror_mode": {
    "name": "ipython",
    "version": 3
   },
   "file_extension": ".py",
   "mimetype": "text/x-python",
   "name": "python",
   "nbconvert_exporter": "python",
   "pygments_lexer": "ipython3",
   "version": "3.9.12"
  }
 },
 "nbformat": 4,
 "nbformat_minor": 4
}
