{
 "cells": [
  {
   "cell_type": "markdown",
   "metadata": {},
   "source": [
    "## Week 4 Assignment - W200 Introduction to Data Science Programming, UC Berkeley MIDS"
   ]
  },
  {
   "cell_type": "markdown",
   "metadata": {},
   "source": [
    "### 4-4. Interpreting Instructions for an Algorithm (20 points)\n",
    "\n",
    "Implement this digit-by-digit algorithm to find the square root of x to a precision of epsilon.\n",
    "  1. Begin with a step size of 1 and guess of zero.\n",
    "  2. Increase the guess by the step size as long as doing so would not cause the guess^2 to exceed x. Repeat this step (step 2) until the next repetition will cause guess^2 to exceed x.\n",
    "  3. If the step size is greater than or equal to epsilon, then divide the step size by 10 and go back to step 2.\n",
    "\n",
    "Notice that once a digit has been found, it is not changed again. Try using your code to find the square root of 10 to an epsilon of 8 decimal places. This algorithm should not take over 10 seconds to run (if it does you have coded something incorrectly!). \n",
    "\n",
    "If you are getting an answer that is off by epsilon (for example 3.16227767 instead of 3.16227766), this might be caused by the floating point error. You can read more about that here: https://docs.python.org/3/tutorial/floatingpoint.html. To fix this problem, you can use the Decimal library here: https://docs.python.org/3/library/decimal.html#module-decimal\n",
    "\n",
    "Hint: It might be helpful to write out by hand an easier example like '4' to understand how the algorithm works.\n",
    "\n",
    "Example output:\n",
    "\n",
    "```\n",
    "Enter a number to find the square root: 10\n",
    "The square root of 10 is: 3.16227766\n",
    "```"
   ]
  },
  {
   "cell_type": "code",
   "execution_count": null,
   "metadata": {},
   "outputs": [],
   "source": [
    "# Q4-4 Grading Tag:\n",
    "\n",
    "num = float(input(\"Enter a number to find the square root: \"))\n",
    "\n",
    "epsilon = 0.00000001"
   ]
  },
  {
   "cell_type": "code",
   "execution_count": 3,
   "metadata": {},
   "outputs": [
    {
     "name": "stdout",
     "output_type": "stream",
     "text": [
      "Total guesses were 49990\n",
      "4.999000000001688 is close to the square root of 25\n"
     ]
    }
   ],
   "source": [
    "#x = int(input('Enter a number : '))\n",
    "x = 25\n",
    "guess = 0.0 # The guess answer\n",
    "epsilon = 0.01 # Used for accuracy. See the condition in While Loop\n",
    "step = epsilon**2 #used to increment our guess 'ans'\n",
    "total_guesses = 0\n",
    "# We will understand this condition during code analysis\n",
    "while (abs(guess**2 - x)) >= epsilon:\n",
    "    guess += step\n",
    "    total_guesses += 1\n",
    "\n",
    "print('Total guesses were ' + str(total_guesses))\n",
    "if abs(guess**2-x) >= epsilon:\n",
    "    print('Failed on square root of ' + str(x))\n",
    "else:\n",
    "    print(str(guess) + ' is close to the square root of ' + str(x))"
   ]
  },
  {
   "cell_type": "code",
   "execution_count": 1,
   "metadata": {},
   "outputs": [
    {
     "name": "stdout",
     "output_type": "stream",
     "text": [
      "numGuesses = 49990\n",
      "4.999000000001688 is close to square root of 25\n"
     ]
    }
   ],
   "source": [
    "x = 25\n",
    "epsilon = 0.01\n",
    "step = epsilon**2\n",
    "numGuesses = 0\n",
    "ans = 0.0\n",
    "while abs(ans**2 - x) >= epsilon and ans <= x:\n",
    "    ans += step\n",
    "    numGuesses += 1\n",
    "print('numGuesses =', numGuesses)\n",
    "if abs(ans**2 - x) >= epsilon:\n",
    "    print('Failed on square root of', x)\n",
    "else:\n",
    "    print(ans, 'is close to square root of', x)"
   ]
  },
  {
   "cell_type": "markdown",
   "metadata": {},
   "source": [
    "### my attempts"
   ]
  },
  {
   "cell_type": "code",
   "execution_count": null,
   "metadata": {},
   "outputs": [
    {
     "name": "stdin",
     "output_type": "stream",
     "text": [
      "Enter a number :  5\n"
     ]
    }
   ],
   "source": [
    "x = int(input('Enter a number : '))\n",
    "guess = 0.0 # The guess answer\n",
    "epsilon = 0.01 # Used for accuracy. See the condition in While Loop\n",
    "step = 1.0 #epsilon**2 #used to increment our guess 'ans'\n",
    "total_guesses = 0\n",
    "# We will understand this condition during code analysis\n",
    "while (abs(guess**2 - x)) >= epsilon:\n",
    "    guess += step\n",
    "    total_guesses += 1\n",
    "\n",
    "print('Total guesses were ' + str(total_guesses))\n",
    "if abs(guess**2-x) >= epsilon:\n",
    "    print('Failed on square root of ' + str(x))\n",
    "else:\n",
    "    print(str(guess) + ' is close to the square root of ' + str(x))"
   ]
  },
  {
   "cell_type": "markdown",
   "metadata": {},
   "source": [
    "### Alternate approach"
   ]
  },
  {
   "cell_type": "code",
   "execution_count": 4,
   "metadata": {},
   "outputs": [
    {
     "name": "stdout",
     "output_type": "stream",
     "text": [
      "729.1159029948\n"
     ]
    }
   ],
   "source": [
    "def approx(num, root, n_dec = 10):\n",
    "    nat_num = 1\n",
    "    while nat_num**root <= num:\n",
    "        result = nat_num\n",
    "        nat_num += 1\n",
    "    for d in range(1, n_dec+1):\n",
    "        increment = 10**-d\n",
    "        count = 1\n",
    "        before = result\n",
    "        while (before + increment*count)**root <= num:\n",
    "            result = before + increment*count\n",
    "            count += 1\n",
    "    return round(result, n_dec)\n",
    "print(approx(531610, 2))"
   ]
  },
  {
   "cell_type": "markdown",
   "metadata": {},
   "source": [
    "---"
   ]
  },
  {
   "cell_type": "markdown",
   "metadata": {},
   "source": [
    "## Integer portion"
   ]
  },
  {
   "cell_type": "code",
   "execution_count": 95,
   "metadata": {
    "collapsed": true,
    "jupyter": {
     "outputs_hidden": true,
     "source_hidden": true
    },
    "tags": []
   },
   "outputs": [
    {
     "name": "stdout",
     "output_type": "stream",
     "text": [
      "1 is lower\n",
      "2 is lower\n",
      "3 is lower\n",
      "3 this is the interger number to exit\n"
     ]
    },
    {
     "ename": "TypeError",
     "evalue": "'float' object cannot be interpreted as an integer",
     "output_type": "error",
     "traceback": [
      "\u001b[0;31m---------------------------------------------------------------------------\u001b[0m",
      "\u001b[0;31mTypeError\u001b[0m                                 Traceback (most recent call last)",
      "\u001b[0;32m/var/folders/hb/f2vn4dyn2_n5b7z6g7g6zwx00000gn/T/ipykernel_32636/2747481285.py\u001b[0m in \u001b[0;36m<module>\u001b[0;34m\u001b[0m\n\u001b[1;32m     17\u001b[0m \u001b[0;31m#### decimals section #####\u001b[0m\u001b[0;34m\u001b[0m\u001b[0;34m\u001b[0m\u001b[0;34m\u001b[0m\u001b[0m\n\u001b[1;32m     18\u001b[0m \u001b[0;34m\u001b[0m\u001b[0m\n\u001b[0;32m---> 19\u001b[0;31m \u001b[0;32mfor\u001b[0m \u001b[0mdec\u001b[0m \u001b[0;32min\u001b[0m \u001b[0mrange\u001b[0m\u001b[0;34m(\u001b[0m\u001b[0;36m0.1\u001b[0m\u001b[0;34m,\u001b[0m \u001b[0;36m0.9\u001b[0m\u001b[0;34m)\u001b[0m\u001b[0;34m:\u001b[0m\u001b[0;34m\u001b[0m\u001b[0;34m\u001b[0m\u001b[0m\n\u001b[0m\u001b[1;32m     20\u001b[0m     \u001b[0;32mif\u001b[0m \u001b[0;34m(\u001b[0m\u001b[0ma\u001b[0m \u001b[0;34m+\u001b[0m \u001b[0mdec\u001b[0m\u001b[0;34m**\u001b[0m\u001b[0;36m2\u001b[0m\u001b[0;34m)\u001b[0m \u001b[0;34m>\u001b[0m \u001b[0mnum\u001b[0m\u001b[0;34m:\u001b[0m\u001b[0;34m\u001b[0m\u001b[0;34m\u001b[0m\u001b[0m\n\u001b[1;32m     21\u001b[0m         \u001b[0;32mbreak\u001b[0m\u001b[0;34m\u001b[0m\u001b[0;34m\u001b[0m\u001b[0m\n",
      "\u001b[0;31mTypeError\u001b[0m: 'float' object cannot be interpreted as an integer"
     ]
    }
   ],
   "source": [
    "num = 10\n",
    "a = 0.0\n",
    "dec = 0.0\n",
    "\n",
    "### integer section ####\n",
    "for int in range(1,num):\n",
    "#    print(int)\n",
    "    \n",
    "    if int**2 > num:\n",
    "        break\n",
    "        #print(int, 'is greater')\n",
    "    else:\n",
    "        a = int\n",
    "        print(int, 'is lower')\n",
    "print(a, 'this is the interger number to exit')\n",
    "\n",
    "#### decimals section #####\n",
    "\n",
    "for dec in range(0.1, 0.9):\n",
    "    if (a + dec**2) > num:\n",
    "        break\n",
    "    else:\n",
    "        a = a + dec**2\n",
    "\n",
    "print(a, 'this is the interger & decimal number to exit')    \n",
    "\n"
   ]
  },
  {
   "cell_type": "code",
   "execution_count": 101,
   "metadata": {},
   "outputs": [
    {
     "name": "stdout",
     "output_type": "stream",
     "text": [
      "int 1\n",
      "1 is lower\n",
      "int 2\n",
      "2 is lower\n",
      "int 3\n",
      "3 is lower\n",
      "int 4\n",
      "4 is lower\n",
      "4 this is the interger number to exit\n"
     ]
    }
   ],
   "source": [
    "num = 25\n",
    "a = 0.0\n",
    "dec = 0.0\n",
    "\n",
    "### integer section ####\n",
    "for int in range(1,num):\n",
    "#    print(int)\n",
    "    \n",
    "    # if int**2 > num:\n",
    "    #     break\n",
    "    #     #print(int, 'is greater')\n",
    "    # else:\n",
    "    #     print('int', int)\n",
    "    #     a = int\n",
    "    #     print(int, 'is lower')\n",
    "\n",
    "    if int**2 < num:\n",
    "        print('int', int)\n",
    "        a = int\n",
    "        print(int, 'is lower')\n",
    "        \n",
    "        #print(int, 'is greater')\n",
    "    else:\n",
    "        break\n",
    "        \n",
    "print(a, 'this is the interger number to exit')"
   ]
  },
  {
   "cell_type": "markdown",
   "metadata": {},
   "source": [
    "## My Code: Getting first decimal place"
   ]
  },
  {
   "cell_type": "code",
   "execution_count": 39,
   "metadata": {},
   "outputs": [
    {
     "name": "stdout",
     "output_type": "stream",
     "text": [
      "starting value of a is 9.0\n",
      "the new value of a is 9.1\n",
      "starting value of a is 9.1\n",
      "the new value of a is 9.2\n",
      "starting value of a is 9.2\n",
      "the new value of a is 9.3\n",
      "starting value of a is 9.3\n",
      "the new value of a is 9.4\n",
      "starting value of a is 9.4\n",
      "the new value of a is 9.5\n",
      "starting value of a is 9.5\n",
      "the new value of a is 9.6\n",
      "starting value of a is 9.6\n",
      "the new value of a is 9.7\n",
      "starting value of a is 9.7\n",
      "the new value of a is 9.8\n",
      "starting value of a is 9.8\n",
      "the new value of a is 9.9\n",
      "final exit value of a is  9.9\n"
     ]
    }
   ],
   "source": [
    "a = 9\n",
    "b = (a + 0.0)\n",
    "dec = 0.0\n",
    "#dec10 = dec/10\n",
    "dec10 = 0.0\n",
    "divisor = 10\n",
    "\n",
    "for dec in range(1, (a+1)):\n",
    "    print('starting value of a is', b) #(a+dec10\n",
    "#    print('this is the value of dec returned', dec)\n",
    "    #    print(dec/10)\n",
    "    dec = dec/divisor\n",
    "    #    dec10 = dec/divisor\n",
    "#    print('the value of dec10 is' , dec10)\n",
    "    b = a + dec\n",
    "    #    b = a + dec10\n",
    "#    print('the new value of a is', (a+dec10))\n",
    "    print('the new value of a is', b)\n",
    "    \n",
    "    # if (a + dec**2) > num:\n",
    "    #     break\n",
    "    # else:\n",
    "    #     a = a + dec**2\n",
    "print('final exit value of a is ', b)"
   ]
  },
  {
   "cell_type": "code",
   "execution_count": 47,
   "metadata": {},
   "outputs": [
    {
     "name": "stdout",
     "output_type": "stream",
     "text": [
      "final exit value of a is  9.9\n"
     ]
    }
   ],
   "source": [
    "a = 9\n",
    "dec = 0.0\n",
    "divisor = 10\n",
    "\n",
    "for dec in range(1, 10):\n",
    "    dec = dec/divisor\n",
    "    b = a + dec\n",
    "print('final exit value of a is ', b)"
   ]
  },
  {
   "cell_type": "markdown",
   "metadata": {},
   "source": [
    "# Getting code working for int + 1 decimal place"
   ]
  },
  {
   "cell_type": "code",
   "execution_count": 113,
   "metadata": {},
   "outputs": [
    {
     "name": "stdout",
     "output_type": "stream",
     "text": [
      "int 1\n",
      "1 is lower\n",
      "int 2\n",
      "2 is lower\n",
      "int 3\n",
      "3 is lower\n",
      "int 4\n",
      "4 is lower\n",
      "entry value of dec is 1\n",
      "entry value of dec is 2\n",
      "entry value of dec is 3\n",
      "entry value of dec is 4\n",
      "entry value of dec is 5\n",
      "entry value of dec is 6\n",
      "entry value of dec is 7\n",
      "entry value of dec is 8\n",
      "entry value of dec is 9\n",
      "final square root is 4.9\n"
     ]
    }
   ],
   "source": [
    "num = 25\n",
    "a = 0.0\n",
    "dec = 0.0\n",
    "\n",
    "### integer section ####\n",
    "for int in range(1,num):\n",
    "    if int**2 < num:\n",
    "        print('int', int)\n",
    "        a = int\n",
    "        print(int, 'is lower')\n",
    "    else:\n",
    "        break\n",
    "#print(a, 'this is the interger number to exit')\n",
    "\n",
    "### decimal section\n",
    "\n",
    "divisor = 10\n",
    "\n",
    "for dec in range(1, 10):\n",
    "#    dec = dec/divisor\n",
    "    print('entry value of dec is', dec)\n",
    "    if (a + dec/divisor)**2 < num:\n",
    "        None \n",
    "#        print('total is ',((a + dec/divisor)**2))\n",
    "#        print('square root is', (a + dec/divisor) )\n",
    "    else:\n",
    "        break \n",
    "#    b = a + dec\n",
    "\n",
    "print('final square root is', (a + dec/divisor)) \n",
    "#print('b is', b)\n",
    "#print('final exit value of a is ', a)\n",
    "#print('final exit value of dec is ', dec)\n",
    "\n"
   ]
  },
  {
   "cell_type": "markdown",
   "metadata": {},
   "source": [
    "<font size = 5, color = red>CURRENT"
   ]
  },
  {
   "cell_type": "markdown",
   "metadata": {},
   "source": [
    "# Version working for 1 decimal place"
   ]
  },
  {
   "cell_type": "code",
   "execution_count": 126,
   "metadata": {},
   "outputs": [
    {
     "name": "stdout",
     "output_type": "stream",
     "text": [
      "square root of  75  is 8.7\n"
     ]
    }
   ],
   "source": [
    "num = 75\n",
    "a = 0.0\n",
    "dec = 0.0\n",
    "\n",
    "### integer section ####\n",
    "for int in range(1,num):\n",
    "    if int**2 < num:\n",
    "        a = int\n",
    "    else:\n",
    "        break\n",
    "\n",
    "### decimal section\n",
    "\n",
    "divisor = 10\n",
    "\n",
    "for dec in range(1, 10):\n",
    "    if (a + dec/divisor)**2 < num:\n",
    "        None \n",
    "    else:\n",
    "        break \n",
    "#a = a + dec/divisor\n",
    "\n",
    "#print('square root of ', num, ' is', a)         \n",
    "print('square root of ', num, ' is', (a + dec/divisor)) "
   ]
  },
  {
   "cell_type": "code",
   "execution_count": null,
   "metadata": {},
   "outputs": [],
   "source": []
  }
 ],
 "metadata": {
  "kernelspec": {
   "display_name": "Python 3 (ipykernel)",
   "language": "python",
   "name": "python3"
  },
  "language_info": {
   "codemirror_mode": {
    "name": "ipython",
    "version": 3
   },
   "file_extension": ".py",
   "mimetype": "text/x-python",
   "name": "python",
   "nbconvert_exporter": "python",
   "pygments_lexer": "ipython3",
   "version": "3.7.13"
  }
 },
 "nbformat": 4,
 "nbformat_minor": 4
}
