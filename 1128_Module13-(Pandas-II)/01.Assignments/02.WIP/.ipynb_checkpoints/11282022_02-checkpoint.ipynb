{
 "cells": [
  {
   "cell_type": "markdown",
   "id": "fdcf9421",
   "metadata": {},
   "source": [
    "## Week 12 and 13 Assignment - DATASCI200 Introduction to Data Science Programming, UC Berkeley MIDS\n",
    "\n",
    "Write code in this Jupyter Notebook to solve the following problems. Please upload this **Notebook** with your solutions to your GitHub repository and provide a link in the last question in gradescope. \n",
    "\n",
    "Assignment due date: 11:59PM PT the night before the Week 13 Live Session. Do **NOT** push/upload the data fil"
   ]
  },
  {
   "cell_type": "markdown",
   "id": "6433c24c",
   "metadata": {},
   "source": [
    "## Objectives\n",
    "\n",
    "- Explore and glean insights from a real dataset using pandas\n",
    "- Practice using pandas for exploratory analysis, information gathering, and discovery\n",
    "- Practice using matplotlib for data visualization"
   ]
  },
  {
   "cell_type": "markdown",
   "id": "71eb82ac",
   "metadata": {},
   "source": [
    "## General Guidelines:\n",
    "\n",
    "- This is a **real** dataset and so it may contain errors and other pecularities to work through\n",
    "- This dataset is ~218mb, which will take some time to load (and probably won't load in Google Sheets or Excel)\n",
    "- If you make assumptions, annotate them in your responses\n",
    "- While there is one code/markdown cell positioned after each question as a placeholder, some of your code/responses may require multiple cells\n",
    "- Double-click the markdown cells that say for example **1a answer here:** to enter your written answers. If you need more cells for your written answers, make them markdown cells (rather than code cells)\n",
    "- This homework assignment is not autograded because of the variety of responses one could give. \n",
    "  - Please upload this notebook to the autograder page and the TAs will manually grade it. \n",
    "  - Ensure that each cell is run and outputs your answer for ease of grading! \n",
    "  - Highly suggest to do a `restart & run all` before uploading your code to ensure everything runs and outputs correctly.\n",
    "  - Answers without code (or code that runs) will be given 0 points.\n",
    "- **This is meant to simulate real world data so you will have to do some external research to determine what some of the answers are!** \n",
    "- Only use the plotting libraries matplotlib or seaborn for the visualizations."
   ]
  },
  {
   "cell_type": "markdown",
   "id": "9071e0f4",
   "metadata": {},
   "source": [
    "## Dataset\n",
    "\n",
    "You are to analyze campaign contributions to the 2016 U.S. presidential primary races made in California. Use the csv file located here: https://drive.google.com/file/d/1ftdw7L9Z6WQJ6i0SXj030PA7ObsXfPsg/view?usp=sharing. You should download and save this file in a folder outside where this notebook is stored. This file originally came from the U.S. Federal Election Commission (https://www.fec.gov/).\n",
    "\n",
    "This file is already cleaned and ready to use - you **do not** need to filter or clean it anymore! (you may not agree with the how it was cleaned but please use this file as is).\n",
    "\n",
    "**DO NOT PUSH THIS FILE TO YOUR GITHUB REPO!**\n",
    "\n",
    "- Best practice is to not have DATA files in your code repo. As shown below, the default load is outside of the folder this notebook is in. If you change the folder where the file is stored please update the first cell!\n",
    "- If you do accidentally push the file to your github repo - follow the directions here to fix it: https://docs.google.com/document/d/15Irgb5V5G7pKPWgAerH7FPMpKeQRunbNflaW-hR2hTA/edit?usp=sharing\n",
    "\n",
    "Documentation for this data can be found here: https://drive.google.com/file/d/11o_SByceenv0NgNMstM-dxC1jL7I9fHL/view?usp=sharing"
   ]
  },
  {
   "cell_type": "markdown",
   "id": "c1c17ae4",
   "metadata": {},
   "source": [
    "## Setup\n",
    "\n",
    "Run the cell below as it will load the data into a pandas dataframe named `contrib`. Note that a custom date parser is defined to speed up loading. If Python were to guess the date format, it would take even longer to load."
   ]
  },
  {
   "cell_type": "code",
   "execution_count": 1,
   "id": "de9b9512",
   "metadata": {},
   "outputs": [
    {
     "name": "stderr",
     "output_type": "stream",
     "text": [
      "/var/folders/_5/mw87wr4s5p902pvj5xm4sqnw0000gn/T/ipykernel_49560/4082602082.py:13: DtypeWarning: Columns (6) have mixed types. Specify dtype option on import or set low_memory=False.\n",
      "  contrib = pd.read_csv('../../../2016_ca_primary_cleaned.csv', index_col=False, parse_dates=['contb_receipt_dt'])\n"
     ]
    }
   ],
   "source": [
    "import pandas as pd\n",
    "import numpy as np\n",
    "from datetime import datetime\n",
    "import matplotlib.pyplot as plt\n",
    "\n",
    "# These commands below set some options for pandas and to have matplotlib show the charts in the notebook\n",
    "pd.set_option('display.max_rows', 1000)\n",
    "pd.options.display.float_format = '{:,.2f}'.format\n",
    "%matplotlib inline\n",
    "\n",
    "# Load the data\n",
    "# We have this defaulted to the folder OUTSIDE of your repo - please change it as needed\n",
    "contrib = pd.read_csv('../../../2016_ca_primary_cleaned.csv', index_col=False, parse_dates=['contb_receipt_dt'])\n",
    "\n",
    "# Note - for now, it is okay to ignore the warning about mixed types."
   ]
  },
  {
   "cell_type": "markdown",
   "id": "d0bf8323",
   "metadata": {},
   "source": [
    "## 1. Plotting Data (30 points)\n",
    "\n",
    "Your boss asked for you to make a few charts from the dataset to better explore the information. "
   ]
  },
  {
   "cell_type": "markdown",
   "id": "927a58f1-ea9d-42e4-b7a6-5325b615e3bc",
   "metadata": {},
   "source": [
    "---"
   ]
  },
  {
   "cell_type": "markdown",
   "id": "9919956a",
   "metadata": {},
   "source": [
    "**1a.** Plotting a histogram of contribute amount (10 points)\n",
    "\n",
    "Make a histogram of the **full range** of values in the `contb_receipt_amt` variable. \n",
    "\n",
    "Remember to include on your histogram:\n",
    "- Include a title\n",
    "- Include axis labels\n",
    "- The correct number of bins to see the breakout of values\n",
    "\n",
    "Based on the histogram - what range of contributions have the highest count frequency?"
   ]
  },
  {
   "cell_type": "code",
   "execution_count": 2,
   "id": "47953f7f",
   "metadata": {},
   "outputs": [
    {
     "data": {
      "text/plain": [
       "(668864, 18)"
      ]
     },
     "execution_count": 2,
     "metadata": {},
     "output_type": "execute_result"
    }
   ],
   "source": [
    "# 1a YOUR CODE HERE\n",
    "\n",
    "\n",
    "contrib.shape"
   ]
  },
  {
   "cell_type": "code",
   "execution_count": 3,
   "id": "d04975ee-68ba-4239-944d-1a836da07e73",
   "metadata": {},
   "outputs": [
    {
     "data": {
      "text/html": [
       "<div>\n",
       "<style scoped>\n",
       "    .dataframe tbody tr th:only-of-type {\n",
       "        vertical-align: middle;\n",
       "    }\n",
       "\n",
       "    .dataframe tbody tr th {\n",
       "        vertical-align: top;\n",
       "    }\n",
       "\n",
       "    .dataframe thead th {\n",
       "        text-align: right;\n",
       "    }\n",
       "</style>\n",
       "<table border=\"1\" class=\"dataframe\">\n",
       "  <thead>\n",
       "    <tr style=\"text-align: right;\">\n",
       "      <th></th>\n",
       "      <th>cmte_id</th>\n",
       "      <th>cand_id</th>\n",
       "      <th>cand_nm</th>\n",
       "      <th>contbr_nm</th>\n",
       "      <th>contbr_city</th>\n",
       "      <th>contbr_st</th>\n",
       "      <th>contbr_zip</th>\n",
       "      <th>contbr_employer</th>\n",
       "      <th>contbr_occupation</th>\n",
       "      <th>contb_receipt_amt</th>\n",
       "      <th>contb_receipt_dt</th>\n",
       "      <th>receipt_desc</th>\n",
       "      <th>memo_cd</th>\n",
       "      <th>memo_text</th>\n",
       "      <th>form_tp</th>\n",
       "      <th>file_num</th>\n",
       "      <th>tran_id</th>\n",
       "      <th>election_tp</th>\n",
       "    </tr>\n",
       "  </thead>\n",
       "  <tbody>\n",
       "    <tr>\n",
       "      <th>0</th>\n",
       "      <td>C00575795</td>\n",
       "      <td>P00003392</td>\n",
       "      <td>Clinton, Hillary Rodham</td>\n",
       "      <td>AULL, ANNE</td>\n",
       "      <td>LARKSPUR</td>\n",
       "      <td>CA</td>\n",
       "      <td>949,391,913.00</td>\n",
       "      <td>NaN</td>\n",
       "      <td>RETIRED</td>\n",
       "      <td>50.00</td>\n",
       "      <td>2016-04-26</td>\n",
       "      <td>NaN</td>\n",
       "      <td>X</td>\n",
       "      <td>* HILLARY VICTORY FUND</td>\n",
       "      <td>SA18</td>\n",
       "      <td>1091718</td>\n",
       "      <td>C4768722</td>\n",
       "      <td>P2016</td>\n",
       "    </tr>\n",
       "    <tr>\n",
       "      <th>1</th>\n",
       "      <td>C00575795</td>\n",
       "      <td>P00003392</td>\n",
       "      <td>Clinton, Hillary Rodham</td>\n",
       "      <td>CARROLL, MARYJEAN</td>\n",
       "      <td>CAMBRIA</td>\n",
       "      <td>CA</td>\n",
       "      <td>934,284,638.00</td>\n",
       "      <td>NaN</td>\n",
       "      <td>RETIRED</td>\n",
       "      <td>200.00</td>\n",
       "      <td>2016-04-20</td>\n",
       "      <td>NaN</td>\n",
       "      <td>X</td>\n",
       "      <td>* HILLARY VICTORY FUND</td>\n",
       "      <td>SA18</td>\n",
       "      <td>1091718</td>\n",
       "      <td>C4747242</td>\n",
       "      <td>P2016</td>\n",
       "    </tr>\n",
       "    <tr>\n",
       "      <th>2</th>\n",
       "      <td>C00575795</td>\n",
       "      <td>P00003392</td>\n",
       "      <td>Clinton, Hillary Rodham</td>\n",
       "      <td>GANDARA, DESIREE</td>\n",
       "      <td>FONTANA</td>\n",
       "      <td>CA</td>\n",
       "      <td>923,371,507.00</td>\n",
       "      <td>NaN</td>\n",
       "      <td>RETIRED</td>\n",
       "      <td>5.00</td>\n",
       "      <td>2016-04-02</td>\n",
       "      <td>NaN</td>\n",
       "      <td>X</td>\n",
       "      <td>* HILLARY VICTORY FUND</td>\n",
       "      <td>SA18</td>\n",
       "      <td>1091718</td>\n",
       "      <td>C4666603</td>\n",
       "      <td>P2016</td>\n",
       "    </tr>\n",
       "    <tr>\n",
       "      <th>3</th>\n",
       "      <td>C00577130</td>\n",
       "      <td>P60007168</td>\n",
       "      <td>Sanders, Bernard</td>\n",
       "      <td>LEE, ALAN</td>\n",
       "      <td>CAMARILLO</td>\n",
       "      <td>CA</td>\n",
       "      <td>930,111,214.00</td>\n",
       "      <td>AT&amp;T GOVERNMENT SOLUTIONS</td>\n",
       "      <td>SOFTWARE ENGINEER</td>\n",
       "      <td>40.00</td>\n",
       "      <td>2016-03-04</td>\n",
       "      <td>NaN</td>\n",
       "      <td>NaN</td>\n",
       "      <td>* EARMARKED CONTRIBUTION: SEE BELOW</td>\n",
       "      <td>SA17A</td>\n",
       "      <td>1077404</td>\n",
       "      <td>VPF7BKWA097</td>\n",
       "      <td>P2016</td>\n",
       "    </tr>\n",
       "    <tr>\n",
       "      <th>4</th>\n",
       "      <td>C00577130</td>\n",
       "      <td>P60007168</td>\n",
       "      <td>Sanders, Bernard</td>\n",
       "      <td>LEONELLI, ODETTE</td>\n",
       "      <td>REDONDO BEACH</td>\n",
       "      <td>CA</td>\n",
       "      <td>902,784,310.00</td>\n",
       "      <td>VERICOR ENTERPRISES INC.</td>\n",
       "      <td>PHARMACIST</td>\n",
       "      <td>35.00</td>\n",
       "      <td>2016-03-05</td>\n",
       "      <td>NaN</td>\n",
       "      <td>NaN</td>\n",
       "      <td>* EARMARKED CONTRIBUTION: SEE BELOW</td>\n",
       "      <td>SA17A</td>\n",
       "      <td>1077404</td>\n",
       "      <td>VPF7BKX3MB3</td>\n",
       "      <td>P2016</td>\n",
       "    </tr>\n",
       "  </tbody>\n",
       "</table>\n",
       "</div>"
      ],
      "text/plain": [
       "     cmte_id    cand_id                  cand_nm          contbr_nm  \\\n",
       "0  C00575795  P00003392  Clinton, Hillary Rodham         AULL, ANNE   \n",
       "1  C00575795  P00003392  Clinton, Hillary Rodham  CARROLL, MARYJEAN   \n",
       "2  C00575795  P00003392  Clinton, Hillary Rodham   GANDARA, DESIREE   \n",
       "3  C00577130  P60007168         Sanders, Bernard          LEE, ALAN   \n",
       "4  C00577130  P60007168         Sanders, Bernard   LEONELLI, ODETTE   \n",
       "\n",
       "     contbr_city contbr_st     contbr_zip            contbr_employer  \\\n",
       "0       LARKSPUR        CA 949,391,913.00                        NaN   \n",
       "1        CAMBRIA        CA 934,284,638.00                        NaN   \n",
       "2        FONTANA        CA 923,371,507.00                        NaN   \n",
       "3      CAMARILLO        CA 930,111,214.00  AT&T GOVERNMENT SOLUTIONS   \n",
       "4  REDONDO BEACH        CA 902,784,310.00   VERICOR ENTERPRISES INC.   \n",
       "\n",
       "   contbr_occupation  contb_receipt_amt contb_receipt_dt receipt_desc memo_cd  \\\n",
       "0            RETIRED              50.00       2016-04-26          NaN       X   \n",
       "1            RETIRED             200.00       2016-04-20          NaN       X   \n",
       "2            RETIRED               5.00       2016-04-02          NaN       X   \n",
       "3  SOFTWARE ENGINEER              40.00       2016-03-04          NaN     NaN   \n",
       "4         PHARMACIST              35.00       2016-03-05          NaN     NaN   \n",
       "\n",
       "                             memo_text form_tp  file_num      tran_id  \\\n",
       "0               * HILLARY VICTORY FUND    SA18   1091718     C4768722   \n",
       "1               * HILLARY VICTORY FUND    SA18   1091718     C4747242   \n",
       "2               * HILLARY VICTORY FUND    SA18   1091718     C4666603   \n",
       "3  * EARMARKED CONTRIBUTION: SEE BELOW   SA17A   1077404  VPF7BKWA097   \n",
       "4  * EARMARKED CONTRIBUTION: SEE BELOW   SA17A   1077404  VPF7BKX3MB3   \n",
       "\n",
       "  election_tp  \n",
       "0       P2016  \n",
       "1       P2016  \n",
       "2       P2016  \n",
       "3       P2016  \n",
       "4       P2016  "
      ]
     },
     "execution_count": 3,
     "metadata": {},
     "output_type": "execute_result"
    }
   ],
   "source": [
    "contrib.head(5)"
   ]
  },
  {
   "cell_type": "code",
   "execution_count": 16,
   "id": "8abf7c8a-a8ad-46d5-8f0b-45f3b9fcef5f",
   "metadata": {},
   "outputs": [
    {
     "data": {
      "image/png": "[encoded data removed]",
      "text/plain": [
       "<Figure size 1008x576 with 1 Axes>"
      ]
     },
     "metadata": {
      "needs_background": "light"
     },
     "output_type": "display_data"
    }
   ],
   "source": [
    "fig,ax = plt.subplots(1,1, figsize = (14,8)) \n",
    "\n",
    "ax.hist(contrib['contb_receipt_amt'], bins=25, color = 'k', alpha = 0.5)\n",
    "#plt.hist(contrib['contb_receipt_amt'], bins=20, color = 'k', alpha = 0.3)\n",
    "\n",
    "ax.set_title('Review of Contributions')\n",
    "ax.set_xlabel('Contribution Amount (Receipt)')\n",
    "ax.set_ylabel('Count of contributions')\n",
    "plt.show()"
   ]
  },
  {
   "cell_type": "code",
   "execution_count": 10,
   "id": "f04b2c23-06da-4932-8527-2e278c38b7c9",
   "metadata": {},
   "outputs": [
    {
     "name": "stdout",
     "output_type": "stream",
     "text": [
      "-5700.0 10800.0\n"
     ]
    },
    {
     "data": {
      "text/plain": [
       "(array([1.49507224e-06, 0.00000000e+00, 0.00000000e+00, ...,\n",
       "        0.00000000e+00, 0.00000000e+00, 4.93373840e-05]),\n",
       " array([-5700., -5699., -5698., ..., 10798., 10799., 10800.]),\n",
       " <BarContainer object of 16500 artists>)"
      ]
     },
     "execution_count": 10,
     "metadata": {},
     "output_type": "execute_result"
    },
    {
     "data": {
      "image/png": "[encoded data removed]",
      "text/plain": [
       "<Figure size 1008x576 with 1 Axes>"
      ]
     },
     "metadata": {
      "needs_background": "light"
     },
     "output_type": "display_data"
    }
   ],
   "source": [
    "fig,ax = plt.subplots(1,1, figsize = (14,8)) \n",
    "\n",
    "data = contrib['contb_receipt_amt']\n",
    "bins = np.arange(min(data), max(data) + 1, 1)\n",
    "\n",
    "# ax.hist(contrib['contb_receipt_amt'], bins=20, color = 'k', alpha = 0.3)\n",
    "print(min(data), max(data))\n",
    "\n",
    "plt.hist(data, bins = bins, density = True)\n",
    "\n",
    "# ax.hist(data, bins = np.arange(min(data), max(data) + 1, 1))\n",
    "# ax.set_title('My Title')\n",
    "# ax.set_xlabel('Stages')\n",
    "# ax.set_ylabel('Testing Only - GN')\n",
    "# plt.show()"
   ]
  },
  {
   "cell_type": "code",
   "execution_count": null,
   "id": "35edbaa2-e4f3-4ab4-95b4-b4df558c4ba8",
   "metadata": {},
   "outputs": [],
   "source": []
  },
  {
   "cell_type": "code",
   "execution_count": 5,
   "id": "85ef20cb-4be0-4cb4-aef7-97a17389ef3c",
   "metadata": {},
   "outputs": [
    {
     "ename": "AttributeError",
     "evalue": "'Line2D' object has no property 'type'",
     "output_type": "error",
     "traceback": [
      "\u001b[0;31m---------------------------------------------------------------------------\u001b[0m",
      "\u001b[0;31mAttributeError\u001b[0m                            Traceback (most recent call last)",
      "Input \u001b[0;32mIn [5]\u001b[0m, in \u001b[0;36m<cell line: 13>\u001b[0;34m()\u001b[0m\n\u001b[1;32m      1\u001b[0m fig,ax \u001b[38;5;241m=\u001b[39m plt\u001b[38;5;241m.\u001b[39msubplots(\u001b[38;5;241m1\u001b[39m,\u001b[38;5;241m1\u001b[39m, figsize \u001b[38;5;241m=\u001b[39m (\u001b[38;5;241m14\u001b[39m,\u001b[38;5;241m8\u001b[39m)) \n\u001b[1;32m      3\u001b[0m \u001b[38;5;66;03m#ax.plot(contrib, 'b--')#, label = 'one')#.contrib.hist(column = \\\u001b[39;00m\n\u001b[1;32m      4\u001b[0m \u001b[38;5;66;03m#'contb_receipt_amt', bins = 20)\u001b[39;00m\n\u001b[1;32m      5\u001b[0m \n\u001b[0;32m   (...)\u001b[0m\n\u001b[1;32m     11\u001b[0m \n\u001b[1;32m     12\u001b[0m \u001b[38;5;66;03m# ax.hist(contrib['contb_receipt_amt'], bins=20, color = 'k', alpha = 0.3)\u001b[39;00m\n\u001b[0;32m---> 13\u001b[0m \u001b[43max\u001b[49m\u001b[38;5;241;43m.\u001b[39;49m\u001b[43mplot\u001b[49m\u001b[43m(\u001b[49m\u001b[43mcontrib\u001b[49m\u001b[43m[\u001b[49m\u001b[38;5;124;43m'\u001b[39;49m\u001b[38;5;124;43mcontb_receipt_amt\u001b[39;49m\u001b[38;5;124;43m'\u001b[39;49m\u001b[43m]\u001b[49m\u001b[43m,\u001b[49m\u001b[43m \u001b[49m\u001b[38;5;28;43mtype\u001b[39;49m\u001b[43m \u001b[49m\u001b[38;5;241;43m=\u001b[39;49m\u001b[43m \u001b[49m\u001b[38;5;124;43m'\u001b[39;49m\u001b[38;5;124;43mhist\u001b[39;49m\u001b[38;5;124;43m'\u001b[39;49m\u001b[43m,\u001b[49m\u001b[43m \u001b[49m\u001b[43mbins\u001b[49m\u001b[38;5;241;43m=\u001b[39;49m\u001b[38;5;241;43m20\u001b[39;49m\u001b[43m,\u001b[49m\u001b[43m \u001b[49m\u001b[43mcolor\u001b[49m\u001b[43m \u001b[49m\u001b[38;5;241;43m=\u001b[39;49m\u001b[43m \u001b[49m\u001b[38;5;124;43m'\u001b[39;49m\u001b[38;5;124;43mk\u001b[39;49m\u001b[38;5;124;43m'\u001b[39;49m\u001b[43m,\u001b[49m\u001b[43m \u001b[49m\u001b[43malpha\u001b[49m\u001b[43m \u001b[49m\u001b[38;5;241;43m=\u001b[39;49m\u001b[43m \u001b[49m\u001b[38;5;241;43m0.3\u001b[39;49m\u001b[43m)\u001b[49m\n\u001b[1;32m     15\u001b[0m plt\u001b[38;5;241m.\u001b[39mshow()\n",
      "File \u001b[0;32m~/opt/anaconda3/lib/python3.9/site-packages/matplotlib/axes/_axes.py:1632\u001b[0m, in \u001b[0;36mAxes.plot\u001b[0;34m(self, scalex, scaley, data, *args, **kwargs)\u001b[0m\n\u001b[1;32m   1390\u001b[0m \u001b[38;5;124;03m\"\"\"\u001b[39;00m\n\u001b[1;32m   1391\u001b[0m \u001b[38;5;124;03mPlot y versus x as lines and/or markers.\u001b[39;00m\n\u001b[1;32m   1392\u001b[0m \n\u001b[0;32m   (...)\u001b[0m\n\u001b[1;32m   1629\u001b[0m \u001b[38;5;124;03m(``'green'``) or hex strings (``'#008000'``).\u001b[39;00m\n\u001b[1;32m   1630\u001b[0m \u001b[38;5;124;03m\"\"\"\u001b[39;00m\n\u001b[1;32m   1631\u001b[0m kwargs \u001b[38;5;241m=\u001b[39m cbook\u001b[38;5;241m.\u001b[39mnormalize_kwargs(kwargs, mlines\u001b[38;5;241m.\u001b[39mLine2D)\n\u001b[0;32m-> 1632\u001b[0m lines \u001b[38;5;241m=\u001b[39m [\u001b[38;5;241m*\u001b[39m\u001b[38;5;28mself\u001b[39m\u001b[38;5;241m.\u001b[39m_get_lines(\u001b[38;5;241m*\u001b[39margs, data\u001b[38;5;241m=\u001b[39mdata, \u001b[38;5;241m*\u001b[39m\u001b[38;5;241m*\u001b[39mkwargs)]\n\u001b[1;32m   1633\u001b[0m \u001b[38;5;28;01mfor\u001b[39;00m line \u001b[38;5;129;01min\u001b[39;00m lines:\n\u001b[1;32m   1634\u001b[0m     \u001b[38;5;28mself\u001b[39m\u001b[38;5;241m.\u001b[39madd_line(line)\n",
      "File \u001b[0;32m~/opt/anaconda3/lib/python3.9/site-packages/matplotlib/axes/_base.py:312\u001b[0m, in \u001b[0;36m_process_plot_var_args.__call__\u001b[0;34m(self, data, *args, **kwargs)\u001b[0m\n\u001b[1;32m    310\u001b[0m     this \u001b[38;5;241m+\u001b[39m\u001b[38;5;241m=\u001b[39m args[\u001b[38;5;241m0\u001b[39m],\n\u001b[1;32m    311\u001b[0m     args \u001b[38;5;241m=\u001b[39m args[\u001b[38;5;241m1\u001b[39m:]\n\u001b[0;32m--> 312\u001b[0m \u001b[38;5;28;01myield from\u001b[39;00m \u001b[38;5;28;43mself\u001b[39;49m\u001b[38;5;241;43m.\u001b[39;49m\u001b[43m_plot_args\u001b[49m\u001b[43m(\u001b[49m\u001b[43mthis\u001b[49m\u001b[43m,\u001b[49m\u001b[43m \u001b[49m\u001b[43mkwargs\u001b[49m\u001b[43m)\u001b[49m\n",
      "File \u001b[0;32m~/opt/anaconda3/lib/python3.9/site-packages/matplotlib/axes/_base.py:538\u001b[0m, in \u001b[0;36m_process_plot_var_args._plot_args\u001b[0;34m(self, tup, kwargs, return_kwargs)\u001b[0m\n\u001b[1;32m    536\u001b[0m     \u001b[38;5;28;01mreturn\u001b[39;00m \u001b[38;5;28mlist\u001b[39m(result)\n\u001b[1;32m    537\u001b[0m \u001b[38;5;28;01melse\u001b[39;00m:\n\u001b[0;32m--> 538\u001b[0m     \u001b[38;5;28;01mreturn\u001b[39;00m [l[\u001b[38;5;241m0\u001b[39m] \u001b[38;5;28;01mfor\u001b[39;00m l \u001b[38;5;129;01min\u001b[39;00m result]\n",
      "File \u001b[0;32m~/opt/anaconda3/lib/python3.9/site-packages/matplotlib/axes/_base.py:538\u001b[0m, in \u001b[0;36m<listcomp>\u001b[0;34m(.0)\u001b[0m\n\u001b[1;32m    536\u001b[0m     \u001b[38;5;28;01mreturn\u001b[39;00m \u001b[38;5;28mlist\u001b[39m(result)\n\u001b[1;32m    537\u001b[0m \u001b[38;5;28;01melse\u001b[39;00m:\n\u001b[0;32m--> 538\u001b[0m     \u001b[38;5;28;01mreturn\u001b[39;00m [l[\u001b[38;5;241m0\u001b[39m] \u001b[38;5;28;01mfor\u001b[39;00m l \u001b[38;5;129;01min\u001b[39;00m result]\n",
      "File \u001b[0;32m~/opt/anaconda3/lib/python3.9/site-packages/matplotlib/axes/_base.py:531\u001b[0m, in \u001b[0;36m<genexpr>\u001b[0;34m(.0)\u001b[0m\n\u001b[1;32m    528\u001b[0m \u001b[38;5;28;01melse\u001b[39;00m:\n\u001b[1;32m    529\u001b[0m     labels \u001b[38;5;241m=\u001b[39m [label] \u001b[38;5;241m*\u001b[39m n_datasets\n\u001b[0;32m--> 531\u001b[0m result \u001b[38;5;241m=\u001b[39m (\u001b[43mmake_artist\u001b[49m\u001b[43m(\u001b[49m\u001b[43mx\u001b[49m\u001b[43m[\u001b[49m\u001b[43m:\u001b[49m\u001b[43m,\u001b[49m\u001b[43m \u001b[49m\u001b[43mj\u001b[49m\u001b[43m \u001b[49m\u001b[38;5;241;43m%\u001b[39;49m\u001b[43m \u001b[49m\u001b[43mncx\u001b[49m\u001b[43m]\u001b[49m\u001b[43m,\u001b[49m\u001b[43m \u001b[49m\u001b[43my\u001b[49m\u001b[43m[\u001b[49m\u001b[43m:\u001b[49m\u001b[43m,\u001b[49m\u001b[43m \u001b[49m\u001b[43mj\u001b[49m\u001b[43m \u001b[49m\u001b[38;5;241;43m%\u001b[39;49m\u001b[43m \u001b[49m\u001b[43mncy\u001b[49m\u001b[43m]\u001b[49m\u001b[43m,\u001b[49m\u001b[43m \u001b[49m\u001b[43mkw\u001b[49m\u001b[43m,\u001b[49m\n\u001b[1;32m    532\u001b[0m \u001b[43m                      \u001b[49m\u001b[43m{\u001b[49m\u001b[38;5;241;43m*\u001b[39;49m\u001b[38;5;241;43m*\u001b[39;49m\u001b[43mkwargs\u001b[49m\u001b[43m,\u001b[49m\u001b[43m \u001b[49m\u001b[38;5;124;43m'\u001b[39;49m\u001b[38;5;124;43mlabel\u001b[39;49m\u001b[38;5;124;43m'\u001b[39;49m\u001b[43m:\u001b[49m\u001b[43m \u001b[49m\u001b[43mlabel\u001b[49m\u001b[43m}\u001b[49m\u001b[43m)\u001b[49m\n\u001b[1;32m    533\u001b[0m           \u001b[38;5;28;01mfor\u001b[39;00m j, label \u001b[38;5;129;01min\u001b[39;00m \u001b[38;5;28menumerate\u001b[39m(labels))\n\u001b[1;32m    535\u001b[0m \u001b[38;5;28;01mif\u001b[39;00m return_kwargs:\n\u001b[1;32m    536\u001b[0m     \u001b[38;5;28;01mreturn\u001b[39;00m \u001b[38;5;28mlist\u001b[39m(result)\n",
      "File \u001b[0;32m~/opt/anaconda3/lib/python3.9/site-packages/matplotlib/axes/_base.py:351\u001b[0m, in \u001b[0;36m_process_plot_var_args._makeline\u001b[0;34m(self, x, y, kw, kwargs)\u001b[0m\n\u001b[1;32m    349\u001b[0m default_dict \u001b[38;5;241m=\u001b[39m \u001b[38;5;28mself\u001b[39m\u001b[38;5;241m.\u001b[39m_getdefaults(\u001b[38;5;28mset\u001b[39m(), kw)\n\u001b[1;32m    350\u001b[0m \u001b[38;5;28mself\u001b[39m\u001b[38;5;241m.\u001b[39m_setdefaults(default_dict, kw)\n\u001b[0;32m--> 351\u001b[0m seg \u001b[38;5;241m=\u001b[39m \u001b[43mmlines\u001b[49m\u001b[38;5;241;43m.\u001b[39;49m\u001b[43mLine2D\u001b[49m\u001b[43m(\u001b[49m\u001b[43mx\u001b[49m\u001b[43m,\u001b[49m\u001b[43m \u001b[49m\u001b[43my\u001b[49m\u001b[43m,\u001b[49m\u001b[43m \u001b[49m\u001b[38;5;241;43m*\u001b[39;49m\u001b[38;5;241;43m*\u001b[39;49m\u001b[43mkw\u001b[49m\u001b[43m)\u001b[49m\n\u001b[1;32m    352\u001b[0m \u001b[38;5;28;01mreturn\u001b[39;00m seg, kw\n",
      "File \u001b[0;32m~/opt/anaconda3/lib/python3.9/site-packages/matplotlib/lines.py:393\u001b[0m, in \u001b[0;36mLine2D.__init__\u001b[0;34m(self, xdata, ydata, linewidth, linestyle, color, marker, markersize, markeredgewidth, markeredgecolor, markerfacecolor, markerfacecoloralt, fillstyle, antialiased, dash_capstyle, solid_capstyle, dash_joinstyle, solid_joinstyle, pickradius, drawstyle, markevery, **kwargs)\u001b[0m\n\u001b[1;32m    389\u001b[0m \u001b[38;5;28mself\u001b[39m\u001b[38;5;241m.\u001b[39mset_markeredgewidth(markeredgewidth)\n\u001b[1;32m    391\u001b[0m \u001b[38;5;66;03m# update kwargs before updating data to give the caller a\u001b[39;00m\n\u001b[1;32m    392\u001b[0m \u001b[38;5;66;03m# chance to init axes (and hence unit support)\u001b[39;00m\n\u001b[0;32m--> 393\u001b[0m \u001b[38;5;28;43mself\u001b[39;49m\u001b[38;5;241;43m.\u001b[39;49m\u001b[43mupdate\u001b[49m\u001b[43m(\u001b[49m\u001b[43mkwargs\u001b[49m\u001b[43m)\u001b[49m\n\u001b[1;32m    394\u001b[0m \u001b[38;5;28mself\u001b[39m\u001b[38;5;241m.\u001b[39mpickradius \u001b[38;5;241m=\u001b[39m pickradius\n\u001b[1;32m    395\u001b[0m \u001b[38;5;28mself\u001b[39m\u001b[38;5;241m.\u001b[39mind_offset \u001b[38;5;241m=\u001b[39m \u001b[38;5;241m0\u001b[39m\n",
      "File \u001b[0;32m~/opt/anaconda3/lib/python3.9/site-packages/matplotlib/artist.py:1064\u001b[0m, in \u001b[0;36mArtist.update\u001b[0;34m(self, props)\u001b[0m\n\u001b[1;32m   1062\u001b[0m             func \u001b[38;5;241m=\u001b[39m \u001b[38;5;28mgetattr\u001b[39m(\u001b[38;5;28mself\u001b[39m, \u001b[38;5;124mf\u001b[39m\u001b[38;5;124m\"\u001b[39m\u001b[38;5;124mset_\u001b[39m\u001b[38;5;132;01m{\u001b[39;00mk\u001b[38;5;132;01m}\u001b[39;00m\u001b[38;5;124m\"\u001b[39m, \u001b[38;5;28;01mNone\u001b[39;00m)\n\u001b[1;32m   1063\u001b[0m             \u001b[38;5;28;01mif\u001b[39;00m \u001b[38;5;129;01mnot\u001b[39;00m callable(func):\n\u001b[0;32m-> 1064\u001b[0m                 \u001b[38;5;28;01mraise\u001b[39;00m \u001b[38;5;167;01mAttributeError\u001b[39;00m(\u001b[38;5;124mf\u001b[39m\u001b[38;5;124m\"\u001b[39m\u001b[38;5;132;01m{\u001b[39;00m\u001b[38;5;28mtype\u001b[39m(\u001b[38;5;28mself\u001b[39m)\u001b[38;5;241m.\u001b[39m\u001b[38;5;18m__name__\u001b[39m\u001b[38;5;132;01m!r}\u001b[39;00m\u001b[38;5;124m object \u001b[39m\u001b[38;5;124m\"\u001b[39m\n\u001b[1;32m   1065\u001b[0m                                      \u001b[38;5;124mf\u001b[39m\u001b[38;5;124m\"\u001b[39m\u001b[38;5;124mhas no property \u001b[39m\u001b[38;5;132;01m{\u001b[39;00mk\u001b[38;5;132;01m!r}\u001b[39;00m\u001b[38;5;124m\"\u001b[39m)\n\u001b[1;32m   1066\u001b[0m             ret\u001b[38;5;241m.\u001b[39mappend(func(v))\n\u001b[1;32m   1067\u001b[0m \u001b[38;5;28;01mif\u001b[39;00m ret:\n",
      "\u001b[0;31mAttributeError\u001b[0m: 'Line2D' object has no property 'type'"
     ]
    },
    {
     "data": {
      "image/png": "[encoded data removed]",
      "text/plain": [
       "<Figure size 1008x576 with 1 Axes>"
      ]
     },
     "metadata": {
      "needs_background": "light"
     },
     "output_type": "display_data"
    }
   ],
   "source": [
    "fig,ax = plt.subplots(1,1, figsize = (14,8)) \n",
    "\n",
    "#ax.plot(contrib, 'b--')#, label = 'one')#.contrib.hist(column = \\\n",
    "#'contb_receipt_amt', bins = 20)\n",
    "\n",
    "#figsize = (14,8)\n",
    "# ax.plot.contrib.hist(column = 'contb_receipt_amt', bins = 20)\n",
    "#contrib.hist(column = 'contb_receipt_amt', bins = 20)\n",
    "\n",
    "#contrib.plot.bar(color = 'k', alpha = 0.5)\n",
    "\n",
    "# ax.hist(contrib['contb_receipt_amt'], bins=20, color = 'k', alpha = 0.3)\n",
    "ax.plot(contrib['contb_receipt_amt'], type = 'hist', bins=20, color = 'k', alpha = 0.3)\n",
    "\n",
    "plt.show()"
   ]
  },
  {
   "cell_type": "code",
   "execution_count": null,
   "id": "2d49491a-2aee-4d46-854e-5d420c83fb7f",
   "metadata": {},
   "outputs": [],
   "source": [
    "contrib['contb_receipt_amt'].plot.hist(bins = 100)"
   ]
  },
  {
   "cell_type": "code",
   "execution_count": null,
   "id": "98272a81-d5aa-4091-bd0a-f9447b60955c",
   "metadata": {},
   "outputs": [],
   "source": [
    "contrib['contb_receipt_amt'].plot.hist(bins = 20)"
   ]
  },
  {
   "cell_type": "code",
   "execution_count": null,
   "id": "4ca35a0c-588b-4851-8322-30e1b654bfac",
   "metadata": {},
   "outputs": [],
   "source": [
    "contrib.hist(column = 'contb_receipt_amt', bins = 20)"
   ]
  },
  {
   "cell_type": "code",
   "execution_count": null,
   "id": "381c375b-9e28-4631-b34f-3b35d53c3254",
   "metadata": {},
   "outputs": [],
   "source": [
    "a = contrib['contb_receipt_amt']\n",
    "a"
   ]
  },
  {
   "cell_type": "code",
   "execution_count": null,
   "id": "c823af7e-e5c0-41f5-a80b-3509f2b0e8fe",
   "metadata": {},
   "outputs": [],
   "source": [
    "a.plot.hist()"
   ]
  },
  {
   "cell_type": "code",
   "execution_count": null,
   "id": "8ed8e53a-f983-4eef-9794-6a3c4fe2e494",
   "metadata": {},
   "outputs": [],
   "source": [
    "contrib['contb_receipt_amt'].plot.hist(bins = 100)"
   ]
  },
  {
   "cell_type": "markdown",
   "id": "a8458c6e",
   "metadata": {},
   "source": [
    "- **1a answer here:** "
   ]
  },
  {
   "cell_type": "markdown",
   "id": "6cf3b047-3567-4f32-9af3-87cd847a377d",
   "metadata": {},
   "source": [
    "---"
   ]
  },
  {
   "cell_type": "markdown",
   "id": "324a0a3b",
   "metadata": {},
   "source": [
    "**1b.** Plotting a histogram of contribute amount (10 points)\n",
    "\n",
    "Make a 'zoomed-in' histogram of the range that had the highest count frequencies from 1a above. \n",
    "\n",
    "Remember to include on your histogram:\n",
    "- Include a title\n",
    "- Include axis labels\n",
    "- The correct number of bins to see the breakout of values\n",
    "\n",
    "What are some insights that you can see from these two histograms (1a and 1b)?"
   ]
  },
  {
   "cell_type": "code",
   "execution_count": null,
   "id": "28b64ca7",
   "metadata": {},
   "outputs": [],
   "source": [
    "# 1b YOUR CODE HERE\n"
   ]
  },
  {
   "cell_type": "markdown",
   "id": "7b1e763e",
   "metadata": {},
   "source": [
    "- **1b answer here:** "
   ]
  },
  {
   "cell_type": "markdown",
   "id": "0012e029",
   "metadata": {},
   "source": [
    "**1c.** Present a time-series line chart with the following elements (10 points)  \n",
    "\n",
    "- The chart needs to have two lines - one for Bernie Sanders and one for Hillary Clinton.\n",
    "- Show the date on the x-axis\n",
    "- Add vertical lines for these dates of the primary debates: 17 Jan 2016, 11 Feb 2016, 9 Mar 2016\n",
    "- Show the total contribution amount for that day on the y-axis\n",
    "- Include a title\n",
    "- Include axis labels\n",
    "\n",
    "How did the debates effect fundraising / donations? Did fundraising increase or decrease after the debates for each candidate?"
   ]
  },
  {
   "cell_type": "code",
   "execution_count": null,
   "id": "cbafc2a2",
   "metadata": {},
   "outputs": [],
   "source": [
    "# 1c YOUR CODE HERE\n"
   ]
  },
  {
   "cell_type": "markdown",
   "id": "f23ae652",
   "metadata": {},
   "source": [
    "- **1c answer here:** "
   ]
  },
  {
   "cell_type": "markdown",
   "id": "6f49fe3f",
   "metadata": {},
   "source": [
    "## 2. Exploring Campaign Contributions (35 points)\n",
    "\n",
    "Let's investigate the donations to the candidates. (5 points)\n",
    "\n",
    "**2a.** Present a table that shows the number of donations to each candidate sorted by number of donations.**\n",
    "\n",
    "- When presenting data as a table, it is often best to sort the data in a meaningful way. This makes it easier for your reader to examine what you've done and to glean insights.  From now on, all tables that you present in this assignment (and course) should be sorted.\n",
    "- Hint: Use the `groupby` method. Groupby is explained in Unit 13: async 13.3 & 13.5\n",
    "- Hint: Use the `sort_values` method to sort the data so that candidates with the largest number of donations appear on top.\n",
    "\n",
    "Which candidate received the largest number/count of contributions (variable 'contb_receipt_amt')?"
   ]
  },
  {
   "cell_type": "code",
   "execution_count": null,
   "id": "5724a721",
   "metadata": {},
   "outputs": [],
   "source": [
    "# 2a YOUR CODE HERE\n"
   ]
  },
  {
   "cell_type": "markdown",
   "id": "49a9027b",
   "metadata": {},
   "source": [
    "- **2a answer here:** "
   ]
  },
  {
   "cell_type": "markdown",
   "id": "8501abbf",
   "metadata": {},
   "source": [
    "**2b.** Now, present a table that shows the total value of donations to each candidate sorted by total value of the donations. (5 points)\n",
    "\n",
    "Which candidate raised the most money in California?"
   ]
  },
  {
   "cell_type": "code",
   "execution_count": null,
   "id": "e5d104ad",
   "metadata": {},
   "outputs": [],
   "source": [
    "# 2b YOUR CODE HERE\n"
   ]
  },
  {
   "cell_type": "markdown",
   "id": "5b970851",
   "metadata": {},
   "source": [
    "- **2b answer here:** "
   ]
  },
  {
   "cell_type": "markdown",
   "id": "9f71c2a1",
   "metadata": {},
   "source": [
    "**2c.** Combine the tables (sorted by either a or b above). (5 points)\n",
    "\n",
    "- Looking at the two tables you presented above - if those tables are Series convert them to DataFrames.\n",
    "- Rename the variable (column) names to accurately describe what is presented.\n",
    "- Merge together your tables to show the *count* and the *value* of donations to each candidate in one table.\n",
    "- Hint: Use the `merge` method."
   ]
  },
  {
   "cell_type": "code",
   "execution_count": null,
   "id": "899afccb",
   "metadata": {},
   "outputs": [],
   "source": [
    "# 2c YOUR CODE HERE\n"
   ]
  },
  {
   "cell_type": "markdown",
   "id": "ccea1960",
   "metadata": {},
   "source": [
    "**2d. Calculate and add a new variable to the table from 2c that shows the average \\$ per donation. Print this table sorted by the average donation** (5 points)\n",
    "\n",
    "Which candidate had the highest average donation?"
   ]
  },
  {
   "cell_type": "code",
   "execution_count": null,
   "id": "e76bd4ed",
   "metadata": {},
   "outputs": [],
   "source": [
    "# 2d YOUR CODE HERE\n"
   ]
  },
  {
   "cell_type": "markdown",
   "id": "ff4ec099",
   "metadata": {},
   "source": [
    "- **2d answer here:** "
   ]
  },
  {
   "cell_type": "markdown",
   "id": "e6faff47",
   "metadata": {},
   "source": [
    "**2e. Plotting a Bar Chart** (10 points)\n",
    "\n",
    "Make a single bar chart that shows two different bars per candidate with one bar as the total value of the donations and the other as average $ per donation. \n",
    "- Show the Candidates Name on the x-axis\n",
    "- Show the amount on the y-axis\n",
    "- Include a title\n",
    "- Include axis labels\n",
    "- Sort by total value of the donations\n",
    "- Make the y-axis a log-scale to show both numbers! (matplotlib docs: https://matplotlib.org/3.1.1/api/_as_gen/matplotlib.pyplot.yscale.html )"
   ]
  },
  {
   "cell_type": "code",
   "execution_count": null,
   "id": "a5162502",
   "metadata": {},
   "outputs": [],
   "source": [
    "# 2e YOUR CODE HERE\n"
   ]
  },
  {
   "cell_type": "markdown",
   "id": "8a8df977",
   "metadata": {},
   "source": [
    "**2f. Comment on the results of your data analysis in a short paragraph.** (5 points)\n",
    "\n",
    "- There are several interesting conclusions you can draw from the table you have created.\n",
    "- What have you learned about campaign contributions in California?\n",
    "- We are looking for data insights here rather than comments on the code!"
   ]
  },
  {
   "cell_type": "markdown",
   "id": "01b79826",
   "metadata": {},
   "source": [
    "- **2f answer here:** "
   ]
  },
  {
   "cell_type": "markdown",
   "id": "653b0dde",
   "metadata": {},
   "source": [
    "## 3. Exploring Donor Occupations (35 points)\n",
    "\n",
    "Above in part 2, we saw that some simple data analysis can give us insights into the campaigns of our candidates. Now let's quickly look to see what *kind* of person is donating to each campaign using the `contbr_occupation` variable."
   ]
  },
  {
   "cell_type": "markdown",
   "id": "2227ba0d",
   "metadata": {},
   "source": [
    "**3a.** Show the top 5 occupations of individuals that contributed to Hillary Clinton. (5 points)\n",
    "\n",
    "- Subset your data to create a dataframe with only donations for Hillary Clinton.\n",
    "- Then use the `value_counts` and `head` methods to present the top 5 occupations (`contbr_occupation`) for her donors.\n",
    "- Note: we are just interested in the count of donations, not the value of those donations."
   ]
  },
  {
   "cell_type": "code",
   "execution_count": null,
   "id": "ba110522",
   "metadata": {},
   "outputs": [],
   "source": [
    "# 3a YOUR CODE HERE\n"
   ]
  },
  {
   "cell_type": "markdown",
   "id": "eecfacae",
   "metadata": {},
   "source": [
    "**3b.** Write a function called `get_donors`. (5 points)\n",
    " \n",
    "Imagine that you want to do the previous operation on several candidates.  To keep your work neat, you want to take the work you did on the Clinton-subset and wrap it in a function that you can apply to other subsets of the data.\n",
    "\n",
    "- The function should take a DataFrame as a parameter, and return a Series containing the counts for the top 5 occupations contained in that DataFrame."
   ]
  },
  {
   "cell_type": "code",
   "execution_count": null,
   "id": "07a3a233",
   "metadata": {},
   "outputs": [],
   "source": [
    "def get_donors(df):\n",
    "    \"\"\"This function takes a dataframe that contains a variable named contbr_occupation.\n",
    "    It outputs a Series containing the counts for the 5 most common values of that\n",
    "    variable.\"\"\"\n",
    "    \n",
    "    # 3b YOUR CODE HERE\n",
    "    "
   ]
  },
  {
   "cell_type": "markdown",
   "id": "5307681b",
   "metadata": {},
   "source": [
    "**3c.** Now run the `get_donors` function from 3b on subsets of the dataframe corresponding to three candidates. Show each of the three candidates below. (5 points)\n",
    "\n",
    "- Hillary Clinton\n",
    "- Bernie Sanders\n",
    "- Donald Trump"
   ]
  },
  {
   "cell_type": "code",
   "execution_count": null,
   "id": "4625a08e",
   "metadata": {},
   "outputs": [],
   "source": [
    "# 3c YOUR CODE HERE\n"
   ]
  },
  {
   "cell_type": "markdown",
   "id": "f6523d39",
   "metadata": {},
   "source": [
    "**3d.** Finally, use `groupby` to separate the entire dataset by candidate. (10 points)\n",
    "\n",
    "- Call .apply(get_donors) on your groupby object, which will apply the function you wrote to each subset of your data.\n",
    "- Look at your output and marvel at what pandas can do in just one line!"
   ]
  },
  {
   "cell_type": "code",
   "execution_count": null,
   "id": "fb66b0d5",
   "metadata": {},
   "outputs": [],
   "source": [
    "# 3d YOUR CODE HERE\n"
   ]
  },
  {
   "cell_type": "markdown",
   "id": "8e05fcd7",
   "metadata": {},
   "source": [
    "**3e.** Comment on your data insights & findings in a short paragraph. (5 points)"
   ]
  },
  {
   "cell_type": "markdown",
   "id": "6e808a24",
   "metadata": {},
   "source": [
    "- **3e answer here:** "
   ]
  },
  {
   "cell_type": "markdown",
   "id": "964388c9",
   "metadata": {},
   "source": [
    "**3f.** Think about your findings in section 3 vs. your findings in section 2 of this assignment. (5 points)\n",
    "\n",
    "Do you have any new data insights into the results you saw in section 2 now that you see the top occupations for each candidate?"
   ]
  },
  {
   "cell_type": "markdown",
   "id": "377713a0",
   "metadata": {},
   "source": [
    "- **3f answer here:** "
   ]
  },
  {
   "cell_type": "markdown",
   "id": "3252182f",
   "metadata": {},
   "source": [
    "## If you have feedback for this homework, please submit it using the link below:\n",
    "\n",
    "http://goo.gl/forms/74yCiQTf6k"
   ]
  }
 ],
 "metadata": {
  "kernelspec": {
   "display_name": "Python 3 (ipykernel)",
   "language": "python",
   "name": "python3"
  },
  "language_info": {
   "codemirror_mode": {
    "name": "ipython",
    "version": 3
   },
   "file_extension": ".py",
   "mimetype": "text/x-python",
   "name": "python",
   "nbconvert_exporter": "python",
   "pygments_lexer": "ipython3",
   "version": "3.9.12"
  }
 },
 "nbformat": 4,
 "nbformat_minor": 5
}
