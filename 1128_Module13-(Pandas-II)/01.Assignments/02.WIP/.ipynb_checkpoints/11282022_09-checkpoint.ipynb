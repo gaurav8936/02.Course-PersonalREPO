{
 "cells": [
  {
   "cell_type": "markdown",
   "id": "fdcf9421",
   "metadata": {},
   "source": [
    "## Week 12 and 13 Assignment - DATASCI200 Introduction to Data Science Programming, UC Berkeley MIDS\n",
    "\n",
    "Write code in this Jupyter Notebook to solve the following problems. Please upload this **Notebook** with your solutions to your GitHub repository and provide a link in the last question in gradescope. \n",
    "\n",
    "Assignment due date: 11:59PM PT the night before the Week 13 Live Session. Do **NOT** push/upload the data fil"
   ]
  },
  {
   "cell_type": "markdown",
   "id": "6433c24c",
   "metadata": {},
   "source": [
    "## Objectives\n",
    "\n",
    "- Explore and glean insights from a real dataset using pandas\n",
    "- Practice using pandas for exploratory analysis, information gathering, and discovery\n",
    "- Practice using matplotlib for data visualization"
   ]
  },
  {
   "cell_type": "markdown",
   "id": "71eb82ac",
   "metadata": {},
   "source": [
    "## General Guidelines:\n",
    "\n",
    "- This is a **real** dataset and so it may contain errors and other pecularities to work through\n",
    "- This dataset is ~218mb, which will take some time to load (and probably won't load in Google Sheets or Excel)\n",
    "- If you make assumptions, annotate them in your responses\n",
    "- While there is one code/markdown cell positioned after each question as a placeholder, some of your code/responses may require multiple cells\n",
    "- Double-click the markdown cells that say for example **1a answer here:** to enter your written answers. If you need more cells for your written answers, make them markdown cells (rather than code cells)\n",
    "- This homework assignment is not autograded because of the variety of responses one could give. \n",
    "  - Please upload this notebook to the autograder page and the TAs will manually grade it. \n",
    "  - Ensure that each cell is run and outputs your answer for ease of grading! \n",
    "  - Highly suggest to do a `restart & run all` before uploading your code to ensure everything runs and outputs correctly.\n",
    "  - Answers without code (or code that runs) will be given 0 points.\n",
    "- **This is meant to simulate real world data so you will have to do some external research to determine what some of the answers are!** \n",
    "- Only use the plotting libraries matplotlib or seaborn for the visualizations."
   ]
  },
  {
   "cell_type": "markdown",
   "id": "9071e0f4",
   "metadata": {},
   "source": [
    "## Dataset\n",
    "\n",
    "You are to analyze campaign contributions to the 2016 U.S. presidential primary races made in California. Use the csv file located here: https://drive.google.com/file/d/1ftdw7L9Z6WQJ6i0SXj030PA7ObsXfPsg/view?usp=sharing. You should download and save this file in a folder outside where this notebook is stored. This file originally came from the U.S. Federal Election Commission (https://www.fec.gov/).\n",
    "\n",
    "This file is already cleaned and ready to use - you **do not** need to filter or clean it anymore! (you may not agree with the how it was cleaned but please use this file as is).\n",
    "\n",
    "**DO NOT PUSH THIS FILE TO YOUR GITHUB REPO!**\n",
    "\n",
    "- Best practice is to not have DATA files in your code repo. As shown below, the default load is outside of the folder this notebook is in. If you change the folder where the file is stored please update the first cell!\n",
    "- If you do accidentally push the file to your github repo - follow the directions here to fix it: https://docs.google.com/document/d/15Irgb5V5G7pKPWgAerH7FPMpKeQRunbNflaW-hR2hTA/edit?usp=sharing\n",
    "\n",
    "Documentation for this data can be found here: https://drive.google.com/file/d/11o_SByceenv0NgNMstM-dxC1jL7I9fHL/view?usp=sharing"
   ]
  },
  {
   "cell_type": "markdown",
   "id": "c1c17ae4",
   "metadata": {},
   "source": [
    "## Setup\n",
    "\n",
    "Run the cell below as it will load the data into a pandas dataframe named `contrib`. Note that a custom date parser is defined to speed up loading. If Python were to guess the date format, it would take even longer to load."
   ]
  },
  {
   "cell_type": "code",
   "execution_count": 1,
   "id": "de9b9512",
   "metadata": {},
   "outputs": [
    {
     "name": "stderr",
     "output_type": "stream",
     "text": [
      "/var/folders/_5/mw87wr4s5p902pvj5xm4sqnw0000gn/T/ipykernel_57397/4082602082.py:13: DtypeWarning: Columns (6) have mixed types. Specify dtype option on import or set low_memory=False.\n",
      "  contrib = pd.read_csv('../../../2016_ca_primary_cleaned.csv', index_col=False, parse_dates=['contb_receipt_dt'])\n"
     ]
    }
   ],
   "source": [
    "import pandas as pd\n",
    "import numpy as np\n",
    "from datetime import datetime\n",
    "import matplotlib.pyplot as plt\n",
    "\n",
    "# These commands below set some options for pandas and to have matplotlib show the charts in the notebook\n",
    "pd.set_option('display.max_rows', 1000)\n",
    "pd.options.display.float_format = '{:,.2f}'.format\n",
    "%matplotlib inline\n",
    "\n",
    "# Load the data\n",
    "# We have this defaulted to the folder OUTSIDE of your repo - please change it as needed\n",
    "contrib = pd.read_csv('../../../2016_ca_primary_cleaned.csv', index_col=False, parse_dates=['contb_receipt_dt'])\n",
    "\n",
    "# Note - for now, it is okay to ignore the warning about mixed types."
   ]
  },
  {
   "cell_type": "markdown",
   "id": "d0bf8323",
   "metadata": {},
   "source": [
    "## 1. Plotting Data (30 points)\n",
    "\n",
    "Your boss asked for you to make a few charts from the dataset to better explore the information. "
   ]
  },
  {
   "cell_type": "markdown",
   "id": "927a58f1-ea9d-42e4-b7a6-5325b615e3bc",
   "metadata": {},
   "source": [
    "---"
   ]
  },
  {
   "cell_type": "markdown",
   "id": "9919956a",
   "metadata": {},
   "source": [
    "**1a.** Plotting a histogram of contribute amount (10 points)\n",
    "\n",
    "Make a histogram of the **full range** of values in the `contb_receipt_amt` variable. \n",
    "\n",
    "Remember to include on your histogram:\n",
    "- Include a title\n",
    "- Include axis labels\n",
    "- The correct number of bins to see the breakout of values\n",
    "\n",
    "Based on the histogram - what range of contributions have the highest count frequency?"
   ]
  },
  {
   "cell_type": "code",
   "execution_count": 2,
   "id": "47953f7f",
   "metadata": {},
   "outputs": [
    {
     "data": {
      "image/png": "[encoded data removed]",
      "text/plain": [
       "<Figure size 1008x576 with 1 Axes>"
      ]
     },
     "metadata": {
      "needs_background": "light"
     },
     "output_type": "display_data"
    }
   ],
   "source": [
    "# 1a YOUR CODE HERE\n",
    "\n",
    "#------ review of bin values -----------------------------\n",
    "# data = contrib['contb_receipt_amt']\n",
    "# (n, bins, patches) = plt.hist(data, bins=10, label='hst')\n",
    "# print('the bin values for a set of 10 bins is ', n)\n",
    "# bins: 5, 8, 44, 52, 498, 573, 675, 10620, 11836, 644553\n",
    "#---------------------------------------------------------\n",
    "\n",
    "fig,ax = plt.subplots(1,1, figsize = (14,8)) \n",
    "ax.hist(contrib['contb_receipt_amt'], bins=100, color = 'k', alpha = 0.5)\n",
    "#--------------------------------------------------------\n",
    "#Alternate plot options\n",
    "# plt.hist(contrib['contb_receipt_amt'], bins=20, color = 'k', alpha = 0.3)\n",
    "# contrib['contb_receipt_amt'].plot.hist(bins = 100)\n",
    "# contrib.hist(column = 'contb_receipt_amt', bins = 20)\n",
    "#---------------------------------------------------------\n",
    "\n",
    "ax.set_title('Review of Contributions')\n",
    "ax.set_xlabel('Contribution Amount (Receipt)')\n",
    "ax.set_ylabel('Count of contributions')\n",
    "plt.show()"
   ]
  },
  {
   "cell_type": "markdown",
   "id": "a8458c6e",
   "metadata": {},
   "source": [
    "- **1a answer here:** \n",
    "\n",
    "Most contributions are lower than $50"
   ]
  },
  {
   "cell_type": "markdown",
   "id": "6cf3b047-3567-4f32-9af3-87cd847a377d",
   "metadata": {},
   "source": [
    "---"
   ]
  },
  {
   "cell_type": "markdown",
   "id": "324a0a3b",
   "metadata": {},
   "source": [
    "**1b.** Plotting a histogram of contribute amount (10 points)\n",
    "\n",
    "Make a 'zoomed-in' histogram of the range that had the highest count frequencies from 1a above. \n",
    "\n",
    "Remember to include on your histogram:\n",
    "- Include a title\n",
    "- Include axis labels\n",
    "- The correct number of bins to see the breakout of values\n",
    "\n",
    "What are some insights that you can see from these two histograms (1a and 1b)?"
   ]
  },
  {
   "cell_type": "code",
   "execution_count": 3,
   "id": "28b64ca7",
   "metadata": {},
   "outputs": [
    {
     "data": {
      "image/png": "[encoded data removed]",
      "text/plain": [
       "<Figure size 1008x576 with 1 Axes>"
      ]
     },
     "metadata": {
      "needs_background": "light"
     },
     "output_type": "display_data"
    }
   ],
   "source": [
    "# 1b YOUR CODE HERE\n",
    "\n",
    "data = contrib['contb_receipt_amt']\n",
    "data = data[(data > 0) & (data < 50)]\n",
    "#data\n",
    "\n",
    "fig,ax = plt.subplots(1,1, figsize = (14,8)) \n",
    "ax.hist(data, bins=50, color = 'k', alpha = 0.5)\n",
    "ax.set_title('Review Contributions < $50')\n",
    "ax.set_xlabel('Contribution Amount (Receipt)')\n",
    "ax.set_ylabel('Count of contributions')\n",
    "#ax.xticks(np.arange(50, 1))\n",
    "#plt.xticks(data)\n",
    "plt.show()\n",
    "#print(data.shape)\n"
   ]
  },
  {
   "cell_type": "markdown",
   "id": "7b1e763e",
   "metadata": {},
   "source": [
    "- **1b answer here:** \n",
    "\n",
    "Comparing 1a and 1b, it appears that over 50% of contributions are lesser than 50 dollars. This indicates a highly skewed distribution of data with progressively fewer contributions after $50.\n",
    "\n",
    "The contribution sweet spot appears to be in the range of 10-25 dollars"
   ]
  },
  {
   "cell_type": "markdown",
   "id": "91bc850b-ee79-4d74-a770-3af6f0ae554e",
   "metadata": {},
   "source": [
    "---"
   ]
  },
  {
   "cell_type": "markdown",
   "id": "0012e029",
   "metadata": {},
   "source": [
    "**1c.** Present a time-series line chart with the following elements (10 points)  \n",
    "\n",
    "- The chart needs to have two lines - one for Bernie Sanders and one for Hillary Clinton.\n",
    "- Show the date on the x-axis\n",
    "- Add vertical lines for these dates of the primary debates: 17 Jan 2016, 11 Feb 2016, 9 Mar 2016\n",
    "- Show the total contribution amount for that day on the y-axis\n",
    "- Include a title\n",
    "- Include axis labels\n",
    "\n",
    "How did the debates effect fundraising / donations? Did fundraising increase or decrease after the debates for each candidate?"
   ]
  },
  {
   "cell_type": "code",
   "execution_count": 4,
   "id": "af84394f-795c-4148-be2d-ac842b05bbc6",
   "metadata": {},
   "outputs": [
    {
     "data": {
      "image/png": "[encoded data removed]",
      "text/plain": [
       "<Figure size 1008x576 with 1 Axes>"
      ]
     },
     "metadata": {
      "needs_background": "light"
     },
     "output_type": "display_data"
    }
   ],
   "source": [
    "import seaborn as sns\n",
    "\n",
    "# Narrow down data to Bernie and Hillary\n",
    "data = contrib[(contrib['cand_nm'] == \"Sanders, Bernard\") | \\\n",
    "               (contrib['cand_nm'] == \"Clinton, Hillary Rodham\")]\n",
    "\n",
    "# Retain just the 3 relevant columns\n",
    "data1 = data[[\"cand_nm\", \"contb_receipt_amt\", \"contb_receipt_dt\"]]\n",
    "\n",
    "# Group by date and candidate --  sum the receipt amounts\n",
    "data2 = data.groupby([\"contb_receipt_dt\",\"cand_nm\"]).sum().reset_index(level=\"cand_nm\")\n",
    "# data\n",
    "\n",
    "# Not entirely sure what pivot does -- got the next two suggestions from here\n",
    "# https://stackoverflow.com/questions/70113137/python-how-to-plot-different-\\\n",
    "#lines-for-each-distinct-value-of-a-column\n",
    "\n",
    "data3 = pd.pivot(data2, columns = 'cand_nm', values = 'contb_receipt_amt')\n",
    "# data3\n",
    "#sns.lineplot(data=data3)\n",
    "\n",
    "fig,ax = plt.subplots(1,1, figsize = (14,8)) \n",
    "sns.lineplot(data=data3)\n",
    "\n",
    "ax.axvline(datetime(2016, 3, 9), color=\"black\", linestyle = '--', linewidth=3, alpha = 0.8)\n",
    "ax.axvline(datetime(2016, 2, 11), color=\"red\", linestyle = '--', linewidth=3, alpha = 0.8)\n",
    "ax.axvline(datetime(2016, 1, 17), color=\"green\", linestyle = '--', linewidth=3, alpha = 0.8)\n",
    "\n",
    "plt.title('Impact of Debates on Fundraising for Bernie and Hillary')\n",
    "plt.xlabel('Date')\n",
    "plt.ylabel('Amount Raised')\n",
    "plt.legend(loc = 'best')\n",
    "\n",
    "plt.show()"
   ]
  },
  {
   "cell_type": "markdown",
   "id": "f23ae652",
   "metadata": {},
   "source": [
    "- **1c answer here:** \n",
    "\n",
    "Yes, there is a noticeable uptick in fundraising (measured as the sum of contribution amounts) after each of the debates - for both candidates"
   ]
  },
  {
   "cell_type": "markdown",
   "id": "49c17cf7-4805-41c2-b6ef-d5d619758728",
   "metadata": {},
   "source": [
    "---"
   ]
  },
  {
   "cell_type": "markdown",
   "id": "6f49fe3f",
   "metadata": {},
   "source": [
    "## 2. Exploring Campaign Contributions (35 points)\n",
    "\n",
    "Let's investigate the donations to the candidates. (5 points)\n",
    "\n",
    "**2a.** Present a table that shows the number of donations to each candidate sorted by number of donations.**\n",
    "\n",
    "- When presenting data as a table, it is often best to sort the data in a meaningful way. This makes it easier for your reader to examine what you've done and to glean insights.  From now on, all tables that you present in this assignment (and course) should be sorted.\n",
    "- Hint: Use the `groupby` method. Groupby is explained in Unit 13: async 13.3 & 13.5\n",
    "- Hint: Use the `sort_values` method to sort the data so that candidates with the largest number of donations appear on top.\n",
    "\n",
    "Which candidate received the largest number/count of contributions (variable 'contb_receipt_amt')?"
   ]
  },
  {
   "cell_type": "code",
   "execution_count": 5,
   "id": "9efedd7c-24f7-47b0-9e40-69f760067537",
   "metadata": {
    "tags": []
   },
   "outputs": [
    {
     "data": {
      "text/html": [
       "<div>\n",
       "<style scoped>\n",
       "    .dataframe tbody tr th:only-of-type {\n",
       "        vertical-align: middle;\n",
       "    }\n",
       "\n",
       "    .dataframe tbody tr th {\n",
       "        vertical-align: top;\n",
       "    }\n",
       "\n",
       "    .dataframe thead th {\n",
       "        text-align: right;\n",
       "    }\n",
       "</style>\n",
       "<table border=\"1\" class=\"dataframe\">\n",
       "  <thead>\n",
       "    <tr style=\"text-align: right;\">\n",
       "      <th></th>\n",
       "      <th>contb_receipt_amt</th>\n",
       "    </tr>\n",
       "    <tr>\n",
       "      <th>cand_nm</th>\n",
       "      <th></th>\n",
       "    </tr>\n",
       "  </thead>\n",
       "  <tbody>\n",
       "    <tr>\n",
       "      <th>Sanders, Bernard</th>\n",
       "      <td>379284</td>\n",
       "    </tr>\n",
       "    <tr>\n",
       "      <th>Clinton, Hillary Rodham</th>\n",
       "      <td>171104</td>\n",
       "    </tr>\n",
       "    <tr>\n",
       "      <th>Cruz, Rafael Edward 'Ted'</th>\n",
       "      <td>56355</td>\n",
       "    </tr>\n",
       "    <tr>\n",
       "      <th>Carson, Benjamin S.</th>\n",
       "      <td>27015</td>\n",
       "    </tr>\n",
       "    <tr>\n",
       "      <th>Rubio, Marco</th>\n",
       "      <td>13267</td>\n",
       "    </tr>\n",
       "    <tr>\n",
       "      <th>Fiorina, Carly</th>\n",
       "      <td>4679</td>\n",
       "    </tr>\n",
       "    <tr>\n",
       "      <th>Paul, Rand</th>\n",
       "      <td>4164</td>\n",
       "    </tr>\n",
       "    <tr>\n",
       "      <th>Trump, Donald J.</th>\n",
       "      <td>3806</td>\n",
       "    </tr>\n",
       "    <tr>\n",
       "      <th>Bush, Jeb</th>\n",
       "      <td>3056</td>\n",
       "    </tr>\n",
       "    <tr>\n",
       "      <th>Kasich, John R.</th>\n",
       "      <td>2957</td>\n",
       "    </tr>\n",
       "  </tbody>\n",
       "</table>\n",
       "</div>"
      ],
      "text/plain": [
       "                           contb_receipt_amt\n",
       "cand_nm                                     \n",
       "Sanders, Bernard                      379284\n",
       "Clinton, Hillary Rodham               171104\n",
       "Cruz, Rafael Edward 'Ted'              56355\n",
       "Carson, Benjamin S.                    27015\n",
       "Rubio, Marco                           13267\n",
       "Fiorina, Carly                          4679\n",
       "Paul, Rand                              4164\n",
       "Trump, Donald J.                        3806\n",
       "Bush, Jeb                               3056\n",
       "Kasich, John R.                         2957"
      ]
     },
     "execution_count": 5,
     "metadata": {},
     "output_type": "execute_result"
    }
   ],
   "source": [
    "#contrib.groupby('cand_nm').count()\n",
    "\n",
    "data = contrib[[\"cand_nm\", \"contb_receipt_amt\"]]\n",
    "\n",
    "# contrib[[\"cand_nm\", \"contb_receipt_amt\"]].groupby('cand_nm').count().\\\n",
    "# sort_values(by=\"contb_receipt_amt\", ascending=False)\n",
    "\n",
    "#------Alternate ways? --------------------------------------------------\n",
    "#data['cand_nm'].value_counts().sort_values(ascending=False).head(5)\n",
    "#---------------------------------------------------------\n",
    "\n",
    "data.groupby('cand_nm').count().sort_values(by=\"contb_receipt_amt\", ascending=False).head(10)"
   ]
  },
  {
   "cell_type": "markdown",
   "id": "49a9027b",
   "metadata": {},
   "source": [
    "- **2a answer here:** \n",
    "\n",
    "Bernie Sanders got the most number of contributions"
   ]
  },
  {
   "cell_type": "markdown",
   "id": "7633a6d1-53ce-4063-aec3-fad324abcae7",
   "metadata": {},
   "source": [
    "---"
   ]
  },
  {
   "cell_type": "markdown",
   "id": "8501abbf",
   "metadata": {},
   "source": [
    "**2b.** Now, present a table that shows the total value of donations to each candidate sorted by total value of the donations. (5 points)\n",
    "\n",
    "Which candidate raised the most money in California?"
   ]
  },
  {
   "cell_type": "code",
   "execution_count": 6,
   "id": "e5d104ad",
   "metadata": {},
   "outputs": [
    {
     "data": {
      "text/html": [
       "<div>\n",
       "<style scoped>\n",
       "    .dataframe tbody tr th:only-of-type {\n",
       "        vertical-align: middle;\n",
       "    }\n",
       "\n",
       "    .dataframe tbody tr th {\n",
       "        vertical-align: top;\n",
       "    }\n",
       "\n",
       "    .dataframe thead th {\n",
       "        text-align: right;\n",
       "    }\n",
       "</style>\n",
       "<table border=\"1\" class=\"dataframe\">\n",
       "  <thead>\n",
       "    <tr style=\"text-align: right;\">\n",
       "      <th></th>\n",
       "      <th>contb_receipt_amt</th>\n",
       "    </tr>\n",
       "    <tr>\n",
       "      <th>cand_nm</th>\n",
       "      <th></th>\n",
       "    </tr>\n",
       "  </thead>\n",
       "  <tbody>\n",
       "    <tr>\n",
       "      <th>Clinton, Hillary Rodham</th>\n",
       "      <td>38,969,122.68</td>\n",
       "    </tr>\n",
       "    <tr>\n",
       "      <th>Sanders, Bernard</th>\n",
       "      <td>19,062,998.80</td>\n",
       "    </tr>\n",
       "    <tr>\n",
       "      <th>Cruz, Rafael Edward 'Ted'</th>\n",
       "      <td>5,926,568.27</td>\n",
       "    </tr>\n",
       "    <tr>\n",
       "      <th>Rubio, Marco</th>\n",
       "      <td>4,998,700.92</td>\n",
       "    </tr>\n",
       "    <tr>\n",
       "      <th>Bush, Jeb</th>\n",
       "      <td>3,316,836.83</td>\n",
       "    </tr>\n",
       "    <tr>\n",
       "      <th>Carson, Benjamin S.</th>\n",
       "      <td>3,022,105.15</td>\n",
       "    </tr>\n",
       "    <tr>\n",
       "      <th>Fiorina, Carly</th>\n",
       "      <td>1,473,989.42</td>\n",
       "    </tr>\n",
       "    <tr>\n",
       "      <th>Kasich, John R.</th>\n",
       "      <td>1,471,417.54</td>\n",
       "    </tr>\n",
       "    <tr>\n",
       "      <th>Trump, Donald J.</th>\n",
       "      <td>868,672.16</td>\n",
       "    </tr>\n",
       "    <tr>\n",
       "      <th>Paul, Rand</th>\n",
       "      <td>721,563.14</td>\n",
       "    </tr>\n",
       "  </tbody>\n",
       "</table>\n",
       "</div>"
      ],
      "text/plain": [
       "                           contb_receipt_amt\n",
       "cand_nm                                     \n",
       "Clinton, Hillary Rodham        38,969,122.68\n",
       "Sanders, Bernard               19,062,998.80\n",
       "Cruz, Rafael Edward 'Ted'       5,926,568.27\n",
       "Rubio, Marco                    4,998,700.92\n",
       "Bush, Jeb                       3,316,836.83\n",
       "Carson, Benjamin S.             3,022,105.15\n",
       "Fiorina, Carly                  1,473,989.42\n",
       "Kasich, John R.                 1,471,417.54\n",
       "Trump, Donald J.                  868,672.16\n",
       "Paul, Rand                        721,563.14"
      ]
     },
     "execution_count": 6,
     "metadata": {},
     "output_type": "execute_result"
    }
   ],
   "source": [
    "# 2b YOUR CODE HERE\n",
    "\n",
    "# using the same query as above -- replacing count() with sum()\n",
    "\n",
    "data.groupby('cand_nm').sum().sort_values(by=\"contb_receipt_amt\", ascending=False).head(10)"
   ]
  },
  {
   "cell_type": "markdown",
   "id": "5b970851",
   "metadata": {},
   "source": [
    "- **2b answer here:** \n",
    "\n",
    "Hillary Clinton raised the most money from California -- followed by Bernie Sanders. Interesting to note the Bernie had the higher overall count"
   ]
  },
  {
   "cell_type": "markdown",
   "id": "3dae295a-c701-4a2a-af5b-c1ef8d7dfa2a",
   "metadata": {},
   "source": [
    "---"
   ]
  },
  {
   "cell_type": "markdown",
   "id": "9f71c2a1",
   "metadata": {},
   "source": [
    "**2c.** Combine the tables (sorted by either a or b above). (5 points)\n",
    "\n",
    "- Looking at the two tables you presented above - if those tables are Series convert them to DataFrames.\n",
    "- Rename the variable (column) names to accurately describe what is presented.\n",
    "- Merge together your tables to show the *count* and the *value* of donations to each candidate in one table.\n",
    "- Hint: Use the `merge` method."
   ]
  },
  {
   "cell_type": "code",
   "execution_count": 32,
   "id": "899afccb",
   "metadata": {},
   "outputs": [
    {
     "data": {
      "text/html": [
       "<div>\n",
       "<style scoped>\n",
       "    .dataframe tbody tr th:only-of-type {\n",
       "        vertical-align: middle;\n",
       "    }\n",
       "\n",
       "    .dataframe tbody tr th {\n",
       "        vertical-align: top;\n",
       "    }\n",
       "\n",
       "    .dataframe thead th {\n",
       "        text-align: right;\n",
       "    }\n",
       "</style>\n",
       "<table border=\"1\" class=\"dataframe\">\n",
       "  <thead>\n",
       "    <tr style=\"text-align: right;\">\n",
       "      <th></th>\n",
       "      <th>Count_of_Contributions</th>\n",
       "      <th>Sum_of_Contributions</th>\n",
       "    </tr>\n",
       "    <tr>\n",
       "      <th>Candidate</th>\n",
       "      <th></th>\n",
       "      <th></th>\n",
       "    </tr>\n",
       "  </thead>\n",
       "  <tbody>\n",
       "    <tr>\n",
       "      <th>Clinton, Hillary Rodham</th>\n",
       "      <td>171104</td>\n",
       "      <td>38,969,122.68</td>\n",
       "    </tr>\n",
       "    <tr>\n",
       "      <th>Sanders, Bernard</th>\n",
       "      <td>379284</td>\n",
       "      <td>19,062,998.80</td>\n",
       "    </tr>\n",
       "    <tr>\n",
       "      <th>Cruz, Rafael Edward 'Ted'</th>\n",
       "      <td>56355</td>\n",
       "      <td>5,926,568.27</td>\n",
       "    </tr>\n",
       "    <tr>\n",
       "      <th>Rubio, Marco</th>\n",
       "      <td>13267</td>\n",
       "      <td>4,998,700.92</td>\n",
       "    </tr>\n",
       "    <tr>\n",
       "      <th>Bush, Jeb</th>\n",
       "      <td>3056</td>\n",
       "      <td>3,316,836.83</td>\n",
       "    </tr>\n",
       "    <tr>\n",
       "      <th>Carson, Benjamin S.</th>\n",
       "      <td>27015</td>\n",
       "      <td>3,022,105.15</td>\n",
       "    </tr>\n",
       "    <tr>\n",
       "      <th>Fiorina, Carly</th>\n",
       "      <td>4679</td>\n",
       "      <td>1,473,989.42</td>\n",
       "    </tr>\n",
       "    <tr>\n",
       "      <th>Kasich, John R.</th>\n",
       "      <td>2957</td>\n",
       "      <td>1,471,417.54</td>\n",
       "    </tr>\n",
       "    <tr>\n",
       "      <th>Trump, Donald J.</th>\n",
       "      <td>3806</td>\n",
       "      <td>868,672.16</td>\n",
       "    </tr>\n",
       "    <tr>\n",
       "      <th>Paul, Rand</th>\n",
       "      <td>4164</td>\n",
       "      <td>721,563.14</td>\n",
       "    </tr>\n",
       "  </tbody>\n",
       "</table>\n",
       "</div>"
      ],
      "text/plain": [
       "                           Count_of_Contributions  Sum_of_Contributions\n",
       "Candidate                                                              \n",
       "Clinton, Hillary Rodham                    171104         38,969,122.68\n",
       "Sanders, Bernard                           379284         19,062,998.80\n",
       "Cruz, Rafael Edward 'Ted'                   56355          5,926,568.27\n",
       "Rubio, Marco                                13267          4,998,700.92\n",
       "Bush, Jeb                                    3056          3,316,836.83\n",
       "Carson, Benjamin S.                         27015          3,022,105.15\n",
       "Fiorina, Carly                               4679          1,473,989.42\n",
       "Kasich, John R.                              2957          1,471,417.54\n",
       "Trump, Donald J.                             3806            868,672.16\n",
       "Paul, Rand                                   4164            721,563.14"
      ]
     },
     "execution_count": 32,
     "metadata": {},
     "output_type": "execute_result"
    }
   ],
   "source": [
    "# 2c YOUR CODE HERE\n",
    "\n",
    "# get df with count of contributions\n",
    "data1 = data.groupby('cand_nm').count().sort_values(by=\"contb_receipt_amt\", \\\n",
    "                                                    ascending=False)\n",
    "\n",
    "# get df with sum of contributions\n",
    "data2 = data.groupby('cand_nm').sum().sort_values(by=\"contb_receipt_amt\", \\\n",
    "                                                  ascending=False)\n",
    "\n",
    "# Merge both DFs \n",
    "\n",
    "merged = pd.merge(data1, data2, on = 'cand_nm')\n",
    "\n",
    "# Rename columns\n",
    "merged.rename(columns = {'contb_receipt_amt_x' : 'Count_of_Contributions',\\\n",
    "                         'contb_receipt_amt_y' : 'Sum_of_Contributions' }, \\\n",
    "              inplace=True)\n",
    "\n",
    "# Rename index\n",
    "merged.index.names = ['Candidate']\n",
    "\n",
    "# Sort based on the Sum\n",
    "merged.sort_values(by = \"Sum_of_Contributions\", ascending = False, inplace=True)\n",
    "merged.head(10)"
   ]
  },
  {
   "cell_type": "markdown",
   "id": "fd2f965a-ab05-43cb-b436-8d003b8cc13f",
   "metadata": {},
   "source": [
    "---"
   ]
  },
  {
   "cell_type": "markdown",
   "id": "ccea1960",
   "metadata": {},
   "source": [
    "**2d. Calculate and add a new variable to the table from 2c that shows the average \\$ per donation. Print this table sorted by the average donation** (5 points)\n",
    "\n",
    "Which candidate had the highest average donation?"
   ]
  },
  {
   "cell_type": "code",
   "execution_count": 35,
   "id": "e76bd4ed",
   "metadata": {},
   "outputs": [
    {
     "data": {
      "text/html": [
       "<div>\n",
       "<style scoped>\n",
       "    .dataframe tbody tr th:only-of-type {\n",
       "        vertical-align: middle;\n",
       "    }\n",
       "\n",
       "    .dataframe tbody tr th {\n",
       "        vertical-align: top;\n",
       "    }\n",
       "\n",
       "    .dataframe thead th {\n",
       "        text-align: right;\n",
       "    }\n",
       "</style>\n",
       "<table border=\"1\" class=\"dataframe\">\n",
       "  <thead>\n",
       "    <tr style=\"text-align: right;\">\n",
       "      <th></th>\n",
       "      <th>Count_of_Contributions</th>\n",
       "      <th>Sum_of_Contributions</th>\n",
       "      <th>Average_Donation</th>\n",
       "    </tr>\n",
       "    <tr>\n",
       "      <th>Candidate</th>\n",
       "      <th></th>\n",
       "      <th></th>\n",
       "      <th></th>\n",
       "    </tr>\n",
       "  </thead>\n",
       "  <tbody>\n",
       "    <tr>\n",
       "      <th>Gilmore, James S III</th>\n",
       "      <td>3</td>\n",
       "      <td>8,100.00</td>\n",
       "      <td>2,700.00</td>\n",
       "    </tr>\n",
       "    <tr>\n",
       "      <th>Perry, James R. (Rick)</th>\n",
       "      <td>104</td>\n",
       "      <td>208,400.00</td>\n",
       "      <td>2,003.85</td>\n",
       "    </tr>\n",
       "    <tr>\n",
       "      <th>Pataki, George E.</th>\n",
       "      <td>20</td>\n",
       "      <td>30,450.00</td>\n",
       "      <td>1,522.50</td>\n",
       "    </tr>\n",
       "    <tr>\n",
       "      <th>Christie, Christopher J.</th>\n",
       "      <td>333</td>\n",
       "      <td>456,066.00</td>\n",
       "      <td>1,369.57</td>\n",
       "    </tr>\n",
       "    <tr>\n",
       "      <th>Graham, Lindsey O.</th>\n",
       "      <td>305</td>\n",
       "      <td>379,495.00</td>\n",
       "      <td>1,244.25</td>\n",
       "    </tr>\n",
       "    <tr>\n",
       "      <th>Bush, Jeb</th>\n",
       "      <td>3056</td>\n",
       "      <td>3,316,836.83</td>\n",
       "      <td>1,085.35</td>\n",
       "    </tr>\n",
       "    <tr>\n",
       "      <th>O'Malley, Martin Joseph</th>\n",
       "      <td>392</td>\n",
       "      <td>297,334.26</td>\n",
       "      <td>758.51</td>\n",
       "    </tr>\n",
       "    <tr>\n",
       "      <th>Jindal, Bobby</th>\n",
       "      <td>31</td>\n",
       "      <td>23,231.26</td>\n",
       "      <td>749.40</td>\n",
       "    </tr>\n",
       "    <tr>\n",
       "      <th>Walker, Scott</th>\n",
       "      <td>666</td>\n",
       "      <td>492,706.90</td>\n",
       "      <td>739.80</td>\n",
       "    </tr>\n",
       "    <tr>\n",
       "      <th>Webb, James Henry Jr.</th>\n",
       "      <td>106</td>\n",
       "      <td>76,568.16</td>\n",
       "      <td>722.34</td>\n",
       "    </tr>\n",
       "  </tbody>\n",
       "</table>\n",
       "</div>"
      ],
      "text/plain": [
       "                          Count_of_Contributions  Sum_of_Contributions  \\\n",
       "Candidate                                                                \n",
       "Gilmore, James S III                           3              8,100.00   \n",
       "Perry, James R. (Rick)                       104            208,400.00   \n",
       "Pataki, George E.                             20             30,450.00   \n",
       "Christie, Christopher J.                     333            456,066.00   \n",
       "Graham, Lindsey O.                           305            379,495.00   \n",
       "Bush, Jeb                                   3056          3,316,836.83   \n",
       "O'Malley, Martin Joseph                      392            297,334.26   \n",
       "Jindal, Bobby                                 31             23,231.26   \n",
       "Walker, Scott                                666            492,706.90   \n",
       "Webb, James Henry Jr.                        106             76,568.16   \n",
       "\n",
       "                          Average_Donation  \n",
       "Candidate                                   \n",
       "Gilmore, James S III              2,700.00  \n",
       "Perry, James R. (Rick)            2,003.85  \n",
       "Pataki, George E.                 1,522.50  \n",
       "Christie, Christopher J.          1,369.57  \n",
       "Graham, Lindsey O.                1,244.25  \n",
       "Bush, Jeb                         1,085.35  \n",
       "O'Malley, Martin Joseph             758.51  \n",
       "Jindal, Bobby                       749.40  \n",
       "Walker, Scott                       739.80  \n",
       "Webb, James Henry Jr.               722.34  "
      ]
     },
     "execution_count": 35,
     "metadata": {},
     "output_type": "execute_result"
    }
   ],
   "source": [
    "# 2d YOUR CODE HERE\n",
    "\n",
    "merged['Average_Donation'] = merged['Sum_of_Contributions'] / \\\n",
    "                            merged['Count_of_Contributions']\n",
    "\n",
    "merged.sort_values(by = \"Average_Donation\", ascending = False, inplace=True)\n",
    "merged.head(10)"
   ]
  },
  {
   "cell_type": "markdown",
   "id": "ff4ec099",
   "metadata": {},
   "source": [
    "- **2d answer here:** \n",
    "\n",
    "Gilmore, James S III had the highest average donation"
   ]
  },
  {
   "cell_type": "markdown",
   "id": "070c9f45-913b-461a-b9cc-fcea83dacf25",
   "metadata": {},
   "source": [
    "---"
   ]
  },
  {
   "cell_type": "markdown",
   "id": "e6faff47",
   "metadata": {},
   "source": [
    "**2e. Plotting a Bar Chart** (10 points)\n",
    "\n",
    "Make a single bar chart that shows two different bars per candidate with one bar as the total value of the donations and the other as average $ per donation. \n",
    "- Show the Candidates Name on the x-axis\n",
    "- Show the amount on the y-axis\n",
    "- Include a title\n",
    "- Include axis labels\n",
    "- Sort by total value of the donations\n",
    "- Make the y-axis a log-scale to show both numbers! (matplotlib docs: https://matplotlib.org/3.1.1/api/_as_gen/matplotlib.pyplot.yscale.html )"
   ]
  },
  {
   "cell_type": "code",
   "execution_count": 11,
   "id": "a5162502",
   "metadata": {},
   "outputs": [],
   "source": [
    "# 2e YOUR CODE HERE\n"
   ]
  },
  {
   "cell_type": "markdown",
   "id": "8a8df977",
   "metadata": {},
   "source": [
    "**2f. Comment on the results of your data analysis in a short paragraph.** (5 points)\n",
    "\n",
    "- There are several interesting conclusions you can draw from the table you have created.\n",
    "- What have you learned about campaign contributions in California?\n",
    "- We are looking for data insights here rather than comments on the code!"
   ]
  },
  {
   "cell_type": "markdown",
   "id": "01b79826",
   "metadata": {},
   "source": [
    "- **2f answer here:** "
   ]
  },
  {
   "cell_type": "markdown",
   "id": "653b0dde",
   "metadata": {},
   "source": [
    "## 3. Exploring Donor Occupations (35 points)\n",
    "\n",
    "Above in part 2, we saw that some simple data analysis can give us insights into the campaigns of our candidates. Now let's quickly look to see what *kind* of person is donating to each campaign using the `contbr_occupation` variable."
   ]
  },
  {
   "cell_type": "markdown",
   "id": "2227ba0d",
   "metadata": {},
   "source": [
    "**3a.** Show the top 5 occupations of individuals that contributed to Hillary Clinton. (5 points)\n",
    "\n",
    "- Subset your data to create a dataframe with only donations for Hillary Clinton.\n",
    "- Then use the `value_counts` and `head` methods to present the top 5 occupations (`contbr_occupation`) for her donors.\n",
    "- Note: we are just interested in the count of donations, not the value of those donations."
   ]
  },
  {
   "cell_type": "code",
   "execution_count": 12,
   "id": "ba110522",
   "metadata": {},
   "outputs": [],
   "source": [
    "# 3a YOUR CODE HERE\n"
   ]
  },
  {
   "cell_type": "markdown",
   "id": "eecfacae",
   "metadata": {},
   "source": [
    "**3b.** Write a function called `get_donors`. (5 points)\n",
    " \n",
    "Imagine that you want to do the previous operation on several candidates.  To keep your work neat, you want to take the work you did on the Clinton-subset and wrap it in a function that you can apply to other subsets of the data.\n",
    "\n",
    "- The function should take a DataFrame as a parameter, and return a Series containing the counts for the top 5 occupations contained in that DataFrame."
   ]
  },
  {
   "cell_type": "code",
   "execution_count": 13,
   "id": "07a3a233",
   "metadata": {},
   "outputs": [],
   "source": [
    "def get_donors(df):\n",
    "    \"\"\"This function takes a dataframe that contains a variable named contbr_occupation.\n",
    "    It outputs a Series containing the counts for the 5 most common values of that\n",
    "    variable.\"\"\"\n",
    "    \n",
    "    # 3b YOUR CODE HERE\n",
    "    "
   ]
  },
  {
   "cell_type": "markdown",
   "id": "5307681b",
   "metadata": {},
   "source": [
    "**3c.** Now run the `get_donors` function from 3b on subsets of the dataframe corresponding to three candidates. Show each of the three candidates below. (5 points)\n",
    "\n",
    "- Hillary Clinton\n",
    "- Bernie Sanders\n",
    "- Donald Trump"
   ]
  },
  {
   "cell_type": "code",
   "execution_count": 14,
   "id": "4625a08e",
   "metadata": {},
   "outputs": [],
   "source": [
    "# 3c YOUR CODE HERE\n"
   ]
  },
  {
   "cell_type": "markdown",
   "id": "f6523d39",
   "metadata": {},
   "source": [
    "**3d.** Finally, use `groupby` to separate the entire dataset by candidate. (10 points)\n",
    "\n",
    "- Call .apply(get_donors) on your groupby object, which will apply the function you wrote to each subset of your data.\n",
    "- Look at your output and marvel at what pandas can do in just one line!"
   ]
  },
  {
   "cell_type": "code",
   "execution_count": 15,
   "id": "fb66b0d5",
   "metadata": {},
   "outputs": [],
   "source": [
    "# 3d YOUR CODE HERE\n"
   ]
  },
  {
   "cell_type": "markdown",
   "id": "8e05fcd7",
   "metadata": {},
   "source": [
    "**3e.** Comment on your data insights & findings in a short paragraph. (5 points)"
   ]
  },
  {
   "cell_type": "markdown",
   "id": "6e808a24",
   "metadata": {},
   "source": [
    "- **3e answer here:** "
   ]
  },
  {
   "cell_type": "markdown",
   "id": "964388c9",
   "metadata": {},
   "source": [
    "**3f.** Think about your findings in section 3 vs. your findings in section 2 of this assignment. (5 points)\n",
    "\n",
    "Do you have any new data insights into the results you saw in section 2 now that you see the top occupations for each candidate?"
   ]
  },
  {
   "cell_type": "markdown",
   "id": "377713a0",
   "metadata": {},
   "source": [
    "- **3f answer here:** "
   ]
  },
  {
   "cell_type": "markdown",
   "id": "3252182f",
   "metadata": {},
   "source": [
    "## If you have feedback for this homework, please submit it using the link below:\n",
    "\n",
    "http://goo.gl/forms/74yCiQTf6k"
   ]
  }
 ],
 "metadata": {
  "kernelspec": {
   "display_name": "Python 3 (ipykernel)",
   "language": "python",
   "name": "python3"
  },
  "language_info": {
   "codemirror_mode": {
    "name": "ipython",
    "version": 3
   },
   "file_extension": ".py",
   "mimetype": "text/x-python",
   "name": "python",
   "nbconvert_exporter": "python",
   "pygments_lexer": "ipython3",
   "version": "3.9.12"
  }
 },
 "nbformat": 4,
 "nbformat_minor": 5
}
