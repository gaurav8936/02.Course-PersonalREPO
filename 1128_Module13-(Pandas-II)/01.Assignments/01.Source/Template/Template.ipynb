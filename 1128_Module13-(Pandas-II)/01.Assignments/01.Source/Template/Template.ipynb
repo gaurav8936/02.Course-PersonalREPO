{
 "cells": [
  {
   "cell_type": "markdown",
   "id": "6433c24c",
   "metadata": {},
   "source": [
    "## Objectives\n",
    "\n",
    "- Explore and glean insights from a real dataset using pandas\n",
    "- Practice using pandas for exploratory analysis, information gathering, and discovery\n",
    "- Practice using matplotlib for data visualization"
   ]
  },
  {
   "cell_type": "markdown",
   "id": "71eb82ac",
   "metadata": {},
   "source": [
    "## General Guidelines:\n",
    "\n",
    "- This is a **real** dataset and so it may contain errors and other pecularities to work through\n",
    "- This dataset is ~218mb, which will take some time to load (and probably won't load in Google Sheets or Excel)\n",
    "- If you make assumptions, annotate them in your responses\n",
    "- While there is one code/markdown cell positioned after each question as a placeholder, some of your code/responses may require multiple cells\n",
    "- Double-click the markdown cells that say for example **1a answer here:** to enter your written answers. If you need more cells for your written answers, make them markdown cells (rather than code cells)\n",
    "- **This is meant to simulate real world data so you will have to do some external research to determine what some of the answers are!** \n",
    "- Only use the plotting libraries matplotlib or seaborn for the visualizations."
   ]
  },
  {
   "cell_type": "markdown",
   "id": "9071e0f4",
   "metadata": {},
   "source": [
    "## Dataset\n",
    "\n",
    "You are to analyze campaign contributions to the 2016 U.S. presidential primary races made in California. Use the csv file located here: https://drive.google.com/file/d/1ftdw7L9Z6WQJ6i0SXj030PA7ObsXfPsg/view?usp=sharing. You should download and save this file in a folder outside where this notebook is stored. This file originally came from the U.S. Federal Election Commission (https://www.fec.gov/).\n",
    "\n",
    "This file is already cleaned and ready to use - you **do not** need to filter or clean it anymore! (you may not agree with the how it was cleaned but please use this file as is)."
   ]
  },
  {
   "cell_type": "markdown",
   "id": "c1c17ae4",
   "metadata": {},
   "source": [
    "## Setup\n",
    "\n",
    "Run the cell below as it will load the data into a pandas dataframe named `contrib`. Note that a custom date parser is defined to speed up loading. If Python were to guess the date format, it would take even longer to load."
   ]
  },
  {
   "cell_type": "code",
   "execution_count": 6,
   "id": "de9b9512",
   "metadata": {},
   "outputs": [],
   "source": [
    "import pandas as pd\n",
    "import numpy as np\n",
    "from datetime import datetime\n",
    "import matplotlib.pyplot as plt\n",
    "\n",
    "# These commands below set some options for pandas and to have matplotlib show the charts in the notebook\n",
    "pd.set_option('display.max_rows', 1000)\n",
    "pd.options.display.float_format = '{:,.2f}'.format\n",
    "%matplotlib inline\n",
    "\n",
    "# Load the data\n",
    "# We have this defaulted to the folder OUTSIDE of your repo - please change it as needed\n",
    "contrib = pd.read_csv('../../../2016_ca_primary_cleaned.csv', index_col=False, parse_dates=['contb_receipt_dt'])\n",
    "\n",
    "# Note - for now, it is okay to ignore the warning about mixed types."
   ]
  },
  {
   "cell_type": "markdown",
   "id": "d0bf8323",
   "metadata": {},
   "source": [
    "## 1. Plotting Data (30 points)\n",
    "\n",
    "Your boss asked for you to make a few charts from the dataset to better explore the information. "
   ]
  },
  {
   "cell_type": "markdown",
   "id": "f24f3640-5351-42aa-b95b-4cffeb8f92e6",
   "metadata": {},
   "source": [
    "---"
   ]
  },
  {
   "cell_type": "markdown",
   "id": "9919956a",
   "metadata": {},
   "source": [
    "**1a.** Plotting a histogram of contribute amount (10 points)\n",
    "\n",
    "Make a histogram of the **full range** of values in the `contb_receipt_amt` variable. \n",
    "\n",
    "Remember to include on your histogram:\n",
    "- Include a title\n",
    "- Include axis labels\n",
    "- The correct number of bins to see the breakout of values\n",
    "\n",
    "Based on the histogram - what range of contributions have the highest count frequency?"
   ]
  },
  {
   "cell_type": "code",
   "execution_count": 2,
   "id": "47953f7f",
   "metadata": {},
   "outputs": [],
   "source": [
    "# 1a YOUR CODE HERE\n"
   ]
  },
  {
   "cell_type": "markdown",
   "id": "a8458c6e",
   "metadata": {},
   "source": [
    "- **1a answer here:**\n",
    "\n",
    "* Type Answer Here\n",
    "* Type Answer Here\n",
    "* Type Answer Here\n",
    "* Type Answer Here"
   ]
  },
  {
   "cell_type": "markdown",
   "id": "def31ee2-d2c1-4f39-919e-1cfd42138d37",
   "metadata": {},
   "source": [
    "---"
   ]
  },
  {
   "cell_type": "markdown",
   "id": "324a0a3b",
   "metadata": {},
   "source": [
    "**1b.** Plotting a histogram of contribute amount (10 points)\n",
    "\n",
    "Make a 'zoomed-in' histogram of the range that had the highest count frequencies from 1a above. \n",
    "\n",
    "Remember to include on your histogram:\n",
    "- Include a title\n",
    "- Include axis labels\n",
    "- The correct number of bins to see the breakout of values\n",
    "\n",
    "What are some insights that you can see from these two histograms (1a and 1b)?"
   ]
  },
  {
   "cell_type": "code",
   "execution_count": 3,
   "id": "28b64ca7",
   "metadata": {},
   "outputs": [],
   "source": [
    "# 1b YOUR CODE HERE\n"
   ]
  },
  {
   "cell_type": "markdown",
   "id": "7b1e763e",
   "metadata": {},
   "source": [
    "- **1b answer here:** \n",
    "\n",
    "\n",
    "* Type Answer Here\n",
    "* Type Answer Here\n",
    "* Type Answer Here\n",
    "* Type Answer Here"
   ]
  },
  {
   "cell_type": "markdown",
   "id": "2b5c27d6-9501-4a80-ae77-96b674392e78",
   "metadata": {},
   "source": [
    "---"
   ]
  },
  {
   "cell_type": "markdown",
   "id": "0012e029",
   "metadata": {},
   "source": [
    "**1c.** Present a time-series line chart with the following elements (10 points)  \n",
    "\n",
    "- The chart needs to have two lines - one for Bernie Sanders and one for Hillary Clinton.\n",
    "- Show the date on the x-axis\n",
    "- Add vertical lines for these dates of the primary debates: 17 Jan 2016, 11 Feb 2016, 9 Mar 2016\n",
    "- Show the total contribution amount for that day on the y-axis\n",
    "- Include a title\n",
    "- Include axis labels\n",
    "\n",
    "How did the debates effect fundraising / donations? Did fundraising increase or decrease after the debates for each candidate?"
   ]
  },
  {
   "cell_type": "code",
   "execution_count": null,
   "id": "cbafc2a2",
   "metadata": {},
   "outputs": [],
   "source": [
    "# 1c YOUR CODE HERE\n"
   ]
  },
  {
   "cell_type": "markdown",
   "id": "f23ae652",
   "metadata": {},
   "source": [
    "- **1c answer here:** \n",
    "\n",
    "\n",
    "* Type Answer Here\n",
    "* Type Answer Here\n",
    "* Type Answer Here\n",
    "* Type Answer Here"
   ]
  },
  {
   "cell_type": "markdown",
   "id": "61b5a93c-a96b-49eb-8a83-58dd75e64c9a",
   "metadata": {},
   "source": [
    "---"
   ]
  },
  {
   "cell_type": "markdown",
   "id": "6f49fe3f",
   "metadata": {},
   "source": [
    "## 2. Exploring Campaign Contributions (35 points)\n",
    "\n",
    "Let's investigate the donations to the candidates. (5 points)\n",
    "\n",
    "**2a.** Present a table that shows the number of donations to each candidate sorted by number of donations.**\n",
    "\n",
    "- When presenting data as a table, it is often best to sort the data in a meaningful way. This makes it easier for your reader to examine what you've done and to glean insights.  From now on, all tables that you present in this assignment (and course) should be sorted.\n",
    "- Hint: Use the `groupby` method. Groupby is explained in Unit 13: async 13.3 & 13.5\n",
    "- Hint: Use the `sort_values` method to sort the data so that candidates with the largest number of donations appear on top.\n",
    "\n",
    "Which candidate received the largest number/count of contributions (variable 'contb_receipt_amt')?"
   ]
  },
  {
   "cell_type": "code",
   "execution_count": null,
   "id": "5724a721",
   "metadata": {},
   "outputs": [],
   "source": [
    "# 2a YOUR CODE HERE\n"
   ]
  },
  {
   "cell_type": "markdown",
   "id": "49a9027b",
   "metadata": {},
   "source": [
    "- **2a answer here:** \n",
    "\n",
    "\n",
    "* Type Answer Here\n",
    "* Type Answer Here\n",
    "* Type Answer Here\n",
    "* Type Answer Here"
   ]
  },
  {
   "cell_type": "markdown",
   "id": "60f1ce3e-3347-43b2-b0da-121dc3c8fd38",
   "metadata": {},
   "source": [
    "---"
   ]
  },
  {
   "cell_type": "markdown",
   "id": "8501abbf",
   "metadata": {},
   "source": [
    "**2b.** Now, present a table that shows the total value of donations to each candidate sorted by total value of the donations. (5 points)\n",
    "\n",
    "Which candidate raised the most money in California?"
   ]
  },
  {
   "cell_type": "code",
   "execution_count": null,
   "id": "e5d104ad",
   "metadata": {},
   "outputs": [],
   "source": [
    "# 2b YOUR CODE HERE\n"
   ]
  },
  {
   "cell_type": "markdown",
   "id": "5b970851",
   "metadata": {},
   "source": [
    "- **2b answer here:** \n",
    "\n",
    "\n",
    "* Type Answer Here\n",
    "* Type Answer Here\n",
    "* Type Answer Here\n",
    "* Type Answer Here"
   ]
  },
  {
   "cell_type": "markdown",
   "id": "537eab45-5650-486b-9a22-4ec51d6878f8",
   "metadata": {},
   "source": [
    "---"
   ]
  },
  {
   "cell_type": "markdown",
   "id": "9f71c2a1",
   "metadata": {},
   "source": [
    "**2c.** Combine the tables (sorted by either a or b above). (5 points)\n",
    "\n",
    "- Looking at the two tables you presented above - if those tables are Series convert them to DataFrames.\n",
    "- Rename the variable (column) names to accurately describe what is presented.\n",
    "- Merge together your tables to show the *count* and the *value* of donations to each candidate in one table.\n",
    "- Hint: Use the `merge` method."
   ]
  },
  {
   "cell_type": "code",
   "execution_count": 4,
   "id": "899afccb",
   "metadata": {},
   "outputs": [],
   "source": [
    "# 2c YOUR CODE HERE\n"
   ]
  },
  {
   "cell_type": "markdown",
   "id": "53f4c9f1-62b4-4c2b-9432-6d501127c3ef",
   "metadata": {},
   "source": [
    "---"
   ]
  },
  {
   "cell_type": "markdown",
   "id": "ccea1960",
   "metadata": {},
   "source": [
    "**2d. Calculate and add a new variable to the table from 2c that shows the average \\$ per donation. Print this table sorted by the average donation** (5 points)\n",
    "\n",
    "Which candidate had the highest average donation?"
   ]
  },
  {
   "cell_type": "code",
   "execution_count": null,
   "id": "e76bd4ed",
   "metadata": {},
   "outputs": [],
   "source": [
    "# 2d YOUR CODE HERE\n"
   ]
  },
  {
   "cell_type": "markdown",
   "id": "ff4ec099",
   "metadata": {},
   "source": [
    "- **2d answer here:** \n",
    "\n",
    "\n",
    "* Type Answer Here\n",
    "* Type Answer Here\n",
    "* Type Answer Here\n",
    "* Type Answer Here"
   ]
  },
  {
   "cell_type": "markdown",
   "id": "20167476-96d5-4f9d-935f-a272ef28a1b9",
   "metadata": {},
   "source": [
    "---"
   ]
  },
  {
   "cell_type": "markdown",
   "id": "e6faff47",
   "metadata": {},
   "source": [
    "**2e. Plotting a Bar Chart** (10 points)\n",
    "\n",
    "Make a single bar chart that shows two different bars per candidate with one bar as the total value of the donations and the other as average $ per donation. \n",
    "- Show the Candidates Name on the x-axis\n",
    "- Show the amount on the y-axis\n",
    "- Include a title\n",
    "- Include axis labels\n",
    "- Sort by total value of the donations\n",
    "- Make the y-axis a log-scale to show both numbers! (matplotlib docs: https://matplotlib.org/3.1.1/api/_as_gen/matplotlib.pyplot.yscale.html )"
   ]
  },
  {
   "cell_type": "code",
   "execution_count": null,
   "id": "a5162502",
   "metadata": {},
   "outputs": [],
   "source": [
    "# 2e YOUR CODE HERE\n"
   ]
  },
  {
   "cell_type": "markdown",
   "id": "86ce7f16-986f-4895-a017-82220409a441",
   "metadata": {},
   "source": [
    "---"
   ]
  },
  {
   "cell_type": "markdown",
   "id": "8a8df977",
   "metadata": {},
   "source": [
    "**2f. Comment on the results of your data analysis in a short paragraph.** (5 points)\n",
    "\n",
    "- There are several interesting conclusions you can draw from the table you have created.\n",
    "- What have you learned about campaign contributions in California?\n",
    "- We are looking for data insights here rather than comments on the code!"
   ]
  },
  {
   "cell_type": "markdown",
   "id": "01b79826",
   "metadata": {},
   "source": [
    "- **2f answer here:** \n",
    "\n",
    "\n",
    "* Type Answer Here\n",
    "* Type Answer Here\n",
    "* Type Answer Here\n",
    "* Type Answer Here"
   ]
  },
  {
   "cell_type": "markdown",
   "id": "85a78dcb-03f4-4d4e-ad15-601558afab8d",
   "metadata": {},
   "source": [
    "---"
   ]
  },
  {
   "cell_type": "markdown",
   "id": "653b0dde",
   "metadata": {},
   "source": [
    "## 3. Exploring Donor Occupations (35 points)\n",
    "\n",
    "Above in part 2, we saw that some simple data analysis can give us insights into the campaigns of our candidates. Now let's quickly look to see what *kind* of person is donating to each campaign using the `contbr_occupation` variable."
   ]
  },
  {
   "cell_type": "markdown",
   "id": "2227ba0d",
   "metadata": {},
   "source": [
    "**3a.** Show the top 5 occupations of individuals that contributed to Hillary Clinton. (5 points)\n",
    "\n",
    "- Subset your data to create a dataframe with only donations for Hillary Clinton.\n",
    "- Then use the `value_counts` and `head` methods to present the top 5 occupations (`contbr_occupation`) for her donors.\n",
    "- Note: we are just interested in the count of donations, not the value of those donations."
   ]
  },
  {
   "cell_type": "code",
   "execution_count": null,
   "id": "ba110522",
   "metadata": {},
   "outputs": [],
   "source": [
    "# 3a YOUR CODE HERE\n"
   ]
  },
  {
   "cell_type": "markdown",
   "id": "d41acf9d-06ec-4218-92d3-cf7e29bfbf95",
   "metadata": {},
   "source": [
    "---"
   ]
  },
  {
   "cell_type": "markdown",
   "id": "eecfacae",
   "metadata": {},
   "source": [
    "**3b.** Write a function called `get_donors`. (5 points)\n",
    " \n",
    "Imagine that you want to do the previous operation on several candidates.  To keep your work neat, you want to take the work you did on the Clinton-subset and wrap it in a function that you can apply to other subsets of the data.\n",
    "\n",
    "- The function should take a DataFrame as a parameter, and return a Series containing the counts for the top 5 occupations contained in that DataFrame."
   ]
  },
  {
   "cell_type": "code",
   "execution_count": null,
   "id": "07a3a233",
   "metadata": {},
   "outputs": [],
   "source": [
    "def get_donors(df):\n",
    "    \"\"\"This function takes a dataframe that contains a variable named contbr_occupation.\n",
    "    It outputs a Series containing the counts for the 5 most common values of that\n",
    "    variable.\"\"\"\n",
    "    \n",
    "    # 3b YOUR CODE HERE\n",
    "    "
   ]
  },
  {
   "cell_type": "markdown",
   "id": "6c6bed93-0352-4e7c-9db4-102c7fb0ccd9",
   "metadata": {},
   "source": [
    "---"
   ]
  },
  {
   "cell_type": "markdown",
   "id": "5307681b",
   "metadata": {},
   "source": [
    "**3c.** Now run the `get_donors` function from 3b on subsets of the dataframe corresponding to three candidates. Show each of the three candidates below. (5 points)\n",
    "\n",
    "- Hillary Clinton\n",
    "- Bernie Sanders\n",
    "- Donald Trump"
   ]
  },
  {
   "cell_type": "code",
   "execution_count": null,
   "id": "4625a08e",
   "metadata": {},
   "outputs": [],
   "source": [
    "# 3c YOUR CODE HERE\n"
   ]
  },
  {
   "cell_type": "markdown",
   "id": "8977b774-f22d-41f6-9703-3dd4311adf8e",
   "metadata": {},
   "source": [
    "---"
   ]
  },
  {
   "cell_type": "markdown",
   "id": "f6523d39",
   "metadata": {},
   "source": [
    "**3d.** Finally, use `groupby` to separate the entire dataset by candidate. (10 points)\n",
    "\n",
    "- Call .apply(get_donors) on your groupby object, which will apply the function you wrote to each subset of your data.\n",
    "- Look at your output and marvel at what pandas can do in just one line!"
   ]
  },
  {
   "cell_type": "code",
   "execution_count": null,
   "id": "fb66b0d5",
   "metadata": {},
   "outputs": [],
   "source": [
    "# 3d YOUR CODE HERE\n"
   ]
  },
  {
   "cell_type": "markdown",
   "id": "5faebb3f-808f-49d0-8607-28f39a94a543",
   "metadata": {},
   "source": [
    "---"
   ]
  },
  {
   "cell_type": "markdown",
   "id": "8e05fcd7",
   "metadata": {},
   "source": [
    "**3e.** Comment on your data insights & findings in a short paragraph. (5 points)"
   ]
  },
  {
   "cell_type": "markdown",
   "id": "6e808a24",
   "metadata": {},
   "source": [
    "- **3e answer here:** \n",
    "\n",
    "\n",
    "* Type Answer Here\n",
    "* Type Answer Here\n",
    "* Type Answer Here\n",
    "* Type Answer Here"
   ]
  },
  {
   "cell_type": "markdown",
   "id": "a57f507b-9e6c-40a6-8927-bda6d4c7a12a",
   "metadata": {},
   "source": [
    "---"
   ]
  },
  {
   "cell_type": "markdown",
   "id": "964388c9",
   "metadata": {},
   "source": [
    "**3f.** Think about your findings in section 3 vs. your findings in section 2 of this assignment. (5 points)\n",
    "\n",
    "Do you have any new data insights into the results you saw in section 2 now that you see the top occupations for each candidate?"
   ]
  },
  {
   "cell_type": "markdown",
   "id": "377713a0",
   "metadata": {},
   "source": [
    "- **3f answer here:** \n",
    "\n",
    "\n",
    "* Type Answer Here\n",
    "* Type Answer Here\n",
    "* Type Answer Here\n",
    "* Type Answer Here"
   ]
  },
  {
   "cell_type": "markdown",
   "id": "71bcaa4c-b517-46d7-86c7-9a38241d8417",
   "metadata": {},
   "source": [
    "---"
   ]
  },
  {
   "cell_type": "code",
   "execution_count": null,
   "id": "80c7294a-db98-4fba-9434-4d56900f0bc3",
   "metadata": {},
   "outputs": [],
   "source": []
  }
 ],
 "metadata": {
  "kernelspec": {
   "display_name": "Python 3 (ipykernel)",
   "language": "python",
   "name": "python3"
  },
  "language_info": {
   "codemirror_mode": {
    "name": "ipython",
    "version": 3
   },
   "file_extension": ".py",
   "mimetype": "text/x-python",
   "name": "python",
   "nbconvert_exporter": "python",
   "pygments_lexer": "ipython3",
   "version": "3.9.12"
  }
 },
 "nbformat": 4,
 "nbformat_minor": 5
}
