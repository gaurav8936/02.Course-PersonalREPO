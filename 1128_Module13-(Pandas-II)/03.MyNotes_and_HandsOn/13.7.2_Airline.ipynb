{
 "cells": [
  {
   "cell_type": "markdown",
   "id": "750e8378-2f0a-4dbf-8c8c-100dac135cfb",
   "metadata": {},
   "source": [
    "# Airline Data Flight Example"
   ]
  },
  {
   "cell_type": "code",
   "execution_count": 7,
   "id": "348dfe6a-80d8-41d4-81e5-7c405e3e5bd2",
   "metadata": {},
   "outputs": [
    {
     "name": "stdout",
     "output_type": "stream",
     "text": [
      "3.9.13 (main, Aug 25 2022, 18:29:29) \n",
      "[Clang 12.0.0 ]\n",
      "1.4.4\n",
      "1.21.5\n"
     ]
    }
   ],
   "source": [
    "import numpy as np\n",
    "import pandas as pd\n",
    "import matplotlib.pyplot as plt\n",
    "import sys\n",
    "\n",
    "pd.options.display.float_format = '{:,.2f}'.format\n",
    "%matplotlib inline\n",
    "\n",
    "print(sys.version)\n",
    "print(pd.__version__)\n",
    "print(np.__version__)"
   ]
  },
  {
   "cell_type": "markdown",
   "id": "2b07e9f1-ed66-43cd-b297-c538cf56b7af",
   "metadata": {},
   "source": [
    "---"
   ]
  },
  {
   "cell_type": "markdown",
   "id": "99a5b897-0e92-41e3-a436-fe2a01e9f72f",
   "metadata": {},
   "source": [
    "### get dataframe prepared (with all the datawranging required -- recall the html issue)"
   ]
  },
  {
   "cell_type": "code",
   "execution_count": 8,
   "id": "437ddeb9-8614-4030-b20e-80314e3ea747",
   "metadata": {},
   "outputs": [],
   "source": [
    "# 1. import the new csv file\n",
    "\n",
    "df1 = pd.read_csv(\"fresh_start_airline_gn.csv\")"
   ]
  },
  {
   "cell_type": "code",
   "execution_count": 12,
   "id": "42c2080b-ccad-4c91-9c49-7572b54f953b",
   "metadata": {},
   "outputs": [
    {
     "data": {
      "text/html": [
       "<div>\n",
       "<style scoped>\n",
       "    .dataframe tbody tr th:only-of-type {\n",
       "        vertical-align: middle;\n",
       "    }\n",
       "\n",
       "    .dataframe tbody tr th {\n",
       "        vertical-align: top;\n",
       "    }\n",
       "\n",
       "    .dataframe thead th {\n",
       "        text-align: right;\n",
       "    }\n",
       "</style>\n",
       "<table border=\"1\" class=\"dataframe\">\n",
       "  <thead>\n",
       "    <tr style=\"text-align: right;\">\n",
       "      <th></th>\n",
       "      <th>Unnamed: 0</th>\n",
       "      <th>Date</th>\n",
       "      <th>DayOfWeek</th>\n",
       "      <th>DepTime</th>\n",
       "      <th>CRSDepTime</th>\n",
       "      <th>ArrTime</th>\n",
       "      <th>CRSArrTime</th>\n",
       "      <th>UniqueCarrier</th>\n",
       "      <th>FlightNum</th>\n",
       "      <th>TailNum</th>\n",
       "      <th>...</th>\n",
       "      <th>TaxiIn</th>\n",
       "      <th>TaxiOut</th>\n",
       "      <th>Cancelled</th>\n",
       "      <th>CancellationCode</th>\n",
       "      <th>Diverted</th>\n",
       "      <th>CarrierDelay</th>\n",
       "      <th>WeatherDelay</th>\n",
       "      <th>NASDelay</th>\n",
       "      <th>SecurityDelay</th>\n",
       "      <th>LateAircraftDelay</th>\n",
       "    </tr>\n",
       "  </thead>\n",
       "  <tbody>\n",
       "    <tr>\n",
       "      <th>0</th>\n",
       "      <td>0</td>\n",
       "      <td>1994-06-05</td>\n",
       "      <td>7</td>\n",
       "      <td>1,542.00</td>\n",
       "      <td>1540</td>\n",
       "      <td>1,819.00</td>\n",
       "      <td>1815</td>\n",
       "      <td>US</td>\n",
       "      <td>236</td>\n",
       "      <td>NaN</td>\n",
       "      <td>...</td>\n",
       "      <td>NaN</td>\n",
       "      <td>NaN</td>\n",
       "      <td>0</td>\n",
       "      <td>NaN</td>\n",
       "      <td>0</td>\n",
       "      <td>NaN</td>\n",
       "      <td>NaN</td>\n",
       "      <td>NaN</td>\n",
       "      <td>NaN</td>\n",
       "      <td>NaN</td>\n",
       "    </tr>\n",
       "    <tr>\n",
       "      <th>1</th>\n",
       "      <td>1</td>\n",
       "      <td>1994-06-06</td>\n",
       "      <td>1</td>\n",
       "      <td>1,549.00</td>\n",
       "      <td>1540</td>\n",
       "      <td>1,831.00</td>\n",
       "      <td>1815</td>\n",
       "      <td>US</td>\n",
       "      <td>236</td>\n",
       "      <td>NaN</td>\n",
       "      <td>...</td>\n",
       "      <td>NaN</td>\n",
       "      <td>NaN</td>\n",
       "      <td>0</td>\n",
       "      <td>NaN</td>\n",
       "      <td>0</td>\n",
       "      <td>NaN</td>\n",
       "      <td>NaN</td>\n",
       "      <td>NaN</td>\n",
       "      <td>NaN</td>\n",
       "      <td>NaN</td>\n",
       "    </tr>\n",
       "    <tr>\n",
       "      <th>2</th>\n",
       "      <td>2</td>\n",
       "      <td>1994-06-07</td>\n",
       "      <td>2</td>\n",
       "      <td>1,540.00</td>\n",
       "      <td>1540</td>\n",
       "      <td>1,803.00</td>\n",
       "      <td>1815</td>\n",
       "      <td>US</td>\n",
       "      <td>236</td>\n",
       "      <td>NaN</td>\n",
       "      <td>...</td>\n",
       "      <td>NaN</td>\n",
       "      <td>NaN</td>\n",
       "      <td>0</td>\n",
       "      <td>NaN</td>\n",
       "      <td>0</td>\n",
       "      <td>NaN</td>\n",
       "      <td>NaN</td>\n",
       "      <td>NaN</td>\n",
       "      <td>NaN</td>\n",
       "      <td>NaN</td>\n",
       "    </tr>\n",
       "    <tr>\n",
       "      <th>3</th>\n",
       "      <td>3</td>\n",
       "      <td>1994-06-08</td>\n",
       "      <td>3</td>\n",
       "      <td>1,541.00</td>\n",
       "      <td>1540</td>\n",
       "      <td>1,808.00</td>\n",
       "      <td>1815</td>\n",
       "      <td>US</td>\n",
       "      <td>236</td>\n",
       "      <td>NaN</td>\n",
       "      <td>...</td>\n",
       "      <td>NaN</td>\n",
       "      <td>NaN</td>\n",
       "      <td>0</td>\n",
       "      <td>NaN</td>\n",
       "      <td>0</td>\n",
       "      <td>NaN</td>\n",
       "      <td>NaN</td>\n",
       "      <td>NaN</td>\n",
       "      <td>NaN</td>\n",
       "      <td>NaN</td>\n",
       "    </tr>\n",
       "    <tr>\n",
       "      <th>4</th>\n",
       "      <td>4</td>\n",
       "      <td>1994-06-09</td>\n",
       "      <td>4</td>\n",
       "      <td>1,541.00</td>\n",
       "      <td>1540</td>\n",
       "      <td>1,835.00</td>\n",
       "      <td>1815</td>\n",
       "      <td>US</td>\n",
       "      <td>236</td>\n",
       "      <td>NaN</td>\n",
       "      <td>...</td>\n",
       "      <td>NaN</td>\n",
       "      <td>NaN</td>\n",
       "      <td>0</td>\n",
       "      <td>NaN</td>\n",
       "      <td>0</td>\n",
       "      <td>NaN</td>\n",
       "      <td>NaN</td>\n",
       "      <td>NaN</td>\n",
       "      <td>NaN</td>\n",
       "      <td>NaN</td>\n",
       "    </tr>\n",
       "  </tbody>\n",
       "</table>\n",
       "<p>5 rows × 28 columns</p>\n",
       "</div>"
      ],
      "text/plain": [
       "   Unnamed: 0        Date  DayOfWeek  DepTime  CRSDepTime  ArrTime  \\\n",
       "0           0  1994-06-05          7 1,542.00        1540 1,819.00   \n",
       "1           1  1994-06-06          1 1,549.00        1540 1,831.00   \n",
       "2           2  1994-06-07          2 1,540.00        1540 1,803.00   \n",
       "3           3  1994-06-08          3 1,541.00        1540 1,808.00   \n",
       "4           4  1994-06-09          4 1,541.00        1540 1,835.00   \n",
       "\n",
       "   CRSArrTime UniqueCarrier  FlightNum  TailNum  ...  TaxiIn  TaxiOut  \\\n",
       "0        1815            US        236      NaN  ...     NaN      NaN   \n",
       "1        1815            US        236      NaN  ...     NaN      NaN   \n",
       "2        1815            US        236      NaN  ...     NaN      NaN   \n",
       "3        1815            US        236      NaN  ...     NaN      NaN   \n",
       "4        1815            US        236      NaN  ...     NaN      NaN   \n",
       "\n",
       "   Cancelled  CancellationCode  Diverted CarrierDelay WeatherDelay  NASDelay  \\\n",
       "0          0               NaN         0          NaN          NaN       NaN   \n",
       "1          0               NaN         0          NaN          NaN       NaN   \n",
       "2          0               NaN         0          NaN          NaN       NaN   \n",
       "3          0               NaN         0          NaN          NaN       NaN   \n",
       "4          0               NaN         0          NaN          NaN       NaN   \n",
       "\n",
       "   SecurityDelay  LateAircraftDelay  \n",
       "0            NaN                NaN  \n",
       "1            NaN                NaN  \n",
       "2            NaN                NaN  \n",
       "3            NaN                NaN  \n",
       "4            NaN                NaN  \n",
       "\n",
       "[5 rows x 28 columns]"
      ]
     },
     "execution_count": 12,
     "metadata": {},
     "output_type": "execute_result"
    }
   ],
   "source": [
    "# 2. check the df\n",
    "\n",
    "df1.head(5)"
   ]
  },
  {
   "cell_type": "code",
   "execution_count": 15,
   "id": "115db550-aa48-421e-a82a-5f53a4bf8de4",
   "metadata": {},
   "outputs": [],
   "source": [
    "# 3. delete the unnamed columns added \n",
    "\n",
    "df = df1.loc[:, ~df1.columns.str.contains('^Unnamed')]"
   ]
  },
  {
   "cell_type": "code",
   "execution_count": 16,
   "id": "c167b654-bdc5-466c-be0c-19c8751acb55",
   "metadata": {},
   "outputs": [
    {
     "data": {
      "text/html": [
       "<div>\n",
       "<style scoped>\n",
       "    .dataframe tbody tr th:only-of-type {\n",
       "        vertical-align: middle;\n",
       "    }\n",
       "\n",
       "    .dataframe tbody tr th {\n",
       "        vertical-align: top;\n",
       "    }\n",
       "\n",
       "    .dataframe thead th {\n",
       "        text-align: right;\n",
       "    }\n",
       "</style>\n",
       "<table border=\"1\" class=\"dataframe\">\n",
       "  <thead>\n",
       "    <tr style=\"text-align: right;\">\n",
       "      <th></th>\n",
       "      <th>Date</th>\n",
       "      <th>DayOfWeek</th>\n",
       "      <th>DepTime</th>\n",
       "      <th>CRSDepTime</th>\n",
       "      <th>ArrTime</th>\n",
       "      <th>CRSArrTime</th>\n",
       "      <th>UniqueCarrier</th>\n",
       "      <th>FlightNum</th>\n",
       "      <th>TailNum</th>\n",
       "      <th>ActualElapsedTime</th>\n",
       "      <th>...</th>\n",
       "      <th>TaxiIn</th>\n",
       "      <th>TaxiOut</th>\n",
       "      <th>Cancelled</th>\n",
       "      <th>CancellationCode</th>\n",
       "      <th>Diverted</th>\n",
       "      <th>CarrierDelay</th>\n",
       "      <th>WeatherDelay</th>\n",
       "      <th>NASDelay</th>\n",
       "      <th>SecurityDelay</th>\n",
       "      <th>LateAircraftDelay</th>\n",
       "    </tr>\n",
       "  </thead>\n",
       "  <tbody>\n",
       "    <tr>\n",
       "      <th>0</th>\n",
       "      <td>1994-06-05</td>\n",
       "      <td>7</td>\n",
       "      <td>1,542.00</td>\n",
       "      <td>1540</td>\n",
       "      <td>1,819.00</td>\n",
       "      <td>1815</td>\n",
       "      <td>US</td>\n",
       "      <td>236</td>\n",
       "      <td>NaN</td>\n",
       "      <td>157.00</td>\n",
       "      <td>...</td>\n",
       "      <td>NaN</td>\n",
       "      <td>NaN</td>\n",
       "      <td>0</td>\n",
       "      <td>NaN</td>\n",
       "      <td>0</td>\n",
       "      <td>NaN</td>\n",
       "      <td>NaN</td>\n",
       "      <td>NaN</td>\n",
       "      <td>NaN</td>\n",
       "      <td>NaN</td>\n",
       "    </tr>\n",
       "    <tr>\n",
       "      <th>1</th>\n",
       "      <td>1994-06-06</td>\n",
       "      <td>1</td>\n",
       "      <td>1,549.00</td>\n",
       "      <td>1540</td>\n",
       "      <td>1,831.00</td>\n",
       "      <td>1815</td>\n",
       "      <td>US</td>\n",
       "      <td>236</td>\n",
       "      <td>NaN</td>\n",
       "      <td>162.00</td>\n",
       "      <td>...</td>\n",
       "      <td>NaN</td>\n",
       "      <td>NaN</td>\n",
       "      <td>0</td>\n",
       "      <td>NaN</td>\n",
       "      <td>0</td>\n",
       "      <td>NaN</td>\n",
       "      <td>NaN</td>\n",
       "      <td>NaN</td>\n",
       "      <td>NaN</td>\n",
       "      <td>NaN</td>\n",
       "    </tr>\n",
       "    <tr>\n",
       "      <th>2</th>\n",
       "      <td>1994-06-07</td>\n",
       "      <td>2</td>\n",
       "      <td>1,540.00</td>\n",
       "      <td>1540</td>\n",
       "      <td>1,803.00</td>\n",
       "      <td>1815</td>\n",
       "      <td>US</td>\n",
       "      <td>236</td>\n",
       "      <td>NaN</td>\n",
       "      <td>143.00</td>\n",
       "      <td>...</td>\n",
       "      <td>NaN</td>\n",
       "      <td>NaN</td>\n",
       "      <td>0</td>\n",
       "      <td>NaN</td>\n",
       "      <td>0</td>\n",
       "      <td>NaN</td>\n",
       "      <td>NaN</td>\n",
       "      <td>NaN</td>\n",
       "      <td>NaN</td>\n",
       "      <td>NaN</td>\n",
       "    </tr>\n",
       "    <tr>\n",
       "      <th>3</th>\n",
       "      <td>1994-06-08</td>\n",
       "      <td>3</td>\n",
       "      <td>1,541.00</td>\n",
       "      <td>1540</td>\n",
       "      <td>1,808.00</td>\n",
       "      <td>1815</td>\n",
       "      <td>US</td>\n",
       "      <td>236</td>\n",
       "      <td>NaN</td>\n",
       "      <td>147.00</td>\n",
       "      <td>...</td>\n",
       "      <td>NaN</td>\n",
       "      <td>NaN</td>\n",
       "      <td>0</td>\n",
       "      <td>NaN</td>\n",
       "      <td>0</td>\n",
       "      <td>NaN</td>\n",
       "      <td>NaN</td>\n",
       "      <td>NaN</td>\n",
       "      <td>NaN</td>\n",
       "      <td>NaN</td>\n",
       "    </tr>\n",
       "    <tr>\n",
       "      <th>4</th>\n",
       "      <td>1994-06-09</td>\n",
       "      <td>4</td>\n",
       "      <td>1,541.00</td>\n",
       "      <td>1540</td>\n",
       "      <td>1,835.00</td>\n",
       "      <td>1815</td>\n",
       "      <td>US</td>\n",
       "      <td>236</td>\n",
       "      <td>NaN</td>\n",
       "      <td>174.00</td>\n",
       "      <td>...</td>\n",
       "      <td>NaN</td>\n",
       "      <td>NaN</td>\n",
       "      <td>0</td>\n",
       "      <td>NaN</td>\n",
       "      <td>0</td>\n",
       "      <td>NaN</td>\n",
       "      <td>NaN</td>\n",
       "      <td>NaN</td>\n",
       "      <td>NaN</td>\n",
       "      <td>NaN</td>\n",
       "    </tr>\n",
       "  </tbody>\n",
       "</table>\n",
       "<p>5 rows × 27 columns</p>\n",
       "</div>"
      ],
      "text/plain": [
       "         Date  DayOfWeek  DepTime  CRSDepTime  ArrTime  CRSArrTime  \\\n",
       "0  1994-06-05          7 1,542.00        1540 1,819.00        1815   \n",
       "1  1994-06-06          1 1,549.00        1540 1,831.00        1815   \n",
       "2  1994-06-07          2 1,540.00        1540 1,803.00        1815   \n",
       "3  1994-06-08          3 1,541.00        1540 1,808.00        1815   \n",
       "4  1994-06-09          4 1,541.00        1540 1,835.00        1815   \n",
       "\n",
       "  UniqueCarrier  FlightNum  TailNum  ActualElapsedTime  ...  TaxiIn  TaxiOut  \\\n",
       "0            US        236      NaN             157.00  ...     NaN      NaN   \n",
       "1            US        236      NaN             162.00  ...     NaN      NaN   \n",
       "2            US        236      NaN             143.00  ...     NaN      NaN   \n",
       "3            US        236      NaN             147.00  ...     NaN      NaN   \n",
       "4            US        236      NaN             174.00  ...     NaN      NaN   \n",
       "\n",
       "   Cancelled  CancellationCode Diverted CarrierDelay  WeatherDelay  NASDelay  \\\n",
       "0          0               NaN        0          NaN           NaN       NaN   \n",
       "1          0               NaN        0          NaN           NaN       NaN   \n",
       "2          0               NaN        0          NaN           NaN       NaN   \n",
       "3          0               NaN        0          NaN           NaN       NaN   \n",
       "4          0               NaN        0          NaN           NaN       NaN   \n",
       "\n",
       "   SecurityDelay  LateAircraftDelay  \n",
       "0            NaN                NaN  \n",
       "1            NaN                NaN  \n",
       "2            NaN                NaN  \n",
       "3            NaN                NaN  \n",
       "4            NaN                NaN  \n",
       "\n",
       "[5 rows x 27 columns]"
      ]
     },
     "execution_count": 16,
     "metadata": {},
     "output_type": "execute_result"
    }
   ],
   "source": [
    "# 4. check the new df\n",
    "\n",
    "df.head(5)"
   ]
  },
  {
   "cell_type": "markdown",
   "id": "05bcd096-b621-42ab-936e-9a0b95adaea2",
   "metadata": {},
   "source": [
    "---"
   ]
  },
  {
   "cell_type": "markdown",
   "id": "74395307-a9cc-4f33-bd57-00319efa1b97",
   "metadata": {},
   "source": [
    "# converting numerical to categorical data"
   ]
  },
  {
   "cell_type": "code",
   "execution_count": 17,
   "id": "40b992e7-e257-4653-825a-5fac3b231d7b",
   "metadata": {},
   "outputs": [
    {
     "data": {
      "text/plain": [
       "count   426,490.00\n",
       "mean        901.69\n",
       "std         593.51\n",
       "min           1.00\n",
       "25%         407.00\n",
       "50%         792.00\n",
       "75%       1,429.00\n",
       "max       3,219.00\n",
       "Name: FlightNum, dtype: float64"
      ]
     },
     "execution_count": 17,
     "metadata": {},
     "output_type": "execute_result"
    }
   ],
   "source": [
    "df.FlightNum.describe()"
   ]
  },
  {
   "cell_type": "code",
   "execution_count": 19,
   "id": "8642961b-d183-42c7-8941-cf8d769a1fa6",
   "metadata": {},
   "outputs": [],
   "source": [
    "# the average flight number data is useless\n",
    "\n",
    "# it does not matter if it is flight 1 or flight 99\n",
    "\n",
    "        # those are just categories\n",
    "        # it could just as well be flight G"
   ]
  },
  {
   "cell_type": "code",
   "execution_count": 20,
   "id": "49ad29e7-4f45-4952-8a6f-327c33f91f6a",
   "metadata": {},
   "outputs": [],
   "source": [
    "# pandas thinks about this as numerical data, not categorical data"
   ]
  },
  {
   "cell_type": "code",
   "execution_count": 23,
   "id": "c218bedb-a943-4c52-b76c-1c1b4fdef651",
   "metadata": {},
   "outputs": [],
   "source": [
    "# sometimes you have relatively continuous data tht should be categorical data\n",
    "### these should be grouped as bins\n",
    "\n",
    "##### maybe elapsed time is in this category\n",
    "# wehre you say, 1-200 is one category\n",
    "\n",
    "# you could say, 1-100: short hop, 100-200 - medium hop, 200-400: long hop"
   ]
  },
  {
   "cell_type": "markdown",
   "id": "81f44704-9f67-4289-b166-c9c7664dd6ae",
   "metadata": {},
   "source": [
    "---"
   ]
  },
  {
   "cell_type": "markdown",
   "id": "ec94aca5-8939-470e-a816-5c815bcfeca1",
   "metadata": {},
   "source": [
    "# bins"
   ]
  },
  {
   "cell_type": "code",
   "execution_count": 25,
   "id": "a5c2759c-13ee-4269-acf9-31f6331ed3fa",
   "metadata": {},
   "outputs": [],
   "source": [
    "# departure and arrival times are in military format\n",
    "\n",
    "# create them into bins"
   ]
  },
  {
   "cell_type": "code",
   "execution_count": 26,
   "id": "e448b912-d169-49a6-b580-376672119bed",
   "metadata": {},
   "outputs": [],
   "source": [
    "# this converts a continuous variable to a categorical one"
   ]
  },
  {
   "cell_type": "code",
   "execution_count": 27,
   "id": "d0d86512-d6d2-4a65-90d0-76504278d426",
   "metadata": {},
   "outputs": [],
   "source": [
    "# we are looking at actual departure times (not scheduled)"
   ]
  },
  {
   "cell_type": "code",
   "execution_count": 28,
   "id": "e2b2f023-e829-49db-83d2-5ee847b584d2",
   "metadata": {},
   "outputs": [],
   "source": [
    "ranges = [0, 600, 1200, 1800, 2400]"
   ]
  },
  {
   "cell_type": "code",
   "execution_count": 29,
   "id": "da70b238-b74d-472c-8f1e-7d1e8e26c1b5",
   "metadata": {},
   "outputs": [],
   "source": [
    "labels = ['Early Morning', 'Morning', 'Early Afternoon', 'Evening']"
   ]
  },
  {
   "cell_type": "markdown",
   "id": "7527ace1-d4b8-409c-8993-0178e9926155",
   "metadata": {},
   "source": [
    "## cut"
   ]
  },
  {
   "cell_type": "code",
   "execution_count": 30,
   "id": "c7952b2a-b68a-41bf-8391-f7238fdef5a0",
   "metadata": {},
   "outputs": [],
   "source": [
    "# DepTime: actual\n",
    "# CRSDEpTime: Scheduled"
   ]
  },
  {
   "cell_type": "code",
   "execution_count": 32,
   "id": "f6db05a8-acd5-4198-b53e-87f07abb789c",
   "metadata": {},
   "outputs": [],
   "source": [
    "df['DepTime2'] = pd.cut(df.DepTime, ranges, labels=labels).astype('category')"
   ]
  },
  {
   "cell_type": "code",
   "execution_count": 33,
   "id": "6567cd9c-d796-424d-934e-c52a5f1be585",
   "metadata": {},
   "outputs": [],
   "source": [
    "df['ArrTime2'] = pd.cut(df.ArrTime, ranges, labels=labels).astype('category')"
   ]
  },
  {
   "cell_type": "code",
   "execution_count": 34,
   "id": "5a9b2992-cafa-4aec-a2eb-2030dd888acd",
   "metadata": {},
   "outputs": [
    {
     "data": {
      "text/plain": [
       "0    Evening\n",
       "1    Evening\n",
       "2    Evening\n",
       "3    Evening\n",
       "4    Evening\n",
       "Name: ArrTime2, dtype: category\n",
       "Categories (4, object): ['Early Morning' < 'Morning' < 'Early Afternoon' < 'Evening']"
      ]
     },
     "execution_count": 34,
     "metadata": {},
     "output_type": "execute_result"
    }
   ],
   "source": [
    "df.ArrTime2.head(5)"
   ]
  },
  {
   "attachments": {
    "e0f3337b-8277-4ffa-8235-432994184d10.png": {
     "image/png": "[encoded data removed]"
    }
   },
   "cell_type": "markdown",
   "id": "d114a632-11fe-49c1-807e-636353c7c74d",
   "metadata": {},
   "source": [
    "![image.png](attachment:e0f3337b-8277-4ffa-8235-432994184d10.png)"
   ]
  },
  {
   "cell_type": "markdown",
   "id": "75b5341c-7f0e-4b47-9819-a621268cb168",
   "metadata": {},
   "source": [
    "### the category dtype has ordering (like above morning < afternoon)"
   ]
  },
  {
   "cell_type": "code",
   "execution_count": 35,
   "id": "6b464afb-6ea0-4df1-81ea-be15151a6ef0",
   "metadata": {},
   "outputs": [
    {
     "data": {
      "text/html": [
       "<div>\n",
       "<style scoped>\n",
       "    .dataframe tbody tr th:only-of-type {\n",
       "        vertical-align: middle;\n",
       "    }\n",
       "\n",
       "    .dataframe tbody tr th {\n",
       "        vertical-align: top;\n",
       "    }\n",
       "\n",
       "    .dataframe thead th {\n",
       "        text-align: right;\n",
       "    }\n",
       "</style>\n",
       "<table border=\"1\" class=\"dataframe\">\n",
       "  <thead>\n",
       "    <tr style=\"text-align: right;\">\n",
       "      <th></th>\n",
       "      <th>DepTime2</th>\n",
       "      <th>ArrTime2</th>\n",
       "    </tr>\n",
       "  </thead>\n",
       "  <tbody>\n",
       "    <tr>\n",
       "      <th>count</th>\n",
       "      <td>423805</td>\n",
       "      <td>422641</td>\n",
       "    </tr>\n",
       "    <tr>\n",
       "      <th>unique</th>\n",
       "      <td>4</td>\n",
       "      <td>4</td>\n",
       "    </tr>\n",
       "    <tr>\n",
       "      <th>top</th>\n",
       "      <td>Morning</td>\n",
       "      <td>Early Afternoon</td>\n",
       "    </tr>\n",
       "    <tr>\n",
       "      <th>freq</th>\n",
       "      <td>163514</td>\n",
       "      <td>156806</td>\n",
       "    </tr>\n",
       "  </tbody>\n",
       "</table>\n",
       "</div>"
      ],
      "text/plain": [
       "       DepTime2         ArrTime2\n",
       "count    423805           422641\n",
       "unique        4                4\n",
       "top     Morning  Early Afternoon\n",
       "freq     163514           156806"
      ]
     },
     "execution_count": 35,
     "metadata": {},
     "output_type": "execute_result"
    }
   ],
   "source": [
    "df[['DepTime2', 'ArrTime2']].describe()"
   ]
  },
  {
   "cell_type": "code",
   "execution_count": 36,
   "id": "d4ce6c09-9e2f-43d9-9365-804390c3efa5",
   "metadata": {},
   "outputs": [],
   "source": [
    "#most common departure time:  morning"
   ]
  },
  {
   "cell_type": "code",
   "execution_count": 37,
   "id": "8654cc48-aaf9-4542-8e0f-3d157ff5c1e7",
   "metadata": {},
   "outputs": [],
   "source": [
    "# most common arrival time: early afternoon"
   ]
  },
  {
   "cell_type": "markdown",
   "id": "a542038c-53e5-4025-b0d5-5678d4f937f1",
   "metadata": {},
   "source": [
    "### you can get similar info from the value_counts()"
   ]
  },
  {
   "cell_type": "code",
   "execution_count": 38,
   "id": "3d8f3dae-afe0-42e4-9531-acd72696b069",
   "metadata": {},
   "outputs": [
    {
     "data": {
      "text/plain": [
       "Morning            163514\n",
       "Early Afternoon    160505\n",
       "Evening             93679\n",
       "Early Morning        6107\n",
       "Name: DepTime2, dtype: int64"
      ]
     },
     "execution_count": 38,
     "metadata": {},
     "output_type": "execute_result"
    }
   ],
   "source": [
    "df.DepTime2.value_counts()"
   ]
  },
  {
   "cell_type": "code",
   "execution_count": 39,
   "id": "762661e6-46fd-4927-85dd-b44d29bafe51",
   "metadata": {},
   "outputs": [
    {
     "data": {
      "text/plain": [
       "Early Afternoon    156806\n",
       "Evening            137283\n",
       "Morning            120417\n",
       "Early Morning        8135\n",
       "Name: ArrTime2, dtype: int64"
      ]
     },
     "execution_count": 39,
     "metadata": {},
     "output_type": "execute_result"
    }
   ],
   "source": [
    "df.ArrTime2.value_counts()"
   ]
  },
  {
   "cell_type": "code",
   "execution_count": null,
   "id": "40860bfd-53c8-4f9a-9f40-90b84c1e487f",
   "metadata": {},
   "outputs": [],
   "source": []
  }
 ],
 "metadata": {
  "kernelspec": {
   "display_name": "Python 3 (ipykernel)",
   "language": "python",
   "name": "python3"
  },
  "language_info": {
   "codemirror_mode": {
    "name": "ipython",
    "version": 3
   },
   "file_extension": ".py",
   "mimetype": "text/x-python",
   "name": "python",
   "nbconvert_exporter": "python",
   "pygments_lexer": "ipython3",
   "version": "3.9.13"
  }
 },
 "nbformat": 4,
 "nbformat_minor": 5
}
