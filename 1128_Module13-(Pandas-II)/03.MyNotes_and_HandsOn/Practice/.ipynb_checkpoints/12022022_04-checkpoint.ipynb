{
 "cells": [
  {
   "cell_type": "markdown",
   "id": "67a7f164-3980-459b-a29a-df593b73744a",
   "metadata": {},
   "source": [
    "---"
   ]
  },
  {
   "cell_type": "code",
   "execution_count": 1,
   "id": "2c6d6f5e-570e-4ce0-8c44-1ed7b4fbf7bd",
   "metadata": {},
   "outputs": [
    {
     "name": "stderr",
     "output_type": "stream",
     "text": [
      "/var/folders/xj/j51mz36s00z2vnfq7wp23hxm0000gn/T/ipykernel_98098/778092029.py:8: FutureWarning: The default value of regex will change from True to False in a future version.\n",
      "  Vegas.columns = Vegas.columns.str.replace('\\.*\\s+', '_').str.lower()\n"
     ]
    }
   ],
   "source": [
    "import numpy as np\n",
    "import pandas as pd\n",
    "pd.options.display.float_format = '{:,.2f}'.format\n",
    "import matplotlib.pyplot as plt\n",
    "%matplotlib inline\n",
    "\n",
    "Vegas = pd.read_csv('../vegas.csv')\n",
    "Vegas.columns = Vegas.columns.str.replace('\\.*\\s+', '_').str.lower()"
   ]
  },
  {
   "cell_type": "code",
   "execution_count": null,
   "id": "d1506296-1ba8-44ec-87f5-3acc8c1dd581",
   "metadata": {},
   "outputs": [],
   "source": []
  }
 ],
 "metadata": {
  "kernelspec": {
   "display_name": "Python 3 (ipykernel)",
   "language": "python",
   "name": "python3"
  },
  "language_info": {
   "codemirror_mode": {
    "name": "ipython",
    "version": 3
   },
   "file_extension": ".py",
   "mimetype": "text/x-python",
   "name": "python",
   "nbconvert_exporter": "python",
   "pygments_lexer": "ipython3",
   "version": "3.9.13"
  }
 },
 "nbformat": 4,
 "nbformat_minor": 5
}
