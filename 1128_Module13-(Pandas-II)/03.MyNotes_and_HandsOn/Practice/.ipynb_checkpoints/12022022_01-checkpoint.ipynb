{
 "cells": [
  {
   "cell_type": "markdown",
   "id": "4fd8b2c3-9f23-455f-b3d1-58fe4caefa74",
   "metadata": {},
   "source": [
    "# 12022022"
   ]
  },
  {
   "cell_type": "code",
   "execution_count": 1,
   "id": "dcc0033b-66cd-49b5-b874-84ef1adb8252",
   "metadata": {},
   "outputs": [],
   "source": [
    "import numpy as np\n",
    "import pandas as pd\n",
    "pd.options.display.float_format = '{:,.2f}'.format\n",
    "import matplotlib.pyplot as plt\n",
    "%matplotlib inline"
   ]
  },
  {
   "cell_type": "code",
   "execution_count": 2,
   "id": "aec478e0-ef79-430b-a97e-0d1705c6975a",
   "metadata": {},
   "outputs": [
    {
     "name": "stderr",
     "output_type": "stream",
     "text": [
      "/var/folders/xj/j51mz36s00z2vnfq7wp23hxm0000gn/T/ipykernel_90897/3482245113.py:2: FutureWarning: The default value of regex will change from True to False in a future version.\n",
      "  Vegas.columns = Vegas.columns.str.replace('\\.*\\s+', '_').str.lower()\n"
     ]
    }
   ],
   "source": [
    "Vegas = pd.read_csv('vegas.csv')\n",
    "Vegas.columns = Vegas.columns.str.replace('\\.*\\s+', '_').str.lower()"
   ]
  },
  {
   "cell_type": "code",
   "execution_count": 9,
   "id": "b974f4ee-d629-4cd0-8dcf-72cf4bf34d8c",
   "metadata": {},
   "outputs": [
    {
     "data": {
      "text/html": [
       "<div>\n",
       "<style scoped>\n",
       "    .dataframe tbody tr th:only-of-type {\n",
       "        vertical-align: middle;\n",
       "    }\n",
       "\n",
       "    .dataframe tbody tr th {\n",
       "        vertical-align: top;\n",
       "    }\n",
       "\n",
       "    .dataframe thead th {\n",
       "        text-align: right;\n",
       "    }\n",
       "</style>\n",
       "<table border=\"1\" class=\"dataframe\">\n",
       "  <thead>\n",
       "    <tr style=\"text-align: right;\">\n",
       "      <th></th>\n",
       "      <th>user_country</th>\n",
       "      <th>nr_reviews</th>\n",
       "      <th>nr_hotel_reviews</th>\n",
       "      <th>helpful_votes</th>\n",
       "      <th>score</th>\n",
       "      <th>period_of_stay</th>\n",
       "      <th>traveler_type</th>\n",
       "      <th>pool</th>\n",
       "      <th>gym</th>\n",
       "      <th>tennis_court</th>\n",
       "      <th>spa</th>\n",
       "      <th>casino</th>\n",
       "      <th>free_internet</th>\n",
       "      <th>hotel_name</th>\n",
       "      <th>hotel_stars</th>\n",
       "      <th>nr_rooms</th>\n",
       "      <th>user_continent</th>\n",
       "      <th>member_years</th>\n",
       "      <th>review_month</th>\n",
       "      <th>review_weekday</th>\n",
       "    </tr>\n",
       "  </thead>\n",
       "  <tbody>\n",
       "    <tr>\n",
       "      <th>0</th>\n",
       "      <td>USA</td>\n",
       "      <td>11</td>\n",
       "      <td>4</td>\n",
       "      <td>13</td>\n",
       "      <td>5</td>\n",
       "      <td>Dec-Feb</td>\n",
       "      <td>Friends</td>\n",
       "      <td>NO</td>\n",
       "      <td>YES</td>\n",
       "      <td>NO</td>\n",
       "      <td>NO</td>\n",
       "      <td>YES</td>\n",
       "      <td>YES</td>\n",
       "      <td>Circus Circus Hotel &amp; Casino Las Vegas</td>\n",
       "      <td>3</td>\n",
       "      <td>3773</td>\n",
       "      <td>North America</td>\n",
       "      <td>9</td>\n",
       "      <td>January</td>\n",
       "      <td>Thursday</td>\n",
       "    </tr>\n",
       "    <tr>\n",
       "      <th>1</th>\n",
       "      <td>USA</td>\n",
       "      <td>119</td>\n",
       "      <td>21</td>\n",
       "      <td>75</td>\n",
       "      <td>3</td>\n",
       "      <td>Dec-Feb</td>\n",
       "      <td>Business</td>\n",
       "      <td>NO</td>\n",
       "      <td>YES</td>\n",
       "      <td>NO</td>\n",
       "      <td>NO</td>\n",
       "      <td>YES</td>\n",
       "      <td>YES</td>\n",
       "      <td>Circus Circus Hotel &amp; Casino Las Vegas</td>\n",
       "      <td>3</td>\n",
       "      <td>3773</td>\n",
       "      <td>North America</td>\n",
       "      <td>3</td>\n",
       "      <td>January</td>\n",
       "      <td>Friday</td>\n",
       "    </tr>\n",
       "    <tr>\n",
       "      <th>2</th>\n",
       "      <td>USA</td>\n",
       "      <td>36</td>\n",
       "      <td>9</td>\n",
       "      <td>25</td>\n",
       "      <td>5</td>\n",
       "      <td>Mar-May</td>\n",
       "      <td>Families</td>\n",
       "      <td>NO</td>\n",
       "      <td>YES</td>\n",
       "      <td>NO</td>\n",
       "      <td>NO</td>\n",
       "      <td>YES</td>\n",
       "      <td>YES</td>\n",
       "      <td>Circus Circus Hotel &amp; Casino Las Vegas</td>\n",
       "      <td>3</td>\n",
       "      <td>3773</td>\n",
       "      <td>North America</td>\n",
       "      <td>2</td>\n",
       "      <td>February</td>\n",
       "      <td>Saturday</td>\n",
       "    </tr>\n",
       "    <tr>\n",
       "      <th>3</th>\n",
       "      <td>UK</td>\n",
       "      <td>14</td>\n",
       "      <td>7</td>\n",
       "      <td>14</td>\n",
       "      <td>4</td>\n",
       "      <td>Mar-May</td>\n",
       "      <td>Friends</td>\n",
       "      <td>NO</td>\n",
       "      <td>YES</td>\n",
       "      <td>NO</td>\n",
       "      <td>NO</td>\n",
       "      <td>YES</td>\n",
       "      <td>YES</td>\n",
       "      <td>Circus Circus Hotel &amp; Casino Las Vegas</td>\n",
       "      <td>3</td>\n",
       "      <td>3773</td>\n",
       "      <td>Europe</td>\n",
       "      <td>6</td>\n",
       "      <td>February</td>\n",
       "      <td>Friday</td>\n",
       "    </tr>\n",
       "    <tr>\n",
       "      <th>4</th>\n",
       "      <td>Canada</td>\n",
       "      <td>5</td>\n",
       "      <td>5</td>\n",
       "      <td>2</td>\n",
       "      <td>4</td>\n",
       "      <td>Mar-May</td>\n",
       "      <td>Solo</td>\n",
       "      <td>NO</td>\n",
       "      <td>YES</td>\n",
       "      <td>NO</td>\n",
       "      <td>NO</td>\n",
       "      <td>YES</td>\n",
       "      <td>YES</td>\n",
       "      <td>Circus Circus Hotel &amp; Casino Las Vegas</td>\n",
       "      <td>3</td>\n",
       "      <td>3773</td>\n",
       "      <td>North America</td>\n",
       "      <td>7</td>\n",
       "      <td>March</td>\n",
       "      <td>Tuesday</td>\n",
       "    </tr>\n",
       "  </tbody>\n",
       "</table>\n",
       "</div>"
      ],
      "text/plain": [
       "  user_country  nr_reviews  nr_hotel_reviews  helpful_votes  score  \\\n",
       "0          USA          11                 4             13      5   \n",
       "1          USA         119                21             75      3   \n",
       "2          USA          36                 9             25      5   \n",
       "3           UK          14                 7             14      4   \n",
       "4       Canada           5                 5              2      4   \n",
       "\n",
       "  period_of_stay traveler_type pool  gym tennis_court spa casino  \\\n",
       "0        Dec-Feb       Friends   NO  YES           NO  NO    YES   \n",
       "1        Dec-Feb      Business   NO  YES           NO  NO    YES   \n",
       "2        Mar-May      Families   NO  YES           NO  NO    YES   \n",
       "3        Mar-May       Friends   NO  YES           NO  NO    YES   \n",
       "4        Mar-May          Solo   NO  YES           NO  NO    YES   \n",
       "\n",
       "  free_internet                              hotel_name hotel_stars  nr_rooms  \\\n",
       "0           YES  Circus Circus Hotel & Casino Las Vegas           3      3773   \n",
       "1           YES  Circus Circus Hotel & Casino Las Vegas           3      3773   \n",
       "2           YES  Circus Circus Hotel & Casino Las Vegas           3      3773   \n",
       "3           YES  Circus Circus Hotel & Casino Las Vegas           3      3773   \n",
       "4           YES  Circus Circus Hotel & Casino Las Vegas           3      3773   \n",
       "\n",
       "  user_continent  member_years review_month review_weekday  \n",
       "0  North America             9      January       Thursday  \n",
       "1  North America             3      January         Friday  \n",
       "2  North America             2     February       Saturday  \n",
       "3         Europe             6     February         Friday  \n",
       "4  North America             7        March        Tuesday  "
      ]
     },
     "execution_count": 9,
     "metadata": {},
     "output_type": "execute_result"
    }
   ],
   "source": [
    "Vegas.head(5)"
   ]
  },
  {
   "cell_type": "code",
   "execution_count": 3,
   "id": "203c5bfc-f24f-4dfa-a52a-702f669f8676",
   "metadata": {},
   "outputs": [
    {
     "data": {
      "text/plain": [
       "Index(['user_country', 'nr_reviews', 'nr_hotel_reviews', 'helpful_votes',\n",
       "       'score', 'period_of_stay', 'traveler_type', 'pool', 'gym',\n",
       "       'tennis_court', 'spa', 'casino', 'free_internet', 'hotel_name',\n",
       "       'hotel_stars', 'nr_rooms', 'user_continent', 'member_years',\n",
       "       'review_month', 'review_weekday'],\n",
       "      dtype='object')"
      ]
     },
     "execution_count": 3,
     "metadata": {},
     "output_type": "execute_result"
    }
   ],
   "source": [
    "Vegas.columns"
   ]
  },
  {
   "cell_type": "code",
   "execution_count": 5,
   "id": "c0f837e4-d56e-45e7-b1c5-7e13c5671bf6",
   "metadata": {},
   "outputs": [
    {
     "data": {
      "text/plain": [
       "0      5\n",
       "1      3\n",
       "2      5\n",
       "3      4\n",
       "4      4\n",
       "      ..\n",
       "499    5\n",
       "500    4\n",
       "501    4\n",
       "502    2\n",
       "503    4\n",
       "Name: score, Length: 504, dtype: int64"
      ]
     },
     "execution_count": 5,
     "metadata": {},
     "output_type": "execute_result"
    }
   ],
   "source": [
    "Vegas.score"
   ]
  },
  {
   "cell_type": "code",
   "execution_count": 6,
   "id": "9b035921-f4a3-4698-bb37-e0e042c3c90b",
   "metadata": {},
   "outputs": [
    {
     "data": {
      "text/plain": [
       "0      5\n",
       "1      3\n",
       "2      5\n",
       "3      4\n",
       "4      4\n",
       "      ..\n",
       "499    5\n",
       "500    4\n",
       "501    4\n",
       "502    2\n",
       "503    4\n",
       "Name: score, Length: 504, dtype: int64"
      ]
     },
     "execution_count": 6,
     "metadata": {},
     "output_type": "execute_result"
    }
   ],
   "source": [
    "Vegas['score']"
   ]
  },
  {
   "cell_type": "code",
   "execution_count": 18,
   "id": "87a0af87-db87-4a59-946c-7a3ba19c113d",
   "metadata": {},
   "outputs": [
    {
     "data": {
      "text/plain": [
       "435    5\n",
       "126    5\n",
       "1      3\n",
       "278    5\n",
       "30     5\n",
       "365    5\n",
       "300    4\n",
       "320    4\n",
       "61     3\n",
       "466    5\n",
       "160    5\n",
       "251    5\n",
       "169    5\n",
       "431    4\n",
       "481    3\n",
       "74     4\n",
       "107    4\n",
       "229    4\n",
       "353    5\n",
       "396    5\n",
       "195    5\n",
       "Name: score, dtype: int64"
      ]
     },
     "execution_count": 18,
     "metadata": {},
     "output_type": "execute_result"
    }
   ],
   "source": [
    "# this is just a sample\n",
    "Vegas['score'].groupby(Vegas.hotel_name).sample()"
   ]
  },
  {
   "cell_type": "code",
   "execution_count": 19,
   "id": "a1675d0d-72bc-43cf-8edd-0f48f90b930d",
   "metadata": {},
   "outputs": [
    {
     "data": {
      "text/plain": [
       "0      5\n",
       "1      3\n",
       "2      5\n",
       "3      4\n",
       "4      4\n",
       "      ..\n",
       "480    4\n",
       "481    3\n",
       "482    4\n",
       "483    3\n",
       "484    5\n",
       "Name: score, Length: 105, dtype: int64"
      ]
     },
     "execution_count": 19,
     "metadata": {},
     "output_type": "execute_result"
    }
   ],
   "source": [
    "Vegas['score'].groupby(Vegas.hotel_name).head()"
   ]
  },
  {
   "cell_type": "code",
   "execution_count": 20,
   "id": "c431517c-0fda-48d1-a0dd-0db410285c3e",
   "metadata": {},
   "outputs": [
    {
     "data": {
      "text/plain": [
       "0      5\n",
       "1      3\n",
       "2      5\n",
       "3      4\n",
       "4      4\n",
       "240    3\n",
       "241    4\n",
       "242    5\n",
       "243    5\n",
       "244    2\n",
       "Name: score, dtype: int64"
      ]
     },
     "execution_count": 20,
     "metadata": {},
     "output_type": "execute_result"
    }
   ],
   "source": [
    "Vegas['score'].groupby(Vegas.gym).head()"
   ]
  },
  {
   "cell_type": "code",
   "execution_count": 12,
   "id": "9509e64a-f883-4612-b0a7-f9c770443451",
   "metadata": {},
   "outputs": [],
   "source": [
    "score_by_hotel = Vegas['score'].groupby(Vegas.hotel_name)"
   ]
  },
  {
   "cell_type": "code",
   "execution_count": 13,
   "id": "479d3119-9b2e-487b-a7c9-ac4c5040106e",
   "metadata": {},
   "outputs": [],
   "source": [
    "score_by_hotel = Vegas['score'].groupby(Vegas['hotel_name'])"
   ]
  },
  {
   "cell_type": "code",
   "execution_count": 21,
   "id": "62627467-e03b-4c15-8b9c-9f5abe6c322b",
   "metadata": {},
   "outputs": [
    {
     "data": {
      "text/plain": [
       "0     5\n",
       "1     3\n",
       "2     5\n",
       "3     4\n",
       "4     4\n",
       "5     3\n",
       "6     4\n",
       "7     4\n",
       "8     4\n",
       "9     3\n",
       "10    2\n",
       "11    3\n",
       "12    2\n",
       "13    3\n",
       "14    3\n",
       "15    4\n",
       "16    1\n",
       "17    4\n",
       "18    3\n",
       "19    2\n",
       "20    4\n",
       "21    1\n",
       "22    4\n",
       "23    2\n",
       "Name: score, dtype: int64"
      ]
     },
     "execution_count": 21,
     "metadata": {},
     "output_type": "execute_result"
    }
   ],
   "source": [
    "# get group is for a specific value\n",
    "\n",
    "score_by_hotel.get_group('Circus Circus Hotel & Casino Las Vegas')"
   ]
  },
  {
   "cell_type": "code",
   "execution_count": 16,
   "id": "e1b31f7c-49d6-4ee2-9c2d-b15088e14719",
   "metadata": {},
   "outputs": [
    {
     "data": {
      "text/plain": [
       "pandas.core.groupby.generic.SeriesGroupBy"
      ]
     },
     "execution_count": 16,
     "metadata": {},
     "output_type": "execute_result"
    }
   ],
   "source": [
    "type(score_by_hotel)"
   ]
  },
  {
   "cell_type": "code",
   "execution_count": 17,
   "id": "cf47308f-454f-4f1c-bad2-4203572083eb",
   "metadata": {},
   "outputs": [
    {
     "data": {
      "text/plain": [
       "hotel_name\n",
       "Bellagio Las Vegas                                    4.21\n",
       "Caesars Palace                                        4.12\n",
       "Circus Circus Hotel & Casino Las Vegas                3.21\n",
       "Encore at wynn Las Vegas                              4.54\n",
       "Excalibur Hotel & Casino                              3.71\n",
       "Hilton Grand Vacations at the Flamingo                3.96\n",
       "Hilton Grand Vacations on the Boulevard               4.17\n",
       "Marriott's Grand Chateau                              4.54\n",
       "Monte Carlo Resort&Casino                             3.29\n",
       "Paris Las Vegas                                       4.04\n",
       "The Cosmopolitan Las Vegas                            4.25\n",
       "The Cromwell                                          4.08\n",
       "The Palazzo Resort Hotel Casino                       4.38\n",
       "The Venetian Las Vegas Hotel                          4.58\n",
       "The Westin las Vegas Hotel Casino & Spa               3.92\n",
       "Treasure Island- TI Hotel & Casino                    3.96\n",
       "Tropicana Las Vegas - A Double Tree by Hilton Hotel   4.04\n",
       "Trump International Hotel Las Vegas                   4.38\n",
       "Tuscany Las Vegas Suites & Casino                     4.21\n",
       "Wyndham Grand Desert                                  4.38\n",
       "Wynn Las Vegas                                        4.62\n",
       "Name: score, dtype: float64"
      ]
     },
     "execution_count": 17,
     "metadata": {},
     "output_type": "execute_result"
    }
   ],
   "source": [
    "score_by_hotel.mean()"
   ]
  },
  {
   "cell_type": "code",
   "execution_count": 24,
   "id": "9c154bb8-2623-4c2c-886c-860cf373b4f2",
   "metadata": {},
   "outputs": [
    {
     "data": {
      "text/plain": [
       "hotel_name\n",
       "Bellagio Las Vegas                                    4.21\n",
       "Caesars Palace                                        4.12\n",
       "Circus Circus Hotel & Casino Las Vegas                3.21\n",
       "Encore at wynn Las Vegas                              4.54\n",
       "Excalibur Hotel & Casino                              3.71\n",
       "Hilton Grand Vacations at the Flamingo                3.96\n",
       "Hilton Grand Vacations on the Boulevard               4.17\n",
       "Marriott's Grand Chateau                              4.54\n",
       "Monte Carlo Resort&Casino                             3.29\n",
       "Paris Las Vegas                                       4.04\n",
       "The Cosmopolitan Las Vegas                            4.25\n",
       "The Cromwell                                          4.08\n",
       "The Palazzo Resort Hotel Casino                       4.38\n",
       "The Venetian Las Vegas Hotel                          4.58\n",
       "The Westin las Vegas Hotel Casino & Spa               3.92\n",
       "Treasure Island- TI Hotel & Casino                    3.96\n",
       "Tropicana Las Vegas - A Double Tree by Hilton Hotel   4.04\n",
       "Trump International Hotel Las Vegas                   4.38\n",
       "Tuscany Las Vegas Suites & Casino                     4.21\n",
       "Wyndham Grand Desert                                  4.38\n",
       "Wynn Las Vegas                                        4.62\n",
       "Name: score, dtype: float64"
      ]
     },
     "execution_count": 24,
     "metadata": {},
     "output_type": "execute_result"
    }
   ],
   "source": [
    "score_by_hotel.mean()"
   ]
  },
  {
   "cell_type": "code",
   "execution_count": 26,
   "id": "57e4bf9e-659c-4f98-bba6-a674688d90d4",
   "metadata": {},
   "outputs": [],
   "source": [
    "score_by_hotel = Vegas.score.groupby(Vegas['hotel_name'])"
   ]
  },
  {
   "cell_type": "code",
   "execution_count": 27,
   "id": "7c262492-cf88-47fe-8bc6-1efd9d64b00e",
   "metadata": {},
   "outputs": [
    {
     "data": {
      "text/plain": [
       "pandas.core.groupby.generic.SeriesGroupBy"
      ]
     },
     "execution_count": 27,
     "metadata": {},
     "output_type": "execute_result"
    }
   ],
   "source": [
    "type(score_by_hotel)"
   ]
  },
  {
   "cell_type": "code",
   "execution_count": 28,
   "id": "7605434d-4359-4478-a4f3-755f2c4da9e6",
   "metadata": {},
   "outputs": [
    {
     "data": {
      "text/plain": [
       "hotel_name\n",
       "Bellagio Las Vegas                                    4.21\n",
       "Caesars Palace                                        4.12\n",
       "Circus Circus Hotel & Casino Las Vegas                3.21\n",
       "Encore at wynn Las Vegas                              4.54\n",
       "Excalibur Hotel & Casino                              3.71\n",
       "Hilton Grand Vacations at the Flamingo                3.96\n",
       "Hilton Grand Vacations on the Boulevard               4.17\n",
       "Marriott's Grand Chateau                              4.54\n",
       "Monte Carlo Resort&Casino                             3.29\n",
       "Paris Las Vegas                                       4.04\n",
       "The Cosmopolitan Las Vegas                            4.25\n",
       "The Cromwell                                          4.08\n",
       "The Palazzo Resort Hotel Casino                       4.38\n",
       "The Venetian Las Vegas Hotel                          4.58\n",
       "The Westin las Vegas Hotel Casino & Spa               3.92\n",
       "Treasure Island- TI Hotel & Casino                    3.96\n",
       "Tropicana Las Vegas - A Double Tree by Hilton Hotel   4.04\n",
       "Trump International Hotel Las Vegas                   4.38\n",
       "Tuscany Las Vegas Suites & Casino                     4.21\n",
       "Wyndham Grand Desert                                  4.38\n",
       "Wynn Las Vegas                                        4.62\n",
       "Name: score, dtype: float64"
      ]
     },
     "execution_count": 28,
     "metadata": {},
     "output_type": "execute_result"
    }
   ],
   "source": [
    "score_by_hotel.mean()"
   ]
  },
  {
   "cell_type": "code",
   "execution_count": 30,
   "id": "37aeb01b-91a8-441e-b657-d53ff02f526d",
   "metadata": {},
   "outputs": [
    {
     "data": {
      "text/plain": [
       "432    4\n",
       "433    5\n",
       "434    4\n",
       "435    5\n",
       "436    5\n",
       "437    2\n",
       "438    5\n",
       "439    2\n",
       "440    3\n",
       "441    5\n",
       "442    5\n",
       "443    4\n",
       "444    5\n",
       "445    4\n",
       "446    4\n",
       "447    5\n",
       "448    5\n",
       "449    4\n",
       "450    5\n",
       "451    4\n",
       "452    5\n",
       "453    5\n",
       "454    4\n",
       "455    2\n",
       "Name: score, dtype: int64"
      ]
     },
     "execution_count": 30,
     "metadata": {},
     "output_type": "execute_result"
    }
   ],
   "source": [
    "# all the data for a specific group\n",
    "\n",
    "score_by_hotel.get_group('Bellagio Las Vegas')"
   ]
  },
  {
   "cell_type": "code",
   "execution_count": 33,
   "id": "671e7c65-505f-4bfb-a4ec-7c5cb2ec1080",
   "metadata": {},
   "outputs": [
    {
     "data": {
      "text/plain": [
       "hotel_name\n",
       "Wynn Las Vegas                                        4.62\n",
       "The Venetian Las Vegas Hotel                          4.58\n",
       "Marriott's Grand Chateau                              4.54\n",
       "Encore at wynn Las Vegas                              4.54\n",
       "Wyndham Grand Desert                                  4.38\n",
       "Trump International Hotel Las Vegas                   4.38\n",
       "The Palazzo Resort Hotel Casino                       4.38\n",
       "The Cosmopolitan Las Vegas                            4.25\n",
       "Tuscany Las Vegas Suites & Casino                     4.21\n",
       "Bellagio Las Vegas                                    4.21\n",
       "Hilton Grand Vacations on the Boulevard               4.17\n",
       "Caesars Palace                                        4.12\n",
       "The Cromwell                                          4.08\n",
       "Paris Las Vegas                                       4.04\n",
       "Tropicana Las Vegas - A Double Tree by Hilton Hotel   4.04\n",
       "Hilton Grand Vacations at the Flamingo                3.96\n",
       "Treasure Island- TI Hotel & Casino                    3.96\n",
       "The Westin las Vegas Hotel Casino & Spa               3.92\n",
       "Excalibur Hotel & Casino                              3.71\n",
       "Monte Carlo Resort&Casino                             3.29\n",
       "Circus Circus Hotel & Casino Las Vegas                3.21\n",
       "Name: score, dtype: float64"
      ]
     },
     "execution_count": 33,
     "metadata": {},
     "output_type": "execute_result"
    }
   ],
   "source": [
    "score_by_hotel.mean().sort_values(ascending = False)"
   ]
  },
  {
   "cell_type": "code",
   "execution_count": 34,
   "id": "35a53715-fc60-4f6d-bbd9-a1a54b89a913",
   "metadata": {},
   "outputs": [
    {
     "data": {
      "text/plain": [
       "hotel_name\n",
       "Bellagio Las Vegas                                     2\n",
       "Caesars Palace                                         1\n",
       "Circus Circus Hotel & Casino Las Vegas                 1\n",
       "Encore at wynn Las Vegas                               1\n",
       "Excalibur Hotel & Casino                               2\n",
       "Hilton Grand Vacations at the Flamingo                 2\n",
       "Hilton Grand Vacations on the Boulevard                1\n",
       "Marriott's Grand Chateau                               3\n",
       "Monte Carlo Resort&Casino                              1\n",
       "Paris Las Vegas                                        2\n",
       "The Cosmopolitan Las Vegas                             1\n",
       "The Cromwell                                           1\n",
       "The Palazzo Resort Hotel Casino                        3\n",
       "The Venetian Las Vegas Hotel                           3\n",
       "The Westin las Vegas Hotel Casino & Spa                2\n",
       "Treasure Island- TI Hotel & Casino                     3\n",
       "Tropicana Las Vegas - A Double Tree by Hilton Hotel    1\n",
       "Trump International Hotel Las Vegas                    1\n",
       "Tuscany Las Vegas Suites & Casino                      2\n",
       "Wyndham Grand Desert                                   3\n",
       "Wynn Las Vegas                                         2\n",
       "Name: score, dtype: int64"
      ]
     },
     "execution_count": 34,
     "metadata": {},
     "output_type": "execute_result"
    }
   ],
   "source": [
    "score_by_hotel.min()"
   ]
  },
  {
   "cell_type": "code",
   "execution_count": 35,
   "id": "87d19861-d4f3-4dfd-8061-3201ae527e46",
   "metadata": {},
   "outputs": [
    {
     "data": {
      "text/plain": [
       "hotel_name\n",
       "Bellagio Las Vegas                                     5\n",
       "Caesars Palace                                         5\n",
       "Circus Circus Hotel & Casino Las Vegas                 5\n",
       "Encore at wynn Las Vegas                               5\n",
       "Excalibur Hotel & Casino                               5\n",
       "Hilton Grand Vacations at the Flamingo                 5\n",
       "Hilton Grand Vacations on the Boulevard                5\n",
       "Marriott's Grand Chateau                               5\n",
       "Monte Carlo Resort&Casino                              5\n",
       "Paris Las Vegas                                        5\n",
       "The Cosmopolitan Las Vegas                             5\n",
       "The Cromwell                                           5\n",
       "The Palazzo Resort Hotel Casino                        5\n",
       "The Venetian Las Vegas Hotel                           5\n",
       "The Westin las Vegas Hotel Casino & Spa                5\n",
       "Treasure Island- TI Hotel & Casino                     5\n",
       "Tropicana Las Vegas - A Double Tree by Hilton Hotel    5\n",
       "Trump International Hotel Las Vegas                    5\n",
       "Tuscany Las Vegas Suites & Casino                      5\n",
       "Wyndham Grand Desert                                   5\n",
       "Wynn Las Vegas                                         5\n",
       "Name: score, dtype: int64"
      ]
     },
     "execution_count": 35,
     "metadata": {},
     "output_type": "execute_result"
    }
   ],
   "source": [
    "score_by_hotel.max()"
   ]
  },
  {
   "cell_type": "markdown",
   "id": "1ad9ad94-5de1-495e-9550-cffa4805cbef",
   "metadata": {},
   "source": [
    "---"
   ]
  },
  {
   "cell_type": "code",
   "execution_count": 37,
   "id": "4304998b-7f2b-4273-8b3b-73c1beaaf641",
   "metadata": {},
   "outputs": [],
   "source": [
    "temp = Vegas.score.groupby([Vegas.hotel_name, Vegas.traveler_type])"
   ]
  },
  {
   "cell_type": "code",
   "execution_count": 40,
   "id": "b4c583bc-e15b-49bc-b21a-d7f9218d9fca",
   "metadata": {},
   "outputs": [
    {
     "data": {
      "text/plain": [
       "hotel_name          traveler_type\n",
       "Bellagio Las Vegas  Business        4.00\n",
       "                    Couples         4.71\n",
       "                    Families        3.83\n",
       "                    Friends         4.33\n",
       "                    Solo            4.00\n",
       "                                    ... \n",
       "Wynn Las Vegas      Business        4.00\n",
       "                    Couples         4.80\n",
       "                    Families        5.00\n",
       "                    Friends         5.00\n",
       "                    Solo            4.00\n",
       "Name: score, Length: 97, dtype: float64"
      ]
     },
     "execution_count": 40,
     "metadata": {},
     "output_type": "execute_result"
    }
   ],
   "source": [
    "temp.mean()"
   ]
  },
  {
   "cell_type": "code",
   "execution_count": 51,
   "id": "f6fb21a6-0e20-47fb-a3a6-edb8a82a1879",
   "metadata": {},
   "outputs": [
    {
     "data": {
      "text/html": [
       "<div>\n",
       "<style scoped>\n",
       "    .dataframe tbody tr th:only-of-type {\n",
       "        vertical-align: middle;\n",
       "    }\n",
       "\n",
       "    .dataframe tbody tr th {\n",
       "        vertical-align: top;\n",
       "    }\n",
       "\n",
       "    .dataframe thead th {\n",
       "        text-align: right;\n",
       "    }\n",
       "</style>\n",
       "<table border=\"1\" class=\"dataframe\">\n",
       "  <thead>\n",
       "    <tr style=\"text-align: right;\">\n",
       "      <th>traveler_type</th>\n",
       "      <th>Business</th>\n",
       "      <th>Couples</th>\n",
       "      <th>Families</th>\n",
       "      <th>Friends</th>\n",
       "      <th>Solo</th>\n",
       "    </tr>\n",
       "    <tr>\n",
       "      <th>hotel_name</th>\n",
       "      <th></th>\n",
       "      <th></th>\n",
       "      <th></th>\n",
       "      <th></th>\n",
       "      <th></th>\n",
       "    </tr>\n",
       "  </thead>\n",
       "  <tbody>\n",
       "    <tr>\n",
       "      <th>Bellagio Las Vegas</th>\n",
       "      <td>4.00</td>\n",
       "      <td>4.71</td>\n",
       "      <td>3.83</td>\n",
       "      <td>4.33</td>\n",
       "      <td>4.00</td>\n",
       "    </tr>\n",
       "    <tr>\n",
       "      <th>Caesars Palace</th>\n",
       "      <td>5.00</td>\n",
       "      <td>4.18</td>\n",
       "      <td>4.12</td>\n",
       "      <td>4.67</td>\n",
       "      <td>1.00</td>\n",
       "    </tr>\n",
       "    <tr>\n",
       "      <th>Circus Circus Hotel &amp; Casino Las Vegas</th>\n",
       "      <td>3.00</td>\n",
       "      <td>2.71</td>\n",
       "      <td>3.38</td>\n",
       "      <td>3.43</td>\n",
       "      <td>4.00</td>\n",
       "    </tr>\n",
       "    <tr>\n",
       "      <th>Encore at wynn Las Vegas</th>\n",
       "      <td>4.00</td>\n",
       "      <td>4.88</td>\n",
       "      <td>4.50</td>\n",
       "      <td>4.67</td>\n",
       "      <td>NaN</td>\n",
       "    </tr>\n",
       "    <tr>\n",
       "      <th>Excalibur Hotel &amp; Casino</th>\n",
       "      <td>3.33</td>\n",
       "      <td>4.00</td>\n",
       "      <td>3.00</td>\n",
       "      <td>3.80</td>\n",
       "      <td>3.67</td>\n",
       "    </tr>\n",
       "    <tr>\n",
       "      <th>Hilton Grand Vacations at the Flamingo</th>\n",
       "      <td>4.00</td>\n",
       "      <td>4.25</td>\n",
       "      <td>3.56</td>\n",
       "      <td>4.33</td>\n",
       "      <td>NaN</td>\n",
       "    </tr>\n",
       "    <tr>\n",
       "      <th>Hilton Grand Vacations on the Boulevard</th>\n",
       "      <td>4.33</td>\n",
       "      <td>3.89</td>\n",
       "      <td>4.11</td>\n",
       "      <td>5.00</td>\n",
       "      <td>5.00</td>\n",
       "    </tr>\n",
       "    <tr>\n",
       "      <th>Marriott's Grand Chateau</th>\n",
       "      <td>4.17</td>\n",
       "      <td>4.50</td>\n",
       "      <td>4.86</td>\n",
       "      <td>4.67</td>\n",
       "      <td>NaN</td>\n",
       "    </tr>\n",
       "    <tr>\n",
       "      <th>Monte Carlo Resort&amp;Casino</th>\n",
       "      <td>2.25</td>\n",
       "      <td>3.62</td>\n",
       "      <td>3.33</td>\n",
       "      <td>3.50</td>\n",
       "      <td>3.00</td>\n",
       "    </tr>\n",
       "    <tr>\n",
       "      <th>Paris Las Vegas</th>\n",
       "      <td>4.00</td>\n",
       "      <td>4.00</td>\n",
       "      <td>4.50</td>\n",
       "      <td>4.00</td>\n",
       "      <td>NaN</td>\n",
       "    </tr>\n",
       "    <tr>\n",
       "      <th>The Cosmopolitan Las Vegas</th>\n",
       "      <td>3.60</td>\n",
       "      <td>4.22</td>\n",
       "      <td>5.00</td>\n",
       "      <td>4.43</td>\n",
       "      <td>NaN</td>\n",
       "    </tr>\n",
       "    <tr>\n",
       "      <th>The Cromwell</th>\n",
       "      <td>3.75</td>\n",
       "      <td>4.60</td>\n",
       "      <td>3.50</td>\n",
       "      <td>4.20</td>\n",
       "      <td>2.00</td>\n",
       "    </tr>\n",
       "    <tr>\n",
       "      <th>The Palazzo Resort Hotel Casino</th>\n",
       "      <td>4.50</td>\n",
       "      <td>4.33</td>\n",
       "      <td>4.62</td>\n",
       "      <td>4.00</td>\n",
       "      <td>NaN</td>\n",
       "    </tr>\n",
       "    <tr>\n",
       "      <th>The Venetian Las Vegas Hotel</th>\n",
       "      <td>4.50</td>\n",
       "      <td>4.56</td>\n",
       "      <td>4.50</td>\n",
       "      <td>5.00</td>\n",
       "      <td>5.00</td>\n",
       "    </tr>\n",
       "    <tr>\n",
       "      <th>The Westin las Vegas Hotel Casino &amp; Spa</th>\n",
       "      <td>4.00</td>\n",
       "      <td>4.11</td>\n",
       "      <td>3.20</td>\n",
       "      <td>4.00</td>\n",
       "      <td>4.25</td>\n",
       "    </tr>\n",
       "    <tr>\n",
       "      <th>Treasure Island- TI Hotel &amp; Casino</th>\n",
       "      <td>3.50</td>\n",
       "      <td>4.10</td>\n",
       "      <td>3.60</td>\n",
       "      <td>4.00</td>\n",
       "      <td>4.50</td>\n",
       "    </tr>\n",
       "    <tr>\n",
       "      <th>Tropicana Las Vegas - A Double Tree by Hilton Hotel</th>\n",
       "      <td>3.75</td>\n",
       "      <td>4.00</td>\n",
       "      <td>4.50</td>\n",
       "      <td>4.14</td>\n",
       "      <td>4.00</td>\n",
       "    </tr>\n",
       "    <tr>\n",
       "      <th>Trump International Hotel Las Vegas</th>\n",
       "      <td>4.75</td>\n",
       "      <td>4.30</td>\n",
       "      <td>4.12</td>\n",
       "      <td>5.00</td>\n",
       "      <td>5.00</td>\n",
       "    </tr>\n",
       "    <tr>\n",
       "      <th>Tuscany Las Vegas Suites &amp; Casino</th>\n",
       "      <td>3.71</td>\n",
       "      <td>4.36</td>\n",
       "      <td>3.50</td>\n",
       "      <td>5.00</td>\n",
       "      <td>NaN</td>\n",
       "    </tr>\n",
       "    <tr>\n",
       "      <th>Wyndham Grand Desert</th>\n",
       "      <td>4.00</td>\n",
       "      <td>4.50</td>\n",
       "      <td>4.22</td>\n",
       "      <td>4.60</td>\n",
       "      <td>NaN</td>\n",
       "    </tr>\n",
       "    <tr>\n",
       "      <th>Wynn Las Vegas</th>\n",
       "      <td>4.00</td>\n",
       "      <td>4.80</td>\n",
       "      <td>5.00</td>\n",
       "      <td>5.00</td>\n",
       "      <td>4.00</td>\n",
       "    </tr>\n",
       "  </tbody>\n",
       "</table>\n",
       "</div>"
      ],
      "text/plain": [
       "traveler_type                                       Business  Couples  \\\n",
       "hotel_name                                                              \n",
       "Bellagio Las Vegas                                      4.00     4.71   \n",
       "Caesars Palace                                          5.00     4.18   \n",
       "Circus Circus Hotel & Casino Las Vegas                  3.00     2.71   \n",
       "Encore at wynn Las Vegas                                4.00     4.88   \n",
       "Excalibur Hotel & Casino                                3.33     4.00   \n",
       "Hilton Grand Vacations at the Flamingo                  4.00     4.25   \n",
       "Hilton Grand Vacations on the Boulevard                 4.33     3.89   \n",
       "Marriott's Grand Chateau                                4.17     4.50   \n",
       "Monte Carlo Resort&Casino                               2.25     3.62   \n",
       "Paris Las Vegas                                         4.00     4.00   \n",
       "The Cosmopolitan Las Vegas                              3.60     4.22   \n",
       "The Cromwell                                            3.75     4.60   \n",
       "The Palazzo Resort Hotel Casino                         4.50     4.33   \n",
       "The Venetian Las Vegas Hotel                            4.50     4.56   \n",
       "The Westin las Vegas Hotel Casino & Spa                 4.00     4.11   \n",
       "Treasure Island- TI Hotel & Casino                      3.50     4.10   \n",
       "Tropicana Las Vegas - A Double Tree by Hilton H...      3.75     4.00   \n",
       "Trump International Hotel Las Vegas                     4.75     4.30   \n",
       "Tuscany Las Vegas Suites & Casino                       3.71     4.36   \n",
       "Wyndham Grand Desert                                    4.00     4.50   \n",
       "Wynn Las Vegas                                          4.00     4.80   \n",
       "\n",
       "traveler_type                                       Families  Friends  Solo  \n",
       "hotel_name                                                                   \n",
       "Bellagio Las Vegas                                      3.83     4.33  4.00  \n",
       "Caesars Palace                                          4.12     4.67  1.00  \n",
       "Circus Circus Hotel & Casino Las Vegas                  3.38     3.43  4.00  \n",
       "Encore at wynn Las Vegas                                4.50     4.67   NaN  \n",
       "Excalibur Hotel & Casino                                3.00     3.80  3.67  \n",
       "Hilton Grand Vacations at the Flamingo                  3.56     4.33   NaN  \n",
       "Hilton Grand Vacations on the Boulevard                 4.11     5.00  5.00  \n",
       "Marriott's Grand Chateau                                4.86     4.67   NaN  \n",
       "Monte Carlo Resort&Casino                               3.33     3.50  3.00  \n",
       "Paris Las Vegas                                         4.50     4.00   NaN  \n",
       "The Cosmopolitan Las Vegas                              5.00     4.43   NaN  \n",
       "The Cromwell                                            3.50     4.20  2.00  \n",
       "The Palazzo Resort Hotel Casino                         4.62     4.00   NaN  \n",
       "The Venetian Las Vegas Hotel                            4.50     5.00  5.00  \n",
       "The Westin las Vegas Hotel Casino & Spa                 3.20     4.00  4.25  \n",
       "Treasure Island- TI Hotel & Casino                      3.60     4.00  4.50  \n",
       "Tropicana Las Vegas - A Double Tree by Hilton H...      4.50     4.14  4.00  \n",
       "Trump International Hotel Las Vegas                     4.12     5.00  5.00  \n",
       "Tuscany Las Vegas Suites & Casino                       3.50     5.00   NaN  \n",
       "Wyndham Grand Desert                                    4.22     4.60   NaN  \n",
       "Wynn Las Vegas                                          5.00     5.00  4.00  "
      ]
     },
     "execution_count": 51,
     "metadata": {},
     "output_type": "execute_result"
    }
   ],
   "source": [
    "temp.mean().unstack()"
   ]
  },
  {
   "cell_type": "markdown",
   "id": "b6fcbb42-d8c3-4a01-be69-bc304a7465fa",
   "metadata": {},
   "source": [
    "---"
   ]
  },
  {
   "cell_type": "code",
   "execution_count": 43,
   "id": "6157de0d-e481-4b77-9a8c-3f81a8fdaea9",
   "metadata": {},
   "outputs": [],
   "source": [
    "temp2 = Vegas.score.groupby([Vegas.traveler_type, Vegas.pool])"
   ]
  },
  {
   "cell_type": "code",
   "execution_count": 48,
   "id": "09c8101f-9b2a-43d0-ba30-ddcaf239f082",
   "metadata": {},
   "outputs": [
    {
     "data": {
      "text/html": [
       "<div>\n",
       "<style scoped>\n",
       "    .dataframe tbody tr th:only-of-type {\n",
       "        vertical-align: middle;\n",
       "    }\n",
       "\n",
       "    .dataframe tbody tr th {\n",
       "        vertical-align: top;\n",
       "    }\n",
       "\n",
       "    .dataframe thead th {\n",
       "        text-align: right;\n",
       "    }\n",
       "</style>\n",
       "<table border=\"1\" class=\"dataframe\">\n",
       "  <thead>\n",
       "    <tr style=\"text-align: right;\">\n",
       "      <th>pool</th>\n",
       "      <th>NO</th>\n",
       "      <th>YES</th>\n",
       "    </tr>\n",
       "    <tr>\n",
       "      <th>traveler_type</th>\n",
       "      <th></th>\n",
       "      <th></th>\n",
       "    </tr>\n",
       "  </thead>\n",
       "  <tbody>\n",
       "    <tr>\n",
       "      <th>Business</th>\n",
       "      <td>3.00</td>\n",
       "      <td>3.89</td>\n",
       "    </tr>\n",
       "    <tr>\n",
       "      <th>Couples</th>\n",
       "      <td>2.71</td>\n",
       "      <td>4.29</td>\n",
       "    </tr>\n",
       "    <tr>\n",
       "      <th>Families</th>\n",
       "      <td>3.38</td>\n",
       "      <td>4.07</td>\n",
       "    </tr>\n",
       "    <tr>\n",
       "      <th>Friends</th>\n",
       "      <td>3.43</td>\n",
       "      <td>4.33</td>\n",
       "    </tr>\n",
       "    <tr>\n",
       "      <th>Solo</th>\n",
       "      <td>4.00</td>\n",
       "      <td>3.91</td>\n",
       "    </tr>\n",
       "  </tbody>\n",
       "</table>\n",
       "</div>"
      ],
      "text/plain": [
       "pool            NO  YES\n",
       "traveler_type          \n",
       "Business      3.00 3.89\n",
       "Couples       2.71 4.29\n",
       "Families      3.38 4.07\n",
       "Friends       3.43 4.33\n",
       "Solo          4.00 3.91"
      ]
     },
     "execution_count": 48,
     "metadata": {},
     "output_type": "execute_result"
    }
   ],
   "source": [
    "temp2.mean().unstack()"
   ]
  },
  {
   "cell_type": "code",
   "execution_count": 52,
   "id": "f188ad12-e287-420c-b49e-c22c2c46774a",
   "metadata": {},
   "outputs": [],
   "source": [
    "df2 = temp2.mean().unstack()"
   ]
  },
  {
   "cell_type": "code",
   "execution_count": 53,
   "id": "0e654a5a-638b-4edc-9b9c-37347fda5257",
   "metadata": {},
   "outputs": [
    {
     "data": {
      "text/plain": [
       "pandas.core.frame.DataFrame"
      ]
     },
     "execution_count": 53,
     "metadata": {},
     "output_type": "execute_result"
    }
   ],
   "source": [
    "type(df2)"
   ]
  },
  {
   "cell_type": "code",
   "execution_count": 54,
   "id": "e13b1727-3aaf-42fc-91a8-12048be4c48a",
   "metadata": {},
   "outputs": [
    {
     "data": {
      "text/plain": [
       "<AxesSubplot:xlabel='traveler_type'>"
      ]
     },
     "execution_count": 54,
     "metadata": {},
     "output_type": "execute_result"
    },
    {
     "data": {
      "image/png": "[encoded data removed]",
      "text/plain": [
       "<Figure size 640x480 with 1 Axes>"
      ]
     },
     "metadata": {},
     "output_type": "display_data"
    }
   ],
   "source": [
    "df2.plot(kind = 'bar')"
   ]
  },
  {
   "cell_type": "code",
   "execution_count": null,
   "id": "a585aecb-6818-465f-916f-e87cf70a2dcc",
   "metadata": {},
   "outputs": [],
   "source": []
  }
 ],
 "metadata": {
  "kernelspec": {
   "display_name": "Python 3 (ipykernel)",
   "language": "python",
   "name": "python3"
  },
  "language_info": {
   "codemirror_mode": {
    "name": "ipython",
    "version": 3
   },
   "file_extension": ".py",
   "mimetype": "text/x-python",
   "name": "python",
   "nbconvert_exporter": "python",
   "pygments_lexer": "ipython3",
   "version": "3.9.13"
  }
 },
 "nbformat": 4,
 "nbformat_minor": 5
}
