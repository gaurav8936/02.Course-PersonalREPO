{
 "cells": [
  {
   "cell_type": "markdown",
   "metadata": {},
   "source": [
    "# Initializing a Class\n",
    "\n",
    "\n",
    "Add an __init__ magic method to initialize funding and employee data as instance (rather than class) attributes. \n",
    "\n",
    "- Require that one employee name is added at the opening of a company \n",
    "- Make the initial funding amount default to 0. \n",
    "- Don't forget your self arguments; instance attributes need self arguments!\n",
    "\n",
    "- Enhance your add employee method; if the method is called without an argument and the default value (employee_name == \"unnamed\") is used then do not add unnamed to the list and print a message to instruct the user to add a name. \n"
   ]
  },
  {
   "cell_type": "code",
   "execution_count": null,
   "metadata": {},
   "outputs": [],
   "source": [
    "#### ORIGINAL ONE -- COPIED ####\n",
    "\n",
    "\n",
    "class Company():\n",
    "    '''\n",
    "   this is a practice docstring\n",
    "    '''\n",
    "    \n",
    "    employee_list=[]\n",
    "    employee_count=1\n",
    "    funding_list=[]\n",
    "\n",
    "    def add_employee_name(self, employee):\n",
    "        self.employee_list.append(employee)\n",
    "        self.employee_count += 1\n",
    "        print('the employee list is {}'.format(self.employee_list))\n",
    "        print('the employee count is {}'.format(self.employee_count))\n",
    "\n",
    "\n",
    "    def add_funding(self, amount):\n",
    "        self.funding_list.append(amount)\n",
    "        print('the additional amount is {}'.format(amount))\n",
    "        print('your funding total was {}'.format(sum(self.funding_list)))"
   ]
  },
  {
   "cell_type": "code",
   "execution_count": 48,
   "metadata": {
    "tags": []
   },
   "outputs": [],
   "source": [
    "#### NEW ONE -- FOR THIS EXERCISE ####\n",
    "\n",
    "\n",
    "class Company():\n",
    "    '''\n",
    "    You can copy over your class from the last exercise and add the __init__() part\n",
    "    '''\n",
    "    \n",
    "    employee_list=[]\n",
    "    employee_count=0\n",
    "    funding_list=[]\n",
    "    \n",
    "    def __init__(self, employee_name):\n",
    "        self.employee_name = employee_name\n",
    "        print(' this is the initial employee {}'.format(employee_name))\n",
    "    \n",
    "    def add_employee_name(self):\n",
    "        self.employee_list.append(self.employee_name)\n",
    "        self.employee_count += 1\n",
    "        print('the employee list is {}'.format(self.employee_list))\n",
    "        print('the employee count is {}'.format(self.employee_count))\n",
    " \n",
    "            \n",
    "    def add_funding(self, amount = 0):\n",
    "        self.funding_list.append(amount)\n",
    "        print('the additinoal amount is {}'.format(amount))\n",
    "        print('youir funding total was {}'.format(sum(self.funding_list)))\n",
    "                   \n"
   ]
  },
  {
   "cell_type": "code",
   "execution_count": 23,
   "metadata": {
    "collapsed": true,
    "jupyter": {
     "outputs_hidden": true,
     "source_hidden": true
    },
    "tags": []
   },
   "outputs": [
    {
     "name": "stdout",
     "output_type": "stream",
     "text": [
      " this is the initial employee employee 3\n"
     ]
    }
   ],
   "source": [
    "c1 = Company('employee 3')"
   ]
  },
  {
   "cell_type": "code",
   "execution_count": 24,
   "metadata": {
    "collapsed": true,
    "jupyter": {
     "outputs_hidden": true,
     "source_hidden": true
    },
    "tags": []
   },
   "outputs": [
    {
     "name": "stdout",
     "output_type": "stream",
     "text": [
      "the employee list is ['employee 1', 'employee 2', 'employee 3']\n",
      "the employee count is 2\n"
     ]
    }
   ],
   "source": [
    "c1.add_employee_name()"
   ]
  },
  {
   "cell_type": "code",
   "execution_count": 16,
   "metadata": {
    "collapsed": true,
    "jupyter": {
     "outputs_hidden": true,
     "source_hidden": true
    },
    "tags": []
   },
   "outputs": [
    {
     "name": "stdout",
     "output_type": "stream",
     "text": [
      "the additinoal amount is 100\n",
      "youir funding total was 100\n"
     ]
    }
   ],
   "source": [
    "c1.add_funding(100)"
   ]
  },
  {
   "cell_type": "markdown",
   "metadata": {},
   "source": [
    "---"
   ]
  },
  {
   "cell_type": "code",
   "execution_count": 25,
   "metadata": {
    "collapsed": true,
    "jupyter": {
     "outputs_hidden": true,
     "source_hidden": true
    },
    "tags": []
   },
   "outputs": [
    {
     "name": "stdout",
     "output_type": "stream",
     "text": [
      " this is the initial employee e1\n"
     ]
    }
   ],
   "source": [
    "c2 = Company(\"e1\")"
   ]
  },
  {
   "cell_type": "code",
   "execution_count": 31,
   "metadata": {
    "collapsed": true,
    "jupyter": {
     "outputs_hidden": true,
     "source_hidden": true
    },
    "tags": []
   },
   "outputs": [
    {
     "name": "stdout",
     "output_type": "stream",
     "text": [
      "the employee list is ['employee 1', 'employee 2', 'employee 3', 'employee 3', 'e1', 'e1', 'e1', 'e1']\n",
      "the employee count is 5\n"
     ]
    }
   ],
   "source": [
    "c2.add_employee_name()"
   ]
  },
  {
   "cell_type": "code",
   "execution_count": 32,
   "metadata": {
    "collapsed": true,
    "jupyter": {
     "outputs_hidden": true,
     "source_hidden": true
    },
    "tags": []
   },
   "outputs": [
    {
     "data": {
      "text/plain": [
       "['employee 1',\n",
       " 'employee 2',\n",
       " 'employee 3',\n",
       " 'employee 3',\n",
       " 'e1',\n",
       " 'e1',\n",
       " 'e1',\n",
       " 'e1']"
      ]
     },
     "execution_count": 32,
     "metadata": {},
     "output_type": "execute_result"
    }
   ],
   "source": [
    "c2.employee_list"
   ]
  },
  {
   "cell_type": "code",
   "execution_count": 33,
   "metadata": {
    "collapsed": true,
    "jupyter": {
     "outputs_hidden": true,
     "source_hidden": true
    },
    "tags": []
   },
   "outputs": [
    {
     "data": {
      "text/plain": [
       "5"
      ]
     },
     "execution_count": 33,
     "metadata": {},
     "output_type": "execute_result"
    }
   ],
   "source": [
    "c2.employee_count"
   ]
  },
  {
   "cell_type": "code",
   "execution_count": 34,
   "metadata": {
    "collapsed": true,
    "jupyter": {
     "outputs_hidden": true,
     "source_hidden": true
    },
    "tags": []
   },
   "outputs": [
    {
     "data": {
      "text/plain": [
       "3"
      ]
     },
     "execution_count": 34,
     "metadata": {},
     "output_type": "execute_result"
    }
   ],
   "source": [
    "c1.employee_count"
   ]
  },
  {
   "cell_type": "code",
   "execution_count": 37,
   "metadata": {
    "collapsed": true,
    "jupyter": {
     "outputs_hidden": true,
     "source_hidden": true
    },
    "tags": []
   },
   "outputs": [
    {
     "name": "stdout",
     "output_type": "stream",
     "text": [
      "the additinoal amount is 300\n",
      "youir funding total was 300\n"
     ]
    }
   ],
   "source": [
    "c2.add_funding(300)"
   ]
  },
  {
   "cell_type": "code",
   "execution_count": 38,
   "metadata": {
    "collapsed": true,
    "jupyter": {
     "outputs_hidden": true,
     "source_hidden": true
    },
    "tags": []
   },
   "outputs": [
    {
     "data": {
      "text/plain": [
       "[300]"
      ]
     },
     "execution_count": 38,
     "metadata": {},
     "output_type": "execute_result"
    }
   ],
   "source": [
    "c2.funding_list"
   ]
  },
  {
   "cell_type": "code",
   "execution_count": 39,
   "metadata": {
    "collapsed": true,
    "jupyter": {
     "outputs_hidden": true,
     "source_hidden": true
    },
    "tags": []
   },
   "outputs": [
    {
     "data": {
      "text/plain": [
       "[300]"
      ]
     },
     "execution_count": 39,
     "metadata": {},
     "output_type": "execute_result"
    }
   ],
   "source": [
    "c1.funding_list"
   ]
  },
  {
   "cell_type": "markdown",
   "metadata": {},
   "source": [
    "____"
   ]
  },
  {
   "cell_type": "markdown",
   "metadata": {},
   "source": [
    "### what I am seeing is that attributes like funding and employee count are the same for c1 and c2"
   ]
  },
  {
   "cell_type": "markdown",
   "metadata": {},
   "source": [
    "#### hwoever, employee_count is different for c1 and c2"
   ]
  },
  {
   "cell_type": "markdown",
   "metadata": {},
   "source": [
    "# Redoing the tests"
   ]
  },
  {
   "cell_type": "markdown",
   "metadata": {},
   "source": [
    "#### Company c3"
   ]
  },
  {
   "cell_type": "code",
   "execution_count": 49,
   "metadata": {},
   "outputs": [
    {
     "name": "stdout",
     "output_type": "stream",
     "text": [
      " this is the initial employee emp1\n"
     ]
    }
   ],
   "source": [
    "c3 = Company('emp1')"
   ]
  },
  {
   "cell_type": "code",
   "execution_count": 55,
   "metadata": {},
   "outputs": [
    {
     "ename": "TypeError",
     "evalue": "add_employee_name() takes 1 positional argument but 2 were given",
     "output_type": "error",
     "traceback": [
      "\u001b[0;31m---------------------------------------------------------------------------\u001b[0m",
      "\u001b[0;31mTypeError\u001b[0m                                 Traceback (most recent call last)",
      "Input \u001b[0;32mIn [55]\u001b[0m, in \u001b[0;36m<cell line: 1>\u001b[0;34m()\u001b[0m\n\u001b[0;32m----> 1\u001b[0m \u001b[43mc3\u001b[49m\u001b[38;5;241;43m.\u001b[39;49m\u001b[43madd_employee_name\u001b[49m\u001b[43m(\u001b[49m\u001b[38;5;124;43m'\u001b[39;49m\u001b[38;5;124;43memp2\u001b[39;49m\u001b[38;5;124;43m'\u001b[39;49m\u001b[43m)\u001b[49m\n",
      "\u001b[0;31mTypeError\u001b[0m: add_employee_name() takes 1 positional argument but 2 were given"
     ]
    }
   ],
   "source": [
    "c3.add_employee_name('')"
   ]
  },
  {
   "cell_type": "code",
   "execution_count": 51,
   "metadata": {},
   "outputs": [
    {
     "name": "stdout",
     "output_type": "stream",
     "text": [
      "the additinoal amount is 100\n",
      "youir funding total was 100\n"
     ]
    }
   ],
   "source": [
    "c3.add_funding(100)"
   ]
  },
  {
   "cell_type": "code",
   "execution_count": 52,
   "metadata": {},
   "outputs": [
    {
     "data": {
      "text/plain": [
       "[100]"
      ]
     },
     "execution_count": 52,
     "metadata": {},
     "output_type": "execute_result"
    }
   ],
   "source": [
    "c3.funding_list"
   ]
  },
  {
   "cell_type": "code",
   "execution_count": 53,
   "metadata": {},
   "outputs": [
    {
     "data": {
      "text/plain": [
       "1"
      ]
     },
     "execution_count": 53,
     "metadata": {},
     "output_type": "execute_result"
    }
   ],
   "source": [
    "c3.employee_count"
   ]
  },
  {
   "cell_type": "code",
   "execution_count": 54,
   "metadata": {},
   "outputs": [
    {
     "data": {
      "text/plain": [
       "['emp1']"
      ]
     },
     "execution_count": 54,
     "metadata": {},
     "output_type": "execute_result"
    }
   ],
   "source": [
    "c3.employee_list"
   ]
  },
  {
   "cell_type": "markdown",
   "metadata": {},
   "source": [
    "##### Company c4"
   ]
  },
  {
   "cell_type": "markdown",
   "metadata": {},
   "source": [
    "---"
   ]
  },
  {
   "cell_type": "markdown",
   "metadata": {},
   "source": [
    "#### Need to modify the add_employee function (it is now allowing the addition without company creation now)"
   ]
  },
  {
   "cell_type": "markdown",
   "metadata": {},
   "source": [
    "#### WORKING NOW"
   ]
  },
  {
   "cell_type": "code",
   "execution_count": 74,
   "metadata": {},
   "outputs": [],
   "source": [
    "#### NEW ONE -- FOR THIS EXERCISE ####\n",
    "\n",
    "class Company():\n",
    "    '''\n",
    "    You can copy over your class from the last exercise and add the __init__() part\n",
    "    '''\n",
    "\n",
    "    def __init__(self, employee_name):\n",
    "        \n",
    "        self.employee_list=[]\n",
    "        self.employee_count=0\n",
    "        self.funding_list=[]\n",
    "        \n",
    "        self.employee_name = employee_name\n",
    "        self.employee_list.append(employee_name)\n",
    "        self.employee_count += 1\n",
    "        print(' this is the initial employee {}'.format(employee_name))\n",
    "    \n",
    "    def add_employee_name(self, employee_name):\n",
    " #       self.employee_name = employee_name\n",
    "        self.employee_list.append(employee_name)\n",
    "        self.employee_count += 1\n",
    "        print('the employee list is {}'.format(self.employee_list))\n",
    "        print('the employee count is {}'.format(self.employee_count))\n",
    " \n",
    "            \n",
    "    def add_funding(self, amount = 0):\n",
    "        self.funding_list.append(amount)\n",
    "        print('the additinoal amount is {}'.format(amount))\n",
    "        print('youir funding total was {}'.format(sum(self.funding_list)))"
   ]
  },
  {
   "cell_type": "code",
   "execution_count": 75,
   "metadata": {},
   "outputs": [
    {
     "name": "stdout",
     "output_type": "stream",
     "text": [
      " this is the initial employee emp1\n"
     ]
    }
   ],
   "source": [
    "c5 = Company('emp1')"
   ]
  },
  {
   "cell_type": "code",
   "execution_count": 76,
   "metadata": {},
   "outputs": [
    {
     "name": "stdout",
     "output_type": "stream",
     "text": [
      "the employee list is ['emp1', 'emp5']\n",
      "the employee count is 2\n"
     ]
    }
   ],
   "source": [
    "c5.add_employee_name('emp5')"
   ]
  },
  {
   "cell_type": "code",
   "execution_count": 77,
   "metadata": {},
   "outputs": [
    {
     "data": {
      "text/plain": [
       "2"
      ]
     },
     "execution_count": 77,
     "metadata": {},
     "output_type": "execute_result"
    }
   ],
   "source": [
    "c5.employee_count"
   ]
  },
  {
   "cell_type": "code",
   "execution_count": 79,
   "metadata": {},
   "outputs": [
    {
     "ename": "AttributeError",
     "evalue": "type object 'Company' has no attribute 'employee_list'",
     "output_type": "error",
     "traceback": [
      "\u001b[0;31m---------------------------------------------------------------------------\u001b[0m",
      "\u001b[0;31mAttributeError\u001b[0m                            Traceback (most recent call last)",
      "Input \u001b[0;32mIn [79]\u001b[0m, in \u001b[0;36m<cell line: 1>\u001b[0;34m()\u001b[0m\n\u001b[0;32m----> 1\u001b[0m \u001b[43mCompany\u001b[49m\u001b[38;5;241;43m.\u001b[39;49m\u001b[43memployee_list\u001b[49m\n",
      "\u001b[0;31mAttributeError\u001b[0m: type object 'Company' has no attribute 'employee_list'"
     ]
    }
   ],
   "source": [
    "Company.employee_list\n",
    "\n",
    "# this is correct - should error out"
   ]
  },
  {
   "cell_type": "code",
   "execution_count": 80,
   "metadata": {},
   "outputs": [
    {
     "data": {
      "text/plain": [
       "['emp1', 'emp5']"
      ]
     },
     "execution_count": 80,
     "metadata": {},
     "output_type": "execute_result"
    }
   ],
   "source": [
    "c5.employee_list"
   ]
  },
  {
   "cell_type": "markdown",
   "metadata": {},
   "source": [
    "---"
   ]
  },
  {
   "cell_type": "markdown",
   "metadata": {},
   "source": [
    "#### Create second company"
   ]
  },
  {
   "cell_type": "code",
   "execution_count": 81,
   "metadata": {},
   "outputs": [
    {
     "name": "stdout",
     "output_type": "stream",
     "text": [
      " this is the initial employee emp10\n"
     ]
    }
   ],
   "source": [
    "c6 = Company('emp10')"
   ]
  },
  {
   "cell_type": "code",
   "execution_count": 82,
   "metadata": {},
   "outputs": [
    {
     "name": "stdout",
     "output_type": "stream",
     "text": [
      "the employee list is ['emp10', 'emp11']\n",
      "the employee count is 2\n"
     ]
    }
   ],
   "source": [
    "c6.add_employee_name('emp11')"
   ]
  },
  {
   "cell_type": "code",
   "execution_count": 83,
   "metadata": {},
   "outputs": [
    {
     "data": {
      "text/plain": [
       "2"
      ]
     },
     "execution_count": 83,
     "metadata": {},
     "output_type": "execute_result"
    }
   ],
   "source": [
    "c6.employee_count \n",
    "\n",
    "# this is fine"
   ]
  },
  {
   "cell_type": "code",
   "execution_count": 84,
   "metadata": {},
   "outputs": [
    {
     "data": {
      "text/plain": [
       "2"
      ]
     },
     "execution_count": 84,
     "metadata": {},
     "output_type": "execute_result"
    }
   ],
   "source": [
    "c5.employee_count\n",
    "\n",
    "# this is fine"
   ]
  },
  {
   "cell_type": "code",
   "execution_count": 85,
   "metadata": {},
   "outputs": [
    {
     "data": {
      "text/plain": [
       "['emp1', 'emp5']"
      ]
     },
     "execution_count": 85,
     "metadata": {},
     "output_type": "execute_result"
    }
   ],
   "source": [
    "c5.employee_list"
   ]
  },
  {
   "cell_type": "code",
   "execution_count": 86,
   "metadata": {},
   "outputs": [
    {
     "data": {
      "text/plain": [
       "['emp10', 'emp11']"
      ]
     },
     "execution_count": 86,
     "metadata": {},
     "output_type": "execute_result"
    }
   ],
   "source": [
    "c6.employee_list"
   ]
  },
  {
   "cell_type": "code",
   "execution_count": 88,
   "metadata": {},
   "outputs": [],
   "source": [
    "##### problem with employee list (which seems to be common)"
   ]
  },
  {
   "cell_type": "code",
   "execution_count": 87,
   "metadata": {},
   "outputs": [
    {
     "name": "stdout",
     "output_type": "stream",
     "text": [
      "the additinoal amount is 100\n",
      "youir funding total was 100\n"
     ]
    }
   ],
   "source": [
    "c5.add_funding(100)"
   ]
  },
  {
   "cell_type": "code",
   "execution_count": 88,
   "metadata": {},
   "outputs": [
    {
     "name": "stdout",
     "output_type": "stream",
     "text": [
      "the additinoal amount is 200\n",
      "youir funding total was 200\n"
     ]
    }
   ],
   "source": [
    "c6.add_funding(200)"
   ]
  },
  {
   "cell_type": "code",
   "execution_count": 89,
   "metadata": {},
   "outputs": [
    {
     "data": {
      "text/plain": [
       "[100]"
      ]
     },
     "execution_count": 89,
     "metadata": {},
     "output_type": "execute_result"
    }
   ],
   "source": [
    "c5.funding_list"
   ]
  },
  {
   "cell_type": "code",
   "execution_count": 90,
   "metadata": {},
   "outputs": [
    {
     "data": {
      "text/plain": [
       "[200]"
      ]
     },
     "execution_count": 90,
     "metadata": {},
     "output_type": "execute_result"
    }
   ],
   "source": [
    "c6.funding_list"
   ]
  },
  {
   "cell_type": "code",
   "execution_count": 93,
   "metadata": {},
   "outputs": [],
   "source": [
    "##### same issue with funding list -- seems to be common to both c5 & c6"
   ]
  },
  {
   "cell_type": "markdown",
   "metadata": {},
   "source": [
    "<font color = red> at this point, employee_count is OK. employee_list and funding_list are WRONG"
   ]
  },
  {
   "cell_type": "code",
   "execution_count": null,
   "metadata": {},
   "outputs": [],
   "source": []
  },
  {
   "cell_type": "code",
   "execution_count": null,
   "metadata": {},
   "outputs": [],
   "source": []
  },
  {
   "cell_type": "code",
   "execution_count": 92,
   "metadata": {},
   "outputs": [
    {
     "name": "stdout",
     "output_type": "stream",
     "text": [
      " this is the initial employee Gunnar\n"
     ]
    },
    {
     "ename": "TypeError",
     "evalue": "add_employee_name() missing 1 required positional argument: 'employee_name'",
     "output_type": "error",
     "traceback": [
      "\u001b[0;31m---------------------------------------------------------------------------\u001b[0m",
      "\u001b[0;31mTypeError\u001b[0m                                 Traceback (most recent call last)",
      "Input \u001b[0;32mIn [92]\u001b[0m, in \u001b[0;36m<cell line: 3>\u001b[0;34m()\u001b[0m\n\u001b[1;32m      1\u001b[0m \u001b[38;5;66;03m# try out your class with this code\u001b[39;00m\n\u001b[1;32m      2\u001b[0m c1 \u001b[38;5;241m=\u001b[39m Company(\u001b[38;5;124m\"\u001b[39m\u001b[38;5;124mGunnar\u001b[39m\u001b[38;5;124m\"\u001b[39m)\n\u001b[0;32m----> 3\u001b[0m \u001b[43mc1\u001b[49m\u001b[38;5;241;43m.\u001b[39;49m\u001b[43madd_employee_name\u001b[49m\u001b[43m(\u001b[49m\u001b[43m)\u001b[49m \u001b[38;5;66;03m# this should give an error message!\u001b[39;00m\n\u001b[1;32m      5\u001b[0m c2 \u001b[38;5;241m=\u001b[39m Company(\u001b[38;5;124m\"\u001b[39m\u001b[38;5;124mChris\u001b[39m\u001b[38;5;124m\"\u001b[39m)\n\u001b[1;32m      6\u001b[0m c2\u001b[38;5;241m.\u001b[39madd_funding(\u001b[38;5;241m10000000\u001b[39m)\n",
      "\u001b[0;31mTypeError\u001b[0m: add_employee_name() missing 1 required positional argument: 'employee_name'"
     ]
    }
   ],
   "source": [
    "# try out your class with this code\n",
    "c1 = Company(\"Gunnar\")\n",
    "c1.add_employee_name() # this should give an error message!\n",
    "\n",
    "c2 = Company(\"Chris\")\n",
    "c2.add_funding(10000000)\n",
    "c2.add_funding(50000)"
   ]
  },
  {
   "cell_type": "markdown",
   "metadata": {},
   "source": [
    "### Now the funding should correctly stay with the company that it was assigned!"
   ]
  },
  {
   "cell_type": "code",
   "execution_count": 93,
   "metadata": {},
   "outputs": [
    {
     "ename": "NameError",
     "evalue": "name 'c2' is not defined",
     "output_type": "error",
     "traceback": [
      "\u001b[0;31m---------------------------------------------------------------------------\u001b[0m",
      "\u001b[0;31mNameError\u001b[0m                                 Traceback (most recent call last)",
      "Input \u001b[0;32mIn [93]\u001b[0m, in \u001b[0;36m<cell line: 1>\u001b[0;34m()\u001b[0m\n\u001b[0;32m----> 1\u001b[0m \u001b[38;5;28mprint\u001b[39m(\u001b[38;5;28msum\u001b[39m(\u001b[43mc2\u001b[49m\u001b[38;5;241m.\u001b[39mfunding_list) \u001b[38;5;241m==\u001b[39m \u001b[38;5;28msum\u001b[39m(c1\u001b[38;5;241m.\u001b[39mfunding_list))\n\u001b[1;32m      2\u001b[0m \u001b[38;5;28mprint\u001b[39m(c1\u001b[38;5;241m.\u001b[39mfunding_list)\n\u001b[1;32m      3\u001b[0m \u001b[38;5;28mprint\u001b[39m(c2\u001b[38;5;241m.\u001b[39mfunding_list)\n",
      "\u001b[0;31mNameError\u001b[0m: name 'c2' is not defined"
     ]
    }
   ],
   "source": [
    "print(sum(c2.funding_list) == sum(c1.funding_list))\n",
    "print(c1.funding_list)\n",
    "print(c2.funding_list)"
   ]
  },
  {
   "cell_type": "code",
   "execution_count": null,
   "metadata": {},
   "outputs": [],
   "source": []
  }
 ],
 "metadata": {
  "kernelspec": {
   "display_name": "Python 3 (ipykernel)",
   "language": "python",
   "name": "python3"
  },
  "language_info": {
   "codemirror_mode": {
    "name": "ipython",
    "version": 3
   },
   "file_extension": ".py",
   "mimetype": "text/x-python",
   "name": "python",
   "nbconvert_exporter": "python",
   "pygments_lexer": "ipython3",
   "version": "3.9.12"
  }
 },
 "nbformat": 4,
 "nbformat_minor": 4
}
