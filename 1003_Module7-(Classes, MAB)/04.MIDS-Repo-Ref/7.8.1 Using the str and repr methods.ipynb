{
 "cells": [
  {
   "cell_type": "markdown",
   "metadata": {},
   "source": [
    "#### __str__ and __repr__ methods\n",
    "\n",
    "Python has a few so called 'magic-methods' that do special things if included in a class. The two I want to talk about in this lesson are the `__str__` and `__repr__` methods. Python's default behavior is to show the object and where its stored.\n",
    "\n",
    "So if I make a very simple class like below:"
   ]
  },
  {
   "cell_type": "code",
   "execution_count": 1,
   "metadata": {},
   "outputs": [],
   "source": [
    "class Animal():\n",
    "    \n",
    "    def __init__(self, name):\n",
    "        self.name = name"
   ]
  },
  {
   "cell_type": "code",
   "execution_count": 2,
   "metadata": {},
   "outputs": [],
   "source": [
    "animal1 = Animal('Lion')"
   ]
  },
  {
   "cell_type": "code",
   "execution_count": 3,
   "metadata": {},
   "outputs": [
    {
     "data": {
      "text/plain": [
       "<__main__.Animal at 0x27af55d9910>"
      ]
     },
     "execution_count": 3,
     "metadata": {},
     "output_type": "execute_result"
    }
   ],
   "source": [
    "animal1"
   ]
  },
  {
   "cell_type": "code",
   "execution_count": 4,
   "metadata": {},
   "outputs": [
    {
     "name": "stdout",
     "output_type": "stream",
     "text": [
      "<__main__.Animal object at 0x0000027AF55D9910>\n"
     ]
    }
   ],
   "source": [
    "print(animal1)"
   ]
  },
  {
   "cell_type": "markdown",
   "metadata": {},
   "source": [
    "That information while useful isnt really readible. The `__str__` and `__repr__` magic-methods allow your class to look better than this default. So I'm going to add-in a `__repr__` magic method to the class. The method needs to return a string that will be shown in place of the default object info."
   ]
  },
  {
   "cell_type": "code",
   "execution_count": 5,
   "metadata": {},
   "outputs": [],
   "source": [
    "class Animal():\n",
    "    \n",
    "    def __init__(self, name):\n",
    "        self.name = name\n",
    "        \n",
    "    def __repr__(self):\n",
    "        return f'I am a {self.name}.'"
   ]
  },
  {
   "cell_type": "code",
   "execution_count": 6,
   "metadata": {},
   "outputs": [
    {
     "data": {
      "text/plain": [
       "I am a Bear."
      ]
     },
     "execution_count": 6,
     "metadata": {},
     "output_type": "execute_result"
    }
   ],
   "source": [
    "animal2 = Animal('Bear')\n",
    "animal2"
   ]
  },
  {
   "cell_type": "code",
   "execution_count": 7,
   "metadata": {},
   "outputs": [
    {
     "name": "stdout",
     "output_type": "stream",
     "text": [
      "I am a Bear.\n"
     ]
    }
   ],
   "source": [
    "print(animal2)"
   ]
  },
  {
   "cell_type": "markdown",
   "metadata": {},
   "source": [
    "#### The difference between repr and str\n",
    "\n",
    "As shown above the `__repr__` method worked for both the reprenstation and the printing of that object. What does the `__str__` method do?\n",
    "I'm going to re-write the class and instead of the `__repr__` I'll change it to `__str__`"
   ]
  },
  {
   "cell_type": "code",
   "execution_count": 8,
   "metadata": {},
   "outputs": [],
   "source": [
    "class Animal():\n",
    "    \n",
    "    def __init__(self, name):\n",
    "        self.name = name\n",
    "        \n",
    "    def __str__(self):\n",
    "        return f'I am a {self.name}.'"
   ]
  },
  {
   "cell_type": "code",
   "execution_count": 9,
   "metadata": {},
   "outputs": [
    {
     "data": {
      "text/plain": [
       "<__main__.Animal at 0x27af55edd30>"
      ]
     },
     "execution_count": 9,
     "metadata": {},
     "output_type": "execute_result"
    }
   ],
   "source": [
    "animal3 = Animal('Tiger')\n",
    "animal3"
   ]
  },
  {
   "cell_type": "code",
   "execution_count": 10,
   "metadata": {},
   "outputs": [
    {
     "name": "stdout",
     "output_type": "stream",
     "text": [
      "I am a Tiger.\n"
     ]
    }
   ],
   "source": [
    "print(animal3)"
   ]
  },
  {
   "cell_type": "markdown",
   "metadata": {},
   "source": [
    "Interestingly the `__str__` method shows the same output with the print but not when showing the object when looking at itself. Because that is the case in Python, for each class it is important to make a `__repr__` method but optional to make `__str__` method. I can also do something like this - link the two methods so they do the same thing. I'm adding an extra print statement in the `__str__` method so I can see when its called."
   ]
  },
  {
   "cell_type": "code",
   "execution_count": 11,
   "metadata": {},
   "outputs": [],
   "source": [
    "class Animal():\n",
    "    \n",
    "    def __init__(self, name):\n",
    "        self.name = name\n",
    "        \n",
    "    def __repr__(self):\n",
    "        return f'I am a {self.name}.'\n",
    "    \n",
    "    def __str__(self):\n",
    "        print('Calling repr')\n",
    "        return self.__repr__()"
   ]
  },
  {
   "cell_type": "code",
   "execution_count": 12,
   "metadata": {},
   "outputs": [
    {
     "data": {
      "text/plain": [
       "I am a Zebra."
      ]
     },
     "execution_count": 12,
     "metadata": {},
     "output_type": "execute_result"
    }
   ],
   "source": [
    "animal4 = Animal('Zebra')\n",
    "animal4"
   ]
  },
  {
   "cell_type": "code",
   "execution_count": 13,
   "metadata": {},
   "outputs": [
    {
     "name": "stdout",
     "output_type": "stream",
     "text": [
      "Calling repr\n",
      "I am a Zebra.\n"
     ]
    }
   ],
   "source": [
    "print(animal4)"
   ]
  },
  {
   "cell_type": "markdown",
   "metadata": {},
   "source": [
    "So from the output it looks like the `__repr__` is called when i just output the object and the `__str__` is called when a print is used.\n",
    "\n",
    "The last thing I want to show is what it looks like if I have a class that contains the others and how the `__repr__` and `__str__` work. \n",
    "\n",
    "I'll make a class thats called zoo and then add my animals to it. "
   ]
  },
  {
   "cell_type": "code",
   "execution_count": 14,
   "metadata": {},
   "outputs": [],
   "source": [
    "class Zoo():\n",
    "    \n",
    "    def __init__(self):\n",
    "        self.animals = []\n",
    "    \n",
    "    def add_animal(self, animal):\n",
    "        self.animals.append(animal)"
   ]
  },
  {
   "cell_type": "code",
   "execution_count": 15,
   "metadata": {},
   "outputs": [],
   "source": [
    "zoo = Zoo()\n",
    "zoo.add_animal(animal1)\n",
    "zoo.add_animal(animal2)\n",
    "zoo.add_animal(animal3)\n",
    "zoo.add_animal(animal4)"
   ]
  },
  {
   "cell_type": "code",
   "execution_count": 16,
   "metadata": {},
   "outputs": [
    {
     "data": {
      "text/plain": [
       "<__main__.Zoo at 0x27af5637640>"
      ]
     },
     "execution_count": 16,
     "metadata": {},
     "output_type": "execute_result"
    }
   ],
   "source": [
    "zoo"
   ]
  },
  {
   "cell_type": "code",
   "execution_count": 17,
   "metadata": {},
   "outputs": [
    {
     "name": "stdout",
     "output_type": "stream",
     "text": [
      "<__main__.Zoo object at 0x0000027AF5637640>\n"
     ]
    }
   ],
   "source": [
    "print(zoo)"
   ]
  },
  {
   "cell_type": "markdown",
   "metadata": {},
   "source": [
    "So if I just look or try to print the zoo it still gives me the class object. What happens if we look at zoo.animals?"
   ]
  },
  {
   "cell_type": "code",
   "execution_count": 18,
   "metadata": {},
   "outputs": [
    {
     "data": {
      "text/plain": [
       "[<__main__.Animal at 0x27af55d9910>,\n",
       " I am a Bear.,\n",
       " <__main__.Animal at 0x27af55edd30>,\n",
       " I am a Zebra.]"
      ]
     },
     "execution_count": 18,
     "metadata": {},
     "output_type": "execute_result"
    }
   ],
   "source": [
    "zoo.animals"
   ]
  },
  {
   "cell_type": "markdown",
   "metadata": {},
   "source": [
    "Hmm not really what I was expecting but this is because I've made 4 different iterations of the animal class. What this does tell me is that the `__repr__` method is the one that makes the representation of an object inside another object (in this case the list of animals). The animal classes defined above that do not have a `__repr__` method definition so give the default object reference instead. I'm going to clean this up and run it again!"
   ]
  },
  {
   "cell_type": "code",
   "execution_count": null,
   "metadata": {},
   "outputs": [],
   "source": [
    "class Animal():\n",
    "    \n",
    "    def __init__(self, name):\n",
    "        self.name = name\n",
    "        \n",
    "    def __repr__(self):\n",
    "        return f'I am a {self.name}.'\n",
    "    \n",
    "    def __str__(self):\n",
    "        print('Calling repr')\n",
    "        return self.__repr__()\n",
    "\n",
    "class Zoo():\n",
    "    \n",
    "    def __init__(self):\n",
    "        self.animals = []\n",
    "    \n",
    "    def add_animal(self, animal):\n",
    "        self.animals.append(animal)"
   ]
  },
  {
   "cell_type": "code",
   "execution_count": 19,
   "metadata": {},
   "outputs": [],
   "source": [
    "zoo = Zoo()\n",
    "\n",
    "animal1 = Animal('Lion')\n",
    "animal2 = Animal('Bear')\n",
    "animal3 = Animal('Tiger')\n",
    "animal4 = Animal('Zebra')\n",
    "\n",
    "zoo.add_animal(animal1)\n",
    "zoo.add_animal(animal2)\n",
    "zoo.add_animal(animal3)\n",
    "zoo.add_animal(animal4)"
   ]
  },
  {
   "cell_type": "code",
   "execution_count": 20,
   "metadata": {},
   "outputs": [
    {
     "data": {
      "text/plain": [
       "[I am a Lion., I am a Bear., I am a Tiger., I am a Zebra.]"
      ]
     },
     "execution_count": 20,
     "metadata": {},
     "output_type": "execute_result"
    }
   ],
   "source": [
    "zoo.animals"
   ]
  },
  {
   "cell_type": "code",
   "execution_count": 21,
   "metadata": {},
   "outputs": [
    {
     "name": "stdout",
     "output_type": "stream",
     "text": [
      "[I am a Lion., I am a Bear., I am a Tiger., I am a Zebra.]\n"
     ]
    }
   ],
   "source": [
    "print(zoo.animals)"
   ]
  },
  {
   "cell_type": "markdown",
   "metadata": {},
   "source": [
    "Now both the outputs show the correct list of animals in the zoo. You'll notice that both ways did not call `__str__` instead just used the `__repr__` method. "
   ]
  },
  {
   "cell_type": "markdown",
   "metadata": {},
   "source": [
    "#### Takeaway\n",
    "\n",
    "Every class should have a `__repr__` method to be able to output a reprenstation in a user-readible format. The `__str__` method is optional for when the print statement output is different then the `__repr__` method."
   ]
  }
 ],
 "metadata": {
  "kernelspec": {
   "display_name": "Python 3",
   "language": "python",
   "name": "python3"
  },
  "language_info": {
   "codemirror_mode": {
    "name": "ipython",
    "version": 3
   },
   "file_extension": ".py",
   "mimetype": "text/x-python",
   "name": "python",
   "nbconvert_exporter": "python",
   "pygments_lexer": "ipython3",
   "version": "3.8.5"
  }
 },
 "nbformat": 4,
 "nbformat_minor": 4
}
