{
 "cells": [
  {
   "cell_type": "markdown",
   "metadata": {},
   "source": [
    "## Building the Bandit Class\n",
    "\n",
    "We start with a basic bandit class.\n",
    "\n",
    "As far as attributes, we already know that we need a probability of reward - that's the main attribute that controls the behavior.\n",
    "this is a nice place to use a private attribute, to emphasize that it shouldn't be viewed from the outside.\n",
    "And we want to be able to pull the lever on this machine - at least a representaton of pulling the lever, so we need a method.  we can call it pull."
   ]
  },
  {
   "cell_type": "code",
   "execution_count": 86,
   "metadata": {},
   "outputs": [],
   "source": [
    "import numpy as np\n",
    "import matplotlib.pyplot as plt\n",
    "\n",
    "class Bandit:\n",
    "    \"\"\"A representation of a slot machine with a secret \n",
    "    probability of returning a reward.\"\"\"\n",
    "    def __init__(self):\n",
    "        self.__probability = np.random.uniform()\n",
    "        \n",
    "    def __repr__(self):\n",
    "        return \"Bandit with secret probability \" + str(self.__probability)\n",
    "        \n",
    "    def pull(self):\n",
    "        \"\"\" Represents pulling the lever of this machine.  Returns True if reward\n",
    "        is given, False otherwise.\"\"\"\n",
    "        return np.random.choice([True, False], \n",
    "                                p = [self.__probability, 1- self.__probability])"
   ]
  },
  {
   "cell_type": "code",
   "execution_count": 24,
   "metadata": {},
   "outputs": [
    {
     "data": {
      "text/plain": [
       "Bandit with secret probability 0.059596906970314056"
      ]
     },
     "execution_count": 24,
     "metadata": {},
     "output_type": "execute_result"
    }
   ],
   "source": [
    "b = Bandit()\n",
    "b"
   ]
  },
  {
   "cell_type": "code",
   "execution_count": 28,
   "metadata": {},
   "outputs": [
    {
     "data": {
      "text/plain": [
       "[False, False, False, False, False, True, False, False, False, False]"
      ]
     },
     "execution_count": 28,
     "metadata": {},
     "output_type": "execute_result"
    }
   ],
   "source": [
    "trials = [ b.pull() for i in range(100)]\n",
    "trials[:10]"
   ]
  },
  {
   "cell_type": "code",
   "execution_count": 29,
   "metadata": {},
   "outputs": [
    {
     "data": {
      "text/plain": [
       "6"
      ]
     },
     "execution_count": 29,
     "metadata": {},
     "output_type": "execute_result"
    }
   ],
   "source": [
    "sum(trials)"
   ]
  },
  {
   "cell_type": "markdown",
   "metadata": {},
   "source": [
    "## A Basic Solver"
   ]
  },
  {
   "cell_type": "code",
   "execution_count": 262,
   "metadata": {},
   "outputs": [],
   "source": [
    "class RandomSolver:\n",
    "    \n",
    "    def __init__(self, bandits):\n",
    "        self.bandits = bandits\n",
    "        \n",
    "    def move(self):\n",
    "        \"\"\"Pulls one of this solver's bandits and returns True if a reward results,\n",
    "        False, otherwise.\"\"\"\n",
    "        chosen = np.random.randint(0,len(self.bandits))\n",
    "        # print(\"Solver chooses bandit\", chosen)\n",
    "        return self.bandits[chosen].pull()"
   ]
  },
  {
   "cell_type": "code",
   "execution_count": 45,
   "metadata": {},
   "outputs": [],
   "source": [
    "bandits = [Bandit() for i in range(10)]"
   ]
  },
  {
   "cell_type": "code",
   "execution_count": 46,
   "metadata": {},
   "outputs": [
    {
     "data": {
      "text/plain": [
       "[Bandit with secret probability 0.5227912474492572,\n",
       " Bandit with secret probability 0.7356127498679114,\n",
       " Bandit with secret probability 0.1444839012421627,\n",
       " Bandit with secret probability 0.8497481014552938,\n",
       " Bandit with secret probability 0.5071387047248401,\n",
       " Bandit with secret probability 0.5708566750520796,\n",
       " Bandit with secret probability 0.1616172684777778,\n",
       " Bandit with secret probability 0.719139046828376,\n",
       " Bandit with secret probability 0.7332428001359813,\n",
       " Bandit with secret probability 0.8507592412350384]"
      ]
     },
     "execution_count": 46,
     "metadata": {},
     "output_type": "execute_result"
    }
   ],
   "source": [
    "bandits"
   ]
  },
  {
   "cell_type": "code",
   "execution_count": 47,
   "metadata": {},
   "outputs": [],
   "source": [
    "s = RandomSolver(bandits)"
   ]
  },
  {
   "cell_type": "code",
   "execution_count": 53,
   "metadata": {},
   "outputs": [
    {
     "name": "stdout",
     "output_type": "stream",
     "text": [
      "Solver chooses bandit 8\n"
     ]
    },
    {
     "data": {
      "text/plain": [
       "True"
      ]
     },
     "execution_count": 53,
     "metadata": {},
     "output_type": "execute_result"
    }
   ],
   "source": [
    "s.move()"
   ]
  },
  {
   "cell_type": "markdown",
   "metadata": {},
   "source": [
    "## Adding a Game Class\n",
    "\n",
    "We have a working Bandit class, and a working solver.  \n",
    "\n",
    "Remaining functionality:\n",
    "\n",
    "1. Keeping score. (and making graphs, etc)\n",
    "2. Enforcing the rules.  (At least, make them clear in code)\n",
    "\n",
    "Where can we put the code to do all this?\n",
    "\n",
    "1. Main script (but not resuable by us or other data scientists)\n",
    "2. Solver class (works, but breaks abstraction of Game and Player)  (also, I'm thinking of this as a contest, in which different people submit Solvers to play the game.  In that scenario, you can't just trust the Solver classes to be honest)\n",
    "3. Create a Game class to represent game rules\n"
   ]
  },
  {
   "cell_type": "code",
   "execution_count": 76,
   "metadata": {},
   "outputs": [],
   "source": [
    "class Game:\n",
    "    def __init__(self, num_moves):\n",
    "        self.num_moves = num_moves\n",
    "        self.score = 0\n",
    "        self.history = []\n",
    "        \n",
    "    def moves_remaining(self):\n",
    "        return self.num_moves > len(self.history)"
   ]
  },
  {
   "cell_type": "code",
   "execution_count": 197,
   "metadata": {},
   "outputs": [],
   "source": [
    "class Bandit:\n",
    "    \"\"\"A representation of a slot machine with a secret \n",
    "    probability of returning a reward.\"\"\"\n",
    "    def __init__(self, game):\n",
    "        self.__probability = np.random.uniform()\n",
    "        self.game = game\n",
    "\n",
    "    def __repr__(self):\n",
    "        return \"Bandit with secret probability \" + str(self.__probability)\n",
    "        \n",
    "    def pull(self):\n",
    "        \"\"\" Represents pulling the lever of this machine.  Returns True if reward\n",
    "        is given, False otherwise.\"\"\"\n",
    "        if not self.game.moves_remaining():\n",
    "            raise Exception(\"Bandit called with no moves left\")\n",
    "        result = np.random.choice([True, False], \n",
    "                                p = [self.__probability, 1- self.__probability])\n",
    "        self.game.history.append(result)\n",
    "        return result"
   ]
  },
  {
   "cell_type": "code",
   "execution_count": 94,
   "metadata": {},
   "outputs": [],
   "source": [
    "game = Game(2)\n",
    "bandits = [Bandit(game) for i in range(10)]\n",
    "s = RandomSolver(bandits)"
   ]
  },
  {
   "cell_type": "code",
   "execution_count": 79,
   "metadata": {},
   "outputs": [
    {
     "data": {
      "text/plain": [
       "[]"
      ]
     },
     "execution_count": 79,
     "metadata": {},
     "output_type": "execute_result"
    }
   ],
   "source": [
    "game.history"
   ]
  },
  {
   "cell_type": "code",
   "execution_count": 80,
   "metadata": {},
   "outputs": [
    {
     "name": "stdout",
     "output_type": "stream",
     "text": [
      "Solver chooses bandit 9\n"
     ]
    },
    {
     "data": {
      "text/plain": [
       "True"
      ]
     },
     "execution_count": 80,
     "metadata": {},
     "output_type": "execute_result"
    }
   ],
   "source": [
    "s.move()"
   ]
  },
  {
   "cell_type": "code",
   "execution_count": 83,
   "metadata": {},
   "outputs": [
    {
     "name": "stdout",
     "output_type": "stream",
     "text": [
      "Solver chooses bandit 4\n"
     ]
    },
    {
     "data": {
      "text/plain": [
       "True"
      ]
     },
     "execution_count": 83,
     "metadata": {},
     "output_type": "execute_result"
    }
   ],
   "source": [
    "s.move()"
   ]
  },
  {
   "cell_type": "code",
   "execution_count": 84,
   "metadata": {},
   "outputs": [
    {
     "data": {
      "text/plain": [
       "[True, True]"
      ]
     },
     "execution_count": 84,
     "metadata": {},
     "output_type": "execute_result"
    }
   ],
   "source": [
    "game.history"
   ]
  },
  {
   "cell_type": "code",
   "execution_count": 85,
   "metadata": {},
   "outputs": [
    {
     "name": "stdout",
     "output_type": "stream",
     "text": [
      "Solver chooses bandit 9\n"
     ]
    },
    {
     "ename": "Exception",
     "evalue": "Bandit called with no moves left",
     "output_type": "error",
     "traceback": [
      "\u001b[0;31m---------------------------------------------------------------------------\u001b[0m",
      "\u001b[0;31mException\u001b[0m                                 Traceback (most recent call last)",
      "\u001b[0;32m<ipython-input-85-1bef03edb325>\u001b[0m in \u001b[0;36m<module>\u001b[0;34m\u001b[0m\n\u001b[0;32m----> 1\u001b[0;31m \u001b[0ms\u001b[0m\u001b[0;34m.\u001b[0m\u001b[0mmove\u001b[0m\u001b[0;34m(\u001b[0m\u001b[0;34m)\u001b[0m\u001b[0;34m\u001b[0m\u001b[0;34m\u001b[0m\u001b[0m\n\u001b[0m",
      "\u001b[0;32m<ipython-input-44-bc21bef2ab56>\u001b[0m in \u001b[0;36mmove\u001b[0;34m(self)\u001b[0m\n\u001b[1;32m      9\u001b[0m         \u001b[0mchosen\u001b[0m \u001b[0;34m=\u001b[0m \u001b[0mnp\u001b[0m\u001b[0;34m.\u001b[0m\u001b[0mrandom\u001b[0m\u001b[0;34m.\u001b[0m\u001b[0mrandint\u001b[0m\u001b[0;34m(\u001b[0m\u001b[0;36m0\u001b[0m\u001b[0;34m,\u001b[0m\u001b[0mlen\u001b[0m\u001b[0;34m(\u001b[0m\u001b[0mself\u001b[0m\u001b[0;34m.\u001b[0m\u001b[0mbandits\u001b[0m\u001b[0;34m)\u001b[0m\u001b[0;34m)\u001b[0m\u001b[0;34m\u001b[0m\u001b[0;34m\u001b[0m\u001b[0m\n\u001b[1;32m     10\u001b[0m         \u001b[0mprint\u001b[0m\u001b[0;34m(\u001b[0m\u001b[0;34m\"Solver chooses bandit\"\u001b[0m\u001b[0;34m,\u001b[0m \u001b[0mchosen\u001b[0m\u001b[0;34m)\u001b[0m\u001b[0;34m\u001b[0m\u001b[0;34m\u001b[0m\u001b[0m\n\u001b[0;32m---> 11\u001b[0;31m         \u001b[0;32mreturn\u001b[0m \u001b[0mself\u001b[0m\u001b[0;34m.\u001b[0m\u001b[0mbandits\u001b[0m\u001b[0;34m[\u001b[0m\u001b[0mchosen\u001b[0m\u001b[0;34m]\u001b[0m\u001b[0;34m.\u001b[0m\u001b[0mpull\u001b[0m\u001b[0;34m(\u001b[0m\u001b[0;34m)\u001b[0m\u001b[0;34m\u001b[0m\u001b[0;34m\u001b[0m\u001b[0m\n\u001b[0m",
      "\u001b[0;32m<ipython-input-77-8a6cb76418b9>\u001b[0m in \u001b[0;36mpull\u001b[0;34m(self)\u001b[0m\n\u001b[1;32m     13\u001b[0m         is given, False otherwise.\"\"\"\n\u001b[1;32m     14\u001b[0m         \u001b[0;32mif\u001b[0m \u001b[0;32mnot\u001b[0m \u001b[0mself\u001b[0m\u001b[0;34m.\u001b[0m\u001b[0mgame\u001b[0m\u001b[0;34m.\u001b[0m\u001b[0mmoves_remaining\u001b[0m\u001b[0;34m(\u001b[0m\u001b[0;34m)\u001b[0m\u001b[0;34m:\u001b[0m\u001b[0;34m\u001b[0m\u001b[0;34m\u001b[0m\u001b[0m\n\u001b[0;32m---> 15\u001b[0;31m             \u001b[0;32mraise\u001b[0m \u001b[0mException\u001b[0m\u001b[0;34m(\u001b[0m\u001b[0;34m\"Bandit called with no moves left\"\u001b[0m\u001b[0;34m)\u001b[0m\u001b[0;34m\u001b[0m\u001b[0;34m\u001b[0m\u001b[0m\n\u001b[0m\u001b[1;32m     16\u001b[0m         result = np.random.choice([True, False], \n\u001b[1;32m     17\u001b[0m                                 p = [self.__probability, 1- self.__probability])\n",
      "\u001b[0;31mException\u001b[0m: Bandit called with no moves left"
     ]
    }
   ],
   "source": [
    "s.move()"
   ]
  },
  {
   "cell_type": "markdown",
   "metadata": {},
   "source": [
    "#### Making Graphs"
   ]
  },
  {
   "cell_type": "code",
   "execution_count": 229,
   "metadata": {},
   "outputs": [],
   "source": [
    "class Game:\n",
    "    def __init__(self, num_moves):\n",
    "        self.num_moves = num_moves\n",
    "        self.score = 0\n",
    "        self.history = []\n",
    "        self.best_probability = 0\n",
    "        \n",
    "    def moves_remaining(self):\n",
    "        return self.num_moves > len(self.history)\n",
    "    \n",
    "    def plot_history(self):\n",
    "        plt.plot(np.cumsum(self.history))\n",
    "        plt.title(\"Reward History\")\n",
    "        plt.xlabel(\"move number\")\n",
    "        plt.ylabel(\"total reward\")\n",
    "        plt.plot([0, len(self.history)], [0, len(self.history) * self.best_probability], color='r', linestyle='--', linewidth=1)"
   ]
  },
  {
   "cell_type": "code",
   "execution_count": 230,
   "metadata": {},
   "outputs": [],
   "source": [
    "class Bandit:\n",
    "    \"\"\"A representation of a slot machine with a secret \n",
    "    probability of returning a reward.\"\"\"\n",
    "    def __init__(self, game):\n",
    "        self.__probability = np.random.uniform()\n",
    "        self.game = game\n",
    "        if self.__probability > game.best_probability:\n",
    "            game.best_probability = self.__probability\n",
    "        \n",
    "    def __repr__(self):\n",
    "        return \"Bandit with secret probability \" + str(self.__probability)\n",
    "        \n",
    "    def pull(self):\n",
    "        \"\"\" Represents pulling the lever of this machine.  Returns True if reward\n",
    "        is given, False otherwise.\"\"\"\n",
    "        if not self.game.moves_remaining():\n",
    "            raise Exception(\"Bandit called with no moves left\")\n",
    "        result = np.random.choice([True, False], \n",
    "                                p = [self.__probability, 1- self.__probability])\n",
    "        self.game.history.append(result)\n",
    "        return result"
   ]
  },
  {
   "cell_type": "code",
   "execution_count": 261,
   "metadata": {},
   "outputs": [
    {
     "data": {
      "image/png": "[encoded data removed]",
      "text/plain": [
       "<Figure size 432x288 with 1 Axes>"
      ]
     },
     "metadata": {
      "needs_background": "light"
     },
     "output_type": "display_data"
    }
   ],
   "source": [
    "game = Game(300)\n",
    "bandits = [Bandit(game) for i in range(10)]\n",
    "solver = RandomSolver(bandits)\n",
    "for i in range(game.num_moves):\n",
    "    solver.move()\n",
    "game.plot_history()"
   ]
  },
  {
   "cell_type": "markdown",
   "metadata": {},
   "source": [
    "## A Better Solver"
   ]
  },
  {
   "cell_type": "code",
   "execution_count": 234,
   "metadata": {},
   "outputs": [],
   "source": [
    "class EpsilonGreedySolver:\n",
    "    def __init__(self, bandits, epsilon = .1):\n",
    "        self.bandits = bandits\n",
    "        self.epsilon = epsilon\n",
    "        self.trials_per_bandit  = [0 for i in range(len(bandits))]\n",
    "        self.rewards_per_bandit = [0 for i in range(len(bandits))]\n",
    "        self.score_per_bandit = [0 for i in range(len(bandits))]\n",
    "        \n",
    "    def move(self):\n",
    "        \"\"\"Pulls one of this solver's bandits and returns True if a reward results,\n",
    "        False, otherwise.\"\"\"\n",
    "        if np.random.uniform() < self.epsilon:\n",
    "            # choose a bandit at random\n",
    "            chosen = np.random.randint(0,len(self.bandits))\n",
    "        else:\n",
    "            # choose one of the bandits with highest payoff at random\n",
    "            max_score = 0 #keep track of best score as we look through bandits\n",
    "            best = [] # store the indices of the best scoring bandits\n",
    "            \n",
    "            for i in range(len(bandits)):\n",
    "                if self.score_per_bandit[i] == max_score:\n",
    "                    best.append(i)\n",
    "                if self.score_per_bandit[i] > max_score:\n",
    "                    best = [i]\n",
    "                    max_score = self.score_per_bandit[i]\n",
    "            chosen = np.random.choice(best)\n",
    "                    \n",
    "        result = self.bandits[chosen].pull()\n",
    "        self.trials_per_bandit[chosen] += 1\n",
    "        self.rewards_per_bandit[chosen] += result\n",
    "        self.score_per_bandit[chosen] = self.rewards_per_bandit[chosen] / \\\n",
    "                                        self.trials_per_bandit[chosen]\n",
    "        return result"
   ]
  },
  {
   "cell_type": "code",
   "execution_count": 256,
   "metadata": {},
   "outputs": [
    {
     "data": {
      "image/png": "[encoded data removed]",
      "text/plain": [
       "<Figure size 432x288 with 1 Axes>"
      ]
     },
     "metadata": {
      "needs_background": "light"
     },
     "output_type": "display_data"
    }
   ],
   "source": [
    "game = Game(300)\n",
    "bandits = [Bandit(game) for i in range(10)]\n",
    "solver = EpsilonGreedySolver(bandits)\n",
    "for i in range(game.num_moves):\n",
    "    solver.move()\n",
    "game.plot_history()"
   ]
  },
  {
   "cell_type": "code",
   "execution_count": 252,
   "metadata": {},
   "outputs": [
    {
     "data": {
      "image/png": "[encoded data removed]",
      "text/plain": [
       "<Figure size 432x288 with 1 Axes>"
      ]
     },
     "metadata": {
      "needs_background": "light"
     },
     "output_type": "display_data"
    }
   ],
   "source": []
  },
  {
   "cell_type": "code",
   "execution_count": 206,
   "metadata": {},
   "outputs": [
    {
     "data": {
      "text/plain": [
       "[Bandit with secret probability 0.9634249639419814,\n",
       " Bandit with secret probability 0.2114462335016255,\n",
       " Bandit with secret probability 0.08151223944518082,\n",
       " Bandit with secret probability 0.6907632023150133,\n",
       " Bandit with secret probability 0.6708777315924971,\n",
       " Bandit with secret probability 0.630220909143986,\n",
       " Bandit with secret probability 0.5329442561351789,\n",
       " Bandit with secret probability 0.2919147163985354,\n",
       " Bandit with secret probability 0.6422624591679195,\n",
       " Bandit with secret probability 0.12402847909709791]"
      ]
     },
     "execution_count": 206,
     "metadata": {},
     "output_type": "execute_result"
    }
   ],
   "source": [
    "bandits"
   ]
  },
  {
   "cell_type": "code",
   "execution_count": 207,
   "metadata": {},
   "outputs": [
    {
     "data": {
      "text/plain": [
       "[0.9411764705882353,\n",
       " 0.0,\n",
       " 0.25,\n",
       " 0.7383177570093458,\n",
       " 0.5,\n",
       " 0.6666666666666666,\n",
       " 0.3333333333333333,\n",
       " 0.3333333333333333,\n",
       " 0.5,\n",
       " 0.0]"
      ]
     },
     "execution_count": 207,
     "metadata": {},
     "output_type": "execute_result"
    }
   ],
   "source": [
    "solver.score_per_bandit"
   ]
  }
 ],
 "metadata": {
  "kernelspec": {
   "display_name": "Python 3",
   "language": "python",
   "name": "python3"
  },
  "language_info": {
   "codemirror_mode": {
    "name": "ipython",
    "version": 3
   },
   "file_extension": ".py",
   "mimetype": "text/x-python",
   "name": "python",
   "nbconvert_exporter": "python",
   "pygments_lexer": "ipython3",
   "version": "3.8.11"
  }
 },
 "nbformat": 4,
 "nbformat_minor": 4
}
