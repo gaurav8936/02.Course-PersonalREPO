{
 "cells": [
  {
   "cell_type": "code",
   "execution_count": null,
   "id": "c858f179-3755-45db-9b69-d001bc33b41b",
   "metadata": {},
   "outputs": [],
   "source": [
    "#----------- Addition ---------------------\n",
    "\n",
    "import matplotlib.pyplot as plt\n",
    "\n",
    "#------------------------------------------\n",
    "\n",
    "class Game:\n",
    "    \n",
    "    \"\"\"\n",
    "    This is a class to represent the overall rules of the game\n",
    "    \"\"\"\n",
    "    \n",
    "    def __init__(self, num_moves):\n",
    "        \n",
    "        self.num_moves = num_moves # store as an instance attr\n",
    "        \n",
    "        self.score = 0\n",
    "        \n",
    "        self.history = []\n",
    "        \n",
    "    def moves_remaining(self):\n",
    "        \n",
    "        # this is a boolean method to return true or false\n",
    "        \n",
    "        return self.num_moves > len(self.history)\n",
    "    \n",
    "    # ----------- Addition -------------------------\n",
    "    \n",
    "    def plot_history(self):\n",
    "        \n",
    "        #plt.plot(self.history) -- this might be boring\n",
    "        \n",
    "        plt.plot(np.cumsum(self.history))\n",
    "        plt.title('Reward History')\n",
    "        plt.xlabel('move number')\n",
    "        plt.ylabel('total reward')"
   ]
  }
 ],
 "metadata": {
  "kernelspec": {
   "display_name": "Python 3 (ipykernel)",
   "language": "python",
   "name": "python3"
  },
  "language_info": {
   "codemirror_mode": {
    "name": "ipython",
    "version": 3
   },
   "file_extension": ".py",
   "mimetype": "text/x-python",
   "name": "python",
   "nbconvert_exporter": "python",
   "pygments_lexer": "ipython3",
   "version": "3.9.12"
  }
 },
 "nbformat": 4,
 "nbformat_minor": 5
}
