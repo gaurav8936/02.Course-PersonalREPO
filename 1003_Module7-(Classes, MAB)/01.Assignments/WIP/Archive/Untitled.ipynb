{
 "cells": [
  {
   "cell_type": "code",
   "execution_count": 5,
   "id": "95176524-8131-49de-9c6f-faf0f4d911f2",
   "metadata": {},
   "outputs": [
    {
     "name": "stdout",
     "output_type": "stream",
     "text": [
      "['h', 'e', '*']\n",
      "['h', 'e', '*']\n",
      "['e']\n",
      "['h', 'e', '*']\n",
      "['e']\n",
      "[]\n",
      "['h', 'e', '*']\n",
      "['e']\n",
      "['h', 'e', '*']\n",
      "['e']\n",
      "['h', 'e', '*']\n",
      "['h', 'e', '*']\n",
      "['h', 'e', '*']\n",
      "['h', 'e', '*']\n",
      "['h', 'e', '*']\n",
      "(6, 'aah')\n",
      "(2, 'aa')\n",
      "Total number of words: 2\n"
     ]
    }
   ],
   "source": [
    "import sys\n",
    "import string\n",
    "\n",
    "scores = {\"a\": 1, \"c\": 3, \"b\": 3, \"e\": 1, \"d\": 2, \"g\": 2,\n",
    "          \"f\": 4, \"i\": 1, \"h\": 4, \"k\": 5, \"j\": 8, \"m\": 3,\n",
    "          \"l\": 1, \"o\": 1, \"n\": 1, \"q\": 10, \"p\": 3, \"s\": 1,\n",
    "          \"r\": 1, \"u\": 1, \"t\": 1, \"w\": 4, \"v\": 4, \"y\": 4,\n",
    "          \"x\": 8, \"z\": 10}\n",
    "\n",
    "# # Get the Scrabble rack from the command line.\n",
    "# if len(sys.argv) < 2:\n",
    "#     print(\"no rack error.\")\n",
    "#     exit(1)\n",
    "\n",
    "# # rack = sys.argv[1]\n",
    "# # rack_low = rack.lower()\n",
    "rack_low = 'hea*'\n",
    "\n",
    "# Turn the words in the sowpods.txt file into a Python list.\n",
    "with open(\"sowpods.txt\",\"r\") as infile:\n",
    "    raw_input = infile.readlines()[0:10]\n",
    "    data = [datum.strip('\\n') for datum in raw_input]\n",
    "#    print(data)\n",
    "\n",
    "# Find all of the valid sowpods words that can be made\n",
    "# up of the letters in the rack.\n",
    "valid_words = []\n",
    "\n",
    "def can_make_word(word):\n",
    "    rack_letters = list(rack_low)\n",
    "    for letter in word_low:\n",
    "        if letter in rack_letters:\n",
    "            rack_letters.remove(letter)\n",
    "        elif '*' in rack_letters:\n",
    "            rack_letters.remove('*')\n",
    "        elif '?' in rack_letters:\n",
    "            rack_letters.remove('?')\n",
    "        else:\n",
    "            return False\n",
    "    return True\n",
    "\n",
    "for word in data:\n",
    "    word_low = word.lower()\n",
    "    if can_make_word(word_low):\n",
    "        # Get the Scrabble scores for each word.\n",
    "        total = 0\n",
    "        for letter in word_low:\n",
    "            total = total + scores[letter]\n",
    "        valid_words.append([total, word_low])\n",
    "\n",
    "valid_words.sort(reverse = True)\n",
    "\n",
    "for entry in valid_words:\n",
    "    score = entry[0]\n",
    "    word_low = entry[1]\n",
    "    print((score, word_low))\n",
    "\n",
    "print(\"Total number of words:\", len(valid_words))"
   ]
  },
  {
   "cell_type": "code",
   "execution_count": null,
   "id": "4812e46c-80a6-4033-8a65-2294f8215263",
   "metadata": {},
   "outputs": [],
   "source": []
  }
 ],
 "metadata": {
  "kernelspec": {
   "display_name": "Python 3 (ipykernel)",
   "language": "python",
   "name": "python3"
  },
  "language_info": {
   "codemirror_mode": {
    "name": "ipython",
    "version": 3
   },
   "file_extension": ".py",
   "mimetype": "text/x-python",
   "name": "python",
   "nbconvert_exporter": "python",
   "pygments_lexer": "ipython3",
   "version": "3.9.12"
  }
 },
 "nbformat": 4,
 "nbformat_minor": 5
}
