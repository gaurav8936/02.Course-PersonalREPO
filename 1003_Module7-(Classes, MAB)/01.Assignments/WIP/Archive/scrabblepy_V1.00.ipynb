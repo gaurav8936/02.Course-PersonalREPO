{
 "cells": [
  {
   "cell_type": "markdown",
   "id": "5a6ab29f-8f3f-440b-87a4-72a9a902219a",
   "metadata": {},
   "source": [
    "Name the python file: scrabble.py with the main function inside scrabble.py named run_scrabble"
   ]
  },
  {
   "cell_type": "markdown",
   "id": "0f9a8568-c9bc-4e14-b4fe-e747ff2c1556",
   "metadata": {},
   "source": [
    "Allow anywhere from 2-7 character tiles (letters A-Z, upper or lower case) to be inputted."
   ]
  },
  {
   "cell_type": "markdown",
   "id": "8840f542-0d38-4f55-9d65-86628913666f",
   "metadata": {},
   "source": [
    "Do not restrict the number of same tiles (e.g., a user is allowed to input ZZZZZQQ)."
   ]
  },
  {
   "cell_type": "markdown",
   "id": "59509fba-f062-463f-bc0e-21d2c399b75a",
   "metadata": {},
   "source": [
    "Return two items from the run_scrabble function:\n",
    "1. The total list of valid Scrabble words that can be constructed from the rack as (score, word) tuples, sorted by the score and then by the word alphabetically as shown in the first example below. All outputted words need to be in upper case.\n",
    "2. The Total number of valid words as an integer"
   ]
  },
  {
   "cell_type": "markdown",
   "id": "97617c50-3cd8-406a-a355-0121acb32f53",
   "metadata": {},
   "source": [
    "You need to handle input errors from the user and suggest what that error might be caused by and how to fix it (i.e., a helpful error message). Return this error message as a string from the run_scrabble function (do not raise an exception)."
   ]
  },
  {
   "cell_type": "markdown",
   "id": "a7827019-85ee-40a4-8aef-7e6c0d86c746",
   "metadata": {},
   "source": [
    "---"
   ]
  },
  {
   "cell_type": "code",
   "execution_count": 2,
   "id": "6b053d2f-bc6e-4de2-a2b4-ba8bec592639",
   "metadata": {},
   "outputs": [],
   "source": [
    "with open(\"sowpods.txt\",\"r\") as infile:\n",
    "    raw_input = infile.readlines()\n",
    "    data = [datum.strip('\\n') for datum in raw_input]"
   ]
  },
  {
   "cell_type": "code",
   "execution_count": 4,
   "id": "bf415f82-a595-4265-94f5-a9d2d22f3588",
   "metadata": {},
   "outputs": [
    {
     "name": "stdout",
     "output_type": "stream",
     "text": [
      "['AA', 'AAH', 'AAHED', 'AAHING', 'AAHS', 'AAL', 'AALII', 'AALIIS', 'AALS', 'AARDVARK', 'AARDVARKS', 'AARDWOLF', 'AARDWOLVES', 'AARGH', 'AARRGH', 'AARRGHH', 'AARTI', 'AARTIS', 'AAS', 'AASVOGEL']\n"
     ]
    }
   ],
   "source": [
    "print(data[0:20])"
   ]
  },
  {
   "cell_type": "markdown",
   "id": "c8d5da26-01ae-4882-ba64-437b1629891c",
   "metadata": {},
   "source": [
    "---"
   ]
  },
  {
   "cell_type": "code",
   "execution_count": null,
   "id": "340c0a33-03e2-4586-bfe8-082ad5975154",
   "metadata": {},
   "outputs": [],
   "source": [
    "from wordscore import score_word"
   ]
  },
  {
   "cell_type": "markdown",
   "id": "3401a0a9-c7ff-4e76-800e-010316e396d2",
   "metadata": {},
   "source": [
    "---"
   ]
  },
  {
   "cell_type": "markdown",
   "id": "ef9f2227-5bf2-49af-b8ad-95263a584c08",
   "metadata": {},
   "source": [
    "Terminology"
   ]
  },
  {
   "cell_type": "markdown",
   "id": "5e195d2f-258e-4727-9c40-c55b5827eec5",
   "metadata": {},
   "source": [
    "dictionary file = 'sowpods.txt'\n",
    "dictionary list = words_dict_list\n",
    "\n",
    "user input = input_letters\n",
    "user input list = input_list\n",
    "\n",
    "matched dictionary = word_combo_list\n",
    "marched dictionary with score = word_combo_score_list\n",
    "\n",
    "\n"
   ]
  },
  {
   "cell_type": "code",
   "execution_count": null,
   "id": "8dc2b84a-5cd3-4634-85e6-87b085802f45",
   "metadata": {},
   "outputs": [],
   "source": []
  },
  {
   "cell_type": "code",
   "execution_count": null,
   "id": "0892a954-01a7-4901-a7f3-f549b86cfb93",
   "metadata": {},
   "outputs": [],
   "source": []
  },
  {
   "cell_type": "markdown",
   "id": "9d152119-bc76-44e9-8297-310702cff824",
   "metadata": {},
   "source": [
    "0. Construct a new list of words from the dictionary\n",
    "    -- words_dict_list\n",
    "    -- sanitize the data from the input file (remove new line, special characters)\n",
    "1. calculate the length of the input (ie between 2-7 words)  -- say input_char\n",
    "    -- say user selects 5 letters\n",
    "    -- call this list, input_list (ie created from input_letters)\n",
    "2. narrow dictionary to words at or below the input length (exclude others)\n",
    "    -- exclude all words greater than 5 letters\n",
    "3. extract list of unique letters and count (tbd if needed)\n",
    "4. all letters from the word should be in input_char \n",
    "5. create list word_combo_list and add words to the list\n",
    "6. call the scoring function and iterate through each word in word_combo_list\n",
    "    --- multiply each letter with 'scores' and calculate sum\n",
    "7. create new list word_combo_score_list and append work (from word_combo_list) & calculated sum\n",
    "8. sort word_combo_score_list in descending order of score (and ascending order of alphabet"
   ]
  },
  {
   "cell_type": "code",
   "execution_count": null,
   "id": "c5345953-e444-49d5-94a8-2d34354d2f77",
   "metadata": {},
   "outputs": [],
   "source": []
  },
  {
   "cell_type": "code",
   "execution_count": null,
   "id": "19c37255-251e-4b83-8303-c950c4f6ead6",
   "metadata": {},
   "outputs": [],
   "source": []
  },
  {
   "cell_type": "code",
   "execution_count": null,
   "id": "64413da2-d1c2-45c1-beb9-c6f50de257bd",
   "metadata": {},
   "outputs": [],
   "source": []
  },
  {
   "cell_type": "code",
   "execution_count": null,
   "id": "e143abfb-d553-42ec-8f7f-ce638a0ec80b",
   "metadata": {},
   "outputs": [],
   "source": []
  },
  {
   "cell_type": "code",
   "execution_count": null,
   "id": "a6a9a5b9-8a53-4fac-986e-88b31f1519de",
   "metadata": {},
   "outputs": [],
   "source": []
  }
 ],
 "metadata": {
  "kernelspec": {
   "display_name": "Python 3 (ipykernel)",
   "language": "python",
   "name": "python3"
  },
  "language_info": {
   "codemirror_mode": {
    "name": "ipython",
    "version": 3
   },
   "file_extension": ".py",
   "mimetype": "text/x-python",
   "name": "python",
   "nbconvert_exporter": "python",
   "pygments_lexer": "ipython3",
   "version": "3.9.12"
  }
 },
 "nbformat": 4,
 "nbformat_minor": 5
}
