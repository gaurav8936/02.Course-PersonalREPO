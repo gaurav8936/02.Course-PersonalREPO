{
 "cells": [
  {
   "cell_type": "code",
   "execution_count": 5,
   "id": "c9a29abb-ed7b-449a-8a94-8ecd8c57f77c",
   "metadata": {},
   "outputs": [
    {
     "name": "stdout",
     "output_type": "stream",
     "text": [
      "['c', 'k', 'l', 'e', 'e']\n"
     ]
    }
   ],
   "source": [
    "# s1=\"ckglter\" \n",
    "s1=[\"c\", \"k\", \"g\", \"l\", \"t\", \"e\",\"r\", \"e\"] \n",
    "#s2=\"ancjkle\" \n",
    "s2=[\"a\",\"n\",\"c\",\"j\",\"k\",\"l\",\"e\", \"e\"] \n",
    "final_list=[] \n",
    "if(len(s1)<len(s2)): \n",
    "    for i in s1: \n",
    "            if(i in s2): \n",
    "                final_list.append(i) \n",
    "else: \n",
    "    for i in s2: \n",
    "            if(i in s1): \n",
    "                final_list.append(i) \n",
    "print(final_list)"
   ]
  },
  {
   "cell_type": "code",
   "execution_count": null,
   "id": "db02fee8-5473-43d0-a621-0146133b4054",
   "metadata": {},
   "outputs": [],
   "source": []
  }
 ],
 "metadata": {
  "kernelspec": {
   "display_name": "Python 3 (ipykernel)",
   "language": "python",
   "name": "python3"
  },
  "language_info": {
   "codemirror_mode": {
    "name": "ipython",
    "version": 3
   },
   "file_extension": ".py",
   "mimetype": "text/x-python",
   "name": "python",
   "nbconvert_exporter": "python",
   "pygments_lexer": "ipython3",
   "version": "3.9.12"
  }
 },
 "nbformat": 4,
 "nbformat_minor": 5
}
