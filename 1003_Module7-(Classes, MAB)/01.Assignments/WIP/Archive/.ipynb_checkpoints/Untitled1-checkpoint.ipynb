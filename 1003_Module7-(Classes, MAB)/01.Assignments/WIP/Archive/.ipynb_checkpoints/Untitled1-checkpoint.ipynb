{
 "cells": [
  {
   "cell_type": "code",
   "execution_count": 14,
   "id": "4c319ec5-6b44-4450-a75a-f7b4bb263261",
   "metadata": {},
   "outputs": [],
   "source": [
    "with open(\"sowpods.txt\",\"r\") as infile:\n",
    "    raw_input = infile.readlines()\n",
    "    data = [datum.strip('\\n') for datum in raw_input]\n",
    "    if('ab') in data:\n",
    "        print('ab')\n",
    "    \n",
    "#    type(data)\n",
    "    #newfile = data.index[0]\n",
    "    #return (data.index['ze'])"
   ]
  },
  {
   "cell_type": "code",
   "execution_count": 13,
   "id": "cf5cb36a-1307-4bc9-b36a-c069ce8b8e5a",
   "metadata": {},
   "outputs": [],
   "source": [
    "with open(\"sowpods-2.txt\",\"r\") as infile:\n",
    "        raw_input = infile.readlines()#[0:1000]\n",
    "        data = [datum.strip('\\n') for datum in raw_input]\n",
    "        \n",
    "        if 'zzz' in data:\n",
    "            print('True')\n",
    "        \n",
    "#         for word in data:\n",
    "#             if word == \"HELLO\":\n",
    "#                 print(word)"
   ]
  },
  {
   "cell_type": "code",
   "execution_count": null,
   "id": "935bf912-ba9c-4f9c-8ab6-38f8e04e7c2f",
   "metadata": {},
   "outputs": [],
   "source": []
  }
 ],
 "metadata": {
  "kernelspec": {
   "display_name": "Python 3 (ipykernel)",
   "language": "python",
   "name": "python3"
  },
  "language_info": {
   "codemirror_mode": {
    "name": "ipython",
    "version": 3
   },
   "file_extension": ".py",
   "mimetype": "text/x-python",
   "name": "python",
   "nbconvert_exporter": "python",
   "pygments_lexer": "ipython3",
   "version": "3.9.12"
  }
 },
 "nbformat": 4,
 "nbformat_minor": 5
}
