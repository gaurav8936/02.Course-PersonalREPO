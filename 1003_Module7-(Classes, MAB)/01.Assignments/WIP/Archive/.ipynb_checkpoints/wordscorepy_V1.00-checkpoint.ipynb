{
 "cells": [
  {
   "cell_type": "markdown",
   "id": "0577fc4f-a589-4bf9-aa5a-9a134c3259de",
   "metadata": {},
   "source": [
    "Make a separate module named wordscore.py which contains, at a minimum, a function called score_word. This score_word function will take each word and return the score (scoring dictionary is described below). Import this function into your main scrabble.py program."
   ]
  },
  {
   "cell_type": "markdown",
   "id": "436e1f37-1c87-4d3a-a418-d4827167a162",
   "metadata": {},
   "source": [
    "Implement wildcards as either * or ?. There can be a total of only two wild cards in any user input (that is, one of each character: one * and one ?). Only use the * and ? as wildcard characters. A wildcard character can take any value A-Z. Replace the wildcard symbol with the letter in your answer (see the second example below).\n",
    "* Wildcard characters are scored as 0 points, just like in the real Scrabble game. A word that just consists of two wildcards can be made, should be outputted and scored as 0 points.\n",
    "* In a wildcard case where the same word can be made with or without the wildcard, display the highest score. For example: given the input 'I?F', the word 'if' can be made with the wildcard '?F' as well as the letters 'IF'. Since using the letters 'IF' scores higher, display that score."
   ]
  },
  {
   "cell_type": "code",
   "execution_count": 1,
   "id": "cf4e2abf-2fe9-4285-88ce-9dca74f7c278",
   "metadata": {},
   "outputs": [],
   "source": [
    "scores = {\"a\": 1, \"c\": 3, \"b\": 3, \"e\": 1, \"d\": 2, \"g\": 2,\n",
    "         \"f\": 4, \"i\": 1, \"h\": 4, \"k\": 5, \"j\": 8, \"m\": 3,\n",
    "         \"l\": 1, \"o\": 1, \"n\": 1, \"q\": 10, \"p\": 3, \"s\": 1,\n",
    "         \"r\": 1, \"u\": 1, \"t\": 1, \"w\": 4, \"v\": 4, \"y\": 4,\n",
    "         \"x\": 8, \"z\": 10}"
   ]
  },
  {
   "cell_type": "markdown",
   "id": "364da10e-d896-47f6-82d2-13159f5f9943",
   "metadata": {},
   "source": [
    "---"
   ]
  },
  {
   "cell_type": "markdown",
   "id": "979d67c0-da3e-4312-b879-4ad47fb6c744",
   "metadata": {},
   "source": [
    "## Overall Strategy"
   ]
  },
  {
   "cell_type": "markdown",
   "id": "a5d89e67-d307-4bc1-9b1a-e8f49a962592",
   "metadata": {},
   "source": [
    "As I see it, there are these high level steps involved\n",
    "\n",
    "1. Focus first on the wordscore part == then scrabble play\n",
    "    1. get the wordscore function working for happy path\n",
    "    ---- Get output in the tuples form -- including totals in the end\n",
    "    2. modify the wordscore function to include wildcards (get words)\n",
    "    3. calculate scores with wildcard cases (?IF) etc\n",
    "    4. modify the wordscore function to include duplicates\n",
    "   \n",
    "2.  Focus next on scrabble play\n",
    "    1. Import the scrabble play function and make it work for happy path\n",
    "    2. Modify the program to handle user input errors gracefully"
   ]
  },
  {
   "cell_type": "markdown",
   "id": "e3486f92-e12c-46c0-82e1-e20dcc817ad8",
   "metadata": {},
   "source": [
    "## Solving for core problem: calculating possible words & scores"
   ]
  },
  {
   "cell_type": "markdown",
   "id": "38dafe63-7f8c-4ad7-9475-2015bece14e5",
   "metadata": {},
   "source": [
    "HAPPY PATH PROCESS\n",
    "\n",
    "0. Construct a new list of words from the dictionary\n",
    "    -- words_dict_list\n",
    "    -- sanitize the data from the input file (remove new line, special characters)\n",
    "1. calculate the length of the input (ie between 2-7 words)  -- say input_char\n",
    "    -- say user selects 5 letters\n",
    "2. narrow dictionary to words at or below the input length (exclude others)\n",
    "    -- exclude all words greater than 5 letters\n",
    "3. extract list of unique letters and count (tbd if needed)\n",
    "4. all letters from the word should be in input_char \n",
    "5. create list word_combo_list and add words to the list\n",
    "6. call the scoring function and iterate through each word in word_combo_list\n",
    "    --- multiply each letter with 'scores' and calculate sum\n",
    "7. create new list word_combo_score_list and append work (from word_combo_list) & calculated sum\n",
    "8. sort word_combo_score_list in descending order of score (and ascending order of alphabet)"
   ]
  },
  {
   "cell_type": "markdown",
   "id": "731c9324-ceb4-43dd-a357-12a0802f1652",
   "metadata": {},
   "source": [
    "HANDLING WILD CARDS - PROCESS\n",
    "\n",
    "Scenario A: 1 wild card\n",
    "\n",
    "Scenario B: 2 wild cards\n",
    "\n",
    "Special Case: Handling precedence (when word can be formed with or without wildcards)\n"
   ]
  },
  {
   "cell_type": "code",
   "execution_count": null,
   "id": "587c9edd-15ee-4ad2-92b8-ed737de0a267",
   "metadata": {},
   "outputs": [],
   "source": []
  },
  {
   "cell_type": "code",
   "execution_count": 2,
   "id": "4126974f-8023-4c4b-8304-5e368edd923d",
   "metadata": {},
   "outputs": [],
   "source": [
    "with open(\"sowpods.txt\",\"r\") as infile:\n",
    "    raw_input = infile.readlines()\n",
    "    data = [datum.strip('\\n') for datum in raw_input]"
   ]
  },
  {
   "cell_type": "code",
   "execution_count": 3,
   "id": "68f28d62-98f5-4ddf-a810-b512643b2b13",
   "metadata": {},
   "outputs": [
    {
     "name": "stdout",
     "output_type": "stream",
     "text": [
      "['AA', 'AAH', 'AAHED', 'AAHING', 'AAHS', 'AAL', 'AALII', 'AALIIS', 'AALS', 'AARDVARK', 'AARDVARKS', 'AARDWOLF', 'AARDWOLVES', 'AARGH', 'AARRGH', 'AARRGHH', 'AARTI', 'AARTIS', 'AAS', 'AASVOGEL']\n"
     ]
    }
   ],
   "source": [
    "print(data[0:20])"
   ]
  },
  {
   "cell_type": "code",
   "execution_count": null,
   "id": "a9cb636b-e1da-4ea0-b549-133b1f1e5789",
   "metadata": {},
   "outputs": [],
   "source": []
  }
 ],
 "metadata": {
  "kernelspec": {
   "display_name": "Python 3 (ipykernel)",
   "language": "python",
   "name": "python3"
  },
  "language_info": {
   "codemirror_mode": {
    "name": "ipython",
    "version": 3
   },
   "file_extension": ".py",
   "mimetype": "text/x-python",
   "name": "python",
   "nbconvert_exporter": "python",
   "pygments_lexer": "ipython3",
   "version": "3.9.12"
  }
 },
 "nbformat": 4,
 "nbformat_minor": 5
}
