{
 "cells": [
  {
   "cell_type": "code",
   "execution_count": 1,
   "id": "8a6a3d83-7dd8-4e48-a1cc-2577067b763e",
   "metadata": {},
   "outputs": [],
   "source": [
    "'''Scoring functions for both non-wildcard and wildcard racks'''\n",
    "\n",
    "scores = {\"a\": 1, \"c\": 3, \"b\": 3, \"e\": 1, \"d\": 2, \"g\": 2,\n",
    "         \"f\": 4, \"i\": 1, \"h\": 4, \"k\": 5, \"j\": 8, \"m\": 3,\n",
    "         \"l\": 1, \"o\": 1, \"n\": 1, \"q\": 10, \"p\": 3, \"s\": 1,\n",
    "         \"r\": 1, \"u\": 1, \"t\": 1, \"w\": 4, \"v\": 4, \"y\": 4,\n",
    "         \"x\": 8, \"z\": 10}\n",
    "\n",
    "def score_word(words):\n",
    "    '''\n",
    "    For non-wildcard racks, this function simply iterates through the list of possible words from SOWPODS and scores them according to Scrabble rules.\n",
    "    Takes in argument: words, which is the list of possible SOWPODS words that can be made from the input rack.\n",
    "    '''\n",
    "    score_list = []\n",
    "    for word in words:\n",
    "        points = 0\n",
    "        for letter in word:\n",
    "            points += scores[letter]\n",
    "        score_list.append((points, word))\n",
    "    return sorted(score_list, key = lambda x: x[0], reverse = True)"
   ]
  },
  {
   "cell_type": "code",
   "execution_count": null,
   "id": "615b3327-e2a7-47b2-9f01-b91295783e44",
   "metadata": {},
   "outputs": [],
   "source": []
  }
 ],
 "metadata": {
  "kernelspec": {
   "display_name": "Python 3 (ipykernel)",
   "language": "python",
   "name": "python3"
  },
  "language_info": {
   "codemirror_mode": {
    "name": "ipython",
    "version": 3
   },
   "file_extension": ".py",
   "mimetype": "text/x-python",
   "name": "python",
   "nbconvert_exporter": "python",
   "pygments_lexer": "ipython3",
   "version": "3.9.12"
  }
 },
 "nbformat": 4,
 "nbformat_minor": 5
}
