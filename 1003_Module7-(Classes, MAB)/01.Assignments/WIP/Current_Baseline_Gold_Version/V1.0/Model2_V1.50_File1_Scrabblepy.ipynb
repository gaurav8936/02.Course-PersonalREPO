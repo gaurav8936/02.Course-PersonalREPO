{
 "cells": [
  {
   "cell_type": "code",
   "execution_count": 3,
   "id": "c6f1436f-0406-449d-be53-9bc2211362b6",
   "metadata": {},
   "outputs": [],
   "source": [
    "from wordscore import *\n",
    "\n",
    "def run_scrabble(rack):\n",
    "    rack_low = rack.lower()\n",
    "    rack_letters = list(rack_low)\n",
    "    valid_words = []\n",
    "    \n",
    "    with open(\"sowpods.txt\",\"r\") as infile:\n",
    "        raw_input = infile.readlines()#[0:1000]\n",
    "        data = [datum.strip('\\n') for datum in raw_input]\n",
    "    \n",
    "    for word in data:\n",
    "        word_low = word.lower()\n",
    "        temp_rack_letters = rack_letters.copy() # keep the original\n",
    "        for letter in word_low:\n",
    "            if letter in temp_rack_letters :\n",
    "                temp_rack_letters .remove(letter)\n",
    "            elif '*' in temp_rack_letters :\n",
    "                temp_rack_letters .remove('*') \n",
    "            elif '?' in temp_rack_letters :\n",
    "                temp_rack_letters .remove('?')\n",
    "            else:\n",
    "                break # You want to exit the loop if letter dont match\n",
    "        else:\n",
    "            valid_words.append([score_word(word_low), word_low])\n",
    "    \n",
    "    valid_words.sort(reverse = True)\n",
    "    \n",
    "    for entry in valid_words:\n",
    "        score = entry[0]\n",
    "        word_low = entry[1]\n",
    "        print((score, word_low))\n",
    "\n",
    "    print(\"Total number of words:\", len(valid_words))\n",
    "    "
   ]
  },
  {
   "cell_type": "code",
   "execution_count": 4,
   "id": "423efdb1-6701-4cea-b866-42d778adca0a",
   "metadata": {},
   "outputs": [
    {
     "name": "stdout",
     "output_type": "stream",
     "text": [
      "(30, 'zzz')\n",
      "(22, 'zeze')\n",
      "(12, 'zee')\n",
      "(2, 'ee')\n",
      "Total number of words: 4\n"
     ]
    }
   ],
   "source": [
    "run_scrabble('zzzzee')"
   ]
  },
  {
   "cell_type": "code",
   "execution_count": null,
   "id": "a62fdb6a-f1ca-4cc4-8d71-a640c7e74632",
   "metadata": {},
   "outputs": [],
   "source": []
  }
 ],
 "metadata": {
  "kernelspec": {
   "display_name": "Python 3 (ipykernel)",
   "language": "python",
   "name": "python3"
  },
  "language_info": {
   "codemirror_mode": {
    "name": "ipython",
    "version": 3
   },
   "file_extension": ".py",
   "mimetype": "text/x-python",
   "name": "python",
   "nbconvert_exporter": "python",
   "pygments_lexer": "ipython3",
   "version": "3.9.12"
  }
 },
 "nbformat": 4,
 "nbformat_minor": 5
}
