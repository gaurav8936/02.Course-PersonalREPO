{
 "cells": [
  {
   "cell_type": "code",
   "execution_count": 2,
   "id": "d5d3a2c0-5f29-4012-8f51-3a199ecd14e3",
   "metadata": {},
   "outputs": [],
   "source": [
    "# this is the original name of the function (had word_low)\n",
    "# I know this doesn't mean much, but wanted it to be symbolic and help me understand\n",
    "# the code better\n",
    "\n",
    "#def score_word(word_low):\n",
    "\n",
    "# renamed the function to take the parameter (rack_low\n",
    "# this is symbolic as note above\n",
    "\n",
    "def score_word(rack_low):\n",
    "    \n",
    "    # Deprecating the scores (from original dictionary)\n",
    "    \n",
    "    # scores = {\"a\": 1, \"c\": 3, \"b\": 3, \"e\": 1, \"d\": 2, \"g\": 2,\n",
    "    #       \"f\": 4, \"i\": 1, \"h\": 4, \"k\": 5, \"j\": 8, \"m\": 3,\n",
    "    #       \"l\": 1, \"o\": 1, \"n\": 1, \"q\": 10, \"p\": 3, \"s\": 1,\n",
    "    #       \"r\": 1, \"u\": 1, \"t\": 1, \"w\": 4, \"v\": 4, \"y\": 4,\n",
    "    #       \"x\": 8, \"z\": 10}\n",
    "    \n",
    "    # modifying scores to include the two special characters: ? and *\n",
    "    \n",
    "    scores = {\"a\": 1, \"c\": 3, \"b\": 3, \"e\": 1, \"d\": 2, \"g\": 2,\n",
    "          \"f\": 4, \"i\": 1, \"h\": 4, \"k\": 5, \"j\": 8, \"m\": 3,\n",
    "          \"l\": 1, \"o\": 1, \"n\": 1, \"q\": 10, \"p\": 3, \"s\": 1,\n",
    "          \"r\": 1, \"u\": 1, \"t\": 1, \"w\": 4, \"v\": 4, \"y\": 4,\n",
    "          \"x\": 8, \"z\": 10, \"?\": 0, \"*\": 0}    \n",
    "    \n",
    "    total = 0\n",
    "    \n",
    "#    this is the original code (with word_low)\n",
    "#    for letter in word_low:\n",
    "    \n",
    "    # Run through all letters in the word and return the score (ie total)\n",
    "    # trying to run program with letters from the rack\n",
    "    \n",
    "    for letter in rack_low:\n",
    "        total = total + scores[letter]\n",
    "    return total\n"
   ]
  },
  {
   "cell_type": "code",
   "execution_count": null,
   "id": "7af858d3-a1d7-40cf-a6d5-9b82cff15113",
   "metadata": {},
   "outputs": [],
   "source": []
  }
 ],
 "metadata": {
  "kernelspec": {
   "display_name": "Python 3 (ipykernel)",
   "language": "python",
   "name": "python3"
  },
  "language_info": {
   "codemirror_mode": {
    "name": "ipython",
    "version": 3
   },
   "file_extension": ".py",
   "mimetype": "text/x-python",
   "name": "python",
   "nbconvert_exporter": "python",
   "pygments_lexer": "ipython3",
   "version": "3.9.12"
  }
 },
 "nbformat": 4,
 "nbformat_minor": 5
}
