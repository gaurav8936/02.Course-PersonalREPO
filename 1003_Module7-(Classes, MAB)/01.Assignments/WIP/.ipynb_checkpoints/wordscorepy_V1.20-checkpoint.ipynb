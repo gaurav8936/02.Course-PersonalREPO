{
 "cells": [
  {
   "cell_type": "markdown",
   "id": "0577fc4f-a589-4bf9-aa5a-9a134c3259de",
   "metadata": {},
   "source": [
    "Make a separate module named wordscore.py which contains, at a minimum, a function called score_word. This score_word function will take each word and return the score (scoring dictionary is described below). Import this function into your main scrabble.py program."
   ]
  },
  {
   "cell_type": "markdown",
   "id": "436e1f37-1c87-4d3a-a418-d4827167a162",
   "metadata": {},
   "source": [
    "Implement wildcards as either * or ?. There can be a total of only two wild cards in any user input (that is, one of each character: one * and one ?). Only use the * and ? as wildcard characters. A wildcard character can take any value A-Z. Replace the wildcard symbol with the letter in your answer (see the second example below).\n",
    "* Wildcard characters are scored as 0 points, just like in the real Scrabble game. A word that just consists of two wildcards can be made, should be outputted and scored as 0 points.\n",
    "* In a wildcard case where the same word can be made with or without the wildcard, display the highest score. For example: given the input 'I?F', the word 'if' can be made with the wildcard '?F' as well as the letters 'IF'. Since using the letters 'IF' scores higher, display that score."
   ]
  },
  {
   "cell_type": "code",
   "execution_count": 1,
   "id": "cf4e2abf-2fe9-4285-88ce-9dca74f7c278",
   "metadata": {},
   "outputs": [],
   "source": [
    "scores = {\"a\": 1, \"c\": 3, \"b\": 3, \"e\": 1, \"d\": 2, \"g\": 2,\n",
    "         \"f\": 4, \"i\": 1, \"h\": 4, \"k\": 5, \"j\": 8, \"m\": 3,\n",
    "         \"l\": 1, \"o\": 1, \"n\": 1, \"q\": 10, \"p\": 3, \"s\": 1,\n",
    "         \"r\": 1, \"u\": 1, \"t\": 1, \"w\": 4, \"v\": 4, \"y\": 4,\n",
    "         \"x\": 8, \"z\": 10}"
   ]
  },
  {
   "cell_type": "markdown",
   "id": "364da10e-d896-47f6-82d2-13159f5f9943",
   "metadata": {},
   "source": [
    "---"
   ]
  },
  {
   "cell_type": "markdown",
   "id": "979d67c0-da3e-4312-b879-4ad47fb6c744",
   "metadata": {},
   "source": [
    "## Overall Strategy"
   ]
  },
  {
   "cell_type": "markdown",
   "id": "a5d89e67-d307-4bc1-9b1a-e8f49a962592",
   "metadata": {},
   "source": [
    "As I see it, there are these high level steps involved\n",
    "\n",
    "1. Focus first on the wordscore part == then scrabble play\n",
    "    1. get the wordscore function working for happy path\n",
    "    ---- Get output in the tuples form -- including totals in the end\n",
    "    2. modify the wordscore function to include wildcards (get words)\n",
    "    3. calculate scores with wildcard cases (?IF) etc\n",
    "    4. modify the wordscore function to include duplicates\n",
    "   \n",
    "2.  Focus next on scrabble play\n",
    "    1. Import the scrabble play function and make it work for happy path\n",
    "    2. Modify the program to handle user input errors gracefully"
   ]
  },
  {
   "cell_type": "markdown",
   "id": "e3486f92-e12c-46c0-82e1-e20dcc817ad8",
   "metadata": {},
   "source": [
    "## Solving for core problem: calculating possible words & scores"
   ]
  },
  {
   "cell_type": "markdown",
   "id": "38dafe63-7f8c-4ad7-9475-2015bece14e5",
   "metadata": {},
   "source": [
    "HAPPY PATH PROCESS\n",
    "\n",
    "0. Construct a new list of words from the dictionary\n",
    "    -- words_dict_list\n",
    "    -- sanitize the data from the input file (remove new line, special characters)\n",
    "1. calculate the length of the input (ie between 2-7 words)  -- say input_char\n",
    "    -- say user selects 5 letters\n",
    "    -- call this list, input_list (ie created from input_letters)\n",
    "2. narrow dictionary to words at or below the input length (exclude others)\n",
    "    -- exclude all words greater than 5 letters\n",
    "3. extract list of unique letters and count (tbd if needed)\n",
    "4. all letters from the word should be in input_char \n",
    "5. create list word_combo_list and add words to the list\n",
    "6. call the scoring function and iterate through each word in word_combo_list\n",
    "    --- multiply each letter with 'scores' and calculate sum\n",
    "7. create new list word_combo_score_list and append work (from word_combo_list) & calculated sum\n",
    "8. sort word_combo_score_list in descending order of score (and ascending order of alphabet)"
   ]
  },
  {
   "cell_type": "markdown",
   "id": "731c9324-ceb4-43dd-a357-12a0802f1652",
   "metadata": {},
   "source": [
    "HANDLING WILD CARDS - PROCESS\n",
    "\n",
    "Scenario A: 1 wild card\n",
    "\n",
    "Scenario B: 2 wild cards\n",
    "\n",
    "Special Case: Handling precedence (when word can be formed with or without wildcards)\n"
   ]
  },
  {
   "cell_type": "markdown",
   "id": "667d180e-0361-4e3c-8333-9ee7cd4b60c0",
   "metadata": {},
   "source": [
    "---"
   ]
  },
  {
   "cell_type": "markdown",
   "id": "8047d554-d245-42be-ac05-a885c47057bc",
   "metadata": {},
   "source": [
    "### create a new list of words (from the dictionary)"
   ]
  },
  {
   "cell_type": "code",
   "execution_count": 2,
   "id": "4126974f-8023-4c4b-8304-5e368edd923d",
   "metadata": {
    "jupyter": {
     "source_hidden": true
    },
    "tags": []
   },
   "outputs": [],
   "source": [
    "with open(\"sowpods.txt\",\"r\") as infile:\n",
    "    raw_input = infile.readlines()\n",
    "    data = [datum.strip('\\n') for datum in raw_input]"
   ]
  },
  {
   "cell_type": "code",
   "execution_count": 3,
   "id": "68f28d62-98f5-4ddf-a810-b512643b2b13",
   "metadata": {
    "collapsed": true,
    "jupyter": {
     "outputs_hidden": true
    },
    "tags": []
   },
   "outputs": [
    {
     "name": "stdout",
     "output_type": "stream",
     "text": [
      "['AA', 'AAH', 'AAHED', 'AAHING', 'AAHS', 'AAL', 'AALII', 'AALIIS', 'AALS', 'AARDVARK', 'AARDVARKS', 'AARDWOLF', 'AARDWOLVES', 'AARGH', 'AARRGH', 'AARRGHH', 'AARTI', 'AARTIS', 'AAS', 'AASVOGEL']\n"
     ]
    }
   ],
   "source": [
    "print(data[0:20])"
   ]
  },
  {
   "cell_type": "markdown",
   "id": "3e80d9dd-666c-432e-af75-3e55a822ac4d",
   "metadata": {},
   "source": [
    "---"
   ]
  },
  {
   "cell_type": "code",
   "execution_count": 6,
   "id": "c550dd6c-ba5c-45cf-b9aa-c602711536d8",
   "metadata": {
    "collapsed": true,
    "jupyter": {
     "outputs_hidden": true
    },
    "tags": []
   },
   "outputs": [
    {
     "data": {
      "text/plain": [
       "list"
      ]
     },
     "execution_count": 6,
     "metadata": {},
     "output_type": "execute_result"
    }
   ],
   "source": [
    "type(words_dict_list)"
   ]
  },
  {
   "cell_type": "code",
   "execution_count": 5,
   "id": "9bef556d-211f-47f9-9f62-d31df7796f30",
   "metadata": {},
   "outputs": [
    {
     "data": {
      "text/plain": [
       "['AA',\n",
       " 'AAH',\n",
       " 'AAHED',\n",
       " 'AAHING',\n",
       " 'AAHS',\n",
       " 'AAL',\n",
       " 'AALII',\n",
       " 'AALIIS',\n",
       " 'AALS',\n",
       " 'AARDVARK',\n",
       " 'AARDVARKS',\n",
       " 'AARDWOLF',\n",
       " 'AARDWOLVES',\n",
       " 'AARGH',\n",
       " 'AARRGH',\n",
       " 'AARRGHH',\n",
       " 'AARTI',\n",
       " 'AARTIS',\n",
       " 'AAS',\n",
       " 'AASVOGEL']"
      ]
     },
     "execution_count": 5,
     "metadata": {},
     "output_type": "execute_result"
    }
   ],
   "source": [
    "with open(\"sowpods.txt\", \"r\") as infile:\n",
    "    raw_input = infile.readlines()\n",
    "    words_dict_list = [datum.strip('\\n') for datum in raw_input]\n",
    "words_dict_list[:20]"
   ]
  },
  {
   "cell_type": "code",
   "execution_count": 14,
   "id": "8fded5e7-b401-46b0-874b-73d1b287062e",
   "metadata": {},
   "outputs": [],
   "source": [
    "# input is called board\n",
    "#input_char = 'eoamctcwy'\n",
    "\n",
    "def find_matches(input_char):#, words_dict_list):\n",
    "    with open(\"sowpods.txt\", \"r\") as infile:\n",
    "        raw_input = infile.readlines()\n",
    "        words_dict_list = [datum.strip('\\n') for datum in raw_input]\n",
    "        print(words_dict_list[:20])\n",
    "    \n",
    "    input_list = list(input_char)\n",
    "    print(input_list)\n",
    "    \n",
    "    matched_words = []\n",
    "    \n",
    "    for word in words_dict_list:\n",
    "        good = True\n",
    "        \n",
    "        for letter in word:\n",
    "            if letter not in input_list:\n",
    "                good = False\n",
    "                break\n",
    "        if good == True:\n",
    "            match_words.append(word)\n",
    "            print(match_words)\n",
    "    \n",
    "    return(matched_words)\n",
    "    print(matched_words)\n",
    "        \n",
    "#         input_list = list(input_char)\n",
    "#         count = 0\n",
    "        \n",
    "#         for letter in word:\n",
    "#             if letter in input_list:\n",
    "#                 input_list.remove(letter)\n",
    "#                 count += 1\n",
    "            \n",
    "#             if len(word) == count"
   ]
  },
  {
   "cell_type": "code",
   "execution_count": 15,
   "id": "a3616203-f104-4e64-b683-73e4ff7917a2",
   "metadata": {},
   "outputs": [
    {
     "name": "stdout",
     "output_type": "stream",
     "text": [
      "['AA', 'AAH', 'AAHED', 'AAHING', 'AAHS', 'AAL', 'AALII', 'AALIIS', 'AALS', 'AARDVARK', 'AARDVARKS', 'AARDWOLF', 'AARDWOLVES', 'AARGH', 'AARRGH', 'AARRGHH', 'AARTI', 'AARTIS', 'AAS', 'AASVOGEL']\n",
      "['h', 'e', 'l', 'l', 'o', 'r', 'e']\n"
     ]
    },
    {
     "data": {
      "text/plain": [
       "[]"
      ]
     },
     "execution_count": 15,
     "metadata": {},
     "output_type": "execute_result"
    }
   ],
   "source": [
    "find_matches('hellore')"
   ]
  },
  {
   "cell_type": "code",
   "execution_count": 16,
   "id": "ddb4134c-7649-4f8d-96fb-3d3bb21e7899",
   "metadata": {},
   "outputs": [],
   "source": [
    " with open(\"sowpods.txt\", \"r\") as infile:\n",
    "        raw_input = infile.readlines()\n",
    "        dictionary = [datum.strip('\\n') for datum in raw_input]"
   ]
  },
  {
   "cell_type": "code",
   "execution_count": 22,
   "id": "a30da243-ca1a-4222-8f8d-0ede388925a6",
   "metadata": {},
   "outputs": [],
   "source": [
    "def find_matches(allowed, dictionary):\n",
    "    allowed_list = list(allowed)\n",
    "    match_words = []\n",
    "    for word in dictionary:    \n",
    "        good = True\n",
    "        for letter in word:\n",
    "            if letter not in allowed_list:\n",
    "                good = False\n",
    "                break\n",
    "        if good == True:\n",
    "            match_words.append(len(word))    \n",
    "    return (match_words)"
   ]
  },
  {
   "cell_type": "code",
   "execution_count": 23,
   "id": "34ee3a52-b7da-4191-8e36-64e5ae63fab5",
   "metadata": {},
   "outputs": [
    {
     "data": {
      "text/plain": [
       "[]"
      ]
     },
     "execution_count": 23,
     "metadata": {},
     "output_type": "execute_result"
    }
   ],
   "source": [
    " find_matches('adfweer', dictionary)"
   ]
  },
  {
   "cell_type": "markdown",
   "id": "c09d206f-1fb4-4e27-852b-e3cfe05b5764",
   "metadata": {},
   "source": [
    "## solution using collections-Counter"
   ]
  },
  {
   "cell_type": "code",
   "execution_count": 26,
   "id": "023aa078-b20a-4200-b2c5-a93dbf3f6996",
   "metadata": {},
   "outputs": [
    {
     "name": "stdout",
     "output_type": "stream",
     "text": [
      "AT\n",
      "GA\n",
      "GA\n",
      "GAT\n",
      "GAU\n",
      "GAUT\n",
      "GUT\n",
      "TA\n",
      "TAG\n",
      "TAU\n",
      "TU\n",
      "TUA\n",
      "TUG\n",
      "UG\n",
      "UT\n",
      "UTA\n",
      "UTA\n"
     ]
    }
   ],
   "source": [
    "from collections import Counter\n",
    "\n",
    "with open('/usr/share/dict/words') as fin:\n",
    "    lines = (word.strip().upper() for word in fin)\n",
    "    words = [(word, Counter(word)) for word in lines]\n",
    "\n",
    "rack = Counter('AUTG')\n",
    "#rack = Counter('AEDTUMS')\n",
    "for scrabble_word, letter_count in words:\n",
    "    # Using length here to limit output for example purposes\n",
    "    if len(scrabble_word) >= 2 and not (letter_count - rack):\n",
    "        print(scrabble_word)"
   ]
  },
  {
   "cell_type": "markdown",
   "id": "f0124000-c18c-40c4-aae5-fc3da2832a38",
   "metadata": {},
   "source": [
    "## Solution using generators"
   ]
  },
  {
   "cell_type": "code",
   "execution_count": 36,
   "id": "22bfd7bd-4c74-4a53-b209-1aec2195d4b4",
   "metadata": {},
   "outputs": [
    {
     "name": "stdout",
     "output_type": "stream",
     "text": [
      "Usage: python cheat_at_scrabble.py <yourrack>\n"
     ]
    }
   ],
   "source": [
    "#!/usr/bin/env python\n",
    "# let's cheat at scrabble\n",
    "\n",
    "def count_letters(word):\n",
    "  count = {} \n",
    "  for letter in word:\n",
    "    if letter not in count: count[letter] = 0\n",
    "    count[letter] += 1 \n",
    "  return count \n",
    "\n",
    "def spellable(word, rack):\n",
    "    word_count = count_letters(word)\n",
    "    rack_count  = count_letters(rack)\n",
    "    return all( [word_count[letter] <= rack_count[letter] for letter in word] )  \n",
    "\n",
    "score = {\"a\": 1, \"c\": 3, \"b\": 3, \"e\": 1, \"d\": 2, \"g\": 2, \n",
    "         \"f\": 4, \"i\": 1, \"h\": 4, \"k\": 5, \"j\": 8, \"m\": 3, \n",
    "         \"l\": 1, \"o\": 1, \"n\": 1, \"q\": 10, \"p\": 3, \"s\": 1, \n",
    "         \"r\": 1, \"u\": 1, \"t\": 1, \"w\": 4, \"v\": 4, \"y\": 4, \n",
    "         \"x\": 8, \"z\": 10}\n",
    "\n",
    "def score_word(word):\n",
    "  return sum([score[c] for c in word])\n",
    "\n",
    "def word_reader(filename):\n",
    "  # returns an iterator\n",
    "  return (word.strip() for word in  open(filename)) \n",
    "\n",
    "if __name__ == \"__main__\":\n",
    "  import sys\n",
    "  if len(sys.argv) == 2: \n",
    "    rack = sys.argv[1].strip()\n",
    "  else:\n",
    "    print(\"\"\"Usage: python cheat_at_scrabble.py <yourrack>\"\"\")\n",
    "    exit()\n",
    "\n",
    "  words = word_reader('/usr/share/dict/words')\n",
    "  scored =  ((score_word(word), word) for word in words if set(word).issubset(set(rack)) and len(word) > 1 and spellable(word, rack))\n",
    "\n",
    "  for score, word in sorted(scored):\n",
    "    print(str(score), '\\t', word)"
   ]
  },
  {
   "cell_type": "markdown",
   "id": "1dd6ffde-5c20-405b-960a-76dd5662c0ae",
   "metadata": {},
   "source": [
    "---"
   ]
  },
  {
   "cell_type": "code",
   "execution_count": 4,
   "id": "03f8e26e-7346-4fe8-b025-35b9ce155129",
   "metadata": {},
   "outputs": [],
   "source": [
    "scores = {\"a\": 1, \"c\": 3, \"b\": 3, \"e\": 1, \"d\": 2, \"g\": 2,\n",
    "         \"f\": 4, \"i\": 1, \"h\": 4, \"k\": 5, \"j\": 8, \"m\": 3,\n",
    "         \"l\": 1, \"o\": 1, \"n\": 1, \"q\": 10, \"p\": 3, \"s\": 1,\n",
    "         \"r\": 1, \"u\": 1, \"t\": 1, \"w\": 4, \"v\": 4, \"y\": 4,\n",
    "         \"x\": 8, \"z\": 10}\n",
    "\n",
    "def calc_score(word):\n",
    "    \"\"\"Sum the point values of the letters of the word.\"\"\"\n",
    "    return sum(scores[letter] for letter in word)\n",
    "\n",
    "def read_word_list(filename):\n",
    "    \"\"\"Read a list of words, one word per line of the file.\"\"\"\n",
    "    with open(filename) as f:\n",
    "        return [line.rstrip('\\n') for line in f]\n",
    "\n",
    "def can_form_word(rack_letters, word):\n",
    "    \"\"\"\n",
    "    Determine whether a word can be formed only using the letters on the rack.\n",
    "    \"\"\"\n",
    "    return all(word.count(c) <= rack_letters.count(c) for c in word)\n",
    "\n",
    "def main():\n",
    "    \"\"\"\n",
    "    For some letter tiles specified by the user, print the words in the\n",
    "    SOWPOD dictionary that can be formed, in descending order of their\n",
    "    Scrabble scores.\n",
    "    \"\"\"\n",
    "    vocabulary = read_word_list('sowpods.txt')\n",
    "    rack_letters = raw_input(\"Letters: \").lower()\n",
    "    words = [word for word in vocabulary if can_form_word(rack_letters, word)]\n",
    "    word_scores = [(calc_score(word), word) for word in words]\n",
    "    for points, word in sorted(word_scores, reverse=True):\n",
    "        print('{0}-{1}'.format(word, points))\n",
    "\n",
    "# if __name__ == '__main__':\n",
    "#     main()"
   ]
  },
  {
   "cell_type": "code",
   "execution_count": 6,
   "id": "de07f15c-93dc-4cb0-94b1-634b3ad74093",
   "metadata": {},
   "outputs": [
    {
     "ename": "TypeError",
     "evalue": "main() takes 0 positional arguments but 1 was given",
     "output_type": "error",
     "traceback": [
      "\u001b[0;31m---------------------------------------------------------------------------\u001b[0m",
      "\u001b[0;31mTypeError\u001b[0m                                 Traceback (most recent call last)",
      "Input \u001b[0;32mIn [6]\u001b[0m, in \u001b[0;36m<cell line: 1>\u001b[0;34m()\u001b[0m\n\u001b[0;32m----> 1\u001b[0m \u001b[43mmain\u001b[49m\u001b[43m(\u001b[49m\u001b[38;5;124;43m'\u001b[39;49m\u001b[38;5;124;43mheeeju\u001b[39;49m\u001b[38;5;124;43m'\u001b[39;49m\u001b[43m)\u001b[49m\n",
      "\u001b[0;31mTypeError\u001b[0m: main() takes 0 positional arguments but 1 was given"
     ]
    }
   ],
   "source": [
    "main('heeeju')"
   ]
  },
  {
   "cell_type": "markdown",
   "id": "1af51b58-5613-4207-836b-b0cb0648c075",
   "metadata": {},
   "source": [
    "### solution using set intersections"
   ]
  },
  {
   "cell_type": "code",
   "execution_count": 28,
   "id": "93bc24bb-62a2-4d3b-9c04-a9a1e2ca6183",
   "metadata": {},
   "outputs": [
    {
     "name": "stdout",
     "output_type": "stream",
     "text": [
      "Valid words for a rack containing letters 'jrnyoj?' are:\n",
      "\t* jo\n",
      "\t* jor\n",
      "\t* joy\n",
      "\t* no\n",
      "\t* nor\n",
      "\t* noy\n",
      "\t* ny\n",
      "\t* on\n",
      "\t* ony\n",
      "\t* or\n",
      "\t* oy\n",
      "\t* yo\n",
      "\t* yon\n"
     ]
    }
   ],
   "source": [
    "import sys\n",
    "from itertools import permutations # So we can get our permutations from all the letters.\n",
    "\n",
    "if len(sys.argv) < 2:\n",
    "    print(\"no rack error.\")\n",
    "    exit(1)\n",
    "\n",
    "rack = sys.argv[1]\n",
    "rack_low = rack.lower()\n",
    "\n",
    "\n",
    "# Turn the words in the sowpods.txt file into a Python list.\n",
    "txt_path = r'sowpods.txt'\n",
    "with open(txt_path,'r') as infile:\n",
    "    raw_input = infile.readlines()\n",
    "    # Added .lower() here.\n",
    "    data = [i.strip('\\n').lower() for i in raw_input]\n",
    "\n",
    "## Sample rack of 7 letters with wildcard character.\n",
    "sample_rack = 'jrnyoj?'\n",
    "\n",
    "# Remove any non-alphabetic characters (i.e. - wildcards)\n",
    "# We're using the isalpha() method.\n",
    "clean_rack = ''.join([i for i in sample_rack if i.isalpha()])\n",
    "\n",
    "# Trim word list to the letter count in the rack.\n",
    "# (You can skip this part, but it might make producing results a little quicker.)\n",
    "trimmed_data = [i for i in data if len(i) <= len(clean_rack)]\n",
    "\n",
    "\n",
    "# Create all permutations from the letters in the rack\n",
    "# We'll iterate over a count from 2 to the length of the rack\n",
    "# so that we get all relevant permutations.\n",
    "all_permutations = list()\n",
    "for i in range(2, len(clean_rack) + 1):\n",
    "    all_permutations.extend(list(map(''.join, permutations(clean_rack, i))))\n",
    "\n",
    "\n",
    "# We'll use set().intersection() to help speed the discovery process.\n",
    "valid_words = list(set(all_permutations).intersection(set(trimmed_data)))\n",
    "\n",
    "\n",
    "# Print sorted list of results to check.\n",
    "print(f'Valid words for a rack containing letters \\'{sample_rack}\\' are:\\n\\t* ' + '\\n\\t* '.join(sorted(valid_words)))"
   ]
  },
  {
   "cell_type": "markdown",
   "id": "f0fa7389-2279-4c40-8728-145c962fe15b",
   "metadata": {},
   "source": [
    "---"
   ]
  },
  {
   "cell_type": "markdown",
   "id": "913e6527-a060-4da6-991c-7621843eec22",
   "metadata": {},
   "source": [
    "---"
   ]
  },
  {
   "cell_type": "markdown",
   "id": "aa7d9da1-780f-4e32-b665-2f403ee60379",
   "metadata": {},
   "source": [
    "## Scores"
   ]
  },
  {
   "cell_type": "code",
   "execution_count": 30,
   "id": "7060ace9-b4f6-4ad2-85b7-0e557c0dce4f",
   "metadata": {},
   "outputs": [],
   "source": [
    "scores = {\"A\": 1, \"B\": 3, \"C\": 3, \"D\": 2, \"E\": 1, \"F\": 4, \"G\": 2, \n",
    "          \"H\": 4, \"I\": 1, \"J\": 8, \"K\": 5, \"L\": 1, \"M\": 3, \"N\": 1, \n",
    "          \"O\": 1, \"P\": 3, \"Q\": 1, \"R\": 1, \"S\": 1, \"T\": 1, \"U\": 1, \n",
    "          \"V\": 4, \"W\": 4, \"X\": 8, \"Y\": 4, \"Z\": 10}"
   ]
  },
  {
   "cell_type": "code",
   "execution_count": 32,
   "id": "fb67d93f-f925-44c0-8835-08bb4aa6b6be",
   "metadata": {},
   "outputs": [
    {
     "name": "stdout",
     "output_type": "stream",
     "text": [
      "12\n"
     ]
    }
   ],
   "source": [
    "total = 0\n",
    "for letter in \"ZOO\" :\n",
    "    total = total + scores[letter]\n",
    "print(total) # Prints 12"
   ]
  },
  {
   "cell_type": "code",
   "execution_count": 33,
   "id": "eb4c55b9-4d3d-4565-8d12-a2acf3aa27e7",
   "metadata": {},
   "outputs": [
    {
     "data": {
      "text/plain": [
       "12"
      ]
     },
     "execution_count": 33,
     "metadata": {},
     "output_type": "execute_result"
    }
   ],
   "source": [
    "sum([scores[letter] for letter in \"ZOO\"])\n"
   ]
  },
  {
   "cell_type": "code",
   "execution_count": null,
   "id": "dd1f03f2-ff29-49a2-abce-bfeb017221dc",
   "metadata": {},
   "outputs": [],
   "source": []
  }
 ],
 "metadata": {
  "kernelspec": {
   "display_name": "Python 3 (ipykernel)",
   "language": "python",
   "name": "python3"
  },
  "language_info": {
   "codemirror_mode": {
    "name": "ipython",
    "version": 3
   },
   "file_extension": ".py",
   "mimetype": "text/x-python",
   "name": "python",
   "nbconvert_exporter": "python",
   "pygments_lexer": "ipython3",
   "version": "3.9.12"
  }
 },
 "nbformat": 4,
 "nbformat_minor": 5
}
