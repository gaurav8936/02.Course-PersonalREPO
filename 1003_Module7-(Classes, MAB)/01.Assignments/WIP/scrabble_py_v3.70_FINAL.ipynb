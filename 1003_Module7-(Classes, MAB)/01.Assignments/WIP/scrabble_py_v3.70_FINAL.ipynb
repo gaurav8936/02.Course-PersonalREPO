{
 "cells": [
  {
   "cell_type": "code",
   "execution_count": 5,
   "id": "5595caf3-dfd2-4dec-b028-4e2226d28f7a",
   "metadata": {},
   "outputs": [],
   "source": [
    "import wordscore\n",
    "import sys\n",
    "from collections import Counter\n",
    "\n",
    "def run_scrabble(rack):\n",
    "    \n",
    "    \"\"\"\n",
    "    This is a modified version of the traditional scrabble game. The user plays the game\n",
    "    from the command promt by running run_scrabble and provides the 'rack' as the input.\n",
    "    The rack is the selection of between 2-7 words and special characters (* or ? only)\n",
    "    \n",
    "    The highlights of the game are\n",
    "    \n",
    "    1. Allow anywhere from 2-7 character tiles (letters A-Z, upper or lower case)\n",
    "    2. Do not restrict the number of same tiles (e.g., a user is allowed to input ZZZZZQQ).\n",
    "    3. There can be a total of only two wild cards in any user input \n",
    "       that is, one of each character: one `*` and one `?`). \n",
    "       Only use the `*` and `?` as wildcard characters. \n",
    "    4. A wildcard character can take any value A-Z. \n",
    "    5. Wildcard characters are scored as 0 points, just like in the real Scrabble game. \n",
    "       A word that just consists of two wildcards can be made, should be outputted and \n",
    "       scored as 0 points.  \n",
    "    \"\"\"\n",
    "    \n",
    "    ############### INITIALIZATION ################################\n",
    "    \n",
    "    # converts the input rack to lower case\n",
    "    rack_low = rack.lower() \n",
    "    \n",
    "    \n",
    "    rack_letters = list(rack_low) \n",
    "    # converts the rack to a list of letters\n",
    "    \n",
    "    valid_words = [] \n",
    "    # An empty list that will eventually hold all valid words from the scrabble dictionary sowpods.txt\n",
    "    \n",
    "    valid_rack = True\n",
    "    # A boolean condition the evaluates the contents of the rack as valid or not\n",
    "    \n",
    "    clean_word = []\n",
    "    # this removes the special characters from the rack\n",
    "    # may not be really useful -- as the word is already formed\n",
    "    \n",
    "    clean_rack = []\n",
    "    # this removes the special characters from the rack\n",
    "   \n",
    "    ################ VALIDATIONS ###################################\n",
    "    if (rack_low.count('?') > 1 or  rack_low.count('*')) > 1:\n",
    "        return (\"You can use only one of the wildcards at a time. E.g.  you can use just the '*' or '?' or both, but not two of the same\")\n",
    "        valid_rack = False\n",
    "        \n",
    "        # checks the condition for only 1 of the special characters is allowed\n",
    "        # ie the user cannot enter two * or two\n",
    "        # the user can enter one * and one ?\n",
    "    \n",
    "    if (rack_low.count('?') +  rack_low.count('*')) > 2:\n",
    "        return (\"You have entered more than 2 wildcards\")\n",
    "        valid_rack = False\n",
    "        \n",
    "        # checks the condition that no more than 2 wildcards are allowed\n",
    "        # the user can enter one * and one ?. which would be valid\n",
    "        # however, a combination like '**?' would throw this error\n",
    "    \n",
    "    elif len(rack_low) > 7 or len(rack_low) < 2:\n",
    "        return (\"You have entered more than 7 characters or less than 2\")\n",
    "        valid_rack = False\n",
    "        \n",
    "        # checks the number of letters in the rack for a minimum of 2 and maximum of 7\n",
    "\n",
    "    ######################################################################\n",
    "    \n",
    "    elif all(x.isalpha() or x in ('?', '*') for x in rack_low):\n",
    "        valid_rack = True\n",
    "        pass\n",
    "    \n",
    "         # checks if the contains only alphabets or special characters (* ?)\n",
    "    \n",
    "    else:\n",
    "        return ('You have entered non-permitted characters. Please enter only alphabets and/or special characters * and ?')\n",
    "\n",
    "        valid_rack = False\n",
    "        \n",
    "    if valid_rack:\n",
    "\n",
    "        # reads the scrabble reference dictionary and creates a data list\n",
    "        # after stripping the line breaks\n",
    "        \n",
    "        with open(\"sowpods.txt\",\"r\") as infile:\n",
    "            raw_input = infile.readlines()#[0:1000]\n",
    "            data = [datum.strip('\\n') for datum in raw_input]\n",
    "        \n",
    "        # this is the matching algorithm that iterates through each word in the\n",
    "        # scrabble dictionary (data) and checks whether the letters exists in the \n",
    "        # user input (rack). This also accounts for the two special characters (*, ?)\n",
    "        # and by a process of elimination is able to implicitly substitute them for \n",
    "        # other alphabets\n",
    "        \n",
    "        for word in data:\n",
    "            word_low = word.lower()\n",
    "            temp_rack_letters = rack_letters.copy() \n",
    "            \n",
    "            #iterate through the word dictionary, one word/letter at a time and compare with the rack\n",
    "            # start with createing a copy of the rack as temp_rack_letters\n",
    "            \n",
    "            candidate = True\n",
    "            # use the candidate flag to track a valid/invalid word\n",
    "            \n",
    "            # Iterate each letter in the word and check if the letter is in the\n",
    "            # Scrabble rack. If used once in the rack, remove the letter from the rack.\n",
    "            # If there's no letter in the rack, skip the letter.\n",
    "                \n",
    "            for letter in word_low:\n",
    "                if letter in temp_rack_letters :\n",
    "                    temp_rack_letters .remove(letter)\n",
    "                elif '*' in temp_rack_letters :\n",
    "                    temp_rack_letters .remove('*') \n",
    "                elif '?' in temp_rack_letters :\n",
    "                    temp_rack_letters .remove('?')\n",
    "                else:\n",
    "                    candidate = False\n",
    " \n",
    "        \n",
    "            if candidate == True:\n",
    "                clean_rack = [letter for letter in rack_low if letter.isalpha()]\n",
    "                # removes the special characters from the rack \n",
    "\n",
    "                clean_word = list((Counter(rack_low) & Counter(word_low)).elements())\n",
    "                # this finds the common letters in the rack and compares that with the word\n",
    "                # handles cases of duplicate letters in rack (like ZZZZEE) \n",
    "                \n",
    "                valid_words.append([wordscore.score_word(clean_word), word_low.upper()])\n",
    "                \n",
    "                # returns the scores for the words in the clean_rack\n",
    "                # by using clean_word and word_low, they are both derived from word_low\n",
    "                # so the basis is the same\n",
    "                \n",
    "    else:\n",
    "        valid_rack = False \n",
    "    \n",
    "    valid_words_sorted = sorted(valid_words,key=lambda x:(-x[0],x[1]))\n",
    "    # we now sort the list on the basis of score (descending and alphabet (ascending))\n",
    "    \n",
    "    valid_words_sorted_tuples = [tuple(l) for l in valid_words_sorted]\n",
    "    # this converts list content to one that is required by the course - a list of tuples\n",
    "    \n",
    "    return valid_words_sorted_tuples, len(valid_words)"
   ]
  },
  {
   "cell_type": "code",
   "execution_count": 6,
   "id": "2e648b55-d8f7-462c-9bf6-de676229cf68",
   "metadata": {
    "collapsed": true,
    "jupyter": {
     "outputs_hidden": true
    },
    "tags": []
   },
   "outputs": [
    {
     "data": {
      "text/plain": [
       "([(21, 'BUZZ'),\n",
       "  (21, 'FUZZ'),\n",
       "  (21, 'MUZZ'),\n",
       "  (21, 'QUIZ'),\n",
       "  (21, 'TUZZ'),\n",
       "  (21, 'ZUZ'),\n",
       "  (20, 'ZIZ'),\n",
       "  (20, 'ZZZ'),\n",
       "  (11, 'CUZ'),\n",
       "  (11, 'LUZ'),\n",
       "  (11, 'QUA'),\n",
       "  (11, 'SUQ'),\n",
       "  (10, 'QI'),\n",
       "  (10, 'ZA'),\n",
       "  (10, 'ZO'),\n",
       "  (1, 'GU'),\n",
       "  (1, 'MU'),\n",
       "  (1, 'NU'),\n",
       "  (1, 'OU'),\n",
       "  (1, 'UG'),\n",
       "  (1, 'UH'),\n",
       "  (1, 'UM'),\n",
       "  (1, 'UN'),\n",
       "  (1, 'UP'),\n",
       "  (1, 'UR'),\n",
       "  (1, 'US'),\n",
       "  (1, 'UT'),\n",
       "  (1, 'XU'),\n",
       "  (1, 'YU')],\n",
       " 29)"
      ]
     },
     "execution_count": 6,
     "metadata": {},
     "output_type": "execute_result"
    }
   ],
   "source": [
    "run_scrabble('QU*ZZ')"
   ]
  },
  {
   "cell_type": "code",
   "execution_count": 8,
   "id": "692cf787-9bf8-4970-8531-0ef965476ba7",
   "metadata": {
    "collapsed": true,
    "jupyter": {
     "outputs_hidden": true
    },
    "tags": []
   },
   "outputs": [
    {
     "data": {
      "text/plain": [
       "([(30, 'ZZZ'), (22, 'ZEZE'), (12, 'ZEE'), (2, 'EE')], 4)"
      ]
     },
     "execution_count": 8,
     "metadata": {},
     "output_type": "execute_result"
    }
   ],
   "source": [
    "run_scrabble('ZZZZEE')"
   ]
  },
  {
   "cell_type": "code",
   "execution_count": 7,
   "id": "5265f245-e1a0-4f69-bffd-96c1b1e615b4",
   "metadata": {
    "tags": []
   },
   "outputs": [
    {
     "data": {
      "text/plain": [
       "\"You can use only one of the wildcards at a time. E.g.  you can use just the '*' or '?' or both, but not two of the same\""
      ]
     },
     "execution_count": 7,
     "metadata": {},
     "output_type": "execute_result"
    }
   ],
   "source": [
    "run_scrabble('**')"
   ]
  },
  {
   "cell_type": "code",
   "execution_count": null,
   "id": "a262f01f-9130-48df-a088-6b2f9e7945a1",
   "metadata": {
    "tags": []
   },
   "outputs": [],
   "source": []
  }
 ],
 "metadata": {
  "kernelspec": {
   "display_name": "Python 3 (ipykernel)",
   "language": "python",
   "name": "python3"
  },
  "language_info": {
   "codemirror_mode": {
    "name": "ipython",
    "version": 3
   },
   "file_extension": ".py",
   "mimetype": "text/x-python",
   "name": "python",
   "nbconvert_exporter": "python",
   "pygments_lexer": "ipython3",
   "version": "3.9.12"
  }
 },
 "nbformat": 4,
 "nbformat_minor": 5
}
