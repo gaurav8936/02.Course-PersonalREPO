{
 "cells": [
  {
   "cell_type": "markdown",
   "id": "1d5630e2-7aee-4c71-84b3-c39a96367a15",
   "metadata": {},
   "source": [
    "# Just Notes - Ignore"
   ]
  },
  {
   "cell_type": "code",
   "execution_count": 5,
   "id": "a05e3bdb-69f4-44b3-b054-ec643af665fb",
   "metadata": {},
   "outputs": [],
   "source": [
    "class Drone():\n",
    "    \"\"\"\n",
    "    hello there\n",
    "    \"\"\"\n",
    "    pass"
   ]
  },
  {
   "cell_type": "code",
   "execution_count": 6,
   "id": "8c9ed60a-d892-4ed6-87a8-ad8c261cafb2",
   "metadata": {},
   "outputs": [
    {
     "data": {
      "text/plain": [
       "\u001b[0;31mInit signature:\u001b[0m \u001b[0mDrone\u001b[0m\u001b[0;34m(\u001b[0m\u001b[0;34m)\u001b[0m\u001b[0;34m\u001b[0m\u001b[0;34m\u001b[0m\u001b[0m\n",
       "\u001b[0;31mDocstring:\u001b[0m      hello there\n",
       "\u001b[0;31mType:\u001b[0m           type\n",
       "\u001b[0;31mSubclasses:\u001b[0m     \n"
      ]
     },
     "metadata": {},
     "output_type": "display_data"
    }
   ],
   "source": [
    "?Drone"
   ]
  },
  {
   "cell_type": "code",
   "execution_count": 7,
   "id": "8a076033-7cb3-49ac-bce2-42bc2717f738",
   "metadata": {},
   "outputs": [
    {
     "name": "stdout",
     "output_type": "stream",
     "text": [
      "Help on class Drone in module __main__:\n",
      "\n",
      "class Drone(builtins.object)\n",
      " |  hello there\n",
      " |  \n",
      " |  Data descriptors defined here:\n",
      " |  \n",
      " |  __dict__\n",
      " |      dictionary for instance variables (if defined)\n",
      " |  \n",
      " |  __weakref__\n",
      " |      list of weak references to the object (if defined)\n",
      "\n"
     ]
    }
   ],
   "source": [
    "help(Drone)"
   ]
  },
  {
   "cell_type": "code",
   "execution_count": 8,
   "id": "302f9e0a-99b5-45c2-b1a9-30306c46467c",
   "metadata": {},
   "outputs": [],
   "source": [
    "d1 = Drone()"
   ]
  },
  {
   "cell_type": "code",
   "execution_count": 9,
   "id": "973a5f68-4580-45aa-bacc-1f81b53c9604",
   "metadata": {},
   "outputs": [],
   "source": [
    "d1.type = 'battery'"
   ]
  },
  {
   "cell_type": "code",
   "execution_count": 10,
   "id": "6144732e-090a-404a-aacb-4670f8d28651",
   "metadata": {},
   "outputs": [
    {
     "data": {
      "text/plain": [
       "'battery'"
      ]
     },
     "execution_count": 10,
     "metadata": {},
     "output_type": "execute_result"
    }
   ],
   "source": [
    "d1.type"
   ]
  },
  {
   "cell_type": "code",
   "execution_count": 11,
   "id": "acb1b029-3008-4305-9e5a-07a14855aff4",
   "metadata": {},
   "outputs": [],
   "source": [
    "d1.power_system = 'battery'"
   ]
  },
  {
   "cell_type": "code",
   "execution_count": 13,
   "id": "7840d933-4d76-44e0-822f-e8f86227f3c2",
   "metadata": {},
   "outputs": [],
   "source": [
    "d2 = Drone()"
   ]
  },
  {
   "cell_type": "code",
   "execution_count": 14,
   "id": "36f3f82a-ae17-420f-ab50-08415e375dbb",
   "metadata": {},
   "outputs": [],
   "source": [
    "d2.power_system = 'electric'"
   ]
  },
  {
   "cell_type": "code",
   "execution_count": 15,
   "id": "87ed265a-24e7-4983-9fa6-e86594e8f01e",
   "metadata": {},
   "outputs": [
    {
     "data": {
      "text/plain": [
       "'electric'"
      ]
     },
     "execution_count": 15,
     "metadata": {},
     "output_type": "execute_result"
    }
   ],
   "source": [
    "d2.power_system"
   ]
  },
  {
   "cell_type": "code",
   "execution_count": 17,
   "id": "0019e54b-04ad-4e46-b4bb-1ad72ab47a20",
   "metadata": {},
   "outputs": [],
   "source": [
    "Drone.power_system = 'Any source of power'"
   ]
  },
  {
   "cell_type": "code",
   "execution_count": 18,
   "id": "b73304a1-5f14-45bb-8956-88fa0946d685",
   "metadata": {},
   "outputs": [],
   "source": [
    "d3 = Drone()"
   ]
  },
  {
   "cell_type": "code",
   "execution_count": 20,
   "id": "7f32e32b-4f22-4caf-8ed2-2101299efb54",
   "metadata": {},
   "outputs": [
    {
     "data": {
      "text/plain": [
       "['__class__',\n",
       " '__delattr__',\n",
       " '__dict__',\n",
       " '__dir__',\n",
       " '__doc__',\n",
       " '__eq__',\n",
       " '__format__',\n",
       " '__ge__',\n",
       " '__getattribute__',\n",
       " '__gt__',\n",
       " '__hash__',\n",
       " '__init__',\n",
       " '__init_subclass__',\n",
       " '__le__',\n",
       " '__lt__',\n",
       " '__module__',\n",
       " '__ne__',\n",
       " '__new__',\n",
       " '__reduce__',\n",
       " '__reduce_ex__',\n",
       " '__repr__',\n",
       " '__setattr__',\n",
       " '__sizeof__',\n",
       " '__str__',\n",
       " '__subclasshook__',\n",
       " '__weakref__',\n",
       " 'power_system']"
      ]
     },
     "execution_count": 20,
     "metadata": {},
     "output_type": "execute_result"
    }
   ],
   "source": [
    "dir(d3)"
   ]
  },
  {
   "cell_type": "code",
   "execution_count": 21,
   "id": "10633921-f18b-4134-b0ca-edcaa432dcf3",
   "metadata": {},
   "outputs": [
    {
     "data": {
      "text/plain": [
       "'Any source of power'"
      ]
     },
     "execution_count": 21,
     "metadata": {},
     "output_type": "execute_result"
    }
   ],
   "source": [
    "d3.power_system"
   ]
  },
  {
   "cell_type": "code",
   "execution_count": 22,
   "id": "74b65489-d9f8-4268-99ed-02c0dd602e65",
   "metadata": {},
   "outputs": [],
   "source": [
    "d3.power_system = 'overriding power system from class'"
   ]
  },
  {
   "cell_type": "code",
   "execution_count": 23,
   "id": "4942f91d-43d2-4de0-a9ed-b82dcc4b40db",
   "metadata": {},
   "outputs": [
    {
     "data": {
      "text/plain": [
       "'overriding power system from class'"
      ]
     },
     "execution_count": 23,
     "metadata": {},
     "output_type": "execute_result"
    }
   ],
   "source": [
    "d3.power_system"
   ]
  },
  {
   "cell_type": "code",
   "execution_count": 24,
   "id": "54c935bc-a77b-4278-a857-b8fa9dc9e595",
   "metadata": {},
   "outputs": [],
   "source": [
    "d1.altitude = 100\n",
    "d2.altitude = 200"
   ]
  },
  {
   "cell_type": "code",
   "execution_count": 25,
   "id": "b386e9c5-bbf6-4255-a969-6695e6213850",
   "metadata": {},
   "outputs": [],
   "source": [
    "d3.altitude = 300"
   ]
  },
  {
   "cell_type": "code",
   "execution_count": 28,
   "id": "2754c29b-0f5e-4f7c-b9b3-cb71f09ee4ae",
   "metadata": {},
   "outputs": [
    {
     "data": {
      "text/plain": [
       "100"
      ]
     },
     "execution_count": 28,
     "metadata": {},
     "output_type": "execute_result"
    }
   ],
   "source": [
    "d1.altitude"
   ]
  },
  {
   "cell_type": "markdown",
   "id": "ca5c6d85-6e58-4b85-a82b-0e2b045f9310",
   "metadata": {},
   "source": [
    "---"
   ]
  },
  {
   "cell_type": "code",
   "execution_count": 29,
   "id": "baaba5ac-c7cd-4218-aa0e-f83820aae45c",
   "metadata": {},
   "outputs": [],
   "source": [
    "class Animal:\n",
    "    pass"
   ]
  },
  {
   "cell_type": "code",
   "execution_count": 30,
   "id": "f179f841-2f77-43f6-8bf9-3d8728ae23f9",
   "metadata": {},
   "outputs": [],
   "source": [
    "a1 = Animal()"
   ]
  },
  {
   "cell_type": "code",
   "execution_count": 31,
   "id": "303dba02-c0ed-49d9-8d6d-19bf075f20b8",
   "metadata": {},
   "outputs": [],
   "source": [
    "a2 = Animal()"
   ]
  },
  {
   "cell_type": "code",
   "execution_count": 33,
   "id": "bc9b2503-0cf3-48f0-ba44-1b5d29278535",
   "metadata": {},
   "outputs": [],
   "source": [
    "a1.type = 'Donkey'"
   ]
  },
  {
   "cell_type": "code",
   "execution_count": 34,
   "id": "1fc62fc2-9a88-427e-b1a3-5b7b42a4d3e5",
   "metadata": {},
   "outputs": [],
   "source": [
    "Animal.type = \"Any animal\""
   ]
  },
  {
   "cell_type": "code",
   "execution_count": 35,
   "id": "8eba6499-d307-41f4-9159-6c96b86823f4",
   "metadata": {},
   "outputs": [],
   "source": [
    "a2.type = 'Monkey'"
   ]
  },
  {
   "cell_type": "code",
   "execution_count": 36,
   "id": "85089f39-86a2-4619-82b7-45a571367447",
   "metadata": {},
   "outputs": [
    {
     "data": {
      "text/plain": [
       "'Donkey'"
      ]
     },
     "execution_count": 36,
     "metadata": {},
     "output_type": "execute_result"
    }
   ],
   "source": [
    "a1.type"
   ]
  },
  {
   "cell_type": "code",
   "execution_count": 37,
   "id": "40da9e87-7c4d-4fcf-822a-0a624bc513c5",
   "metadata": {},
   "outputs": [],
   "source": [
    "a1.region = \"USA\""
   ]
  },
  {
   "cell_type": "code",
   "execution_count": 38,
   "id": "db443239-6b0a-4b79-9842-616be9c57d54",
   "metadata": {},
   "outputs": [],
   "source": [
    "a2.region = 'India'"
   ]
  },
  {
   "cell_type": "code",
   "execution_count": 39,
   "id": "3f9d3e77-ca1d-4c2f-ba2d-300468cf4a0f",
   "metadata": {},
   "outputs": [],
   "source": [
    "a1.species = 'Home Sapiens'"
   ]
  },
  {
   "cell_type": "code",
   "execution_count": 42,
   "id": "a4e49e3f-bc4c-459c-b894-e019fd15ded9",
   "metadata": {},
   "outputs": [],
   "source": [
    "Animal.species = 'Default species here'"
   ]
  },
  {
   "cell_type": "code",
   "execution_count": 41,
   "id": "d7415ecc-2ad2-4ca5-90f8-f4d8a05c0407",
   "metadata": {},
   "outputs": [
    {
     "name": "stdout",
     "output_type": "stream",
     "text": [
      "Donkey Home Sapiens USA\n"
     ]
    }
   ],
   "source": [
    "print(a1.type, a1.species, a1.region)"
   ]
  },
  {
   "cell_type": "code",
   "execution_count": 43,
   "id": "ed8bfe7b-4182-4090-b9ec-9846dd34fc8a",
   "metadata": {},
   "outputs": [],
   "source": [
    "a4 = Animal()"
   ]
  },
  {
   "cell_type": "code",
   "execution_count": 45,
   "id": "caaf8d2e-3453-4b2a-90a4-12b454aa64c0",
   "metadata": {
    "collapsed": true,
    "jupyter": {
     "outputs_hidden": true
    },
    "tags": []
   },
   "outputs": [
    {
     "data": {
      "text/plain": [
       "['__class__',\n",
       " '__delattr__',\n",
       " '__dict__',\n",
       " '__dir__',\n",
       " '__doc__',\n",
       " '__eq__',\n",
       " '__format__',\n",
       " '__ge__',\n",
       " '__getattribute__',\n",
       " '__gt__',\n",
       " '__hash__',\n",
       " '__init__',\n",
       " '__init_subclass__',\n",
       " '__le__',\n",
       " '__lt__',\n",
       " '__module__',\n",
       " '__ne__',\n",
       " '__new__',\n",
       " '__reduce__',\n",
       " '__reduce_ex__',\n",
       " '__repr__',\n",
       " '__setattr__',\n",
       " '__sizeof__',\n",
       " '__str__',\n",
       " '__subclasshook__',\n",
       " '__weakref__',\n",
       " 'species',\n",
       " 'type']"
      ]
     },
     "execution_count": 45,
     "metadata": {},
     "output_type": "execute_result"
    }
   ],
   "source": [
    "dir(a4)"
   ]
  },
  {
   "cell_type": "code",
   "execution_count": 46,
   "id": "0b340fb4-c574-4611-be1d-8e46f8cde049",
   "metadata": {},
   "outputs": [],
   "source": [
    "Animal.genus = 'Sapiens'"
   ]
  },
  {
   "cell_type": "code",
   "execution_count": 47,
   "id": "c8cfcece-ed11-4935-b196-b7c0c115847b",
   "metadata": {},
   "outputs": [
    {
     "data": {
      "text/plain": [
       "'Sapiens'"
      ]
     },
     "execution_count": 47,
     "metadata": {},
     "output_type": "execute_result"
    }
   ],
   "source": [
    "a1.genus"
   ]
  },
  {
   "cell_type": "code",
   "execution_count": 48,
   "id": "41aa12db-4e84-4e61-add4-9abef9f08e85",
   "metadata": {
    "collapsed": true,
    "jupyter": {
     "outputs_hidden": true
    },
    "tags": []
   },
   "outputs": [
    {
     "data": {
      "text/plain": [
       "['__class__',\n",
       " '__delattr__',\n",
       " '__dict__',\n",
       " '__dir__',\n",
       " '__doc__',\n",
       " '__eq__',\n",
       " '__format__',\n",
       " '__ge__',\n",
       " '__getattribute__',\n",
       " '__gt__',\n",
       " '__hash__',\n",
       " '__init__',\n",
       " '__init_subclass__',\n",
       " '__le__',\n",
       " '__lt__',\n",
       " '__module__',\n",
       " '__ne__',\n",
       " '__new__',\n",
       " '__reduce__',\n",
       " '__reduce_ex__',\n",
       " '__repr__',\n",
       " '__setattr__',\n",
       " '__sizeof__',\n",
       " '__str__',\n",
       " '__subclasshook__',\n",
       " '__weakref__',\n",
       " 'genus',\n",
       " 'species',\n",
       " 'type']"
      ]
     },
     "execution_count": 48,
     "metadata": {},
     "output_type": "execute_result"
    }
   ],
   "source": [
    "dir(Animal)"
   ]
  },
  {
   "cell_type": "code",
   "execution_count": 49,
   "id": "37a76b30-b2a5-48de-9574-ee984ccc3eb0",
   "metadata": {
    "collapsed": true,
    "jupyter": {
     "outputs_hidden": true
    },
    "tags": []
   },
   "outputs": [
    {
     "data": {
      "text/plain": [
       "['__class__',\n",
       " '__delattr__',\n",
       " '__dict__',\n",
       " '__dir__',\n",
       " '__doc__',\n",
       " '__eq__',\n",
       " '__format__',\n",
       " '__ge__',\n",
       " '__getattribute__',\n",
       " '__gt__',\n",
       " '__hash__',\n",
       " '__init__',\n",
       " '__init_subclass__',\n",
       " '__le__',\n",
       " '__lt__',\n",
       " '__module__',\n",
       " '__ne__',\n",
       " '__new__',\n",
       " '__reduce__',\n",
       " '__reduce_ex__',\n",
       " '__repr__',\n",
       " '__setattr__',\n",
       " '__sizeof__',\n",
       " '__str__',\n",
       " '__subclasshook__',\n",
       " '__weakref__',\n",
       " 'genus',\n",
       " 'region',\n",
       " 'species',\n",
       " 'type']"
      ]
     },
     "execution_count": 49,
     "metadata": {},
     "output_type": "execute_result"
    }
   ],
   "source": [
    "dir(a1)"
   ]
  },
  {
   "cell_type": "code",
   "execution_count": 50,
   "id": "50215499-fd56-4722-a438-db9d8811974a",
   "metadata": {},
   "outputs": [
    {
     "data": {
      "text/plain": [
       "__main__.Animal"
      ]
     },
     "execution_count": 50,
     "metadata": {},
     "output_type": "execute_result"
    }
   ],
   "source": [
    "a1.__class__"
   ]
  },
  {
   "cell_type": "code",
   "execution_count": 52,
   "id": "3930fb02-5a89-4a9e-a591-beb8a8d83cb6",
   "metadata": {},
   "outputs": [
    {
     "data": {
      "text/plain": [
       "{'type': 'Donkey', 'region': 'USA', 'species': 'Home Sapiens'}"
      ]
     },
     "execution_count": 52,
     "metadata": {},
     "output_type": "execute_result"
    }
   ],
   "source": [
    "a1.__dict__"
   ]
  },
  {
   "cell_type": "code",
   "execution_count": 53,
   "id": "721302a7-d793-4a22-a970-26918e88d2ca",
   "metadata": {},
   "outputs": [
    {
     "data": {
      "text/plain": [
       "{'type': 'Monkey', 'region': 'India'}"
      ]
     },
     "execution_count": 53,
     "metadata": {},
     "output_type": "execute_result"
    }
   ],
   "source": [
    "a2.__dict__"
   ]
  },
  {
   "cell_type": "code",
   "execution_count": 55,
   "id": "712f3ec2-28a2-4824-b271-f395c2b901dd",
   "metadata": {},
   "outputs": [
    {
     "data": {
      "text/plain": [
       "{}"
      ]
     },
     "execution_count": 55,
     "metadata": {},
     "output_type": "execute_result"
    }
   ],
   "source": [
    "a4.__dict__"
   ]
  },
  {
   "cell_type": "markdown",
   "id": "c88c8a81-1ced-4416-805c-389c27a4244b",
   "metadata": {},
   "source": [
    "---"
   ]
  },
  {
   "cell_type": "code",
   "execution_count": 63,
   "id": "6e1a25f7-38dc-4623-8ca0-95cb000c714d",
   "metadata": {},
   "outputs": [],
   "source": [
    "class Drone:\n",
    "    \n",
    "    power_system = 'battery'\n",
    "    \n",
    "    def fly(self):\n",
    "        return \"this drone is flying\""
   ]
  },
  {
   "cell_type": "code",
   "execution_count": 64,
   "id": "6f9b277a-1db5-49f8-b6a6-3da3b025d0c7",
   "metadata": {},
   "outputs": [],
   "source": [
    "d11 = Drone()"
   ]
  },
  {
   "cell_type": "code",
   "execution_count": 65,
   "id": "e31985dd-448c-402c-b9ce-c9d79d47e988",
   "metadata": {},
   "outputs": [
    {
     "name": "stdout",
     "output_type": "stream",
     "text": [
      "this drone is flying\n"
     ]
    }
   ],
   "source": [
    "print(d11.fly())"
   ]
  },
  {
   "cell_type": "code",
   "execution_count": 66,
   "id": "b0660968-074f-4c34-8e5d-da73ee2a5e30",
   "metadata": {},
   "outputs": [
    {
     "data": {
      "text/plain": [
       "'this drone is flying'"
      ]
     },
     "execution_count": 66,
     "metadata": {},
     "output_type": "execute_result"
    }
   ],
   "source": [
    "d11.fly()"
   ]
  },
  {
   "cell_type": "code",
   "execution_count": 99,
   "id": "4da7a265-cc30-4f60-9668-aa0b94d1dbbb",
   "metadata": {},
   "outputs": [],
   "source": [
    "class Drone:\n",
    "    \n",
    "    power_system = 'battery'\n",
    "    count = 10\n",
    "    \n",
    "    def fly():\n",
    "        return \"how are you doing\"\n",
    "#        return \"this drone is flying with a \", self.power_system#, count+=20\n",
    "        "
   ]
  },
  {
   "cell_type": "code",
   "execution_count": 74,
   "id": "bfe8dfb3-be33-4346-ab2c-672ee05fe732",
   "metadata": {},
   "outputs": [
    {
     "data": {
      "text/plain": [
       "'this drone is flying'"
      ]
     },
     "execution_count": 74,
     "metadata": {},
     "output_type": "execute_result"
    }
   ],
   "source": [
    "d11.fly()"
   ]
  },
  {
   "cell_type": "code",
   "execution_count": 80,
   "id": "3c649bd8-6d19-451e-b4c3-aaf3d2c21e74",
   "metadata": {},
   "outputs": [],
   "source": [
    "d12 = Drone()"
   ]
  },
  {
   "cell_type": "code",
   "execution_count": 81,
   "id": "bcd71446-101e-4696-b729-6bee47a47d6b",
   "metadata": {},
   "outputs": [
    {
     "data": {
      "text/plain": [
       "'how are you doing'"
      ]
     },
     "execution_count": 81,
     "metadata": {},
     "output_type": "execute_result"
    }
   ],
   "source": [
    "d12.fly()"
   ]
  },
  {
   "cell_type": "code",
   "execution_count": 77,
   "id": "8a6c1ff5-3379-4e61-870f-c24693a79c04",
   "metadata": {},
   "outputs": [],
   "source": [
    "d13 = Drone()"
   ]
  },
  {
   "cell_type": "code",
   "execution_count": 78,
   "id": "faaae0c5-0254-4197-8ed1-6f6b46b0e7ce",
   "metadata": {},
   "outputs": [
    {
     "data": {
      "text/plain": [
       "('this drone is flying with a ', 'battery')"
      ]
     },
     "execution_count": 78,
     "metadata": {},
     "output_type": "execute_result"
    }
   ],
   "source": [
    "d13.fly()"
   ]
  },
  {
   "cell_type": "code",
   "execution_count": 100,
   "id": "ba24e5db-b6c5-460b-8dc7-20c40ac15bd6",
   "metadata": {},
   "outputs": [],
   "source": [
    "d14 = Drone()"
   ]
  },
  {
   "cell_type": "code",
   "execution_count": 101,
   "id": "11256f59-0523-471f-99d1-dd39c1989af8",
   "metadata": {},
   "outputs": [
    {
     "data": {
      "text/plain": [
       "'battery'"
      ]
     },
     "execution_count": 101,
     "metadata": {},
     "output_type": "execute_result"
    }
   ],
   "source": [
    "d14.power_system"
   ]
  },
  {
   "cell_type": "code",
   "execution_count": 102,
   "id": "9560891d-b00c-498f-a57b-6e32eb310da3",
   "metadata": {},
   "outputs": [
    {
     "ename": "TypeError",
     "evalue": "fly() takes 0 positional arguments but 1 was given",
     "output_type": "error",
     "traceback": [
      "\u001b[0;31m---------------------------------------------------------------------------\u001b[0m",
      "\u001b[0;31mTypeError\u001b[0m                                 Traceback (most recent call last)",
      "\u001b[0;32m/var/folders/hb/f2vn4dyn2_n5b7z6g7g6zwx00000gn/T/ipykernel_21772/428786215.py\u001b[0m in \u001b[0;36m<module>\u001b[0;34m\u001b[0m\n\u001b[0;32m----> 1\u001b[0;31m \u001b[0md14\u001b[0m\u001b[0;34m.\u001b[0m\u001b[0mfly\u001b[0m\u001b[0;34m(\u001b[0m\u001b[0;34m)\u001b[0m\u001b[0;34m\u001b[0m\u001b[0;34m\u001b[0m\u001b[0m\n\u001b[0m",
      "\u001b[0;31mTypeError\u001b[0m: fly() takes 0 positional arguments but 1 was given"
     ]
    }
   ],
   "source": [
    "d14.fly()"
   ]
  },
  {
   "cell_type": "code",
   "execution_count": 91,
   "id": "ee8f13ad-a3ac-4e43-8461-7c8a00df8c88",
   "metadata": {},
   "outputs": [],
   "source": [
    "d15 = Drone()"
   ]
  },
  {
   "cell_type": "code",
   "execution_count": 92,
   "id": "a8961690-d99e-48a5-9324-d6f6ec83c3bc",
   "metadata": {},
   "outputs": [
    {
     "data": {
      "text/plain": [
       "{}"
      ]
     },
     "execution_count": 92,
     "metadata": {},
     "output_type": "execute_result"
    }
   ],
   "source": [
    "d15.__dict__"
   ]
  },
  {
   "cell_type": "code",
   "execution_count": 93,
   "id": "1ce25b60-c27b-47a6-a441-f1c2a6661df4",
   "metadata": {},
   "outputs": [
    {
     "data": {
      "text/plain": [
       "'battery'"
      ]
     },
     "execution_count": 93,
     "metadata": {},
     "output_type": "execute_result"
    }
   ],
   "source": [
    "d15.power_system"
   ]
  },
  {
   "cell_type": "code",
   "execution_count": 355,
   "id": "b63386e2-17f2-4c59-ae28-5b68c11c8c13",
   "metadata": {},
   "outputs": [],
   "source": [
    "class Drone:\n",
    "    \n",
    "    power_system = \"battery\"\n",
    "    altitude = 0\n",
    "    \n",
    "    # define a method\n",
    "    # use the self attribute to access power_system\n",
    "    \n",
    "    \n",
    "    def mfg(self, producer, serial):\n",
    "        self.maker = producer\n",
    "        self.target = 'Hello'\n",
    "        self.counter = serial+10\n",
    "#        return counter, target\n",
    "    \n",
    "    def fly(self):\n",
    "        \n",
    "        return \"The \" + self.power_system + \" - powered drone is flying at an altitude of \", self.altitude,\\\n",
    "    \"produced by\", self.maker, self.counter, self.target, 'the animal is', self.animal\n",
    "    \n",
    "    def ascend(self, change): #, producer):\n",
    "        \n",
    "#        self.altitude += change\n",
    "#        self.happiness = \"I am happy\"\n",
    "        #new attribute defined here, referencing the power_system (defined above)\n",
    "        # happiness = self.power_system\n",
    "        # return 'I am in a', happiness\n",
    "        self.altitude +=change\n",
    "#        self.maker = producer\n",
    "        name = ' Hannah'\n",
    "        return name\n",
    "    \n",
    "    def just(self, animal):\n",
    "        self.animal = animal\n",
    "        return 'this is the animal', animal\n",
    "        pass\n"
   ]
  },
  {
   "cell_type": "code",
   "execution_count": 356,
   "id": "21d5ae59-d7d5-4ba9-972f-c6177eb80ed3",
   "metadata": {},
   "outputs": [],
   "source": [
    "d1 = Drone()"
   ]
  },
  {
   "cell_type": "code",
   "execution_count": 357,
   "id": "42d592af-2662-4792-a56a-aa045a295934",
   "metadata": {},
   "outputs": [],
   "source": [
    "d1.mfg('Hello', 123)"
   ]
  },
  {
   "cell_type": "code",
   "execution_count": 358,
   "id": "35ab4b23-d0df-408f-99ba-913f257179e4",
   "metadata": {},
   "outputs": [
    {
     "data": {
      "text/plain": [
       "'Hello'"
      ]
     },
     "execution_count": 358,
     "metadata": {},
     "output_type": "execute_result"
    }
   ],
   "source": [
    "d1.maker"
   ]
  },
  {
   "cell_type": "code",
   "execution_count": 363,
   "id": "c021abdd-17e2-4816-bc11-1e1662d00d81",
   "metadata": {},
   "outputs": [
    {
     "data": {
      "text/plain": [
       "('The battery - powered drone is flying at an altitude of ',\n",
       " 100,\n",
       " 'produced by',\n",
       " 'Hello',\n",
       " 133,\n",
       " 'Hello',\n",
       " 'the animal is',\n",
       " 'd')"
      ]
     },
     "execution_count": 363,
     "metadata": {},
     "output_type": "execute_result"
    }
   ],
   "source": [
    "d1.fly()"
   ]
  },
  {
   "cell_type": "code",
   "execution_count": 364,
   "id": "af1284ed-5c40-4595-bc68-de8de6a9a7e8",
   "metadata": {},
   "outputs": [
    {
     "data": {
      "text/plain": [
       "' Hannah'"
      ]
     },
     "execution_count": 364,
     "metadata": {},
     "output_type": "execute_result"
    }
   ],
   "source": [
    "d1.ascend(100) #, 'RCA')"
   ]
  },
  {
   "cell_type": "code",
   "execution_count": 365,
   "id": "bdd79214-ca34-48b5-b432-e02d2973b833",
   "metadata": {},
   "outputs": [
    {
     "data": {
      "text/plain": [
       "('The battery - powered drone is flying at an altitude of ',\n",
       " 200,\n",
       " 'produced by',\n",
       " 'Hello',\n",
       " 133,\n",
       " 'Hello',\n",
       " 'the animal is',\n",
       " 'd')"
      ]
     },
     "execution_count": 365,
     "metadata": {},
     "output_type": "execute_result"
    }
   ],
   "source": [
    "d1.fly()"
   ]
  },
  {
   "cell_type": "code",
   "execution_count": 360,
   "id": "34f01167-a294-4a00-bf81-a6bdb873db71",
   "metadata": {},
   "outputs": [
    {
     "data": {
      "text/plain": [
       "('this is the animal', 'd')"
      ]
     },
     "execution_count": 360,
     "metadata": {},
     "output_type": "execute_result"
    }
   ],
   "source": [
    "d1.just('d')"
   ]
  },
  {
   "cell_type": "code",
   "execution_count": 354,
   "id": "0c63a69c-2351-4030-a054-90ff3e7c6954",
   "metadata": {},
   "outputs": [
    {
     "data": {
      "text/plain": [
       "<bound method Drone.just of <__main__.Drone object at 0x7fe6183068d0>>"
      ]
     },
     "execution_count": 354,
     "metadata": {},
     "output_type": "execute_result"
    }
   ],
   "source": [
    "d1.just"
   ]
  },
  {
   "cell_type": "code",
   "execution_count": 289,
   "id": "0718e785-adb8-4659-a164-af385688c307",
   "metadata": {},
   "outputs": [
    {
     "data": {
      "text/plain": [
       "{'maker': 'Hello', 'altitude': 100}"
      ]
     },
     "execution_count": 289,
     "metadata": {},
     "output_type": "execute_result"
    }
   ],
   "source": [
    "d1.__dict__"
   ]
  },
  {
   "cell_type": "code",
   "execution_count": 290,
   "id": "6310b919-ecf1-4d59-abb0-497ad918215e",
   "metadata": {},
   "outputs": [
    {
     "data": {
      "text/plain": [
       "'battery'"
      ]
     },
     "execution_count": 290,
     "metadata": {},
     "output_type": "execute_result"
    }
   ],
   "source": [
    "d1.power_system"
   ]
  },
  {
   "cell_type": "code",
   "execution_count": 299,
   "id": "0990c2d3-c3b8-4617-bc35-2b5bf98019f1",
   "metadata": {},
   "outputs": [],
   "source": [
    "d2 = Drone()"
   ]
  },
  {
   "cell_type": "code",
   "execution_count": 300,
   "id": "9d8a24f9-6c0c-47a7-8969-de483aac84d1",
   "metadata": {},
   "outputs": [
    {
     "data": {
      "text/plain": [
       "(1244, 'Hello')"
      ]
     },
     "execution_count": 300,
     "metadata": {},
     "output_type": "execute_result"
    }
   ],
   "source": [
    "d2.mfg(\"sdfd\", 1234)"
   ]
  },
  {
   "cell_type": "code",
   "execution_count": 301,
   "id": "4606386c-0ccc-4bd3-a981-daca4b1cb893",
   "metadata": {},
   "outputs": [
    {
     "ename": "AttributeError",
     "evalue": "type object 'Drone' has no attribute 'counter'",
     "output_type": "error",
     "traceback": [
      "\u001b[0;31m---------------------------------------------------------------------------\u001b[0m",
      "\u001b[0;31mAttributeError\u001b[0m                            Traceback (most recent call last)",
      "\u001b[0;32m/var/folders/hb/f2vn4dyn2_n5b7z6g7g6zwx00000gn/T/ipykernel_21772/2664254152.py\u001b[0m in \u001b[0;36m<module>\u001b[0;34m\u001b[0m\n\u001b[0;32m----> 1\u001b[0;31m \u001b[0mDrone\u001b[0m\u001b[0;34m.\u001b[0m\u001b[0mcounter\u001b[0m\u001b[0;34m\u001b[0m\u001b[0;34m\u001b[0m\u001b[0m\n\u001b[0m",
      "\u001b[0;31mAttributeError\u001b[0m: type object 'Drone' has no attribute 'counter'"
     ]
    }
   ],
   "source": [
    "Drone.counter"
   ]
  },
  {
   "cell_type": "markdown",
   "id": "1f3f8ca3-88df-49b9-941e-a747e646d3ae",
   "metadata": {},
   "source": [
    "---"
   ]
  },
  {
   "cell_type": "code",
   "execution_count": 246,
   "id": "1c676329-d8bd-4022-b1b3-d1f584c15921",
   "metadata": {},
   "outputs": [
    {
     "name": "stdout",
     "output_type": "stream",
     "text": [
      "I am happy\n"
     ]
    },
    {
     "ename": "TypeError",
     "evalue": "unsupported operand type(s) for +=: 'builtin_function_or_method' and 'int'",
     "output_type": "error",
     "traceback": [
      "\u001b[0;31m---------------------------------------------------------------------------\u001b[0m",
      "\u001b[0;31mTypeError\u001b[0m                                 Traceback (most recent call last)",
      "Input \u001b[0;32mIn [246]\u001b[0m, in \u001b[0;36m<cell line: 1>\u001b[0;34m()\u001b[0m\n\u001b[0;32m----> 1\u001b[0m \u001b[38;5;28;01mclass\u001b[39;00m \u001b[38;5;21;01mDrone\u001b[39;00m():\n\u001b[1;32m      3\u001b[0m     \u001b[38;5;28mprint\u001b[39m(\u001b[38;5;124m\"\u001b[39m\u001b[38;5;124mI am happy\u001b[39m\u001b[38;5;124m\"\u001b[39m)\n\u001b[1;32m      4\u001b[0m     category \u001b[38;5;241m=\u001b[39m \u001b[38;5;124m'\u001b[39m\u001b[38;5;124mDrone\u001b[39m\u001b[38;5;124m'\u001b[39m\n",
      "Input \u001b[0;32mIn [246]\u001b[0m, in \u001b[0;36mDrone\u001b[0;34m()\u001b[0m\n\u001b[1;32m      7\u001b[0m total_for_all \u001b[38;5;241m=\u001b[39m \u001b[38;5;241m0\u001b[39m\n\u001b[1;32m      8\u001b[0m change \u001b[38;5;241m=\u001b[39m \u001b[38;5;241m0\u001b[39m\n\u001b[0;32m----> 9\u001b[0m \u001b[38;5;28msum\u001b[39m \u001b[38;5;241m+\u001b[39m\u001b[38;5;241m=\u001b[39m change\n\u001b[1;32m     11\u001b[0m \u001b[38;5;28;01mdef\u001b[39;00m \u001b[38;5;21mprintout\u001b[39m(\u001b[38;5;28mself\u001b[39m):\n\u001b[1;32m     12\u001b[0m     \u001b[38;5;28;01mreturn\u001b[39;00m \u001b[38;5;124m'\u001b[39m\u001b[38;5;124mthe drone is flying at \u001b[39m\u001b[38;5;124m'\u001b[39m, \u001b[38;5;28mself\u001b[39m\u001b[38;5;241m.\u001b[39maltitude, \u001b[38;5;28mself\u001b[39m\u001b[38;5;241m.\u001b[39mmetric, \u001b[38;5;28mself\u001b[39m\u001b[38;5;241m.\u001b[39mtotal_for_all\n",
      "\u001b[0;31mTypeError\u001b[0m: unsupported operand type(s) for +=: 'builtin_function_or_method' and 'int'"
     ]
    }
   ],
   "source": [
    "class Drone():\n",
    "    \n",
    "    print(\"I am happy\")\n",
    "    category = 'Drone'\n",
    "    altitude = 0\n",
    "    metric = 0\n",
    "    total_for_all = 0\n",
    "    \n",
    "    def printout(self):\n",
    "        return 'the drone is flying at ', self.altitude, self.metric, self.total_for_all\n",
    "    \n",
    "    def fly(self,change):\n",
    "        #return \"Hello how are you\"\n",
    "        # self.altitude += change\n",
    "        # return self.altitude\n",
    "        self.altitude += change\n",
    "        print('the altitude is ',self.altitude)\n",
    "        #self.altitude += change\n",
    "        #return 'the altitude is', self.altitude\n",
    "        \n",
    "        metric = change * 10\n",
    "        new_metric = metric\n",
    "        print('the metric is ', metric)\n",
    "        print('the new metric is ', new_metric)\n",
    "        banana = change + 100\n",
    "        print('banana ', banana)\n",
    "        hello_fresh = self.altitude = 10\n",
    "        print('hello_fresh ', hello_fresh)\n",
    "        total_for_all = change * 10 # this works because running sum is not required here\n",
    "#        print(total_for_all)\n",
    "    \n",
    "    def justhi():\n",
    "        print('hi there')"
   ]
  },
  {
   "cell_type": "code",
   "execution_count": 241,
   "id": "8d819b13-96c1-4163-9b3a-8c89a7749d73",
   "metadata": {},
   "outputs": [],
   "source": [
    "d1 = Drone()"
   ]
  },
  {
   "cell_type": "code",
   "execution_count": 242,
   "id": "8d50936f-8014-4778-8ea4-faf0cb0f4793",
   "metadata": {},
   "outputs": [
    {
     "data": {
      "text/plain": [
       "'Drone'"
      ]
     },
     "execution_count": 242,
     "metadata": {},
     "output_type": "execute_result"
    }
   ],
   "source": [
    "d1.category"
   ]
  },
  {
   "cell_type": "code",
   "execution_count": 243,
   "id": "017905b8-bb3b-47a9-b73f-f6232df74847",
   "metadata": {},
   "outputs": [
    {
     "data": {
      "text/plain": [
       "'Drone'"
      ]
     },
     "execution_count": 243,
     "metadata": {},
     "output_type": "execute_result"
    }
   ],
   "source": [
    "Drone.category"
   ]
  },
  {
   "cell_type": "code",
   "execution_count": 244,
   "id": "84f9f694-daea-4afc-94ad-3997782abb8d",
   "metadata": {},
   "outputs": [
    {
     "name": "stdout",
     "output_type": "stream",
     "text": [
      "the altitude is  10\n",
      "the metric is  100\n",
      "the new metric is  100\n",
      "banana  110\n",
      "hello_fresh  10\n"
     ]
    }
   ],
   "source": [
    "d1.fly(10)"
   ]
  },
  {
   "cell_type": "code",
   "execution_count": 200,
   "id": "bded0558-7591-4b33-a6d9-9252bbcd2f7c",
   "metadata": {},
   "outputs": [
    {
     "data": {
      "text/plain": [
       "('the drone is flying at ', 10, 0, 0)"
      ]
     },
     "execution_count": 200,
     "metadata": {},
     "output_type": "execute_result"
    }
   ],
   "source": [
    "d1.printout()"
   ]
  },
  {
   "cell_type": "code",
   "execution_count": 213,
   "id": "caa2904d-9385-469f-821b-b6eaf576e75e",
   "metadata": {},
   "outputs": [
    {
     "ename": "AttributeError",
     "evalue": "type object 'Drone' has no attribute 'new_metric'",
     "output_type": "error",
     "traceback": [
      "\u001b[0;31m---------------------------------------------------------------------------\u001b[0m",
      "\u001b[0;31mAttributeError\u001b[0m                            Traceback (most recent call last)",
      "Input \u001b[0;32mIn [213]\u001b[0m, in \u001b[0;36m<cell line: 1>\u001b[0;34m()\u001b[0m\n\u001b[0;32m----> 1\u001b[0m \u001b[43mDrone\u001b[49m\u001b[38;5;241;43m.\u001b[39;49m\u001b[43mnew_metric\u001b[49m\n",
      "\u001b[0;31mAttributeError\u001b[0m: type object 'Drone' has no attribute 'new_metric'"
     ]
    }
   ],
   "source": [
    "Drone.new_metric"
   ]
  },
  {
   "cell_type": "code",
   "execution_count": 181,
   "id": "2fe10630-5902-49c3-9b5d-291625aff0a2",
   "metadata": {},
   "outputs": [
    {
     "data": {
      "text/plain": [
       "0"
      ]
     },
     "execution_count": 181,
     "metadata": {},
     "output_type": "execute_result"
    }
   ],
   "source": [
    "d1.total_for_all"
   ]
  },
  {
   "cell_type": "markdown",
   "id": "5ffb9a0a-6a7d-4f67-86ed-77cf9a9229ce",
   "metadata": {},
   "source": [
    "---"
   ]
  },
  {
   "cell_type": "code",
   "execution_count": 317,
   "id": "60e1ae94-99d9-4565-8c4d-1a0a8e765610",
   "metadata": {},
   "outputs": [],
   "source": [
    "class Drone():\n",
    "    \n",
    "    altitude = 0\n",
    "    device_type = 'Drone'\n",
    "    \n",
    "    \n",
    "    def print_common(self):\n",
    "#        return 'the device type is', device_type\n",
    "        return self.altitude\n",
    "    \n",
    "    def justprint(self):\n",
    "        \n",
    "        return \"This is a placeholder just to print the altitude which is \", self.altitude,  \\\n",
    "    'the device type is '#, device_type\n",
    "    \n",
    "    def calc_change(self, change):\n",
    "        \n",
    "        self.altitude += change\n",
    "    "
   ]
  },
  {
   "cell_type": "code",
   "execution_count": 318,
   "id": "bf6e33a8-148b-47d0-83d1-95de5ab73c1f",
   "metadata": {},
   "outputs": [],
   "source": [
    "d1 = Drone()"
   ]
  },
  {
   "cell_type": "code",
   "execution_count": 319,
   "id": "af652624-5b70-4a7c-8440-3e882d83272f",
   "metadata": {},
   "outputs": [
    {
     "data": {
      "text/plain": [
       "'Drone'"
      ]
     },
     "execution_count": 319,
     "metadata": {},
     "output_type": "execute_result"
    }
   ],
   "source": [
    "d1.device_type"
   ]
  },
  {
   "cell_type": "code",
   "execution_count": 320,
   "id": "e49285cd-c104-4c5a-a665-fcda445ea720",
   "metadata": {},
   "outputs": [
    {
     "data": {
      "text/plain": [
       "0"
      ]
     },
     "execution_count": 320,
     "metadata": {},
     "output_type": "execute_result"
    }
   ],
   "source": [
    "d1.altitude"
   ]
  },
  {
   "cell_type": "code",
   "execution_count": 324,
   "id": "84d1aa61-c79b-4b22-a442-d358831c7759",
   "metadata": {},
   "outputs": [],
   "source": [
    "d1.calc_change(100)"
   ]
  },
  {
   "cell_type": "code",
   "execution_count": 322,
   "id": "49d3c8d0-09aa-4372-87d8-b12f63ebd2ed",
   "metadata": {},
   "outputs": [
    {
     "data": {
      "text/plain": [
       "('This is a placeholder just to print the altitude which is ',\n",
       " 100,\n",
       " 'the device type is ')"
      ]
     },
     "execution_count": 322,
     "metadata": {},
     "output_type": "execute_result"
    }
   ],
   "source": [
    "d1.justprint()"
   ]
  },
  {
   "cell_type": "code",
   "execution_count": 325,
   "id": "88f600ca-af2b-4568-850c-2ecd4a4230b9",
   "metadata": {},
   "outputs": [
    {
     "data": {
      "text/plain": [
       "200"
      ]
     },
     "execution_count": 325,
     "metadata": {},
     "output_type": "execute_result"
    }
   ],
   "source": [
    "d1.print_common()"
   ]
  },
  {
   "cell_type": "markdown",
   "id": "187e1198-321d-4eaf-9045-cbfd507a9ee9",
   "metadata": {},
   "source": [
    "---"
   ]
  },
  {
   "cell_type": "code",
   "execution_count": 332,
   "id": "233c1686-b9da-41cb-bded-0b915fa9f2d7",
   "metadata": {},
   "outputs": [],
   "source": [
    "class Drone:\n",
    "    \n",
    "    altitude = 0\n",
    "    \n",
    "    def fly(self):\n",
    "        print('The drone is flying at ', self.altitude, 'feet')\n",
    "    \n",
    "    def ascend(self, change):\n",
    "        \n",
    "        self.altitude += change"
   ]
  },
  {
   "cell_type": "code",
   "execution_count": 333,
   "id": "8ab6e70e-e5b3-45fb-9590-cfdf6ab82d8d",
   "metadata": {},
   "outputs": [],
   "source": [
    "d1 = Drone()"
   ]
  },
  {
   "cell_type": "code",
   "execution_count": 338,
   "id": "eae08062-9c8e-4cfe-b082-4247e96e941c",
   "metadata": {},
   "outputs": [],
   "source": [
    "d1.ascend(100)"
   ]
  },
  {
   "cell_type": "code",
   "execution_count": 339,
   "id": "b6c6ee68-9ade-48ff-9bac-9fee7d08e202",
   "metadata": {},
   "outputs": [
    {
     "name": "stdout",
     "output_type": "stream",
     "text": [
      "The drone is flying at  300 feet\n"
     ]
    }
   ],
   "source": [
    "d1.fly()"
   ]
  },
  {
   "cell_type": "code",
   "execution_count": 340,
   "id": "239f59b5-7eb8-4d86-9e18-b398ca7f90b8",
   "metadata": {},
   "outputs": [],
   "source": [
    "d2 = Drone()"
   ]
  },
  {
   "cell_type": "code",
   "execution_count": 341,
   "id": "99dcad2e-d257-4cf0-b48e-f900f5c22a68",
   "metadata": {},
   "outputs": [
    {
     "data": {
      "text/plain": [
       "0"
      ]
     },
     "execution_count": 341,
     "metadata": {},
     "output_type": "execute_result"
    }
   ],
   "source": [
    "d2.altitude"
   ]
  },
  {
   "cell_type": "code",
   "execution_count": 343,
   "id": "506e812f-c8d9-4dce-841e-a0a2e0e6bca6",
   "metadata": {},
   "outputs": [],
   "source": [
    "d2.ascend(200)"
   ]
  },
  {
   "cell_type": "code",
   "execution_count": 344,
   "id": "ea2aa798-cc27-42c6-99c0-f1ef85c00952",
   "metadata": {},
   "outputs": [
    {
     "name": "stdout",
     "output_type": "stream",
     "text": [
      "The drone is flying at  200 feet\n"
     ]
    }
   ],
   "source": [
    "d2.fly()"
   ]
  },
  {
   "cell_type": "code",
   "execution_count": 345,
   "id": "c4c970bf-2101-42b3-b5f8-fefa54deea74",
   "metadata": {},
   "outputs": [
    {
     "data": {
      "text/plain": [
       "0"
      ]
     },
     "execution_count": 345,
     "metadata": {},
     "output_type": "execute_result"
    }
   ],
   "source": [
    "Drone.altitude"
   ]
  },
  {
   "cell_type": "code",
   "execution_count": 346,
   "id": "4026f946-997c-452e-9908-986ee09fb1d8",
   "metadata": {},
   "outputs": [],
   "source": [
    "d3 = Drone()"
   ]
  },
  {
   "cell_type": "code",
   "execution_count": 347,
   "id": "9c75fac4-a94b-42f2-b5c0-d4ed5bbf07e3",
   "metadata": {},
   "outputs": [
    {
     "name": "stdout",
     "output_type": "stream",
     "text": [
      "The drone is flying at  0 feet\n"
     ]
    }
   ],
   "source": [
    "d3.fly()"
   ]
  },
  {
   "cell_type": "code",
   "execution_count": 350,
   "id": "e05fe9bf-2bbe-4dde-97cc-018a2e71f91f",
   "metadata": {},
   "outputs": [],
   "source": [
    "d3.ascend(100)"
   ]
  },
  {
   "cell_type": "code",
   "execution_count": 351,
   "id": "0f3eb96e-ae71-4a68-86b6-ef6689f6b1fa",
   "metadata": {},
   "outputs": [
    {
     "name": "stdout",
     "output_type": "stream",
     "text": [
      "The drone is flying at  200 feet\n"
     ]
    }
   ],
   "source": [
    "d3.fly()"
   ]
  },
  {
   "cell_type": "markdown",
   "id": "976b969a-91c0-4918-84ab-a691ed4a5652",
   "metadata": {},
   "source": [
    "---"
   ]
  },
  {
   "cell_type": "code",
   "execution_count": 357,
   "id": "3cf0fe2f-dfdc-419b-a934-b682e7b3bb36",
   "metadata": {},
   "outputs": [],
   "source": [
    "class Drone():\n",
    "    \n",
    "    modeltype = 'Drone'\n",
    "    otherinfo = 'blah blah blah'\n",
    "    \n",
    "    def __init__(self, altitude, place):\n",
    "        self.altitude = altitude\n",
    "        self.place = place\n",
    "        \n",
    "    \n",
    "    def fly(self):\n",
    "        print('The drone is flying at ', self.altitude, 'feet')\n",
    "    \n",
    "    def ascend(self, change):\n",
    "        \n",
    "        self.altitude += change\n",
    "        \n",
    "    "
   ]
  },
  {
   "cell_type": "code",
   "execution_count": 358,
   "id": "e5f1374a-929c-4575-9be0-4f61fc5809b7",
   "metadata": {},
   "outputs": [],
   "source": [
    "d1 = Drone(100, 'USA')"
   ]
  },
  {
   "cell_type": "code",
   "execution_count": 360,
   "id": "9cc02006-9e1b-4260-adf6-42ae133968e9",
   "metadata": {},
   "outputs": [
    {
     "data": {
      "text/plain": [
       "'USA'"
      ]
     },
     "execution_count": 360,
     "metadata": {},
     "output_type": "execute_result"
    }
   ],
   "source": [
    "d1.place"
   ]
  },
  {
   "cell_type": "markdown",
   "id": "99e3b3a7-2e78-4f0a-8505-1afa974dafb5",
   "metadata": {},
   "source": [
    "---"
   ]
  },
  {
   "cell_type": "code",
   "execution_count": 386,
   "id": "c1914b44-a93b-45f5-9a26-21f955997a64",
   "metadata": {},
   "outputs": [],
   "source": [
    "class Drone():\n",
    "    \n",
    "    altitude = 0\n",
    "    \n",
    "    def fly(self):\n",
    "        \n",
    "        return 'just pring out the current altitude', self.altitude\n",
    "    \n",
    "    def ascend(self, change):\n",
    "        \n",
    "        self.altitude +=change\n",
    "        \n",
    "        metric = self.altitude\n",
    "        \n",
    "        return \"the metric is \", metric\n",
    "    \n",
    "    "
   ]
  },
  {
   "cell_type": "code",
   "execution_count": 387,
   "id": "45e13bbe-fa2e-4085-aff5-a94d9d7a9ca2",
   "metadata": {},
   "outputs": [],
   "source": [
    "d1 = Drone()"
   ]
  },
  {
   "cell_type": "code",
   "execution_count": 388,
   "id": "5099e9d4-1a75-47c0-806d-9d41c569eb5d",
   "metadata": {},
   "outputs": [
    {
     "data": {
      "text/plain": [
       "('just pring out the current altitude', 0)"
      ]
     },
     "execution_count": 388,
     "metadata": {},
     "output_type": "execute_result"
    }
   ],
   "source": [
    "d1.fly()"
   ]
  },
  {
   "cell_type": "code",
   "execution_count": 392,
   "id": "0fec3393-281f-4f82-a118-93d88b2720a5",
   "metadata": {},
   "outputs": [
    {
     "data": {
      "text/plain": [
       "('the metric is ', 400)"
      ]
     },
     "execution_count": 392,
     "metadata": {},
     "output_type": "execute_result"
    }
   ],
   "source": [
    "d1.ascend(100)"
   ]
  },
  {
   "cell_type": "code",
   "execution_count": 393,
   "id": "561e1362-fe7e-4b22-802b-46fe4a8d50b4",
   "metadata": {},
   "outputs": [
    {
     "data": {
      "text/plain": [
       "('just pring out the current altitude', 400)"
      ]
     },
     "execution_count": 393,
     "metadata": {},
     "output_type": "execute_result"
    }
   ],
   "source": [
    "d1.fly()"
   ]
  },
  {
   "cell_type": "code",
   "execution_count": 394,
   "id": "fa8f965f-ca3f-4e43-859f-a5d47655963c",
   "metadata": {},
   "outputs": [
    {
     "data": {
      "text/plain": [
       "400"
      ]
     },
     "execution_count": 394,
     "metadata": {},
     "output_type": "execute_result"
    }
   ],
   "source": [
    "d1.altitude"
   ]
  },
  {
   "cell_type": "code",
   "execution_count": 395,
   "id": "8f2823c6-5bd2-4531-b6ab-0efbd982b4b0",
   "metadata": {},
   "outputs": [
    {
     "ename": "AttributeError",
     "evalue": "'Drone' object has no attribute 'metric'",
     "output_type": "error",
     "traceback": [
      "\u001b[0;31m---------------------------------------------------------------------------\u001b[0m",
      "\u001b[0;31mAttributeError\u001b[0m                            Traceback (most recent call last)",
      "Input \u001b[0;32mIn [395]\u001b[0m, in \u001b[0;36m<cell line: 1>\u001b[0;34m()\u001b[0m\n\u001b[0;32m----> 1\u001b[0m \u001b[43md1\u001b[49m\u001b[38;5;241;43m.\u001b[39;49m\u001b[43mmetric\u001b[49m\n",
      "\u001b[0;31mAttributeError\u001b[0m: 'Drone' object has no attribute 'metric'"
     ]
    }
   ],
   "source": [
    "d1.metric"
   ]
  },
  {
   "cell_type": "code",
   "execution_count": 539,
   "id": "8eb71c2e-b4b3-4a32-b3cb-28e062c307b8",
   "metadata": {},
   "outputs": [],
   "source": [
    "class Drone():\n",
    "    \n",
    "    def __init__(self, altitude):\n",
    "        self.altitude = altitude\n",
    "        self.ascend_count= 0\n",
    "        \n",
    "        #return 'the altitude is ', self.altitude\n",
    "#        return 'the altitude is', self.altitude\n",
    "#        print('the altitude is', self.altitude, 'the ascend count is', self.ascend_count)\n",
    "#        car +=change\n",
    "        \n",
    "    \n",
    "    def fly(self):\n",
    "        \n",
    "#        print('just pring out the current altitude', self.altitude, 'and ascend_count is', self.ascend_count)\n",
    "        return 'just pring out the current altitude', self.altitude, 'and ascend_count is', self.ascend_count\n",
    "    \n",
    "    def ascend(self, change):\n",
    "        \n",
    "        self.altitude +=change\n",
    "        \n",
    "        metric = self.altitude\n",
    "        \n",
    "        self.ascend_count +=1\n",
    "        \n",
    "        print('the current ascend count is ', self.ascend_count)\n",
    "        \n",
    "        #return \"the metric is \", metric, \"the ascend count is \", ascend_count"
   ]
  },
  {
   "cell_type": "code",
   "execution_count": 540,
   "id": "83292962-af28-4339-b955-bf6d6c05675e",
   "metadata": {},
   "outputs": [],
   "source": [
    "d2 = Drone(100)"
   ]
  },
  {
   "cell_type": "code",
   "execution_count": 541,
   "id": "fac414a5-74dc-4a1b-95ad-121a86132966",
   "metadata": {},
   "outputs": [
    {
     "data": {
      "text/plain": [
       "100"
      ]
     },
     "execution_count": 541,
     "metadata": {},
     "output_type": "execute_result"
    }
   ],
   "source": [
    "d2.altitude"
   ]
  },
  {
   "cell_type": "code",
   "execution_count": 542,
   "id": "b37d60b6-f3c7-49f4-8c5d-dae098f96826",
   "metadata": {},
   "outputs": [
    {
     "name": "stdout",
     "output_type": "stream",
     "text": [
      "the current ascend count is  1\n",
      "the current ascend count is  2\n",
      "the current ascend count is  3\n",
      "the current ascend count is  4\n",
      "the current ascend count is  5\n"
     ]
    }
   ],
   "source": [
    "d2.ascend(100)\n",
    "d2.ascend(100)\n",
    "d2.ascend(100)\n",
    "d2.ascend(100)\n",
    "d2.ascend(100)"
   ]
  },
  {
   "cell_type": "code",
   "execution_count": null,
   "id": "fba92e6c-2ead-4dcb-a5a5-b4ea1dc7c18f",
   "metadata": {},
   "outputs": [],
   "source": []
  },
  {
   "cell_type": "code",
   "execution_count": 543,
   "id": "30bbcb14-2c96-4747-9d7a-c0490ec8dd40",
   "metadata": {},
   "outputs": [
    {
     "data": {
      "text/plain": [
       "600"
      ]
     },
     "execution_count": 543,
     "metadata": {},
     "output_type": "execute_result"
    }
   ],
   "source": [
    "d2.altitude"
   ]
  },
  {
   "cell_type": "code",
   "execution_count": 544,
   "id": "5348def1-b13b-475e-965b-265d00b83e7f",
   "metadata": {},
   "outputs": [
    {
     "data": {
      "text/plain": [
       "('just pring out the current altitude', 600, 'and ascend_count is', 5)"
      ]
     },
     "execution_count": 544,
     "metadata": {},
     "output_type": "execute_result"
    }
   ],
   "source": [
    "d2.fly()"
   ]
  },
  {
   "cell_type": "code",
   "execution_count": 577,
   "id": "ca0360a5-535d-4629-b059-d15465e87a0e",
   "metadata": {},
   "outputs": [],
   "source": [
    "class Drone():\n",
    "    \n",
    "    def __init__(self):\n",
    "        altitude = 0\n",
    "        ascend_count = 0\n",
    "        metric = 0\n",
    "        \n",
    "    def fly(self):\n",
    "        \n",
    "        return 'the drone is flying at', self.altitude\n",
    "    \n",
    "    def ascend(self, incremental_height):\n",
    "        \n",
    "#        metric += self.incremental_height\n",
    "        \n",
    "        self.altitude += self.incremental_height\n",
    "        \n",
    "#        print('the altitude is', self.altitude)\n",
    "    "
   ]
  },
  {
   "cell_type": "code",
   "execution_count": 581,
   "id": "7d1ea2b8-ce6f-4244-a0d6-263ec387b6a9",
   "metadata": {},
   "outputs": [],
   "source": [
    "d = Drone()"
   ]
  },
  {
   "cell_type": "code",
   "execution_count": 584,
   "id": "e444c593-08c6-44e3-82c3-90cabb76dd69",
   "metadata": {},
   "outputs": [
    {
     "ename": "AttributeError",
     "evalue": "'Drone' object has no attribute 'metric'",
     "output_type": "error",
     "traceback": [
      "\u001b[0;31m---------------------------------------------------------------------------\u001b[0m",
      "\u001b[0;31mAttributeError\u001b[0m                            Traceback (most recent call last)",
      "Input \u001b[0;32mIn [584]\u001b[0m, in \u001b[0;36m<cell line: 1>\u001b[0;34m()\u001b[0m\n\u001b[0;32m----> 1\u001b[0m \u001b[43md\u001b[49m\u001b[38;5;241;43m.\u001b[39;49m\u001b[43mmetric\u001b[49m\n",
      "\u001b[0;31mAttributeError\u001b[0m: 'Drone' object has no attribute 'metric'"
     ]
    }
   ],
   "source": [
    "d.metric"
   ]
  },
  {
   "cell_type": "code",
   "execution_count": 579,
   "id": "7aea6176-e403-43e5-abbf-a354be45d3aa",
   "metadata": {},
   "outputs": [
    {
     "ename": "AttributeError",
     "evalue": "'Drone' object has no attribute 'altitude'",
     "output_type": "error",
     "traceback": [
      "\u001b[0;31m---------------------------------------------------------------------------\u001b[0m",
      "\u001b[0;31mAttributeError\u001b[0m                            Traceback (most recent call last)",
      "Input \u001b[0;32mIn [579]\u001b[0m, in \u001b[0;36m<cell line: 1>\u001b[0;34m()\u001b[0m\n\u001b[0;32m----> 1\u001b[0m \u001b[43md\u001b[49m\u001b[38;5;241;43m.\u001b[39;49m\u001b[43mfly\u001b[49m\u001b[43m(\u001b[49m\u001b[43m)\u001b[49m\n",
      "Input \u001b[0;32mIn [577]\u001b[0m, in \u001b[0;36mDrone.fly\u001b[0;34m(self)\u001b[0m\n\u001b[1;32m      8\u001b[0m \u001b[38;5;28;01mdef\u001b[39;00m \u001b[38;5;21mfly\u001b[39m(\u001b[38;5;28mself\u001b[39m):\n\u001b[0;32m---> 10\u001b[0m     \u001b[38;5;28;01mreturn\u001b[39;00m \u001b[38;5;124m'\u001b[39m\u001b[38;5;124mthe drone is flying at\u001b[39m\u001b[38;5;124m'\u001b[39m, \u001b[38;5;28;43mself\u001b[39;49m\u001b[38;5;241;43m.\u001b[39;49m\u001b[43maltitude\u001b[49m\n",
      "\u001b[0;31mAttributeError\u001b[0m: 'Drone' object has no attribute 'altitude'"
     ]
    }
   ],
   "source": [
    "d.fly()"
   ]
  },
  {
   "cell_type": "code",
   "execution_count": 580,
   "id": "c6a6a203-c3db-4d34-913b-edec88ef85ba",
   "metadata": {},
   "outputs": [
    {
     "ename": "AttributeError",
     "evalue": "'Drone' object has no attribute 'altitude'",
     "output_type": "error",
     "traceback": [
      "\u001b[0;31m---------------------------------------------------------------------------\u001b[0m",
      "\u001b[0;31mAttributeError\u001b[0m                            Traceback (most recent call last)",
      "Input \u001b[0;32mIn [580]\u001b[0m, in \u001b[0;36m<cell line: 1>\u001b[0;34m()\u001b[0m\n\u001b[0;32m----> 1\u001b[0m \u001b[43md\u001b[49m\u001b[38;5;241;43m.\u001b[39;49m\u001b[43mascend\u001b[49m\u001b[43m(\u001b[49m\u001b[38;5;241;43m100\u001b[39;49m\u001b[43m)\u001b[49m\n",
      "Input \u001b[0;32mIn [577]\u001b[0m, in \u001b[0;36mDrone.ascend\u001b[0;34m(self, incremental_height)\u001b[0m\n\u001b[1;32m     12\u001b[0m     \u001b[38;5;28;01mdef\u001b[39;00m \u001b[38;5;21mascend\u001b[39m(\u001b[38;5;28mself\u001b[39m, incremental_height):\n\u001b[1;32m     13\u001b[0m         \n\u001b[1;32m     14\u001b[0m \u001b[38;5;66;03m#        metric += self.incremental_height\u001b[39;00m\n\u001b[0;32m---> 16\u001b[0m         \u001b[38;5;28mself\u001b[39m\u001b[38;5;241m.\u001b[39maltitude \u001b[38;5;241m+\u001b[39m\u001b[38;5;241m=\u001b[39m \u001b[38;5;28mself\u001b[39m\u001b[38;5;241m.\u001b[39mincremental_height\n",
      "\u001b[0;31mAttributeError\u001b[0m: 'Drone' object has no attribute 'altitude'"
     ]
    }
   ],
   "source": [
    "d.ascend(100)"
   ]
  },
  {
   "cell_type": "markdown",
   "id": "422307ee-b7c2-4350-b36e-7b5195e1ca63",
   "metadata": {},
   "source": [
    "---"
   ]
  },
  {
   "cell_type": "code",
   "execution_count": 34,
   "id": "5cf0fc4e-d786-4fee-88dd-07ab47373a8f",
   "metadata": {},
   "outputs": [],
   "source": [
    "class Drone():\n",
    "    \n",
    "    altitude = 0\n",
    "    ascend_count = 0\n",
    "    \n",
    "    def fly(self):\n",
    "        \n",
    "        return 'I am flying at', self.altitude, 'and ', self.ascend_count, 'times'\n",
    "    \n",
    "    def ascend(self, change):\n",
    "        \n",
    "        self.altitude += change\n",
    "        \n",
    "        self.ascend_count += 1\n",
    "    \n",
    "    "
   ]
  },
  {
   "cell_type": "code",
   "execution_count": 35,
   "id": "65523b1e-0666-4e15-9725-7ac9dced77e1",
   "metadata": {},
   "outputs": [],
   "source": [
    "d = Drone()"
   ]
  },
  {
   "cell_type": "code",
   "execution_count": 36,
   "id": "6aac3545-103a-4c5b-8ca6-fcb8bf343a78",
   "metadata": {},
   "outputs": [],
   "source": [
    "d.ascend(100)\n",
    "d.ascend(100)\n",
    "d.ascend(100)\n",
    "d.ascend(100)\n",
    "d.ascend(100)\n"
   ]
  },
  {
   "cell_type": "code",
   "execution_count": 37,
   "id": "ea17d08f-75af-41c3-bc82-a4b7037b8553",
   "metadata": {},
   "outputs": [
    {
     "data": {
      "text/plain": [
       "5"
      ]
     },
     "execution_count": 37,
     "metadata": {},
     "output_type": "execute_result"
    }
   ],
   "source": [
    "d.ascend_count"
   ]
  },
  {
   "cell_type": "code",
   "execution_count": 38,
   "id": "c6cc2446-39a7-45d4-817b-dff5aba08f6e",
   "metadata": {},
   "outputs": [
    {
     "data": {
      "text/plain": [
       "('I am flying at', 500, 'and ', 5, 'times')"
      ]
     },
     "execution_count": 38,
     "metadata": {},
     "output_type": "execute_result"
    }
   ],
   "source": [
    "d.fly()"
   ]
  },
  {
   "cell_type": "code",
   "execution_count": 39,
   "id": "6912c200-c5bb-4bf8-ba19-8af3b121aeeb",
   "metadata": {},
   "outputs": [
    {
     "data": {
      "text/plain": [
       "0"
      ]
     },
     "execution_count": 39,
     "metadata": {},
     "output_type": "execute_result"
    }
   ],
   "source": [
    "Drone.ascend_count"
   ]
  },
  {
   "cell_type": "code",
   "execution_count": 62,
   "id": "9b210330-4488-406e-acf0-9f61b06038bd",
   "metadata": {},
   "outputs": [],
   "source": [
    "class Drone():\n",
    "    \n",
    "    metric = 0\n",
    "    \n",
    "    def __init__(self):\n",
    "        \n",
    "        self.altitude = 0\n",
    "        self.ascend_count = 0\n",
    "    \n",
    "    def fly(self):\n",
    "        \n",
    "#        print('hello')\n",
    "#        return 'this is just for flying', self.altitude, 'count', self.ascend_count, 'metric', self.metric, \"Hello\"\n",
    "\n",
    "        print('this is just for flying', self.altitude, 'count', self.ascend_count, \"Hello\") # 'metric', self.metric,\n",
    "    \n",
    "    def ascend(self, change):\n",
    "        \n",
    "        self.altitude += change\n",
    "        \n",
    "        self.ascend_count += 1\n",
    "        \n",
    "        metric = self.altitude\n",
    "        \n",
    "#        print(metric)\n",
    "        return metric\n",
    "        \n",
    "    \n",
    "    \n",
    "    "
   ]
  },
  {
   "cell_type": "code",
   "execution_count": 63,
   "id": "9c90f2fa-bc3d-47f6-b7e9-254e3be6b464",
   "metadata": {},
   "outputs": [],
   "source": [
    "d1 = Drone()"
   ]
  },
  {
   "cell_type": "code",
   "execution_count": 64,
   "id": "1caa74ac-d229-4526-a961-f1e3fd613020",
   "metadata": {},
   "outputs": [
    {
     "data": {
      "text/plain": [
       "0"
      ]
     },
     "execution_count": 64,
     "metadata": {},
     "output_type": "execute_result"
    }
   ],
   "source": [
    "d1.metric"
   ]
  },
  {
   "cell_type": "code",
   "execution_count": 65,
   "id": "fe254862-df8e-442f-8edf-3da27c69d6b0",
   "metadata": {},
   "outputs": [
    {
     "data": {
      "text/plain": [
       "0"
      ]
     },
     "execution_count": 65,
     "metadata": {},
     "output_type": "execute_result"
    }
   ],
   "source": [
    "d1.altitude"
   ]
  },
  {
   "cell_type": "code",
   "execution_count": 66,
   "id": "2c455af0-abdb-453a-9c56-b460f8e16573",
   "metadata": {},
   "outputs": [
    {
     "name": "stdout",
     "output_type": "stream",
     "text": [
      "this is just for flying 0 count 0 Hello\n"
     ]
    }
   ],
   "source": [
    "d1.fly()"
   ]
  },
  {
   "cell_type": "code",
   "execution_count": 67,
   "id": "3a8690a3-ee06-464e-aac9-3aed7d420f18",
   "metadata": {},
   "outputs": [
    {
     "data": {
      "text/plain": [
       "500"
      ]
     },
     "execution_count": 67,
     "metadata": {},
     "output_type": "execute_result"
    }
   ],
   "source": [
    "d1.ascend(100)\n",
    "d1.ascend(100)\n",
    "d1.ascend(100)\n",
    "d1.ascend(100)\n",
    "d1.ascend(100)"
   ]
  },
  {
   "cell_type": "markdown",
   "id": "a921cc20-9078-4a12-948b-a2857861880a",
   "metadata": {},
   "source": [
    "---"
   ]
  },
  {
   "cell_type": "code",
   "execution_count": 116,
   "id": "e6d5cb43-626a-409c-a304-83d6df6175d1",
   "metadata": {},
   "outputs": [],
   "source": [
    "class Drone():\n",
    "    \n",
    "    drone_count = 0\n",
    "    \n",
    "    def __init__(self):\n",
    "        \n",
    "        self.altitude = 0\n",
    "        self.ascend_count = 0\n",
    "        self.country = 'USA'\n",
    "        self.power_supply = 'battery'\n",
    "#        self.drone_count += 1\n",
    "        Drone.drone_count += 1\n",
    "    \n",
    "    def fly(self):\n",
    "        \n",
    "        return 'the drone is flying at', self.altitude, 'and count is', self.ascend_count\n",
    "    \n",
    "    \n",
    "    def ascend(self, change):\n",
    "        \n",
    "        self.altitude += change\n",
    "        self.ascend_count += 1\n",
    "    "
   ]
  },
  {
   "cell_type": "code",
   "execution_count": 117,
   "id": "46a97559-bdee-4f14-ae86-0854a514545e",
   "metadata": {},
   "outputs": [],
   "source": [
    "d = Drone()"
   ]
  },
  {
   "cell_type": "code",
   "execution_count": 102,
   "id": "e7d4a006-f763-4a6f-82b7-bcbcf730f01e",
   "metadata": {},
   "outputs": [
    {
     "data": {
      "text/plain": [
       "0"
      ]
     },
     "execution_count": 102,
     "metadata": {},
     "output_type": "execute_result"
    }
   ],
   "source": [
    "d.ascend_count"
   ]
  },
  {
   "cell_type": "code",
   "execution_count": 103,
   "id": "a50474a7-ccd5-4a0b-8190-56d180a0e40a",
   "metadata": {},
   "outputs": [
    {
     "data": {
      "text/plain": [
       "'battery'"
      ]
     },
     "execution_count": 103,
     "metadata": {},
     "output_type": "execute_result"
    }
   ],
   "source": [
    "d.power_supply"
   ]
  },
  {
   "cell_type": "code",
   "execution_count": 104,
   "id": "4a1aa231-740c-45ee-b577-ea30bf4b9d4d",
   "metadata": {},
   "outputs": [
    {
     "data": {
      "text/plain": [
       "('the drone is flying at', 0, 'and count is', 0)"
      ]
     },
     "execution_count": 104,
     "metadata": {},
     "output_type": "execute_result"
    }
   ],
   "source": [
    "d.fly()"
   ]
  },
  {
   "cell_type": "code",
   "execution_count": 105,
   "id": "e5bd3b74-78b5-41d2-884f-61cc5bdb86f1",
   "metadata": {},
   "outputs": [],
   "source": [
    "d.ascend(100)\n",
    "d.ascend(100)\n",
    "d.ascend(100)\n",
    "d.ascend(100)\n",
    "d.ascend(100)\n",
    "d.ascend(100)"
   ]
  },
  {
   "cell_type": "code",
   "execution_count": 106,
   "id": "75176a1f-f50d-4e70-b5a1-2e0a3b4df994",
   "metadata": {},
   "outputs": [
    {
     "data": {
      "text/plain": [
       "('the drone is flying at', 600, 'and count is', 6)"
      ]
     },
     "execution_count": 106,
     "metadata": {},
     "output_type": "execute_result"
    }
   ],
   "source": [
    "d.fly()"
   ]
  },
  {
   "cell_type": "code",
   "execution_count": 111,
   "id": "35ed6bbf-7898-4f72-95a9-e02de5122bed",
   "metadata": {},
   "outputs": [
    {
     "data": {
      "text/plain": [
       "2"
      ]
     },
     "execution_count": 111,
     "metadata": {},
     "output_type": "execute_result"
    }
   ],
   "source": [
    "Drone.drone_count"
   ]
  },
  {
   "cell_type": "code",
   "execution_count": 112,
   "id": "840f7f40-ce1c-4df9-bd49-1450b32792ad",
   "metadata": {},
   "outputs": [
    {
     "data": {
      "text/plain": [
       "2"
      ]
     },
     "execution_count": 112,
     "metadata": {},
     "output_type": "execute_result"
    }
   ],
   "source": [
    "d.drone_count"
   ]
  },
  {
   "cell_type": "code",
   "execution_count": 110,
   "id": "a38323cf-85d8-494a-8f26-53a2689b499b",
   "metadata": {},
   "outputs": [],
   "source": [
    "d2 = Drone()"
   ]
  },
  {
   "cell_type": "code",
   "execution_count": 113,
   "id": "4832ea29-eba9-4709-bf59-139183ea4566",
   "metadata": {},
   "outputs": [
    {
     "data": {
      "text/plain": [
       "2"
      ]
     },
     "execution_count": 113,
     "metadata": {},
     "output_type": "execute_result"
    }
   ],
   "source": [
    "d2.drone_count"
   ]
  },
  {
   "cell_type": "code",
   "execution_count": null,
   "id": "3c2361c5-c024-4dd2-9bc6-b58749f6285d",
   "metadata": {},
   "outputs": [],
   "source": []
  }
 ],
 "metadata": {
  "kernelspec": {
   "display_name": "Python 3 (ipykernel)",
   "language": "python",
   "name": "python3"
  },
  "language_info": {
   "codemirror_mode": {
    "name": "ipython",
    "version": 3
   },
   "file_extension": ".py",
   "mimetype": "text/x-python",
   "name": "python",
   "nbconvert_exporter": "python",
   "pygments_lexer": "ipython3",
   "version": "3.9.12"
  }
 },
 "nbformat": 4,
 "nbformat_minor": 5
}
