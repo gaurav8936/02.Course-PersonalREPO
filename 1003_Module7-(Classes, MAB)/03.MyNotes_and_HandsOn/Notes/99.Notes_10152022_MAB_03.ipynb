{
 "cells": [
  {
   "cell_type": "markdown",
   "id": "4aecc567-8352-44f1-840b-9a6656f17f49",
   "metadata": {},
   "source": [
    "# MAB"
   ]
  },
  {
   "cell_type": "markdown",
   "id": "0686be35-b4cf-4e53-972a-d6664904ecb8",
   "metadata": {},
   "source": [
    "three classes\n",
    "\n",
    "1. Bandit --> Slots (create 10 machines)\n",
    "2. Solver --> User (the one playing the game)\n",
    "3. Game --> Game itself (scores, charts etc)\n",
    "\n",
    "\n",
    "Goal: Get game working for simple scenario -- get the three classes to interact for a shell game. \n",
    "      Everything else comes next\n",
    "\n",
    "1. Slots \n",
    "    Probability --> output of True / False (this is the intrinsic probability of each machine)\n",
    "    Pull --> Given probability of a machine, the odds of getting a reward or not (true / false)\n",
    "\n",
    "2. User\n",
    "    select a machine to play\n",
    "    decide to move or not (explore or exploit)\n",
    "\n",
    "3. Game\n",
    "    keep score\n",
    "    draw charts\n",
    "    determine constraints\n",
    "    \n",
    "2.A RationalActor --> User who plays the perfect game taking into account rewards from each machine\n",
    "    "
   ]
  },
  {
   "cell_type": "code",
   "execution_count": 141,
   "id": "49d81e10-ce89-438f-b714-be1598c9cdb8",
   "metadata": {},
   "outputs": [],
   "source": [
    "import numpy as np\n",
    "import matplotlib.pyplot as plt\n",
    "\n",
    "class Slots():\n",
    "    \n",
    "    def __init__(self):\n",
    "        self.__probability = np.random.uniform()\n",
    "        \n",
    "    def __repr__(self):\n",
    "        return 'this is a machine with a payout probaility of ' + str(self.__probability)\n",
    "    \n",
    "    def pull(self):\n",
    "        tf = (True, False)\n",
    "        #return 'to determine if this was a success or not', np.random.choice(tf, p = [self.__probability, 1-self.__probability])\n",
    "        \n",
    "        return np.random.choice(tf, p = [self.__probability, 1-self.__probability])\n",
    "        "
   ]
  },
  {
   "cell_type": "code",
   "execution_count": 219,
   "id": "8154fa04-56f0-4380-8db7-abfe6e21c8a4",
   "metadata": {},
   "outputs": [],
   "source": [
    "registers = Slots()"
   ]
  },
  {
   "cell_type": "code",
   "execution_count": 213,
   "id": "5767e672-b336-4ff6-93d9-cabddc887c70",
   "metadata": {},
   "outputs": [],
   "source": [
    "reg1 = Slots()"
   ]
  },
  {
   "cell_type": "code",
   "execution_count": 214,
   "id": "635c9860-b0fb-4d2a-81a3-3c0c19d86894",
   "metadata": {},
   "outputs": [
    {
     "data": {
      "text/plain": [
       "True"
      ]
     },
     "execution_count": 214,
     "metadata": {},
     "output_type": "execute_result"
    }
   ],
   "source": [
    "reg1.pull()"
   ]
  },
  {
   "cell_type": "code",
   "execution_count": 218,
   "id": "781960ad-f3c5-4e5d-a4ed-68dd7330a8af",
   "metadata": {},
   "outputs": [
    {
     "name": "stdout",
     "output_type": "stream",
     "text": [
      "10\n"
     ]
    }
   ],
   "source": [
    "test = [reg1.pull() for i in range(10)]\n",
    "print(sum(test))\n",
    "#test"
   ]
  },
  {
   "cell_type": "code",
   "execution_count": null,
   "id": "944eec61-ee9c-410d-8b93-dbaeb07ee6e4",
   "metadata": {},
   "outputs": [],
   "source": []
  },
  {
   "cell_type": "code",
   "execution_count": null,
   "id": "abd6b017-c0d0-4067-a8bd-ae0f2f4dd2f3",
   "metadata": {},
   "outputs": [],
   "source": []
  },
  {
   "cell_type": "code",
   "execution_count": 220,
   "id": "a164b284-20e3-4288-ac52-9c0be8ec8c90",
   "metadata": {},
   "outputs": [],
   "source": [
    "registers = [Slots() for i in range(10)]"
   ]
  },
  {
   "cell_type": "code",
   "execution_count": 221,
   "id": "00dd4bad-1c31-4796-b338-382d8030897f",
   "metadata": {},
   "outputs": [
    {
     "data": {
      "text/plain": [
       "[this is a machine with a payout probaility of 0.9805122114720228,\n",
       " this is a machine with a payout probaility of 0.5859694894227593,\n",
       " this is a machine with a payout probaility of 0.4553046441729225,\n",
       " this is a machine with a payout probaility of 0.09464843974444082,\n",
       " this is a machine with a payout probaility of 0.5054629413183709,\n",
       " this is a machine with a payout probaility of 0.7224640254249196,\n",
       " this is a machine with a payout probaility of 0.6385930228341657,\n",
       " this is a machine with a payout probaility of 0.9563984195736428,\n",
       " this is a machine with a payout probaility of 0.6534334556180939,\n",
       " this is a machine with a payout probaility of 0.03325461188490875]"
      ]
     },
     "execution_count": 221,
     "metadata": {},
     "output_type": "execute_result"
    }
   ],
   "source": [
    "registers"
   ]
  },
  {
   "cell_type": "code",
   "execution_count": 230,
   "id": "a5414812-e795-4443-b6bf-6318d468abdd",
   "metadata": {},
   "outputs": [
    {
     "data": {
      "text/plain": [
       "True"
      ]
     },
     "execution_count": 230,
     "metadata": {},
     "output_type": "execute_result"
    }
   ],
   "source": [
    "registers[2].pull()"
   ]
  },
  {
   "cell_type": "code",
   "execution_count": 232,
   "id": "811ecff2-075a-438d-a27f-32d1ffc2a381",
   "metadata": {},
   "outputs": [
    {
     "data": {
      "text/plain": [
       "True"
      ]
     },
     "execution_count": 232,
     "metadata": {},
     "output_type": "execute_result"
    }
   ],
   "source": [
    "registers[np.random.randint(0, len(registers))].pull()"
   ]
  },
  {
   "cell_type": "code",
   "execution_count": 231,
   "id": "db7368c6-2215-4017-89ba-6bae51202697",
   "metadata": {},
   "outputs": [
    {
     "data": {
      "text/plain": [
       "[True, True, True, True, False, True, False, True, True, True]"
      ]
     },
     "execution_count": 231,
     "metadata": {},
     "output_type": "execute_result"
    }
   ],
   "source": [
    "test = [registers[1].pull() for i in range(10)]\n",
    "test"
   ]
  },
  {
   "cell_type": "code",
   "execution_count": 233,
   "id": "d7d1555f-3622-4c2d-b903-cefc3cbdc971",
   "metadata": {},
   "outputs": [],
   "source": [
    "import numpy as np\n",
    "import matplotlib.pyplot as plt\n",
    "\n",
    "class User():\n",
    "    \n",
    "    # chosen_slot = 0\n",
    "    \n",
    "    def __init__(self, registers):\n",
    "        self.registers = registers\n",
    "        \n",
    "        \n",
    "    \n",
    "    def __repr__(self):\n",
    "        \n",
    "        return \"this is the class for the user playing the game\"\n",
    "    \n",
    "    def stay_shift(self):\n",
    "        \n",
    "        # select the slot machine\n",
    "        #self.chosen_slot = np.random.randint(0, len(self.registers))\n",
    "#        self.chosen_slot = np.random.randint(0, len(registers))\n",
    "        chosen_slot = np.random.randint(0, len(registers))\n",
    "        \n",
    "        # play the game\n",
    "#        print('the chosen slot machine is ', self.chosen_slot)#, self.registers[chosen_slot].pull\n",
    "        print('the chosen slot machine is ', chosen_slot)\n",
    "        return registers[chosen_slot].pull()\n"
   ]
  },
  {
   "cell_type": "code",
   "execution_count": 234,
   "id": "c4c24709-d199-4544-80ce-e9c6500b4a9d",
   "metadata": {},
   "outputs": [],
   "source": [
    "u = User(s)"
   ]
  },
  {
   "cell_type": "code",
   "execution_count": 235,
   "id": "32653071-4236-4226-b89a-26a141eadab4",
   "metadata": {},
   "outputs": [
    {
     "data": {
      "text/plain": [
       "this is the class for the user playing the game"
      ]
     },
     "execution_count": 235,
     "metadata": {},
     "output_type": "execute_result"
    }
   ],
   "source": [
    "u"
   ]
  },
  {
   "cell_type": "code",
   "execution_count": 244,
   "id": "715e437e-36e3-4dbc-8f61-5eed872ca9b5",
   "metadata": {},
   "outputs": [
    {
     "name": "stdout",
     "output_type": "stream",
     "text": [
      "the chosen slot machine is  0\n"
     ]
    },
    {
     "data": {
      "text/plain": [
       "True"
      ]
     },
     "execution_count": 244,
     "metadata": {},
     "output_type": "execute_result"
    }
   ],
   "source": [
    "u.stay_shift()"
   ]
  },
  {
   "cell_type": "code",
   "execution_count": 251,
   "id": "9b15dccb-b549-4989-b759-f83d91b41cb7",
   "metadata": {},
   "outputs": [
    {
     "data": {
      "text/plain": [
       "this is a machine with a payout probaility of 0.26272921755382594"
      ]
     },
     "execution_count": 251,
     "metadata": {},
     "output_type": "execute_result"
    }
   ],
   "source": [
    "u.registers"
   ]
  },
  {
   "cell_type": "code",
   "execution_count": 245,
   "id": "93597c34-29d3-42ef-9597-e796cfa5c1e5",
   "metadata": {},
   "outputs": [
    {
     "ename": "AttributeError",
     "evalue": "'User' object has no attribute 'stay_shifts'",
     "output_type": "error",
     "traceback": [
      "\u001b[0;31m---------------------------------------------------------------------------\u001b[0m",
      "\u001b[0;31mAttributeError\u001b[0m                            Traceback (most recent call last)",
      "Input \u001b[0;32mIn [245]\u001b[0m, in \u001b[0;36m<cell line: 1>\u001b[0;34m()\u001b[0m\n\u001b[0;32m----> 1\u001b[0m [u\u001b[38;5;241m.\u001b[39mstay_shifts() \u001b[38;5;28;01mfor\u001b[39;00m i \u001b[38;5;129;01min\u001b[39;00m \u001b[38;5;28mrange\u001b[39m(\u001b[38;5;241m10\u001b[39m)]\n",
      "Input \u001b[0;32mIn [245]\u001b[0m, in \u001b[0;36m<listcomp>\u001b[0;34m(.0)\u001b[0m\n\u001b[0;32m----> 1\u001b[0m [\u001b[43mu\u001b[49m\u001b[38;5;241;43m.\u001b[39;49m\u001b[43mstay_shifts\u001b[49m() \u001b[38;5;28;01mfor\u001b[39;00m i \u001b[38;5;129;01min\u001b[39;00m \u001b[38;5;28mrange\u001b[39m(\u001b[38;5;241m10\u001b[39m)]\n",
      "\u001b[0;31mAttributeError\u001b[0m: 'User' object has no attribute 'stay_shifts'"
     ]
    }
   ],
   "source": [
    "[u.stay_shifts() for i in range(10)]"
   ]
  },
  {
   "cell_type": "code",
   "execution_count": null,
   "id": "220a63c7-562f-4e44-8eda-75e6373f7c13",
   "metadata": {},
   "outputs": [],
   "source": []
  }
 ],
 "metadata": {
  "kernelspec": {
   "display_name": "Python 3 (ipykernel)",
   "language": "python",
   "name": "python3"
  },
  "language_info": {
   "codemirror_mode": {
    "name": "ipython",
    "version": 3
   },
   "file_extension": ".py",
   "mimetype": "text/x-python",
   "name": "python",
   "nbconvert_exporter": "python",
   "pygments_lexer": "ipython3",
   "version": "3.9.12"
  }
 },
 "nbformat": 4,
 "nbformat_minor": 5
}
