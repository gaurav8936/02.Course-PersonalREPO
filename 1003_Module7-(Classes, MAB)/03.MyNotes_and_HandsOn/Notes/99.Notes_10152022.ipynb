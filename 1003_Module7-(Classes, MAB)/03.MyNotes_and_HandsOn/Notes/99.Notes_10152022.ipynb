{
 "cells": [
  {
   "cell_type": "markdown",
   "id": "07bcbb0d-d3fb-4448-88ba-10c725b2fa3c",
   "metadata": {},
   "source": [
    "# Just Notes"
   ]
  },
  {
   "cell_type": "code",
   "execution_count": 20,
   "id": "d90e4597-9734-4d31-9f5e-876431303a3e",
   "metadata": {},
   "outputs": [],
   "source": [
    "class Drone():\n",
    "    \n",
    "    drone_count = 0\n",
    "    \n",
    "    def __init__(self):\n",
    "        \n",
    "        self.altitude = 0\n",
    "        self.ascend_count = 0\n",
    "        self.country = 'USA'\n",
    "        self.power_supply = 'battery'\n",
    "#        self.drone_count += 1\n",
    "        Drone.drone_count += 1\n",
    "    \n",
    "    def fly(self):\n",
    "        \n",
    "#        return 'the drone is flying at', self.altitude, 'and count is', self.ascend_count\n",
    "        print('the drone is flying at', self.altitude, 'and count is', self.ascend_count, 'drone count', self.drone_count)\n",
    "    \n",
    "    \n",
    "    def ascend(self, change):\n",
    "        \n",
    "        self.altitude += change\n",
    "        self.ascend_count += 1\n",
    "    "
   ]
  },
  {
   "cell_type": "code",
   "execution_count": 21,
   "id": "b12b68c3-cb13-4196-99b6-1e6479b19c54",
   "metadata": {},
   "outputs": [],
   "source": [
    "d1 = Drone()\n",
    "d2 = Drone()\n",
    "d3 = Drone()"
   ]
  },
  {
   "cell_type": "code",
   "execution_count": 22,
   "id": "9f7e74b9-ce0f-4670-9a58-ab4eb1151225",
   "metadata": {},
   "outputs": [],
   "source": [
    "d1.ascend(100)\n",
    "d1.ascend(100)\n",
    "d1.ascend(100)\n",
    "d1.ascend(100)\n",
    "d1.ascend(100)\n",
    "d2.ascend(100)\n",
    "d2.ascend(100)\n",
    "d2.ascend(100)\n",
    "d3.ascend(100)"
   ]
  },
  {
   "cell_type": "code",
   "execution_count": 23,
   "id": "e167ea4f-cb7b-47dc-91ce-dfb8656f48cc",
   "metadata": {},
   "outputs": [
    {
     "name": "stdout",
     "output_type": "stream",
     "text": [
      "the drone is flying at 500 and count is 5 drone count 3\n",
      "the drone is flying at 300 and count is 3 drone count 3\n",
      "the drone is flying at 100 and count is 1 drone count 3\n"
     ]
    }
   ],
   "source": [
    "d1.fly()\n",
    "d2.fly()\n",
    "d3.fly()"
   ]
  },
  {
   "cell_type": "code",
   "execution_count": 24,
   "id": "737b5e9e-f736-4aae-acd9-04c443b340d2",
   "metadata": {},
   "outputs": [
    {
     "data": {
      "text/plain": [
       "3"
      ]
     },
     "execution_count": 24,
     "metadata": {},
     "output_type": "execute_result"
    }
   ],
   "source": [
    "Drone.drone_count"
   ]
  },
  {
   "cell_type": "code",
   "execution_count": 25,
   "id": "47b6ce5d-548e-425f-a3d9-cfeff1da4ec4",
   "metadata": {},
   "outputs": [
    {
     "data": {
      "text/plain": [
       "3"
      ]
     },
     "execution_count": 25,
     "metadata": {},
     "output_type": "execute_result"
    }
   ],
   "source": [
    "d1.drone_count\n",
    "\n",
    "# this is still a problem"
   ]
  },
  {
   "cell_type": "markdown",
   "id": "260351a1-58dd-4812-bb02-b2988fe3e0b3",
   "metadata": {},
   "source": [
    "---"
   ]
  },
  {
   "cell_type": "code",
   "execution_count": 57,
   "id": "ca5f382b-e234-4d7b-af05-141a9bcced62",
   "metadata": {},
   "outputs": [],
   "source": [
    "class Drone():\n",
    "    \n",
    "    num_drones = 0\n",
    "    \n",
    "    \n",
    "    def __init__(self):\n",
    "        \n",
    "        self.altitude = 0\n",
    "        self.ascend_count = 0\n",
    "        self.country = 'USA'\n",
    "        self.power_supply = 'battery'\n",
    "        Drone.num_drones += 1\n",
    "    \n",
    "    def fly(self):\n",
    "#        return 'the drone is flying at', self.altitude, 'and count is', self.ascend_count\n",
    "        print('the drone is flying at', self.altitude, 'and count is', self.ascend_count, 'drone count', self.num_drones)\n",
    "\n",
    "\n",
    "    def ascend (self, change):\n",
    "        \n",
    "        self.altitude += change\n",
    "        self.ascend_count += 1\n",
    "        \n",
    "##########Getter & Setter Method ################################        \n",
    "    \n",
    "    def get_altitude(self):\n",
    "#        return self.altitude\n",
    "        print(self.altitude)\n",
    "    \n",
    "    def set_altitude(self, new_altitude):\n",
    "        self.altitude += new_altitude\n",
    "    \n",
    "    \n",
    "    \n",
    "    "
   ]
  },
  {
   "cell_type": "code",
   "execution_count": 58,
   "id": "46fc3b00-5fa3-4ee6-8992-98ff386bf55b",
   "metadata": {},
   "outputs": [],
   "source": [
    "d1 = Drone()\n",
    "d2 = Drone()\n",
    "d3 = Drone()"
   ]
  },
  {
   "cell_type": "code",
   "execution_count": 59,
   "id": "e04b4fc7-885c-4001-85d2-4fba50815f93",
   "metadata": {},
   "outputs": [],
   "source": [
    "d1.ascend(100)\n",
    "d1.ascend(100)\n",
    "d1.ascend(100)\n",
    "d1.ascend(100)\n",
    "d1.ascend(100)\n",
    "d2.ascend(100)\n",
    "d2.ascend(100)\n",
    "d2.ascend(100)\n",
    "d3.ascend(100)"
   ]
  },
  {
   "cell_type": "code",
   "execution_count": 71,
   "id": "380d91d7-f681-4022-91f4-044ceec8011a",
   "metadata": {},
   "outputs": [
    {
     "name": "stdout",
     "output_type": "stream",
     "text": [
      "the drone is flying at 4500 and count is 5 drone count 3\n",
      "the drone is flying at 8300 and count is 3 drone count 3\n",
      "the drone is flying at 12100 and count is 1 drone count 3\n"
     ]
    }
   ],
   "source": [
    "d1.fly()\n",
    "d2.fly()\n",
    "d3.fly()"
   ]
  },
  {
   "cell_type": "code",
   "execution_count": 70,
   "id": "391247f3-8195-4986-9bf2-c0b29664e418",
   "metadata": {},
   "outputs": [
    {
     "name": "stdout",
     "output_type": "stream",
     "text": [
      "4500\n",
      "8300\n",
      "12100\n"
     ]
    }
   ],
   "source": [
    "d1.get_altitude()\n",
    "d2.get_altitude()\n",
    "d3.get_altitude()"
   ]
  },
  {
   "cell_type": "code",
   "execution_count": 69,
   "id": "3a9de072-689d-4711-b69c-274a1dbc23a0",
   "metadata": {},
   "outputs": [],
   "source": [
    "d1.set_altitude(1000)\n",
    "d2.set_altitude(2000)\n",
    "d3.set_altitude(3000)"
   ]
  },
  {
   "cell_type": "code",
   "execution_count": 101,
   "id": "8b791804-31e0-45d8-aabc-ca702ebabe6d",
   "metadata": {},
   "outputs": [],
   "source": [
    "class Drone():\n",
    "    \n",
    "    num_drones = 0\n",
    "    \n",
    "    \n",
    "    def __init__(self):\n",
    "        \n",
    "        self.altitude = 0\n",
    "        self.ascend_count = 0\n",
    "        self.country = 'USA'\n",
    "        self.power_supply = 'battery'\n",
    "        Drone.num_drones += 1\n",
    "    \n",
    "    def fly(self):\n",
    "#        return 'the drone is flying at', self.altitude, 'and count is', self.ascend_count\n",
    "        print('the drone is flying at', self.altitude, 'and count is', self.ascend_count, 'drone count', self.num_drones)\n",
    "\n",
    "\n",
    "    def ascend (self, change):\n",
    "        \n",
    "        self.altitude += change\n",
    "        self.ascend_count += 1\n",
    "        \n",
    "##########Getter & Setter Method ################################    \n",
    "\n",
    "    def get_altitude(self):\n",
    "        \n",
    "        print(self.altitude)\n",
    "        \n",
    "    def set_altitude(self, new_change):\n",
    "        \n",
    "        if new_change < 0:\n",
    "            raise Exception(\"You cannot go below 0\")\n",
    "        self.altitude += new_change\n",
    "        "
   ]
  },
  {
   "cell_type": "code",
   "execution_count": 102,
   "id": "f3704b31-bc8c-40ad-8bdf-935a6ecd6fdd",
   "metadata": {},
   "outputs": [],
   "source": [
    "d1 = Drone()\n",
    "d2 = Drone()\n",
    "d3 = Drone()"
   ]
  },
  {
   "cell_type": "code",
   "execution_count": 103,
   "id": "c8f046f9-32a9-41f2-97b4-de1650e7af0b",
   "metadata": {},
   "outputs": [
    {
     "name": "stdout",
     "output_type": "stream",
     "text": [
      "the drone is flying at 500 and count is 5 drone count 3\n",
      "the drone is flying at 300 and count is 3 drone count 3\n",
      "the drone is flying at 100 and count is 1 drone count 3\n",
      "500\n",
      "300\n",
      "100\n",
      "the drone is flying at 1500 and count is 5 drone count 3\n",
      "the drone is flying at 2300 and count is 3 drone count 3\n",
      "the drone is flying at 3100 and count is 1 drone count 3\n"
     ]
    }
   ],
   "source": [
    "d1.ascend(100)\n",
    "d1.ascend(100)\n",
    "d1.ascend(100)\n",
    "d1.ascend(100)\n",
    "d1.ascend(100)\n",
    "d2.ascend(100)\n",
    "d2.ascend(100)\n",
    "d2.ascend(100)\n",
    "d3.ascend(100)\n",
    "d1.fly()\n",
    "d2.fly()\n",
    "d3.fly()\n",
    "d1.get_altitude()\n",
    "d2.get_altitude()\n",
    "d3.get_altitude()\n",
    "d1.set_altitude(1000)\n",
    "d2.set_altitude(2000)\n",
    "d3.set_altitude(3000)\n",
    "d1.fly()\n",
    "d2.fly()\n",
    "d3.fly()"
   ]
  },
  {
   "cell_type": "code",
   "execution_count": 104,
   "id": "1bdeef08-7183-4cfc-bf2a-6f61d62e8740",
   "metadata": {},
   "outputs": [
    {
     "data": {
      "text/plain": [
       "1500"
      ]
     },
     "execution_count": 104,
     "metadata": {},
     "output_type": "execute_result"
    }
   ],
   "source": [
    "d1.altitude"
   ]
  },
  {
   "cell_type": "code",
   "execution_count": 90,
   "id": "fde12221-f0d5-44bc-bca3-0bcfedbb0329",
   "metadata": {},
   "outputs": [
    {
     "name": "stdout",
     "output_type": "stream",
     "text": [
      "the drone is flying at 100 and count is 1 drone count 9\n"
     ]
    }
   ],
   "source": [
    "d4 = Drone()\n",
    "d4.ascend(100)\n",
    "d4.fly()"
   ]
  },
  {
   "cell_type": "markdown",
   "id": "e788bfa2-9d83-4745-9f18-8ad34db44a31",
   "metadata": {},
   "source": [
    "## Hidden Attributes"
   ]
  },
  {
   "cell_type": "code",
   "execution_count": 105,
   "id": "723b5f7d-2127-47b8-a951-89188bf05aee",
   "metadata": {},
   "outputs": [],
   "source": [
    "class Drone():\n",
    "    \n",
    "    num_drones = 0\n",
    "    \n",
    "    \n",
    "    def __init__(self):\n",
    "        \n",
    "        self.__altitude = 0\n",
    "        self.ascend_count = 0\n",
    "        self.country = 'USA'\n",
    "        self.power_supply = 'battery'\n",
    "        Drone.num_drones += 1\n",
    "    \n",
    "    def fly(self):\n",
    "#        return 'the drone is flying at', self.altitude, 'and count is', self.ascend_count\n",
    "        print('the drone is flying at', self.__altitude, 'and count is', self.ascend_count, 'drone count', self.num_drones)\n",
    "\n",
    "\n",
    "    def ascend (self, change):\n",
    "        \n",
    "        self.__altitude += change\n",
    "        self.ascend_count += 1\n",
    "        \n",
    "##########Getter & Setter Method ################################    \n",
    "\n",
    "    def get_altitude(self):\n",
    "        \n",
    "        print(self.__altitude)\n",
    "        \n",
    "    def set_altitude(self, new_change):\n",
    "        \n",
    "        if new_change < 0:\n",
    "            raise Exception(\"You cannot go below 0\")\n",
    "        self.__altitude += new_change\n",
    "        "
   ]
  },
  {
   "cell_type": "code",
   "execution_count": 106,
   "id": "7d53ef12-c205-40a5-a722-138b2443fc04",
   "metadata": {},
   "outputs": [],
   "source": [
    "d1 = Drone()\n",
    "d2 = Drone()\n",
    "d3 = Drone()"
   ]
  },
  {
   "cell_type": "code",
   "execution_count": 107,
   "id": "831da6f0-5b84-4442-98ec-179d1707fcb4",
   "metadata": {},
   "outputs": [
    {
     "name": "stdout",
     "output_type": "stream",
     "text": [
      "the drone is flying at 500 and count is 5 drone count 3\n",
      "the drone is flying at 300 and count is 3 drone count 3\n",
      "the drone is flying at 100 and count is 1 drone count 3\n",
      "500\n",
      "300\n",
      "100\n",
      "the drone is flying at 1500 and count is 5 drone count 3\n",
      "the drone is flying at 2300 and count is 3 drone count 3\n",
      "the drone is flying at 3100 and count is 1 drone count 3\n"
     ]
    }
   ],
   "source": [
    "d1.ascend(100)\n",
    "d1.ascend(100)\n",
    "d1.ascend(100)\n",
    "d1.ascend(100)\n",
    "d1.ascend(100)\n",
    "d2.ascend(100)\n",
    "d2.ascend(100)\n",
    "d2.ascend(100)\n",
    "d3.ascend(100)\n",
    "d1.fly()\n",
    "d2.fly()\n",
    "d3.fly()\n",
    "d1.get_altitude()\n",
    "d2.get_altitude()\n",
    "d3.get_altitude()\n",
    "d1.set_altitude(1000)\n",
    "d2.set_altitude(2000)\n",
    "d3.set_altitude(3000)\n",
    "d1.fly()\n",
    "d2.fly()\n",
    "d3.fly()"
   ]
  },
  {
   "cell_type": "code",
   "execution_count": 108,
   "id": "90373a42-459c-4dc1-8d32-93329e80e115",
   "metadata": {},
   "outputs": [
    {
     "data": {
      "text/plain": [
       "3"
      ]
     },
     "execution_count": 108,
     "metadata": {},
     "output_type": "execute_result"
    }
   ],
   "source": [
    "d1.num_drones"
   ]
  },
  {
   "cell_type": "code",
   "execution_count": 109,
   "id": "49f78b98-56a5-4ba1-a8da-f0ac53741862",
   "metadata": {},
   "outputs": [
    {
     "ename": "AttributeError",
     "evalue": "'Drone' object has no attribute 'altitude'",
     "output_type": "error",
     "traceback": [
      "\u001b[0;31m---------------------------------------------------------------------------\u001b[0m",
      "\u001b[0;31mAttributeError\u001b[0m                            Traceback (most recent call last)",
      "Input \u001b[0;32mIn [109]\u001b[0m, in \u001b[0;36m<cell line: 1>\u001b[0;34m()\u001b[0m\n\u001b[0;32m----> 1\u001b[0m \u001b[43md1\u001b[49m\u001b[38;5;241;43m.\u001b[39;49m\u001b[43maltitude\u001b[49m\n",
      "\u001b[0;31mAttributeError\u001b[0m: 'Drone' object has no attribute 'altitude'"
     ]
    }
   ],
   "source": [
    "d1.altitude"
   ]
  },
  {
   "cell_type": "markdown",
   "id": "cc70d5d3-3007-425a-bab9-2ed81498d8f7",
   "metadata": {},
   "source": [
    "---"
   ]
  },
  {
   "cell_type": "markdown",
   "id": "6e549801-b4af-49df-967f-4699faa1c37b",
   "metadata": {},
   "source": [
    "# Using STR and REPR methods"
   ]
  },
  {
   "cell_type": "code",
   "execution_count": 110,
   "id": "34bcd871-2dc6-432e-9e9e-c450fe4e2c27",
   "metadata": {},
   "outputs": [
    {
     "data": {
      "text/plain": [
       "<__main__.Drone at 0x7fc1996a9a00>"
      ]
     },
     "execution_count": 110,
     "metadata": {},
     "output_type": "execute_result"
    }
   ],
   "source": [
    "d1"
   ]
  },
  {
   "cell_type": "code",
   "execution_count": 135,
   "id": "e1cf17c4-f8f3-4fc5-bfab-de7494f4ae70",
   "metadata": {},
   "outputs": [],
   "source": [
    "class Drone():\n",
    "    \n",
    "    num_drones = 0\n",
    "    \n",
    "    \n",
    "    def __init__(self):\n",
    "        \n",
    "        self.__altitude = 0\n",
    "        self.ascend_count = 0\n",
    "        self.country = 'USA'\n",
    "        self.power_supply = 'battery'\n",
    "        Drone.num_drones += 1\n",
    "    \n",
    "    def __repr__(self):\n",
    "        return f\"this is str (self.country).\"\n",
    "\n",
    "    \n",
    "    def __str__(self):\n",
    "        return self.__repr__()\n",
    "        #return f\"this is str {self.ascend_count}.\"\n",
    "\n",
    "    \n",
    "    \n",
    "    \n",
    "    def fly(self):\n",
    "#        return 'the drone is flying at', self.altitude, 'and count is', self.ascend_count\n",
    "        print('the drone is flying at', self.__altitude, 'and count is', self.ascend_count, 'drone count', self.num_drones)\n",
    "\n",
    "\n",
    "    def ascend (self, change):\n",
    "        \n",
    "        self.__altitude += change\n",
    "        self.ascend_count += 1\n",
    "        \n",
    "##########Getter & Setter Method ################################    \n",
    "\n",
    "    def get_altitude(self):\n",
    "        \n",
    "        print(self.__altitude)\n",
    "        \n",
    "    def set_altitude(self, new_change):\n",
    "        \n",
    "        if new_change < 0:\n",
    "            raise Exception(\"You cannot go below 0\")\n",
    "        self.__altitude += new_change\n",
    "        "
   ]
  },
  {
   "cell_type": "code",
   "execution_count": 136,
   "id": "2a5dbd9b-fa66-44e0-9e84-2f9560f09309",
   "metadata": {},
   "outputs": [],
   "source": [
    "d1 = Drone()\n",
    "d2 = Drone()\n",
    "d3 = Drone()"
   ]
  },
  {
   "cell_type": "code",
   "execution_count": 137,
   "id": "6e80f2f1-40c0-4e44-8e47-aa80dfe34829",
   "metadata": {},
   "outputs": [
    {
     "data": {
      "text/plain": [
       "this is str (self.country)."
      ]
     },
     "execution_count": 137,
     "metadata": {},
     "output_type": "execute_result"
    }
   ],
   "source": [
    "d1"
   ]
  },
  {
   "cell_type": "code",
   "execution_count": 138,
   "id": "919e5c57-1da5-407e-a183-78f1ae477e4a",
   "metadata": {},
   "outputs": [
    {
     "name": "stdout",
     "output_type": "stream",
     "text": [
      "this is str (self.country).\n"
     ]
    }
   ],
   "source": [
    "print(d1)"
   ]
  },
  {
   "cell_type": "code",
   "execution_count": null,
   "id": "150bfaff-8452-4adb-9e16-7e94de86a5a9",
   "metadata": {},
   "outputs": [],
   "source": []
  }
 ],
 "metadata": {
  "kernelspec": {
   "display_name": "Python 3 (ipykernel)",
   "language": "python",
   "name": "python3"
  },
  "language_info": {
   "codemirror_mode": {
    "name": "ipython",
    "version": 3
   },
   "file_extension": ".py",
   "mimetype": "text/x-python",
   "name": "python",
   "nbconvert_exporter": "python",
   "pygments_lexer": "ipython3",
   "version": "3.9.12"
  }
 },
 "nbformat": 4,
 "nbformat_minor": 5
}
