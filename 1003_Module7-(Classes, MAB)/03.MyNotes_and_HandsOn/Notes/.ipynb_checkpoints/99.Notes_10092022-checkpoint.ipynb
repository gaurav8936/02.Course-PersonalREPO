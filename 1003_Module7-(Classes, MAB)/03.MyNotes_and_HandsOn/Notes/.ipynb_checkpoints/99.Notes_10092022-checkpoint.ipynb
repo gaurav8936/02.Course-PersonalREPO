{
 "cells": [
  {
   "cell_type": "code",
   "execution_count": 12,
   "id": "5dff0d27-f62a-4fc0-97c1-99dd144b1311",
   "metadata": {},
   "outputs": [],
   "source": [
    "class Drone():\n",
    "    \n",
    "    battery = 'lithim'\n",
    "    #return \"I am a drone\"\n",
    "    def fly(self):\n",
    "        return \"The drone is flying\""
   ]
  },
  {
   "cell_type": "code",
   "execution_count": 4,
   "id": "4086c086-4f47-4b77-9f38-134a588d4829",
   "metadata": {},
   "outputs": [],
   "source": [
    "d1 = Drone()"
   ]
  },
  {
   "cell_type": "code",
   "execution_count": 6,
   "id": "eceb2f36-0df0-48ad-9f2f-200caf75e486",
   "metadata": {},
   "outputs": [
    {
     "data": {
      "text/plain": [
       "'lithim'"
      ]
     },
     "execution_count": 6,
     "metadata": {},
     "output_type": "execute_result"
    }
   ],
   "source": [
    "d1.battery"
   ]
  },
  {
   "cell_type": "code",
   "execution_count": 7,
   "id": "a9d2008b-1da4-4f57-93e0-53e2e881aff0",
   "metadata": {},
   "outputs": [],
   "source": [
    "d1.gas = 'gasoline'"
   ]
  },
  {
   "cell_type": "code",
   "execution_count": 8,
   "id": "5fc15ae9-2900-47a2-9f78-9d08820cf86e",
   "metadata": {},
   "outputs": [
    {
     "data": {
      "text/plain": [
       "['__class__',\n",
       " '__delattr__',\n",
       " '__dict__',\n",
       " '__dir__',\n",
       " '__doc__',\n",
       " '__eq__',\n",
       " '__format__',\n",
       " '__ge__',\n",
       " '__getattribute__',\n",
       " '__gt__',\n",
       " '__hash__',\n",
       " '__init__',\n",
       " '__init_subclass__',\n",
       " '__le__',\n",
       " '__lt__',\n",
       " '__module__',\n",
       " '__ne__',\n",
       " '__new__',\n",
       " '__reduce__',\n",
       " '__reduce_ex__',\n",
       " '__repr__',\n",
       " '__setattr__',\n",
       " '__sizeof__',\n",
       " '__str__',\n",
       " '__subclasshook__',\n",
       " '__weakref__',\n",
       " 'battery',\n",
       " 'gas']"
      ]
     },
     "execution_count": 8,
     "metadata": {},
     "output_type": "execute_result"
    }
   ],
   "source": [
    "dir(d1)"
   ]
  },
  {
   "cell_type": "code",
   "execution_count": 9,
   "id": "330298c2-6644-4756-b2ab-fd7bae865967",
   "metadata": {},
   "outputs": [],
   "source": [
    "d1.altitude = 100"
   ]
  },
  {
   "cell_type": "code",
   "execution_count": 10,
   "id": "0f47455d-d00a-4fee-82be-863e8bc6b67e",
   "metadata": {},
   "outputs": [
    {
     "data": {
      "text/plain": [
       "['__class__',\n",
       " '__delattr__',\n",
       " '__dict__',\n",
       " '__dir__',\n",
       " '__doc__',\n",
       " '__eq__',\n",
       " '__format__',\n",
       " '__ge__',\n",
       " '__getattribute__',\n",
       " '__gt__',\n",
       " '__hash__',\n",
       " '__init__',\n",
       " '__init_subclass__',\n",
       " '__le__',\n",
       " '__lt__',\n",
       " '__module__',\n",
       " '__ne__',\n",
       " '__new__',\n",
       " '__reduce__',\n",
       " '__reduce_ex__',\n",
       " '__repr__',\n",
       " '__setattr__',\n",
       " '__sizeof__',\n",
       " '__str__',\n",
       " '__subclasshook__',\n",
       " '__weakref__',\n",
       " 'altitude',\n",
       " 'battery',\n",
       " 'gas']"
      ]
     },
     "execution_count": 10,
     "metadata": {},
     "output_type": "execute_result"
    }
   ],
   "source": [
    "dir(d1)"
   ]
  },
  {
   "cell_type": "code",
   "execution_count": 11,
   "id": "e538b7ce-de1c-43a6-9aa0-fd0f9fda6bf8",
   "metadata": {},
   "outputs": [
    {
     "data": {
      "text/plain": [
       "{'gas': 'gasoline', 'altitude': 100}"
      ]
     },
     "execution_count": 11,
     "metadata": {},
     "output_type": "execute_result"
    }
   ],
   "source": [
    "d1.__dict__"
   ]
  },
  {
   "cell_type": "code",
   "execution_count": 13,
   "id": "55e74140-1642-4091-88f0-6b60955e462d",
   "metadata": {},
   "outputs": [],
   "source": [
    "d2 = Drone()"
   ]
  },
  {
   "cell_type": "code",
   "execution_count": 14,
   "id": "b44b0ebb-573a-4590-ad8c-1e4f7f556dd0",
   "metadata": {},
   "outputs": [
    {
     "data": {
      "text/plain": [
       "'The drone is flying'"
      ]
     },
     "execution_count": 14,
     "metadata": {},
     "output_type": "execute_result"
    }
   ],
   "source": [
    "d2.fly()"
   ]
  },
  {
   "cell_type": "code",
   "execution_count": 15,
   "id": "b58427df-63ef-4155-a020-7be627ea5fb3",
   "metadata": {},
   "outputs": [],
   "source": [
    "class Drone():\n",
    "    \n",
    "    battery = 'lithim'\n",
    "    def fly(self):\n",
    "        return \"The drone is flying\", self.battery"
   ]
  },
  {
   "cell_type": "code",
   "execution_count": 16,
   "id": "38e097fb-bbc7-400b-aee3-a18e444da085",
   "metadata": {},
   "outputs": [],
   "source": [
    "d2 = Drone()"
   ]
  },
  {
   "cell_type": "code",
   "execution_count": 17,
   "id": "5a3226c5-637a-4312-9247-eaf7b3ca25c0",
   "metadata": {},
   "outputs": [
    {
     "data": {
      "text/plain": [
       "('The drone is flying', 'lithim')"
      ]
     },
     "execution_count": 17,
     "metadata": {},
     "output_type": "execute_result"
    }
   ],
   "source": [
    "d2.fly()"
   ]
  },
  {
   "cell_type": "code",
   "execution_count": 18,
   "id": "356da182-7a79-41b4-be8b-bccd7fdc77dd",
   "metadata": {},
   "outputs": [
    {
     "name": "stdout",
     "output_type": "stream",
     "text": [
      "('The drone is flying', 'lithim')\n"
     ]
    }
   ],
   "source": [
    "print(d2.fly())"
   ]
  },
  {
   "cell_type": "code",
   "execution_count": 25,
   "id": "380bfd9c-5e38-4faf-a53f-e4a9e1c217e1",
   "metadata": {},
   "outputs": [],
   "source": [
    "class Drone():\n",
    "    \n",
    "    power_system = \"battery\"\n",
    "    \n",
    "    def fly(self):\n",
    "        \n",
    "        return \"The drone is flying using \" + self.power_system + str(self.altitude)\n",
    "    \n",
    "    def ascend(self, change):\n",
    "        \n",
    "        self.altitide  +=change"
   ]
  },
  {
   "cell_type": "code",
   "execution_count": 30,
   "id": "079db384-7b8e-470d-a1f3-245e35da7d68",
   "metadata": {},
   "outputs": [],
   "source": [
    "d1 = Drone()"
   ]
  },
  {
   "cell_type": "code",
   "execution_count": 31,
   "id": "6debb8f4-a057-4a34-a673-020209476ec1",
   "metadata": {},
   "outputs": [],
   "source": [
    "d1.altitide = 100"
   ]
  },
  {
   "cell_type": "code",
   "execution_count": 32,
   "id": "b7534c0e-d8be-4d3f-8b66-46e5c8e8760f",
   "metadata": {},
   "outputs": [],
   "source": [
    "d1.ascend(100)"
   ]
  },
  {
   "cell_type": "code",
   "execution_count": 35,
   "id": "8da8ade8-87da-4f82-a5f5-1af8314f8c24",
   "metadata": {},
   "outputs": [],
   "source": [
    "d1.ascend(100)"
   ]
  },
  {
   "cell_type": "code",
   "execution_count": 36,
   "id": "330fd102-3f99-4195-89df-f52aba02a2d7",
   "metadata": {},
   "outputs": [],
   "source": [
    "d3 = Drone()"
   ]
  },
  {
   "cell_type": "code",
   "execution_count": 37,
   "id": "a809c95d-c696-458b-90ef-e1a4ba22d664",
   "metadata": {},
   "outputs": [
    {
     "ename": "AttributeError",
     "evalue": "'Drone' object has no attribute 'altitide'",
     "output_type": "error",
     "traceback": [
      "\u001b[0;31m---------------------------------------------------------------------------\u001b[0m",
      "\u001b[0;31mAttributeError\u001b[0m                            Traceback (most recent call last)",
      "Input \u001b[0;32mIn [37]\u001b[0m, in \u001b[0;36m<cell line: 1>\u001b[0;34m()\u001b[0m\n\u001b[0;32m----> 1\u001b[0m \u001b[43md3\u001b[49m\u001b[38;5;241;43m.\u001b[39;49m\u001b[43mascend\u001b[49m\u001b[43m(\u001b[49m\u001b[38;5;241;43m0\u001b[39;49m\u001b[43m)\u001b[49m\n",
      "Input \u001b[0;32mIn [25]\u001b[0m, in \u001b[0;36mDrone.ascend\u001b[0;34m(self, change)\u001b[0m\n\u001b[1;32m      9\u001b[0m \u001b[38;5;28;01mdef\u001b[39;00m \u001b[38;5;21mascend\u001b[39m(\u001b[38;5;28mself\u001b[39m, change):\n\u001b[0;32m---> 11\u001b[0m     \u001b[38;5;28mself\u001b[39m\u001b[38;5;241m.\u001b[39maltitide  \u001b[38;5;241m+\u001b[39m\u001b[38;5;241m=\u001b[39mchange\n",
      "\u001b[0;31mAttributeError\u001b[0m: 'Drone' object has no attribute 'altitide'"
     ]
    }
   ],
   "source": [
    "d3.ascend(0)"
   ]
  },
  {
   "cell_type": "code",
   "execution_count": 52,
   "id": "b8fc75f2-5dee-4bf5-84d9-7145fb2d4319",
   "metadata": {},
   "outputs": [],
   "source": [
    "class Drone():\n",
    "    \n",
    "    #altitude = 0 # this is not really a class attribute\n",
    "    power_system = \"battery\"\n",
    "    \n",
    "    def __init__(self, altitude = 0):\n",
    "        self.altitude = altitude\n",
    "    \n",
    "    def fly(self):\n",
    "        \n",
    "        return \"The drone is flying using \" + self.power_system + str(self.altitude)\n",
    "    \n",
    "    def ascend(self, change):\n",
    "        \n",
    "        self.altitude  +=change"
   ]
  },
  {
   "cell_type": "code",
   "execution_count": 53,
   "id": "2e5b96df-3524-42b4-829f-e6682cc5f243",
   "metadata": {},
   "outputs": [],
   "source": [
    "d4 = Drone()"
   ]
  },
  {
   "cell_type": "code",
   "execution_count": 56,
   "id": "3fec4167-0b83-4a16-8f97-384b650907ac",
   "metadata": {},
   "outputs": [],
   "source": [
    "d4.ascend(400)"
   ]
  },
  {
   "cell_type": "code",
   "execution_count": 57,
   "id": "24de7e97-847b-4639-8547-035876f1a5b3",
   "metadata": {},
   "outputs": [
    {
     "data": {
      "text/plain": [
       "'The drone is flying using battery600'"
      ]
     },
     "execution_count": 57,
     "metadata": {},
     "output_type": "execute_result"
    }
   ],
   "source": [
    "d4.fly()"
   ]
  },
  {
   "cell_type": "code",
   "execution_count": 108,
   "id": "1ee20d05-4f3e-4c43-8982-14acbbeb42f0",
   "metadata": {},
   "outputs": [],
   "source": [
    "class Drone2:\n",
    "    \n",
    "    num_drones = 0\n",
    "    \n",
    "    def __init__(self, altitude = 0):\n",
    "        self.altitude = altitude\n",
    "        self.ascend_count = 0\n",
    "        Drone2.num_drones += 1\n",
    "    \n",
    "    def fly(self):\n",
    "        print(\"The drone is flying at\", self.altitude, \"feet\")\n",
    "    \n",
    "    def ascend(self, change):\n",
    "        \n",
    "        self.altitude += change\n",
    "        self.ascend_count += 1\n",
    "    \n",
    "    def get_altitude(self):\n",
    "        return self.altitude\n",
    "    \n",
    "    def set_altitude(self, new_altitude):\n",
    "        if new_altitude < 0:\n",
    "            raise Exception(\"Dsdf\")\n",
    "        self.altitude = new_altitude"
   ]
  },
  {
   "cell_type": "code",
   "execution_count": 109,
   "id": "6d02f609-bbe6-4a1d-bae7-bb81a32d18d9",
   "metadata": {},
   "outputs": [],
   "source": [
    "d1 = Drone2()"
   ]
  },
  {
   "cell_type": "code",
   "execution_count": 110,
   "id": "a60516e0-8910-440f-a3da-214530282a4e",
   "metadata": {},
   "outputs": [],
   "source": [
    "d2 = Drone2()"
   ]
  },
  {
   "cell_type": "code",
   "execution_count": 88,
   "id": "103b9970-6f00-4658-b493-e232908b30d8",
   "metadata": {},
   "outputs": [
    {
     "data": {
      "text/plain": [
       "3"
      ]
     },
     "execution_count": 88,
     "metadata": {},
     "output_type": "execute_result"
    }
   ],
   "source": [
    "Drone2.num_drones"
   ]
  },
  {
   "cell_type": "code",
   "execution_count": 93,
   "id": "fe6a3f5c-f08f-4466-aa2a-542f71c28a91",
   "metadata": {},
   "outputs": [
    {
     "name": "stdout",
     "output_type": "stream",
     "text": [
      "The drone is flying at 0 feet\n"
     ]
    }
   ],
   "source": [
    "d1.fly()"
   ]
  },
  {
   "cell_type": "code",
   "execution_count": 94,
   "id": "8df47092-ae42-4ec7-8e2e-963852d10530",
   "metadata": {},
   "outputs": [],
   "source": [
    "d1.ascend(300)"
   ]
  },
  {
   "cell_type": "code",
   "execution_count": 95,
   "id": "7853d57f-7824-4d66-9832-8fe34d7af037",
   "metadata": {},
   "outputs": [
    {
     "name": "stdout",
     "output_type": "stream",
     "text": [
      "The drone is flying at 300 feet\n"
     ]
    }
   ],
   "source": [
    "d1.fly()"
   ]
  },
  {
   "cell_type": "code",
   "execution_count": 96,
   "id": "86b0eb24-82f0-44cf-ac78-86bded151e97",
   "metadata": {},
   "outputs": [
    {
     "data": {
      "text/plain": [
       "1"
      ]
     },
     "execution_count": 96,
     "metadata": {},
     "output_type": "execute_result"
    }
   ],
   "source": [
    "d1.ascend_count"
   ]
  },
  {
   "cell_type": "code",
   "execution_count": 97,
   "id": "8c4c48de-693d-4c87-88a2-31cb5def45a0",
   "metadata": {},
   "outputs": [
    {
     "data": {
      "text/plain": [
       "300"
      ]
     },
     "execution_count": 97,
     "metadata": {},
     "output_type": "execute_result"
    }
   ],
   "source": [
    "d1.get_altitude()"
   ]
  },
  {
   "cell_type": "code",
   "execution_count": 105,
   "id": "1044243c-26de-45f9-85b8-61c4f1287ccf",
   "metadata": {},
   "outputs": [
    {
     "data": {
      "text/plain": [
       "0"
      ]
     },
     "execution_count": 105,
     "metadata": {},
     "output_type": "execute_result"
    }
   ],
   "source": [
    "d2.get_altitude()"
   ]
  },
  {
   "cell_type": "code",
   "execution_count": 111,
   "id": "a17630ae-489d-454d-9d33-23ec38b5796e",
   "metadata": {},
   "outputs": [
    {
     "ename": "Exception",
     "evalue": "Dsdf",
     "output_type": "error",
     "traceback": [
      "\u001b[0;31m---------------------------------------------------------------------------\u001b[0m",
      "\u001b[0;31mException\u001b[0m                                 Traceback (most recent call last)",
      "Input \u001b[0;32mIn [111]\u001b[0m, in \u001b[0;36m<cell line: 1>\u001b[0;34m()\u001b[0m\n\u001b[0;32m----> 1\u001b[0m \u001b[43md1\u001b[49m\u001b[38;5;241;43m.\u001b[39;49m\u001b[43mset_altitude\u001b[49m\u001b[43m(\u001b[49m\u001b[38;5;241;43m-\u001b[39;49m\u001b[38;5;241;43m200\u001b[39;49m\u001b[43m)\u001b[49m\n",
      "Input \u001b[0;32mIn [108]\u001b[0m, in \u001b[0;36mDrone2.set_altitude\u001b[0;34m(self, new_altitude)\u001b[0m\n\u001b[1;32m     21\u001b[0m \u001b[38;5;28;01mdef\u001b[39;00m \u001b[38;5;21mset_altitude\u001b[39m(\u001b[38;5;28mself\u001b[39m, new_altitude):\n\u001b[1;32m     22\u001b[0m     \u001b[38;5;28;01mif\u001b[39;00m new_altitude \u001b[38;5;241m<\u001b[39m \u001b[38;5;241m0\u001b[39m:\n\u001b[0;32m---> 23\u001b[0m         \u001b[38;5;28;01mraise\u001b[39;00m \u001b[38;5;167;01mException\u001b[39;00m(\u001b[38;5;124m\"\u001b[39m\u001b[38;5;124mDsdf\u001b[39m\u001b[38;5;124m\"\u001b[39m)\n\u001b[1;32m     24\u001b[0m     \u001b[38;5;28mself\u001b[39m\u001b[38;5;241m.\u001b[39maltitude \u001b[38;5;241m=\u001b[39m new_altitude\n",
      "\u001b[0;31mException\u001b[0m: Dsdf"
     ]
    }
   ],
   "source": [
    "d1.set_altitude(-200)"
   ]
  },
  {
   "cell_type": "code",
   "execution_count": 107,
   "id": "0892f0a6-8f29-4c5c-95c9-78d2888bdd01",
   "metadata": {},
   "outputs": [
    {
     "data": {
      "text/plain": [
       "1"
      ]
     },
     "execution_count": 107,
     "metadata": {},
     "output_type": "execute_result"
    }
   ],
   "source": [
    "d1.ascend_count"
   ]
  },
  {
   "cell_type": "markdown",
   "id": "6421e597-0b32-4bfc-967e-2b5a039651c3",
   "metadata": {},
   "source": [
    "---"
   ]
  },
  {
   "cell_type": "markdown",
   "id": "112a42e1-fe47-49ba-9030-9c1961206f8c",
   "metadata": {},
   "source": [
    "---"
   ]
  },
  {
   "cell_type": "code",
   "execution_count": 117,
   "id": "067b787a-8991-4586-90c3-fe1298a27102",
   "metadata": {},
   "outputs": [],
   "source": [
    "class Animal():\n",
    "    \n",
    "    def __init__(self, name):\n",
    "        self.name = name\n",
    "    \n",
    "    def __repr__(self):\n",
    "        return f\"I am a {self.name}\""
   ]
  },
  {
   "cell_type": "code",
   "execution_count": 118,
   "id": "532040d7-7d05-49c2-ba84-23cd6ce74cba",
   "metadata": {},
   "outputs": [],
   "source": [
    "a1 = Animal('sdsf')"
   ]
  },
  {
   "cell_type": "code",
   "execution_count": 114,
   "id": "405f5c28-d1d5-4a87-b3d6-9d734cb18e8e",
   "metadata": {},
   "outputs": [
    {
     "name": "stdout",
     "output_type": "stream",
     "text": [
      "<__main__.Animal object at 0x7fe4405124c0>\n"
     ]
    }
   ],
   "source": [
    "print(a1)"
   ]
  },
  {
   "cell_type": "code",
   "execution_count": 119,
   "id": "ead9c3a3-7523-41e5-94f8-49ae588b6017",
   "metadata": {},
   "outputs": [
    {
     "data": {
      "text/plain": [
       "I am a sdsf"
      ]
     },
     "execution_count": 119,
     "metadata": {},
     "output_type": "execute_result"
    }
   ],
   "source": [
    "a1"
   ]
  },
  {
   "cell_type": "code",
   "execution_count": 116,
   "id": "6299ff92-e5fb-413a-9b17-da06868f35f4",
   "metadata": {},
   "outputs": [
    {
     "data": {
      "text/plain": [
       "{'name': 'sdsf'}"
      ]
     },
     "execution_count": 116,
     "metadata": {},
     "output_type": "execute_result"
    }
   ],
   "source": [
    "a1.__dict__"
   ]
  },
  {
   "cell_type": "code",
   "execution_count": 120,
   "id": "eec6ce8a-129b-438e-a29b-e2540fc44cec",
   "metadata": {},
   "outputs": [
    {
     "name": "stdout",
     "output_type": "stream",
     "text": [
      "I am a sdsf\n"
     ]
    }
   ],
   "source": [
    "print(a1)"
   ]
  },
  {
   "cell_type": "code",
   "execution_count": 126,
   "id": "70b3a066-8d93-46e3-86c2-15dc226f153f",
   "metadata": {},
   "outputs": [],
   "source": [
    "class Animal():\n",
    "    \n",
    "    def __init__(self, name):\n",
    "        self.name = name\n",
    "        \n",
    "    def __repr__(self):\n",
    "        return f\"I am a {self.name}.\"\n",
    "\n",
    "    def __str__(self):\n",
    "        print('Calling repr')\n",
    "        return self.__repr__()"
   ]
  },
  {
   "cell_type": "code",
   "execution_count": 127,
   "id": "b2011c65-775e-4626-9292-c32ab3797adb",
   "metadata": {},
   "outputs": [],
   "source": [
    "d = Animal('sdf')"
   ]
  },
  {
   "cell_type": "code",
   "execution_count": 128,
   "id": "802cd946-6a33-4ce7-9aa2-357d33e9ac70",
   "metadata": {},
   "outputs": [
    {
     "data": {
      "text/plain": [
       "I am a sdf."
      ]
     },
     "execution_count": 128,
     "metadata": {},
     "output_type": "execute_result"
    }
   ],
   "source": [
    "d"
   ]
  },
  {
   "cell_type": "code",
   "execution_count": 129,
   "id": "53ef674e-78d0-408c-98b9-80063fb4867c",
   "metadata": {},
   "outputs": [
    {
     "name": "stdout",
     "output_type": "stream",
     "text": [
      "Calling repr\n",
      "I am a sdf.\n"
     ]
    }
   ],
   "source": [
    "print(d)"
   ]
  },
  {
   "cell_type": "markdown",
   "id": "d3c5cc39-8321-4d84-ab93-1e0c0fb10223",
   "metadata": {},
   "source": [
    "---"
   ]
  },
  {
   "cell_type": "code",
   "execution_count": 130,
   "id": "eb704e51-4f36-4541-9495-50c25f808869",
   "metadata": {},
   "outputs": [],
   "source": [
    "class Zoo():\n",
    "    \n",
    "    def __init__(self):\n",
    "        self.animals = []\n",
    "    \n",
    "    def add_animal(self, animal):\n",
    "        self.animals.append(animal)"
   ]
  },
  {
   "cell_type": "code",
   "execution_count": 131,
   "id": "a1bb31ed-e27a-4028-bb9c-661b56e62ebd",
   "metadata": {},
   "outputs": [],
   "source": [
    "zoo = Zoo()"
   ]
  },
  {
   "cell_type": "code",
   "execution_count": 133,
   "id": "964de38e-4ed1-4867-8851-d32d5bb38865",
   "metadata": {},
   "outputs": [],
   "source": [
    "zoo.add_animal('a2')"
   ]
  },
  {
   "cell_type": "code",
   "execution_count": 134,
   "id": "f036cddd-77db-46c4-88bc-15fd6bc47963",
   "metadata": {},
   "outputs": [
    {
     "data": {
      "text/plain": [
       "{'animals': ['a1', 'a2']}"
      ]
     },
     "execution_count": 134,
     "metadata": {},
     "output_type": "execute_result"
    }
   ],
   "source": [
    "zoo.__dict__"
   ]
  },
  {
   "cell_type": "code",
   "execution_count": 135,
   "id": "0f6b21be-aa09-4ab1-8cab-3953d04604e7",
   "metadata": {},
   "outputs": [
    {
     "data": {
      "text/plain": [
       "['a1', 'a2']"
      ]
     },
     "execution_count": 135,
     "metadata": {},
     "output_type": "execute_result"
    }
   ],
   "source": [
    "zoo.animals"
   ]
  },
  {
   "cell_type": "markdown",
   "id": "8e32e804-931b-4d1a-b1ff-c68a99c66870",
   "metadata": {},
   "source": [
    "---"
   ]
  },
  {
   "cell_type": "code",
   "execution_count": 136,
   "id": "3e05d40c-aea0-48d4-bc7d-589c2ad1a990",
   "metadata": {},
   "outputs": [],
   "source": [
    "class Animal():\n",
    "    \n",
    "    def __init__(self, name):\n",
    "        self.name = name\n",
    "        \n",
    "    def __repr__(self):\n",
    "        return f\"I am a {self.name}.\"\n",
    "\n",
    "    def __str__(self):\n",
    "        print('Calling repr')\n",
    "        return self.__repr__()\n",
    "\n",
    "class Zoo():\n",
    "    \n",
    "    def __init__(self):\n",
    "        self.animals = []\n",
    "    \n",
    "    def add_animal(self, animal):\n",
    "        self.animals.append(animal)"
   ]
  },
  {
   "cell_type": "code",
   "execution_count": 137,
   "id": "4bb96d6e-03fe-436c-b5f8-d0cca407e63d",
   "metadata": {},
   "outputs": [],
   "source": [
    "d1 = Animal('d1')\n",
    "d2 = Animal('d2')\n",
    "d3 = Animal('d3')\n",
    "d4 = Animal('d4')\n"
   ]
  },
  {
   "cell_type": "code",
   "execution_count": 138,
   "id": "746aabc3-75e5-4b0c-82dc-0991d92bbb46",
   "metadata": {},
   "outputs": [],
   "source": [
    "zoo.add_animal(d1)\n",
    "zoo.add_animal(d2)\n",
    "zoo.add_animal(d3)\n",
    "zoo.add_animal(d4)"
   ]
  },
  {
   "cell_type": "code",
   "execution_count": 140,
   "id": "8a6a0877-0f4b-41e5-b45b-32e9330cf967",
   "metadata": {},
   "outputs": [
    {
     "data": {
      "text/plain": [
       "['a1', 'a2', I am a d1., I am a d2., I am a d3., I am a d4.]"
      ]
     },
     "execution_count": 140,
     "metadata": {},
     "output_type": "execute_result"
    }
   ],
   "source": [
    "zoo.animals"
   ]
  },
  {
   "cell_type": "code",
   "execution_count": null,
   "id": "2b6e7185-9be0-4359-87a9-7454371ee73e",
   "metadata": {},
   "outputs": [],
   "source": []
  }
 ],
 "metadata": {
  "kernelspec": {
   "display_name": "Python 3 (ipykernel)",
   "language": "python",
   "name": "python3"
  },
  "language_info": {
   "codemirror_mode": {
    "name": "ipython",
    "version": 3
   },
   "file_extension": ".py",
   "mimetype": "text/x-python",
   "name": "python",
   "nbconvert_exporter": "python",
   "pygments_lexer": "ipython3",
   "version": "3.9.12"
  }
 },
 "nbformat": 4,
 "nbformat_minor": 5
}
