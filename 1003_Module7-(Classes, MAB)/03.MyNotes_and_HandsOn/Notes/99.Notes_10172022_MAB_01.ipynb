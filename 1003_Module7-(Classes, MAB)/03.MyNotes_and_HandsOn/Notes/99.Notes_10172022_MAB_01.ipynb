{
 "cells": [
  {
   "cell_type": "markdown",
   "id": "2de53388-4669-4db4-b143-91d51ec4af4d",
   "metadata": {},
   "source": [
    "# MAB"
   ]
  },
  {
   "cell_type": "markdown",
   "id": "8e36f958-03a8-4380-93fa-cd94491a7cdb",
   "metadata": {
    "tags": []
   },
   "source": [
    "## Slots --> Browsing User"
   ]
  },
  {
   "cell_type": "code",
   "execution_count": 5,
   "id": "a17a4969-cc67-4e56-bf14-d88d8a3e8cd3",
   "metadata": {
    "tags": []
   },
   "outputs": [],
   "source": [
    "import numpy as np\n",
    "import matplotlib.pyplot as plt\n",
    "\n",
    "class Slot: # 'Browsing User'\n",
    "    \n",
    "    def __init__(self, game):\n",
    "        self.__probability = np.random.uniform()\n",
    "        self.game = game\n",
    "    \n",
    "    def __repr__(self):\n",
    "        return \"The secret probability of the slot machine is \" + str(self.__probability)\n",
    "    \n",
    "    def pull(self):\n",
    "        if not self.game.pulls_remaining():\n",
    "            raise Exception (\"The player does not have the budget..\")\n",
    "        \n",
    "        result = np.random.choice((True, False), p = [self.__probability, 1-self.__probability])\n",
    "        self.game.history.append(result)\n",
    "        self.game.score +=result\n",
    "        return result"
   ]
  },
  {
   "cell_type": "code",
   "execution_count": 18,
   "id": "db4f82b1-a760-4a6a-8d37-37780b7b0dc6",
   "metadata": {
    "tags": []
   },
   "outputs": [
    {
     "data": {
      "text/plain": [
       "[The secret probability of the slot machine is 0.3159753430286194,\n",
       " The secret probability of the slot machine is 0.723005721015194,\n",
       " The secret probability of the slot machine is 0.7220940687408547,\n",
       " The secret probability of the slot machine is 0.21055644336853607,\n",
       " The secret probability of the slot machine is 0.6028050109425871,\n",
       " The secret probability of the slot machine is 0.31694970684397195,\n",
       " The secret probability of the slot machine is 0.7826242082621564,\n",
       " The secret probability of the slot machine is 0.7327395002269957,\n",
       " The secret probability of the slot machine is 0.17486886765028065,\n",
       " The secret probability of the slot machine is 0.9487255990707549]"
      ]
     },
     "execution_count": 18,
     "metadata": {},
     "output_type": "execute_result"
    }
   ],
   "source": [
    "slots = [Slot(game) for i in range(10)]\n",
    "slots"
   ]
  },
  {
   "cell_type": "code",
   "execution_count": 42,
   "id": "9cd29e7d-d316-4b50-b3aa-731db4531969",
   "metadata": {
    "collapsed": true,
    "jupyter": {
     "outputs_hidden": true,
     "source_hidden": true
    },
    "tags": []
   },
   "outputs": [
    {
     "data": {
      "text/plain": [
       "The secret probability of the slot machine is 0.3510583833931351"
      ]
     },
     "execution_count": 42,
     "metadata": {},
     "output_type": "execute_result"
    }
   ],
   "source": [
    "s1"
   ]
  },
  {
   "cell_type": "code",
   "execution_count": 64,
   "id": "e4d61cb2-c5a9-49a0-a065-3049c2c24fe2",
   "metadata": {
    "collapsed": true,
    "jupyter": {
     "outputs_hidden": true,
     "source_hidden": true
    },
    "tags": []
   },
   "outputs": [
    {
     "name": "stdout",
     "output_type": "stream",
     "text": [
      "The win ratio is 0.35\n"
     ]
    }
   ],
   "source": [
    "results = [s1.pull() for i in range(20)]\n",
    "print(\"The win ratio is\", sum(results)/len(results))"
   ]
  },
  {
   "cell_type": "markdown",
   "id": "e8f486d1-c807-479f-afd2-c693a9345459",
   "metadata": {},
   "source": [
    "---"
   ]
  },
  {
   "cell_type": "markdown",
   "id": "9dbdbda5-1a51-427d-ad07-8bad38f66b5b",
   "metadata": {},
   "source": [
    "## Player/s --> Bidder"
   ]
  },
  {
   "cell_type": "code",
   "execution_count": 6,
   "id": "c710eef4-c70a-4ebb-b0b8-b1d63b0409d1",
   "metadata": {},
   "outputs": [],
   "source": [
    "class Player: # Bidder\n",
    "    \n",
    "    def __init__(self, slots):\n",
    "        self.slots = slots\n",
    "    \n",
    "    def play(self):\n",
    "        chosen = np.random.randint(0, len(slots))\n",
    "#        print(chosen)\n",
    "        return slots[chosen].pull()"
   ]
  },
  {
   "cell_type": "code",
   "execution_count": 6,
   "id": "0f4bd6f8-bef6-44c2-ac9a-b24ce3413dff",
   "metadata": {
    "tags": []
   },
   "outputs": [],
   "source": [
    "p1 = Player(slots)\n",
    "#[p1.play() for i in range(10)]"
   ]
  },
  {
   "cell_type": "code",
   "execution_count": 25,
   "id": "b48fdae1-f868-4d1a-9c3f-4c2141b44b92",
   "metadata": {
    "tags": []
   },
   "outputs": [
    {
     "name": "stdout",
     "output_type": "stream",
     "text": [
      "0\n"
     ]
    },
    {
     "data": {
      "text/plain": [
       "False"
      ]
     },
     "execution_count": 25,
     "metadata": {},
     "output_type": "execute_result"
    }
   ],
   "source": [
    "p1.play()"
   ]
  },
  {
   "cell_type": "markdown",
   "id": "d04cc0fc-e6d4-428a-b7f3-4209e22f9aca",
   "metadata": {},
   "source": [
    "---"
   ]
  },
  {
   "cell_type": "markdown",
   "id": "d5bfa54c-33ab-47ec-85de-9de3350a3fcd",
   "metadata": {},
   "source": [
    "## Game --> Auction"
   ]
  },
  {
   "cell_type": "code",
   "execution_count": 7,
   "id": "9233dec7-7c9b-47b6-ae50-3f8bce98c270",
   "metadata": {},
   "outputs": [],
   "source": [
    "class Game(): # Auction\n",
    "    \n",
    "    def __init__(self, num_pulls):\n",
    "        self.num_pulls = num_pulls\n",
    "        self.history = []\n",
    "        self.score = 0\n",
    "        self.bet = 0\n",
    "        self.budget = 0\n",
    "    \n",
    "    def pulls_remaining(self):\n",
    "        return self.num_pulls > len(self.history)\n",
    "    def budget_remaining(self):\n",
    "        return (self.bet * self.num_pulls) > self.budget\n",
    "    def plot_history(self):\n",
    "        plt.plot(np.cumsum(self.history))\n",
    "        plt.title(\"Reward History\")\n",
    "        plt.xlabel(\"pull number\")\n",
    "        plt.ylabel(\"total reward\")"
   ]
  },
  {
   "cell_type": "code",
   "execution_count": 15,
   "id": "e9f7572f-fcb8-4e30-a605-a2f8c9c1dfcf",
   "metadata": {
    "jupyter": {
     "source_hidden": true
    },
    "tags": []
   },
   "outputs": [],
   "source": [
    "game = Game(10)"
   ]
  },
  {
   "cell_type": "code",
   "execution_count": 10,
   "id": "99344280-b4e9-477a-8f33-b6f42eaf1bda",
   "metadata": {
    "collapsed": true,
    "jupyter": {
     "outputs_hidden": true,
     "source_hidden": true
    },
    "tags": []
   },
   "outputs": [
    {
     "data": {
      "text/plain": [
       "7"
      ]
     },
     "execution_count": 10,
     "metadata": {},
     "output_type": "execute_result"
    }
   ],
   "source": [
    "game.score"
   ]
  },
  {
   "cell_type": "code",
   "execution_count": 27,
   "id": "41d48662-6a1c-49da-ad69-b3517c644480",
   "metadata": {
    "collapsed": true,
    "jupyter": {
     "outputs_hidden": true,
     "source_hidden": true
    },
    "tags": []
   },
   "outputs": [
    {
     "data": {
      "text/plain": [
       "[False, False, False, False, True, False]"
      ]
     },
     "execution_count": 27,
     "metadata": {},
     "output_type": "execute_result"
    }
   ],
   "source": [
    "game.history"
   ]
  },
  {
   "cell_type": "code",
   "execution_count": 9,
   "id": "074a7580-8647-4b18-ae02-37af4fec8611",
   "metadata": {},
   "outputs": [
    {
     "data": {
      "image/png": "[encoded data removed]",
      "text/plain": [
       "<Figure size 432x288 with 1 Axes>"
      ]
     },
     "metadata": {
      "needs_background": "light"
     },
     "output_type": "display_data"
    }
   ],
   "source": [
    "game = Game(300)\n",
    "slots = [Slot(game) for i in range(10)]\n",
    "player = Player(slots)\n",
    "\n",
    "for i in range(game.num_pulls): \n",
    "    player.play()\n",
    "game.plot_history()"
   ]
  },
  {
   "cell_type": "code",
   "execution_count": 8,
   "id": "e32b16ce-200f-4a2a-ba08-f94aaf63c862",
   "metadata": {},
   "outputs": [
    {
     "ename": "NameError",
     "evalue": "name 'slots' is not defined",
     "output_type": "error",
     "traceback": [
      "\u001b[0;31m---------------------------------------------------------------------------\u001b[0m",
      "\u001b[0;31mNameError\u001b[0m                                 Traceback (most recent call last)",
      "Input \u001b[0;32mIn [8]\u001b[0m, in \u001b[0;36m<cell line: 5>\u001b[0;34m()\u001b[0m\n\u001b[1;32m      3\u001b[0m player2 \u001b[38;5;241m=\u001b[39m Player(slots2)\n\u001b[1;32m      5\u001b[0m \u001b[38;5;28;01mfor\u001b[39;00m i \u001b[38;5;129;01min\u001b[39;00m \u001b[38;5;28mrange\u001b[39m(game2\u001b[38;5;241m.\u001b[39mnum_pulls): \n\u001b[0;32m----> 6\u001b[0m     \u001b[43mplayer2\u001b[49m\u001b[38;5;241;43m.\u001b[39;49m\u001b[43mplay\u001b[49m\u001b[43m(\u001b[49m\u001b[43m)\u001b[49m\n\u001b[1;32m      7\u001b[0m game2\u001b[38;5;241m.\u001b[39mplot_history()\n",
      "Input \u001b[0;32mIn [6]\u001b[0m, in \u001b[0;36mPlayer.play\u001b[0;34m(self)\u001b[0m\n\u001b[1;32m      6\u001b[0m     \u001b[38;5;28;01mdef\u001b[39;00m \u001b[38;5;21mplay\u001b[39m(\u001b[38;5;28mself\u001b[39m):\n\u001b[0;32m----> 7\u001b[0m         chosen \u001b[38;5;241m=\u001b[39m np\u001b[38;5;241m.\u001b[39mrandom\u001b[38;5;241m.\u001b[39mrandint(\u001b[38;5;241m0\u001b[39m, \u001b[38;5;28mlen\u001b[39m(\u001b[43mslots\u001b[49m))\n\u001b[1;32m      8\u001b[0m \u001b[38;5;66;03m#        print(chosen)\u001b[39;00m\n\u001b[1;32m      9\u001b[0m         \u001b[38;5;28;01mreturn\u001b[39;00m slots[chosen]\u001b[38;5;241m.\u001b[39mpull()\n",
      "\u001b[0;31mNameError\u001b[0m: name 'slots' is not defined"
     ]
    }
   ],
   "source": [
    "game2 = Game(300)\n",
    "slots2 = [Slot(game2) for i in range(10)]\n",
    "player2 = Player(slots2)\n",
    "\n",
    "for i in range(game2.num_pulls): \n",
    "    player2.play()\n",
    "game2.plot_history()"
   ]
  },
  {
   "cell_type": "markdown",
   "id": "8ae27a07-89a7-458f-96db-901e3c1d8c8a",
   "metadata": {},
   "source": [
    "---"
   ]
  },
  {
   "cell_type": "code",
   "execution_count": 10,
   "id": "0cc0fc92-7b4a-4d69-9a37-3a1f49f3c5da",
   "metadata": {},
   "outputs": [],
   "source": [
    "import numpy as np\n",
    "import matplotlib.pyplot as plt\n",
    "\n",
    "class Slot: # 'Browsing User'\n",
    "    \n",
    "    def __init__(self, game):\n",
    "        self.__probability = np.random.uniform()\n",
    "        self.game = game\n",
    "    \n",
    "    def __repr__(self):\n",
    "        return \"The secret probability of the slot machine is \" + str(self.__probability)\n",
    "    \n",
    "    def pull(self):\n",
    "        if not self.game.pulls_remaining():\n",
    "            raise Exception (\"The player does not have the budget..\")\n",
    "        \n",
    "        result = np.random.choice((True, False), p = [self.__probability, 1-self.__probability])\n",
    "        self.game.history.append(result)\n",
    "        self.game.score +=result\n",
    "        return result\n",
    "\n",
    "class Player: # Bidder\n",
    "    \n",
    "    def __init__(self, slots):\n",
    "        self.slots = slots\n",
    "    \n",
    "    def play(self):\n",
    "        chosen = np.random.randint(0, len(slots))\n",
    "#        print(chosen)\n",
    "        return slots[chosen].pull()\n",
    "\n",
    "class Game(): # Auction\n",
    "    \n",
    "    def __init__(self, num_pulls):\n",
    "        self.num_pulls = num_pulls\n",
    "        self.history = []\n",
    "        self.score = 0\n",
    "        self.bet = 0\n",
    "        self.budget = 0\n",
    "    \n",
    "    def pulls_remaining(self):\n",
    "        return self.num_pulls > len(self.history)\n",
    "    def budget_remaining(self):\n",
    "        return (self.bet * self.num_pulls) > self.budget\n",
    "    def plot_history(self):\n",
    "        plt.plot(np.cumsum(self.history))\n",
    "        plt.title(\"Reward History\")\n",
    "        plt.xlabel(\"pull number\")\n",
    "        plt.ylabel(\"total reward\")\n"
   ]
  },
  {
   "cell_type": "code",
   "execution_count": 11,
   "id": "9b98f234-6cd2-4445-99f0-f6b91790b6e7",
   "metadata": {},
   "outputs": [
    {
     "data": {
      "image/png": "[encoded data removed]",
      "text/plain": [
       "<Figure size 432x288 with 1 Axes>"
      ]
     },
     "metadata": {
      "needs_background": "light"
     },
     "output_type": "display_data"
    }
   ],
   "source": [
    "game = Game(300)\n",
    "slots = [Slot(game) for i in range(10)]\n",
    "player = Player(slots)\n",
    "\n",
    "for i in range(game.num_pulls): \n",
    "    player.play()\n",
    "game.plot_history()"
   ]
  },
  {
   "cell_type": "code",
   "execution_count": null,
   "id": "5d5b8fc3-ebc6-422e-850b-77ca6017fee7",
   "metadata": {},
   "outputs": [],
   "source": []
  }
 ],
 "metadata": {
  "kernelspec": {
   "display_name": "Python 3 (ipykernel)",
   "language": "python",
   "name": "python3"
  },
  "language_info": {
   "codemirror_mode": {
    "name": "ipython",
    "version": 3
   },
   "file_extension": ".py",
   "mimetype": "text/x-python",
   "name": "python",
   "nbconvert_exporter": "python",
   "pygments_lexer": "ipython3",
   "version": "3.9.12"
  }
 },
 "nbformat": 4,
 "nbformat_minor": 5
}
