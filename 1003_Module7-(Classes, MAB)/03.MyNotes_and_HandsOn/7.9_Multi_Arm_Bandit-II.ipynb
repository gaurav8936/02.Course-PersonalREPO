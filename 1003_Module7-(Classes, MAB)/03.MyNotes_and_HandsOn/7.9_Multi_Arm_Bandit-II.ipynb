{
 "cells": [
  {
   "cell_type": "markdown",
   "id": "dfc3d956-71e6-4a94-9e2e-ffd614a04b9d",
   "metadata": {},
   "source": [
    "# Bandit Class"
   ]
  },
  {
   "cell_type": "code",
   "execution_count": 23,
   "id": "97540581-92ea-4247-952e-458fef1742df",
   "metadata": {},
   "outputs": [],
   "source": [
    "import numpy as np\n",
    "\n",
    "class Bandit:\n",
    "    \n",
    "    \"\"\"\n",
    "    \n",
    "    Class to represent a slot machine with a secret probability of reward\n",
    "    \"\"\"\n",
    "    \n",
    "    def __init__(self):\n",
    "        self.__probability = np.random.uniform()\n",
    "        \n",
    "    def __repr__(self):\n",
    "        return \"this is a bandit object with secret probability \"  + str(self.__probability)\n",
    "    \n",
    "    def pull(self):\n",
    "        \n",
    "        \"\"\"\n",
    "        \n",
    "        returns true representing a reward or false representing no reward\n",
    "        \"\"\"\n",
    "        \n",
    "        return np.random.choice((True, False), p=[self.__probability, 1-self.__probability])"
   ]
  },
  {
   "cell_type": "code",
   "execution_count": 24,
   "id": "639250ae-3e6d-43f0-af31-f2ae32ef30c4",
   "metadata": {},
   "outputs": [
    {
     "data": {
      "text/plain": [
       "this is a bandit object with secret probability 0.4403993829596672"
      ]
     },
     "execution_count": 24,
     "metadata": {},
     "output_type": "execute_result"
    }
   ],
   "source": [
    "b5 = Bandit()\n",
    "b5"
   ]
  },
  {
   "cell_type": "code",
   "execution_count": 25,
   "id": "28fd5a2e-9f95-490a-bfc5-dc2389929f8c",
   "metadata": {},
   "outputs": [
    {
     "data": {
      "text/plain": [
       "False"
      ]
     },
     "execution_count": 25,
     "metadata": {},
     "output_type": "execute_result"
    }
   ],
   "source": [
    "b5.pull()"
   ]
  },
  {
   "cell_type": "markdown",
   "id": "f1c69226-b583-4f03-8eb4-582cc4105dce",
   "metadata": {},
   "source": [
    "---"
   ]
  },
  {
   "cell_type": "code",
   "execution_count": 22,
   "id": "89b0113e-1a0b-4563-a08e-315a24657bd0",
   "metadata": {
    "collapsed": true,
    "jupyter": {
     "outputs_hidden": true
    },
    "tags": []
   },
   "outputs": [
    {
     "data": {
      "text/plain": [
       "[False,\n",
       " False,\n",
       " False,\n",
       " False,\n",
       " False,\n",
       " True,\n",
       " False,\n",
       " False,\n",
       " False,\n",
       " False,\n",
       " False,\n",
       " False,\n",
       " False,\n",
       " False,\n",
       " False,\n",
       " False,\n",
       " False,\n",
       " False,\n",
       " False,\n",
       " False]"
      ]
     },
     "execution_count": 22,
     "metadata": {},
     "output_type": "execute_result"
    }
   ],
   "source": [
    "[b5.pull() for i in range(20)]"
   ]
  },
  {
   "cell_type": "code",
   "execution_count": 23,
   "id": "b52b66a4-2875-4ef7-ab9f-e3ac9f04fb74",
   "metadata": {},
   "outputs": [],
   "source": [
    "results = [b5.pull() for i in range(20)]"
   ]
  },
  {
   "cell_type": "code",
   "execution_count": 24,
   "id": "48c1e6f5-9888-465c-920c-e242147b0d67",
   "metadata": {
    "collapsed": true,
    "jupyter": {
     "outputs_hidden": true
    },
    "tags": []
   },
   "outputs": [
    {
     "data": {
      "text/plain": [
       "[False,\n",
       " True,\n",
       " False,\n",
       " False,\n",
       " False,\n",
       " False,\n",
       " False,\n",
       " False,\n",
       " False,\n",
       " False,\n",
       " False,\n",
       " False,\n",
       " False,\n",
       " False,\n",
       " False,\n",
       " False,\n",
       " False,\n",
       " False,\n",
       " False,\n",
       " False]"
      ]
     },
     "execution_count": 24,
     "metadata": {},
     "output_type": "execute_result"
    }
   ],
   "source": [
    "results"
   ]
  },
  {
   "cell_type": "code",
   "execution_count": 25,
   "id": "56edf00a-138d-48dc-9f78-c1cdf7f219e4",
   "metadata": {},
   "outputs": [
    {
     "data": {
      "text/plain": [
       "1"
      ]
     },
     "execution_count": 25,
     "metadata": {},
     "output_type": "execute_result"
    }
   ],
   "source": [
    "sum(results)"
   ]
  },
  {
   "cell_type": "code",
   "execution_count": 26,
   "id": "cc60e666-1f0c-4a23-a87b-7f7d84e3d340",
   "metadata": {},
   "outputs": [],
   "source": [
    "# win ration"
   ]
  },
  {
   "cell_type": "code",
   "execution_count": 27,
   "id": "52eb79c5-41f4-4d33-af3b-34c5b59a093f",
   "metadata": {},
   "outputs": [
    {
     "data": {
      "text/plain": [
       "0.05"
      ]
     },
     "execution_count": 27,
     "metadata": {},
     "output_type": "execute_result"
    }
   ],
   "source": [
    "sum(results)/ len(results)"
   ]
  },
  {
   "cell_type": "markdown",
   "id": "a4c3bbdc-ca6f-493d-bd8a-05c647cb9acc",
   "metadata": {},
   "source": [
    "    i.e 5% change of winning at this"
   ]
  },
  {
   "cell_type": "markdown",
   "id": "d64d05d4-d2f0-4c86-a6f8-39077330775a",
   "metadata": {},
   "source": [
    "---"
   ]
  },
  {
   "cell_type": "markdown",
   "id": "bd445824-75fa-4f1c-b946-df07d7117a1c",
   "metadata": {},
   "source": [
    "---"
   ]
  },
  {
   "cell_type": "markdown",
   "id": "c641c8ef-ae5d-471f-863d-b4f2c02ce197",
   "metadata": {},
   "source": [
    "# Solver Class"
   ]
  },
  {
   "cell_type": "code",
   "execution_count": 55,
   "id": "5aa40a6c-03b5-4e04-81bc-889b45b9e6c1",
   "metadata": {
    "jupyter": {
     "source_hidden": true
    },
    "tags": []
   },
   "outputs": [],
   "source": [
    "class RandomSolver:\n",
    "    \n",
    "    \"\"\"\n",
    "    represents a player in a multi-armed bandit problem\n",
    "    the algorithm is to choose a bandit completely at random\n",
    "    \n",
    "    \"\"\"\n",
    "    \n",
    "    def __init__(self, bandits):\n",
    "        # at the smae time we crate the solver, we tell the solver where the bandits are\n",
    "        \n",
    "        self.bandits = bandits\n",
    "    \n",
    "    def move(self):\n",
    "        \n",
    "        \"\"\"\n",
    "        \n",
    "        makes this solver choose a bandit and call pull on it. Returns true is reward is given\n",
    "        \"\"\"\n",
    "        \n",
    "        \n",
    "        # attriute that is also a method\n",
    "        \n",
    "        # needs to choose one of these bandits and pull the lever\n",
    "        # this is where the strategy goes\n",
    "        \n",
    "        # choose at random (use any of the random methods in np)\n",
    "        \n",
    "        chosen = np.random.randint(0, len(bandits))\n",
    "        print(\"Choosing bandit number\", chosen)\n",
    "        \n",
    "        # to gt the actual bandit object\n",
    "        \n",
    "        return bandits[chosen].pull()\n",
    "        # returns true or false"
   ]
  },
  {
   "cell_type": "code",
   "execution_count": 27,
   "id": "89be049a-14ab-4d60-a913-b6f1f84afd3b",
   "metadata": {},
   "outputs": [
    {
     "data": {
      "text/plain": [
       "[this is a bandit object with secret probability 0.8919639484434378,\n",
       " this is a bandit object with secret probability 0.2236221289688567,\n",
       " this is a bandit object with secret probability 0.9367486111564436,\n",
       " this is a bandit object with secret probability 0.3387093526747452,\n",
       " this is a bandit object with secret probability 0.06340931863747035,\n",
       " this is a bandit object with secret probability 0.4784089983532357,\n",
       " this is a bandit object with secret probability 0.3926264812429553,\n",
       " this is a bandit object with secret probability 0.6079156135235504,\n",
       " this is a bandit object with secret probability 0.5266328260710693,\n",
       " this is a bandit object with secret probability 0.7231403676576295]"
      ]
     },
     "execution_count": 27,
     "metadata": {},
     "output_type": "execute_result"
    }
   ],
   "source": [
    "# list of bandits\n",
    "\n",
    "bandits = [Bandit() for i in range(10)]\n",
    "bandits"
   ]
  },
  {
   "cell_type": "markdown",
   "id": "900667f6-e2ce-4ae7-99ff-bb6571c1c2b4",
   "metadata": {},
   "source": [
    "---"
   ]
  },
  {
   "cell_type": "markdown",
   "id": "fb4ef3b3-eca1-4d6c-9bbe-402cc9172640",
   "metadata": {},
   "source": [
    "---"
   ]
  },
  {
   "cell_type": "code",
   "execution_count": 8,
   "id": "91d0f5e5-105e-44f3-acb8-e0aa59ebdeb1",
   "metadata": {},
   "outputs": [],
   "source": [
    "solver = RandomSolver(bandits)"
   ]
  },
  {
   "cell_type": "code",
   "execution_count": 28,
   "id": "a48bd95f-98c3-48bd-b8fc-1ca04bcc35bf",
   "metadata": {},
   "outputs": [
    {
     "name": "stdout",
     "output_type": "stream",
     "text": [
      "Choosing bandit number 0\n",
      "Choosing bandit number 6\n",
      "Choosing bandit number 1\n",
      "Choosing bandit number 2\n",
      "Choosing bandit number 4\n",
      "Choosing bandit number 2\n",
      "Choosing bandit number 6\n",
      "Choosing bandit number 5\n",
      "Choosing bandit number 2\n",
      "Choosing bandit number 1\n"
     ]
    },
    {
     "data": {
      "text/plain": [
       "3"
      ]
     },
     "execution_count": 28,
     "metadata": {},
     "output_type": "execute_result"
    }
   ],
   "source": [
    "sum( [ solver.move() for i in range(10)])"
   ]
  },
  {
   "cell_type": "code",
   "execution_count": 39,
   "id": "48dd223f-0c12-45ea-975a-11816921d6c6",
   "metadata": {},
   "outputs": [],
   "source": [
    "# this gives us 5 rewards out of 10 tries"
   ]
  },
  {
   "cell_type": "markdown",
   "id": "8a167244-e5cb-43f3-bac2-a819a56280ae",
   "metadata": {},
   "source": [
    "---"
   ]
  },
  {
   "cell_type": "code",
   "execution_count": null,
   "id": "5a11598f-ea30-4c1d-8f73-7ccd783ba645",
   "metadata": {},
   "outputs": [],
   "source": []
  },
  {
   "cell_type": "code",
   "execution_count": null,
   "id": "f0ab3102-7be6-431a-a62f-c8de4cdf828f",
   "metadata": {},
   "outputs": [],
   "source": []
  },
  {
   "cell_type": "code",
   "execution_count": null,
   "id": "a601f5b8-2c99-481a-a30e-c2cb4d12793b",
   "metadata": {},
   "outputs": [],
   "source": []
  },
  {
   "cell_type": "markdown",
   "id": "40421f79-d832-4626-831a-a466c2e403fe",
   "metadata": {},
   "source": [
    "# Solver Class (repeat for ease)"
   ]
  },
  {
   "cell_type": "code",
   "execution_count": 56,
   "id": "4d00dc69-ec0f-49d9-b40f-a886347b85b4",
   "metadata": {},
   "outputs": [],
   "source": [
    "class RandomSolver:\n",
    "    \n",
    "    \"\"\"\n",
    "    represents a player in a multi-armed bandit problem\n",
    "    the algorithm is to choose a bandit completely at random\n",
    "    \n",
    "    \"\"\"\n",
    "    \n",
    "    def __init__(self, bandits):\n",
    "        # at the smae time we crate the solver, we tell the solver where the bandits are\n",
    "        \n",
    "        self.bandits = bandits\n",
    "    \n",
    "    def move(self):\n",
    "        \n",
    "        \"\"\"\n",
    "        \n",
    "        makes this solver choose a bandit and call pull on it. Returns true is reward is given\n",
    "        \"\"\"\n",
    "        \n",
    "        \n",
    "        # attriute that is also a method\n",
    "        \n",
    "        # needs to choose one of these bandits and pull the lever\n",
    "        # this is where the strategy goes\n",
    "        \n",
    "        # choose at random (use any of the random methods in np)\n",
    "        \n",
    "        chosen = np.random.randint(0, len(bandits))\n",
    "        print(\"Choosing bandit number\", chosen)\n",
    "        \n",
    "        # to gt the actual bandit object\n",
    "        \n",
    "        return bandits[chosen].pull()\n",
    "        # returns true or false"
   ]
  },
  {
   "cell_type": "markdown",
   "id": "77cec270-698c-4c0c-8fcd-84b68781f403",
   "metadata": {},
   "source": [
    "# Game Class"
   ]
  },
  {
   "cell_type": "code",
   "execution_count": 16,
   "id": "1a4ae04e-0b5a-4642-b93d-bc8bae90218f",
   "metadata": {},
   "outputs": [],
   "source": [
    "## remaining functionality\n",
    "\n",
    "# 1. Keeping Score\n",
    "\n",
    "# 2. Making Graphs /Charts\n",
    "\n",
    "# 3. Enforce the Rules (so far, it is entirely dependent on teh solver -- person)"
   ]
  },
  {
   "cell_type": "code",
   "execution_count": 52,
   "id": "edcbade7-1815-4de7-8c63-da4788d36533",
   "metadata": {},
   "outputs": [],
   "source": [
    "class Game:\n",
    "    \n",
    "    \"\"\"\n",
    "    This is a class to represent the overall rules of the game\n",
    "    \"\"\"\n",
    "    \n",
    "    def __init__(self, num_moves):\n",
    "        \n",
    "        self.num_moves = num_moves # store as an instance attr\n",
    "        \n",
    "        self.score = 0\n",
    "        \n",
    "        self.history = []\n",
    "        \n",
    "    def moves_remaining(self):\n",
    "        \n",
    "        # this is a boolean method to return true or false\n",
    "        \n",
    "        return self.num_moves > len(self.history)"
   ]
  },
  {
   "cell_type": "markdown",
   "id": "831e6850-855a-4c27-8a26-d1db116c3ead",
   "metadata": {},
   "source": [
    "---"
   ]
  },
  {
   "cell_type": "markdown",
   "id": "2149c971-8e36-4941-87be-6cb65ee9b56e",
   "metadata": {},
   "source": [
    "# Bandit Class (Refactored)"
   ]
  },
  {
   "cell_type": "code",
   "execution_count": 53,
   "id": "87ce02d2-b665-468f-8861-b72c8ff3ff9a",
   "metadata": {},
   "outputs": [],
   "source": [
    "import numpy as np\n",
    "\n",
    "class Bandit:\n",
    "    \n",
    "    \"\"\"\n",
    "    \n",
    "    Class to represent a slot machine with a secret probability of reward\n",
    "    \"\"\"\n",
    "    \n",
    "    def __init__(self, game):\n",
    "        self.__probability = np.random.uniform()\n",
    "        \n",
    "        #----------------- Addition ------------------------------------------------\n",
    "        self.game = game\n",
    "        #-------------------------------------------------------------------------------\n",
    "\n",
    "        \n",
    "        \n",
    "    def __repr__(self):\n",
    "        return \"this is a bandit object with secret probability \"  + str(self.__probability)\n",
    "    \n",
    "    def pull(self):\n",
    "        \n",
    "        \"\"\"\n",
    "        \n",
    "        returns true representing a reward or false representing no reward\n",
    "        \"\"\"\n",
    "        \n",
    "        #----------------- Addition ------------------------------------------------\n",
    "        \n",
    "        # Addition:  is the solver following the rules (ie if there are moves remaining)\n",
    "        \n",
    "        if not self.game.moves_remaining():\n",
    "            raise Exception (\"Bandit pull called with no moves remaining\")\n",
    "        \n",
    "        #------------------ Addition ---------------------------------------------------\n",
    "\n",
    "        #return np.random.choice((True, False), p=[self.__probability, 1-self.__probability])\n",
    "        \n",
    "        result = np.random.choice((True, False), p=[self.__probability, 1-self.__probability])\n",
    "        \n",
    "        self.game.history.append(result)\n",
    "        \n",
    "        self.game.score += result\n",
    "        \n",
    "        return result # not to break previous functinality\n",
    "    \n",
    "        #-------------------------------------------------------------------------------\n",
    "\n",
    "    "
   ]
  },
  {
   "cell_type": "markdown",
   "id": "50df4231-36dd-499a-9ca5-f99520df76f0",
   "metadata": {},
   "source": [
    "---"
   ]
  },
  {
   "cell_type": "markdown",
   "id": "662ccfe6-887f-4ead-9d5b-c5f7059bc4f3",
   "metadata": {},
   "source": [
    "---"
   ]
  },
  {
   "cell_type": "code",
   "execution_count": 58,
   "id": "22f6ea52-36c8-455c-b885-48dae5e08a75",
   "metadata": {},
   "outputs": [],
   "source": [
    "game = Game(2)"
   ]
  },
  {
   "cell_type": "code",
   "execution_count": 59,
   "id": "06243084-341d-41ea-bc33-ac959e698767",
   "metadata": {},
   "outputs": [],
   "source": [
    "bandits = [Bandit(game) for i in range(10)]"
   ]
  },
  {
   "cell_type": "code",
   "execution_count": 60,
   "id": "faabfce1-fa7c-4f99-8c3e-c543872d75e0",
   "metadata": {},
   "outputs": [],
   "source": [
    "s = RandomSolver(bandits)"
   ]
  },
  {
   "cell_type": "code",
   "execution_count": 61,
   "id": "f36a7a69-87d7-44d2-a224-907b2f10de49",
   "metadata": {},
   "outputs": [
    {
     "data": {
      "text/plain": [
       "[]"
      ]
     },
     "execution_count": 61,
     "metadata": {},
     "output_type": "execute_result"
    }
   ],
   "source": [
    "game.history"
   ]
  },
  {
   "cell_type": "code",
   "execution_count": 62,
   "id": "da700fd8-35d8-41be-99b0-4574e93a8128",
   "metadata": {},
   "outputs": [
    {
     "name": "stdout",
     "output_type": "stream",
     "text": [
      "Choosing bandit number 1\n"
     ]
    },
    {
     "data": {
      "text/plain": [
       "True"
      ]
     },
     "execution_count": 62,
     "metadata": {},
     "output_type": "execute_result"
    }
   ],
   "source": [
    "s.move()"
   ]
  },
  {
   "cell_type": "code",
   "execution_count": 64,
   "id": "08580827-18db-49ec-870b-00483c786bc1",
   "metadata": {},
   "outputs": [
    {
     "name": "stdout",
     "output_type": "stream",
     "text": [
      "Choosing bandit number 9\n"
     ]
    },
    {
     "data": {
      "text/plain": [
       "False"
      ]
     },
     "execution_count": 64,
     "metadata": {},
     "output_type": "execute_result"
    }
   ],
   "source": [
    "s.move()"
   ]
  },
  {
   "cell_type": "code",
   "execution_count": 65,
   "id": "28924c56-0155-4800-ad9a-9152818f0dec",
   "metadata": {},
   "outputs": [
    {
     "data": {
      "text/plain": [
       "[True, False]"
      ]
     },
     "execution_count": 65,
     "metadata": {},
     "output_type": "execute_result"
    }
   ],
   "source": [
    "game.history"
   ]
  },
  {
   "cell_type": "code",
   "execution_count": 66,
   "id": "f49742e8-1dd1-411a-b099-64dec9827176",
   "metadata": {},
   "outputs": [
    {
     "data": {
      "text/plain": [
       "1"
      ]
     },
     "execution_count": 66,
     "metadata": {},
     "output_type": "execute_result"
    }
   ],
   "source": [
    "game.score"
   ]
  },
  {
   "cell_type": "code",
   "execution_count": 68,
   "id": "97845ca4-0cbd-4cdc-ab63-1cc41434207a",
   "metadata": {},
   "outputs": [
    {
     "name": "stdout",
     "output_type": "stream",
     "text": [
      "Choosing bandit number 0\n"
     ]
    },
    {
     "ename": "Exception",
     "evalue": "Bandit pull called with no moves remaining",
     "output_type": "error",
     "traceback": [
      "\u001b[0;31m---------------------------------------------------------------------------\u001b[0m",
      "\u001b[0;31mException\u001b[0m                                 Traceback (most recent call last)",
      "Input \u001b[0;32mIn [68]\u001b[0m, in \u001b[0;36m<cell line: 1>\u001b[0;34m()\u001b[0m\n\u001b[0;32m----> 1\u001b[0m \u001b[43ms\u001b[49m\u001b[38;5;241;43m.\u001b[39;49m\u001b[43mmove\u001b[49m\u001b[43m(\u001b[49m\u001b[43m)\u001b[49m\n",
      "Input \u001b[0;32mIn [56]\u001b[0m, in \u001b[0;36mRandomSolver.move\u001b[0;34m(self)\u001b[0m\n\u001b[1;32m     30\u001b[0m \u001b[38;5;28mprint\u001b[39m(\u001b[38;5;124m\"\u001b[39m\u001b[38;5;124mChoosing bandit number\u001b[39m\u001b[38;5;124m\"\u001b[39m, chosen)\n\u001b[1;32m     32\u001b[0m \u001b[38;5;66;03m# to gt the actual bandit object\u001b[39;00m\n\u001b[0;32m---> 34\u001b[0m \u001b[38;5;28;01mreturn\u001b[39;00m \u001b[43mbandits\u001b[49m\u001b[43m[\u001b[49m\u001b[43mchosen\u001b[49m\u001b[43m]\u001b[49m\u001b[38;5;241;43m.\u001b[39;49m\u001b[43mpull\u001b[49m\u001b[43m(\u001b[49m\u001b[43m)\u001b[49m\n",
      "Input \u001b[0;32mIn [53]\u001b[0m, in \u001b[0;36mBandit.pull\u001b[0;34m(self)\u001b[0m\n\u001b[1;32m     29\u001b[0m \u001b[38;5;66;03m#----------------- Addition ------------------------------------------------\u001b[39;00m\n\u001b[1;32m     30\u001b[0m \n\u001b[1;32m     31\u001b[0m \u001b[38;5;66;03m# Addition:  is the solver following the rules (ie if there are moves remaining)\u001b[39;00m\n\u001b[1;32m     33\u001b[0m \u001b[38;5;28;01mif\u001b[39;00m \u001b[38;5;129;01mnot\u001b[39;00m \u001b[38;5;28mself\u001b[39m\u001b[38;5;241m.\u001b[39mgame\u001b[38;5;241m.\u001b[39mmoves_remaining():\n\u001b[0;32m---> 34\u001b[0m     \u001b[38;5;28;01mraise\u001b[39;00m \u001b[38;5;167;01mException\u001b[39;00m (\u001b[38;5;124m\"\u001b[39m\u001b[38;5;124mBandit pull called with no moves remaining\u001b[39m\u001b[38;5;124m\"\u001b[39m)\n\u001b[1;32m     36\u001b[0m \u001b[38;5;66;03m#------------------ Addition ---------------------------------------------------\u001b[39;00m\n\u001b[1;32m     37\u001b[0m \n\u001b[1;32m     38\u001b[0m \u001b[38;5;66;03m#return np.random.choice((True, False), p=[self.__probability, 1-self.__probability])\u001b[39;00m\n\u001b[1;32m     40\u001b[0m result \u001b[38;5;241m=\u001b[39m np\u001b[38;5;241m.\u001b[39mrandom\u001b[38;5;241m.\u001b[39mchoice((\u001b[38;5;28;01mTrue\u001b[39;00m, \u001b[38;5;28;01mFalse\u001b[39;00m), p\u001b[38;5;241m=\u001b[39m[\u001b[38;5;28mself\u001b[39m\u001b[38;5;241m.\u001b[39m__probability, \u001b[38;5;241m1\u001b[39m\u001b[38;5;241m-\u001b[39m\u001b[38;5;28mself\u001b[39m\u001b[38;5;241m.\u001b[39m__probability])\n",
      "\u001b[0;31mException\u001b[0m: Bandit pull called with no moves remaining"
     ]
    }
   ],
   "source": [
    "s.move()"
   ]
  },
  {
   "attachments": {
    "b34a4811-1aa8-4de7-a860-6963453c4d2e.png": {
     "image/png": "[encoded data removed]"
    }
   },
   "cell_type": "markdown",
   "id": "529602d9-2cce-4dfa-ac64-91b83e2cefbd",
   "metadata": {},
   "source": [
    "This is correct\n",
    "![image.png](attachment:b34a4811-1aa8-4de7-a860-6963453c4d2e.png)"
   ]
  },
  {
   "cell_type": "code",
   "execution_count": null,
   "id": "c9c76c7b-bb27-4e34-96ea-1c5cfddb90dd",
   "metadata": {},
   "outputs": [],
   "source": []
  }
 ],
 "metadata": {
  "kernelspec": {
   "display_name": "Python 3 (ipykernel)",
   "language": "python",
   "name": "python3"
  },
  "language_info": {
   "codemirror_mode": {
    "name": "ipython",
    "version": 3
   },
   "file_extension": ".py",
   "mimetype": "text/x-python",
   "name": "python",
   "nbconvert_exporter": "python",
   "pygments_lexer": "ipython3",
   "version": "3.9.12"
  }
 },
 "nbformat": 4,
 "nbformat_minor": 5
}
