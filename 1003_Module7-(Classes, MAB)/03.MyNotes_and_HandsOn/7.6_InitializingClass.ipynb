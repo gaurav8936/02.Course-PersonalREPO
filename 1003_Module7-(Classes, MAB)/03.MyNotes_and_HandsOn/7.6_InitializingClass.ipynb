{
 "cells": [
  {
   "cell_type": "markdown",
   "id": "7be371ee-4d47-44ff-a96b-bbc2c5f3584e",
   "metadata": {},
   "source": [
    "# 7.6.1 Initializing a Class"
   ]
  },
  {
   "cell_type": "code",
   "execution_count": 22,
   "id": "740fa6c0-feb4-49d0-8154-d7c0c9650250",
   "metadata": {},
   "outputs": [
    {
     "name": "stdout",
     "output_type": "stream",
     "text": [
      "The drone is flying at  0 feet\n",
      "The drone is flying at  100 feet\n"
     ]
    }
   ],
   "source": [
    "class Drone:\n",
    "    \n",
    "    def fly(self):\n",
    "        print('The drone is flying at ', self.altitude, 'feet')\n",
    "    \n",
    "    def ascend(self, change):\n",
    "        \n",
    "        self.altitude += change\n",
    "\n",
    "d2 = Drone() \n",
    "d2.altitude = 0\n",
    "d2.fly()\n",
    "d2.altitude = 100\n",
    "d2.fly()"
   ]
  },
  {
   "cell_type": "code",
   "execution_count": 4,
   "id": "5cff836e-12c4-4e36-82dc-b1e33d4a4b2d",
   "metadata": {},
   "outputs": [],
   "source": [
    "d1 = Drone()"
   ]
  },
  {
   "cell_type": "code",
   "execution_count": 5,
   "id": "bf7d6615-5d90-43e8-95bc-75eef8f448a6",
   "metadata": {},
   "outputs": [],
   "source": [
    "d1.altitude = 0"
   ]
  },
  {
   "cell_type": "code",
   "execution_count": 6,
   "id": "bce5d8ba-2526-43bc-be1d-f6febe9ab18a",
   "metadata": {},
   "outputs": [
    {
     "name": "stdout",
     "output_type": "stream",
     "text": [
      "The drone is flying at  0 feet\n"
     ]
    }
   ],
   "source": [
    "d1.fly()"
   ]
  },
  {
   "cell_type": "code",
   "execution_count": 7,
   "id": "09fd374c-9169-44b2-af92-02b6922ce1b3",
   "metadata": {},
   "outputs": [],
   "source": [
    "d1.altitude = 1000"
   ]
  },
  {
   "cell_type": "code",
   "execution_count": 8,
   "id": "b9864aa7-c5da-405a-b7cf-f66b0e52ed0c",
   "metadata": {},
   "outputs": [
    {
     "name": "stdout",
     "output_type": "stream",
     "text": [
      "The drone is flying at  1000 feet\n"
     ]
    }
   ],
   "source": [
    "d1.fly()"
   ]
  },
  {
   "cell_type": "code",
   "execution_count": 9,
   "id": "f3e924d6-06f2-4deb-a60f-764c6dbe6c6b",
   "metadata": {},
   "outputs": [],
   "source": [
    "# altitude gets created during object creation -- it is not there in the class definition"
   ]
  },
  {
   "cell_type": "code",
   "execution_count": 14,
   "id": "334d4af4-8e27-45df-8d42-948827c7079a",
   "metadata": {},
   "outputs": [],
   "source": [
    "d1.ascend(200)\n",
    "\n",
    "# the method is also accessible from d1"
   ]
  },
  {
   "cell_type": "code",
   "execution_count": 13,
   "id": "0c86628c-fe4b-49b2-94f0-6d00c4de7c76",
   "metadata": {},
   "outputs": [
    {
     "name": "stdout",
     "output_type": "stream",
     "text": [
      "The drone is flying at  1200 feet\n"
     ]
    }
   ],
   "source": [
    "d1.fly()"
   ]
  },
  {
   "cell_type": "markdown",
   "id": "952aac2c-6161-4c39-a34b-fd359996dc6f",
   "metadata": {},
   "source": [
    "---"
   ]
  },
  {
   "cell_type": "code",
   "execution_count": 23,
   "id": "828ac4d3-0715-4495-8a8a-10efda399bf5",
   "metadata": {},
   "outputs": [],
   "source": [
    "d5 = Drone()"
   ]
  },
  {
   "cell_type": "code",
   "execution_count": 25,
   "id": "14a2afd9-8158-4ff6-8da5-8f39c60b1276",
   "metadata": {},
   "outputs": [
    {
     "ename": "AttributeError",
     "evalue": "'Drone' object has no attribute 'altitude'",
     "output_type": "error",
     "traceback": [
      "\u001b[0;31m---------------------------------------------------------------------------\u001b[0m",
      "\u001b[0;31mAttributeError\u001b[0m                            Traceback (most recent call last)",
      "Input \u001b[0;32mIn [25]\u001b[0m, in \u001b[0;36m<cell line: 1>\u001b[0;34m()\u001b[0m\n\u001b[0;32m----> 1\u001b[0m \u001b[43md5\u001b[49m\u001b[38;5;241;43m.\u001b[39;49m\u001b[43mfly\u001b[49m\u001b[43m(\u001b[49m\u001b[43m)\u001b[49m\n",
      "Input \u001b[0;32mIn [22]\u001b[0m, in \u001b[0;36mDrone.fly\u001b[0;34m(self)\u001b[0m\n\u001b[1;32m      3\u001b[0m \u001b[38;5;28;01mdef\u001b[39;00m \u001b[38;5;21mfly\u001b[39m(\u001b[38;5;28mself\u001b[39m):\n\u001b[0;32m----> 4\u001b[0m     \u001b[38;5;28mprint\u001b[39m(\u001b[38;5;124m'\u001b[39m\u001b[38;5;124mThe drone is flying at \u001b[39m\u001b[38;5;124m'\u001b[39m, \u001b[38;5;28;43mself\u001b[39;49m\u001b[38;5;241;43m.\u001b[39;49m\u001b[43maltitude\u001b[49m, \u001b[38;5;124m'\u001b[39m\u001b[38;5;124mfeet\u001b[39m\u001b[38;5;124m'\u001b[39m)\n",
      "\u001b[0;31mAttributeError\u001b[0m: 'Drone' object has no attribute 'altitude'"
     ]
    }
   ],
   "source": [
    "d5.fly()\n",
    "\n",
    "# this is a reason why -- the altitude was not created during instance creation"
   ]
  },
  {
   "cell_type": "code",
   "execution_count": null,
   "id": "53afc2ce-8ba3-462d-a3f6-fe67204a152b",
   "metadata": {},
   "outputs": [],
   "source": []
  },
  {
   "cell_type": "code",
   "execution_count": null,
   "id": "774750c1-fed6-46ba-9306-e6c78decec41",
   "metadata": {},
   "outputs": [],
   "source": []
  },
  {
   "cell_type": "markdown",
   "id": "343c318f-2d79-4312-b139-35e86e8c676a",
   "metadata": {},
   "source": [
    "---"
   ]
  },
  {
   "cell_type": "markdown",
   "id": "b54aab4b-dd73-404c-95d7-a2a63a67cf4d",
   "metadata": {},
   "source": [
    "### altitude is a good example of an attribute that is not really inherent in the class of Drone"
   ]
  },
  {
   "cell_type": "markdown",
   "id": "cda70c4a-1181-4db1-80f4-1c780e8a29bd",
   "metadata": {},
   "source": [
    "##### it just needs to be created during the creation of the specific instance of a Drone"
   ]
  },
  {
   "cell_type": "code",
   "execution_count": 18,
   "id": "6ca783db-f189-42b6-a105-7c700c74acd5",
   "metadata": {},
   "outputs": [],
   "source": [
    "class Drone:\n",
    "    \n",
    "    #def __init__(self, altitude): # this comes into play only during creation of the object\n",
    "    def __init__(self, altitude = 0): # this comes into play only during creation of the object\n",
    "        self.altitude = altitude # this ensures that the instance has an attribute called altitude\n",
    "    \n",
    "    def fly(self):\n",
    "        print(\"The drone is flying at\", self.altitude, \"feet\")\n",
    "    \n",
    "    def ascend(self, change):\n",
    "        self.altitude += change"
   ]
  },
  {
   "cell_type": "code",
   "execution_count": 15,
   "id": "bb1877fe-98ad-49e8-9a26-97631589672c",
   "metadata": {},
   "outputs": [
    {
     "name": "stdout",
     "output_type": "stream",
     "text": [
      "The drone is flying at 0 feet\n",
      "The drone is flying at 100 feet\n"
     ]
    }
   ],
   "source": [
    "d2 = Drone(0) \n",
    "# d2.altitude = 0\n",
    "d2.fly()\n",
    "d2.ascend(100) # we did not have to pass altitude (as that was required during object creation (Drone(100)))\n",
    "d2.fly()"
   ]
  },
  {
   "cell_type": "code",
   "execution_count": 16,
   "id": "61bb11ad-cb33-4e44-bd55-a7e28546825a",
   "metadata": {},
   "outputs": [
    {
     "name": "stdout",
     "output_type": "stream",
     "text": [
      "The drone is flying at 0 feet\n",
      "The drone is flying at 100 feet\n"
     ]
    }
   ],
   "source": [
    "d3 = Drone(0) \n",
    "d3.fly()\n",
    "d3.ascend(100)\n",
    "d3.fly()"
   ]
  },
  {
   "cell_type": "code",
   "execution_count": 21,
   "id": "704e7e14-faf0-4be6-a61c-e605863bd923",
   "metadata": {},
   "outputs": [
    {
     "name": "stdout",
     "output_type": "stream",
     "text": [
      "The drone is flying at 0 feet\n",
      "The drone is flying at 100 feet\n"
     ]
    }
   ],
   "source": [
    "d4 = Drone() # takes the default value\n",
    "d4.fly()\n",
    "d4.ascend(100)\n",
    "d4.fly()"
   ]
  },
  {
   "cell_type": "markdown",
   "id": "80f57174-aed1-4fe9-a3e8-b1ef46df85bb",
   "metadata": {},
   "source": [
    "### also called a constructor"
   ]
  },
  {
   "cell_type": "markdown",
   "id": "8cb12fe7-5534-4263-aa9e-29bf409e73d0",
   "metadata": {},
   "source": [
    "---"
   ]
  },
  {
   "cell_type": "markdown",
   "id": "be7ff8e0-b9f5-4dab-8957-c334bfd5cf85",
   "metadata": {},
   "source": [
    "## Counting / Tracking with Data Attributes"
   ]
  },
  {
   "cell_type": "code",
   "execution_count": 27,
   "id": "c4aec361-33eb-4821-844c-27168c61085f",
   "metadata": {},
   "outputs": [],
   "source": [
    "# dealing with ascend count\n",
    "# perhaps best as an instance attribute -- as each drone will have a different value\n",
    "# else, if this is a class attribute, then all drones will share that value"
   ]
  },
  {
   "cell_type": "markdown",
   "id": "740374e0-247a-4824-9e6f-d4fb9b2bac14",
   "metadata": {},
   "source": [
    "### as Instance attributes"
   ]
  },
  {
   "cell_type": "code",
   "execution_count": 31,
   "id": "56d53ce6-67f1-4833-a970-31cc073f840c",
   "metadata": {},
   "outputs": [],
   "source": [
    "class Drone2:\n",
    "    \n",
    "    def __init__(self, altitude = 0): \n",
    "        self.altitude = altitude\n",
    "        self.ascend_count = 0  # added this (without class attrib)\n",
    "    \n",
    "    def fly(self):\n",
    "        print(\"The drone is flying at\", self.altitude, \"feet\")\n",
    "    \n",
    "    def ascend(self, change):\n",
    "        self.altitude += change\n",
    "        self.ascend_count += 1 # added this (without class attrib)"
   ]
  },
  {
   "cell_type": "code",
   "execution_count": 33,
   "id": "b12e944e-c830-4068-90d0-81b5eb9af282",
   "metadata": {},
   "outputs": [
    {
     "name": "stdout",
     "output_type": "stream",
     "text": [
      "d5 ascend count  0\n",
      "The drone is flying at 100 feet\n",
      "d5 ascend count  2\n",
      "The drone is flying at 400 feet\n"
     ]
    }
   ],
   "source": [
    "d5 = Drone2(100)\n",
    "print(\"d5 ascend count \", d5.ascend_count)\n",
    "d5.fly()\n",
    "d5.ascend(100)\n",
    "d5.ascend(200)\n",
    "print(\"d5 ascend count \", d5.ascend_count)\n",
    "d5.fly()"
   ]
  },
  {
   "cell_type": "code",
   "execution_count": 34,
   "id": "95bd52d8-84c5-42c0-91eb-8922982c3fb4",
   "metadata": {},
   "outputs": [
    {
     "name": "stdout",
     "output_type": "stream",
     "text": [
      "d5 ascend count  2\n",
      "The drone is flying at 20 feet\n",
      "d5 ascend count  2\n",
      "The drone is flying at 70 feet\n"
     ]
    }
   ],
   "source": [
    "d6 = Drone2(20)\n",
    "print(\"d5 ascend count \", d5.ascend_count)\n",
    "d6.fly()\n",
    "d6.ascend(50)\n",
    "print(\"d5 ascend count \", d5.ascend_count)\n",
    "d6.fly()"
   ]
  },
  {
   "cell_type": "markdown",
   "id": "cb4a970a-c931-4df9-9a89-2e3a3bc96389",
   "metadata": {},
   "source": [
    "---"
   ]
  },
  {
   "cell_type": "markdown",
   "id": "f1325624-16f1-4485-9977-0ccedcd197c7",
   "metadata": {},
   "source": [
    "### count how many drones were created"
   ]
  },
  {
   "cell_type": "markdown",
   "id": "74cc2c55-236d-468d-988b-fd0c2f904be4",
   "metadata": {},
   "source": [
    "### as Class Attributes"
   ]
  },
  {
   "cell_type": "markdown",
   "id": "4eb05b13-824f-4e07-967b-3b0ec3cc4055",
   "metadata": {},
   "source": [
    "#### this is an example of a class attribute (unlike the ascend count)"
   ]
  },
  {
   "cell_type": "code",
   "execution_count": 1,
   "id": "6efdee4a-7f46-416e-a213-15ee14baca17",
   "metadata": {},
   "outputs": [],
   "source": [
    "class Drone3:\n",
    "    \n",
    "    num_drones = 0\n",
    "    \n",
    "    def __init__(self, altitude = 0): \n",
    "        self.altitude = altitude\n",
    "        self.ascend_count = 0  \n",
    "        Drone3.num_drones += 1 # you can't use self\n",
    "    \n",
    "    def fly(self):\n",
    "        print(\"The drone is flying at\", self.altitude, \"feet\")\n",
    "    \n",
    "    def ascend(self, change):\n",
    "        self.altitude += change\n",
    "        self.ascend_count += 1 # added this (without class attrib)"
   ]
  },
  {
   "cell_type": "code",
   "execution_count": 4,
   "id": "8ed9a2a7-3dcb-4124-89f1-c4c62b4a0d9e",
   "metadata": {},
   "outputs": [
    {
     "name": "stdout",
     "output_type": "stream",
     "text": [
      "Number of drones 3\n",
      "The drone is flying at 100 feet\n",
      "The drone is flying at 400 feet\n"
     ]
    }
   ],
   "source": [
    "d6 = Drone3(100)\n",
    "print(\"Number of drones\", Drone3.num_drones)\n",
    "#print(\"d6 ascend count \", d5.ascend_count)\n",
    "d6.fly()\n",
    "d6.ascend(100)\n",
    "d6.ascend(200)\n",
    "#print(\"d6 ascend count \", d5.ascend_count)\n",
    "d6.fly()"
   ]
  },
  {
   "cell_type": "code",
   "execution_count": 5,
   "id": "663b0fe8-69c8-4d8b-8b07-e1f189204d05",
   "metadata": {},
   "outputs": [
    {
     "name": "stdout",
     "output_type": "stream",
     "text": [
      "Number of drones 4\n",
      "d7 ascend count  0\n",
      "The drone is flying at 0 feet\n",
      "d7 ascend count  1\n",
      "The drone is flying at 1350 feet\n",
      "Number of drones 4\n"
     ]
    }
   ],
   "source": [
    "d7 = Drone3() # takes 0\n",
    "print(\"Number of drones\", Drone3.num_drones)\n",
    "print(\"d7 ascend count \", d7.ascend_count)\n",
    "d7.fly()\n",
    "d7.ascend(1350)\n",
    "print(\"d7 ascend count \", d7.ascend_count)\n",
    "d7.fly()\n",
    "print(\"Number of drones\", Drone3.num_drones)\n"
   ]
  },
  {
   "cell_type": "code",
   "execution_count": 6,
   "id": "d0a0c615-da6e-4aa8-8109-7747d18eac01",
   "metadata": {},
   "outputs": [
    {
     "data": {
      "text/plain": [
       "4"
      ]
     },
     "execution_count": 6,
     "metadata": {},
     "output_type": "execute_result"
    }
   ],
   "source": [
    "d7.num_drones"
   ]
  },
  {
   "cell_type": "code",
   "execution_count": 7,
   "id": "d76dd85c-cf32-4fba-994b-98951151ece3",
   "metadata": {},
   "outputs": [
    {
     "data": {
      "text/plain": [
       "4"
      ]
     },
     "execution_count": 7,
     "metadata": {},
     "output_type": "execute_result"
    }
   ],
   "source": [
    "Drone3.num_drones"
   ]
  },
  {
   "cell_type": "code",
   "execution_count": 8,
   "id": "ed5ae120-d088-4345-9dca-e35877db7d1e",
   "metadata": {},
   "outputs": [
    {
     "data": {
      "text/plain": [
       "4"
      ]
     },
     "execution_count": 8,
     "metadata": {},
     "output_type": "execute_result"
    }
   ],
   "source": [
    "d6.num_drones"
   ]
  },
  {
   "cell_type": "code",
   "execution_count": null,
   "id": "0ae665eb-e554-48e4-acd6-6f0268e80caf",
   "metadata": {},
   "outputs": [],
   "source": []
  }
 ],
 "metadata": {
  "kernelspec": {
   "display_name": "Python 3 (ipykernel)",
   "language": "python",
   "name": "python3"
  },
  "language_info": {
   "codemirror_mode": {
    "name": "ipython",
    "version": 3
   },
   "file_extension": ".py",
   "mimetype": "text/x-python",
   "name": "python",
   "nbconvert_exporter": "python",
   "pygments_lexer": "ipython3",
   "version": "3.9.12"
  }
 },
 "nbformat": 4,
 "nbformat_minor": 5
}
