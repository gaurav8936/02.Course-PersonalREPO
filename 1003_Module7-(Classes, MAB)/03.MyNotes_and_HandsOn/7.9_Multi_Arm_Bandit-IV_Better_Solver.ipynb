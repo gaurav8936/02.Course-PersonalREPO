{
 "cells": [
  {
   "cell_type": "markdown",
   "id": "b11830cd-363a-4d11-9086-45dc5244e1ef",
   "metadata": {},
   "source": [
    "# 7.13_A_Better_Solver"
   ]
  },
  {
   "cell_type": "markdown",
   "id": "fee0be0b-4d5e-4a5b-974c-4904fb374218",
   "metadata": {},
   "source": [
    "# Epsilon Greedy Algorithm"
   ]
  },
  {
   "cell_type": "code",
   "execution_count": 1,
   "id": "3f4ae5a2-4594-4cff-ade7-5eea2f96760b",
   "metadata": {},
   "outputs": [],
   "source": [
    "# basic idea\n",
    "# epsilon is generally really small\n",
    "# with probability epsilon: choose a bandit at random\n",
    "# otherwise, choose the best so far(randomly break ties)"
   ]
  },
  {
   "cell_type": "markdown",
   "id": "f96399a2-d7d4-46c7-bc39-76aec85d6160",
   "metadata": {},
   "source": [
    "# New Solver"
   ]
  },
  {
   "cell_type": "code",
   "execution_count": 9,
   "id": "1141d05e-dc50-4b2f-a3ea-606b777c5e3c",
   "metadata": {},
   "outputs": [],
   "source": [
    "# copying old solver class\n",
    "\n",
    "class EpsilonGreedySolver:\n",
    "    \n",
    "    \"\"\"\n",
    "    This is the epsilon greedy solver\n",
    "    \n",
    "    \"\"\"\n",
    "    \n",
    "    def __init__(self, bandits, epsilon = .01):\n",
    "        self.bandits = bandits\n",
    "        \n",
    "        #------- new --------------------\n",
    "        self.epsilon = epsilon\n",
    "        self.trials_per_bandit = [0 for i in range(len(bandits))] # how many times the trial was run / bandit\n",
    "        self.rewards_per_bandit = [0 for i in range(len(bandits))]\n",
    "        self.score_per_bandit = [0 for i in range(len(bandits))]\n",
    "    \n",
    "    \n",
    "    def move(self):\n",
    "        \n",
    "        \"\"\"        \n",
    "        makes this solver choose a bandit and call pull on it. Returns true is reward is given\n",
    "        \"\"\"\n",
    "        #chosen = np.random.randint(0, len(bandits)) # this is the original\n",
    "        \n",
    "        #if np.random.uniform() # creates a random number between 0 and 1\n",
    "        \n",
    "        \n",
    "        # EXPLORATION \n",
    "        if np.random.uniform() < self.epsilon:\n",
    "            chosen = np.random.randint(0, len(bandits))\n",
    "        \n",
    "        # EXPLOITATION\n",
    "        # needs to rememeber history (which of the bandits has been the best so far)\n",
    "        \n",
    "        else:\n",
    "            # we have to look through each bandit and keep track of the best score\n",
    "            \n",
    "            max_score = 0\n",
    "            best = []\n",
    "            for i in range(len(self.bandits)):\n",
    "                if self.score_per_bandit[i] == max_score:\n",
    "                    best.append(i)\n",
    "                \n",
    "                if self.score_per_bandit[i] > max_score:\n",
    "                    best = [i]\n",
    "                    max_score = self.score_per_bandit[i]\n",
    "            \n",
    "            chosen = np.random.choice(best)\n",
    "            \n",
    "        result = bandits[chosen].pull()\n",
    "        self.trials_per_bandit[chosen] += 1\n",
    "        self.rewards_per_bandit += result\n",
    "        self.score_per_bandit[chosen] = self.rewards_per_bandit[chosen] / self.trials_per_bandit[chosen]\n",
    "        \n",
    "        \n",
    "            \n",
    "        \n",
    "        \n",
    "        return result"
   ]
  },
  {
   "cell_type": "markdown",
   "id": "b8d45c54-e987-4f6f-bbd5-b482dfd41d76",
   "metadata": {},
   "source": [
    "# Copy |  Game Class"
   ]
  },
  {
   "cell_type": "code",
   "execution_count": 6,
   "id": "5d5cc075-d7be-43fe-bcbc-862e71907f95",
   "metadata": {},
   "outputs": [],
   "source": [
    "import matplotlib.pyplot as plt\n",
    "\n",
    "class Game:\n",
    "    \n",
    "    \"\"\"\n",
    "    This is a class to represent the overall rules of the game\n",
    "    \"\"\"\n",
    "    \n",
    "    def __init__(self, num_moves):\n",
    "        \n",
    "        self.num_moves = num_moves # store as an instance attr\n",
    "        \n",
    "        self.score = 0\n",
    "        \n",
    "        self.history = []\n",
    "        \n",
    "        self.best_probability = 0 # added new\n",
    "        \n",
    "    def moves_remaining(self):\n",
    "        \n",
    "        return self.num_moves > len(self.history)\n",
    "    \n",
    "    def plot_history(self):\n",
    "        \n",
    "        plt.plot(np.cumsum(self.history))\n",
    "        plt.title('Reward History')\n",
    "        plt.xlabel('move number')\n",
    "        plt.ylabel('total reward')\n",
    "        plt.plot([0, len(self.history)], [0, len(self.history) * self.best_probability], color = 'r', linestyle = '--', linewidth=1) # added new"
   ]
  },
  {
   "cell_type": "markdown",
   "id": "a485d95a-ddd8-408a-bf64-581f40a22e91",
   "metadata": {},
   "source": [
    "# Copy | Bandit Class"
   ]
  },
  {
   "cell_type": "code",
   "execution_count": 7,
   "id": "d45e6d74-1ff8-4c2c-8e9f-89693754f0c5",
   "metadata": {},
   "outputs": [],
   "source": [
    "import numpy as np\n",
    "\n",
    "class Bandit:\n",
    "    \n",
    "    \"\"\"\n",
    "    \n",
    "    Class to represent a slot machine with a secret probability of reward\n",
    "    \"\"\"\n",
    "    \n",
    "    def __init__(self, game):\n",
    "        self.__probability = np.random.uniform()\n",
    "        \n",
    "        self.game = game\n",
    "\n",
    "        if self.__probability > self.game.best_probability: # added\n",
    "            self.game.best_probability = self.__probability # added\n",
    "        \n",
    "    def __repr__(self):\n",
    "        return \"this is a bandit object with secret probability \"  + str(self.__probability)\n",
    "    \n",
    "    def pull(self):\n",
    "        \n",
    "        \"\"\"\n",
    "        \n",
    "        returns true representing a reward or false representing no reward\n",
    "        \"\"\"\n",
    "        \n",
    "        if not self.game.moves_remaining():\n",
    "            raise Exception (\"Bandit pull called with no moves remaining\")\n",
    "        \n",
    "        result = np.random.choice((True, False), p=[self.__probability, 1-self.__probability])\n",
    "        \n",
    "        self.game.history.append(result)\n",
    "        \n",
    "        self.game.score += result\n",
    "        \n",
    "        return result # not to break previous functinality"
   ]
  },
  {
   "cell_type": "markdown",
   "id": "dd69b004-9459-4404-8566-6167e68d958f",
   "metadata": {},
   "source": [
    "---"
   ]
  },
  {
   "cell_type": "markdown",
   "id": "3e9c2b5f-bbeb-4f43-8e08-d93146973711",
   "metadata": {
    "tags": []
   },
   "source": [
    "# Play Game Again!"
   ]
  },
  {
   "cell_type": "code",
   "execution_count": 16,
   "id": "2e3f025c-592b-45de-9e42-66922766a1d8",
   "metadata": {},
   "outputs": [
    {
     "data": {
      "image/png": "[encoded data removed]",
      "text/plain": [
       "<Figure size 432x288 with 1 Axes>"
      ]
     },
     "metadata": {
      "needs_background": "light"
     },
     "output_type": "display_data"
    }
   ],
   "source": [
    "game = Game(300)\n",
    "\n",
    "bandits = [Bandit(game) for i in range(10)]\n",
    "\n",
    "s = EpsilonGreedySolver(bandits, .01)\n",
    "\n",
    "for i in range(game.num_moves):\n",
    "    s.move()\n",
    "\n",
    "game.plot_history()"
   ]
  },
  {
   "cell_type": "code",
   "execution_count": null,
   "id": "5887d8dd-56f2-43d3-8739-f22d25e5e9d9",
   "metadata": {},
   "outputs": [],
   "source": []
  },
  {
   "cell_type": "code",
   "execution_count": null,
   "id": "44236f58-2e3a-450c-839b-96619aed5c25",
   "metadata": {},
   "outputs": [],
   "source": []
  }
 ],
 "metadata": {
  "kernelspec": {
   "display_name": "Python 3 (ipykernel)",
   "language": "python",
   "name": "python3"
  },
  "language_info": {
   "codemirror_mode": {
    "name": "ipython",
    "version": 3
   },
   "file_extension": ".py",
   "mimetype": "text/x-python",
   "name": "python",
   "nbconvert_exporter": "python",
   "pygments_lexer": "ipython3",
   "version": "3.9.12"
  }
 },
 "nbformat": 4,
 "nbformat_minor": 5
}
