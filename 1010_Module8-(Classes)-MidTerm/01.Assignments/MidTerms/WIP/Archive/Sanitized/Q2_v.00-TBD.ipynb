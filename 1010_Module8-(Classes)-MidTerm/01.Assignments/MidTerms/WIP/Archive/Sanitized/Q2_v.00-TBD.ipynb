{
 "cells": [
  {
   "cell_type": "markdown",
   "metadata": {},
   "source": [
    "### Problem 2: Looking for Minerals (30 pts)\n",
    "\n",
    "A mining company conducts a survey of an n-by-n square grid of land.  Each row of land is numbered from 0 to n-1 where 0 is the top and n-1 is the bottom, and each column is also numbered from 0 to n-1 where 0 is the left and n-1 is the right.  The company wishes to record which squares of this grid contain mineral deposits.\n",
    "\n",
    "The company decides to use a list of tuples to store the location of each deposit.  The first item in each tuple is the row of the deposit.  The second item is the column.  The third item is a non-negative number representing the size of the deposit, in tons.  For example, the following code defines a sample representation of a set of deposits in an 8-by-8 grid."
   ]
  },
  {
   "cell_type": "code",
   "execution_count": 3,
   "metadata": {},
   "outputs": [],
   "source": [
    "deposits = [(0, 4, .3), (6, 2, 3), (3, 7, 2.2), (5, 5, .5), (3, 5, .8), (7, 7, .3)]"
   ]
  },
  {
   "cell_type": "markdown",
   "metadata": {},
   "source": [
    "**2a) (15 points)** Given a list of deposits like the one above, write a function to create a string representation for a rectangular sub-region of the land.  Your function should take a list of deposits, then a set of parameters denoting the top, bottom, left, and right edges of the sub-grid.  It should **return** (do not print in the function) a multi-line string in which grid squares without deposits are represented by \"-\" and grid squares with a deposit are represented by \"X\"."
   ]
  },
  {
   "cell_type": "code",
   "execution_count": 4,
   "metadata": {},
   "outputs": [],
   "source": [
    "def display(deposits, top, bottom, left, right):\n",
    "    \"\"\"display a subgrid of the land, with rows starting at top and up to \n",
    "    but not including bottom, and columns starting at left and up to but\n",
    "    not including right.\"\"\"\n",
    "    height = bottom - top\n",
    "    width = right - left\n",
    "    grid = [['-'] * width for _ in range(height)]\n",
    "    for r, c, _ in deposits:\n",
    "        if top <= r < bottom and left <= c < right:\n",
    "            grid[r - top][c - left] = 'X'\n",
    "    ans = \"\"\n",
    "    for line in grid:\n",
    "        ans = ans + ''.join(line) + '\\n'\n",
    "    return ans"
   ]
  },
  {
   "cell_type": "code",
   "execution_count": null,
   "metadata": {},
   "outputs": [],
   "source": []
  },
  {
   "cell_type": "code",
   "execution_count": null,
   "metadata": {},
   "outputs": [],
   "source": []
  },
  {
   "cell_type": "code",
   "execution_count": 5,
   "metadata": {},
   "outputs": [
    {
     "name": "stdout",
     "output_type": "stream",
     "text": [
      "----X---\n",
      "--------\n",
      "--------\n",
      "-----X-X\n",
      "--------\n",
      "-----X--\n",
      "--X-----\n",
      "-------X\n",
      "\n"
     ]
    }
   ],
   "source": [
    "print(display(deposits, 0, 8, 0, 8))"
   ]
  },
  {
   "cell_type": "code",
   "execution_count": 6,
   "metadata": {},
   "outputs": [
    {
     "name": "stdout",
     "output_type": "stream",
     "text": [
      "X--\n",
      "---\n",
      "--X\n",
      "\n"
     ]
    }
   ],
   "source": [
    "print(display(deposits, 5, 8, 5, 8))"
   ]
  },
  {
   "cell_type": "markdown",
   "metadata": {},
   "source": [
    "For example, your function should replicate the following behavior for the example grid:\n",
    "```\n",
    "print(display(deposits, 0, 8, 0, 8))\n",
    "----X---\n",
    "--------\n",
    "--------\n",
    "-----X-X\n",
    "--------\n",
    "-----X--\n",
    "--X-----\n",
    "-------X\n",
    "\n",
    "print(display(deposits, 5, 8, 5, 8))\n",
    "X--\n",
    "---\n",
    "--X\n",
    "\n",
    "```\n"
   ]
  },
  {
   "cell_type": "markdown",
   "metadata": {},
   "source": [
    "**2b (15 points)** Next, complete the following function to compute the total number of tons (as a float) in a rectangular sub-region of the grid."
   ]
  },
  {
   "cell_type": "code",
   "execution_count": 7,
   "metadata": {},
   "outputs": [],
   "source": [
    "def tons_inside(deposits, top, bottom, left, right):\n",
    "    \"\"\"Returns the total number of tons of deposits for which the row is at least top,\n",
    "    but strictly less than bottom, and the column is at least left, but strictly\n",
    "    less than right.\"\"\"\n",
    "    # Do not alter the function header.  \n",
    "    # Just fill in the code so it returns the correct number of tons.\n",
    "    height = bottom - top\n",
    "    width = right - left\n",
    "    ans = 0\n",
    "    for r, c, t in deposits:\n",
    "        if top <= r < bottom and left <= c < right:\n",
    "            ans += t\n",
    "    return ans"
   ]
  },
  {
   "cell_type": "code",
   "execution_count": 8,
   "metadata": {},
   "outputs": [
    {
     "name": "stdout",
     "output_type": "stream",
     "text": [
      "7.1\n"
     ]
    }
   ],
   "source": [
    "print(tons_inside(deposits, 0, 8, 0, 8))"
   ]
  },
  {
   "cell_type": "code",
   "execution_count": null,
   "metadata": {},
   "outputs": [],
   "source": []
  }
 ],
 "metadata": {
  "kernelspec": {
   "display_name": "Python 3 (ipykernel)",
   "language": "python",
   "name": "python3"
  },
  "language_info": {
   "codemirror_mode": {
    "name": "ipython",
    "version": 3
   },
   "file_extension": ".py",
   "mimetype": "text/x-python",
   "name": "python",
   "nbconvert_exporter": "python",
   "pygments_lexer": "ipython3",
   "version": "3.9.12"
  },
  "widgets": {
   "state": {},
   "version": "1.1.2"
  }
 },
 "nbformat": 4,
 "nbformat_minor": 4
}
