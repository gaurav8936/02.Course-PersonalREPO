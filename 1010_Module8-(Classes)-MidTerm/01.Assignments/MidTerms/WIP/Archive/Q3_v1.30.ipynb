{
 "cells": [
  {
   "cell_type": "markdown",
   "metadata": {},
   "source": [
    "### Midterm Exam Part 2: Programming (60 points)\n",
    "\n",
    "The midterm exam is designed to evaluate your grasp of Python theory as well as Python coding.\n",
    "\n",
    "This part of the exam consists of four programming questions. You have 48 hours to complete both parts (Part 1 and Part 2). Please insert each function into a file named **midterm.py** and upload to gradescope in Part 2. **The code version uploaded to Part 2 will be your official version for grading purposes.**\n",
    "\n",
    "Submit you code in a **midterm.py** file to this part within the 48 window. You can submit as many times as your like inside the window but if you submit over the window, we will take the last submitted entry before the window expired. The visible autograder tests check only that your code is producing the correctly formatted answer. That is, you will only see 20 of the 60 total points visible in the autograder when you submit - the remaining 40 of 60 points are not visible so please make sure your code meets all of the requirements stated in the problem.\n",
    "\n",
    "- **Do not put any additional code besides import statements and the function defs in the midterm.py file**\n",
    "- **Return** the answers instead of printing them in the function!\n",
    "- This is an individual open book exam.\n",
    "- You may use any libraries from the Python Standard Library for this exam: https://docs.python.org/3/library/\n",
    "- Follow best practices while coding!"
   ]
  },
  {
   "cell_type": "markdown",
   "metadata": {},
   "source": [
    "### Problem 3:  Birthday planning (15 pts)\n",
    "\n",
    "Suppose you record a list of birthdays for your classmates, recorded as month day tuples.  An example is given below."
   ]
  },
  {
   "cell_type": "code",
   "execution_count": 1,
   "metadata": {},
   "outputs": [],
   "source": [
    "# The 2nd to last tuple needs the int(2) in it so that it is uniquely stored in memory compared to (2,8)\n",
    "# Under the hood Python 3.7 changed how these are stored so (2,8) and (2,8) are stored in the same location\n",
    "# and then the algorithm below doesn't work\n",
    "\n",
    "dates = [(3,14),(2,8),(10,25),(5,17),(3,2),(7,25),(4,30),(8,7),(int(2),8),(1,22),(2, int(8))]"
   ]
  },
  {
   "cell_type": "markdown",
   "metadata": {},
   "source": [
    "You read about the famous birthday problem and you become interested in the number of pairs of classmates that share the same birthday. Below is an algorithm you write to do this. (Note: the ```is``` operator tests that two operands point to the same object)"
   ]
  },
  {
   "cell_type": "code",
   "execution_count": 2,
   "metadata": {},
   "outputs": [],
   "source": [
    "def birthday_original(dates_list):\n",
    "    count = 0\n",
    "\n",
    "    for person_a in dates_list:\n",
    "        for person_b in dates_list:\n",
    "            # Make sure we have different people        \n",
    "\n",
    "            if person_a is person_b:\n",
    "                continue\n",
    "\n",
    "            # Check both month and day\n",
    "            if person_a[0] == person_b[0] and person_a[1] == person_b[1]:\n",
    "                count += 1\n",
    "                \n",
    "    # We counted each pair twice (e.g. jane-bob and bob-jane) so divide by 2:          \n",
    "    return count//2"
   ]
  },
  {
   "cell_type": "code",
   "execution_count": 3,
   "metadata": {},
   "outputs": [
    {
     "data": {
      "text/plain": [
       "3"
      ]
     },
     "execution_count": 3,
     "metadata": {},
     "output_type": "execute_result"
    }
   ],
   "source": [
    "birthday_original(dates)"
   ]
  },
  {
   "cell_type": "markdown",
   "metadata": {},
   "source": [
    "You notice that your initial algorithm is inefficient in that it counts each pair twice. For example, it will increment count once when person_a is Jane and person_b is Bob, and again when person_a is Bob and person_b is Jane. Revise the algorithm so that it only looks at each pair once and has an average run-time of **ϴ**(n). Put that code in the function below - the function just needs to return the integer number of Total birthday pairs.\n",
    "\n",
    "**Note:** Your code needs to duplicate the functionality of the algorithm above. It is suggested that you make new `dates` lists and pass them to both functions to test that the results are the same!"
   ]
  },
  {
   "cell_type": "code",
   "execution_count": null,
   "metadata": {},
   "outputs": [],
   "source": [
    "dates = [(3,14),(2,8),(10,25),(5,17),(3,2),(7,25),(4,30),(8,7),(int(2),8),(1,22),(2, int(8))]\n",
    "\n",
    "def birthday_count(dates_list):\n",
    "    \"\"\"Returns the total number of birthday pairs in the dates_list\"\"\"\n",
    "    pass # delete this statement before entering your code!"
   ]
  },
  {
   "cell_type": "markdown",
   "metadata": {},
   "source": [
    "<font size = 6, color = blue> Reference"
   ]
  },
  {
   "cell_type": "code",
   "execution_count": 117,
   "metadata": {},
   "outputs": [
    {
     "data": {
      "text/plain": [
       "10"
      ]
     },
     "execution_count": 117,
     "metadata": {},
     "output_type": "execute_result"
    }
   ],
   "source": [
    "#dates = [(3,14),(2,8),(10,25),(5,17),(3,2),(7,25),(4,30),(8,7),(int(2),8),(1,22),(2, int(8))]\n",
    "dates = [(3,14),(2,8),(2,8),(2,8), (10,25),(5,17),(3,2),(7,25),(4,30),(8,7),(int(2),8),(1,22),(2, int(8))]\n",
    "\n",
    "#dates = [(3,14),(2,8),(10,25),(5,17), (3,2),(7,25),(4,30),(8,7),(int(2),8),(1,22),(2, int(8))] #(5,17)\n",
    "\n",
    "def birthday_count(dates_list):\n",
    "    \"\"\"Returns the total number of birthday pairs in the dates_list\"\"\"\n",
    "    count = 0\n",
    "    length = len(dates_list)\n",
    "    for a in range(0, length - 1):\n",
    "        for b in range(a + 1, length):\n",
    "            # Check both month and day\n",
    "            if dates_list[a][0] == dates_list[b][0] and dates_list[a][1] == dates_list[b][1]:\n",
    "                count += 1\n",
    "                \n",
    "    # We counted each pair twice (e.g. jane-bob and bob-jane) so divide by 2:          \n",
    "    return count\n",
    "birthday_count(dates)"
   ]
  },
  {
   "cell_type": "markdown",
   "metadata": {},
   "source": [
    "# Working Version 1"
   ]
  },
  {
   "cell_type": "code",
   "execution_count": 119,
   "metadata": {
    "collapsed": true,
    "jupyter": {
     "outputs_hidden": true
    },
    "tags": []
   },
   "outputs": [
    {
     "name": "stdout",
     "output_type": "stream",
     "text": [
      "length of dates_list 11\n",
      "outer loop A 0 (3, 14)\n",
      "inner loop B 1 (2, 8)\n",
      "current A (3, 14) current B (2, 8)\n",
      "inner loop B 2 (10, 25)\n",
      "current A (3, 14) current B (10, 25)\n",
      "inner loop B 3 (5, 17)\n",
      "current A (3, 14) current B (5, 17)\n",
      "inner loop B 4 (3, 2)\n",
      "current A (3, 14) current B (3, 2)\n",
      "inner loop B 5 (7, 25)\n",
      "current A (3, 14) current B (7, 25)\n",
      "inner loop B 6 (4, 30)\n",
      "current A (3, 14) current B (4, 30)\n",
      "inner loop B 7 (8, 7)\n",
      "current A (3, 14) current B (8, 7)\n",
      "inner loop B 8 (2, 8)\n",
      "current A (3, 14) current B (2, 8)\n",
      "inner loop B 9 (1, 22)\n",
      "current A (3, 14) current B (1, 22)\n",
      "inner loop B 10 (2, 8)\n",
      "current A (3, 14) current B (2, 8)\n",
      "outer loop A 1 (2, 8)\n",
      "inner loop B 2 (10, 25)\n",
      "current A (2, 8) current B (10, 25)\n",
      "inner loop B 3 (5, 17)\n",
      "current A (2, 8) current B (5, 17)\n",
      "inner loop B 4 (3, 2)\n",
      "current A (2, 8) current B (3, 2)\n",
      "inner loop B 5 (7, 25)\n",
      "current A (2, 8) current B (7, 25)\n",
      "inner loop B 6 (4, 30)\n",
      "current A (2, 8) current B (4, 30)\n",
      "inner loop B 7 (8, 7)\n",
      "current A (2, 8) current B (8, 7)\n",
      "inner loop B 8 (2, 8)\n",
      "current A (2, 8) current B (2, 8)\n",
      "Match!\n",
      "inner loop B 9 (1, 22)\n",
      "current A (2, 8) current B (1, 22)\n",
      "inner loop B 10 (2, 8)\n",
      "current A (2, 8) current B (2, 8)\n",
      "Match!\n",
      "outer loop A 2 (10, 25)\n",
      "inner loop B 3 (5, 17)\n",
      "current A (10, 25) current B (5, 17)\n",
      "inner loop B 4 (3, 2)\n",
      "current A (10, 25) current B (3, 2)\n",
      "inner loop B 5 (7, 25)\n",
      "current A (10, 25) current B (7, 25)\n",
      "inner loop B 6 (4, 30)\n",
      "current A (10, 25) current B (4, 30)\n",
      "inner loop B 7 (8, 7)\n",
      "current A (10, 25) current B (8, 7)\n",
      "inner loop B 8 (2, 8)\n",
      "current A (10, 25) current B (2, 8)\n",
      "inner loop B 9 (1, 22)\n",
      "current A (10, 25) current B (1, 22)\n",
      "inner loop B 10 (2, 8)\n",
      "current A (10, 25) current B (2, 8)\n",
      "outer loop A 3 (5, 17)\n",
      "inner loop B 4 (3, 2)\n",
      "current A (5, 17) current B (3, 2)\n",
      "inner loop B 5 (7, 25)\n",
      "current A (5, 17) current B (7, 25)\n",
      "inner loop B 6 (4, 30)\n",
      "current A (5, 17) current B (4, 30)\n",
      "inner loop B 7 (8, 7)\n",
      "current A (5, 17) current B (8, 7)\n",
      "inner loop B 8 (2, 8)\n",
      "current A (5, 17) current B (2, 8)\n",
      "inner loop B 9 (1, 22)\n",
      "current A (5, 17) current B (1, 22)\n",
      "inner loop B 10 (2, 8)\n",
      "current A (5, 17) current B (2, 8)\n",
      "outer loop A 4 (3, 2)\n",
      "inner loop B 5 (7, 25)\n",
      "current A (3, 2) current B (7, 25)\n",
      "inner loop B 6 (4, 30)\n",
      "current A (3, 2) current B (4, 30)\n",
      "inner loop B 7 (8, 7)\n",
      "current A (3, 2) current B (8, 7)\n",
      "inner loop B 8 (2, 8)\n",
      "current A (3, 2) current B (2, 8)\n",
      "inner loop B 9 (1, 22)\n",
      "current A (3, 2) current B (1, 22)\n",
      "inner loop B 10 (2, 8)\n",
      "current A (3, 2) current B (2, 8)\n",
      "outer loop A 5 (7, 25)\n",
      "inner loop B 6 (4, 30)\n",
      "current A (7, 25) current B (4, 30)\n",
      "inner loop B 7 (8, 7)\n",
      "current A (7, 25) current B (8, 7)\n",
      "inner loop B 8 (2, 8)\n",
      "current A (7, 25) current B (2, 8)\n",
      "inner loop B 9 (1, 22)\n",
      "current A (7, 25) current B (1, 22)\n",
      "inner loop B 10 (2, 8)\n",
      "current A (7, 25) current B (2, 8)\n",
      "outer loop A 6 (4, 30)\n",
      "inner loop B 7 (8, 7)\n",
      "current A (4, 30) current B (8, 7)\n",
      "inner loop B 8 (2, 8)\n",
      "current A (4, 30) current B (2, 8)\n",
      "inner loop B 9 (1, 22)\n",
      "current A (4, 30) current B (1, 22)\n",
      "inner loop B 10 (2, 8)\n",
      "current A (4, 30) current B (2, 8)\n",
      "outer loop A 7 (8, 7)\n",
      "inner loop B 8 (2, 8)\n",
      "current A (8, 7) current B (2, 8)\n",
      "inner loop B 9 (1, 22)\n",
      "current A (8, 7) current B (1, 22)\n",
      "inner loop B 10 (2, 8)\n",
      "current A (8, 7) current B (2, 8)\n",
      "outer loop A 8 (2, 8)\n",
      "inner loop B 9 (1, 22)\n",
      "current A (2, 8) current B (1, 22)\n",
      "inner loop B 10 (2, 8)\n",
      "current A (2, 8) current B (2, 8)\n",
      "Match!\n",
      "outer loop A 9 (1, 22)\n",
      "inner loop B 10 (2, 8)\n",
      "current A (1, 22) current B (2, 8)\n"
     ]
    },
    {
     "data": {
      "text/plain": [
       "3"
      ]
     },
     "execution_count": 119,
     "metadata": {},
     "output_type": "execute_result"
    }
   ],
   "source": [
    "dates = [(3,14),(2,8),(10,25),(5,17),(3,2),(7,25),(4,30),(8,7),(int(2),8),(1,22),(2, int(8))]\n",
    "\n",
    "#dates = [(3,14),(2,8),(3,14), (10,25),(5,17),(5,17), (3,2),(7,25),(4,30),(8,7),(int(2),8),(1,22),(2, int(8))]\n",
    "\n",
    "def birthday_count(dates_list):\n",
    "    \"\"\"Returns the total number of birthday pairs in the dates_list\"\"\"\n",
    "    count = 0\n",
    "    length = len(dates_list)\n",
    "    print('length of dates_list', len(dates_list))\n",
    "    for a in range(0, length - 1):\n",
    "        print('outer loop A', a, dates_list[a])\n",
    "        for b in range(a + 1, length):\n",
    "            print('inner loop B', b, dates_list[b])\n",
    "            # Check both month and day\n",
    "            #if dates_list[a][0] == dates_list[b][0] and dates_list[a][1] == dates_list[b][1]:\n",
    "            print('current A', dates_list[a], 'current B',dates_list[b])\n",
    "            if dates_list[a] == dates_list[b]:\n",
    "                print('Match!')\n",
    "#                print(dates_list[a])\n",
    "                count += 1\n",
    "                \n",
    "    # We counted each pair twice (e.g. jane-bob and bob-jane) so divide by 2:          \n",
    "    return count\n",
    "birthday_count(dates)"
   ]
  },
  {
   "cell_type": "markdown",
   "metadata": {},
   "source": [
    "# Working Version 2"
   ]
  },
  {
   "cell_type": "code",
   "execution_count": 120,
   "metadata": {},
   "outputs": [
    {
     "name": "stdout",
     "output_type": "stream",
     "text": [
      "[(2, 8), (2, 8)]\n"
     ]
    }
   ],
   "source": [
    "dates1 = [(3,14),(2,8),(10,25),(5,17),(3,2),(7,25),(4,30),(8,7),(int(2),8),(1,22),(2, int(8))]\n",
    "\n",
    "#dates = [(3,14),(2,8),(3,14), (10,25),(5,17),(5,17), (3,2),(7,25),(4,30),(8,7),(int(2),8),(1,22),(2, int(8))]\n",
    "\n",
    "sample = [(3,14),(2,8),(10,25),(5,17),(3,2),(7,25),(4,30),(8,7),(int(2),8),(1,22),(2, int(8))]\n",
    "#print(sorted(sample))\n",
    "\n",
    "####### SORT\n",
    "\n",
    "dates2 = sorted(dates1)\n",
    "#print(a)\n",
    "#print(sample)\n",
    "\n",
    "######## Separate just the duplicate ones\n",
    "\n",
    "dates = [x for n, x in enumerate(dates2) if x in dates2[:n]]\n",
    "print(dates)\n",
    "\n",
    "def birthday_count(dates_list):\n",
    "    \"\"\"Returns the total number of birthday pairs in the dates_list\"\"\"\n",
    "    count = 0\n",
    "    length = len(dates_list)\n",
    "#    print('length of dates_list', len(dates_list))\n",
    "    for a in range(0, length - 1):\n",
    "        print('outer loop A', a, dates_list[a])\n",
    "        for b in range(a + 1, length):\n",
    "            print('inner loop B', b, dates_list[b])\n",
    "            # Check both month and day\n",
    "            #if dates_list[a][0] == dates_list[b][0] and dates_list[a][1] == dates_list[b][1]:\n",
    "#           print('current A', dates_list[a], 'current B',dates_list[b])\n",
    "            if dates_list[a] == dates_list[b]:\n",
    "                print('Match!')\n",
    "#                print(dates_list[a])\n",
    "                count += 1\n",
    "                \n",
    "    # We counted each pair twice (e.g. jane-bob and bob-jane) so divide by 2:          \n",
    "    return count\n",
    "#birthday_count(dates)"
   ]
  },
  {
   "cell_type": "markdown",
   "metadata": {},
   "source": [
    "---"
   ]
  },
  {
   "cell_type": "markdown",
   "metadata": {},
   "source": [
    "---"
   ]
  },
  {
   "cell_type": "markdown",
   "metadata": {},
   "source": [
    "<font size = 6, color = red> My solution with using dupes and combinations"
   ]
  },
  {
   "cell_type": "code",
   "execution_count": 123,
   "metadata": {},
   "outputs": [
    {
     "name": "stdout",
     "output_type": "stream",
     "text": [
      "[(2, 8), (2, 8)]\n"
     ]
    }
   ],
   "source": [
    "dates1 = [(3,14),(2,8),(10,25),(5,17),(3,2),(7,25),(4,30),(8,7),(int(2),8),(1,22),(2, int(8))]\n",
    "\n",
    "#dates = [(3,14),(2,8),(3,14), (10,25),(5,17),(5,17), (3,2),(7,25),(4,30),(8,7),(int(2),8),(1,22),(2, int(8))]\n",
    "\n",
    "sample = [(3,14),(2,8),(10,25),(5,17),(3,2),(7,25),(4,30),(8,7),(int(2),8),(1,22),(2, int(8))]\n",
    "#print(sorted(sample))\n",
    "\n",
    "####### SORT ####### NOT NECESSARY ##############\n",
    "\n",
    "dates2 = sorted(dates1)\n",
    "#print(a)\n",
    "#print(sample)\n",
    "\n",
    "######## Separate just the duplicate ones\n",
    "\n",
    "dates = [x for n, x in enumerate(dates1) if x in dates1[:n]]\n",
    "print(dates)\n",
    "\n",
    "############# COMBINATIONS CODE ####################\n",
    "\n",
    "def choose(n, k):\n",
    "    \"\"\"\n",
    "    A fast way to calculate binomial coefficients by Andrew Dalke (contrib).\n",
    "    \"\"\"\n",
    "    if 0 <= k <= n:\n",
    "        ntok = 1\n",
    "        ktok = 1\n",
    "        for t in range(1, min(k, n - k) + 1):\n",
    "            ntok *= n\n",
    "            ktok *= t\n",
    "            n -= 1\n",
    "        return ntok // ktok\n",
    "    else:\n",
    "        return 0\n",
    "    \n",
    "######################################################"
   ]
  },
  {
   "cell_type": "markdown",
   "metadata": {},
   "source": [
    "---"
   ]
  },
  {
   "cell_type": "markdown",
   "metadata": {},
   "source": [
    "---"
   ]
  },
  {
   "cell_type": "code",
   "execution_count": null,
   "metadata": {},
   "outputs": [],
   "source": []
  },
  {
   "cell_type": "markdown",
   "metadata": {},
   "source": [
    "---"
   ]
  },
  {
   "cell_type": "code",
   "execution_count": 95,
   "metadata": {},
   "outputs": [],
   "source": [
    "from operator import mul    # or mul=lambda x,y:x*y\n",
    "from fractions import Fraction\n",
    "\n",
    "def nCk(n,k):\n",
    "    return int( reduce(mul, (Fraction(n-i, i+1) for i in range(k)), 1) )"
   ]
  },
  {
   "cell_type": "code",
   "execution_count": null,
   "metadata": {
    "collapsed": true,
    "jupyter": {
     "outputs_hidden": true
    },
    "tags": []
   },
   "outputs": [
    {
     "ename": "NameError",
     "evalue": "name 'reduce' is not defined",
     "output_type": "error",
     "traceback": [
      "\u001b[0;31m---------------------------------------------------------------------------\u001b[0m",
      "\u001b[0;31mNameError\u001b[0m                                 Traceback (most recent call last)",
      "Input \u001b[0;32mIn [96]\u001b[0m, in \u001b[0;36m<cell line: 1>\u001b[0;34m()\u001b[0m\n\u001b[0;32m----> 1\u001b[0m \u001b[43mnCk\u001b[49m\u001b[43m(\u001b[49m\u001b[38;5;241;43m3\u001b[39;49m\u001b[43m,\u001b[49m\u001b[38;5;241;43m1\u001b[39;49m\u001b[43m)\u001b[49m\n",
      "Input \u001b[0;32mIn [95]\u001b[0m, in \u001b[0;36mnCk\u001b[0;34m(n, k)\u001b[0m\n\u001b[1;32m      4\u001b[0m \u001b[38;5;28;01mdef\u001b[39;00m \u001b[38;5;21mnCk\u001b[39m(n,k):\n\u001b[0;32m----> 5\u001b[0m     \u001b[38;5;28;01mreturn\u001b[39;00m \u001b[38;5;28mint\u001b[39m( \u001b[43mreduce\u001b[49m(mul, (Fraction(n\u001b[38;5;241m-\u001b[39mi, i\u001b[38;5;241m+\u001b[39m\u001b[38;5;241m1\u001b[39m) \u001b[38;5;28;01mfor\u001b[39;00m i \u001b[38;5;129;01min\u001b[39;00m \u001b[38;5;28mrange\u001b[39m(k)), \u001b[38;5;241m1\u001b[39m) )\n",
      "\u001b[0;31mNameError\u001b[0m: name 'reduce' is not defined"
     ]
    }
   ],
   "source": [
    "nCk(3,1)"
   ]
  },
  {
   "cell_type": "markdown",
   "metadata": {},
   "source": [
    "---"
   ]
  },
  {
   "cell_type": "markdown",
   "metadata": {
    "tags": []
   },
   "source": [
    "# this is also a working solution to calculate combinations"
   ]
  },
  {
   "cell_type": "code",
   "execution_count": 99,
   "metadata": {},
   "outputs": [],
   "source": [
    "def choose(n, k):\n",
    "    \"\"\"\n",
    "    A fast way to calculate binomial coefficients by Andrew Dalke (contrib).\n",
    "    \"\"\"\n",
    "    if 0 <= k <= n:\n",
    "        ntok = 1\n",
    "        ktok = 1\n",
    "        for t in range(1, min(k, n - k) + 1):\n",
    "            ntok *= n\n",
    "            ktok *= t\n",
    "            n -= 1\n",
    "        return ntok // ktok\n",
    "    else:\n",
    "        return 0"
   ]
  },
  {
   "cell_type": "code",
   "execution_count": 121,
   "metadata": {},
   "outputs": [
    {
     "data": {
      "text/plain": [
       "6"
      ]
     },
     "execution_count": 121,
     "metadata": {},
     "output_type": "execute_result"
    }
   ],
   "source": [
    "choose(4, 2)"
   ]
  },
  {
   "cell_type": "markdown",
   "metadata": {},
   "source": [
    "---"
   ]
  },
  {
   "cell_type": "markdown",
   "metadata": {},
   "source": [
    "# Code to calculate combinations"
   ]
  },
  {
   "cell_type": "code",
   "execution_count": 103,
   "metadata": {},
   "outputs": [],
   "source": [
    "from math import factorial\n",
    "\n",
    "def calculate_combinations(n, r):\n",
    "    return factorial(n) // factorial(r) // factorial(n-r)"
   ]
  },
  {
   "cell_type": "code",
   "execution_count": 118,
   "metadata": {},
   "outputs": [
    {
     "data": {
      "text/plain": [
       "6"
      ]
     },
     "execution_count": 118,
     "metadata": {},
     "output_type": "execute_result"
    }
   ],
   "source": [
    "calculate_combinations(4, 2)"
   ]
  },
  {
   "cell_type": "markdown",
   "metadata": {},
   "source": [
    "---"
   ]
  },
  {
   "cell_type": "code",
   "execution_count": null,
   "metadata": {},
   "outputs": [],
   "source": []
  },
  {
   "cell_type": "markdown",
   "metadata": {},
   "source": [
    "<font size = 6, color = red> Sorting Solutions"
   ]
  },
  {
   "cell_type": "code",
   "execution_count": null,
   "metadata": {},
   "outputs": [],
   "source": []
  },
  {
   "cell_type": "markdown",
   "metadata": {},
   "source": [
    "---"
   ]
  },
  {
   "cell_type": "code",
   "execution_count": 90,
   "metadata": {
    "tags": []
   },
   "outputs": [
    {
     "name": "stdout",
     "output_type": "stream",
     "text": [
      "[(1, 22), (2, 8), (2, 8), (2, 8), (3, 2), (3, 14), (4, 30), (5, 17), (7, 25), (8, 7), (10, 25)]\n"
     ]
    }
   ],
   "source": [
    "sample = [(3,14),(2,8),(10,25),(5,17),(3,2),(7,25),(4,30),(8,7),(int(2),8),(1,22),(2, int(8))]\n",
    "#print(sorted(sample))\n",
    "a = sorted(sample)\n",
    "print(a)\n",
    "#print(sample)"
   ]
  },
  {
   "cell_type": "markdown",
   "metadata": {},
   "source": [
    "---"
   ]
  },
  {
   "cell_type": "markdown",
   "metadata": {
    "jupyter": {
     "source_hidden": true
    },
    "tags": []
   },
   "source": [
    "# Trying solution with Lambda function applied to tuples"
   ]
  },
  {
   "cell_type": "code",
   "execution_count": 4,
   "metadata": {
    "collapsed": true,
    "jupyter": {
     "outputs_hidden": true,
     "source_hidden": true
    },
    "tags": []
   },
   "outputs": [
    {
     "name": "stdout",
     "output_type": "stream",
     "text": [
      "[(1, 22), (2, 8), (2, 8), (2, 8), (3, 2), (3, 14), (4, 30), (5, 17), (7, 25), (8, 7), (10, 25)]\n"
     ]
    }
   ],
   "source": [
    "listoftuples  = [(3,14),(2,8),(10,25),(5,17),(3,2),(7,25),(4,30),(8,7),(int(2),8),(1,22),(2, int(8))]\n",
    "\n",
    "#listoftuples = [('TEnglish', 88), ('Science', 90), ('Maths', 97), ('Social sciences', 82)]\n",
    "arrange = lambda x : x.sort()\n",
    "arrange(listoftuples)\n",
    "print(listoftuples)"
   ]
  },
  {
   "cell_type": "markdown",
   "metadata": {},
   "source": [
    "---"
   ]
  },
  {
   "cell_type": "markdown",
   "metadata": {},
   "source": [
    "<font size = 6, color = red> Generate Permutations"
   ]
  },
  {
   "cell_type": "markdown",
   "metadata": {},
   "source": [
    "# Trying out permutations based on repeating values in a list"
   ]
  },
  {
   "cell_type": "code",
   "execution_count": 21,
   "metadata": {},
   "outputs": [
    {
     "data": {
      "text/plain": [
       "4"
      ]
     },
     "execution_count": 21,
     "metadata": {},
     "output_type": "execute_result"
    }
   ],
   "source": [
    "team = [\"FCP\", \"SCP\", \"SLB\", \"FCP\"]\n",
    "\n",
    "L = [[x,team.count(x)] for x in team]\n",
    "newList = [l[0:1] for l in L if l[1] > 1]\n",
    "newList\n",
    "team = newList\n",
    "def allMatches(lst):\n",
    "    return len([(el1, el2) for el1 in lst for el2 in lst if el1==el2])\n",
    "allMatches(team)"
   ]
  },
  {
   "cell_type": "markdown",
   "metadata": {},
   "source": [
    "<font size = 6, color = red> Potential working Solution (TBD)"
   ]
  },
  {
   "cell_type": "code",
   "execution_count": 93,
   "metadata": {},
   "outputs": [
    {
     "name": "stdout",
     "output_type": "stream",
     "text": [
      "[(2, 8), (2, 8)]\n"
     ]
    }
   ],
   "source": [
    "mylist = [(3,14),(2,8),(10,25),(5,17),(3,2),(7,25),(4,30),(8,7),(int(2),8),(1,22),(2, int(8))]\n",
    "\n",
    "dupes = [x for n, x in enumerate(mylist) if x in mylist[:n]]\n",
    "print(dupes)\n",
    "\n",
    "def allMatches(lst):\n",
    "    return len([(el1, el2) for el1 in dupes for el2 in dupes if el1==el2])\n",
    "#allMatches(dupes)"
   ]
  },
  {
   "cell_type": "markdown",
   "metadata": {},
   "source": [
    "# Currently here"
   ]
  },
  {
   "cell_type": "code",
   "execution_count": 65,
   "metadata": {},
   "outputs": [
    {
     "name": "stdout",
     "output_type": "stream",
     "text": [
      "[]\n"
     ]
    }
   ],
   "source": [
    "\n",
    "\n",
    "mylist = [(3,14),(2,8),(10,25),(5,17),(3,2),(7,25),(4,30),(8,7),(int(2),8),(1,22),(2, int(8))]\n",
    "\n",
    "newlist = list(enumerate(mylist))\n",
    "#print(newlist)\n",
    "\n",
    "#print([[('-'.join(str(i) for i in x))] for x in newlist])\n",
    "\n",
    "\n",
    "#-------------create new lit after concatanating index --------------------------\n",
    "newlist2 = [[('-'.join(str(i) for i in x))] for x in newlist]\n",
    "\n",
    "#print(newlist2)\n",
    "\n",
    "#---------flatten the nested list------------------------------\n",
    "\n",
    "flat_list = []\n",
    "for sublist in newlist2:\n",
    "    for item in sublist:\n",
    "        flat_list.append(item)\n",
    "#print(flat_list)\n",
    "\n",
    "dupes = [x for n, x in enumerate(flat_list) if x[1:] in flat_list[1:n]]\n",
    "print(dupes)\n",
    "\n",
    "#---------------\n",
    "\n",
    "newlist3 = [x.split('-')[1] for x in flat_list]\n",
    "#print(newlist3)\n",
    "\n",
    "#-----------\n",
    "\n",
    "\n",
    "def allMatches(lst):\n",
    "    return len([(el1, el2) for el1 in dupes for el2 in dupes if el1==el2])\n",
    "#allMatches(dupes)"
   ]
  },
  {
   "cell_type": "code",
   "execution_count": 52,
   "metadata": {},
   "outputs": [
    {
     "data": {
      "text/plain": [
       "[280.73, 281.359, 280.63]"
      ]
     },
     "execution_count": 52,
     "metadata": {},
     "output_type": "execute_result"
    }
   ],
   "source": [
    "l = [(280.73,), (281.359,), (280.630,)]\n",
    "cleaned = [i[0] for i in l]\n",
    "cleaned"
   ]
  },
  {
   "cell_type": "markdown",
   "metadata": {},
   "source": [
    "# Multi-Enumerate -- NEEDS REFINING"
   ]
  },
  {
   "cell_type": "code",
   "execution_count": 14,
   "metadata": {},
   "outputs": [
    {
     "data": {
      "text/plain": [
       "11"
      ]
     },
     "execution_count": 14,
     "metadata": {},
     "output_type": "execute_result"
    }
   ],
   "source": [
    "mylist = [(3,14),(2,8),(10,25),(5,17),(3,2),(7,25),(4,30),(8,7),(int(2),8),(1,22),(2, int(8))]\n",
    "\n",
    "newlist2 = list(enumerate(mylist))\n",
    "#newlist2\n",
    "#print(newlist2)\n",
    "\n",
    "newList = [l[1:] for l in newlist2 if l[0] > 1]\n",
    "# newList\n",
    "#print(newList)\n",
    "team = newList\n",
    "def allMatches(lst):\n",
    "    return len([(el1, el2) for el1 in lst for el2 in lst if el1==el2])\n",
    "allMatches(team)"
   ]
  },
  {
   "cell_type": "code",
   "execution_count": null,
   "metadata": {},
   "outputs": [],
   "source": []
  },
  {
   "cell_type": "markdown",
   "metadata": {},
   "source": [
    "---"
   ]
  },
  {
   "cell_type": "markdown",
   "metadata": {},
   "source": [
    "# First Enumerate"
   ]
  },
  {
   "cell_type": "code",
   "execution_count": 25,
   "metadata": {},
   "outputs": [
    {
     "data": {
      "text/plain": [
       "[(0, (3, 14)),\n",
       " (1, (2, 8)),\n",
       " (2, (10, 25)),\n",
       " (3, (5, 17)),\n",
       " (4, (3, 2)),\n",
       " (5, (7, 25)),\n",
       " (6, (4, 30)),\n",
       " (7, (8, 7)),\n",
       " (8, (2, 8)),\n",
       " (9, (1, 22)),\n",
       " (10, (2, 8))]"
      ]
     },
     "execution_count": 25,
     "metadata": {},
     "output_type": "execute_result"
    }
   ],
   "source": [
    "mylist = [(3,14),(2,8),(10,25),(5,17),(3,2),(7,25),(4,30),(8,7),(int(2),8),(1,22),(2, int(8))]\n",
    "\n",
    "newlist = list(enumerate(mylist))\n",
    "newlist"
   ]
  },
  {
   "cell_type": "code",
   "execution_count": 20,
   "metadata": {},
   "outputs": [
    {
     "data": {
      "text/plain": [
       "[['0-(3, 14)'],\n",
       " ['1-(2, 8)'],\n",
       " ['2-(10, 25)'],\n",
       " ['3-(5, 17)'],\n",
       " ['4-(3, 2)'],\n",
       " ['5-(7, 25)'],\n",
       " ['6-(4, 30)'],\n",
       " ['7-(8, 7)'],\n",
       " ['8-(2, 8)'],\n",
       " ['9-(1, 22)'],\n",
       " ['10-(2, 8)']]"
      ]
     },
     "execution_count": 20,
     "metadata": {},
     "output_type": "execute_result"
    }
   ],
   "source": [
    "[[('-'.join(str(i) for i in x))] for x in newlist]"
   ]
  },
  {
   "cell_type": "code",
   "execution_count": null,
   "metadata": {},
   "outputs": [],
   "source": []
  },
  {
   "cell_type": "markdown",
   "metadata": {},
   "source": [
    "# SQL query to get list of all pairs"
   ]
  },
  {
   "cell_type": "code",
   "execution_count": 22,
   "metadata": {},
   "outputs": [
    {
     "ename": "SyntaxError",
     "evalue": "invalid syntax (3468118211.py, line 6)",
     "output_type": "error",
     "traceback": [
      "\u001b[0;36m  Input \u001b[0;32mIn [22]\u001b[0;36m\u001b[0m\n\u001b[0;31m    SELECT t1.index,\u001b[0m\n\u001b[0m           ^\u001b[0m\n\u001b[0;31mSyntaxError\u001b[0m\u001b[0;31m:\u001b[0m invalid syntax\n"
     ]
    }
   ],
   "source": [
    "mylist = [(3,14),(2,8),(10,25),(5,17),(3,2),(7,25),(4,30),(8,7),(int(2),8),(1,22),(2, int(8))]\n",
    "\n",
    "employee = list(enumerate(mylist))\n",
    "\n",
    "\n",
    "SELECT t1.index, \n",
    "       t1.date, \n",
    "       t2.index, \n",
    "       t2.date\n",
    "FROM Employee t1, Employee t2\n",
    "WHERE t1.date = t2.date\n",
    "AND t1.index <> t2.index"
   ]
  },
  {
   "cell_type": "code",
   "execution_count": 115,
   "metadata": {
    "collapsed": true,
    "jupyter": {
     "outputs_hidden": true
    },
    "tags": []
   },
   "outputs": [
    {
     "name": "stdout",
     "output_type": "stream",
     "text": [
      "1\n",
      "1\n",
      "1\n",
      "1\n",
      "1\n",
      "1\n",
      "1\n",
      "1\n",
      "1\n",
      "1\n",
      "1\n",
      "1\n",
      "2\n",
      "2\n",
      "2\n",
      "2\n",
      "2\n",
      "2\n",
      "2\n",
      "2\n",
      "2\n",
      "2\n",
      "2\n",
      "2\n",
      "3\n",
      "3\n",
      "3\n",
      "3\n",
      "3\n",
      "3\n",
      "3\n",
      "3\n",
      "3\n",
      "3\n",
      "3\n",
      "3\n",
      "4\n",
      "4\n",
      "4\n",
      "4\n",
      "4\n",
      "4\n",
      "4\n",
      "4\n",
      "4\n",
      "4\n",
      "4\n",
      "4\n",
      "5\n",
      "5\n",
      "5\n",
      "5\n",
      "5\n",
      "5\n",
      "5\n",
      "5\n",
      "5\n",
      "5\n",
      "5\n",
      "5\n",
      "6\n",
      "6\n",
      "6\n",
      "6\n",
      "6\n",
      "6\n",
      "6\n",
      "6\n",
      "6\n",
      "6\n",
      "6\n",
      "6\n",
      "7\n",
      "7\n",
      "7\n",
      "7\n",
      "7\n",
      "7\n",
      "7\n",
      "7\n",
      "7\n",
      "7\n",
      "7\n",
      "7\n",
      "8\n",
      "8\n",
      "8\n",
      "8\n",
      "8\n",
      "8\n",
      "8\n",
      "8\n",
      "8\n",
      "8\n",
      "8\n",
      "8\n",
      "9\n",
      "9\n",
      "9\n",
      "9\n",
      "9\n",
      "9\n",
      "9\n",
      "9\n",
      "9\n",
      "9\n",
      "9\n",
      "9\n",
      "10\n",
      "10\n",
      "10\n",
      "10\n",
      "10\n",
      "10\n",
      "10\n",
      "10\n",
      "10\n",
      "10\n",
      "10\n",
      "10\n",
      "11\n"
     ]
    }
   ],
   "source": [
    "#list_tuples = [(2,3), (4,7), (3,2), (7,8), (7,4)]\n",
    "list_tuples2 = [(3,14),(2,8),(10,25),(5,17),(3,2),(7,25),(4,30),(8,7),(int(2),8),(1,22),(2, int(8))]\n",
    "list_tuples = list(enumerate(mylist))\n",
    "\n",
    "\n",
    "front_number = []\n",
    "back_number = []\n",
    "\n",
    "for i in range(len(list_tuples)):\n",
    "    front_number.append(list_tuples[i][0])\n",
    "#    print(front_number)\n",
    "    back_number.append(list_tuples[i][1])\n",
    "#    print(back_number)\n",
    "\n",
    "new_list_tuple = []\n",
    "count = 0\n",
    "for i, v in enumerate(front_number):\n",
    "    for b_i, b_v in enumerate(back_number):\n",
    "        if b_i == i:\n",
    "            count +=1\n",
    "        print(count)\n",
    "            \n",
    "# #            print(\"hey\")\n",
    "#             print(v, b_v)\n",
    "#             #pass\n",
    "#         elif v == b_v:\n",
    "#             pass\n",
    "# #             if front_number[b_i] == back_number[i]:\n",
    "# #                 if (front_number[i], back_number[i]) not in new_list_tuple:\n",
    "#                     new_list_tuple.append((front_number[i],back_number[i]))\n",
    "# print(new_list_tuple)"
   ]
  },
  {
   "cell_type": "code",
   "execution_count": null,
   "metadata": {},
   "outputs": [],
   "source": []
  },
  {
   "cell_type": "code",
   "execution_count": null,
   "metadata": {},
   "outputs": [],
   "source": []
  },
  {
   "cell_type": "markdown",
   "metadata": {},
   "source": [
    "# trying out variations of tuple unpacking (and enumerate)"
   ]
  },
  {
   "cell_type": "code",
   "execution_count": 74,
   "metadata": {},
   "outputs": [
    {
     "name": "stdout",
     "output_type": "stream",
     "text": [
      "3\n",
      "14\n"
     ]
    },
    {
     "ename": "IndexError",
     "evalue": "tuple index out of range",
     "output_type": "error",
     "traceback": [
      "\u001b[0;31m---------------------------------------------------------------------------\u001b[0m",
      "\u001b[0;31mIndexError\u001b[0m                                Traceback (most recent call last)",
      "Input \u001b[0;32mIn [74]\u001b[0m, in \u001b[0;36m<cell line: 39>\u001b[0;34m()\u001b[0m\n\u001b[1;32m     39\u001b[0m \u001b[38;5;28;01mfor\u001b[39;00m \u001b[38;5;28mid\u001b[39m, name \u001b[38;5;129;01min\u001b[39;00m \u001b[38;5;28menumerate\u001b[39m(mylist):\n\u001b[1;32m     40\u001b[0m \u001b[38;5;66;03m#    print(id, name)\u001b[39;00m\n\u001b[1;32m     41\u001b[0m \u001b[38;5;66;03m#    for i in range(0,9):\u001b[39;00m\n\u001b[0;32m   (...)\u001b[0m\n\u001b[1;32m     44\u001b[0m \u001b[38;5;66;03m#    print([(name1, name2) for name1 in enumerate(mylist) for name2 in enumerate(mylist) if name1==name2])\u001b[39;00m\n\u001b[1;32m     45\u001b[0m \u001b[38;5;66;03m#    print([('hello') for id1, name1 in enumerate(mylist) for id2, name2 in enumerate(mylist) if name1==name2])\u001b[39;00m\n\u001b[1;32m     47\u001b[0m     \u001b[38;5;28;01mfor\u001b[39;00m i \u001b[38;5;129;01min\u001b[39;00m \u001b[38;5;28mrange\u001b[39m(\u001b[38;5;241m9\u001b[39m):\n\u001b[1;32m     48\u001b[0m \u001b[38;5;66;03m#        print(i)\u001b[39;00m\n\u001b[0;32m---> 49\u001b[0m         \u001b[38;5;28mprint\u001b[39m(\u001b[43mname\u001b[49m\u001b[43m[\u001b[49m\u001b[43mi\u001b[49m\u001b[43m]\u001b[49m)\n",
      "\u001b[0;31mIndexError\u001b[0m: tuple index out of range"
     ]
    }
   ],
   "source": [
    "mylist = [(3,14),(2,8),(10,25),(5,17),(3,2),(7,25),(4,30),(8,7),(int(2),8),(1,22),(2, int(8))]\n",
    "\n",
    "dates_list = list(enumerate(mylist))\n",
    "#print((len(dates_list)-1))\n",
    "# n = range(len(dates_list)-1)\n",
    "# print(n)\n",
    "\n",
    "\n",
    "#print(len(dates_list))\n",
    "#print(dates_list)\n",
    "\n",
    "# count = 0\n",
    "# for items in dates_list:\n",
    "#     if items[0][1] == items[1][1]:\n",
    "#         count += 1\n",
    "# print(count)\n",
    "\n",
    "# for i in (range(10)):#range((len(dates_list)-3)):\n",
    "#     print(i)\n",
    "#    new = [item for item in dates_list if item[i] == item[i+1]]\n",
    "    \n",
    "# SELECT t1.index, \n",
    "#        t1.date, \n",
    "#        t2.index, \n",
    "#        t2.date\n",
    "# FROM Employee t1, Employee t2\n",
    "# WHERE t1.date = t2.date\n",
    "# AND t1.index <> t2.index\n",
    "\n",
    "# for id, name in enumerate(mylist):\n",
    "# #    for i in range(0,9):\n",
    "# #        if name[i] == name[i+1]:\n",
    "# #        print(i, name)\n",
    "#     print([(el1, el2) for el1 in enumerate(mylist) for el2 in enumerate(mylist) if el1==el2])\n",
    "    \n",
    "#    print(id, name)\n",
    "\n",
    "\n",
    "for id, name in enumerate(mylist):\n",
    "#    print(id, name)\n",
    "#    for i in range(0,9):\n",
    "#        if name[i] == name[i+1]:\n",
    "#        print(i, name)\n",
    "#    print([(name1, name2) for name1 in enumerate(mylist) for name2 in enumerate(mylist) if name1==name2])\n",
    "#    print([('hello') for id1, name1 in enumerate(mylist) for id2, name2 in enumerate(mylist) if name1==name2])\n",
    "\n",
    "    for i in range(9):\n",
    "#        print(i)\n",
    "        print(name[i])\n",
    "        # if name[0] == name[1]:\n",
    "        #     print('hello')\n"
   ]
  },
  {
   "cell_type": "code",
   "execution_count": 76,
   "metadata": {},
   "outputs": [
    {
     "data": {
      "text/plain": [
       "1"
      ]
     },
     "execution_count": 76,
     "metadata": {},
     "output_type": "execute_result"
    }
   ],
   "source": [
    "mytuple = (1,2)\n",
    "\n",
    "mytuple[0]"
   ]
  },
  {
   "cell_type": "code",
   "execution_count": null,
   "metadata": {},
   "outputs": [],
   "source": []
  }
 ],
 "metadata": {
  "kernelspec": {
   "display_name": "Python 3 (ipykernel)",
   "language": "python",
   "name": "python3"
  },
  "language_info": {
   "codemirror_mode": {
    "name": "ipython",
    "version": 3
   },
   "file_extension": ".py",
   "mimetype": "text/x-python",
   "name": "python",
   "nbconvert_exporter": "python",
   "pygments_lexer": "ipython3",
   "version": "3.9.12"
  },
  "widgets": {
   "state": {},
   "version": "1.1.2"
  }
 },
 "nbformat": 4,
 "nbformat_minor": 4
}
