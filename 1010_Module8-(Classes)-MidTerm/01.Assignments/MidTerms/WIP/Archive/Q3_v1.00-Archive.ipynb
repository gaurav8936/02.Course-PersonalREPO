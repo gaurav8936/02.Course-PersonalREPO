{
 "cells": [
  {
   "cell_type": "markdown",
   "metadata": {},
   "source": [
    "### Midterm Exam Part 2: Programming (60 points)\n",
    "\n",
    "The midterm exam is designed to evaluate your grasp of Python theory as well as Python coding.\n",
    "\n",
    "This part of the exam consists of four programming questions. You have 48 hours to complete both parts (Part 1 and Part 2). Please insert each function into a file named **midterm.py** and upload to gradescope in Part 2. **The code version uploaded to Part 2 will be your official version for grading purposes.**\n",
    "\n",
    "Submit you code in a **midterm.py** file to this part within the 48 window. You can submit as many times as your like inside the window but if you submit over the window, we will take the last submitted entry before the window expired. The visible autograder tests check only that your code is producing the correctly formatted answer. That is, you will only see 20 of the 60 total points visible in the autograder when you submit - the remaining 40 of 60 points are not visible so please make sure your code meets all of the requirements stated in the problem.\n",
    "\n",
    "- **Do not put any additional code besides import statements and the function defs in the midterm.py file**\n",
    "- **Return** the answers instead of printing them in the function!\n",
    "- This is an individual open book exam.\n",
    "- You may use any libraries from the Python Standard Library for this exam: https://docs.python.org/3/library/\n",
    "- Follow best practices while coding!"
   ]
  },
  {
   "cell_type": "markdown",
   "metadata": {},
   "source": [
    "### Problem 3:  Birthday planning (15 pts)\n",
    "\n",
    "Suppose you record a list of birthdays for your classmates, recorded as month day tuples.  An example is given below."
   ]
  },
  {
   "cell_type": "code",
   "execution_count": 1,
   "metadata": {},
   "outputs": [],
   "source": [
    "# The 2nd to last tuple needs the int(2) in it so that it is uniquely stored in memory compared to (2,8)\n",
    "# Under the hood Python 3.7 changed how these are stored so (2,8) and (2,8) are stored in the same location\n",
    "# and then the algorithm below doesn't work\n",
    "\n",
    "dates = [(3,14),(2,8),(10,25),(5,17),(3,2),(7,25),(4,30),(8,7),(int(2),8),(1,22),(2, int(8))]"
   ]
  },
  {
   "cell_type": "markdown",
   "metadata": {},
   "source": [
    "You read about the famous birthday problem and you become interested in the number of pairs of classmates that share the same birthday. Below is an algorithm you write to do this. (Note: the ```is``` operator tests that two operands point to the same object)"
   ]
  },
  {
   "cell_type": "code",
   "execution_count": 2,
   "metadata": {},
   "outputs": [],
   "source": [
    "def birthday_original(dates_list):\n",
    "    count = 0\n",
    "\n",
    "    for person_a in dates_list:\n",
    "        for person_b in dates_list:\n",
    "            # Make sure we have different people        \n",
    "\n",
    "            if person_a is person_b:\n",
    "                continue\n",
    "\n",
    "            # Check both month and day\n",
    "            if person_a[0] == person_b[0] and person_a[1] == person_b[1]:\n",
    "                count += 1\n",
    "                \n",
    "    # We counted each pair twice (e.g. jane-bob and bob-jane) so divide by 2:          \n",
    "    return count//2"
   ]
  },
  {
   "cell_type": "code",
   "execution_count": 3,
   "metadata": {},
   "outputs": [
    {
     "data": {
      "text/plain": [
       "3"
      ]
     },
     "execution_count": 3,
     "metadata": {},
     "output_type": "execute_result"
    }
   ],
   "source": [
    "birthday_original(dates)"
   ]
  },
  {
   "cell_type": "markdown",
   "metadata": {},
   "source": [
    "You notice that your initial algorithm is inefficient in that it counts each pair twice. For example, it will increment count once when person_a is Jane and person_b is Bob, and again when person_a is Bob and person_b is Jane. Revise the algorithm so that it only looks at each pair once and has an average run-time of **ϴ**(n). Put that code in the function below - the function just needs to return the integer number of Total birthday pairs.\n",
    "\n",
    "**Note:** Your code needs to duplicate the functionality of the algorithm above. It is suggested that you make new `dates` lists and pass them to both functions to test that the results are the same!"
   ]
  },
  {
   "cell_type": "code",
   "execution_count": null,
   "metadata": {},
   "outputs": [],
   "source": [
    "dates = [(3,14),(2,8),(10,25),(5,17),(3,2),(7,25),(4,30),(8,7),(int(2),8),(1,22),(2, int(8))]\n",
    "\n",
    "def birthday_count(dates_list):\n",
    "    \"\"\"Returns the total number of birthday pairs in the dates_list\"\"\"\n",
    "    pass # delete this statement before entering your code!"
   ]
  },
  {
   "cell_type": "markdown",
   "metadata": {},
   "source": [
    "# Starting Line"
   ]
  },
  {
   "cell_type": "markdown",
   "metadata": {},
   "source": [
    "---"
   ]
  },
  {
   "cell_type": "code",
   "execution_count": 37,
   "metadata": {},
   "outputs": [
    {
     "name": "stdout",
     "output_type": "stream",
     "text": [
      "[(3, 14), (2, 8), (10, 25), (5, 17), (3, 2), (7, 25), (4, 30), (8, 7), (2, 8), (1, 22), (2, 8)]\n"
     ]
    }
   ],
   "source": [
    "new_list = [(3,14),(2,8),(10,25),(5,17),(3,2),(7,25),(4,30),(8,7),(int(2),8),(1,22),(2, int(8))]\n",
    "\n",
    "my_list = sorted(new_list)\n",
    "print(new_list)\n",
    "\n",
    "# #new_list.sort(key=lambda y: y[1])\n",
    "\n",
    "# # count = 0\n",
    "# # for i in (new_list.sort(key=lambda y: y[1])):\n",
    "# #     if i == i+1:\n",
    "# #         count +=1\n",
    "# #     print(count)\n",
    "\n",
    "\n",
    "\n",
    "# #print(new_list)\n",
    "# #print(a)\n",
    "\n",
    "# for item in (new_list.sort(key=lambda y: y[1])):\n",
    "#     print(item)\n"
   ]
  },
  {
   "cell_type": "markdown",
   "metadata": {},
   "source": [
    "---"
   ]
  },
  {
   "cell_type": "code",
   "execution_count": 39,
   "metadata": {},
   "outputs": [
    {
     "name": "stdout",
     "output_type": "stream",
     "text": [
      "[(1, 22), (2, 8), (2, 8), (2, 8), (3, 2), (3, 14), (4, 30), (5, 17), (7, 25), (8, 7), (10, 25)]\n"
     ]
    }
   ],
   "source": [
    "sample = [(3,14),(2,8),(10,25),(5,17),(3,2),(7,25),(4,30),(8,7),(int(2),8),(1,22),(2, int(8))]\n",
    "print(sorted(sample))"
   ]
  },
  {
   "cell_type": "markdown",
   "metadata": {},
   "source": [
    "---"
   ]
  },
  {
   "cell_type": "code",
   "execution_count": 18,
   "metadata": {},
   "outputs": [
    {
     "name": "stdout",
     "output_type": "stream",
     "text": [
      "{(3, 14): 0, (2, 8): 2, (10, 25): 0, (5, 17): 0, (2, 3): 0, (7, 25): 0, (4, 30): 0, (7, 8): 0, (1, 22): 0}\n"
     ]
    }
   ],
   "source": [
    "my_list = [(3,14),(2,8),(10,25),(5,17),(3,2),(7,25),(4,30),(8,7),(int(2),8),(1,22),(2, int(8))]\n",
    "count={}\n",
    "for i in my_list:\n",
    "    if tuple(sorted(i))  in count:\n",
    "#        pass \n",
    "        count[tuple(sorted(i))]+=1\n",
    "        \n",
    "    else:\n",
    "        count[tuple(sorted(i))]=0\n",
    "#        continue\n",
    "#        pass\n",
    "#        count[tuple(sorted(i))]=1\n",
    "\n",
    "print(count)"
   ]
  },
  {
   "cell_type": "markdown",
   "metadata": {},
   "source": [
    "---"
   ]
  },
  {
   "cell_type": "code",
   "execution_count": 26,
   "metadata": {},
   "outputs": [
    {
     "ename": "TypeError",
     "evalue": "'NoneType' object is not iterable",
     "output_type": "error",
     "traceback": [
      "\u001b[0;31m---------------------------------------------------------------------------\u001b[0m",
      "\u001b[0;31mTypeError\u001b[0m                                 Traceback (most recent call last)",
      "Input \u001b[0;32mIn [41]\u001b[0m, in \u001b[0;36m<cell line: 11>\u001b[0;34m()\u001b[0m\n\u001b[1;32m      1\u001b[0m my_list \u001b[38;5;241m=\u001b[39m [(\u001b[38;5;241m3\u001b[39m,\u001b[38;5;241m14\u001b[39m),(\u001b[38;5;241m2\u001b[39m,\u001b[38;5;241m8\u001b[39m),(\u001b[38;5;241m10\u001b[39m,\u001b[38;5;241m25\u001b[39m),(\u001b[38;5;241m5\u001b[39m,\u001b[38;5;241m17\u001b[39m),(\u001b[38;5;241m3\u001b[39m,\u001b[38;5;241m2\u001b[39m),(\u001b[38;5;241m7\u001b[39m,\u001b[38;5;241m25\u001b[39m),(\u001b[38;5;241m4\u001b[39m,\u001b[38;5;241m30\u001b[39m),(\u001b[38;5;241m8\u001b[39m,\u001b[38;5;241m7\u001b[39m),(\u001b[38;5;28mint\u001b[39m(\u001b[38;5;241m2\u001b[39m),\u001b[38;5;241m8\u001b[39m),(\u001b[38;5;241m1\u001b[39m,\u001b[38;5;241m22\u001b[39m),(\u001b[38;5;241m2\u001b[39m, \u001b[38;5;28mint\u001b[39m(\u001b[38;5;241m8\u001b[39m))]\n\u001b[1;32m      3\u001b[0m \u001b[38;5;66;03m# result = my_list.sort(key=lambda y: y[1])\u001b[39;00m\n\u001b[1;32m      4\u001b[0m \n\u001b[1;32m      5\u001b[0m \u001b[38;5;66;03m# #result = sorted[(sub) for sub in my_list]\u001b[39;00m\n\u001b[0;32m   (...)\u001b[0m\n\u001b[1;32m      9\u001b[0m \u001b[38;5;66;03m# # newList = my_list.\u001b[39;00m\n\u001b[1;32m     10\u001b[0m \u001b[38;5;66;03m# # count={}\u001b[39;00m\n\u001b[0;32m---> 11\u001b[0m \u001b[38;5;28;01mfor\u001b[39;00m i \u001b[38;5;129;01min\u001b[39;00m my_list\u001b[38;5;241m.\u001b[39msort(key\u001b[38;5;241m=\u001b[39m\u001b[38;5;28;01mlambda\u001b[39;00m y: y[\u001b[38;5;241m1\u001b[39m]):\u001b[38;5;66;03m#my_list(sorted):\u001b[39;00m\n\u001b[1;32m     12\u001b[0m     \u001b[38;5;28;01mif\u001b[39;00m i  \u001b[38;5;241m==\u001b[39m i\u001b[38;5;241m+\u001b[39m\u001b[38;5;241m1\u001b[39m :\u001b[38;5;66;03m#  in count:\u001b[39;00m\n\u001b[1;32m     14\u001b[0m         count[\u001b[38;5;28mtuple\u001b[39m(\u001b[38;5;28msorted\u001b[39m(i))]\u001b[38;5;241m+\u001b[39m\u001b[38;5;241m=\u001b[39m\u001b[38;5;241m1\u001b[39m\n",
      "\u001b[0;31mTypeError\u001b[0m: 'NoneType' object is not iterable"
     ]
    }
   ],
   "source": [
    "my_list = [(3,14),(2,8),(10,25),(5,17),(3,2),(7,25),(4,30),(8,7),(int(2),8),(1,22),(2, int(8))]\n",
    "\n",
    "# result = my_list.sort(key=lambda y: y[1])\n",
    "\n",
    "# #result = sorted[(sub) for sub in my_list]\n",
    "\n",
    "# print(result)\n",
    "\n",
    "# # newList = my_list.\n",
    "# # count={}\n",
    "for i in my_list(sorted):\n",
    "    if i  == i+1 :#  in count:\n",
    "        \n",
    "        count[tuple(sorted(i))]+=1\n",
    "        \n",
    "    else:\n",
    "        count[tuple(sorted(i))]=0\n",
    "#        continue\n",
    "#        pass\n",
    "#        count[tuple(sorted(i))]=1\n",
    "\n",
    "print(count)"
   ]
  },
  {
   "cell_type": "markdown",
   "metadata": {},
   "source": [
    "---"
   ]
  },
  {
   "cell_type": "code",
   "execution_count": null,
   "metadata": {},
   "outputs": [],
   "source": []
  }
 ],
 "metadata": {
  "kernelspec": {
   "display_name": "Python 3 (ipykernel)",
   "language": "python",
   "name": "python3"
  },
  "language_info": {
   "codemirror_mode": {
    "name": "ipython",
    "version": 3
   },
   "file_extension": ".py",
   "mimetype": "text/x-python",
   "name": "python",
   "nbconvert_exporter": "python",
   "pygments_lexer": "ipython3",
   "version": "3.9.12"
  },
  "widgets": {
   "state": {},
   "version": "1.1.2"
  }
 },
 "nbformat": 4,
 "nbformat_minor": 4
}
