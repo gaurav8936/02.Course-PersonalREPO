{
 "cells": [
  {
   "cell_type": "markdown",
   "metadata": {},
   "source": [
    "### Midterm Exam Part 2: Programming (60 points)\n",
    "\n",
    "The midterm exam is designed to evaluate your grasp of Python theory as well as Python coding.\n",
    "\n",
    "This part of the exam consists of four programming questions. You have 48 hours to complete both parts (Part 1 and Part 2). Please insert each function into a file named **midterm.py** and upload to gradescope in Part 2. **The code version uploaded to Part 2 will be your official version for grading purposes.**\n",
    "\n",
    "Submit you code in a **midterm.py** file to this part within the 48 window. You can submit as many times as your like inside the window but if you submit over the window, we will take the last submitted entry before the window expired. The visible autograder tests check only that your code is producing the correctly formatted answer. That is, you will only see 20 of the 60 total points visible in the autograder when you submit - the remaining 40 of 60 points are not visible so please make sure your code meets all of the requirements stated in the problem.\n",
    "\n",
    "- **Do not put any additional code besides import statements and the function defs in the midterm.py file**\n",
    "- **Return** the answers instead of printing them in the function!\n",
    "- This is an individual open book exam.\n",
    "- You may use any libraries from the Python Standard Library for this exam: https://docs.python.org/3/library/\n",
    "- Follow best practices while coding!"
   ]
  },
  {
   "cell_type": "markdown",
   "metadata": {},
   "source": [
    "### Problem 3:  Birthday planning (15 pts)\n",
    "\n",
    "Suppose you record a list of birthdays for your classmates, recorded as month day tuples.  An example is given below."
   ]
  },
  {
   "cell_type": "code",
   "execution_count": 1,
   "metadata": {},
   "outputs": [],
   "source": [
    "# The 2nd to last tuple needs the int(2) in it so that it is uniquely stored in memory compared to (2,8)\n",
    "# Under the hood Python 3.7 changed how these are stored so (2,8) and (2,8) are stored in the same location\n",
    "# and then the algorithm below doesn't work\n",
    "\n",
    "dates = [(3,14),(2,8),(10,25),(5,17),(3,2),(7,25),(4,30),(8,7),(int(2),8),(1,22),(2, int(8))]"
   ]
  },
  {
   "cell_type": "markdown",
   "metadata": {},
   "source": [
    "You read about the famous birthday problem and you become interested in the number of pairs of classmates that share the same birthday. Below is an algorithm you write to do this. (Note: the ```is``` operator tests that two operands point to the same object)"
   ]
  },
  {
   "cell_type": "code",
   "execution_count": 2,
   "metadata": {},
   "outputs": [],
   "source": [
    "def birthday_original(dates_list):\n",
    "    count = 0\n",
    "\n",
    "    for person_a in dates_list:\n",
    "        for person_b in dates_list:\n",
    "            # Make sure we have different people        \n",
    "\n",
    "            if person_a is person_b:\n",
    "                continue\n",
    "\n",
    "            # Check both month and day\n",
    "            if person_a[0] == person_b[0] and person_a[1] == person_b[1]:\n",
    "                count += 1\n",
    "                \n",
    "    # We counted each pair twice (e.g. jane-bob and bob-jane) so divide by 2:          \n",
    "    return count//2"
   ]
  },
  {
   "cell_type": "code",
   "execution_count": 3,
   "metadata": {},
   "outputs": [
    {
     "data": {
      "text/plain": [
       "3"
      ]
     },
     "execution_count": 3,
     "metadata": {},
     "output_type": "execute_result"
    }
   ],
   "source": [
    "birthday_original(dates)"
   ]
  },
  {
   "cell_type": "markdown",
   "metadata": {},
   "source": [
    "You notice that your initial algorithm is inefficient in that it counts each pair twice. For example, it will increment count once when person_a is Jane and person_b is Bob, and again when person_a is Bob and person_b is Jane. Revise the algorithm so that it only looks at each pair once and has an average run-time of **ϴ**(n). Put that code in the function below - the function just needs to return the integer number of Total birthday pairs.\n",
    "\n",
    "**Note:** Your code needs to duplicate the functionality of the algorithm above. It is suggested that you make new `dates` lists and pass them to both functions to test that the results are the same!"
   ]
  },
  {
   "cell_type": "code",
   "execution_count": null,
   "metadata": {},
   "outputs": [],
   "source": [
    "dates = [(3,14),(2,8),(10,25),(5,17),(3,2),(7,25),(4,30),(8,7),(int(2),8),(1,22),(2, int(8))]\n",
    "\n",
    "def birthday_count(dates_list):\n",
    "    \"\"\"Returns the total number of birthday pairs in the dates_list\"\"\"\n",
    "    pass # delete this statement before entering your code!"
   ]
  },
  {
   "cell_type": "markdown",
   "metadata": {},
   "source": [
    "<font size = 6, color = blue> Reference"
   ]
  },
  {
   "cell_type": "code",
   "execution_count": 117,
   "metadata": {},
   "outputs": [
    {
     "data": {
      "text/plain": [
       "10"
      ]
     },
     "execution_count": 117,
     "metadata": {},
     "output_type": "execute_result"
    }
   ],
   "source": [
    "#dates = [(3,14),(2,8),(10,25),(5,17),(3,2),(7,25),(4,30),(8,7),(int(2),8),(1,22),(2, int(8))]\n",
    "dates = [(3,14),(2,8),(2,8),(2,8), (10,25),(5,17),(3,2),(7,25),(4,30),(8,7),(int(2),8),(1,22),(2, int(8))]\n",
    "\n",
    "#dates = [(3,14),(2,8),(10,25),(5,17), (3,2),(7,25),(4,30),(8,7),(int(2),8),(1,22),(2, int(8))] #(5,17)\n",
    "\n",
    "def birthday_count(dates_list):\n",
    "    \"\"\"Returns the total number of birthday pairs in the dates_list\"\"\"\n",
    "    count = 0\n",
    "    length = len(dates_list)\n",
    "    for a in range(0, length - 1):\n",
    "        for b in range(a + 1, length):\n",
    "            # Check both month and day\n",
    "            if dates_list[a][0] == dates_list[b][0] and dates_list[a][1] == dates_list[b][1]:\n",
    "                count += 1\n",
    "                \n",
    "    # We counted each pair twice (e.g. jane-bob and bob-jane) so divide by 2:          \n",
    "    return count\n",
    "birthday_count(dates)"
   ]
  },
  {
   "cell_type": "markdown",
   "metadata": {},
   "source": [
    "# Working Version 1"
   ]
  },
  {
   "cell_type": "code",
   "execution_count": 119,
   "metadata": {
    "collapsed": true,
    "jupyter": {
     "outputs_hidden": true
    },
    "tags": []
   },
   "outputs": [
    {
     "name": "stdout",
     "output_type": "stream",
     "text": [
      "length of dates_list 11\n",
      "outer loop A 0 (3, 14)\n",
      "inner loop B 1 (2, 8)\n",
      "current A (3, 14) current B (2, 8)\n",
      "inner loop B 2 (10, 25)\n",
      "current A (3, 14) current B (10, 25)\n",
      "inner loop B 3 (5, 17)\n",
      "current A (3, 14) current B (5, 17)\n",
      "inner loop B 4 (3, 2)\n",
      "current A (3, 14) current B (3, 2)\n",
      "inner loop B 5 (7, 25)\n",
      "current A (3, 14) current B (7, 25)\n",
      "inner loop B 6 (4, 30)\n",
      "current A (3, 14) current B (4, 30)\n",
      "inner loop B 7 (8, 7)\n",
      "current A (3, 14) current B (8, 7)\n",
      "inner loop B 8 (2, 8)\n",
      "current A (3, 14) current B (2, 8)\n",
      "inner loop B 9 (1, 22)\n",
      "current A (3, 14) current B (1, 22)\n",
      "inner loop B 10 (2, 8)\n",
      "current A (3, 14) current B (2, 8)\n",
      "outer loop A 1 (2, 8)\n",
      "inner loop B 2 (10, 25)\n",
      "current A (2, 8) current B (10, 25)\n",
      "inner loop B 3 (5, 17)\n",
      "current A (2, 8) current B (5, 17)\n",
      "inner loop B 4 (3, 2)\n",
      "current A (2, 8) current B (3, 2)\n",
      "inner loop B 5 (7, 25)\n",
      "current A (2, 8) current B (7, 25)\n",
      "inner loop B 6 (4, 30)\n",
      "current A (2, 8) current B (4, 30)\n",
      "inner loop B 7 (8, 7)\n",
      "current A (2, 8) current B (8, 7)\n",
      "inner loop B 8 (2, 8)\n",
      "current A (2, 8) current B (2, 8)\n",
      "Match!\n",
      "inner loop B 9 (1, 22)\n",
      "current A (2, 8) current B (1, 22)\n",
      "inner loop B 10 (2, 8)\n",
      "current A (2, 8) current B (2, 8)\n",
      "Match!\n",
      "outer loop A 2 (10, 25)\n",
      "inner loop B 3 (5, 17)\n",
      "current A (10, 25) current B (5, 17)\n",
      "inner loop B 4 (3, 2)\n",
      "current A (10, 25) current B (3, 2)\n",
      "inner loop B 5 (7, 25)\n",
      "current A (10, 25) current B (7, 25)\n",
      "inner loop B 6 (4, 30)\n",
      "current A (10, 25) current B (4, 30)\n",
      "inner loop B 7 (8, 7)\n",
      "current A (10, 25) current B (8, 7)\n",
      "inner loop B 8 (2, 8)\n",
      "current A (10, 25) current B (2, 8)\n",
      "inner loop B 9 (1, 22)\n",
      "current A (10, 25) current B (1, 22)\n",
      "inner loop B 10 (2, 8)\n",
      "current A (10, 25) current B (2, 8)\n",
      "outer loop A 3 (5, 17)\n",
      "inner loop B 4 (3, 2)\n",
      "current A (5, 17) current B (3, 2)\n",
      "inner loop B 5 (7, 25)\n",
      "current A (5, 17) current B (7, 25)\n",
      "inner loop B 6 (4, 30)\n",
      "current A (5, 17) current B (4, 30)\n",
      "inner loop B 7 (8, 7)\n",
      "current A (5, 17) current B (8, 7)\n",
      "inner loop B 8 (2, 8)\n",
      "current A (5, 17) current B (2, 8)\n",
      "inner loop B 9 (1, 22)\n",
      "current A (5, 17) current B (1, 22)\n",
      "inner loop B 10 (2, 8)\n",
      "current A (5, 17) current B (2, 8)\n",
      "outer loop A 4 (3, 2)\n",
      "inner loop B 5 (7, 25)\n",
      "current A (3, 2) current B (7, 25)\n",
      "inner loop B 6 (4, 30)\n",
      "current A (3, 2) current B (4, 30)\n",
      "inner loop B 7 (8, 7)\n",
      "current A (3, 2) current B (8, 7)\n",
      "inner loop B 8 (2, 8)\n",
      "current A (3, 2) current B (2, 8)\n",
      "inner loop B 9 (1, 22)\n",
      "current A (3, 2) current B (1, 22)\n",
      "inner loop B 10 (2, 8)\n",
      "current A (3, 2) current B (2, 8)\n",
      "outer loop A 5 (7, 25)\n",
      "inner loop B 6 (4, 30)\n",
      "current A (7, 25) current B (4, 30)\n",
      "inner loop B 7 (8, 7)\n",
      "current A (7, 25) current B (8, 7)\n",
      "inner loop B 8 (2, 8)\n",
      "current A (7, 25) current B (2, 8)\n",
      "inner loop B 9 (1, 22)\n",
      "current A (7, 25) current B (1, 22)\n",
      "inner loop B 10 (2, 8)\n",
      "current A (7, 25) current B (2, 8)\n",
      "outer loop A 6 (4, 30)\n",
      "inner loop B 7 (8, 7)\n",
      "current A (4, 30) current B (8, 7)\n",
      "inner loop B 8 (2, 8)\n",
      "current A (4, 30) current B (2, 8)\n",
      "inner loop B 9 (1, 22)\n",
      "current A (4, 30) current B (1, 22)\n",
      "inner loop B 10 (2, 8)\n",
      "current A (4, 30) current B (2, 8)\n",
      "outer loop A 7 (8, 7)\n",
      "inner loop B 8 (2, 8)\n",
      "current A (8, 7) current B (2, 8)\n",
      "inner loop B 9 (1, 22)\n",
      "current A (8, 7) current B (1, 22)\n",
      "inner loop B 10 (2, 8)\n",
      "current A (8, 7) current B (2, 8)\n",
      "outer loop A 8 (2, 8)\n",
      "inner loop B 9 (1, 22)\n",
      "current A (2, 8) current B (1, 22)\n",
      "inner loop B 10 (2, 8)\n",
      "current A (2, 8) current B (2, 8)\n",
      "Match!\n",
      "outer loop A 9 (1, 22)\n",
      "inner loop B 10 (2, 8)\n",
      "current A (1, 22) current B (2, 8)\n"
     ]
    },
    {
     "data": {
      "text/plain": [
       "3"
      ]
     },
     "execution_count": 119,
     "metadata": {},
     "output_type": "execute_result"
    }
   ],
   "source": [
    "dates = [(3,14),(2,8),(10,25),(5,17),(3,2),(7,25),(4,30),(8,7),(int(2),8),(1,22),(2, int(8))]\n",
    "\n",
    "#dates = [(3,14),(2,8),(3,14), (10,25),(5,17),(5,17), (3,2),(7,25),(4,30),(8,7),(int(2),8),(1,22),(2, int(8))]\n",
    "\n",
    "def birthday_count(dates_list):\n",
    "    \"\"\"Returns the total number of birthday pairs in the dates_list\"\"\"\n",
    "    count = 0\n",
    "    length = len(dates_list)\n",
    "    print('length of dates_list', len(dates_list))\n",
    "    for a in range(0, length - 1):\n",
    "        print('outer loop A', a, dates_list[a])\n",
    "        for b in range(a + 1, length):\n",
    "            print('inner loop B', b, dates_list[b])\n",
    "            # Check both month and day\n",
    "            #if dates_list[a][0] == dates_list[b][0] and dates_list[a][1] == dates_list[b][1]:\n",
    "            print('current A', dates_list[a], 'current B',dates_list[b])\n",
    "            if dates_list[a] == dates_list[b]:\n",
    "                print('Match!')\n",
    "#                print(dates_list[a])\n",
    "                count += 1\n",
    "                \n",
    "    # We counted each pair twice (e.g. jane-bob and bob-jane) so divide by 2:          \n",
    "    return count\n",
    "birthday_count(dates)"
   ]
  },
  {
   "cell_type": "markdown",
   "metadata": {},
   "source": [
    "# Working Version 2"
   ]
  },
  {
   "cell_type": "code",
   "execution_count": 120,
   "metadata": {},
   "outputs": [
    {
     "name": "stdout",
     "output_type": "stream",
     "text": [
      "[(2, 8), (2, 8)]\n"
     ]
    }
   ],
   "source": [
    "dates1 = [(3,14),(2,8),(10,25),(5,17),(3,2),(7,25),(4,30),(8,7),(int(2),8),(1,22),(2, int(8))]\n",
    "\n",
    "#dates = [(3,14),(2,8),(3,14), (10,25),(5,17),(5,17), (3,2),(7,25),(4,30),(8,7),(int(2),8),(1,22),(2, int(8))]\n",
    "\n",
    "sample = [(3,14),(2,8),(10,25),(5,17),(3,2),(7,25),(4,30),(8,7),(int(2),8),(1,22),(2, int(8))]\n",
    "#print(sorted(sample))\n",
    "\n",
    "####### SORT\n",
    "\n",
    "dates2 = sorted(dates1)\n",
    "#print(a)\n",
    "#print(sample)\n",
    "\n",
    "######## Separate just the duplicate ones\n",
    "\n",
    "dates = [x for n, x in enumerate(dates2) if x in dates2[:n]]\n",
    "print(dates)\n",
    "\n",
    "def birthday_count(dates_list):\n",
    "    \"\"\"Returns the total number of birthday pairs in the dates_list\"\"\"\n",
    "    count = 0\n",
    "    length = len(dates_list)\n",
    "#    print('length of dates_list', len(dates_list))\n",
    "    for a in range(0, length - 1):\n",
    "        print('outer loop A', a, dates_list[a])\n",
    "        for b in range(a + 1, length):\n",
    "            print('inner loop B', b, dates_list[b])\n",
    "            # Check both month and day\n",
    "            #if dates_list[a][0] == dates_list[b][0] and dates_list[a][1] == dates_list[b][1]:\n",
    "#           print('current A', dates_list[a], 'current B',dates_list[b])\n",
    "            if dates_list[a] == dates_list[b]:\n",
    "                print('Match!')\n",
    "#                print(dates_list[a])\n",
    "                count += 1\n",
    "                \n",
    "    # We counted each pair twice (e.g. jane-bob and bob-jane) so divide by 2:          \n",
    "    return count\n",
    "#birthday_count(dates)"
   ]
  },
  {
   "cell_type": "markdown",
   "metadata": {},
   "source": [
    "---"
   ]
  },
  {
   "cell_type": "markdown",
   "metadata": {},
   "source": [
    "---"
   ]
  },
  {
   "cell_type": "markdown",
   "metadata": {},
   "source": [
    "<font size = 6, color = red> My solution with using dupes and combinations"
   ]
  },
  {
   "cell_type": "code",
   "execution_count": 94,
   "metadata": {},
   "outputs": [
    {
     "name": "stdout",
     "output_type": "stream",
     "text": [
      "{(2, 8): 6, (5, 17): 3, (3, 2): 2}\n",
      "outer k 4\n",
      "outer n 6\n",
      "outside this loop\n",
      "entering this loop\n",
      "ntok inside 6\n",
      "ktok inside 1\n",
      "ntok/ktok value inside 6\n",
      "entering this loop\n",
      "ntok inside 30\n",
      "ktok inside 2\n",
      "ntok/ktok value inside 15\n",
      "entering this loop\n",
      "ntok inside 120\n",
      "ktok inside 6\n",
      "ntok/ktok value inside 20\n",
      "entering this loop\n",
      "ntok inside 360\n",
      "ktok inside 24\n",
      "ntok/ktok value inside 15\n",
      "ntok outside 360\n",
      "ktok outside 24\n",
      "ntok/ktok value outside 15\n",
      "counter outside 15\n",
      "outer k 1\n",
      "outer n 3\n",
      "outside this loop\n",
      "entering this loop\n",
      "ntok inside 3\n",
      "ktok inside 1\n",
      "ntok/ktok value inside 3\n",
      "ntok outside 3\n",
      "ktok outside 1\n",
      "ntok/ktok value outside 3\n",
      "counter outside 18\n",
      "outer k 0\n",
      "outer n 2\n",
      "outside this loop\n",
      "ntok outside 1\n",
      "ktok outside 1\n",
      "ntok/ktok value outside 1\n",
      "counter outside 19\n",
      "19\n"
     ]
    }
   ],
   "source": [
    "#dates1 = [(3,14),(2,8),(10,25),(5,17),(3,2),(7,25),(4,30),(8,7),(int(2),8),(1,22),(2, int(8))]\n",
    "\n",
    "#dates1 = [(3,14),(2,8),(10,25),(5,17),(3,2),(7,25),(4,30),(8,7),(int(2),8),(1,22),(2, int(8))]\n",
    "\n",
    "dates1 = [(3,14),(2,8),(2,8),(2,8), (2,8), (10,25),(5,17),(5,17), (5,17), (3,2),(3,2), (7,25),(4,30),(8,7),(int(2),8),(1,22),(2, int(8))]\n",
    "\n",
    "#dates = [(3,14),(2,8),(3,14), (10,25),(5,17),(5,17), (3,2),(7,25),(4,30),(8,7),(int(2),8),(1,22),(2, int(8))]\n",
    "\n",
    "#sample = [(3,14),(2,8),(10,25),(5,17),(3,2),(7,25),(4,30),(8,7),(int(2),8),(1,22),(2, int(8))]\n",
    "#print(sorted(sample))\n",
    "\n",
    "####### SORT ####### NOT NECESSARY ##############\n",
    "\n",
    "dates2 = sorted(dates1)\n",
    "#print(a)\n",
    "#print(sample)\n",
    "\n",
    "######## Separate just the duplicate ones\n",
    "\n",
    "#dates = [x for n, x in enumerate(dates1) if x in dates1[:n]]\n",
    "#print(dates)\n",
    "\n",
    "duplicates = [item for item in dates1 if dates1.count(item) > 1]\n",
    "#print(duplicates)\n",
    "\n",
    "my_dict = {i:duplicates.count(i) for i in duplicates}\n",
    "print(my_dict)\n",
    "# my_list = list[i:duplicates.count(i) for i in duplicates]\n",
    "# print(my_list)\n",
    "\n",
    "############################\n",
    "\n",
    "\n",
    "\n",
    "############# COMBINATIONS CODE ####################\n",
    "counter = 0\n",
    "for n in my_dict.values():\n",
    "    k = n-2\n",
    "    print('outer k', k)\n",
    "    # print(type(k))\n",
    "    print('outer n', n)\n",
    "    # print(type(n))\n",
    "    #counter = 0\n",
    "    # n = 4 \n",
    "    # k = 2\n",
    "    # if 0 <= k <= n:\n",
    "    #     print('this is k',k)\n",
    "    #     print(n)\n",
    "    if 0 <= k <= n:    \n",
    "    #if n > k >0:    \n",
    "        ntok = 1\n",
    "        ktok = 1\n",
    "        print('outside this loop')\n",
    "        #for t in range(1, min(k, n - k) + 1):\n",
    "        for t in range(1, k + 1):\n",
    "            print('entering this loop')\n",
    "            ntok *= n\n",
    "            ktok *= t\n",
    "            n -= 1\n",
    "    #        print('ntok value', (ntok // ktok))\n",
    "            print('ntok inside', ntok)\n",
    "            print('ktok inside', ktok)\n",
    "            print('ntok/ktok value inside', (ntok // ktok))\n",
    "#            counter+=(ntok // ktok)\n",
    "#            print('counter inside', counter)\n",
    "\n",
    "        print('ntok outside', ntok)\n",
    "        print('ktok outside', ktok)\n",
    "        print('ntok/ktok value outside', (ntok // ktok))\n",
    "    counter+=(ntok // ktok)\n",
    "    print('counter outside', counter)\n",
    "            #print(ntok // ktok)\n",
    "#print(ntok // ktok)\n",
    "print(counter)\n",
    "    \n",
    "######################################################"
   ]
  },
  {
   "cell_type": "markdown",
   "metadata": {},
   "source": [
    "# Backup (my solution)"
   ]
  },
  {
   "cell_type": "code",
   "execution_count": 80,
   "metadata": {},
   "outputs": [
    {
     "name": "stdout",
     "output_type": "stream",
     "text": [
      "{(2, 8): 5, (5, 17): 3, (3, 2): 2}\n",
      "first 15 second 3 third 1\n"
     ]
    }
   ],
   "source": [
    "#dates1 = [(3,14),(2,8),(10,25),(5,17),(3,2),(7,25),(4,30),(8,7),(int(2),8),(1,22),(2, int(8))]\n",
    "\n",
    "#dates1 = [(3,14),(2,8),(10,25),(5,17),(3,2),(7,25),(4,30),(8,7),(int(2),8),(1,22),(2, int(8))]\n",
    "\n",
    "dates1 = [(3,14),(2,8),(2,8),(2,8), (10,25),(5,17),(5,17), (5,17), (3,2),(3,2), (7,25),(4,30),(8,7),(int(2),8),(1,22),(2, int(8))]\n",
    "\n",
    "#dates = [(3,14),(2,8),(3,14), (10,25),(5,17),(5,17), (3,2),(7,25),(4,30),(8,7),(int(2),8),(1,22),(2, int(8))]\n",
    "\n",
    "#sample = [(3,14),(2,8),(10,25),(5,17),(3,2),(7,25),(4,30),(8,7),(int(2),8),(1,22),(2, int(8))]\n",
    "#print(sorted(sample))\n",
    "\n",
    "####### SORT ####### NOT NECESSARY ##############\n",
    "\n",
    "dates2 = sorted(dates1)\n",
    "#print(a)\n",
    "#print(sample)\n",
    "\n",
    "######## Separate just the duplicate ones\n",
    "\n",
    "#dates = [x for n, x in enumerate(dates1) if x in dates1[:n]]\n",
    "#print(dates)\n",
    "\n",
    "duplicates = [item for item in dates1 if dates1.count(item) > 1]\n",
    "#print(duplicates)\n",
    "\n",
    "my_dict = {i:duplicates.count(i) for i in duplicates}\n",
    "print(my_dict)\n",
    "\n",
    "############################\n",
    "\n",
    "\n",
    "\n",
    "############# COMBINATIONS CODE ####################\n",
    "\n",
    "def choose(n, k):\n",
    "    \"\"\"\n",
    "    A fast way to calculate binomial coefficients by Andrew Dalke (contrib).\n",
    "    \"\"\"\n",
    "    if 0 <= k <= n:\n",
    "        ntok = 1\n",
    "        ktok = 1\n",
    "        for t in range(1, min(k, n - k) + 1):\n",
    "            ntok *= n\n",
    "            ktok *= t\n",
    "            n -= 1\n",
    "        return ntok // ktok\n",
    "    else:\n",
    "        return 0\n",
    "    \n",
    "######################################################\n",
    "\n",
    "print('first ' + str(choose(6, 4)) + ' second ' + str(choose(3, 1)) + ' third ' + str(choose(2, 0)))"
   ]
  },
  {
   "cell_type": "markdown",
   "metadata": {},
   "source": [
    "---"
   ]
  },
  {
   "cell_type": "markdown",
   "metadata": {},
   "source": [
    "---"
   ]
  },
  {
   "cell_type": "code",
   "execution_count": 15,
   "metadata": {},
   "outputs": [
    {
     "ename": "AttributeError",
     "evalue": "'list' object has no attribute 'add'",
     "output_type": "error",
     "traceback": [
      "\u001b[0;31m---------------------------------------------------------------------------\u001b[0m",
      "\u001b[0;31mAttributeError\u001b[0m                            Traceback (most recent call last)",
      "Input \u001b[0;32mIn [15]\u001b[0m, in \u001b[0;36m<cell line: 2>\u001b[0;34m()\u001b[0m\n\u001b[1;32m      1\u001b[0m seen \u001b[38;5;241m=\u001b[39m []\n\u001b[0;32m----> 2\u001b[0m seen_add \u001b[38;5;241m=\u001b[39m \u001b[43mseen\u001b[49m\u001b[38;5;241;43m.\u001b[39;49m\u001b[43madd\u001b[49m\n\u001b[1;32m      3\u001b[0m \u001b[38;5;28;01mreturn\u001b[39;00m [x \u001b[38;5;28;01mfor\u001b[39;00m x \u001b[38;5;129;01min\u001b[39;00m dates1 \u001b[38;5;28;01mif\u001b[39;00m \u001b[38;5;129;01mnot\u001b[39;00m (x \u001b[38;5;129;01min\u001b[39;00m seen \u001b[38;5;129;01mor\u001b[39;00m seen_add(x))]\n",
      "\u001b[0;31mAttributeError\u001b[0m: 'list' object has no attribute 'add'"
     ]
    }
   ],
   "source": [
    "seen = []\n",
    "seen_add = seen.add\n",
    "return [x for x in dates1 if not (x in seen or seen_add(x))]"
   ]
  },
  {
   "cell_type": "markdown",
   "metadata": {},
   "source": [
    "---"
   ]
  },
  {
   "cell_type": "code",
   "execution_count": null,
   "metadata": {},
   "outputs": [],
   "source": []
  },
  {
   "cell_type": "code",
   "execution_count": null,
   "metadata": {},
   "outputs": [],
   "source": []
  }
 ],
 "metadata": {
  "kernelspec": {
   "display_name": "Python 3 (ipykernel)",
   "language": "python",
   "name": "python3"
  },
  "language_info": {
   "codemirror_mode": {
    "name": "ipython",
    "version": 3
   },
   "file_extension": ".py",
   "mimetype": "text/x-python",
   "name": "python",
   "nbconvert_exporter": "python",
   "pygments_lexer": "ipython3",
   "version": "3.9.12"
  },
  "widgets": {
   "state": {},
   "version": "1.1.2"
  }
 },
 "nbformat": 4,
 "nbformat_minor": 4
}
