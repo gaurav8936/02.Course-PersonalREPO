{
 "cells": [
  {
   "cell_type": "markdown",
   "metadata": {},
   "source": [
    "### Midterm Exam Part 2: Programming (60 points)\n",
    "\n",
    "The midterm exam is designed to evaluate your grasp of Python theory as well as Python coding.\n",
    "\n",
    "This part of the exam consists of four programming questions. You have 48 hours to complete both parts (Part 1 and Part 2). Please insert each function into a file named **midterm.py** and upload to gradescope in Part 2. **The code version uploaded to Part 2 will be your official version for grading purposes.**\n",
    "\n",
    "Submit you code in a **midterm.py** file to this part within the 48 window. You can submit as many times as your like inside the window but if you submit over the window, we will take the last submitted entry before the window expired. The visible autograder tests check only that your code is producing the correctly formatted answer. That is, you will only see 20 of the 60 total points visible in the autograder when you submit - the remaining 40 of 60 points are not visible so please make sure your code meets all of the requirements stated in the problem.\n",
    "\n",
    "- **Do not put any additional code besides import statements and the function defs in the midterm.py file**\n",
    "- **Return** the answers instead of printing them in the function!\n",
    "- This is an individual open book exam.\n",
    "- You may use any libraries from the Python Standard Library for this exam: https://docs.python.org/3/library/\n",
    "- Follow best practices while coding!"
   ]
  },
  {
   "cell_type": "markdown",
   "metadata": {},
   "source": [
    "### Problem 3:  Birthday planning (15 pts)\n",
    "\n",
    "Suppose you record a list of birthdays for your classmates, recorded as month day tuples.  An example is given below."
   ]
  },
  {
   "cell_type": "code",
   "execution_count": 1,
   "metadata": {},
   "outputs": [],
   "source": [
    "# The 2nd to last tuple needs the int(2) in it so that it is uniquely stored in memory compared to (2,8)\n",
    "# Under the hood Python 3.7 changed how these are stored so (2,8) and (2,8) are stored in the same location\n",
    "# and then the algorithm below doesn't work\n",
    "\n",
    "dates = [(3,14),(2,8),(10,25),(5,17),(3,2),(7,25),(4,30),(8,7),(int(2),8),(1,22),(2, int(8))]"
   ]
  },
  {
   "cell_type": "markdown",
   "metadata": {},
   "source": [
    "You read about the famous birthday problem and you become interested in the number of pairs of classmates that share the same birthday. Below is an algorithm you write to do this. (Note: the ```is``` operator tests that two operands point to the same object)"
   ]
  },
  {
   "cell_type": "code",
   "execution_count": 2,
   "metadata": {},
   "outputs": [],
   "source": [
    "def birthday_original(dates_list):\n",
    "    count = 0\n",
    "\n",
    "    for person_a in dates_list:\n",
    "        for person_b in dates_list:\n",
    "            # Make sure we have different people        \n",
    "\n",
    "            if person_a is person_b:\n",
    "                continue\n",
    "\n",
    "            # Check both month and day\n",
    "            if person_a[0] == person_b[0] and person_a[1] == person_b[1]:\n",
    "                count += 1\n",
    "                \n",
    "    # We counted each pair twice (e.g. jane-bob and bob-jane) so divide by 2:          \n",
    "    return count//2"
   ]
  },
  {
   "cell_type": "code",
   "execution_count": 3,
   "metadata": {},
   "outputs": [
    {
     "data": {
      "text/plain": [
       "3"
      ]
     },
     "execution_count": 3,
     "metadata": {},
     "output_type": "execute_result"
    }
   ],
   "source": [
    "birthday_original(dates)"
   ]
  },
  {
   "cell_type": "markdown",
   "metadata": {},
   "source": [
    "You notice that your initial algorithm is inefficient in that it counts each pair twice. For example, it will increment count once when person_a is Jane and person_b is Bob, and again when person_a is Bob and person_b is Jane. Revise the algorithm so that it only looks at each pair once and has an average run-time of **ϴ**(n). Put that code in the function below - the function just needs to return the integer number of Total birthday pairs.\n",
    "\n",
    "**Note:** Your code needs to duplicate the functionality of the algorithm above. It is suggested that you make new `dates` lists and pass them to both functions to test that the results are the same!"
   ]
  },
  {
   "cell_type": "code",
   "execution_count": null,
   "metadata": {},
   "outputs": [],
   "source": [
    "dates = [(3,14),(2,8),(10,25),(5,17),(3,2),(7,25),(4,30),(8,7),(int(2),8),(1,22),(2, int(8))]\n",
    "\n",
    "def birthday_count(dates_list):\n",
    "    \"\"\"Returns the total number of birthday pairs in the dates_list\"\"\"\n",
    "    pass # delete this statement before entering your code!"
   ]
  },
  {
   "cell_type": "markdown",
   "metadata": {},
   "source": [
    "# Starting Line"
   ]
  },
  {
   "cell_type": "markdown",
   "metadata": {},
   "source": [
    "---"
   ]
  },
  {
   "cell_type": "code",
   "execution_count": 37,
   "metadata": {},
   "outputs": [
    {
     "name": "stdout",
     "output_type": "stream",
     "text": [
      "[(3, 14), (2, 8), (10, 25), (5, 17), (3, 2), (7, 25), (4, 30), (8, 7), (2, 8), (1, 22), (2, 8)]\n"
     ]
    }
   ],
   "source": [
    "new_list = [(3,14),(2,8),(10,25),(5,17),(3,2),(7,25),(4,30),(8,7),(int(2),8),(1,22),(2, int(8))]\n",
    "\n",
    "my_list = sorted(new_list)\n",
    "print(new_list)\n",
    "\n",
    "# #new_list.sort(key=lambda y: y[1])\n",
    "\n",
    "# # count = 0\n",
    "# # for i in (new_list.sort(key=lambda y: y[1])):\n",
    "# #     if i == i+1:\n",
    "# #         count +=1\n",
    "# #     print(count)\n",
    "\n",
    "\n",
    "\n",
    "# #print(new_list)\n",
    "# #print(a)\n",
    "\n",
    "# for item in (new_list.sort(key=lambda y: y[1])):\n",
    "#     print(item)\n"
   ]
  },
  {
   "cell_type": "markdown",
   "metadata": {},
   "source": [
    "---"
   ]
  },
  {
   "cell_type": "code",
   "execution_count": 39,
   "metadata": {},
   "outputs": [
    {
     "name": "stdout",
     "output_type": "stream",
     "text": [
      "[(1, 22), (2, 8), (2, 8), (2, 8), (3, 2), (3, 14), (4, 30), (5, 17), (7, 25), (8, 7), (10, 25)]\n"
     ]
    }
   ],
   "source": [
    "sample = [(3,14),(2,8),(10,25),(5,17),(3,2),(7,25),(4,30),(8,7),(int(2),8),(1,22),(2, int(8))]\n",
    "print(sorted(sample))"
   ]
  },
  {
   "cell_type": "markdown",
   "metadata": {},
   "source": [
    "---"
   ]
  },
  {
   "cell_type": "code",
   "execution_count": 18,
   "metadata": {},
   "outputs": [
    {
     "name": "stdout",
     "output_type": "stream",
     "text": [
      "{(3, 14): 0, (2, 8): 2, (10, 25): 0, (5, 17): 0, (2, 3): 0, (7, 25): 0, (4, 30): 0, (7, 8): 0, (1, 22): 0}\n"
     ]
    }
   ],
   "source": [
    "my_list = [(3,14),(2,8),(10,25),(5,17),(3,2),(7,25),(4,30),(8,7),(int(2),8),(1,22),(2, int(8))]\n",
    "count={}\n",
    "for i in my_list:\n",
    "    if tuple(sorted(i))  in count:\n",
    "#        pass \n",
    "        count[tuple(sorted(i))]+=1\n",
    "        \n",
    "    else:\n",
    "        count[tuple(sorted(i))]=0\n",
    "#        continue\n",
    "#        pass\n",
    "#        count[tuple(sorted(i))]=1\n",
    "\n",
    "print(count)"
   ]
  },
  {
   "cell_type": "markdown",
   "metadata": {},
   "source": [
    "---"
   ]
  },
  {
   "cell_type": "code",
   "execution_count": 2,
   "metadata": {},
   "outputs": [
    {
     "name": "stdout",
     "output_type": "stream",
     "text": [
      "None\n"
     ]
    }
   ],
   "source": [
    "my_list = [(3,14),(2,8),(10,25),(5,17),(3,2),(7,25),(4,30),(8,7),(int(2),8),(1,22),(2, int(8))]\n",
    "\n",
    "#result = my_list.sort(key=lambda y: y[1])\n",
    "print(my_list.sort(key=lambda y: y[1]))\n",
    "\n",
    "# #result = sorted[(sub) for sub in my_list]\n",
    "\n",
    "#print(result)\n",
    "\n",
    "# # newList = my_list.\n",
    "# # count={}\n",
    "# for i in my_list(sorted):\n",
    "#     if i  == i+1 :#  in count:\n",
    "        \n",
    "#         count[tuple(sorted(i))]+=1\n",
    "        \n",
    "#     else:\n",
    "#         count[tuple(sorted(i))]=0\n",
    "#        continue\n",
    "#        pass\n",
    "#        count[tuple(sorted(i))]=1\n",
    "\n",
    "# print(count)"
   ]
  },
  {
   "cell_type": "markdown",
   "metadata": {},
   "source": [
    "---"
   ]
  },
  {
   "cell_type": "markdown",
   "metadata": {},
   "source": [
    "# Trying solution with Lambda function applied to tuples"
   ]
  },
  {
   "cell_type": "code",
   "execution_count": 4,
   "metadata": {},
   "outputs": [
    {
     "name": "stdout",
     "output_type": "stream",
     "text": [
      "[(1, 22), (2, 8), (2, 8), (2, 8), (3, 2), (3, 14), (4, 30), (5, 17), (7, 25), (8, 7), (10, 25)]\n"
     ]
    }
   ],
   "source": [
    "listoftuples  = [(3,14),(2,8),(10,25),(5,17),(3,2),(7,25),(4,30),(8,7),(int(2),8),(1,22),(2, int(8))]\n",
    "\n",
    "#listoftuples = [('TEnglish', 88), ('Science', 90), ('Maths', 97), ('Social sciences', 82)]\n",
    "arrange = lambda x : x.sort()\n",
    "arrange(listoftuples)\n",
    "print(listoftuples)"
   ]
  },
  {
   "cell_type": "code",
   "execution_count": 5,
   "metadata": {},
   "outputs": [
    {
     "name": "stdout",
     "output_type": "stream",
     "text": [
      "[(1, 22), (2, 8), (2, 8), (2, 8), (3, 2), (3, 14), (4, 30), (5, 17), (7, 25), (8, 7), (10, 25)]\n"
     ]
    }
   ],
   "source": [
    "listoftuples  = [(3,14),(2,8),(10,25),(5,17),(3,2),(7,25),(4,30),(8,7),(int(2),8),(1,22),(2, int(8))]\n",
    "\n",
    "#listoftuples = [('TEnglish', 88), ('Science', 90), ('Maths', 97), ('Social sciences', 82)]\n",
    "arrange = lambda x : x.sort()\n",
    "arrange(listoftuples)\n",
    "print(listoftuples)"
   ]
  },
  {
   "cell_type": "code",
   "execution_count": 7,
   "metadata": {
    "collapsed": true,
    "jupyter": {
     "outputs_hidden": true
    },
    "tags": []
   },
   "outputs": [
    {
     "data": {
      "text/plain": [
       "[(1, 22),\n",
       " (2, 8),\n",
       " (2, 8),\n",
       " (2, 8),\n",
       " (3, 2),\n",
       " (3, 14),\n",
       " (4, 30),\n",
       " (5, 17),\n",
       " (7, 25),\n",
       " (8, 7),\n",
       " (10, 25)]"
      ]
     },
     "execution_count": 7,
     "metadata": {},
     "output_type": "execute_result"
    }
   ],
   "source": [
    "listoftuples.sort()\n",
    "listoftuples"
   ]
  },
  {
   "cell_type": "markdown",
   "metadata": {},
   "source": [
    "---"
   ]
  },
  {
   "cell_type": "code",
   "execution_count": 8,
   "metadata": {},
   "outputs": [
    {
     "data": {
      "text/plain": [
       "[('FCP', 'SCP'),\n",
       " ('FCP', 'SLB'),\n",
       " ('SCP', 'FCP'),\n",
       " ('SCP', 'SLB'),\n",
       " ('SLB', 'FCP'),\n",
       " ('SLB', 'SCP')]"
      ]
     },
     "execution_count": 8,
     "metadata": {},
     "output_type": "execute_result"
    }
   ],
   "source": [
    "team = [\"FCP\", \"SCP\", \"SLB\"]\n",
    "def allMatches(lst):\n",
    "    teams = []\n",
    "    for element_list1 in lst:\n",
    "        for element_list2 in lst:\n",
    "            if element_list1 != element_list2:\n",
    "                teams.append(tuple((element_list1, element_list2)))\n",
    "    return teams\n",
    "\n",
    "allMatches(team)"
   ]
  },
  {
   "cell_type": "code",
   "execution_count": 9,
   "metadata": {},
   "outputs": [
    {
     "data": {
      "text/plain": [
       "[('FCP', 'SCP'),\n",
       " ('FCP', 'SLB'),\n",
       " ('SCP', 'FCP'),\n",
       " ('SCP', 'SLB'),\n",
       " ('SLB', 'FCP'),\n",
       " ('SLB', 'SCP')]"
      ]
     },
     "execution_count": 9,
     "metadata": {},
     "output_type": "execute_result"
    }
   ],
   "source": [
    "team = [\"FCP\", \"SCP\", \"SLB\"]\n",
    "def allMatches(lst):\n",
    "    return [(el1, el2) for el1 in lst for el2 in lst if el1!=el2]\n",
    "    \n",
    "\n",
    "allMatches(team)"
   ]
  },
  {
   "cell_type": "markdown",
   "metadata": {},
   "source": [
    "<font size = 4, color = red> This solution works, but has the same issue as earlier"
   ]
  },
  {
   "cell_type": "code",
   "execution_count": 13,
   "metadata": {},
   "outputs": [
    {
     "data": {
      "text/plain": [
       "[((3, 14), (3, 14)),\n",
       " ((2, 8), (2, 8)),\n",
       " ((2, 8), (2, 8)),\n",
       " ((2, 8), (2, 8)),\n",
       " ((10, 25), (10, 25)),\n",
       " ((5, 17), (5, 17)),\n",
       " ((3, 2), (3, 2)),\n",
       " ((7, 25), (7, 25)),\n",
       " ((4, 30), (4, 30)),\n",
       " ((8, 7), (8, 7)),\n",
       " ((2, 8), (2, 8)),\n",
       " ((2, 8), (2, 8)),\n",
       " ((2, 8), (2, 8)),\n",
       " ((1, 22), (1, 22)),\n",
       " ((2, 8), (2, 8)),\n",
       " ((2, 8), (2, 8)),\n",
       " ((2, 8), (2, 8))]"
      ]
     },
     "execution_count": 13,
     "metadata": {},
     "output_type": "execute_result"
    }
   ],
   "source": [
    "#team = [\"FCP\", \"SCP\", \"SLB\"]\n",
    "team = [(3,14),(2,8),(10,25),(5,17),(3,2),(7,25),(4,30),(8,7),(int(2),8),(1,22),(2, int(8))]\n",
    "def allMatches(lst):\n",
    "    return [(el1, el2) for el1 in lst for el2 in lst if el1==el2]\n",
    "allMatches(team)"
   ]
  },
  {
   "cell_type": "code",
   "execution_count": 18,
   "metadata": {},
   "outputs": [
    {
     "data": {
      "text/plain": [
       "[((3, 14), (3, 14)),\n",
       " ((2, 8), (2, 8)),\n",
       " ((2, 8), (2, 8)),\n",
       " ((2, 8), (2, 8)),\n",
       " ((10, 25), (10, 25)),\n",
       " ((5, 17), (5, 17)),\n",
       " ((3, 2), (3, 2)),\n",
       " ((7, 25), (7, 25)),\n",
       " ((4, 30), (4, 30)),\n",
       " ((8, 7), (8, 7)),\n",
       " ((2, 8), (2, 8)),\n",
       " ((2, 8), (2, 8)),\n",
       " ((2, 8), (2, 8)),\n",
       " ((1, 22), (1, 22)),\n",
       " ((2, 8), (2, 8)),\n",
       " ((2, 8), (2, 8)),\n",
       " ((2, 8), (2, 8))]"
      ]
     },
     "execution_count": 18,
     "metadata": {},
     "output_type": "execute_result"
    }
   ],
   "source": [
    "#team = [\"FCP\", \"SCP\", \"SLB\"]\n",
    "team = [(3,14),(2,8),(10,25),(5,17),(3,2),(7,25),(4,30),(8,7),(int(2),8),(1,22),(2, int(8))]\n",
    "def allMatches(lst):\n",
    "    teams = []\n",
    "    for element_list1 in lst:\n",
    "        for element_list2 in lst:\n",
    "            if element_list1 == element_list2:\n",
    "                teams.append(tuple((element_list1, element_list2)))\n",
    "    return teams\n",
    "\n",
    "allMatches(team)"
   ]
  },
  {
   "cell_type": "code",
   "execution_count": 15,
   "metadata": {},
   "outputs": [
    {
     "data": {
      "text/plain": [
       "[1, 1, 1, 1, 1, 1, 1, 1, 1, 1, 1, 1, 1, 1, 1, 1, 1]"
      ]
     },
     "execution_count": 15,
     "metadata": {},
     "output_type": "execute_result"
    }
   ],
   "source": [
    "#team = [\"FCP\", \"SCP\", \"SLB\"]\n",
    "team = [(3,14),(2,8),(10,25),(5,17),(3,2),(7,25),(4,30),(8,7),(int(2),8),(1,22),(2, int(8))]\n",
    "def allMatches(lst):\n",
    "    count = 0\n",
    "    return [count+1 for el1 in lst for el2 in lst if el1==el2]\n",
    "    \n",
    "allMatches(team)"
   ]
  },
  {
   "cell_type": "markdown",
   "metadata": {},
   "source": [
    "---"
   ]
  },
  {
   "cell_type": "markdown",
   "metadata": {},
   "source": [
    "# First Enumerate"
   ]
  },
  {
   "cell_type": "code",
   "execution_count": 21,
   "metadata": {},
   "outputs": [
    {
     "data": {
      "text/plain": [
       "[(0, (3, 14)),\n",
       " (1, (2, 8)),\n",
       " (2, (10, 25)),\n",
       " (3, (5, 17)),\n",
       " (4, (3, 2)),\n",
       " (5, (7, 25)),\n",
       " (6, (4, 30)),\n",
       " (7, (8, 7)),\n",
       " (8, (2, 8)),\n",
       " (9, (1, 22)),\n",
       " (10, (2, 8))]"
      ]
     },
     "execution_count": 21,
     "metadata": {},
     "output_type": "execute_result"
    }
   ],
   "source": [
    "mylist = [(3,14),(2,8),(10,25),(5,17),(3,2),(7,25),(4,30),(8,7),(int(2),8),(1,22),(2, int(8))]\n",
    "\n",
    "newlist = list(enumerate(mylist))\n",
    "newlist"
   ]
  },
  {
   "cell_type": "markdown",
   "metadata": {},
   "source": [
    "# SQL query to get list of all pairs"
   ]
  },
  {
   "cell_type": "code",
   "execution_count": 22,
   "metadata": {},
   "outputs": [
    {
     "ename": "SyntaxError",
     "evalue": "invalid syntax (3468118211.py, line 6)",
     "output_type": "error",
     "traceback": [
      "\u001b[0;36m  Input \u001b[0;32mIn [22]\u001b[0;36m\u001b[0m\n\u001b[0;31m    SELECT t1.index,\u001b[0m\n\u001b[0m           ^\u001b[0m\n\u001b[0;31mSyntaxError\u001b[0m\u001b[0;31m:\u001b[0m invalid syntax\n"
     ]
    }
   ],
   "source": [
    "mylist = [(3,14),(2,8),(10,25),(5,17),(3,2),(7,25),(4,30),(8,7),(int(2),8),(1,22),(2, int(8))]\n",
    "\n",
    "employee = list(enumerate(mylist))\n",
    "\n",
    "\n",
    "SELECT t1.index, \n",
    "       t1.date, \n",
    "       t2.index, \n",
    "       t2.date\n",
    "FROM Employee t1, Employee t2\n",
    "WHERE t1.date = t2.date\n",
    "AND t1.index <> t2.index"
   ]
  },
  {
   "cell_type": "code",
   "execution_count": 100,
   "metadata": {},
   "outputs": [],
   "source": [
    "\n",
    "\n",
    "def birthday_original(dates_list):\n",
    "    mylist = [(3,14),(2,8),(10,25),(5,17),(3,2),(7,25),(4,30),(8,7),(int(2),8),(1,22),(2, int(8))]\n",
    "\n",
    "    dates_list = list(enumerate(mylist))\n",
    "    #print(dates_list)\n",
    "    for b,t in dates_list:\n",
    "        return [t for t in dates_list if (t[1], t[0]) in dates_list]\n",
    "#        print(mylist2)\n",
    "\n",
    "#     count = 0\n",
    "\n",
    "#     for b,g in dates_list:\n",
    "#         for i in range(9):\n",
    "#             if g[i] == g[i+1]:\n",
    "#                 print('hello')\n",
    "    \n",
    "# #     for person_a[1] in dates_list:\n",
    "# #         for person_b[1] in dates_list:\n",
    "# #             # Make sure we have different people        \n",
    "\n",
    "# #             if person_a[1] is person_b[1]:\n",
    "# #                 continue\n",
    "\n",
    "# #             # Check both month and day\n",
    "# #             if person_a[0] == person_b[0] and person_a[1] == person_b[1]:\n",
    "# #                 count += 1\n",
    "                \n",
    "# #     # We counted each pair twice (e.g. jane-bob and bob-jane) so divide by 2:          \n",
    "# #     return count//2"
   ]
  },
  {
   "cell_type": "code",
   "execution_count": 101,
   "metadata": {},
   "outputs": [
    {
     "data": {
      "text/plain": [
       "[]"
      ]
     },
     "execution_count": 101,
     "metadata": {},
     "output_type": "execute_result"
    }
   ],
   "source": [
    "birthday_original(dates_list)"
   ]
  },
  {
   "cell_type": "markdown",
   "metadata": {},
   "source": [
    "# Currently Here"
   ]
  },
  {
   "cell_type": "code",
   "execution_count": 115,
   "metadata": {
    "collapsed": true,
    "jupyter": {
     "outputs_hidden": true
    },
    "tags": []
   },
   "outputs": [
    {
     "name": "stdout",
     "output_type": "stream",
     "text": [
      "1\n",
      "1\n",
      "1\n",
      "1\n",
      "1\n",
      "1\n",
      "1\n",
      "1\n",
      "1\n",
      "1\n",
      "1\n",
      "1\n",
      "2\n",
      "2\n",
      "2\n",
      "2\n",
      "2\n",
      "2\n",
      "2\n",
      "2\n",
      "2\n",
      "2\n",
      "2\n",
      "2\n",
      "3\n",
      "3\n",
      "3\n",
      "3\n",
      "3\n",
      "3\n",
      "3\n",
      "3\n",
      "3\n",
      "3\n",
      "3\n",
      "3\n",
      "4\n",
      "4\n",
      "4\n",
      "4\n",
      "4\n",
      "4\n",
      "4\n",
      "4\n",
      "4\n",
      "4\n",
      "4\n",
      "4\n",
      "5\n",
      "5\n",
      "5\n",
      "5\n",
      "5\n",
      "5\n",
      "5\n",
      "5\n",
      "5\n",
      "5\n",
      "5\n",
      "5\n",
      "6\n",
      "6\n",
      "6\n",
      "6\n",
      "6\n",
      "6\n",
      "6\n",
      "6\n",
      "6\n",
      "6\n",
      "6\n",
      "6\n",
      "7\n",
      "7\n",
      "7\n",
      "7\n",
      "7\n",
      "7\n",
      "7\n",
      "7\n",
      "7\n",
      "7\n",
      "7\n",
      "7\n",
      "8\n",
      "8\n",
      "8\n",
      "8\n",
      "8\n",
      "8\n",
      "8\n",
      "8\n",
      "8\n",
      "8\n",
      "8\n",
      "8\n",
      "9\n",
      "9\n",
      "9\n",
      "9\n",
      "9\n",
      "9\n",
      "9\n",
      "9\n",
      "9\n",
      "9\n",
      "9\n",
      "9\n",
      "10\n",
      "10\n",
      "10\n",
      "10\n",
      "10\n",
      "10\n",
      "10\n",
      "10\n",
      "10\n",
      "10\n",
      "10\n",
      "10\n",
      "11\n"
     ]
    }
   ],
   "source": [
    "#list_tuples = [(2,3), (4,7), (3,2), (7,8), (7,4)]\n",
    "list_tuples2 = [(3,14),(2,8),(10,25),(5,17),(3,2),(7,25),(4,30),(8,7),(int(2),8),(1,22),(2, int(8))]\n",
    "list_tuples = list(enumerate(mylist))\n",
    "\n",
    "\n",
    "front_number = []\n",
    "back_number = []\n",
    "\n",
    "for i in range(len(list_tuples)):\n",
    "    front_number.append(list_tuples[i][0])\n",
    "#    print(front_number)\n",
    "    back_number.append(list_tuples[i][1])\n",
    "#    print(back_number)\n",
    "\n",
    "new_list_tuple = []\n",
    "count = 0\n",
    "for i, v in enumerate(front_number):\n",
    "    for b_i, b_v in enumerate(back_number):\n",
    "        if b_i == i:\n",
    "            count +=1\n",
    "        print(count)\n",
    "            \n",
    "# #            print(\"hey\")\n",
    "#             print(v, b_v)\n",
    "#             #pass\n",
    "#         elif v == b_v:\n",
    "#             pass\n",
    "# #             if front_number[b_i] == back_number[i]:\n",
    "# #                 if (front_number[i], back_number[i]) not in new_list_tuple:\n",
    "#                     new_list_tuple.append((front_number[i],back_number[i]))\n",
    "# print(new_list_tuple)"
   ]
  },
  {
   "cell_type": "code",
   "execution_count": null,
   "metadata": {},
   "outputs": [],
   "source": []
  },
  {
   "cell_type": "code",
   "execution_count": null,
   "metadata": {},
   "outputs": [],
   "source": []
  },
  {
   "cell_type": "markdown",
   "metadata": {},
   "source": [
    "# trying out variations of tuple unpacking (and enumerate)"
   ]
  },
  {
   "cell_type": "code",
   "execution_count": 74,
   "metadata": {},
   "outputs": [
    {
     "name": "stdout",
     "output_type": "stream",
     "text": [
      "3\n",
      "14\n"
     ]
    },
    {
     "ename": "IndexError",
     "evalue": "tuple index out of range",
     "output_type": "error",
     "traceback": [
      "\u001b[0;31m---------------------------------------------------------------------------\u001b[0m",
      "\u001b[0;31mIndexError\u001b[0m                                Traceback (most recent call last)",
      "Input \u001b[0;32mIn [74]\u001b[0m, in \u001b[0;36m<cell line: 39>\u001b[0;34m()\u001b[0m\n\u001b[1;32m     39\u001b[0m \u001b[38;5;28;01mfor\u001b[39;00m \u001b[38;5;28mid\u001b[39m, name \u001b[38;5;129;01min\u001b[39;00m \u001b[38;5;28menumerate\u001b[39m(mylist):\n\u001b[1;32m     40\u001b[0m \u001b[38;5;66;03m#    print(id, name)\u001b[39;00m\n\u001b[1;32m     41\u001b[0m \u001b[38;5;66;03m#    for i in range(0,9):\u001b[39;00m\n\u001b[0;32m   (...)\u001b[0m\n\u001b[1;32m     44\u001b[0m \u001b[38;5;66;03m#    print([(name1, name2) for name1 in enumerate(mylist) for name2 in enumerate(mylist) if name1==name2])\u001b[39;00m\n\u001b[1;32m     45\u001b[0m \u001b[38;5;66;03m#    print([('hello') for id1, name1 in enumerate(mylist) for id2, name2 in enumerate(mylist) if name1==name2])\u001b[39;00m\n\u001b[1;32m     47\u001b[0m     \u001b[38;5;28;01mfor\u001b[39;00m i \u001b[38;5;129;01min\u001b[39;00m \u001b[38;5;28mrange\u001b[39m(\u001b[38;5;241m9\u001b[39m):\n\u001b[1;32m     48\u001b[0m \u001b[38;5;66;03m#        print(i)\u001b[39;00m\n\u001b[0;32m---> 49\u001b[0m         \u001b[38;5;28mprint\u001b[39m(\u001b[43mname\u001b[49m\u001b[43m[\u001b[49m\u001b[43mi\u001b[49m\u001b[43m]\u001b[49m)\n",
      "\u001b[0;31mIndexError\u001b[0m: tuple index out of range"
     ]
    }
   ],
   "source": [
    "mylist = [(3,14),(2,8),(10,25),(5,17),(3,2),(7,25),(4,30),(8,7),(int(2),8),(1,22),(2, int(8))]\n",
    "\n",
    "dates_list = list(enumerate(mylist))\n",
    "#print((len(dates_list)-1))\n",
    "# n = range(len(dates_list)-1)\n",
    "# print(n)\n",
    "\n",
    "\n",
    "#print(len(dates_list))\n",
    "#print(dates_list)\n",
    "\n",
    "# count = 0\n",
    "# for items in dates_list:\n",
    "#     if items[0][1] == items[1][1]:\n",
    "#         count += 1\n",
    "# print(count)\n",
    "\n",
    "# for i in (range(10)):#range((len(dates_list)-3)):\n",
    "#     print(i)\n",
    "#    new = [item for item in dates_list if item[i] == item[i+1]]\n",
    "    \n",
    "# SELECT t1.index, \n",
    "#        t1.date, \n",
    "#        t2.index, \n",
    "#        t2.date\n",
    "# FROM Employee t1, Employee t2\n",
    "# WHERE t1.date = t2.date\n",
    "# AND t1.index <> t2.index\n",
    "\n",
    "# for id, name in enumerate(mylist):\n",
    "# #    for i in range(0,9):\n",
    "# #        if name[i] == name[i+1]:\n",
    "# #        print(i, name)\n",
    "#     print([(el1, el2) for el1 in enumerate(mylist) for el2 in enumerate(mylist) if el1==el2])\n",
    "    \n",
    "#    print(id, name)\n",
    "\n",
    "\n",
    "for id, name in enumerate(mylist):\n",
    "#    print(id, name)\n",
    "#    for i in range(0,9):\n",
    "#        if name[i] == name[i+1]:\n",
    "#        print(i, name)\n",
    "#    print([(name1, name2) for name1 in enumerate(mylist) for name2 in enumerate(mylist) if name1==name2])\n",
    "#    print([('hello') for id1, name1 in enumerate(mylist) for id2, name2 in enumerate(mylist) if name1==name2])\n",
    "\n",
    "    for i in range(9):\n",
    "#        print(i)\n",
    "        print(name[i])\n",
    "        # if name[0] == name[1]:\n",
    "        #     print('hello')\n"
   ]
  },
  {
   "cell_type": "code",
   "execution_count": 76,
   "metadata": {},
   "outputs": [
    {
     "data": {
      "text/plain": [
       "1"
      ]
     },
     "execution_count": 76,
     "metadata": {},
     "output_type": "execute_result"
    }
   ],
   "source": [
    "mytuple = (1,2)\n",
    "\n",
    "mytuple[0]"
   ]
  },
  {
   "cell_type": "code",
   "execution_count": null,
   "metadata": {},
   "outputs": [],
   "source": []
  }
 ],
 "metadata": {
  "kernelspec": {
   "display_name": "Python 3 (ipykernel)",
   "language": "python",
   "name": "python3"
  },
  "language_info": {
   "codemirror_mode": {
    "name": "ipython",
    "version": 3
   },
   "file_extension": ".py",
   "mimetype": "text/x-python",
   "name": "python",
   "nbconvert_exporter": "python",
   "pygments_lexer": "ipython3",
   "version": "3.9.12"
  },
  "widgets": {
   "state": {},
   "version": "1.1.2"
  }
 },
 "nbformat": 4,
 "nbformat_minor": 4
}
