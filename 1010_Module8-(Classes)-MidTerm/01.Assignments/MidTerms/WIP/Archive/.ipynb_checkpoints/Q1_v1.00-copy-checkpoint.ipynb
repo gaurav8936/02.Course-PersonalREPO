{
 "cells": [
  {
   "cell_type": "markdown",
   "metadata": {},
   "source": [
    "## MIDTERM - W200 Introduction to Data Science Programming, UC Berkeley MIDS"
   ]
  },
  {
   "cell_type": "markdown",
   "metadata": {},
   "source": [
    "### Midterm Exam Part 2: Programming (60 points)\n",
    "\n",
    "The midterm exam is designed to evaluate your grasp of Python theory as well as Python coding.\n",
    "\n",
    "This part of the exam consists of four programming questions. You have 48 hours to complete both parts (Part 1 and Part 2). Please insert each function into a file named **midterm.py** and upload to gradescope in Part 2. **The code version uploaded to Part 2 will be your official version for grading purposes.**\n",
    "\n",
    "Submit you code in a **midterm.py** file to this part within the 48 window. You can submit as many times as your like inside the window but if you submit over the window, we will take the last submitted entry before the window expired. The visible autograder tests check only that your code is producing the correctly formatted answer. That is, you will only see 20 of the 60 total points visible in the autograder when you submit - the remaining 40 of 60 points are not visible so please make sure your code meets all of the requirements stated in the problem.\n",
    "\n",
    "- **Do not put any additional code besides import statements and the function defs in the midterm.py file**\n",
    "- **Return** the answers instead of printing them in the function!\n",
    "- This is an individual open book exam.\n",
    "- You may use any libraries from the Python Standard Library for this exam: https://docs.python.org/3/library/\n",
    "- Follow best practices while coding!"
   ]
  },
  {
   "cell_type": "markdown",
   "metadata": {},
   "source": [
    "### Problem 1: Tweet Analysis (15 pts)\n",
    "\n",
    "A tweet is a string that is between 1 and 280 characters long (inclusive). A username is a string of letters and/or digits that is between 1 and 14 characters long (inclusive). A username is mentioned in a tweet by including @username in the tweet (notice the username does not include the `@` symbol). A retweet is way to share another user's tweet, and can be identified by the string RT, followed by the original username who tweeted it.\n",
    "\n",
    "Your job is to fill in the function *count_retweets_by_username* so that it **returns** a frequency dictionary that indicates how many times each retweeted username was retweeted."
   ]
  },
  {
   "cell_type": "code",
   "execution_count": 48,
   "metadata": {},
   "outputs": [],
   "source": [
    "tweets = [\"This is great! RT @fakeuser: Can you believe this?\",\n",
    "         \"It's the refs! RT @dubsfan: Boo the refs and stuff wargarbal\",\n",
    "         \"That's right RT @ladodgers: The dodgers are destined to win the west!\",\n",
    "         \"RT @sportball: That sporting event was not cool\",\n",
    "         \"This is just a tweet about things @person, how could you\",\n",
    "         \"RT @ladodgers: The season is looking great!\",\n",
    "         \"RT @dubsfan: I can't believe it!\",\n",
    "         \"I can't believe it either! RT @dubsfan: I can't believe it\"]"
   ]
  },
  {
   "cell_type": "code",
   "execution_count": 173,
   "metadata": {},
   "outputs": [],
   "source": [
    "def count_retweets_by_username(tweet_list):\n",
    "    \"\"\" (list of tweets) -> dict of {username: int}\n",
    "    Returns a dictionary in which each key is a username that was \n",
    "    retweeted in tweet_list and each value is the total number of times this \n",
    "    username was retweeted.\n",
    "    \"\"\"\n",
    "    \n",
    "    # write code here and update return statement with your dictionary\n",
    "\n",
    "    text = ''.join(tweets)\n",
    "\n",
    "    # define the matching string with regex ('RT @')\n",
    "    p1 = re.compile(r\"RT @(.+?)([ \\.]|$)\")\n",
    "    found_patterns = re.findall(p1,text)\n",
    "\n",
    "    # construct a list of strings with just substring after 'RT @''\n",
    "    sentence_list = [elt[0] for elt in found_patterns]\n",
    "\n",
    "    # strip the : from the list\n",
    "    sentence_list2 = [i.strip(': ') for i in  sentence_list]\n",
    "\n",
    "\n",
    "    sentence_dictionary = {}\n",
    "\n",
    "    for item in sentence_list2:\n",
    "        if item in sentence_dictionary:\n",
    "            sentence_dictionary[item] += 1\n",
    "\n",
    "        else:\n",
    "            sentence_dictionary[item] = 1\n",
    "    return sentence_dictionary"
   ]
  },
  {
   "cell_type": "code",
   "execution_count": 174,
   "metadata": {},
   "outputs": [
    {
     "name": "stdout",
     "output_type": "stream",
     "text": [
      "{'fakeuser': 1, 'dubsfan': 3, 'ladodgers': 2, 'sportball': 1}\n"
     ]
    }
   ],
   "source": [
    "# allow this code to work by implementing count_retweets_by_username function above\n",
    "print(count_retweets_by_username(tweets))"
   ]
  },
  {
   "cell_type": "markdown",
   "metadata": {},
   "source": [
    "---"
   ]
  },
  {
   "cell_type": "code",
   "execution_count": 156,
   "metadata": {},
   "outputs": [
    {
     "name": "stdout",
     "output_type": "stream",
     "text": [
      "{'fakeuser:': 1, 'dubsfan:': 3, 'ladodgers:': 2, 'sportball:': 1}\n"
     ]
    }
   ],
   "source": [
    "#sentence = \"The dog chased the rabbit into the forest but the rabbit was too quick.\"\n",
    "\n",
    "text = ''.join(tweets)\n",
    "p1 = re.compile(r\"RT @(.+?)([ \\.]|$)\")\n",
    "\n",
    "found_patterns = re.findall(p1,text)\n",
    "sentence_list = [elt[0] for elt in found_patterns]\n",
    "\n",
    "sentence_dictionary = {}\n",
    "\n",
    "for item in sentence_list:\n",
    "    if item in sentence_dictionary:\n",
    "        sentence_dictionary[item] += 1\n",
    "\n",
    "    else:\n",
    "        sentence_dictionary[item] = 1\n",
    "        \n",
    "\n",
    "print(sentence_dictionary)"
   ]
  },
  {
   "cell_type": "markdown",
   "metadata": {},
   "source": [
    "<font size = 6, color = gold> Current Gold"
   ]
  },
  {
   "cell_type": "markdown",
   "metadata": {},
   "source": [
    "# Writing solution as function"
   ]
  },
  {
   "cell_type": "code",
   "execution_count": 162,
   "metadata": {},
   "outputs": [
    {
     "data": {
      "text/plain": [
       "{'fakeuser:': 1, 'dubsfan:': 3, 'ladodgers:': 2, 'sportball:': 1}"
      ]
     },
     "execution_count": 162,
     "metadata": {},
     "output_type": "execute_result"
    }
   ],
   "source": [
    "def count_retweets_by_username(tweet_list):\n",
    "    text = ''.join(tweets)\n",
    "    p1 = re.compile(r\"RT @(.+?)([ \\.]|$)\")\n",
    "\n",
    "    found_patterns = re.findall(p1,text)\n",
    "    sentence_list = [elt[0] for elt in found_patterns]\n",
    "    \n",
    "\n",
    "    sentence_dictionary = {}\n",
    "\n",
    "    for item in sentence_list:\n",
    "        if item in sentence_dictionary:\n",
    "            sentence_dictionary[item] += 1\n",
    "\n",
    "        else:\n",
    "            sentence_dictionary[item] = 1\n",
    "    return sentence_dictionary\n",
    "\n",
    "count_retweets_by_username(tweets)\n",
    "    "
   ]
  },
  {
   "cell_type": "markdown",
   "metadata": {},
   "source": [
    "---"
   ]
  },
  {
   "cell_type": "code",
   "execution_count": 166,
   "metadata": {},
   "outputs": [
    {
     "data": {
      "text/plain": [
       "{'fakeuser': 1, 'dubsfan': 3, 'ladodgers': 2, 'sportball': 1}"
      ]
     },
     "execution_count": 166,
     "metadata": {},
     "output_type": "execute_result"
    }
   ],
   "source": [
    "def count_retweets_by_username(tweet_list):\n",
    "    text = ''.join(tweets)\n",
    "    \n",
    "    # define the matching string with regex ('RT @')\n",
    "    p1 = re.compile(r\"RT @(.+?)([ \\.]|$)\")\n",
    "    found_patterns = re.findall(p1,text)\n",
    "    \n",
    "    # construct a list of strings with just substring after 'RT @''\n",
    "    sentence_list = [elt[0] for elt in found_patterns]\n",
    "    \n",
    "    # strip the : from the list\n",
    "    sentence_list2 = [i.strip(': ') for i in  sentence_list]\n",
    "    \n",
    "\n",
    "    sentence_dictionary = {}\n",
    "\n",
    "    for item in sentence_list2:\n",
    "        if item in sentence_dictionary:\n",
    "            sentence_dictionary[item] += 1\n",
    "\n",
    "        else:\n",
    "            sentence_dictionary[item] = 1\n",
    "    return sentence_dictionary\n",
    "\n",
    "count_retweets_by_username(tweets)"
   ]
  },
  {
   "cell_type": "code",
   "execution_count": null,
   "metadata": {},
   "outputs": [],
   "source": []
  },
  {
   "cell_type": "code",
   "execution_count": null,
   "metadata": {},
   "outputs": [],
   "source": []
  },
  {
   "cell_type": "code",
   "execution_count": null,
   "metadata": {},
   "outputs": [],
   "source": []
  },
  {
   "cell_type": "code",
   "execution_count": null,
   "metadata": {},
   "outputs": [],
   "source": []
  },
  {
   "cell_type": "code",
   "execution_count": null,
   "metadata": {},
   "outputs": [],
   "source": []
  },
  {
   "cell_type": "code",
   "execution_count": null,
   "metadata": {},
   "outputs": [],
   "source": []
  },
  {
   "cell_type": "code",
   "execution_count": null,
   "metadata": {},
   "outputs": [],
   "source": []
  },
  {
   "cell_type": "code",
   "execution_count": 60,
   "metadata": {
    "collapsed": true,
    "jupyter": {
     "outputs_hidden": true
    },
    "tags": []
   },
   "outputs": [
    {
     "data": {
      "text/plain": [
       "{'This': 1,\n",
       " 'is': 3,\n",
       " 'great!': 1,\n",
       " 'RT': 4,\n",
       " '@fakeuser:': 1,\n",
       " 'Can': 1,\n",
       " 'you': 1,\n",
       " 'believe': 4,\n",
       " \"this?It's\": 1,\n",
       " 'the': 3,\n",
       " 'refs!': 1,\n",
       " '@dubsfan:': 3,\n",
       " 'Boo': 1,\n",
       " 'refs': 1,\n",
       " 'and': 1,\n",
       " 'stuff': 1,\n",
       " \"wargarbalThat's\": 1,\n",
       " 'right': 1,\n",
       " '@ladodgers:': 2,\n",
       " 'The': 2,\n",
       " 'dodgers': 1,\n",
       " 'are': 1,\n",
       " 'destined': 1,\n",
       " 'to': 1,\n",
       " 'win': 1,\n",
       " 'west!RT': 1,\n",
       " '@sportball:': 1,\n",
       " 'That': 1,\n",
       " 'sporting': 1,\n",
       " 'event': 1,\n",
       " 'was': 1,\n",
       " 'not': 1,\n",
       " 'coolThis': 1,\n",
       " 'just': 1,\n",
       " 'a': 1,\n",
       " 'tweet': 1,\n",
       " 'about': 1,\n",
       " 'things': 1,\n",
       " '@person,': 1,\n",
       " 'how': 1,\n",
       " 'could': 1,\n",
       " 'youRT': 1,\n",
       " 'season': 1,\n",
       " 'looking': 1,\n",
       " 'great!RT': 1,\n",
       " 'I': 2,\n",
       " \"can't\": 3,\n",
       " 'it!I': 1,\n",
       " 'it': 2,\n",
       " 'either!': 1}"
      ]
     },
     "execution_count": 60,
     "metadata": {},
     "output_type": "execute_result"
    }
   ],
   "source": [
    "#tweets = \"hello there hi there\"\n",
    "tweet_string = ''.join(tweets)\n",
    "dic = dict()\n",
    "for w in tweet_string.split():\n",
    "    if w in dic.keys():\n",
    "        dic[w] = dic[w]+1\n",
    "    else:\n",
    "        dic[w] = 1\n",
    "dic"
   ]
  },
  {
   "cell_type": "code",
   "execution_count": 58,
   "metadata": {
    "collapsed": true,
    "jupyter": {
     "outputs_hidden": true,
     "source_hidden": true
    },
    "tags": []
   },
   "outputs": [
    {
     "data": {
      "text/plain": [
       "['fakeuser:',\n",
       " 'dubsfan:',\n",
       " 'ladodgers:',\n",
       " 'sportball:',\n",
       " 'person,',\n",
       " 'ladodgers:',\n",
       " 'dubsfan:',\n",
       " 'dubsfan:']"
      ]
     },
     "execution_count": 58,
     "metadata": {},
     "output_type": "execute_result"
    }
   ],
   "source": [
    "#sentence = str(tweets)\n",
    "# sentence = str(tweets)\n",
    "sentence = ''.join(tweets)\n",
    "\n",
    "#sentence = \"Im SHORTING # @RSR here Im SHORTING # @RSR2 here Im SHORTING # @RSR33w here\"\n",
    "words = [word.lstrip('RT @') for word in sentence.split() if word.startswith('@')]\n",
    "words"
   ]
  },
  {
   "cell_type": "markdown",
   "metadata": {},
   "source": [
    "---"
   ]
  },
  {
   "cell_type": "code",
   "execution_count": 91,
   "metadata": {},
   "outputs": [
    {
     "data": {
      "text/plain": [
       "['fakeuser:',\n",
       " 'dubsfan:',\n",
       " 'ladodgers:',\n",
       " 'sportball:',\n",
       " 'person,',\n",
       " 'ladodgers:',\n",
       " 'dubsfan:',\n",
       " 'dubsfan:']"
      ]
     },
     "execution_count": 91,
     "metadata": {},
     "output_type": "execute_result"
    }
   ],
   "source": [
    "tweet_string = ''.join(tweets)\n",
    "tweet_string\n",
    "\n",
    "\n",
    "words = [word.lstrip('RT @') for word in tweet_string.split() if word.startswith('@') if word != 'person']\n",
    "words"
   ]
  },
  {
   "cell_type": "markdown",
   "metadata": {},
   "source": [
    "---"
   ]
  },
  {
   "cell_type": "code",
   "execution_count": 143,
   "metadata": {},
   "outputs": [
    {
     "name": "stdout",
     "output_type": "stream",
     "text": [
      "['fakeuser:', 'dubsfan:', 'ladodgers:', 'sportball:', 'ladodgers:', 'dubsfan:', 'dubsfan:']\n"
     ]
    }
   ],
   "source": [
    "text = ''.join(tweets)\n",
    "p1 = re.compile(r\"RT @(.+?)([ \\.]|$)\")\n",
    "\n",
    "found_patterns = re.findall(p1,text)\n",
    "newlist = [elt[0] for elt in found_patterns]\n",
    "\n",
    "print(newlist)\n",
    "\n",
    "#found_patterns"
   ]
  },
  {
   "cell_type": "markdown",
   "metadata": {},
   "source": [
    "---"
   ]
  },
  {
   "cell_type": "code",
   "execution_count": null,
   "metadata": {},
   "outputs": [],
   "source": [
    "#tweets = \"hello there hi there\"\n",
    "tweet_string = ''.join(tweets)\n",
    "dic = dict()\n",
    "for w in tweet_string.split():\n",
    "    if w in dic.keys():\n",
    "        dic[w] = dic[w]+1\n",
    "    else:\n",
    "        dic[w] = 1\n",
    "dic"
   ]
  },
  {
   "cell_type": "code",
   "execution_count": 148,
   "metadata": {},
   "outputs": [
    {
     "name": "stdout",
     "output_type": "stream",
     "text": [
      "['fakeuser:', 'dubsfan:', 'ladodgers:', 'sportball:', 'ladodgers:', 'dubsfan:', 'dubsfan:']\n",
      "{'fakeuser:': 1, 'dubsfan:': 3, 'ladodgers:': 2, 'sportball:': 1}\n"
     ]
    }
   ],
   "source": [
    "#sentence = \"The dog chased the rabbit into the forest but the rabbit was too quick.\"\n",
    "\n",
    "text = ''.join(tweets)\n",
    "p1 = re.compile(r\"RT @(.+?)([ \\.]|$)\")\n",
    "\n",
    "found_patterns = re.findall(p1,text)\n",
    "sentence_list = [elt[0] for elt in found_patterns]\n",
    "print(sentence_list)\n",
    "\n",
    "#print(newlist)\n",
    "\n",
    "\n",
    "# sentence_case = sentence.lower()\n",
    "# sentence_list = sentence_case.split()\n",
    "sentence_dictionary = {}\n",
    "\n",
    "for item in sentence_list:\n",
    "    if item in sentence_dictionary:\n",
    "        sentence_dictionary[item] += 1\n",
    "\n",
    "    else:\n",
    "        sentence_dictionary[item] = 1\n",
    "\n",
    "print(sentence_dictionary)"
   ]
  },
  {
   "cell_type": "code",
   "execution_count": null,
   "metadata": {},
   "outputs": [],
   "source": []
  },
  {
   "cell_type": "code",
   "execution_count": null,
   "metadata": {},
   "outputs": [],
   "source": []
  },
  {
   "cell_type": "code",
   "execution_count": null,
   "metadata": {},
   "outputs": [],
   "source": []
  },
  {
   "cell_type": "code",
   "execution_count": null,
   "metadata": {},
   "outputs": [],
   "source": []
  },
  {
   "cell_type": "code",
   "execution_count": 97,
   "metadata": {},
   "outputs": [
    {
     "name": "stdout",
     "output_type": "stream",
     "text": [
      " match this\n"
     ]
    }
   ],
   "source": [
    ">>> line = \"test: match this. werer. er test: match this\"\n",
    ">>> print(line[5:line.find('.')])"
   ]
  },
  {
   "cell_type": "code",
   "execution_count": 100,
   "metadata": {},
   "outputs": [
    {
     "name": "stdout",
     "output_type": "stream",
     "text": [
      "\n",
      "RVA-QA PK, Fulltime - VA - BN146\n",
      "STP_NA\n",
      "ZXU RMP LM\n",
      "\n"
     ]
    }
   ],
   "source": [
    "import re\n",
    "the_str = \"\"\"\n",
    "hello Intern - RVA-QA PK\n",
    "Fulltime - VA - BN146\n",
    "Intern - STP_NA\n",
    "Intern - ZXU RMP LM\n",
    "\"\"\"\n",
    "reg = re.compile(\"\\n.*?- \")\n",
    "a = re.sub(reg,\"\\n\",the_str)\n",
    "\n",
    "print(a)"
   ]
  },
  {
   "cell_type": "code",
   "execution_count": 109,
   "metadata": {},
   "outputs": [],
   "source": [
    "#mystring =  \"hi my name is ryan, and i am new to python and would like to learn more\"\n",
    "mystring = ''.join(tweets)\n",
    "keyword = 'RT @'\n",
    "before_keyword, keyword, after_keyword = mystring.partition(keyword)"
   ]
  },
  {
   "cell_type": "code",
   "execution_count": 110,
   "metadata": {},
   "outputs": [
    {
     "data": {
      "text/plain": [
       "'This is great! '"
      ]
     },
     "execution_count": 110,
     "metadata": {},
     "output_type": "execute_result"
    }
   ],
   "source": [
    ">>> before_keyword"
   ]
  },
  {
   "cell_type": "code",
   "execution_count": 111,
   "metadata": {},
   "outputs": [
    {
     "data": {
      "text/plain": [
       "\"fakeuser: Can you believe this?It's the refs! RT @dubsfan: Boo the refs and stuff wargarbalThat's right RT @ladodgers: The dodgers are destined to win the west!RT @sportball: That sporting event was not coolThis is just a tweet about things @person, how could youRT @ladodgers: The season is looking great!RT @dubsfan: I can't believe it!I can't believe it either! RT @dubsfan: I can't believe it\""
      ]
     },
     "execution_count": 111,
     "metadata": {},
     "output_type": "execute_result"
    }
   ],
   "source": [
    ">>> after_keyword\n"
   ]
  },
  {
   "cell_type": "code",
   "execution_count": 132,
   "metadata": {},
   "outputs": [
    {
     "data": {
      "text/plain": [
       "['RT @', 'RT @', 'RT @', 'RT @', 'RT @', 'RT @', 'RT @']"
      ]
     },
     "execution_count": 132,
     "metadata": {},
     "output_type": "execute_result"
    }
   ],
   "source": [
    "#my_str = 'during the day, the color of the sky is blue. at sunset, the color of the sky is orange.'\n",
    "my_str = ''.join(tweets)\n",
    "#r = re.compile('sky is [a-z]+')\n",
    "r = re.compile('RT @')\n",
    "\n",
    "out = [x.split()[1:] for x in r.findall(my_str)]\n",
    "out = [x[::] for x in r.findall(my_str)]\n",
    "out"
   ]
  },
  {
   "cell_type": "code",
   "execution_count": 134,
   "metadata": {},
   "outputs": [
    {
     "data": {
      "text/plain": [
       "['fakeuser:',\n",
       " 'dubsfan:',\n",
       " 'ladodgers:',\n",
       " 'sportball:',\n",
       " 'ladodgers:',\n",
       " 'dubsfan:',\n",
       " 'dubsfan:']"
      ]
     },
     "execution_count": 134,
     "metadata": {},
     "output_type": "execute_result"
    }
   ],
   "source": [
    "#text = 'during the day, the color of the sky is blue. at sunset, the color of the sky is orange.'\n",
    "text = ''.join(tweets)\n",
    "#p1 = re.compile(r\"is (.+?)([ \\.]|$)\")\n",
    "p1 = re.compile(r\"RT @(.+?)([ \\.]|$)\")\n",
    "\n",
    "found_patterns = re.findall(p1,text)\n",
    "[elt[0] for elt in found_patterns]"
   ]
  },
  {
   "cell_type": "code",
   "execution_count": null,
   "metadata": {},
   "outputs": [],
   "source": []
  },
  {
   "cell_type": "code",
   "execution_count": null,
   "metadata": {},
   "outputs": [],
   "source": []
  },
  {
   "cell_type": "code",
   "execution_count": 68,
   "metadata": {},
   "outputs": [],
   "source": [
    ">>> s = \"This is a sentence This is a sentence This is a sentence\"\n",
    ">>> sl = s.split()\n",
    ">>> \n",
    ">>> def nextword(target, source):\n",
    "...   for i, w in enumerate(source):\n",
    "...     if w == target:\n",
    "...       return source[i+1]\n",
    "... "
   ]
  },
  {
   "cell_type": "code",
   "execution_count": 69,
   "metadata": {},
   "outputs": [
    {
     "data": {
      "text/plain": [
       "'a'"
      ]
     },
     "execution_count": 69,
     "metadata": {},
     "output_type": "execute_result"
    }
   ],
   "source": [
    ">>> nextword('is', sl)\n",
    "'a'"
   ]
  },
  {
   "cell_type": "code",
   "execution_count": 70,
   "metadata": {},
   "outputs": [
    {
     "data": {
      "text/plain": [
       "'sentence'"
      ]
     },
     "execution_count": 70,
     "metadata": {},
     "output_type": "execute_result"
    }
   ],
   "source": [
    ">>> nextword('a', sl)\n"
   ]
  },
  {
   "cell_type": "code",
   "execution_count": 74,
   "metadata": {},
   "outputs": [
    {
     "name": "stdout",
     "output_type": "stream",
     "text": [
      "a\n",
      "a\n",
      "a\n"
     ]
    }
   ],
   "source": [
    "s = \"this is a sentense this is a sentense this is a sentense\"\n",
    "target = \"is\"\n",
    "words = s.split()\n",
    "for i,w in enumerate(words):\n",
    "    if w == target:\n",
    "        # next word\n",
    "        print(words[i+1])\n",
    "        # previous word\n",
    "        # if i>0:\n",
    "        #     print(words[i-1])"
   ]
  },
  {
   "cell_type": "code",
   "execution_count": 80,
   "metadata": {},
   "outputs": [
    {
     "name": "stdout",
     "output_type": "stream",
     "text": [
      "@fakeuser:\n",
      "great!\n",
      "@dubsfan:\n",
      "refs!\n",
      "@ladodgers:\n",
      "right\n",
      "@dubsfan:\n",
      "either!\n"
     ]
    }
   ],
   "source": [
    "s = ''.join(tweets)\n",
    "target = \"RT\"\n",
    "#target = ''.join(tweets)\n",
    "words = s.split()\n",
    "for i,w in enumerate(words):\n",
    "    if w == target:\n",
    "        # next word\n",
    "        print(words[i+1])\n",
    "        # previous word\n",
    "        if i>0:\n",
    "            print(words[i-1])"
   ]
  },
  {
   "cell_type": "code",
   "execution_count": null,
   "metadata": {},
   "outputs": [],
   "source": []
  },
  {
   "cell_type": "code",
   "execution_count": null,
   "metadata": {},
   "outputs": [],
   "source": []
  },
  {
   "cell_type": "code",
   "execution_count": null,
   "metadata": {},
   "outputs": [],
   "source": []
  },
  {
   "cell_type": "code",
   "execution_count": null,
   "metadata": {},
   "outputs": [],
   "source": []
  },
  {
   "cell_type": "code",
   "execution_count": null,
   "metadata": {},
   "outputs": [],
   "source": []
  },
  {
   "cell_type": "code",
   "execution_count": null,
   "metadata": {},
   "outputs": [],
   "source": []
  },
  {
   "cell_type": "code",
   "execution_count": null,
   "metadata": {},
   "outputs": [],
   "source": []
  },
  {
   "cell_type": "code",
   "execution_count": null,
   "metadata": {},
   "outputs": [],
   "source": []
  },
  {
   "cell_type": "code",
   "execution_count": 13,
   "metadata": {
    "collapsed": true,
    "jupyter": {
     "outputs_hidden": true
    },
    "tags": []
   },
   "outputs": [
    {
     "data": {
      "text/plain": [
       "{'f': 8,\n",
       " 'a': 23,\n",
       " 'k': 2,\n",
       " 'e': 37,\n",
       " 'u': 10,\n",
       " 's': 26,\n",
       " 'r': 15,\n",
       " ':': 7,\n",
       " ' ': 70,\n",
       " 'C': 1,\n",
       " 'n': 17,\n",
       " 'y': 2,\n",
       " 'o': 20,\n",
       " 'b': 10,\n",
       " 'l': 12,\n",
       " 'i': 18,\n",
       " 'v': 5,\n",
       " 't': 29,\n",
       " 'h': 13,\n",
       " '?': 1,\n",
       " \"'\": 12,\n",
       " ',': 8,\n",
       " '\"': 8,\n",
       " 'I': 4,\n",
       " '!': 5,\n",
       " 'R': 6,\n",
       " 'T': 11,\n",
       " '@': 7,\n",
       " 'd': 13,\n",
       " 'B': 1,\n",
       " 'w': 6,\n",
       " 'g': 9,\n",
       " 'p': 3,\n",
       " 'c': 5,\n",
       " 'j': 1,\n",
       " ']': 1}"
      ]
     },
     "execution_count": 13,
     "metadata": {},
     "output_type": "execute_result"
    }
   ],
   "source": [
    "#tweets = \"hello there hi there\"\n",
    "tweet_string = str(tweets)\n",
    "condition = \"RT @\"\n",
    "dic = dict()\n",
    "for w in tweet_string.split(\"RT @\",1)[-1]:\n",
    "    if w in dic.keys():\n",
    "        dic[w] = dic[w]+1\n",
    "    else:\n",
    "        dic[w] = 1\n",
    "dic"
   ]
  },
  {
   "cell_type": "code",
   "execution_count": null,
   "metadata": {},
   "outputs": [],
   "source": []
  },
  {
   "cell_type": "code",
   "execution_count": null,
   "metadata": {},
   "outputs": [],
   "source": []
  },
  {
   "cell_type": "code",
   "execution_count": null,
   "metadata": {},
   "outputs": [],
   "source": [
    "#tweets = \"hello there hi there\"\n",
    "tweet_string = str(tweets)\n",
    "condition = \"RT @\"\n",
    "dic = dict()\n",
    "for w in tweet_string.split(\"RT @\",1):\n",
    "    if w in dic.keys():\n",
    "        dic[w] = dic[w]+1\n",
    "    else:\n",
    "        dic[w] = 1\n",
    "dic"
   ]
  },
  {
   "cell_type": "code",
   "execution_count": 14,
   "metadata": {},
   "outputs": [
    {
     "name": "stdout",
     "output_type": "stream",
     "text": [
      "['#RSR']\n"
     ]
    }
   ],
   "source": [
    "phrase = 'Im SHORTING #RSR here'\n",
    "\n",
    "# split the input on spaces\n",
    "words = phrase.split(' ')\n",
    "\n",
    "# init empty list\n",
    "comments = []\n",
    "\n",
    "# iterate through each word\n",
    "for word in words:\n",
    "    # check if the first letter of the word is '#'\n",
    "    if word[0] == '#':\n",
    "        # add the comment to the list of comments\n",
    "        comments.append(word)\n",
    "\n",
    "# let's see what we have!\n",
    "print(comments)"
   ]
  },
  {
   "cell_type": "code",
   "execution_count": 17,
   "metadata": {},
   "outputs": [
    {
     "data": {
      "text/plain": [
       "['RSR', 'RSR2', 'RSR33w']"
      ]
     },
     "execution_count": 17,
     "metadata": {},
     "output_type": "execute_result"
    }
   ],
   "source": [
    "sentence = \"Im SHORTING #RSR here Im SHORTING #RSR2 here Im SHORTING #RSR33w here\"\n",
    "words = [word.lstrip('#') for word in sentence.split() if word.startswith('#')]\n",
    "words"
   ]
  },
  {
   "cell_type": "markdown",
   "metadata": {},
   "source": [
    "---"
   ]
  },
  {
   "cell_type": "code",
   "execution_count": 47,
   "metadata": {},
   "outputs": [
    {
     "data": {
      "text/plain": [
       "['RSR', 'RSR2', 'RSR33w']"
      ]
     },
     "execution_count": 47,
     "metadata": {},
     "output_type": "execute_result"
    }
   ],
   "source": [
    "sentence = \"Im SHORTING # @RSR here Im SHORTING # @RSR2 here Im SHORTING # @RSR33w here\"\n",
    "words = [word.lstrip('# @') for word in sentence.split() if word.startswith('@')]\n",
    "words"
   ]
  },
  {
   "cell_type": "code",
   "execution_count": null,
   "metadata": {},
   "outputs": [],
   "source": []
  },
  {
   "cell_type": "markdown",
   "metadata": {},
   "source": [
    "---"
   ]
  },
  {
   "cell_type": "code",
   "execution_count": 53,
   "metadata": {},
   "outputs": [
    {
     "data": {
      "text/plain": [
       "['. Me too.']"
      ]
     },
     "execution_count": 53,
     "metadata": {},
     "output_type": "execute_result"
    }
   ],
   "source": [
    "txt = 'I like to eat apple. Me too.'\n",
    "result = re.findall(r\"(?<=apple).*\", txt);\n",
    "result"
   ]
  },
  {
   "cell_type": "code",
   "execution_count": 54,
   "metadata": {},
   "outputs": [
    {
     "ename": "TypeError",
     "evalue": "'str' object is not callable",
     "output_type": "error",
     "traceback": [
      "\u001b[0;31m---------------------------------------------------------------------------\u001b[0m",
      "\u001b[0;31mTypeError\u001b[0m                                 Traceback (most recent call last)",
      "Input \u001b[0;32mIn [54]\u001b[0m, in \u001b[0;36m<cell line: 1>\u001b[0;34m()\u001b[0m\n\u001b[0;32m----> 1\u001b[0m sentence \u001b[38;5;241m=\u001b[39m \u001b[38;5;28;43mstr\u001b[39;49m\u001b[43m(\u001b[49m\u001b[43mtweets\u001b[49m\u001b[43m)\u001b[49m\n\u001b[1;32m      2\u001b[0m sentence\n",
      "\u001b[0;31mTypeError\u001b[0m: 'str' object is not callable"
     ]
    }
   ],
   "source": [
    "sentence = str(tweets)\n",
    "sentence"
   ]
  },
  {
   "cell_type": "code",
   "execution_count": null,
   "metadata": {},
   "outputs": [],
   "source": []
  },
  {
   "cell_type": "code",
   "execution_count": null,
   "metadata": {},
   "outputs": [],
   "source": []
  },
  {
   "cell_type": "code",
   "execution_count": null,
   "metadata": {},
   "outputs": [],
   "source": []
  },
  {
   "cell_type": "code",
   "execution_count": null,
   "metadata": {},
   "outputs": [],
   "source": []
  },
  {
   "cell_type": "code",
   "execution_count": null,
   "metadata": {},
   "outputs": [],
   "source": []
  },
  {
   "cell_type": "code",
   "execution_count": 37,
   "metadata": {},
   "outputs": [
    {
     "data": {
      "text/plain": [
       "['', ' Bob1 ... ', ' Rob1 ..']"
      ]
     },
     "execution_count": 37,
     "metadata": {},
     "output_type": "execute_result"
    }
   ],
   "source": [
    ">>> str = \"Quote from: Bob1 ... Quote from: Rob1 ..\"\n",
    ">>> str.split(\"Quote from:\")"
   ]
  },
  {
   "cell_type": "code",
   "execution_count": 42,
   "metadata": {},
   "outputs": [
    {
     "data": {
      "text/plain": [
       "['Quote from: ', 'Bob1 ... Quote from: ', 'Rob1 ..']"
      ]
     },
     "execution_count": 42,
     "metadata": {},
     "output_type": "execute_result"
    }
   ],
   "source": [
    ">>> str = \"Quote from: TR @Bob1 ... Quote from: TR @Rob1 ..\"\n",
    ">>> str.split(\"TR @\")"
   ]
  },
  {
   "cell_type": "code",
   "execution_count": null,
   "metadata": {},
   "outputs": [],
   "source": []
  },
  {
   "cell_type": "code",
   "execution_count": null,
   "metadata": {},
   "outputs": [],
   "source": []
  },
  {
   "cell_type": "code",
   "execution_count": null,
   "metadata": {},
   "outputs": [],
   "source": []
  },
  {
   "cell_type": "code",
   "execution_count": null,
   "metadata": {},
   "outputs": [],
   "source": []
  },
  {
   "cell_type": "code",
   "execution_count": null,
   "metadata": {},
   "outputs": [],
   "source": []
  },
  {
   "cell_type": "code",
   "execution_count": 19,
   "metadata": {},
   "outputs": [
    {
     "data": {
      "text/plain": [
       "' are not always the answer.'"
      ]
     },
     "execution_count": 19,
     "metadata": {},
     "output_type": "execute_result"
    }
   ],
   "source": [
    ">>> text = \"Hello, world. Regular expressions are not always the answer. Regular expressions are not always the answer Regular expressions are not always the answer Regular expressions are not always the answer\"\n",
    ">>> words = text.partition(\"Regular expressions\")\n",
    ">>> words\n",
    "('Hello, world. ', 'Regular expressions', ' are not always the answer.')\n",
    ">>> words_before = words[0]\n",
    ">>> words_before\n",
    "'Hello, world. '\n",
    ">>> separator = words[1]\n",
    ">>> separator\n",
    "'Regular expressions'\n",
    ">>> words_after = words[2]\n",
    ">>> words_after\n",
    "' are not always the answer.'"
   ]
  },
  {
   "cell_type": "code",
   "execution_count": 26,
   "metadata": {},
   "outputs": [
    {
     "data": {
      "text/plain": [
       "'Apple'"
      ]
     },
     "execution_count": 26,
     "metadata": {},
     "output_type": "execute_result"
    }
   ],
   "source": [
    "my_string = 'I love Apple juice, it is delicious. I love Apple juice, it is delicious.I love Apple juice, it is delicious.'\n",
    "\n",
    "res = my_string.split('I love', maxsplit=1)[-1]\\\n",
    "               .split(maxsplit=1)[0]\n",
    "\n",
    "res"
   ]
  },
  {
   "cell_type": "code",
   "execution_count": 27,
   "metadata": {},
   "outputs": [
    {
     "data": {
      "text/plain": [
       "'Apple'"
      ]
     },
     "execution_count": 27,
     "metadata": {},
     "output_type": "execute_result"
    }
   ],
   "source": [
    "my_string = 'I RT @Apple juice, it is delicious. I love Apple juice, it is delicious.I love Apple juice, it is delicious.'\n",
    "\n",
    "res = my_string.split('RT @', maxsplit=1)[-1]\\\n",
    "               .split(maxsplit=1)[0]\n",
    "\n",
    "res"
   ]
  },
  {
   "cell_type": "code",
   "execution_count": 29,
   "metadata": {},
   "outputs": [
    {
     "data": {
      "text/plain": [
       "'Apple'"
      ]
     },
     "execution_count": 30,
     "metadata": {},
     "output_type": "execute_result"
    }
   ],
   "source": [
    ">>> import re\n",
    ">>> my_string=\"I love Apple juice, it is delicious. I love Apple juice, it is delicious.\"\n",
    ">>> re.search('(?<=I love )(\\w+)', my_string).group(1)\n",
    "'Apple'"
   ]
  },
  {
   "cell_type": "code",
   "execution_count": 31,
   "metadata": {},
   "outputs": [
    {
     "data": {
      "text/plain": [
       "'Apple juice, it is delicious.'"
      ]
     },
     "execution_count": 31,
     "metadata": {},
     "output_type": "execute_result"
    }
   ],
   "source": [
    ">>> s = 'Apple juice, it is delicious.'\n",
    ">>> s.split()[0]\n",
    "s"
   ]
  },
  {
   "cell_type": "code",
   "execution_count": 36,
   "metadata": {},
   "outputs": [
    {
     "data": {
      "text/plain": [
       "['', ' Bob1 ... ', ' Rob1 ..']"
      ]
     },
     "execution_count": 36,
     "metadata": {},
     "output_type": "execute_result"
    }
   ],
   "source": [
    ">>> str = \"Quote from: Bob1 ... Quote from: Rob1 ..\"\n",
    ">>> str.split(\"Quote from:\")#[1]#.split()[0]"
   ]
  },
  {
   "cell_type": "code",
   "execution_count": null,
   "metadata": {},
   "outputs": [],
   "source": []
  }
 ],
 "metadata": {
  "kernelspec": {
   "display_name": "Python 3 (ipykernel)",
   "language": "python",
   "name": "python3"
  },
  "language_info": {
   "codemirror_mode": {
    "name": "ipython",
    "version": 3
   },
   "file_extension": ".py",
   "mimetype": "text/x-python",
   "name": "python",
   "nbconvert_exporter": "python",
   "pygments_lexer": "ipython3",
   "version": "3.9.12"
  },
  "widgets": {
   "state": {},
   "version": "1.1.2"
  }
 },
 "nbformat": 4,
 "nbformat_minor": 4
}
