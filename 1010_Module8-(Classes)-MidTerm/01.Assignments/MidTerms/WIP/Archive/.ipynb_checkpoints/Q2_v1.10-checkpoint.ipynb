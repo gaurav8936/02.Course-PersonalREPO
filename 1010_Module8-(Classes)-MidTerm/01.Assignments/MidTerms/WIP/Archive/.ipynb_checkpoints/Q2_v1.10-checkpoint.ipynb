{
 "cells": [
  {
   "cell_type": "markdown",
   "metadata": {},
   "source": [
    "### Midterm Exam Part 2: Programming (60 points)\n",
    "\n",
    "The midterm exam is designed to evaluate your grasp of Python theory as well as Python coding.\n",
    "\n",
    "This part of the exam consists of four programming questions. You have 48 hours to complete both parts (Part 1 and Part 2). Please insert each function into a file named **midterm.py** and upload to gradescope in Part 2. **The code version uploaded to Part 2 will be your official version for grading purposes.**\n",
    "\n",
    "Submit you code in a **midterm.py** file to this part within the 48 window. You can submit as many times as your like inside the window but if you submit over the window, we will take the last submitted entry before the window expired. The visible autograder tests check only that your code is producing the correctly formatted answer. That is, you will only see 20 of the 60 total points visible in the autograder when you submit - the remaining 40 of 60 points are not visible so please make sure your code meets all of the requirements stated in the problem.\n",
    "\n",
    "- **Do not put any additional code besides import statements and the function defs in the midterm.py file**\n",
    "- **Return** the answers instead of printing them in the function!\n",
    "- This is an individual open book exam.\n",
    "- You may use any libraries from the Python Standard Library for this exam: https://docs.python.org/3/library/\n",
    "- Follow best practices while coding!"
   ]
  },
  {
   "cell_type": "markdown",
   "metadata": {},
   "source": [
    "### Problem 2: Looking for Minerals (30 pts)\n",
    "\n",
    "A mining company conducts a survey of an n-by-n square grid of land.  Each row of land is numbered from 0 to n-1 where 0 is the top and n-1 is the bottom, and each column is also numbered from 0 to n-1 where 0 is the left and n-1 is the right.  The company wishes to record which squares of this grid contain mineral deposits.\n",
    "\n",
    "The company decides to use a list of tuples to store the location of each deposit.  The first item in each tuple is the row of the deposit.  The second item is the column.  The third item is a non-negative number representing the size of the deposit, in tons.  For example, the following code defines a sample representation of a set of deposits in an 8-by-8 grid."
   ]
  },
  {
   "cell_type": "code",
   "execution_count": null,
   "metadata": {},
   "outputs": [],
   "source": [
    "deposits = [(0, 4, .3), (6, 2, 3), (3, 7, 2.2), (5, 5, .5), (3, 5, .8), (7, 7, .3)]"
   ]
  },
  {
   "cell_type": "markdown",
   "metadata": {},
   "source": [
    "**2a) (15 points)** Given a list of deposits like the one above, write a function to create a string representation for a rectangular sub-region of the land.  Your function should take a list of deposits, then a set of parameters denoting the top, bottom, left, and right edges of the sub-grid.  It should **return** (do not print in the function) a multi-line string in which grid squares without deposits are represented by \"-\" and grid squares with a deposit are represented by \"X\"."
   ]
  },
  {
   "cell_type": "code",
   "execution_count": null,
   "metadata": {},
   "outputs": [],
   "source": [
    "def display(deposits, top, bottom, left, right):\n",
    "    \"\"\"display a subgrid of the land, with rows starting at top and up to \n",
    "    but not including bottom, and columns starting at left and up to but\n",
    "    not including right.\"\"\"\n",
    "    ans = \"\" # delete this line and enter your own code\n",
    "    return ans"
   ]
  },
  {
   "cell_type": "markdown",
   "metadata": {},
   "source": [
    "For example, your function should replicate the following behavior for the example grid:\n",
    "```\n",
    "print(display(deposits, 0, 8, 0, 8))\n",
    "----X---\n",
    "--------\n",
    "--------\n",
    "-----X-X\n",
    "--------\n",
    "-----X--\n",
    "--X-----\n",
    "-------X\n",
    "\n",
    "print(display(deposits, 5, 8, 5, 8))\n",
    "X--\n",
    "---\n",
    "--X\n",
    "\n",
    "```\n"
   ]
  },
  {
   "cell_type": "markdown",
   "metadata": {},
   "source": [
    "**2b (15 points)** Next, complete the following function to compute the total number of tons (as a float) in a rectangular sub-region of the grid."
   ]
  },
  {
   "cell_type": "code",
   "execution_count": 30,
   "metadata": {
    "tags": []
   },
   "outputs": [
    {
     "name": "stdout",
     "output_type": "stream",
     "text": [
      "- - - - - - - - \n",
      "- - - - - - - - \n",
      "- - - - - - - - \n",
      "- - - - - - - - \n",
      "- - - - - - - - \n",
      "- - - - - - - - \n",
      "- - - - - - - - \n",
      "- - - - - - - - \n"
     ]
    }
   ],
   "source": [
    "n = 8\n",
    "\n",
    "for i in range(n):\n",
    "    steps = 0\n",
    "    for j in range(n):\n",
    "        print('-', end = \" \")\n",
    "        steps += 1\n",
    "    print()"
   ]
  },
  {
   "cell_type": "markdown",
   "metadata": {},
   "source": [
    "---"
   ]
  },
  {
   "cell_type": "code",
   "execution_count": 32,
   "metadata": {},
   "outputs": [
    {
     "name": "stdin",
     "output_type": "stream",
     "text": [
      "longueur :  5\n",
      "largeur :  4\n"
     ]
    },
    {
     "name": "stdout",
     "output_type": "stream",
     "text": [
      "* * * * * \n",
      "*       * \n",
      "*       * \n",
      "* * * * * \n"
     ]
    }
   ],
   "source": [
    "long = int(input(\"longueur : \"))\n",
    "larg = int(input(\"largeur : \"))\n",
    "for i in range(larg):\n",
    "    if i == 0 or i == larg - 1:\n",
    "        for j in range(long):\n",
    "            print(\"* \", end=\"\")\n",
    "        print()\n",
    "    else:\n",
    "        for j in range(long):\n",
    "            if j == 0 or j == long - 1:\n",
    "                print(\"* \", end=\"\")\n",
    "            else:\n",
    "                print(end=\"  \")\n",
    "        print()"
   ]
  },
  {
   "cell_type": "code",
   "execution_count": 35,
   "metadata": {},
   "outputs": [
    {
     "name": "stdout",
     "output_type": "stream",
     "text": [
      "--------\n",
      "--------\n",
      "--------\n",
      "--------\n",
      "--------\n",
      "--------\n",
      "--------\n",
      "--------\n"
     ]
    }
   ],
   "source": [
    "class Rectangle:\n",
    "    def __init__(self, height, width):\n",
    "        self.height = height\n",
    "        self.width = width\n",
    "    def __repr__(self):\n",
    "        return '\\n'.join('-' * self.width for _ in range(self.height))\n",
    "\n",
    "print(Rectangle(8, 8))"
   ]
  },
  {
   "cell_type": "code",
   "execution_count": 31,
   "metadata": {
    "tags": []
   },
   "outputs": [
    {
     "name": "stdout",
     "output_type": "stream",
     "text": [
      "Rectangle Star Pattern\n",
      "*  *  *  *  *  *  *  *  \n",
      "*  *  *  *  *  *  *  *  \n",
      "*  *  *  *  *  *  *  *  \n",
      "*  *  *  *  *  *  *  *  \n",
      "*  *  *  *  *  *  *  *  \n",
      "*  *  *  *  *  *  *  *  \n",
      "*  *  *  *  *  *  *  *  \n",
      "*  *  *  *  *  *  *  *  \n"
     ]
    }
   ],
   "source": [
    "# Python Program to Print Rectangle Star Pattern\n",
    "\n",
    "# rows = int(input(\"Please Enter the Total Number of Rows  : \"))\n",
    "# columns = int(input(\"Please Enter the Total Number of Columns  : \"))\n",
    "\n",
    "rows = 8\n",
    "columns = 8\n",
    "\n",
    "print(\"Rectangle Star Pattern\") \n",
    "for i in range(rows):\n",
    "    for j in range(columns):\n",
    "        print('*', end = '  ')\n",
    "    print()"
   ]
  },
  {
   "cell_type": "markdown",
   "metadata": {},
   "source": [
    "---"
   ]
  },
  {
   "cell_type": "code",
   "execution_count": null,
   "metadata": {},
   "outputs": [],
   "source": []
  },
  {
   "cell_type": "code",
   "execution_count": null,
   "metadata": {},
   "outputs": [],
   "source": [
    "def tons_inside(deposits, top, bottom, left, right):\n",
    "    \"\"\"Returns the total number of tons of deposits for which the row is at least top,\n",
    "    but strictly less than bottom, and the column is at least left, but strictly\n",
    "    less than right.\"\"\"\n",
    "    # Do not alter the function header.  \n",
    "    # Just fill in the code so it returns the correct number of tons.\n",
    "    pass # delete this statement before entering your code!"
   ]
  },
  {
   "cell_type": "code",
   "execution_count": 1,
   "metadata": {},
   "outputs": [
    {
     "name": "stdout",
     "output_type": "stream",
     "text": [
      "[((0, 0), (0, 1)), ((0, 0), (1, 0)), ((0, 1), (0, 2)), ((0, 2), (0, 3)), ((0, 3), (1, 3)), ((1, 0), (2, 0)), ((1, 3), (2, 3)), ((2, 0), (3, 0)), ((2, 3), (3, 3)), ((3, 0), (3, 1)), ((3, 1), (3, 2)), ((3, 2), (3, 3))]\n"
     ]
    }
   ],
   "source": [
    "def make_square( x,y,n ):\n",
    "    for i in range(n):\n",
    "        yield (x,y+i),(x,y+i+1)\n",
    "        yield (x+i,y),(x+i+1,y)\n",
    "        yield (x+n,y+i),(x+n,y+i+1)\n",
    "        yield (x+i,y+n),(x+i+1,y+n)\n",
    "\n",
    "print(sorted(list(make_square(0,0,3))))"
   ]
  },
  {
   "cell_type": "code",
   "execution_count": 4,
   "metadata": {},
   "outputs": [],
   "source": [
    "def generateSquarePoints(i):\n",
    "    \"\"\" generate points for a square of any size \"\"\"\n",
    "    return [(i, 0), (i, i), (0, i), (0, 0)]"
   ]
  },
  {
   "cell_type": "code",
   "execution_count": 3,
   "metadata": {},
   "outputs": [
    {
     "data": {
      "text/plain": [
       "[(5, 0), (5, 5), (0, 5), (0, 0)]"
      ]
     },
     "execution_count": 3,
     "metadata": {},
     "output_type": "execute_result"
    }
   ],
   "source": [
    "generateSquarePoints(5)"
   ]
  },
  {
   "cell_type": "code",
   "execution_count": 5,
   "metadata": {},
   "outputs": [
    {
     "data": {
      "text/plain": [
       "Text(0, 0.5, 'y (arcsecs)')"
      ]
     },
     "execution_count": 5,
     "metadata": {},
     "output_type": "execute_result"
    },
    {
     "data": {
      "image/png": "[encoded data removed]",
      "text/plain": [
       "<Figure size 648x360 with 1 Axes>"
      ]
     },
     "metadata": {
      "needs_background": "light"
     },
     "output_type": "display_data"
    }
   ],
   "source": [
    "import numpy as np\n",
    "import matplotlib\n",
    "import matplotlib.pyplot as plt\n",
    "from matplotlib.collections import PatchCollection\n",
    "import matplotlib.patches as mpatches\n",
    "\n",
    "fig = plt.figure(figsize=(9,5))\n",
    "ax = plt.axes([0.1,0.1,0.7,0.7])\n",
    "cmap = matplotlib.cm.jet\n",
    "patches = []\n",
    "\n",
    "data=np.array([4.5,8.6,2.4,9.6,11.3])\n",
    "data_id_nos=np.array([5,6,9,8,7])\n",
    "x_coords=np.array([3.12,2.6,2.08,1.56,1.04])\n",
    "y_coords=np.array([6.76,6.24,5.72,5.20,4.68])\n",
    "coord_id_nos=np.array([7,9,6,5,8])    \n",
    "\n",
    "for i in range(len(data_id_nos)):\n",
    "        coords=(x_coords[np.where(coord_id_nos == data_id_nos[i])],y_coords[np.where(coord_id_nos == data_id_nos[i])])\n",
    "        art = mpatches.Rectangle(coords,0.50,0.50,ec=\"none\")\n",
    "        patches.append(art)\n",
    "\n",
    "#create collection of patches for IFU position\n",
    "IFU1 = PatchCollection(patches, cmap=cmap)\n",
    "#set the colours = data values\n",
    "IFU1.set_array(np.array(data))\n",
    "ax.add_collection(IFU1)\n",
    "plt.axis('scaled')\n",
    "plt.xlabel('x (arcsecs)')\n",
    "plt.ylabel('y (arcsecs)')"
   ]
  },
  {
   "cell_type": "code",
   "execution_count": 8,
   "metadata": {},
   "outputs": [
    {
     "data": {
      "image/png": "[encoded data removed]",
      "text/plain": [
       "<Figure size 432x288 with 1 Axes>"
      ]
     },
     "metadata": {
      "needs_background": "light"
     },
     "output_type": "display_data"
    }
   ],
   "source": [
    "import numpy as np\n",
    "import matplotlib.pyplot as plt\n",
    "import itertools\n",
    "r = 3\n",
    "c = 4\n",
    "x = np.linspace(0, c, c+1)\n",
    "y = np.linspace(0, r, r+1)\n",
    "\n",
    "pts = itertools.product(x, y)\n",
    "plt.scatter(*zip(*pts), marker='o', s=30, color='red')\n",
    "\n",
    "X, Y = np.meshgrid(x, y)\n",
    "deg = np.arctan(Y**3 - 3*Y-X)\n",
    "QP = plt.quiver(X, Y, np.cos(deg), np.sin(deg))\n",
    "plt.grid()\n",
    "plt.show()"
   ]
  },
  {
   "cell_type": "code",
   "execution_count": null,
   "metadata": {},
   "outputs": [],
   "source": []
  }
 ],
 "metadata": {
  "kernelspec": {
   "display_name": "Python 3 (ipykernel)",
   "language": "python",
   "name": "python3"
  },
  "language_info": {
   "codemirror_mode": {
    "name": "ipython",
    "version": 3
   },
   "file_extension": ".py",
   "mimetype": "text/x-python",
   "name": "python",
   "nbconvert_exporter": "python",
   "pygments_lexer": "ipython3",
   "version": "3.9.12"
  },
  "widgets": {
   "state": {},
   "version": "1.1.2"
  }
 },
 "nbformat": 4,
 "nbformat_minor": 4
}
