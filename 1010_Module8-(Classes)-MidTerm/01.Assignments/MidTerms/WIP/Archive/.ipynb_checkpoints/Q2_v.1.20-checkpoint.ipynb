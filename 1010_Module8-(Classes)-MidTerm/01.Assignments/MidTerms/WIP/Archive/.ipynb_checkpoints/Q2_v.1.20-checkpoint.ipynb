{
 "cells": [
  {
   "cell_type": "markdown",
   "metadata": {},
   "source": [
    "### Midterm Exam Part 2: Programming (60 points)\n",
    "\n",
    "The midterm exam is designed to evaluate your grasp of Python theory as well as Python coding.\n",
    "\n",
    "This part of the exam consists of four programming questions. You have 48 hours to complete both parts (Part 1 and Part 2). Please insert each function into a file named **midterm.py** and upload to gradescope in Part 2. **The code version uploaded to Part 2 will be your official version for grading purposes.**\n",
    "\n",
    "Submit you code in a **midterm.py** file to this part within the 48 window. You can submit as many times as your like inside the window but if you submit over the window, we will take the last submitted entry before the window expired. The visible autograder tests check only that your code is producing the correctly formatted answer. That is, you will only see 20 of the 60 total points visible in the autograder when you submit - the remaining 40 of 60 points are not visible so please make sure your code meets all of the requirements stated in the problem.\n",
    "\n",
    "- **Do not put any additional code besides import statements and the function defs in the midterm.py file**\n",
    "- **Return** the answers instead of printing them in the function!\n",
    "- This is an individual open book exam.\n",
    "- You may use any libraries from the Python Standard Library for this exam: https://docs.python.org/3/library/\n",
    "- Follow best practices while coding!"
   ]
  },
  {
   "cell_type": "markdown",
   "metadata": {},
   "source": [
    "### Problem 2: Looking for Minerals (30 pts)\n",
    "\n",
    "A mining company conducts a survey of an n-by-n square grid of land.  Each row of land is numbered from 0 to n-1 where 0 is the top and n-1 is the bottom, and each column is also numbered from 0 to n-1 where 0 is the left and n-1 is the right.  The company wishes to record which squares of this grid contain mineral deposits.\n",
    "\n",
    "The company decides to use a list of tuples to store the location of each deposit.  The first item in each tuple is the row of the deposit.  The second item is the column.  The third item is a non-negative number representing the size of the deposit, in tons.  For example, the following code defines a sample representation of a set of deposits in an 8-by-8 grid."
   ]
  },
  {
   "cell_type": "code",
   "execution_count": 78,
   "metadata": {},
   "outputs": [],
   "source": [
    "deposits = [(0, 4, .3), (6, 2, 3), (3, 7, 2.2), (5, 5, .5), (3, 5, .8), (7, 7, .3)]"
   ]
  },
  {
   "cell_type": "markdown",
   "metadata": {},
   "source": [
    "**2a) (15 points)** Given a list of deposits like the one above, write a function to create a string representation for a rectangular sub-region of the land.  Your function should take a list of deposits, then a set of parameters denoting the top, bottom, left, and right edges of the sub-grid.  It should **return** (do not print in the function) a multi-line string in which grid squares without deposits are represented by \"-\" and grid squares with a deposit are represented by \"X\"."
   ]
  },
  {
   "cell_type": "code",
   "execution_count": null,
   "metadata": {},
   "outputs": [],
   "source": [
    "def display(deposits, top, bottom, left, right):\n",
    "    \"\"\"display a subgrid of the land, with rows starting at top and up to \n",
    "    but not including bottom, and columns starting at left and up to but\n",
    "    not including right.\"\"\"\n",
    "    ans = \"\" # delete this line and enter your own code\n",
    "    return ans"
   ]
  },
  {
   "cell_type": "markdown",
   "metadata": {},
   "source": [
    "For example, your function should replicate the following behavior for the example grid:\n",
    "```\n",
    "print(display(deposits, 0, 8, 0, 8))\n",
    "----X---\n",
    "--------\n",
    "--------\n",
    "-----X-X\n",
    "--------\n",
    "-----X--\n",
    "--X-----\n",
    "-------X\n",
    "\n",
    "print(display(deposits, 5, 8, 5, 8))\n",
    "X--\n",
    "---\n",
    "--X\n",
    "\n",
    "```\n"
   ]
  },
  {
   "cell_type": "markdown",
   "metadata": {},
   "source": [
    "**2b (15 points)** Next, complete the following function to compute the total number of tons (as a float) in a rectangular sub-region of the grid."
   ]
  },
  {
   "cell_type": "code",
   "execution_count": 9,
   "metadata": {
    "tags": []
   },
   "outputs": [],
   "source": [
    "n = 8\n",
    "m = 6\n",
    "\n",
    "def rectangle(m,n):\n",
    "    for i in range(m):\n",
    "        steps = 0\n",
    "        for j in range(n):\n",
    "            print('-', end = \" \")\n",
    "            steps += 1\n",
    "        print()\n",
    "    return"
   ]
  },
  {
   "cell_type": "markdown",
   "metadata": {},
   "source": [
    "# creating a list of lists with '_'"
   ]
  },
  {
   "cell_type": "code",
   "execution_count": 128,
   "metadata": {
    "tags": []
   },
   "outputs": [
    {
     "data": {
      "text/plain": [
       "[['-', '-', '-', '-', '-', '-', '-', '-'],\n",
       " ['-', '-', '-', '-', '-', '-', '-', '-'],\n",
       " ['-', '-', '-', '-', '-', '-', '-', '-'],\n",
       " ['-', '-', '-', '-', '-', '-', '-', '-'],\n",
       " ['-', '-', '-', '-', '-', '-', '-', '-'],\n",
       " ['-', '-', '-', '-', '-', '-', '-', '-']]"
      ]
     },
     "execution_count": 128,
     "metadata": {},
     "output_type": "execute_result"
    }
   ],
   "source": [
    "m = 6\n",
    "n = 8\n",
    "\n",
    "\n",
    "\n",
    "def rectangle(m,n):\n",
    "    grid = []\n",
    "    for i in range(m):\n",
    "        steps = 0\n",
    "        for j in range(n):\n",
    "            steps += 1\n",
    "        grid += [['-'] * n]\n",
    "    return grid\n",
    "\n",
    "rectangle(m,n)\n"
   ]
  },
  {
   "cell_type": "code",
   "execution_count": 136,
   "metadata": {},
   "outputs": [
    {
     "data": {
      "text/plain": [
       "[['-', '-', '-', '-', '-', '-', '-', '-'],\n",
       " ['-', '-', '-', '-', '-', '-', '-', '-'],\n",
       " ['-', '-', '-', '-', '-', '-', '-', '-'],\n",
       " ['-', '-', '-', '-', '-', '-', '-', '-'],\n",
       " ['-', '-', '-', '-', '-', '-', '-', '-'],\n",
       " ['-', '-', '-', '-', '-', '-', '-', '-']]"
      ]
     },
     "execution_count": 136,
     "metadata": {},
     "output_type": "execute_result"
    }
   ],
   "source": [
    "height = 6\n",
    "width = 8\n",
    "\n",
    "\n",
    "\n",
    "def rectangle(height,width):\n",
    "    steps = 0\n",
    "    grid = []\n",
    "    for i in range(height):\n",
    "        steps = 0\n",
    "        for j in range(width):\n",
    "            steps += 1\n",
    "        grid += [['-'] * width]\n",
    "    return grid\n",
    "\n",
    "rectangle(height,n)"
   ]
  },
  {
   "cell_type": "markdown",
   "metadata": {},
   "source": [
    "---"
   ]
  },
  {
   "cell_type": "markdown",
   "metadata": {},
   "source": [
    "<font size = 6, color = red> Original Gold"
   ]
  },
  {
   "cell_type": "code",
   "execution_count": 141,
   "metadata": {},
   "outputs": [
    {
     "name": "stdout",
     "output_type": "stream",
     "text": [
      "----X---\n",
      "--------\n",
      "--------\n",
      "-----X-X\n",
      "--------\n",
      "-----X--\n",
      "--X-----\n",
      "-------X\n",
      "\n"
     ]
    }
   ],
   "source": [
    "height = 6\n",
    "width = 8\n",
    "\n",
    "def display(deposits, top, bottom, left, right):\n",
    "    \"\"\"display a subgrid of the land, with rows starting at top and up to \n",
    "    but not including bottom, and columns starting at left and up to but\n",
    "    not including right.\"\"\"\n",
    "    \n",
    "    # calculate the height and width of the chosen rectangle section\n",
    "    # based on the difference of top, bottom -- left , right\n",
    "    \n",
    "    height = bottom - top\n",
    "    width = right - left\n",
    "    \n",
    "    #-----------------------\n",
    "    \n",
    "    # this is the step where we generate a list of lists (i.e creating the grid as a mutable list)\n",
    "    \n",
    "    steps = 0\n",
    "    nested_list = []\n",
    "    for i in range(height):\n",
    "        steps = 0\n",
    "        for j in range(width):\n",
    "            steps += 1\n",
    "        nested_list += [['-'] * width]\n",
    "    #return grid\n",
    "    \n",
    "    \n",
    "    #----------------------\n",
    "    \n",
    "    # update the nested list with data from the list of tuples (deposits)\n",
    "    for r, c, _ in deposits:\n",
    "        if top <= r < bottom and left <= c < right:\n",
    "            nested_list[r - top][c - left] = 'X'\n",
    "    ans = \"\"\n",
    "    for line in nested_list:\n",
    "        ans = ans + ''.join(line) + '\\n'\n",
    "    return ans\n",
    "\n",
    "print(display(deposits, 0, 8, 0, 8))"
   ]
  },
  {
   "cell_type": "markdown",
   "metadata": {},
   "source": [
    "<font size = 6, color = red> Original Gold"
   ]
  },
  {
   "cell_type": "code",
   "execution_count": 60,
   "metadata": {},
   "outputs": [
    {
     "name": "stdout",
     "output_type": "stream",
     "text": [
      "----X---\n",
      "--------\n",
      "--------\n",
      "-----X-X\n",
      "--------\n",
      "-----X--\n",
      "--X-----\n",
      "-------X\n"
     ]
    }
   ],
   "source": [
    "deposits = [(0, 4, .3), (6, 2, 3), (3, 7, 2.2), (5, 5, .5), (3, 5, .8), (7, 7, .3)]\n",
    "\n",
    "height = 8\n",
    "width = 8\n",
    "\n",
    "\n",
    "\n",
    "def display(deposits, top, bottom, left, right):\n",
    "    \"\"\"display a subgrid of the land, with rows starting at top and up to \n",
    "    but not including bottom, and columns starting at left and up to but\n",
    "    not including right.\"\"\"\n",
    "    \n",
    "    # calculate the height and width of the chosen rectangle section\n",
    "    # based on the difference of top, bottom -- left , right\n",
    "    \n",
    "    height = bottom - top\n",
    "    width = right - left\n",
    "    \n",
    "    #--------Generate list---------------\n",
    "    \n",
    "    # this is the step where we generate a list of lists (i.e creating the grid as a mutable list)\n",
    "    \n",
    "    steps = 0\n",
    "    nested_list = []\n",
    "    for i in range(height):\n",
    "        steps = 0\n",
    "        for j in range(width):\n",
    "            steps += 1\n",
    "        nested_list += [['-'] * width]\n",
    "#    print(nested_list)\n",
    "    #return grid\n",
    "    \n",
    "    \n",
    "    #-------Determine eligiblity of the deposit grid ---------------\n",
    "    \n",
    "    eligible_deposits = []\n",
    "    for row, column, deposit in deposits:\n",
    "        #eligible_deposits = []\n",
    "#        if top <= row and row < bottom and left <= column and column < right:\n",
    "        if top <= row < bottom and left <= column < right:\n",
    "        \n",
    "            \n",
    "#            eligible_deposits += [(row, column, deposit)]\n",
    "#            eligible_deposits.append((row, column, deposit))\n",
    "            eligible_deposits += [(row, column, deposit)]\n",
    "#        print(eligible_deposits)\n",
    "#            return eligible_deposits\n",
    "#            map_eligible = 'Y'\n",
    "    #-------Determine eligiblity of the deposit grid ---------------\n",
    "    \n",
    "#     for row, column, deposit in deposits:\n",
    "#         eligible_deposits = []\n",
    "#         if not (top <= row and row < bottom) and  (left <= column and column < right):\n",
    "            \n",
    "# #            eligible_deposits += [(row, column, deposit)]\n",
    "#             eligible_deposits.pop()\n",
    "#             print(eligible_deposits)\n",
    "# #            map_eligible = 'Y'\n",
    "    \n",
    "    #----------------------\n",
    "    \n",
    "    # update the nested list with data from the list of tuples (deposits)\n",
    "    \n",
    "    # if map_eligible = 'Y':\n",
    "\n",
    "#    print(eligible_deposits)\n",
    "#    print(nested_list)\n",
    "    \n",
    "    for row, column, deposit in eligible_deposits:\n",
    "#        print(row, column, deposit) \n",
    "        nested_list[row - top][column - left] = 'X'\n",
    "#        print(nested_list)\n",
    "#    print(nested_list)\n",
    "        \n",
    "\n",
    "    final_grid = ''\n",
    "    final_grid = '\\n'.join(''.join(str(i) for i in x) for x in nested_list)\n",
    "    return final_grid\n",
    "\n",
    "print(display(deposits, 0, 8, 0, 8))\n"
   ]
  },
  {
   "cell_type": "markdown",
   "metadata": {},
   "source": [
    "# Sanitized Gold"
   ]
  },
  {
   "cell_type": "code",
   "execution_count": 64,
   "metadata": {},
   "outputs": [
    {
     "name": "stdout",
     "output_type": "stream",
     "text": [
      "----X---\n",
      "--------\n",
      "--------\n",
      "-----X-X\n",
      "--------\n",
      "-----X--\n",
      "--X-----\n",
      "-------X\n"
     ]
    }
   ],
   "source": [
    "deposits = [(0, 4, .3), (6, 2, 3), (3, 7, 2.2), (5, 5, .5), (3, 5, .8), (7, 7, .3)]\n",
    "\n",
    "def display(deposits, top, bottom, left, right):\n",
    "    \"\"\"display a subgrid of the land, with rows starting at top and up to \n",
    "    but not including bottom, and columns starting at left and up to but\n",
    "    not including right.\"\"\"\n",
    "    \n",
    "    # calculate the height and width of the chosen rectangle section\n",
    "    # based on the difference of top, bottom -- left , right\n",
    "    \n",
    "    height = bottom - top\n",
    "    width = right - left\n",
    "    \n",
    "    #--------Generate list---------------\n",
    "    \n",
    "    # this is the step where we generate a list of lists (i.e creating the grid as a mutable list)\n",
    "    \n",
    "    steps = 0\n",
    "    nested_list = []\n",
    "    for i in range(height):\n",
    "        steps = 0\n",
    "        for j in range(width):\n",
    "            steps += 1\n",
    "        nested_list += [['-'] * width]\n",
    "#    print(nested_list)\n",
    "    #return grid\n",
    "    \n",
    "    \n",
    "    #-------Determine eligiblity of the deposit grid ---------------\n",
    "    \n",
    "    eligible_deposits = []\n",
    "    for row, column, deposit in deposits:\n",
    "        #eligible_deposits = []\n",
    "#        if top <= row and row < bottom and left <= column and column < right:\n",
    "        if top <= row < bottom and left <= column < right:\n",
    "        \n",
    "            \n",
    "            eligible_deposits += [(row, column, deposit)]\n",
    "\n",
    "    \n",
    "    #--------Revise nested_list with deposit info --------------\n",
    "    \n",
    "    # update the nested list with data from the list of tuples (eligible_deposits)\n",
    "    \n",
    "    for row, column, deposit in eligible_deposits:\n",
    "        nested_list[row - top][column - left] = 'X'\n",
    "        \n",
    "#    final_grid = ''\n",
    "    final_grid = '\\n'.join(''.join(str(i) for i in x) for x in nested_list)\n",
    "    return final_grid\n",
    "\n",
    "print(display(deposits, 0, 8, 0, 8))"
   ]
  },
  {
   "cell_type": "markdown",
   "metadata": {},
   "source": [
    "---"
   ]
  },
  {
   "cell_type": "markdown",
   "metadata": {},
   "source": [
    "# DNU"
   ]
  },
  {
   "cell_type": "code",
   "execution_count": 101,
   "metadata": {},
   "outputs": [
    {
     "name": "stdout",
     "output_type": "stream",
     "text": [
      "----X---\n",
      "--------\n",
      "--------\n",
      "-----X-X\n",
      "--------\n",
      "-----X--\n",
      "--X-----\n",
      "-------X\n",
      "\n"
     ]
    }
   ],
   "source": [
    "def display(deposits, top, bottom, left, right):\n",
    "    \"\"\"display a subgrid of the land, with rows starting at top and up to \n",
    "    but not including bottom, and columns starting at left and up to but\n",
    "    not including right.\"\"\"\n",
    "    height = bottom - top\n",
    "    width = right - left\n",
    "    grid = [['-'] * width for _ in range(height)]\n",
    "    for r, c, _ in deposits:\n",
    "        if top <= r < bottom and left <= c < right:\n",
    "            grid[r - top][c - left] = 'X'\n",
    "    ans = \"\"\n",
    "    for line in grid:\n",
    "        ans = ans + ''.join(line) + '\\n'\n",
    "    return ans\n",
    "\n",
    "print(display(deposits, 0, 8, 0, 8))"
   ]
  },
  {
   "cell_type": "code",
   "execution_count": 99,
   "metadata": {},
   "outputs": [
    {
     "name": "stdout",
     "output_type": "stream",
     "text": [
      "[['-', '-', '-', '-', '-', '-', '-', '-'], ['-', '-', '-', '-', '-', '-', '-', '-'], ['-', '-', '-', '-', '-', '-', '-', '-'], ['-', '-', '-', '-', '-', '-', '-', '-'], ['-', '-', '-', '-', '-', '-', '-', '-'], ['-', '-', '-', '-', '-', '-', '-', '-'], ['-', '-', '-', '-', '-', '-', '-', '-'], ['-', '-', '-', '-', '-', '-', '-', '-']]\n"
     ]
    }
   ],
   "source": [
    "print(display(deposits, 0, 8, 0, 8))"
   ]
  },
  {
   "cell_type": "markdown",
   "metadata": {},
   "source": [
    "---"
   ]
  },
  {
   "cell_type": "code",
   "execution_count": 92,
   "metadata": {},
   "outputs": [],
   "source": [
    "def drawnumberrectangle():\n",
    "    height = 8#getinteger(\"Enter a height: \")\n",
    "    width = 6#getinteger(\"Enter a width: \")\n",
    "    for i in range(height):\n",
    "        line = ''\n",
    "        for j in range(width):\n",
    "            line += '{}'.format(width - j)\n",
    "        print(line)"
   ]
  },
  {
   "cell_type": "code",
   "execution_count": 93,
   "metadata": {},
   "outputs": [
    {
     "name": "stdout",
     "output_type": "stream",
     "text": [
      "654321\n",
      "654321\n",
      "654321\n",
      "654321\n",
      "654321\n",
      "654321\n",
      "654321\n",
      "654321\n"
     ]
    }
   ],
   "source": [
    "drawnumberrectangle()"
   ]
  },
  {
   "cell_type": "code",
   "execution_count": null,
   "metadata": {},
   "outputs": [],
   "source": []
  },
  {
   "cell_type": "code",
   "execution_count": 11,
   "metadata": {},
   "outputs": [
    {
     "name": "stdout",
     "output_type": "stream",
     "text": [
      "- - - - - - - - \n",
      "- - - - - - - - \n",
      "- - - - - - - - \n",
      "- - - - - - - - \n",
      "- - - - - - - - \n",
      "- - - - - - - - \n"
     ]
    }
   ],
   "source": [
    "rectangle(m,n)"
   ]
  },
  {
   "cell_type": "code",
   "execution_count": 70,
   "metadata": {},
   "outputs": [
    {
     "name": "stdout",
     "output_type": "stream",
     "text": [
      "- X - - - - - - - \n",
      "- - - - - - - - \n",
      "- - - - - - - - \n",
      "- - - - - - - - \n",
      "- - - - - - - - \n",
      "- - - - - - - - \n"
     ]
    }
   ],
   "source": [
    "n = 8\n",
    "m = 6\n",
    "\n",
    "def rectangle(m,n):\n",
    "    for i in range(m):\n",
    "        steps = 0\n",
    "        for j in range(n):\n",
    "            print('-', end = \" \")\n",
    "            if i == 0 and j == 0:\n",
    "                print('X', end = \" \")\n",
    "                #print('X')\n",
    "            #pass\n",
    "            continue\n",
    "            steps += 1\n",
    "        print()\n",
    "    return\n",
    "rectangle(m,n)"
   ]
  },
  {
   "cell_type": "code",
   "execution_count": 69,
   "metadata": {},
   "outputs": [
    {
     "name": "stdout",
     "output_type": "stream",
     "text": [
      "[['-', '-', '-', '-', '-', '-'], ['-', '-', '-', '-', '-', '-'], ['-', '-', '-', '-', '-', '-'], ['-', '-', '-', '-', '-', '-'], ['-', '-', '-', '-', '-', '-'], ['-', '-', '-', '-', '-', '-'], ['-', '-', '-', '-', '-', '-'], ['-', '-', '-', '-', '-', '-']]\n"
     ]
    }
   ],
   "source": [
    "width = 6\n",
    "height = 8\n",
    "grid = [['-'] * width for _ in range(height)]\n",
    "print(grid)"
   ]
  },
  {
   "cell_type": "code",
   "execution_count": null,
   "metadata": {},
   "outputs": [],
   "source": []
  },
  {
   "cell_type": "code",
   "execution_count": null,
   "metadata": {},
   "outputs": [],
   "source": []
  },
  {
   "cell_type": "code",
   "execution_count": null,
   "metadata": {},
   "outputs": [],
   "source": []
  },
  {
   "cell_type": "code",
   "execution_count": 59,
   "metadata": {
    "tags": []
   },
   "outputs": [],
   "source": [
    "rows = 5\n",
    "cols = 5\n",
    "\n",
    "def rectangle(rows, cols):\n",
    "    for i in range(0, rows):\n",
    "        for j in range(0, cols):\n",
    "            if i==0 or i==rows-1:# or j ==0 or j ==cols-1 or j == i:\n",
    "                print(\"*\", end=\" \")\n",
    "            if i==0 and  j==2:\n",
    "                print(\" X \", end=\" \")\n",
    "            else:\n",
    "                print(\"  \", end=\" \")\n",
    "                \n",
    "        print()\n",
    "    return"
   ]
  },
  {
   "cell_type": "code",
   "execution_count": 60,
   "metadata": {},
   "outputs": [
    {
     "name": "stdout",
     "output_type": "stream",
     "text": [
      "*    *    *  X  *    *    *    \n",
      "                  \n",
      "                  \n",
      "                  \n",
      "                  \n",
      "                  \n",
      "                  \n",
      "*    *    *    *    *    *    \n"
     ]
    }
   ],
   "source": [
    "rectangle(8,6)"
   ]
  },
  {
   "cell_type": "code",
   "execution_count": null,
   "metadata": {},
   "outputs": [],
   "source": []
  },
  {
   "cell_type": "code",
   "execution_count": 68,
   "metadata": {},
   "outputs": [
    {
     "name": "stdin",
     "output_type": "stream",
     "text": [
      "Enter bars string:\n",
      "  8\n"
     ]
    },
    {
     "name": "stdout",
     "output_type": "stream",
     "text": [
      "+--------+\n",
      "|########|\n",
      "+--------+\n"
     ]
    }
   ],
   "source": [
    "bars_string = input('Enter bars string:\\n ')\n",
    "digits = list(map(int, bars_string))\n",
    "max_digit = max(digits)\n",
    "\n",
    "print(\"+\" + \"-\"*max_digit + \"+\")\n",
    "for digit in digits:\n",
    "  print(\"|\" + \"#\"*digit + \" \"*(max_digit - digit) + \"|\")\n",
    "\n",
    "print(\"+\" + \"-\"*max_digit + \"+\")"
   ]
  },
  {
   "cell_type": "code",
   "execution_count": 67,
   "metadata": {},
   "outputs": [
    {
     "ename": "NameError",
     "evalue": "name 'self' is not defined",
     "output_type": "error",
     "traceback": [
      "\u001b[0;31m---------------------------------------------------------------------------\u001b[0m",
      "\u001b[0;31mNameError\u001b[0m                                 Traceback (most recent call last)",
      "Input \u001b[0;32mIn [67]\u001b[0m, in \u001b[0;36m<cell line: 1>\u001b[0;34m()\u001b[0m\n\u001b[0;32m----> 1\u001b[0m pprint(\u001b[38;5;28;43mself\u001b[39;49m)\n",
      "\u001b[0;31mNameError\u001b[0m: name 'self' is not defined"
     ]
    }
   ],
   "source": [
    "pprint(self)"
   ]
  },
  {
   "cell_type": "markdown",
   "metadata": {},
   "source": [
    "---"
   ]
  },
  {
   "cell_type": "code",
   "execution_count": 1,
   "metadata": {},
   "outputs": [
    {
     "name": "stdout",
     "output_type": "stream",
     "text": [
      "* * * * * \n",
      "*       * \n",
      "*       * \n",
      "* * * * * \n"
     ]
    }
   ],
   "source": [
    "long = 5\n",
    "larg = 4\n",
    "for i in range(larg):\n",
    "    if i == 0 or i == larg - 1:\n",
    "        for j in range(long):\n",
    "            print(\"* \", end=\"\")\n",
    "        print()\n",
    "    else:\n",
    "        for j in range(long):\n",
    "            if j == 0 or j == long - 1:\n",
    "                print(\"* \", end=\"\")\n",
    "            else:\n",
    "                print(end=\"  \")\n",
    "        print()"
   ]
  },
  {
   "cell_type": "code",
   "execution_count": 32,
   "metadata": {},
   "outputs": [
    {
     "name": "stdin",
     "output_type": "stream",
     "text": [
      "longueur :  5\n",
      "largeur :  4\n"
     ]
    },
    {
     "name": "stdout",
     "output_type": "stream",
     "text": [
      "* * * * * \n",
      "*       * \n",
      "*       * \n",
      "* * * * * \n"
     ]
    }
   ],
   "source": [
    "long = int(input(\"longueur : \"))\n",
    "larg = int(input(\"largeur : \"))\n",
    "for i in range(larg):\n",
    "    if i == 0 or i == larg - 1:\n",
    "        for j in range(long):\n",
    "            print(\"* \", end=\"\")\n",
    "        print()\n",
    "    else:\n",
    "        for j in range(long):\n",
    "            if j == 0 or j == long - 1:\n",
    "                print(\"* \", end=\"\")\n",
    "            else:\n",
    "                print(end=\"  \")\n",
    "        print()"
   ]
  },
  {
   "cell_type": "code",
   "execution_count": 35,
   "metadata": {},
   "outputs": [
    {
     "name": "stdout",
     "output_type": "stream",
     "text": [
      "--------\n",
      "--------\n",
      "--------\n",
      "--------\n",
      "--------\n",
      "--------\n",
      "--------\n",
      "--------\n"
     ]
    }
   ],
   "source": [
    "class Rectangle:\n",
    "    def __init__(self, height, width):\n",
    "        self.height = height\n",
    "        self.width = width\n",
    "    def __repr__(self):\n",
    "        return '\\n'.join('-' * self.width for _ in range(self.height))\n",
    "\n",
    "print(Rectangle(8, 8))"
   ]
  },
  {
   "cell_type": "code",
   "execution_count": 31,
   "metadata": {
    "collapsed": true,
    "jupyter": {
     "outputs_hidden": true,
     "source_hidden": true
    },
    "tags": []
   },
   "outputs": [
    {
     "name": "stdout",
     "output_type": "stream",
     "text": [
      "Rectangle Star Pattern\n",
      "*  *  *  *  *  *  *  *  \n",
      "*  *  *  *  *  *  *  *  \n",
      "*  *  *  *  *  *  *  *  \n",
      "*  *  *  *  *  *  *  *  \n",
      "*  *  *  *  *  *  *  *  \n",
      "*  *  *  *  *  *  *  *  \n",
      "*  *  *  *  *  *  *  *  \n",
      "*  *  *  *  *  *  *  *  \n"
     ]
    }
   ],
   "source": [
    "# Python Program to Print Rectangle Star Pattern\n",
    "\n",
    "# rows = int(input(\"Please Enter the Total Number of Rows  : \"))\n",
    "# columns = int(input(\"Please Enter the Total Number of Columns  : \"))\n",
    "\n",
    "rows = 8\n",
    "columns = 8\n",
    "\n",
    "print(\"Rectangle Star Pattern\") \n",
    "for i in range(rows):\n",
    "    for j in range(columns):\n",
    "        print('*', end = '  ')\n",
    "    print()"
   ]
  },
  {
   "cell_type": "code",
   "execution_count": 1,
   "metadata": {},
   "outputs": [],
   "source": [
    "def expand(self,amt):\n",
    "    x = self.x - amt # move left side out by amount specified\n",
    "    y = self.y -  amt # move the top side up by the specified amt\n",
    "    w = self.width + amt * 2 # make the width long enough so the left side and right side are both expanded by amount\n",
    "    h = self.height + amt * 2 # make the height tall enough so both top and bottom are expanded  \n",
    "    return Rectangle(x,y,w,h)"
   ]
  },
  {
   "cell_type": "code",
   "execution_count": 2,
   "metadata": {
    "tags": []
   },
   "outputs": [
    {
     "name": "stdout",
     "output_type": "stream",
     "text": [
      "(5, 10, 50, 100)\n"
     ]
    }
   ],
   "source": [
    "class Rectangle:\n",
    "\n",
    "    def __init__(self, X, Y, W, H):\n",
    "\n",
    "       self.x = X\n",
    "\n",
    "       self.y = Y\n",
    "\n",
    "       self.w = W\n",
    "\n",
    "       self.h = H\n",
    "\n",
    "    def complete(self):\n",
    "        return self.x,self.y,self.w,self.h\n",
    "\n",
    "    def right(self):\n",
    "        return self.x + self.w\n",
    "\n",
    "    def __str__(self):\n",
    "        return('Rectangle(' + str(self.x) + ',' + str(self.y) + ','\n",
    "                    + str(self.w) + ',' + str(self.h)+')')\n",
    "    def bottom(self):\n",
    "        return self.y + self.h\n",
    "\n",
    "    def __str__(self):\n",
    "        return('Rectangle(' + str(self.y) + ',' + str(self.h) + ','\n",
    "               + str(self.y) + ',' + str(self.h) + ')')\n",
    "    def size(self):\n",
    "        return self.w,self.h\n",
    "\n",
    "    def position(self):\n",
    "        return self.x,self.y\n",
    "\n",
    "    def area(self):\n",
    "        return self.w * self.h\n",
    "\n",
    "    def expand(self):\n",
    "        pass\n",
    "\n",
    "print(Rectangle(5,10,50,100).complete())"
   ]
  },
  {
   "cell_type": "code",
   "execution_count": null,
   "metadata": {},
   "outputs": [],
   "source": []
  },
  {
   "cell_type": "markdown",
   "metadata": {},
   "source": [
    "---"
   ]
  },
  {
   "cell_type": "code",
   "execution_count": null,
   "metadata": {},
   "outputs": [],
   "source": []
  },
  {
   "cell_type": "code",
   "execution_count": 3,
   "metadata": {},
   "outputs": [
    {
     "name": "stdout",
     "output_type": "stream",
     "text": [
      "[((0, 0), (0, 1)), ((0, 0), (1, 0)), ((0, 1), (0, 2)), ((0, 2), (0, 3)), ((0, 3), (1, 3)), ((1, 0), (2, 0)), ((1, 3), (2, 3)), ((2, 0), (3, 0)), ((2, 3), (3, 3)), ((3, 0), (3, 1)), ((3, 1), (3, 2)), ((3, 2), (3, 3))]\n"
     ]
    }
   ],
   "source": [
    "def make_square( x,y,n ):\n",
    "    for i in range(n):\n",
    "        yield (x,y+i),(x,y+i+1)\n",
    "        yield (x+i,y),(x+i+1,y)\n",
    "        yield (x+n,y+i),(x+n,y+i+1)\n",
    "        yield (x+i,y+n),(x+i+1,y+n)\n",
    "\n",
    "print(sorted(list(make_square(0,0,3))))"
   ]
  },
  {
   "cell_type": "code",
   "execution_count": 4,
   "metadata": {},
   "outputs": [],
   "source": [
    "def generateSquarePoints(i):\n",
    "    \"\"\" generate points for a square of any size \"\"\"\n",
    "    return [(i, 0), (i, i), (0, i), (0, 0)]"
   ]
  },
  {
   "cell_type": "code",
   "execution_count": 3,
   "metadata": {},
   "outputs": [
    {
     "data": {
      "text/plain": [
       "[(5, 0), (5, 5), (0, 5), (0, 0)]"
      ]
     },
     "execution_count": 3,
     "metadata": {},
     "output_type": "execute_result"
    }
   ],
   "source": [
    "generateSquarePoints(5)"
   ]
  },
  {
   "cell_type": "code",
   "execution_count": null,
   "metadata": {},
   "outputs": [],
   "source": []
  }
 ],
 "metadata": {
  "kernelspec": {
   "display_name": "Python 3 (ipykernel)",
   "language": "python",
   "name": "python3"
  },
  "language_info": {
   "codemirror_mode": {
    "name": "ipython",
    "version": 3
   },
   "file_extension": ".py",
   "mimetype": "text/x-python",
   "name": "python",
   "nbconvert_exporter": "python",
   "pygments_lexer": "ipython3",
   "version": "3.9.12"
  },
  "widgets": {
   "state": {},
   "version": "1.1.2"
  }
 },
 "nbformat": 4,
 "nbformat_minor": 4
}
