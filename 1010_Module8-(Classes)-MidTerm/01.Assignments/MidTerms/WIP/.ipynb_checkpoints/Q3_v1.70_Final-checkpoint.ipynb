{
 "cells": [
  {
   "cell_type": "markdown",
   "metadata": {},
   "source": [
    "### Midterm Exam Part 2: Programming (60 points)\n",
    "\n",
    "The midterm exam is designed to evaluate your grasp of Python theory as well as Python coding.\n",
    "\n",
    "This part of the exam consists of four programming questions. You have 48 hours to complete both parts (Part 1 and Part 2). Please insert each function into a file named **midterm.py** and upload to gradescope in Part 2. **The code version uploaded to Part 2 will be your official version for grading purposes.**\n",
    "\n",
    "Submit you code in a **midterm.py** file to this part within the 48 window. You can submit as many times as your like inside the window but if you submit over the window, we will take the last submitted entry before the window expired. The visible autograder tests check only that your code is producing the correctly formatted answer. That is, you will only see 20 of the 60 total points visible in the autograder when you submit - the remaining 40 of 60 points are not visible so please make sure your code meets all of the requirements stated in the problem.\n",
    "\n",
    "- **Do not put any additional code besides import statements and the function defs in the midterm.py file**\n",
    "- **Return** the answers instead of printing them in the function!\n",
    "- This is an individual open book exam.\n",
    "- You may use any libraries from the Python Standard Library for this exam: https://docs.python.org/3/library/\n",
    "- Follow best practices while coding!"
   ]
  },
  {
   "cell_type": "markdown",
   "metadata": {},
   "source": [
    "### Problem 3:  Birthday planning (15 pts)\n",
    "\n",
    "Suppose you record a list of birthdays for your classmates, recorded as month day tuples.  An example is given below."
   ]
  },
  {
   "cell_type": "code",
   "execution_count": 1,
   "metadata": {},
   "outputs": [],
   "source": [
    "# The 2nd to last tuple needs the int(2) in it so that it is uniquely stored in memory compared to (2,8)\n",
    "# Under the hood Python 3.7 changed how these are stored so (2,8) and (2,8) are stored in the same location\n",
    "# and then the algorithm below doesn't work\n",
    "\n",
    "dates = [(3,14),(2,8),(10,25),(5,17),(3,2),(7,25),(4,30),(8,7),(int(2),8),(1,22),(2, int(8))]"
   ]
  },
  {
   "cell_type": "markdown",
   "metadata": {},
   "source": [
    "You read about the famous birthday problem and you become interested in the number of pairs of classmates that share the same birthday. Below is an algorithm you write to do this. (Note: the ```is``` operator tests that two operands point to the same object)"
   ]
  },
  {
   "cell_type": "code",
   "execution_count": 2,
   "metadata": {},
   "outputs": [],
   "source": [
    "def birthday_original(dates_list):\n",
    "    count = 0\n",
    "\n",
    "    for person_a in dates_list:\n",
    "        for person_b in dates_list:\n",
    "            # Make sure we have different people        \n",
    "\n",
    "            if person_a is person_b:\n",
    "                continue\n",
    "\n",
    "            # Check both month and day\n",
    "            if person_a[0] == person_b[0] and person_a[1] == person_b[1]:\n",
    "                count += 1\n",
    "                \n",
    "    # We counted each pair twice (e.g. jane-bob and bob-jane) so divide by 2:          \n",
    "    return count//2"
   ]
  },
  {
   "cell_type": "code",
   "execution_count": 3,
   "metadata": {},
   "outputs": [
    {
     "data": {
      "text/plain": [
       "3"
      ]
     },
     "execution_count": 3,
     "metadata": {},
     "output_type": "execute_result"
    }
   ],
   "source": [
    "birthday_original(dates)"
   ]
  },
  {
   "cell_type": "markdown",
   "metadata": {},
   "source": [
    "You notice that your initial algorithm is inefficient in that it counts each pair twice. For example, it will increment count once when person_a is Jane and person_b is Bob, and again when person_a is Bob and person_b is Jane. Revise the algorithm so that it only looks at each pair once and has an average run-time of **ϴ**(n). Put that code in the function below - the function just needs to return the integer number of Total birthday pairs.\n",
    "\n",
    "**Note:** Your code needs to duplicate the functionality of the algorithm above. It is suggested that you make new `dates` lists and pass them to both functions to test that the results are the same!"
   ]
  },
  {
   "cell_type": "code",
   "execution_count": null,
   "metadata": {},
   "outputs": [],
   "source": [
    "dates = [(3,14),(2,8),(10,25),(5,17),(3,2),(7,25),(4,30),(8,7),(int(2),8),(1,22),(2, int(8))]\n",
    "\n",
    "def birthday_count(dates_list):\n",
    "    \"\"\"Returns the total number of birthday pairs in the dates_list\"\"\"\n",
    "    pass # delete this statement before entering your code!"
   ]
  },
  {
   "cell_type": "markdown",
   "metadata": {},
   "source": [
    "---"
   ]
  },
  {
   "cell_type": "markdown",
   "metadata": {},
   "source": [
    "---"
   ]
  },
  {
   "cell_type": "markdown",
   "metadata": {},
   "source": [
    "<font size = 6, color = gold> Working GOLD version"
   ]
  },
  {
   "cell_type": "markdown",
   "metadata": {},
   "source": [
    "<font size = 6, color = red> First Option - Get duplicates and run Combinations"
   ]
  },
  {
   "cell_type": "code",
   "execution_count": null,
   "metadata": {},
   "outputs": [
    {
     "name": "stdout",
     "output_type": "stream",
     "text": [
      "19\n"
     ]
    }
   ],
   "source": [
    "dates = [(3,14),(2,8),(2,8),(2,8), (2,8), (10,25),(5,17),(5,17), (5,17), (3,2),(3,2), (7,25),(4,30),(8,7),(int(2),8),(1,22),(2, int(8))]\n",
    "\n",
    "def birthday_count(dates_list):\n",
    "\n",
    "    ####### get count of duplicates ##### ##############\n",
    "    duplicates = [item for item in dates_list if dates_list.count(item) > 1]\n",
    "    \n",
    "    #print(duplicates)\n",
    "\n",
    "    my_dict = {i:duplicates.count(i) for i in duplicates}\n",
    "\n",
    "    ######## Generation combinations based on count ####################\n",
    "\n",
    "    counter = 0\n",
    "    for n in my_dict.values():\n",
    "        k = n-2\n",
    "        if 0 <= k <= n:    \n",
    "            ntok = 1\n",
    "            ktok = 1\n",
    "            for t in range(1, k + 1):\n",
    "                ntok *= n\n",
    "                ktok *= t\n",
    "                n -= 1\n",
    "        counter+=(ntok // ktok)\n",
    "    print(counter)\n",
    "    \n",
    "birthday_count(dates)"
   ]
  },
  {
   "cell_type": "code",
   "execution_count": 2,
   "metadata": {},
   "outputs": [
    {
     "name": "stdout",
     "output_type": "stream",
     "text": [
      "0.00021100000000018326\n"
     ]
    }
   ],
   "source": [
    "import time\n",
    "start = time.process_time()\n",
    "birthday_count(dates)\n",
    "print(time.process_time() - start)"
   ]
  },
  {
   "cell_type": "markdown",
   "metadata": {},
   "source": [
    "---"
   ]
  },
  {
   "cell_type": "markdown",
   "metadata": {},
   "source": [
    "<font size = 6, color = red> Second Option - repeating FOR loops"
   ]
  },
  {
   "cell_type": "code",
   "execution_count": 1,
   "metadata": {
    "tags": []
   },
   "outputs": [
    {
     "data": {
      "text/plain": [
       "19"
      ]
     },
     "execution_count": 1,
     "metadata": {},
     "output_type": "execute_result"
    }
   ],
   "source": [
    "#dates = [(3,14),(2,8),(10,25),(5,17),(3,2),(7,25),(4,30),(8,7),(int(2),8),(1,22),(2, int(8))]\n",
    "dates = [(3,14),(2,8),(2,8),(2,8), (2,8), (10,25),(5,17),(5,17), (5,17), (3,2),(3,2), (7,25),(4,30),(8,7),(int(2),8),(1,22),(2, int(8))]\n",
    "\n",
    "#dates = [(3,14),(2,8),(3,14), (10,25),(5,17),(5,17), (3,2),(7,25),(4,30),(8,7),(int(2),8),(1,22),(2, int(8))]\n",
    "\n",
    "def birthday_count(dates_list):\n",
    "    \"\"\"Returns the total number of birthday pairs in the dates_list\"\"\"\n",
    "    count = 0\n",
    "    length = len(dates_list)\n",
    "#    print('length of dates_list', len(dates_list))\n",
    "    for a in range(0, length - 1):\n",
    "#        print('outer loop A', a, dates_list[a])\n",
    "        for b in range(a + 1, length):\n",
    "#            print('inner loop B', b, dates_list[b])\n",
    "            # Check both month and day\n",
    "            #if dates_list[a][0] == dates_list[b][0] and dates_list[a][1] == dates_list[b][1]:\n",
    "#            print('current A', dates_list[a], 'current B',dates_list[b])\n",
    "            if dates_list[a] == dates_list[b]:\n",
    "#                print('Match!')\n",
    "#                print(dates_list[a])\n",
    "                count += 1\n",
    "                \n",
    "    # We counted each pair twice (e.g. jane-bob and bob-jane) so divide by 2:          \n",
    "    return count\n",
    "birthday_count(dates)"
   ]
  },
  {
   "cell_type": "code",
   "execution_count": 3,
   "metadata": {},
   "outputs": [
    {
     "name": "stdout",
     "output_type": "stream",
     "text": [
      "0.00010700000000007925\n"
     ]
    }
   ],
   "source": [
    "import time\n",
    "start = time.process_time()\n",
    "birthday_count(dates)\n",
    "print(time.process_time() - start)"
   ]
  },
  {
   "cell_type": "markdown",
   "metadata": {},
   "source": [
    "---"
   ]
  },
  {
   "cell_type": "code",
   "execution_count": null,
   "metadata": {},
   "outputs": [],
   "source": []
  }
 ],
 "metadata": {
  "kernelspec": {
   "display_name": "Python 3 (ipykernel)",
   "language": "python",
   "name": "python3"
  },
  "language_info": {
   "codemirror_mode": {
    "name": "ipython",
    "version": 3
   },
   "file_extension": ".py",
   "mimetype": "text/x-python",
   "name": "python",
   "nbconvert_exporter": "python",
   "pygments_lexer": "ipython3",
   "version": "3.9.12"
  },
  "widgets": {
   "state": {},
   "version": "1.1.2"
  }
 },
 "nbformat": 4,
 "nbformat_minor": 4
}
