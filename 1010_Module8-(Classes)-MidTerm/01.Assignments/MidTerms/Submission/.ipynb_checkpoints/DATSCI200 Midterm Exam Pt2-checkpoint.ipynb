{
 "cells": [
  {
   "cell_type": "markdown",
   "metadata": {},
   "source": [
    "## MIDTERM - W200 Introduction to Data Science Programming, UC Berkeley MIDS"
   ]
  },
  {
   "cell_type": "markdown",
   "metadata": {},
   "source": [
    "### Midterm Exam Part 2: Programming (60 points)\n",
    "\n",
    "The midterm exam is designed to evaluate your grasp of Python theory as well as Python coding.\n",
    "\n",
    "This part of the exam consists of four programming questions. You have 48 hours to complete both parts (Part 1 and Part 2). Please insert each function into a file named **midterm.py** and upload to gradescope in Part 2. **The code version uploaded to Part 2 will be your official version for grading purposes.**\n",
    "\n",
    "Submit you code in a **midterm.py** file to this part within the 48 window. You can submit as many times as your like inside the window but if you submit over the window, we will take the last submitted entry before the window expired. The visible autograder tests check only that your code is producing the correctly formatted answer. That is, you will only see 20 of the 60 total points visible in the autograder when you submit - the remaining 40 of 60 points are not visible so please make sure your code meets all of the requirements stated in the problem.\n",
    "\n",
    "- **Do not put any additional code besides import statements and the function defs in the midterm.py file**\n",
    "- **Return** the answers instead of printing them in the function!\n",
    "- This is an individual open book exam.\n",
    "- You may use any libraries from the Python Standard Library for this exam: https://docs.python.org/3/library/\n",
    "- Follow best practices while coding!"
   ]
  },
  {
   "cell_type": "markdown",
   "metadata": {},
   "source": [
    "### Problem 1: Tweet Analysis (15 pts)\n",
    "\n",
    "A tweet is a string that is between 1 and 280 characters long (inclusive). A username is a string of letters and/or digits that is between 1 and 14 characters long (inclusive). A username is mentioned in a tweet by including @username in the tweet (notice the username does not include the `@` symbol). A retweet is way to share another user's tweet, and can be identified by the string RT, followed by the original username who tweeted it.\n",
    "\n",
    "Your job is to fill in the function *count_retweets_by_username* so that it **returns** a frequency dictionary that indicates how many times each retweeted username was retweeted."
   ]
  },
  {
   "cell_type": "code",
   "execution_count": 1,
   "metadata": {},
   "outputs": [],
   "source": [
    "tweets = [\"This is great! RT @fakeuser: Can you believe this?\",\n",
    "         \"It's the refs! RT @dubsfan: Boo the refs and stuff wargarbal\",\n",
    "         \"That's right RT @ladodgers: The dodgers are destined to win the west!\",\n",
    "         \"RT @sportball: That sporting event was not cool\",\n",
    "         \"This is just a tweet about things @person, how could you\",\n",
    "         \"RT @ladodgers: The season is looking great!\",\n",
    "         \"RT @dubsfan: I can't believe it!\",\n",
    "         \"I can't believe it either! RT @dubsfan: I can't believe it\"]"
   ]
  },
  {
   "cell_type": "code",
   "execution_count": 2,
   "metadata": {},
   "outputs": [],
   "source": [
    "def count_retweets_by_username(tweet_list):\n",
    "    \"\"\" (list of tweets) -> dict of {username: int}\n",
    "    Returns a dictionary in which each key is a username that was \n",
    "    retweeted in tweet_list and each value is the total number of times this \n",
    "    username was retweeted.\n",
    "    \"\"\"\n",
    "    \n",
    "    # write code here and update return statement with your dictionary\n",
    "\n",
    "    import re\n",
    "    text = ''.join(tweets)\n",
    "\n",
    "    # define the matching string with regex ('RT @')\n",
    "    p1 = re.compile(r\"RT @(.+?)([ \\.]|$)\")\n",
    "    found_patterns = re.findall(p1,text)\n",
    "\n",
    "    # construct a list of strings with just substring after 'RT @''\n",
    "    sentence_list = [elt[0] for elt in found_patterns]\n",
    "\n",
    "    # strip the : from the list\n",
    "    sentence_list2 = [i.strip(': ') for i in  sentence_list]\n",
    "\n",
    "\n",
    "    sentence_dictionary = {}\n",
    "\n",
    "    for item in sentence_list2:\n",
    "        if item in sentence_dictionary:\n",
    "            sentence_dictionary[item] += 1\n",
    "\n",
    "        else:\n",
    "            sentence_dictionary[item] = 1\n",
    "    return sentence_dictionary"
   ]
  },
  {
   "cell_type": "code",
   "execution_count": 3,
   "metadata": {},
   "outputs": [
    {
     "name": "stdout",
     "output_type": "stream",
     "text": [
      "{'fakeuser': 1, 'dubsfan': 3, 'ladodgers': 2, 'sportball': 1}\n"
     ]
    }
   ],
   "source": [
    "# allow this code to work by implementing count_retweets_by_username function above\n",
    "print(count_retweets_by_username(tweets))"
   ]
  },
  {
   "cell_type": "markdown",
   "metadata": {},
   "source": [
    "### Problem 2: Looking for Minerals (30 pts)\n",
    "\n",
    "A mining company conducts a survey of an n-by-n square grid of land.  Each row of land is numbered from 0 to n-1 where 0 is the top and n-1 is the bottom, and each column is also numbered from 0 to n-1 where 0 is the left and n-1 is the right.  The company wishes to record which squares of this grid contain mineral deposits.\n",
    "\n",
    "The company decides to use a list of tuples to store the location of each deposit.  The first item in each tuple is the row of the deposit.  The second item is the column.  The third item is a non-negative number representing the size of the deposit, in tons.  For example, the following code defines a sample representation of a set of deposits in an 8-by-8 grid."
   ]
  },
  {
   "cell_type": "code",
   "execution_count": 4,
   "metadata": {},
   "outputs": [],
   "source": [
    "deposits = [(0, 4, .3), (6, 2, 3), (3, 7, 2.2), (5, 5, .5), (3, 5, .8), (7, 7, .3)]"
   ]
  },
  {
   "cell_type": "markdown",
   "metadata": {},
   "source": [
    "**2a) (15 points)** Given a list of deposits like the one above, write a function to create a string representation for a rectangular sub-region of the land.  Your function should take a list of deposits, then a set of parameters denoting the top, bottom, left, and right edges of the sub-grid.  It should **return** (do not print in the function) a multi-line string in which grid squares without deposits are represented by \"-\" and grid squares with a deposit are represented by \"X\"."
   ]
  },
  {
   "cell_type": "code",
   "execution_count": 5,
   "metadata": {},
   "outputs": [],
   "source": [
    "def display(deposits, top, bottom, left, right):\n",
    "    \"\"\"display a subgrid of the land, with rows starting at top and up to \n",
    "    but not including bottom, and columns starting at left and up to but\n",
    "    not including right.\"\"\"\n",
    "    \n",
    "    # calculate the height and width of the chosen rectangle section\n",
    "    # based on the difference of top, bottom -- left , right\n",
    "    \n",
    "    height = bottom - top\n",
    "    width = right - left\n",
    "    \n",
    "    #--------Generate list---------------\n",
    "    \n",
    "    # this is the step where we generate a list of lists (i.e creating the grid as a mutable list)\n",
    "    \n",
    "    steps = 0\n",
    "    nested_list = []\n",
    "    for i in range(height):\n",
    "        steps = 0\n",
    "        for j in range(width):\n",
    "            steps += 1\n",
    "        nested_list += [['-'] * width]\n",
    "#    print(nested_list)\n",
    "    #return grid\n",
    "    \n",
    "    \n",
    "    #-------Determine eligiblity of the deposit grid ---------------\n",
    "    \n",
    "    eligible_deposits = []\n",
    "    for row, column, deposit in deposits:\n",
    "        #eligible_deposits = []\n",
    "#        if top <= row and row < bottom and left <= column and column < right:\n",
    "        if top <= row < bottom and left <= column < right:\n",
    "        \n",
    "            \n",
    "            eligible_deposits += [(row, column, deposit)]\n",
    "\n",
    "    \n",
    "    #--------Revise nested_list with deposit info --------------\n",
    "    \n",
    "    # update the nested list with data from the list of tuples (eligible_deposits)\n",
    "    \n",
    "    for row, column, deposit in eligible_deposits:\n",
    "        nested_list[row - top][column - left] = 'X'\n",
    "        \n",
    "#    final_grid = ''\n",
    "    ans = '\\n'.join(''.join(str(i) for i in x) for x in nested_list)\n",
    "    \n",
    "    return ans\n",
    "#print(display(deposits, 0, 8, 0, 8))"
   ]
  },
  {
   "cell_type": "markdown",
   "metadata": {},
   "source": [
    "For example, your function should replicate the following behavior for the example grid:\n",
    "```\n",
    "print(display(deposits, 0, 8, 0, 8))\n",
    "----X---\n",
    "--------\n",
    "--------\n",
    "-----X-X\n",
    "--------\n",
    "-----X--\n",
    "--X-----\n",
    "-------X\n",
    "\n",
    "print(display(deposits, 5, 8, 5, 8))\n",
    "X--\n",
    "---\n",
    "--X\n",
    "\n",
    "```\n"
   ]
  },
  {
   "cell_type": "markdown",
   "metadata": {},
   "source": [
    "**2b (15 points)** Next, complete the following function to compute the total number of tons (as a float) in a rectangular sub-region of the grid."
   ]
  },
  {
   "cell_type": "code",
   "execution_count": 8,
   "metadata": {},
   "outputs": [
    {
     "name": "stdout",
     "output_type": "stream",
     "text": [
      "7.1\n"
     ]
    }
   ],
   "source": [
    "def tons_inside(deposits, top, bottom, left, right):\n",
    "    \"\"\"Returns the total number of tons of deposits for which the row is at least top,\n",
    "    but strictly less than bottom, and the column is at least left, but strictly\n",
    "    less than right.\"\"\"\n",
    "    # Do not alter the function header.  \n",
    "    # Just fill in the code so it returns the correct number of tons.\n",
    "    \n",
    "    # Do not alter the function header.  \n",
    "    # Just fill in the code so it returns the correct number of tons.\n",
    "    \n",
    "    # earlier, track the height and width as a separate variable\n",
    "    \n",
    "    height = bottom - top\n",
    "    width = right - left\n",
    "    \n",
    "    # set total tonnage to 0 (to begin with)\n",
    "    ans = 0\n",
    "    \n",
    "    \n",
    "    #-------Determine eligiblity of the deposit grid ---------------\n",
    "    \n",
    "    eligible_deposits = []\n",
    "    for row, column, deposit in deposits:\n",
    "        #eligible_deposits = []\n",
    "#        if top <= row and row < bottom and left <= column and column < right:\n",
    "        if top <= row < bottom and left <= column < right:\n",
    "            eligible_deposits += [(row, column, deposit)]\n",
    "    \n",
    "     #-------Determine tonnage by summing up eligible depsosits ---------------\n",
    "    \n",
    "    for row, column, deposit in eligible_deposits:\n",
    "        ans += deposit # total_tonnage\n",
    "    \n",
    "    # return total tonnage\n",
    "    return ans # total_tonnage\n",
    "\n",
    "#print(tons_inside(deposits, 0, 8, 0, 8))    "
   ]
  },
  {
   "cell_type": "markdown",
   "metadata": {},
   "source": [
    "### Problem 3:  Birthday planning (15 pts)\n",
    "\n",
    "Suppose you record a list of birthdays for your classmates, recorded as month day tuples.  An example is given below."
   ]
  },
  {
   "cell_type": "code",
   "execution_count": 9,
   "metadata": {},
   "outputs": [],
   "source": [
    "# The 2nd to last tuple needs the int(2) in it so that it is uniquely stored in memory compared to (2,8)\n",
    "# Under the hood Python 3.7 changed how these are stored so (2,8) and (2,8) are stored in the same location\n",
    "# and then the algorithm below doesn't work\n",
    "\n",
    "dates = [(3,14),(2,8),(10,25),(5,17),(3,2),(7,25),(4,30),(8,7),(int(2),8),(1,22),(2, int(8))]"
   ]
  },
  {
   "cell_type": "markdown",
   "metadata": {},
   "source": [
    "You read about the famous birthday problem and you become interested in the number of pairs of classmates that share the same birthday. Below is an algorithm you write to do this. (Note: the ```is``` operator tests that two operands point to the same object)"
   ]
  },
  {
   "cell_type": "code",
   "execution_count": 3,
   "metadata": {},
   "outputs": [],
   "source": [
    "def birthday_original(dates_list):\n",
    "    count = 0\n",
    "\n",
    "    for person_a in dates_list:\n",
    "        for person_b in dates_list:\n",
    "            # Make sure we have different people        \n",
    "\n",
    "            if person_a is person_b:\n",
    "                continue\n",
    "\n",
    "            # Check both month and day\n",
    "            if person_a[0] == person_b[0] and person_a[1] == person_b[1]:\n",
    "                count += 1\n",
    "                \n",
    "    # We counted each pair twice (e.g. jane-bob and bob-jane) so divide by 2:          \n",
    "    return count//2"
   ]
  },
  {
   "cell_type": "code",
   "execution_count": 4,
   "metadata": {},
   "outputs": [
    {
     "data": {
      "text/plain": [
       "3"
      ]
     },
     "execution_count": 4,
     "metadata": {},
     "output_type": "execute_result"
    }
   ],
   "source": [
    "birthday_original(dates)"
   ]
  },
  {
   "cell_type": "markdown",
   "metadata": {},
   "source": [
    "You notice that your initial algorithm is inefficient in that it counts each pair twice. For example, it will increment count once when person_a is Jane and person_b is Bob, and again when person_a is Bob and person_b is Jane. Revise the algorithm so that it only looks at each pair once and has an average run-time of **ϴ**(n). Put that code in the function below - the function just needs to return the integer number of Total birthday pairs.\n",
    "\n",
    "**Note:** Your code needs to duplicate the functionality of the algorithm above. It is suggested that you make new `dates` lists and pass them to both functions to test that the results are the same!"
   ]
  },
  {
   "cell_type": "code",
   "execution_count": 12,
   "metadata": {},
   "outputs": [
    {
     "data": {
      "text/plain": [
       "3"
      ]
     },
     "execution_count": 12,
     "metadata": {},
     "output_type": "execute_result"
    }
   ],
   "source": [
    "def birthday_count(dates_list):\n",
    "    \"\"\"Returns the total number of birthday pairs in the dates_list\"\"\"\n",
    "    count = 0\n",
    "    length = len(dates_list)\n",
    "#    print('length of dates_list', len(dates_list))\n",
    "    for a in range(0, length - 1):\n",
    "#        print('outer loop A', a, dates_list[a])\n",
    "        for b in range(a + 1, length):\n",
    "#            print('inner loop B', b, dates_list[b])\n",
    "            # Check both month and day\n",
    "            #if dates_list[a][0] == dates_list[b][0] and dates_list[a][1] == dates_list[b][1]:\n",
    "#            print('current A', dates_list[a], 'current B',dates_list[b])\n",
    "            if dates_list[a] == dates_list[b]:\n",
    "#                print('Match!')\n",
    "#                print(dates_list[a])\n",
    "                count += 1\n",
    "                \n",
    "    # We counted each pair twice (e.g. jane-bob and bob-jane) so divide by 2:          \n",
    "    return count\n",
    "#birthday_count(dates)\n",
    "\n",
    "\n",
    "############### I would much rather prefer the second solution (though it takes twice the time) #####\n",
    "############### But I know, there are no marks for creativity ########################\n",
    "\n",
    "# def birthday_count(dates_list):\n",
    "\n",
    "#     ####### get count of duplicates ##### ##############\n",
    "#     duplicates = [item for item in dates_list if dates_list.count(item) > 1]\n",
    "    \n",
    "#     #print(duplicates)\n",
    "\n",
    "#     my_dict = {i:duplicates.count(i) for i in duplicates}\n",
    "\n",
    "#     ######## Generation combinations based on count ####################\n",
    "\n",
    "#     counter = 0\n",
    "#     for n in my_dict.values():\n",
    "#         k = n-2\n",
    "#         if 0 <= k <= n:    \n",
    "#             ntok = 1\n",
    "#             ktok = 1\n",
    "#             for t in range(1, k + 1):\n",
    "#                 ntok *= n\n",
    "#                 ktok *= t\n",
    "#                 n -= 1\n",
    "#         counter+=(ntok // ktok)\n",
    "#     print(counter)"
   ]
  },
  {
   "cell_type": "markdown",
   "metadata": {},
   "source": [
    "### Reminder:\n",
    "\n",
    "Copy / paste all of your functions (and only the functions - no other statements outside the functions besides imports) into a file named **midterm.py** and upload that to gradescope!"
   ]
  }
 ],
 "metadata": {
  "kernelspec": {
   "display_name": "Python 3 (ipykernel)",
   "language": "python",
   "name": "python3"
  },
  "language_info": {
   "codemirror_mode": {
    "name": "ipython",
    "version": 3
   },
   "file_extension": ".py",
   "mimetype": "text/x-python",
   "name": "python",
   "nbconvert_exporter": "python",
   "pygments_lexer": "ipython3",
   "version": "3.9.12"
  },
  "widgets": {
   "state": {},
   "version": "1.1.2"
  }
 },
 "nbformat": 4,
 "nbformat_minor": 4
}
