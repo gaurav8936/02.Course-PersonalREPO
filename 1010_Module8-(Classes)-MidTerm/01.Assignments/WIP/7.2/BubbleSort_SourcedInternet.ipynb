{
 "cells": [
  {
   "cell_type": "markdown",
   "id": "974450e7-c6ab-4d2b-be11-36ab5d557563",
   "metadata": {},
   "source": [
    "# Bubble Sort - Sourced from Internet"
   ]
  },
  {
   "cell_type": "code",
   "execution_count": 1,
   "id": "3dc391f7-8616-440a-bbc6-defd00e29704",
   "metadata": {},
   "outputs": [],
   "source": [
    "def bubblesort(elements):\n",
    "    swapped = False\n",
    "    # Looping from size of array from last index[-1] to index [0]\n",
    "    for n in range(len(elements)-1, 0, -1):\n",
    "        for i in range(n):\n",
    "            if elements[i] > elements[i + 1]:\n",
    "                swapped = True\n",
    "                # swapping data if the element is less than next element in the array\n",
    "                elements[i], elements[i + 1] = elements[i + 1], elements[i]       \n",
    "        if not swapped:\n",
    "            # exiting the function if we didn't make a single swap\n",
    "            # meaning that the array is already sorted.\n",
    "            return"
   ]
  },
  {
   "cell_type": "code",
   "execution_count": 2,
   "id": "7d40e166-eff6-471f-9078-a493683d038d",
   "metadata": {},
   "outputs": [],
   "source": [
    "elements = [39, 12, 18, 85, 72, 10, 2, 18]"
   ]
  },
  {
   "cell_type": "code",
   "execution_count": 3,
   "id": "cb986b6e-08ce-4e2e-ba0b-d96137fc5d20",
   "metadata": {},
   "outputs": [
    {
     "name": "stdout",
     "output_type": "stream",
     "text": [
      "Unsorted list is,\n",
      "[39, 12, 18, 85, 72, 10, 2, 18]\n",
      "Sorted Array is, \n",
      "[2, 10, 12, 18, 18, 39, 72, 85]\n"
     ]
    }
   ],
   "source": [
    "print(\"Unsorted list is,\")\n",
    "print(elements)\n",
    "bubblesort(elements)\n",
    "print(\"Sorted Array is, \")\n",
    "print(elements)"
   ]
  },
  {
   "cell_type": "code",
   "execution_count": 4,
   "id": "74032797-3cae-4804-9aa4-be844fa62ac7",
   "metadata": {},
   "outputs": [
    {
     "name": "stdout",
     "output_type": "stream",
     "text": [
      "Unsorted list is,\n",
      "[2, 10, 12, 18, 18, 39, 72, 85]\n"
     ]
    },
    {
     "ename": "TypeError",
     "evalue": "bubblesort() takes 1 positional argument but 4 were given",
     "output_type": "error",
     "traceback": [
      "\u001b[0;31m---------------------------------------------------------------------------\u001b[0m",
      "\u001b[0;31mTypeError\u001b[0m                                 Traceback (most recent call last)",
      "Input \u001b[0;32mIn [4]\u001b[0m, in \u001b[0;36m<cell line: 3>\u001b[0;34m()\u001b[0m\n\u001b[1;32m      1\u001b[0m \u001b[38;5;28mprint\u001b[39m(\u001b[38;5;124m\"\u001b[39m\u001b[38;5;124mUnsorted list is,\u001b[39m\u001b[38;5;124m\"\u001b[39m)\n\u001b[1;32m      2\u001b[0m \u001b[38;5;28mprint\u001b[39m(elements)\n\u001b[0;32m----> 3\u001b[0m \u001b[43mbubblesort\u001b[49m\u001b[43m(\u001b[49m\u001b[38;5;241;43m3\u001b[39;49m\u001b[43m,\u001b[49m\u001b[38;5;241;43m0\u001b[39;49m\u001b[43m,\u001b[49m\u001b[38;5;241;43m1\u001b[39;49m\u001b[43m,\u001b[49m\u001b[38;5;241;43m2\u001b[39;49m\u001b[43m)\u001b[49m\n\u001b[1;32m      4\u001b[0m \u001b[38;5;28mprint\u001b[39m(\u001b[38;5;124m\"\u001b[39m\u001b[38;5;124mSorted Array is, \u001b[39m\u001b[38;5;124m\"\u001b[39m)\n\u001b[1;32m      5\u001b[0m \u001b[38;5;28mprint\u001b[39m(elements)\n",
      "\u001b[0;31mTypeError\u001b[0m: bubblesort() takes 1 positional argument but 4 were given"
     ]
    }
   ],
   "source": [
    "print(\"Unsorted list is,\")\n",
    "print(elements)\n",
    "bubblesort(3,0,1,2)\n",
    "print(\"Sorted Array is, \")\n",
    "print(elements)"
   ]
  },
  {
   "cell_type": "markdown",
   "id": "b240d087-afe1-4693-994d-36b1f2961ddf",
   "metadata": {},
   "source": [
    "---"
   ]
  },
  {
   "cell_type": "markdown",
   "id": "eb394bc6-bc8b-48fa-972e-90a4c63f0905",
   "metadata": {},
   "source": [
    "---"
   ]
  },
  {
   "cell_type": "code",
   "execution_count": 11,
   "id": "96f07479-251c-4276-8c51-86d88467750b",
   "metadata": {},
   "outputs": [],
   "source": [
    "def bubble_sort(array):\n",
    "    n = len(array)\n",
    "\n",
    "    # first loop to iterate through the array from 0th element\n",
    "    for i in range(n):\n",
    "        # flag to terminate the process if there is nothing left to sort\n",
    "        already_sorted = True\n",
    "        print('loop 0 this is i - outer', i)\n",
    "        # Second loop to check the adjacent element\n",
    "        for j in range(n - i - 1):\n",
    "            \n",
    "            print('loop 1 this is - outer j', j)\n",
    "            if array[j] > array[j + 1]:\n",
    "                # swap the elements\n",
    "                print('loop 2 this is - inner j', j)\n",
    "                print('loop2 this is - inner j+1', j+1)\n",
    "                array[j], array[j + 1] = array[j + 1], array[j]\n",
    "                already_sorted = False\n",
    "\n",
    "        if already_sorted:\n",
    "            break\n",
    "    return array\n",
    "\n"
   ]
  },
  {
   "cell_type": "code",
   "execution_count": 12,
   "id": "a035a150-e32d-45c0-b11f-93295ac107d9",
   "metadata": {},
   "outputs": [
    {
     "name": "stdout",
     "output_type": "stream",
     "text": [
      "loop 0 this is i - outer 0\n",
      "loop 1 this is - outer j 0\n",
      "loop 2 this is - inner j 0\n",
      "loop2 this is - inner j+1 1\n",
      "loop 1 this is - outer j 1\n",
      "loop 2 this is - inner j 1\n",
      "loop2 this is - inner j+1 2\n",
      "loop 1 this is - outer j 2\n",
      "loop 2 this is - inner j 2\n",
      "loop2 this is - inner j+1 3\n",
      "loop 1 this is - outer j 3\n",
      "loop 2 this is - inner j 3\n",
      "loop2 this is - inner j+1 4\n",
      "loop 0 this is i - outer 1\n",
      "loop 1 this is - outer j 0\n",
      "loop 1 this is - outer j 1\n",
      "loop 2 this is - inner j 1\n",
      "loop2 this is - inner j+1 2\n",
      "loop 1 this is - outer j 2\n",
      "loop 2 this is - inner j 2\n",
      "loop2 this is - inner j+1 3\n",
      "loop 0 this is i - outer 2\n",
      "loop 1 this is - outer j 0\n",
      "loop 1 this is - outer j 1\n",
      "loop 2 this is - inner j 1\n",
      "loop2 this is - inner j+1 2\n",
      "loop 0 this is i - outer 3\n",
      "loop 1 this is - outer j 0\n",
      "loop 2 this is - inner j 0\n",
      "loop2 this is - inner j+1 1\n",
      "loop 0 this is i - outer 4\n",
      "[1, 4, 39, 87, 123]\n"
     ]
    }
   ],
   "source": [
    "#call the function\n",
    "array = [123,4,87,39,1]\n",
    "sortedArray = bubble_sort(array)\n",
    "print(sortedArray)\n"
   ]
  },
  {
   "cell_type": "code",
   "execution_count": null,
   "id": "689c1f2c-983b-4978-a24d-361d2354eea3",
   "metadata": {},
   "outputs": [],
   "source": []
  }
 ],
 "metadata": {
  "kernelspec": {
   "display_name": "Python 3 (ipykernel)",
   "language": "python",
   "name": "python3"
  },
  "language_info": {
   "codemirror_mode": {
    "name": "ipython",
    "version": 3
   },
   "file_extension": ".py",
   "mimetype": "text/x-python",
   "name": "python",
   "nbconvert_exporter": "python",
   "pygments_lexer": "ipython3",
   "version": "3.9.12"
  }
 },
 "nbformat": 4,
 "nbformat_minor": 5
}
