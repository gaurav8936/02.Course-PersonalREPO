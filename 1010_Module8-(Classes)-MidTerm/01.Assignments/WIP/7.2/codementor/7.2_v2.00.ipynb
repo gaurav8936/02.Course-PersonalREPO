{
 "cells": [
  {
   "cell_type": "markdown",
   "id": "817e3403",
   "metadata": {},
   "source": [
    "---"
   ]
  },
  {
   "cell_type": "markdown",
   "id": "2b94ec46",
   "metadata": {},
   "source": [
    "In a particular board game, there is exactly one row and it comprises N spaces, numbered 0 through N - 1 from left to right. There are also N marbles, numbered 0 through N - 1, initially placed in some arbitrary order. After that, there are two moves available that only can be done one at a time:\n",
    "\n",
    "- Switch: Switch the marbles in positions 0 and 1.\n",
    "- Rotate: Move the marble in position 0 to position N - 1, and move all other marbles one space to the left (one index lower).\n",
    "\n",
    "The objective is to arrange the marbles in order, with each marble i in position i.\n",
    "\n",
    "1\\. Write a class, **MarblesBoard**, to represent the game above. (25 points) \n",
    "- Write an `__init__` function that takes a starting sequence of marbles (the number of each marble listed in the positions from 0 to N - 1). (Notice in the sequence all the marbles are different numbers and are sequential numbered but not in order!)\n",
    "- Next, write `switch()` and `rotate()` methods to simulate the player's moves as described above. \n",
    "- Write a method, `is_solved()`, that returns True if the marbles are in the correct order or False otherwise.\n",
    "- Additionally, write `__str__` and `__repr__` methods to display the current state of the board. \n",
    "\n",
    "Your class should behave like the following example:\n",
    "```\n",
    ">>> board = MarblesBoard((3,6,7,4,1,0,8,2,5)) \n",
    ">>> board \n",
    "3 6 7 4 1 0 8 2 5 \n",
    ">>> board.switch() \n",
    ">>> board \n",
    "6 3 7 4 1 0 8 2 5 \n",
    ">>> board.rotate() \n",
    ">>> board \n",
    "3 7 4 1 0 8 2 5 6 \n",
    ">>> board.switch() \n",
    ">>> board \n",
    "7 3 4 1 0 8 2 5 6\n",
    "```"
   ]
  },
  {
   "cell_type": "markdown",
   "id": "aff1701c",
   "metadata": {},
   "source": [
    "2\\. Write a second class, **Solver**, that actually plays the MarblesGame. (25 points)\n",
    "- Write an `__init__` method that takes a MarblesBoard class in its initializer and stores it in an attribute: `board`. \n",
    "- Write a `solve()` method:\n",
    "  - Which repeatedly calls the switch() or the rotate() method of the given MarblesBoard until the game is solved. \n",
    "  - Before the first switch or rotate, make a **list** of **tuples** with the starting tuple of `('start', <board starting state>)`\n",
    "  - After each step ('switch' or 'rotate'), append to the  above **list** a tuple of: \n",
    "    - What step ('switch' or 'rotate') was performed. Remember, you can only do one switch or one rotate per step!\n",
    "    - The state of the board \n",
    "  - Return the above list as output to this method.\n",
    "  - You are to come up with your own algorithm for solving the marbles game. Before you write your solve() method, you may want to practice solving some small versions of the marbles game yourself.\n",
    "  - Your Solver should strive to make the algorithm reasonably efficient and strive to be the fastest runtime. (10 points are awarded based on algorithm efficiency)\n",
    "\n",
    "Below is an example:\n",
    "```\n",
    ">>> board2 = MarblesBoard((1,3,0,2))\n",
    ">>> solver = Solver(board2)\n",
    ">>> solver.solve()\n",
    "[('start', 1 3 0 2),\n",
    " ('rotate', 3 0 2 1),\n",
    " ('rotate', 0 2 1 3),\n",
    " ('rotate', 2 1 3 0),\n",
    " ('switch', 1 2 3 0),\n",
    " ('rotate', 2 3 0 1),\n",
    " ('rotate', 3 0 1 2),\n",
    " ('rotate', 0 1 2 3)]\n",
    "```\n",
    "\n",
    "You may be interested to know that your program is a variation of a well-known sorting algorithm called bubble sort. Bubble sort would normally be used on a list of items, not on a rotating track, but adapting your algorithm to this setting could be straight-forward."
   ]
  },
  {
   "cell_type": "markdown",
   "id": "fecf9fbe",
   "metadata": {},
   "source": [
    "---"
   ]
  },
  {
   "cell_type": "markdown",
   "id": "aa1f89bc",
   "metadata": {},
   "source": [
    "<font size = 6, color = red>Current Working Model (Gold)"
   ]
  },
  {
   "cell_type": "code",
   "execution_count": 8,
   "id": "c068f649",
   "metadata": {},
   "outputs": [],
   "source": [
    "class MarblesBoard:\n",
    "    \"\"\"creates a marble board with number marbles in specific spots\"\"\"\n",
    "    def __init__(self, marbles):\n",
    "        self.marbles = list(marbles)\n",
    "\n",
    "    def __str__(self):\n",
    "        return \" \".join(map(str, self.marbles))\n",
    "\n",
    "    def __repr__(self):\n",
    "        return \"%r \" % (self.marbles)\n",
    "\n",
    "    def switch(self):\n",
    "        \"\"\"switch the marbles in position 0 and 1\"\"\"\n",
    "        self.marbles[0], self.marbles[1] = self.marbles[1], self.marbles[0]\n",
    "\n",
    "    def rotate(self):\n",
    "#         \"\"\"\n",
    "#         Rotates item in position o to position N-1. All remaning items are moved as a result (1 step to the left)\n",
    "#         \"\"\"\n",
    "        self.marbles = self.marbles[1:] + [self.marbles[0]]\n",
    "    \n",
    "    def is_solved(self):\n",
    "        return self.marbles == sorted(self.marbles)\n",
    "\n",
    "class Solver:\n",
    "    \"\"\"solves the marble sorting game when given a marble board as input\"\"\"\n",
    "\n",
    "    def __init__(self, board):\n",
    "        self.board = board\n",
    "        \n",
    "    def solve(self):\n",
    "        steps = 0\n",
    "        result = [('start', str(self.board))]\n",
    "\n",
    "        minb = min(self.board.marbles)\n",
    "        maxb = max(self.board.marbles)\n",
    "        while not self.board.is_solved():\n",
    "            if self.board.marbles[0] == maxb and self.board.marbles[1] == minb:\n",
    "                self.board.rotate()\n",
    "                result.append(('rotate', str(self.board)))\n",
    "            elif self.board.marbles[0] < self.board.marbles[1]:\n",
    "                self.board.rotate()\n",
    "                result.append(('rotate', str(self.board)))\n",
    "            else:\n",
    "                self.board.switch()\n",
    "                result.append(('switch', str(self.board)))\n",
    "            \n",
    "            steps += 1\n",
    "        return result"
   ]
  },
  {
   "cell_type": "code",
   "execution_count": 11,
   "id": "63eadfe4-1fb5-46a1-8933-88e493dc6da2",
   "metadata": {},
   "outputs": [
    {
     "data": {
      "text/plain": [
       "[('start', '1 3 2 0 4'),\n",
       " ('rotate', '3 2 0 4 1'),\n",
       " ('switch', '2 3 0 4 1'),\n",
       " ('rotate', '3 0 4 1 2'),\n",
       " ('switch', '0 3 4 1 2'),\n",
       " ('rotate', '3 4 1 2 0'),\n",
       " ('rotate', '4 1 2 0 3'),\n",
       " ('switch', '1 4 2 0 3'),\n",
       " ('rotate', '4 2 0 3 1'),\n",
       " ('switch', '2 4 0 3 1'),\n",
       " ('rotate', '4 0 3 1 2'),\n",
       " ('rotate', '0 3 1 2 4'),\n",
       " ('rotate', '3 1 2 4 0'),\n",
       " ('switch', '1 3 2 4 0'),\n",
       " ('rotate', '3 2 4 0 1'),\n",
       " ('switch', '2 3 4 0 1'),\n",
       " ('rotate', '3 4 0 1 2'),\n",
       " ('rotate', '4 0 1 2 3'),\n",
       " ('rotate', '0 1 2 3 4')]"
      ]
     },
     "execution_count": 11,
     "metadata": {},
     "output_type": "execute_result"
    }
   ],
   "source": [
    "board2 = MarblesBoard((1,3,2,0, 4))\n",
    "solver2 = Solver(board2)\n",
    "solver2.solve()"
   ]
  },
  {
   "cell_type": "code",
   "execution_count": 2,
   "id": "962eb78d",
   "metadata": {},
   "outputs": [
    {
     "data": {
      "text/plain": [
       "[3, 6, 7, 4, 1, 0, 8, 2, 5] "
      ]
     },
     "execution_count": 2,
     "metadata": {},
     "output_type": "execute_result"
    }
   ],
   "source": [
    "board = MarblesBoard((3,6,7,4,1,0,8,2,5)) \n",
    ">>> board "
   ]
  },
  {
   "cell_type": "code",
   "execution_count": 3,
   "id": "bfbc77cd",
   "metadata": {},
   "outputs": [
    {
     "data": {
      "text/plain": [
       "[6, 3, 7, 4, 1, 0, 8, 2, 5] "
      ]
     },
     "execution_count": 3,
     "metadata": {},
     "output_type": "execute_result"
    }
   ],
   "source": [
    ">>> board.switch() \n",
    ">>> board "
   ]
  },
  {
   "cell_type": "code",
   "execution_count": 4,
   "id": "82c3dafb",
   "metadata": {},
   "outputs": [
    {
     "data": {
      "text/plain": [
       "[3, 7, 4, 1, 0, 8, 2, 5, 6] "
      ]
     },
     "execution_count": 4,
     "metadata": {},
     "output_type": "execute_result"
    }
   ],
   "source": [
    ">>> board.rotate() \n",
    ">>> board"
   ]
  },
  {
   "cell_type": "code",
   "execution_count": 5,
   "id": "6686c073",
   "metadata": {},
   "outputs": [
    {
     "data": {
      "text/plain": [
       "[7, 3, 4, 1, 0, 8, 2, 5, 6] "
      ]
     },
     "execution_count": 5,
     "metadata": {},
     "output_type": "execute_result"
    }
   ],
   "source": [
    ">>> board.switch() \n",
    ">>> board "
   ]
  },
  {
   "cell_type": "code",
   "execution_count": 6,
   "id": "35a4acdc",
   "metadata": {},
   "outputs": [
    {
     "data": {
      "text/plain": [
       "[('start', '1 3 0 2'),\n",
       " ('rotate', '3 0 2 1'),\n",
       " ('rotate', '0 2 1 3'),\n",
       " ('rotate', '2 1 3 0'),\n",
       " ('switch', '1 2 3 0'),\n",
       " ('rotate', '2 3 0 1'),\n",
       " ('rotate', '3 0 1 2'),\n",
       " ('rotate', '0 1 2 3')]"
      ]
     },
     "execution_count": 6,
     "metadata": {},
     "output_type": "execute_result"
    }
   ],
   "source": [
    "board2 = MarblesBoard((1, 3, 0, 2))\n",
    "solver = Solver(board2)\n",
    "solver.solve()"
   ]
  },
  {
   "cell_type": "code",
   "execution_count": 7,
   "id": "f0205091",
   "metadata": {
    "tags": []
   },
   "outputs": [
    {
     "data": {
      "text/plain": [
       "[('start', '3 6 7 4 1 0 8 2 5'),\n",
       " ('rotate', '6 7 4 1 0 8 2 5 3'),\n",
       " ('rotate', '7 4 1 0 8 2 5 3 6'),\n",
       " ('switch', '4 7 1 0 8 2 5 3 6'),\n",
       " ('rotate', '7 1 0 8 2 5 3 6 4'),\n",
       " ('switch', '1 7 0 8 2 5 3 6 4'),\n",
       " ('rotate', '7 0 8 2 5 3 6 4 1'),\n",
       " ('switch', '0 7 8 2 5 3 6 4 1'),\n",
       " ('rotate', '7 8 2 5 3 6 4 1 0'),\n",
       " ('rotate', '8 2 5 3 6 4 1 0 7'),\n",
       " ('switch', '2 8 5 3 6 4 1 0 7'),\n",
       " ('rotate', '8 5 3 6 4 1 0 7 2'),\n",
       " ('switch', '5 8 3 6 4 1 0 7 2'),\n",
       " ('rotate', '8 3 6 4 1 0 7 2 5'),\n",
       " ('switch', '3 8 6 4 1 0 7 2 5'),\n",
       " ('rotate', '8 6 4 1 0 7 2 5 3'),\n",
       " ('switch', '6 8 4 1 0 7 2 5 3'),\n",
       " ('rotate', '8 4 1 0 7 2 5 3 6'),\n",
       " ('switch', '4 8 1 0 7 2 5 3 6'),\n",
       " ('rotate', '8 1 0 7 2 5 3 6 4'),\n",
       " ('switch', '1 8 0 7 2 5 3 6 4'),\n",
       " ('rotate', '8 0 7 2 5 3 6 4 1'),\n",
       " ('rotate', '0 7 2 5 3 6 4 1 8'),\n",
       " ('rotate', '7 2 5 3 6 4 1 8 0'),\n",
       " ('switch', '2 7 5 3 6 4 1 8 0'),\n",
       " ('rotate', '7 5 3 6 4 1 8 0 2'),\n",
       " ('switch', '5 7 3 6 4 1 8 0 2'),\n",
       " ('rotate', '7 3 6 4 1 8 0 2 5'),\n",
       " ('switch', '3 7 6 4 1 8 0 2 5'),\n",
       " ('rotate', '7 6 4 1 8 0 2 5 3'),\n",
       " ('switch', '6 7 4 1 8 0 2 5 3'),\n",
       " ('rotate', '7 4 1 8 0 2 5 3 6'),\n",
       " ('switch', '4 7 1 8 0 2 5 3 6'),\n",
       " ('rotate', '7 1 8 0 2 5 3 6 4'),\n",
       " ('switch', '1 7 8 0 2 5 3 6 4'),\n",
       " ('rotate', '7 8 0 2 5 3 6 4 1'),\n",
       " ('rotate', '8 0 2 5 3 6 4 1 7'),\n",
       " ('rotate', '0 2 5 3 6 4 1 7 8'),\n",
       " ('rotate', '2 5 3 6 4 1 7 8 0'),\n",
       " ('rotate', '5 3 6 4 1 7 8 0 2'),\n",
       " ('switch', '3 5 6 4 1 7 8 0 2'),\n",
       " ('rotate', '5 6 4 1 7 8 0 2 3'),\n",
       " ('rotate', '6 4 1 7 8 0 2 3 5'),\n",
       " ('switch', '4 6 1 7 8 0 2 3 5'),\n",
       " ('rotate', '6 1 7 8 0 2 3 5 4'),\n",
       " ('switch', '1 6 7 8 0 2 3 5 4'),\n",
       " ('rotate', '6 7 8 0 2 3 5 4 1'),\n",
       " ('rotate', '7 8 0 2 3 5 4 1 6'),\n",
       " ('rotate', '8 0 2 3 5 4 1 6 7'),\n",
       " ('rotate', '0 2 3 5 4 1 6 7 8'),\n",
       " ('rotate', '2 3 5 4 1 6 7 8 0'),\n",
       " ('rotate', '3 5 4 1 6 7 8 0 2'),\n",
       " ('rotate', '5 4 1 6 7 8 0 2 3'),\n",
       " ('switch', '4 5 1 6 7 8 0 2 3'),\n",
       " ('rotate', '5 1 6 7 8 0 2 3 4'),\n",
       " ('switch', '1 5 6 7 8 0 2 3 4'),\n",
       " ('rotate', '5 6 7 8 0 2 3 4 1'),\n",
       " ('rotate', '6 7 8 0 2 3 4 1 5'),\n",
       " ('rotate', '7 8 0 2 3 4 1 5 6'),\n",
       " ('rotate', '8 0 2 3 4 1 5 6 7'),\n",
       " ('rotate', '0 2 3 4 1 5 6 7 8'),\n",
       " ('rotate', '2 3 4 1 5 6 7 8 0'),\n",
       " ('rotate', '3 4 1 5 6 7 8 0 2'),\n",
       " ('rotate', '4 1 5 6 7 8 0 2 3'),\n",
       " ('switch', '1 4 5 6 7 8 0 2 3'),\n",
       " ('rotate', '4 5 6 7 8 0 2 3 1'),\n",
       " ('rotate', '5 6 7 8 0 2 3 1 4'),\n",
       " ('rotate', '6 7 8 0 2 3 1 4 5'),\n",
       " ('rotate', '7 8 0 2 3 1 4 5 6'),\n",
       " ('rotate', '8 0 2 3 1 4 5 6 7'),\n",
       " ('rotate', '0 2 3 1 4 5 6 7 8'),\n",
       " ('rotate', '2 3 1 4 5 6 7 8 0'),\n",
       " ('rotate', '3 1 4 5 6 7 8 0 2'),\n",
       " ('switch', '1 3 4 5 6 7 8 0 2'),\n",
       " ('rotate', '3 4 5 6 7 8 0 2 1'),\n",
       " ('rotate', '4 5 6 7 8 0 2 1 3'),\n",
       " ('rotate', '5 6 7 8 0 2 1 3 4'),\n",
       " ('rotate', '6 7 8 0 2 1 3 4 5'),\n",
       " ('rotate', '7 8 0 2 1 3 4 5 6'),\n",
       " ('rotate', '8 0 2 1 3 4 5 6 7'),\n",
       " ('rotate', '0 2 1 3 4 5 6 7 8'),\n",
       " ('rotate', '2 1 3 4 5 6 7 8 0'),\n",
       " ('switch', '1 2 3 4 5 6 7 8 0'),\n",
       " ('rotate', '2 3 4 5 6 7 8 0 1'),\n",
       " ('rotate', '3 4 5 6 7 8 0 1 2'),\n",
       " ('rotate', '4 5 6 7 8 0 1 2 3'),\n",
       " ('rotate', '5 6 7 8 0 1 2 3 4'),\n",
       " ('rotate', '6 7 8 0 1 2 3 4 5'),\n",
       " ('rotate', '7 8 0 1 2 3 4 5 6'),\n",
       " ('rotate', '8 0 1 2 3 4 5 6 7'),\n",
       " ('rotate', '0 1 2 3 4 5 6 7 8')]"
      ]
     },
     "execution_count": 7,
     "metadata": {},
     "output_type": "execute_result"
    }
   ],
   "source": [
    "board1 = MarblesBoard((3,6,7,4,1,0,8,2,5))\n",
    "solver1 = Solver(board1)\n",
    "solver1.solve()"
   ]
  },
  {
   "cell_type": "markdown",
   "id": "dd280dff",
   "metadata": {},
   "source": []
  },
  {
   "cell_type": "code",
   "execution_count": null,
   "id": "ec5f020b",
   "metadata": {},
   "outputs": [],
   "source": []
  }
 ],
 "metadata": {
  "kernelspec": {
   "display_name": "Python 3 (ipykernel)",
   "language": "python",
   "name": "python3"
  },
  "language_info": {
   "codemirror_mode": {
    "name": "ipython",
    "version": 3
   },
   "file_extension": ".py",
   "mimetype": "text/x-python",
   "name": "python",
   "nbconvert_exporter": "python",
   "pygments_lexer": "ipython3",
   "version": "3.9.12"
  }
 },
 "nbformat": 4,
 "nbformat_minor": 5
}
