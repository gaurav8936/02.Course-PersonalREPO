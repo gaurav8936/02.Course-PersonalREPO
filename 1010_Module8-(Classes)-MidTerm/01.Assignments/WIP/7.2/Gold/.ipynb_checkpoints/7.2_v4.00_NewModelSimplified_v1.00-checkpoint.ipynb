{
 "cells": [
  {
   "cell_type": "markdown",
   "id": "54e5cf67-0e68-4607-b1f1-6d6ed74bed0c",
   "metadata": {},
   "source": [
    "---"
   ]
  },
  {
   "cell_type": "markdown",
   "id": "3593873a-1a17-4be2-bfa0-11ccf97d4cf5",
   "metadata": {},
   "source": [
    "In a particular board game, there is exactly one row and it comprises N spaces, numbered 0 through N - 1 from left to right. There are also N marbles, numbered 0 through N - 1, initially placed in some arbitrary order. After that, there are two moves available that only can be done one at a time:\n",
    "\n",
    "- Switch: Switch the marbles in positions 0 and 1.\n",
    "- Rotate: Move the marble in position 0 to position N - 1, and move all other marbles one space to the left (one index lower).\n",
    "\n",
    "The objective is to arrange the marbles in order, with each marble i in position i.\n",
    "\n",
    "1\\. Write a class, **MarblesBoard**, to represent the game above. (25 points) \n",
    "- Write an `__init__` function that takes a starting sequence of marbles (the number of each marble listed in the positions from 0 to N - 1). (Notice in the sequence all the marbles are different numbers and are sequential numbered but not in order!)\n",
    "- Next, write `switch()` and `rotate()` methods to simulate the player's moves as described above. \n",
    "- Write a method, `is_solved()`, that returns True if the marbles are in the correct order or False otherwise.\n",
    "- Additionally, write `__str__` and `__repr__` methods to display the current state of the board. \n",
    "\n",
    "Your class should behave like the following example:\n",
    "```\n",
    ">>> board = MarblesBoard((3,6,7,4,1,0,8,2,5)) \n",
    ">>> board \n",
    "3 6 7 4 1 0 8 2 5 \n",
    ">>> board.switch() \n",
    ">>> board \n",
    "6 3 7 4 1 0 8 2 5 \n",
    ">>> board.rotate() \n",
    ">>> board \n",
    "3 7 4 1 0 8 2 5 6 \n",
    ">>> board.switch() \n",
    ">>> board \n",
    "7 3 4 1 0 8 2 5 6\n",
    "```"
   ]
  },
  {
   "cell_type": "markdown",
   "id": "7794296a-8b64-4fce-be46-1a1ec2716a95",
   "metadata": {},
   "source": [
    "2\\. Write a second class, **Solver**, that actually plays the MarblesGame. (25 points)\n",
    "- Write an `__init__` method that takes a MarblesBoard class in its initializer and stores it in an attribute: `board`. \n",
    "- Write a `solve()` method:\n",
    "  - Which repeatedly calls the switch() or the rotate() method of the given MarblesBoard until the game is solved. \n",
    "  - Before the first switch or rotate, make a **list** of **tuples** with the starting tuple of `('start', <board starting state>)`\n",
    "  - After each step ('switch' or 'rotate'), append to the  above **list** a tuple of: \n",
    "    - What step ('switch' or 'rotate') was performed. Remember, you can only do one switch or one rotate per step!\n",
    "    - The state of the board \n",
    "  - Return the above list as output to this method.\n",
    "  - You are to come up with your own algorithm for solving the marbles game. Before you write your solve() method, you may want to practice solving some small versions of the marbles game yourself.\n",
    "  - Your Solver should strive to make the algorithm reasonably efficient and strive to be the fastest runtime. (10 points are awarded based on algorithm efficiency)\n",
    "\n",
    "Below is an example:\n",
    "```\n",
    ">>> board2 = MarblesBoard((1,3,0,2))\n",
    ">>> solver = Solver(board2)\n",
    ">>> solver.solve()\n",
    "[('start', 1 3 0 2),\n",
    " ('rotate', 3 0 2 1),\n",
    " ('rotate', 0 2 1 3),\n",
    " ('rotate', 2 1 3 0),\n",
    " ('switch', 1 2 3 0),\n",
    " ('rotate', 2 3 0 1),\n",
    " ('rotate', 3 0 1 2),\n",
    " ('rotate', 0 1 2 3)]\n",
    "```\n",
    "\n",
    "You may be interested to know that your program is a variation of a well-known sorting algorithm called bubble sort. Bubble sort would normally be used on a list of items, not on a rotating track, but adapting your algorithm to this setting could be straight-forward."
   ]
  },
  {
   "cell_type": "markdown",
   "id": "6cf3c832-7453-4ff8-a61e-3f20bf8acfaf",
   "metadata": {},
   "source": [
    "---"
   ]
  },
  {
   "cell_type": "markdown",
   "id": "61782b72-c9a2-4d45-96d5-11382b6f2757",
   "metadata": {},
   "source": [
    "<font size = 6, color = red>Current Working Model (Gold)"
   ]
  },
  {
   "cell_type": "code",
   "execution_count": 1,
   "id": "bc404817-ec3d-4ceb-aea3-a136e6c23c6f",
   "metadata": {},
   "outputs": [],
   "source": [
    "class MarblesBoard:\n",
    "    \"\"\"creates a marble board with number marbles in specific spots\"\"\"\n",
    "    def __init__(self, marbles):\n",
    "        self.marbles = list(marbles)\n",
    "\n",
    "    def __str__(self):\n",
    "        return \" \".join(map(str, self.marbles))\n",
    "\n",
    "    def __repr__(self):\n",
    "        return \"%r \" % (self.marbles)\n",
    "\n",
    "    def switch(self):\n",
    "        \"\"\"switch the marbles in position 0 and 1\"\"\"\n",
    "        self.marbles[0], self.marbles[1] = self.marbles[1], self.marbles[0]\n",
    "\n",
    "    def rotate(self):\n",
    "#         \"\"\"\n",
    "#         Rotates item in position o to position N-1. All remaning items are moved as a result (1 step to the left)\n",
    "#         \"\"\"\n",
    "        self.marbles = self.marbles[1:] + [self.marbles[0]]\n",
    "    \n",
    "    def is_solved(self):\n",
    "        return self.marbles == sorted(self.marbles)\n",
    "\n",
    "class Solver:\n",
    "    \"\"\"solves the marble sorting game when given a marble board as input\"\"\"\n",
    "\n",
    "    def __init__(self, board):\n",
    "        self.board = board\n",
    "        \n",
    "    def solve(self):\n",
    "        steps = 0\n",
    "        result = [('start', str(self.board))]\n",
    "\n",
    "        minb = min(self.board.marbles)\n",
    "#        print('mininum', minb)\n",
    "        maxb = max(self.board.marbles)\n",
    "#        print('maximum', maxb)\n",
    "        while not self.board.is_solved():\n",
    "            if self.board.marbles[0] == maxb and self.board.marbles[1] == minb:\n",
    "                result.append((steps, 'rotate - loop 1(before)', str(self.board)))\n",
    "#                print(self.board.marbles[0],self.board.marbles[1] )\n",
    "                self.board.rotate()\n",
    "                #result.append(('rotate', str(self.board)))\n",
    "                result.append((steps, 'rotate - loop 1(after)', str(self.board)))\n",
    "#                print('steps', steps)\n",
    "            elif self.board.marbles[0] < self.board.marbles[1]:\n",
    "                result.append((steps, 'rotate - loop2(before)', str(self.board)))\n",
    "                self.board.rotate()\n",
    "                #result.append(('rotate', str(self.board)))\n",
    "                result.append((steps, 'rotate - loop2(after)', str(self.board)))\n",
    "#                print('steps', steps)\n",
    "            else:\n",
    "                result.append((steps, 'switch - loop3(before)', str(self.board)))\n",
    "                self.board.switch()\n",
    "                #result.append(('switch', str(self.board)))\n",
    "                result.append((steps, 'switch - loop3(after)', str(self.board)))\n",
    "#                print('steps', steps)\n",
    "            \n",
    "            steps += 1\n",
    "            #print('steps', steps)\n",
    "        return result"
   ]
  },
  {
   "cell_type": "code",
   "execution_count": 2,
   "id": "30c5eb95-3cfd-41fb-ba47-152041db44ca",
   "metadata": {},
   "outputs": [
    {
     "data": {
      "text/plain": [
       "[('start', '1 3 2 0 4'),\n",
       " (0, 'rotate - loop2(before)', '1 3 2 0 4'),\n",
       " (0, 'rotate - loop2(after)', '3 2 0 4 1'),\n",
       " (1, 'switch - loop3(before)', '3 2 0 4 1'),\n",
       " (1, 'switch - loop3(after)', '2 3 0 4 1'),\n",
       " (2, 'rotate - loop2(before)', '2 3 0 4 1'),\n",
       " (2, 'rotate - loop2(after)', '3 0 4 1 2'),\n",
       " (3, 'switch - loop3(before)', '3 0 4 1 2'),\n",
       " (3, 'switch - loop3(after)', '0 3 4 1 2'),\n",
       " (4, 'rotate - loop2(before)', '0 3 4 1 2'),\n",
       " (4, 'rotate - loop2(after)', '3 4 1 2 0'),\n",
       " (5, 'rotate - loop2(before)', '3 4 1 2 0'),\n",
       " (5, 'rotate - loop2(after)', '4 1 2 0 3'),\n",
       " (6, 'switch - loop3(before)', '4 1 2 0 3'),\n",
       " (6, 'switch - loop3(after)', '1 4 2 0 3'),\n",
       " (7, 'rotate - loop2(before)', '1 4 2 0 3'),\n",
       " (7, 'rotate - loop2(after)', '4 2 0 3 1'),\n",
       " (8, 'switch - loop3(before)', '4 2 0 3 1'),\n",
       " (8, 'switch - loop3(after)', '2 4 0 3 1'),\n",
       " (9, 'rotate - loop2(before)', '2 4 0 3 1'),\n",
       " (9, 'rotate - loop2(after)', '4 0 3 1 2'),\n",
       " (10, 'rotate - loop 1(before)', '4 0 3 1 2'),\n",
       " (10, 'rotate - loop 1(after)', '0 3 1 2 4'),\n",
       " (11, 'rotate - loop2(before)', '0 3 1 2 4'),\n",
       " (11, 'rotate - loop2(after)', '3 1 2 4 0'),\n",
       " (12, 'switch - loop3(before)', '3 1 2 4 0'),\n",
       " (12, 'switch - loop3(after)', '1 3 2 4 0'),\n",
       " (13, 'rotate - loop2(before)', '1 3 2 4 0'),\n",
       " (13, 'rotate - loop2(after)', '3 2 4 0 1'),\n",
       " (14, 'switch - loop3(before)', '3 2 4 0 1'),\n",
       " (14, 'switch - loop3(after)', '2 3 4 0 1'),\n",
       " (15, 'rotate - loop2(before)', '2 3 4 0 1'),\n",
       " (15, 'rotate - loop2(after)', '3 4 0 1 2'),\n",
       " (16, 'rotate - loop2(before)', '3 4 0 1 2'),\n",
       " (16, 'rotate - loop2(after)', '4 0 1 2 3'),\n",
       " (17, 'rotate - loop 1(before)', '4 0 1 2 3'),\n",
       " (17, 'rotate - loop 1(after)', '0 1 2 3 4')]"
      ]
     },
     "execution_count": 2,
     "metadata": {},
     "output_type": "execute_result"
    }
   ],
   "source": [
    "board2 = MarblesBoard((1,3,2,0, 4))\n",
    "solver2 = Solver(board2)\n",
    "solver2.solve()"
   ]
  },
  {
   "cell_type": "code",
   "execution_count": null,
   "id": "e85ecb0e-33bd-4457-a725-591f66575575",
   "metadata": {},
   "outputs": [],
   "source": []
  },
  {
   "cell_type": "code",
   "execution_count": null,
   "id": "ccfdb927-1b77-4bcd-8c0d-814744ca28c5",
   "metadata": {},
   "outputs": [],
   "source": []
  },
  {
   "cell_type": "code",
   "execution_count": null,
   "id": "025d70f8-a417-460c-b0e7-7297b357f4b1",
   "metadata": {},
   "outputs": [],
   "source": []
  },
  {
   "cell_type": "code",
   "execution_count": 3,
   "id": "333499f3-a83f-4dc8-8dde-aaf6e512f0e0",
   "metadata": {},
   "outputs": [
    {
     "data": {
      "text/plain": [
       "[3, 6, 7, 4, 1, 0, 8, 2, 5] "
      ]
     },
     "execution_count": 3,
     "metadata": {},
     "output_type": "execute_result"
    }
   ],
   "source": [
    "board = MarblesBoard((3,6,7,4,1,0,8,2,5)) \n",
    ">>> board "
   ]
  },
  {
   "cell_type": "code",
   "execution_count": 4,
   "id": "58056d06-e2a0-458b-9a15-c24fadf5196a",
   "metadata": {},
   "outputs": [
    {
     "data": {
      "text/plain": [
       "[6, 3, 7, 4, 1, 0, 8, 2, 5] "
      ]
     },
     "execution_count": 4,
     "metadata": {},
     "output_type": "execute_result"
    }
   ],
   "source": [
    ">>> board.switch() \n",
    ">>> board "
   ]
  },
  {
   "cell_type": "code",
   "execution_count": 5,
   "id": "6d71a01e-0dc8-4061-9f2a-f370d7a51397",
   "metadata": {},
   "outputs": [
    {
     "data": {
      "text/plain": [
       "[3, 7, 4, 1, 0, 8, 2, 5, 6] "
      ]
     },
     "execution_count": 5,
     "metadata": {},
     "output_type": "execute_result"
    }
   ],
   "source": [
    ">>> board.rotate() \n",
    ">>> board"
   ]
  },
  {
   "cell_type": "code",
   "execution_count": 6,
   "id": "34cd49d2-f6e7-40cd-bd9e-43be2ac25397",
   "metadata": {},
   "outputs": [
    {
     "data": {
      "text/plain": [
       "[7, 3, 4, 1, 0, 8, 2, 5, 6] "
      ]
     },
     "execution_count": 6,
     "metadata": {},
     "output_type": "execute_result"
    }
   ],
   "source": [
    ">>> board.switch() \n",
    ">>> board "
   ]
  },
  {
   "cell_type": "code",
   "execution_count": null,
   "id": "bde868bf-512e-4e7b-b594-9a935eeb30be",
   "metadata": {},
   "outputs": [],
   "source": []
  },
  {
   "cell_type": "code",
   "execution_count": null,
   "id": "62c4f2cb-385d-4e70-8e94-2c400cf00d3b",
   "metadata": {},
   "outputs": [],
   "source": [
    "solver1.solve()"
   ]
  },
  {
   "cell_type": "code",
   "execution_count": 4,
   "id": "35c5c95a-9599-4656-83c5-590a28a7f084",
   "metadata": {},
   "outputs": [],
   "source": [
    "board1 = MarblesBoard((5,3,4,2))\n",
    "#board1 = MarblesBoard((5,3,4,2, 7,8,6,9))"
   ]
  },
  {
   "cell_type": "code",
   "execution_count": 3,
   "id": "c1bf35e7-030f-4725-adae-b090de90312a",
   "metadata": {},
   "outputs": [],
   "source": [
    "board1 = MarblesBoard((0,1,2,3))"
   ]
  },
  {
   "cell_type": "code",
   "execution_count": 30,
   "id": "826f010a-0ec0-4eb1-b94e-8b907cf9be20",
   "metadata": {},
   "outputs": [],
   "source": [
    "board1 = MarblesBoard((3,6,7,4,1,0,8,2,5))"
   ]
  },
  {
   "cell_type": "code",
   "execution_count": null,
   "id": "47d9b9a3-dcd2-4d82-bf0c-138f4732adee",
   "metadata": {},
   "outputs": [],
   "source": []
  },
  {
   "cell_type": "code",
   "execution_count": 31,
   "id": "2bf92be3-dce9-4e5f-9372-2e91c12794fd",
   "metadata": {},
   "outputs": [],
   "source": [
    "solver1 = Solver(board1)"
   ]
  },
  {
   "cell_type": "code",
   "execution_count": 32,
   "id": "2e39b19b-72fa-440a-bd4a-3856b8d1b20c",
   "metadata": {
    "tags": []
   },
   "outputs": [
    {
     "data": {
      "text/plain": [
       "[('start', '3 6 7 4 1 0 8 2 5'),\n",
       " (0, 'rotate - loop2(before)', '3 6 7 4 1 0 8 2 5'),\n",
       " (0, 'rotate - loop2(after)', '6 7 4 1 0 8 2 5 3'),\n",
       " (1, 'rotate - loop2(before)', '6 7 4 1 0 8 2 5 3'),\n",
       " (1, 'rotate - loop2(after)', '7 4 1 0 8 2 5 3 6'),\n",
       " (2, 'switch - loop3(before)', '7 4 1 0 8 2 5 3 6'),\n",
       " (2, 'switch - loop3(after)', '4 7 1 0 8 2 5 3 6'),\n",
       " (3, 'rotate - loop2(before)', '4 7 1 0 8 2 5 3 6'),\n",
       " (3, 'rotate - loop2(after)', '7 1 0 8 2 5 3 6 4'),\n",
       " (4, 'switch - loop3(before)', '7 1 0 8 2 5 3 6 4'),\n",
       " (4, 'switch - loop3(after)', '1 7 0 8 2 5 3 6 4'),\n",
       " (5, 'rotate - loop2(before)', '1 7 0 8 2 5 3 6 4'),\n",
       " (5, 'rotate - loop2(after)', '7 0 8 2 5 3 6 4 1'),\n",
       " (6, 'switch - loop3(before)', '7 0 8 2 5 3 6 4 1'),\n",
       " (6, 'switch - loop3(after)', '0 7 8 2 5 3 6 4 1'),\n",
       " (7, 'rotate - loop2(before)', '0 7 8 2 5 3 6 4 1'),\n",
       " (7, 'rotate - loop2(after)', '7 8 2 5 3 6 4 1 0'),\n",
       " (8, 'rotate - loop2(before)', '7 8 2 5 3 6 4 1 0'),\n",
       " (8, 'rotate - loop2(after)', '8 2 5 3 6 4 1 0 7'),\n",
       " (9, 'switch - loop3(before)', '8 2 5 3 6 4 1 0 7'),\n",
       " (9, 'switch - loop3(after)', '2 8 5 3 6 4 1 0 7'),\n",
       " (10, 'rotate - loop2(before)', '2 8 5 3 6 4 1 0 7'),\n",
       " (10, 'rotate - loop2(after)', '8 5 3 6 4 1 0 7 2'),\n",
       " (11, 'switch - loop3(before)', '8 5 3 6 4 1 0 7 2'),\n",
       " (11, 'switch - loop3(after)', '5 8 3 6 4 1 0 7 2'),\n",
       " (12, 'rotate - loop2(before)', '5 8 3 6 4 1 0 7 2'),\n",
       " (12, 'rotate - loop2(after)', '8 3 6 4 1 0 7 2 5'),\n",
       " (13, 'switch - loop3(before)', '8 3 6 4 1 0 7 2 5'),\n",
       " (13, 'switch - loop3(after)', '3 8 6 4 1 0 7 2 5'),\n",
       " (14, 'rotate - loop2(before)', '3 8 6 4 1 0 7 2 5'),\n",
       " (14, 'rotate - loop2(after)', '8 6 4 1 0 7 2 5 3'),\n",
       " (15, 'switch - loop3(before)', '8 6 4 1 0 7 2 5 3'),\n",
       " (15, 'switch - loop3(after)', '6 8 4 1 0 7 2 5 3'),\n",
       " (16, 'rotate - loop2(before)', '6 8 4 1 0 7 2 5 3'),\n",
       " (16, 'rotate - loop2(after)', '8 4 1 0 7 2 5 3 6'),\n",
       " (17, 'switch - loop3(before)', '8 4 1 0 7 2 5 3 6'),\n",
       " (17, 'switch - loop3(after)', '4 8 1 0 7 2 5 3 6'),\n",
       " (18, 'rotate - loop2(before)', '4 8 1 0 7 2 5 3 6'),\n",
       " (18, 'rotate - loop2(after)', '8 1 0 7 2 5 3 6 4'),\n",
       " (19, 'switch - loop3(before)', '8 1 0 7 2 5 3 6 4'),\n",
       " (19, 'switch - loop3(after)', '1 8 0 7 2 5 3 6 4'),\n",
       " (20, 'rotate - loop2(before)', '1 8 0 7 2 5 3 6 4'),\n",
       " (20, 'rotate - loop2(after)', '8 0 7 2 5 3 6 4 1'),\n",
       " (21, 'rotate - loop 1(before)', '8 0 7 2 5 3 6 4 1'),\n",
       " (21, 'rotate - loop 1(after)', '0 7 2 5 3 6 4 1 8'),\n",
       " (22, 'rotate - loop2(before)', '0 7 2 5 3 6 4 1 8'),\n",
       " (22, 'rotate - loop2(after)', '7 2 5 3 6 4 1 8 0'),\n",
       " (23, 'switch - loop3(before)', '7 2 5 3 6 4 1 8 0'),\n",
       " (23, 'switch - loop3(after)', '2 7 5 3 6 4 1 8 0'),\n",
       " (24, 'rotate - loop2(before)', '2 7 5 3 6 4 1 8 0'),\n",
       " (24, 'rotate - loop2(after)', '7 5 3 6 4 1 8 0 2'),\n",
       " (25, 'switch - loop3(before)', '7 5 3 6 4 1 8 0 2'),\n",
       " (25, 'switch - loop3(after)', '5 7 3 6 4 1 8 0 2'),\n",
       " (26, 'rotate - loop2(before)', '5 7 3 6 4 1 8 0 2'),\n",
       " (26, 'rotate - loop2(after)', '7 3 6 4 1 8 0 2 5'),\n",
       " (27, 'switch - loop3(before)', '7 3 6 4 1 8 0 2 5'),\n",
       " (27, 'switch - loop3(after)', '3 7 6 4 1 8 0 2 5'),\n",
       " (28, 'rotate - loop2(before)', '3 7 6 4 1 8 0 2 5'),\n",
       " (28, 'rotate - loop2(after)', '7 6 4 1 8 0 2 5 3'),\n",
       " (29, 'switch - loop3(before)', '7 6 4 1 8 0 2 5 3'),\n",
       " (29, 'switch - loop3(after)', '6 7 4 1 8 0 2 5 3'),\n",
       " (30, 'rotate - loop2(before)', '6 7 4 1 8 0 2 5 3'),\n",
       " (30, 'rotate - loop2(after)', '7 4 1 8 0 2 5 3 6'),\n",
       " (31, 'switch - loop3(before)', '7 4 1 8 0 2 5 3 6'),\n",
       " (31, 'switch - loop3(after)', '4 7 1 8 0 2 5 3 6'),\n",
       " (32, 'rotate - loop2(before)', '4 7 1 8 0 2 5 3 6'),\n",
       " (32, 'rotate - loop2(after)', '7 1 8 0 2 5 3 6 4'),\n",
       " (33, 'switch - loop3(before)', '7 1 8 0 2 5 3 6 4'),\n",
       " (33, 'switch - loop3(after)', '1 7 8 0 2 5 3 6 4'),\n",
       " (34, 'rotate - loop2(before)', '1 7 8 0 2 5 3 6 4'),\n",
       " (34, 'rotate - loop2(after)', '7 8 0 2 5 3 6 4 1'),\n",
       " (35, 'rotate - loop2(before)', '7 8 0 2 5 3 6 4 1'),\n",
       " (35, 'rotate - loop2(after)', '8 0 2 5 3 6 4 1 7'),\n",
       " (36, 'rotate - loop 1(before)', '8 0 2 5 3 6 4 1 7'),\n",
       " (36, 'rotate - loop 1(after)', '0 2 5 3 6 4 1 7 8'),\n",
       " (37, 'rotate - loop2(before)', '0 2 5 3 6 4 1 7 8'),\n",
       " (37, 'rotate - loop2(after)', '2 5 3 6 4 1 7 8 0'),\n",
       " (38, 'rotate - loop2(before)', '2 5 3 6 4 1 7 8 0'),\n",
       " (38, 'rotate - loop2(after)', '5 3 6 4 1 7 8 0 2'),\n",
       " (39, 'switch - loop3(before)', '5 3 6 4 1 7 8 0 2'),\n",
       " (39, 'switch - loop3(after)', '3 5 6 4 1 7 8 0 2'),\n",
       " (40, 'rotate - loop2(before)', '3 5 6 4 1 7 8 0 2'),\n",
       " (40, 'rotate - loop2(after)', '5 6 4 1 7 8 0 2 3'),\n",
       " (41, 'rotate - loop2(before)', '5 6 4 1 7 8 0 2 3'),\n",
       " (41, 'rotate - loop2(after)', '6 4 1 7 8 0 2 3 5'),\n",
       " (42, 'switch - loop3(before)', '6 4 1 7 8 0 2 3 5'),\n",
       " (42, 'switch - loop3(after)', '4 6 1 7 8 0 2 3 5'),\n",
       " (43, 'rotate - loop2(before)', '4 6 1 7 8 0 2 3 5'),\n",
       " (43, 'rotate - loop2(after)', '6 1 7 8 0 2 3 5 4'),\n",
       " (44, 'switch - loop3(before)', '6 1 7 8 0 2 3 5 4'),\n",
       " (44, 'switch - loop3(after)', '1 6 7 8 0 2 3 5 4'),\n",
       " (45, 'rotate - loop2(before)', '1 6 7 8 0 2 3 5 4'),\n",
       " (45, 'rotate - loop2(after)', '6 7 8 0 2 3 5 4 1'),\n",
       " (46, 'rotate - loop2(before)', '6 7 8 0 2 3 5 4 1'),\n",
       " (46, 'rotate - loop2(after)', '7 8 0 2 3 5 4 1 6'),\n",
       " (47, 'rotate - loop2(before)', '7 8 0 2 3 5 4 1 6'),\n",
       " (47, 'rotate - loop2(after)', '8 0 2 3 5 4 1 6 7'),\n",
       " (48, 'rotate - loop 1(before)', '8 0 2 3 5 4 1 6 7'),\n",
       " (48, 'rotate - loop 1(after)', '0 2 3 5 4 1 6 7 8'),\n",
       " (49, 'rotate - loop2(before)', '0 2 3 5 4 1 6 7 8'),\n",
       " (49, 'rotate - loop2(after)', '2 3 5 4 1 6 7 8 0'),\n",
       " (50, 'rotate - loop2(before)', '2 3 5 4 1 6 7 8 0'),\n",
       " (50, 'rotate - loop2(after)', '3 5 4 1 6 7 8 0 2'),\n",
       " (51, 'rotate - loop2(before)', '3 5 4 1 6 7 8 0 2'),\n",
       " (51, 'rotate - loop2(after)', '5 4 1 6 7 8 0 2 3'),\n",
       " (52, 'switch - loop3(before)', '5 4 1 6 7 8 0 2 3'),\n",
       " (52, 'switch - loop3(after)', '4 5 1 6 7 8 0 2 3'),\n",
       " (53, 'rotate - loop2(before)', '4 5 1 6 7 8 0 2 3'),\n",
       " (53, 'rotate - loop2(after)', '5 1 6 7 8 0 2 3 4'),\n",
       " (54, 'switch - loop3(before)', '5 1 6 7 8 0 2 3 4'),\n",
       " (54, 'switch - loop3(after)', '1 5 6 7 8 0 2 3 4'),\n",
       " (55, 'rotate - loop2(before)', '1 5 6 7 8 0 2 3 4'),\n",
       " (55, 'rotate - loop2(after)', '5 6 7 8 0 2 3 4 1'),\n",
       " (56, 'rotate - loop2(before)', '5 6 7 8 0 2 3 4 1'),\n",
       " (56, 'rotate - loop2(after)', '6 7 8 0 2 3 4 1 5'),\n",
       " (57, 'rotate - loop2(before)', '6 7 8 0 2 3 4 1 5'),\n",
       " (57, 'rotate - loop2(after)', '7 8 0 2 3 4 1 5 6'),\n",
       " (58, 'rotate - loop2(before)', '7 8 0 2 3 4 1 5 6'),\n",
       " (58, 'rotate - loop2(after)', '8 0 2 3 4 1 5 6 7'),\n",
       " (59, 'rotate - loop 1(before)', '8 0 2 3 4 1 5 6 7'),\n",
       " (59, 'rotate - loop 1(after)', '0 2 3 4 1 5 6 7 8'),\n",
       " (60, 'rotate - loop2(before)', '0 2 3 4 1 5 6 7 8'),\n",
       " (60, 'rotate - loop2(after)', '2 3 4 1 5 6 7 8 0'),\n",
       " (61, 'rotate - loop2(before)', '2 3 4 1 5 6 7 8 0'),\n",
       " (61, 'rotate - loop2(after)', '3 4 1 5 6 7 8 0 2'),\n",
       " (62, 'rotate - loop2(before)', '3 4 1 5 6 7 8 0 2'),\n",
       " (62, 'rotate - loop2(after)', '4 1 5 6 7 8 0 2 3'),\n",
       " (63, 'switch - loop3(before)', '4 1 5 6 7 8 0 2 3'),\n",
       " (63, 'switch - loop3(after)', '1 4 5 6 7 8 0 2 3'),\n",
       " (64, 'rotate - loop2(before)', '1 4 5 6 7 8 0 2 3'),\n",
       " (64, 'rotate - loop2(after)', '4 5 6 7 8 0 2 3 1'),\n",
       " (65, 'rotate - loop2(before)', '4 5 6 7 8 0 2 3 1'),\n",
       " (65, 'rotate - loop2(after)', '5 6 7 8 0 2 3 1 4'),\n",
       " (66, 'rotate - loop2(before)', '5 6 7 8 0 2 3 1 4'),\n",
       " (66, 'rotate - loop2(after)', '6 7 8 0 2 3 1 4 5'),\n",
       " (67, 'rotate - loop2(before)', '6 7 8 0 2 3 1 4 5'),\n",
       " (67, 'rotate - loop2(after)', '7 8 0 2 3 1 4 5 6'),\n",
       " (68, 'rotate - loop2(before)', '7 8 0 2 3 1 4 5 6'),\n",
       " (68, 'rotate - loop2(after)', '8 0 2 3 1 4 5 6 7'),\n",
       " (69, 'rotate - loop 1(before)', '8 0 2 3 1 4 5 6 7'),\n",
       " (69, 'rotate - loop 1(after)', '0 2 3 1 4 5 6 7 8'),\n",
       " (70, 'rotate - loop2(before)', '0 2 3 1 4 5 6 7 8'),\n",
       " (70, 'rotate - loop2(after)', '2 3 1 4 5 6 7 8 0'),\n",
       " (71, 'rotate - loop2(before)', '2 3 1 4 5 6 7 8 0'),\n",
       " (71, 'rotate - loop2(after)', '3 1 4 5 6 7 8 0 2'),\n",
       " (72, 'switch - loop3(before)', '3 1 4 5 6 7 8 0 2'),\n",
       " (72, 'switch - loop3(after)', '1 3 4 5 6 7 8 0 2'),\n",
       " (73, 'rotate - loop2(before)', '1 3 4 5 6 7 8 0 2'),\n",
       " (73, 'rotate - loop2(after)', '3 4 5 6 7 8 0 2 1'),\n",
       " (74, 'rotate - loop2(before)', '3 4 5 6 7 8 0 2 1'),\n",
       " (74, 'rotate - loop2(after)', '4 5 6 7 8 0 2 1 3'),\n",
       " (75, 'rotate - loop2(before)', '4 5 6 7 8 0 2 1 3'),\n",
       " (75, 'rotate - loop2(after)', '5 6 7 8 0 2 1 3 4'),\n",
       " (76, 'rotate - loop2(before)', '5 6 7 8 0 2 1 3 4'),\n",
       " (76, 'rotate - loop2(after)', '6 7 8 0 2 1 3 4 5'),\n",
       " (77, 'rotate - loop2(before)', '6 7 8 0 2 1 3 4 5'),\n",
       " (77, 'rotate - loop2(after)', '7 8 0 2 1 3 4 5 6'),\n",
       " (78, 'rotate - loop2(before)', '7 8 0 2 1 3 4 5 6'),\n",
       " (78, 'rotate - loop2(after)', '8 0 2 1 3 4 5 6 7'),\n",
       " (79, 'rotate - loop 1(before)', '8 0 2 1 3 4 5 6 7'),\n",
       " (79, 'rotate - loop 1(after)', '0 2 1 3 4 5 6 7 8'),\n",
       " (80, 'rotate - loop2(before)', '0 2 1 3 4 5 6 7 8'),\n",
       " (80, 'rotate - loop2(after)', '2 1 3 4 5 6 7 8 0'),\n",
       " (81, 'switch - loop3(before)', '2 1 3 4 5 6 7 8 0'),\n",
       " (81, 'switch - loop3(after)', '1 2 3 4 5 6 7 8 0'),\n",
       " (82, 'rotate - loop2(before)', '1 2 3 4 5 6 7 8 0'),\n",
       " (82, 'rotate - loop2(after)', '2 3 4 5 6 7 8 0 1'),\n",
       " (83, 'rotate - loop2(before)', '2 3 4 5 6 7 8 0 1'),\n",
       " (83, 'rotate - loop2(after)', '3 4 5 6 7 8 0 1 2'),\n",
       " (84, 'rotate - loop2(before)', '3 4 5 6 7 8 0 1 2'),\n",
       " (84, 'rotate - loop2(after)', '4 5 6 7 8 0 1 2 3'),\n",
       " (85, 'rotate - loop2(before)', '4 5 6 7 8 0 1 2 3'),\n",
       " (85, 'rotate - loop2(after)', '5 6 7 8 0 1 2 3 4'),\n",
       " (86, 'rotate - loop2(before)', '5 6 7 8 0 1 2 3 4'),\n",
       " (86, 'rotate - loop2(after)', '6 7 8 0 1 2 3 4 5'),\n",
       " (87, 'rotate - loop2(before)', '6 7 8 0 1 2 3 4 5'),\n",
       " (87, 'rotate - loop2(after)', '7 8 0 1 2 3 4 5 6'),\n",
       " (88, 'rotate - loop2(before)', '7 8 0 1 2 3 4 5 6'),\n",
       " (88, 'rotate - loop2(after)', '8 0 1 2 3 4 5 6 7'),\n",
       " (89, 'rotate - loop 1(before)', '8 0 1 2 3 4 5 6 7'),\n",
       " (89, 'rotate - loop 1(after)', '0 1 2 3 4 5 6 7 8')]"
      ]
     },
     "execution_count": 32,
     "metadata": {},
     "output_type": "execute_result"
    }
   ],
   "source": [
    "solver1.solve()"
   ]
  },
  {
   "cell_type": "markdown",
   "id": "fabe0aa7-59cc-4262-99e7-9aff92cd7565",
   "metadata": {},
   "source": []
  },
  {
   "cell_type": "code",
   "execution_count": null,
   "id": "a5be7753-ba8e-40d5-a547-520249ddfc9f",
   "metadata": {},
   "outputs": [],
   "source": []
  }
 ],
 "metadata": {
  "kernelspec": {
   "display_name": "Python 3 (ipykernel)",
   "language": "python",
   "name": "python3"
  },
  "language_info": {
   "codemirror_mode": {
    "name": "ipython",
    "version": 3
   },
   "file_extension": ".py",
   "mimetype": "text/x-python",
   "name": "python",
   "nbconvert_exporter": "python",
   "pygments_lexer": "ipython3",
   "version": "3.9.12"
  }
 },
 "nbformat": 4,
 "nbformat_minor": 5
}
