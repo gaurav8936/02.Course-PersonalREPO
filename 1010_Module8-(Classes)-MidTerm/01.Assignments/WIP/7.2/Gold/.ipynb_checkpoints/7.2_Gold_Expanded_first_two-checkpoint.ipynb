{
 "cells": [
  {
   "cell_type": "code",
   "execution_count": 6,
   "id": "2c6a4e39-282a-4bc1-a13d-cf356bdb13fc",
   "metadata": {},
   "outputs": [],
   "source": [
    "import random\n",
    "\n",
    "class MarblesBoard:\n",
    "    \"\"\"creates a marble board with number marbles in specific spots\"\"\"\n",
    "    def __init__(self, marble_sequence):\n",
    "        self.board = [x for x in marble_sequence]\n",
    "\n",
    "    def __str__(self):\n",
    "        return \" \".join(map(str, self.board))\n",
    "\n",
    "    def __repr__(self):\n",
    "        return \"%r \" % (self.board)\n",
    "\n",
    "    def switch(self):\n",
    "        \"\"\"switch the marbles in position 0 and 1\"\"\"\n",
    "        self.board[0], self.board[1] = self.board[1], self.board[0]\n",
    "        return self.board\n",
    "\n",
    "    def rotate(self):\n",
    "        self.board = self.board[1:] + [self.board[0]]\n",
    "        return self.board\n",
    "         # \"\"\"\n",
    "         # Rotates item in position o to position N-1. All remaning items are moved as a result (1 step to the left)\n",
    "         # \"\"\"\n",
    "        # self.board = self.board[1:] + [self.board[0]]\n",
    "        # return self.board\n",
    "    \n",
    "    def is_solved(self):\n",
    "        return self.board == sorted(self.board)\n",
    "    \n",
    "    def random_select(self):\n",
    "        # used a random generator for True/False -- used to select Switch or Rotate\n",
    "        return random.choice([True, False])\n",
    "\n",
    "    def first_two(self):\n",
    "        return self.board[0] < self.board[1]\n",
    "    \n",
    "class Solver:\n",
    "    \"\"\"solves the marble sorting game when given a marble board as input\"\"\"\n",
    "\n",
    "    def __init__(self, marbles_board):\n",
    "        self.marbles_board = marbles_board\n",
    "        \n",
    "    def solve(self):\n",
    "        steps = 0\n",
    "        myboard = self.marbles_board\n",
    "        control_list = []\n",
    "        control_list.append(str(myboard))\n",
    "        print(control_list)\n",
    "\n",
    "        while not self.marbles_board.is_solved():\n",
    "            if self.marbles_board.first_two():\n",
    "                self.marbles_board.rotate()\n",
    "                if str(self.marbles_board) in control_list: pass\n",
    "                else:control_list.append((str(self.marbles_board)))\n",
    "                if self.marbles_board.is_solved(): break\n",
    "\n",
    "            else:\n",
    "                self.marbles_board.switch()\n",
    "                if str(self.marbles_board) in control_list: pass\n",
    "                else:control_list.append((str(self.marbles_board)))\n",
    "                if self.marbles_board.is_solved(): break\n",
    "\n",
    "\n",
    "            if self.marbles_board.random_select():\n",
    "                self.marbles_board.rotate()\n",
    "                if str(self.marbles_board) in control_list: pass#self.marbles_board.switch()\n",
    "                else:control_list.append((str(self.marbles_board)))\n",
    "\n",
    "                if self.marbles_board.is_solved(): break\n",
    "            \n",
    "            steps += 1\n",
    "        print(control_list)\n",
    "        print(f\"Number of steps: {steps}\")"
   ]
  },
  {
   "cell_type": "code",
   "execution_count": 7,
   "id": "fc6fb25e-72bd-4b84-be9f-58ca43744639",
   "metadata": {},
   "outputs": [
    {
     "name": "stdout",
     "output_type": "stream",
     "text": [
      "['1 3 2 0 4']\n",
      "['1 3 2 0 4', '3 2 0 4 1', '2 3 0 4 1', '3 0 4 1 2', '0 3 4 1 2', '3 4 1 2 0', '4 1 2 0 3', '1 4 2 0 3', '4 2 0 3 1', '2 4 0 3 1', '4 0 3 1 2', '0 4 3 1 2', '4 3 1 2 0', '1 2 0 3 4', '2 0 3 4 1', '2 0 3 1 4', '0 2 3 1 4', '2 3 1 4 0', '3 1 4 0 2', '1 3 4 0 2', '3 4 0 2 1', '4 0 2 1 3', '0 4 2 1 3', '4 2 1 3 0', '2 4 1 3 0', '4 1 3 0 2', '1 4 3 0 2', '4 3 0 2 1', '0 2 1 3 4', '2 1 3 4 0', '1 3 0 2 4', '3 0 2 4 1', '0 2 4 1 3', '2 1 3 0 4', '1 2 3 0 4', '0 4 1 2 3', '4 1 2 3 0', '3 1 2 0 4', '0 2 3 4 1', '2 3 4 1 0', '3 4 1 0 2', '4 1 0 2 3', '1 0 2 3 4', '0 1 2 3 4']\n",
      "Number of steps: 103\n"
     ]
    }
   ],
   "source": [
    "board2 = MarblesBoard((1,3,2,0,4))\n",
    "solver2 = Solver(board2)\n",
    "solver2.solve()"
   ]
  },
  {
   "cell_type": "code",
   "execution_count": null,
   "id": "625d00cc-e217-449b-97ff-e885cbb22231",
   "metadata": {},
   "outputs": [],
   "source": []
  }
 ],
 "metadata": {
  "kernelspec": {
   "display_name": "Python 3 (ipykernel)",
   "language": "python",
   "name": "python3"
  },
  "language_info": {
   "codemirror_mode": {
    "name": "ipython",
    "version": 3
   },
   "file_extension": ".py",
   "mimetype": "text/x-python",
   "name": "python",
   "nbconvert_exporter": "python",
   "pygments_lexer": "ipython3",
   "version": "3.9.12"
  }
 },
 "nbformat": 4,
 "nbformat_minor": 5
}
