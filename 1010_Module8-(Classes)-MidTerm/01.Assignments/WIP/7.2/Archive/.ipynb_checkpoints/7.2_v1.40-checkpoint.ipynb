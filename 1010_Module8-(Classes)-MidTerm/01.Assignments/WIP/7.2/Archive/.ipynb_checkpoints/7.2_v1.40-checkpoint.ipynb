{
 "cells": [
  {
   "cell_type": "markdown",
   "id": "7344fc2b-c3d3-497c-9f2d-de763501a627",
   "metadata": {},
   "source": [
    "## 7-2 Sorting Marbles (50 points)\n"
   ]
  },
  {
   "cell_type": "markdown",
   "id": "f37dda76-6b8b-47d9-84cf-bfedb99997c3",
   "metadata": {},
   "source": [
    "---"
   ]
  },
  {
   "cell_type": "markdown",
   "id": "18b18000-47b3-4685-8377-b2ee253136a4",
   "metadata": {},
   "source": [
    "---"
   ]
  },
  {
   "cell_type": "markdown",
   "id": "3428a122",
   "metadata": {},
   "source": [
    "In a particular board game, there is exactly one row and it comprises N spaces, numbered 0 through N - 1 from left to right. There are also N marbles, numbered 0 through N - 1, initially placed in some arbitrary order. After that, there are two moves available that only can be done one at a time:\n",
    "\n",
    "- Switch: Switch the marbles in positions 0 and 1.\n",
    "- Rotate: Move the marble in position 0 to position N - 1, and move all other marbles one space to the left (one index lower).\n",
    "\n",
    "The objective is to arrange the marbles in order, with each marble i in position i.\n",
    "\n",
    "1\\. Write a class, **MarblesBoard**, to represent the game above. (25 points) \n",
    "- Write an `__init__` function that takes a starting sequence of marbles (the number of each marble listed in the positions from 0 to N - 1). (Notice in the sequence all the marbles are different numbers and are sequential numbered but not in order!)\n",
    "- Next, write `switch()` and `rotate()` methods to simulate the player's moves as described above. \n",
    "- Write a method, `is_solved()`, that returns True if the marbles are in the correct order or False otherwise.\n",
    "- Additionally, write `__str__` and `__repr__` methods to display the current state of the board. \n",
    "\n",
    "Your class should behave like the following example:\n",
    "```\n",
    ">>> board = MarblesBoard((3,6,7,4,1,0,8,2,5)) \n",
    ">>> board \n",
    "3 6 7 4 1 0 8 2 5 \n",
    ">>> board.switch() \n",
    ">>> board \n",
    "6 3 7 4 1 0 8 2 5 \n",
    ">>> board.rotate() \n",
    ">>> board \n",
    "3 7 4 1 0 8 2 5 6 \n",
    ">>> board.switch() \n",
    ">>> board \n",
    "7 3 4 1 0 8 2 5 6\n",
    "```"
   ]
  },
  {
   "cell_type": "markdown",
   "id": "13bda2d7-c2d4-4670-bcec-cf4f77575df2",
   "metadata": {},
   "source": [
    "---"
   ]
  },
  {
   "cell_type": "markdown",
   "id": "a751e6db-cc90-4101-a5d9-0416d5b71a48",
   "metadata": {},
   "source": [
    "# Prior Working Model (for Board design only)"
   ]
  },
  {
   "cell_type": "code",
   "execution_count": 5,
   "id": "8d0926e0-a950-4f4b-81da-b6ad920b3920",
   "metadata": {},
   "outputs": [],
   "source": [
    "import random\n",
    "from random import shuffle\n",
    "\n",
    "class MarblesBoard:\n",
    "    \n",
    "    \"\"\"\n",
    "    The MarblesBoard class models the classic game of marbles with an adaptation of Bubble Sort.\n",
    "    There are three basic methods to switch, rotate and to solve\n",
    "    There are N marbles and N spaces (in a row) where they are assigned randomly\n",
    "    The goal is to get the marbles assigned in ascending order (from 0 to N-1) by performing either switch or rotate\n",
    "    There is no limit on teh number of moves\n",
    "    \n",
    "    \"\"\"\n",
    "    \n",
    "    def __init__(self, board):\n",
    "        \n",
    "        \"\"\"\n",
    "        Initializes thh board. Takes N positions (for N marbles) -- which is provided by the user at creation\n",
    "        \"\"\"\n",
    "        \n",
    "#        self.board = tuple(board)\n",
    "        self.board = board\n",
    "        print(self.board)\n",
    "        \n",
    "    def switch(self):\n",
    "        \n",
    "        \"\"\"\n",
    "        Operates only on positions 0 and 1 and swaps the numbers in these two positions\n",
    "        \"\"\"\n",
    "        board_list_switch = list(self.board)\n",
    "        board_list_switch[0], board_list_switch[1] = board_list_switch[1], board_list_switch[0]\n",
    "        self.board = tuple(board_list_switch)\n",
    "        \n",
    "        if self.is_solved(): \n",
    "                print(\"The board has been fully sorted\", self.board)\n",
    "        return (self.board)\n",
    "    \n",
    "    def rotate(self):\n",
    "        \n",
    "        \"\"\"\n",
    "        Rotates item in position o to position N-1. All remaning items are moved as a result (1 step to the left)\n",
    "        \"\"\"\n",
    "        board_list_rotate = list(self.board)\n",
    "        x = len(list(self.board))\n",
    "        \n",
    "        # move marble from position 0 to position N-1\n",
    "        board_list_rotate = board_list_rotate[1:] + [board_list_rotate[0]]\n",
    "        print(board_list_rotate)\n",
    "        \n",
    "        self.board = tuple(board_list_rotate)\n",
    "        \n",
    "        if self.is_solved(): \n",
    "                print(\"The board has been fully sorted\", self.board)\n",
    "        return (self.board)\n",
    "        \n",
    "    def is_solved(self):\n",
    "        \"\"\"\n",
    "        Method to determine if the list of marbles is sorted fully\n",
    "        \"\"\"\n",
    "        return all(self.board[i] <= self.board[i+1] for i in range(len(self.board)-1))\n",
    "        \n",
    "    # using  __str__ method to print\n",
    "    def __str__(self):\n",
    "        return f\"The current status of the board is {self.board}.\"\n",
    "    \n",
    "    # using __repr__ to print and make this readable\n",
    "    def __repr__(self):\n",
    "        return f\"The current status of the board is {self.board}.\""
   ]
  },
  {
   "cell_type": "code",
   "execution_count": 232,
   "id": "49707377-ed52-48b0-bce7-5c12b5e80b29",
   "metadata": {},
   "outputs": [
    {
     "name": "stdout",
     "output_type": "stream",
     "text": [
      "(1, 2, 3)\n"
     ]
    }
   ],
   "source": [
    "b = MarblesBoard((1,2,3))"
   ]
  },
  {
   "cell_type": "code",
   "execution_count": 233,
   "id": "172d8e39-e8ec-47c3-b671-bdc03dd33cc5",
   "metadata": {},
   "outputs": [
    {
     "data": {
      "text/plain": [
       "(2, 1, 3)"
      ]
     },
     "execution_count": 233,
     "metadata": {},
     "output_type": "execute_result"
    }
   ],
   "source": [
    "b.switch()"
   ]
  },
  {
   "cell_type": "code",
   "execution_count": 234,
   "id": "9fb136fa-9df4-4fb5-9c3f-9f95762ce749",
   "metadata": {},
   "outputs": [
    {
     "name": "stdout",
     "output_type": "stream",
     "text": [
      "[1, 3, 2]\n"
     ]
    },
    {
     "data": {
      "text/plain": [
       "(1, 3, 2)"
      ]
     },
     "execution_count": 234,
     "metadata": {},
     "output_type": "execute_result"
    }
   ],
   "source": [
    "b.rotate()"
   ]
  },
  {
   "cell_type": "code",
   "execution_count": 235,
   "id": "d27dda0c-cf24-45fc-ad96-dc749a4c577c",
   "metadata": {},
   "outputs": [
    {
     "data": {
      "text/plain": [
       "False"
      ]
     },
     "execution_count": 235,
     "metadata": {},
     "output_type": "execute_result"
    }
   ],
   "source": [
    "b.is_solved()"
   ]
  },
  {
   "cell_type": "code",
   "execution_count": 236,
   "id": "02afce90-30af-4df2-a970-680227284d51",
   "metadata": {},
   "outputs": [
    {
     "data": {
      "text/plain": [
       "The current status of the board is (1, 3, 2)."
      ]
     },
     "execution_count": 236,
     "metadata": {},
     "output_type": "execute_result"
    }
   ],
   "source": [
    "b"
   ]
  },
  {
   "cell_type": "markdown",
   "id": "96a54084-5ab8-4dcb-b256-ec2816923e06",
   "metadata": {},
   "source": [
    "---"
   ]
  },
  {
   "cell_type": "markdown",
   "id": "6ca7caf7-5673-4f60-9845-8f44d14999a2",
   "metadata": {},
   "source": [
    "2\\. Write a second class, **Solver**, that actually plays the MarblesGame. (25 points)\n",
    "- Write an `__init__` method that takes a MarblesBoard class in its initializer and stores it in an attribute: `board`. \n",
    "- Write a `solve()` method:\n",
    "  - Which repeatedly calls the switch() or the rotate() method of the given MarblesBoard until the game is solved. \n",
    "  - Before the first switch or rotate, make a **list** of **tuples** with the starting tuple of `('start', <board starting state>)`\n",
    "  - After each step ('switch' or 'rotate'), append to the  above **list** a tuple of: \n",
    "    - What step ('switch' or 'rotate') was performed. Remember, you can only do one switch or one rotate per step!\n",
    "    - The state of the board \n",
    "  - Return the above list as output to this method.\n",
    "  - You are to come up with your own algorithm for solving the marbles game. Before you write your solve() method, you may want to practice solving some small versions of the marbles game yourself.\n",
    "  - Your Solver should strive to make the algorithm reasonably efficient and strive to be the fastest runtime. (10 points are awarded based on algorithm efficiency)\n",
    "\n",
    "Below is an example:\n",
    "```\n",
    ">>> board2 = MarblesBoard((1,3,0,2))\n",
    ">>> solver = Solver(board2)\n",
    ">>> solver.solve()\n",
    "[('start', 1 3 0 2),\n",
    " ('rotate', 3 0 2 1),\n",
    " ('rotate', 0 2 1 3),\n",
    " ('rotate', 2 1 3 0),\n",
    " ('switch', 1 2 3 0),\n",
    " ('rotate', 2 3 0 1),\n",
    " ('rotate', 3 0 1 2),\n",
    " ('rotate', 0 1 2 3)]\n",
    "```\n",
    "\n",
    "You may be interested to know that your program is a variation of a well-known sorting algorithm called bubble sort. Bubble sort would normally be used on a list of items, not on a rotating track, but adapting your algorithm to this setting could be straight-forward."
   ]
  },
  {
   "cell_type": "code",
   "execution_count": 6,
   "id": "1c9ee04d",
   "metadata": {
    "tags": []
   },
   "outputs": [],
   "source": [
    "# Q7-2 Grading Tag:\n",
    "\n",
    "import random\n",
    "from random import shuffle\n",
    "\n",
    "class Solver:\n",
    "    \n",
    "    def __init__(self, board):\n",
    "        self.board = board\n",
    "    \n",
    "    def solve(self):\n",
    "        steps = 0\n",
    "        \n",
    "        while True:\n",
    "            \n",
    "            self.board.switch()\n",
    "            steps = steps+1\n",
    "            if steps == 25: break\n",
    "            print(self.board)\n",
    "            \n",
    "            if self.board.is_solved():\n",
    "                print(\"sorted with %d steps\" %(steps))\n",
    "                break\n",
    "            \n",
    "            self.board.rotate()\n",
    "            steps = steps +1\n",
    "            if steps == 25: break\n",
    "            print(self.board)\n",
    "            if self.board.is_solved():\n",
    "                print(\"sorted with %d steps\" %(steps))\n",
    "                break\n",
    "            if steps == 25: break\n",
    "\n"
   ]
  },
  {
   "cell_type": "code",
   "execution_count": 7,
   "id": "adfdb1d6-b92e-4eec-8cba-bfe9e1cb24bd",
   "metadata": {
    "tags": []
   },
   "outputs": [
    {
     "name": "stdout",
     "output_type": "stream",
     "text": [
      "(1, 3, 2, 4)\n"
     ]
    }
   ],
   "source": [
    "b = MarblesBoard((1,3,2,4))"
   ]
  },
  {
   "cell_type": "code",
   "execution_count": 8,
   "id": "c051c4e7-36cd-4da6-b773-f81a4de8227a",
   "metadata": {
    "tags": []
   },
   "outputs": [],
   "source": [
    "solver = Solver(b)"
   ]
  },
  {
   "cell_type": "code",
   "execution_count": 9,
   "id": "fe75c1a1-2082-45d7-974b-8e169b5e1893",
   "metadata": {
    "tags": []
   },
   "outputs": [
    {
     "name": "stdout",
     "output_type": "stream",
     "text": [
      "The current status of the board is (3, 1, 2, 4).\n",
      "[1, 2, 4, 3]\n",
      "The current status of the board is (1, 2, 4, 3).\n",
      "The current status of the board is (2, 1, 4, 3).\n",
      "[1, 4, 3, 2]\n",
      "The current status of the board is (1, 4, 3, 2).\n",
      "The current status of the board is (4, 1, 3, 2).\n",
      "[1, 3, 2, 4]\n",
      "The current status of the board is (1, 3, 2, 4).\n",
      "The current status of the board is (3, 1, 2, 4).\n",
      "[1, 2, 4, 3]\n",
      "The current status of the board is (1, 2, 4, 3).\n",
      "The current status of the board is (2, 1, 4, 3).\n",
      "[1, 4, 3, 2]\n",
      "The current status of the board is (1, 4, 3, 2).\n",
      "The current status of the board is (4, 1, 3, 2).\n",
      "[1, 3, 2, 4]\n",
      "The current status of the board is (1, 3, 2, 4).\n",
      "The current status of the board is (3, 1, 2, 4).\n",
      "[1, 2, 4, 3]\n",
      "The current status of the board is (1, 2, 4, 3).\n",
      "The current status of the board is (2, 1, 4, 3).\n",
      "[1, 4, 3, 2]\n",
      "The current status of the board is (1, 4, 3, 2).\n",
      "The current status of the board is (4, 1, 3, 2).\n",
      "[1, 3, 2, 4]\n",
      "The current status of the board is (1, 3, 2, 4).\n",
      "The current status of the board is (3, 1, 2, 4).\n",
      "[1, 2, 4, 3]\n",
      "The current status of the board is (1, 2, 4, 3).\n",
      "The current status of the board is (2, 1, 4, 3).\n",
      "[1, 4, 3, 2]\n",
      "The current status of the board is (1, 4, 3, 2).\n",
      "The current status of the board is (4, 1, 3, 2).\n",
      "[1, 3, 2, 4]\n",
      "The current status of the board is (1, 3, 2, 4).\n"
     ]
    }
   ],
   "source": [
    "solver.solve()"
   ]
  },
  {
   "cell_type": "code",
   "execution_count": null,
   "id": "0672be8a-6fbb-4d8e-af4a-f12b7144c41a",
   "metadata": {},
   "outputs": [],
   "source": []
  },
  {
   "cell_type": "markdown",
   "id": "d211f09f-9190-43d7-a8dd-317398f01099",
   "metadata": {},
   "source": [
    "<font size = 6, color = red>Current Working Model (Test Board & Solver Together)"
   ]
  },
  {
   "cell_type": "code",
   "execution_count": 17,
   "id": "205f49bc-c53b-4d12-a2d2-7f8266132365",
   "metadata": {
    "jupyter": {
     "source_hidden": true
    },
    "tags": []
   },
   "outputs": [],
   "source": [
    "class MarblesBoard:\n",
    "    \n",
    "    \"\"\"\n",
    "    The MarblesBoard class models the classic game of marbles with an adaptation of Bubble Sort.\n",
    "    There are three basic methods to switch, rotate and to solve\n",
    "    There are N marbles and N spaces (in a row) where they are assigned randomly\n",
    "    The goal is to get the marbles assigned in ascending order (from 0 to N-1) by performing either switch or rotate\n",
    "    There is no limit on teh number of moves\n",
    "    \n",
    "    \"\"\"\n",
    "    \n",
    "    def __init__(self, board):\n",
    "        \n",
    "        \"\"\"\n",
    "        Initializes thh board. Takes N positions (for N marbles) -- which is provided by the user at creation\n",
    "        \"\"\"\n",
    "        \n",
    "#        self.board = tuple(board)\n",
    "        self.board = board\n",
    "        print(self.board)\n",
    "        \n",
    "    def switch(self):\n",
    "        \n",
    "        \"\"\"\n",
    "        Operates only on positions 0 and 1 and swaps the numbers in these two positions\n",
    "        \"\"\"\n",
    "        board_list_switch = list(self.board)\n",
    "        board_list_switch[0], board_list_switch[1] = board_list_switch[1], board_list_switch[0]\n",
    "        self.board = tuple(board_list_switch)\n",
    "        \n",
    "        if self.is_solved(): \n",
    "                print(\"The board has been fully sorted\", self.board)\n",
    "        return (self.board)\n",
    "    \n",
    "    def rotate(self):\n",
    "        \n",
    "        \"\"\"\n",
    "        Rotates item in position o to position N-1. All remaning items are moved as a result (1 step to the left)\n",
    "        \"\"\"\n",
    "        board_list_rotate = list(self.board)\n",
    "        x = len(list(self.board))\n",
    "        \n",
    "        # move marble from position 0 to position N-1\n",
    "        board_list_rotate = board_list_rotate[1:] + [board_list_rotate[0]]\n",
    "        print(board_list_rotate)\n",
    "        \n",
    "        self.board = tuple(board_list_rotate)\n",
    "        \n",
    "        if self.is_solved(): \n",
    "                print(\"The board has been fully sorted\", self.board)\n",
    "        return (self.board)\n",
    "        \n",
    "    def is_solved(self):\n",
    "        \"\"\"\n",
    "        Method to determine if the list of marbles is sorted fully\n",
    "        \"\"\"\n",
    "        return all(self.board[i] <= self.board[i+1] for i in range(len(self.board)-1))\n",
    "\n",
    "#        consider this approach - seems simpler\n",
    "#        return self.board == sorted(self.board) # might need to run this on the list instead of the tuple\n",
    "        \n",
    "    # using  __str__ method to print\n",
    "    def __str__(self):\n",
    "        return f\"The current status of the board is {self.board}.\"\n",
    "    \n",
    "    # using __repr__ to print and make this readable\n",
    "    def __repr__(self):\n",
    "        return f\"The current status of the board is {self.board}.\""
   ]
  },
  {
   "cell_type": "code",
   "execution_count": 18,
   "id": "294567ff-ea8a-40ac-a1fc-061701c0c44e",
   "metadata": {
    "jupyter": {
     "source_hidden": true
    },
    "tags": []
   },
   "outputs": [],
   "source": [
    "class Solver:\n",
    "    \n",
    "    def __init__(self, MarblesBoard):\n",
    "        self.board = MarblesBoard.board\n",
    "        self.steps = 0\n",
    "#        self.board.is_solved = board.is_solved\n",
    "#        print(myboard.is_solved())\n",
    "        print(self.board)\n",
    "\n",
    "        # self.myboard = myboard\n",
    "        #myboard.is_solved() == False \n",
    "#        self.steps = 0\n",
    "#        self.history = []\n",
    "        #history = []\n",
    "    \n",
    "    def solve(self):\n",
    "        # self.steps = 0\n",
    "        n  = len(self.board)\n",
    "        print(self.board)\n",
    "#        self.history = []\n",
    "#        self.board_list_solver = list(self.myboard)\n",
    "        \n",
    "        while MarblesBoard.is_solved(self) == False:\n",
    "            if self.board[0] > self.board[1]:\n",
    "                MarblesBoard.rotate(self)\n",
    "                print(self.board)\n",
    "                self.steps += 1\n",
    "            else:\n",
    "                MarblesBoard.switch(self)\n",
    "                print(self.myboard)\n",
    "                self.steps += 1\n",
    "            print(\"total Steps: \", self.steps)\n",
    "    \n",
    "    \n",
    "        \n",
    "#         while myboard.is_solved() == False:\n",
    "\n",
    "#                 myboard.switch()\n",
    "#                 self.steps += 1\n",
    "#                 print(\"board after switch\", self.myboard)\n",
    "\n",
    "#                 if myboard.is_solved():\n",
    "#                     print(\"sorted with %d steps\" %(steps))\n",
    "#                     break\n",
    "\n",
    "#                 self.myboard.rotate()\n",
    "#                 self.steps += 1\n",
    "#                 print('board after rotate', self.myboard)\n",
    "#                 if self.myboard.is_solved():\n",
    "#                     print(\"sorted with %d steps\" %(steps))\n",
    "#                     break\n",
    "        \n",
    "#         while True:\n",
    "            \n",
    "#             try:\n",
    "#                 myboard.switch()\n",
    "#                 myboard.rotate()\n",
    "#             except: break\n",
    "#             if myboard.is_solved(): break\n",
    "#             self.history.append(myboard)\n",
    "#             print(myboard)\n",
    "            \n",
    "\n",
    "    "
   ]
  },
  {
   "cell_type": "code",
   "execution_count": 19,
   "id": "88806a8b-ccfd-4f47-ae6f-53bdc582bf3d",
   "metadata": {},
   "outputs": [
    {
     "name": "stdout",
     "output_type": "stream",
     "text": [
      "(1, 3, 2, 4)\n"
     ]
    }
   ],
   "source": [
    "myboard = MarblesBoard((1,3,2,4))"
   ]
  },
  {
   "cell_type": "code",
   "execution_count": 20,
   "id": "b41cdb82-bd25-4037-8d34-f17d54d6b44a",
   "metadata": {},
   "outputs": [
    {
     "name": "stdout",
     "output_type": "stream",
     "text": [
      "(1, 3, 2, 4)\n"
     ]
    }
   ],
   "source": [
    "b = Solver(myboard)"
   ]
  },
  {
   "cell_type": "code",
   "execution_count": 21,
   "id": "ba1528cd-33a5-4988-9888-2ee83fd3172d",
   "metadata": {
    "tags": []
   },
   "outputs": [
    {
     "name": "stdout",
     "output_type": "stream",
     "text": [
      "(1, 3, 2, 4)\n"
     ]
    },
    {
     "ename": "AttributeError",
     "evalue": "'Solver' object has no attribute 'is_solved'",
     "output_type": "error",
     "traceback": [
      "\u001b[0;31m---------------------------------------------------------------------------\u001b[0m",
      "\u001b[0;31mAttributeError\u001b[0m                            Traceback (most recent call last)",
      "Input \u001b[0;32mIn [21]\u001b[0m, in \u001b[0;36m<cell line: 1>\u001b[0;34m()\u001b[0m\n\u001b[0;32m----> 1\u001b[0m \u001b[43mb\u001b[49m\u001b[38;5;241;43m.\u001b[39;49m\u001b[43msolve\u001b[49m\u001b[43m(\u001b[49m\u001b[43m)\u001b[49m\n",
      "Input \u001b[0;32mIn [18]\u001b[0m, in \u001b[0;36mSolver.solve\u001b[0;34m(self)\u001b[0m\n\u001b[1;32m     27\u001b[0m     \u001b[38;5;28mself\u001b[39m\u001b[38;5;241m.\u001b[39msteps \u001b[38;5;241m+\u001b[39m\u001b[38;5;241m=\u001b[39m \u001b[38;5;241m1\u001b[39m\n\u001b[1;32m     28\u001b[0m \u001b[38;5;28;01melse\u001b[39;00m:\n\u001b[0;32m---> 29\u001b[0m     \u001b[43mMarblesBoard\u001b[49m\u001b[38;5;241;43m.\u001b[39;49m\u001b[43mswitch\u001b[49m\u001b[43m(\u001b[49m\u001b[38;5;28;43mself\u001b[39;49m\u001b[43m)\u001b[49m\n\u001b[1;32m     30\u001b[0m     \u001b[38;5;28mprint\u001b[39m(\u001b[38;5;28mself\u001b[39m\u001b[38;5;241m.\u001b[39mmyboard)\n\u001b[1;32m     31\u001b[0m     \u001b[38;5;28mself\u001b[39m\u001b[38;5;241m.\u001b[39msteps \u001b[38;5;241m+\u001b[39m\u001b[38;5;241m=\u001b[39m \u001b[38;5;241m1\u001b[39m\n",
      "Input \u001b[0;32mIn [17]\u001b[0m, in \u001b[0;36mMarblesBoard.switch\u001b[0;34m(self)\u001b[0m\n\u001b[1;32m     28\u001b[0m board_list_switch[\u001b[38;5;241m0\u001b[39m], board_list_switch[\u001b[38;5;241m1\u001b[39m] \u001b[38;5;241m=\u001b[39m board_list_switch[\u001b[38;5;241m1\u001b[39m], board_list_switch[\u001b[38;5;241m0\u001b[39m]\n\u001b[1;32m     29\u001b[0m \u001b[38;5;28mself\u001b[39m\u001b[38;5;241m.\u001b[39mboard \u001b[38;5;241m=\u001b[39m \u001b[38;5;28mtuple\u001b[39m(board_list_switch)\n\u001b[0;32m---> 31\u001b[0m \u001b[38;5;28;01mif\u001b[39;00m \u001b[38;5;28;43mself\u001b[39;49m\u001b[38;5;241;43m.\u001b[39;49m\u001b[43mis_solved\u001b[49m(): \n\u001b[1;32m     32\u001b[0m         \u001b[38;5;28mprint\u001b[39m(\u001b[38;5;124m\"\u001b[39m\u001b[38;5;124mThe board has been fully sorted\u001b[39m\u001b[38;5;124m\"\u001b[39m, \u001b[38;5;28mself\u001b[39m\u001b[38;5;241m.\u001b[39mboard)\n\u001b[1;32m     33\u001b[0m \u001b[38;5;28;01mreturn\u001b[39;00m (\u001b[38;5;28mself\u001b[39m\u001b[38;5;241m.\u001b[39mboard)\n",
      "\u001b[0;31mAttributeError\u001b[0m: 'Solver' object has no attribute 'is_solved'"
     ]
    }
   ],
   "source": [
    "b.solve()"
   ]
  },
  {
   "cell_type": "markdown",
   "id": "be6d56bd-e70a-404f-b974-26bc0e3ff68a",
   "metadata": {},
   "source": [
    "# Creating Sanitized Version of the above"
   ]
  },
  {
   "cell_type": "code",
   "execution_count": 36,
   "id": "685ef3c1-46df-432a-a99e-92bb6e6b2e25",
   "metadata": {},
   "outputs": [],
   "source": [
    "class MarblesBoard:\n",
    "    \n",
    "    def __init__(self, board):\n",
    "        \"\"\"\n",
    "        Initializes thh board. Takes N positions (for N marbles) -- which is provided by the user at creation\n",
    "        \"\"\"\n",
    "        self.board = board\n",
    "        board_list = list(self.board)\n",
    "        print(self.board)\n",
    "        \n",
    "    def switch(self):\n",
    "        \"\"\"\n",
    "        Operates only on positions 0 and 1 and swaps the numbers in these two positions\n",
    "        \"\"\"\n",
    "        board_list_switch = list(self.board)\n",
    "        board_list_switch[0], board_list_switch[1] = board_list_switch[1], board_list_switch[0]\n",
    "        self.board = tuple(board_list_switch)\n",
    "        if self.is_solved(): \n",
    "                print(\"The board has been fully sorted\", self.board)\n",
    "        return (self.board)\n",
    "    \n",
    "    def rotate(self):\n",
    "        \"\"\"\n",
    "        Rotates item in position o to position N-1. All remaning items are moved as a result (1 step to the left)\n",
    "        \"\"\"\n",
    "        board_list_rotate = list(self.board)\n",
    "        # move marble from position 0 to position N-1\n",
    "        board_list_rotate = board_list_rotate[1:] + [board_list_rotate[0]]\n",
    "        print(board_list_rotate)\n",
    "        self.board = tuple(board_list_rotate)\n",
    "        if self.is_solved(): \n",
    "                print(\"The board has been fully sorted\", self.board)\n",
    "        return (self.board)\n",
    "        \n",
    "    def is_solved(self):\n",
    "        \"\"\"\n",
    "        Method to determine if the list of marbles is sorted fully\n",
    "        \"\"\"\n",
    "        return all(self.board[i] <= self.board[i+1] for i in range(len(self.board)-1))"
   ]
  },
  {
   "cell_type": "code",
   "execution_count": 32,
   "id": "89390876-fcd7-4b56-bd6d-4f5ed7b03157",
   "metadata": {},
   "outputs": [
    {
     "name": "stdout",
     "output_type": "stream",
     "text": [
      "(1, 3, 2)\n"
     ]
    }
   ],
   "source": [
    "myboard = MarblesBoard((1,3,2))"
   ]
  },
  {
   "cell_type": "code",
   "execution_count": 33,
   "id": "ea1acdf2-3158-4640-b346-9e439c28573b",
   "metadata": {},
   "outputs": [
    {
     "data": {
      "text/plain": [
       "(3, 1, 2)"
      ]
     },
     "execution_count": 33,
     "metadata": {},
     "output_type": "execute_result"
    }
   ],
   "source": [
    "myboard.switch()"
   ]
  },
  {
   "cell_type": "code",
   "execution_count": 34,
   "id": "ba3f540c-dfe9-4059-8b43-50cb0dc85003",
   "metadata": {},
   "outputs": [
    {
     "name": "stdout",
     "output_type": "stream",
     "text": [
      "[1, 2, 3]\n",
      "The board has been fully sorted (1, 2, 3)\n"
     ]
    },
    {
     "data": {
      "text/plain": [
       "(1, 2, 3)"
      ]
     },
     "execution_count": 34,
     "metadata": {},
     "output_type": "execute_result"
    }
   ],
   "source": [
    "myboard.rotate()"
   ]
  },
  {
   "cell_type": "markdown",
   "id": "ef7e9d99-1faa-415b-86d7-5b98155688c3",
   "metadata": {},
   "source": [
    "# Further Sanitized"
   ]
  },
  {
   "cell_type": "code",
   "execution_count": 13,
   "id": "ac9944e4-f8cc-4237-a674-0920b98c6fd0",
   "metadata": {},
   "outputs": [],
   "source": [
    "class MarblesBoard:\n",
    "    \n",
    "    def __init__(self, board):\n",
    "        \"\"\"\n",
    "        Initializes thh board. Takes N positions (for N marbles) -- which is provided by the user at creation\n",
    "        \"\"\"\n",
    "        self.board = board\n",
    "        self.board_list = list(self.board)\n",
    "        print(self.board)\n",
    "        \n",
    "    def switch(self):\n",
    "        \"\"\"\n",
    "        Operates only on positions 0 and 1 and swaps the numbers in these two positions\n",
    "        \"\"\"\n",
    "        self.board_list[0], self.board_list[1] = self.board_list[1], self.board_list[0]\n",
    "        self.board = tuple(self.board_list)\n",
    "        if self.is_solved(): \n",
    "                print(\"The board has been fully sorted\", self.board)\n",
    "        return (self.board)\n",
    "    \n",
    "    def rotate(self):\n",
    "        \"\"\"\n",
    "        Rotates item in position o to position N-1. All remaning items are moved as a result (1 step to the left)\n",
    "        \"\"\"\n",
    "        self.board_list = self.board_list[1:] + [self.board_list[0]]\n",
    "        print(self.board_list)\n",
    "        self.board = tuple(self.board_list)\n",
    "        if self.is_solved(): \n",
    "                print(\"The board has been fully sorted\", self.board)\n",
    "        return (self.board)\n",
    "        \n",
    "    def is_solved(self):\n",
    "        \"\"\"\n",
    "        Method to determine if the list of marbles is sorted fully\n",
    "        \"\"\"\n",
    "        return all(self.board[i] <= self.board[i+1] for i in range(len(self.board)-1))\n",
    "\n",
    "class Solver:\n",
    "    \"\"\"\n",
    "    Runs the rotate and switch methods for the marbleboard and terminates when sorted fully\n",
    "    \"\"\"\n",
    "    \n",
    "    def __init__(self, myboard):\n",
    "        self.board = myboard.board\n",
    "        print(\"this is the board\", self.board)\n",
    "    \n",
    "    def solve(self):\n",
    "        steps = 0\n",
    "        print(\"inside the solvel loop\", self.board)\n",
    "        while True:\n",
    "            if self.board[0] > self.board[1]:\n",
    "                myboard.rotate()\n",
    "                print(\"in the rotate loop\", self.board)\n",
    "                steps += 1\n",
    "            else:\n",
    "                myboard.switch()\n",
    "                print(\"in the switch loop\", self.board)\n",
    "                steps += 1\n",
    "            print(\"total Steps: \", steps)\n",
    "            if steps == 10:break\n",
    "            "
   ]
  },
  {
   "cell_type": "code",
   "execution_count": 14,
   "id": "ec4601e0-7885-46c7-ba53-5c5199e16041",
   "metadata": {},
   "outputs": [
    {
     "name": "stdout",
     "output_type": "stream",
     "text": [
      "(6, 5, 4)\n"
     ]
    }
   ],
   "source": [
    "myboard = MarblesBoard((6,5,4))"
   ]
  },
  {
   "cell_type": "code",
   "execution_count": 15,
   "id": "d30ac46a-e620-4100-9824-e05c8a1a4efe",
   "metadata": {},
   "outputs": [
    {
     "name": "stdout",
     "output_type": "stream",
     "text": [
      "this is the board (6, 5, 4)\n"
     ]
    }
   ],
   "source": [
    "mysolver = Solver(myboard)"
   ]
  },
  {
   "cell_type": "code",
   "execution_count": 16,
   "id": "72542d2d-a2de-455d-8861-b4acf14e748a",
   "metadata": {
    "tags": []
   },
   "outputs": [
    {
     "name": "stdout",
     "output_type": "stream",
     "text": [
      "inside the solvel loop (6, 5, 4)\n",
      "[5, 4, 6]\n",
      "in the rotate loop (6, 5, 4)\n",
      "total Steps:  1\n",
      "[4, 6, 5]\n",
      "in the rotate loop (6, 5, 4)\n",
      "total Steps:  2\n",
      "[6, 5, 4]\n",
      "in the rotate loop (6, 5, 4)\n",
      "total Steps:  3\n",
      "[5, 4, 6]\n",
      "in the rotate loop (6, 5, 4)\n",
      "total Steps:  4\n",
      "[4, 6, 5]\n",
      "in the rotate loop (6, 5, 4)\n",
      "total Steps:  5\n",
      "[6, 5, 4]\n",
      "in the rotate loop (6, 5, 4)\n",
      "total Steps:  6\n",
      "[5, 4, 6]\n",
      "in the rotate loop (6, 5, 4)\n",
      "total Steps:  7\n",
      "[4, 6, 5]\n",
      "in the rotate loop (6, 5, 4)\n",
      "total Steps:  8\n",
      "[6, 5, 4]\n",
      "in the rotate loop (6, 5, 4)\n",
      "total Steps:  9\n",
      "[5, 4, 6]\n",
      "in the rotate loop (6, 5, 4)\n",
      "total Steps:  10\n"
     ]
    }
   ],
   "source": [
    "mysolver.solve()"
   ]
  },
  {
   "cell_type": "code",
   "execution_count": 43,
   "id": "09c6ef92-1cc6-4c14-8df2-9009af668c3d",
   "metadata": {
    "collapsed": true,
    "jupyter": {
     "outputs_hidden": true
    },
    "tags": []
   },
   "outputs": [
    {
     "data": {
      "text/plain": [
       "(5, 3, 4)"
      ]
     },
     "execution_count": 43,
     "metadata": {},
     "output_type": "execute_result"
    }
   ],
   "source": [
    "myboard.switch()"
   ]
  },
  {
   "cell_type": "code",
   "execution_count": 44,
   "id": "a3b1f536-5096-4596-a5e5-16c09e014beb",
   "metadata": {
    "collapsed": true,
    "jupyter": {
     "outputs_hidden": true
    },
    "tags": []
   },
   "outputs": [
    {
     "name": "stdout",
     "output_type": "stream",
     "text": [
      "[3, 4, 5]\n",
      "The board has been fully sorted (3, 4, 5)\n"
     ]
    },
    {
     "data": {
      "text/plain": [
       "(3, 4, 5)"
      ]
     },
     "execution_count": 44,
     "metadata": {},
     "output_type": "execute_result"
    }
   ],
   "source": [
    "myboard.rotate()"
   ]
  },
  {
   "cell_type": "markdown",
   "id": "ae49253b-636a-4dc5-a71b-8de3985c8133",
   "metadata": {},
   "source": [
    "<font size = 6, color = red> Pre-Posting on Stack Overflow - Cleanup"
   ]
  },
  {
   "cell_type": "code",
   "execution_count": 10,
   "id": "dab386b1-a8af-4767-96af-14dd3f5bc3b3",
   "metadata": {},
   "outputs": [],
   "source": [
    "class MarblesBoard:\n",
    "    \n",
    "    def __init__(self, board):\n",
    "        \"\"\"\n",
    "        Initializes thh board. Takes N positions (for N marbles) -- which is provided by the user at creation\n",
    "        \"\"\"\n",
    "        self.board = board\n",
    "        self.board_list = list(self.board)\n",
    "        print(self.board)\n",
    "        \n",
    "    def switch(self):\n",
    "        \"\"\"\n",
    "        Operates only on positions 0 and 1 and swaps the numbers in these two positions\n",
    "        \"\"\"\n",
    "        self.board_list[0], self.board_list[1] = self.board_list[1], self.board_list[0]\n",
    "        self.board = tuple(self.board_list)\n",
    "        # if self.is_solved(): \n",
    "        #         print(\"Inside Switch Loop - The board has been fully sorted\", self.board)\n",
    "        return (self.board)\n",
    "    \n",
    "    def rotate(self):\n",
    "        \"\"\"\n",
    "        Rotates item in position o to position N-1. All remaning items are moved as a result (1 step to the left)\n",
    "        \"\"\"\n",
    "        self.board_list = self.board_list[1:] + [self.board_list[0]]\n",
    "        self.board = tuple(self.board_list)\n",
    "        # if self.is_solved(): \n",
    "        #         print(\"Inside Rotate Loop - The board has been fully sorted\", self.board)\n",
    "        return (self.board)\n",
    "        \n",
    "    def is_solved(self):\n",
    "        \"\"\"\n",
    "        Method to determine if the list of marbles is sorted fully\n",
    "        \"\"\"\n",
    "        return all(self.board[i] <= self.board[i+1] for i in range(len(self.board)-1))\n",
    "\n",
    "class Solver:\n",
    "    \"\"\"\n",
    "    Runs the rotate and switch methods for the marbleboard and terminates when sorted fully\n",
    "    \"\"\"\n",
    "    \n",
    "    def __init__(self, myboard):\n",
    "        self.myboard = myboard.board\n",
    "    \n",
    "    def solve(self):\n",
    "        steps = 0\n",
    "        print(myboard)\n",
    "        while True:\n",
    "            self.myboard.switch()\n",
    "            steps += 1\n",
    "            if self.myboard.is_solved():\n",
    "                print(\"Inside Switch Loop - Sorted with %d steps %d\" %(steps))\n",
    "                # print(\"Inside Switch Loop - board %s\" %(self.myboard))\n",
    "                print(self.myboard)\n",
    "                break\n",
    "            self.myboard.rotate()\n",
    "            if self.myboard.is_solved():\n",
    "                print(\"Inside Rotate Loop - Sorted with %d steps\" %(steps))\n",
    "                # print(\"Inside Switch Loop - board %s\" %(self.myboard))\n",
    "                print(self.myboard)\n",
    "                break\n",
    "            if steps == 100: break\n",
    "            \n",
    "            \n",
    "#             if self.myboard[0] > self.myboard[1]:\n",
    "#                 self.myboard.rotate()\n",
    "#                 print(\"in the rotate loop\", self.myboard)\n",
    "#                 steps += 1\n",
    "#             else:\n",
    "#                 self.myboard.switch()\n",
    "#                 print(\"in the switch loop\", self.myboard)\n",
    "#                 steps += 1\n",
    "#             print(\"total Steps: \", steps)\n",
    "#             if steps == 10:break\n",
    "#           self.myboard.switch()\n",
    "    \n",
    "    "
   ]
  },
  {
   "cell_type": "code",
   "execution_count": 11,
   "id": "8ab0d310-7eda-40df-b816-625f27c8a795",
   "metadata": {},
   "outputs": [
    {
     "name": "stdout",
     "output_type": "stream",
     "text": [
      "(6, 5, 4)\n"
     ]
    }
   ],
   "source": [
    "myboard = MarblesBoard((6,5,4))\n",
    "mysolver = Solver(myboard)"
   ]
  },
  {
   "cell_type": "code",
   "execution_count": 12,
   "id": "141d593e-f7c7-4e7f-a084-b59b6c2b4012",
   "metadata": {},
   "outputs": [
    {
     "name": "stdout",
     "output_type": "stream",
     "text": [
      "<__main__.MarblesBoard object at 0x7fe3e0daa700>\n"
     ]
    },
    {
     "ename": "AttributeError",
     "evalue": "'tuple' object has no attribute 'switch'",
     "output_type": "error",
     "traceback": [
      "\u001b[0;31m---------------------------------------------------------------------------\u001b[0m",
      "\u001b[0;31mAttributeError\u001b[0m                            Traceback (most recent call last)",
      "Input \u001b[0;32mIn [12]\u001b[0m, in \u001b[0;36m<cell line: 1>\u001b[0;34m()\u001b[0m\n\u001b[0;32m----> 1\u001b[0m \u001b[43mmysolver\u001b[49m\u001b[38;5;241;43m.\u001b[39;49m\u001b[43msolve\u001b[49m\u001b[43m(\u001b[49m\u001b[43m)\u001b[49m\n",
      "Input \u001b[0;32mIn [10]\u001b[0m, in \u001b[0;36mSolver.solve\u001b[0;34m(self)\u001b[0m\n\u001b[1;32m     47\u001b[0m \u001b[38;5;28mprint\u001b[39m(myboard)\n\u001b[1;32m     48\u001b[0m \u001b[38;5;28;01mwhile\u001b[39;00m \u001b[38;5;28;01mTrue\u001b[39;00m:\n\u001b[0;32m---> 49\u001b[0m     \u001b[38;5;28;43mself\u001b[39;49m\u001b[38;5;241;43m.\u001b[39;49m\u001b[43mmyboard\u001b[49m\u001b[38;5;241;43m.\u001b[39;49m\u001b[43mswitch\u001b[49m()\n\u001b[1;32m     50\u001b[0m     steps \u001b[38;5;241m+\u001b[39m\u001b[38;5;241m=\u001b[39m \u001b[38;5;241m1\u001b[39m\n\u001b[1;32m     51\u001b[0m     \u001b[38;5;28;01mif\u001b[39;00m \u001b[38;5;28mself\u001b[39m\u001b[38;5;241m.\u001b[39mmyboard\u001b[38;5;241m.\u001b[39mis_solved():\n",
      "\u001b[0;31mAttributeError\u001b[0m: 'tuple' object has no attribute 'switch'"
     ]
    }
   ],
   "source": [
    "mysolver.solve()"
   ]
  },
  {
   "cell_type": "code",
   "execution_count": null,
   "id": "3726d9ab-3e7d-4fdc-b568-5bbd97b03af2",
   "metadata": {},
   "outputs": [],
   "source": []
  },
  {
   "cell_type": "code",
   "execution_count": null,
   "id": "45314317-08a1-4d95-b166-c3e23d4f903d",
   "metadata": {},
   "outputs": [],
   "source": []
  },
  {
   "cell_type": "code",
   "execution_count": null,
   "id": "178409cf-55f0-4220-aeac-05466344420c",
   "metadata": {},
   "outputs": [],
   "source": []
  }
 ],
 "metadata": {
  "kernelspec": {
   "display_name": "Python 3 (ipykernel)",
   "language": "python",
   "name": "python3"
  },
  "language_info": {
   "codemirror_mode": {
    "name": "ipython",
    "version": 3
   },
   "file_extension": ".py",
   "mimetype": "text/x-python",
   "name": "python",
   "nbconvert_exporter": "python",
   "pygments_lexer": "ipython3",
   "version": "3.9.12"
  }
 },
 "nbformat": 4,
 "nbformat_minor": 5
}
