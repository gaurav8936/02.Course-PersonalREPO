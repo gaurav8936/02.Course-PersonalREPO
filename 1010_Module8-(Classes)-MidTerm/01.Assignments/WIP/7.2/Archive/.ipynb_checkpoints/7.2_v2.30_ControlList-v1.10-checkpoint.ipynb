{
 "cells": [
  {
   "cell_type": "markdown",
   "id": "54e5cf67-0e68-4607-b1f1-6d6ed74bed0c",
   "metadata": {},
   "source": [
    "---"
   ]
  },
  {
   "cell_type": "markdown",
   "id": "3593873a-1a17-4be2-bfa0-11ccf97d4cf5",
   "metadata": {},
   "source": [
    "In a particular board game, there is exactly one row and it comprises N spaces, numbered 0 through N - 1 from left to right. There are also N marbles, numbered 0 through N - 1, initially placed in some arbitrary order. After that, there are two moves available that only can be done one at a time:\n",
    "\n",
    "- Switch: Switch the marbles in positions 0 and 1.\n",
    "- Rotate: Move the marble in position 0 to position N - 1, and move all other marbles one space to the left (one index lower).\n",
    "\n",
    "The objective is to arrange the marbles in order, with each marble i in position i.\n",
    "\n",
    "1\\. Write a class, **MarblesBoard**, to represent the game above. (25 points) \n",
    "- Write an `__init__` function that takes a starting sequence of marbles (the number of each marble listed in the positions from 0 to N - 1). (Notice in the sequence all the marbles are different numbers and are sequential numbered but not in order!)\n",
    "- Next, write `switch()` and `rotate()` methods to simulate the player's moves as described above. \n",
    "- Write a method, `is_solved()`, that returns True if the marbles are in the correct order or False otherwise.\n",
    "- Additionally, write `__str__` and `__repr__` methods to display the current state of the board. \n",
    "\n",
    "Your class should behave like the following example:\n",
    "```\n",
    ">>> board = MarblesBoard((3,6,7,4,1,0,8,2,5)) \n",
    ">>> board \n",
    "3 6 7 4 1 0 8 2 5 \n",
    ">>> board.switch() \n",
    ">>> board \n",
    "6 3 7 4 1 0 8 2 5 \n",
    ">>> board.rotate() \n",
    ">>> board \n",
    "3 7 4 1 0 8 2 5 6 \n",
    ">>> board.switch() \n",
    ">>> board \n",
    "7 3 4 1 0 8 2 5 6\n",
    "```"
   ]
  },
  {
   "cell_type": "markdown",
   "id": "7794296a-8b64-4fce-be46-1a1ec2716a95",
   "metadata": {},
   "source": [
    "2\\. Write a second class, **Solver**, that actually plays the MarblesGame. (25 points)\n",
    "- Write an `__init__` method that takes a MarblesBoard class in its initializer and stores it in an attribute: `board`. \n",
    "- Write a `solve()` method:\n",
    "  - Which repeatedly calls the switch() or the rotate() method of the given MarblesBoard until the game is solved. \n",
    "  - Before the first switch or rotate, make a **list** of **tuples** with the starting tuple of `('start', <board starting state>)`\n",
    "  - After each step ('switch' or 'rotate'), append to the  above **list** a tuple of: \n",
    "    - What step ('switch' or 'rotate') was performed. Remember, you can only do one switch or one rotate per step!\n",
    "    - The state of the board \n",
    "  - Return the above list as output to this method.\n",
    "  - You are to come up with your own algorithm for solving the marbles game. Before you write your solve() method, you may want to practice solving some small versions of the marbles game yourself.\n",
    "  - Your Solver should strive to make the algorithm reasonably efficient and strive to be the fastest runtime. (10 points are awarded based on algorithm efficiency)\n",
    "\n",
    "Below is an example:\n",
    "```\n",
    ">>> board2 = MarblesBoard((1,3,0,2))\n",
    ">>> solver = Solver(board2)\n",
    ">>> solver.solve()\n",
    "[('start', 1 3 0 2),\n",
    " ('rotate', 3 0 2 1),\n",
    " ('rotate', 0 2 1 3),\n",
    " ('rotate', 2 1 3 0),\n",
    " ('switch', 1 2 3 0),\n",
    " ('rotate', 2 3 0 1),\n",
    " ('rotate', 3 0 1 2),\n",
    " ('rotate', 0 1 2 3)]\n",
    "```\n",
    "\n",
    "You may be interested to know that your program is a variation of a well-known sorting algorithm called bubble sort. Bubble sort would normally be used on a list of items, not on a rotating track, but adapting your algorithm to this setting could be straight-forward."
   ]
  },
  {
   "cell_type": "markdown",
   "id": "6cf3c832-7453-4ff8-a61e-3f20bf8acfaf",
   "metadata": {},
   "source": [
    "---"
   ]
  },
  {
   "cell_type": "markdown",
   "id": "61782b72-c9a2-4d45-96d5-11382b6f2757",
   "metadata": {},
   "source": [
    "<font size = 6, color = blue>Current Working Model (Started with Gold)"
   ]
  },
  {
   "cell_type": "code",
   "execution_count": 27,
   "id": "bc404817-ec3d-4ceb-aea3-a136e6c23c6f",
   "metadata": {},
   "outputs": [],
   "source": [
    "import random\n",
    "\n",
    "class MarblesBoard:\n",
    "    \"\"\"creates a marble board with number marbles in specific spots\"\"\"\n",
    "    def __init__(self, marble_sequence):\n",
    "        self.board = [x for x in marble_sequence]\n",
    "\n",
    "    def __str__(self):\n",
    "        return \" \".join(map(str, self.board))\n",
    "\n",
    "    def __repr__(self):\n",
    "        return \"%r \" % (self.board)\n",
    "\n",
    "    def switch(self):\n",
    "        \"\"\"switch the marbles in position 0 and 1\"\"\"\n",
    "        self.board[0], self.board[1] = self.board[1], self.board[0]\n",
    "        return self.board\n",
    "\n",
    "    def rotate(self):\n",
    "#         \"\"\"\n",
    "#         Rotates item in position o to position N-1. All remaning items are moved as a result (1 step to the left)\n",
    "#         \"\"\"\n",
    "        self.board = self.board[1:] + [self.board[0]]\n",
    "        return self.board\n",
    "    \n",
    "    def is_solved(self):\n",
    "        return self.board == sorted(self.board)\n",
    "    \n",
    "    def random_select(self):\n",
    "        # used a random generator for True/False -- used to select Switch or Rotate\n",
    "        return random.choice([True, False])\n",
    "\n",
    "    def first_two(self):\n",
    "        return self.board[0] < self.board[1]\n",
    "\n",
    "    \n",
    "class Solver:\n",
    "    \"\"\"solves the marble sorting game when given a marble board as input\"\"\"\n",
    "\n",
    "    def __init__(self, marbles_board):\n",
    "        self.marbles_board = marbles_board\n",
    "#        myboard = self.marbles_board\n",
    "        \n",
    "    def solve(self):\n",
    "        steps = 0\n",
    "        mylist = []\n",
    "        myboard = self.marbles_board\n",
    "        mylist.append(('start', str(myboard)))\n",
    "#        mylist.append(('start', (myboard)))\n",
    "\n",
    "#        print(mylist)\n",
    "\n",
    "        control_list = []\n",
    "#        control_list.append(('start', str(myboard)))\n",
    "        control_list.append(str(myboard))\n",
    "#        control_list.append(tuple(myboard))\n",
    "        print(control_list)\n",
    "        # target = str(sorted(myboard))\n",
    "        # print(target)\n",
    "\n",
    "        while not self.marbles_board.is_solved():\n",
    "            if steps == 200:break\n",
    "            if self.marbles_board.first_two():\n",
    "                self.marbles_board.rotate()\n",
    "#                print(str(self.marbles_board))\n",
    "                if str(self.marbles_board) in control_list: pass#self.marbles_board.switch()\n",
    "                else:control_list.append((str(self.marbles_board)))\n",
    "                if self.marbles_board.is_solved(): break\n",
    "\n",
    "            else:\n",
    "                self.marbles_board.switch()\n",
    "#                print(str(self.marbles_board))\n",
    "                if str(self.marbles_board) in control_list: pass#self.marbles_board.rotate()\n",
    "                else:control_list.append((str(self.marbles_board)))\n",
    "                if self.marbles_board.is_solved(): break\n",
    "\n",
    "\n",
    "            if self.marbles_board.random_select():\n",
    "                self.marbles_board.rotate()\n",
    "#                print(str(self.marbles_board))\n",
    "                if str(self.marbles_board) in control_list: pass#self.marbles_board.switch()\n",
    "#                mylist.append(('rotate', str(self.marbles_board)))\n",
    "                else:control_list.append((str(self.marbles_board)))\n",
    "\n",
    "                if self.marbles_board.is_solved(): break\n",
    "            \n",
    "            steps += 1\n",
    "#        return mylist\n",
    "        print(control_list)\n",
    "        print(f\"Number of steps: {steps}\")\n",
    "        print(self.marbles_board)\n"
   ]
  },
  {
   "cell_type": "markdown",
   "id": "81e43be8-67d3-4502-9acc-01d090fc0dd2",
   "metadata": {},
   "source": [
    "---\n",
    "* 7-2: Test if solver solves MarblesBoard((1,3,2,0,4)) in 30 steps or less (0.0/4.0)\n",
    "* Test Failed: False is not true : Algorithm takes more than 30 steps. # of steps recorded: 229\n",
    "\n",
    "---"
   ]
  },
  {
   "cell_type": "markdown",
   "id": "5cb17082-8328-49ed-9e2b-558827d6b6f2",
   "metadata": {},
   "source": [
    "* 7-2: Test if solver solves MarblesBoard((1,3,2,0,4)) in 20 steps or less (0.0/4.0)\n",
    "Test Failed: False is not true : Algorithm takes more than 20 steps. # of steps recorded: 69\n",
    "------"
   ]
  },
  {
   "cell_type": "code",
   "execution_count": 28,
   "id": "333499f3-a83f-4dc8-8dde-aaf6e512f0e0",
   "metadata": {
    "tags": []
   },
   "outputs": [
    {
     "name": "stdout",
     "output_type": "stream",
     "text": [
      "['1 3 2 0 4']\n",
      "['1 3 2 0 4', '3 2 0 4 1', '2 0 4 1 3', '0 2 4 1 3', '2 4 1 3 0', '4 1 3 0 2', '1 3 0 2 4', '3 0 2 4 1', '1 4 3 0 2', '4 3 0 2 1', '3 4 0 2 1', '4 0 2 1 3', '0 4 2 1 3', '4 2 1 3 0', '3 0 2 1 4', '0 3 2 1 4', '3 2 1 4 0', '2 3 1 4 0', '3 1 4 0 2', '1 4 0 2 3', '4 0 2 3 1', '0 4 2 3 1', '4 2 3 1 0', '2 4 3 1 0', '4 3 1 0 2', '3 1 0 2 4', '2 1 4 0 3', '1 2 4 0 3', '2 4 0 3 1', '4 0 3 1 2', '0 3 1 2 4', '3 1 2 4 0', '1 3 2 4 0', '3 2 4 0 1', '2 3 4 0 1', '3 4 0 1 2', '4 0 1 2 3', '0 4 1 2 3', '4 1 2 3 0', '1 2 3 0 4', '2 3 0 4 1', '3 0 4 1 2', '1 4 2 3 0', '4 2 3 0 1', '2 4 3 0 1', '4 3 0 1 2', '0 1 2 3 4']\n",
      "Number of steps: 51\n",
      "0 1 2 3 4\n"
     ]
    }
   ],
   "source": [
    "board2 = MarblesBoard((1,3,2,0,4))\n",
    "solver2 = Solver(board2)\n",
    "solver2.solve()"
   ]
  },
  {
   "cell_type": "code",
   "execution_count": 58,
   "id": "28c4711b-9f35-4c56-888c-f6c0bdc5a376",
   "metadata": {},
   "outputs": [],
   "source": [
    "control_list = ['1 3 2 0 4', '3 2 0 4 1', '2 3 0 4 1', '3 0 4 1 2', '0 3 4 1 2', '3 4 1 2 0', '4 1 2 0 3', '1 2 0 3 4', '2 0 3 4 1']"
   ]
  },
  {
   "cell_type": "code",
   "execution_count": 64,
   "id": "e59f556b-974d-4e2f-9437-ce83a1e6ce51",
   "metadata": {},
   "outputs": [
    {
     "data": {
      "text/plain": [
       "False"
      ]
     },
     "execution_count": 64,
     "metadata": {},
     "output_type": "execute_result"
    }
   ],
   "source": [
    "str([1, 3, 2, 0, 4]) in control_list"
   ]
  },
  {
   "cell_type": "code",
   "execution_count": null,
   "id": "854f89ec-3e35-4317-af71-a5cec46f55ef",
   "metadata": {},
   "outputs": [],
   "source": []
  },
  {
   "cell_type": "code",
   "execution_count": null,
   "id": "815ed7e9-e58f-423a-8c19-674fb9cb7fd7",
   "metadata": {},
   "outputs": [],
   "source": []
  },
  {
   "cell_type": "code",
   "execution_count": null,
   "id": "46905d7c-2311-41a1-b281-6204f50b5e84",
   "metadata": {},
   "outputs": [],
   "source": [
    "solver2 = Solver(board2)"
   ]
  },
  {
   "cell_type": "code",
   "execution_count": 15,
   "id": "256007fd-686f-4a0c-83a3-c681a929ae4b",
   "metadata": {
    "tags": []
   },
   "outputs": [
    {
     "ename": "TypeError",
     "evalue": "'MarblesBoard' object is not iterable",
     "output_type": "error",
     "traceback": [
      "\u001b[0;31m---------------------------------------------------------------------------\u001b[0m",
      "\u001b[0;31mTypeError\u001b[0m                                 Traceback (most recent call last)",
      "Input \u001b[0;32mIn [15]\u001b[0m, in \u001b[0;36m<cell line: 1>\u001b[0;34m()\u001b[0m\n\u001b[0;32m----> 1\u001b[0m \u001b[43msolver2\u001b[49m\u001b[38;5;241;43m.\u001b[39;49m\u001b[43msolve\u001b[49m\u001b[43m(\u001b[49m\u001b[43m)\u001b[49m\n",
      "Input \u001b[0;32mIn [13]\u001b[0m, in \u001b[0;36mSolver.solve\u001b[0;34m(self)\u001b[0m\n\u001b[1;32m     49\u001b[0m \u001b[38;5;66;03m#        mylist.append(('start', (myboard)))\u001b[39;00m\n\u001b[1;32m     50\u001b[0m \n\u001b[1;32m     51\u001b[0m \u001b[38;5;66;03m#        print(mylist)\u001b[39;00m\n\u001b[1;32m     53\u001b[0m         control_list \u001b[38;5;241m=\u001b[39m [()]\n\u001b[0;32m---> 54\u001b[0m         control_list\u001b[38;5;241m.\u001b[39mappend(\u001b[38;5;28;43mtuple\u001b[39;49m\u001b[43m(\u001b[49m\u001b[43mmyboard\u001b[49m\u001b[43m)\u001b[49m)\n\u001b[1;32m     55\u001b[0m         \u001b[38;5;28mprint\u001b[39m(control_list)\n\u001b[1;32m     57\u001b[0m         \u001b[38;5;28;01mwhile\u001b[39;00m \u001b[38;5;129;01mnot\u001b[39;00m \u001b[38;5;28mself\u001b[39m\u001b[38;5;241m.\u001b[39mmarbles_board\u001b[38;5;241m.\u001b[39mis_solved():\n\u001b[1;32m     58\u001b[0m \u001b[38;5;66;03m#            if steps == 200:break\u001b[39;00m\n",
      "\u001b[0;31mTypeError\u001b[0m: 'MarblesBoard' object is not iterable"
     ]
    }
   ],
   "source": [
    "solver2.solve()"
   ]
  },
  {
   "cell_type": "markdown",
   "id": "80369605-7b34-4389-a564-5e7db481fe11",
   "metadata": {},
   "source": []
  },
  {
   "cell_type": "code",
   "execution_count": null,
   "id": "19f3f0f7-8885-4b72-b809-bbb344aa55e6",
   "metadata": {},
   "outputs": [],
   "source": []
  },
  {
   "cell_type": "code",
   "execution_count": 31,
   "id": "c1bf35e7-030f-4725-adae-b090de90312a",
   "metadata": {},
   "outputs": [],
   "source": [
    "board1 = MarblesBoard((0,1,2,3))"
   ]
  },
  {
   "cell_type": "code",
   "execution_count": 19,
   "id": "826f010a-0ec0-4eb1-b94e-8b907cf9be20",
   "metadata": {},
   "outputs": [],
   "source": [
    "board1 = MarblesBoard((3,6,7,4,1,0,8,2,5))"
   ]
  },
  {
   "cell_type": "code",
   "execution_count": null,
   "id": "62c4f2cb-385d-4e70-8e94-2c400cf00d3b",
   "metadata": {},
   "outputs": [],
   "source": [
    "solver1.solve()"
   ]
  },
  {
   "cell_type": "code",
   "execution_count": null,
   "id": "47d9b9a3-dcd2-4d82-bf0c-138f4732adee",
   "metadata": {},
   "outputs": [],
   "source": []
  },
  {
   "cell_type": "code",
   "execution_count": 32,
   "id": "35c5c95a-9599-4656-83c5-590a28a7f084",
   "metadata": {},
   "outputs": [],
   "source": [
    "board1 = MarblesBoard((5,3,4,2))\n",
    "#board1 = MarblesBoard((5,3,4,2, 7,8,6,9))"
   ]
  },
  {
   "cell_type": "code",
   "execution_count": 33,
   "id": "2bf92be3-dce9-4e5f-9372-2e91c12794fd",
   "metadata": {},
   "outputs": [],
   "source": [
    "solver1 = Solver(board1)"
   ]
  },
  {
   "cell_type": "code",
   "execution_count": 34,
   "id": "2e39b19b-72fa-440a-bd4a-3856b8d1b20c",
   "metadata": {
    "tags": []
   },
   "outputs": [
    {
     "data": {
      "text/plain": [
       "[('start', '5 3 4 2'),\n",
       " ('switch', '3 5 4 2'),\n",
       " ('rotate', '5 4 2 3'),\n",
       " ('switch', '4 5 2 3'),\n",
       " ('rotate', '5 2 3 4'),\n",
       " ('rotate', '2 3 4 5')]"
      ]
     },
     "execution_count": 34,
     "metadata": {},
     "output_type": "execute_result"
    }
   ],
   "source": [
    "solver1.solve()"
   ]
  },
  {
   "cell_type": "markdown",
   "id": "fabe0aa7-59cc-4262-99e7-9aff92cd7565",
   "metadata": {},
   "source": []
  },
  {
   "cell_type": "code",
   "execution_count": null,
   "id": "a5be7753-ba8e-40d5-a547-520249ddfc9f",
   "metadata": {},
   "outputs": [],
   "source": []
  }
 ],
 "metadata": {
  "kernelspec": {
   "display_name": "Python 3 (ipykernel)",
   "language": "python",
   "name": "python3"
  },
  "language_info": {
   "codemirror_mode": {
    "name": "ipython",
    "version": 3
   },
   "file_extension": ".py",
   "mimetype": "text/x-python",
   "name": "python",
   "nbconvert_exporter": "python",
   "pygments_lexer": "ipython3",
   "version": "3.9.12"
  }
 },
 "nbformat": 4,
 "nbformat_minor": 5
}
