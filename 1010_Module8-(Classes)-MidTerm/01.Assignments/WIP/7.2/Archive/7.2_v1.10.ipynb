{
 "cells": [
  {
   "cell_type": "markdown",
   "id": "7344fc2b-c3d3-497c-9f2d-de763501a627",
   "metadata": {},
   "source": [
    "## 7-2 Sorting Marbles (50 points)\n"
   ]
  },
  {
   "cell_type": "markdown",
   "id": "f37dda76-6b8b-47d9-84cf-bfedb99997c3",
   "metadata": {},
   "source": [
    "---"
   ]
  },
  {
   "cell_type": "markdown",
   "id": "18b18000-47b3-4685-8377-b2ee253136a4",
   "metadata": {},
   "source": [
    "---"
   ]
  },
  {
   "cell_type": "markdown",
   "id": "3428a122",
   "metadata": {},
   "source": [
    "In a particular board game, there is exactly one row and it comprises N spaces, numbered 0 through N - 1 from left to right. There are also N marbles, numbered 0 through N - 1, initially placed in some arbitrary order. After that, there are two moves available that only can be done one at a time:\n",
    "\n",
    "- Switch: Switch the marbles in positions 0 and 1.\n",
    "- Rotate: Move the marble in position 0 to position N - 1, and move all other marbles one space to the left (one index lower).\n",
    "\n",
    "The objective is to arrange the marbles in order, with each marble i in position i.\n",
    "\n",
    "1\\. Write a class, **MarblesBoard**, to represent the game above. (25 points) \n",
    "- Write an `__init__` function that takes a starting sequence of marbles (the number of each marble listed in the positions from 0 to N - 1). (Notice in the sequence all the marbles are different numbers and are sequential numbered but not in order!)\n",
    "- Next, write `switch()` and `rotate()` methods to simulate the player's moves as described above. \n",
    "- Write a method, `is_solved()`, that returns True if the marbles are in the correct order or False otherwise.\n",
    "- Additionally, write `__str__` and `__repr__` methods to display the current state of the board. \n",
    "\n",
    "Your class should behave like the following example:\n",
    "```\n",
    ">>> board = MarblesBoard((3,6,7,4,1,0,8,2,5)) \n",
    ">>> board \n",
    "3 6 7 4 1 0 8 2 5 \n",
    ">>> board.switch() \n",
    ">>> board \n",
    "6 3 7 4 1 0 8 2 5 \n",
    ">>> board.rotate() \n",
    ">>> board \n",
    "3 7 4 1 0 8 2 5 6 \n",
    ">>> board.switch() \n",
    ">>> board \n",
    "7 3 4 1 0 8 2 5 6\n",
    "```"
   ]
  },
  {
   "cell_type": "markdown",
   "id": "13bda2d7-c2d4-4670-bcec-cf4f77575df2",
   "metadata": {},
   "source": [
    "---"
   ]
  },
  {
   "cell_type": "markdown",
   "id": "a751e6db-cc90-4101-a5d9-0416d5b71a48",
   "metadata": {},
   "source": [
    "<font size = 6, color = red>Current Working Model"
   ]
  },
  {
   "cell_type": "code",
   "execution_count": 93,
   "id": "8d0926e0-a950-4f4b-81da-b6ad920b3920",
   "metadata": {},
   "outputs": [],
   "source": [
    "import random\n",
    "from random import shuffle\n",
    "\n",
    "class MarblesBoard:\n",
    "    \n",
    "    \"\"\"\n",
    "    The MarblesBoard class models the classic game of marbles with an adaptation of Bubble Sort.\n",
    "    There are three basic methods to switch, rotate and to solve\n",
    "    There are N marbles and N spaces (in a row) where they are assigned randomly\n",
    "    The goal is to get the marbles assigned in ascending order (from 0 to N-1) by performing either switch or rotate\n",
    "    There is no limit on teh number of moves\n",
    "    \n",
    "    \"\"\"\n",
    "    \n",
    "    def __init__(self, board):\n",
    "        \n",
    "        \"\"\"\n",
    "        Initializes thh board. Takes N positions (for N marbles) -- which is provided by the user at creation\n",
    "        \"\"\"\n",
    "        \n",
    "#        self.board = tuple(board)\n",
    "        self.board = board\n",
    "        print(self.board)\n",
    "        \n",
    "    def switch(self):\n",
    "        \n",
    "        \"\"\"\n",
    "        Operates only on positions 0 and 1 and swaps the numbers in these two positions\n",
    "        \"\"\"\n",
    "        board_list_switch = list(self.board)\n",
    "        board_list_switch[0], board_list_switch[1] = board_list_switch[1], board_list_switch[0]\n",
    "        self.board = tuple(board_list_switch)\n",
    "        \n",
    "        if self.final_sort(): \n",
    "                print(\"The board has been fully sorted\", self.board)\n",
    "        return (self.board)\n",
    "#        print(self.board)\n",
    "    \n",
    "    \n",
    "    def rotate(self):\n",
    "        \n",
    "        \"\"\"\n",
    "        Rotates item in position o to position N-1. All remaning items are moved as a result (1 step to the left)\n",
    "        \"\"\"\n",
    "        board_list_rotate = list(self.board)\n",
    "        x = len(list(self.board))\n",
    "        \n",
    "        # move marble from position 0 to position N-1\n",
    "        board_list_rotate = board_list_rotate[1:] + [board_list_rotate[0]]\n",
    "        print(board_list_rotate)\n",
    "        \n",
    "        self.board = tuple(board_list_rotate)\n",
    "        \n",
    "        if self.final_sort(): \n",
    "                print(\"The board has been fully sorted\", self.board)\n",
    "        return (self.board)\n",
    "#        print(self.board)\n",
    "        \n",
    "\n",
    "    def final_sort(self):\n",
    "        \"\"\"\n",
    "        Method to determine if the list of marbles is sorted fully\n",
    "        \"\"\"\n",
    "        return all(self.board[i] <= self.board[i+1] for i in range(len(self.board)-1))\n",
    "        \n",
    "        \n",
    "    # using  __str__ method to print\n",
    "    def __str__(self):\n",
    "        return f\"The current status of the board is {self.board}.\"\n",
    "    \n",
    "    # using __repr__ to print and make this readable\n",
    "    def __repr__(self):\n",
    "        return f\"The current status of the board is {self.board}.\""
   ]
  },
  {
   "cell_type": "code",
   "execution_count": 94,
   "id": "49707377-ed52-48b0-bce7-5c12b5e80b29",
   "metadata": {},
   "outputs": [
    {
     "name": "stdout",
     "output_type": "stream",
     "text": [
      "(1, 2, 3)\n"
     ]
    }
   ],
   "source": [
    "b = MarblesBoard((1,2,3))"
   ]
  },
  {
   "cell_type": "code",
   "execution_count": 95,
   "id": "172d8e39-e8ec-47c3-b671-bdc03dd33cc5",
   "metadata": {},
   "outputs": [
    {
     "data": {
      "text/plain": [
       "(2, 1, 3)"
      ]
     },
     "execution_count": 95,
     "metadata": {},
     "output_type": "execute_result"
    }
   ],
   "source": [
    "b.switch()"
   ]
  },
  {
   "cell_type": "code",
   "execution_count": 99,
   "id": "9fb136fa-9df4-4fb5-9c3f-9f95762ce749",
   "metadata": {},
   "outputs": [
    {
     "name": "stdout",
     "output_type": "stream",
     "text": [
      "[3, 2, 1]\n"
     ]
    },
    {
     "data": {
      "text/plain": [
       "(3, 2, 1)"
      ]
     },
     "execution_count": 99,
     "metadata": {},
     "output_type": "execute_result"
    }
   ],
   "source": [
    "b.rotate()"
   ]
  },
  {
   "cell_type": "code",
   "execution_count": 97,
   "id": "d27dda0c-cf24-45fc-ad96-dc749a4c577c",
   "metadata": {},
   "outputs": [
    {
     "data": {
      "text/plain": [
       "False"
      ]
     },
     "execution_count": 97,
     "metadata": {},
     "output_type": "execute_result"
    }
   ],
   "source": [
    "b.final_sort()"
   ]
  },
  {
   "cell_type": "code",
   "execution_count": 100,
   "id": "02afce90-30af-4df2-a970-680227284d51",
   "metadata": {},
   "outputs": [
    {
     "data": {
      "text/plain": [
       "The current status of the board is (3, 2, 1)."
      ]
     },
     "execution_count": 100,
     "metadata": {},
     "output_type": "execute_result"
    }
   ],
   "source": [
    "b"
   ]
  },
  {
   "cell_type": "markdown",
   "id": "96a54084-5ab8-4dcb-b256-ec2816923e06",
   "metadata": {},
   "source": [
    "---"
   ]
  },
  {
   "cell_type": "markdown",
   "id": "6ca7caf7-5673-4f60-9845-8f44d14999a2",
   "metadata": {},
   "source": [
    "2\\. Write a second class, **Solver**, that actually plays the MarblesGame. (25 points)\n",
    "- Write an `__init__` method that takes a MarblesBoard class in its initializer and stores it in an attribute: `board`. \n",
    "- Write a `solve()` method:\n",
    "  - Which repeatedly calls the switch() or the rotate() method of the given MarblesBoard until the game is solved. \n",
    "  - Before the first switch or rotate, make a **list** of **tuples** with the starting tuple of `('start', <board starting state>)`\n",
    "  - After each step ('switch' or 'rotate'), append to the  above **list** a tuple of: \n",
    "    - What step ('switch' or 'rotate') was performed. Remember, you can only do one switch or one rotate per step!\n",
    "    - The state of the board \n",
    "  - Return the above list as output to this method.\n",
    "  - You are to come up with your own algorithm for solving the marbles game. Before you write your solve() method, you may want to practice solving some small versions of the marbles game yourself.\n",
    "  - Your Solver should strive to make the algorithm reasonably efficient and strive to be the fastest runtime. (10 points are awarded based on algorithm efficiency)\n",
    "\n",
    "Below is an example:\n",
    "```\n",
    ">>> board2 = MarblesBoard((1,3,0,2))\n",
    ">>> solver = Solver(board2)\n",
    ">>> solver.solve()\n",
    "[('start', 1 3 0 2),\n",
    " ('rotate', 3 0 2 1),\n",
    " ('rotate', 0 2 1 3),\n",
    " ('rotate', 2 1 3 0),\n",
    " ('switch', 1 2 3 0),\n",
    " ('rotate', 2 3 0 1),\n",
    " ('rotate', 3 0 1 2),\n",
    " ('rotate', 0 1 2 3)]\n",
    "```\n",
    "\n",
    "You may be interested to know that your program is a variation of a well-known sorting algorithm called bubble sort. Bubble sort would normally be used on a list of items, not on a rotating track, but adapting your algorithm to this setting could be straight-forward."
   ]
  },
  {
   "cell_type": "code",
   "execution_count": null,
   "id": "1c9ee04d",
   "metadata": {},
   "outputs": [],
   "source": [
    "# Q7-2 Grading Tag:\n"
   ]
  }
 ],
 "metadata": {
  "kernelspec": {
   "display_name": "Python 3 (ipykernel)",
   "language": "python",
   "name": "python3"
  },
  "language_info": {
   "codemirror_mode": {
    "name": "ipython",
    "version": 3
   },
   "file_extension": ".py",
   "mimetype": "text/x-python",
   "name": "python",
   "nbconvert_exporter": "python",
   "pygments_lexer": "ipython3",
   "version": "3.9.12"
  }
 },
 "nbformat": 4,
 "nbformat_minor": 5
}
