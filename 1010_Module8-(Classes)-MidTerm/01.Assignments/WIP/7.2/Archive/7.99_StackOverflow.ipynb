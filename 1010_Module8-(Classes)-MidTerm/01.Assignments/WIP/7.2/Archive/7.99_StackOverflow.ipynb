{
 "cells": [
  {
   "cell_type": "markdown",
   "id": "63afe4f8-bfe3-47a8-9844-b85436ed609e",
   "metadata": {},
   "source": [
    "# Reviewing Solutions on Stack Overflow"
   ]
  },
  {
   "cell_type": "code",
   "execution_count": 1,
   "id": "44de1cac-4834-44be-b158-7a2e563396e5",
   "metadata": {},
   "outputs": [],
   "source": [
    "class Marbles:\n",
    "\n",
    "    def __init__(self, marbles):\n",
    "        self.marbles = marbles\n",
    "        self.len = len(marbles)\n",
    "\n",
    "    def switch(self):\n",
    "        self.marbles[0], self.marbles[1] = self.marbles[1], self.marbles[0]\n",
    "        if self.is_sorted(): raise StopIteration\n",
    "        return self\n",
    "\n",
    "    def rotate(self):\n",
    "        self.marbles = self.marbles[1:] + [self.marbles[0]]\n",
    "        if self.is_sorted(): raise StopIteration\n",
    "        return self\n",
    "\n",
    "    def is_sorted(self):\n",
    "        return all(self.marbles[i] <= self.marbles[i+1] for i in range(self.len-1))\n",
    "\n",
    "    def show(self):\n",
    "        print(self.marbles)"
   ]
  },
  {
   "cell_type": "code",
   "execution_count": 5,
   "id": "e152aaf2-87c4-40b7-b6d7-97056b332e86",
   "metadata": {},
   "outputs": [
    {
     "name": "stdout",
     "output_type": "stream",
     "text": [
      "[1, 3, 0, 2, 4]\n",
      "[3, 0, 2, 4, 1]\n",
      "[0, 3, 2, 4, 1]\n",
      "[3, 2, 4, 1, 0]\n",
      "[2, 3, 4, 1, 0]\n",
      "[3, 4, 1, 0, 2]\n",
      "[4, 3, 1, 0, 2]\n",
      "[3, 1, 0, 2, 4]\n",
      "[1, 3, 0, 2, 4]\n",
      "[3, 0, 2, 4, 1]\n",
      "False\n",
      "[3, 0, 2, 4, 1]\n",
      "--------------------\n",
      "[1, 0, 2, 4, 3]\n",
      "[0, 1, 2, 4, 3]\n",
      "[1, 2, 4, 3, 0]\n",
      "[2, 1, 4, 3, 0]\n",
      "[1, 4, 3, 0, 2]\n",
      "[4, 1, 3, 0, 2]\n",
      "[1, 3, 0, 2, 4]\n",
      "[3, 1, 0, 2, 4]\n",
      "[1, 0, 2, 4, 3]\n",
      "[0, 1, 2, 4, 3]\n",
      "False\n",
      "[0, 1, 2, 4, 3]\n"
     ]
    }
   ],
   "source": [
    "tested = []\n",
    "original = [3,1,0,2,4]\n",
    "marbles = Marbles(original)\n",
    "while True:\n",
    "    try:\n",
    "        marbles.switch().show()\n",
    "        marbles.rotate().show()\n",
    "    except: break\n",
    "    if original in tested: break\n",
    "    tested.append(marbles.marbles)\n",
    "print(marbles.is_sorted())\n",
    "marbles.show()\n",
    "\n",
    "print(\"-\"*20)\n",
    "\n",
    "tested = []\n",
    "original = [3,1,0,2,4]\n",
    "marbles = Marbles(original)\n",
    "while True:\n",
    "    try:\n",
    "        marbles.rotate().show()\n",
    "        marbles.switch().show()\n",
    "    except: break\n",
    "    if original in tested: break\n",
    "    tested.append(marbles.marbles)\n",
    "print(marbles.is_sorted())\n",
    "marbles.show()"
   ]
  },
  {
   "cell_type": "markdown",
   "id": "0c84fdf5-122c-4bb7-8aa7-dba458b1f9ab",
   "metadata": {},
   "source": [
    "---"
   ]
  },
  {
   "cell_type": "markdown",
   "id": "1d580f13-0586-4785-afc6-809d725e19ea",
   "metadata": {},
   "source": [
    "---"
   ]
  },
  {
   "cell_type": "markdown",
   "id": "71a835e2-e140-49e2-8a5a-273273ca634d",
   "metadata": {},
   "source": [
    "# This works -- need to reverse engineer into a Class"
   ]
  },
  {
   "cell_type": "code",
   "execution_count": 6,
   "id": "daf9f4bb-c01b-4212-9002-ab5bde7a4d49",
   "metadata": {},
   "outputs": [],
   "source": [
    "from collections import deque\n",
    "\n",
    "# Constant strings: ensure they are the same length for pretty printing\n",
    "START  = 'Start: '\n",
    "SWITCH = 'Switch:'\n",
    "ROTATE = 'Rotate:'\n",
    "\n",
    "def switched_or_rotated(atuple):\n",
    "    \"\"\"Generate the tuples reachable from the given tuple by one switch\n",
    "    or rotation, with the action that created each tuple.\n",
    "    \"\"\"\n",
    "    yield (atuple[1::-1] + atuple[2:], SWITCH)  # swap first two items\n",
    "    yield (atuple[1:] + atuple[:1], ROTATE)  # rotate first item to the end\n",
    "\n",
    "def sort_by_switch_and_rotate(iter):\n",
    "    \"\"\"Sort a finite, sortable iterable by repeatedly switching the\n",
    "    first two items and/or rotating it left (position 0 to the end, all\n",
    "    others to one index lower). Print a way to do this with the\n",
    "    smallest number of switches and/or rotations then return the number\n",
    "    of steps needed. \n",
    "\n",
    "    Based on <https://stackoverflow.com/questions/54840758/\n",
    "    sorting-numbers-with-mix-of-switch-and-rotate-in-python>\n",
    "    \"\"\"\n",
    "    # Initialize variables\n",
    "    original = tuple(iter)\n",
    "    targettuple = tuple(sorted(original))\n",
    "    alreadyseen = {original: None}  # tuples already seen w/ previous tuple\n",
    "    actions = {original: START}  # actions that got each tuple\n",
    "    notprocessed = deque()  # tuples seen but not yet processed\n",
    "    # Do a breadth-first search for the target tuple\n",
    "    thistuple = original\n",
    "    while thistuple!= targettuple:\n",
    "        for nexttuple, nextaction in switched_or_rotated(thistuple):\n",
    "            if nexttuple not in alreadyseen:\n",
    "                alreadyseen[nexttuple] = thistuple\n",
    "                actions[nexttuple] = nextaction\n",
    "                notprocessed.append(nexttuple)\n",
    "        thistuple = notprocessed.popleft()\n",
    "    # Print the path from the original to the target\n",
    "    path = []\n",
    "    while thistuple:\n",
    "        path.append(thistuple)\n",
    "        thistuple = alreadyseen[thistuple]\n",
    "    print('\\nHow to sort a list in {} steps:'.format(len(path)-1))\n",
    "    for thistuple in reversed(path):\n",
    "        print(actions[thistuple], thistuple)\n",
    "    # Return the minimal number of steps\n",
    "    return len(path) - 1"
   ]
  },
  {
   "cell_type": "code",
   "execution_count": 9,
   "id": "f16d054c-56f1-495e-8fc8-dd4f29b042c7",
   "metadata": {},
   "outputs": [
    {
     "name": "stdout",
     "output_type": "stream",
     "text": [
      "\n",
      "How to sort a list in 8 steps:\n",
      "Start:  (1, 3, 0, 2, 4)\n",
      "Rotate: (3, 0, 2, 4, 1)\n",
      "Switch: (0, 3, 2, 4, 1)\n",
      "Rotate: (3, 2, 4, 1, 0)\n",
      "Switch: (2, 3, 4, 1, 0)\n",
      "Rotate: (3, 4, 1, 0, 2)\n",
      "Rotate: (4, 1, 0, 2, 3)\n",
      "Rotate: (1, 0, 2, 3, 4)\n",
      "Switch: (0, 1, 2, 3, 4)\n"
     ]
    }
   ],
   "source": [
    "assert sort_by_switch_and_rotate((1, 3, 0, 2, 4))"
   ]
  },
  {
   "cell_type": "code",
   "execution_count": 11,
   "id": "bc76de30-4a69-456a-a49e-9d003e669705",
   "metadata": {},
   "outputs": [
    {
     "name": "stdout",
     "output_type": "stream",
     "text": [
      "\n",
      "How to sort a list in 10 steps:\n",
      "Start:  (3, 1, 0, 2, 4, 5)\n",
      "Switch: (1, 3, 0, 2, 4, 5)\n",
      "Rotate: (3, 0, 2, 4, 5, 1)\n",
      "Switch: (0, 3, 2, 4, 5, 1)\n",
      "Rotate: (3, 2, 4, 5, 1, 0)\n",
      "Switch: (2, 3, 4, 5, 1, 0)\n",
      "Rotate: (3, 4, 5, 1, 0, 2)\n",
      "Rotate: (4, 5, 1, 0, 2, 3)\n",
      "Rotate: (5, 1, 0, 2, 3, 4)\n",
      "Rotate: (1, 0, 2, 3, 4, 5)\n",
      "Switch: (0, 1, 2, 3, 4, 5)\n"
     ]
    },
    {
     "data": {
      "text/plain": [
       "10"
      ]
     },
     "execution_count": 11,
     "metadata": {},
     "output_type": "execute_result"
    }
   ],
   "source": [
    "sort_by_switch_and_rotate((3, 1, 0, 2, 4, 5))"
   ]
  },
  {
   "cell_type": "code",
   "execution_count": null,
   "id": "5243c959-5eac-421b-a57b-5c9166a5dd05",
   "metadata": {},
   "outputs": [],
   "source": []
  }
 ],
 "metadata": {
  "kernelspec": {
   "display_name": "Python 3 (ipykernel)",
   "language": "python",
   "name": "python3"
  },
  "language_info": {
   "codemirror_mode": {
    "name": "ipython",
    "version": 3
   },
   "file_extension": ".py",
   "mimetype": "text/x-python",
   "name": "python",
   "nbconvert_exporter": "python",
   "pygments_lexer": "ipython3",
   "version": "3.9.12"
  }
 },
 "nbformat": 4,
 "nbformat_minor": 5
}
