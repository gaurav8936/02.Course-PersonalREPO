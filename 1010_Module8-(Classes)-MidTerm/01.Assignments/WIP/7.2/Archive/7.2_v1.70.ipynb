{
 "cells": [
  {
   "cell_type": "markdown",
   "id": "61782b72-c9a2-4d45-96d5-11382b6f2757",
   "metadata": {},
   "source": [
    "<font size = 6, color = red>Current Working Model (Gold)"
   ]
  },
  {
   "cell_type": "code",
   "execution_count": 162,
   "id": "50bf7782-013e-4e7e-8347-a0f41a8a1402",
   "metadata": {},
   "outputs": [],
   "source": [
    "import random\n",
    "\n",
    "class MarblesBoard:\n",
    "    \"\"\"creates a marble board with number marbles in specific spots\"\"\"\n",
    "    def __init__(self, marble_sequence):\n",
    "        self.board = [x for x in marble_sequence]\n",
    "\n",
    "    def __str__(self):\n",
    "        return \" \".join(map(str, self.board))\n",
    "\n",
    "    def __repr__(self):\n",
    "        return \"%r \" % (self.board)\n",
    "\n",
    "    def switch(self):\n",
    "        \"\"\"switch the marbles in position 0 and 1\"\"\"\n",
    "        self.board[0], self.board[1] = self.board[1], self.board[0]\n",
    "        return self.board\n",
    "\n",
    "    def rotate(self):\n",
    "#         \"\"\"\n",
    "#         Rotates item in position o to position N-1. All remaning items are moved as a result (1 step to the left)\n",
    "#         \"\"\"\n",
    "        self.board = self.board[1:] + [self.board[0]]\n",
    "        return self.board\n",
    "    \n",
    "    def is_sorted(self):\n",
    "        return self.board == sorted(self.board)\n",
    "    \n",
    "    def should_rotate(self):\n",
    "        # used a random generator for True/False -- used to select Switch or Rotate\n",
    "        return random.choice([True, False])\n",
    "\n",
    "class Solver:\n",
    "    \"\"\"solves the marble sorting game when given a marble board as input\"\"\"\n",
    "\n",
    "    def __init__(self, marbles_board):\n",
    "        self.marbles_board = marbles_board\n",
    "\n",
    "    def solve(self):\n",
    "        steps = 0\n",
    "\n",
    "        print('start', self.marbles_board)\n",
    "\n",
    "        while not self.marbles_board.is_sorted():\n",
    "            if steps == 200:break\n",
    "            if self.marbles_board.should_rotate():\n",
    "                self.marbles_board.rotate()\n",
    "                print('rotate', self.marbles_board)\n",
    "            \n",
    "            else:\n",
    "                self.marbles_board.switch()\n",
    "                print('switch', self.marbles_board)\n",
    "            \n",
    "            steps += 1\n",
    "        \n",
    "        print(f\"Number of steps: {steps}\")\n",
    "        print(self.marbles_board)"
   ]
  },
  {
   "cell_type": "code",
   "execution_count": 163,
   "id": "24f64de8-1658-4f10-8931-7c99affb11de",
   "metadata": {},
   "outputs": [],
   "source": [
    "board1 = MarblesBoard((5,3,4,2,6))"
   ]
  },
  {
   "cell_type": "code",
   "execution_count": 164,
   "id": "2a0e054a-ff77-4ab9-a033-a7175ed99225",
   "metadata": {},
   "outputs": [],
   "source": [
    "solver1 = Solver(board1)"
   ]
  },
  {
   "cell_type": "code",
   "execution_count": 165,
   "id": "ba3bcd6f-ff6a-4c21-8624-8d7d79906d9c",
   "metadata": {
    "tags": []
   },
   "outputs": [
    {
     "name": "stdout",
     "output_type": "stream",
     "text": [
      "start 5 3 4 2 6\n",
      "rotate 3 4 2 6 5\n",
      "rotate 4 2 6 5 3\n",
      "rotate 2 6 5 3 4\n",
      "switch 6 2 5 3 4\n",
      "rotate 2 5 3 4 6\n",
      "rotate 5 3 4 6 2\n",
      "rotate 3 4 6 2 5\n",
      "rotate 4 6 2 5 3\n",
      "switch 6 4 2 5 3\n",
      "switch 4 6 2 5 3\n",
      "switch 6 4 2 5 3\n",
      "switch 4 6 2 5 3\n",
      "rotate 6 2 5 3 4\n",
      "rotate 2 5 3 4 6\n",
      "switch 5 2 3 4 6\n",
      "switch 2 5 3 4 6\n",
      "rotate 5 3 4 6 2\n",
      "rotate 3 4 6 2 5\n",
      "rotate 4 6 2 5 3\n",
      "rotate 6 2 5 3 4\n",
      "rotate 2 5 3 4 6\n",
      "rotate 5 3 4 6 2\n",
      "switch 3 5 4 6 2\n",
      "rotate 5 4 6 2 3\n",
      "switch 4 5 6 2 3\n",
      "switch 5 4 6 2 3\n",
      "switch 4 5 6 2 3\n",
      "rotate 5 6 2 3 4\n",
      "rotate 6 2 3 4 5\n",
      "rotate 2 3 4 5 6\n",
      "Number of steps: 30\n",
      "2 3 4 5 6\n"
     ]
    }
   ],
   "source": [
    "solver1.solve()"
   ]
  },
  {
   "cell_type": "markdown",
   "id": "54e5cf67-0e68-4607-b1f1-6d6ed74bed0c",
   "metadata": {},
   "source": [
    "---"
   ]
  },
  {
   "cell_type": "markdown",
   "id": "3593873a-1a17-4be2-bfa0-11ccf97d4cf5",
   "metadata": {},
   "source": [
    "In a particular board game, there is exactly one row and it comprises N spaces, numbered 0 through N - 1 from left to right. There are also N marbles, numbered 0 through N - 1, initially placed in some arbitrary order. After that, there are two moves available that only can be done one at a time:\n",
    "\n",
    "- Switch: Switch the marbles in positions 0 and 1.\n",
    "- Rotate: Move the marble in position 0 to position N - 1, and move all other marbles one space to the left (one index lower).\n",
    "\n",
    "The objective is to arrange the marbles in order, with each marble i in position i.\n",
    "\n",
    "1\\. Write a class, **MarblesBoard**, to represent the game above. (25 points) \n",
    "- Write an `__init__` function that takes a starting sequence of marbles (the number of each marble listed in the positions from 0 to N - 1). (Notice in the sequence all the marbles are different numbers and are sequential numbered but not in order!)\n",
    "- Next, write `switch()` and `rotate()` methods to simulate the player's moves as described above. \n",
    "- Write a method, `is_solved()`, that returns True if the marbles are in the correct order or False otherwise.\n",
    "- Additionally, write `__str__` and `__repr__` methods to display the current state of the board. \n",
    "\n",
    "Your class should behave like the following example:\n",
    "```\n",
    ">>> board = MarblesBoard((3,6,7,4,1,0,8,2,5)) \n",
    ">>> board \n",
    "3 6 7 4 1 0 8 2 5 \n",
    ">>> board.switch() \n",
    ">>> board \n",
    "6 3 7 4 1 0 8 2 5 \n",
    ">>> board.rotate() \n",
    ">>> board \n",
    "3 7 4 1 0 8 2 5 6 \n",
    ">>> board.switch() \n",
    ">>> board \n",
    "7 3 4 1 0 8 2 5 6\n",
    "```"
   ]
  },
  {
   "cell_type": "markdown",
   "id": "7794296a-8b64-4fce-be46-1a1ec2716a95",
   "metadata": {},
   "source": [
    "2\\. Write a second class, **Solver**, that actually plays the MarblesGame. (25 points)\n",
    "- Write an `__init__` method that takes a MarblesBoard class in its initializer and stores it in an attribute: `board`. \n",
    "- Write a `solve()` method:\n",
    "  - Which repeatedly calls the switch() or the rotate() method of the given MarblesBoard until the game is solved. \n",
    "  - Before the first switch or rotate, make a **list** of **tuples** with the starting tuple of `('start', <board starting state>)`\n",
    "  - After each step ('switch' or 'rotate'), append to the  above **list** a tuple of: \n",
    "    - What step ('switch' or 'rotate') was performed. Remember, you can only do one switch or one rotate per step!\n",
    "    - The state of the board \n",
    "  - Return the above list as output to this method.\n",
    "  - You are to come up with your own algorithm for solving the marbles game. Before you write your solve() method, you may want to practice solving some small versions of the marbles game yourself.\n",
    "  - Your Solver should strive to make the algorithm reasonably efficient and strive to be the fastest runtime. (10 points are awarded based on algorithm efficiency)\n",
    "\n",
    "Below is an example:\n",
    "```\n",
    ">>> board2 = MarblesBoard((1,3,0,2))\n",
    ">>> solver = Solver(board2)\n",
    ">>> solver.solve()\n",
    "[('start', 1 3 0 2),\n",
    " ('rotate', 3 0 2 1),\n",
    " ('rotate', 0 2 1 3),\n",
    " ('rotate', 2 1 3 0),\n",
    " ('switch', 1 2 3 0),\n",
    " ('rotate', 2 3 0 1),\n",
    " ('rotate', 3 0 1 2),\n",
    " ('rotate', 0 1 2 3)]\n",
    "```\n",
    "\n",
    "You may be interested to know that your program is a variation of a well-known sorting algorithm called bubble sort. Bubble sort would normally be used on a list of items, not on a rotating track, but adapting your algorithm to this setting could be straight-forward."
   ]
  },
  {
   "cell_type": "markdown",
   "id": "6cf3c832-7453-4ff8-a61e-3f20bf8acfaf",
   "metadata": {},
   "source": [
    "---"
   ]
  },
  {
   "cell_type": "markdown",
   "id": "b988c13b-2125-4c9f-8969-a1b2fa1d00fc",
   "metadata": {},
   "source": [
    "# Revising code to store output as tuples"
   ]
  },
  {
   "cell_type": "code",
   "execution_count": 236,
   "id": "bc404817-ec3d-4ceb-aea3-a136e6c23c6f",
   "metadata": {},
   "outputs": [],
   "source": [
    "import random\n",
    "\n",
    "class MarblesBoard:\n",
    "    \"\"\"creates a marble board with number marbles in specific spots\"\"\"\n",
    "    def __init__(self, marble_sequence):\n",
    "        self.board = [x for x in marble_sequence]\n",
    "\n",
    "    def __str__(self):\n",
    "        return \" \".join(map(str, self.board))\n",
    "\n",
    "    def __repr__(self):\n",
    "        return \"%r \" % (self.board)\n",
    "\n",
    "    def switch(self):\n",
    "        \"\"\"switch the marbles in position 0 and 1\"\"\"\n",
    "        self.board[0], self.board[1] = self.board[1], self.board[0]\n",
    "        return self.board\n",
    "\n",
    "    def rotate(self):\n",
    "#         \"\"\"\n",
    "#         Rotates item in position o to position N-1. All remaning items are moved as a result (1 step to the left)\n",
    "#         \"\"\"\n",
    "        self.board = self.board[1:] + [self.board[0]]\n",
    "        return self.board\n",
    "    \n",
    "    def is_sorted(self):\n",
    "        return self.board == sorted(self.board)\n",
    "    \n",
    "    def should_rotate(self):\n",
    "        # used a random generator for True/False -- used to select Switch or Rotate\n",
    "        return random.choice([True, False])\n",
    "\n",
    "class Solver:\n",
    "    \"\"\"solves the marble sorting game when given a marble board as input\"\"\"\n",
    "\n",
    "    def __init__(self, marbles_board):\n",
    "        self.marbles_board = marbles_board\n",
    "#        myboard = self.marbles_board\n",
    "        \n",
    "    def solve(self):\n",
    "        steps = 0\n",
    "        mylist = []\n",
    "        myboard = self.marbles_board\n",
    "        label = ('start' + ' ' + str(myboard))\n",
    "        print(label)\n",
    "        \n",
    "        mylist.append(label)\n",
    "\n",
    "        print(mylist)\n",
    "\n",
    "\n",
    "        while not self.marbles_board.is_sorted():\n",
    "            if steps == 200:break\n",
    "            if self.marbles_board.should_rotate():\n",
    "                self.marbles_board.rotate()\n",
    "#                print('rotate', self.marbles_board)\n",
    "                mylist.append(('rotate ' + str(self.marbles_board)))\n",
    "#                print(mylist)\n",
    "            \n",
    "            else:\n",
    "                self.marbles_board.switch()\n",
    "#                print('switch', self.marbles_board)\n",
    "                mylist.append(('rotate ' + str(self.marbles_board)))\n",
    "#                print(mylist)\n",
    "            \n",
    "            steps += 1\n",
    "#        type(mylist)\n",
    "        print(mylist, end = \" \")\n",
    "        print(f\"Number of steps: {steps}\")\n",
    "#        print(self.marbles_board)"
   ]
  },
  {
   "cell_type": "code",
   "execution_count": 237,
   "id": "35c5c95a-9599-4656-83c5-590a28a7f084",
   "metadata": {},
   "outputs": [],
   "source": [
    "board1 = MarblesBoard((5,3,4))"
   ]
  },
  {
   "cell_type": "code",
   "execution_count": 238,
   "id": "2bf92be3-dce9-4e5f-9372-2e91c12794fd",
   "metadata": {},
   "outputs": [],
   "source": [
    "solver1 = Solver(board1)"
   ]
  },
  {
   "cell_type": "code",
   "execution_count": 239,
   "id": "2e39b19b-72fa-440a-bd4a-3856b8d1b20c",
   "metadata": {},
   "outputs": [
    {
     "name": "stdout",
     "output_type": "stream",
     "text": [
      "<class '__main__.MarblesBoard'>\n",
      "start 5 3 4\n",
      "['start 5 3 4']\n",
      "['start 5 3 4', 'rotate 3 4 5'] Number of steps: 1\n"
     ]
    }
   ],
   "source": [
    "solver1.solve()"
   ]
  },
  {
   "cell_type": "code",
   "execution_count": null,
   "id": "d9e07eba-6e9f-49aa-bc32-dc159bcfd56a",
   "metadata": {},
   "outputs": [],
   "source": []
  },
  {
   "cell_type": "code",
   "execution_count": null,
   "id": "a5be7753-ba8e-40d5-a547-520249ddfc9f",
   "metadata": {},
   "outputs": [],
   "source": []
  }
 ],
 "metadata": {
  "kernelspec": {
   "display_name": "Python 3 (ipykernel)",
   "language": "python",
   "name": "python3"
  },
  "language_info": {
   "codemirror_mode": {
    "name": "ipython",
    "version": 3
   },
   "file_extension": ".py",
   "mimetype": "text/x-python",
   "name": "python",
   "nbconvert_exporter": "python",
   "pygments_lexer": "ipython3",
   "version": "3.9.12"
  }
 },
 "nbformat": 4,
 "nbformat_minor": 5
}
