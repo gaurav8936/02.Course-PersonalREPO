{
 "cells": [
  {
   "cell_type": "markdown",
   "id": "435a202a-2968-4456-a618-95e63da8aab2",
   "metadata": {},
   "source": [
    "## 7-1 Deck of Cards (50 points)\n",
    "\n"
   ]
  },
  {
   "cell_type": "markdown",
   "id": "27ac39b5-684c-4c1a-bd81-2ff1e6a98b62",
   "metadata": {},
   "source": [
    "---"
   ]
  },
  {
   "cell_type": "markdown",
   "id": "92ae0093-4408-428c-8670-8307937687b2",
   "metadata": {},
   "source": [
    "---"
   ]
  },
  {
   "cell_type": "markdown",
   "id": "d11d8b28",
   "metadata": {},
   "source": [
    "Please design two classes in this notebook as follows:\n",
    "\n",
    "1\\. Please create a class called **PlayingCard**. (20 points)<br>\n",
    "This class should have: <br>\n",
    "- An attribute, \"rank\" that takes a value of \"2\", \"3\", \"4\", \"5\", \"6\", \"7\", \"8\", \"9\", \"10\", \"J\", \"Q\", \"K\", or \"A\"<br>\n",
    "- An attribute, \"suit\" that takes a value of \"♠\" \"♥\" \"♦\" or \"♣\". (If you don't know how to make these characters you can cut and paste from this block)<br>  \n",
    "- An __init__ method that:\n",
    "    -  Accepts as parameters a specific rank (as a string) and suit (as a string).\n",
    "    -  **Raise a TypeError** with \"Invalid rank!\" or \"Invalid suit!\" when a rank or suit is not valid.\n",
    "- The ```__str__``` and ```__repr__``` methods to display the cards correctly (as shown below in the examples)"
   ]
  },
  {
   "cell_type": "markdown",
   "id": "c434f9c5-3a92-4d67-a8ae-d12fa74bd8c8",
   "metadata": {},
   "source": [
    "---"
   ]
  },
  {
   "cell_type": "code",
   "execution_count": 30,
   "id": "4cb33fae-1019-4630-8ee4-c4722cb73b6d",
   "metadata": {},
   "outputs": [],
   "source": [
    "# deck class\n",
    "\n",
    "class PlayingCard:\n",
    "    \n",
    "    \"\"\"    \n",
    "    Class to represent a playing card of a particular suit and rank\n",
    "    \"\"\"\n",
    "    \n",
    "    ranks = [\"2\", \"3\", \"4\", \"5\", \"6\", \"7\", \"8\", \"9\", \"10\", \"J\", \"Q\", \"K\", \"A\"]\n",
    "    suits = [\"♠\", \"♥\", \"♦\", \"♣\"]\n",
    "    \n",
    "    def __init__(self, rank, suit):\n",
    "        self.rank = rank\n",
    "        self.suit = suit\n",
    "    \n",
    "    def getRank(self):\n",
    "        #if self.rank > 1 and self.rank <= 13:\n",
    "        if self.rank in PlayingCard.ranks:\n",
    "#            return PlayingCard.ranks[self.rank]\n",
    "            return self.rank\n",
    "        else:\n",
    "            return \"Error\"\n",
    "    \n",
    "    def getSuit(self):\n",
    "        if self.suit in PlayingCard.suits:\n",
    "#            return PlayingCard.suits[self.suit]\n",
    "            return self.suit\n",
    "        else:\n",
    "            return \"Error\"\n",
    "    \n",
    "    def __str__(self):\n",
    "        #return \"Cars is the %s of %s\" %(self.getRank(), self.getSuit())\n",
    "        return \"%s of %s\" %(self.getRank(), self.getSuit())\n",
    "        \n",
    "        "
   ]
  },
  {
   "cell_type": "code",
   "execution_count": 31,
   "id": "7ae43493-c660-489b-adce-432a02a766c8",
   "metadata": {},
   "outputs": [
    {
     "name": "stdout",
     "output_type": "stream",
     "text": [
      "A of ♣\n"
     ]
    }
   ],
   "source": [
    "card1 = PlayingCard(\"A\", \"♣\" )\n",
    "print(card1)"
   ]
  },
  {
   "cell_type": "code",
   "execution_count": 32,
   "id": "aa5809da-7f08-4235-92a3-cda9fa41edfb",
   "metadata": {},
   "outputs": [
    {
     "name": "stdout",
     "output_type": "stream",
     "text": [
      "Error of ♠\n"
     ]
    }
   ],
   "source": [
    "card2 = PlayingCard(\"15\", \"♠\" )\n",
    "print(card2)"
   ]
  },
  {
   "cell_type": "markdown",
   "id": "94ed75a2-ce17-4a03-872c-815d0e08a101",
   "metadata": {},
   "source": [
    "---"
   ]
  },
  {
   "cell_type": "code",
   "execution_count": 33,
   "id": "b817d451-06ea-4972-8cfb-ced0a1a3bdf7",
   "metadata": {
    "jupyter": {
     "source_hidden": true
    },
    "tags": []
   },
   "outputs": [],
   "source": [
    "class PlayingCard:\n",
    "\n",
    "    \"\"\"\n",
    "    The Card class represents a single playing card and is initialised by passing a suit and number.\n",
    "    \"\"\"\n",
    "    ranks = [\"2\", \"3\", \"4\", \"5\", \"6\", \"7\", \"8\", \"9\", \"10\", \"J\", \"Q\", \"K\", \"A\"]\n",
    "    suits = [\"♠\", \"♥\", \"♦\", \"♣\"]\n",
    "\n",
    "    def __init__(self, suit, number):\n",
    "        self._suit = suit\n",
    "        self._number = number\n",
    "\n",
    "    def __repr__(self):\n",
    "        return self._number + \" of \" + self._suit\n",
    "\n",
    "    @property\n",
    "    def suit(self):\n",
    "\n",
    "        \"\"\"\n",
    "        Gets or sets the suit of a card\n",
    "        \"\"\"\n",
    "\n",
    "        return self._suit\n",
    "\n",
    "    @suit.setter\n",
    "    def suit(self, suit):\n",
    "        if suit in suits:#[\"hearts\", \"clubs\", \"diamonds\", \"spades\"]:\n",
    "            self._suit = suit\n",
    "        else:\n",
    "            print(\"That's not a suit!\")\n",
    "\n",
    "    @property\n",
    "    def number(self):\n",
    "        \"\"\"\n",
    "        Gets or sets the number of a card\n",
    "        \"\"\"\n",
    "        return self._number\n",
    "\n",
    "    @number.setter\n",
    "    def number(self, number):\n",
    "        if number in ranks: #valid:\n",
    "            self._number = number\n",
    "        else:\n",
    "            print(\"That's not a valid number\")"
   ]
  },
  {
   "cell_type": "code",
   "execution_count": 35,
   "id": "32bee9f3-4c71-4638-a300-7d53d916d955",
   "metadata": {},
   "outputs": [
    {
     "name": "stdout",
     "output_type": "stream",
     "text": [
      "♣ of A\n"
     ]
    }
   ],
   "source": [
    "p1 = PlayingCard(\"A\", \"♣\")\n",
    "print(p1)"
   ]
  },
  {
   "cell_type": "code",
   "execution_count": 37,
   "id": "d70d6a3b-3496-40ab-89a2-dd0bb9e0bd4c",
   "metadata": {},
   "outputs": [
    {
     "name": "stdout",
     "output_type": "stream",
     "text": [
      "♣ of 15\n"
     ]
    }
   ],
   "source": [
    "p2 = PlayingCard(\"15\", \"♣\")\n",
    "print(p2)"
   ]
  },
  {
   "cell_type": "markdown",
   "id": "5531c120-56dd-4f31-9031-411e276c484a",
   "metadata": {},
   "source": [
    "---"
   ]
  },
  {
   "cell_type": "code",
   "execution_count": 55,
   "id": "cdfe56b5-9a60-493e-a742-fe3d4fcb00d7",
   "metadata": {},
   "outputs": [],
   "source": [
    "### THIS WORKS\n",
    "# NO NEED FOR getRank and getSuit functions\n",
    "\n",
    "# deck class\n",
    "\n",
    "class PlayingCard2:\n",
    "    \n",
    "    \"\"\"    \n",
    "    Class to represent a playing card of a particular suit and rank\n",
    "    \"\"\"\n",
    "    \n",
    "    ranks = [\"2\", \"3\", \"4\", \"5\", \"6\", \"7\", \"8\", \"9\", \"10\", \"J\", \"Q\", \"K\", \"A\"]\n",
    "    suits = [\"♠\", \"♥\", \"♦\", \"♣\"]\n",
    "    \n",
    "    def __init__(self, rank, suit):\n",
    "        \n",
    "        self.rank = rank\n",
    "        self.suit = suit\n",
    "        \n",
    "        if self.rank not in PlayingCard2.ranks:\n",
    "            raise TypeError('Rank must be an integer between 1 and 13.')\n",
    "        if self.suit not in PlayingCard2.suits:\n",
    "            raise TypeError('Suit must be a string: \"Spades\", \"Hearts\", \"Clubs\", or \"Diamonds\".')\n",
    "        \n",
    "        # The quick check above makes sure the card being made actually exists in a standard deck of 52.\n",
    "        # If so, the card is created succesfully.\n",
    "        \n",
    "\n",
    "    \n",
    "#     def getRank(self):\n",
    "#         #if self.rank > 1 and self.rank <= 13:\n",
    "#         if self.rank in PlayingCard.ranks:\n",
    "# #            return PlayingCard.ranks[self.rank]\n",
    "#             return self.rank\n",
    "#         else:\n",
    "#             return \"Error\"\n",
    "    \n",
    "#     def getSuit(self):\n",
    "#         if self.suit in PlayingCard.suits:\n",
    "# #            return PlayingCard.suits[self.suit]\n",
    "#             return self.suit\n",
    "#         else:\n",
    "#             return \"Error\"\n",
    "    \n",
    "    def __str__(self):\n",
    "        #return \"Cars is the %s of %s\" %(self.getRank(), self.getSuit())\n",
    "        return \"%s of %s\" %(self.suit, self.rank)\n",
    "        \n",
    "        "
   ]
  },
  {
   "cell_type": "code",
   "execution_count": 50,
   "id": "5023650e-61e7-4bed-a8a3-9dc93aca607a",
   "metadata": {},
   "outputs": [
    {
     "name": "stdout",
     "output_type": "stream",
     "text": [
      "♣ of A\n"
     ]
    }
   ],
   "source": [
    "c1 = PlayingCard2(\"A\", \"♣\")\n",
    "print(c1)"
   ]
  },
  {
   "cell_type": "code",
   "execution_count": 54,
   "id": "4c44d333-f2f2-430a-b45b-1107dfadd4af",
   "metadata": {},
   "outputs": [
    {
     "ename": "TypeError",
     "evalue": "Rank must be an integer between 1 and 13.",
     "output_type": "error",
     "traceback": [
      "\u001b[0;31m---------------------------------------------------------------------------\u001b[0m",
      "\u001b[0;31mTypeError\u001b[0m                                 Traceback (most recent call last)",
      "Input \u001b[0;32mIn [54]\u001b[0m, in \u001b[0;36m<cell line: 1>\u001b[0;34m()\u001b[0m\n\u001b[0;32m----> 1\u001b[0m c2 \u001b[38;5;241m=\u001b[39m \u001b[43mPlayingCard2\u001b[49m\u001b[43m(\u001b[49m\u001b[38;5;124;43m\"\u001b[39;49m\u001b[38;5;124;43m15\u001b[39;49m\u001b[38;5;124;43m\"\u001b[39;49m\u001b[43m,\u001b[49m\u001b[43m \u001b[49m\u001b[38;5;124;43m\"\u001b[39;49m\u001b[38;5;124;43m♣\u001b[39;49m\u001b[38;5;124;43m\"\u001b[39;49m\u001b[43m)\u001b[49m\n\u001b[1;32m      2\u001b[0m \u001b[38;5;28mprint\u001b[39m(c2)\n",
      "Input \u001b[0;32mIn [49]\u001b[0m, in \u001b[0;36mPlayingCard2.__init__\u001b[0;34m(self, rank, suit)\u001b[0m\n\u001b[1;32m     15\u001b[0m \u001b[38;5;28mself\u001b[39m\u001b[38;5;241m.\u001b[39msuit \u001b[38;5;241m=\u001b[39m suit\n\u001b[1;32m     17\u001b[0m \u001b[38;5;28;01mif\u001b[39;00m \u001b[38;5;28mself\u001b[39m\u001b[38;5;241m.\u001b[39mrank \u001b[38;5;129;01mnot\u001b[39;00m \u001b[38;5;129;01min\u001b[39;00m PlayingCard2\u001b[38;5;241m.\u001b[39mranks:\n\u001b[0;32m---> 18\u001b[0m     \u001b[38;5;28;01mraise\u001b[39;00m \u001b[38;5;167;01mTypeError\u001b[39;00m(\u001b[38;5;124m'\u001b[39m\u001b[38;5;124mRank must be an integer between 1 and 13.\u001b[39m\u001b[38;5;124m'\u001b[39m)\n\u001b[1;32m     19\u001b[0m \u001b[38;5;28;01mif\u001b[39;00m \u001b[38;5;28mself\u001b[39m\u001b[38;5;241m.\u001b[39msuit \u001b[38;5;129;01mnot\u001b[39;00m \u001b[38;5;129;01min\u001b[39;00m PlayingCard2\u001b[38;5;241m.\u001b[39msuits:\n\u001b[1;32m     20\u001b[0m     \u001b[38;5;28;01mraise\u001b[39;00m \u001b[38;5;167;01mTypeError\u001b[39;00m(\u001b[38;5;124m'\u001b[39m\u001b[38;5;124mSuit must be a string: \u001b[39m\u001b[38;5;124m\"\u001b[39m\u001b[38;5;124mSpades\u001b[39m\u001b[38;5;124m\"\u001b[39m\u001b[38;5;124m, \u001b[39m\u001b[38;5;124m\"\u001b[39m\u001b[38;5;124mHearts\u001b[39m\u001b[38;5;124m\"\u001b[39m\u001b[38;5;124m, \u001b[39m\u001b[38;5;124m\"\u001b[39m\u001b[38;5;124mClubs\u001b[39m\u001b[38;5;124m\"\u001b[39m\u001b[38;5;124m, or \u001b[39m\u001b[38;5;124m\"\u001b[39m\u001b[38;5;124mDiamonds\u001b[39m\u001b[38;5;124m\"\u001b[39m\u001b[38;5;124m.\u001b[39m\u001b[38;5;124m'\u001b[39m)\n",
      "\u001b[0;31mTypeError\u001b[0m: Rank must be an integer between 1 and 13."
     ]
    }
   ],
   "source": [
    "c2 = PlayingCard2(\"15\", \"♣\")\n",
    "print(c2)"
   ]
  },
  {
   "cell_type": "code",
   "execution_count": null,
   "id": "9fadd755-26d2-457b-b3da-9258e5417517",
   "metadata": {},
   "outputs": [],
   "source": []
  },
  {
   "cell_type": "code",
   "execution_count": null,
   "id": "d7376512-bc7e-4400-883f-0acd42eccd87",
   "metadata": {},
   "outputs": [],
   "source": []
  },
  {
   "cell_type": "code",
   "execution_count": null,
   "id": "e28fcfff-f733-42eb-a307-266515dff2e4",
   "metadata": {},
   "outputs": [],
   "source": []
  },
  {
   "cell_type": "code",
   "execution_count": null,
   "id": "0f4417b3-22a2-4f0b-99c4-e9fedf68db78",
   "metadata": {},
   "outputs": [],
   "source": []
  },
  {
   "cell_type": "code",
   "execution_count": null,
   "id": "17e01f34-3ed2-460b-a57a-dc8c06989779",
   "metadata": {},
   "outputs": [],
   "source": []
  },
  {
   "cell_type": "code",
   "execution_count": null,
   "id": "0d588d69-69b7-42e5-8830-58cf37813b20",
   "metadata": {},
   "outputs": [],
   "source": []
  },
  {
   "cell_type": "code",
   "execution_count": null,
   "id": "ecff6df6-d001-4f03-9777-2c12492cd66e",
   "metadata": {},
   "outputs": [],
   "source": []
  },
  {
   "cell_type": "code",
   "execution_count": null,
   "id": "14d65ebc-58c8-48dc-af6a-6328fe27b578",
   "metadata": {},
   "outputs": [],
   "source": []
  },
  {
   "cell_type": "markdown",
   "id": "a648dd42-3f7b-4801-9a04-193e4906b45b",
   "metadata": {},
   "source": [
    "---"
   ]
  },
  {
   "cell_type": "markdown",
   "id": "fcb531ac-99f9-4d42-8d3b-fad20957d325",
   "metadata": {},
   "source": [
    "2\\. Please create a class called **Deck**. (30 points)<br>\n",
    "This class should have: <br>\n",
    "- An attribute, \"cards\", that holds a list of PlayingCard objects. <br>\n",
    "- An __init__ method that: \n",
    "\n",
    "    - By default stores a full deck of 52 playing card (with proper numbers and suits) in the \"cards\" list. Each cards will be  of the class PlayingCard above<br>\n",
    "    - Allows the user to specify a specific suit of the 4 (\"♠\" \"♥\" \"♦\" or \"♣\"). In this case, the program should only populate the deck with the 13 cards of that suit.\n",
    "    - After the cards object is initialized, call the \"shuffle_deck()\" function (below).<br>\n",
    "    \n",
    "- A \"shuffle_deck()\" method that randomly changes the order of cards in the deck.<br>\n",
    "    - Import the random library to 'shuffle' the deck: https://docs.python.org/3.9/library/random.html#random.shuffle\n",
    "    - Please import it at the top of your block instead of inside the class / methods.\n",
    "\n",
    "- A \"deal_card(card_count)\" method that:\n",
    "    - **Removes** the first `card_count` cards from the deck and **returns** them as a **list**.<br>\n",
    "    - If the deck doesnt have the `card_count` number of cards left to deal, **return** the message `Cannot deal <x> cards. The deck only has <y> cards left!` (do not raise an exception or print inside the method)."
   ]
  },
  {
   "cell_type": "markdown",
   "id": "a1d42c7f-7c6f-44c2-a441-fc2e7fa10483",
   "metadata": {},
   "source": [
    "---"
   ]
  },
  {
   "cell_type": "markdown",
   "id": "59f7da39-a544-4ea7-b911-7bd5615088fd",
   "metadata": {},
   "source": [
    "---"
   ]
  },
  {
   "cell_type": "markdown",
   "id": "552c9ab7-a201-40d2-b17f-7d51360d22d2",
   "metadata": {},
   "source": [
    "Example:\n",
    "```\n",
    ">>> card1 = PlayingCard(\"A\", \"♠\")\n",
    ">>> print(card1)\n",
    "A of ♠\n",
    "\n",
    ">>> card2 = PlayingCard(\"15\", \"♠\")\n",
    "< error stack >\n",
    "TypeError: Invalid rank!\n",
    "\n",
    ">>> card2 = PlayingCard(\"10\", \"bunnies\")\n",
    "< error stack >\n",
    "TypeError: Invalid suit!\n",
    "\n",
    ">>> deck1 = Deck()\n",
    ">>> print(deck1.cards)\n",
    "[K of ♠, A of ♥, 6 of ♣, 7 of ♠, J of ♦, 6 of ♠, Q of ♦, 5 of ♣, 10 of ♦, 2 of ♥, 8 of ♣, 8 of ♦, 4 of ♦, 7 of ♦, 3 of ♣, K of ♣, 9 of ♠, 4 of ♥, 10 of ♥, 10 of ♣, A of ♠, 9 of ♥, 7 of ♥, 9 of ♣, 7 of ♣, 5 of ♠, 3 of ♦, 10 of ♠, Q of ♥, J of ♣, 5 of ♥, K of ♥, K of ♦, 2 of ♠, 8 of ♠, Q of ♣, 3 of ♠, 6 of ♥, 6 of ♦, A of ♣, A of ♦, 3 of ♥, J of ♠, 4 of ♣, 5 of ♦, 2 of ♦, 4 of ♠, 2 of ♣, Q of ♠, J of ♥, 8 of ♥, 9 of ♦] \n",
    "\n",
    ">>> deck2 = Deck('♠')\n",
    ">>> deck2.shuffle_deck()\n",
    ">>> deck2.cards\n",
    "[A of ♠, 10 of ♠, 3 of ♠, 7 of ♠, 5 of ♠, 4 of ♠, 8 of ♠, J of ♠, 9 of ♠, Q of ♠, 6 of ♠, 2 of ♠, K of ♠]\n",
    "\n",
    ">>> hand = deck2.deal_card(7)\n",
    ">>> hand\n",
    "[A of ♠, 10 of ♠, 3 of ♠, 7 of ♠, 5 of ♠, 4 of ♠, 8 of ♠]\n",
    "\n",
    ">>> deck2.deal_card(7)\n",
    "'Cannot deal 7 cards. The deck only has 6 cards left!'\n",
    "```"
   ]
  },
  {
   "cell_type": "markdown",
   "id": "421ba9e5-1c58-413e-80a3-747d11a11196",
   "metadata": {},
   "source": [
    "---"
   ]
  },
  {
   "cell_type": "markdown",
   "id": "9eb821c4-c63f-4a5b-a3e2-2bd407cff719",
   "metadata": {},
   "source": [
    "---"
   ]
  },
  {
   "cell_type": "code",
   "execution_count": null,
   "id": "755b576b",
   "metadata": {},
   "outputs": [],
   "source": [
    "# Q7-1 Grading Tag:\n"
   ]
  }
 ],
 "metadata": {
  "kernelspec": {
   "display_name": "Python 3 (ipykernel)",
   "language": "python",
   "name": "python3"
  },
  "language_info": {
   "codemirror_mode": {
    "name": "ipython",
    "version": 3
   },
   "file_extension": ".py",
   "mimetype": "text/x-python",
   "name": "python",
   "nbconvert_exporter": "python",
   "pygments_lexer": "ipython3",
   "version": "3.9.12"
  }
 },
 "nbformat": 4,
 "nbformat_minor": 5
}
