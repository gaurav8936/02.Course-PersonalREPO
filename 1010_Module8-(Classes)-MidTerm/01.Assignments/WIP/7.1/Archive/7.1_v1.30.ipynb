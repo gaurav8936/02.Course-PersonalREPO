{
 "cells": [
  {
   "cell_type": "markdown",
   "id": "435a202a-2968-4456-a618-95e63da8aab2",
   "metadata": {},
   "source": [
    "## 7-1 Deck of Cards (50 points)\n",
    "\n"
   ]
  },
  {
   "cell_type": "markdown",
   "id": "27ac39b5-684c-4c1a-bd81-2ff1e6a98b62",
   "metadata": {},
   "source": [
    "---"
   ]
  },
  {
   "cell_type": "markdown",
   "id": "92ae0093-4408-428c-8670-8307937687b2",
   "metadata": {},
   "source": [
    "---"
   ]
  },
  {
   "cell_type": "markdown",
   "id": "d11d8b28",
   "metadata": {},
   "source": [
    "Please design two classes in this notebook as follows:\n",
    "\n",
    "1\\. Please create a class called **PlayingCard**. (20 points)<br>\n",
    "This class should have: <br>\n",
    "- An attribute, \"rank\" that takes a value of \"2\", \"3\", \"4\", \"5\", \"6\", \"7\", \"8\", \"9\", \"10\", \"J\", \"Q\", \"K\", or \"A\"<br>\n",
    "- An attribute, \"suit\" that takes a value of \"♠\" \"♥\" \"♦\" or \"♣\". (If you don't know how to make these characters you can cut and paste from this block)<br>  \n",
    "- An __init__ method that:\n",
    "    -  Accepts as parameters a specific rank (as a string) and suit (as a string).\n",
    "    -  **Raise a TypeError** with \"Invalid rank!\" or \"Invalid suit!\" when a rank or suit is not valid.\n",
    "- The ```__str__``` and ```__repr__``` methods to display the cards correctly (as shown below in the examples)"
   ]
  },
  {
   "cell_type": "markdown",
   "id": "c434f9c5-3a92-4d67-a8ae-d12fa74bd8c8",
   "metadata": {},
   "source": [
    "---"
   ]
  },
  {
   "cell_type": "code",
   "execution_count": 1,
   "id": "4cb33fae-1019-4630-8ee4-c4722cb73b6d",
   "metadata": {
    "jupyter": {
     "source_hidden": true
    },
    "tags": []
   },
   "outputs": [],
   "source": [
    "## THIS WORKS PARTIALLY - STORE FOR LATER\n",
    "\n",
    "# deck class\n",
    "\n",
    "class PlayingCard:\n",
    "    \n",
    "    \"\"\"    \n",
    "    Class to represent a playing card of a particular suit and rank\n",
    "    \"\"\"\n",
    "    \n",
    "    ranks = [\"2\", \"3\", \"4\", \"5\", \"6\", \"7\", \"8\", \"9\", \"10\", \"J\", \"Q\", \"K\", \"A\"]\n",
    "    suits = [\"♠\", \"♥\", \"♦\", \"♣\"]\n",
    "    \n",
    "    def __init__(self, rank, suit):\n",
    "        self.rank = rank\n",
    "        self.suit = suit\n",
    "    \n",
    "    def getRank(self):\n",
    "        #if self.rank > 1 and self.rank <= 13:\n",
    "        if self.rank in PlayingCard.ranks:\n",
    "#            return PlayingCard.ranks[self.rank]\n",
    "            return self.rank\n",
    "        else:\n",
    "            return \"Error\"\n",
    "    \n",
    "    def getSuit(self):\n",
    "        if self.suit in PlayingCard.suits:\n",
    "#            return PlayingCard.suits[self.suit]\n",
    "            return self.suit\n",
    "        else:\n",
    "            return \"Error\"\n",
    "    \n",
    "    def __str__(self):\n",
    "        #return \"Cars is the %s of %s\" %(self.getRank(), self.getSuit())\n",
    "        return \"%s of %s\" %(self.getRank(), self.getSuit())\n",
    "        \n",
    "        "
   ]
  },
  {
   "cell_type": "code",
   "execution_count": 31,
   "id": "7ae43493-c660-489b-adce-432a02a766c8",
   "metadata": {
    "collapsed": true,
    "jupyter": {
     "outputs_hidden": true,
     "source_hidden": true
    },
    "tags": []
   },
   "outputs": [
    {
     "name": "stdout",
     "output_type": "stream",
     "text": [
      "A of ♣\n"
     ]
    }
   ],
   "source": [
    "card1 = PlayingCard(\"A\", \"♣\" )\n",
    "print(card1)"
   ]
  },
  {
   "cell_type": "code",
   "execution_count": 32,
   "id": "aa5809da-7f08-4235-92a3-cda9fa41edfb",
   "metadata": {},
   "outputs": [
    {
     "name": "stdout",
     "output_type": "stream",
     "text": [
      "Error of ♠\n"
     ]
    }
   ],
   "source": [
    "card2 = PlayingCard(\"15\", \"♠\" )\n",
    "print(card2)"
   ]
  },
  {
   "cell_type": "markdown",
   "id": "94ed75a2-ce17-4a03-872c-815d0e08a101",
   "metadata": {},
   "source": [
    "---"
   ]
  },
  {
   "cell_type": "markdown",
   "id": "5531c120-56dd-4f31-9031-411e276c484a",
   "metadata": {},
   "source": [
    "---"
   ]
  },
  {
   "cell_type": "markdown",
   "id": "af467da6-f227-4dc8-a3a4-a547319179db",
   "metadata": {},
   "source": [
    "<font size = 6, color = red>Current Working Model"
   ]
  },
  {
   "cell_type": "code",
   "execution_count": 2,
   "id": "cdfe56b5-9a60-493e-a742-fe3d4fcb00d7",
   "metadata": {},
   "outputs": [],
   "source": [
    "class PlayingCard:\n",
    "    \n",
    "    \"\"\"    \n",
    "    Class to represent a playing card with a suit and rank\n",
    "    Validated against a static list of ranks and suits as shown below\n",
    "    \"\"\"\n",
    "    \n",
    "    ranks = [\"2\", \"3\", \"4\", \"5\", \"6\", \"7\", \"8\", \"9\", \"10\", \"J\", \"Q\", \"K\", \"A\"]\n",
    "    suits = [\"♠\", \"♥\", \"♦\", \"♣\"]\n",
    "    \n",
    "    def __init__(self, rank, suit):\n",
    "        \n",
    "        \"\"\"\n",
    "        I have kept things simple with a single function to initiatialize the card and validate conditions\n",
    "        Decided not to complicate matters by using setter/getter methods or decorators\n",
    "        \n",
    "        \"\"\"\n",
    "        \n",
    "        # initialize the two attribute values (rank and suit)\n",
    "        \n",
    "        self.rank = rank\n",
    "        self.suit = suit\n",
    "        \n",
    "\n",
    "        # Validate for conditions and throw a TypeError if any or both conditions are invalid\n",
    "        # if none of the error occur, then we can ssume the card object was created successfully\n",
    "        \n",
    "        if self.rank not in PlayingCard.ranks:\n",
    "            raise TypeError(\"Invalid rank!\")\n",
    "        if self.suit not in PlayingCard.suits:\n",
    "            raise TypeError(\"Invalid suit!\")\n",
    "        \n",
    "    \n",
    "    # using  __str__ method to print\n",
    "    \n",
    "    def __str__(self):\n",
    "        return \"%s of %s\" %(self.rank, self.suit)\n",
    "    \n",
    "    \n",
    "    # using __repr__ to print and make this readable\n",
    "    \n",
    "    def __repr__(self):\n",
    "        return \"%s of %s\" %(self.rank, self.suit)\n",
    "\n",
    "        \n",
    "        "
   ]
  },
  {
   "cell_type": "code",
   "execution_count": 10,
   "id": "5023650e-61e7-4bed-a8a3-9dc93aca607a",
   "metadata": {},
   "outputs": [
    {
     "data": {
      "text/plain": [
       "A of ♣"
      ]
     },
     "execution_count": 10,
     "metadata": {},
     "output_type": "execute_result"
    }
   ],
   "source": [
    "c1 = PlayingCard(\"A\", \"♣\")\n",
    "c1\n",
    "#print(c1)"
   ]
  },
  {
   "cell_type": "code",
   "execution_count": 11,
   "id": "4c44d333-f2f2-430a-b45b-1107dfadd4af",
   "metadata": {},
   "outputs": [
    {
     "ename": "TypeError",
     "evalue": "Invalid rank!",
     "output_type": "error",
     "traceback": [
      "\u001b[0;31m---------------------------------------------------------------------------\u001b[0m",
      "\u001b[0;31mTypeError\u001b[0m                                 Traceback (most recent call last)",
      "Input \u001b[0;32mIn [11]\u001b[0m, in \u001b[0;36m<cell line: 1>\u001b[0;34m()\u001b[0m\n\u001b[0;32m----> 1\u001b[0m c2 \u001b[38;5;241m=\u001b[39m \u001b[43mPlayingCard\u001b[49m\u001b[43m(\u001b[49m\u001b[38;5;124;43m\"\u001b[39;49m\u001b[38;5;124;43m15\u001b[39;49m\u001b[38;5;124;43m\"\u001b[39;49m\u001b[43m,\u001b[49m\u001b[43m \u001b[49m\u001b[38;5;124;43m\"\u001b[39;49m\u001b[38;5;124;43m♣\u001b[39;49m\u001b[38;5;124;43m\"\u001b[39;49m\u001b[43m)\u001b[49m\n\u001b[1;32m      2\u001b[0m c2\n",
      "Input \u001b[0;32mIn [9]\u001b[0m, in \u001b[0;36mPlayingCard.__init__\u001b[0;34m(self, rank, suit)\u001b[0m\n\u001b[1;32m     25\u001b[0m \u001b[38;5;66;03m# Validate for conditions and throw a TypeError if any or both conditions are invalid\u001b[39;00m\n\u001b[1;32m     26\u001b[0m \u001b[38;5;66;03m# if none of the error occur, then we can ssume the card object was created successfully\u001b[39;00m\n\u001b[1;32m     28\u001b[0m \u001b[38;5;28;01mif\u001b[39;00m \u001b[38;5;28mself\u001b[39m\u001b[38;5;241m.\u001b[39mrank \u001b[38;5;129;01mnot\u001b[39;00m \u001b[38;5;129;01min\u001b[39;00m PlayingCard\u001b[38;5;241m.\u001b[39mranks:\n\u001b[0;32m---> 29\u001b[0m     \u001b[38;5;28;01mraise\u001b[39;00m \u001b[38;5;167;01mTypeError\u001b[39;00m(\u001b[38;5;124m\"\u001b[39m\u001b[38;5;124mInvalid rank!\u001b[39m\u001b[38;5;124m\"\u001b[39m)\n\u001b[1;32m     30\u001b[0m \u001b[38;5;28;01mif\u001b[39;00m \u001b[38;5;28mself\u001b[39m\u001b[38;5;241m.\u001b[39msuit \u001b[38;5;129;01mnot\u001b[39;00m \u001b[38;5;129;01min\u001b[39;00m PlayingCard\u001b[38;5;241m.\u001b[39msuits:\n\u001b[1;32m     31\u001b[0m     \u001b[38;5;28;01mraise\u001b[39;00m \u001b[38;5;167;01mTypeError\u001b[39;00m(\u001b[38;5;124m\"\u001b[39m\u001b[38;5;124mInvalid suit!\u001b[39m\u001b[38;5;124m\"\u001b[39m)\n",
      "\u001b[0;31mTypeError\u001b[0m: Invalid rank!"
     ]
    }
   ],
   "source": [
    "c2 = PlayingCard(\"15\", \"♣\")\n",
    "c2\n",
    "#print(c2)"
   ]
  },
  {
   "cell_type": "code",
   "execution_count": 32,
   "id": "9fadd755-26d2-457b-b3da-9258e5417517",
   "metadata": {},
   "outputs": [
    {
     "ename": "TypeError",
     "evalue": "Invalid suit!",
     "output_type": "error",
     "traceback": [
      "\u001b[0;31m---------------------------------------------------------------------------\u001b[0m",
      "\u001b[0;31mTypeError\u001b[0m                                 Traceback (most recent call last)",
      "Input \u001b[0;32mIn [32]\u001b[0m, in \u001b[0;36m<cell line: 1>\u001b[0;34m()\u001b[0m\n\u001b[0;32m----> 1\u001b[0m c3 \u001b[38;5;241m=\u001b[39m \u001b[43mPlayingCard\u001b[49m\u001b[43m(\u001b[49m\u001b[38;5;124;43m\"\u001b[39;49m\u001b[38;5;124;43m10\u001b[39;49m\u001b[38;5;124;43m\"\u001b[39;49m\u001b[43m,\u001b[49m\u001b[43m \u001b[49m\u001b[38;5;124;43m\"\u001b[39;49m\u001b[38;5;124;43mbunnies\u001b[39;49m\u001b[38;5;124;43m\"\u001b[39;49m\u001b[43m)\u001b[49m\n\u001b[1;32m      2\u001b[0m c3\n",
      "Input \u001b[0;32mIn [29]\u001b[0m, in \u001b[0;36mPlayingCard.__init__\u001b[0;34m(self, rank, suit)\u001b[0m\n\u001b[1;32m     29\u001b[0m     \u001b[38;5;28;01mraise\u001b[39;00m \u001b[38;5;167;01mTypeError\u001b[39;00m(\u001b[38;5;124m\"\u001b[39m\u001b[38;5;124mInvalid rank!\u001b[39m\u001b[38;5;124m\"\u001b[39m)\n\u001b[1;32m     30\u001b[0m \u001b[38;5;28;01mif\u001b[39;00m \u001b[38;5;28mself\u001b[39m\u001b[38;5;241m.\u001b[39msuit \u001b[38;5;129;01mnot\u001b[39;00m \u001b[38;5;129;01min\u001b[39;00m PlayingCard2\u001b[38;5;241m.\u001b[39msuits:\n\u001b[0;32m---> 31\u001b[0m     \u001b[38;5;28;01mraise\u001b[39;00m \u001b[38;5;167;01mTypeError\u001b[39;00m(\u001b[38;5;124m\"\u001b[39m\u001b[38;5;124mInvalid suit!\u001b[39m\u001b[38;5;124m\"\u001b[39m)\n",
      "\u001b[0;31mTypeError\u001b[0m: Invalid suit!"
     ]
    }
   ],
   "source": [
    "c3 = PlayingCard(\"10\", \"bunnies\")\n",
    "c3"
   ]
  },
  {
   "cell_type": "code",
   "execution_count": null,
   "id": "d7376512-bc7e-4400-883f-0acd42eccd87",
   "metadata": {},
   "outputs": [],
   "source": []
  },
  {
   "cell_type": "code",
   "execution_count": null,
   "id": "e28fcfff-f733-42eb-a307-266515dff2e4",
   "metadata": {},
   "outputs": [],
   "source": []
  },
  {
   "cell_type": "code",
   "execution_count": null,
   "id": "0f4417b3-22a2-4f0b-99c4-e9fedf68db78",
   "metadata": {},
   "outputs": [],
   "source": []
  },
  {
   "cell_type": "code",
   "execution_count": null,
   "id": "17e01f34-3ed2-460b-a57a-dc8c06989779",
   "metadata": {},
   "outputs": [],
   "source": []
  },
  {
   "cell_type": "code",
   "execution_count": null,
   "id": "0d588d69-69b7-42e5-8830-58cf37813b20",
   "metadata": {},
   "outputs": [],
   "source": []
  },
  {
   "cell_type": "code",
   "execution_count": null,
   "id": "ecff6df6-d001-4f03-9777-2c12492cd66e",
   "metadata": {},
   "outputs": [],
   "source": []
  },
  {
   "cell_type": "code",
   "execution_count": null,
   "id": "14d65ebc-58c8-48dc-af6a-6328fe27b578",
   "metadata": {},
   "outputs": [],
   "source": []
  },
  {
   "cell_type": "markdown",
   "id": "a648dd42-3f7b-4801-9a04-193e4906b45b",
   "metadata": {},
   "source": [
    "---"
   ]
  },
  {
   "cell_type": "markdown",
   "id": "fcb531ac-99f9-4d42-8d3b-fad20957d325",
   "metadata": {},
   "source": [
    "2\\. Please create a class called **Deck**. (30 points)<br>\n",
    "This class should have: <br>\n",
    "- An attribute, \"cards\", that holds a list of PlayingCard objects. <br>\n",
    "- An __init__ method that: \n",
    "\n",
    "    - By default stores a full deck of 52 playing card (with proper numbers and suits) in the \"cards\" list. Each cards will be  of the class PlayingCard above<br>\n",
    "    - Allows the user to specify a specific suit of the 4 (\"♠\" \"♥\" \"♦\" or \"♣\"). In this case, the program should only populate the deck with the 13 cards of that suit.\n",
    "    - After the cards object is initialized, call the \"shuffle_deck()\" function (below).<br>\n",
    "    \n",
    "- A \"shuffle_deck()\" method that randomly changes the order of cards in the deck.<br>\n",
    "    - Import the random library to 'shuffle' the deck: https://docs.python.org/3.9/library/random.html#random.shuffle\n",
    "    - Please import it at the top of your block instead of inside the class / methods.\n",
    "\n",
    "- A \"deal_card(card_count)\" method that:\n",
    "    - **Removes** the first `card_count` cards from the deck and **returns** them as a **list**.<br>\n",
    "    - If the deck doesnt have the `card_count` number of cards left to deal, **return** the message `Cannot deal <x> cards. The deck only has <y> cards left!` (do not raise an exception or print inside the method)."
   ]
  },
  {
   "cell_type": "markdown",
   "id": "a1d42c7f-7c6f-44c2-a441-fc2e7fa10483",
   "metadata": {},
   "source": [
    "---"
   ]
  },
  {
   "cell_type": "markdown",
   "id": "6b5c15a7-9811-4eba-90eb-5b131194bdad",
   "metadata": {},
   "source": [
    "## works for specific suit"
   ]
  },
  {
   "cell_type": "code",
   "execution_count": 41,
   "id": "5a756823-26d5-4903-95da-32b8fff79476",
   "metadata": {
    "jupyter": {
     "source_hidden": true
    },
    "tags": []
   },
   "outputs": [],
   "source": [
    "from random import shuffle\n",
    "\n",
    "ranks = [\"2\", \"3\", \"4\", \"5\", \"6\", \"7\", \"8\", \"9\", \"10\", \"J\", \"Q\", \"K\", \"A\"]\n",
    "suits = [\"♠\", \"♥\", \"♦\", \"♣\"]\n",
    "\n",
    "class Deck:\n",
    "    def __init__(self):\n",
    "        self.cards = []\n",
    "        specific_suit = input(\"Please enter a specific suit\")\n",
    "        for i in ranks:\n",
    "#            for j in suits:\n",
    "            for j in specific_suit:\n",
    "                self.cards.append(PlayingCard(i,j))\n",
    "        print(self.cards)\n",
    "#         shuffle(self.cards)\n",
    "\n",
    "#     def rm_card(self):\n",
    "#         if len(self.cards) == 0:\n",
    "#             return\n",
    "#         return self.cards.pop()\n"
   ]
  },
  {
   "cell_type": "code",
   "execution_count": 43,
   "id": "f78b8b9f-9659-4a5f-9f6f-9238b1ec2f0c",
   "metadata": {
    "collapsed": true,
    "jupyter": {
     "outputs_hidden": true,
     "source_hidden": true
    },
    "tags": []
   },
   "outputs": [
    {
     "name": "stdin",
     "output_type": "stream",
     "text": [
      "Please enter a specific suit ♥\n"
     ]
    },
    {
     "name": "stdout",
     "output_type": "stream",
     "text": [
      "[2 of ♥, 3 of ♥, 4 of ♥, 5 of ♥, 6 of ♥, 7 of ♥, 8 of ♥, 9 of ♥, 10 of ♥, J of ♥, Q of ♥, K of ♥, A of ♥]\n"
     ]
    }
   ],
   "source": [
    "d1 = Deck()"
   ]
  },
  {
   "cell_type": "markdown",
   "id": "bdcc93bc-b844-4750-9ccf-698f9a61355d",
   "metadata": {
    "jupyter": {
     "source_hidden": true
    },
    "tags": []
   },
   "source": [
    "## works for generic - deck of 52 cards"
   ]
  },
  {
   "cell_type": "code",
   "execution_count": 63,
   "id": "b68e4067-76f5-405f-a3ff-02e5c4a64749",
   "metadata": {
    "jupyter": {
     "source_hidden": true
    },
    "tags": []
   },
   "outputs": [],
   "source": [
    "from random import shuffle\n",
    "\n",
    "ranks = [\"2\", \"3\", \"4\", \"5\", \"6\", \"7\", \"8\", \"9\", \"10\", \"J\", \"Q\", \"K\", \"A\"]\n",
    "suits = [\"♠\", \"♥\", \"♦\", \"♣\"]\n",
    "\n",
    "class Deck:\n",
    "    def __init__(self):\n",
    "        self.cards = []\n",
    "#        specific_suit = input(\"Please enter a specific suit\")\n",
    "        for i in ranks:\n",
    "            for j in suits:\n",
    "#            for j in specific_suit:\n",
    "                self.cards.append(PlayingCard(i,j))\n",
    "        print(self.cards)\n",
    "#         shuffle(self.cards)\n",
    "\n",
    "#     def rm_card(self):\n",
    "#         if len(self.cards) == 0:\n",
    "#             return\n",
    "#         return self.cards.pop()"
   ]
  },
  {
   "cell_type": "code",
   "execution_count": 64,
   "id": "7b0cde33-90b6-491c-b5b5-8353e0a90ec0",
   "metadata": {
    "collapsed": true,
    "jupyter": {
     "outputs_hidden": true,
     "source_hidden": true
    },
    "tags": []
   },
   "outputs": [
    {
     "name": "stdout",
     "output_type": "stream",
     "text": [
      "[2 of ♠, 2 of ♥, 2 of ♦, 2 of ♣, 3 of ♠, 3 of ♥, 3 of ♦, 3 of ♣, 4 of ♠, 4 of ♥, 4 of ♦, 4 of ♣, 5 of ♠, 5 of ♥, 5 of ♦, 5 of ♣, 6 of ♠, 6 of ♥, 6 of ♦, 6 of ♣, 7 of ♠, 7 of ♥, 7 of ♦, 7 of ♣, 8 of ♠, 8 of ♥, 8 of ♦, 8 of ♣, 9 of ♠, 9 of ♥, 9 of ♦, 9 of ♣, 10 of ♠, 10 of ♥, 10 of ♦, 10 of ♣, J of ♠, J of ♥, J of ♦, J of ♣, Q of ♠, Q of ♥, Q of ♦, Q of ♣, K of ♠, K of ♥, K of ♦, K of ♣, A of ♠, A of ♥, A of ♦, A of ♣]\n"
     ]
    }
   ],
   "source": [
    "d1 = Deck()"
   ]
  },
  {
   "cell_type": "markdown",
   "id": "5a35f534-eaa7-4bf8-ae10-d8c16796ea9a",
   "metadata": {
    "jupyter": {
     "source_hidden": true
    },
    "tags": []
   },
   "source": [
    "## Works for generic 52 card deck-- list comprehension"
   ]
  },
  {
   "cell_type": "code",
   "execution_count": 78,
   "id": "7d4b3a84-2f81-4400-853b-f13b7979c762",
   "metadata": {
    "jupyter": {
     "source_hidden": true
    },
    "tags": []
   },
   "outputs": [],
   "source": [
    "from random import shuffle\n",
    "\n",
    "ranks = [\"2\", \"3\", \"4\", \"5\", \"6\", \"7\", \"8\", \"9\", \"10\", \"J\", \"Q\", \"K\", \"A\"]\n",
    "suits = [\"♠\", \"♥\", \"♦\", \"♣\"]\n",
    "\n",
    "class Deck:\n",
    "    def __init__(self):\n",
    "        self.deck = []\n",
    "#        specific_suit = input(\"Please enter a specific suit\")\n",
    "        self.deck = [PlayingCard(rank, suit) for rank in ranks for suit in suits]\n",
    "        print(self.deck)\n",
    "\n",
    "\n",
    "#         shuffle(self.cards)\n",
    "\n",
    "#     def rm_card(self):\n",
    "#         if len(self.cards) == 0:\n",
    "#             return\n",
    "#         return self.cards.pop()"
   ]
  },
  {
   "cell_type": "code",
   "execution_count": 79,
   "id": "19186126-937e-4b00-a6ef-c029850bd8fc",
   "metadata": {
    "collapsed": true,
    "jupyter": {
     "outputs_hidden": true,
     "source_hidden": true
    },
    "tags": []
   },
   "outputs": [
    {
     "name": "stdout",
     "output_type": "stream",
     "text": [
      "[2 of ♠, 2 of ♥, 2 of ♦, 2 of ♣, 3 of ♠, 3 of ♥, 3 of ♦, 3 of ♣, 4 of ♠, 4 of ♥, 4 of ♦, 4 of ♣, 5 of ♠, 5 of ♥, 5 of ♦, 5 of ♣, 6 of ♠, 6 of ♥, 6 of ♦, 6 of ♣, 7 of ♠, 7 of ♥, 7 of ♦, 7 of ♣, 8 of ♠, 8 of ♥, 8 of ♦, 8 of ♣, 9 of ♠, 9 of ♥, 9 of ♦, 9 of ♣, 10 of ♠, 10 of ♥, 10 of ♦, 10 of ♣, J of ♠, J of ♥, J of ♦, J of ♣, Q of ♠, Q of ♥, Q of ♦, Q of ♣, K of ♠, K of ♥, K of ♦, K of ♣, A of ♠, A of ♥, A of ♦, A of ♣]\n"
     ]
    }
   ],
   "source": [
    "d1 = Deck()"
   ]
  },
  {
   "cell_type": "markdown",
   "id": "1fc16456-4edd-409f-973b-0bd731048035",
   "metadata": {
    "jupyter": {
     "source_hidden": true
    },
    "tags": []
   },
   "source": [
    "---"
   ]
  },
  {
   "cell_type": "markdown",
   "id": "fb38193c-7c37-429f-ac6b-36430ae00749",
   "metadata": {
    "jupyter": {
     "source_hidden": true
    },
    "tags": []
   },
   "source": [
    "### THIS WORKS FOR Chosen suit or all suits. Include Random as well!"
   ]
  },
  {
   "cell_type": "code",
   "execution_count": 95,
   "id": "1517f474-1c4b-4c30-81c8-00f97254e5c6",
   "metadata": {
    "jupyter": {
     "source_hidden": true
    },
    "tags": []
   },
   "outputs": [],
   "source": [
    "import random\n",
    "from random import shuffle\n",
    "\n",
    "ranks = [\"2\", \"3\", \"4\", \"5\", \"6\", \"7\", \"8\", \"9\", \"10\", \"J\", \"Q\", \"K\", \"A\"]\n",
    "suits = [\"♠\", \"♥\", \"♦\", \"♣\"]\n",
    "\n",
    "class Deck:\n",
    "    def __init__(self, chosen_suit = [\"♠\", \"♥\", \"♦\", \"♣\"]):\n",
    "        self.deck = []\n",
    "        self.chosen_suit = chosen_suit\n",
    "#        specific_suit = input(\"Please enter a specific suit\")\n",
    "        self.deck = [PlayingCard(rank, suit) for rank in ranks for suit in chosen_suit]\n",
    "        random.shuffle(self.deck)\n",
    "        print(self.deck)\n",
    "\n",
    "\n",
    "#         shuffle(self.cards)\n",
    "\n",
    "#     def rm_card(self):\n",
    "#         if len(self.cards) == 0:\n",
    "#             return\n",
    "#         return self.cards.pop()"
   ]
  },
  {
   "cell_type": "code",
   "execution_count": 96,
   "id": "43a15641-2ad4-4ccb-88cd-68ce00e06baf",
   "metadata": {
    "collapsed": true,
    "jupyter": {
     "outputs_hidden": true,
     "source_hidden": true
    },
    "tags": []
   },
   "outputs": [
    {
     "name": "stdout",
     "output_type": "stream",
     "text": [
      "[7 of ♥, 5 of ♥, 4 of ♥, 2 of ♥, Q of ♥, 6 of ♥, A of ♥, 3 of ♥, K of ♥, J of ♥, 8 of ♥, 10 of ♥, 9 of ♥]\n"
     ]
    }
   ],
   "source": [
    "d1 = Deck(\"♥\")"
   ]
  },
  {
   "cell_type": "markdown",
   "id": "8eb7f8d3-d243-4977-8df6-a6e85fd1c462",
   "metadata": {},
   "source": [
    "---"
   ]
  },
  {
   "cell_type": "markdown",
   "id": "ccaa3084-b5f9-46f5-837f-3892572ceca2",
   "metadata": {},
   "source": [
    "# Changing shuffle to its own method"
   ]
  },
  {
   "cell_type": "code",
   "execution_count": 64,
   "id": "b662026a-2d90-449c-8b6e-adb2ef4a4f92",
   "metadata": {
    "jupyter": {
     "source_hidden": true
    },
    "tags": []
   },
   "outputs": [],
   "source": [
    "import random\n",
    "from random import shuffle\n",
    "\n",
    "ranks = [\"2\", \"3\", \"4\", \"5\", \"6\", \"7\", \"8\", \"9\", \"10\", \"J\", \"Q\", \"K\", \"A\"]\n",
    "suits = [\"♠\", \"♥\", \"♦\", \"♣\"]\n",
    "\n",
    "class Deck:\n",
    "    def __init__(self, chosen_suit = [\"♠\", \"♥\", \"♦\", \"♣\"]):\n",
    "        self.deck = []\n",
    "        self.chosen_suit = chosen_suit\n",
    "#        specific_suit = input(\"Please enter a specific suit\")\n",
    "        self.deck = [PlayingCard(rank, suit) for rank in ranks for suit in chosen_suit]\n",
    "        print(self.deck)\n",
    "        \n",
    "    def shuffle_deck(self):\n",
    "        random.shuffle(self.deck)\n",
    "        print(self.deck)\n",
    "\n",
    "\n",
    "#         shuffle(self.cards)\n",
    "\n",
    "#     def rm_card(self):\n",
    "#         if len(self.cards) == 0:\n",
    "#             return\n",
    "#         return self.cards.pop()"
   ]
  },
  {
   "cell_type": "code",
   "execution_count": 65,
   "id": "e14d4c8c-b625-4fc1-a200-602df9e2bef9",
   "metadata": {
    "collapsed": true,
    "jupyter": {
     "outputs_hidden": true,
     "source_hidden": true
    },
    "tags": []
   },
   "outputs": [
    {
     "name": "stdout",
     "output_type": "stream",
     "text": [
      "[2 of ♥, 3 of ♥, 4 of ♥, 5 of ♥, 6 of ♥, 7 of ♥, 8 of ♥, 9 of ♥, 10 of ♥, J of ♥, Q of ♥, K of ♥, A of ♥]\n"
     ]
    }
   ],
   "source": [
    "d1 = Deck(\"♥\")"
   ]
  },
  {
   "cell_type": "code",
   "execution_count": 66,
   "id": "a72ff6f4-510d-4b89-9bfe-b550b889b4cb",
   "metadata": {
    "collapsed": true,
    "jupyter": {
     "outputs_hidden": true,
     "source_hidden": true
    },
    "tags": []
   },
   "outputs": [
    {
     "name": "stdout",
     "output_type": "stream",
     "text": [
      "[2 of ♠, 2 of ♥, 2 of ♦, 2 of ♣, 3 of ♠, 3 of ♥, 3 of ♦, 3 of ♣, 4 of ♠, 4 of ♥, 4 of ♦, 4 of ♣, 5 of ♠, 5 of ♥, 5 of ♦, 5 of ♣, 6 of ♠, 6 of ♥, 6 of ♦, 6 of ♣, 7 of ♠, 7 of ♥, 7 of ♦, 7 of ♣, 8 of ♠, 8 of ♥, 8 of ♦, 8 of ♣, 9 of ♠, 9 of ♥, 9 of ♦, 9 of ♣, 10 of ♠, 10 of ♥, 10 of ♦, 10 of ♣, J of ♠, J of ♥, J of ♦, J of ♣, Q of ♠, Q of ♥, Q of ♦, Q of ♣, K of ♠, K of ♥, K of ♦, K of ♣, A of ♠, A of ♥, A of ♦, A of ♣]\n"
     ]
    }
   ],
   "source": [
    "d1 = Deck()"
   ]
  },
  {
   "cell_type": "code",
   "execution_count": 67,
   "id": "13df62ce-b70e-4965-b730-7a8c53773e26",
   "metadata": {
    "collapsed": true,
    "jupyter": {
     "outputs_hidden": true,
     "source_hidden": true
    },
    "tags": []
   },
   "outputs": [
    {
     "name": "stdout",
     "output_type": "stream",
     "text": [
      "[5 of ♣, 2 of ♠, 6 of ♦, J of ♠, 9 of ♥, 6 of ♠, K of ♣, K of ♠, Q of ♥, 6 of ♣, 7 of ♦, 7 of ♠, 5 of ♦, 9 of ♦, J of ♥, 10 of ♦, J of ♦, 3 of ♠, A of ♥, 2 of ♣, 9 of ♠, 4 of ♦, 10 of ♠, 8 of ♠, K of ♦, A of ♠, 4 of ♥, 10 of ♥, J of ♣, 4 of ♣, A of ♣, 2 of ♦, Q of ♦, 8 of ♦, 5 of ♥, K of ♥, 3 of ♣, 8 of ♣, 5 of ♠, 8 of ♥, 2 of ♥, 7 of ♣, Q of ♠, Q of ♣, 6 of ♥, 3 of ♦, 9 of ♣, 10 of ♣, 7 of ♥, 3 of ♥, A of ♦, 4 of ♠]\n"
     ]
    }
   ],
   "source": [
    "d1.shuffle_deck()"
   ]
  },
  {
   "cell_type": "markdown",
   "id": "86bc114e-0466-4329-b3b2-a7f246093039",
   "metadata": {},
   "source": [
    "<font size = 6, color = red>Current Working Model"
   ]
  },
  {
   "cell_type": "markdown",
   "id": "7fb00894-3143-47fa-84ea-190d11af409d",
   "metadata": {},
   "source": [
    "# adding section on choosing x number of cards"
   ]
  },
  {
   "cell_type": "code",
   "execution_count": 33,
   "id": "6f197ae2-a0c3-42ec-9bab-826e35cf38ef",
   "metadata": {},
   "outputs": [],
   "source": [
    "import random\n",
    "from random import shuffle\n",
    "\n",
    "ranks = [\"2\", \"3\", \"4\", \"5\", \"6\", \"7\", \"8\", \"9\", \"10\", \"J\", \"Q\", \"K\", \"A\"]\n",
    "suits = [\"♠\", \"♥\", \"♦\", \"♣\"]\n",
    "\n",
    "class Deck:\n",
    "    def __init__(self, chosen_suit = [\"♠\", \"♥\", \"♦\", \"♣\"]):\n",
    "        self.deck = []\n",
    "        self.chosen_suit = chosen_suit\n",
    "#        specific_suit = input(\"Please enter a specific suit\")\n",
    "        self.deck = [PlayingCard(rank, suit) for rank in ranks for suit in chosen_suit]\n",
    "        print(self.deck)\n",
    "        \n",
    "    def shuffle_deck(self):\n",
    "        random.shuffle(self.deck)\n",
    "        print(self.deck)\n",
    "\n",
    "    def deal_card(self, card_count):\n",
    "        self.popped_list = []\n",
    "        self.card_count = card_count\n",
    "        if card_count > len(self.deck):\n",
    "#            raise ValueError (\"Sorry, all of the cards have been dealt.\")\n",
    "#           raise ValueError (\"Cannot deal \" + str(self.card_count) + \"cards. The deck only has \" + str(len(self.deck)) + \"cards left!\")\n",
    "            return \"Cannot deal \" + str(self.card_count) + \"cards. The deck only has \" + str(len(self.deck)) + \"cards left!\"\n",
    "        else:\n",
    "            self.popped_list = [self.deck.pop() for i in range(card_count)]\n",
    "            print(self.popped_list)\n",
    "#            print(self.deck)\n",
    "        \n",
    "            \n",
    "            \n",
    "# # #        self.x = x\n",
    "#          for i in range(card_count-1):\n",
    "# #             a = randint(0,len(deck)-1)\n",
    "# #             print(deck(a))\n",
    "# #             del deck[a] # We will delete the card which drew"
   ]
  },
  {
   "cell_type": "code",
   "execution_count": 34,
   "id": "43c0b33d-bf45-476a-b4b5-6622455f00af",
   "metadata": {},
   "outputs": [
    {
     "name": "stdout",
     "output_type": "stream",
     "text": [
      "[2 of ♥, 3 of ♥, 4 of ♥, 5 of ♥, 6 of ♥, 7 of ♥, 8 of ♥, 9 of ♥, 10 of ♥, J of ♥, Q of ♥, K of ♥, A of ♥]\n"
     ]
    }
   ],
   "source": [
    "d1 = Deck(\"♥\")"
   ]
  },
  {
   "cell_type": "code",
   "execution_count": 35,
   "id": "9026f6fa-faf9-42de-9f8b-2b39b9f5f1bc",
   "metadata": {},
   "outputs": [
    {
     "name": "stdout",
     "output_type": "stream",
     "text": [
      "[5 of ♥, 6 of ♥, 10 of ♥, 4 of ♥, J of ♥, K of ♥, Q of ♥, 9 of ♥, 8 of ♥, 3 of ♥, A of ♥, 2 of ♥, 7 of ♥]\n"
     ]
    }
   ],
   "source": [
    "d1.shuffle_deck()"
   ]
  },
  {
   "cell_type": "code",
   "execution_count": 37,
   "id": "6fecb9cb-519f-48ba-8efc-99010e7cee47",
   "metadata": {},
   "outputs": [
    {
     "name": "stdout",
     "output_type": "stream",
     "text": [
      "[A of ♥, 3 of ♥, 8 of ♥, 9 of ♥, Q of ♥, K of ♥, J of ♥]\n"
     ]
    }
   ],
   "source": [
    "d1.deal_card(7)"
   ]
  },
  {
   "cell_type": "code",
   "execution_count": null,
   "id": "44f5ea57-6469-41ed-9c63-93f730dd28ba",
   "metadata": {},
   "outputs": [],
   "source": []
  },
  {
   "cell_type": "code",
   "execution_count": null,
   "id": "936b91f6-7300-4400-9201-f29f40f857fa",
   "metadata": {},
   "outputs": [],
   "source": []
  },
  {
   "cell_type": "markdown",
   "id": "59f7da39-a544-4ea7-b911-7bd5615088fd",
   "metadata": {},
   "source": [
    "---"
   ]
  },
  {
   "cell_type": "markdown",
   "id": "552c9ab7-a201-40d2-b17f-7d51360d22d2",
   "metadata": {},
   "source": [
    "Example:\n",
    "```\n",
    ">>> card1 = PlayingCard(\"A\", \"♠\")\n",
    ">>> print(card1)\n",
    "A of ♠\n",
    "\n",
    ">>> card2 = PlayingCard(\"15\", \"♠\")\n",
    "< error stack >\n",
    "TypeError: Invalid rank!\n",
    "\n",
    ">>> card2 = PlayingCard(\"10\", \"bunnies\")\n",
    "< error stack >\n",
    "TypeError: Invalid suit!\n",
    "\n",
    ">>> deck1 = Deck()\n",
    ">>> print(deck1.cards)\n",
    "[K of ♠, A of ♥, 6 of ♣, 7 of ♠, J of ♦, 6 of ♠, Q of ♦, 5 of ♣, 10 of ♦, 2 of ♥, 8 of ♣, 8 of ♦, 4 of ♦, 7 of ♦, 3 of ♣, K of ♣, 9 of ♠, 4 of ♥, 10 of ♥, 10 of ♣, A of ♠, 9 of ♥, 7 of ♥, 9 of ♣, 7 of ♣, 5 of ♠, 3 of ♦, 10 of ♠, Q of ♥, J of ♣, 5 of ♥, K of ♥, K of ♦, 2 of ♠, 8 of ♠, Q of ♣, 3 of ♠, 6 of ♥, 6 of ♦, A of ♣, A of ♦, 3 of ♥, J of ♠, 4 of ♣, 5 of ♦, 2 of ♦, 4 of ♠, 2 of ♣, Q of ♠, J of ♥, 8 of ♥, 9 of ♦] \n",
    "\n",
    ">>> deck2 = Deck('♠')\n",
    ">>> deck2.shuffle_deck()\n",
    ">>> deck2.cards\n",
    "[A of ♠, 10 of ♠, 3 of ♠, 7 of ♠, 5 of ♠, 4 of ♠, 8 of ♠, J of ♠, 9 of ♠, Q of ♠, 6 of ♠, 2 of ♠, K of ♠]\n",
    "\n",
    ">>> hand = deck2.deal_card(7)\n",
    ">>> hand\n",
    "[A of ♠, 10 of ♠, 3 of ♠, 7 of ♠, 5 of ♠, 4 of ♠, 8 of ♠]\n",
    "\n",
    ">>> deck2.deal_card(7)\n",
    "'Cannot deal 7 cards. The deck only has 6 cards left!'\n",
    "```"
   ]
  },
  {
   "cell_type": "markdown",
   "id": "421ba9e5-1c58-413e-80a3-747d11a11196",
   "metadata": {},
   "source": [
    "---"
   ]
  },
  {
   "cell_type": "markdown",
   "id": "9eb821c4-c63f-4a5b-a3e2-2bd407cff719",
   "metadata": {},
   "source": [
    "---"
   ]
  },
  {
   "cell_type": "code",
   "execution_count": null,
   "id": "755b576b",
   "metadata": {},
   "outputs": [],
   "source": [
    "# Q7-1 Grading Tag:\n"
   ]
  }
 ],
 "metadata": {
  "kernelspec": {
   "display_name": "Python 3 (ipykernel)",
   "language": "python",
   "name": "python3"
  },
  "language_info": {
   "codemirror_mode": {
    "name": "ipython",
    "version": 3
   },
   "file_extension": ".py",
   "mimetype": "text/x-python",
   "name": "python",
   "nbconvert_exporter": "python",
   "pygments_lexer": "ipython3",
   "version": "3.9.12"
  }
 },
 "nbformat": 4,
 "nbformat_minor": 5
}
