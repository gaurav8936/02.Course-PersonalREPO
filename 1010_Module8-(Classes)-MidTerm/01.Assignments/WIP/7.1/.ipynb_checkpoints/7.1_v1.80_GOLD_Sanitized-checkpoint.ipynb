{
 "cells": [
  {
   "cell_type": "markdown",
   "id": "435a202a-2968-4456-a618-95e63da8aab2",
   "metadata": {},
   "source": [
    "## 7-1 Deck of Cards (50 points)\n",
    "\n"
   ]
  },
  {
   "cell_type": "markdown",
   "id": "27ac39b5-684c-4c1a-bd81-2ff1e6a98b62",
   "metadata": {},
   "source": [
    "---"
   ]
  },
  {
   "cell_type": "markdown",
   "id": "92ae0093-4408-428c-8670-8307937687b2",
   "metadata": {},
   "source": [
    "---"
   ]
  },
  {
   "cell_type": "markdown",
   "id": "d11d8b28",
   "metadata": {},
   "source": [
    "Please design two classes in this notebook as follows:\n",
    "\n",
    "1\\. Please create a class called **PlayingCard**. (20 points)<br>\n",
    "This class should have: <br>\n",
    "- An attribute, \"rank\" that takes a value of \"2\", \"3\", \"4\", \"5\", \"6\", \"7\", \"8\", \"9\", \"10\", \"J\", \"Q\", \"K\", or \"A\"<br>\n",
    "- An attribute, \"suit\" that takes a value of \"♠\" \"♥\" \"♦\" or \"♣\". (If you don't know how to make these characters you can cut and paste from this block)<br>  \n",
    "- An __init__ method that:\n",
    "    -  Accepts as parameters a specific rank (as a string) and suit (as a string).\n",
    "    -  **Raise a TypeError** with \"Invalid rank!\" or \"Invalid suit!\" when a rank or suit is not valid.\n",
    "- The ```__str__``` and ```__repr__``` methods to display the cards correctly (as shown below in the examples)"
   ]
  },
  {
   "cell_type": "markdown",
   "id": "fcb531ac-99f9-4d42-8d3b-fad20957d325",
   "metadata": {},
   "source": [
    "2\\. Please create a class called **Deck**. (30 points)<br>\n",
    "This class should have: <br>\n",
    "- An attribute, \"cards\", that holds a list of PlayingCard objects. <br>\n",
    "- An __init__ method that: \n",
    "\n",
    "    - By default stores a full deck of 52 playing card (with proper numbers and suits) in the \"cards\" list. Each cards will be  of the class PlayingCard above<br>\n",
    "    - Allows the user to specify a specific suit of the 4 (\"♠\" \"♥\" \"♦\" or \"♣\"). In this case, the program should only populate the deck with the 13 cards of that suit.\n",
    "    - After the cards object is initialized, call the \"shuffle_deck()\" function (below).<br>\n",
    "    \n",
    "- A \"shuffle_deck()\" method that randomly changes the order of cards in the deck.<br>\n",
    "    - Import the random library to 'shuffle' the deck: https://docs.python.org/3.9/library/random.html#random.shuffle\n",
    "    - Please import it at the top of your block instead of inside the class / methods.\n",
    "\n",
    "- A \"deal_card(card_count)\" method that:\n",
    "    - **Removes** the first `card_count` cards from the deck and **returns** them as a **list**.<br>\n",
    "    - If the deck doesnt have the `card_count` number of cards left to deal, **return** the message `Cannot deal <x> cards. The deck only has <y> cards left!` (do not raise an exception or print inside the method)."
   ]
  },
  {
   "cell_type": "markdown",
   "id": "552c9ab7-a201-40d2-b17f-7d51360d22d2",
   "metadata": {},
   "source": [
    "Example:\n",
    "```\n",
    ">>> card1 = PlayingCard(\"A\", \"♠\")\n",
    ">>> print(card1)\n",
    "A of ♠\n",
    "\n",
    ">>> card2 = PlayingCard(\"15\", \"♠\")\n",
    "< error stack >\n",
    "TypeError: Invalid rank!\n",
    "\n",
    ">>> card2 = PlayingCard(\"10\", \"bunnies\")\n",
    "< error stack >\n",
    "TypeError: Invalid suit!\n",
    "\n",
    ">>> deck1 = Deck()\n",
    ">>> print(deck1.cards)\n",
    "[K of ♠, A of ♥, 6 of ♣, 7 of ♠, J of ♦, 6 of ♠, Q of ♦, 5 of ♣, 10 of ♦, 2 of ♥, 8 of ♣, 8 of ♦, 4 of ♦, 7 of ♦, 3 of ♣, K of ♣, 9 of ♠, 4 of ♥, 10 of ♥, 10 of ♣, A of ♠, 9 of ♥, 7 of ♥, 9 of ♣, 7 of ♣, 5 of ♠, 3 of ♦, 10 of ♠, Q of ♥, J of ♣, 5 of ♥, K of ♥, K of ♦, 2 of ♠, 8 of ♠, Q of ♣, 3 of ♠, 6 of ♥, 6 of ♦, A of ♣, A of ♦, 3 of ♥, J of ♠, 4 of ♣, 5 of ♦, 2 of ♦, 4 of ♠, 2 of ♣, Q of ♠, J of ♥, 8 of ♥, 9 of ♦] \n",
    "\n",
    ">>> deck2 = Deck('♠')\n",
    ">>> deck2.shuffle_deck()\n",
    ">>> deck2.cards\n",
    "[A of ♠, 10 of ♠, 3 of ♠, 7 of ♠, 5 of ♠, 4 of ♠, 8 of ♠, J of ♠, 9 of ♠, Q of ♠, 6 of ♠, 2 of ♠, K of ♠]\n",
    "\n",
    ">>> hand = deck2.deal_card(7)\n",
    ">>> hand\n",
    "[A of ♠, 10 of ♠, 3 of ♠, 7 of ♠, 5 of ♠, 4 of ♠, 8 of ♠]\n",
    "\n",
    ">>> deck2.deal_card(7)\n",
    "'Cannot deal 7 cards. The deck only has 6 cards left!'\n",
    "```"
   ]
  },
  {
   "cell_type": "markdown",
   "id": "1bce94b8-d408-4e5c-a821-b2fa7cc44097",
   "metadata": {},
   "source": [
    "# Fixing the issue with Deck and renaming as cards"
   ]
  },
  {
   "cell_type": "code",
   "execution_count": 26,
   "id": "2f7f1a8d-59a1-4e74-bc78-faf7c2f8878b",
   "metadata": {},
   "outputs": [],
   "source": [
    "# Q7-1 Grading Tag:\n",
    "\n",
    "import random\n",
    "from random import shuffle\n",
    "\n",
    "ranks = [\"2\", \"3\", \"4\", \"5\", \"6\", \"7\", \"8\", \"9\", \"10\", \"J\", \"Q\", \"K\", \"A\"]\n",
    "suits = [\"♠\", \"♥\", \"♦\", \"♣\"]\n",
    "\n",
    "class PlayingCard:\n",
    "    \n",
    "    \"\"\"    \n",
    "    Class to represent a playing card with a suit and rank\n",
    "    Validated against a static list of ranks and suits as shown below\n",
    "    \"\"\"\n",
    "    \n",
    "    def __init__(self, rank, suit):\n",
    "        \n",
    "        \"\"\"\n",
    "        I have kept things simple with a single function to initiatialize the card and validate conditions\n",
    "        Decided not to complicate matters by using setter/getter methods or decorators\n",
    "        \n",
    "        \"\"\"\n",
    "        \n",
    "        # initialize the two attribute values (rank and suit)\n",
    "        \n",
    "        self.rank = rank\n",
    "        self.suit = suit\n",
    "        \n",
    "\n",
    "        # Validate for conditions and throw a TypeError if any or both conditions are invalid\n",
    "        # if none of the error occur, then we can ssume the card object was created successfully\n",
    "        \n",
    "        if self.rank not in ranks:\n",
    "            raise TypeError(\"Invalid rank!\")\n",
    "        if self.suit not in suits:\n",
    "            raise TypeError(\"Invalid suit!\")\n",
    "        \n",
    "    \n",
    "    # using  __str__ method to print\n",
    "    \n",
    "    def __str__(self):\n",
    "        return \"%s of %s\" %(self.rank, self.suit)\n",
    "    \n",
    "    \n",
    "    # using __repr__ to print and make this readable\n",
    "    \n",
    "    def __repr__(self):\n",
    "        return \"%s of %s\" %(self.rank, self.suit)\n",
    "\n",
    "\n",
    "\n",
    "class Deck:\n",
    "    \n",
    "    \"\"\"    \n",
    "    Class to create a deck of cards; either a full one (52 cards) or by suit (i.e. 13 cards)\n",
    "    has a couple methods (shuffle_deck) to randomnly shuffle the cards\n",
    "    and deal_card (which takes a user-defined input and deals those cards; say 3 cards)\n",
    "    \"\"\"\n",
    "    \n",
    "    def __init__(self, chosen_suit = [\"♠\", \"♥\", \"♦\", \"♣\"]):\n",
    "        self.cards = []\n",
    "        self.chosen_suit = chosen_suit\n",
    "        self.cards = [PlayingCard(rank, suit) for rank in ranks for suit in chosen_suit]\n",
    "        print(self.cards)\n",
    "        \n",
    "    def shuffle_deck(self):\n",
    "        random.shuffle(self.cards)\n",
    "        print(self.cards)\n",
    "\n",
    "    def deal_card(self, card_count):\n",
    "        self.popped_list = []\n",
    "        self.card_count = card_count\n",
    "        if card_count > len(self.cards):\n",
    "            return \"Cannot deal \" + str(self.card_count) + \" cards. The deck only has \" + str(len(self.cards)) + \" cards left!\"\n",
    "        else:\n",
    "            self.popped_list = [self.cards.pop() for i in range(card_count)]\n",
    "            return self.popped_list\n"
   ]
  },
  {
   "cell_type": "markdown",
   "id": "421ba9e5-1c58-413e-80a3-747d11a11196",
   "metadata": {},
   "source": [
    "---"
   ]
  },
  {
   "cell_type": "markdown",
   "id": "96ab49d5-d063-4f29-bb82-8bbbfb8924ea",
   "metadata": {},
   "source": [
    "# Gradescope Errors"
   ]
  },
  {
   "cell_type": "markdown",
   "id": "fdf62187-4d0b-4860-bf31-a39e626a0b8e",
   "metadata": {},
   "source": [
    "* 7-1: Test if Deck class init Deck('♣') using the method deal_card with input deal_card(7) removes the cards from the deck (0.0/3.0)\n",
    "\n",
    "[2 of ♣, 3 of ♣, 4 of ♣, 5 of ♣, 6 of ♣, 7 of ♣, 8 of ♣, 9 of ♣, 10 of ♣, J of ♣, Q of ♣, K of ♣, A of ♣]\n",
    "Test Failed: 'Deck' object has no attribute 'cards'\n",
    "----------------------"
   ]
  },
  {
   "cell_type": "code",
   "execution_count": 27,
   "id": "14f0c082-b059-4945-af65-0dba6773366e",
   "metadata": {},
   "outputs": [
    {
     "name": "stdout",
     "output_type": "stream",
     "text": [
      "[2 of ♣, 3 of ♣, 4 of ♣, 5 of ♣, 6 of ♣, 7 of ♣, 8 of ♣, 9 of ♣, 10 of ♣, J of ♣, Q of ♣, K of ♣, A of ♣]\n"
     ]
    }
   ],
   "source": [
    "d = Deck('♣')"
   ]
  },
  {
   "cell_type": "code",
   "execution_count": 28,
   "id": "2352c1f1-85ff-4300-b799-8a97cdb8c3f4",
   "metadata": {},
   "outputs": [
    {
     "name": "stdout",
     "output_type": "stream",
     "text": [
      "[2 of ♣, 3 of ♣, 8 of ♣, A of ♣, 4 of ♣, 10 of ♣, J of ♣, Q of ♣, 6 of ♣, K of ♣, 9 of ♣, 5 of ♣, 7 of ♣]\n"
     ]
    }
   ],
   "source": [
    "d.shuffle_deck()"
   ]
  },
  {
   "cell_type": "code",
   "execution_count": 29,
   "id": "0086995b-6b3c-4379-859f-994969f40305",
   "metadata": {},
   "outputs": [
    {
     "data": {
      "text/plain": [
       "[2 of ♣,\n",
       " 3 of ♣,\n",
       " 8 of ♣,\n",
       " A of ♣,\n",
       " 4 of ♣,\n",
       " 10 of ♣,\n",
       " J of ♣,\n",
       " Q of ♣,\n",
       " 6 of ♣,\n",
       " K of ♣,\n",
       " 9 of ♣,\n",
       " 5 of ♣,\n",
       " 7 of ♣]"
      ]
     },
     "execution_count": 29,
     "metadata": {},
     "output_type": "execute_result"
    }
   ],
   "source": [
    "d.cards"
   ]
  },
  {
   "cell_type": "code",
   "execution_count": 30,
   "id": "75faac83-bd88-42e8-9cdf-3677257d0294",
   "metadata": {},
   "outputs": [],
   "source": [
    "hand = d.deal_card(2)"
   ]
  },
  {
   "cell_type": "code",
   "execution_count": 31,
   "id": "beae259c-db64-4c19-886c-9345ae88db22",
   "metadata": {},
   "outputs": [
    {
     "data": {
      "text/plain": [
       "[7 of ♣, 5 of ♣]"
      ]
     },
     "execution_count": 31,
     "metadata": {},
     "output_type": "execute_result"
    }
   ],
   "source": [
    "hand"
   ]
  },
  {
   "cell_type": "code",
   "execution_count": 32,
   "id": "7e881cae-5785-471e-98ea-617b05d20603",
   "metadata": {},
   "outputs": [
    {
     "data": {
      "text/plain": [
       "[2 of ♣,\n",
       " 3 of ♣,\n",
       " 8 of ♣,\n",
       " A of ♣,\n",
       " 4 of ♣,\n",
       " 10 of ♣,\n",
       " J of ♣,\n",
       " Q of ♣,\n",
       " 6 of ♣,\n",
       " K of ♣,\n",
       " 9 of ♣]"
      ]
     },
     "execution_count": 32,
     "metadata": {},
     "output_type": "execute_result"
    }
   ],
   "source": [
    "d.cards"
   ]
  },
  {
   "cell_type": "code",
   "execution_count": null,
   "id": "d08a5af2-c0bd-4960-940c-708af1efab83",
   "metadata": {},
   "outputs": [],
   "source": []
  },
  {
   "cell_type": "code",
   "execution_count": null,
   "id": "f8a511b4-9d69-4c94-9f94-7548af7373a7",
   "metadata": {},
   "outputs": [],
   "source": []
  },
  {
   "cell_type": "markdown",
   "id": "0b7cef87-fb87-4c51-81fc-d8cd32b8b03f",
   "metadata": {},
   "source": [
    "* 7-1: Test if Deck class inits with an input of Deck() and has the correct cards and number (0.0/2.0)\n",
    "\n",
    "[2 of ♠, 2 of ♥, 2 of ♦, 2 of ♣, 3 of ♠, 3 of ♥, 3 of ♦, 3 of ♣, 4 of ♠, 4 of ♥, 4 of ♦, 4 of ♣, 5 of ♠, 5 of ♥, 5 of ♦, 5 of ♣, 6 of ♠, 6 of ♥, 6 of ♦, 6 of ♣, 7 of ♠, 7 of ♥, 7 of ♦, 7 of ♣, 8 of ♠, 8 of ♥, 8 of ♦, 8 of ♣, 9 of ♠, 9 of ♥, 9 of ♦, 9 of ♣, 10 of ♠, 10 of ♥, 10 of ♦, 10 of ♣, J of ♠, J of ♥, J of ♦, J of ♣, Q of ♠, Q of ♥, Q of ♦, Q of ♣, K of ♠, K of ♥, K of ♦, K of ♣, A of ♠, A of ♥, A of ♦, A of ♣]\n",
    "Test Failed: 'Deck' object has no attribute 'cards'\n",
    "\n",
    "---"
   ]
  },
  {
   "cell_type": "markdown",
   "id": "5bb8d37b-436e-4f3c-ba55-80dd40b98f16",
   "metadata": {},
   "source": [
    "* 7-1: Test if Deck class inits with an input of Deck('♣') and consists of PlayingCard objects (0.0/4.0)\n",
    "\n",
    "[2 of ♣, 3 of ♣, 4 of ♣, 5 of ♣, 6 of ♣, 7 of ♣, 8 of ♣, 9 of ♣, 10 of ♣, J of ♣, Q of ♣, K of ♣, A of ♣]\n",
    "Test Failed: 'Deck' object has no attribute 'cards'\n",
    "---"
   ]
  },
  {
   "cell_type": "markdown",
   "id": "817f01e5-4dd3-4c32-be87-638893310ff8",
   "metadata": {},
   "source": [
    "* 7-1: Test if Deck class init Deck('♣') using the shuffle_deck() method works (0.0/4.0)\n",
    "\n",
    "[2 of ♣, 3 of ♣, 4 of ♣, 5 of ♣, 6 of ♣, 7 of ♣, 8 of ♣, 9 of ♣, 10 of ♣, J of ♣, Q of ♣, K of ♣, A of ♣]\n",
    "Test Failed: AttributeError(\"'Deck' object has no attribute 'cards'\",) is not false : Your program produced an exception: 'Deck' object has no attribute 'cards'\n",
    "\n",
    "---"
   ]
  },
  {
   "cell_type": "code",
   "execution_count": null,
   "id": "66d568ed-e998-4906-ab79-eca3088d433e",
   "metadata": {},
   "outputs": [],
   "source": []
  },
  {
   "cell_type": "code",
   "execution_count": null,
   "id": "6947afa6-8272-4692-9178-582e0c1a2f17",
   "metadata": {},
   "outputs": [],
   "source": []
  },
  {
   "cell_type": "code",
   "execution_count": null,
   "id": "61ec5fba-e368-4928-b0e5-7158d7341edf",
   "metadata": {},
   "outputs": [],
   "source": []
  },
  {
   "cell_type": "code",
   "execution_count": null,
   "id": "5072acf3-a4ec-47c5-a44c-d3c0a5546281",
   "metadata": {},
   "outputs": [],
   "source": []
  },
  {
   "cell_type": "code",
   "execution_count": null,
   "id": "4dcbdb32-03f5-436c-9d25-d0ff4250b0c9",
   "metadata": {},
   "outputs": [],
   "source": []
  },
  {
   "cell_type": "code",
   "execution_count": null,
   "id": "ada6396b-51e1-4670-8123-26604a529093",
   "metadata": {},
   "outputs": [],
   "source": []
  },
  {
   "cell_type": "code",
   "execution_count": 3,
   "id": "7178e1f9-04dd-44fe-a8b9-850d130882d5",
   "metadata": {},
   "outputs": [
    {
     "name": "stdout",
     "output_type": "stream",
     "text": [
      "A of ♠\n"
     ]
    }
   ],
   "source": [
    "c1 = PlayingCard(\"A\", \"♠\")\n",
    "print(c1)"
   ]
  },
  {
   "cell_type": "code",
   "execution_count": 4,
   "id": "d527c9e6-c4c2-4f42-90d6-4a88b698f70c",
   "metadata": {
    "collapsed": true,
    "jupyter": {
     "outputs_hidden": true
    },
    "tags": []
   },
   "outputs": [
    {
     "ename": "TypeError",
     "evalue": "Invalid rank!",
     "output_type": "error",
     "traceback": [
      "\u001b[0;31m---------------------------------------------------------------------------\u001b[0m",
      "\u001b[0;31mTypeError\u001b[0m                                 Traceback (most recent call last)",
      "Input \u001b[0;32mIn [4]\u001b[0m, in \u001b[0;36m<cell line: 1>\u001b[0;34m()\u001b[0m\n\u001b[0;32m----> 1\u001b[0m c2 \u001b[38;5;241m=\u001b[39m \u001b[43mPlayingCard\u001b[49m\u001b[43m(\u001b[49m\u001b[38;5;124;43m\"\u001b[39;49m\u001b[38;5;124;43m15\u001b[39;49m\u001b[38;5;124;43m\"\u001b[39;49m\u001b[43m,\u001b[49m\u001b[43m \u001b[49m\u001b[38;5;124;43m\"\u001b[39;49m\u001b[38;5;124;43m♠\u001b[39;49m\u001b[38;5;124;43m\"\u001b[39;49m\u001b[43m)\u001b[49m\n",
      "Input \u001b[0;32mIn [2]\u001b[0m, in \u001b[0;36mPlayingCard.__init__\u001b[0;34m(self, rank, suit)\u001b[0m\n\u001b[1;32m     30\u001b[0m \u001b[38;5;66;03m# Validate for conditions and throw a TypeError if any or both conditions are invalid\u001b[39;00m\n\u001b[1;32m     31\u001b[0m \u001b[38;5;66;03m# if none of the error occur, then we can ssume the card object was created successfully\u001b[39;00m\n\u001b[1;32m     33\u001b[0m \u001b[38;5;28;01mif\u001b[39;00m \u001b[38;5;28mself\u001b[39m\u001b[38;5;241m.\u001b[39mrank \u001b[38;5;129;01mnot\u001b[39;00m \u001b[38;5;129;01min\u001b[39;00m ranks:\n\u001b[0;32m---> 34\u001b[0m     \u001b[38;5;28;01mraise\u001b[39;00m \u001b[38;5;167;01mTypeError\u001b[39;00m(\u001b[38;5;124m\"\u001b[39m\u001b[38;5;124mInvalid rank!\u001b[39m\u001b[38;5;124m\"\u001b[39m)\n\u001b[1;32m     35\u001b[0m \u001b[38;5;28;01mif\u001b[39;00m \u001b[38;5;28mself\u001b[39m\u001b[38;5;241m.\u001b[39msuit \u001b[38;5;129;01mnot\u001b[39;00m \u001b[38;5;129;01min\u001b[39;00m suits:\n\u001b[1;32m     36\u001b[0m     \u001b[38;5;28;01mraise\u001b[39;00m \u001b[38;5;167;01mTypeError\u001b[39;00m(\u001b[38;5;124m\"\u001b[39m\u001b[38;5;124mInvalid suit!\u001b[39m\u001b[38;5;124m\"\u001b[39m)\n",
      "\u001b[0;31mTypeError\u001b[0m: Invalid rank!"
     ]
    }
   ],
   "source": [
    "c2 = PlayingCard(\"15\", \"♠\")"
   ]
  },
  {
   "cell_type": "code",
   "execution_count": 5,
   "id": "55140fa9-b4c5-4685-bd50-0b578c2a3b1c",
   "metadata": {
    "collapsed": true,
    "jupyter": {
     "outputs_hidden": true
    },
    "tags": []
   },
   "outputs": [
    {
     "ename": "TypeError",
     "evalue": "Invalid suit!",
     "output_type": "error",
     "traceback": [
      "\u001b[0;31m---------------------------------------------------------------------------\u001b[0m",
      "\u001b[0;31mTypeError\u001b[0m                                 Traceback (most recent call last)",
      "Input \u001b[0;32mIn [5]\u001b[0m, in \u001b[0;36m<cell line: 1>\u001b[0;34m()\u001b[0m\n\u001b[0;32m----> 1\u001b[0m c3 \u001b[38;5;241m=\u001b[39m \u001b[43mPlayingCard\u001b[49m\u001b[43m(\u001b[49m\u001b[38;5;124;43m\"\u001b[39;49m\u001b[38;5;124;43m10\u001b[39;49m\u001b[38;5;124;43m\"\u001b[39;49m\u001b[43m,\u001b[49m\u001b[43m \u001b[49m\u001b[38;5;124;43m\"\u001b[39;49m\u001b[38;5;124;43mbunnies\u001b[39;49m\u001b[38;5;124;43m\"\u001b[39;49m\u001b[43m)\u001b[49m\n",
      "Input \u001b[0;32mIn [2]\u001b[0m, in \u001b[0;36mPlayingCard.__init__\u001b[0;34m(self, rank, suit)\u001b[0m\n\u001b[1;32m     34\u001b[0m     \u001b[38;5;28;01mraise\u001b[39;00m \u001b[38;5;167;01mTypeError\u001b[39;00m(\u001b[38;5;124m\"\u001b[39m\u001b[38;5;124mInvalid rank!\u001b[39m\u001b[38;5;124m\"\u001b[39m)\n\u001b[1;32m     35\u001b[0m \u001b[38;5;28;01mif\u001b[39;00m \u001b[38;5;28mself\u001b[39m\u001b[38;5;241m.\u001b[39msuit \u001b[38;5;129;01mnot\u001b[39;00m \u001b[38;5;129;01min\u001b[39;00m suits:\n\u001b[0;32m---> 36\u001b[0m     \u001b[38;5;28;01mraise\u001b[39;00m \u001b[38;5;167;01mTypeError\u001b[39;00m(\u001b[38;5;124m\"\u001b[39m\u001b[38;5;124mInvalid suit!\u001b[39m\u001b[38;5;124m\"\u001b[39m)\n",
      "\u001b[0;31mTypeError\u001b[0m: Invalid suit!"
     ]
    }
   ],
   "source": [
    "c3 = PlayingCard(\"10\", \"bunnies\")"
   ]
  },
  {
   "cell_type": "markdown",
   "id": "ec42d86b-9846-4b87-b979-836d01a5f42f",
   "metadata": {},
   "source": [
    "---"
   ]
  },
  {
   "cell_type": "code",
   "execution_count": 5,
   "id": "6ba89ca8-ee3a-47ef-bcac-ce948cc33703",
   "metadata": {},
   "outputs": [
    {
     "name": "stdout",
     "output_type": "stream",
     "text": [
      "[2 of ♠, 2 of ♥, 2 of ♦, 2 of ♣, 3 of ♠, 3 of ♥, 3 of ♦, 3 of ♣, 4 of ♠, 4 of ♥, 4 of ♦, 4 of ♣, 5 of ♠, 5 of ♥, 5 of ♦, 5 of ♣, 6 of ♠, 6 of ♥, 6 of ♦, 6 of ♣, 7 of ♠, 7 of ♥, 7 of ♦, 7 of ♣, 8 of ♠, 8 of ♥, 8 of ♦, 8 of ♣, 9 of ♠, 9 of ♥, 9 of ♦, 9 of ♣, 10 of ♠, 10 of ♥, 10 of ♦, 10 of ♣, J of ♠, J of ♥, J of ♦, J of ♣, Q of ♠, Q of ♥, Q of ♦, Q of ♣, K of ♠, K of ♥, K of ♦, K of ♣, A of ♠, A of ♥, A of ♦, A of ♣]\n"
     ]
    }
   ],
   "source": [
    "d2 = Deck()"
   ]
  },
  {
   "cell_type": "code",
   "execution_count": 6,
   "id": "dbeffff5-2e81-4d3f-999e-c38d7e3313a4",
   "metadata": {},
   "outputs": [
    {
     "ename": "AttributeError",
     "evalue": "'Deck' object has no attribute 'cards'",
     "output_type": "error",
     "traceback": [
      "\u001b[0;31m---------------------------------------------------------------------------\u001b[0m",
      "\u001b[0;31mAttributeError\u001b[0m                            Traceback (most recent call last)",
      "Input \u001b[0;32mIn [6]\u001b[0m, in \u001b[0;36m<cell line: 1>\u001b[0;34m()\u001b[0m\n\u001b[0;32m----> 1\u001b[0m \u001b[38;5;28mprint\u001b[39m(\u001b[43md2\u001b[49m\u001b[38;5;241;43m.\u001b[39;49m\u001b[43mcards\u001b[49m)\n",
      "\u001b[0;31mAttributeError\u001b[0m: 'Deck' object has no attribute 'cards'"
     ]
    }
   ],
   "source": [
    "print(d2.cards)"
   ]
  },
  {
   "cell_type": "code",
   "execution_count": 13,
   "id": "c8bac94c-96fe-484f-885a-92b72fc29111",
   "metadata": {},
   "outputs": [
    {
     "name": "stdout",
     "output_type": "stream",
     "text": [
      "[2 of ♣, 3 of ♣, 4 of ♣, 5 of ♣, 6 of ♣, 7 of ♣, 8 of ♣, 9 of ♣, 10 of ♣, J of ♣, Q of ♣, K of ♣, A of ♣]\n"
     ]
    }
   ],
   "source": [
    "d1 = Deck('♣')"
   ]
  },
  {
   "cell_type": "code",
   "execution_count": 7,
   "id": "be5184ad-0b43-4b94-b641-fe5fd6ad58c4",
   "metadata": {},
   "outputs": [
    {
     "name": "stdout",
     "output_type": "stream",
     "text": [
      "[3 of ♥, 8 of ♥, Q of ♥, 6 of ♥, 7 of ♥, 10 of ♥, A of ♥, 4 of ♥, J of ♥, 2 of ♥, K of ♥, 9 of ♥, 5 of ♥]\n"
     ]
    }
   ],
   "source": [
    "d1.shuffle_deck()"
   ]
  },
  {
   "cell_type": "code",
   "execution_count": 9,
   "id": "790d0c27-bd7a-41b2-ace2-8aa40588fa4f",
   "metadata": {},
   "outputs": [
    {
     "data": {
      "text/plain": [
       "'Cannot deal 7 cards. The deck only has 6 cards left!'"
      ]
     },
     "execution_count": 9,
     "metadata": {},
     "output_type": "execute_result"
    }
   ],
   "source": [
    "d1.deal_card(7)"
   ]
  },
  {
   "cell_type": "code",
   "execution_count": null,
   "id": "98704dbd-b14f-49a5-be46-07f12ba7953b",
   "metadata": {},
   "outputs": [],
   "source": []
  }
 ],
 "metadata": {
  "kernelspec": {
   "display_name": "Python 3 (ipykernel)",
   "language": "python",
   "name": "python3"
  },
  "language_info": {
   "codemirror_mode": {
    "name": "ipython",
    "version": 3
   },
   "file_extension": ".py",
   "mimetype": "text/x-python",
   "name": "python",
   "nbconvert_exporter": "python",
   "pygments_lexer": "ipython3",
   "version": "3.9.12"
  }
 },
 "nbformat": 4,
 "nbformat_minor": 5
}
