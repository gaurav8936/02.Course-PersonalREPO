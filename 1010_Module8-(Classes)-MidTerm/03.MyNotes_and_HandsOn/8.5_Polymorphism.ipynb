{
 "cells": [
  {
   "cell_type": "markdown",
   "id": "569d486f-7cb1-41bd-bef9-a4cc863e10df",
   "metadata": {},
   "source": [
    "# Polymorphism"
   ]
  },
  {
   "cell_type": "code",
   "execution_count": 5,
   "id": "d759014c-1ba2-442c-82c1-a86f6211413d",
   "metadata": {},
   "outputs": [],
   "source": [
    "class Process:\n",
    "    \n",
    "    \"\"\"\n",
    "    Representation of Stochastic Process\n",
    "    \"\"\"\n",
    "    \n",
    "    def __init__(self, start_value = 0):\n",
    "        self.value = start_value\n",
    "        \n",
    "    def time_step(self):\n",
    "        \n",
    "        # removed the exception -- was just for demo\n",
    "        pass\n",
    "    \n",
    "    # adding str\n",
    "    \n",
    "    def __str__(self):\n",
    "        return \"this is a process with current value : \" + str(self.value)\n",
    "    \n",
    "    # def __repr__(self):\n",
    "    #     return __str__(self)\n",
    "    \n",
    "    \n",
    "    def simulate(self, steps = 20):\n",
    "        for i in range(steps):\n",
    "#            print(self)\n",
    "            self.time_step()\n",
    "        "
   ]
  },
  {
   "cell_type": "code",
   "execution_count": 6,
   "id": "df4dd45f-f8fe-40da-b27f-a1e4dda6d24a",
   "metadata": {
    "tags": []
   },
   "outputs": [],
   "source": [
    "class BoundedLinearProcess(Process):\n",
    "    \"\"\"Stochastic process that develops linearly - increases by velocity in every\n",
    "    time period. Velocity is what we will add to the class\n",
    "    buonded between 0 and 1 \"\"\"\n",
    "    \n",
    "    def __init__(self, start_value = 0, velocity = 0):\n",
    "        \n",
    "        # the super function just returns the super class (Process)\n",
    "        # go to the initialized fuction of the parent class\n",
    "        \n",
    "        super().__init__(start_value)\n",
    "        self.velocity = velocity\n",
    "    \n",
    "    def time_step(self):\n",
    "        \n",
    "        self.value += self.velocity\n",
    "        \n",
    "        if self.value < 0:\n",
    "            self.value = -self.value\n",
    "            self.velocity = -self.velocity\n",
    "        \n",
    "        if self.value > 1:\n",
    "            self.value = 1- (self.value-1)\n",
    "            self.velocity  = -self.velocity\n",
    "        \n",
    "        super().time_step\n",
    "        # you can omit this -- as nothing happens in the parent class\n",
    "        \n",
    "        \n",
    "        #--------- modify this --------\n",
    "        # add tilted line graph\n",
    "        \n",
    "    def __str__(self):\n",
    "        return \" \" * int(self.value*20) + \"*\"\n",
    "    # def __repr__(self):\n",
    "    #     return __str__(self)"
   ]
  },
  {
   "cell_type": "code",
   "execution_count": 7,
   "id": "a83e07fa-68f1-4557-8fb3-d3aafa7930fb",
   "metadata": {},
   "outputs": [],
   "source": [
    "# override super\n",
    "\n",
    "import numpy as np\n",
    "\n",
    "class ARProcess(Process):\n",
    "    \n",
    "    def __init__(self, alpha= 0.5, sigma = 1, start_value = 0):\n",
    "        \n",
    "        super().__init__(start_value)\n",
    "        \n",
    "        self.alpha = alpha\n",
    "        self.sigma = sigma\n",
    "        \n",
    "    def time_step(self):\n",
    "        \n",
    "        self.value = self.alpha * self.value + np.random.normal(scale = self.sigma)\n",
    "        \n",
    "        super().time_step()\n",
    "    \n",
    "    def __str__(self):\n",
    "        \n",
    "        if self.value < 0:\n",
    "            s = \" \" * int( 5 * (self.value + 3)) + \"*\" + \" \" * int(-self.value * 5) + \"|\"\n",
    "            \n",
    "        elif self.value == 0:\n",
    "            s = \" \" * 15 + \"*\"\n",
    "        \n",
    "        else:\n",
    "            \n",
    "            s = \" \" * 15 + \"|\" + \" \"*int(5 * self.value) + \"*\"\n",
    "        \n",
    "        return s"
   ]
  },
  {
   "cell_type": "code",
   "execution_count": 8,
   "id": "5626b165-af0a-4fbd-8e62-6bb4afa3e85f",
   "metadata": {},
   "outputs": [],
   "source": [
    "class RandomWalk(ARProcess):\n",
    "    \n",
    "    def __init__(self, sigma = 0.5):\n",
    "        super().__init__(alpha = 1, sigma = sigma)"
   ]
  },
  {
   "cell_type": "markdown",
   "id": "f106e21a-d580-48fc-8314-c8414080ab0f",
   "metadata": {},
   "source": [
    "---"
   ]
  },
  {
   "cell_type": "markdown",
   "id": "ac94a8d1-afdd-40bf-a7af-85c8eb9183b8",
   "metadata": {},
   "source": [
    "# Start Here"
   ]
  },
  {
   "cell_type": "markdown",
   "id": "d2ae5518-1c47-41b4-be2b-7c380d7166a9",
   "metadata": {},
   "source": [
    "## Classes become more abstract"
   ]
  },
  {
   "cell_type": "markdown",
   "id": "f61d2691-2948-434c-8ea9-708c7acf4060",
   "metadata": {},
   "source": [
    "## it becomes just a way to organize data"
   ]
  },
  {
   "cell_type": "markdown",
   "id": "75110c12-ef0c-44ba-bc98-de2c7553f774",
   "metadata": {},
   "source": [
    "## Combine all"
   ]
  },
  {
   "cell_type": "code",
   "execution_count": 17,
   "id": "c861e9f5-4016-4995-ad06-9bd134de40c0",
   "metadata": {},
   "outputs": [],
   "source": [
    "import numpy as np\n",
    "\n",
    "class Process:\n",
    "    \n",
    "    def __init__(self, start_value = 0):\n",
    "        self.value = start_value\n",
    "        #---------modify ----------\n",
    "        self.history = []\n",
    "        \n",
    "        \n",
    "    def time_step(self):\n",
    "        #---------modify ----------\n",
    "        self.history.append(self.value)\n",
    "        # adding these two lines allows all sub-classes to keep track of history\n",
    "    \n",
    "    def __str__(self):\n",
    "        return \"this is a process with current value : \" + str(self.value)\n",
    "    \n",
    "    def simulate(self, steps = 20):\n",
    "        for i in range(steps):\n",
    "            self.time_step()\n",
    "        \n",
    "\n",
    "class BoundedLinearProcess(Process):\n",
    "    \n",
    "    def __init__(self, start_value = 0, velocity = 0):\n",
    "        super().__init__(start_value)\n",
    "        self.velocity = velocity\n",
    "    \n",
    "    def time_step(self):\n",
    "        self.value += self.velocity\n",
    "        if self.value < 0:\n",
    "            self.value = -self.value\n",
    "            self.velocity = -self.velocity\n",
    "        if self.value > 1:\n",
    "            self.value = 1- (self.value-1)\n",
    "            self.velocity  = -self.velocity\n",
    "        super().time_step()\n",
    "        \n",
    "    def __str__(self):\n",
    "        return \" \" * int(self.value*20) + \"*\"\n",
    "\n",
    "\n",
    "class ARProcess(Process):\n",
    "    \n",
    "    def __init__(self, alpha= 0.5, sigma = 1, start_value = 0):\n",
    "        super().__init__(start_value)\n",
    "        self.alpha = alpha\n",
    "        self.sigma = sigma\n",
    "        \n",
    "    def time_step(self):\n",
    "        self.value = self.alpha * self.value + np.random.normal(scale = self.sigma)\n",
    "        super().time_step()\n",
    "    \n",
    "    def __str__(self):\n",
    "        if self.value < 0:\n",
    "            s = \" \" * int( 5 * (self.value + 3)) + \"*\" + \" \" * int(-self.value * 5) + \"|\"\n",
    "        elif self.value == 0:\n",
    "            s = \" \" * 15 + \"*\"\n",
    "        else:\n",
    "            s = \" \" * 15 + \"|\" + \" \"*int(5 * self.value) + \"*\"\n",
    "        return s\n",
    "\n",
    "class RandomWalk(ARProcess):\n",
    "    \n",
    "    def __init__(self, sigma = 0.5):\n",
    "        super().__init__(alpha = 1, sigma = sigma)"
   ]
  },
  {
   "cell_type": "markdown",
   "id": "a74913d9-ae85-4795-8126-5bf31d332760",
   "metadata": {},
   "source": [
    "## Create an abstract base class for managing plotting charts"
   ]
  },
  {
   "cell_type": "code",
   "execution_count": 13,
   "id": "7f43417c-41eb-4a76-a6f3-98af8e0d7e08",
   "metadata": {},
   "outputs": [],
   "source": [
    "class ProcessPlotter:\n",
    "    \n",
    "    # consider this as an abtract base class\n",
    "    \n",
    "    def __init__(self, process = None):\n",
    "        self.process = process\n",
    "    \n",
    "    def plot(self):\n",
    "        pass\n",
    "        "
   ]
  },
  {
   "cell_type": "code",
   "execution_count": 20,
   "id": "55442571-da65-4046-b05b-14c9b05a8ed2",
   "metadata": {},
   "outputs": [],
   "source": [
    "class TextProcessPlotter(ProcessPlotter):\n",
    "    \n",
    "    # put in the * like before\n",
    "    def plot(self):\n",
    "        upper = max(self.process.history)\n",
    "        lower = min(self.process.history)\n",
    "        \n",
    "        if upper == lower:\n",
    "            upper += 1\n",
    "        for val in self.process.history:\n",
    "            print(\" \" * int(20 * (val - lower)/(upper-lower)) + \"*\")"
   ]
  },
  {
   "cell_type": "code",
   "execution_count": 21,
   "id": "6704f78a-d1ed-4312-996d-7f215a2bab9c",
   "metadata": {},
   "outputs": [],
   "source": [
    "p1 = ARProcess(alpha = .9)\n",
    "plotter1 = TextProcessPlotter(p1)"
   ]
  },
  {
   "cell_type": "code",
   "execution_count": 22,
   "id": "fb552ca0-d3e0-4494-a405-221415a87411",
   "metadata": {},
   "outputs": [
    {
     "name": "stdout",
     "output_type": "stream",
     "text": [
      "                    *\n",
      "       *\n",
      "          *\n",
      "*\n",
      "              *\n",
      "           *\n",
      "      *\n",
      "  *\n",
      "             *\n",
      "                 *\n"
     ]
    }
   ],
   "source": [
    "p1.simulate(10)\n",
    "plotter1.plot()"
   ]
  },
  {
   "attachments": {
    "e88e437c-90a5-4055-a1ce-d9f461c56733.png": {
     "image/png": "[encoded data removed]"
    }
   },
   "cell_type": "markdown",
   "id": "1fb18442-45cf-471a-95aa-436df6dd0422",
   "metadata": {},
   "source": [
    "![image.png](attachment:e88e437c-90a5-4055-a1ce-d9f461c56733.png)"
   ]
  },
  {
   "cell_type": "code",
   "execution_count": 23,
   "id": "c9e32464-f1ac-49bb-8b0f-4966afc6493d",
   "metadata": {},
   "outputs": [
    {
     "name": "stdout",
     "output_type": "stream",
     "text": [
      "*\n",
      "   *\n",
      "     *\n",
      "     *\n",
      "  *\n",
      " *\n",
      " *\n",
      "*\n",
      "   *\n",
      "  *\n",
      "*\n",
      "  *\n",
      "        *\n",
      "            *\n",
      "              *\n",
      "            *\n",
      "                    *\n",
      "                  *\n",
      "                *\n",
      "               *\n"
     ]
    }
   ],
   "source": [
    "p2 = RandomWalk()\n",
    "plotter2 = TextProcessPlotter(p2)\n",
    "p2.simulate()\n",
    "plotter2.plot()"
   ]
  },
  {
   "attachments": {
    "633a62ab-531a-41bd-84fa-c6d540517393.png": {
     "image/png": "[encoded data removed]"
    }
   },
   "cell_type": "markdown",
   "id": "366504ae-42c7-46e0-bf2b-c328e0b7a342",
   "metadata": {},
   "source": [
    "![image.png](attachment:633a62ab-531a-41bd-84fa-c6d540517393.png)"
   ]
  },
  {
   "cell_type": "markdown",
   "id": "269eb26c-73df-4258-baa8-cdced7e08b63",
   "metadata": {},
   "source": [
    "---"
   ]
  },
  {
   "cell_type": "markdown",
   "id": "e1b0bb38-3aa3-4943-bdf6-b046465af449",
   "metadata": {},
   "source": [
    "### Let us create a nicer plotter"
   ]
  },
  {
   "cell_type": "code",
   "execution_count": 24,
   "id": "3c93deda-10fe-4c54-9b77-05ed7c5ed2da",
   "metadata": {},
   "outputs": [],
   "source": [
    "import matplotlib\n",
    "%matplotlib inline\n",
    "# allows plot to show inline\n",
    "\n",
    "class GraphicProcessPlotter(ProcessPlotter):\n",
    "    \n",
    "    def plot(self):\n",
    "        matplotlib.pyplot.plot(self.process.history)\n",
    "        matplotlib.pyplot.title(\"Process Time Plot\")"
   ]
  },
  {
   "cell_type": "code",
   "execution_count": 25,
   "id": "e6f304f2-69b8-4539-ac4a-aeba955a8836",
   "metadata": {},
   "outputs": [
    {
     "data": {
      "image/png": "[encoded data removed]",
      "text/plain": [
       "<Figure size 432x288 with 1 Axes>"
      ]
     },
     "metadata": {
      "needs_background": "light"
     },
     "output_type": "display_data"
    }
   ],
   "source": [
    "plotter3 = GraphicProcessPlotter(p1)\n",
    "plotter3.plot()"
   ]
  },
  {
   "cell_type": "code",
   "execution_count": 26,
   "id": "9f616317-a166-4a44-b2d7-6557838f665a",
   "metadata": {},
   "outputs": [
    {
     "data": {
      "image/png": "[encoded data removed]",
      "text/plain": [
       "<Figure size 432x288 with 1 Axes>"
      ]
     },
     "metadata": {
      "needs_background": "light"
     },
     "output_type": "display_data"
    }
   ],
   "source": [
    "plotter4 = GraphicProcessPlotter(p2)\n",
    "plotter4.plot()"
   ]
  },
  {
   "cell_type": "code",
   "execution_count": null,
   "id": "6c429b74-cb0e-45bb-a124-8950d9b912ce",
   "metadata": {},
   "outputs": [],
   "source": []
  }
 ],
 "metadata": {
  "kernelspec": {
   "display_name": "Python 3 (ipykernel)",
   "language": "python",
   "name": "python3"
  },
  "language_info": {
   "codemirror_mode": {
    "name": "ipython",
    "version": 3
   },
   "file_extension": ".py",
   "mimetype": "text/x-python",
   "name": "python",
   "nbconvert_exporter": "python",
   "pygments_lexer": "ipython3",
   "version": "3.9.13"
  }
 },
 "nbformat": 4,
 "nbformat_minor": 5
}
