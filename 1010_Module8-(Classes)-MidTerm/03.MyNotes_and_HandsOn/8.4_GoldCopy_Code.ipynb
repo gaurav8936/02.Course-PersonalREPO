{
 "cells": [
  {
   "cell_type": "markdown",
   "id": "604c4dab-5713-40c5-86bf-2e257dc8b732",
   "metadata": {},
   "source": [
    "# Just a gold copy of code from 8.4"
   ]
  },
  {
   "cell_type": "code",
   "execution_count": 2,
   "id": "1fdddf4e-f95f-486a-976e-0f6d77662524",
   "metadata": {},
   "outputs": [],
   "source": [
    "import numpy as np\n",
    "\n",
    "class Process:\n",
    "    \n",
    "    def __init__(self, start_value = 0):\n",
    "        self.value = start_value\n",
    "        \n",
    "    def time_step(self):\n",
    "        pass\n",
    "    \n",
    "    def __str__(self):\n",
    "        return \"this is a process with current value : \" + str(self.value)\n",
    "    \n",
    "    def simulate(self, steps = 20):\n",
    "        for i in range(steps):\n",
    "            self.time_step()\n",
    "        \n",
    "\n",
    "class BoundedLinearProcess(Process):\n",
    "    \n",
    "    def __init__(self, start_value = 0, velocity = 0):\n",
    "        super().__init__(start_value)\n",
    "        self.velocity = velocity\n",
    "    \n",
    "    def time_step(self):\n",
    "        self.value += self.velocity\n",
    "        if self.value < 0:\n",
    "            self.value = -self.value\n",
    "            self.velocity = -self.velocity\n",
    "        if self.value > 1:\n",
    "            self.value = 1- (self.value-1)\n",
    "            self.velocity  = -self.velocity\n",
    "        super().time_step()\n",
    "        \n",
    "    def __str__(self):\n",
    "        return \" \" * int(self.value*20) + \"*\"\n",
    "\n",
    "\n",
    "class ARProcess(Process):\n",
    "    \n",
    "    def __init__(self, alpha= 0.5, sigma = 1, start_value = 0):\n",
    "        super().__init__(start_value)\n",
    "        self.alpha = alpha\n",
    "        self.sigma = sigma\n",
    "        \n",
    "    def time_step(self):\n",
    "        self.value = self.alpha * self.value + np.random.normal(scale = self.sigma)\n",
    "        super().time_step()\n",
    "    \n",
    "    def __str__(self):\n",
    "        if self.value < 0:\n",
    "            s = \" \" * int( 5 * (self.value + 3)) + \"*\" + \" \" * int(-self.value * 5) + \"|\"\n",
    "        elif self.value == 0:\n",
    "            s = \" \" * 15 + \"*\"\n",
    "        else:\n",
    "            s = \" \" * 15 + \"|\" + \" \"*int(5 * self.value) + \"*\"\n",
    "        return s\n",
    "\n",
    "class RandomWalk(ARProcess):\n",
    "    \n",
    "    def __init__(self, sigma = 0.5):\n",
    "        super().__init__(alpha = 1, sigma = sigma)"
   ]
  },
  {
   "cell_type": "code",
   "execution_count": null,
   "id": "d1034ffe-dfa7-4335-9a33-fb90657ebd74",
   "metadata": {},
   "outputs": [],
   "source": []
  }
 ],
 "metadata": {
  "kernelspec": {
   "display_name": "Python 3 (ipykernel)",
   "language": "python",
   "name": "python3"
  },
  "language_info": {
   "codemirror_mode": {
    "name": "ipython",
    "version": 3
   },
   "file_extension": ".py",
   "mimetype": "text/x-python",
   "name": "python",
   "nbconvert_exporter": "python",
   "pygments_lexer": "ipython3",
   "version": "3.9.12"
  }
 },
 "nbformat": 4,
 "nbformat_minor": 5
}
