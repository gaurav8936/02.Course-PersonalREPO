{
 "cells": [
  {
   "cell_type": "markdown",
   "id": "480e26eb-52f7-4d3f-b3c4-ba032803c8e5",
   "metadata": {},
   "source": [
    "# Class Odds and Ends"
   ]
  },
  {
   "cell_type": "markdown",
   "id": "1f638b9a-0b0f-4311-a5cd-1b78c0afccc8",
   "metadata": {},
   "source": [
    "## base"
   ]
  },
  {
   "cell_type": "code",
   "execution_count": 5,
   "id": "4b7814f6-d0c4-40ca-8653-e2572a156903",
   "metadata": {},
   "outputs": [
    {
     "name": "stdout",
     "output_type": "stream",
     "text": [
      "The Drones altitude is  100\n",
      "The Drones altitude is  300\n"
     ]
    }
   ],
   "source": [
    "class Drone:\n",
    "    \n",
    "    def __init__(self, altitude = 0):\n",
    "        self.altitude = altitude\n",
    "        self.ascend_count= 0\n",
    "    \n",
    "    def fly(self):\n",
    "        print(\"My drone is flying at\", self.altitude, \"feet\")\n",
    "    \n",
    "    def ascend(self, change):\n",
    "        self.altitude += change\n",
    "        self.ascend_count += 1\n",
    "    \n",
    "# set teh altitude by calling the class (once you create hte drone)\n",
    "# then update the altitude directly (by calling the attribute)\n",
    "\n",
    "d1 = Drone(100)\n",
    "print(\"The Drones altitude is \", d1.altitude)\n",
    "\n",
    "d1.altitude = 300\n",
    "print(\"The Drones altitude is \", d1.altitude)  "
   ]
  },
  {
   "cell_type": "markdown",
   "id": "852cfea1-5f02-4015-8e9c-d00583cce120",
   "metadata": {},
   "source": [
    "---"
   ]
  },
  {
   "cell_type": "code",
   "execution_count": 8,
   "id": "8125e535-4a54-4886-959a-30374f9ae933",
   "metadata": {},
   "outputs": [
    {
     "name": "stdout",
     "output_type": "stream",
     "text": [
      "The Drones altitude is  100\n",
      "The Drones altitude is  300\n"
     ]
    }
   ],
   "source": [
    "class Drone:\n",
    "    \n",
    "    def __init__(self, altitude = 0):\n",
    "        self.__altitude = altitude\n",
    "        self.ascend_count= 0\n",
    "    \n",
    "    def fly(self):\n",
    "        print(\"My drone is flying at\", self.__altitude, \"feet\")\n",
    "    \n",
    "    def ascend(self, change):\n",
    "        self.__altitude += change\n",
    "        self.ascend_count += 1\n",
    "    \n",
    "# Define getter and setter methods as earlier\n",
    "\n",
    "    def get_altitude(self):\n",
    "        return self.__altitude\n",
    "    \n",
    "    def set_altitude(self, new_altitude):\n",
    "        if new_altitude < 0:\n",
    "            raise Exception(\"You cannot have negative altitude\")\n",
    "        self.__altitude = new_altitude\n",
    "        \n",
    "# define property\n",
    "\n",
    "    altitude = property(get_altitude, set_altitude)\n",
    "    \n",
    "#-------------------------------------\n",
    "\n",
    "# THIS IS CALLED A CONSTRUCTOR\n",
    "d1 = Drone(100)\n",
    "print(\"The Drones altitude is \", d1.altitude)\n",
    "\n",
    "d1.altitude = 300\n",
    "print(\"The Drones altitude is \", d1.altitude)  \n",
    "\n"
   ]
  },
  {
   "cell_type": "code",
   "execution_count": 9,
   "id": "32f4a47b-1939-4f7f-9bb3-fd397a3a61cf",
   "metadata": {},
   "outputs": [],
   "source": [
    "# notice you are able to update the attribute (aka property) directly"
   ]
  },
  {
   "cell_type": "code",
   "execution_count": 10,
   "id": "7bafbb6c-3c64-49bf-b741-cd87b71ab947",
   "metadata": {},
   "outputs": [
    {
     "ename": "Exception",
     "evalue": "You cannot have negative altitude",
     "output_type": "error",
     "traceback": [
      "\u001b[0;31m---------------------------------------------------------------------------\u001b[0m",
      "\u001b[0;31mException\u001b[0m                                 Traceback (most recent call last)",
      "Input \u001b[0;32mIn [10]\u001b[0m, in \u001b[0;36m<cell line: 1>\u001b[0;34m()\u001b[0m\n\u001b[0;32m----> 1\u001b[0m d1\u001b[38;5;241m.\u001b[39maltitude \u001b[38;5;241m=\u001b[39m \u001b[38;5;241m-\u001b[39m\u001b[38;5;241m10\u001b[39m\n",
      "Input \u001b[0;32mIn [8]\u001b[0m, in \u001b[0;36mDrone.set_altitude\u001b[0;34m(self, new_altitude)\u001b[0m\n\u001b[1;32m     19\u001b[0m \u001b[38;5;28;01mdef\u001b[39;00m \u001b[38;5;21mset_altitude\u001b[39m(\u001b[38;5;28mself\u001b[39m, new_altitude):\n\u001b[1;32m     20\u001b[0m     \u001b[38;5;28;01mif\u001b[39;00m new_altitude \u001b[38;5;241m<\u001b[39m \u001b[38;5;241m0\u001b[39m:\n\u001b[0;32m---> 21\u001b[0m         \u001b[38;5;28;01mraise\u001b[39;00m \u001b[38;5;167;01mException\u001b[39;00m(\u001b[38;5;124m\"\u001b[39m\u001b[38;5;124mYou cannot have negative altitude\u001b[39m\u001b[38;5;124m\"\u001b[39m)\n\u001b[1;32m     22\u001b[0m     \u001b[38;5;28mself\u001b[39m\u001b[38;5;241m.\u001b[39m__altitude \u001b[38;5;241m=\u001b[39m new_altitude\n",
      "\u001b[0;31mException\u001b[0m: You cannot have negative altitude"
     ]
    }
   ],
   "source": [
    "d1.altitude = -10"
   ]
  },
  {
   "cell_type": "code",
   "execution_count": 11,
   "id": "35aeaa6b-c423-4be3-86cc-86daabe9bd7f",
   "metadata": {},
   "outputs": [],
   "source": [
    "# note that the same attribute now have a new property that is raising an exception"
   ]
  },
  {
   "cell_type": "markdown",
   "id": "1575877f-e48f-4c38-9d45-bf1f0f98b2fc",
   "metadata": {},
   "source": [
    "---"
   ]
  },
  {
   "cell_type": "markdown",
   "id": "c7e17d69-a93e-42f6-ba62-e3ffff3ec0e3",
   "metadata": {},
   "source": [
    "# using @ decorator"
   ]
  },
  {
   "cell_type": "code",
   "execution_count": 13,
   "id": "3e2b9c1f-19c5-4df7-8e11-89586425f199",
   "metadata": {},
   "outputs": [
    {
     "name": "stdout",
     "output_type": "stream",
     "text": [
      "The Drones altitude is  100\n",
      "The Drones altitude is  300\n"
     ]
    },
    {
     "ename": "Exception",
     "evalue": "You cannot have negative altitude",
     "output_type": "error",
     "traceback": [
      "\u001b[0;31m---------------------------------------------------------------------------\u001b[0m",
      "\u001b[0;31mException\u001b[0m                                 Traceback (most recent call last)",
      "Input \u001b[0;32mIn [13]\u001b[0m, in \u001b[0;36m<cell line: 40>\u001b[0;34m()\u001b[0m\n\u001b[1;32m     37\u001b[0m d1\u001b[38;5;241m.\u001b[39maltitude \u001b[38;5;241m=\u001b[39m \u001b[38;5;241m300\u001b[39m\n\u001b[1;32m     38\u001b[0m \u001b[38;5;28mprint\u001b[39m(\u001b[38;5;124m\"\u001b[39m\u001b[38;5;124mThe Drones altitude is \u001b[39m\u001b[38;5;124m\"\u001b[39m, d1\u001b[38;5;241m.\u001b[39maltitude)  \n\u001b[0;32m---> 40\u001b[0m d1\u001b[38;5;241m.\u001b[39maltitude \u001b[38;5;241m=\u001b[39m \u001b[38;5;241m-\u001b[39m\u001b[38;5;241m100\u001b[39m\n\u001b[1;32m     41\u001b[0m \u001b[38;5;28mprint\u001b[39m(\u001b[38;5;124m\"\u001b[39m\u001b[38;5;124mThe Drones altitude is \u001b[39m\u001b[38;5;124m\"\u001b[39m, d1\u001b[38;5;241m.\u001b[39maltitude)\n",
      "Input \u001b[0;32mIn [13]\u001b[0m, in \u001b[0;36mDrone.altitude\u001b[0;34m(self, new_altitude)\u001b[0m\n\u001b[1;32m     22\u001b[0m \u001b[38;5;129m@altitude\u001b[39m\u001b[38;5;241m.\u001b[39msetter\n\u001b[1;32m     23\u001b[0m \u001b[38;5;66;03m#def set_altitude(self, new_altitude):\u001b[39;00m\n\u001b[1;32m     24\u001b[0m  \u001b[38;5;66;03m#----- change---------\u001b[39;00m\n\u001b[1;32m     25\u001b[0m \u001b[38;5;28;01mdef\u001b[39;00m \u001b[38;5;21maltitude\u001b[39m(\u001b[38;5;28mself\u001b[39m, new_altitude):\n\u001b[1;32m     26\u001b[0m     \u001b[38;5;28;01mif\u001b[39;00m new_altitude \u001b[38;5;241m<\u001b[39m \u001b[38;5;241m0\u001b[39m:\n\u001b[0;32m---> 27\u001b[0m         \u001b[38;5;28;01mraise\u001b[39;00m \u001b[38;5;167;01mException\u001b[39;00m(\u001b[38;5;124m\"\u001b[39m\u001b[38;5;124mYou cannot have negative altitude\u001b[39m\u001b[38;5;124m\"\u001b[39m)\n\u001b[1;32m     28\u001b[0m     \u001b[38;5;28mself\u001b[39m\u001b[38;5;241m.\u001b[39m__altitude \u001b[38;5;241m=\u001b[39m new_altitude\n",
      "\u001b[0;31mException\u001b[0m: You cannot have negative altitude"
     ]
    }
   ],
   "source": [
    "class Drone:\n",
    "    \n",
    "    def __init__(self, altitude = 0):\n",
    "        self.__altitude = altitude\n",
    "        self.ascend_count= 0\n",
    "    \n",
    "    def fly(self):\n",
    "        print(\"My drone is flying at\", self.__altitude, \"feet\")\n",
    "    \n",
    "    def ascend(self, change):\n",
    "        self.__altitude += change\n",
    "        self.ascend_count += 1\n",
    "    \n",
    "#-------------------------------------\n",
    "\n",
    "    @property\n",
    "    #def get_altitude(self):\n",
    "    #----- change-----------\n",
    "    def altitude(self):    \n",
    "        return self.__altitude\n",
    "    \n",
    "    @altitude.setter\n",
    "    #def set_altitude(self, new_altitude):\n",
    "     #----- change---------\n",
    "    def altitude(self, new_altitude):\n",
    "        if new_altitude < 0:\n",
    "            raise Exception(\"You cannot have negative altitude\")\n",
    "        self.__altitude = new_altitude\n",
    "        \n",
    "\n",
    "#-------------------------------------\n",
    "\n",
    "# THIS IS CALLED A CONSTRUCTOR\n",
    "d1 = Drone(100)\n",
    "print(\"The Drones altitude is \", d1.altitude)\n",
    "\n",
    "d1.altitude = 300\n",
    "print(\"The Drones altitude is \", d1.altitude)  \n",
    "\n",
    "d1.altitude = -100\n",
    "print(\"The Drones altitude is \", d1.altitude)  \n",
    "\n"
   ]
  },
  {
   "cell_type": "markdown",
   "id": "2bf4e526-5d79-4ea3-91d7-3ba7843b33ac",
   "metadata": {},
   "source": [
    "---"
   ]
  },
  {
   "cell_type": "markdown",
   "id": "6ba83137-8398-46b4-b97b-a92afb1c7ef4",
   "metadata": {},
   "source": [
    "---"
   ]
  },
  {
   "cell_type": "markdown",
   "id": "f9564319-401a-4bf0-a6e8-e933b6946ff9",
   "metadata": {},
   "source": [
    "# Class Methods and Static Methods"
   ]
  },
  {
   "cell_type": "markdown",
   "id": "8d75a774-9b1a-4887-befe-e7d617350238",
   "metadata": {},
   "source": [
    "### all methods written so far have been instance methods"
   ]
  },
  {
   "cell_type": "markdown",
   "id": "5fcf7e5b-8c45-402e-9a60-3d1cc4dec9df",
   "metadata": {},
   "source": [
    "## Method types\n",
    "### 1. instance\n",
    "### 2. class (created by decorater)\n",
    "### 3. static (created by decorater)"
   ]
  },
  {
   "cell_type": "code",
   "execution_count": 15,
   "id": "f48d9f28-c2cd-4f16-9f4a-e39aae3a9206",
   "metadata": {},
   "outputs": [
    {
     "name": "stdout",
     "output_type": "stream",
     "text": [
      "<class '__main__.Drone'>\n",
      "<class '__main__.Drone'>\n"
     ]
    }
   ],
   "source": [
    "class Drone:\n",
    "    \n",
    "    def __init__(self, altitude = 0):\n",
    "        self.altitude = altitude\n",
    "        self.ascend_count= 0\n",
    "    \n",
    "    def fly(self):\n",
    "        print(\"My drone is flying at\", self.__altitude, \"feet\")\n",
    "    \n",
    "    def ascend(self, change):\n",
    "        self.altitude += change\n",
    "        self.ascend_count += 1\n",
    "    \n",
    "#-----------class method--------------------------\n",
    "\n",
    "    @classmethod\n",
    "    def print_class(cls):\n",
    "        print(cls)\n",
    "\n",
    "\n",
    "        \n",
    "\n",
    "#-------------------------------------\n",
    "\n",
    "# THIS IS CALLED A CONSTRUCTOR\n",
    "d1 = Drone(100)\n",
    "d1.print_class()\n",
    "\n",
    "Drone.print_class()\n",
    "\n",
    "# print(\"The Drones altitude is \", d1.altitude)\n",
    "\n",
    "# d1.altitude = 300\n",
    "# print(\"The Drones altitude is \", d1.altitude)  \n",
    "\n",
    "# d1.altitude = -100\n",
    "# print(\"The Drones altitude is \", d1.altitude)  \n",
    "\n"
   ]
  },
  {
   "cell_type": "code",
   "execution_count": 16,
   "id": "3cfebd31-b2c5-4d44-8f62-68157d39c396",
   "metadata": {},
   "outputs": [],
   "source": [
    "# the CLS class is bound to the class"
   ]
  },
  {
   "cell_type": "markdown",
   "id": "2f4bb92a-e30f-4845-a2cf-badbfcd8f641",
   "metadata": {},
   "source": [
    "## e.g get the total number of drones being created"
   ]
  },
  {
   "cell_type": "code",
   "execution_count": 19,
   "id": "94ca79c3-0ce7-40c3-ad20-614f54d491a5",
   "metadata": {},
   "outputs": [
    {
     "name": "stdout",
     "output_type": "stream",
     "text": [
      "1\n",
      "2\n"
     ]
    }
   ],
   "source": [
    "class Drone:\n",
    "    \n",
    "    #------- add this ------------\n",
    "    __num_drones = 0\n",
    "    \n",
    "    def __init__(self, altitude = 0):\n",
    "        self.altitude = altitude\n",
    "        self.ascend_count= 0\n",
    "        Drone.__num_drones += 1\n",
    "    \n",
    "    def fly(self):\n",
    "        print(\"My drone is flying at\", self.__altitude, \"feet\")\n",
    "    \n",
    "    def ascend(self, change):\n",
    "        self.altitude += change\n",
    "        self.ascend_count += 1\n",
    "    \n",
    "#-----------class method--------------------------\n",
    "\n",
    "    @classmethod\n",
    "    def get_num_drones(cls):\n",
    "        return cls.__num_drones\n",
    "\n",
    "    \n",
    "d1 = Drone(100)\n",
    "print(d1.get_num_drones())\n",
    "\n",
    "d2 = Drone(200)\n",
    "print(d2.get_num_drones())"
   ]
  },
  {
   "cell_type": "markdown",
   "id": "48a14d16-5cdc-454d-949b-0a20d9de744b",
   "metadata": {},
   "source": [
    "### these are counts at the class level even though they are run as d1.get.. and d2.get.."
   ]
  },
  {
   "cell_type": "markdown",
   "id": "b48ed22b-84b7-4a7c-bc67-f44a604863fe",
   "metadata": {},
   "source": [
    "---"
   ]
  },
  {
   "cell_type": "markdown",
   "id": "9d881b71-ff87-4f15-9249-758a69064eef",
   "metadata": {},
   "source": [
    "___"
   ]
  },
  {
   "cell_type": "markdown",
   "id": "81d71baf-da09-4417-a06f-a1336a959b49",
   "metadata": {},
   "source": [
    "# Static Methods"
   ]
  },
  {
   "cell_type": "markdown",
   "id": "f4b6c921-7b72-4b25-9786-b55d4fc32e58",
   "metadata": {},
   "source": [
    " does not need any reference to an instance\n",
    " say copnverion from feet to inches"
   ]
  },
  {
   "cell_type": "code",
   "execution_count": 22,
   "id": "aea7d19c-5d58-4cf8-8891-79a86b234334",
   "metadata": {},
   "outputs": [
    {
     "name": "stdout",
     "output_type": "stream",
     "text": [
      "656.168\n"
     ]
    }
   ],
   "source": [
    "class Drone:\n",
    "    \n",
    "    #------- add this ------------\n",
    "    __num_drones = 0\n",
    "    \n",
    "    def __init__(self, altitude = 0):\n",
    "        self.altitude = altitude\n",
    "        self.ascend_count= 0\n",
    "        Drone.__num_drones += 1\n",
    "    \n",
    "    def fly(self):\n",
    "        print(\"My drone is flying at\", self.__altitude, \"feet\")\n",
    "    \n",
    "    def ascend(self, change):\n",
    "        self.altitude += change\n",
    "        self.ascend_count += 1\n",
    "    \n",
    "#-----------class method--------------------------\n",
    "\n",
    "    @classmethod\n",
    "    def get_num_drones(cls):\n",
    "        return cls.__num_drones\n",
    "    \n",
    "    @staticmethod\n",
    "    def feet_from_meters(meters):\n",
    "        return meters*3.28084\n",
    "\n",
    "    \n",
    "d1 = Drone(100)\n",
    "d1.altitude = Drone.feet_from_meters(200)\n",
    "print(d1.altitude)\n"
   ]
  },
  {
   "cell_type": "code",
   "execution_count": null,
   "id": "5bbf6a37-86c8-4c1f-ab62-5d717dd7071b",
   "metadata": {},
   "outputs": [],
   "source": []
  }
 ],
 "metadata": {
  "kernelspec": {
   "display_name": "Python 3 (ipykernel)",
   "language": "python",
   "name": "python3"
  },
  "language_info": {
   "codemirror_mode": {
    "name": "ipython",
    "version": 3
   },
   "file_extension": ".py",
   "mimetype": "text/x-python",
   "name": "python",
   "nbconvert_exporter": "python",
   "pygments_lexer": "ipython3",
   "version": "3.9.12"
  }
 },
 "nbformat": 4,
 "nbformat_minor": 5
}
