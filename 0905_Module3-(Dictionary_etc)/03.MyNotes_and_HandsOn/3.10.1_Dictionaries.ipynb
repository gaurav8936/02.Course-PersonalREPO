{
 "cells": [
  {
   "cell_type": "markdown",
   "id": "af683842-88c2-4ba5-b01e-7d2b53d89325",
   "metadata": {},
   "source": [
    "# Dictionaries"
   ]
  },
  {
   "cell_type": "markdown",
   "id": "9956ecf6-0b98-4f0c-bd8e-e04898b6d6d5",
   "metadata": {},
   "source": [
    "### An implementtion of a MAP -- key value pairs"
   ]
  },
  {
   "cell_type": "code",
   "execution_count": 1,
   "id": "c53e8abb-56bf-4e60-8498-7448709b975a",
   "metadata": {},
   "outputs": [],
   "source": [
    "a = {'do': 'a deer', 're': 'a drop of golden sun', 'me': 'a name'}"
   ]
  },
  {
   "cell_type": "code",
   "execution_count": 2,
   "id": "b7d9b162-1122-416a-bf50-68c045139f7e",
   "metadata": {},
   "outputs": [
    {
     "name": "stdout",
     "output_type": "stream",
     "text": [
      "{'do': 'a deer', 're': 'a drop of golden sun', 'me': 'a name'}\n"
     ]
    }
   ],
   "source": [
    "print(a)"
   ]
  },
  {
   "cell_type": "markdown",
   "id": "5ab50520-0076-4fa9-bcee-3e991fd81694",
   "metadata": {},
   "source": [
    "#### Dictionaries have not order"
   ]
  },
  {
   "cell_type": "code",
   "execution_count": 8,
   "id": "e848a832-b26c-4ee2-a61e-e6109e02eddc",
   "metadata": {},
   "outputs": [],
   "source": [
    "b = {'re': 'a drop of golden sun', 'me': 'a name', 'do': 'a deer'}"
   ]
  },
  {
   "cell_type": "code",
   "execution_count": 9,
   "id": "d6795892-07fb-4230-8c52-9cde35e4b063",
   "metadata": {},
   "outputs": [
    {
     "data": {
      "text/plain": [
       "True"
      ]
     },
     "execution_count": 9,
     "metadata": {},
     "output_type": "execute_result"
    }
   ],
   "source": [
    "a == b"
   ]
  },
  {
   "cell_type": "code",
   "execution_count": 10,
   "id": "88dd0f1b-127f-47f4-8f63-d5c4618732e3",
   "metadata": {},
   "outputs": [],
   "source": [
    "# note that the order does not matter"
   ]
  },
  {
   "cell_type": "code",
   "execution_count": 11,
   "id": "7e0da9b3-fa48-49f6-805d-c66d93080e56",
   "metadata": {},
   "outputs": [
    {
     "data": {
      "text/plain": [
       "'a name'"
      ]
     },
     "execution_count": 11,
     "metadata": {},
     "output_type": "execute_result"
    }
   ],
   "source": [
    "a['me']"
   ]
  },
  {
   "cell_type": "markdown",
   "id": "2f63c1c9-b2b6-4af5-ad46-0385639f038c",
   "metadata": {},
   "source": [
    "---"
   ]
  },
  {
   "cell_type": "markdown",
   "id": "0fcc6980-e36f-4d50-b3c1-422158701d09",
   "metadata": {},
   "source": [
    "### using the dict keyword"
   ]
  },
  {
   "cell_type": "code",
   "execution_count": 86,
   "id": "a4e36996-02ef-4a79-8665-70380fa54e90",
   "metadata": {},
   "outputs": [],
   "source": [
    "c = dict(do = 'a deer', re = 'a drop of golden sun', me = 'a name')"
   ]
  },
  {
   "cell_type": "code",
   "execution_count": 87,
   "id": "6b9865f6-e587-4dc5-9a38-bc8e8653c9df",
   "metadata": {},
   "outputs": [
    {
     "data": {
      "text/plain": [
       "{'do': 'a deer', 're': 'a drop of golden sun', 'me': 'a name'}"
      ]
     },
     "execution_count": 87,
     "metadata": {},
     "output_type": "execute_result"
    }
   ],
   "source": [
    "c"
   ]
  },
  {
   "cell_type": "markdown",
   "id": "44ce2af5-3a3c-46d2-b08c-784b06c3f9b4",
   "metadata": {},
   "source": [
    "---"
   ]
  },
  {
   "cell_type": "markdown",
   "id": "9b58833f-34c1-4189-9be3-76e1ec624262",
   "metadata": {},
   "source": [
    "### from a list of tuples"
   ]
  },
  {
   "cell_type": "code",
   "execution_count": 18,
   "id": "4400a354-9e15-426f-97a0-9ed7a11f0d51",
   "metadata": {},
   "outputs": [],
   "source": [
    "d = dict([('do','a deer'), ('re', 'a drop of golden sun'), ('me', 'a name')])"
   ]
  },
  {
   "cell_type": "code",
   "execution_count": 19,
   "id": "ebdb7c99-2ace-4f19-abb0-754a8eb3b99e",
   "metadata": {},
   "outputs": [
    {
     "data": {
      "text/plain": [
       "{'do': 'a deer', 're': 'a drop of golden sun', 'me': 'a name'}"
      ]
     },
     "execution_count": 19,
     "metadata": {},
     "output_type": "execute_result"
    }
   ],
   "source": [
    "d"
   ]
  },
  {
   "cell_type": "code",
   "execution_count": 20,
   "id": "52d62443-c085-40ad-a221-670e55884463",
   "metadata": {},
   "outputs": [],
   "source": [
    "# first item is the key, second item is the value"
   ]
  },
  {
   "cell_type": "code",
   "execution_count": 21,
   "id": "5870a222-2cf3-43f3-9072-23179bf34b8c",
   "metadata": {},
   "outputs": [
    {
     "data": {
      "text/plain": [
       "True"
      ]
     },
     "execution_count": 21,
     "metadata": {},
     "output_type": "execute_result"
    }
   ],
   "source": [
    "a == b == c ==d"
   ]
  },
  {
   "cell_type": "markdown",
   "id": "6d92c90d-c2e6-46a0-9963-13cc6845e460",
   "metadata": {},
   "source": [
    "---"
   ]
  },
  {
   "cell_type": "markdown",
   "id": "2af8af4d-824e-4d7a-9d54-6c6bab9237b0",
   "metadata": {},
   "source": [
    "### A dictionary for rolodex"
   ]
  },
  {
   "cell_type": "code",
   "execution_count": 23,
   "id": "edd991e3-cad6-4ef3-be69-738d3d230266",
   "metadata": {},
   "outputs": [],
   "source": [
    "rolodex = {}"
   ]
  },
  {
   "cell_type": "code",
   "execution_count": 24,
   "id": "0bd63ae4-fe81-4b31-babc-bac1bb290836",
   "metadata": {},
   "outputs": [],
   "source": [
    "rolodex[1231232] = 'Mary'"
   ]
  },
  {
   "cell_type": "code",
   "execution_count": 25,
   "id": "46baac34-79b4-4fd5-a7fd-e41460661264",
   "metadata": {},
   "outputs": [],
   "source": [
    "rolodex[234234] = 'John'"
   ]
  },
  {
   "cell_type": "code",
   "execution_count": 27,
   "id": "607eb93f-efc2-427a-97ff-efc6b326fc29",
   "metadata": {},
   "outputs": [
    {
     "data": {
      "text/plain": [
       "{1231232: 'Mary', 234234: 'John'}"
      ]
     },
     "execution_count": 27,
     "metadata": {},
     "output_type": "execute_result"
    }
   ],
   "source": [
    "rolodex"
   ]
  },
  {
   "cell_type": "code",
   "execution_count": 28,
   "id": "af889c6c-6eaf-4fa3-bfd3-55c034e9fb4b",
   "metadata": {},
   "outputs": [
    {
     "name": "stdout",
     "output_type": "stream",
     "text": [
      "Mary\n"
     ]
    }
   ],
   "source": [
    "print(rolodex[1231232])"
   ]
  },
  {
   "cell_type": "markdown",
   "id": "c89d39ee-c4fb-4dd3-95d6-7d59f94e5944",
   "metadata": {},
   "source": [
    "---"
   ]
  },
  {
   "cell_type": "code",
   "execution_count": 29,
   "id": "dcbfa443-3de4-4eea-ae40-f3445e86bd05",
   "metadata": {},
   "outputs": [
    {
     "ename": "KeyError",
     "evalue": "343",
     "output_type": "error",
     "traceback": [
      "\u001b[0;31m---------------------------------------------------------------------------\u001b[0m",
      "\u001b[0;31mKeyError\u001b[0m                                  Traceback (most recent call last)",
      "Input \u001b[0;32mIn [29]\u001b[0m, in \u001b[0;36m<cell line: 1>\u001b[0;34m()\u001b[0m\n\u001b[0;32m----> 1\u001b[0m \u001b[38;5;28mprint\u001b[39m(\u001b[43mrolodex\u001b[49m\u001b[43m[\u001b[49m\u001b[38;5;241;43m343\u001b[39;49m\u001b[43m]\u001b[49m)\n",
      "\u001b[0;31mKeyError\u001b[0m: 343"
     ]
    }
   ],
   "source": [
    "print(rolodex[343])"
   ]
  },
  {
   "cell_type": "code",
   "execution_count": 30,
   "id": "46bb12ac-d98a-443b-b31f-eb70fc4b6969",
   "metadata": {},
   "outputs": [],
   "source": [
    "# this is a key error (accessing a value in the dictionary that does not exist)"
   ]
  },
  {
   "cell_type": "code",
   "execution_count": 32,
   "id": "88a8f08e-24c8-4a81-ba8e-6bdb82bad536",
   "metadata": {},
   "outputs": [
    {
     "data": {
      "text/plain": [
       "True"
      ]
     },
     "execution_count": 32,
     "metadata": {},
     "output_type": "execute_result"
    }
   ],
   "source": [
    "1231232 in rolodex"
   ]
  },
  {
   "cell_type": "code",
   "execution_count": 35,
   "id": "127e21eb-9f91-4709-9c1f-e27211401608",
   "metadata": {},
   "outputs": [
    {
     "name": "stdout",
     "output_type": "stream",
     "text": [
      "Mary\n"
     ]
    }
   ],
   "source": [
    "if 1231232 in rolodex:\n",
    "    print(rolodex[1231232])\n",
    "else:\n",
    "    print(\"Unknown Number\")"
   ]
  },
  {
   "cell_type": "markdown",
   "id": "61ab51e0-da90-4fe4-8996-831508f10a55",
   "metadata": {},
   "source": [
    "---"
   ]
  },
  {
   "cell_type": "code",
   "execution_count": 36,
   "id": "b4fcc57c-1258-46b1-95c4-d26262bbe4ab",
   "metadata": {},
   "outputs": [],
   "source": [
    "del rolodex[1231232]"
   ]
  },
  {
   "cell_type": "code",
   "execution_count": 37,
   "id": "26724f25-20b7-455f-a6f5-0a732818b081",
   "metadata": {},
   "outputs": [
    {
     "data": {
      "text/plain": [
       "{234234: 'John'}"
      ]
     },
     "execution_count": 37,
     "metadata": {},
     "output_type": "execute_result"
    }
   ],
   "source": [
    "rolodex"
   ]
  },
  {
   "cell_type": "markdown",
   "id": "472c53a2-3786-491f-a102-49b0c746b610",
   "metadata": {},
   "source": [
    "---"
   ]
  },
  {
   "cell_type": "markdown",
   "id": "4c325e17-2109-4fdb-a9f3-0162029d18bf",
   "metadata": {},
   "source": [
    "#### Pop method"
   ]
  },
  {
   "cell_type": "code",
   "execution_count": 38,
   "id": "729ab2bf-45f6-4dbf-be76-15fb4e110327",
   "metadata": {},
   "outputs": [
    {
     "data": {
      "text/plain": [
       "'John'"
      ]
     },
     "execution_count": 38,
     "metadata": {},
     "output_type": "execute_result"
    }
   ],
   "source": [
    "rolodex.pop(234234)"
   ]
  },
  {
   "cell_type": "code",
   "execution_count": 39,
   "id": "9e8e70ac-f35a-4464-aebc-13f308b6ef43",
   "metadata": {},
   "outputs": [
    {
     "data": {
      "text/plain": [
       "{}"
      ]
     },
     "execution_count": 39,
     "metadata": {},
     "output_type": "execute_result"
    }
   ],
   "source": [
    "rolodex"
   ]
  },
  {
   "cell_type": "code",
   "execution_count": 41,
   "id": "d5a5b2ef-f477-4528-a823-0f0fbb790aee",
   "metadata": {},
   "outputs": [
    {
     "ename": "KeyError",
     "evalue": "234234",
     "output_type": "error",
     "traceback": [
      "\u001b[0;31m---------------------------------------------------------------------------\u001b[0m",
      "\u001b[0;31mKeyError\u001b[0m                                  Traceback (most recent call last)",
      "Input \u001b[0;32mIn [41]\u001b[0m, in \u001b[0;36m<cell line: 1>\u001b[0;34m()\u001b[0m\n\u001b[0;32m----> 1\u001b[0m \u001b[43mrolodex\u001b[49m\u001b[38;5;241;43m.\u001b[39;49m\u001b[43mpop\u001b[49m\u001b[43m(\u001b[49m\u001b[38;5;241;43m234234\u001b[39;49m\u001b[43m)\u001b[49m\n",
      "\u001b[0;31mKeyError\u001b[0m: 234234"
     ]
    }
   ],
   "source": [
    "rolodex.pop(234234)"
   ]
  },
  {
   "cell_type": "code",
   "execution_count": 40,
   "id": "9b5b8acb-a4c5-4bea-bb9d-8903e88b770a",
   "metadata": {},
   "outputs": [],
   "source": [
    "# pop with default value"
   ]
  },
  {
   "cell_type": "code",
   "execution_count": 43,
   "id": "bf3258ba-bad4-4adc-b50b-701b3ae5159b",
   "metadata": {},
   "outputs": [
    {
     "data": {
      "text/plain": [
       "'Unknown Number - Default Value'"
      ]
     },
     "execution_count": 43,
     "metadata": {},
     "output_type": "execute_result"
    }
   ],
   "source": [
    "rolodex.pop(234234, \"Unknown Number - Default Value\")"
   ]
  },
  {
   "cell_type": "markdown",
   "id": "a83982b9-8b98-4a1c-b08b-d3c580b68af8",
   "metadata": {},
   "source": [
    "---"
   ]
  },
  {
   "cell_type": "code",
   "execution_count": 44,
   "id": "0887fe15-1c4f-4f38-8586-9910bc396567",
   "metadata": {},
   "outputs": [
    {
     "data": {
      "text/plain": [
       "0"
      ]
     },
     "execution_count": 44,
     "metadata": {},
     "output_type": "execute_result"
    }
   ],
   "source": [
    "len(rolodex)"
   ]
  },
  {
   "cell_type": "markdown",
   "id": "1f7de968-f382-4e45-800a-3be02dfb527b",
   "metadata": {},
   "source": [
    "---"
   ]
  },
  {
   "cell_type": "markdown",
   "id": "2b00ef58-5c74-4525-8bc0-3e7fd75d9a0e",
   "metadata": {},
   "source": [
    "### Values in a dictionary can be of any type"
   ]
  },
  {
   "cell_type": "markdown",
   "id": "e8f70459-bceb-4afe-8725-c4307ebdeed9",
   "metadata": {},
   "source": [
    "can be lists, tuples, other dictionaries etc"
   ]
  },
  {
   "cell_type": "markdown",
   "id": "db7a5198-ab5b-47e6-a3bf-333d1593cc6e",
   "metadata": {},
   "source": [
    "#### keys have to be immutable"
   ]
  },
  {
   "cell_type": "markdown",
   "id": "575b28e5-78d1-42c8-918a-e0123317d97a",
   "metadata": {},
   "source": [
    "<font color = red>You can have tuples as dictionary keys , not list"
   ]
  },
  {
   "cell_type": "markdown",
   "id": "5c332943-583b-45fc-9c54-3eaa59ca0f66",
   "metadata": {},
   "source": [
    "<font size = 5, color = red>Dictionary uses underlying data structure called a HASH TABLE"
   ]
  },
  {
   "cell_type": "code",
   "execution_count": 46,
   "id": "1c7f0e0e-c280-40c2-a10a-d4b385841541",
   "metadata": {},
   "outputs": [],
   "source": [
    "# finding a value in a dictionary will take the same amount of time"
   ]
  },
  {
   "cell_type": "code",
   "execution_count": 47,
   "id": "ee15af17-b12a-452f-89ed-a7a2b9b8ec63",
   "metadata": {},
   "outputs": [],
   "source": [
    "# Hash table uses a mathematical functional (called a hash)"
   ]
  },
  {
   "cell_type": "markdown",
   "id": "dbf860b1-e81e-4055-938a-bbdf1bbf3776",
   "metadata": {},
   "source": [
    "---"
   ]
  },
  {
   "cell_type": "markdown",
   "id": "31b2cee8-22cb-4633-a7df-0980830ba4bc",
   "metadata": {},
   "source": [
    "## Translation Dictionary"
   ]
  },
  {
   "cell_type": "code",
   "execution_count": 48,
   "id": "a320bc66-aeba-4403-8983-570ba504f215",
   "metadata": {},
   "outputs": [],
   "source": [
    "# we can use strings as keys"
   ]
  },
  {
   "cell_type": "code",
   "execution_count": 49,
   "id": "9ca31a21-ab47-45dd-8a3b-3d84bbc8fe78",
   "metadata": {},
   "outputs": [],
   "source": [
    "eng = {'Hi' : \"Hai\", \"Bye\": \"Bai\"}"
   ]
  },
  {
   "cell_type": "code",
   "execution_count": 50,
   "id": "60dac960-cb69-462b-b0f7-a8023983bf8d",
   "metadata": {},
   "outputs": [
    {
     "data": {
      "text/plain": [
       "{'Hi': 'Hai', 'Bye': 'Bai'}"
      ]
     },
     "execution_count": 50,
     "metadata": {},
     "output_type": "execute_result"
    }
   ],
   "source": [
    "eng"
   ]
  },
  {
   "cell_type": "code",
   "execution_count": 51,
   "id": "fc15559c-c3dc-4996-a2a0-b3c590e03962",
   "metadata": {},
   "outputs": [
    {
     "data": {
      "text/plain": [
       "'Hai'"
      ]
     },
     "execution_count": 51,
     "metadata": {},
     "output_type": "execute_result"
    }
   ],
   "source": [
    "eng['Hi']"
   ]
  },
  {
   "cell_type": "markdown",
   "id": "313d8f52-f9ed-43b8-9716-2b05b7e02d96",
   "metadata": {},
   "source": [
    "---"
   ]
  },
  {
   "cell_type": "markdown",
   "id": "073f5a24-ce89-4d70-b565-75db7098e642",
   "metadata": {},
   "source": [
    "## nesting dictionaries"
   ]
  },
  {
   "cell_type": "code",
   "execution_count": 52,
   "id": "2ea31d06-3a40-4d62-8f01-f10300ccb7b4",
   "metadata": {},
   "outputs": [
    {
     "data": {
      "text/plain": [
       "'Bai'"
      ]
     },
     "execution_count": 52,
     "metadata": {},
     "output_type": "execute_result"
    }
   ],
   "source": [
    "eng['Bye']"
   ]
  },
  {
   "cell_type": "code",
   "execution_count": 53,
   "id": "f6b43ecd-276a-406e-9ad8-89d2317838b5",
   "metadata": {},
   "outputs": [],
   "source": [
    "eng['Bye'] = {'Formal': \"Buhbai\", \"Informal\": \"Baibai\"}"
   ]
  },
  {
   "cell_type": "code",
   "execution_count": 54,
   "id": "eb6f8502-49d3-4bab-9552-bf503b600583",
   "metadata": {},
   "outputs": [
    {
     "data": {
      "text/plain": [
       "{'Hi': 'Hai', 'Bye': {'Formal': 'Buhbai', 'Informal': 'Baibai'}}"
      ]
     },
     "execution_count": 54,
     "metadata": {},
     "output_type": "execute_result"
    }
   ],
   "source": [
    "eng"
   ]
  },
  {
   "cell_type": "markdown",
   "id": "31d0eba0-1ebe-46d0-9286-bcf0049dae21",
   "metadata": {},
   "source": [
    "#### Nested dictionaries are commong -- data in JSON formats"
   ]
  },
  {
   "cell_type": "code",
   "execution_count": 55,
   "id": "cc820228-6e51-4483-85d0-daa72bade881",
   "metadata": {},
   "outputs": [
    {
     "data": {
      "text/plain": [
       "True"
      ]
     },
     "execution_count": 55,
     "metadata": {},
     "output_type": "execute_result"
    }
   ],
   "source": [
    "\"Hi\" in eng"
   ]
  },
  {
   "cell_type": "code",
   "execution_count": 56,
   "id": "facf708a-60ab-4ccb-a929-0901dffe7cf9",
   "metadata": {},
   "outputs": [
    {
     "data": {
      "text/plain": [
       "False"
      ]
     },
     "execution_count": 56,
     "metadata": {},
     "output_type": "execute_result"
    }
   ],
   "source": [
    "\"Thank you\" in eng"
   ]
  },
  {
   "cell_type": "code",
   "execution_count": 57,
   "id": "c7b08aa2-d8b0-42bc-98f0-d14d67657f98",
   "metadata": {},
   "outputs": [
    {
     "data": {
      "text/plain": [
       "True"
      ]
     },
     "execution_count": 57,
     "metadata": {},
     "output_type": "execute_result"
    }
   ],
   "source": [
    "\"Thank you \" not in eng"
   ]
  },
  {
   "cell_type": "code",
   "execution_count": 58,
   "id": "4054d10d-994a-4c2d-8859-6b9982e060d3",
   "metadata": {},
   "outputs": [],
   "source": [
    "eng2 = eng.copy()"
   ]
  },
  {
   "cell_type": "code",
   "execution_count": 59,
   "id": "6c98fe4a-e71b-401f-9959-05b1f2768c1d",
   "metadata": {},
   "outputs": [
    {
     "data": {
      "text/plain": [
       "{'Hi': 'Hai', 'Bye': {'Formal': 'Buhbai', 'Informal': 'Baibai'}}"
      ]
     },
     "execution_count": 59,
     "metadata": {},
     "output_type": "execute_result"
    }
   ],
   "source": [
    "eng2"
   ]
  },
  {
   "cell_type": "markdown",
   "id": "f788ebf7-68fb-4b02-ba9f-4c639466eb02",
   "metadata": {},
   "source": [
    "### like a list, this is a SHALLOW COPY"
   ]
  },
  {
   "cell_type": "code",
   "execution_count": 60,
   "id": "387032fb-6f41-4338-b1c9-23461459059a",
   "metadata": {},
   "outputs": [],
   "source": [
    "eng2[\"Bye\"].clear()"
   ]
  },
  {
   "cell_type": "code",
   "execution_count": 61,
   "id": "3e00085f-7f8a-4e86-997f-c083133ed4e5",
   "metadata": {},
   "outputs": [
    {
     "data": {
      "text/plain": [
       "{'Hi': 'Hai', 'Bye': {}}"
      ]
     },
     "execution_count": 61,
     "metadata": {},
     "output_type": "execute_result"
    }
   ],
   "source": [
    "eng2"
   ]
  },
  {
   "cell_type": "code",
   "execution_count": 62,
   "id": "7b2eea76-6a83-421b-94b4-440c4a3ce0e3",
   "metadata": {},
   "outputs": [
    {
     "data": {
      "text/plain": [
       "{'Hi': 'Hai', 'Bye': {}}"
      ]
     },
     "execution_count": 62,
     "metadata": {},
     "output_type": "execute_result"
    }
   ],
   "source": [
    "eng"
   ]
  },
  {
   "cell_type": "markdown",
   "id": "4091d6bb-804d-4027-96b4-89e5950dfdfc",
   "metadata": {},
   "source": [
    "#### note hte original dictionary was also changed -- because we created a shallow copy"
   ]
  },
  {
   "cell_type": "markdown",
   "id": "c8d3266e-8390-4294-92a3-28188f72553a",
   "metadata": {},
   "source": [
    "---"
   ]
  },
  {
   "cell_type": "markdown",
   "id": "46c78b48-9fa0-4526-a020-3874bb6f1e31",
   "metadata": {},
   "source": [
    "## GET Method"
   ]
  },
  {
   "cell_type": "code",
   "execution_count": 63,
   "id": "808ae4cf-0224-4067-9880-5db956fd3703",
   "metadata": {},
   "outputs": [
    {
     "data": {
      "text/plain": [
       "'Hai'"
      ]
     },
     "execution_count": 63,
     "metadata": {},
     "output_type": "execute_result"
    }
   ],
   "source": [
    "eng.get(\"Hi\")"
   ]
  },
  {
   "cell_type": "code",
   "execution_count": 66,
   "id": "fccd8e82-7081-4953-af8e-a902efefebc5",
   "metadata": {},
   "outputs": [
    {
     "data": {
      "text/plain": [
       "'Hai'"
      ]
     },
     "execution_count": 66,
     "metadata": {},
     "output_type": "execute_result"
    }
   ],
   "source": [
    "eng[\"Hi\"]"
   ]
  },
  {
   "cell_type": "code",
   "execution_count": 67,
   "id": "1fd2959a-bc1c-4b84-b662-93f1e17b1b39",
   "metadata": {},
   "outputs": [],
   "source": [
    "eng.get(\"Thank you\")"
   ]
  },
  {
   "cell_type": "code",
   "execution_count": 68,
   "id": "458121d0-1812-488d-b9ee-be42dbe58033",
   "metadata": {},
   "outputs": [],
   "source": [
    "# this value does not exist"
   ]
  },
  {
   "cell_type": "code",
   "execution_count": 70,
   "id": "c9358623-f646-4962-ae4f-9e8a23c9803e",
   "metadata": {},
   "outputs": [
    {
     "data": {
      "text/plain": [
       "'Default Value as chosen one does not exist'"
      ]
     },
     "execution_count": 70,
     "metadata": {},
     "output_type": "execute_result"
    }
   ],
   "source": [
    "eng.get(\"Thank you\", \"Default Value as chosen one does not exist\")"
   ]
  },
  {
   "cell_type": "markdown",
   "id": "c2c865f2-f3d4-449b-a970-c6448618f48c",
   "metadata": {},
   "source": [
    "---"
   ]
  },
  {
   "cell_type": "code",
   "execution_count": 71,
   "id": "e9ce0197-e9a8-4be8-8a0b-f24972a6dae7",
   "metadata": {},
   "outputs": [
    {
     "data": {
      "text/plain": [
       "dict_keys(['Hi', 'Bye'])"
      ]
     },
     "execution_count": 71,
     "metadata": {},
     "output_type": "execute_result"
    }
   ],
   "source": [
    "eng.keys()"
   ]
  },
  {
   "cell_type": "code",
   "execution_count": 72,
   "id": "4f0abbcc-585b-4a7e-9686-7b9653e36347",
   "metadata": {},
   "outputs": [
    {
     "data": {
      "text/plain": [
       "dict_values(['Hai', {}])"
      ]
     },
     "execution_count": 72,
     "metadata": {},
     "output_type": "execute_result"
    }
   ],
   "source": [
    "eng.values()"
   ]
  },
  {
   "cell_type": "code",
   "execution_count": 73,
   "id": "569e87e7-5ff3-4391-b650-4bd88bc12805",
   "metadata": {},
   "outputs": [
    {
     "data": {
      "text/plain": [
       "dict_items([('Hi', 'Hai'), ('Bye', {})])"
      ]
     },
     "execution_count": 73,
     "metadata": {},
     "output_type": "execute_result"
    }
   ],
   "source": [
    "eng.items()"
   ]
  },
  {
   "cell_type": "markdown",
   "id": "536fa04a-cd0f-4192-99b4-d1deed2488bb",
   "metadata": {},
   "source": [
    "---"
   ]
  },
  {
   "cell_type": "markdown",
   "id": "1076f65e-9b1d-45c9-904b-a744343736d3",
   "metadata": {},
   "source": [
    "### merge dictionaries"
   ]
  },
  {
   "cell_type": "code",
   "execution_count": 74,
   "id": "76cb0d96-2019-49da-bf8b-30edb39f29fb",
   "metadata": {},
   "outputs": [],
   "source": [
    "eng.update({\"thank you\" : \"Much thanks\"})"
   ]
  },
  {
   "cell_type": "code",
   "execution_count": 75,
   "id": "522d9b5d-ab00-4702-b952-535620c7f81d",
   "metadata": {},
   "outputs": [
    {
     "data": {
      "text/plain": [
       "{'Hi': 'Hai', 'Bye': {}, 'thank you': 'Much thanks'}"
      ]
     },
     "execution_count": 75,
     "metadata": {},
     "output_type": "execute_result"
    }
   ],
   "source": [
    "eng"
   ]
  },
  {
   "cell_type": "code",
   "execution_count": 76,
   "id": "62739bd5-7eeb-4ff0-86b5-1824aed3d1ce",
   "metadata": {},
   "outputs": [],
   "source": [
    "mydict2 = {\"Hello\": \"Halllooo\"}"
   ]
  },
  {
   "cell_type": "code",
   "execution_count": 79,
   "id": "a3d07315-298b-400e-ac09-a2f183acc89c",
   "metadata": {},
   "outputs": [],
   "source": [
    "eng.update(mydict2)"
   ]
  },
  {
   "cell_type": "code",
   "execution_count": 80,
   "id": "e98a1786-41c8-4d74-9c80-8d4c3a40c845",
   "metadata": {},
   "outputs": [
    {
     "data": {
      "text/plain": [
       "{'Hi': 'Hai', 'Bye': {}, 'thank you': 'Much thanks', 'Hello': 'Halllooo'}"
      ]
     },
     "execution_count": 80,
     "metadata": {},
     "output_type": "execute_result"
    }
   ],
   "source": [
    "eng"
   ]
  },
  {
   "cell_type": "markdown",
   "id": "624dc36f-b32d-43e1-8b31-43b9f80da65c",
   "metadata": {},
   "source": [
    "---"
   ]
  },
  {
   "cell_type": "code",
   "execution_count": 81,
   "id": "5f2694df-5e33-46c1-a9bc-7b72bed940b2",
   "metadata": {},
   "outputs": [],
   "source": [
    "# updating the same value"
   ]
  },
  {
   "cell_type": "code",
   "execution_count": 83,
   "id": "ce0bbf40-8a9b-406c-8964-7146cf4c2b01",
   "metadata": {},
   "outputs": [],
   "source": [
    "mydict3 = {\"Hi\": \"adfadsf\"}"
   ]
  },
  {
   "cell_type": "code",
   "execution_count": 84,
   "id": "02739522-187c-4480-b228-aca5d79991e9",
   "metadata": {},
   "outputs": [],
   "source": [
    "eng.update(mydict3)"
   ]
  },
  {
   "cell_type": "code",
   "execution_count": 85,
   "id": "d5ed360f-7150-4a5f-8c41-de701e1c6ec4",
   "metadata": {},
   "outputs": [
    {
     "data": {
      "text/plain": [
       "{'Hi': 'adfadsf', 'Bye': {}, 'thank you': 'Much thanks', 'Hello': 'Halllooo'}"
      ]
     },
     "execution_count": 85,
     "metadata": {},
     "output_type": "execute_result"
    }
   ],
   "source": [
    "eng"
   ]
  },
  {
   "cell_type": "code",
   "execution_count": null,
   "id": "0a0220de-82fc-420e-aa94-b4a991ff1179",
   "metadata": {},
   "outputs": [],
   "source": []
  }
 ],
 "metadata": {
  "kernelspec": {
   "display_name": "Python 3 (ipykernel)",
   "language": "python",
   "name": "python3"
  },
  "language_info": {
   "codemirror_mode": {
    "name": "ipython",
    "version": 3
   },
   "file_extension": ".py",
   "mimetype": "text/x-python",
   "name": "python",
   "nbconvert_exporter": "python",
   "pygments_lexer": "ipython3",
   "version": "3.9.12"
  }
 },
 "nbformat": 4,
 "nbformat_minor": 5
}
