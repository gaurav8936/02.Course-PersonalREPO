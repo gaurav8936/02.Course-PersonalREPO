{
 "cells": [
  {
   "cell_type": "markdown",
   "id": "18fed7bf-2207-493b-9043-2829376f3f00",
   "metadata": {},
   "source": [
    "# Nested Lists & Dictionaries"
   ]
  },
  {
   "cell_type": "markdown",
   "id": "852ed1a6-50c6-449d-be92-34036e390ce3",
   "metadata": {},
   "source": [
    "### Nested Dictionaries"
   ]
  },
  {
   "cell_type": "code",
   "execution_count": 1,
   "id": "8e9f2647-4437-46d6-aad6-4f99ff743c00",
   "metadata": {},
   "outputs": [],
   "source": [
    "grades = {'Mark' : {'Quiz1': 100, 'Quiz2': 200},\n",
    "          'Pria' : {'Quiz1': 90, 'Quiz2': 120},\n",
    "          'Tonya' : {'Quiz1': 34, 'Quiz2': 233}\n",
    "         \n",
    "         }"
   ]
  },
  {
   "cell_type": "code",
   "execution_count": 2,
   "id": "59d817db-984b-48af-b1b3-8cea6181e80d",
   "metadata": {},
   "outputs": [
    {
     "data": {
      "text/plain": [
       "{'Mark': {'Quiz1': 100, 'Quiz2': 200},\n",
       " 'Pria': {'Quiz1': 90, 'Quiz2': 120},\n",
       " 'Tonya': {'Quiz1': 34, 'Quiz2': 233}}"
      ]
     },
     "execution_count": 2,
     "metadata": {},
     "output_type": "execute_result"
    }
   ],
   "source": [
    "grades"
   ]
  },
  {
   "cell_type": "code",
   "execution_count": 3,
   "id": "69966e55-fd6b-41a1-ba09-eae5d7a731c6",
   "metadata": {},
   "outputs": [
    {
     "name": "stdout",
     "output_type": "stream",
     "text": [
      "<class 'dict'>\n"
     ]
    }
   ],
   "source": [
    "print(type(grades))"
   ]
  },
  {
   "cell_type": "code",
   "execution_count": 4,
   "id": "80334feb-8fc4-4bd1-a489-2560e0a04277",
   "metadata": {},
   "outputs": [
    {
     "name": "stdout",
     "output_type": "stream",
     "text": [
      "<class 'dict'>\n"
     ]
    }
   ],
   "source": [
    "print(type(grades['Pria']))"
   ]
  },
  {
   "cell_type": "code",
   "execution_count": 5,
   "id": "50b46dc9-119c-4fd3-ab01-ab3d3b929077",
   "metadata": {},
   "outputs": [
    {
     "data": {
      "text/plain": [
       "{'Quiz1': 90, 'Quiz2': 120}"
      ]
     },
     "execution_count": 5,
     "metadata": {},
     "output_type": "execute_result"
    }
   ],
   "source": [
    "grades['Pria']"
   ]
  },
  {
   "cell_type": "code",
   "execution_count": 6,
   "id": "b12ab740-00fc-4ddb-b605-d30e2bf4f20a",
   "metadata": {},
   "outputs": [
    {
     "data": {
      "text/plain": [
       "90"
      ]
     },
     "execution_count": 6,
     "metadata": {},
     "output_type": "execute_result"
    }
   ],
   "source": [
    "grades['Pria']['Quiz1']"
   ]
  },
  {
   "cell_type": "code",
   "execution_count": 7,
   "id": "28d19a03-c532-4734-a271-c1446cb33a8e",
   "metadata": {},
   "outputs": [
    {
     "data": {
      "text/plain": [
       "100"
      ]
     },
     "execution_count": 7,
     "metadata": {},
     "output_type": "execute_result"
    }
   ],
   "source": [
    "grades['Mark']['Quiz1']"
   ]
  },
  {
   "cell_type": "code",
   "execution_count": 8,
   "id": "a699e8df-fe81-4036-81df-2aaec8fc6e16",
   "metadata": {},
   "outputs": [
    {
     "data": {
      "text/plain": [
       "200"
      ]
     },
     "execution_count": 8,
     "metadata": {},
     "output_type": "execute_result"
    }
   ],
   "source": [
    "grades['Mark']['Quiz2']"
   ]
  },
  {
   "cell_type": "markdown",
   "id": "14b150d0-67f7-4ad8-bceb-b84cf57ac0f8",
   "metadata": {},
   "source": [
    "---"
   ]
  },
  {
   "cell_type": "markdown",
   "id": "ac852389-1d3e-4da6-b4a4-79113e72bd11",
   "metadata": {},
   "source": [
    "### Nested Lists"
   ]
  },
  {
   "cell_type": "code",
   "execution_count": 24,
   "id": "51d1eede-9d08-413d-bd39-06bd5bb26fe5",
   "metadata": {},
   "outputs": [],
   "source": [
    "animals = [\n",
    "    ['Tiger', 3,15.0],\n",
    "    ['Lion', 7,8.9],\n",
    "    ['Camel', 5,11.5],\n",
    "    ['Dog']\n",
    "]"
   ]
  },
  {
   "cell_type": "code",
   "execution_count": 10,
   "id": "fd05ee49-5876-4188-88ce-a6b0f0ebd33e",
   "metadata": {},
   "outputs": [
    {
     "data": {
      "text/plain": [
       "[['Tiger', 3, 15.0], ['Lion', 7, 8.9], ['TCamel', 5, 11.5]]"
      ]
     },
     "execution_count": 10,
     "metadata": {},
     "output_type": "execute_result"
    }
   ],
   "source": [
    "animals"
   ]
  },
  {
   "cell_type": "code",
   "execution_count": 11,
   "id": "9abcec28-5925-4e42-8674-f3f976d3709c",
   "metadata": {},
   "outputs": [
    {
     "name": "stdout",
     "output_type": "stream",
     "text": [
      "<class 'list'>\n"
     ]
    }
   ],
   "source": [
    "print(type(animals))"
   ]
  },
  {
   "cell_type": "code",
   "execution_count": 15,
   "id": "f99a6b4d-977d-4e00-9bb5-d312a93d87b4",
   "metadata": {},
   "outputs": [
    {
     "name": "stdout",
     "output_type": "stream",
     "text": [
      "<class 'list'>\n"
     ]
    }
   ],
   "source": [
    "print(type(animals[0]))"
   ]
  },
  {
   "cell_type": "code",
   "execution_count": 16,
   "id": "f0ef7c78-59ef-4304-9378-4c75ec40b926",
   "metadata": {},
   "outputs": [
    {
     "data": {
      "text/plain": [
       "['Tiger', 3, 15.0]"
      ]
     },
     "execution_count": 16,
     "metadata": {},
     "output_type": "execute_result"
    }
   ],
   "source": [
    "animals[0]"
   ]
  },
  {
   "cell_type": "code",
   "execution_count": 17,
   "id": "ce1171bf-c012-4519-bcc9-db0d154ace2e",
   "metadata": {},
   "outputs": [
    {
     "data": {
      "text/plain": [
       "15.0"
      ]
     },
     "execution_count": 17,
     "metadata": {},
     "output_type": "execute_result"
    }
   ],
   "source": [
    "animals[0][2]"
   ]
  },
  {
   "cell_type": "code",
   "execution_count": 21,
   "id": "21a58fbf-9d27-47b0-a524-568cd3c36ebf",
   "metadata": {},
   "outputs": [
    {
     "data": {
      "text/plain": [
       "['Camel', 5, 11.5]"
      ]
     },
     "execution_count": 21,
     "metadata": {},
     "output_type": "execute_result"
    }
   ],
   "source": [
    "animals[2]"
   ]
  },
  {
   "cell_type": "code",
   "execution_count": 22,
   "id": "ccfb5bd3-f854-4fea-bc5b-a2a83074b1c9",
   "metadata": {},
   "outputs": [
    {
     "data": {
      "text/plain": [
       "'Camel'"
      ]
     },
     "execution_count": 22,
     "metadata": {},
     "output_type": "execute_result"
    }
   ],
   "source": [
    "animals[2][0]"
   ]
  },
  {
   "cell_type": "markdown",
   "id": "e40e2f92-822e-4451-a24d-78783b745643",
   "metadata": {},
   "source": [
    "---"
   ]
  },
  {
   "cell_type": "code",
   "execution_count": 25,
   "id": "11f4d7a8-81ec-4827-959c-6bf1fb20edf5",
   "metadata": {},
   "outputs": [],
   "source": [
    "# DOG is a string -- which is also a sequence"
   ]
  },
  {
   "cell_type": "code",
   "execution_count": 26,
   "id": "0b5ee12b-7322-48ab-82b8-7633e3ddfee4",
   "metadata": {},
   "outputs": [
    {
     "data": {
      "text/plain": [
       "['Dog']"
      ]
     },
     "execution_count": 26,
     "metadata": {},
     "output_type": "execute_result"
    }
   ],
   "source": [
    "animals[3]"
   ]
  },
  {
   "cell_type": "code",
   "execution_count": 31,
   "id": "7b84c13e-b424-448b-9025-cc4cd6fbd24b",
   "metadata": {},
   "outputs": [
    {
     "data": {
      "text/plain": [
       "'Dog'"
      ]
     },
     "execution_count": 31,
     "metadata": {},
     "output_type": "execute_result"
    }
   ],
   "source": [
    "animals[3][0]"
   ]
  },
  {
   "cell_type": "code",
   "execution_count": 32,
   "id": "57f8b963-fd7c-41e6-a557-f63f0619fa62",
   "metadata": {},
   "outputs": [
    {
     "data": {
      "text/plain": [
       "list"
      ]
     },
     "execution_count": 32,
     "metadata": {},
     "output_type": "execute_result"
    }
   ],
   "source": [
    "type(animals[3])"
   ]
  },
  {
   "cell_type": "markdown",
   "id": "2a72d4ce-33d6-4ac5-b2b4-89d07d5a4f47",
   "metadata": {},
   "source": [
    "---"
   ]
  },
  {
   "cell_type": "markdown",
   "id": "b3420a1e-9b51-47c7-a72b-ae1de274ca64",
   "metadata": {},
   "source": [
    "### list of Dictionaries"
   ]
  },
  {
   "cell_type": "code",
   "execution_count": 35,
   "id": "437d9334-2beb-45de-a3b7-88db3cad6243",
   "metadata": {},
   "outputs": [],
   "source": [
    "coins = [\n",
    "    {'name': 'Penny', 'metal': ['Copper', 'Zinc'], 'value' : 0.01},\n",
    "    {'name': 'Dime', 'metal': ['Copper', 'Nickel'], 'value' : 0.10},\n",
    "    {'name': 'Quarter', 'metal': ['Copper', 'Nickel'], 'value' : 0.25}\n",
    "]"
   ]
  },
  {
   "cell_type": "markdown",
   "id": "9b8ddf19-00cf-4374-89df-415f3095e008",
   "metadata": {},
   "source": [
    "#### typical of JSON files"
   ]
  },
  {
   "cell_type": "code",
   "execution_count": 36,
   "id": "12d3dfc8-9a53-492b-a6c0-6dc2fd06a40a",
   "metadata": {},
   "outputs": [],
   "source": [
    "# this is a list of dictionaries of other lists"
   ]
  },
  {
   "cell_type": "code",
   "execution_count": 37,
   "id": "060338d6-bcd6-4839-af03-aa55f1c0cdd6",
   "metadata": {},
   "outputs": [
    {
     "data": {
      "text/plain": [
       "{'name': 'Dime', 'metal': ['Copper', 'Nickel'], 'value': 0.1}"
      ]
     },
     "execution_count": 37,
     "metadata": {},
     "output_type": "execute_result"
    }
   ],
   "source": [
    "coins[1]"
   ]
  },
  {
   "cell_type": "code",
   "execution_count": 38,
   "id": "194172c2-9441-4cee-926b-6551c073dbff",
   "metadata": {},
   "outputs": [
    {
     "data": {
      "text/plain": [
       "dict_keys(['name', 'metal', 'value'])"
      ]
     },
     "execution_count": 38,
     "metadata": {},
     "output_type": "execute_result"
    }
   ],
   "source": [
    "coins[1].keys()"
   ]
  },
  {
   "cell_type": "code",
   "execution_count": 39,
   "id": "bc749dab-d90d-4f16-a709-da66a9685d5b",
   "metadata": {},
   "outputs": [
    {
     "data": {
      "text/plain": [
       "'Dime'"
      ]
     },
     "execution_count": 39,
     "metadata": {},
     "output_type": "execute_result"
    }
   ],
   "source": [
    "coins[1]['name']"
   ]
  },
  {
   "cell_type": "markdown",
   "id": "f669a6c4-0507-4969-9c49-0efd97aa4f49",
   "metadata": {},
   "source": [
    "---"
   ]
  },
  {
   "cell_type": "markdown",
   "id": "8b54baa9-cec8-4ed3-ae68-842eeba18547",
   "metadata": {},
   "source": [
    "# Generalizable Rule"
   ]
  },
  {
   "cell_type": "markdown",
   "id": "5e0f40d1-a817-4cb2-ade3-44050f3f8670",
   "metadata": {},
   "source": [
    "1. Check the type of the item you are accessing\n",
    "2. If it is a dictionary type\n",
    "* use the keys() to look up the dictionary keys\n",
    "* Check access to the one of the keys and start again\n",
    "\n",
    "3. If it is a list type:\n",
    "* You can print what is in a list\n",
    "* Also check the length of the list\n",
    "* Check an item in the list and start again with #1\n",
    "\n",
    "* Repeat the steps as necessary for each new item until you get to the end"
   ]
  },
  {
   "cell_type": "code",
   "execution_count": null,
   "id": "864f70dd-166b-4d79-b6f3-7a54f9f3bb48",
   "metadata": {},
   "outputs": [],
   "source": []
  }
 ],
 "metadata": {
  "kernelspec": {
   "display_name": "Python 3 (ipykernel)",
   "language": "python",
   "name": "python3"
  },
  "language_info": {
   "codemirror_mode": {
    "name": "ipython",
    "version": 3
   },
   "file_extension": ".py",
   "mimetype": "text/x-python",
   "name": "python",
   "nbconvert_exporter": "python",
   "pygments_lexer": "ipython3",
   "version": "3.9.12"
  }
 },
 "nbformat": 4,
 "nbformat_minor": 5
}
