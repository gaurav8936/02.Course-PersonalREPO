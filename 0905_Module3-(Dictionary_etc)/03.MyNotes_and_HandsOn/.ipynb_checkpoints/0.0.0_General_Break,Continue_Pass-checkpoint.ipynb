{
 "cells": [
  {
   "cell_type": "markdown",
   "id": "74149fd1-f029-4a37-941e-2ec03079a99f",
   "metadata": {},
   "source": [
    "# Break"
   ]
  },
  {
   "cell_type": "markdown",
   "id": "03d74f49-8454-4854-ad16-e9accc78ce14",
   "metadata": {},
   "source": [
    " the break statement provides you with the opportunity to exit out of a loop when an external condition is triggered. "
   ]
  },
  {
   "cell_type": "code",
   "execution_count": 5,
   "id": "5869b9c6-aa0b-42bd-b131-c6e601fe8df2",
   "metadata": {},
   "outputs": [
    {
     "name": "stdout",
     "output_type": "stream",
     "text": [
      "Number is : 0\n",
      "Number is : 1\n",
      "Number is : 2\n",
      "Number is : 3\n",
      "Number is : 4\n",
      "Out of loop\n"
     ]
    }
   ],
   "source": [
    "number = 0\n",
    "\n",
    "for number in range(10):\n",
    "    if number == 5:\n",
    "        break\n",
    "    print('Number is :' ,number)\n",
    "print('Out of loop')"
   ]
  },
  {
   "cell_type": "markdown",
   "id": "cf02ea85-a31d-47d3-b5a0-1224a23af3a9",
   "metadata": {},
   "source": [
    "---"
   ]
  },
  {
   "cell_type": "markdown",
   "id": "5a06bb22-e224-4f0b-bf60-028ef2c7337c",
   "metadata": {},
   "source": [
    "# Continue"
   ]
  },
  {
   "cell_type": "markdown",
   "id": "c3f10546-d827-4614-8694-78054fa7cbc1",
   "metadata": {},
   "source": [
    "The continue statement gives you the option to skip over the part of a loop where an external condition is triggered, but to go on to complete the rest of the loop. That is, the current iteration of the loop will be disrupted, but the program will return to the top of the loop."
   ]
  },
  {
   "cell_type": "code",
   "execution_count": 6,
   "id": "0fe66b9c-0af7-4822-b129-e2aa9771f872",
   "metadata": {},
   "outputs": [
    {
     "name": "stdout",
     "output_type": "stream",
     "text": [
      "Number is  0\n",
      "Number is  1\n",
      "Number is  2\n",
      "Number is  3\n",
      "Number is  4\n",
      "Number is  6\n",
      "Number is  7\n",
      "Number is  8\n",
      "Number is  9\n",
      "Out of loop\n"
     ]
    }
   ],
   "source": [
    "number = 0\n",
    "\n",
    "for number in range(10):\n",
    "    if number == 5:\n",
    "        continue\n",
    "    print('Number is ', number)\n",
    "print('Out of loop')"
   ]
  },
  {
   "cell_type": "markdown",
   "id": "e142ed81-18d1-49fe-a6a3-e9e5a6e08139",
   "metadata": {},
   "source": [
    "---"
   ]
  },
  {
   "cell_type": "markdown",
   "id": "c4c2df57-667c-4d9d-a327-9307fb8676a9",
   "metadata": {},
   "source": [
    "# Pass"
   ]
  },
  {
   "cell_type": "markdown",
   "id": "81772bd5-126c-4ccd-ac97-e1828a51a608",
   "metadata": {},
   "source": [
    "When an external condition is triggered, the pass statement allows you to handle the condition without the loop being impacted in any way; all of the code will continue to be read unless a break or other statement occurs.\n",
    "\n"
   ]
  },
  {
   "cell_type": "markdown",
   "id": "b38b9261-d815-445a-af48-11b3f7165dd9",
   "metadata": {},
   "source": [
    "<font color = red>The pass statement tells the program to disregard that condition and continue to run the program as usual."
   ]
  },
  {
   "cell_type": "code",
   "execution_count": 7,
   "id": "0dc1e67b-4c32-45e3-87cf-2ae49e5ea698",
   "metadata": {},
   "outputs": [
    {
     "name": "stdout",
     "output_type": "stream",
     "text": [
      "the number is  0\n",
      "the number is  1\n",
      "the number is  2\n",
      "the number is  3\n",
      "the number is  4\n",
      "the number is  5\n",
      "the number is  6\n",
      "the number is  7\n",
      "the number is  8\n",
      "the number is  9\n",
      "out of loop\n"
     ]
    }
   ],
   "source": [
    "number = 0\n",
    "\n",
    "for number in range(10):\n",
    "    \n",
    "    if number == 5:\n",
    "        pass\n",
    "    print('the number is ', number)\n",
    "print('out of loop')"
   ]
  },
  {
   "cell_type": "code",
   "execution_count": 8,
   "id": "0fb7b97f-dcdc-4c48-9da2-4ef9824a714f",
   "metadata": {},
   "outputs": [
    {
     "name": "stdout",
     "output_type": "stream",
     "text": [
      "the number is  0\n",
      "the number is  1\n",
      "the number is  2\n",
      "the number is  3\n",
      "the number is  4\n",
      "the number is  5\n",
      "the number is  6\n",
      "the number is  7\n",
      "the number is  8\n",
      "the number is  9\n",
      "out of loop\n"
     ]
    }
   ],
   "source": [
    "number = 0\n",
    "\n",
    "for number in range(10):\n",
    "    \n",
    "    # if number == 5:\n",
    "    #     pass\n",
    "    print('the number is ', number)\n",
    "print('out of loop')"
   ]
  },
  {
   "cell_type": "code",
   "execution_count": null,
   "id": "3785d244-de83-435f-a72b-33ebe7834d56",
   "metadata": {},
   "outputs": [],
   "source": []
  }
 ],
 "metadata": {
  "kernelspec": {
   "display_name": "Python 3 (ipykernel)",
   "language": "python",
   "name": "python3"
  },
  "language_info": {
   "codemirror_mode": {
    "name": "ipython",
    "version": 3
   },
   "file_extension": ".py",
   "mimetype": "text/x-python",
   "name": "python",
   "nbconvert_exporter": "python",
   "pygments_lexer": "ipython3",
   "version": "3.9.12"
  }
 },
 "nbformat": 4,
 "nbformat_minor": 5
}
