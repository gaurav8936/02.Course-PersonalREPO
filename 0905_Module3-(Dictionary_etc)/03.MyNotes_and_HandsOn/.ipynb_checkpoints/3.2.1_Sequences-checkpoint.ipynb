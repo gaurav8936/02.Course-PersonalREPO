{
 "cells": [
  {
   "cell_type": "markdown",
   "id": "4842bd2d-87a5-43d1-a901-06b5a26836e8",
   "metadata": {},
   "source": [
    "# Sequences"
   ]
  },
  {
   "cell_type": "code",
   "execution_count": 2,
   "id": "8730d052-82e4-4a89-a13a-8d767da4793b",
   "metadata": {},
   "outputs": [
    {
     "data": {
      "text/plain": [
       "[]"
      ]
     },
     "execution_count": 2,
     "metadata": {},
     "output_type": "execute_result"
    }
   ],
   "source": [
    "[]"
   ]
  },
  {
   "cell_type": "code",
   "execution_count": 3,
   "id": "7f05f9f7-e6b4-47f3-9fcb-e43b9ff04053",
   "metadata": {},
   "outputs": [
    {
     "data": {
      "text/plain": [
       "[1, 2, 3, 2]"
      ]
     },
     "execution_count": 3,
     "metadata": {},
     "output_type": "execute_result"
    }
   ],
   "source": [
    "[1,2,3,2,]"
   ]
  },
  {
   "cell_type": "code",
   "execution_count": 4,
   "id": "53e35d7c-366a-4707-8d80-91291c8d0fa0",
   "metadata": {},
   "outputs": [],
   "source": [
    "# example of a list without a variable name"
   ]
  },
  {
   "cell_type": "code",
   "execution_count": 5,
   "id": "998f40ae-2a01-4d72-a452-b1c7afece08f",
   "metadata": {},
   "outputs": [
    {
     "data": {
      "text/plain": [
       "['H', 'e', 'l', 'l', 'o']"
      ]
     },
     "execution_count": 5,
     "metadata": {},
     "output_type": "execute_result"
    }
   ],
   "source": [
    "list(\"Hello\")"
   ]
  },
  {
   "cell_type": "code",
   "execution_count": 6,
   "id": "78e2efa8-8132-4d7c-aa07-44b339c17b18",
   "metadata": {},
   "outputs": [],
   "source": [
    "# strings are also sequence type -- this is a sequence of characters"
   ]
  },
  {
   "cell_type": "code",
   "execution_count": 7,
   "id": "a342c0de-7dd5-4eda-aa10-9fe5f657afa9",
   "metadata": {},
   "outputs": [],
   "source": [
    "first_list = [1,2,3,4,5]"
   ]
  },
  {
   "cell_type": "code",
   "execution_count": 8,
   "id": "8348b8c9-40d5-41d8-b8c8-85269863d661",
   "metadata": {},
   "outputs": [],
   "source": [
    "second_list = [6,7,8,9,10]"
   ]
  },
  {
   "cell_type": "code",
   "execution_count": 9,
   "id": "140b0448-6004-4362-abde-96ad0461140e",
   "metadata": {},
   "outputs": [
    {
     "data": {
      "text/plain": [
       "True"
      ]
     },
     "execution_count": 9,
     "metadata": {},
     "output_type": "execute_result"
    }
   ],
   "source": [
    "3 in first_list"
   ]
  },
  {
   "cell_type": "code",
   "execution_count": 10,
   "id": "636d5286-d155-4ebc-ac3c-5501e0b05573",
   "metadata": {},
   "outputs": [
    {
     "data": {
      "text/plain": [
       "False"
      ]
     },
     "execution_count": 10,
     "metadata": {},
     "output_type": "execute_result"
    }
   ],
   "source": [
    "3 not in first_list"
   ]
  },
  {
   "cell_type": "code",
   "execution_count": 11,
   "id": "f001b950-8162-4fc8-8b52-5fb06c492f9c",
   "metadata": {},
   "outputs": [
    {
     "data": {
      "text/plain": [
       "True"
      ]
     },
     "execution_count": 11,
     "metadata": {},
     "output_type": "execute_result"
    }
   ],
   "source": [
    "3 not in second_list"
   ]
  },
  {
   "cell_type": "code",
   "execution_count": 12,
   "id": "7986170b-4ad2-4b3a-baeb-f4cf5148fa5b",
   "metadata": {},
   "outputs": [
    {
     "data": {
      "text/plain": [
       "[1, 2, 3, 4, 5, 6, 7, 8, 9, 10]"
      ]
     },
     "execution_count": 12,
     "metadata": {},
     "output_type": "execute_result"
    }
   ],
   "source": [
    "first_list + second_list"
   ]
  },
  {
   "cell_type": "code",
   "execution_count": 13,
   "id": "73fe0658-55bd-409a-924e-5a96ffe34fba",
   "metadata": {},
   "outputs": [],
   "source": [
    "third_list = first_list+second_list"
   ]
  },
  {
   "cell_type": "code",
   "execution_count": 14,
   "id": "8b14feb1-a17e-4d4f-b9e1-24dfbdaa761d",
   "metadata": {},
   "outputs": [
    {
     "data": {
      "text/plain": [
       "[1, 2, 3, 4, 5, 6, 7, 8, 9, 10]"
      ]
     },
     "execution_count": 14,
     "metadata": {},
     "output_type": "execute_result"
    }
   ],
   "source": [
    "third_list"
   ]
  },
  {
   "cell_type": "code",
   "execution_count": 15,
   "id": "b03e3e13-8d22-49f0-a662-76280be92996",
   "metadata": {},
   "outputs": [
    {
     "data": {
      "text/plain": [
       "4"
      ]
     },
     "execution_count": 15,
     "metadata": {},
     "output_type": "execute_result"
    }
   ],
   "source": [
    "third_list[3]"
   ]
  },
  {
   "cell_type": "code",
   "execution_count": 18,
   "id": "3cbb8d6b-402c-402c-b7a1-1798967bac63",
   "metadata": {},
   "outputs": [
    {
     "data": {
      "text/plain": [
       "[1, 2, 3, 4, 5]"
      ]
     },
     "execution_count": 18,
     "metadata": {},
     "output_type": "execute_result"
    }
   ],
   "source": [
    "third_list[0:5]\n",
    "\n",
    "# does not include 5th element"
   ]
  },
  {
   "cell_type": "code",
   "execution_count": 19,
   "id": "a5b3e2d7-5502-44f4-80a3-93e4573af6fb",
   "metadata": {},
   "outputs": [
    {
     "data": {
      "text/plain": [
       "[2, 5, 8]"
      ]
     },
     "execution_count": 19,
     "metadata": {},
     "output_type": "execute_result"
    }
   ],
   "source": [
    "third_list[1::3]"
   ]
  },
  {
   "cell_type": "code",
   "execution_count": null,
   "id": "12366fe8-82a1-4fd9-abec-909084b85c9e",
   "metadata": {},
   "outputs": [],
   "source": []
  }
 ],
 "metadata": {
  "kernelspec": {
   "display_name": "Python 3 (ipykernel)",
   "language": "python",
   "name": "python3"
  },
  "language_info": {
   "codemirror_mode": {
    "name": "ipython",
    "version": 3
   },
   "file_extension": ".py",
   "mimetype": "text/x-python",
   "name": "python",
   "nbconvert_exporter": "python",
   "pygments_lexer": "ipython3",
   "version": "3.9.12"
  }
 },
 "nbformat": 4,
 "nbformat_minor": 5
}
