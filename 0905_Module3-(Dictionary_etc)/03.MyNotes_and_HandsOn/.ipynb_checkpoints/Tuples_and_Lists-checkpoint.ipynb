{
 "cells": [
  {
   "cell_type": "code",
   "execution_count": 1,
   "id": "0ad25de4-1603-45ba-8370-b5f080cbd0bd",
   "metadata": {},
   "outputs": [],
   "source": [
    "# Tuples and Lists"
   ]
  },
  {
   "cell_type": "markdown",
   "id": "4ae20cd6-4590-487f-a2d6-4348efbf3765",
   "metadata": {},
   "source": [
    "lists are mutable"
   ]
  },
  {
   "cell_type": "markdown",
   "id": "ce5ded91-2f9b-4598-aeb9-9d96d128fc90",
   "metadata": {},
   "source": [
    "Tuples are not mutable"
   ]
  },
  {
   "cell_type": "code",
   "execution_count": 4,
   "id": "0ae30c93-8b6c-4cc6-a113-17e21b1a99d8",
   "metadata": {},
   "outputs": [],
   "source": [
    "empty_tuple = ()"
   ]
  },
  {
   "cell_type": "code",
   "execution_count": 5,
   "id": "3b1e8813-aac2-4d42-aced-92704f50eb28",
   "metadata": {},
   "outputs": [
    {
     "data": {
      "text/plain": [
       "()"
      ]
     },
     "execution_count": 5,
     "metadata": {},
     "output_type": "execute_result"
    }
   ],
   "source": [
    "empty_tuple\n",
    "()"
   ]
  },
  {
   "cell_type": "code",
   "execution_count": 11,
   "id": "2ac31176-0999-4e8c-960e-eed702435796",
   "metadata": {},
   "outputs": [],
   "source": [
    "one_marx = ('groucho',)"
   ]
  },
  {
   "cell_type": "code",
   "execution_count": 7,
   "id": "c03975c8-5010-4b84-a45c-e080552d417b",
   "metadata": {},
   "outputs": [],
   "source": [
    "one_marx = 'groucho'"
   ]
  },
  {
   "cell_type": "code",
   "execution_count": 12,
   "id": "e9d6e05b-89e9-4e82-bff9-de977b1dc963",
   "metadata": {},
   "outputs": [
    {
     "data": {
      "text/plain": [
       "tuple"
      ]
     },
     "execution_count": 12,
     "metadata": {},
     "output_type": "execute_result"
    }
   ],
   "source": [
    "type(one_marx)"
   ]
  },
  {
   "cell_type": "markdown",
   "id": "d9162da0-d3e3-4e3a-94b5-71eff81daf53",
   "metadata": {},
   "source": [
    "#### tuple needs a , (else, the type is a string)"
   ]
  },
  {
   "cell_type": "code",
   "execution_count": 13,
   "id": "7dd8c409-fe52-4e94-9c04-40e16b9b3d19",
   "metadata": {},
   "outputs": [],
   "source": [
    "marx_tuple = 'a', 'b', 'c'"
   ]
  },
  {
   "cell_type": "code",
   "execution_count": 14,
   "id": "9b61afba-4719-426b-b8b4-7f9a9173c6bc",
   "metadata": {},
   "outputs": [
    {
     "data": {
      "text/plain": [
       "tuple"
      ]
     },
     "execution_count": 14,
     "metadata": {},
     "output_type": "execute_result"
    }
   ],
   "source": [
    "type(marx_tuple)"
   ]
  },
  {
   "cell_type": "markdown",
   "id": "606bdaf7-6020-471c-8226-c0356ad6a150",
   "metadata": {},
   "source": [
    "#### bracket not needed (Python automatically include them)"
   ]
  },
  {
   "cell_type": "code",
   "execution_count": 15,
   "id": "8912f5ea-c1c6-42af-add7-10189348bca7",
   "metadata": {},
   "outputs": [
    {
     "data": {
      "text/plain": [
       "('a', 'b', 'c')"
      ]
     },
     "execution_count": 15,
     "metadata": {},
     "output_type": "execute_result"
    }
   ],
   "source": [
    "marx_tuple"
   ]
  },
  {
   "cell_type": "code",
   "execution_count": 16,
   "id": "14617297-517c-415e-9fd4-71fa7214e78c",
   "metadata": {},
   "outputs": [],
   "source": [
    "two_marx = 'groucho',"
   ]
  },
  {
   "cell_type": "code",
   "execution_count": 17,
   "id": "5bb33592-b7c4-4bcd-8187-e798851e81d6",
   "metadata": {},
   "outputs": [
    {
     "data": {
      "text/plain": [
       "tuple"
      ]
     },
     "execution_count": 17,
     "metadata": {},
     "output_type": "execute_result"
    }
   ],
   "source": [
    "type(two_marx)"
   ]
  },
  {
   "cell_type": "code",
   "execution_count": 18,
   "id": "e5820c1a-5b35-4b51-b2ff-79b48c761185",
   "metadata": {},
   "outputs": [
    {
     "data": {
      "text/plain": [
       "str"
      ]
     },
     "execution_count": 18,
     "metadata": {},
     "output_type": "execute_result"
    }
   ],
   "source": [
    "type('groucho', )"
   ]
  },
  {
   "cell_type": "code",
   "execution_count": 19,
   "id": "eaf110a9-a3c0-4c32-b1af-c4206ed83ecf",
   "metadata": {},
   "outputs": [
    {
     "data": {
      "text/plain": [
       "tuple"
      ]
     },
     "execution_count": 19,
     "metadata": {},
     "output_type": "execute_result"
    }
   ],
   "source": [
    "type(('groucho', ))"
   ]
  },
  {
   "cell_type": "markdown",
   "id": "0bdbf5e8-cb7c-4442-a2d8-9243d7243600",
   "metadata": {},
   "source": [
    "---"
   ]
  },
  {
   "cell_type": "markdown",
   "id": "f2c3d2fe-986b-43d9-8c84-cf786d231072",
   "metadata": {},
   "source": [
    "## Tuple Unpacking"
   ]
  },
  {
   "cell_type": "markdown",
   "id": "24486533-7211-4d87-8449-d94008012700",
   "metadata": {},
   "source": [
    "#### assigning multiple variables"
   ]
  },
  {
   "cell_type": "code",
   "execution_count": 20,
   "id": "0512f0af-2cb8-4a02-9c53-17b75992235f",
   "metadata": {},
   "outputs": [],
   "source": [
    "marx_tuple = ('x', 'y', 'z')"
   ]
  },
  {
   "cell_type": "code",
   "execution_count": 21,
   "id": "02ab9b45-ba57-4da6-9a10-e0f380beb6c3",
   "metadata": {},
   "outputs": [
    {
     "data": {
      "text/plain": [
       "('x', 'y', 'z')"
      ]
     },
     "execution_count": 21,
     "metadata": {},
     "output_type": "execute_result"
    }
   ],
   "source": [
    "marx_tuple"
   ]
  },
  {
   "cell_type": "code",
   "execution_count": 22,
   "id": "7e602f4f-2300-4043-9d77-f220bda3d44b",
   "metadata": {},
   "outputs": [
    {
     "data": {
      "text/plain": [
       "tuple"
      ]
     },
     "execution_count": 22,
     "metadata": {},
     "output_type": "execute_result"
    }
   ],
   "source": [
    "type(marx_tuple)"
   ]
  },
  {
   "cell_type": "code",
   "execution_count": 23,
   "id": "a8592a95-2f5a-455b-bf56-f8b8359a36ac",
   "metadata": {},
   "outputs": [],
   "source": [
    "a,b,c = marx_tuple"
   ]
  },
  {
   "cell_type": "code",
   "execution_count": 24,
   "id": "025951b0-3d63-4fbd-8c0f-861b0868129e",
   "metadata": {},
   "outputs": [
    {
     "data": {
      "text/plain": [
       "'x'"
      ]
     },
     "execution_count": 24,
     "metadata": {},
     "output_type": "execute_result"
    }
   ],
   "source": [
    "a"
   ]
  },
  {
   "cell_type": "code",
   "execution_count": 25,
   "id": "4575b0ff-e3a2-4a47-b662-4fe395d42bba",
   "metadata": {},
   "outputs": [
    {
     "data": {
      "text/plain": [
       "'y'"
      ]
     },
     "execution_count": 25,
     "metadata": {},
     "output_type": "execute_result"
    }
   ],
   "source": [
    "b"
   ]
  },
  {
   "cell_type": "code",
   "execution_count": 26,
   "id": "2e689d2a-d5aa-4538-ab17-3553178b92a3",
   "metadata": {},
   "outputs": [
    {
     "data": {
      "text/plain": [
       "'z'"
      ]
     },
     "execution_count": 26,
     "metadata": {},
     "output_type": "execute_result"
    }
   ],
   "source": [
    "c"
   ]
  },
  {
   "cell_type": "code",
   "execution_count": 27,
   "id": "059a4266-261a-4189-bd68-35bf238c67f3",
   "metadata": {},
   "outputs": [],
   "source": [
    "d = marx_tuple"
   ]
  },
  {
   "cell_type": "code",
   "execution_count": 28,
   "id": "b5048822-a60c-418a-b012-a202ae2a32fc",
   "metadata": {},
   "outputs": [
    {
     "data": {
      "text/plain": [
       "('x', 'y', 'z')"
      ]
     },
     "execution_count": 28,
     "metadata": {},
     "output_type": "execute_result"
    }
   ],
   "source": [
    "d"
   ]
  },
  {
   "cell_type": "code",
   "execution_count": 29,
   "id": "5102bc35-ffa5-4113-8e72-43707059123d",
   "metadata": {},
   "outputs": [
    {
     "ename": "ValueError",
     "evalue": "too many values to unpack (expected 2)",
     "output_type": "error",
     "traceback": [
      "\u001b[0;31m---------------------------------------------------------------------------\u001b[0m",
      "\u001b[0;31mValueError\u001b[0m                                Traceback (most recent call last)",
      "Input \u001b[0;32mIn [29]\u001b[0m, in \u001b[0;36m<cell line: 1>\u001b[0;34m()\u001b[0m\n\u001b[0;32m----> 1\u001b[0m e,f \u001b[38;5;241m=\u001b[39m marx_tuple\n",
      "\u001b[0;31mValueError\u001b[0m: too many values to unpack (expected 2)"
     ]
    }
   ],
   "source": [
    "e,f = marx_tuple"
   ]
  },
  {
   "cell_type": "markdown",
   "id": "5e600cd8-cee7-43c0-bc2f-15d9cc71744f",
   "metadata": {},
   "source": [
    "___"
   ]
  },
  {
   "cell_type": "code",
   "execution_count": 32,
   "id": "ff03c49d-e9ef-4fa7-8686-25ba942a8ced",
   "metadata": {},
   "outputs": [],
   "source": [
    "# using tuples to exchange values in one statement wiwthout using a temp variable"
   ]
  },
  {
   "cell_type": "code",
   "execution_count": 33,
   "id": "1b871c7a-e1ca-49c1-abc6-e6265555e180",
   "metadata": {},
   "outputs": [],
   "source": [
    "password = 'swordfish'"
   ]
  },
  {
   "cell_type": "code",
   "execution_count": 34,
   "id": "bd450015-f312-48d6-bea7-745eea8218ef",
   "metadata": {},
   "outputs": [],
   "source": [
    "icecream = 'vanilla'"
   ]
  },
  {
   "cell_type": "code",
   "execution_count": 35,
   "id": "feb56419-2283-428d-87ce-ac95358596c1",
   "metadata": {},
   "outputs": [],
   "source": [
    "password, icecream = icecream, password"
   ]
  },
  {
   "cell_type": "code",
   "execution_count": 36,
   "id": "bd57bd27-efea-4c00-a1c5-d69b9b21dbe8",
   "metadata": {},
   "outputs": [
    {
     "data": {
      "text/plain": [
       "'vanilla'"
      ]
     },
     "execution_count": 36,
     "metadata": {},
     "output_type": "execute_result"
    }
   ],
   "source": [
    "password"
   ]
  },
  {
   "cell_type": "code",
   "execution_count": 37,
   "id": "f176fd1e-66cc-4789-ba46-f415943fc04e",
   "metadata": {},
   "outputs": [
    {
     "data": {
      "text/plain": [
       "'swordfish'"
      ]
     },
     "execution_count": 37,
     "metadata": {},
     "output_type": "execute_result"
    }
   ],
   "source": [
    "icecream"
   ]
  },
  {
   "cell_type": "markdown",
   "id": "442405e9-5935-4675-bc82-482ad0102ba1",
   "metadata": {},
   "source": [
    "---"
   ]
  },
  {
   "cell_type": "markdown",
   "id": "20b4ccb0-73e7-4256-b5bb-42aa4d485e31",
   "metadata": {},
   "source": [
    "### tuple conversion"
   ]
  },
  {
   "cell_type": "code",
   "execution_count": 38,
   "id": "44bec4d7-ecf2-473f-822f-2d1c817de113",
   "metadata": {},
   "outputs": [],
   "source": [
    "mylist = [1,2,3]"
   ]
  },
  {
   "cell_type": "code",
   "execution_count": 39,
   "id": "6c326fd8-5999-4112-a33c-aa03252e34f1",
   "metadata": {},
   "outputs": [],
   "source": [
    "mytuple = tuple(mylist)"
   ]
  },
  {
   "cell_type": "code",
   "execution_count": 40,
   "id": "64b46e7e-2414-4b95-afbd-d05bea76c3d8",
   "metadata": {},
   "outputs": [
    {
     "data": {
      "text/plain": [
       "(1, 2, 3)"
      ]
     },
     "execution_count": 40,
     "metadata": {},
     "output_type": "execute_result"
    }
   ],
   "source": [
    "mytuple"
   ]
  },
  {
   "cell_type": "code",
   "execution_count": 41,
   "id": "5ac461b0-49fe-4b13-8ba8-b0157a61ca54",
   "metadata": {},
   "outputs": [],
   "source": [
    "# combine using +"
   ]
  },
  {
   "cell_type": "code",
   "execution_count": 43,
   "id": "cd49bb1d-bb8d-4930-a931-9193d67252fe",
   "metadata": {},
   "outputs": [
    {
     "data": {
      "text/plain": [
       "(1, 2, 3)"
      ]
     },
     "execution_count": 43,
     "metadata": {},
     "output_type": "execute_result"
    }
   ],
   "source": [
    "(1,) + (2, + 3)"
   ]
  },
  {
   "cell_type": "code",
   "execution_count": 44,
   "id": "4c97a31a-6791-4a96-8e7f-3991ff536ee6",
   "metadata": {},
   "outputs": [],
   "source": [
    "# duplicate items with *"
   ]
  },
  {
   "cell_type": "code",
   "execution_count": 45,
   "id": "ee1a5e89-a8a4-4691-8f24-95880f15ccce",
   "metadata": {},
   "outputs": [],
   "source": [
    "mytuple = ('yada', ) * 3"
   ]
  },
  {
   "cell_type": "code",
   "execution_count": 46,
   "id": "b14f5073-0420-412a-9368-673810c52ad2",
   "metadata": {},
   "outputs": [
    {
     "data": {
      "text/plain": [
       "('yada', 'yada', 'yada')"
      ]
     },
     "execution_count": 46,
     "metadata": {},
     "output_type": "execute_result"
    }
   ],
   "source": [
    "mytuple"
   ]
  },
  {
   "cell_type": "code",
   "execution_count": 47,
   "id": "b213784b-4794-479d-b74b-39b511a03517",
   "metadata": {},
   "outputs": [],
   "source": [
    "mytuple2 = ('a', 'b') * 4"
   ]
  },
  {
   "cell_type": "code",
   "execution_count": 48,
   "id": "bdba44a3-f1ef-4d06-9368-b7e1090ad560",
   "metadata": {},
   "outputs": [
    {
     "data": {
      "text/plain": [
       "('a', 'b', 'a', 'b', 'a', 'b', 'a', 'b')"
      ]
     },
     "execution_count": 48,
     "metadata": {},
     "output_type": "execute_result"
    }
   ],
   "source": [
    "mytuple2"
   ]
  },
  {
   "cell_type": "markdown",
   "id": "f73af8bd-b474-49b5-a4f5-d2e1dd37cfc8",
   "metadata": {},
   "source": [
    "---"
   ]
  },
  {
   "cell_type": "markdown",
   "id": "8e37ad18-a9c9-444f-81c8-44b717e599c5",
   "metadata": {},
   "source": [
    "## tuple comparison"
   ]
  },
  {
   "cell_type": "code",
   "execution_count": 49,
   "id": "be9dfbef-5e34-41c6-ba48-6f55803fef11",
   "metadata": {},
   "outputs": [],
   "source": [
    "a = (1,2,3)"
   ]
  },
  {
   "cell_type": "code",
   "execution_count": 50,
   "id": "240e99e2-65d5-4685-9c7d-c5ab57a6beae",
   "metadata": {},
   "outputs": [],
   "source": [
    "b = (4,5)"
   ]
  },
  {
   "cell_type": "code",
   "execution_count": 51,
   "id": "c622f772-4105-41d4-8622-d1aa292a737d",
   "metadata": {},
   "outputs": [
    {
     "data": {
      "text/plain": [
       "False"
      ]
     },
     "execution_count": 51,
     "metadata": {},
     "output_type": "execute_result"
    }
   ],
   "source": [
    "a == b"
   ]
  },
  {
   "cell_type": "code",
   "execution_count": 52,
   "id": "743d65fb-2808-473b-bfd1-c6b06e4e918c",
   "metadata": {},
   "outputs": [
    {
     "data": {
      "text/plain": [
       "True"
      ]
     },
     "execution_count": 52,
     "metadata": {},
     "output_type": "execute_result"
    }
   ],
   "source": [
    "b> a"
   ]
  },
  {
   "cell_type": "code",
   "execution_count": 53,
   "id": "0739bf63-f5b6-40ab-b2da-1baad204f75b",
   "metadata": {},
   "outputs": [
    {
     "data": {
      "text/plain": [
       "True"
      ]
     },
     "execution_count": 53,
     "metadata": {},
     "output_type": "execute_result"
    }
   ],
   "source": [
    "a<=b"
   ]
  },
  {
   "cell_type": "markdown",
   "id": "afefae34-06fa-43b9-bb8d-202e7a61f336",
   "metadata": {},
   "source": [
    "---"
   ]
  },
  {
   "cell_type": "markdown",
   "id": "7c4a05f6-abea-4b16-b086-40988fd674d9",
   "metadata": {},
   "source": [
    "### Tuple iterations"
   ]
  },
  {
   "cell_type": "code",
   "execution_count": 54,
   "id": "49391405-3675-4258-b2a9-6a26eb966740",
   "metadata": {},
   "outputs": [],
   "source": [
    "mytuple3 = (1,2,3)* 5"
   ]
  },
  {
   "cell_type": "code",
   "execution_count": 55,
   "id": "8d07b294-cb8a-47a6-b173-1d5d6c7a72bf",
   "metadata": {},
   "outputs": [
    {
     "name": "stdout",
     "output_type": "stream",
     "text": [
      "1\n",
      "2\n",
      "3\n",
      "1\n",
      "2\n",
      "3\n",
      "1\n",
      "2\n",
      "3\n",
      "1\n",
      "2\n",
      "3\n",
      "1\n",
      "2\n",
      "3\n"
     ]
    }
   ],
   "source": [
    "for item in mytuple3:\n",
    "    print(item)"
   ]
  },
  {
   "cell_type": "markdown",
   "id": "5d4fd7cf-3371-4c39-bdb2-7de3cb57a6a1",
   "metadata": {},
   "source": [
    "### Modify a Tuple"
   ]
  },
  {
   "cell_type": "markdown",
   "id": "e43c88d8-a539-4be7-ba36-4acc151a920e",
   "metadata": {},
   "source": [
    "#### You cant -- however you can combine"
   ]
  },
  {
   "cell_type": "code",
   "execution_count": 56,
   "id": "136e8170-dd30-4502-a124-8e5cb718b83f",
   "metadata": {},
   "outputs": [],
   "source": [
    "a = (1,2,3)"
   ]
  },
  {
   "cell_type": "code",
   "execution_count": 57,
   "id": "b8037364-8585-49c3-a1a1-36dbd78fdcb9",
   "metadata": {},
   "outputs": [],
   "source": [
    "b = (4,5)"
   ]
  },
  {
   "cell_type": "code",
   "execution_count": 58,
   "id": "2a741482-9d52-4d9d-9552-7e77173b2843",
   "metadata": {},
   "outputs": [
    {
     "data": {
      "text/plain": [
       "(1, 2, 3, 4, 5)"
      ]
     },
     "execution_count": 58,
     "metadata": {},
     "output_type": "execute_result"
    }
   ],
   "source": [
    "a+b"
   ]
  },
  {
   "cell_type": "code",
   "execution_count": 59,
   "id": "f2415e26-4c8e-4267-9a02-28abb8ca827d",
   "metadata": {},
   "outputs": [],
   "source": [
    "a = a+b"
   ]
  },
  {
   "cell_type": "code",
   "execution_count": 60,
   "id": "55477b8c-d980-471b-bc97-7c36b18bc435",
   "metadata": {},
   "outputs": [
    {
     "data": {
      "text/plain": [
       "(1, 2, 3, 4, 5)"
      ]
     },
     "execution_count": 60,
     "metadata": {},
     "output_type": "execute_result"
    }
   ],
   "source": [
    "a"
   ]
  },
  {
   "cell_type": "markdown",
   "id": "0d231bf9-e7f5-4044-b54b-cf2a2f21051a",
   "metadata": {},
   "source": [
    "<font color = red> this isn't the same a. The variable is now pointing to a new value -- modifying the existing value"
   ]
  },
  {
   "cell_type": "code",
   "execution_count": 61,
   "id": "dcf7de86-586b-4266-b8ab-19c33d20957c",
   "metadata": {},
   "outputs": [],
   "source": [
    "c = (1,2,3)"
   ]
  },
  {
   "cell_type": "code",
   "execution_count": 62,
   "id": "685b7ad8-7077-4f65-8fcf-2f9be545fb10",
   "metadata": {},
   "outputs": [],
   "source": [
    "d = (4,5)"
   ]
  },
  {
   "cell_type": "code",
   "execution_count": 63,
   "id": "d7726855-9ef7-434a-828a-6a4af6645a2c",
   "metadata": {},
   "outputs": [
    {
     "data": {
      "text/plain": [
       "140647711123328"
      ]
     },
     "execution_count": 63,
     "metadata": {},
     "output_type": "execute_result"
    }
   ],
   "source": [
    "id(c)"
   ]
  },
  {
   "cell_type": "code",
   "execution_count": 64,
   "id": "84b6614c-afbc-45fb-9fde-dec9e1f9ab50",
   "metadata": {},
   "outputs": [],
   "source": [
    "c = c + d"
   ]
  },
  {
   "cell_type": "code",
   "execution_count": 65,
   "id": "164dcc46-ebd6-447a-a099-b3703db2c001",
   "metadata": {},
   "outputs": [
    {
     "data": {
      "text/plain": [
       "(1, 2, 3, 4, 5)"
      ]
     },
     "execution_count": 65,
     "metadata": {},
     "output_type": "execute_result"
    }
   ],
   "source": [
    "c"
   ]
  },
  {
   "cell_type": "code",
   "execution_count": 67,
   "id": "a4c17c41-0b6d-41c6-9994-7a162f1f5b0a",
   "metadata": {},
   "outputs": [
    {
     "data": {
      "text/plain": [
       "140647715075232"
      ]
     },
     "execution_count": 67,
     "metadata": {},
     "output_type": "execute_result"
    }
   ],
   "source": [
    "id(c)"
   ]
  },
  {
   "cell_type": "code",
   "execution_count": 68,
   "id": "6990e276-2f83-4c87-ae94-1a8fcf3b57a3",
   "metadata": {},
   "outputs": [],
   "source": [
    "mytuple = (1,1,2,3)"
   ]
  },
  {
   "cell_type": "code",
   "execution_count": 69,
   "id": "029e0f03-4032-4244-8441-14c74f8ec08b",
   "metadata": {},
   "outputs": [
    {
     "data": {
      "text/plain": [
       "(1, 1, 2, 3)"
      ]
     },
     "execution_count": 69,
     "metadata": {},
     "output_type": "execute_result"
    }
   ],
   "source": [
    "mytuple"
   ]
  },
  {
   "cell_type": "code",
   "execution_count": 70,
   "id": "300ed0da-baac-4f60-9133-d4cdbfcc4655",
   "metadata": {},
   "outputs": [
    {
     "data": {
      "text/plain": [
       "tuple"
      ]
     },
     "execution_count": 70,
     "metadata": {},
     "output_type": "execute_result"
    }
   ],
   "source": [
    "type(mytuple)"
   ]
  },
  {
   "cell_type": "code",
   "execution_count": 73,
   "id": "cddb0dc6-260f-40eb-b504-e10c1cbc8eed",
   "metadata": {},
   "outputs": [],
   "source": [
    "mytuple = (1,2,3, \"hgelo\", True)"
   ]
  },
  {
   "cell_type": "code",
   "execution_count": 74,
   "id": "e450d6ce-6d05-40af-9b1f-5185d2e5c472",
   "metadata": {},
   "outputs": [
    {
     "data": {
      "text/plain": [
       "(1, 2, 3, 'hgelo', True)"
      ]
     },
     "execution_count": 74,
     "metadata": {},
     "output_type": "execute_result"
    }
   ],
   "source": [
    "mytuple"
   ]
  },
  {
   "cell_type": "markdown",
   "id": "849297a3-f55c-4591-8411-18f82293f1fc",
   "metadata": {},
   "source": [
    "---"
   ]
  },
  {
   "cell_type": "markdown",
   "id": "81678376-d7b7-44f5-8864-f4945b1c6c5a",
   "metadata": {
    "tags": []
   },
   "source": [
    "# Lists"
   ]
  },
  {
   "cell_type": "code",
   "execution_count": 75,
   "id": "aa7a9b65-7877-4e5d-a595-fa63bd65988b",
   "metadata": {},
   "outputs": [],
   "source": [
    "mylist1 = [1,2,3, \"b\", \"F\", {\"gr\": 12}, True]"
   ]
  },
  {
   "cell_type": "code",
   "execution_count": 76,
   "id": "71db9363-cce4-4c33-9239-2b8895542f23",
   "metadata": {},
   "outputs": [
    {
     "data": {
      "text/plain": [
       "[1, 2, 3, 'b', 'F', {'gr': 12}, True]"
      ]
     },
     "execution_count": 76,
     "metadata": {},
     "output_type": "execute_result"
    }
   ],
   "source": [
    "mylist1"
   ]
  },
  {
   "cell_type": "code",
   "execution_count": 77,
   "id": "eb5103c5-9c19-4ce0-b041-5f5dc6c78c8a",
   "metadata": {},
   "outputs": [],
   "source": [
    "mylist2 = list()"
   ]
  },
  {
   "cell_type": "code",
   "execution_count": 80,
   "id": "26bf45c0-9879-4d13-a4a1-f092e1cdc44e",
   "metadata": {},
   "outputs": [],
   "source": [
    "# this is an empty list"
   ]
  },
  {
   "cell_type": "code",
   "execution_count": 79,
   "id": "bdca9081-cb95-4630-882b-5919e332f601",
   "metadata": {},
   "outputs": [
    {
     "data": {
      "text/plain": [
       "[]"
      ]
     },
     "execution_count": 79,
     "metadata": {},
     "output_type": "execute_result"
    }
   ],
   "source": [
    "mylist2"
   ]
  },
  {
   "cell_type": "markdown",
   "id": "a69b5aca-f89f-4eee-a392-5903b085b7ef",
   "metadata": {},
   "source": [
    "### Converting Stings to List"
   ]
  },
  {
   "cell_type": "code",
   "execution_count": 81,
   "id": "07d0a92c-67b5-4bba-8383-9125f2e02ab9",
   "metadata": {},
   "outputs": [],
   "source": [
    "mystring = 'Z=ibaJoon'"
   ]
  },
  {
   "cell_type": "code",
   "execution_count": 82,
   "id": "75dda391-c328-4c97-80b4-b2d0c137e213",
   "metadata": {},
   "outputs": [],
   "source": [
    "mylist2 = list(mystring)"
   ]
  },
  {
   "cell_type": "code",
   "execution_count": 83,
   "id": "ea6c3710-5199-4c88-9120-056a57551f9b",
   "metadata": {},
   "outputs": [
    {
     "data": {
      "text/plain": [
       "['Z', '=', 'i', 'b', 'a', 'J', 'o', 'o', 'n']"
      ]
     },
     "execution_count": 83,
     "metadata": {},
     "output_type": "execute_result"
    }
   ],
   "source": [
    "mylist2"
   ]
  },
  {
   "cell_type": "markdown",
   "id": "609079e5-64f6-4493-9bb7-d5d1a6eace60",
   "metadata": {},
   "source": [
    "### Converting tuple to List"
   ]
  },
  {
   "cell_type": "code",
   "execution_count": 84,
   "id": "7f5c4aea-ed7b-485a-9094-2bb60c3e2060",
   "metadata": {},
   "outputs": [],
   "source": [
    "mytuple = (1,2,3,4)"
   ]
  },
  {
   "cell_type": "code",
   "execution_count": 85,
   "id": "f71d064d-32ce-4b42-a0dd-0dd00ae9112a",
   "metadata": {},
   "outputs": [],
   "source": [
    "mylist3 = list(mytuple)"
   ]
  },
  {
   "cell_type": "code",
   "execution_count": 86,
   "id": "6a341a6a-3981-49b4-b632-f3f820f00ced",
   "metadata": {},
   "outputs": [
    {
     "data": {
      "text/plain": [
       "[1, 2, 3, 4]"
      ]
     },
     "execution_count": 86,
     "metadata": {},
     "output_type": "execute_result"
    }
   ],
   "source": [
    "mylist3"
   ]
  },
  {
   "cell_type": "markdown",
   "id": "5384822f-2e32-4d07-9943-01bf70de00ed",
   "metadata": {},
   "source": [
    "### Creating from a string with split"
   ]
  },
  {
   "cell_type": "code",
   "execution_count": 87,
   "id": "1cffd7eb-b777-4b9d-aa09-44da41da55ff",
   "metadata": {},
   "outputs": [],
   "source": [
    "# split is used on a string"
   ]
  },
  {
   "cell_type": "code",
   "execution_count": 88,
   "id": "896634bf-6825-41eb-8218-6bac62f86a9e",
   "metadata": {},
   "outputs": [],
   "source": [
    "mystring3 = 'hello there how are you'"
   ]
  },
  {
   "cell_type": "code",
   "execution_count": 89,
   "id": "45f22956-1aab-45f9-aaf6-a70caa6cfb09",
   "metadata": {},
   "outputs": [
    {
     "data": {
      "text/plain": [
       "['hello', 'there', 'how', 'are', 'you']"
      ]
     },
     "execution_count": 89,
     "metadata": {},
     "output_type": "execute_result"
    }
   ],
   "source": [
    "mystring3.split()"
   ]
  },
  {
   "cell_type": "code",
   "execution_count": 90,
   "id": "6dc90390-bab7-4fc6-969e-0dea254014e4",
   "metadata": {},
   "outputs": [],
   "source": [
    "mylist4 = mystring3.split()"
   ]
  },
  {
   "cell_type": "code",
   "execution_count": 91,
   "id": "40e9608e-d95a-4eb8-abb5-cded54ac4a76",
   "metadata": {},
   "outputs": [
    {
     "data": {
      "text/plain": [
       "['hello', 'there', 'how', 'are', 'you']"
      ]
     },
     "execution_count": 91,
     "metadata": {},
     "output_type": "execute_result"
    }
   ],
   "source": [
    "mylist4"
   ]
  },
  {
   "cell_type": "code",
   "execution_count": 92,
   "id": "dde9d87b-f1a7-4b2f-a19a-3038f96154f9",
   "metadata": {},
   "outputs": [
    {
     "data": {
      "text/plain": [
       "140647708474944"
      ]
     },
     "execution_count": 92,
     "metadata": {},
     "output_type": "execute_result"
    }
   ],
   "source": [
    "id(mylist4)"
   ]
  },
  {
   "cell_type": "code",
   "execution_count": 93,
   "id": "b66dfe3a-4341-4372-b81d-a9b4ac6c9de5",
   "metadata": {},
   "outputs": [],
   "source": [
    "mystring4 = '1/2/3/4/5'"
   ]
  },
  {
   "cell_type": "code",
   "execution_count": 94,
   "id": "608b2ca8-e6b5-4c08-a1ed-de8ce131c334",
   "metadata": {},
   "outputs": [],
   "source": [
    "mylist4 = mystring4.split('/')"
   ]
  },
  {
   "cell_type": "code",
   "execution_count": 95,
   "id": "41933185-672b-43a6-aa18-49f0a3c1b9c7",
   "metadata": {},
   "outputs": [
    {
     "data": {
      "text/plain": [
       "['1', '2', '3', '4', '5']"
      ]
     },
     "execution_count": 95,
     "metadata": {},
     "output_type": "execute_result"
    }
   ],
   "source": [
    "mylist4"
   ]
  },
  {
   "attachments": {
    "e4f4af23-7d94-4b5d-9dc8-a9d610ff5d2d.png": {
     "image/png": "[encoded data removed]"
    }
   },
   "cell_type": "markdown",
   "id": "3ab94f6d-c3f8-4972-8089-2e881e4bc1c1",
   "metadata": {},
   "source": [
    "![image.png](attachment:e4f4af23-7d94-4b5d-9dc8-a9d610ff5d2d.png)"
   ]
  },
  {
   "cell_type": "code",
   "execution_count": 96,
   "id": "7036edc2-228c-4369-a212-6d8506482de6",
   "metadata": {},
   "outputs": [],
   "source": [
    "c = 'a//b///r/t/y/y/v///y'"
   ]
  },
  {
   "cell_type": "code",
   "execution_count": 97,
   "id": "8e37a376-a541-4987-92bc-1bd929eff13b",
   "metadata": {},
   "outputs": [
    {
     "data": {
      "text/plain": [
       "['a', '', 'b', '', '', 'r', 't', 'y', 'y', 'v', '', '', 'y']"
      ]
     },
     "execution_count": 97,
     "metadata": {},
     "output_type": "execute_result"
    }
   ],
   "source": [
    "c.split('/')"
   ]
  },
  {
   "cell_type": "code",
   "execution_count": 98,
   "id": "c07033b0-6397-4c64-8511-4da38a587ad9",
   "metadata": {},
   "outputs": [],
   "source": [
    "# if you used a // instead"
   ]
  },
  {
   "cell_type": "code",
   "execution_count": 99,
   "id": "ac5a77f8-1ad1-4fbc-9909-48cb7b4124ed",
   "metadata": {},
   "outputs": [
    {
     "data": {
      "text/plain": [
       "['a', 'b', '/r/t/y/y/v', '/y']"
      ]
     },
     "execution_count": 99,
     "metadata": {},
     "output_type": "execute_result"
    }
   ],
   "source": [
    "c.split('//')"
   ]
  },
  {
   "cell_type": "code",
   "execution_count": 100,
   "id": "495bfcaf-f3ec-4b4c-9800-de1348be9a32",
   "metadata": {},
   "outputs": [],
   "source": [
    "# this is wierd"
   ]
  },
  {
   "cell_type": "markdown",
   "id": "dd274b3b-65b0-4cd7-829a-c4617b8f62cc",
   "metadata": {},
   "source": [
    "---"
   ]
  },
  {
   "cell_type": "code",
   "execution_count": 101,
   "id": "a9bb84dc-aa62-4d95-8cd5-45880974bd54",
   "metadata": {},
   "outputs": [],
   "source": [
    "d = [1,2,3,4,5]"
   ]
  },
  {
   "cell_type": "code",
   "execution_count": 102,
   "id": "43d6b74e-e343-4abb-81dc-2ae31268aac8",
   "metadata": {},
   "outputs": [
    {
     "data": {
      "text/plain": [
       "5"
      ]
     },
     "execution_count": 102,
     "metadata": {},
     "output_type": "execute_result"
    }
   ],
   "source": [
    "d[4]"
   ]
  },
  {
   "cell_type": "code",
   "execution_count": 103,
   "id": "d8b9c60d-6f71-4003-ba3c-c87f1f934f75",
   "metadata": {},
   "outputs": [
    {
     "data": {
      "text/plain": [
       "5"
      ]
     },
     "execution_count": 103,
     "metadata": {},
     "output_type": "execute_result"
    }
   ],
   "source": [
    "d[-1]"
   ]
  },
  {
   "cell_type": "markdown",
   "id": "2dd4cc1a-1982-4479-802a-6792f96fa569",
   "metadata": {},
   "source": [
    "---"
   ]
  },
  {
   "cell_type": "markdown",
   "id": "7e0c9f36-1ccb-42af-9f00-bb4ebb49fbed",
   "metadata": {},
   "source": [
    "#### using SLICE"
   ]
  },
  {
   "cell_type": "code",
   "execution_count": 104,
   "id": "f468a584-ac72-4d39-9319-29eb5e304ec0",
   "metadata": {},
   "outputs": [],
   "source": [
    "e = [1,2,3,4,5,6,7,8,9,10,11]"
   ]
  },
  {
   "cell_type": "code",
   "execution_count": 105,
   "id": "4fe49cda-fe05-4b42-85df-14a3de92859f",
   "metadata": {},
   "outputs": [
    {
     "data": {
      "text/plain": [
       "[3, 4]"
      ]
     },
     "execution_count": 105,
     "metadata": {},
     "output_type": "execute_result"
    }
   ],
   "source": [
    "e[2:4]"
   ]
  },
  {
   "cell_type": "code",
   "execution_count": 106,
   "id": "ad46f2d1-13bc-4f38-a1f1-5bed44fb0950",
   "metadata": {},
   "outputs": [
    {
     "data": {
      "text/plain": [
       "[3, 4, 5, 6, 7, 8, 9, 10, 11]"
      ]
     },
     "execution_count": 106,
     "metadata": {},
     "output_type": "execute_result"
    }
   ],
   "source": [
    "e[2:]"
   ]
  },
  {
   "cell_type": "code",
   "execution_count": 107,
   "id": "c33f60f0-c874-4378-914b-6661d0ac582c",
   "metadata": {},
   "outputs": [
    {
     "data": {
      "text/plain": [
       "[10, 11]"
      ]
     },
     "execution_count": 107,
     "metadata": {},
     "output_type": "execute_result"
    }
   ],
   "source": [
    "e[-2:]"
   ]
  },
  {
   "cell_type": "code",
   "execution_count": 108,
   "id": "2775397f-ded7-4b80-a257-7b49593f1ae8",
   "metadata": {},
   "outputs": [
    {
     "data": {
      "text/plain": [
       "[7, 8, 9]"
      ]
     },
     "execution_count": 108,
     "metadata": {},
     "output_type": "execute_result"
    }
   ],
   "source": [
    "e[-5:9]"
   ]
  },
  {
   "cell_type": "code",
   "execution_count": 109,
   "id": "e961e5bc-bb3d-404c-9655-2abec50dd813",
   "metadata": {},
   "outputs": [
    {
     "data": {
      "text/plain": [
       "[3, 6, 9]"
      ]
     },
     "execution_count": 109,
     "metadata": {},
     "output_type": "execute_result"
    }
   ],
   "source": [
    "e[2:10:3]"
   ]
  },
  {
   "cell_type": "code",
   "execution_count": 110,
   "id": "21119e5b-c021-4218-8eba-ad92b719b213",
   "metadata": {},
   "outputs": [
    {
     "ename": "TypeError",
     "evalue": "list indices must be integers or slices, not tuple",
     "output_type": "error",
     "traceback": [
      "\u001b[0;31m---------------------------------------------------------------------------\u001b[0m",
      "\u001b[0;31mTypeError\u001b[0m                                 Traceback (most recent call last)",
      "Input \u001b[0;32mIn [110]\u001b[0m, in \u001b[0;36m<cell line: 1>\u001b[0;34m()\u001b[0m\n\u001b[0;32m----> 1\u001b[0m \u001b[43me\u001b[49m\u001b[43m[\u001b[49m\u001b[38;5;241;43m2\u001b[39;49m\u001b[43m,\u001b[49m\u001b[38;5;241;43m10\u001b[39;49m\u001b[43m,\u001b[49m\u001b[38;5;241;43m-\u001b[39;49m\u001b[38;5;241;43m2\u001b[39;49m\u001b[43m]\u001b[49m\n",
      "\u001b[0;31mTypeError\u001b[0m: list indices must be integers or slices, not tuple"
     ]
    }
   ],
   "source": [
    "e[2,10,-2]"
   ]
  },
  {
   "cell_type": "code",
   "execution_count": 111,
   "id": "7dd10070-7fab-433d-b5ac-3809f1e3b8df",
   "metadata": {},
   "outputs": [
    {
     "data": {
      "text/plain": [
       "[1, 2]"
      ]
     },
     "execution_count": 111,
     "metadata": {},
     "output_type": "execute_result"
    }
   ],
   "source": [
    "e[:2]"
   ]
  },
  {
   "cell_type": "code",
   "execution_count": 112,
   "id": "59ae8143-1efa-4c07-b015-ee3730228e47",
   "metadata": {},
   "outputs": [
    {
     "data": {
      "text/plain": [
       "[1, 3, 5, 7, 9, 11]"
      ]
     },
     "execution_count": 112,
     "metadata": {},
     "output_type": "execute_result"
    }
   ],
   "source": [
    "e[::2]"
   ]
  },
  {
   "cell_type": "code",
   "execution_count": 113,
   "id": "a2c262de-655e-421a-bd58-112875b93c74",
   "metadata": {},
   "outputs": [
    {
     "data": {
      "text/plain": [
       "[11, 9, 7, 5, 3, 1]"
      ]
     },
     "execution_count": 113,
     "metadata": {},
     "output_type": "execute_result"
    }
   ],
   "source": [
    "e[::-2]"
   ]
  },
  {
   "cell_type": "code",
   "execution_count": 114,
   "id": "026a9bf5-6c7c-44c6-94f3-f05aca8cbead",
   "metadata": {},
   "outputs": [
    {
     "data": {
      "text/plain": [
       "[11, 10, 9, 8, 7, 6, 5, 4, 3, 2, 1]"
      ]
     },
     "execution_count": 114,
     "metadata": {},
     "output_type": "execute_result"
    }
   ],
   "source": [
    "e[::-1]"
   ]
  },
  {
   "cell_type": "markdown",
   "id": "023a3464-4490-42b4-99dd-459ef953e68f",
   "metadata": {},
   "source": [
    "### none of this changes the list itself"
   ]
  },
  {
   "cell_type": "code",
   "execution_count": 115,
   "id": "02ce70f5-1151-4ef8-bc4e-832f8f08a250",
   "metadata": {},
   "outputs": [],
   "source": [
    "e.reverse()"
   ]
  },
  {
   "cell_type": "code",
   "execution_count": 116,
   "id": "00a4ba5c-07f1-47db-a0cc-deb08f8ec338",
   "metadata": {},
   "outputs": [
    {
     "data": {
      "text/plain": [
       "[11, 10, 9, 8, 7, 6, 5, 4, 3, 2, 1]"
      ]
     },
     "execution_count": 116,
     "metadata": {},
     "output_type": "execute_result"
    }
   ],
   "source": [
    "e"
   ]
  },
  {
   "cell_type": "markdown",
   "id": "1cef3c1c-e230-431a-b4d2-4675672ed701",
   "metadata": {},
   "source": [
    "### however this does change things"
   ]
  },
  {
   "attachments": {
    "fa58ab97-06d7-4d75-8df7-c79ee063059d.png": {
     "image/png": "[encoded data removed]"
    }
   },
   "cell_type": "markdown",
   "id": "69c85dc0-8d92-41be-82f4-8c25824dfb2e",
   "metadata": {},
   "source": [
    "![image.png](attachment:fa58ab97-06d7-4d75-8df7-c79ee063059d.png)"
   ]
  },
  {
   "cell_type": "code",
   "execution_count": 117,
   "id": "011b71c5-1503-4ea9-8a69-c60660564148",
   "metadata": {},
   "outputs": [
    {
     "data": {
      "text/plain": [
       "[]"
      ]
     },
     "execution_count": 117,
     "metadata": {},
     "output_type": "execute_result"
    }
   ],
   "source": [
    "e[12:]"
   ]
  },
  {
   "cell_type": "markdown",
   "id": "e18dde40-70a6-40ee-ae66-f011326ff12d",
   "metadata": {},
   "source": [
    "<font color = red> note NO ERROR"
   ]
  },
  {
   "cell_type": "code",
   "execution_count": 120,
   "id": "aca688e2-a983-4dd6-8377-aaefe8e9b215",
   "metadata": {},
   "outputs": [
    {
     "data": {
      "text/plain": [
       "[11, 10, 9, 8, 7, 6, 5, 4, 3, 2, 1]"
      ]
     },
     "execution_count": 120,
     "metadata": {},
     "output_type": "execute_result"
    }
   ],
   "source": [
    "e[-13:]"
   ]
  },
  {
   "cell_type": "code",
   "execution_count": 121,
   "id": "f0c4bb3f-0002-40ca-ba67-680ee5631612",
   "metadata": {},
   "outputs": [
    {
     "data": {
      "text/plain": [
       "[5, 4, 3, 2, 1]"
      ]
     },
     "execution_count": 121,
     "metadata": {},
     "output_type": "execute_result"
    }
   ],
   "source": [
    "e[6:20]"
   ]
  },
  {
   "cell_type": "markdown",
   "id": "7e23a9f2-6c7d-40ff-9327-a0c97d377b9f",
   "metadata": {},
   "source": [
    "<font color = red> WHEN OUR OF RANGE IT WILL SNAP TO CLOSEST VALUE"
   ]
  },
  {
   "cell_type": "markdown",
   "id": "c9225512-1888-4200-9736-e11527823ee7",
   "metadata": {},
   "source": [
    "### Append"
   ]
  },
  {
   "cell_type": "code",
   "execution_count": 123,
   "id": "e33131d1-e8f3-4f60-b908-ad6f9d52b610",
   "metadata": {},
   "outputs": [
    {
     "data": {
      "text/plain": [
       "[11, 10, 9, 8, 7, 6, 5, 4, 3, 2, 1]"
      ]
     },
     "execution_count": 123,
     "metadata": {},
     "output_type": "execute_result"
    }
   ],
   "source": [
    "e"
   ]
  },
  {
   "cell_type": "code",
   "execution_count": 124,
   "id": "8e045e5c-04dd-4248-b0ec-e40ac32f05fc",
   "metadata": {},
   "outputs": [],
   "source": [
    "e.append(12)"
   ]
  },
  {
   "cell_type": "code",
   "execution_count": 125,
   "id": "aac93444-6020-4f14-add6-f7eb6954f5d3",
   "metadata": {},
   "outputs": [
    {
     "data": {
      "text/plain": [
       "[11, 10, 9, 8, 7, 6, 5, 4, 3, 2, 1, 12]"
      ]
     },
     "execution_count": 125,
     "metadata": {},
     "output_type": "execute_result"
    }
   ],
   "source": [
    "e"
   ]
  },
  {
   "cell_type": "markdown",
   "id": "9a68e05e-01c9-4d28-beeb-59653faea45d",
   "metadata": {},
   "source": [
    "### INSERT"
   ]
  },
  {
   "attachments": {
    "8b5deb9a-c1d6-432b-883d-cf60a9c9cdd7.png": {
     "image/png": "[encoded data removed]"
    }
   },
   "cell_type": "markdown",
   "id": "8f71a246-7028-4e1c-a8b0-97cd509dba83",
   "metadata": {},
   "source": [
    "![image.png](attachment:8b5deb9a-c1d6-432b-883d-cf60a9c9cdd7.png)"
   ]
  },
  {
   "cell_type": "code",
   "execution_count": 126,
   "id": "fb36ed19-41c4-4cb8-a32c-19ff9678ce73",
   "metadata": {},
   "outputs": [
    {
     "ename": "TypeError",
     "evalue": "'str' object cannot be interpreted as an integer",
     "output_type": "error",
     "traceback": [
      "\u001b[0;31m---------------------------------------------------------------------------\u001b[0m",
      "\u001b[0;31mTypeError\u001b[0m                                 Traceback (most recent call last)",
      "Input \u001b[0;32mIn [126]\u001b[0m, in \u001b[0;36m<cell line: 1>\u001b[0;34m()\u001b[0m\n\u001b[0;32m----> 1\u001b[0m \u001b[43me\u001b[49m\u001b[38;5;241;43m.\u001b[39;49m\u001b[43minsert\u001b[49m\u001b[43m(\u001b[49m\u001b[38;5;124;43m'\u001b[39;49m\u001b[38;5;124;43mabc\u001b[39;49m\u001b[38;5;124;43m'\u001b[39;49m\u001b[43m,\u001b[49m\u001b[43m \u001b[49m\u001b[38;5;241;43m6\u001b[39;49m\u001b[43m)\u001b[49m\n",
      "\u001b[0;31mTypeError\u001b[0m: 'str' object cannot be interpreted as an integer"
     ]
    }
   ],
   "source": [
    "e.insert('abc', 6)"
   ]
  },
  {
   "cell_type": "code",
   "execution_count": 127,
   "id": "9d49912c-dda2-406f-9634-0a60647ccdc8",
   "metadata": {},
   "outputs": [],
   "source": [
    "e.insert(6, 'abc')"
   ]
  },
  {
   "cell_type": "code",
   "execution_count": 128,
   "id": "929afe08-e995-47f7-8b99-a6ee2b14a0d8",
   "metadata": {},
   "outputs": [
    {
     "data": {
      "text/plain": [
       "[11, 10, 9, 8, 7, 6, 'abc', 5, 4, 3, 2, 1, 12]"
      ]
     },
     "execution_count": 128,
     "metadata": {},
     "output_type": "execute_result"
    }
   ],
   "source": [
    "e"
   ]
  },
  {
   "cell_type": "markdown",
   "id": "ead1a6c8-628c-4728-b9fe-9153167e6a20",
   "metadata": {},
   "source": [
    "### Duplicate"
   ]
  },
  {
   "cell_type": "code",
   "execution_count": 129,
   "id": "14e4175e-91b4-4142-9621-ae163a3bf3ca",
   "metadata": {},
   "outputs": [],
   "source": [
    "f = [1,2,3]"
   ]
  },
  {
   "cell_type": "code",
   "execution_count": 130,
   "id": "76f0a25b-b4b3-4bfa-b0b5-68d8c792e6f8",
   "metadata": {},
   "outputs": [
    {
     "data": {
      "text/plain": [
       "[1, 2, 3, 1, 2, 3, 1, 2, 3, 1, 2, 3]"
      ]
     },
     "execution_count": 130,
     "metadata": {},
     "output_type": "execute_result"
    }
   ],
   "source": [
    "f*4"
   ]
  },
  {
   "cell_type": "markdown",
   "id": "41119f74-4a8b-4492-8147-5401d81f419d",
   "metadata": {},
   "source": [
    "---"
   ]
  },
  {
   "cell_type": "markdown",
   "id": "50b6547f-4472-4b12-987a-3a4d143bdaa2",
   "metadata": {},
   "source": [
    "### Combine lists with EXTEND or +"
   ]
  },
  {
   "cell_type": "code",
   "execution_count": 131,
   "id": "94224926-933e-4650-bb53-e2cbaa841ef4",
   "metadata": {},
   "outputs": [],
   "source": [
    "g = [1,2,3]"
   ]
  },
  {
   "cell_type": "code",
   "execution_count": 132,
   "id": "5dc2e159-31e6-4aaf-a766-97c1fb69ee3a",
   "metadata": {},
   "outputs": [],
   "source": [
    "h = [5,6,7,8]"
   ]
  },
  {
   "cell_type": "code",
   "execution_count": 133,
   "id": "73146ae7-41b0-4139-8e8d-2c4092e9d1f7",
   "metadata": {},
   "outputs": [],
   "source": [
    "g.extend(h)"
   ]
  },
  {
   "cell_type": "code",
   "execution_count": 134,
   "id": "32a6f470-9425-4523-82ae-b3d8282a9c07",
   "metadata": {},
   "outputs": [
    {
     "data": {
      "text/plain": [
       "[1, 2, 3, 5, 6, 7, 8]"
      ]
     },
     "execution_count": 134,
     "metadata": {},
     "output_type": "execute_result"
    }
   ],
   "source": [
    "g"
   ]
  },
  {
   "cell_type": "code",
   "execution_count": 135,
   "id": "e5377c9a-9d22-44d2-b1ee-e446463c84a6",
   "metadata": {},
   "outputs": [],
   "source": [
    "h.extend(g)"
   ]
  },
  {
   "cell_type": "code",
   "execution_count": 136,
   "id": "16896887-e7ea-435d-b10d-560f8738007d",
   "metadata": {},
   "outputs": [
    {
     "data": {
      "text/plain": [
       "[5, 6, 7, 8, 1, 2, 3, 5, 6, 7, 8]"
      ]
     },
     "execution_count": 136,
     "metadata": {},
     "output_type": "execute_result"
    }
   ],
   "source": [
    "h"
   ]
  },
  {
   "cell_type": "code",
   "execution_count": 137,
   "id": "e1af472f-3e0a-4c1a-adaa-2bdb7259cf73",
   "metadata": {},
   "outputs": [
    {
     "data": {
      "text/plain": [
       "[1, 2, 3, 5, 6, 7, 8, 5, 6, 7, 8, 1, 2, 3, 5, 6, 7, 8]"
      ]
     },
     "execution_count": 137,
     "metadata": {},
     "output_type": "execute_result"
    }
   ],
   "source": [
    "g+h"
   ]
  },
  {
   "cell_type": "code",
   "execution_count": 138,
   "id": "b2367057-9127-4e3e-8624-77dd60d34719",
   "metadata": {},
   "outputs": [
    {
     "data": {
      "text/plain": [
       "[1, 2, 3, 5, 6, 7, 8]"
      ]
     },
     "execution_count": 138,
     "metadata": {},
     "output_type": "execute_result"
    }
   ],
   "source": [
    "g"
   ]
  },
  {
   "cell_type": "code",
   "execution_count": 139,
   "id": "205356ba-0820-46bc-ab38-24a1fab402fc",
   "metadata": {},
   "outputs": [
    {
     "data": {
      "text/plain": [
       "[5, 6, 7, 8, 1, 2, 3, 5, 6, 7, 8]"
      ]
     },
     "execution_count": 139,
     "metadata": {},
     "output_type": "execute_result"
    }
   ],
   "source": [
    "h"
   ]
  },
  {
   "cell_type": "code",
   "execution_count": 140,
   "id": "37fb2bbf-09e7-4a89-8ad0-054123a8053b",
   "metadata": {},
   "outputs": [],
   "source": [
    "g += h"
   ]
  },
  {
   "cell_type": "code",
   "execution_count": 141,
   "id": "44c6f95f-b61e-4583-8210-81cbf9277c16",
   "metadata": {},
   "outputs": [
    {
     "data": {
      "text/plain": [
       "[1, 2, 3, 5, 6, 7, 8, 5, 6, 7, 8, 1, 2, 3, 5, 6, 7, 8]"
      ]
     },
     "execution_count": 141,
     "metadata": {},
     "output_type": "execute_result"
    }
   ],
   "source": [
    "g"
   ]
  },
  {
   "cell_type": "code",
   "execution_count": 146,
   "id": "92ea5865-bc2e-43f9-830a-b5c6e0380c13",
   "metadata": {},
   "outputs": [],
   "source": [
    "g += h"
   ]
  },
  {
   "cell_type": "code",
   "execution_count": 147,
   "id": "4c0e80ce-e68a-401f-9a09-9269c05a765b",
   "metadata": {},
   "outputs": [
    {
     "data": {
      "text/plain": [
       "[1,\n",
       " 2,\n",
       " 3,\n",
       " 5,\n",
       " 6,\n",
       " 7,\n",
       " 8,\n",
       " 5,\n",
       " 6,\n",
       " 7,\n",
       " 8,\n",
       " 1,\n",
       " 2,\n",
       " 3,\n",
       " 5,\n",
       " 6,\n",
       " 7,\n",
       " 8,\n",
       " 5,\n",
       " 6,\n",
       " 7,\n",
       " 8,\n",
       " 1,\n",
       " 2,\n",
       " 3,\n",
       " 5,\n",
       " 6,\n",
       " 7,\n",
       " 8,\n",
       " 5,\n",
       " 6,\n",
       " 7,\n",
       " 8,\n",
       " 1,\n",
       " 2,\n",
       " 3,\n",
       " 5,\n",
       " 6,\n",
       " 7,\n",
       " 8,\n",
       " 5,\n",
       " 6,\n",
       " 7,\n",
       " 8,\n",
       " 1,\n",
       " 2,\n",
       " 3,\n",
       " 5,\n",
       " 6,\n",
       " 7,\n",
       " 8]"
      ]
     },
     "execution_count": 147,
     "metadata": {},
     "output_type": "execute_result"
    }
   ],
   "source": [
    "g"
   ]
  },
  {
   "cell_type": "code",
   "execution_count": 148,
   "id": "9bb04396-305d-4afe-98a8-17da80efebda",
   "metadata": {},
   "outputs": [],
   "source": [
    "i = [1,2,3,4]"
   ]
  },
  {
   "cell_type": "code",
   "execution_count": 149,
   "id": "9294e9fa-ec6c-4548-95b6-e109b7ee11e3",
   "metadata": {},
   "outputs": [],
   "source": [
    "j = [5,6,7,8]"
   ]
  },
  {
   "cell_type": "code",
   "execution_count": 150,
   "id": "5425b331-f201-4499-a681-5d80c6e14d4c",
   "metadata": {},
   "outputs": [],
   "source": [
    "i.append(j)"
   ]
  },
  {
   "cell_type": "code",
   "execution_count": 151,
   "id": "fd7894d0-b680-4653-b0dc-5f222ac7e8f4",
   "metadata": {},
   "outputs": [
    {
     "data": {
      "text/plain": [
       "[1, 2, 3, 4, [5, 6, 7, 8]]"
      ]
     },
     "execution_count": 151,
     "metadata": {},
     "output_type": "execute_result"
    }
   ],
   "source": [
    "i"
   ]
  },
  {
   "cell_type": "code",
   "execution_count": 152,
   "id": "b56f6d2e-8274-4389-bb1c-06ac52395788",
   "metadata": {},
   "outputs": [],
   "source": [
    "# j has been added a single item"
   ]
  },
  {
   "cell_type": "markdown",
   "id": "0119ae9b-7379-452d-8eaa-f2fffb7b1141",
   "metadata": {},
   "source": [
    "#### Change a list by offset"
   ]
  },
  {
   "cell_type": "code",
   "execution_count": 153,
   "id": "33302226-3b84-46f0-9b8a-946c600b3c0e",
   "metadata": {},
   "outputs": [],
   "source": [
    "k = ['a', 'b', 1,2,3]"
   ]
  },
  {
   "cell_type": "code",
   "execution_count": 154,
   "id": "3d4156a9-853b-48fd-9cde-18ae759bcef6",
   "metadata": {},
   "outputs": [],
   "source": [
    "k[2] = 'C'"
   ]
  },
  {
   "cell_type": "code",
   "execution_count": 155,
   "id": "037453b2-6fe7-475f-b07e-84b7c83d5c61",
   "metadata": {},
   "outputs": [
    {
     "data": {
      "text/plain": [
       "['a', 'b', 'C', 2, 3]"
      ]
     },
     "execution_count": 155,
     "metadata": {},
     "output_type": "execute_result"
    }
   ],
   "source": [
    "k"
   ]
  },
  {
   "cell_type": "markdown",
   "id": "cadd226c-ad54-4073-85ff-8e8c7e42c9e1",
   "metadata": {},
   "source": [
    "---"
   ]
  },
  {
   "cell_type": "markdown",
   "id": "5cce98a3-2826-404e-911a-10629f1dcd74",
   "metadata": {},
   "source": [
    "### Change items with a slice"
   ]
  },
  {
   "cell_type": "code",
   "execution_count": 156,
   "id": "5aad6d1a-a168-4e8b-b8aa-1e4b2dfaea8e",
   "metadata": {},
   "outputs": [],
   "source": [
    "num = [0,1,2,3,4,5,6,7,8,9,10]"
   ]
  },
  {
   "cell_type": "code",
   "execution_count": 159,
   "id": "1e067397-0653-4f8e-b232-9f03e9153daa",
   "metadata": {},
   "outputs": [],
   "source": [
    "num[2:4] = ['c','d']"
   ]
  },
  {
   "cell_type": "code",
   "execution_count": 160,
   "id": "b4011b47-1d3b-4e24-baa6-a88a4dc1bd96",
   "metadata": {},
   "outputs": [
    {
     "data": {
      "text/plain": [
       "[0, 1, 'c', 'd', 4, 5, 6, 7, 8, 9, 10]"
      ]
     },
     "execution_count": 160,
     "metadata": {},
     "output_type": "execute_result"
    }
   ],
   "source": [
    "num"
   ]
  },
  {
   "cell_type": "code",
   "execution_count": 161,
   "id": "b444dc7c-6bcf-4714-aea3-3aeae6ceaca2",
   "metadata": {},
   "outputs": [],
   "source": [
    "# does not even have to be the same number of items"
   ]
  },
  {
   "cell_type": "code",
   "execution_count": 162,
   "id": "cebfc796-0a93-4591-80c0-2b5ca4c4ebad",
   "metadata": {},
   "outputs": [],
   "source": [
    "num[2:4] = [1,2,3,4,5,6]"
   ]
  },
  {
   "cell_type": "code",
   "execution_count": 163,
   "id": "00d75dd4-ce70-41d4-b8e4-7a2059541956",
   "metadata": {},
   "outputs": [
    {
     "data": {
      "text/plain": [
       "[0, 1, 1, 2, 3, 4, 5, 6, 4, 5, 6, 7, 8, 9, 10]"
      ]
     },
     "execution_count": 163,
     "metadata": {},
     "output_type": "execute_result"
    }
   ],
   "source": [
    "num"
   ]
  },
  {
   "cell_type": "code",
   "execution_count": 164,
   "id": "1ca3aa80-9807-4d66-b269-8e8f0d5587e6",
   "metadata": {},
   "outputs": [],
   "source": [
    "num[2:9] = []"
   ]
  },
  {
   "cell_type": "code",
   "execution_count": 165,
   "id": "9ebf9b67-50b2-4d05-b1f1-894e499f3ac1",
   "metadata": {},
   "outputs": [
    {
     "data": {
      "text/plain": [
       "[0, 1, 5, 6, 7, 8, 9, 10]"
      ]
     },
     "execution_count": 165,
     "metadata": {},
     "output_type": "execute_result"
    }
   ],
   "source": [
    "num"
   ]
  },
  {
   "cell_type": "markdown",
   "id": "a6172b7a-b476-4f72-86f0-d8f789e106c2",
   "metadata": {},
   "source": [
    "---"
   ]
  },
  {
   "cell_type": "code",
   "execution_count": 166,
   "id": "b1911404-64da-459e-9956-2fb7b4d01279",
   "metadata": {},
   "outputs": [],
   "source": [
    "# does not even have to be a list -- any iterable will do"
   ]
  },
  {
   "cell_type": "code",
   "execution_count": 169,
   "id": "4b563a5a-bf36-4a77-877d-bda08666be72",
   "metadata": {},
   "outputs": [],
   "source": [
    "num[2:4] = ('a', 'b', 'c', 'd','e')\n",
    "\n",
    "# slicing a tuple into a list"
   ]
  },
  {
   "cell_type": "code",
   "execution_count": 168,
   "id": "2810e6f3-2241-4a6b-815b-727a53ea4e77",
   "metadata": {},
   "outputs": [
    {
     "data": {
      "text/plain": [
       "[0, 1, 'a', 'b', 'c', 'd', 'e', 7, 8, 9, 10]"
      ]
     },
     "execution_count": 168,
     "metadata": {},
     "output_type": "execute_result"
    }
   ],
   "source": [
    "num"
   ]
  },
  {
   "cell_type": "markdown",
   "id": "eda521a2-e5de-46b8-a8db-3fb3319d5231",
   "metadata": {},
   "source": [
    "---"
   ]
  },
  {
   "cell_type": "code",
   "execution_count": 170,
   "id": "ead739f9-53c7-419c-8e35-b78ac2dd95c6",
   "metadata": {},
   "outputs": [],
   "source": [
    "num[2:4] = 'amazing'"
   ]
  },
  {
   "cell_type": "code",
   "execution_count": 172,
   "id": "92a1a85a-57a2-406c-9afa-1d829978b592",
   "metadata": {},
   "outputs": [
    {
     "name": "stdout",
     "output_type": "stream",
     "text": [
      "[0, 1, 'a', 'm', 'a', 'z', 'i', 'n', 'g', 'c', 'd', 'e', 'c', 'd', 'e', 7, 8, 9, 10]\n"
     ]
    }
   ],
   "source": [
    "print(num)"
   ]
  },
  {
   "cell_type": "markdown",
   "id": "24c3be7c-530f-4d68-b9d7-e35b025cc3bf",
   "metadata": {},
   "source": [
    "---"
   ]
  },
  {
   "cell_type": "code",
   "execution_count": 173,
   "id": "12706146-2016-4330-96c6-002a736d029f",
   "metadata": {},
   "outputs": [],
   "source": [
    "mylist = ['a', 'b', 'c', 'd', 'e', 'f']"
   ]
  },
  {
   "cell_type": "code",
   "execution_count": 174,
   "id": "fd588a5d-4b02-488d-8c69-9933a30690ac",
   "metadata": {},
   "outputs": [
    {
     "data": {
      "text/plain": [
       "'f'"
      ]
     },
     "execution_count": 174,
     "metadata": {},
     "output_type": "execute_result"
    }
   ],
   "source": [
    "mylist[-1] "
   ]
  },
  {
   "cell_type": "code",
   "execution_count": 175,
   "id": "2622493f-90b1-4344-a169-12eebf16f290",
   "metadata": {},
   "outputs": [],
   "source": [
    "del mylist[-1]"
   ]
  },
  {
   "cell_type": "code",
   "execution_count": 176,
   "id": "c7d0b33a-300f-4105-8282-39774488c2d8",
   "metadata": {},
   "outputs": [
    {
     "data": {
      "text/plain": [
       "['a', 'b', 'c', 'd', 'e']"
      ]
     },
     "execution_count": 176,
     "metadata": {},
     "output_type": "execute_result"
    }
   ],
   "source": [
    "mylist"
   ]
  },
  {
   "cell_type": "code",
   "execution_count": 177,
   "id": "cf8e12bd-8d55-4819-a51d-581fe7f01773",
   "metadata": {},
   "outputs": [
    {
     "data": {
      "text/plain": [
       "'d'"
      ]
     },
     "execution_count": 177,
     "metadata": {},
     "output_type": "execute_result"
    }
   ],
   "source": [
    "mylist[3]"
   ]
  },
  {
   "cell_type": "code",
   "execution_count": 178,
   "id": "763c9db6-3241-4929-9430-eedbe426bcf7",
   "metadata": {},
   "outputs": [],
   "source": [
    "del mylist[3]"
   ]
  },
  {
   "cell_type": "code",
   "execution_count": 179,
   "id": "7745d877-e2f0-405a-abe2-19935ec7e746",
   "metadata": {},
   "outputs": [
    {
     "data": {
      "text/plain": [
       "['a', 'b', 'c', 'e']"
      ]
     },
     "execution_count": 179,
     "metadata": {},
     "output_type": "execute_result"
    }
   ],
   "source": [
    "mylist"
   ]
  },
  {
   "cell_type": "markdown",
   "id": "18c7a952-c6ba-4853-8792-9b48da634773",
   "metadata": {},
   "source": [
    "# Note"
   ]
  },
  {
   "attachments": {
    "a486a603-6331-47c7-a31c-2d4b64f3a99e.png": {
     "image/png": "[encoded data removed]"
    }
   },
   "cell_type": "markdown",
   "id": "988c77cd-c06d-48ee-8112-3b82b80082a7",
   "metadata": {},
   "source": [
    "![image.png](attachment:a486a603-6331-47c7-a31c-2d4b64f3a99e.png)"
   ]
  },
  {
   "cell_type": "markdown",
   "id": "6e7d053c-0e08-418a-bec5-2931589a7313",
   "metadata": {},
   "source": [
    "---"
   ]
  },
  {
   "cell_type": "markdown",
   "id": "ac7cda1e-2b1e-4750-8bc9-c65a1d5d6554",
   "metadata": {},
   "source": [
    "## delete by REMOVE()"
   ]
  },
  {
   "cell_type": "code",
   "execution_count": 180,
   "id": "67af6520-5240-4d1f-9880-8677661d111c",
   "metadata": {},
   "outputs": [],
   "source": [
    "# use this if you don't care where hte item is on the list"
   ]
  },
  {
   "cell_type": "code",
   "execution_count": 184,
   "id": "7324bdc1-2bc3-4226-998a-0e68e5074cf4",
   "metadata": {},
   "outputs": [],
   "source": [
    "mylist1 = [1,2,3,3,3,3,4,5,6,7]"
   ]
  },
  {
   "cell_type": "code",
   "execution_count": 185,
   "id": "73124999-8899-45a9-b842-8e78acf5706b",
   "metadata": {},
   "outputs": [],
   "source": [
    "mylist1.remove(3)"
   ]
  },
  {
   "cell_type": "code",
   "execution_count": 186,
   "id": "47afd01f-9239-4ade-94c0-4fca8e24f54b",
   "metadata": {},
   "outputs": [
    {
     "data": {
      "text/plain": [
       "[1, 2, 3, 3, 3, 4, 5, 6, 7]"
      ]
     },
     "execution_count": 186,
     "metadata": {},
     "output_type": "execute_result"
    }
   ],
   "source": [
    "mylist1"
   ]
  },
  {
   "cell_type": "code",
   "execution_count": 187,
   "id": "3766211a-6c1a-4b94-aaff-8bd25a9a4e24",
   "metadata": {},
   "outputs": [],
   "source": [
    "# only remove first instance of the item"
   ]
  },
  {
   "attachments": {
    "ae47000c-8045-418f-94e5-717aad5bc415.png": {
     "image/png": "[encoded data removed]"
    }
   },
   "cell_type": "markdown",
   "id": "9566716a-5d8e-4072-bea8-b47d0168442b",
   "metadata": {},
   "source": [
    "![image.png](attachment:ae47000c-8045-418f-94e5-717aad5bc415.png)"
   ]
  },
  {
   "cell_type": "markdown",
   "id": "b336a3ea-79e3-45a4-81f3-86262215bae7",
   "metadata": {},
   "source": [
    "---"
   ]
  },
  {
   "cell_type": "markdown",
   "id": "41a8a4c9-282e-4d53-b026-6a682ed27e37",
   "metadata": {},
   "source": [
    "## Delete all items with CLEAR"
   ]
  },
  {
   "cell_type": "code",
   "execution_count": 188,
   "id": "35564636-6e1a-4ece-987c-64fd61c2a6ec",
   "metadata": {},
   "outputs": [],
   "source": [
    "# this is a list method (not a python statement like DEL)"
   ]
  },
  {
   "cell_type": "code",
   "execution_count": 189,
   "id": "00d221d4-1b30-48c0-ace3-e3d2876d4c12",
   "metadata": {},
   "outputs": [],
   "source": [
    "mylsit2 = [1,2,3]"
   ]
  },
  {
   "cell_type": "code",
   "execution_count": 190,
   "id": "cea4adbd-6d21-4de0-92b0-b5702a5f6c1d",
   "metadata": {},
   "outputs": [],
   "source": [
    "mylist2.clear()"
   ]
  },
  {
   "cell_type": "code",
   "execution_count": 191,
   "id": "a3e1276d-2b72-4c11-9e07-6d77ff16724e",
   "metadata": {},
   "outputs": [
    {
     "data": {
      "text/plain": [
       "[]"
      ]
     },
     "execution_count": 191,
     "metadata": {},
     "output_type": "execute_result"
    }
   ],
   "source": [
    "mylist2"
   ]
  },
  {
   "cell_type": "markdown",
   "id": "44f15844-3d24-4830-a248-c80cab1f0aaa",
   "metadata": {},
   "source": [
    "---"
   ]
  },
  {
   "cell_type": "markdown",
   "id": "1e87bd40-1364-4eec-889e-896af218a1dc",
   "metadata": {},
   "source": [
    "### find an items offset by index"
   ]
  },
  {
   "cell_type": "code",
   "execution_count": 194,
   "id": "acb29dd7-d137-4eee-b952-a7e746b4908e",
   "metadata": {},
   "outputs": [],
   "source": [
    "mylist3 = ['a', 'b', 'c', 'c', 'c']"
   ]
  },
  {
   "cell_type": "code",
   "execution_count": 195,
   "id": "cd9ecc19-3e46-4301-9144-28661d9c3bc3",
   "metadata": {},
   "outputs": [
    {
     "data": {
      "text/plain": [
       "2"
      ]
     },
     "execution_count": 195,
     "metadata": {},
     "output_type": "execute_result"
    }
   ],
   "source": [
    "mylist3.index('c')"
   ]
  },
  {
   "cell_type": "code",
   "execution_count": 196,
   "id": "fcf1122e-f1e6-4e42-babb-159e8268f897",
   "metadata": {},
   "outputs": [],
   "source": [
    "# only the first instance of c is returned"
   ]
  },
  {
   "cell_type": "markdown",
   "id": "82355ef6-ba2d-41fc-9a49-20147f325178",
   "metadata": {},
   "source": [
    "---"
   ]
  },
  {
   "cell_type": "markdown",
   "id": "a13242a6-ba4c-4bf9-8f69-fef2a557d8d6",
   "metadata": {},
   "source": [
    "### Test for a value with IN"
   ]
  },
  {
   "cell_type": "code",
   "execution_count": 198,
   "id": "933eff97-8894-4de1-ae46-3bb164ee2e40",
   "metadata": {},
   "outputs": [
    {
     "data": {
      "text/plain": [
       "True"
      ]
     },
     "execution_count": 198,
     "metadata": {},
     "output_type": "execute_result"
    }
   ],
   "source": [
    "'c' in mylist3"
   ]
  },
  {
   "cell_type": "code",
   "execution_count": 202,
   "id": "39907720-3971-45d2-a5ed-3817443a6e16",
   "metadata": {},
   "outputs": [],
   "source": [
    "words = ['a', 'world', 'in', 'which', 'a', 'a']"
   ]
  },
  {
   "cell_type": "code",
   "execution_count": 203,
   "id": "325cb5e9-6d73-4412-b95b-9d44084f3986",
   "metadata": {},
   "outputs": [
    {
     "data": {
      "text/plain": [
       "True"
      ]
     },
     "execution_count": 203,
     "metadata": {},
     "output_type": "execute_result"
    }
   ],
   "source": [
    "'a' in words"
   ]
  },
  {
   "cell_type": "markdown",
   "id": "f686bc2f-209b-418c-a7ac-df4481071332",
   "metadata": {},
   "source": [
    "<font color = red> If the position is not important and you are only interested in the existance -- use SET"
   ]
  },
  {
   "cell_type": "markdown",
   "id": "e7691ff4-bc42-4d7f-aa06-8adc02f38d72",
   "metadata": {},
   "source": [
    "---"
   ]
  },
  {
   "cell_type": "markdown",
   "id": "8ffd9de7-e124-4af2-a082-67da59e00633",
   "metadata": {},
   "source": [
    "### Count occurances with 'COUNT'"
   ]
  },
  {
   "cell_type": "code",
   "execution_count": 204,
   "id": "99ae8c58-a45f-4cea-ab3f-aa2376a0db51",
   "metadata": {},
   "outputs": [
    {
     "data": {
      "text/plain": [
       "3"
      ]
     },
     "execution_count": 204,
     "metadata": {},
     "output_type": "execute_result"
    }
   ],
   "source": [
    "words.count('a')"
   ]
  },
  {
   "cell_type": "markdown",
   "id": "e938115c-cf52-45da-b069-28122eb32012",
   "metadata": {},
   "source": [
    "---"
   ]
  },
  {
   "cell_type": "markdown",
   "id": "1482ad90-63e1-47cf-870f-a3dea7218c51",
   "metadata": {},
   "source": [
    "# Convert a list to a string with JOIN"
   ]
  },
  {
   "cell_type": "code",
   "execution_count": 205,
   "id": "af1d90e1-8397-4b12-9993-5604e06415f2",
   "metadata": {},
   "outputs": [],
   "source": [
    "words = ['a', 'world', 'in', 'which', 'a', 'a']"
   ]
  },
  {
   "cell_type": "code",
   "execution_count": 206,
   "id": "4c81479f-cbba-4972-8cbd-8d5e26fc1b86",
   "metadata": {},
   "outputs": [
    {
     "data": {
      "text/plain": [
       "'a, world, in, which, a, a'"
      ]
     },
     "execution_count": 206,
     "metadata": {},
     "output_type": "execute_result"
    }
   ],
   "source": [
    "', '.join(words)"
   ]
  },
  {
   "cell_type": "code",
   "execution_count": 207,
   "id": "a607c62b-8332-4165-b8b2-861114875993",
   "metadata": {},
   "outputs": [
    {
     "data": {
      "text/plain": [
       "['a', 'world', 'in', 'which', 'a', 'a']"
      ]
     },
     "execution_count": 207,
     "metadata": {},
     "output_type": "execute_result"
    }
   ],
   "source": [
    "words"
   ]
  },
  {
   "cell_type": "code",
   "execution_count": 208,
   "id": "6955560a-915d-47c1-bc5c-66cbcfa6c9f1",
   "metadata": {},
   "outputs": [],
   "source": [
    "newstring = ', '.join(words)"
   ]
  },
  {
   "cell_type": "code",
   "execution_count": 209,
   "id": "77913801-8601-427f-9cb2-25e4b9a5c3e8",
   "metadata": {},
   "outputs": [
    {
     "data": {
      "text/plain": [
       "'a, world, in, which, a, a'"
      ]
     },
     "execution_count": 209,
     "metadata": {},
     "output_type": "execute_result"
    }
   ],
   "source": [
    "newstring"
   ]
  },
  {
   "cell_type": "code",
   "execution_count": 210,
   "id": "fae63407-9ce8-4f64-abac-505a335892e7",
   "metadata": {},
   "outputs": [],
   "source": [
    "words = ', '.join(words)"
   ]
  },
  {
   "cell_type": "code",
   "execution_count": 211,
   "id": "63af4e04-c70c-416e-8bec-90b00923ecc2",
   "metadata": {},
   "outputs": [
    {
     "data": {
      "text/plain": [
       "'a, world, in, which, a, a'"
      ]
     },
     "execution_count": 211,
     "metadata": {},
     "output_type": "execute_result"
    }
   ],
   "source": [
    "words"
   ]
  },
  {
   "cell_type": "markdown",
   "id": "1d9714f6-56d8-4a47-9f25-8e926b49dcee",
   "metadata": {},
   "source": [
    "### while .join(words) and not words.join()"
   ]
  },
  {
   "attachments": {
    "ddea5ae1-6350-4f6f-b772-a697d5d5adbc.png": {
     "image/png": "[encoded data removed]"
    }
   },
   "cell_type": "markdown",
   "id": "073b1847-c8a2-4ccf-aa65-3863ae2e3926",
   "metadata": {},
   "source": [
    "![image.png](attachment:ddea5ae1-6350-4f6f-b772-a697d5d5adbc.png)"
   ]
  },
  {
   "cell_type": "markdown",
   "id": "3cbe9348-42db-41e1-8034-1e982fde6d88",
   "metadata": {},
   "source": [
    "### difference between string and list joins"
   ]
  },
  {
   "cell_type": "code",
   "execution_count": 220,
   "id": "5cc14978-0fef-4a51-9c76-71da56e64ebb",
   "metadata": {},
   "outputs": [],
   "source": [
    "mylist4 = ['adf', 'rtr', 'ryutyuu']"
   ]
  },
  {
   "cell_type": "code",
   "execution_count": 221,
   "id": "47ef41af-b2c7-4a74-a716-9da4cf413342",
   "metadata": {},
   "outputs": [
    {
     "data": {
      "text/plain": [
       "['adf', 'rtr', 'ryutyuu']"
      ]
     },
     "execution_count": 221,
     "metadata": {},
     "output_type": "execute_result"
    }
   ],
   "source": [
    "mylist4"
   ]
  },
  {
   "cell_type": "code",
   "execution_count": 223,
   "id": "73be95c5-c08d-4480-8601-279654ffff3c",
   "metadata": {},
   "outputs": [],
   "source": [
    "sep = ' * ' \n",
    "\n",
    "# this is a string"
   ]
  },
  {
   "cell_type": "code",
   "execution_count": 224,
   "id": "c4246cbd-99c2-4437-bfba-20529cd3c569",
   "metadata": {},
   "outputs": [
    {
     "data": {
      "text/plain": [
       "' * '"
      ]
     },
     "execution_count": 224,
     "metadata": {},
     "output_type": "execute_result"
    }
   ],
   "source": [
    "sep"
   ]
  },
  {
   "cell_type": "code",
   "execution_count": 227,
   "id": "0e57ea32-c25f-41e1-8b84-299f8c547d8c",
   "metadata": {},
   "outputs": [],
   "source": [
    "joined = sep.join(mylist4)"
   ]
  },
  {
   "cell_type": "code",
   "execution_count": 228,
   "id": "99eaffc1-0ea6-47e8-a11b-1b29b1ab8d68",
   "metadata": {},
   "outputs": [
    {
     "data": {
      "text/plain": [
       "'adf * rtr * ryutyuu'"
      ]
     },
     "execution_count": 228,
     "metadata": {},
     "output_type": "execute_result"
    }
   ],
   "source": [
    "joined"
   ]
  },
  {
   "cell_type": "markdown",
   "id": "f1beecf9-b3b3-46a2-9fef-c00fc3a6890b",
   "metadata": {},
   "source": [
    "---"
   ]
  },
  {
   "attachments": {
    "3e888dc9-dada-4ff4-8b2f-124ff2b43538.png": {
     "image/png": "[encoded data removed]"
    }
   },
   "cell_type": "markdown",
   "id": "bb5ca607-44f1-4bea-bc24-4ca37ea4e452",
   "metadata": {},
   "source": [
    "![image.png](attachment:3e888dc9-dada-4ff4-8b2f-124ff2b43538.png)"
   ]
  },
  {
   "cell_type": "markdown",
   "id": "b1c67001-f8a5-47a2-845f-4dd257ff610f",
   "metadata": {},
   "source": [
    "---"
   ]
  },
  {
   "cell_type": "markdown",
   "id": "abb95b14-0171-4191-8623-ccb52a7bcca0",
   "metadata": {},
   "source": [
    "## Reorder Items with SORT() and SORTED()"
   ]
  },
  {
   "cell_type": "code",
   "execution_count": 229,
   "id": "03ceded5-85d0-417b-b6b1-dd37246718ce",
   "metadata": {},
   "outputs": [],
   "source": [
    "# sort() -- in place"
   ]
  },
  {
   "cell_type": "code",
   "execution_count": 230,
   "id": "50ba00d6-0a45-4381-adaa-1255f07cd16e",
   "metadata": {},
   "outputs": [],
   "source": [
    "# sorted() returns a sorted COPY of the list"
   ]
  },
  {
   "cell_type": "code",
   "execution_count": 231,
   "id": "56488acc-6c57-454a-8792-4497abd51c33",
   "metadata": {},
   "outputs": [],
   "source": [
    "mylist4 = [3,2,1,5,7,8,3,2,0]"
   ]
  },
  {
   "cell_type": "code",
   "execution_count": 232,
   "id": "fce63ada-594e-4a6e-8779-cc336d4b721c",
   "metadata": {},
   "outputs": [],
   "source": [
    "mylist4.sort()"
   ]
  },
  {
   "cell_type": "code",
   "execution_count": 233,
   "id": "5087f86b-f3f4-4a23-bb5b-1a8cac5150f0",
   "metadata": {},
   "outputs": [
    {
     "data": {
      "text/plain": [
       "[0, 1, 2, 2, 3, 3, 5, 7, 8]"
      ]
     },
     "execution_count": 233,
     "metadata": {},
     "output_type": "execute_result"
    }
   ],
   "source": [
    "mylist4"
   ]
  },
  {
   "cell_type": "code",
   "execution_count": 234,
   "id": "090ada0e-d447-4d9b-a928-e6b3acf24fb9",
   "metadata": {},
   "outputs": [],
   "source": [
    "mylist5 = [6,7,2,3,4,8,1,2,9,4,3]"
   ]
  },
  {
   "cell_type": "code",
   "execution_count": 237,
   "id": "c9c259ae-5ae2-4582-aa15-32026ed7b78b",
   "metadata": {},
   "outputs": [],
   "source": [
    "sorted_list = sorted(mylist5)"
   ]
  },
  {
   "cell_type": "code",
   "execution_count": 238,
   "id": "5e463b36-3610-4a20-af73-27f299b89148",
   "metadata": {},
   "outputs": [
    {
     "data": {
      "text/plain": [
       "[1, 2, 2, 3, 3, 4, 4, 6, 7, 8, 9]"
      ]
     },
     "execution_count": 238,
     "metadata": {},
     "output_type": "execute_result"
    }
   ],
   "source": [
    "sorted_list"
   ]
  },
  {
   "cell_type": "markdown",
   "id": "65b5b1d0-325a-4a17-b1c1-26be042951b0",
   "metadata": {},
   "source": [
    "<font size = 7, color = red>Note the difference between list method and python statement"
   ]
  },
  {
   "cell_type": "code",
   "execution_count": 239,
   "id": "b8863afd-fbb3-45b2-8a0c-d28fa077cae1",
   "metadata": {},
   "outputs": [
    {
     "data": {
      "text/plain": [
       "\u001b[0;31mSignature:\u001b[0m \u001b[0msorted\u001b[0m\u001b[0;34m(\u001b[0m\u001b[0miterable\u001b[0m\u001b[0;34m,\u001b[0m \u001b[0;34m/\u001b[0m\u001b[0;34m,\u001b[0m \u001b[0;34m*\u001b[0m\u001b[0;34m,\u001b[0m \u001b[0mkey\u001b[0m\u001b[0;34m=\u001b[0m\u001b[0;32mNone\u001b[0m\u001b[0;34m,\u001b[0m \u001b[0mreverse\u001b[0m\u001b[0;34m=\u001b[0m\u001b[0;32mFalse\u001b[0m\u001b[0;34m)\u001b[0m\u001b[0;34m\u001b[0m\u001b[0;34m\u001b[0m\u001b[0m\n",
       "\u001b[0;31mDocstring:\u001b[0m\n",
       "Return a new list containing all items from the iterable in ascending order.\n",
       "\n",
       "A custom key function can be supplied to customize the sort order, and the\n",
       "reverse flag can be set to request the result in descending order.\n",
       "\u001b[0;31mType:\u001b[0m      builtin_function_or_method\n"
      ]
     },
     "metadata": {},
     "output_type": "display_data"
    }
   ],
   "source": [
    "?sorted"
   ]
  },
  {
   "cell_type": "code",
   "execution_count": null,
   "id": "96d31cac-d7d5-41bf-924c-1f4503b195b0",
   "metadata": {},
   "outputs": [],
   "source": [
    "list.sort()"
   ]
  },
  {
   "attachments": {
    "934a71f3-7161-4430-9d83-b378f2d06fed.png": {
     "image/png": "[encoded data removed]"
    }
   },
   "cell_type": "markdown",
   "id": "18c37801-f4b2-4712-88e5-ddd31b2cf5c7",
   "metadata": {},
   "source": [
    "![image.png](attachment:934a71f3-7161-4430-9d83-b378f2d06fed.png)"
   ]
  },
  {
   "cell_type": "markdown",
   "id": "98541d72-5efe-4353-80e0-e9cd51f58b61",
   "metadata": {},
   "source": [
    "# Note the 'instance', function, and class"
   ]
  },
  {
   "attachments": {
    "243ac21e-cc2b-45f3-9528-af509bca34d7.png": {
     "image/png": "[encoded data removed]"
    }
   },
   "cell_type": "markdown",
   "id": "ddf4a7eb-1cb5-4408-a49b-0d350f0f178f",
   "metadata": {},
   "source": [
    "![image.png](attachment:243ac21e-cc2b-45f3-9528-af509bca34d7.png)"
   ]
  },
  {
   "cell_type": "code",
   "execution_count": 240,
   "id": "ad72392a-eacb-4ee3-a806-d1b840569560",
   "metadata": {},
   "outputs": [],
   "source": [
    "mylist7 = [1,2,'a','z',4,9,1]"
   ]
  },
  {
   "cell_type": "code",
   "execution_count": 246,
   "id": "09ffe6f3-52c5-43df-a565-d16a3f88875b",
   "metadata": {},
   "outputs": [
    {
     "ename": "NameError",
     "evalue": "name 'mylist7' is not defined",
     "output_type": "error",
     "traceback": [
      "\u001b[0;31m---------------------------------------------------------------------------\u001b[0m",
      "\u001b[0;31mNameError\u001b[0m                                 Traceback (most recent call last)",
      "Input \u001b[0;32mIn [246]\u001b[0m, in \u001b[0;36m<cell line: 1>\u001b[0;34m()\u001b[0m\n\u001b[0;32m----> 1\u001b[0m \u001b[43mmylist7\u001b[49m(sort)\n",
      "\u001b[0;31mNameError\u001b[0m: name 'mylist7' is not defined"
     ]
    }
   ],
   "source": [
    "mylist7(sort)"
   ]
  },
  {
   "cell_type": "code",
   "execution_count": 244,
   "id": "f2304dde-a191-42a3-89f4-861a160a74c9",
   "metadata": {},
   "outputs": [],
   "source": [
    "mylist6 = [1,2,4,9,1]\n",
    "\n",
    "mylist6.sort()"
   ]
  },
  {
   "cell_type": "code",
   "execution_count": 245,
   "id": "85b9552c-c8d6-4b8a-8683-bdf36ede470f",
   "metadata": {},
   "outputs": [
    {
     "data": {
      "text/plain": [
       "[1, 1, 2, 4, 9]"
      ]
     },
     "execution_count": 245,
     "metadata": {},
     "output_type": "execute_result"
    }
   ],
   "source": [
    "mylist6"
   ]
  },
  {
   "cell_type": "markdown",
   "id": "e016ab47-ec45-433f-a40a-ec227a8ee5c1",
   "metadata": {},
   "source": [
    "#### sort in reverse"
   ]
  },
  {
   "cell_type": "code",
   "execution_count": 247,
   "id": "03a1f50e-a778-4c72-8f74-0753c7d3e838",
   "metadata": {},
   "outputs": [
    {
     "data": {
      "text/plain": [
       "[9, 4, 2, 1, 1]"
      ]
     },
     "execution_count": 247,
     "metadata": {},
     "output_type": "execute_result"
    }
   ],
   "source": [
    "mylist6.sort(reverse = True)\n",
    "\n",
    "mylist6"
   ]
  },
  {
   "cell_type": "code",
   "execution_count": 248,
   "id": "b5df9ff2-7d51-48a9-ac4d-3549112e5ea5",
   "metadata": {},
   "outputs": [],
   "source": [
    "# length"
   ]
  },
  {
   "cell_type": "code",
   "execution_count": 249,
   "id": "b95573c8-fb5a-4bba-814e-8e84f6e5cddd",
   "metadata": {},
   "outputs": [
    {
     "data": {
      "text/plain": [
       "5"
      ]
     },
     "execution_count": 249,
     "metadata": {},
     "output_type": "execute_result"
    }
   ],
   "source": [
    "len(mylist6)"
   ]
  },
  {
   "cell_type": "markdown",
   "id": "a3465e9b-1d66-46b6-85ac-f7da4c64cd7c",
   "metadata": {},
   "source": [
    "### assign with = (myltiple variables)"
   ]
  },
  {
   "cell_type": "markdown",
   "id": "590c3781-aaf3-4d36-b732-0f1a13f13432",
   "metadata": {},
   "source": [
    "<font color = red>Below example is when teh list if update (not assigned)"
   ]
  },
  {
   "cell_type": "code",
   "execution_count": 264,
   "id": "1994eda0-f7e9-4a78-bb1c-d1ae7ef5f310",
   "metadata": {},
   "outputs": [
    {
     "data": {
      "text/plain": [
       "[1, 2, 3]"
      ]
     },
     "execution_count": 264,
     "metadata": {},
     "output_type": "execute_result"
    }
   ],
   "source": [
    "a = [1,2,3]\n",
    "\n",
    "a"
   ]
  },
  {
   "cell_type": "code",
   "execution_count": 265,
   "id": "d92854d6-5536-441f-aa7e-7abbdd8aca82",
   "metadata": {},
   "outputs": [],
   "source": [
    "b = a"
   ]
  },
  {
   "cell_type": "code",
   "execution_count": 266,
   "id": "69f2892d-c789-4471-814a-3f0cc4a0687e",
   "metadata": {},
   "outputs": [
    {
     "data": {
      "text/plain": [
       "[1, 2, 3]"
      ]
     },
     "execution_count": 266,
     "metadata": {},
     "output_type": "execute_result"
    }
   ],
   "source": [
    "b"
   ]
  },
  {
   "cell_type": "code",
   "execution_count": 259,
   "id": "e71a93ed-c057-42a4-9f8c-490532768a9b",
   "metadata": {},
   "outputs": [],
   "source": [
    "# update a"
   ]
  },
  {
   "cell_type": "code",
   "execution_count": 267,
   "id": "73e600db-8170-448f-95b1-9015286c2930",
   "metadata": {},
   "outputs": [],
   "source": [
    "a = [5,2,3]"
   ]
  },
  {
   "cell_type": "code",
   "execution_count": 268,
   "id": "1ec14c18-9e6d-4d9d-96d3-3e45740d4c1d",
   "metadata": {},
   "outputs": [
    {
     "data": {
      "text/plain": [
       "[1, 2, 3]"
      ]
     },
     "execution_count": 268,
     "metadata": {},
     "output_type": "execute_result"
    }
   ],
   "source": [
    "b"
   ]
  },
  {
   "cell_type": "code",
   "execution_count": 269,
   "id": "33c4688e-1859-411e-b965-23d3ef1b5bfb",
   "metadata": {},
   "outputs": [],
   "source": [
    "# b retains the old value"
   ]
  },
  {
   "cell_type": "markdown",
   "id": "c935fb90-7a90-42a6-a8b9-26230e36f137",
   "metadata": {},
   "source": [
    "---"
   ]
  },
  {
   "cell_type": "markdown",
   "id": "f912214e-8d87-49c4-83b5-f04d6f5577d9",
   "metadata": {},
   "source": [
    "<font color = red>Below example is when teh list if assigned and changed"
   ]
  },
  {
   "cell_type": "code",
   "execution_count": 277,
   "id": "309fcd11-520f-4a9f-a4fe-ce3dfdb755a8",
   "metadata": {},
   "outputs": [],
   "source": [
    "c = [1,2,3]"
   ]
  },
  {
   "cell_type": "code",
   "execution_count": 278,
   "id": "81fabaad-d151-4e72-98cc-dfacb3534393",
   "metadata": {},
   "outputs": [
    {
     "data": {
      "text/plain": [
       "[1, 2, 3]"
      ]
     },
     "execution_count": 278,
     "metadata": {},
     "output_type": "execute_result"
    }
   ],
   "source": [
    "c"
   ]
  },
  {
   "cell_type": "code",
   "execution_count": 279,
   "id": "86b74abe-0012-4708-a02f-740c98be8994",
   "metadata": {},
   "outputs": [],
   "source": [
    "b = c"
   ]
  },
  {
   "cell_type": "code",
   "execution_count": 280,
   "id": "89d81ee7-2ae8-4a85-8a9e-a8aeffbfc0af",
   "metadata": {},
   "outputs": [
    {
     "data": {
      "text/plain": [
       "[1, 2, 3]"
      ]
     },
     "execution_count": 280,
     "metadata": {},
     "output_type": "execute_result"
    }
   ],
   "source": [
    "b"
   ]
  },
  {
   "cell_type": "code",
   "execution_count": 281,
   "id": "0da30f73-02a8-454d-8f51-2a46505a18c0",
   "metadata": {},
   "outputs": [],
   "source": [
    "c[0] = 100"
   ]
  },
  {
   "cell_type": "code",
   "execution_count": 282,
   "id": "0cb0faf2-b086-4c27-bff9-39153661e465",
   "metadata": {},
   "outputs": [
    {
     "data": {
      "text/plain": [
       "[100, 2, 3]"
      ]
     },
     "execution_count": 282,
     "metadata": {},
     "output_type": "execute_result"
    }
   ],
   "source": [
    "c"
   ]
  },
  {
   "cell_type": "code",
   "execution_count": 283,
   "id": "b457b333-14fe-463a-9ee1-a1ae20d0d8f9",
   "metadata": {},
   "outputs": [
    {
     "data": {
      "text/plain": [
       "[100, 2, 3]"
      ]
     },
     "execution_count": 283,
     "metadata": {},
     "output_type": "execute_result"
    }
   ],
   "source": [
    "b"
   ]
  },
  {
   "cell_type": "markdown",
   "id": "341337ff-f6ea-4194-969e-d9efc85201eb",
   "metadata": {},
   "source": [
    "### Note that b refers to the changed value of A"
   ]
  },
  {
   "cell_type": "markdown",
   "id": "ebc12fc8-812b-45e2-ac54-7c8a8b904bcc",
   "metadata": {},
   "source": [
    "---"
   ]
  },
  {
   "cell_type": "markdown",
   "id": "007cc7c4-6a03-450b-8325-f9b3e2c3b78b",
   "metadata": {},
   "source": [
    "## Copy with copy, list or slice"
   ]
  },
  {
   "cell_type": "markdown",
   "id": "62faf215-573a-405d-ae29-34ff06f33a16",
   "metadata": {},
   "source": [
    "### list COPY() method"
   ]
  },
  {
   "cell_type": "markdown",
   "id": "4fee5f1b-b214-4473-8778-5493ed76b2e7",
   "metadata": {},
   "source": [
    "### list() conversion FUNCTION"
   ]
  },
  {
   "cell_type": "markdown",
   "id": "6bcdd93c-5b32-4c78-8762-f69bfa7d4115",
   "metadata": {},
   "source": [
    "### list SLICE[:]"
   ]
  },
  {
   "cell_type": "markdown",
   "id": "33abb9da-0258-4bea-b15d-87bec621890c",
   "metadata": {},
   "source": [
    "### COPY METHOD"
   ]
  },
  {
   "cell_type": "code",
   "execution_count": 284,
   "id": "e077bd38-e033-4a9c-8dea-e3a3a36e21ab",
   "metadata": {},
   "outputs": [],
   "source": [
    "a = [1,2,3]"
   ]
  },
  {
   "cell_type": "code",
   "execution_count": 286,
   "id": "866f9627-100f-44c2-97a4-de2b4f250c45",
   "metadata": {},
   "outputs": [],
   "source": [
    "b = a.copy()"
   ]
  },
  {
   "cell_type": "code",
   "execution_count": 290,
   "id": "46f36cfc-063d-47a2-a345-b045fa1c8a87",
   "metadata": {},
   "outputs": [],
   "source": [
    "a[0] = 100"
   ]
  },
  {
   "cell_type": "code",
   "execution_count": 291,
   "id": "9ea67f49-9493-43b9-bb6a-76ea5e7ab799",
   "metadata": {},
   "outputs": [
    {
     "data": {
      "text/plain": [
       "[100, 2, 3]"
      ]
     },
     "execution_count": 291,
     "metadata": {},
     "output_type": "execute_result"
    }
   ],
   "source": [
    "a"
   ]
  },
  {
   "cell_type": "code",
   "execution_count": 292,
   "id": "743fdf53-0296-4414-b5e7-5a862f6d4bfc",
   "metadata": {},
   "outputs": [
    {
     "data": {
      "text/plain": [
       "[1, 2, 3]"
      ]
     },
     "execution_count": 292,
     "metadata": {},
     "output_type": "execute_result"
    }
   ],
   "source": [
    "b"
   ]
  },
  {
   "cell_type": "markdown",
   "id": "99fd4af7-d23f-492d-903e-5dd7526945bd",
   "metadata": {},
   "source": [
    "---"
   ]
  },
  {
   "cell_type": "markdown",
   "id": "d63234f8-f5bb-40c5-864c-496808de21b5",
   "metadata": {},
   "source": [
    "#### SLICE"
   ]
  },
  {
   "cell_type": "code",
   "execution_count": 293,
   "id": "0cf60fea-9462-4fef-8b92-31912ac86056",
   "metadata": {},
   "outputs": [],
   "source": [
    "d = a[:]"
   ]
  },
  {
   "cell_type": "code",
   "execution_count": 294,
   "id": "f9464391-3174-40c2-b334-2b4d3ff47607",
   "metadata": {},
   "outputs": [
    {
     "data": {
      "text/plain": [
       "[100, 2, 3]"
      ]
     },
     "execution_count": 294,
     "metadata": {},
     "output_type": "execute_result"
    }
   ],
   "source": [
    "d"
   ]
  },
  {
   "cell_type": "markdown",
   "id": "557eb74a-3313-4527-b095-7de2212952d0",
   "metadata": {},
   "source": [
    "---"
   ]
  },
  {
   "cell_type": "markdown",
   "id": "5fad04af-7f83-42e3-8fd4-13fcaf952892",
   "metadata": {},
   "source": [
    "#### CONVERSION"
   ]
  },
  {
   "cell_type": "code",
   "execution_count": 295,
   "id": "29f917b0-cb74-426d-a79d-de723bb39c35",
   "metadata": {},
   "outputs": [],
   "source": [
    "c = list(a)"
   ]
  },
  {
   "cell_type": "code",
   "execution_count": 296,
   "id": "be7f1aff-7b88-4e99-9af3-891ada8a539e",
   "metadata": {},
   "outputs": [
    {
     "data": {
      "text/plain": [
       "[100, 2, 3]"
      ]
     },
     "execution_count": 296,
     "metadata": {},
     "output_type": "execute_result"
    }
   ],
   "source": [
    "c"
   ]
  },
  {
   "cell_type": "markdown",
   "id": "911b5a6c-6153-4b04-8882-194b4c545476",
   "metadata": {},
   "source": [
    "---"
   ]
  },
  {
   "cell_type": "markdown",
   "id": "6e431214-2f52-48ee-aac2-78e655b1ff8c",
   "metadata": {},
   "source": [
    "## Copy everything with deepcopy()"
   ]
  },
  {
   "cell_type": "markdown",
   "id": "148d37bf-6222-4d90-a327-ed945c4d0000",
   "metadata": {},
   "source": [
    "<font size = 8, color = magenta>Mutable values (lists, tuples, dicts) are references. A change in the original of copy will be reflected in both"
   ]
  },
  {
   "cell_type": "code",
   "execution_count": 297,
   "id": "4aa050dc-c8d1-4651-845e-dc47114c9510",
   "metadata": {},
   "outputs": [],
   "source": [
    "a = [1,2,[11,12]]"
   ]
  },
  {
   "cell_type": "code",
   "execution_count": 298,
   "id": "44d575f5-95c1-4ec5-8019-6270c56d58d6",
   "metadata": {},
   "outputs": [
    {
     "data": {
      "text/plain": [
       "[1, 2, [11, 12]]"
      ]
     },
     "execution_count": 298,
     "metadata": {},
     "output_type": "execute_result"
    }
   ],
   "source": [
    "a"
   ]
  },
  {
   "cell_type": "code",
   "execution_count": 299,
   "id": "5ace2c04-f67b-4486-ab5b-6ba966de92ed",
   "metadata": {},
   "outputs": [],
   "source": [
    "c = list(a)"
   ]
  },
  {
   "cell_type": "code",
   "execution_count": 300,
   "id": "90b7d120-ba3e-4300-8ee0-9cbe576dc663",
   "metadata": {},
   "outputs": [
    {
     "data": {
      "text/plain": [
       "[1, 2, [11, 12]]"
      ]
     },
     "execution_count": 300,
     "metadata": {},
     "output_type": "execute_result"
    }
   ],
   "source": [
    "c"
   ]
  },
  {
   "cell_type": "code",
   "execution_count": 301,
   "id": "7a737789-30eb-46f5-8864-637caac47a3d",
   "metadata": {},
   "outputs": [],
   "source": [
    "d = a[:]"
   ]
  },
  {
   "cell_type": "code",
   "execution_count": 302,
   "id": "5989af9a-63bc-40d8-aa43-9d591351033c",
   "metadata": {},
   "outputs": [
    {
     "data": {
      "text/plain": [
       "[1, 2, [11, 12]]"
      ]
     },
     "execution_count": 302,
     "metadata": {},
     "output_type": "execute_result"
    }
   ],
   "source": [
    "d"
   ]
  },
  {
   "cell_type": "code",
   "execution_count": 303,
   "id": "b760423e-aa5b-4485-8c1e-4f1b155eada3",
   "metadata": {},
   "outputs": [],
   "source": [
    "b = a.copy()"
   ]
  },
  {
   "cell_type": "code",
   "execution_count": 304,
   "id": "2d649741-a964-4d52-bdee-debcd545b91b",
   "metadata": {},
   "outputs": [
    {
     "data": {
      "text/plain": [
       "[1, 2, [11, 12]]"
      ]
     },
     "execution_count": 304,
     "metadata": {},
     "output_type": "execute_result"
    }
   ],
   "source": [
    "b"
   ]
  },
  {
   "cell_type": "markdown",
   "id": "e04960df-8619-4593-af9e-01b13682103f",
   "metadata": {},
   "source": [
    "---"
   ]
  },
  {
   "cell_type": "code",
   "execution_count": 305,
   "id": "d66b7ec1-a792-4eaa-b40e-f2a0275c7b67",
   "metadata": {},
   "outputs": [
    {
     "data": {
      "text/plain": [
       "[1, 2, [11, 12]]"
      ]
     },
     "execution_count": 305,
     "metadata": {},
     "output_type": "execute_result"
    }
   ],
   "source": [
    "a"
   ]
  },
  {
   "cell_type": "code",
   "execution_count": 306,
   "id": "8cd1878a-1c46-436c-b6be-11d77c6a97ee",
   "metadata": {},
   "outputs": [
    {
     "data": {
      "text/plain": [
       "[1, 2, [11, 12]]"
      ]
     },
     "execution_count": 306,
     "metadata": {},
     "output_type": "execute_result"
    }
   ],
   "source": [
    "b"
   ]
  },
  {
   "cell_type": "code",
   "execution_count": 307,
   "id": "f23a7b0c-5e7a-4b40-be9f-dceecea4e620",
   "metadata": {},
   "outputs": [
    {
     "data": {
      "text/plain": [
       "[1, 2, [11, 12]]"
      ]
     },
     "execution_count": 307,
     "metadata": {},
     "output_type": "execute_result"
    }
   ],
   "source": [
    "c"
   ]
  },
  {
   "cell_type": "code",
   "execution_count": 308,
   "id": "f379ccb1-1e74-4423-a9f0-5c5d5a6a11be",
   "metadata": {},
   "outputs": [
    {
     "data": {
      "text/plain": [
       "[1, 2, [11, 12]]"
      ]
     },
     "execution_count": 308,
     "metadata": {},
     "output_type": "execute_result"
    }
   ],
   "source": [
    "d"
   ]
  },
  {
   "cell_type": "markdown",
   "id": "b622f47d-ddc5-454e-bda3-4ec732275498",
   "metadata": {},
   "source": [
    "---"
   ]
  },
  {
   "cell_type": "code",
   "execution_count": 309,
   "id": "8555cff3-07dc-4a5c-9c32-6a515153dff9",
   "metadata": {},
   "outputs": [],
   "source": [
    "a[2][1] = 999"
   ]
  },
  {
   "cell_type": "code",
   "execution_count": 310,
   "id": "23a1fdf5-893b-4b60-a47f-ea1aa5cbfc1c",
   "metadata": {},
   "outputs": [
    {
     "data": {
      "text/plain": [
       "[1, 2, [11, 999]]"
      ]
     },
     "execution_count": 310,
     "metadata": {},
     "output_type": "execute_result"
    }
   ],
   "source": [
    "a"
   ]
  },
  {
   "cell_type": "code",
   "execution_count": 311,
   "id": "09713ff7-5063-4207-a75e-22b3b255664a",
   "metadata": {},
   "outputs": [
    {
     "data": {
      "text/plain": [
       "[1, 2, [11, 999]]"
      ]
     },
     "execution_count": 311,
     "metadata": {},
     "output_type": "execute_result"
    }
   ],
   "source": [
    "b"
   ]
  },
  {
   "cell_type": "code",
   "execution_count": 312,
   "id": "aa496913-b572-4a3e-a0e0-3f2c8bde95fd",
   "metadata": {},
   "outputs": [
    {
     "data": {
      "text/plain": [
       "[1, 2, [11, 999]]"
      ]
     },
     "execution_count": 312,
     "metadata": {},
     "output_type": "execute_result"
    }
   ],
   "source": [
    "c"
   ]
  },
  {
   "cell_type": "code",
   "execution_count": 313,
   "id": "1c701383-26f9-444e-9fbe-8a0dcca01c83",
   "metadata": {},
   "outputs": [
    {
     "data": {
      "text/plain": [
       "[1, 2, [11, 999]]"
      ]
     },
     "execution_count": 313,
     "metadata": {},
     "output_type": "execute_result"
    }
   ],
   "source": [
    "d"
   ]
  },
  {
   "cell_type": "markdown",
   "id": "3b27299b-9aa6-48cc-aa3c-644dea21d9a2",
   "metadata": {},
   "source": [
    "---"
   ]
  },
  {
   "cell_type": "markdown",
   "id": "59f24e33-141a-4451-95cb-ed428fdbc398",
   "metadata": {},
   "source": [
    "<font size = 8>Deep Copy"
   ]
  },
  {
   "cell_type": "code",
   "execution_count": 315,
   "id": "9861fa61-690e-4ad4-b410-a676d5fb96da",
   "metadata": {},
   "outputs": [],
   "source": [
    "import copy"
   ]
  },
  {
   "cell_type": "code",
   "execution_count": 316,
   "id": "86615e3d-d964-46b1-b916-f12f1158fd6d",
   "metadata": {},
   "outputs": [
    {
     "data": {
      "text/plain": [
       "[1, 2, [11, 999]]"
      ]
     },
     "execution_count": 316,
     "metadata": {},
     "output_type": "execute_result"
    }
   ],
   "source": [
    "a"
   ]
  },
  {
   "cell_type": "code",
   "execution_count": 317,
   "id": "50690cea-e300-47fc-8265-0bc244460050",
   "metadata": {},
   "outputs": [],
   "source": [
    "b = copy.deepcopy(a)"
   ]
  },
  {
   "cell_type": "code",
   "execution_count": 318,
   "id": "414bc189-7895-44de-ac36-842c65ffad69",
   "metadata": {},
   "outputs": [
    {
     "data": {
      "text/plain": [
       "[1, 2, [11, 999]]"
      ]
     },
     "execution_count": 318,
     "metadata": {},
     "output_type": "execute_result"
    }
   ],
   "source": [
    "b"
   ]
  },
  {
   "cell_type": "code",
   "execution_count": 319,
   "id": "2b42c6ef-4df9-4e3f-9f4f-425c1bac5515",
   "metadata": {},
   "outputs": [],
   "source": [
    "a[2][1] = 333"
   ]
  },
  {
   "cell_type": "code",
   "execution_count": 320,
   "id": "11b7fefd-00c8-4703-80f6-79b6fc656441",
   "metadata": {},
   "outputs": [
    {
     "data": {
      "text/plain": [
       "[1, 2, [11, 333]]"
      ]
     },
     "execution_count": 320,
     "metadata": {},
     "output_type": "execute_result"
    }
   ],
   "source": [
    "a"
   ]
  },
  {
   "cell_type": "code",
   "execution_count": 321,
   "id": "eb4728d0-74c8-467e-85a6-f9bb37a60b5a",
   "metadata": {},
   "outputs": [
    {
     "data": {
      "text/plain": [
       "[1, 2, [11, 999]]"
      ]
     },
     "execution_count": 321,
     "metadata": {},
     "output_type": "execute_result"
    }
   ],
   "source": [
    "b"
   ]
  },
  {
   "cell_type": "markdown",
   "id": "5c99a44b-bb64-4897-a7f1-6ad09e1b4fdb",
   "metadata": {},
   "source": [
    "---"
   ]
  },
  {
   "cell_type": "markdown",
   "id": "675b7196-8e10-4b5e-ae8a-6f01de071b91",
   "metadata": {},
   "source": [
    "## Compare lists"
   ]
  },
  {
   "cell_type": "code",
   "execution_count": 323,
   "id": "0809069e-4d47-4ad3-8750-bffea319e3bf",
   "metadata": {},
   "outputs": [],
   "source": [
    "a = [7,2]"
   ]
  },
  {
   "cell_type": "code",
   "execution_count": 324,
   "id": "90cab7cb-5adb-400c-aed9-449a101e3057",
   "metadata": {},
   "outputs": [],
   "source": [
    "b=[7,2,9]"
   ]
  },
  {
   "cell_type": "code",
   "execution_count": 325,
   "id": "026d8ab3-6dc2-4827-ba85-044d074c5cc5",
   "metadata": {},
   "outputs": [
    {
     "data": {
      "text/plain": [
       "False"
      ]
     },
     "execution_count": 325,
     "metadata": {},
     "output_type": "execute_result"
    }
   ],
   "source": [
    "a ==b"
   ]
  },
  {
   "cell_type": "code",
   "execution_count": 326,
   "id": "f5e627b4-114e-4b85-8d01-38e4c7841e27",
   "metadata": {},
   "outputs": [
    {
     "data": {
      "text/plain": [
       "True"
      ]
     },
     "execution_count": 326,
     "metadata": {},
     "output_type": "execute_result"
    }
   ],
   "source": [
    "a <=b"
   ]
  },
  {
   "cell_type": "code",
   "execution_count": 327,
   "id": "6823c242-2bc7-475a-97c8-401ffca6f7b2",
   "metadata": {},
   "outputs": [
    {
     "data": {
      "text/plain": [
       "True"
      ]
     },
     "execution_count": 327,
     "metadata": {},
     "output_type": "execute_result"
    }
   ],
   "source": [
    "a<b"
   ]
  },
  {
   "cell_type": "markdown",
   "id": "ead4fba6-3089-43e0-a4fe-a1d3dc8c0968",
   "metadata": {},
   "source": [
    "#Iterate with FOR and IN"
   ]
  },
  {
   "cell_type": "code",
   "execution_count": 329,
   "id": "681911f5-5f1c-4e27-866a-d44fe7b1be0b",
   "metadata": {},
   "outputs": [],
   "source": [
    "a = [ 1,2,3,4,5,6]"
   ]
  },
  {
   "cell_type": "code",
   "execution_count": 331,
   "id": "6109ef9d-6694-4681-a4c3-bef357ead966",
   "metadata": {},
   "outputs": [
    {
     "name": "stdout",
     "output_type": "stream",
     "text": [
      "1\n",
      "2\n",
      "3\n",
      "4\n",
      "5\n",
      "6\n"
     ]
    }
   ],
   "source": [
    "for item in a:\n",
    "    print(item)"
   ]
  },
  {
   "cell_type": "markdown",
   "id": "c7c10d25-7bdb-4381-9821-71a55fb4c653",
   "metadata": {},
   "source": [
    "---"
   ]
  },
  {
   "cell_type": "code",
   "execution_count": 332,
   "id": "f9579222-0021-4ce1-b988-89557e0ec7d5",
   "metadata": {},
   "outputs": [],
   "source": [
    "cheeses = ['brie', 'gestost', 'havarti']"
   ]
  },
  {
   "cell_type": "code",
   "execution_count": 333,
   "id": "cf9bf20c-c5ab-4c40-92a9-3d0d62f68e99",
   "metadata": {},
   "outputs": [
    {
     "name": "stdout",
     "output_type": "stream",
     "text": [
      "brie\n",
      "gestost\n",
      "havarti\n"
     ]
    }
   ],
   "source": [
    "for cheese in cheeses:\n",
    "    print(cheese)"
   ]
  },
  {
   "cell_type": "code",
   "execution_count": 337,
   "id": "027398d1-2d2c-48b6-ae65-9efff6d0f17a",
   "metadata": {},
   "outputs": [
    {
     "name": "stdout",
     "output_type": "stream",
     "text": [
      "the cheese is brie\n"
     ]
    }
   ],
   "source": [
    "for cheese in cheeses:\n",
    "    if cheese == 'brie':\n",
    "        print('the cheese is', (cheese))\n",
    "        break\n",
    "    else:\n",
    "        print(cheese)"
   ]
  },
  {
   "cell_type": "code",
   "execution_count": 344,
   "id": "403f62f6-c59c-4469-800e-1992c2e6e1a3",
   "metadata": {},
   "outputs": [
    {
     "name": "stdout",
     "output_type": "stream",
     "text": [
      "I love brie\n"
     ]
    }
   ],
   "source": [
    "for cheese in cheeses:\n",
    "    if cheese.startswith('b'):\n",
    "        print(\"I love\", (cheese))\n",
    "        break\n",
    "    else:\n",
    "        print(cheese)"
   ]
  },
  {
   "cell_type": "code",
   "execution_count": 342,
   "id": "a499210e-2bad-4af2-897d-2a71217f3ebb",
   "metadata": {},
   "outputs": [
    {
     "name": "stdout",
     "output_type": "stream",
     "text": [
      "brie\n",
      "gestost\n",
      "havarti\n"
     ]
    }
   ],
   "source": [
    "for cheese in cheeses:\n",
    "    if cheese.startswith('x'):\n",
    "        print(\"I won't eat anything with x\")\n",
    "        break\n",
    "    else:\n",
    "        print(cheese)"
   ]
  },
  {
   "cell_type": "code",
   "execution_count": 347,
   "id": "7d4dba8f-6a75-44c4-add7-11eece8c940c",
   "metadata": {},
   "outputs": [
    {
     "name": "stdout",
     "output_type": "stream",
     "text": [
      "brie\n",
      "gestost\n",
      "havarti\n",
      "this at the end\n"
     ]
    }
   ],
   "source": [
    "for cheese in cheeses:\n",
    "    if cheese.startswith('x'):\n",
    "        print(\"I won't eat anything with x\")\n",
    "        break\n",
    "    else:\n",
    "        print(cheese)\n",
    "else:\n",
    "    print('this at the end')"
   ]
  },
  {
   "cell_type": "markdown",
   "id": "948e6b2c-cf1a-4937-8058-87a21bde429c",
   "metadata": {},
   "source": [
    "---"
   ]
  },
  {
   "cell_type": "markdown",
   "id": "36c2657d-bce3-4e0b-b758-0fb97dfea3dd",
   "metadata": {},
   "source": [
    "#### if initial FOR never ran"
   ]
  },
  {
   "cell_type": "code",
   "execution_count": 348,
   "id": "fd8e3ed9-00f6-4316-bcd6-f6a8b356aac9",
   "metadata": {},
   "outputs": [],
   "source": [
    "cheeses = []"
   ]
  },
  {
   "cell_type": "code",
   "execution_count": 349,
   "id": "2ceae1ab-5281-4657-894f-9bccff2da951",
   "metadata": {},
   "outputs": [
    {
     "name": "stdout",
     "output_type": "stream",
     "text": [
      "this at the end\n"
     ]
    }
   ],
   "source": [
    "for cheese in cheeses:\n",
    "    if cheese.startswith('x'):\n",
    "        print(\"I won't eat anything with x\")\n",
    "        break\n",
    "    else:\n",
    "        print(cheese)\n",
    "else:\n",
    "    print('this at the end')"
   ]
  },
  {
   "cell_type": "code",
   "execution_count": 350,
   "id": "6336d13f-fe3d-426d-9c5e-d700906f779d",
   "metadata": {},
   "outputs": [],
   "source": [
    "# in this example, the initial FOR loop did not even run -- so it goes straight to the ELSE\n",
    "\n",
    "# and the break statemenet was not even executed"
   ]
  },
  {
   "cell_type": "markdown",
   "id": "17b5e133-ef2c-495d-af62-7a29db2f41d2",
   "metadata": {},
   "source": [
    "---"
   ]
  },
  {
   "cell_type": "markdown",
   "id": "5cf25e75-ed19-476e-878d-f08e2bd47665",
   "metadata": {},
   "source": [
    "# Iterate multiple times with ZIP"
   ]
  },
  {
   "cell_type": "markdown",
   "id": "39f13542-0366-461f-afec-52adf8a4606b",
   "metadata": {},
   "source": [
    "<font color = 'red'>Iterate over multiple sequences"
   ]
  },
  {
   "cell_type": "code",
   "execution_count": 351,
   "id": "fa1fa7ba-32ed-492d-ba88-ef1f0e330af0",
   "metadata": {},
   "outputs": [],
   "source": [
    "a = ['a', 'b', 'c', 'd']\n",
    "\n",
    "b = ['e', 'f', 'g']\n",
    "\n",
    "c = ['h', 'i', 'j', 'k', 'l']"
   ]
  },
  {
   "cell_type": "code",
   "execution_count": 356,
   "id": "3936813d-dd6d-4388-b7ed-4c467ab58d2e",
   "metadata": {},
   "outputs": [
    {
     "name": "stdout",
     "output_type": "stream",
     "text": [
      "a1 a b1 e c1 h\n",
      "a1 b b1 f c1 i\n",
      "a1 c b1 g c1 j\n"
     ]
    }
   ],
   "source": [
    "for a1, b1, c1 in zip(a,b,c):\n",
    "    print(\"a1\", a1, \"b1\", b1, \"c1\", c1)"
   ]
  },
  {
   "cell_type": "code",
   "execution_count": 353,
   "id": "79b91ead-691d-4ff9-bc2a-80720229e003",
   "metadata": {},
   "outputs": [],
   "source": [
    "days = ['Monday', 'Tuesday', 'Wednesday']\n",
    "fruits = ['banana', 'orange', 'peach']\n",
    "drinks = ['coffee', 'tea', 'beer']\n",
    "desserts = ['tiramisu', 'ice cream', 'pie', 'pudding']"
   ]
  },
  {
   "cell_type": "code",
   "execution_count": 354,
   "id": "e40bcefb-3cd1-45cb-9af1-5f8c95d463fc",
   "metadata": {},
   "outputs": [
    {
     "name": "stdout",
     "output_type": "stream",
     "text": [
      "Monday : drink coffee - eat banana - enjoy tiramisu\n",
      "Tuesday : drink tea - eat orange - enjoy ice cream\n",
      "Wednesday : drink beer - eat peach - enjoy pie\n"
     ]
    }
   ],
   "source": [
    "for day, fruit, drink, dessert in zip(days, fruits, drinks, desserts):\n",
    "    print(day, \": drink\", drink, \"- eat\", fruit, \"- enjoy\", dessert)"
   ]
  },
  {
   "cell_type": "markdown",
   "id": "78a7242b-be7e-430f-9020-20897f50f4e7",
   "metadata": {},
   "source": [
    "---"
   ]
  },
  {
   "cell_type": "code",
   "execution_count": 357,
   "id": "0a30787b-c6a1-453f-8c0f-d0917089ae3d",
   "metadata": {},
   "outputs": [
    {
     "name": "stdout",
     "output_type": "stream",
     "text": [
      "a e h\n",
      "b f i\n",
      "c g j\n"
     ]
    }
   ],
   "source": [
    "for a1, b1, c1 in zip(a,b,c):\n",
    "    print(a1, b1, c1)"
   ]
  },
  {
   "cell_type": "markdown",
   "id": "141a0c33-7882-44ae-b18f-3e5dcc3df1a8",
   "metadata": {},
   "source": [
    "---"
   ]
  },
  {
   "cell_type": "markdown",
   "id": "4980b87b-5f80-4c6b-9e73-f578b7e64e01",
   "metadata": {},
   "source": [
    "### Working with Tuples"
   ]
  },
  {
   "cell_type": "code",
   "execution_count": 359,
   "id": "4aeabde1-5130-4571-8494-f2d361c19e43",
   "metadata": {},
   "outputs": [],
   "source": [
    "english = ('Monday', 'Tuesday', 'Wednesday')\n",
    "french = ('Lundi', 'Mardi', 'Mercredi')"
   ]
  },
  {
   "cell_type": "code",
   "execution_count": 360,
   "id": "bf6e44e1-19d5-48c0-b4eb-595916aac2b4",
   "metadata": {},
   "outputs": [],
   "source": [
    "# when you use zip on tupoes, the result is not a tuple or list, but an iterable value that cna be turned into one"
   ]
  },
  {
   "cell_type": "markdown",
   "id": "af228c78-d864-4525-9a1b-4f9998061029",
   "metadata": {},
   "source": [
    "########LIST"
   ]
  },
  {
   "cell_type": "code",
   "execution_count": 361,
   "id": "c8d13436-76d4-401c-9bda-a9dc105e1d1a",
   "metadata": {},
   "outputs": [
    {
     "data": {
      "text/plain": [
       "[('Monday', 'Lundi'), ('Tuesday', 'Mardi'), ('Wednesday', 'Mercredi')]"
      ]
     },
     "execution_count": 361,
     "metadata": {},
     "output_type": "execute_result"
    }
   ],
   "source": [
    "list(zip(english, french))"
   ]
  },
  {
   "cell_type": "markdown",
   "id": "f45691fa-a07d-4d97-9b22-404c153f146f",
   "metadata": {},
   "source": [
    "#########DICT"
   ]
  },
  {
   "cell_type": "code",
   "execution_count": 362,
   "id": "bf899d08-605b-4c11-9713-497e31a6f35a",
   "metadata": {},
   "outputs": [
    {
     "data": {
      "text/plain": [
       "{'Monday': 'Lundi', 'Tuesday': 'Mardi', 'Wednesday': 'Mercredi'}"
      ]
     },
     "execution_count": 362,
     "metadata": {},
     "output_type": "execute_result"
    }
   ],
   "source": [
    "dict(zip(english, french))"
   ]
  },
  {
   "cell_type": "markdown",
   "id": "26ed02ed-2442-49e6-a50f-607c5c9d1af4",
   "metadata": {},
   "source": [
    "---"
   ]
  },
  {
   "cell_type": "markdown",
   "id": "4d4d763c-678d-4b4a-9b3f-3c0a8fab3ec4",
   "metadata": {},
   "source": [
    "# Create list with COMPREHENSION"
   ]
  },
  {
   "cell_type": "code",
   "execution_count": null,
   "id": "f329c12a-cb89-45c9-962d-72e1e920a68d",
   "metadata": {},
   "outputs": [],
   "source": []
  }
 ],
 "metadata": {
  "kernelspec": {
   "display_name": "Python 3 (ipykernel)",
   "language": "python",
   "name": "python3"
  },
  "language_info": {
   "codemirror_mode": {
    "name": "ipython",
    "version": 3
   },
   "file_extension": ".py",
   "mimetype": "text/x-python",
   "name": "python",
   "nbconvert_exporter": "python",
   "pygments_lexer": "ipython3",
   "version": "3.9.12"
  }
 },
 "nbformat": 4,
 "nbformat_minor": 5
}
