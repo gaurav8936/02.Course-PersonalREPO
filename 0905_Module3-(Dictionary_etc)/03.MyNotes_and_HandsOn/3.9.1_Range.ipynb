{
 "cells": [
  {
   "cell_type": "markdown",
   "id": "4bb949e3-938a-42d1-86aa-9055f03d1f9c",
   "metadata": {},
   "source": [
    "# Range"
   ]
  },
  {
   "cell_type": "code",
   "execution_count": 4,
   "id": "d5ff6458-f90d-462c-bf29-78542e1405bc",
   "metadata": {},
   "outputs": [],
   "source": [
    "a = range(1,10)"
   ]
  },
  {
   "cell_type": "code",
   "execution_count": 5,
   "id": "f909d781-1673-4876-afad-e1b7e61a72fc",
   "metadata": {},
   "outputs": [
    {
     "name": "stdout",
     "output_type": "stream",
     "text": [
      "range(1, 10)\n"
     ]
    }
   ],
   "source": [
    "print(a)"
   ]
  },
  {
   "cell_type": "code",
   "execution_count": 6,
   "id": "51647dd5-bdba-484c-8ade-63958412af6d",
   "metadata": {},
   "outputs": [
    {
     "data": {
      "text/plain": [
       "[1, 2, 3, 4, 5, 6, 7, 8, 9]"
      ]
     },
     "execution_count": 6,
     "metadata": {},
     "output_type": "execute_result"
    }
   ],
   "source": [
    "list(a)"
   ]
  },
  {
   "cell_type": "code",
   "execution_count": 7,
   "id": "5a0771bc-9a1d-4108-9d79-4525577eaa2a",
   "metadata": {},
   "outputs": [
    {
     "data": {
      "text/plain": [
       "[2, 3, 4, 5, 6, 7, 8, 9, 10, 11, 12, 13, 14, 15, 16, 17, 18, 19]"
      ]
     },
     "execution_count": 7,
     "metadata": {},
     "output_type": "execute_result"
    }
   ],
   "source": [
    "list(range(2,20))"
   ]
  },
  {
   "cell_type": "code",
   "execution_count": 8,
   "id": "a745efe1-52cb-478f-a9cb-f33229abe0be",
   "metadata": {},
   "outputs": [],
   "source": [
    "start = 0\n",
    "stop = 10\n",
    "step = 1"
   ]
  },
  {
   "cell_type": "code",
   "execution_count": 9,
   "id": "0a9bc526-c03f-4a4f-8621-3f23d8426e9b",
   "metadata": {},
   "outputs": [
    {
     "name": "stdout",
     "output_type": "stream",
     "text": [
      "[0, 1, 2, 3, 4, 5, 6, 7, 8, 9]\n"
     ]
    }
   ],
   "source": [
    "print(list(range(start, stop, step)))"
   ]
  },
  {
   "cell_type": "code",
   "execution_count": 10,
   "id": "8d492c0f-d1f1-4eee-99de-cd4a3b1b9d48",
   "metadata": {},
   "outputs": [],
   "source": [
    "step = 5"
   ]
  },
  {
   "cell_type": "code",
   "execution_count": 11,
   "id": "41d361d4-03a9-499e-9843-6aedbac336c3",
   "metadata": {},
   "outputs": [
    {
     "name": "stdout",
     "output_type": "stream",
     "text": [
      "[0, 5]\n"
     ]
    }
   ],
   "source": [
    "print(list(range(start, stop, step)))"
   ]
  },
  {
   "cell_type": "code",
   "execution_count": 12,
   "id": "984dc6b5-1a7a-4d59-a7b4-8b48686da309",
   "metadata": {},
   "outputs": [],
   "source": [
    "stop = 100"
   ]
  },
  {
   "cell_type": "code",
   "execution_count": 13,
   "id": "3446ddd2-57c3-44cb-bb7a-789116bf1561",
   "metadata": {},
   "outputs": [],
   "source": [
    "step = 10"
   ]
  },
  {
   "cell_type": "code",
   "execution_count": 14,
   "id": "e991a170-f126-40e9-94fd-115f2345f749",
   "metadata": {},
   "outputs": [
    {
     "name": "stdout",
     "output_type": "stream",
     "text": [
      "[0, 10, 20, 30, 40, 50, 60, 70, 80, 90]\n"
     ]
    }
   ],
   "source": [
    "print(list(range(start, stop, step)))"
   ]
  },
  {
   "cell_type": "code",
   "execution_count": 15,
   "id": "d0ddba8b-4a15-4c58-b589-d08239010d8f",
   "metadata": {},
   "outputs": [],
   "source": [
    "stop += 1"
   ]
  },
  {
   "cell_type": "code",
   "execution_count": 16,
   "id": "be2faef8-d105-41f8-8000-da0e98463088",
   "metadata": {},
   "outputs": [
    {
     "name": "stdout",
     "output_type": "stream",
     "text": [
      "[0, 10, 20, 30, 40, 50, 60, 70, 80, 90, 100]\n"
     ]
    }
   ],
   "source": [
    "print(list(range(start, stop, step)))"
   ]
  },
  {
   "cell_type": "code",
   "execution_count": 18,
   "id": "0705d968-dc3a-4fcc-9c23-c2d83ac1c508",
   "metadata": {},
   "outputs": [
    {
     "data": {
      "text/plain": [
       "range(1, 10)"
      ]
     },
     "execution_count": 18,
     "metadata": {},
     "output_type": "execute_result"
    }
   ],
   "source": [
    "a"
   ]
  },
  {
   "cell_type": "code",
   "execution_count": 19,
   "id": "002c2520-42ef-42a7-b355-e616e867a1c8",
   "metadata": {},
   "outputs": [
    {
     "data": {
      "text/plain": [
       "True"
      ]
     },
     "execution_count": 19,
     "metadata": {},
     "output_type": "execute_result"
    }
   ],
   "source": [
    "5 in a"
   ]
  },
  {
   "cell_type": "code",
   "execution_count": 21,
   "id": "0ebd5057-84cc-449a-89a0-7718281e9f94",
   "metadata": {},
   "outputs": [
    {
     "data": {
      "text/plain": [
       "1"
      ]
     },
     "execution_count": 21,
     "metadata": {},
     "output_type": "execute_result"
    }
   ],
   "source": [
    "a.index(2)"
   ]
  },
  {
   "cell_type": "code",
   "execution_count": 22,
   "id": "ce4ad84b-bfda-432a-9b47-4c0d7ea0e365",
   "metadata": {},
   "outputs": [
    {
     "data": {
      "text/plain": [
       "True"
      ]
     },
     "execution_count": 22,
     "metadata": {},
     "output_type": "execute_result"
    }
   ],
   "source": [
    "15 not in a"
   ]
  },
  {
   "cell_type": "code",
   "execution_count": 23,
   "id": "a215eac5-0435-490b-95c7-7a8e95ef80d7",
   "metadata": {},
   "outputs": [
    {
     "data": {
      "text/plain": [
       "False"
      ]
     },
     "execution_count": 23,
     "metadata": {},
     "output_type": "execute_result"
    }
   ],
   "source": [
    "5 not in a"
   ]
  },
  {
   "cell_type": "code",
   "execution_count": null,
   "id": "25af9488-15ed-4dab-9265-edc45ef64363",
   "metadata": {},
   "outputs": [],
   "source": []
  }
 ],
 "metadata": {
  "kernelspec": {
   "display_name": "Python 3 (ipykernel)",
   "language": "python",
   "name": "python3"
  },
  "language_info": {
   "codemirror_mode": {
    "name": "ipython",
    "version": 3
   },
   "file_extension": ".py",
   "mimetype": "text/x-python",
   "name": "python",
   "nbconvert_exporter": "python",
   "pygments_lexer": "ipython3",
   "version": "3.9.12"
  }
 },
 "nbformat": 4,
 "nbformat_minor": 5
}
