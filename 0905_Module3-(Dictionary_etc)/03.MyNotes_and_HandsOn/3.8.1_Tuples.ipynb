{
 "cells": [
  {
   "cell_type": "markdown",
   "id": "63533c31-d9ab-4e86-8b6b-044d798c8942",
   "metadata": {},
   "source": [
    "# Tuples"
   ]
  },
  {
   "cell_type": "code",
   "execution_count": 1,
   "id": "841f2b75-31f2-4dee-ab1e-43f401d0f202",
   "metadata": {},
   "outputs": [],
   "source": [
    "# tuples are the immutable cousins of lists"
   ]
  },
  {
   "cell_type": "code",
   "execution_count": 2,
   "id": "b89ccb1a-652e-40a3-bb48-c437128bf0e3",
   "metadata": {},
   "outputs": [],
   "source": [
    "x = (1,2,3)"
   ]
  },
  {
   "cell_type": "code",
   "execution_count": 3,
   "id": "80419fee-f9fc-43ff-a287-731bb2f960cf",
   "metadata": {},
   "outputs": [
    {
     "data": {
      "text/plain": [
       "(1, 2, 3)"
      ]
     },
     "execution_count": 3,
     "metadata": {},
     "output_type": "execute_result"
    }
   ],
   "source": [
    "x"
   ]
  },
  {
   "cell_type": "code",
   "execution_count": 4,
   "id": "1e944941-7c87-4d4a-b2e2-fb913841b5ea",
   "metadata": {},
   "outputs": [
    {
     "data": {
      "text/plain": [
       "tuple"
      ]
     },
     "execution_count": 4,
     "metadata": {},
     "output_type": "execute_result"
    }
   ],
   "source": [
    "type(x)"
   ]
  },
  {
   "cell_type": "code",
   "execution_count": 5,
   "id": "50468b09-8d0d-4ec4-a04b-9ccd8ae63844",
   "metadata": {},
   "outputs": [
    {
     "data": {
      "text/plain": [
       "3"
      ]
     },
     "execution_count": 5,
     "metadata": {},
     "output_type": "execute_result"
    }
   ],
   "source": [
    "max(x)"
   ]
  },
  {
   "cell_type": "code",
   "execution_count": 6,
   "id": "185297e4-7660-40be-b3f5-7636c68a4a7f",
   "metadata": {},
   "outputs": [
    {
     "data": {
      "text/plain": [
       "3"
      ]
     },
     "execution_count": 6,
     "metadata": {},
     "output_type": "execute_result"
    }
   ],
   "source": [
    "len(x)"
   ]
  },
  {
   "cell_type": "code",
   "execution_count": 7,
   "id": "f807fa89-5fbe-40ec-a0ba-6424cd7ef073",
   "metadata": {},
   "outputs": [
    {
     "data": {
      "text/plain": [
       "1"
      ]
     },
     "execution_count": 7,
     "metadata": {},
     "output_type": "execute_result"
    }
   ],
   "source": [
    "x[0]"
   ]
  },
  {
   "cell_type": "code",
   "execution_count": 8,
   "id": "f9910967-3d76-4f9a-8c67-ff1c6a75b9b4",
   "metadata": {},
   "outputs": [
    {
     "data": {
      "text/plain": [
       "(1, 3)"
      ]
     },
     "execution_count": 8,
     "metadata": {},
     "output_type": "execute_result"
    }
   ],
   "source": [
    "x[::2]"
   ]
  },
  {
   "cell_type": "code",
   "execution_count": 9,
   "id": "fb03783d-4e96-43cf-bff9-f91ec1dfc062",
   "metadata": {},
   "outputs": [],
   "source": [
    "# it did not return a list -- just another tuple"
   ]
  },
  {
   "cell_type": "code",
   "execution_count": 10,
   "id": "01202264-74ad-495c-ad9d-023a2b073123",
   "metadata": {},
   "outputs": [
    {
     "data": {
      "text/plain": [
       "(1, 2, 3, 10, 11, 12)"
      ]
     },
     "execution_count": 10,
     "metadata": {},
     "output_type": "execute_result"
    }
   ],
   "source": [
    "x + (10,11,12)"
   ]
  },
  {
   "cell_type": "code",
   "execution_count": 17,
   "id": "c5d6ea22-3d5f-4221-b904-7128fa2a6e1b",
   "metadata": {},
   "outputs": [
    {
     "data": {
      "text/plain": [
       "(1, 2, 3, 10, 11, 12)"
      ]
     },
     "execution_count": 17,
     "metadata": {},
     "output_type": "execute_result"
    }
   ],
   "source": [
    "x"
   ]
  },
  {
   "cell_type": "code",
   "execution_count": 18,
   "id": "3c0cdfde-53ea-4a2d-a886-3bd4bcb2ef3e",
   "metadata": {},
   "outputs": [
    {
     "data": {
      "text/plain": [
       "140423826200320"
      ]
     },
     "execution_count": 18,
     "metadata": {},
     "output_type": "execute_result"
    }
   ],
   "source": [
    "id(x)"
   ]
  },
  {
   "cell_type": "code",
   "execution_count": 12,
   "id": "eccf52ca-15bd-4e78-8147-6213ee7de56e",
   "metadata": {},
   "outputs": [],
   "source": [
    "# it did not change the original tuple"
   ]
  },
  {
   "cell_type": "code",
   "execution_count": 19,
   "id": "37206743-75f9-4d2e-ac02-e88526bf80e0",
   "metadata": {},
   "outputs": [],
   "source": [
    "x = x + (10,11,12)"
   ]
  },
  {
   "cell_type": "code",
   "execution_count": 20,
   "id": "a049045e-d5fa-448f-8e66-f5962611ea85",
   "metadata": {},
   "outputs": [
    {
     "data": {
      "text/plain": [
       "(1, 2, 3, 10, 11, 12, 10, 11, 12)"
      ]
     },
     "execution_count": 20,
     "metadata": {},
     "output_type": "execute_result"
    }
   ],
   "source": [
    "x"
   ]
  },
  {
   "cell_type": "code",
   "execution_count": 21,
   "id": "838772bc-290b-457e-9844-860b821af14f",
   "metadata": {},
   "outputs": [
    {
     "data": {
      "text/plain": [
       "140423555408720"
      ]
     },
     "execution_count": 21,
     "metadata": {},
     "output_type": "execute_result"
    }
   ],
   "source": [
    "id(x)"
   ]
  },
  {
   "cell_type": "code",
   "execution_count": 15,
   "id": "0060af9e-a2b9-4d70-9f6e-6cb8135faaad",
   "metadata": {},
   "outputs": [],
   "source": [
    "# this is a new tuple object"
   ]
  },
  {
   "cell_type": "code",
   "execution_count": 16,
   "id": "0dc70a92-266b-496c-82db-b0df2c6e78cf",
   "metadata": {},
   "outputs": [],
   "source": [
    "# reassigned variable x to point to the new object"
   ]
  },
  {
   "cell_type": "code",
   "execution_count": 22,
   "id": "2951b72e-2bed-4ccc-9a32-83de82bbf3e8",
   "metadata": {},
   "outputs": [
    {
     "data": {
      "text/plain": [
       "(1, 2, 3, 10, 11, 12, 10, 11, 12, 1, 3, 11, 10, 12)"
      ]
     },
     "execution_count": 22,
     "metadata": {},
     "output_type": "execute_result"
    }
   ],
   "source": [
    "x + x[::2]"
   ]
  },
  {
   "cell_type": "code",
   "execution_count": 23,
   "id": "7fe2c9bc-6a41-4233-bb7b-26b3d589737c",
   "metadata": {},
   "outputs": [
    {
     "data": {
      "text/plain": [
       "140423555408720"
      ]
     },
     "execution_count": 23,
     "metadata": {},
     "output_type": "execute_result"
    }
   ],
   "source": [
    "id(x)"
   ]
  },
  {
   "cell_type": "markdown",
   "id": "dbd02384-444c-4eea-bf2b-7df15a93e975",
   "metadata": {},
   "source": [
    "---"
   ]
  },
  {
   "cell_type": "code",
   "execution_count": 24,
   "id": "ebf4c0a4-0b16-4803-b235-7ce06cf08d8d",
   "metadata": {},
   "outputs": [],
   "source": [
    "a_list = [1,2,3]"
   ]
  },
  {
   "cell_type": "code",
   "execution_count": 25,
   "id": "a9422ca3-4646-46ab-891c-0cac9a057438",
   "metadata": {},
   "outputs": [],
   "source": [
    "a_tuple = (a_list)"
   ]
  },
  {
   "cell_type": "code",
   "execution_count": 26,
   "id": "b16c454a-77a6-4e06-a1e6-6607efd29d17",
   "metadata": {},
   "outputs": [
    {
     "data": {
      "text/plain": [
       "[1, 2, 3]"
      ]
     },
     "execution_count": 26,
     "metadata": {},
     "output_type": "execute_result"
    }
   ],
   "source": [
    "a_tuple"
   ]
  },
  {
   "cell_type": "code",
   "execution_count": 27,
   "id": "5854a0c6-fb0e-48ef-8b6e-655030f7bdb7",
   "metadata": {},
   "outputs": [],
   "source": [
    "a_tuple = tuple(a_list\n",
    "            )"
   ]
  },
  {
   "cell_type": "code",
   "execution_count": 28,
   "id": "630dc503-150b-46a2-85f8-b44221d723f6",
   "metadata": {},
   "outputs": [
    {
     "data": {
      "text/plain": [
       "(1, 2, 3)"
      ]
     },
     "execution_count": 28,
     "metadata": {},
     "output_type": "execute_result"
    }
   ],
   "source": [
    "a_tuple"
   ]
  },
  {
   "cell_type": "markdown",
   "id": "757225b4-5066-4c8e-8d0f-4589373b0515",
   "metadata": {},
   "source": [
    "---"
   ]
  },
  {
   "cell_type": "code",
   "execution_count": 29,
   "id": "b3773a65-bcb8-458f-a8ff-e83550eb5f81",
   "metadata": {},
   "outputs": [],
   "source": [
    "# if you want to mutate a tupoe, convert it to a list first"
   ]
  },
  {
   "cell_type": "code",
   "execution_count": 30,
   "id": "97341fd3-a72f-46f2-86f6-4f6e45c82727",
   "metadata": {},
   "outputs": [],
   "source": [
    "mylist = list(a_tuple)"
   ]
  },
  {
   "cell_type": "code",
   "execution_count": 31,
   "id": "693eec54-432f-4f81-996c-ba78b804284e",
   "metadata": {},
   "outputs": [
    {
     "data": {
      "text/plain": [
       "[1, 2, 3]"
      ]
     },
     "execution_count": 31,
     "metadata": {},
     "output_type": "execute_result"
    }
   ],
   "source": [
    "mylist"
   ]
  },
  {
   "cell_type": "code",
   "execution_count": 32,
   "id": "3e5d5410-c8cf-4e4a-9639-8971086c9c12",
   "metadata": {},
   "outputs": [],
   "source": [
    "mylist[0] = 100"
   ]
  },
  {
   "cell_type": "code",
   "execution_count": 33,
   "id": "10fea44f-af97-4f57-881d-7ef405ea4027",
   "metadata": {},
   "outputs": [
    {
     "data": {
      "text/plain": [
       "[100, 2, 3]"
      ]
     },
     "execution_count": 33,
     "metadata": {},
     "output_type": "execute_result"
    }
   ],
   "source": [
    "mylist"
   ]
  },
  {
   "cell_type": "markdown",
   "id": "93e8ebfa-f2bc-4823-bbfb-d0428ca56109",
   "metadata": {},
   "source": [
    "---"
   ]
  },
  {
   "cell_type": "markdown",
   "id": "f1022407-bd1b-4462-8520-5ca8c3c1bc42",
   "metadata": {},
   "source": [
    "<font size = 6, color = red>Tuples and Strings are alike -- both are immutable and have similar properties"
   ]
  },
  {
   "cell_type": "code",
   "execution_count": 34,
   "id": "f0c54b15-87e4-41ee-88bb-c0943f775289",
   "metadata": {},
   "outputs": [],
   "source": [
    "x2 = \"goodbye\""
   ]
  },
  {
   "cell_type": "code",
   "execution_count": 36,
   "id": "56c04b0b-209e-4de3-9442-89e8f469dbab",
   "metadata": {},
   "outputs": [
    {
     "data": {
      "text/plain": [
       "(1, 2, 3, 10)"
      ]
     },
     "execution_count": 36,
     "metadata": {},
     "output_type": "execute_result"
    }
   ],
   "source": [
    "x[0:4]"
   ]
  },
  {
   "cell_type": "code",
   "execution_count": 38,
   "id": "a6dccea7-86c8-4570-bd74-b652712e7146",
   "metadata": {},
   "outputs": [
    {
     "data": {
      "text/plain": [
       "['g', 'o', 'o', 'd', 'b', 'y', 'e']"
      ]
     },
     "execution_count": 38,
     "metadata": {},
     "output_type": "execute_result"
    }
   ],
   "source": [
    "list(x2)"
   ]
  },
  {
   "cell_type": "code",
   "execution_count": 39,
   "id": "13e01462-359e-442f-ae85-bb784890cd6b",
   "metadata": {},
   "outputs": [
    {
     "data": {
      "text/plain": [
       "'gobe'"
      ]
     },
     "execution_count": 39,
     "metadata": {},
     "output_type": "execute_result"
    }
   ],
   "source": [
    "x2[::2]"
   ]
  },
  {
   "cell_type": "markdown",
   "id": "687b6bbd-ae63-40c3-96b6-e8a9d30eeaf2",
   "metadata": {},
   "source": [
    "---"
   ]
  },
  {
   "cell_type": "code",
   "execution_count": 40,
   "id": "0c0650b0-f2d7-4ab9-a0eb-b703f1b59b71",
   "metadata": {},
   "outputs": [],
   "source": [
    "# why tuple?"
   ]
  },
  {
   "cell_type": "code",
   "execution_count": 41,
   "id": "ab9639f8-74c5-4e8e-b880-3c19f448c263",
   "metadata": {},
   "outputs": [],
   "source": [
    "x3 = (1,1,11,2,2,)"
   ]
  },
  {
   "cell_type": "code",
   "execution_count": 42,
   "id": "cf9269d7-7cfb-4a95-8d6d-d1b5603208c7",
   "metadata": {},
   "outputs": [
    {
     "data": {
      "text/plain": [
       "(1, 1, 11, 2, 2)"
      ]
     },
     "execution_count": 42,
     "metadata": {},
     "output_type": "execute_result"
    }
   ],
   "source": [
    "x3"
   ]
  },
  {
   "cell_type": "code",
   "execution_count": 43,
   "id": "3736cd85-4edd-4afd-a57b-18770139e5fa",
   "metadata": {},
   "outputs": [
    {
     "data": {
      "text/plain": [
       "tuple"
      ]
     },
     "execution_count": 43,
     "metadata": {},
     "output_type": "execute_result"
    }
   ],
   "source": [
    "type(x3)"
   ]
  },
  {
   "cell_type": "markdown",
   "id": "1e6d9de5-d1f3-4d02-90d8-b054778757cc",
   "metadata": {},
   "source": [
    "---"
   ]
  },
  {
   "cell_type": "markdown",
   "id": "b697fd7d-8279-4ecd-882c-e9d22a94794e",
   "metadata": {},
   "source": [
    "### assign myltiple variables"
   ]
  },
  {
   "cell_type": "code",
   "execution_count": 44,
   "id": "9e5353a9-aeeb-4812-a8b6-d33276e4b2a4",
   "metadata": {},
   "outputs": [],
   "source": [
    "low, high = 10,20"
   ]
  },
  {
   "cell_type": "code",
   "execution_count": 45,
   "id": "17a9ffd5-0b37-40b5-b234-02927285764d",
   "metadata": {},
   "outputs": [
    {
     "name": "stdout",
     "output_type": "stream",
     "text": [
      "10 20\n"
     ]
    }
   ],
   "source": [
    "print(low, high)"
   ]
  },
  {
   "cell_type": "markdown",
   "id": "71f9af8f-77e9-495a-bbc6-b7312f2a07ff",
   "metadata": {},
   "source": [
    "# we ahve assigned two variable to two different objects with one statement"
   ]
  },
  {
   "cell_type": "code",
   "execution_count": null,
   "id": "5ad37cc9-42fe-407b-b59a-d48691f4136f",
   "metadata": {},
   "outputs": [],
   "source": []
  }
 ],
 "metadata": {
  "kernelspec": {
   "display_name": "Python 3 (ipykernel)",
   "language": "python",
   "name": "python3"
  },
  "language_info": {
   "codemirror_mode": {
    "name": "ipython",
    "version": 3
   },
   "file_extension": ".py",
   "mimetype": "text/x-python",
   "name": "python",
   "nbconvert_exporter": "python",
   "pygments_lexer": "ipython3",
   "version": "3.9.12"
  }
 },
 "nbformat": 4,
 "nbformat_minor": 5
}
