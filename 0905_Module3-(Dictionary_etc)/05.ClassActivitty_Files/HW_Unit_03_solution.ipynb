{
 "cells": [
  {
   "cell_type": "markdown",
   "metadata": {},
   "source": [
    "## Week 3 Assignment -  DATASCI200 Introduction to Data Science Programming, UC Berkeley MIDS"
   ]
  },
  {
   "cell_type": "markdown",
   "metadata": {},
   "source": [
    "Write code in this Jupyter Notebook to solve the following problems. Please upload this **Notebook** with your solutions to your GitHub repository and gradescope.\n",
    "\n",
    "Assignment due date: 11:59PM PST the night before the Week 4 Live Session."
   ]
  },
  {
   "cell_type": "markdown",
   "metadata": {},
   "source": [
    "## Objectives:\n",
    "\n",
    "- More practice with while loops, if statements and gathering user inputs\n",
    "- Demonstrate use of Python data structures such as lists, tuples, and dictionaries\n",
    "- Understand how to add items to these data structures and print the contents of each to the user"
   ]
  },
  {
   "cell_type": "markdown",
   "metadata": {},
   "source": [
    "## General Guidelines:\n",
    "\n",
    "- In each code block, do NOT delete the ### comment at the top of a cell (it's needed for the auto-grading!)\n",
    "  - Full autograder tests and results are on gradescope.\n",
    "  - You may upload and run the autograder as many times as needed in your time window to get full points\n",
    "  - The assignment needs to be named HW_Unit_03.ipynb to be graded from the autograder!\n",
    "  - The examples given are samples of how we will test/grade your code. Please ensure your code outputs the same information.\n",
    "    - In addition to the given example, the autograder will test other examples\n",
    "    - Each autograder test tells you what input it is using\n",
    "  - The autograder once complete will show the tests that are passed and failed and your total score\n",
    "  - The autograder fails for a couple of reasons:\n",
    "    - Your code crashes with that input (for example: `Test Failed: string index out of range`)\n",
    "    - Your code output does not match the 'correct' output (for example: `Test Failed: '1 2 3 2 1' != '1 4 6 4 1'`)\n",
    "- Limited user input validation and error checking is encouraged on this assignment. Each question below will indicate the type of input that you can expect. (for example, if the question states the input will be an integer, you can expect the user to input an integer and do not need to check to ensure it is an integer versus a float or a string)\n",
    "- Adding comments in your code is strongly suggested but won't be graded.\n",
    "- If you are stuck on a problem or do not understand a question - please come to office hours or ask questions to the class slack channel (please don't post your code though). If it is a coding problem send a private email to all of the instructors at: mids-python-instructors@googlegroups.com\n",
    "- You may use any libraries from the Python Standard Library for this assignment: https://docs.python.org/3/library/\n",
    "- We also have tutors if you would like a 1 on 1 session!"
   ]
  },
  {
   "cell_type": "markdown",
   "metadata": {},
   "source": [
    "## Grading Rubric\n",
    "\n",
    "General grading rubric guidelines / philosophy:\n",
    "\n",
    "- The total possible points will be shown for each question\n",
    "- Please read each question carefully to understand the requirements\n",
    "- Points for each question are rewarded based on how well your code fulfills those requirements\n",
    "- All of the problems have an example given to help show what is needed and how to format the answer\n",
    "\n",
    "More on grading:\n",
    "- If the question is blank / not attempted, no points will be given\n",
    "- Most points are given for code that runs (does not crash) and fulfills the requirements"
   ]
  },
  {
   "cell_type": "markdown",
   "metadata": {
    "collapsed": true
   },
   "source": [
    "### 3-1. Pig Latin Translator (25 points)\n",
    "\n",
    "Write code that translates a name into (simplified) Pig Latin. (Please do not make this a 'real' Pig Latin translator.)  Have your script ask the user for his or her name, which can comprise first, middle, and/or last parts. For each name part, move the first letter to the end of the part and append the letters \"ay\". Make sure that only the first letter of each word in your output is capitalized. You can use the ```split()``` method on the string to create a list of the name parts. Be sure that your script can handle one, two or three name parts separated by spaces. This will likely involve a loop.\n",
    "\n",
    "Your script should re-create the following example exactly:\n",
    "\n",
    "```\n",
    "Enter your name: Paul Laskowski\n",
    "\n",
    "Aulpay Askowskilay\n",
    "```\n",
    "\n",
    "##### Video Walk-through:\n",
    "https://drive.google.com/open?id=1qEoMdjkOX3irLiPcyfdPZb59L3UI1poy"
   ]
  },
  {
   "cell_type": "code",
   "execution_count": null,
   "metadata": {},
   "outputs": [],
   "source": [
    "# 1) Get user of 1-3 names\n",
    "# 2) Iterate through those names moving first to the end and add 'ay'\n",
    "# 3) Then print off the names"
   ]
  },
  {
   "cell_type": "code",
   "execution_count": 1,
   "metadata": {},
   "outputs": [
    {
     "name": "stdout",
     "output_type": "stream",
     "text": [
      "Enter your name: Paul Laskowski\n",
      "Aulpay Askowskilay\n"
     ]
    }
   ],
   "source": [
    "### Q3-1 Grading Tag: Please put your entire solution in this cell. Don't edit this line.\n",
    "### Rob's solution from the video: \n",
    "\n",
    "name_list = input(\"Enter your name: \").split()\n",
    "\n",
    "pig_list = []\n",
    "for name in name_list:\n",
    "    pig_name = (name[1:] + name[0] + 'ay').capitalize()\n",
    "    # print(pig_name, end=\" \")\n",
    "    pig_list.append(pig_name)\n",
    "    \n",
    "print(\" \".join(pig_list))\n"
   ]
  },
  {
   "cell_type": "code",
   "execution_count": 2,
   "metadata": {},
   "outputs": [
    {
     "name": "stdout",
     "output_type": "stream",
     "text": [
      "Enter a name to translate into Pig Latin: Paul Laskowski\n",
      "Aulpay Askowskilay "
     ]
    }
   ],
   "source": [
    "### Another solution\n",
    "\n",
    "# Take the input and split it by spaces into a list\n",
    "name_list = input(\"Enter a name to translate into Pig Latin: \").split()\n",
    "\n",
    "# while the list is not empty\n",
    "# take an item off the list - do the string calculations\n",
    "# and print out that word\n",
    "while name_list != []:\n",
    "    this_word = name_list.pop(0)\n",
    "    updated_word = this_word[1].upper() + this_word[2:] + this_word[0].lower() + \"ay\"\n",
    "    print(updated_word, end = \" \")"
   ]
  },
  {
   "cell_type": "markdown",
   "metadata": {
    "collapsed": true
   },
   "source": [
    "### 3-2. Matrix Inverter (25 points)\n",
    "\n",
    "One place where the usage of tuples is convenient is in the representation of matrices.  The values in a 2x2 matrix are labeled as follows:\n",
    "$$\n",
    "\\begin{bmatrix}\n",
    "    a       & b  \\\\\n",
    "    c       & d\n",
    "\\end{bmatrix}\n",
    "$$\n",
    "\n",
    "Write code that asks the user for a text string including the four **numbers**, a, b, c, and d, separated by spaces.  You can use the `split()` method on the string to create a list of the four values in order.\n",
    "\n",
    "Create a tuple that represents each row, then create a tuple that contains those two tuples.  It should have the form `((a, b), (c, d))`.  **Print this representation.**\n",
    "\n",
    "The inverse of the matrix above is given by the formula:\n",
    "\n",
    "$$\n",
    "\\frac{1}{ad-bc} \\begin{bmatrix}\n",
    "    d       & -b  \\\\\n",
    "    -c       & a\n",
    "\\end{bmatrix}\n",
    "$$\n",
    "\n",
    "Recall that multiplying a matrix by a number effectively multiplies each element of the matrix by that number.\n",
    "\n",
    "Compute the inverse of the given matrix, again represented as nested tuples and **print this out**. \n",
    "\n",
    "Answer format:\n",
    "- The numbers below are fomatted to 4 decimal places but you do not need to do this \n",
    "- The outputted numbers do need to be floats\n",
    "\n",
    "```\n",
    "Please enter four numbers separated by spaces: 1 2 3 4\n",
    "\n",
    "matrix: ((1.0000, 2.0000), (3.0000, 4.0000))\n",
    "inverse: ((-2.0000, 1.0000), (1.5000, -0.5000))\n",
    "```\n",
    "\n",
    "Video Walk-through:\n",
    "https://drive.google.com/open?id=1-zw9CGOFUcm-tNwt6JH9pl-lOwiVB8a2"
   ]
  },
  {
   "cell_type": "code",
   "execution_count": null,
   "metadata": {},
   "outputs": [],
   "source": [
    "# 1) User enters 4 numbers separated by a space - split() to a make a list\n",
    "# 2) Make the list numbers into floats\n",
    "# 3) Make the floats into a tuple\n",
    "# 4) Use formula to compute the inverse\n",
    "# 5) Make that inverse into a tuple\n",
    "# 6) Print both the matrix and inverse"
   ]
  },
  {
   "cell_type": "code",
   "execution_count": 4,
   "metadata": {},
   "outputs": [
    {
     "name": "stdout",
     "output_type": "stream",
     "text": [
      "Please enter four numbers separated by spaces: 1 2 3 4\n",
      "\n",
      "matrix: ((1.0, 2.0), (3.0, 4.0))\n",
      "inverse: ((-2.0, 1.0), (1.5, -0.5))\n"
     ]
    }
   ],
   "source": [
    "### Q3-2 Grading Tag: Please put your entire solution in this cell. Don't edit this line.\n",
    "### Rob's solution from the video: \n",
    "\n",
    "num_list = input(\"Please enter four numbers separated by spaces: \").split()\n",
    "\n",
    "num_a = float(num_list[0])\n",
    "num_b = float(num_list[1])\n",
    "num_c = float(num_list[2])\n",
    "num_d = float(num_list[3])\n",
    "\n",
    "matrix = ((num_a, num_b), (num_c, num_d))\n",
    "\n",
    "denom = ((num_a * num_d) - (num_b * num_c))\n",
    "\n",
    "if denom == 0:\n",
    "    print(\"\\nIncorrect inverse (denominator equals 0).\")\n",
    "else:\n",
    "    constant = 1 / denom\n",
    "    inverse = ((constant * num_d, constant * -num_b), (constant * -num_c, constant * num_a))\n",
    "    print(\"\\nmatrix:\", matrix)\n",
    "    print(\"inverse:\", inverse)\n"
   ]
  },
  {
   "cell_type": "code",
   "execution_count": 7,
   "metadata": {},
   "outputs": [
    {
     "name": "stdout",
     "output_type": "stream",
     "text": [
      "Input four numbers separated by spaces: 1 2 3 4\n",
      "matrix: ((1.0, 2.0), (3.0, 4.0))\n",
      "inverse: ((-2.0, 1.0), (1.5, -0.5))\n"
     ]
    }
   ],
   "source": [
    "## Another solution\n",
    "\n",
    "# Make a list of the 4 numbers splitting on spaces\n",
    "numbers = input(\"Input four numbers separated by spaces: \").split()\n",
    "\n",
    "a = float(numbers[0])\n",
    "b = float(numbers[1])\n",
    "c = float(numbers[2])\n",
    "d = float(numbers[3])\n",
    "\n",
    "# Print out that matrix back to the user\n",
    "num_tup = ((a, b), (c, d))\n",
    "print(\"matrix:\", num_tup)\n",
    "\n",
    "# Calculations for the first term of the inverse \n",
    "inverse_a = 1 / ((a * d) - (b * c)) * a\n",
    "inverse_b = 1 / ((a * d) - (b * c)) * b\n",
    "inverse_c = 1 / ((a * d) - (b * c)) * c\n",
    "inverse_d = 1 / ((a * d) - (b * c)) * d\n",
    "\n",
    "# Calculations for the second term of the inverse  \n",
    "# & print out the inverseve matrix\n",
    "inv_tup = ((inverse_d, -inverse_b), (-inverse_c, inverse_a))\n",
    "print(\"inverse:\", inv_tup)"
   ]
  },
  {
   "cell_type": "markdown",
   "metadata": {},
   "source": [
    "### 3-3. Fibonacci (25 points)\n",
    "\n",
    "The Fibonacci numbers begin with 1, 1.  After the first two numbers, each number is the sum of the previous two. 1 + 1 = 2, so 2 is the third number. Then 1 + 2 = 3, so 3 is the next one, and so on. Write a script that prompts the user for an integer number, then prints all the Fibonacci numbers that are less than or equal to the input, in order.\n",
    "\n",
    "Example:\n",
    "```\n",
    "Enter a number: 15\n",
    "\n",
    "1 1 2 3 5 8 13\n",
    "```\n",
    "\n",
    "##### Video Walk-through:\n",
    "https://drive.google.com/open?id=1xH6FBADdSniFL0QG4ewPt9UlvMQORPq8"
   ]
  },
  {
   "cell_type": "code",
   "execution_count": null,
   "metadata": {},
   "outputs": [],
   "source": [
    "# 1) ask user for number input\n",
    "# 2) Initialize the list to [1 1]\n",
    "# 3) loop through the numbers until the number is above the user number\n",
    "# 4) Print the list "
   ]
  },
  {
   "cell_type": "code",
   "execution_count": 8,
   "metadata": {},
   "outputs": [
    {
     "name": "stdout",
     "output_type": "stream",
     "text": [
      "Enter a number: 13\n",
      "1 1 2 3 5 8 13 "
     ]
    }
   ],
   "source": [
    "### Q3-4 Grading Tag: Please put your entire solution in this cell. Don't edit this line.\n",
    "### Rob's solution from the video: \n",
    "\n",
    "number = int(input(\"Enter a number: \"))\n",
    "\n",
    "fib_list = [1, 1]\n",
    "\n",
    "if number < 1:\n",
    "    print(\"Please enter an integer number greater than 0.\")\n",
    "else:\n",
    "    last_number = fib_list[-1]\n",
    "    while number > last_number:\n",
    "        last_number = fib_list[-1] + fib_list[-2]\n",
    "        \n",
    "        if last_number > number:\n",
    "            continue\n",
    "        fib_list.append(last_number)\n",
    "    \n",
    "    for num in fib_list:\n",
    "        print(num, end=' ')"
   ]
  },
  {
   "cell_type": "code",
   "execution_count": 9,
   "metadata": {},
   "outputs": [
    {
     "name": "stdout",
     "output_type": "stream",
     "text": [
      "Enter a number: 15\n",
      "1 1 2 3 5 8 13\n"
     ]
    }
   ],
   "source": [
    "### Another solution\n",
    "\n",
    "fibnum = int(input(\"Enter a number: \"))\n",
    "\n",
    "cnum = fibnum\n",
    "\n",
    "# The minimum start of the list \n",
    "NumLs = [1,1]\n",
    "\n",
    "# while the ending number is less than what is input\n",
    "# add the prior two numbers and then append them to the list\n",
    "while cnum <= fibnum:\n",
    "    cnum=NumLs[len(NumLs)-1] + NumLs[len(NumLs)-2]\n",
    "    NumLs.append(cnum)\n",
    "\n",
    "# Print the list out - the * prints each item of the list (without the [])\n",
    "print (*NumLs[:-1])"
   ]
  },
  {
   "cell_type": "markdown",
   "metadata": {},
   "source": [
    "### 3-4. Pascal's Triangle (25 points)\n",
    "\n",
    "Pascal's triangle is a triangle of numbers that is computed as follows. The first row contains a 1.  Each row after that begins and ends with a 1, and every other number is the sum of the two numbers above it. The first six rows of Pascal's triangle are shown below.\n",
    "```\n",
    "      1\n",
    "     1 1\n",
    "    1 2 1\n",
    "  1  3 3  1\n",
    " 1 4  6  4 1\n",
    "1 5 10 10 5 1\n",
    "```\n",
    "Write a script to compute and print the *n*th row of Pascal's triangle. Do not spend time trying to print the entire triangle in the format above (it is for illustrative purposes only).  The input will be the row number as an integer starting with row 1 as the first row.\n",
    "\n",
    "** Hint: Think about the type of objects you need to solve the problem. What are you iterating over? It may help to calculate a couple of rows by hand and think about the process you take. **\n",
    "\n",
    "Example:\n",
    "```\n",
    "Enter a row number: 5\n",
    "\n",
    "1 4 6 4 1\n",
    "```\n",
    "\n",
    "##### Video Walk-through:\n",
    "https://drive.google.com/open?id=1TPPPJqTyqtuUzOhFG-RgyNsJJxoipeZ5"
   ]
  },
  {
   "cell_type": "code",
   "execution_count": null,
   "metadata": {},
   "outputs": [],
   "source": [
    "# 1) Get user input for the row number\n",
    "# 2) check input > 0\n",
    "# 3) if 1 or 2 just print out the row\n",
    "# 4) > 2 do the calculation\n",
    "# 4-1) take the last row and its len -1 is the number of calculations\n",
    "# 4-2) go through each calc and append them to the new line\n",
    "# 4-3) old line = new line\n",
    "# 5) loop through until we get to the row number we want"
   ]
  },
  {
   "cell_type": "code",
   "execution_count": 10,
   "metadata": {},
   "outputs": [
    {
     "name": "stdout",
     "output_type": "stream",
     "text": [
      "Enter a row number: 5\n",
      "\n",
      "1 4 6 4 1\n"
     ]
    }
   ],
   "source": [
    "### Q3-5 Grading Tag: Please put your entire solution in this cell. Don't edit this line.\n",
    "### Rob's solution from the video: \n",
    "\n",
    "row = int(input(\"Enter a row number: \"))\n",
    "print()\n",
    "\n",
    "if row < 1:\n",
    "    print(\"Invalid row number - please enter a number greater than 0.\")\n",
    "elif row == 1:\n",
    "    print('1')\n",
    "elif row == 2:\n",
    "    print('1 1')\n",
    "else:\n",
    "    count = 2\n",
    "    old_line = [1, 1]\n",
    "    \n",
    "    while count < row:\n",
    "        new_line = []\n",
    "        new_line.append(1)      \n",
    "        i = 0\n",
    "        \n",
    "        while i < (len(old_line) - 1):            \n",
    "            new_num = old_line[i] + old_line[i+1]\n",
    "            new_line.append(new_num)\n",
    "            i += 1\n",
    "            \n",
    "        new_line.append(1)\n",
    "        old_line = new_line\n",
    "        count += 1\n",
    "    \n",
    "    print(*old_line)"
   ]
  },
  {
   "cell_type": "code",
   "execution_count": 11,
   "metadata": {},
   "outputs": [
    {
     "name": "stdout",
     "output_type": "stream",
     "text": [
      "Enter a number: 5\n",
      "1 4 6 4 1 "
     ]
    }
   ],
   "source": [
    "### Another solution\n",
    "\n",
    "n = int(input(\"Enter a number: \"))\n",
    "line = [1] # base state\n",
    "nct = 1\n",
    "\n",
    "# Catching the edge case of the first line and some error checking\n",
    "if n == 1:\n",
    "    print('1')\n",
    "elif n < 1:\n",
    "    print(\"Please input a number greater than or equal to 1.\")\n",
    "    \n",
    "#repeat the algorythm once for each line \n",
    "while nct <= n-1:    \n",
    "    # pad line with 0s to make the math work for the flanking ones\n",
    "    line.insert(0,0)\n",
    "    line.insert(len(line), 0)\n",
    "    line2 = []\n",
    "    ct = 1\n",
    "\n",
    "    # build the new line \n",
    "    # the number of elements is equal to each row\n",
    "    # the value of each \n",
    "    while ct < len(line): \n",
    "        line2.append(line[ct-1]+line[ct])\n",
    "        ct += 1    \n",
    "        i = 0\n",
    "        \n",
    "    #print each element in the list individually (removes list punctuation)\n",
    "    if nct==n-1:\n",
    "        while i < len(line2):\n",
    "            print (line2[i], end=\" \")\n",
    "            i += 1\n",
    "    \n",
    "    # reset\n",
    "    line = line2 \n",
    "    nct += 1"
   ]
  },
  {
   "cell_type": "markdown",
   "metadata": {},
   "source": [
    "## If you have feedback for this homework, please submit it using the link below:\n",
    "\n",
    "http://goo.gl/forms/74yCiQTf6k"
   ]
  }
 ],
 "metadata": {
  "anaconda-cloud": {},
  "kernelspec": {
   "display_name": "Python 3",
   "language": "python",
   "name": "python3"
  },
  "language_info": {
   "codemirror_mode": {
    "name": "ipython",
    "version": 3
   },
   "file_extension": ".py",
   "mimetype": "text/x-python",
   "name": "python",
   "nbconvert_exporter": "python",
   "pygments_lexer": "ipython3",
   "version": "3.8.11"
  }
 },
 "nbformat": 4,
 "nbformat_minor": 1
}
