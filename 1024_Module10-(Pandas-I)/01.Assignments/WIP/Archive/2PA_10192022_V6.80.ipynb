{
 "cells": [
  {
   "cell_type": "markdown",
   "id": "ada87035-103d-4c1c-8f48-fd11f548480b",
   "metadata": {},
   "source": [
    "# Sorting out basic design issues"
   ]
  },
  {
   "cell_type": "markdown",
   "id": "3473f749-23f2-4342-b3c3-1ea29ed93443",
   "metadata": {},
   "source": [
    "## Start Focus on Bidder Side - Make bidding decisions"
   ]
  },
  {
   "cell_type": "code",
   "execution_count": 1,
   "id": "1b768ada-7452-4fe3-99ed-c4af81114e14",
   "metadata": {},
   "outputs": [],
   "source": [
    "import numpy as np\n",
    "import random\n",
    "\n",
    "class User:\n",
    "    def __init__(self):\n",
    "        self.probability2 = random.uniform(0, 1)\n",
    "\n",
    "    def show_ad(self):\n",
    "        return  np.random.choice((True, False), p = [self.probability2, 1-self.probability2])\n",
    "\n",
    "class Auction:\n",
    "    \n",
    "    auction_history = [] # for the auction exchange only\n",
    "    balances = {}\n",
    "    \n",
    "    def __init__(self, users, bidders):\n",
    "        self.users = users\n",
    "        self.bidders = bidders\n",
    "        \n",
    "        self.balances = {id(bidder): 0 for bidder in bidders} ########### NEW LINE\n",
    "        print(\"*\"*100, '\\n')\n",
    "        print('Beginning balances : ',self.balances, '\\n','-'*100)\n",
    "        \n",
    "        \n",
    "    def execute_round(self):\n",
    "        \n",
    "        ##### if the -ve balance of ALL bidders is < -1000, then break\n",
    "        \n",
    "        all_invalid_bidders = any(x > -1000 for x in self.balances.values())\n",
    "        \n",
    "        while not all_invalid_bidders:\n",
    "            print(\"no bidders are qualifed as all balances are below -1000\")\n",
    "            break\n",
    "        \n",
    "        else:\n",
    "            # print('starting balances2: ', self.balances2, '\\n','-'*100)\n",
    "            bids_dict = {}\n",
    "            bids_list = []\n",
    "            bids_list_raw = []\n",
    "\n",
    "            # 1. SELECT USER (from the pool of users) ----------------------------------\n",
    "\n",
    "            chosen_user = random.randint(0, len(self.users)-1)\n",
    "            print('Selected User: ', id(chosen_user), '\\n','-'*100) \n",
    "\n",
    "            # 2. COLLECT BIDS (send to all bidders) --------------------------------------------\n",
    "            for bidder in self.bidders:\n",
    "                #if self.balances[bidder] > -1000:\n",
    "                #balances = {bidder: 0 for bidder in bidders} ########### NEW LINE\n",
    "                if self.balances[id(bidder)] > -1000:\n",
    "                    bids_dict[bidder] = bidder.bid(chosen_user)\n",
    "                    bidding_round = bidder.bidding_round\n",
    "\n",
    "                    self.auction_history.append((id(bids_dict[bidder]), bids_dict[bidder])) #bidder\n",
    "                    highest_bid = 0\n",
    "                    winning_price = 0\n",
    "                else:\n",
    "                    print(\"Bidder \", id(bidder), \"balance is less than -1000. Cannot continue bid\" )\n",
    "     #               #raise Exception(\"Bidder's balance is less than -1000. Cannot continue bid\")\n",
    "                    continue\n",
    "\n",
    "            print(\"Current bidding Round: \", bidding_round, '\\n','-'*100)\n",
    "\n",
    "            # 3. DETERMINE WINNING BID --------------------------------------------\n",
    "            for bidder, bid_value in bids_dict.items():\n",
    "\n",
    "                bids_list_raw.append((bidder, bid_value))\n",
    "                ## only needed to track a human readable bidder id\n",
    "                bids_list.append((id(bidder), bid_value))\n",
    "\n",
    "\n",
    "    #        print('bids list', bids_list, '\\n','-'*100)\n",
    "\n",
    "            ###### SORT THE Bids List based on price ##########################################\n",
    "            sorted_list = sorted(bids_list, key=lambda t:t[1])\n",
    "            print('Sorted bids list', sorted_list, '\\n','-'*100 )\n",
    "\n",
    "            #------------- for analysis - creating a copy with id(bidder) --------------\n",
    "            sorted_list_raw = sorted(bids_list_raw, key=lambda t:t[1])\n",
    "    #        print('sorted bids list RAW', sorted_list_raw, '\\n','-'*100 )\n",
    "\n",
    "\n",
    "            ####### Select second highest price ###############################################\n",
    "            if len(sorted_list) > 1:\n",
    "                winning_price = (sorted_list_raw)[-2][1]\n",
    "                winning_bidder = (sorted_list_raw)[-1][0]\n",
    "            else:\n",
    "                winning_price = (sorted_list_raw)[0][-1]\n",
    "                winning_bidder = (sorted_list_raw)[0][0]\n",
    "\n",
    "    #        print('Winning Price: ', winning_price, '\\n','-'*100)\n",
    "    #        print('winning bidder', winning_bidder, '\\n','-'*100)\n",
    "\n",
    "            ######## Determine if there are more than 1 bidders with same price ######################\n",
    "\n",
    "            multiple_winning_bidders = [tup for tup in sorted_list_raw if tup[1] == winning_price]\n",
    "\n",
    "            if len(multiple_winning_bidders)>1:\n",
    "                print('List of biders that submitted similar bids: ' , multiple_winning_bidders, '\\n','-'*100)\n",
    "                randindex = random.randint(0, len(multiple_winning_bidders)-1)\n",
    "                winning_bidder = multiple_winning_bidders[randindex][0]\n",
    "                print('Winning bidder from list of similar priced bids: ', winning_bidder, '\\n','-'*100)\n",
    "            else: \n",
    "                pass\n",
    "                #winning_bidder = multiple_winning_bidders[0][0]\n",
    "\n",
    "            print('Winning Bidder (FINAL): ', id(winning_bidder), '\\n','-'*100)\n",
    "            print('Winning Price (FINAL): ', winning_price, '\\n','-'*100)\n",
    "\n",
    "            ############################################################################################\n",
    "            # 4. Validate USER CLICK after SHOW AD  --------------------------------------------\n",
    "            ad_result = self.users[chosen_user].show_ad()\n",
    "            print('User Clicked on Ad?: ', ad_result,'\\n','-'*100)\n",
    "\n",
    "            # 5.NOTIFY BIDDER & UPDATE BALANCES --------------------------------------------\n",
    "\n",
    "            print(\"Bidding Outcomes\", '\\n','-'*100)\n",
    "            for bidder in self.bidders:\n",
    "                if bidder == winning_bidder and ad_result == True:\n",
    "                    print(id(bidder), \"bidder == winning_bidder and ad_result == True:\")\n",
    "                    self.balances[id(bidder)] -= winning_price\n",
    "                    self.balances[id(bidder)] += 1\n",
    "                    # balances[bidder] -= winning_price\n",
    "                    # balances[bidder] += 1                \n",
    "\n",
    "                    bidder.notify(True, winning_price, ad_result)\n",
    "\n",
    "                elif bidder == winning_bidder and ad_result == False:\n",
    "                    print(id(bidder), \"bidder == winning_bidder and ad_result == False\")\n",
    "                    self.balances[id(bidder)] -= winning_price\n",
    "                    # balances[bidder] -= winning_price\n",
    "\n",
    "                    bidder.notify(True, winning_price, ad_result)\n",
    "\n",
    "                else:\n",
    "                    print(id(bidder), \"Did not win bid - only notify\")\n",
    "                    bidder.notify(False, winning_price, None)\n",
    "            print('-'*100, '\\n','balances at end of bidding round', self.balances,'\\n','-'*100)\n",
    "                # print('balances at end of bidding round', balances,'\\n','-'*100)\n",
    "        \n",
    "class Bidder:\n",
    "    \n",
    "    #### maintain account balance here as well?\n",
    "\n",
    "    # BIDDER CREATION -------------- initiated by GAME runner / Developer ------------------------\n",
    "    \n",
    "    def __init__(self, num_users, num_rounds):\n",
    "\n",
    "        self.num_users = num_users\n",
    "        self.num_rounds = num_rounds\n",
    "        self.bidding_round = 0\n",
    "\n",
    "        self.bid_y_n = True\n",
    "        self.bid_participate = {i: 0 for i in range(num_users)} #whether bidder bids or not (USER: BID COUNT)\n",
    "        self.bid_wins = {i: 0 for i in range(num_users)} # if bidder wins\n",
    "        #print('bid wins', self.bid_wins)\n",
    "        self.bid_win_user_clicks = {i: 0 for i in range(num_users)} # if user clicks\n",
    "        \n",
    "        \n",
    "        #Transaction records\n",
    "        self.bid_participate_history = [] # maintains bidderid, userid, bidding round, bid price\n",
    "        self.bid_win_history = []\n",
    "        self.bid_win_user_click_history = []\n",
    "        \n",
    "        ############\n",
    "        #? Winning bid price / user (because you get notified of winning bids) -- \n",
    "        ###### you know the user and winning bid (just not the click result)\n",
    "        \n",
    "    # SUBMIT BID  ------------ initiated by auction ------------------------------------\n",
    "    \n",
    "    def bid(self, user_id):\n",
    "        self.bidding_round += 1\n",
    "        #self.bid_participate = 0\n",
    "        self.user_id = user_id\n",
    "        default_bid_price = random.randint(1000, 10000)/2000 #random.uniform(0, 1)\n",
    "        # bid_price = self.default_bid_price + (self.bidding_round)*0.1\n",
    "        bid_price = default_bid_price\n",
    "        #bid_price = 0.5\n",
    "        self.bid_participate[self.user_id] = (self.bid_participate).get(self.user_id, 0)+1\n",
    "        self.bid_participate_history.append([id(self), self.user_id, self.bidding_round, bid_price])\n",
    "        return bid_price\n",
    "    \n",
    "    def bid_strategy(self):\n",
    "        pass\n",
    "    \n",
    "    # NOTIFIED OF BID OUTCOME ------------ initiated by auction ------------------------------------\n",
    "    \n",
    "    def notify(self, auction_winner, price, clicked):\n",
    "        bid_y_n_won = 0\n",
    "        if auction_winner:\n",
    "            #self.bid_participate_history.append([self.user_id, bid_y_n_won+1])\n",
    "            self.bid_win_history.append([self.user_id, bid_y_n_won+1])\n",
    "            self.bid_wins[self.user_id] = (self.bid_wins).get(self.user_id, 0)+1\n",
    "            \n",
    "            if clicked:\n",
    "                self.bid_win_user_clicks[self.user_id] = (self.bid_win_user_clicks).get(self.user_id, 0)+1\n",
    "                self.bid_win_user_click_history.append([self.user_id, self.bidding_round])\n",
    "        else:\n",
    "            pass"
   ]
  },
  {
   "cell_type": "code",
   "execution_count": 5,
   "id": "66f1caba-7066-4fb3-ab15-84f2f979f48a",
   "metadata": {},
   "outputs": [
    {
     "data": {
      "text/plain": [
       "{0: 0, 8: 3, 5: 1, 3: 3, 9: 2, 4: 1, 6: 1}"
      ]
     },
     "execution_count": 5,
     "metadata": {},
     "output_type": "execute_result"
    }
   ],
   "source": [
    "b1.bid_participate"
   ]
  },
  {
   "cell_type": "code",
   "execution_count": 6,
   "id": "561a3489-0340-4a85-84a8-e16f5544361e",
   "metadata": {},
   "outputs": [
    {
     "data": {
      "text/plain": [
       "{0: 0, 8: 1, 9: 2, 6: 1}"
      ]
     },
     "execution_count": 6,
     "metadata": {},
     "output_type": "execute_result"
    }
   ],
   "source": [
    "b1.bid_wins"
   ]
  },
  {
   "cell_type": "code",
   "execution_count": 7,
   "id": "970de063-4c5c-485a-b198-21ef126795f3",
   "metadata": {},
   "outputs": [
    {
     "data": {
      "text/plain": [
       "{0: 0, 9: 1}"
      ]
     },
     "execution_count": 7,
     "metadata": {},
     "output_type": "execute_result"
    }
   ],
   "source": [
    "b1.bid_win_user_clicks"
   ]
  },
  {
   "cell_type": "code",
   "execution_count": 9,
   "id": "446d0467-cfd9-4e81-a32e-ecfa321a87f6",
   "metadata": {},
   "outputs": [
    {
     "data": {
      "text/plain": [
       "[[8, 1], [9, 1], [9, 1], [6, 1]]"
      ]
     },
     "execution_count": 9,
     "metadata": {},
     "output_type": "execute_result"
    }
   ],
   "source": [
    "b1.bid_win_history"
   ]
  },
  {
   "cell_type": "code",
   "execution_count": 10,
   "id": "bdf0a65e-6f78-4e4f-8ebe-62acb618b0ab",
   "metadata": {},
   "outputs": [
    {
     "data": {
      "text/plain": [
       "[[9, 4]]"
      ]
     },
     "execution_count": 10,
     "metadata": {},
     "output_type": "execute_result"
    }
   ],
   "source": [
    "b1.bid_win_user_click_history"
   ]
  },
  {
   "cell_type": "code",
   "execution_count": null,
   "id": "cab7d109-4365-4459-b8b8-9d0878538b3d",
   "metadata": {},
   "outputs": [],
   "source": []
  },
  {
   "cell_type": "code",
   "execution_count": null,
   "id": "ab90610f-5021-4356-9075-5666edcaf15f",
   "metadata": {},
   "outputs": [],
   "source": []
  },
  {
   "cell_type": "code",
   "execution_count": null,
   "id": "b70371c8-96d7-482e-9d07-a0dce9ab6287",
   "metadata": {},
   "outputs": [],
   "source": []
  },
  {
   "cell_type": "code",
   "execution_count": null,
   "id": "ec171e81-e474-47cd-9164-74e9a69bad09",
   "metadata": {},
   "outputs": [],
   "source": []
  },
  {
   "cell_type": "code",
   "execution_count": 2,
   "id": "b2fa1421-6745-43a5-9c0b-5a4112f8d9dc",
   "metadata": {},
   "outputs": [
    {
     "name": "stdout",
     "output_type": "stream",
     "text": [
      "**************************************************************************************************** \n",
      "\n",
      "Beginning balances :  {140596834912048: 0, 140596575031248: 0, 140596575031200: 0} \n",
      " ----------------------------------------------------------------------------------------------------\n",
      "Selected User:  140597096671760 \n",
      " ----------------------------------------------------------------------------------------------------\n",
      "Current bidding Round:  1 \n",
      " ----------------------------------------------------------------------------------------------------\n",
      "Sorted bids list [(140596575031200, 0.8905), (140596575031248, 4.035), (140596834912048, 4.6355)] \n",
      " ----------------------------------------------------------------------------------------------------\n",
      "Winning Bidder (FINAL):  140596834912048 \n",
      " ----------------------------------------------------------------------------------------------------\n",
      "Winning Price (FINAL):  4.035 \n",
      " ----------------------------------------------------------------------------------------------------\n",
      "User Clicked on Ad?:  False \n",
      " ----------------------------------------------------------------------------------------------------\n",
      "Bidding Outcomes \n",
      " ----------------------------------------------------------------------------------------------------\n",
      "140596834912048 bidder == winning_bidder and ad_result == False\n",
      "140596575031248 Did not win bid - only notify\n",
      "140596575031200 Did not win bid - only notify\n",
      "---------------------------------------------------------------------------------------------------- \n",
      " balances at end of bidding round {140596834912048: -4.035, 140596575031248: 0, 140596575031200: 0} \n",
      " ----------------------------------------------------------------------------------------------------\n"
     ]
    }
   ],
   "source": [
    "b1, b2, b3 = Bidder(1,10), Bidder(1,10), Bidder(1,10)\n",
    "auction = Auction( [User()for i in range(10)], [b1, b2, b3])\n",
    "#auction = Auction( [User(), User()], [b1, b2, b3])\n",
    "\n",
    "auction.execute_round()\n",
    "# auction.execute_round()\n",
    "# auction.execute_round()\n",
    "# auction.execute_round()"
   ]
  },
  {
   "cell_type": "code",
   "execution_count": 53,
   "id": "5d16e238-bc64-4647-8167-b4fd71977dd6",
   "metadata": {},
   "outputs": [
    {
     "data": {
      "text/plain": [
       "{140276743991200: -1000.3605,\n",
       " 140276743990432: -1000.5714999999998,\n",
       " 140276743982816: -1000.3000000000001}"
      ]
     },
     "execution_count": 53,
     "metadata": {},
     "output_type": "execute_result"
    }
   ],
   "source": [
    "auction.balances"
   ]
  },
  {
   "cell_type": "code",
   "execution_count": 7,
   "id": "63d36ff0-ffe0-4fa5-9fb1-13ef0a1445e3",
   "metadata": {},
   "outputs": [
    {
     "data": {
      "text/plain": [
       "101"
      ]
     },
     "execution_count": 7,
     "metadata": {},
     "output_type": "execute_result"
    }
   ],
   "source": [
    "b1.bidding_round"
   ]
  },
  {
   "cell_type": "code",
   "execution_count": 4,
   "id": "aea13a2f-7928-4e08-8240-83c9b677fb46",
   "metadata": {},
   "outputs": [
    {
     "name": "stdout",
     "output_type": "stream",
     "text": [
      "Selected User:  140597096671664 \n",
      " ----------------------------------------------------------------------------------------------------\n",
      "Current bidding Round:  2 \n",
      " ----------------------------------------------------------------------------------------------------\n",
      "Sorted bids list [(140596575031248, 1.0975), (140596834912048, 1.8185), (140596575031200, 2.512)] \n",
      " ----------------------------------------------------------------------------------------------------\n",
      "Winning Bidder (FINAL):  140596575031200 \n",
      " ----------------------------------------------------------------------------------------------------\n",
      "Winning Price (FINAL):  1.8185 \n",
      " ----------------------------------------------------------------------------------------------------\n",
      "User Clicked on Ad?:  True \n",
      " ----------------------------------------------------------------------------------------------------\n",
      "Bidding Outcomes \n",
      " ----------------------------------------------------------------------------------------------------\n",
      "140596834912048 Did not win bid - only notify\n",
      "140596575031248 Did not win bid - only notify\n",
      "140596575031200 bidder == winning_bidder and ad_result == True:\n",
      "---------------------------------------------------------------------------------------------------- \n",
      " balances at end of bidding round {140596834912048: -4.035, 140596575031248: 0, 140596575031200: -0.8185} \n",
      " ----------------------------------------------------------------------------------------------------\n",
      "Selected User:  140597096671600 \n",
      " ----------------------------------------------------------------------------------------------------\n",
      "Current bidding Round:  3 \n",
      " ----------------------------------------------------------------------------------------------------\n",
      "Sorted bids list [(140596575031248, 2.287), (140596834912048, 2.5875), (140596575031200, 4.786)] \n",
      " ----------------------------------------------------------------------------------------------------\n",
      "Winning Bidder (FINAL):  140596575031200 \n",
      " ----------------------------------------------------------------------------------------------------\n",
      "Winning Price (FINAL):  2.5875 \n",
      " ----------------------------------------------------------------------------------------------------\n",
      "User Clicked on Ad?:  False \n",
      " ----------------------------------------------------------------------------------------------------\n",
      "Bidding Outcomes \n",
      " ----------------------------------------------------------------------------------------------------\n",
      "140596834912048 Did not win bid - only notify\n",
      "140596575031248 Did not win bid - only notify\n",
      "140596575031200 bidder == winning_bidder and ad_result == False\n",
      "---------------------------------------------------------------------------------------------------- \n",
      " balances at end of bidding round {140596834912048: -4.035, 140596575031248: 0, 140596575031200: -3.4059999999999997} \n",
      " ----------------------------------------------------------------------------------------------------\n",
      "Selected User:  140597096671792 \n",
      " ----------------------------------------------------------------------------------------------------\n",
      "Current bidding Round:  4 \n",
      " ----------------------------------------------------------------------------------------------------\n",
      "Sorted bids list [(140596575031200, 1.0925), (140596575031248, 1.512), (140596834912048, 2.7855)] \n",
      " ----------------------------------------------------------------------------------------------------\n",
      "Winning Bidder (FINAL):  140596834912048 \n",
      " ----------------------------------------------------------------------------------------------------\n",
      "Winning Price (FINAL):  1.512 \n",
      " ----------------------------------------------------------------------------------------------------\n",
      "User Clicked on Ad?:  True \n",
      " ----------------------------------------------------------------------------------------------------\n",
      "Bidding Outcomes \n",
      " ----------------------------------------------------------------------------------------------------\n",
      "140596834912048 bidder == winning_bidder and ad_result == True:\n",
      "140596575031248 Did not win bid - only notify\n",
      "140596575031200 Did not win bid - only notify\n",
      "---------------------------------------------------------------------------------------------------- \n",
      " balances at end of bidding round {140596834912048: -4.547000000000001, 140596575031248: 0, 140596575031200: -3.4059999999999997} \n",
      " ----------------------------------------------------------------------------------------------------\n",
      "Selected User:  140597096671632 \n",
      " ----------------------------------------------------------------------------------------------------\n",
      "Current bidding Round:  5 \n",
      " ----------------------------------------------------------------------------------------------------\n",
      "Sorted bids list [(140596834912048, 1.518), (140596575031200, 4.0775), (140596575031248, 4.538)] \n",
      " ----------------------------------------------------------------------------------------------------\n",
      "Winning Bidder (FINAL):  140596575031248 \n",
      " ----------------------------------------------------------------------------------------------------\n",
      "Winning Price (FINAL):  4.0775 \n",
      " ----------------------------------------------------------------------------------------------------\n",
      "User Clicked on Ad?:  False \n",
      " ----------------------------------------------------------------------------------------------------\n",
      "Bidding Outcomes \n",
      " ----------------------------------------------------------------------------------------------------\n",
      "140596834912048 Did not win bid - only notify\n",
      "140596575031248 bidder == winning_bidder and ad_result == False\n",
      "140596575031200 Did not win bid - only notify\n",
      "---------------------------------------------------------------------------------------------------- \n",
      " balances at end of bidding round {140596834912048: -4.547000000000001, 140596575031248: -4.0775, 140596575031200: -3.4059999999999997} \n",
      " ----------------------------------------------------------------------------------------------------\n",
      "Selected User:  140597096671760 \n",
      " ----------------------------------------------------------------------------------------------------\n",
      "Current bidding Round:  6 \n",
      " ----------------------------------------------------------------------------------------------------\n",
      "Sorted bids list [(140596834912048, 2.0305), (140596575031248, 2.159), (140596575031200, 4.966)] \n",
      " ----------------------------------------------------------------------------------------------------\n",
      "Winning Bidder (FINAL):  140596575031200 \n",
      " ----------------------------------------------------------------------------------------------------\n",
      "Winning Price (FINAL):  2.159 \n",
      " ----------------------------------------------------------------------------------------------------\n",
      "User Clicked on Ad?:  False \n",
      " ----------------------------------------------------------------------------------------------------\n",
      "Bidding Outcomes \n",
      " ----------------------------------------------------------------------------------------------------\n",
      "140596834912048 Did not win bid - only notify\n",
      "140596575031248 Did not win bid - only notify\n",
      "140596575031200 bidder == winning_bidder and ad_result == False\n",
      "---------------------------------------------------------------------------------------------------- \n",
      " balances at end of bidding round {140596834912048: -4.547000000000001, 140596575031248: -4.0775, 140596575031200: -5.5649999999999995} \n",
      " ----------------------------------------------------------------------------------------------------\n",
      "Selected User:  140597096671600 \n",
      " ----------------------------------------------------------------------------------------------------\n",
      "Current bidding Round:  7 \n",
      " ----------------------------------------------------------------------------------------------------\n",
      "Sorted bids list [(140596575031248, 2.919), (140596834912048, 4.034), (140596575031200, 4.852)] \n",
      " ----------------------------------------------------------------------------------------------------\n",
      "Winning Bidder (FINAL):  140596575031200 \n",
      " ----------------------------------------------------------------------------------------------------\n",
      "Winning Price (FINAL):  4.034 \n",
      " ----------------------------------------------------------------------------------------------------\n",
      "User Clicked on Ad?:  False \n",
      " ----------------------------------------------------------------------------------------------------\n",
      "Bidding Outcomes \n",
      " ----------------------------------------------------------------------------------------------------\n",
      "140596834912048 Did not win bid - only notify\n",
      "140596575031248 Did not win bid - only notify\n",
      "140596575031200 bidder == winning_bidder and ad_result == False\n",
      "---------------------------------------------------------------------------------------------------- \n",
      " balances at end of bidding round {140596834912048: -4.547000000000001, 140596575031248: -4.0775, 140596575031200: -9.599} \n",
      " ----------------------------------------------------------------------------------------------------\n",
      "Selected User:  140597096671760 \n",
      " ----------------------------------------------------------------------------------------------------\n",
      "Current bidding Round:  8 \n",
      " ----------------------------------------------------------------------------------------------------\n",
      "Sorted bids list [(140596575031200, 1.233), (140596834912048, 3.824), (140596575031248, 4.812)] \n",
      " ----------------------------------------------------------------------------------------------------\n",
      "Winning Bidder (FINAL):  140596575031248 \n",
      " ----------------------------------------------------------------------------------------------------\n",
      "Winning Price (FINAL):  3.824 \n",
      " ----------------------------------------------------------------------------------------------------\n",
      "User Clicked on Ad?:  True \n",
      " ----------------------------------------------------------------------------------------------------\n",
      "Bidding Outcomes \n",
      " ----------------------------------------------------------------------------------------------------\n",
      "140596834912048 Did not win bid - only notify\n",
      "140596575031248 bidder == winning_bidder and ad_result == True:\n",
      "140596575031200 Did not win bid - only notify\n",
      "---------------------------------------------------------------------------------------------------- \n",
      " balances at end of bidding round {140596834912048: -4.547000000000001, 140596575031248: -6.9014999999999995, 140596575031200: -9.599} \n",
      " ----------------------------------------------------------------------------------------------------\n",
      "Selected User:  140597096671600 \n",
      " ----------------------------------------------------------------------------------------------------\n",
      "Current bidding Round:  9 \n",
      " ----------------------------------------------------------------------------------------------------\n",
      "Sorted bids list [(140596834912048, 1.8655), (140596575031200, 2.9265), (140596575031248, 4.534)] \n",
      " ----------------------------------------------------------------------------------------------------\n",
      "Winning Bidder (FINAL):  140596575031248 \n",
      " ----------------------------------------------------------------------------------------------------\n",
      "Winning Price (FINAL):  2.9265 \n",
      " ----------------------------------------------------------------------------------------------------\n",
      "User Clicked on Ad?:  False \n",
      " ----------------------------------------------------------------------------------------------------\n",
      "Bidding Outcomes \n",
      " ----------------------------------------------------------------------------------------------------\n",
      "140596834912048 Did not win bid - only notify\n",
      "140596575031248 bidder == winning_bidder and ad_result == False\n",
      "140596575031200 Did not win bid - only notify\n",
      "---------------------------------------------------------------------------------------------------- \n",
      " balances at end of bidding round {140596834912048: -4.547000000000001, 140596575031248: -9.828, 140596575031200: -9.599} \n",
      " ----------------------------------------------------------------------------------------------------\n",
      "Selected User:  140597096671792 \n",
      " ----------------------------------------------------------------------------------------------------\n",
      "Current bidding Round:  10 \n",
      " ----------------------------------------------------------------------------------------------------\n",
      "Sorted bids list [(140596575031248, 1.5315), (140596575031200, 3.8325), (140596834912048, 4.3495)] \n",
      " ----------------------------------------------------------------------------------------------------\n",
      "Winning Bidder (FINAL):  140596834912048 \n",
      " ----------------------------------------------------------------------------------------------------\n",
      "Winning Price (FINAL):  3.8325 \n",
      " ----------------------------------------------------------------------------------------------------\n",
      "User Clicked on Ad?:  False \n",
      " ----------------------------------------------------------------------------------------------------\n",
      "Bidding Outcomes \n",
      " ----------------------------------------------------------------------------------------------------\n",
      "140596834912048 bidder == winning_bidder and ad_result == False\n",
      "140596575031248 Did not win bid - only notify\n",
      "140596575031200 Did not win bid - only notify\n",
      "---------------------------------------------------------------------------------------------------- \n",
      " balances at end of bidding round {140596834912048: -8.3795, 140596575031248: -9.828, 140596575031200: -9.599} \n",
      " ----------------------------------------------------------------------------------------------------\n",
      "Selected User:  140597096671696 \n",
      " ----------------------------------------------------------------------------------------------------\n",
      "Current bidding Round:  11 \n",
      " ----------------------------------------------------------------------------------------------------\n",
      "Sorted bids list [(140596575031248, 2.59), (140596575031200, 2.654), (140596834912048, 3.4805)] \n",
      " ----------------------------------------------------------------------------------------------------\n",
      "Winning Bidder (FINAL):  140596834912048 \n",
      " ----------------------------------------------------------------------------------------------------\n",
      "Winning Price (FINAL):  2.654 \n",
      " ----------------------------------------------------------------------------------------------------\n",
      "User Clicked on Ad?:  False \n",
      " ----------------------------------------------------------------------------------------------------\n",
      "Bidding Outcomes \n",
      " ----------------------------------------------------------------------------------------------------\n",
      "140596834912048 bidder == winning_bidder and ad_result == False\n",
      "140596575031248 Did not win bid - only notify\n",
      "140596575031200 Did not win bid - only notify\n",
      "---------------------------------------------------------------------------------------------------- \n",
      " balances at end of bidding round {140596834912048: -11.0335, 140596575031248: -9.828, 140596575031200: -9.599} \n",
      " ----------------------------------------------------------------------------------------------------\n"
     ]
    },
    {
     "data": {
      "text/plain": [
       "[None, None, None, None, None, None, None, None, None, None]"
      ]
     },
     "execution_count": 4,
     "metadata": {},
     "output_type": "execute_result"
    }
   ],
   "source": [
    "[auction.execute_round() for i in range(10)]"
   ]
  },
  {
   "cell_type": "code",
   "execution_count": 14,
   "id": "585d393c-8c72-45de-be2c-e2e45016ff47",
   "metadata": {},
   "outputs": [
    {
     "data": {
      "text/plain": [
       "[[140467995445472, 5, 1, 2.633]]"
      ]
     },
     "execution_count": 14,
     "metadata": {},
     "output_type": "execute_result"
    }
   ],
   "source": [
    "b1.bid_participate_history #bidderid, userid, bidding round, bid price"
   ]
  },
  {
   "cell_type": "code",
   "execution_count": null,
   "id": "eabddcd7-f415-4b05-bd1b-b627da5736e6",
   "metadata": {},
   "outputs": [],
   "source": [
    "b2.bid_participate_history #bidderid, userid, bidding round, bid price"
   ]
  },
  {
   "cell_type": "code",
   "execution_count": null,
   "id": "3feb9e63-9eef-4821-9528-a3642e0382fa",
   "metadata": {},
   "outputs": [],
   "source": [
    "b3.bid_participate_history #bidderid, userid, bidding round, bid price"
   ]
  },
  {
   "cell_type": "code",
   "execution_count": null,
   "id": "a46458fe-0a5d-4a3a-a42d-92854e105f07",
   "metadata": {},
   "outputs": [],
   "source": [
    "[auction.execute_round() for i in range(10)]"
   ]
  },
  {
   "cell_type": "code",
   "execution_count": null,
   "id": "27546553-6123-4a24-98b8-52d9644b1b2e",
   "metadata": {},
   "outputs": [],
   "source": [
    "b1, b2, b3 = Bidder(1,10), Bidder(1,10), Bidder(1,10)\n",
    "auction = Auction( [User()], [b1, b2, b3])\n",
    "auction.execute_round()"
   ]
  },
  {
   "cell_type": "code",
   "execution_count": null,
   "id": "29188f71-f110-4534-915b-ee2e5bdaea24",
   "metadata": {},
   "outputs": [],
   "source": [
    "print('b1 bid is: ', b1.bid(0x7fb6581c8ca0))\n",
    "print('b2 bid is: ', b2.bid(0x7fb6581c8ca0))\n",
    "print('b3 bid is: ', b3.bid(0x7fb6581c8ca0))"
   ]
  },
  {
   "cell_type": "code",
   "execution_count": null,
   "id": "a9adf072-7da3-4bd3-9dfc-c9a17b4c90df",
   "metadata": {},
   "outputs": [],
   "source": [
    "u1 = User()\n",
    "id(u1)"
   ]
  },
  {
   "cell_type": "code",
   "execution_count": null,
   "id": "27429fac-a583-4489-a803-96af4e497ce4",
   "metadata": {},
   "outputs": [],
   "source": [
    "user_wins = {i: 0 for i in range(10)}\n",
    "user_wins"
   ]
  },
  {
   "cell_type": "code",
   "execution_count": 17,
   "id": "f2f97964-d130-4682-ad84-531c586c15b7",
   "metadata": {},
   "outputs": [],
   "source": [
    "bids_list = [(1,2), (7,8), (5,6),(3,4) ]"
   ]
  },
  {
   "cell_type": "code",
   "execution_count": 18,
   "id": "741feff3-ada9-496f-8206-9f042db5d217",
   "metadata": {},
   "outputs": [
    {
     "data": {
      "text/plain": [
       "[(1, 2), (3, 4), (5, 6), (7, 8)]"
      ]
     },
     "execution_count": 18,
     "metadata": {},
     "output_type": "execute_result"
    }
   ],
   "source": [
    "sorted_list = sorted(bids_list, key=lambda t:t[1])\n",
    "sorted_list"
   ]
  },
  {
   "cell_type": "code",
   "execution_count": 19,
   "id": "fcaf8c7b-3d9c-41c9-9235-fb1144025935",
   "metadata": {},
   "outputs": [
    {
     "data": {
      "text/plain": [
       "6"
      ]
     },
     "execution_count": 19,
     "metadata": {},
     "output_type": "execute_result"
    }
   ],
   "source": [
    "winning_price = (sorted_list)[-2][1]\n",
    "winning_price"
   ]
  },
  {
   "cell_type": "code",
   "execution_count": 21,
   "id": "255ca77e-ca91-4411-85f7-0218c587f72f",
   "metadata": {},
   "outputs": [
    {
     "data": {
      "text/plain": [
       "7"
      ]
     },
     "execution_count": 21,
     "metadata": {},
     "output_type": "execute_result"
    }
   ],
   "source": [
    "winning_bid = (sorted_list)[-1][0]\n",
    "winning_bid"
   ]
  },
  {
   "cell_type": "code",
   "execution_count": 22,
   "id": "4e6d17aa-194b-43c8-b690-4cbe5b396120",
   "metadata": {},
   "outputs": [
    {
     "data": {
      "text/plain": [
       "[(1, 2)]"
      ]
     },
     "execution_count": 22,
     "metadata": {},
     "output_type": "execute_result"
    }
   ],
   "source": [
    "list2 = [(1,2)]\n",
    "sorted_list = sorted(list2, key=lambda t:t[1])\n",
    "sorted_list"
   ]
  },
  {
   "cell_type": "code",
   "execution_count": 23,
   "id": "34ebf3a9-5611-4c2e-a357-f212c1e97697",
   "metadata": {},
   "outputs": [],
   "source": [
    "winning_price = (sorted_list)[0][-1]"
   ]
  },
  {
   "cell_type": "code",
   "execution_count": 24,
   "id": "cf4ba7e6-53c7-4e9d-894f-1556051886a7",
   "metadata": {},
   "outputs": [
    {
     "data": {
      "text/plain": [
       "2"
      ]
     },
     "execution_count": 24,
     "metadata": {},
     "output_type": "execute_result"
    }
   ],
   "source": [
    "winning_price"
   ]
  },
  {
   "cell_type": "code",
   "execution_count": 26,
   "id": "34c004ad-df1d-409c-8c4b-4dcca91386bf",
   "metadata": {},
   "outputs": [
    {
     "data": {
      "text/plain": [
       "1"
      ]
     },
     "execution_count": 26,
     "metadata": {},
     "output_type": "execute_result"
    }
   ],
   "source": [
    "winning_bid = (sorted_list)[0][0]\n",
    "winning_bid"
   ]
  },
  {
   "cell_type": "code",
   "execution_count": null,
   "id": "0c7278ad-2e6c-4669-9418-d54ce11cab85",
   "metadata": {},
   "outputs": [],
   "source": []
  }
 ],
 "metadata": {
  "kernelspec": {
   "display_name": "Python 3 (ipykernel)",
   "language": "python",
   "name": "python3"
  },
  "language_info": {
   "codemirror_mode": {
    "name": "ipython",
    "version": 3
   },
   "file_extension": ".py",
   "mimetype": "text/x-python",
   "name": "python",
   "nbconvert_exporter": "python",
   "pygments_lexer": "ipython3",
   "version": "3.9.12"
  }
 },
 "nbformat": 4,
 "nbformat_minor": 5
}
