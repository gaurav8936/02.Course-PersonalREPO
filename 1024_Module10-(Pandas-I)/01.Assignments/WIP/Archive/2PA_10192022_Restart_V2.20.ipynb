{
 "cells": [
  {
   "cell_type": "markdown",
   "id": "ada87035-103d-4c1c-8f48-fd11f548480b",
   "metadata": {},
   "source": [
    "# Restarting"
   ]
  },
  {
   "cell_type": "code",
   "execution_count": 43,
   "id": "1b768ada-7452-4fe3-99ed-c4af81114e14",
   "metadata": {},
   "outputs": [],
   "source": [
    "import numpy as np\n",
    "import matplotlib.pyplot as plt\n",
    "import random\n",
    "# from numpy import random\n",
    "# from numpy.random import randint\n",
    "\n",
    "\n",
    "class User:\n",
    "    def __init__(self):\n",
    "        self.__probability = random.uniform(0, 1)\n",
    "\n",
    "    def get_probability(self):\n",
    "        return self.__probability\n",
    "\n",
    "    def show_ad(self):\n",
    "        click_threshold = random.uniform(0, 1)\n",
    "        if click_threshold <= self.__probability:\n",
    "            return True\n",
    "        return False\n",
    "\n",
    "class Auction:\n",
    "\n",
    "    def __init__(self, users, bidders):\n",
    "        self.users = users\n",
    "        self.bidders = bidders\n",
    "        self.balances = {bidder: 0 for bidder in bidders}\n",
    "\n",
    "    def execute_round(self):\n",
    "        random_user = randint(0, len(self.users))\n",
    "        bids = {}\n",
    "        for bidder in self.bidders:\n",
    "            bids[bidder] = bidder.bid(random_user)\n",
    "\n",
    "        highest_bid = 0\n",
    "        winning_price = 0\n",
    "        \n",
    "        for bidder, bid_value in bids.items():\n",
    "            winning_price = bid_value\n",
    "\n",
    "        winning_bidders = []\n",
    "        winning_bidders.append(bidder)\n",
    "        winning_bidder = winning_bidders[0]\n",
    "        \n",
    "        ad_result = self.users[random_user].show_ad()\n",
    "\n",
    "        for bidder in self.bidders:\n",
    "            if bidder == winning_bidder:\n",
    "                bidder.notify(True, winning_price, ad_result)\n",
    "                self.balances[bidder] -= winning_price\n",
    "                if ad_result:\n",
    "                    self.balances[bidder] += 1\n",
    "            else:\n",
    "                bidder.notify(False, winning_price, None)\n",
    "\n",
    "class Bidder:\n",
    "\n",
    "    def __init__(self, num_users, num_rounds):\n",
    "\n",
    "        self.num_users = num_users\n",
    "        self.num_rounds = num_rounds\n",
    "        self.bidding_round = 0\n",
    "        self.user_clearing_prices = {i: [] for i in range(num_users)}\n",
    "        self.user_wins = {i: 0 for i in range(num_users)}\n",
    "        self.user_clicks = {i: 0 for i in range(num_users)}\n",
    "        self.default_bid_price = 0.5\n",
    "        self.phase = 'explore'\n",
    "\n",
    "    def bid(self, user_id):\n",
    "\n",
    "        self.bidding_round += 1\n",
    "        self.current_round_user_id = user_id\n",
    "        bid_price = self.default_bid_price        \n",
    "\n",
    "        print(f\"Phase {self.phase}\")\n",
    "        print(f\"Smart {id(self)} bid {bid_price} for user {user_id}\")\n",
    "        return bid_price\n",
    "\n",
    "    def notify(self, auction_winner, price, clicked):\n",
    "\n",
    "        self.user_clearing_prices[self.current_round_user_id].append(price)\n",
    "        print(f\"Winning bid price  was {price}\")\n",
    "\n",
    "        if auction_winner:\n",
    "            self.user_wins[self.current_round_user_id] += 1\n",
    "            if clicked:\n",
    "                self.user_clicks[self.current_round_user_id] += 1\n",
    "                print(\n",
    "                    f\"Smart {id(self)} won round; User {self.current_round_user_id}\"\n",
    "                    f\" clicked\"\n",
    "                )\n",
    "            else:\n",
    "                pass"
   ]
  },
  {
   "cell_type": "code",
   "execution_count": 44,
   "id": "27546553-6123-4a24-98b8-52d9644b1b2e",
   "metadata": {},
   "outputs": [
    {
     "name": "stdout",
     "output_type": "stream",
     "text": [
      "Phase explore\n",
      "Smart 140425447055216 bid 0.5 for user 0\n",
      "Winning bid price  was 0.5\n"
     ]
    }
   ],
   "source": [
    "b1 = Bidder(1,10)\n",
    "auction = Auction( [User()], [b1])\n",
    "auction.execute_round()"
   ]
  },
  {
   "cell_type": "code",
   "execution_count": 12,
   "id": "0417a07d-a6b6-450b-a0d5-dfaedd666e3c",
   "metadata": {},
   "outputs": [],
   "source": []
  },
  {
   "cell_type": "code",
   "execution_count": 13,
   "id": "7788a1b2-ca86-4560-ac6b-6f178bc23bc1",
   "metadata": {},
   "outputs": [
    {
     "name": "stdout",
     "output_type": "stream",
     "text": [
      "Phase explore\n",
      "Smart 140412161154592 bid 0.5 for user 0\n",
      "Winning bid price  was 0.5\n",
      "Smart 140412161154592 Won round; User 0 did not click\n",
      "Next bid for user 0 is 0.5\n"
     ]
    }
   ],
   "source": []
  },
  {
   "cell_type": "code",
   "execution_count": 3,
   "id": "6745a1f1-a152-49af-8153-c58c7aa72076",
   "metadata": {},
   "outputs": [
    {
     "name": "stdout",
     "output_type": "stream",
     "text": [
      "Phase explore\n",
      "Smart 140425174922336 bid 0.5 for user 0\n",
      "Phase explore\n",
      "Smart 140424090834304 bid 0.5 for user 0\n",
      "Phase explore\n",
      "Smart 140424090834256 bid 0.5 for user 0\n",
      "Winning bid price  was 0.5\n",
      "Winning bid price  was 0.5\n",
      "Winning bid price  was 0.5\n",
      "Smart 140424090834256 won round; User 0 clicked\n"
     ]
    }
   ],
   "source": [
    "b1, b2, b3 = Bidder(1,10), Bidder(1,10), Bidder(1,10)\n",
    "auction = Auction( [User()], [b1, b2, b3])\n",
    "auction.execute_round()"
   ]
  },
  {
   "cell_type": "code",
   "execution_count": null,
   "id": "c2f2e265-9421-4424-a942-34d541016dc8",
   "metadata": {},
   "outputs": [],
   "source": []
  }
 ],
 "metadata": {
  "kernelspec": {
   "display_name": "Python 3 (ipykernel)",
   "language": "python",
   "name": "python3"
  },
  "language_info": {
   "codemirror_mode": {
    "name": "ipython",
    "version": 3
   },
   "file_extension": ".py",
   "mimetype": "text/x-python",
   "name": "python",
   "nbconvert_exporter": "python",
   "pygments_lexer": "ipython3",
   "version": "3.9.12"
  }
 },
 "nbformat": 4,
 "nbformat_minor": 5
}
