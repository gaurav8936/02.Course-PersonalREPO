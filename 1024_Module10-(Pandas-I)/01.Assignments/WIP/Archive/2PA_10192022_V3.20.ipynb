{
 "cells": [
  {
   "cell_type": "markdown",
   "id": "ada87035-103d-4c1c-8f48-fd11f548480b",
   "metadata": {},
   "source": [
    "# Restarting"
   ]
  },
  {
   "cell_type": "code",
   "execution_count": 52,
   "id": "1b768ada-7452-4fe3-99ed-c4af81114e14",
   "metadata": {},
   "outputs": [],
   "source": [
    "import numpy as np\n",
    "import matplotlib.pyplot as plt\n",
    "import random\n",
    "from numpy import random\n",
    "from numpy.random import randint\n",
    "\n",
    "\n",
    "class User:\n",
    "    def __init__(self):\n",
    "        self.__probability = random.uniform(0, 1)\n",
    "        self.probability2 = random.uniform(0, 1)\n",
    "\n",
    "    def show_ad(self):\n",
    "        return  np.random.choice((True, False), p = [self.__probability, 1-self.__probability])\n",
    "        return  np.random.choice((True, False), p = [self.probability2, 1-self.probability2])\n",
    "\n",
    "class Auction:\n",
    "    \n",
    "    auction_history = [] # for the auction exchange only\n",
    "    \n",
    "    def __init__(self, users, bidders):\n",
    "        self.users = users\n",
    "        self.bidders = bidders\n",
    "        self.balances = {bidder: 0 for bidder in bidders}\n",
    "\n",
    "        # user master\n",
    "        self.user_master = []\n",
    "        for user in self.users:\n",
    "            self.user_master.append((user, id(user), user.probability2))\n",
    "        print(self.user_master)\n",
    "            \n",
    "    \n",
    "    def execute_round(self):\n",
    "        random_user = randint(0, len(self.users))\n",
    "#        random_user_id = random.choice(self.users)\n",
    "#        print('random user', random_user_id)\n",
    "        bids = {}\n",
    "        bids2 = []\n",
    "\n",
    "        # 1. COLLECT BIDS (send to all bidders) --------------------------------------------\n",
    "        for bidder in self.bidders:\n",
    "            #bidder_id = id(bidder)\n",
    "            bids[bidder] = bidder.bid(random_user)\n",
    "            # bids[bidder] = bidder.bid(random_user_id)\n",
    "            \n",
    "            #self.auction_history.append((bidder_id, bids[bidder]))\n",
    "            self.auction_history.append((id(bidder), bidder, bids[bidder]))\n",
    "\n",
    "        highest_bid = 0\n",
    "        winning_price = 0\n",
    "        #self.auction_history.append(bids)\n",
    "#        print(self.auction_history)\n",
    "        \n",
    "        # 2. DETERMINE WINNING BID --------------------------------------------\n",
    "        for bidder, bid_value in bids.items():\n",
    "#            winning_price = bid_value\n",
    "            #winning_price = max(bid_value)\n",
    "#            bids2.append([bidder_id, bid_value])\n",
    "            bids2.append((id(bidder), bid_value))\n",
    "#        print(bids2)\n",
    "#        print(bids)\n",
    "        winning_price = max(bids2, key=lambda x:x[1])[0]\n",
    "#        print(winning_price)\n",
    "\n",
    "        winning_bidders = [] #list only if there is a tie\n",
    "        #winning_bidders.append(bidder_id)\n",
    "        winning_bidders.append(bidder)\n",
    "        print('winning bidder', winning_bidders)\n",
    "        winning_bidder = winning_bidders[0]\n",
    "        #winning_bidder = winning_bidders[winning_bidder_index]\n",
    "        #print(bids)\n",
    "        \n",
    "        # 3. SHOW AD to USER --------------------------------------------\n",
    "        ad_result = self.users[random_user].show_ad()\n",
    "    \n",
    "        # 4. USER CLICKS? --------------------------------------------\n",
    "        for bidder in self.bidders:\n",
    "            if bidder == winning_bidder:\n",
    "                bidder.notify(True, winning_price, ad_result)\n",
    "                self.balances[bidder] -= winning_price\n",
    "                if ad_result:\n",
    "                    self.balances[bidder] += 1\n",
    "            else:\n",
    "                bidder.notify(False, winning_price, None)\n",
    "        #print(bids)\n",
    "\n",
    "class Bidder:\n",
    "    \n",
    "\n",
    "    # BIDDER CREATION -------------- initiated by GAME runner / Developer ------------------------\n",
    "    def __init__(self, num_users, num_rounds):\n",
    "\n",
    "        self.num_users = num_users\n",
    "        self.num_rounds = num_rounds\n",
    "        self.bidding_round = 0\n",
    "        # self.user_wins = {i: 0 for i in range(num_users)}\n",
    "        # self.user_clicks = {i: 0 for i in range(num_users)}\n",
    "        \n",
    "        self.bid_participate = {i: 0 for i in range(num_users)}\n",
    "        self.bid_wins = {i: 0 for i in range(num_users)}\n",
    "        print('bid wins', self.bid_wins)\n",
    "        self.bid_win_user_clicks = {i: 0 for i in range(num_users)}\n",
    "        \n",
    "        self.default_bid_price = random.uniform(0, 1)\n",
    "        self.bid_y_n_history = []\n",
    "        self.bid_y_n_summary = []\n",
    "        \n",
    "        \n",
    "    # SUBMIT BID  ------------ initiated by auction ------------------------------------\n",
    "    def bid(self, user_id):\n",
    "\n",
    "        self.bidding_round += 1\n",
    "        self.user_id = user_id\n",
    "        bid_price = self.default_bid_price + (self.bidding_round)*0.1\n",
    "#        self.bid_participate[self.user_id] +=1\n",
    "        #print(self.bid_participate)\n",
    "        return bid_price\n",
    "        print(bid_price)\n",
    "    \n",
    "    # NOTIFIED OF BID OUTCOME ------------ initiated by auction ------------------------------------\n",
    "    def notify(self, auction_winner, price, clicked):\n",
    "        print('auction winner is')\n",
    "        if auction_winner:\n",
    "            # for k,v in self.bid_wins:\n",
    "            #     self.bid_wins[v] += 1\n",
    "#            self.bid_wins[self.user_id] += 1\n",
    "            # self.bid_wins[user_id] += 1\n",
    "    #     #     if clicked:\n",
    "    #     #         self.bid_win_user_clicks[self.user_id] += 1\n",
    "    #     #         # print(\n",
    "    #     #         #     f\"Smart {id(self)} won round; User {self.user_id}\"\n",
    "    #     #         #     f\" clicked\"\n",
    "    #     #         # )\n",
    "        else:\n",
    "            pass\n",
    "        pass\n",
    "#        print(self.bid_win_user_clicks)\n",
    "#        print(self.bid_wins)"
   ]
  },
  {
   "cell_type": "code",
   "execution_count": 53,
   "id": "b2fa1421-6745-43a5-9c0b-5a4112f8d9dc",
   "metadata": {},
   "outputs": [
    {
     "name": "stdout",
     "output_type": "stream",
     "text": [
      "bid wins {0: 0}\n",
      "bid wins {0: 0}\n",
      "bid wins {0: 0}\n",
      "[(<__main__.User object at 0x7fb66927e340>, 140421424997184, 0.8364144266983116), (<__main__.User object at 0x7fb6897ef640>, 140421967574592, 0.08882098333469035), (<__main__.User object at 0x7fb6897efee0>, 140421967576800, 0.5362386487985316), (<__main__.User object at 0x7fb6897efbe0>, 140421967576032, 0.3051554885933625), (<__main__.User object at 0x7fb6897ef340>, 140421967573824, 0.7614973086458701), (<__main__.User object at 0x7fb6897efeb0>, 140421967576752, 0.4676255724422953), (<__main__.User object at 0x7fb6897efb50>, 140421967575888, 0.3035234178969852), (<__main__.User object at 0x7fb6897ef220>, 140421967573536, 0.1848521143634808), (<__main__.User object at 0x7fb6897ef310>, 140421967573776, 0.8777136661964665), (<__main__.User object at 0x7fb6897ef2b0>, 140421967573680, 0.25122492811471886)]\n",
      "winning bidder [<__main__.Bidder object at 0x7fb668b44040>]\n",
      "auction winner is\n",
      "auction winner is\n",
      "auction winner is\n"
     ]
    },
    {
     "ename": "TypeError",
     "evalue": "cannot unpack non-iterable int object",
     "output_type": "error",
     "traceback": [
      "\u001b[0;31m---------------------------------------------------------------------------\u001b[0m",
      "\u001b[0;31mTypeError\u001b[0m                                 Traceback (most recent call last)",
      "Input \u001b[0;32mIn [53]\u001b[0m, in \u001b[0;36m<cell line: 5>\u001b[0;34m()\u001b[0m\n\u001b[1;32m      2\u001b[0m auction \u001b[38;5;241m=\u001b[39m Auction( [User()\u001b[38;5;28;01mfor\u001b[39;00m i \u001b[38;5;129;01min\u001b[39;00m \u001b[38;5;28mrange\u001b[39m(\u001b[38;5;241m10\u001b[39m)], [b1, b2, b3])\n\u001b[1;32m      3\u001b[0m \u001b[38;5;66;03m#auction = Auction( [User(), User()], [b1, b2, b3])\u001b[39;00m\n\u001b[0;32m----> 5\u001b[0m \u001b[43mauction\u001b[49m\u001b[38;5;241;43m.\u001b[39;49m\u001b[43mexecute_round\u001b[49m\u001b[43m(\u001b[49m\u001b[43m)\u001b[49m\n",
      "Input \u001b[0;32mIn [52]\u001b[0m, in \u001b[0;36mAuction.execute_round\u001b[0;34m(self)\u001b[0m\n\u001b[1;32m     77\u001b[0m \u001b[38;5;28;01mfor\u001b[39;00m bidder \u001b[38;5;129;01min\u001b[39;00m \u001b[38;5;28mself\u001b[39m\u001b[38;5;241m.\u001b[39mbidders:\n\u001b[1;32m     78\u001b[0m     \u001b[38;5;28;01mif\u001b[39;00m bidder \u001b[38;5;241m==\u001b[39m winning_bidder:\n\u001b[0;32m---> 79\u001b[0m         \u001b[43mbidder\u001b[49m\u001b[38;5;241;43m.\u001b[39;49m\u001b[43mnotify\u001b[49m\u001b[43m(\u001b[49m\u001b[38;5;28;43;01mTrue\u001b[39;49;00m\u001b[43m,\u001b[49m\u001b[43m \u001b[49m\u001b[43mwinning_price\u001b[49m\u001b[43m,\u001b[49m\u001b[43m \u001b[49m\u001b[43mad_result\u001b[49m\u001b[43m)\u001b[49m\n\u001b[1;32m     80\u001b[0m         \u001b[38;5;28mself\u001b[39m\u001b[38;5;241m.\u001b[39mbalances[bidder] \u001b[38;5;241m-\u001b[39m\u001b[38;5;241m=\u001b[39m winning_price\n\u001b[1;32m     81\u001b[0m         \u001b[38;5;28;01mif\u001b[39;00m ad_result:\n",
      "Input \u001b[0;32mIn [52]\u001b[0m, in \u001b[0;36mBidder.notify\u001b[0;34m(self, auction_winner, price, clicked)\u001b[0m\n\u001b[1;32m    122\u001b[0m         \u001b[38;5;28mprint\u001b[39m(\u001b[38;5;124m'\u001b[39m\u001b[38;5;124mauction winner is\u001b[39m\u001b[38;5;124m'\u001b[39m)\n\u001b[1;32m    123\u001b[0m         \u001b[38;5;28;01mif\u001b[39;00m auction_winner:\n\u001b[0;32m--> 124\u001b[0m             \u001b[38;5;28;01mfor\u001b[39;00m k,v \u001b[38;5;129;01min\u001b[39;00m \u001b[38;5;28mself\u001b[39m\u001b[38;5;241m.\u001b[39mbid_wins:\n\u001b[1;32m    125\u001b[0m                 \u001b[38;5;28mself\u001b[39m\u001b[38;5;241m.\u001b[39mbid_wins[v] \u001b[38;5;241m+\u001b[39m\u001b[38;5;241m=\u001b[39m \u001b[38;5;241m1\u001b[39m\n\u001b[1;32m    126\u001b[0m \u001b[38;5;66;03m#            self.bid_wins[self.user_id] += 1\u001b[39;00m\n\u001b[1;32m    127\u001b[0m             \u001b[38;5;66;03m# self.bid_wins[user_id] += 1\u001b[39;00m\n\u001b[1;32m    128\u001b[0m     \u001b[38;5;66;03m#     #     if clicked:\u001b[39;00m\n\u001b[0;32m   (...)\u001b[0m\n\u001b[1;32m    133\u001b[0m     \u001b[38;5;66;03m#     #         # )\u001b[39;00m\n\u001b[1;32m    134\u001b[0m         \u001b[38;5;28;01melse\u001b[39;00m:\n",
      "\u001b[0;31mTypeError\u001b[0m: cannot unpack non-iterable int object"
     ]
    }
   ],
   "source": [
    "b1, b2, b3 = Bidder(1,10), Bidder(1,10), Bidder(1,10)\n",
    "auction = Auction( [User()for i in range(10)], [b1, b2, b3])\n",
    "#auction = Auction( [User(), User()], [b1, b2, b3])\n",
    "\n",
    "auction.execute_round()"
   ]
  },
  {
   "cell_type": "code",
   "execution_count": 46,
   "id": "27546553-6123-4a24-98b8-52d9644b1b2e",
   "metadata": {},
   "outputs": [
    {
     "name": "stdout",
     "output_type": "stream",
     "text": [
      "bid wins {0: 0}\n",
      "bid wins {0: 0}\n",
      "bid wins {0: 0}\n",
      "[(<__main__.User object at 0x7fb66914ae80>, 140421423738496, 0.5497137916082194)]\n",
      "winning bidder [<__main__.Bidder object at 0x7fb6896e4fa0>]\n",
      "auction winner is\n",
      "auction winner is\n",
      "auction winner is\n"
     ]
    }
   ],
   "source": [
    "b1, b2, b3 = Bidder(1,10), Bidder(1,10), Bidder(1,10)\n",
    "auction = Auction( [User()], [b1, b2, b3])\n",
    "auction.execute_round()"
   ]
  },
  {
   "cell_type": "code",
   "execution_count": 29,
   "id": "aea13a2f-7928-4e08-8240-83c9b677fb46",
   "metadata": {},
   "outputs": [
    {
     "name": "stdout",
     "output_type": "stream",
     "text": [
      "winning bidder [<__main__.Bidder object at 0x7fb63913d430>]\n",
      "auction winner is\n",
      "auction winner is\n",
      "auction winner is\n"
     ]
    }
   ],
   "source": [
    "auction.execute_round()"
   ]
  },
  {
   "cell_type": "code",
   "execution_count": 30,
   "id": "29188f71-f110-4534-915b-ee2e5bdaea24",
   "metadata": {},
   "outputs": [
    {
     "name": "stdout",
     "output_type": "stream",
     "text": [
      "b1 bid is:  0.773420861486445\n",
      "b2 bid is:  0.8654112863103979\n",
      "b3 bid is:  0.5379219548844587\n"
     ]
    }
   ],
   "source": [
    "print('b1 bid is: ', b1.bid(0x7fb6581c8ca0))\n",
    "print('b2 bid is: ', b2.bid(0x7fb6581c8ca0))\n",
    "print('b3 bid is: ', b3.bid(0x7fb6581c8ca0))"
   ]
  },
  {
   "cell_type": "code",
   "execution_count": 48,
   "id": "a9adf072-7da3-4bd3-9dfc-c9a17b4c90df",
   "metadata": {},
   "outputs": [
    {
     "data": {
      "text/plain": [
       "140421691774384"
      ]
     },
     "execution_count": 48,
     "metadata": {},
     "output_type": "execute_result"
    }
   ],
   "source": [
    "u1 = User()\n",
    "id(u1)"
   ]
  },
  {
   "cell_type": "code",
   "execution_count": null,
   "id": "27429fac-a583-4489-a803-96af4e497ce4",
   "metadata": {},
   "outputs": [],
   "source": []
  },
  {
   "cell_type": "code",
   "execution_count": null,
   "id": "cf663e5a-c0ba-499e-883c-57f28a5a7ec5",
   "metadata": {},
   "outputs": [],
   "source": []
  },
  {
   "cell_type": "code",
   "execution_count": 5,
   "id": "6745a1f1-a152-49af-8153-c58c7aa72076",
   "metadata": {
    "tags": []
   },
   "outputs": [
    {
     "name": "stdout",
     "output_type": "stream",
     "text": [
      "winning bidder [<__main__.Bidder object at 0x7fb6580d5df0>]\n",
      "winning bidder [<__main__.Bidder object at 0x7fb6580d5df0>]\n",
      "winning bidder [<__main__.Bidder object at 0x7fb6580d5df0>]\n",
      "winning bidder [<__main__.Bidder object at 0x7fb6580d5df0>]\n",
      "winning bidder [<__main__.Bidder object at 0x7fb6580d5df0>]\n",
      "winning bidder [<__main__.Bidder object at 0x7fb6580d5df0>]\n",
      "winning bidder [<__main__.Bidder object at 0x7fb6580d5df0>]\n",
      "winning bidder [<__main__.Bidder object at 0x7fb6580d5df0>]\n",
      "winning bidder [<__main__.Bidder object at 0x7fb6580d5df0>]\n",
      "winning bidder [<__main__.Bidder object at 0x7fb6580d5df0>]\n",
      "winning bidder [<__main__.Bidder object at 0x7fb6580d5df0>]\n",
      "winning bidder [<__main__.Bidder object at 0x7fb6580d5df0>]\n",
      "winning bidder [<__main__.Bidder object at 0x7fb6580d5df0>]\n",
      "winning bidder [<__main__.Bidder object at 0x7fb6580d5df0>]\n",
      "winning bidder [<__main__.Bidder object at 0x7fb6580d5df0>]\n",
      "winning bidder [<__main__.Bidder object at 0x7fb6580d5df0>]\n",
      "winning bidder [<__main__.Bidder object at 0x7fb6580d5df0>]\n",
      "winning bidder [<__main__.Bidder object at 0x7fb6580d5df0>]\n",
      "winning bidder [<__main__.Bidder object at 0x7fb6580d5df0>]\n",
      "winning bidder [<__main__.Bidder object at 0x7fb6580d5df0>]\n",
      "winning bidder [<__main__.Bidder object at 0x7fb6580d5df0>]\n",
      "winning bidder [<__main__.Bidder object at 0x7fb6580d5df0>]\n",
      "winning bidder [<__main__.Bidder object at 0x7fb6580d5df0>]\n",
      "winning bidder [<__main__.Bidder object at 0x7fb6580d5df0>]\n",
      "winning bidder [<__main__.Bidder object at 0x7fb6580d5df0>]\n",
      "winning bidder [<__main__.Bidder object at 0x7fb6580d5df0>]\n",
      "winning bidder [<__main__.Bidder object at 0x7fb6580d5df0>]\n",
      "winning bidder [<__main__.Bidder object at 0x7fb6580d5df0>]\n",
      "winning bidder [<__main__.Bidder object at 0x7fb6580d5df0>]\n",
      "winning bidder [<__main__.Bidder object at 0x7fb6580d5df0>]\n",
      "winning bidder [<__main__.Bidder object at 0x7fb6580d5df0>]\n",
      "winning bidder [<__main__.Bidder object at 0x7fb6580d5df0>]\n",
      "winning bidder [<__main__.Bidder object at 0x7fb6580d5df0>]\n",
      "winning bidder [<__main__.Bidder object at 0x7fb6580d5df0>]\n",
      "winning bidder [<__main__.Bidder object at 0x7fb6580d5df0>]\n",
      "winning bidder [<__main__.Bidder object at 0x7fb6580d5df0>]\n",
      "winning bidder [<__main__.Bidder object at 0x7fb6580d5df0>]\n",
      "winning bidder [<__main__.Bidder object at 0x7fb6580d5df0>]\n",
      "winning bidder [<__main__.Bidder object at 0x7fb6580d5df0>]\n",
      "winning bidder [<__main__.Bidder object at 0x7fb6580d5df0>]\n",
      "winning bidder [<__main__.Bidder object at 0x7fb6580d5df0>]\n",
      "winning bidder [<__main__.Bidder object at 0x7fb6580d5df0>]\n",
      "winning bidder [<__main__.Bidder object at 0x7fb6580d5df0>]\n",
      "winning bidder [<__main__.Bidder object at 0x7fb6580d5df0>]\n",
      "winning bidder [<__main__.Bidder object at 0x7fb6580d5df0>]\n",
      "winning bidder [<__main__.Bidder object at 0x7fb6580d5df0>]\n",
      "winning bidder [<__main__.Bidder object at 0x7fb6580d5df0>]\n",
      "winning bidder [<__main__.Bidder object at 0x7fb6580d5df0>]\n",
      "winning bidder [<__main__.Bidder object at 0x7fb6580d5df0>]\n",
      "winning bidder [<__main__.Bidder object at 0x7fb6580d5df0>]\n"
     ]
    },
    {
     "data": {
      "text/plain": [
       "[None,\n",
       " None,\n",
       " None,\n",
       " None,\n",
       " None,\n",
       " None,\n",
       " None,\n",
       " None,\n",
       " None,\n",
       " None,\n",
       " None,\n",
       " None,\n",
       " None,\n",
       " None,\n",
       " None,\n",
       " None,\n",
       " None,\n",
       " None,\n",
       " None,\n",
       " None,\n",
       " None,\n",
       " None,\n",
       " None,\n",
       " None,\n",
       " None,\n",
       " None,\n",
       " None,\n",
       " None,\n",
       " None,\n",
       " None,\n",
       " None,\n",
       " None,\n",
       " None,\n",
       " None,\n",
       " None,\n",
       " None,\n",
       " None,\n",
       " None,\n",
       " None,\n",
       " None,\n",
       " None,\n",
       " None,\n",
       " None,\n",
       " None,\n",
       " None,\n",
       " None,\n",
       " None,\n",
       " None,\n",
       " None,\n",
       " None]"
      ]
     },
     "execution_count": 5,
     "metadata": {},
     "output_type": "execute_result"
    }
   ],
   "source": [
    "b1 = Bidder(1,10)\n",
    "auction = Auction( [User()], [b1])\n",
    "[auction.execute_round() for i in range(50)]"
   ]
  },
  {
   "cell_type": "code",
   "execution_count": 47,
   "id": "c2f2e265-9421-4424-a942-34d541016dc8",
   "metadata": {},
   "outputs": [
    {
     "data": {
      "text/plain": [
       "840"
      ]
     },
     "execution_count": 47,
     "metadata": {},
     "output_type": "execute_result"
    }
   ],
   "source": [
    "lis=[(840, 32), (841, 3), (842, 4), (843, 4), (844, 6), (845, 6), (846, 12), (847, 6), (848, 10), (849, 4)]\n",
    "\n",
    "max(lis, key=lambda x:x[1])[0]"
   ]
  },
  {
   "cell_type": "code",
   "execution_count": null,
   "id": "01503607-335d-4878-a405-077becffa081",
   "metadata": {},
   "outputs": [],
   "source": []
  }
 ],
 "metadata": {
  "kernelspec": {
   "display_name": "Python 3 (ipykernel)",
   "language": "python",
   "name": "python3"
  },
  "language_info": {
   "codemirror_mode": {
    "name": "ipython",
    "version": 3
   },
   "file_extension": ".py",
   "mimetype": "text/x-python",
   "name": "python",
   "nbconvert_exporter": "python",
   "pygments_lexer": "ipython3",
   "version": "3.9.12"
  }
 },
 "nbformat": 4,
 "nbformat_minor": 5
}
