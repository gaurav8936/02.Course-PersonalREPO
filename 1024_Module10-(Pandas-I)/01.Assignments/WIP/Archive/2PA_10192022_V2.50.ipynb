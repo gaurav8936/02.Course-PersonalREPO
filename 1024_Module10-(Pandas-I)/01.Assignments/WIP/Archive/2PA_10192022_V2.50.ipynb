{
 "cells": [
  {
   "cell_type": "markdown",
   "id": "ada87035-103d-4c1c-8f48-fd11f548480b",
   "metadata": {},
   "source": [
    "# Restarting"
   ]
  },
  {
   "cell_type": "code",
   "execution_count": 66,
   "id": "1b768ada-7452-4fe3-99ed-c4af81114e14",
   "metadata": {},
   "outputs": [
    {
     "ename": "SyntaxError",
     "evalue": "invalid syntax (1834107770.py, line 84)",
     "output_type": "error",
     "traceback": [
      "\u001b[0;36m  Input \u001b[0;32mIn [66]\u001b[0;36m\u001b[0m\n\u001b[0;31m    print(\"the bidder number is \", (self.bidder_master[i][0] if i == id(self)))\u001b[0m\n\u001b[0m                                                                             ^\u001b[0m\n\u001b[0;31mSyntaxError\u001b[0m\u001b[0;31m:\u001b[0m invalid syntax\n"
     ]
    }
   ],
   "source": [
    "import numpy as np\n",
    "import matplotlib.pyplot as plt\n",
    "import random\n",
    "from numpy import random\n",
    "from numpy.random import randint\n",
    "\n",
    "\n",
    "class User:\n",
    "    def __init__(self):\n",
    "        self.__probability = random.uniform(0, 1)\n",
    "\n",
    "    def show_ad(self):\n",
    "        return  np.random.choice((True, False), p = [self.__probability, 1-self.__probability])\n",
    "\n",
    "class Auction:\n",
    "\n",
    "    def __init__(self, users, bidders):\n",
    "        self.users = users\n",
    "        self.bidders = bidders\n",
    "        self.balances = {bidder: 0 for bidder in bidders}\n",
    "\n",
    "    def execute_round(self):\n",
    "        random_user = randint(0, len(self.users))\n",
    "        bids = {}\n",
    "        for bidder in self.bidders:\n",
    "            bids[bidder] = bidder.bid(random_user)\n",
    "\n",
    "        highest_bid = 0\n",
    "        winning_price = 0\n",
    "        \n",
    "        for bidder, bid_value in bids.items():\n",
    "            winning_price = bid_value\n",
    "\n",
    "        winning_bidders = []\n",
    "        winning_bidders.append(bidder)\n",
    "        winning_bidder = winning_bidders[0]\n",
    "        \n",
    "        ad_result = self.users[random_user].show_ad()\n",
    "\n",
    "        for bidder in self.bidders:\n",
    "            if bidder == winning_bidder:\n",
    "                bidder.notify(True, winning_price, ad_result)\n",
    "                self.balances[bidder] -= winning_price\n",
    "                if ad_result:\n",
    "                    self.balances[bidder] += 1\n",
    "            else:\n",
    "                bidder.notify(False, winning_price, None)\n",
    "\n",
    "class Bidder:\n",
    "    \n",
    "    bidder_master = []\n",
    "    num_gen = [i for i in range(100)]\n",
    "    \n",
    "    def __init__(self, num_users, num_rounds):\n",
    "\n",
    "        self.num_users = num_users\n",
    "        self.num_rounds = num_rounds\n",
    "        self.bidding_round = 0\n",
    "        self.user_wins = {i: 0 for i in range(num_users)}\n",
    "        self.user_clicks = {i: 0 for i in range(num_users)}\n",
    "        self.default_bid_price = 0.5\n",
    "        \n",
    "        self.bidder_master.append([self.num_gen.pop(),id(self)])\n",
    "        print(self.bidder_master)\n",
    "        print(self.bidder_master if self.bidder_master[])\n",
    "        \n",
    "\n",
    "    def bid(self, user_id):\n",
    "\n",
    "        self.bidding_round += 1\n",
    "        self.current_round_user_id = user_id\n",
    "        bid_price = self.default_bid_price        \n",
    "        return bid_price\n",
    "\n",
    "    def notify(self, auction_winner, price, clicked):\n",
    "\n",
    "        if auction_winner:\n",
    "            self.user_wins[self.current_round_user_id] += 1\n",
    "            if clicked:\n",
    "                self.user_clicks[self.current_round_user_id] += 1\n",
    "                print(\n",
    "                    f\"Smart {id(self)} won round; User {self.current_round_user_id}\"\n",
    "                    f\" clicked\"\n",
    "                )\n",
    "                #print(\"the bidder number is \", (self.bidder_master[i][0] if i == id(self)))\n",
    "            else:\n",
    "                pass\n",
    "        print(self.user_clicks)"
   ]
  },
  {
   "cell_type": "code",
   "execution_count": 64,
   "id": "27546553-6123-4a24-98b8-52d9644b1b2e",
   "metadata": {},
   "outputs": [
    {
     "name": "stdout",
     "output_type": "stream",
     "text": [
      "[[99, 140692669077488]]\n",
      "[[99, 140692669077488], [98, 140692944935040]]\n",
      "[[99, 140692669077488], [98, 140692944935040], [97, 140692944934272]]\n",
      "{0: 0}\n",
      "{0: 0}\n",
      "Smart 140692944934272 won round; User 0 clicked\n",
      "the bidder number is  [99, 140692669077488]\n",
      "{0: 1}\n"
     ]
    }
   ],
   "source": [
    "b1, b2, b3 = Bidder(1,10), Bidder(1,10), Bidder(1,10)\n",
    "auction = Auction( [User()], [b1, b2, b3])\n",
    "auction.execute_round()"
   ]
  },
  {
   "cell_type": "code",
   "execution_count": 17,
   "id": "6745a1f1-a152-49af-8153-c58c7aa72076",
   "metadata": {},
   "outputs": [
    {
     "name": "stdout",
     "output_type": "stream",
     "text": [
      "Smart 140692669842864 won round; User 0 clicked\n"
     ]
    }
   ],
   "source": [
    "b1 = Bidder(1,10)\n",
    "auction = Auction( [User()], [b1])\n",
    "auction.execute_round()"
   ]
  },
  {
   "cell_type": "code",
   "execution_count": null,
   "id": "c2f2e265-9421-4424-a942-34d541016dc8",
   "metadata": {},
   "outputs": [],
   "source": []
  }
 ],
 "metadata": {
  "kernelspec": {
   "display_name": "Python 3 (ipykernel)",
   "language": "python",
   "name": "python3"
  },
  "language_info": {
   "codemirror_mode": {
    "name": "ipython",
    "version": 3
   },
   "file_extension": ".py",
   "mimetype": "text/x-python",
   "name": "python",
   "nbconvert_exporter": "python",
   "pygments_lexer": "ipython3",
   "version": "3.9.12"
  }
 },
 "nbformat": 4,
 "nbformat_minor": 5
}
