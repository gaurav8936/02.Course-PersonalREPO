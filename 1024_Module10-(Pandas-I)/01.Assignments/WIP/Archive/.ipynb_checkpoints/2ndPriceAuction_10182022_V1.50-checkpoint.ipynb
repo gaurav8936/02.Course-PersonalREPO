{
 "cells": [
  {
   "cell_type": "markdown",
   "id": "2de53388-4669-4db4-b143-91d51ec4af4d",
   "metadata": {},
   "source": [
    "# 2nd Price Auction"
   ]
  },
  {
   "attachments": {
    "e5aea404-ff31-4a72-990b-d1434a6754dc.png": {
     "image/png": "[encoded data removed]"
    }
   },
   "cell_type": "markdown",
   "id": "97264469-c2a3-410b-b42d-d19c375dac23",
   "metadata": {},
   "source": [
    "![image.png](attachment:e5aea404-ff31-4a72-990b-d1434a6754dc.png)"
   ]
  },
  {
   "cell_type": "code",
   "execution_count": 19,
   "id": "543542a3-cdae-4ea7-a514-568430458740",
   "metadata": {},
   "outputs": [],
   "source": [
    "import numpy as np\n",
    "import matplotlib.pyplot as plt\n",
    "import random\n",
    "\n",
    "class User:\n",
    "\n",
    "    def __init__(self):\n",
    "        self.__probability = np.random.uniform()\n",
    "        self.user_id = random.sample(range(100), 1)\n",
    "#        self.auction = auction\n",
    "\n",
    "        \n",
    "    def __repr__(self):\n",
    "        return \"The user_id is\" + str(self.user_id) + \"and probability is \" + str(self.__probability)\n",
    "                                      \n",
    "    def __str__(self):\n",
    "        return \"The user_id is\" + str(self.user_id) + \"and probability is \" + str(self.__probability)\n",
    "    \n",
    "    def show_ad(self):\n",
    "        return np.random.choice((True, False), p = [self.__probability, 1-self.__probability])\n",
    "\n",
    "    \n",
    "#######################################################################################    \n",
    "class Bidder:\n",
    "\n",
    "    def __init__(self, num_users, num_rounds):\n",
    "        self.num_users = num_users\n",
    "        self.num_rounds = num_rounds\n",
    "        \n",
    "        self.user_list = [User() for i in range(self.num_users)]\n",
    "        self.chosen_user = random.choice(self.user_list)\n",
    "        self.chosen_user_id = self.chosen_user.user_id\n",
    "        \n",
    "        self.bidder_id = random.sample(range(100), 1)\n",
    "\n",
    "\n",
    "    \n",
    "    def __repr__(self):\n",
    "        return \"This is a placeholder auction with 10 bidders and 10 users\"\n",
    "\n",
    "    def __str__(self):\n",
    "        return \"This is a placeholder auction with 10 bidders and 10 users\"\n",
    "\n",
    "    def bid(self, user_id):\n",
    "        return self.chosen_user.show_ad()\n",
    "\n",
    "        \n",
    "    def notify(self, auction_winner, price, clicked):\n",
    "        pass\n",
    "\n",
    "\n",
    "#######################################################################################\n",
    "class Auction:\n",
    "\n",
    "    def __init__(self, users, bidders):\n",
    "        \n",
    "        self.num_users = bidder.num_users\n",
    "        self.num_rounds = bidder.num_rounds\n",
    "\n",
    "        self.users = [User() for i in range(self.num_users)]\n",
    "        self.user_list = bidder.user_list\n",
    "        self.chosen_user = bidder.chosen_user\n",
    "        self.chosen_user_id = bidder.chosen_user_id\n",
    "    \n",
    "    def __repr__(self):\n",
    "        return \"This chosen user is \" + str(self.chosen_user)\n",
    "\n",
    "    def __str__(self):\n",
    "        return \"This is a placeholder auction with 10 bidders and 1 user at a time\"\n",
    "\n",
    "    def select_user(self):\n",
    "        pass\n",
    "\n",
    "    \n",
    "    def create_users(self):\n",
    "        pass\n",
    "    \n",
    "    def execute_round(self):\n",
    "        pass"
   ]
  },
  {
   "cell_type": "markdown",
   "id": "fd6113e9-8f86-4c3b-88b5-f1c23ab80461",
   "metadata": {},
   "source": [
    "---"
   ]
  },
  {
   "cell_type": "markdown",
   "id": "8b2dd0bc-2885-4feb-9c36-f71d8d6eb7ed",
   "metadata": {},
   "source": [
    "---"
   ]
  },
  {
   "cell_type": "code",
   "execution_count": 31,
   "id": "2b107f7d-0488-42f4-8aca-9c622611e9a8",
   "metadata": {},
   "outputs": [],
   "source": [
    "bidder = Bidder(1,10)"
   ]
  },
  {
   "cell_type": "code",
   "execution_count": 32,
   "id": "1126beb6-1072-4356-9fd4-88dd1af832f7",
   "metadata": {},
   "outputs": [
    {
     "data": {
      "text/plain": [
       "{'num_users': 1,\n",
       " 'num_rounds': 10,\n",
       " 'users': [The user_id is[48]and probability is 0.6930037238126838],\n",
       " 'user_list': [The user_id is[84]and probability is 0.6110738072703235],\n",
       " 'chosen_user': The user_id is[84]and probability is 0.6110738072703235,\n",
       " 'chosen_user_id': [84]}"
      ]
     },
     "execution_count": 32,
     "metadata": {},
     "output_type": "execute_result"
    }
   ],
   "source": [
    "#auction = Auction([User()], [b0, b1, b2])\n",
    "auction = Auction([User()], [bidder])\n",
    "auction.__dict__"
   ]
  },
  {
   "cell_type": "code",
   "execution_count": 38,
   "id": "a8902d59-4ae2-490a-9bdb-fd7d14e3bf98",
   "metadata": {},
   "outputs": [
    {
     "data": {
      "text/plain": [
       "[84]"
      ]
     },
     "execution_count": 38,
     "metadata": {},
     "output_type": "execute_result"
    }
   ],
   "source": [
    "auction.chosen_user.user_id"
   ]
  },
  {
   "cell_type": "code",
   "execution_count": 43,
   "id": "25219206-3915-46cf-a7ad-a7c2c0369173",
   "metadata": {},
   "outputs": [
    {
     "data": {
      "text/plain": [
       "1"
      ]
     },
     "execution_count": 43,
     "metadata": {},
     "output_type": "execute_result"
    }
   ],
   "source": [
    "len(auction.user_list)"
   ]
  },
  {
   "cell_type": "code",
   "execution_count": 42,
   "id": "8a3cc6c2-d13c-4e0b-84fc-cb5752b708bb",
   "metadata": {},
   "outputs": [
    {
     "data": {
      "text/plain": [
       "True"
      ]
     },
     "execution_count": 42,
     "metadata": {},
     "output_type": "execute_result"
    }
   ],
   "source": [
    "bidder.bid(auction.chosen_user.user_id)"
   ]
  },
  {
   "cell_type": "code",
   "execution_count": null,
   "id": "cdd7ce68-ad2c-4ec3-879d-e21f3b13c68a",
   "metadata": {},
   "outputs": [],
   "source": []
  },
  {
   "cell_type": "code",
   "execution_count": 5,
   "id": "ef5c0c2c-08a4-4069-91b2-f6e1ee67fa74",
   "metadata": {},
   "outputs": [
    {
     "ename": "NameError",
     "evalue": "name 'auction' is not defined",
     "output_type": "error",
     "traceback": [
      "\u001b[0;31m---------------------------------------------------------------------------\u001b[0m",
      "\u001b[0;31mNameError\u001b[0m                                 Traceback (most recent call last)",
      "Input \u001b[0;32mIn [5]\u001b[0m, in \u001b[0;36m<cell line: 1>\u001b[0;34m()\u001b[0m\n\u001b[0;32m----> 1\u001b[0m \u001b[43mauction\u001b[49m\u001b[38;5;241m.\u001b[39muser_list\n",
      "\u001b[0;31mNameError\u001b[0m: name 'auction' is not defined"
     ]
    }
   ],
   "source": [
    "auction.user_list"
   ]
  },
  {
   "cell_type": "code",
   "execution_count": 13,
   "id": "b61e7bff-5f6a-4340-b516-36ad7fd3b8e7",
   "metadata": {},
   "outputs": [
    {
     "ename": "NameError",
     "evalue": "name 'auction' is not defined",
     "output_type": "error",
     "traceback": [
      "\u001b[0;31m---------------------------------------------------------------------------\u001b[0m",
      "\u001b[0;31mNameError\u001b[0m                                 Traceback (most recent call last)",
      "Input \u001b[0;32mIn [13]\u001b[0m, in \u001b[0;36m<cell line: 1>\u001b[0;34m()\u001b[0m\n\u001b[0;32m----> 1\u001b[0m \u001b[43mauction\u001b[49m\u001b[38;5;241m.\u001b[39mchosen_user\n",
      "\u001b[0;31mNameError\u001b[0m: name 'auction' is not defined"
     ]
    }
   ],
   "source": [
    "auction.chosen_user"
   ]
  },
  {
   "cell_type": "code",
   "execution_count": 15,
   "id": "fc90dd45-a9cd-4cd5-b0b1-4a27ab970d13",
   "metadata": {},
   "outputs": [
    {
     "ename": "NameError",
     "evalue": "name 'auction' is not defined",
     "output_type": "error",
     "traceback": [
      "\u001b[0;31m---------------------------------------------------------------------------\u001b[0m",
      "\u001b[0;31mNameError\u001b[0m                                 Traceback (most recent call last)",
      "Input \u001b[0;32mIn [15]\u001b[0m, in \u001b[0;36m<cell line: 1>\u001b[0;34m()\u001b[0m\n\u001b[0;32m----> 1\u001b[0m \u001b[43mauction\u001b[49m\n",
      "\u001b[0;31mNameError\u001b[0m: name 'auction' is not defined"
     ]
    }
   ],
   "source": [
    "auction"
   ]
  },
  {
   "cell_type": "code",
   "execution_count": null,
   "id": "c8f7c08d-3478-4992-a38a-6524460a3399",
   "metadata": {},
   "outputs": [],
   "source": []
  },
  {
   "cell_type": "code",
   "execution_count": 142,
   "id": "57f7f68c-ec8c-4cfe-8ddf-745b16f46971",
   "metadata": {},
   "outputs": [
    {
     "data": {
      "text/plain": [
       "False"
      ]
     },
     "execution_count": 142,
     "metadata": {},
     "output_type": "execute_result"
    }
   ],
   "source": [
    "bidder = Bidder(2,10)\n",
    "b0, b1, b2 = Bidder(2,10), Bidder(2,10), Bidder(2,10)\n",
    "#b1.__dict__\n",
    "b1.bid(35)"
   ]
  },
  {
   "cell_type": "code",
   "execution_count": 14,
   "id": "5c8d79ae-31fd-4696-91a9-989c27dfafbc",
   "metadata": {},
   "outputs": [
    {
     "data": {
      "text/plain": [
       "[39]"
      ]
     },
     "execution_count": 14,
     "metadata": {},
     "output_type": "execute_result"
    }
   ],
   "source": [
    "user = [User() for i in range(1)]\n",
    "user[0].__dict__\n",
    "user[0].user_id"
   ]
  },
  {
   "cell_type": "code",
   "execution_count": null,
   "id": "228cba90-d3fa-41f7-9550-38896a7ff7d3",
   "metadata": {},
   "outputs": [],
   "source": []
  },
  {
   "cell_type": "code",
   "execution_count": null,
   "id": "23c83f06-198a-4e3a-a5dc-ea0d011af73c",
   "metadata": {},
   "outputs": [],
   "source": []
  },
  {
   "cell_type": "code",
   "execution_count": null,
   "id": "ded6ecbe-22a4-49d2-b6d4-5e198342cabf",
   "metadata": {},
   "outputs": [],
   "source": []
  }
 ],
 "metadata": {
  "kernelspec": {
   "display_name": "Python 3 (ipykernel)",
   "language": "python",
   "name": "python3"
  },
  "language_info": {
   "codemirror_mode": {
    "name": "ipython",
    "version": 3
   },
   "file_extension": ".py",
   "mimetype": "text/x-python",
   "name": "python",
   "nbconvert_exporter": "python",
   "pygments_lexer": "ipython3",
   "version": "3.9.12"
  }
 },
 "nbformat": 4,
 "nbformat_minor": 5
}
