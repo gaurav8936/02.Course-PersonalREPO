{
 "cells": [
  {
   "cell_type": "markdown",
   "id": "ada87035-103d-4c1c-8f48-fd11f548480b",
   "metadata": {},
   "source": [
    "# Restarting"
   ]
  },
  {
   "cell_type": "code",
   "execution_count": 5,
   "id": "1b768ada-7452-4fe3-99ed-c4af81114e14",
   "metadata": {},
   "outputs": [],
   "source": [
    "import numpy as np\n",
    "import matplotlib.pyplot as plt\n",
    "import random\n",
    "from numpy import random\n",
    "from numpy.random import randint\n",
    "\n",
    "\n",
    "class User:\n",
    "    def __init__(self):\n",
    "        self.__probability = random.uniform(0, 1)\n",
    "\n",
    "    def show_ad(self):\n",
    "        # click_threshold = random.uniform(0, 1)\n",
    "        # if click_threshold <= self.__probability:\n",
    "        #     return True\n",
    "        # return False\n",
    "        return  np.random.choice((True, False), p = [self.__probability, 1-self.__probability])\n",
    "\n",
    "class Auction:\n",
    "\n",
    "    def __init__(self, users, bidders):\n",
    "        self.users = users\n",
    "        self.bidders = bidders\n",
    "        self.balances = {bidder: 0 for bidder in bidders}\n",
    "\n",
    "    def execute_round(self):\n",
    "        random_user = randint(0, len(self.users))\n",
    "        bids = {}\n",
    "        for bidder in self.bidders:\n",
    "            bids[bidder] = bidder.bid(random_user)\n",
    "\n",
    "        highest_bid = 0\n",
    "        winning_price = 0\n",
    "        \n",
    "        for bidder, bid_value in bids.items():\n",
    "            winning_price = bid_value\n",
    "\n",
    "        winning_bidders = []\n",
    "        winning_bidders.append(bidder)\n",
    "        winning_bidder = winning_bidders[0]\n",
    "        \n",
    "        ad_result = self.users[random_user].show_ad()\n",
    "\n",
    "        for bidder in self.bidders:\n",
    "            if bidder == winning_bidder:\n",
    "                bidder.notify(True, winning_price, ad_result)\n",
    "                self.balances[bidder] -= winning_price\n",
    "                if ad_result:\n",
    "                    self.balances[bidder] += 1\n",
    "            else:\n",
    "                bidder.notify(False, winning_price, None)\n",
    "\n",
    "class Bidder:\n",
    "\n",
    "    def __init__(self, num_users, num_rounds):\n",
    "\n",
    "        self.num_users = num_users\n",
    "        self.num_rounds = num_rounds\n",
    "        self.bidding_round = 0\n",
    "        self.user_wins = {i: 0 for i in range(num_users)}\n",
    "        self.user_clicks = {i: 0 for i in range(num_users)}\n",
    "        self.default_bid_price = 0.5\n",
    "\n",
    "    def bid(self, user_id):\n",
    "\n",
    "        self.bidding_round += 1\n",
    "        self.current_round_user_id = user_id\n",
    "        bid_price = self.default_bid_price        \n",
    "        return bid_price\n",
    "\n",
    "    def notify(self, auction_winner, price, clicked):\n",
    "\n",
    "        if auction_winner:\n",
    "            self.user_wins[self.current_round_user_id] += 1\n",
    "            if clicked:\n",
    "                self.user_clicks[self.current_round_user_id] += 1\n",
    "                print(\n",
    "                    f\"Smart {id(self)} won round; User {self.current_round_user_id}\"\n",
    "                    f\" clicked\"\n",
    "                )\n",
    "            else:\n",
    "                pass"
   ]
  },
  {
   "cell_type": "code",
   "execution_count": 6,
   "id": "27546553-6123-4a24-98b8-52d9644b1b2e",
   "metadata": {},
   "outputs": [
    {
     "name": "stdout",
     "output_type": "stream",
     "text": [
      "Smart 140310287157424 won round; User 0 clicked\n"
     ]
    }
   ],
   "source": [
    "b1, b2, b3 = Bidder(1,10), Bidder(1,10), Bidder(1,10)\n",
    "auction = Auction( [User()], [b1, b2, b3])\n",
    "auction.execute_round()"
   ]
  },
  {
   "cell_type": "code",
   "execution_count": 7,
   "id": "6745a1f1-a152-49af-8153-c58c7aa72076",
   "metadata": {},
   "outputs": [
    {
     "name": "stdout",
     "output_type": "stream",
     "text": [
      "Smart 140310287156080 won round; User 0 clicked\n"
     ]
    }
   ],
   "source": [
    "b1 = Bidder(1,10)\n",
    "auction = Auction( [User()], [b1])\n",
    "auction.execute_round()"
   ]
  },
  {
   "cell_type": "code",
   "execution_count": 8,
   "id": "c2f2e265-9421-4424-a942-34d541016dc8",
   "metadata": {},
   "outputs": [
    {
     "ename": "KeyError",
     "evalue": "5",
     "output_type": "error",
     "traceback": [
      "\u001b[0;31m---------------------------------------------------------------------------\u001b[0m",
      "\u001b[0;31mKeyError\u001b[0m                                  Traceback (most recent call last)",
      "Input \u001b[0;32mIn [8]\u001b[0m, in \u001b[0;36m<cell line: 3>\u001b[0;34m()\u001b[0m\n\u001b[1;32m      1\u001b[0m b1, b2, b3 \u001b[38;5;241m=\u001b[39m Bidder(\u001b[38;5;241m1\u001b[39m,\u001b[38;5;241m10\u001b[39m), Bidder(\u001b[38;5;241m1\u001b[39m,\u001b[38;5;241m10\u001b[39m), Bidder(\u001b[38;5;241m1\u001b[39m,\u001b[38;5;241m10\u001b[39m)\n\u001b[1;32m      2\u001b[0m auction \u001b[38;5;241m=\u001b[39m Auction( [User()\u001b[38;5;28;01mfor\u001b[39;00m i \u001b[38;5;129;01min\u001b[39;00m \u001b[38;5;28mrange\u001b[39m(\u001b[38;5;241m10\u001b[39m)], [b1, b2, b3])\n\u001b[0;32m----> 3\u001b[0m \u001b[43mauction\u001b[49m\u001b[38;5;241;43m.\u001b[39;49m\u001b[43mexecute_round\u001b[49m\u001b[43m(\u001b[49m\u001b[43m)\u001b[49m\n",
      "Input \u001b[0;32mIn [5]\u001b[0m, in \u001b[0;36mAuction.execute_round\u001b[0;34m(self)\u001b[0m\n\u001b[1;32m     44\u001b[0m \u001b[38;5;28;01mfor\u001b[39;00m bidder \u001b[38;5;129;01min\u001b[39;00m \u001b[38;5;28mself\u001b[39m\u001b[38;5;241m.\u001b[39mbidders:\n\u001b[1;32m     45\u001b[0m     \u001b[38;5;28;01mif\u001b[39;00m bidder \u001b[38;5;241m==\u001b[39m winning_bidder:\n\u001b[0;32m---> 46\u001b[0m         \u001b[43mbidder\u001b[49m\u001b[38;5;241;43m.\u001b[39;49m\u001b[43mnotify\u001b[49m\u001b[43m(\u001b[49m\u001b[38;5;28;43;01mTrue\u001b[39;49;00m\u001b[43m,\u001b[49m\u001b[43m \u001b[49m\u001b[43mwinning_price\u001b[49m\u001b[43m,\u001b[49m\u001b[43m \u001b[49m\u001b[43mad_result\u001b[49m\u001b[43m)\u001b[49m\n\u001b[1;32m     47\u001b[0m         \u001b[38;5;28mself\u001b[39m\u001b[38;5;241m.\u001b[39mbalances[bidder] \u001b[38;5;241m-\u001b[39m\u001b[38;5;241m=\u001b[39m winning_price\n\u001b[1;32m     48\u001b[0m         \u001b[38;5;28;01mif\u001b[39;00m ad_result:\n",
      "Input \u001b[0;32mIn [5]\u001b[0m, in \u001b[0;36mBidder.notify\u001b[0;34m(self, auction_winner, price, clicked)\u001b[0m\n\u001b[1;32m     71\u001b[0m \u001b[38;5;28;01mdef\u001b[39;00m \u001b[38;5;21mnotify\u001b[39m(\u001b[38;5;28mself\u001b[39m, auction_winner, price, clicked):\n\u001b[1;32m     73\u001b[0m     \u001b[38;5;28;01mif\u001b[39;00m auction_winner:\n\u001b[0;32m---> 74\u001b[0m         \u001b[38;5;28mself\u001b[39m\u001b[38;5;241m.\u001b[39muser_wins[\u001b[38;5;28mself\u001b[39m\u001b[38;5;241m.\u001b[39mcurrent_round_user_id] \u001b[38;5;241m+\u001b[39m\u001b[38;5;241m=\u001b[39m \u001b[38;5;241m1\u001b[39m\n\u001b[1;32m     75\u001b[0m         \u001b[38;5;28;01mif\u001b[39;00m clicked:\n\u001b[1;32m     76\u001b[0m             \u001b[38;5;28mself\u001b[39m\u001b[38;5;241m.\u001b[39muser_clicks[\u001b[38;5;28mself\u001b[39m\u001b[38;5;241m.\u001b[39mcurrent_round_user_id] \u001b[38;5;241m+\u001b[39m\u001b[38;5;241m=\u001b[39m \u001b[38;5;241m1\u001b[39m\n",
      "\u001b[0;31mKeyError\u001b[0m: 5"
     ]
    }
   ],
   "source": [
    "b1, b2, b3 = Bidder(1,10), Bidder(1,10), Bidder(1,10)\n",
    "auction = Auction( [User()for i in range(10)], [b1, b2, b3])\n",
    "auction.execute_round()"
   ]
  },
  {
   "cell_type": "code",
   "execution_count": null,
   "id": "360c90f9-0283-4422-8803-8aef30856aa5",
   "metadata": {},
   "outputs": [],
   "source": []
  }
 ],
 "metadata": {
  "kernelspec": {
   "display_name": "Python 3 (ipykernel)",
   "language": "python",
   "name": "python3"
  },
  "language_info": {
   "codemirror_mode": {
    "name": "ipython",
    "version": 3
   },
   "file_extension": ".py",
   "mimetype": "text/x-python",
   "name": "python",
   "nbconvert_exporter": "python",
   "pygments_lexer": "ipython3",
   "version": "3.9.12"
  }
 },
 "nbformat": 4,
 "nbformat_minor": 5
}
