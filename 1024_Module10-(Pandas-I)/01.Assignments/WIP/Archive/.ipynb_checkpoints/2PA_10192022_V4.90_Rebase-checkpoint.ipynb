{
 "cells": [
  {
   "cell_type": "markdown",
   "id": "ada87035-103d-4c1c-8f48-fd11f548480b",
   "metadata": {},
   "source": [
    "# Restarting"
   ]
  },
  {
   "cell_type": "code",
   "execution_count": 34,
   "id": "1b768ada-7452-4fe3-99ed-c4af81114e14",
   "metadata": {},
   "outputs": [],
   "source": [
    "import numpy as np\n",
    "import random\n",
    "\n",
    "class User:\n",
    "    def __init__(self):\n",
    "        self.probability2 = random.uniform(0, 1)\n",
    "\n",
    "    def show_ad(self):\n",
    "        return  np.random.choice((True, False), p = [self.probability2, 1-self.probability2])\n",
    "\n",
    "class Auction:\n",
    "    \n",
    "    auction_history = [] # for the auction exchange only\n",
    "    \n",
    "    def __init__(self, users, bidders):\n",
    "        self.users = users\n",
    "        self.bidders = bidders\n",
    "        self.balances = {bidder: 0 for bidder in bidders}\n",
    "        \n",
    "    def execute_round(self):\n",
    "        chosen_user = random.randint(0, len(self.users))\n",
    "        bids_dict = {}\n",
    "        bids_list = []\n",
    "\n",
    "        # 2. COLLECT BIDS (send to all bidders) --------------------------------------------\n",
    "        for bidder in self.bidders:\n",
    "            if self.balances[bidder] > -1000:\n",
    " \n",
    "                bids_dict[bidder] = bidder.bid(chosen_user)\n",
    "                self.auction_history.append((id(bids_dict[bidder]), bids_dict[bidder])) #bidder\n",
    "                highest_bid = 0\n",
    "                winning_price = 0\n",
    "            else:\n",
    "                raise Exception(\"Bidder's balance is less than -1000. Cannot continue bid\")\n",
    "                continue\n",
    "\n",
    "        \n",
    "        # 3. DETERMINE WINNING BID --------------------------------------------\n",
    "        for bidder, bid_value in bids_dict.items():\n",
    "            bids_list.append((id(bidder), bid_value))\n",
    "        \n",
    "        print('bids list', bids_list, '\\n','-'*100)\n",
    "        winning_price = max(bids_list, key=lambda x:x[1])[1]\n",
    "        print('winning price', winning_price, '\\n','-'*100)\n",
    "        # work the logic for the second price (sort and take index 1)\n",
    "\n",
    "        winning_bidders = [] #list only if there is a tie\n",
    "        winning_bidders.append(bidder)\n",
    "        if len(winning_bidders)>1:\n",
    "            winning_bidder = winning_bidders[random.randint(0, len(winning_bidders))]\n",
    "        else: winning_bidder = winning_bidders[0]\n",
    "        \n",
    "        # 4. SHOW AD to USER --------------------------------------------\n",
    "        ad_result = self.users[chosen_user].show_ad()\n",
    "    \n",
    "        # 5. USER CLICKS? --------------------------------------------\n",
    "        \n",
    "        for bidder in self.bidders:\n",
    "            if bidder == winning_bidder:\n",
    "                bidder.notify(True, winning_price, ad_result)\n",
    "                self.balances[bidder] -= winning_price\n",
    "                if ad_result:\n",
    "                    self.balances[bidder] += 1\n",
    "#                print('balances-inside 5', self.balances,'\\n','-'*100)\n",
    "            else:\n",
    "                bidder.notify(False, winning_price, None)\n",
    "        print('balances at end of bidding round', self.balances,'\\n','-'*100)\n",
    "\n",
    "class Bidder:\n",
    "    \n",
    "    #### maintain account balance here as well\n",
    "\n",
    "    # BIDDER CREATION -------------- initiated by GAME runner / Developer ------------------------\n",
    "    \n",
    "    def __init__(self, num_users, num_rounds):\n",
    "\n",
    "        self.num_users = num_users\n",
    "        self.num_rounds = num_rounds\n",
    "        self.bidding_round = 0\n",
    "\n",
    "        self.bid_y_n = True\n",
    "        self.bid_participate = {i: 0 for i in range(num_users)} #whether bidder bids or not (USER: BID COUNT)\n",
    "        self.bid_wins = {i: 0 for i in range(num_users)} # if bidder wins\n",
    "        #print('bid wins', self.bid_wins)\n",
    "        self.bid_win_user_clicks = {i: 0 for i in range(num_users)} # if user clicks\n",
    "        \n",
    "        self.default_bid_price = random.uniform(0, 1)\n",
    "        \n",
    "        #Transaction records\n",
    "        self.bid_participate_history = [] # maintains bidderid, userid, bidding round, bid price\n",
    "        self.bid_win_history = []\n",
    "        self.bid_win_user_click_history = []\n",
    "        \n",
    "        ############\n",
    "        #? Winning bid price / user (because you get notified of winning bids) -- \n",
    "        ###### you know the user and winning bid (just not the click result)\n",
    "        \n",
    "    # SUBMIT BID  ------------ initiated by auction ------------------------------------\n",
    "    \n",
    "    def bid(self, user_id):\n",
    "        self.bidding_round += 1\n",
    "        #self.bid_participate = 0\n",
    "        self.user_id = user_id\n",
    "        bid_price = self.default_bid_price + (self.bidding_round)*0.1\n",
    "        self.bid_participate[self.user_id] = (self.bid_participate).get(self.user_id, 0)+1\n",
    "        self.bid_participate_history.append([id(self), self.user_id, self.bidding_round, bid_price])\n",
    "        return bid_price\n",
    "    \n",
    "    def bid_strategy(self):\n",
    "        pass\n",
    "    \n",
    "    # NOTIFIED OF BID OUTCOME ------------ initiated by auction ------------------------------------\n",
    "    \n",
    "    def notify(self, auction_winner, price, clicked):\n",
    "        bid_y_n_won = 0\n",
    "        if auction_winner:\n",
    "            #self.bid_participate_history.append([self.user_id, bid_y_n_won+1])\n",
    "            self.bid_win_history.append([self.user_id, bid_y_n_won+1])\n",
    "            self.bid_wins[self.user_id] = (self.bid_wins).get(self.user_id, 0)+1\n",
    "            \n",
    "            if clicked:\n",
    "                self.bid_win_user_clicks[self.user_id] = (self.bid_win_user_clicks).get(self.user_id, 0)+1\n",
    "                self.bid_win_user_click_history.append([self.user_id, self.bidding_round])\n",
    "    \n",
    "                # print('user clicks', self.bid_win_user_clicks)\n",
    "                # print(\n",
    "                #     f\"Smart {id(self)} won round; User {self.user_id}\"\n",
    "                #     f\" clicked\"\n",
    "                # )\n",
    "        else:\n",
    "            pass\n",
    "\n",
    "class AuctionRunner:\n",
    "    \n",
    "    def __init__(self, num_bidders, num_users):\n",
    "        self.num_bidders = num_bidders\n",
    "        self.num_users = num_users\n",
    "        auction1 = Auction(2,2)\n",
    "#        self.bidders = bidders\n",
    "#        self.users = users\n",
    "        \n",
    "    def run_auction(self):\n",
    "        bid_list = [Bidder() for x in range(num_bidders)]\n",
    "        print(bid_list)\n",
    "        "
   ]
  },
  {
   "cell_type": "code",
   "execution_count": 35,
   "id": "9bd56506-8608-499c-b741-2c32809d1c54",
   "metadata": {},
   "outputs": [
    {
     "ename": "TypeError",
     "evalue": "'int' object is not iterable",
     "output_type": "error",
     "traceback": [
      "\u001b[0;31m---------------------------------------------------------------------------\u001b[0m",
      "\u001b[0;31mTypeError\u001b[0m                                 Traceback (most recent call last)",
      "Input \u001b[0;32mIn [35]\u001b[0m, in \u001b[0;36m<cell line: 1>\u001b[0;34m()\u001b[0m\n\u001b[0;32m----> 1\u001b[0m a1 \u001b[38;5;241m=\u001b[39m \u001b[43mAuctionRunner\u001b[49m\u001b[43m(\u001b[49m\u001b[38;5;241;43m2\u001b[39;49m\u001b[43m,\u001b[49m\u001b[38;5;241;43m2\u001b[39;49m\u001b[43m)\u001b[49m\n",
      "Input \u001b[0;32mIn [34]\u001b[0m, in \u001b[0;36mAuctionRunner.__init__\u001b[0;34m(self, num_bidders, num_users)\u001b[0m\n\u001b[1;32m    136\u001b[0m \u001b[38;5;28mself\u001b[39m\u001b[38;5;241m.\u001b[39mnum_bidders \u001b[38;5;241m=\u001b[39m num_bidders\n\u001b[1;32m    137\u001b[0m \u001b[38;5;28mself\u001b[39m\u001b[38;5;241m.\u001b[39mnum_users \u001b[38;5;241m=\u001b[39m num_users\n\u001b[0;32m--> 138\u001b[0m auction1 \u001b[38;5;241m=\u001b[39m \u001b[43mAuction\u001b[49m\u001b[43m(\u001b[49m\u001b[38;5;241;43m2\u001b[39;49m\u001b[43m,\u001b[49m\u001b[38;5;241;43m2\u001b[39;49m\u001b[43m)\u001b[49m\n",
      "Input \u001b[0;32mIn [34]\u001b[0m, in \u001b[0;36mAuction.__init__\u001b[0;34m(self, users, bidders)\u001b[0m\n\u001b[1;32m     16\u001b[0m \u001b[38;5;28mself\u001b[39m\u001b[38;5;241m.\u001b[39musers \u001b[38;5;241m=\u001b[39m users\n\u001b[1;32m     17\u001b[0m \u001b[38;5;28mself\u001b[39m\u001b[38;5;241m.\u001b[39mbidders \u001b[38;5;241m=\u001b[39m bidders\n\u001b[0;32m---> 18\u001b[0m \u001b[38;5;28mself\u001b[39m\u001b[38;5;241m.\u001b[39mbalances \u001b[38;5;241m=\u001b[39m {bidder: \u001b[38;5;241m0\u001b[39m \u001b[38;5;28;01mfor\u001b[39;00m bidder \u001b[38;5;129;01min\u001b[39;00m bidders}\n",
      "\u001b[0;31mTypeError\u001b[0m: 'int' object is not iterable"
     ]
    }
   ],
   "source": [
    "a1 = AuctionRunner(2,2)"
   ]
  },
  {
   "cell_type": "code",
   "execution_count": 33,
   "id": "d7caab54-6f33-4deb-a4e8-8a5d02befab9",
   "metadata": {},
   "outputs": [
    {
     "data": {
      "text/plain": [
       "<bound method AuctionRunner.run_auction of <__main__.AuctionRunner object at 0x7feff1d6d7c0>>"
      ]
     },
     "execution_count": 33,
     "metadata": {},
     "output_type": "execute_result"
    }
   ],
   "source": [
    "a1.run_auction"
   ]
  },
  {
   "cell_type": "code",
   "execution_count": 20,
   "id": "5d16e238-bc64-4647-8167-b4fd71977dd6",
   "metadata": {},
   "outputs": [
    {
     "data": {
      "text/plain": [
       "{<__main__.Bidder at 0x7fefd07368b0>: 0,\n",
       " <__main__.Bidder at 0x7fefd0736ee0>: 0,\n",
       " <__main__.Bidder at 0x7fefe10364f0>: -0.3413159170319303}"
      ]
     },
     "execution_count": 20,
     "metadata": {},
     "output_type": "execute_result"
    }
   ],
   "source": [
    "auction.balances"
   ]
  },
  {
   "cell_type": "code",
   "execution_count": 18,
   "id": "b2fa1421-6745-43a5-9c0b-5a4112f8d9dc",
   "metadata": {},
   "outputs": [
    {
     "name": "stdout",
     "output_type": "stream",
     "text": [
      "bids list [(140667971135664, 0.5682359914501095), (140667971137248, 0.10618234135005247), (140668249007344, 0.6206579585159652)] \n",
      " ----------------------------------------------------------------------------------------------------\n",
      "winning price 0.6206579585159652 \n",
      " ----------------------------------------------------------------------------------------------------\n",
      "balances at end of bidding round {<__main__.Bidder object at 0x7fefd07368b0>: 0, <__main__.Bidder object at 0x7fefd0736ee0>: 0, <__main__.Bidder object at 0x7fefe10364f0>: 0.37934204148403483} \n",
      " ----------------------------------------------------------------------------------------------------\n"
     ]
    }
   ],
   "source": [
    "b1, b2, b3 = Bidder(1,10), Bidder(1,10), Bidder(1,10)\n",
    "auction = Auction( [User()for i in range(10)], [b1, b2, b3])\n",
    "#auction = Auction( [User(), User()], [b1, b2, b3])\n",
    "\n",
    "auction.execute_round()\n",
    "# auction.execute_round()\n",
    "# auction.execute_round()\n",
    "# auction.execute_round()"
   ]
  },
  {
   "cell_type": "code",
   "execution_count": 22,
   "id": "aea13a2f-7928-4e08-8240-83c9b677fb46",
   "metadata": {},
   "outputs": [
    {
     "name": "stdout",
     "output_type": "stream",
     "text": [
      "bids list [(140667971135664, 0.8682359914501095), (140667971137248, 0.4061823413500525), (140668249007344, 0.9206579585159652)] \n",
      " ----------------------------------------------------------------------------------------------------\n",
      "winning price 0.9206579585159652 \n",
      " ----------------------------------------------------------------------------------------------------\n",
      "balances at end of bidding round {<__main__.Bidder object at 0x7fefd07368b0>: 0, <__main__.Bidder object at 0x7fefd0736ee0>: 0, <__main__.Bidder object at 0x7fefe10364f0>: -1.0826318340638608} \n",
      " ----------------------------------------------------------------------------------------------------\n"
     ]
    }
   ],
   "source": [
    "auction.execute_round()"
   ]
  },
  {
   "cell_type": "code",
   "execution_count": 4,
   "id": "585d393c-8c72-45de-be2c-e2e45016ff47",
   "metadata": {},
   "outputs": [
    {
     "data": {
      "text/plain": [
       "[[140643811720784, 1, 1, 0.44824763471069184],\n",
       " [140643811720784, 3, 2, 0.5482476347106919]]"
      ]
     },
     "execution_count": 4,
     "metadata": {},
     "output_type": "execute_result"
    }
   ],
   "source": [
    "b1.bid_participate_history #bidderid, userid, bidding round, bid price"
   ]
  },
  {
   "cell_type": "code",
   "execution_count": 5,
   "id": "eabddcd7-f415-4b05-bd1b-b627da5736e6",
   "metadata": {},
   "outputs": [
    {
     "data": {
      "text/plain": [
       "[[140643811790512, 1, 1, 0.30721862977067516],\n",
       " [140643811790512, 3, 2, 0.4072186297706752]]"
      ]
     },
     "execution_count": 5,
     "metadata": {},
     "output_type": "execute_result"
    }
   ],
   "source": [
    "b2.bid_participate_history #bidderid, userid, bidding round, bid price"
   ]
  },
  {
   "cell_type": "code",
   "execution_count": 10,
   "id": "3feb9e63-9eef-4821-9528-a3642e0382fa",
   "metadata": {},
   "outputs": [
    {
     "data": {
      "text/plain": [
       "[[140353497482768, 1, 1, 0.1449516100705042],\n",
       " [140353497482768, 9, 2, 0.2449516100705042],\n",
       " [140353497482768, 2, 3, 0.34495161007050423],\n",
       " [140353497482768, 1, 4, 0.4449516100705042],\n",
       " [140353497482768, 1, 5, 0.5449516100705042],\n",
       " [140353497482768, 3, 6, 0.6449516100705043],\n",
       " [140353497482768, 7, 7, 0.7449516100705043],\n",
       " [140353497482768, 9, 8, 0.8449516100705042],\n",
       " [140353497482768, 3, 9, 0.9449516100705042],\n",
       " [140353497482768, 1, 10, 1.044951610070504],\n",
       " [140353497482768, 0, 11, 1.1449516100705042],\n",
       " [140353497482768, 1, 12, 1.2449516100705043]]"
      ]
     },
     "execution_count": 10,
     "metadata": {},
     "output_type": "execute_result"
    }
   ],
   "source": [
    "b3.bid_participate_history #bidderid, userid, bidding round, bid price"
   ]
  },
  {
   "cell_type": "code",
   "execution_count": 7,
   "id": "a46458fe-0a5d-4a3a-a42d-92854e105f07",
   "metadata": {},
   "outputs": [
    {
     "name": "stdout",
     "output_type": "stream",
     "text": [
      "bid participation:format UserNumber:BidCount {0: 0, 1: 1, 9: 1, 2: 1} \n",
      " ----------------------------------------------------------------------------------------------------\n",
      "bid participation:format UserNumber:BidCount {0: 0, 1: 1, 9: 1, 2: 1} \n",
      " ----------------------------------------------------------------------------------------------------\n",
      "bid participation:format UserNumber:BidCount {0: 0, 1: 1, 9: 1, 2: 1} \n",
      " ----------------------------------------------------------------------------------------------------\n",
      "bids dict {<__main__.Bidder object at 0x7fa6985c4160>: 1.1383124442853267, <__main__.Bidder object at 0x7fa6985c4430>: 0.3949191878881566, <__main__.Bidder object at 0x7fa6985c4610>: 0.34495161007050423} \n",
      " ----------------------------------------------------------------------------------------------------\n",
      "balances at end of bidding round {<__main__.Bidder object at 0x7fa6985c4160>: 0, <__main__.Bidder object at 0x7fa6985c4430>: 0, <__main__.Bidder object at 0x7fa6985c4610>: -421060492444702} \n",
      " ----------------------------------------------------------------------------------------------------\n",
      "bid participation:format UserNumber:BidCount {0: 0, 1: 2, 9: 1, 2: 1} \n",
      " ----------------------------------------------------------------------------------------------------\n",
      "bid participation:format UserNumber:BidCount {0: 0, 1: 2, 9: 1, 2: 1} \n",
      " ----------------------------------------------------------------------------------------------------\n",
      "bid participation:format UserNumber:BidCount {0: 0, 1: 2, 9: 1, 2: 1} \n",
      " ----------------------------------------------------------------------------------------------------\n",
      "bids dict {<__main__.Bidder object at 0x7fa6985c4160>: 1.2383124442853266, <__main__.Bidder object at 0x7fa6985c4430>: 0.4949191878881566, <__main__.Bidder object at 0x7fa6985c4610>: 0.4449516100705042} \n",
      " ----------------------------------------------------------------------------------------------------\n",
      "balances at end of bidding round {<__main__.Bidder object at 0x7fa6985c4160>: 0, <__main__.Bidder object at 0x7fa6985c4430>: 0, <__main__.Bidder object at 0x7fa6985c4610>: -561413989926270} \n",
      " ----------------------------------------------------------------------------------------------------\n",
      "bid participation:format UserNumber:BidCount {0: 0, 1: 3, 9: 1, 2: 1} \n",
      " ----------------------------------------------------------------------------------------------------\n",
      "bid participation:format UserNumber:BidCount {0: 0, 1: 3, 9: 1, 2: 1} \n",
      " ----------------------------------------------------------------------------------------------------\n",
      "bid participation:format UserNumber:BidCount {0: 0, 1: 3, 9: 1, 2: 1} \n",
      " ----------------------------------------------------------------------------------------------------\n",
      "bids dict {<__main__.Bidder object at 0x7fa6985c4160>: 1.3383124442853265, <__main__.Bidder object at 0x7fa6985c4430>: 0.5949191878881566, <__main__.Bidder object at 0x7fa6985c4610>: 0.5449516100705042} \n",
      " ----------------------------------------------------------------------------------------------------\n",
      "balances at end of bidding round {<__main__.Bidder object at 0x7fa6985c4160>: 0, <__main__.Bidder object at 0x7fa6985c4430>: 0, <__main__.Bidder object at 0x7fa6985c4610>: -701767487407837} \n",
      " ----------------------------------------------------------------------------------------------------\n",
      "bid participation:format UserNumber:BidCount {0: 0, 1: 3, 9: 1, 2: 1, 3: 1} \n",
      " ----------------------------------------------------------------------------------------------------\n",
      "bid participation:format UserNumber:BidCount {0: 0, 1: 3, 9: 1, 2: 1, 3: 1} \n",
      " ----------------------------------------------------------------------------------------------------\n",
      "bid participation:format UserNumber:BidCount {0: 0, 1: 3, 9: 1, 2: 1, 3: 1} \n",
      " ----------------------------------------------------------------------------------------------------\n",
      "bids dict {<__main__.Bidder object at 0x7fa6985c4160>: 1.4383124442853266, <__main__.Bidder object at 0x7fa6985c4430>: 0.6949191878881567, <__main__.Bidder object at 0x7fa6985c4610>: 0.6449516100705043} \n",
      " ----------------------------------------------------------------------------------------------------\n",
      "balances at end of bidding round {<__main__.Bidder object at 0x7fa6985c4160>: 0, <__main__.Bidder object at 0x7fa6985c4430>: 0, <__main__.Bidder object at 0x7fa6985c4610>: -842120984889404} \n",
      " ----------------------------------------------------------------------------------------------------\n",
      "bid participation:format UserNumber:BidCount {0: 0, 1: 3, 9: 1, 2: 1, 3: 1, 7: 1} \n",
      " ----------------------------------------------------------------------------------------------------\n",
      "bid participation:format UserNumber:BidCount {0: 0, 1: 3, 9: 1, 2: 1, 3: 1, 7: 1} \n",
      " ----------------------------------------------------------------------------------------------------\n",
      "bid participation:format UserNumber:BidCount {0: 0, 1: 3, 9: 1, 2: 1, 3: 1, 7: 1} \n",
      " ----------------------------------------------------------------------------------------------------\n",
      "bids dict {<__main__.Bidder object at 0x7fa6985c4160>: 1.5383124442853267, <__main__.Bidder object at 0x7fa6985c4430>: 0.7949191878881566, <__main__.Bidder object at 0x7fa6985c4610>: 0.7449516100705043} \n",
      " ----------------------------------------------------------------------------------------------------\n",
      "balances at end of bidding round {<__main__.Bidder object at 0x7fa6985c4160>: 0, <__main__.Bidder object at 0x7fa6985c4430>: 0, <__main__.Bidder object at 0x7fa6985c4610>: -982474482370971} \n",
      " ----------------------------------------------------------------------------------------------------\n",
      "bid participation:format UserNumber:BidCount {0: 0, 1: 3, 9: 2, 2: 1, 3: 1, 7: 1} \n",
      " ----------------------------------------------------------------------------------------------------\n",
      "bid participation:format UserNumber:BidCount {0: 0, 1: 3, 9: 2, 2: 1, 3: 1, 7: 1} \n",
      " ----------------------------------------------------------------------------------------------------\n",
      "bid participation:format UserNumber:BidCount {0: 0, 1: 3, 9: 2, 2: 1, 3: 1, 7: 1} \n",
      " ----------------------------------------------------------------------------------------------------\n",
      "bids dict {<__main__.Bidder object at 0x7fa6985c4160>: 1.6383124442853267, <__main__.Bidder object at 0x7fa6985c4430>: 0.8949191878881566, <__main__.Bidder object at 0x7fa6985c4610>: 0.8449516100705042} \n",
      " ----------------------------------------------------------------------------------------------------\n",
      "balances at end of bidding round {<__main__.Bidder object at 0x7fa6985c4160>: 0, <__main__.Bidder object at 0x7fa6985c4430>: 0, <__main__.Bidder object at 0x7fa6985c4610>: -1122827979852539} \n",
      " ----------------------------------------------------------------------------------------------------\n",
      "bid participation:format UserNumber:BidCount {0: 0, 1: 3, 9: 2, 2: 1, 3: 2, 7: 1} \n",
      " ----------------------------------------------------------------------------------------------------\n",
      "bid participation:format UserNumber:BidCount {0: 0, 1: 3, 9: 2, 2: 1, 3: 2, 7: 1} \n",
      " ----------------------------------------------------------------------------------------------------\n",
      "bid participation:format UserNumber:BidCount {0: 0, 1: 3, 9: 2, 2: 1, 3: 2, 7: 1} \n",
      " ----------------------------------------------------------------------------------------------------\n",
      "bids dict {<__main__.Bidder object at 0x7fa6985c4160>: 1.7383124442853266, <__main__.Bidder object at 0x7fa6985c4430>: 0.9949191878881566, <__main__.Bidder object at 0x7fa6985c4610>: 0.9449516100705042} \n",
      " ----------------------------------------------------------------------------------------------------\n",
      "balances at end of bidding round {<__main__.Bidder object at 0x7fa6985c4160>: 0, <__main__.Bidder object at 0x7fa6985c4430>: 0, <__main__.Bidder object at 0x7fa6985c4610>: -1263181477334106} \n",
      " ----------------------------------------------------------------------------------------------------\n",
      "bid participation:format UserNumber:BidCount {0: 0, 1: 4, 9: 2, 2: 1, 3: 2, 7: 1} \n",
      " ----------------------------------------------------------------------------------------------------\n",
      "bid participation:format UserNumber:BidCount {0: 0, 1: 4, 9: 2, 2: 1, 3: 2, 7: 1} \n",
      " ----------------------------------------------------------------------------------------------------\n",
      "bid participation:format UserNumber:BidCount {0: 0, 1: 4, 9: 2, 2: 1, 3: 2, 7: 1} \n",
      " ----------------------------------------------------------------------------------------------------\n",
      "bids dict {<__main__.Bidder object at 0x7fa6985c4160>: 1.8383124442853265, <__main__.Bidder object at 0x7fa6985c4430>: 1.0949191878881566, <__main__.Bidder object at 0x7fa6985c4610>: 1.044951610070504} \n",
      " ----------------------------------------------------------------------------------------------------\n",
      "balances at end of bidding round {<__main__.Bidder object at 0x7fa6985c4160>: 0, <__main__.Bidder object at 0x7fa6985c4430>: 0, <__main__.Bidder object at 0x7fa6985c4610>: -1403534974815673} \n",
      " ----------------------------------------------------------------------------------------------------\n",
      "bid participation:format UserNumber:BidCount {0: 1, 1: 4, 9: 2, 2: 1, 3: 2, 7: 1} \n",
      " ----------------------------------------------------------------------------------------------------\n",
      "bid participation:format UserNumber:BidCount {0: 1, 1: 4, 9: 2, 2: 1, 3: 2, 7: 1} \n",
      " ----------------------------------------------------------------------------------------------------\n",
      "bid participation:format UserNumber:BidCount {0: 1, 1: 4, 9: 2, 2: 1, 3: 2, 7: 1} \n",
      " ----------------------------------------------------------------------------------------------------\n",
      "bids dict {<__main__.Bidder object at 0x7fa6985c4160>: 1.9383124442853266, <__main__.Bidder object at 0x7fa6985c4430>: 1.1949191878881567, <__main__.Bidder object at 0x7fa6985c4610>: 1.1449516100705042} \n",
      " ----------------------------------------------------------------------------------------------------\n",
      "balances at end of bidding round {<__main__.Bidder object at 0x7fa6985c4160>: 0, <__main__.Bidder object at 0x7fa6985c4430>: 0, <__main__.Bidder object at 0x7fa6985c4610>: -1543888472297241} \n",
      " ----------------------------------------------------------------------------------------------------\n",
      "bid participation:format UserNumber:BidCount {0: 1, 1: 5, 9: 2, 2: 1, 3: 2, 7: 1} \n",
      " ----------------------------------------------------------------------------------------------------\n",
      "bid participation:format UserNumber:BidCount {0: 1, 1: 5, 9: 2, 2: 1, 3: 2, 7: 1} \n",
      " ----------------------------------------------------------------------------------------------------\n",
      "bid participation:format UserNumber:BidCount {0: 1, 1: 5, 9: 2, 2: 1, 3: 2, 7: 1} \n",
      " ----------------------------------------------------------------------------------------------------\n",
      "bids dict {<__main__.Bidder object at 0x7fa6985c4160>: 2.0383124442853267, <__main__.Bidder object at 0x7fa6985c4430>: 1.2949191878881567, <__main__.Bidder object at 0x7fa6985c4610>: 1.2449516100705043} \n",
      " ----------------------------------------------------------------------------------------------------\n",
      "balances at end of bidding round {<__main__.Bidder object at 0x7fa6985c4160>: 0, <__main__.Bidder object at 0x7fa6985c4430>: 0, <__main__.Bidder object at 0x7fa6985c4610>: -1684241969778809} \n",
      " ----------------------------------------------------------------------------------------------------\n"
     ]
    },
    {
     "data": {
      "text/plain": [
       "[None, None, None, None, None, None, None, None, None, None]"
      ]
     },
     "execution_count": 7,
     "metadata": {},
     "output_type": "execute_result"
    }
   ],
   "source": [
    "[auction.execute_round() for i in range(10)]"
   ]
  },
  {
   "cell_type": "code",
   "execution_count": 25,
   "id": "27546553-6123-4a24-98b8-52d9644b1b2e",
   "metadata": {},
   "outputs": [
    {
     "name": "stdout",
     "output_type": "stream",
     "text": [
      "list of users & probabilities \n",
      " ---------------------------------------------------------------------------------------------------- \n",
      " [(140302639963536, 0.7641433416698504)] \n",
      " ---------------------------------------------------------------------------------------------------- \n",
      "\n",
      "list of bidders \n",
      " ---------------------------------------------------------------------------------------------------- \n",
      " [140303301064256, 140303301064112, 140303301065216] \n",
      " ---------------------------------------------------------------------------------------------------- \n",
      "\n"
     ]
    }
   ],
   "source": [
    "b1, b2, b3 = Bidder(1,10), Bidder(1,10), Bidder(1,10)\n",
    "auction = Auction( [User()], [b1, b2, b3])\n",
    "auction.execute_round()"
   ]
  },
  {
   "cell_type": "code",
   "execution_count": 17,
   "id": "29188f71-f110-4534-915b-ee2e5bdaea24",
   "metadata": {},
   "outputs": [
    {
     "name": "stdout",
     "output_type": "stream",
     "text": [
      "b1 bid is:  0.47439361656240703\n",
      "b2 bid is:  1.1173164691903281\n",
      "b3 bid is:  0.6718480228307875\n"
     ]
    }
   ],
   "source": [
    "print('b1 bid is: ', b1.bid(0x7fb6581c8ca0))\n",
    "print('b2 bid is: ', b2.bid(0x7fb6581c8ca0))\n",
    "print('b3 bid is: ', b3.bid(0x7fb6581c8ca0))"
   ]
  },
  {
   "cell_type": "code",
   "execution_count": 35,
   "id": "a9adf072-7da3-4bd3-9dfc-c9a17b4c90df",
   "metadata": {},
   "outputs": [
    {
     "data": {
      "text/plain": [
       "140224663290976"
      ]
     },
     "execution_count": 35,
     "metadata": {},
     "output_type": "execute_result"
    }
   ],
   "source": [
    "u1 = User()\n",
    "id(u1)"
   ]
  },
  {
   "cell_type": "code",
   "execution_count": 36,
   "id": "27429fac-a583-4489-a803-96af4e497ce4",
   "metadata": {},
   "outputs": [
    {
     "data": {
      "text/plain": [
       "{0: 0, 1: 0, 2: 0, 3: 0, 4: 0, 5: 0, 6: 0, 7: 0, 8: 0, 9: 0}"
      ]
     },
     "execution_count": 36,
     "metadata": {},
     "output_type": "execute_result"
    }
   ],
   "source": [
    "user_wins = {i: 0 for i in range(10)}\n",
    "user_wins"
   ]
  },
  {
   "cell_type": "code",
   "execution_count": null,
   "id": "f2f97964-d130-4682-ad84-531c586c15b7",
   "metadata": {},
   "outputs": [],
   "source": []
  }
 ],
 "metadata": {
  "kernelspec": {
   "display_name": "Python 3 (ipykernel)",
   "language": "python",
   "name": "python3"
  },
  "language_info": {
   "codemirror_mode": {
    "name": "ipython",
    "version": 3
   },
   "file_extension": ".py",
   "mimetype": "text/x-python",
   "name": "python",
   "nbconvert_exporter": "python",
   "pygments_lexer": "ipython3",
   "version": "3.9.12"
  }
 },
 "nbformat": 4,
 "nbformat_minor": 5
}
