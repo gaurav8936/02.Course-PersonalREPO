{
 "cells": [
  {
   "cell_type": "markdown",
   "id": "270b2063-1993-4d87-9e5d-39ef051e4cc6",
   "metadata": {},
   "source": [
    "# 2PA - Rewrite"
   ]
  },
  {
   "cell_type": "markdown",
   "id": "08caf9d7-00f6-4ed9-8045-b3465eea7759",
   "metadata": {},
   "source": [
    "## Decided to redo rather than correct"
   ]
  },
  {
   "attachments": {
    "58973aa1-9b19-4093-b09d-81bd58807a90.png": {
     "image/png": "[encoded data removed]"
    }
   },
   "cell_type": "markdown",
   "id": "b1fa7c73-68b5-4888-901b-898b252495aa",
   "metadata": {},
   "source": [
    "![image.png](attachment:58973aa1-9b19-4093-b09d-81bd58807a90.png)"
   ]
  },
  {
   "cell_type": "code",
   "execution_count": 53,
   "id": "24595836-7f43-45a2-b763-86019c18119c",
   "metadata": {},
   "outputs": [],
   "source": [
    "import numpy as np\n",
    "import matplotlib.pyplot as plt\n",
    "import random\n",
    "\n",
    "class User:\n",
    "    \n",
    "    def __init__(self):\n",
    "        self.__probability = np.random.uniform()\n",
    "#        self.user_id = random.sample(range(100), 1)\n",
    "\n",
    "    def show_ad(self):\n",
    "        result = np.random.choice((True, False), p = [self.__probability, 1-self.__probability])\n",
    "        return result\n",
    "\n",
    "class Auction:\n",
    "    \n",
    "    def __init__(self, users, bidders):\n",
    "        self.users = users\n",
    "        self.user_list = []\n",
    "        for i in range(len(users)):\n",
    "            self.user_num = 'User ' + str(i)\n",
    "            self.user_list.append(self.user_num)\n",
    "        self.bidders = bidders\n",
    "        self.num_bidders = len(bidders)\n",
    "        self.bidders_list = []\n",
    "        self.bidders_list2 = []\n",
    "        for i in range(len(bidders)):\n",
    "            self.bidder_num = 'Bidder ' + str(i)\n",
    "            self.bidders_list.append(self.bidder_num)\n",
    "#            self.bidders_list2.append(self.bidder_num, self.bidder)\n",
    "        for self.bidder in bidders:\n",
    "            self.bidder_num = random.randint(1, 100000)\n",
    "            self.bidders_list2.append([self.bidder_num, self.bidder])\n",
    "        \n",
    "        self.bid_results_round = []\n",
    "        \n",
    "\n",
    "    def execute_round(self):\n",
    "        print('list of bidders', self.bidders_list)\n",
    "        #print('list of users', self.user_list)\n",
    "        \n",
    "        chosen_user = random.randint(0, len(self.users))\n",
    "        #print('chosen_user', chosen_user, self.user_num)\n",
    "        for bidder in self.bidders:\n",
    "#            print('bidder inside', bidder, self.bidder_num)\n",
    "            bid_y_n = bidder.bid(chosen_user)\n",
    "            self.bid_results_round.append([self.bidder_num, bid_y_n]) #bidder, \n",
    "            #print(bid_y_n)\n",
    "        \n",
    "        \n",
    "        print(self.bid_results_round)   \n",
    "\n",
    "    \n",
    "    def plot_history(self):\n",
    "        pass\n",
    "\n",
    "class Bidder:\n",
    "    \n",
    "    def __init__(self, num_users, num_rounds):\n",
    "        self.num_users = num_users\n",
    "        self.num_rounds = num_rounds\n",
    "        self.bid_round = 0\n",
    "        self.bidder_id = random.sample(range(100), 1)\n",
    "    \n",
    "    def bid(self, user_id):\n",
    "        return np.random.choice((True, False), p = [.5, .5])\n",
    "    \n",
    "    def notify(self, auction_winner, price, clicked):\n",
    "        pass\n",
    "        \n",
    "        "
   ]
  },
  {
   "cell_type": "code",
   "execution_count": 54,
   "id": "a99c2654-1802-4d6f-a1ef-5578102b4a4f",
   "metadata": {},
   "outputs": [],
   "source": [
    "b1, b2, b3 = Bidder(1,10), Bidder(1,10), Bidder(1,10)\n",
    "auction = Auction([User() for i in range(1)], [b1, b2, b3])"
   ]
  },
  {
   "cell_type": "code",
   "execution_count": 62,
   "id": "d3555bed-8798-4573-a7ef-fbb9acc77575",
   "metadata": {},
   "outputs": [
    {
     "name": "stdout",
     "output_type": "stream",
     "text": [
      "list of bidders ['Bidder 0', 'Bidder 1', 'Bidder 2']\n",
      "[[3156, False], [3156, False], [3156, False], [3156, False], [3156, False], [3156, False], [3156, False], [3156, False], [3156, False], [3156, False], [3156, True], [3156, True], [3156, False], [3156, False], [3156, False], [3156, False], [3156, False], [3156, True], [3156, False], [3156, True], [3156, True], [3156, True], [3156, True], [3156, True]]\n"
     ]
    }
   ],
   "source": [
    "auction.execute_round()"
   ]
  },
  {
   "cell_type": "code",
   "execution_count": 52,
   "id": "53a790bd-6841-4abd-adc5-86df01b04790",
   "metadata": {},
   "outputs": [
    {
     "data": {
      "text/plain": [
       "[[18234, <__main__.Bidder at 0x7fd39952bd00>],\n",
       " [4563, <__main__.Bidder at 0x7fd399559c10>],\n",
       " [6576, <__main__.Bidder at 0x7fd399559220>]]"
      ]
     },
     "execution_count": 52,
     "metadata": {},
     "output_type": "execute_result"
    }
   ],
   "source": [
    "auction.bidders_list2"
   ]
  },
  {
   "cell_type": "code",
   "execution_count": null,
   "id": "d995a398-9378-4b13-93d5-146d6aa1a604",
   "metadata": {},
   "outputs": [],
   "source": []
  }
 ],
 "metadata": {
  "kernelspec": {
   "display_name": "Python 3 (ipykernel)",
   "language": "python",
   "name": "python3"
  },
  "language_info": {
   "codemirror_mode": {
    "name": "ipython",
    "version": 3
   },
   "file_extension": ".py",
   "mimetype": "text/x-python",
   "name": "python",
   "nbconvert_exporter": "python",
   "pygments_lexer": "ipython3",
   "version": "3.9.12"
  }
 },
 "nbformat": 4,
 "nbformat_minor": 5
}
