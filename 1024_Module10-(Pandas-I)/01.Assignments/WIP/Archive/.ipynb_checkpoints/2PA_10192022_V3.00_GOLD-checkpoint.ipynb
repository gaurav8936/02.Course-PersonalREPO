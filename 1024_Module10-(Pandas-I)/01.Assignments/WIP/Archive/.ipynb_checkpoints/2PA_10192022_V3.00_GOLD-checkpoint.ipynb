{
 "cells": [
  {
   "cell_type": "markdown",
   "id": "ada87035-103d-4c1c-8f48-fd11f548480b",
   "metadata": {},
   "source": [
    "# Restarting"
   ]
  },
  {
   "cell_type": "code",
   "execution_count": 101,
   "id": "1b768ada-7452-4fe3-99ed-c4af81114e14",
   "metadata": {},
   "outputs": [],
   "source": [
    "import numpy as np\n",
    "import matplotlib.pyplot as plt\n",
    "import random\n",
    "from numpy import random\n",
    "from numpy.random import randint\n",
    "\n",
    "\n",
    "class User:\n",
    "    def __init__(self):\n",
    "        self.__probability = random.uniform(0, 1)\n",
    "\n",
    "    def show_ad(self):\n",
    "        return  np.random.choice((True, False), p = [self.__probability, 1-self.__probability])\n",
    "\n",
    "class Auction:\n",
    "    \n",
    "    auction_history = [] # for the auction exchange only\n",
    "    \n",
    "    def __init__(self, users, bidders):\n",
    "        self.users = users\n",
    "        self.bidders = bidders\n",
    "        self.balances = {bidder: 0 for bidder in bidders}\n",
    "\n",
    "    def execute_round(self):\n",
    "        random_user = randint(0, len(self.users))\n",
    "        bids = {}\n",
    "        bids2 = []\n",
    "\n",
    "        # 1. COLLECT BIDS (send to all bidders) --------------------------------------------\n",
    "        for bidder in self.bidders:\n",
    "            #bidder_id = id(bidder)\n",
    "            bids[bidder] = bidder.bid(random_user)\n",
    "            \n",
    "            #self.auction_history.append((bidder_id, bids[bidder]))\n",
    "            self.auction_history.append((id(bidder), bids[bidder]))\n",
    "\n",
    "        highest_bid = 0\n",
    "        winning_price = 0\n",
    "        #self.auction_history.append(bids)\n",
    "#        print(self.auction_history)\n",
    "        \n",
    "        # 2. DETERMINE WINNING BID --------------------------------------------\n",
    "        for bidder, bid_value in bids.items():\n",
    "#            winning_price = bid_value\n",
    "            #winning_price = max(bid_value)\n",
    "#            bids2.append([bidder_id, bid_value])\n",
    "            bids2.append((id(bidder), bid_value))\n",
    "        print(bids2)\n",
    "#        print(bids)\n",
    "        winning_price = max(bids2, key=lambda x:x[1])[0]\n",
    "        print(winning_price)\n",
    "\n",
    "        winning_bidders = [] #list only if there is a tie\n",
    "        #winning_bidders.append(bidder_id)\n",
    "        winning_bidders.append(bidder)\n",
    "#        print(winning_bidders)\n",
    "        winning_bidder = winning_bidders[0]\n",
    "        #winning_bidder = winning_bidders[winning_bidder_index]\n",
    "        #print(bids)\n",
    "        \n",
    "        # 3. SHOW AD to USER --------------------------------------------\n",
    "        ad_result = self.users[random_user].show_ad()\n",
    "    \n",
    "        # 4. USER CLICKS? --------------------------------------------\n",
    "        for bidder in self.bidders:\n",
    "            if bidder == winning_bidder:\n",
    "                bidder.notify(True, winning_price, ad_result)\n",
    "                self.balances[bidder] -= winning_price\n",
    "                if ad_result:\n",
    "                    self.balances[bidder] += 1\n",
    "            else:\n",
    "                bidder.notify(False, winning_price, None)\n",
    "        #print(bids)\n",
    "\n",
    "class Bidder:\n",
    "    \n",
    "\n",
    "    \n",
    "    def __init__(self, num_users, num_rounds):\n",
    "\n",
    "        self.num_users = num_users\n",
    "        self.num_rounds = num_rounds\n",
    "        self.bidding_round = 0\n",
    "        # self.user_wins = {i: 0 for i in range(num_users)}\n",
    "        # self.user_clicks = {i: 0 for i in range(num_users)}\n",
    "        \n",
    "        self.bid_participate = {i: 0 for i in range(num_users)}\n",
    "        self.bid_wins = {i: 0 for i in range(num_users)}\n",
    "        self.bid_win_user_clicks = {i: 0 for i in range(num_users)}\n",
    "        \n",
    "        self.default_bid_price = random.uniform(0, 1)#0.5\n",
    "        self.bid_y_n_history = []\n",
    "        self.bid_y_n_summary = []\n",
    "        \n",
    "        \n",
    "\n",
    "    def bid(self, user_id):\n",
    "\n",
    "        self.bidding_round += 1\n",
    "        self.user_id = user_id\n",
    "        bid_price = self.default_bid_price + (self.bidding_round)*0.1\n",
    "        self.bid_participate[self.user_id] +=1\n",
    "        #print(self.bid_participate)\n",
    "        return bid_price\n",
    "        \n",
    "    def notify(self, auction_winner, price, clicked):\n",
    "\n",
    "        if auction_winner:\n",
    "            self.bid_wins[self.user_id] += 1\n",
    "            if clicked:\n",
    "                self.bid_win_user_clicks[self.user_id] += 1\n",
    "                # print(\n",
    "                #     f\"Smart {id(self)} won round; User {self.user_id}\"\n",
    "                #     f\" clicked\"\n",
    "                # )\n",
    "            else:\n",
    "                pass\n",
    "#        print(self.bid_win_user_clicks)\n",
    "#        print(self.bid_wins)"
   ]
  },
  {
   "cell_type": "code",
   "execution_count": 112,
   "id": "27546553-6123-4a24-98b8-52d9644b1b2e",
   "metadata": {},
   "outputs": [
    {
     "name": "stdout",
     "output_type": "stream",
     "text": [
      "[(140288147118400, 0.8725457659997399), (140288141517296, 1.0424713677424355), (140288141518592, 0.3701844538186079)]\n",
      "140288141517296\n"
     ]
    }
   ],
   "source": [
    "b1, b2, b3 = Bidder(1,10), Bidder(1,10), Bidder(1,10)\n",
    "auction = Auction( [User()], [b1, b2, b3])\n",
    "auction.execute_round()"
   ]
  },
  {
   "cell_type": "code",
   "execution_count": 116,
   "id": "aea13a2f-7928-4e08-8240-83c9b677fb46",
   "metadata": {},
   "outputs": [
    {
     "name": "stdout",
     "output_type": "stream",
     "text": [
      "[(140288147118400, 1.27254576599974), (140288141517296, 1.4424713677424355), (140288141518592, 0.7701844538186079)]\n",
      "140288141517296\n"
     ]
    }
   ],
   "source": [
    "auction.execute_round()"
   ]
  },
  {
   "cell_type": "code",
   "execution_count": null,
   "id": "da9e0bc6-beb1-44af-a356-a66946f813bd",
   "metadata": {},
   "outputs": [],
   "source": []
  },
  {
   "cell_type": "code",
   "execution_count": null,
   "id": "b2fa1421-6745-43a5-9c0b-5a4112f8d9dc",
   "metadata": {},
   "outputs": [],
   "source": []
  },
  {
   "cell_type": "code",
   "execution_count": 17,
   "id": "6745a1f1-a152-49af-8153-c58c7aa72076",
   "metadata": {},
   "outputs": [
    {
     "name": "stdout",
     "output_type": "stream",
     "text": [
      "Smart 140692669842864 won round; User 0 clicked\n"
     ]
    }
   ],
   "source": [
    "b1 = Bidder(1,10)\n",
    "auction = Auction( [User()], [b1])\n",
    "auction.execute_round()"
   ]
  },
  {
   "cell_type": "code",
   "execution_count": 47,
   "id": "c2f2e265-9421-4424-a942-34d541016dc8",
   "metadata": {},
   "outputs": [
    {
     "data": {
      "text/plain": [
       "840"
      ]
     },
     "execution_count": 47,
     "metadata": {},
     "output_type": "execute_result"
    }
   ],
   "source": [
    "lis=[(840, 32), (841, 3), (842, 4), (843, 4), (844, 6), (845, 6), (846, 12), (847, 6), (848, 10), (849, 4)]\n",
    "\n",
    "max(lis, key=lambda x:x[1])[0]"
   ]
  },
  {
   "cell_type": "code",
   "execution_count": null,
   "id": "01503607-335d-4878-a405-077becffa081",
   "metadata": {},
   "outputs": [],
   "source": []
  }
 ],
 "metadata": {
  "kernelspec": {
   "display_name": "Python 3 (ipykernel)",
   "language": "python",
   "name": "python3"
  },
  "language_info": {
   "codemirror_mode": {
    "name": "ipython",
    "version": 3
   },
   "file_extension": ".py",
   "mimetype": "text/x-python",
   "name": "python",
   "nbconvert_exporter": "python",
   "pygments_lexer": "ipython3",
   "version": "3.9.12"
  }
 },
 "nbformat": 4,
 "nbformat_minor": 5
}
