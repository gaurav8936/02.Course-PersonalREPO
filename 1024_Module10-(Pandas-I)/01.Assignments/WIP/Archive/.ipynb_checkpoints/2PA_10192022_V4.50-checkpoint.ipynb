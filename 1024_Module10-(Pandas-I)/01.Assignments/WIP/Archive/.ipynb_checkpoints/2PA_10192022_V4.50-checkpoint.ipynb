{
 "cells": [
  {
   "cell_type": "markdown",
   "id": "ada87035-103d-4c1c-8f48-fd11f548480b",
   "metadata": {},
   "source": [
    "# Restarting"
   ]
  },
  {
   "cell_type": "code",
   "execution_count": 22,
   "id": "1b768ada-7452-4fe3-99ed-c4af81114e14",
   "metadata": {},
   "outputs": [],
   "source": [
    "import numpy as np\n",
    "import matplotlib.pyplot as plt\n",
    "import random\n",
    "from numpy import random\n",
    "from numpy.random import randint\n",
    "\n",
    "\n",
    "class User:\n",
    "    def __init__(self):\n",
    "        # self.__probability = random.uniform(0, 1)\n",
    "        self.probability2 = random.uniform(0, 1)\n",
    "\n",
    "    def show_ad(self):\n",
    "        # return  np.random.choice((True, False), p = [self.__probability, 1-self.__probability])\n",
    "        return  np.random.choice((True, False), p = [self.probability2, 1-self.probability2])\n",
    "\n",
    "class Auction:\n",
    "    \n",
    "    auction_history = [] # for the auction exchange only\n",
    "    \n",
    "    def __init__(self, users, bidders):\n",
    "        self.users = users\n",
    "        self.bidders = bidders\n",
    "        self.balances = {bidder: 0 for bidder in bidders}\n",
    "        \n",
    "    def execute_round(self):\n",
    "        chosen_user = randint(0, len(self.users))\n",
    "        bids_dict = {}\n",
    "        bids_list = []\n",
    "\n",
    "        # 2. COLLECT BIDS (send to all bidders) --------------------------------------------\n",
    "        for bidder in self.bidders:\n",
    "            # print('inside 2 Collect bids - bidder', bidder, id(bidder),'\\n','-'*100, '\\n')\n",
    "            bids_dict[bidder] = bidder.bid(chosen_user)\n",
    "            self.auction_history.append((id(bids_dict[bidder]), bids_dict[bidder])) #bidder\n",
    "        print('bids dict', bids_dict, '\\n','-'*100)\n",
    "#         print('bids list', bids_list, '\\n','-'*100)\n",
    "\n",
    "#         print('auction history', '\\n','-'*100, '\\n', self.auction_history, '\\n','-'*100)\n",
    "#         print('bidders in 2 collect bids', id(bidder), bidder, '\\n','-'*100)\n",
    "        highest_bid = 0\n",
    "        winning_price = 0\n",
    "        \n",
    "        # 3. DETERMINE WINNING BID --------------------------------------------\n",
    "        for bidder, bid_value in bids_dict.items():\n",
    "            bids_list.append((id(bidder), bid_value))\n",
    "#        print('bids dict at 3', bids_dict,'\\n','-'*100)\n",
    "        \n",
    "        if not bids_list:\n",
    "            winning_price = 0\n",
    "            \n",
    "        else:\n",
    "            winning_price = max(bids_list, key=lambda x:x[1])[0]\n",
    "            winning_bidders = [] #list only if there is a tie\n",
    "            winning_bidders.append(bidder)\n",
    "    #        print('winning bidders', winning_bidders, '\\n','-'*100)\n",
    "    #        print('winning bidder', id([winning_bidders]),'\\n','-'*100)\n",
    "            if len(winning_bidders)>1:\n",
    "                winning_bidder = winning_bidders[random.randint(0, len(winning_bidders))]\n",
    "            else: winning_bidder = winning_bidders[0]\n",
    "    #        print('winning bidder', winning_bidders,'\\n','-'*100)\n",
    "        \n",
    "        # 4. SHOW AD to USER --------------------------------------------\n",
    "        ad_result = self.users[chosen_user].show_ad()\n",
    "    \n",
    "        # 5. USER CLICKS? --------------------------------------------\n",
    "        for bidder in self.bidders:\n",
    "            if bidder == winning_bidder:\n",
    "                bidder.notify(True, winning_price, ad_result)\n",
    "                self.balances[bidder] -= winning_price\n",
    "                if ad_result:\n",
    "                    self.balances[bidder] += 1\n",
    "#                print('balances-inside 5', self.balances,'\\n','-'*100)\n",
    "            else:\n",
    "                bidder.notify(False, winning_price, None)\n",
    "        print('balances at end of bidding round', self.balances,'\\n','-'*100)\n",
    "        #print(bids_dict)\n",
    "\n",
    "class Bidder:\n",
    "    \n",
    "\n",
    "    # BIDDER CREATION -------------- initiated by GAME runner / Developer ------------------------\n",
    "    \n",
    "    def __init__(self, num_users, num_rounds):\n",
    "\n",
    "        self.num_users = num_users\n",
    "        self.num_rounds = num_rounds\n",
    "        self.bidding_round = 0\n",
    "\n",
    "        self.bid_y_n = True\n",
    "        self.bid_participate = {i: 0 for i in range(num_users)} #whether bidder bids or not (USER: BID COUNT)\n",
    "        self.bid_wins = {i: 0 for i in range(num_users)} # if bidder wins\n",
    "        #print('bid wins', self.bid_wins)\n",
    "        self.bid_win_user_clicks = {i: 0 for i in range(num_users)} # if user clicks\n",
    "        \n",
    "        self.default_bid_price = random.uniform(0, 1)\n",
    "#        print('default bid price', self.default_bid_price,'\\n','-'*100)\n",
    "        \n",
    "        #Transaction records\n",
    "        self.bid_participate_history = [] # maintains bidderid, userid, bidding round, bid price\n",
    "        self.bid_win_history = []\n",
    "        self.bid_win_user_click_history = []\n",
    "        \n",
    "        \n",
    "    # SUBMIT BID  ------------ initiated by auction ------------------------------------\n",
    "    \n",
    "    def bid(self, user_id):\n",
    "        if  self.bid_y_n:\n",
    "            self.bidding_round += 1\n",
    "            #self.bid_participate = 0\n",
    "            self.user_id = user_id\n",
    "            bid_price = self.default_bid_price + (self.bidding_round)*0.1\n",
    "    #        print('final bid price', bid_price,'\\n','-'*100)\n",
    "            self.bid_participate[self.user_id] = (self.bid_participate).get(self.user_id, 0)+1\n",
    "            self.bid_participate_history.append([id(self), self.user_id, self.bidding_round, bid_price])\n",
    "            #print('bid price', bid_price)\n",
    "            print('bid participation:format UserNumber:BidCount', self.bid_participate, '\\n','-'*100)\n",
    "    #        print('bid participation history', self.bid_participate_history, '\\n','-'*100)\n",
    "            return bid_price\n",
    "    \n",
    "    # NOTIFIED OF BID OUTCOME ------------ initiated by auction ------------------------------------\n",
    "    \n",
    "    def notify(self, auction_winner, price, clicked):\n",
    "        bid_y_n_won = 0\n",
    "        #print('auction winner is')\n",
    "        if auction_winner:\n",
    "            #self.bid_participate_history.append([self.user_id, bid_y_n_won+1])\n",
    "            self.bid_win_history.append([self.user_id, bid_y_n_won+1])\n",
    "            self.bid_wins[self.user_id] = (self.bid_wins).get(self.user_id, 0)+1\n",
    "#            print('bid wins is:', self.bid_wins)\n",
    "#            self.bid_wins[self.user_id] += 1\n",
    "            # self.bid_wins[user_id] += 1\n",
    "            \n",
    "            \n",
    "            if clicked:\n",
    "#                self.bid_win_user_clicks[self.user_id] += 1\n",
    "                self.bid_win_user_clicks[self.user_id] = (self.bid_win_user_clicks).get(self.user_id, 0)+1\n",
    "                self.bid_win_user_click_history.append([self.user_id, self.bidding_round])\n",
    "    \n",
    "                # print('user clicks', self.bid_win_user_clicks)\n",
    "                # print(\n",
    "                #     f\"Smart {id(self)} won round; User {self.user_id}\"\n",
    "                #     f\" clicked\"\n",
    "                # )\n",
    "        else:\n",
    "            pass\n",
    "\n",
    "#        print(self.bid_win_history)\n",
    "#        print(self.bid_wins)\n",
    "#        print(self.bid_participate_history)\n",
    "        \n",
    "#        print(self.bid_win_user_clicks)\n",
    "#        print(self.bid_wins)"
   ]
  },
  {
   "cell_type": "code",
   "execution_count": 23,
   "id": "b2fa1421-6745-43a5-9c0b-5a4112f8d9dc",
   "metadata": {},
   "outputs": [
    {
     "name": "stdout",
     "output_type": "stream",
     "text": [
      "bid participation:format UserNumber:BidCount {0: 0, 5: 1} \n",
      " ----------------------------------------------------------------------------------------------------\n",
      "bid participation:format UserNumber:BidCount {0: 0, 5: 1} \n",
      " ----------------------------------------------------------------------------------------------------\n",
      "bid participation:format UserNumber:BidCount {0: 0, 5: 1} \n",
      " ----------------------------------------------------------------------------------------------------\n",
      "bids dict {<__main__.Bidder object at 0x7fa0197852b0>: 0.5556771866557622, <__main__.Bidder object at 0x7fa068c3e520>: 0.5077245231257884, <__main__.Bidder object at 0x7fa068c3e220>: 1.0580620448932292} \n",
      " ----------------------------------------------------------------------------------------------------\n",
      "balances at end of bidding round {<__main__.Bidder object at 0x7fa0197852b0>: 0, <__main__.Bidder object at 0x7fa068c3e520>: 0, <__main__.Bidder object at 0x7fa068c3e220>: -140326929162783} \n",
      " ----------------------------------------------------------------------------------------------------\n"
     ]
    }
   ],
   "source": [
    "b1, b2, b3 = Bidder(1,10), Bidder(1,10), Bidder(1,10)\n",
    "auction = Auction( [User()for i in range(10)], [b1, b2, b3])\n",
    "#auction = Auction( [User(), User()], [b1, b2, b3])\n",
    "\n",
    "auction.execute_round()\n",
    "# auction.execute_round()\n",
    "# auction.execute_round()\n",
    "# auction.execute_round()"
   ]
  },
  {
   "cell_type": "code",
   "execution_count": 28,
   "id": "aea13a2f-7928-4e08-8240-83c9b677fb46",
   "metadata": {},
   "outputs": [
    {
     "name": "stdout",
     "output_type": "stream",
     "text": [
      "bid participation:format UserNumber:BidCount {0: 0, 5: 1, 9: 1, 2: 2, 6: 1, 3: 1} \n",
      " ----------------------------------------------------------------------------------------------------\n",
      "bid participation:format UserNumber:BidCount {0: 0, 5: 1, 9: 1, 2: 2, 6: 1, 3: 1} \n",
      " ----------------------------------------------------------------------------------------------------\n",
      "bid participation:format UserNumber:BidCount {0: 0, 5: 1, 9: 1, 2: 2, 6: 1, 3: 1} \n",
      " ----------------------------------------------------------------------------------------------------\n",
      "bids dict {<__main__.Bidder object at 0x7fa0197852b0>: 1.0556771866557622, <__main__.Bidder object at 0x7fa068c3e520>: 1.0077245231257885, <__main__.Bidder object at 0x7fa068c3e220>: 1.5580620448932292} \n",
      " ----------------------------------------------------------------------------------------------------\n",
      "balances at end of bidding round {<__main__.Bidder object at 0x7fa0197852b0>: 0, <__main__.Bidder object at 0x7fa068c3e520>: 0, <__main__.Bidder object at 0x7fa068c3e220>: -841961574976702} \n",
      " ----------------------------------------------------------------------------------------------------\n"
     ]
    }
   ],
   "source": [
    "auction.execute_round()"
   ]
  },
  {
   "cell_type": "code",
   "execution_count": 39,
   "id": "585d393c-8c72-45de-be2c-e2e45016ff47",
   "metadata": {},
   "outputs": [
    {
     "data": {
      "text/plain": [
       "[[140325598810800, 5, 1, 0.5556771866557622],\n",
       " [140325598810800, 9, 2, 0.6556771866557622],\n",
       " [140325598810800, 2, 3, 0.7556771866557622],\n",
       " [140325598810800, 6, 4, 0.8556771866557622],\n",
       " [140325598810800, 3, 5, 0.9556771866557622],\n",
       " [140325598810800, 2, 6, 1.0556771866557622],\n",
       " [140325598810800, 5, 7, 1.1556771866557622],\n",
       " [140325598810800, 3, 8, 1.2556771866557623],\n",
       " [140325598810800, 9, 9, 1.3556771866557622],\n",
       " [140325598810800, 6, 10, 1.455677186655762],\n",
       " [140325598810800, 3, 11, 1.5556771866557622],\n",
       " [140325598810800, 0, 12, 1.6556771866557622],\n",
       " [140325598810800, 2, 13, 1.7556771866557623],\n",
       " [140325598810800, 6, 14, 1.8556771866557624],\n",
       " [140325598810800, 6, 15, 1.955677186655762],\n",
       " [140325598810800, 9, 16, 2.055677186655762]]"
      ]
     },
     "execution_count": 39,
     "metadata": {},
     "output_type": "execute_result"
    }
   ],
   "source": [
    "b1.bid_participate_history #bidderid, userid, bidding round, bid price"
   ]
  },
  {
   "cell_type": "code",
   "execution_count": 40,
   "id": "eabddcd7-f415-4b05-bd1b-b627da5736e6",
   "metadata": {},
   "outputs": [
    {
     "data": {
      "text/plain": [
       "[[140326929163552, 5, 1, 0.5077245231257884],\n",
       " [140326929163552, 9, 2, 0.6077245231257884],\n",
       " [140326929163552, 2, 3, 0.7077245231257885],\n",
       " [140326929163552, 6, 4, 0.8077245231257885],\n",
       " [140326929163552, 3, 5, 0.9077245231257884],\n",
       " [140326929163552, 2, 6, 1.0077245231257885],\n",
       " [140326929163552, 5, 7, 1.1077245231257886],\n",
       " [140326929163552, 3, 8, 1.2077245231257885],\n",
       " [140326929163552, 9, 9, 1.3077245231257884],\n",
       " [140326929163552, 6, 10, 1.4077245231257884],\n",
       " [140326929163552, 3, 11, 1.5077245231257885],\n",
       " [140326929163552, 0, 12, 1.6077245231257886],\n",
       " [140326929163552, 2, 13, 1.7077245231257885],\n",
       " [140326929163552, 6, 14, 1.8077245231257886],\n",
       " [140326929163552, 6, 15, 1.9077245231257884],\n",
       " [140326929163552, 9, 16, 2.0077245231257885]]"
      ]
     },
     "execution_count": 40,
     "metadata": {},
     "output_type": "execute_result"
    }
   ],
   "source": [
    "b2.bid_participate_history #bidderid, userid, bidding round, bid price"
   ]
  },
  {
   "cell_type": "code",
   "execution_count": 41,
   "id": "3feb9e63-9eef-4821-9528-a3642e0382fa",
   "metadata": {},
   "outputs": [
    {
     "data": {
      "text/plain": [
       "[[140326929162784, 5, 1, 1.0580620448932292],\n",
       " [140326929162784, 9, 2, 1.158062044893229],\n",
       " [140326929162784, 2, 3, 1.2580620448932291],\n",
       " [140326929162784, 6, 4, 1.358062044893229],\n",
       " [140326929162784, 3, 5, 1.458062044893229],\n",
       " [140326929162784, 2, 6, 1.5580620448932292],\n",
       " [140326929162784, 5, 7, 1.6580620448932293],\n",
       " [140326929162784, 3, 8, 1.7580620448932291],\n",
       " [140326929162784, 9, 9, 1.858062044893229],\n",
       " [140326929162784, 6, 10, 1.958062044893229],\n",
       " [140326929162784, 3, 11, 2.058062044893229],\n",
       " [140326929162784, 0, 12, 2.1580620448932293],\n",
       " [140326929162784, 2, 13, 2.2580620448932294],\n",
       " [140326929162784, 6, 14, 2.358062044893229],\n",
       " [140326929162784, 6, 15, 2.458062044893229],\n",
       " [140326929162784, 9, 16, 2.558062044893229]]"
      ]
     },
     "execution_count": 41,
     "metadata": {},
     "output_type": "execute_result"
    }
   ],
   "source": [
    "b3.bid_participate_history #bidderid, userid, bidding round, bid price"
   ]
  },
  {
   "cell_type": "code",
   "execution_count": 38,
   "id": "a46458fe-0a5d-4a3a-a42d-92854e105f07",
   "metadata": {},
   "outputs": [
    {
     "name": "stdout",
     "output_type": "stream",
     "text": [
      "bid participation:format UserNumber:BidCount {0: 0, 5: 2, 9: 1, 2: 2, 6: 1, 3: 1} \n",
      " ----------------------------------------------------------------------------------------------------\n",
      "bid participation:format UserNumber:BidCount {0: 0, 5: 2, 9: 1, 2: 2, 6: 1, 3: 1} \n",
      " ----------------------------------------------------------------------------------------------------\n",
      "bid participation:format UserNumber:BidCount {0: 0, 5: 2, 9: 1, 2: 2, 6: 1, 3: 1} \n",
      " ----------------------------------------------------------------------------------------------------\n",
      "bids dict {<__main__.Bidder object at 0x7fa0197852b0>: 1.1556771866557622, <__main__.Bidder object at 0x7fa068c3e520>: 1.1077245231257886, <__main__.Bidder object at 0x7fa068c3e220>: 1.6580620448932293} \n",
      " ----------------------------------------------------------------------------------------------------\n",
      "balances at end of bidding round {<__main__.Bidder object at 0x7fa0197852b0>: 0, <__main__.Bidder object at 0x7fa068c3e520>: 0, <__main__.Bidder object at 0x7fa068c3e220>: -982288504139486} \n",
      " ----------------------------------------------------------------------------------------------------\n",
      "bid participation:format UserNumber:BidCount {0: 0, 5: 2, 9: 1, 2: 2, 6: 1, 3: 2} \n",
      " ----------------------------------------------------------------------------------------------------\n",
      "bid participation:format UserNumber:BidCount {0: 0, 5: 2, 9: 1, 2: 2, 6: 1, 3: 2} \n",
      " ----------------------------------------------------------------------------------------------------\n",
      "bid participation:format UserNumber:BidCount {0: 0, 5: 2, 9: 1, 2: 2, 6: 1, 3: 2} \n",
      " ----------------------------------------------------------------------------------------------------\n",
      "bids dict {<__main__.Bidder object at 0x7fa0197852b0>: 1.2556771866557623, <__main__.Bidder object at 0x7fa068c3e520>: 1.2077245231257885, <__main__.Bidder object at 0x7fa068c3e220>: 1.7580620448932291} \n",
      " ----------------------------------------------------------------------------------------------------\n",
      "balances at end of bidding round {<__main__.Bidder object at 0x7fa0197852b0>: 0, <__main__.Bidder object at 0x7fa068c3e520>: 0, <__main__.Bidder object at 0x7fa068c3e220>: -1122615433302270} \n",
      " ----------------------------------------------------------------------------------------------------\n",
      "bid participation:format UserNumber:BidCount {0: 0, 5: 2, 9: 2, 2: 2, 6: 1, 3: 2} \n",
      " ----------------------------------------------------------------------------------------------------\n",
      "bid participation:format UserNumber:BidCount {0: 0, 5: 2, 9: 2, 2: 2, 6: 1, 3: 2} \n",
      " ----------------------------------------------------------------------------------------------------\n",
      "bid participation:format UserNumber:BidCount {0: 0, 5: 2, 9: 2, 2: 2, 6: 1, 3: 2} \n",
      " ----------------------------------------------------------------------------------------------------\n",
      "bids dict {<__main__.Bidder object at 0x7fa0197852b0>: 1.3556771866557622, <__main__.Bidder object at 0x7fa068c3e520>: 1.3077245231257884, <__main__.Bidder object at 0x7fa068c3e220>: 1.858062044893229} \n",
      " ----------------------------------------------------------------------------------------------------\n",
      "balances at end of bidding round {<__main__.Bidder object at 0x7fa0197852b0>: 0, <__main__.Bidder object at 0x7fa068c3e520>: 0, <__main__.Bidder object at 0x7fa068c3e220>: -1262942362465054} \n",
      " ----------------------------------------------------------------------------------------------------\n",
      "bid participation:format UserNumber:BidCount {0: 0, 5: 2, 9: 2, 2: 2, 6: 2, 3: 2} \n",
      " ----------------------------------------------------------------------------------------------------\n",
      "bid participation:format UserNumber:BidCount {0: 0, 5: 2, 9: 2, 2: 2, 6: 2, 3: 2} \n",
      " ----------------------------------------------------------------------------------------------------\n",
      "bid participation:format UserNumber:BidCount {0: 0, 5: 2, 9: 2, 2: 2, 6: 2, 3: 2} \n",
      " ----------------------------------------------------------------------------------------------------\n",
      "bids dict {<__main__.Bidder object at 0x7fa0197852b0>: 1.455677186655762, <__main__.Bidder object at 0x7fa068c3e520>: 1.4077245231257884, <__main__.Bidder object at 0x7fa068c3e220>: 1.958062044893229} \n",
      " ----------------------------------------------------------------------------------------------------\n",
      "balances at end of bidding round {<__main__.Bidder object at 0x7fa0197852b0>: 0, <__main__.Bidder object at 0x7fa068c3e520>: 0, <__main__.Bidder object at 0x7fa068c3e220>: -1403269291627837} \n",
      " ----------------------------------------------------------------------------------------------------\n",
      "bid participation:format UserNumber:BidCount {0: 0, 5: 2, 9: 2, 2: 2, 6: 2, 3: 3} \n",
      " ----------------------------------------------------------------------------------------------------\n",
      "bid participation:format UserNumber:BidCount {0: 0, 5: 2, 9: 2, 2: 2, 6: 2, 3: 3} \n",
      " ----------------------------------------------------------------------------------------------------\n",
      "bid participation:format UserNumber:BidCount {0: 0, 5: 2, 9: 2, 2: 2, 6: 2, 3: 3} \n",
      " ----------------------------------------------------------------------------------------------------\n",
      "bids dict {<__main__.Bidder object at 0x7fa0197852b0>: 1.5556771866557622, <__main__.Bidder object at 0x7fa068c3e520>: 1.5077245231257885, <__main__.Bidder object at 0x7fa068c3e220>: 2.058062044893229} \n",
      " ----------------------------------------------------------------------------------------------------\n",
      "balances at end of bidding round {<__main__.Bidder object at 0x7fa0197852b0>: 0, <__main__.Bidder object at 0x7fa068c3e520>: 0, <__main__.Bidder object at 0x7fa068c3e220>: -1543596220790621} \n",
      " ----------------------------------------------------------------------------------------------------\n",
      "bid participation:format UserNumber:BidCount {0: 1, 5: 2, 9: 2, 2: 2, 6: 2, 3: 3} \n",
      " ----------------------------------------------------------------------------------------------------\n",
      "bid participation:format UserNumber:BidCount {0: 1, 5: 2, 9: 2, 2: 2, 6: 2, 3: 3} \n",
      " ----------------------------------------------------------------------------------------------------\n",
      "bid participation:format UserNumber:BidCount {0: 1, 5: 2, 9: 2, 2: 2, 6: 2, 3: 3} \n",
      " ----------------------------------------------------------------------------------------------------\n",
      "bids dict {<__main__.Bidder object at 0x7fa0197852b0>: 1.6556771866557622, <__main__.Bidder object at 0x7fa068c3e520>: 1.6077245231257886, <__main__.Bidder object at 0x7fa068c3e220>: 2.1580620448932293} \n",
      " ----------------------------------------------------------------------------------------------------\n",
      "balances at end of bidding round {<__main__.Bidder object at 0x7fa0197852b0>: 0, <__main__.Bidder object at 0x7fa068c3e520>: 0, <__main__.Bidder object at 0x7fa068c3e220>: -1683923149953404} \n",
      " ----------------------------------------------------------------------------------------------------\n",
      "bid participation:format UserNumber:BidCount {0: 1, 5: 2, 9: 2, 2: 3, 6: 2, 3: 3} \n",
      " ----------------------------------------------------------------------------------------------------\n",
      "bid participation:format UserNumber:BidCount {0: 1, 5: 2, 9: 2, 2: 3, 6: 2, 3: 3} \n",
      " ----------------------------------------------------------------------------------------------------\n",
      "bid participation:format UserNumber:BidCount {0: 1, 5: 2, 9: 2, 2: 3, 6: 2, 3: 3} \n",
      " ----------------------------------------------------------------------------------------------------\n",
      "bids dict {<__main__.Bidder object at 0x7fa0197852b0>: 1.7556771866557623, <__main__.Bidder object at 0x7fa068c3e520>: 1.7077245231257885, <__main__.Bidder object at 0x7fa068c3e220>: 2.2580620448932294} \n",
      " ----------------------------------------------------------------------------------------------------\n",
      "balances at end of bidding round {<__main__.Bidder object at 0x7fa0197852b0>: 0, <__main__.Bidder object at 0x7fa068c3e520>: 0, <__main__.Bidder object at 0x7fa068c3e220>: -1824250079116188} \n",
      " ----------------------------------------------------------------------------------------------------\n",
      "bid participation:format UserNumber:BidCount {0: 1, 5: 2, 9: 2, 2: 3, 6: 3, 3: 3} \n",
      " ----------------------------------------------------------------------------------------------------\n",
      "bid participation:format UserNumber:BidCount {0: 1, 5: 2, 9: 2, 2: 3, 6: 3, 3: 3} \n",
      " ----------------------------------------------------------------------------------------------------\n",
      "bid participation:format UserNumber:BidCount {0: 1, 5: 2, 9: 2, 2: 3, 6: 3, 3: 3} \n",
      " ----------------------------------------------------------------------------------------------------\n",
      "bids dict {<__main__.Bidder object at 0x7fa0197852b0>: 1.8556771866557624, <__main__.Bidder object at 0x7fa068c3e520>: 1.8077245231257886, <__main__.Bidder object at 0x7fa068c3e220>: 2.358062044893229} \n",
      " ----------------------------------------------------------------------------------------------------\n",
      "balances at end of bidding round {<__main__.Bidder object at 0x7fa0197852b0>: 0, <__main__.Bidder object at 0x7fa068c3e520>: 0, <__main__.Bidder object at 0x7fa068c3e220>: -1964577008278971} \n",
      " ----------------------------------------------------------------------------------------------------\n",
      "bid participation:format UserNumber:BidCount {0: 1, 5: 2, 9: 2, 2: 3, 6: 4, 3: 3} \n",
      " ----------------------------------------------------------------------------------------------------\n",
      "bid participation:format UserNumber:BidCount {0: 1, 5: 2, 9: 2, 2: 3, 6: 4, 3: 3} \n",
      " ----------------------------------------------------------------------------------------------------\n",
      "bid participation:format UserNumber:BidCount {0: 1, 5: 2, 9: 2, 2: 3, 6: 4, 3: 3} \n",
      " ----------------------------------------------------------------------------------------------------\n",
      "bids dict {<__main__.Bidder object at 0x7fa0197852b0>: 1.955677186655762, <__main__.Bidder object at 0x7fa068c3e520>: 1.9077245231257884, <__main__.Bidder object at 0x7fa068c3e220>: 2.458062044893229} \n",
      " ----------------------------------------------------------------------------------------------------\n",
      "balances at end of bidding round {<__main__.Bidder object at 0x7fa0197852b0>: 0, <__main__.Bidder object at 0x7fa068c3e520>: 0, <__main__.Bidder object at 0x7fa068c3e220>: -2104903937441754} \n",
      " ----------------------------------------------------------------------------------------------------\n",
      "bid participation:format UserNumber:BidCount {0: 1, 5: 2, 9: 3, 2: 3, 6: 4, 3: 3} \n",
      " ----------------------------------------------------------------------------------------------------\n",
      "bid participation:format UserNumber:BidCount {0: 1, 5: 2, 9: 3, 2: 3, 6: 4, 3: 3} \n",
      " ----------------------------------------------------------------------------------------------------\n",
      "bid participation:format UserNumber:BidCount {0: 1, 5: 2, 9: 3, 2: 3, 6: 4, 3: 3} \n",
      " ----------------------------------------------------------------------------------------------------\n",
      "bids dict {<__main__.Bidder object at 0x7fa0197852b0>: 2.055677186655762, <__main__.Bidder object at 0x7fa068c3e520>: 2.0077245231257885, <__main__.Bidder object at 0x7fa068c3e220>: 2.558062044893229} \n",
      " ----------------------------------------------------------------------------------------------------\n",
      "balances at end of bidding round {<__main__.Bidder object at 0x7fa0197852b0>: 0, <__main__.Bidder object at 0x7fa068c3e520>: 0, <__main__.Bidder object at 0x7fa068c3e220>: -2245230866604538} \n",
      " ----------------------------------------------------------------------------------------------------\n"
     ]
    },
    {
     "data": {
      "text/plain": [
       "[None, None, None, None, None, None, None, None, None, None]"
      ]
     },
     "execution_count": 38,
     "metadata": {},
     "output_type": "execute_result"
    }
   ],
   "source": [
    "[auction.execute_round() for i in range(10)]"
   ]
  },
  {
   "cell_type": "code",
   "execution_count": 25,
   "id": "27546553-6123-4a24-98b8-52d9644b1b2e",
   "metadata": {},
   "outputs": [
    {
     "name": "stdout",
     "output_type": "stream",
     "text": [
      "list of users & probabilities \n",
      " ---------------------------------------------------------------------------------------------------- \n",
      " [(140302639963536, 0.7641433416698504)] \n",
      " ---------------------------------------------------------------------------------------------------- \n",
      "\n",
      "list of bidders \n",
      " ---------------------------------------------------------------------------------------------------- \n",
      " [140303301064256, 140303301064112, 140303301065216] \n",
      " ---------------------------------------------------------------------------------------------------- \n",
      "\n"
     ]
    }
   ],
   "source": [
    "b1, b2, b3 = Bidder(1,10), Bidder(1,10), Bidder(1,10)\n",
    "auction = Auction( [User()], [b1, b2, b3])\n",
    "auction.execute_round()"
   ]
  },
  {
   "cell_type": "code",
   "execution_count": 17,
   "id": "29188f71-f110-4534-915b-ee2e5bdaea24",
   "metadata": {},
   "outputs": [
    {
     "name": "stdout",
     "output_type": "stream",
     "text": [
      "b1 bid is:  0.47439361656240703\n",
      "b2 bid is:  1.1173164691903281\n",
      "b3 bid is:  0.6718480228307875\n"
     ]
    }
   ],
   "source": [
    "print('b1 bid is: ', b1.bid(0x7fb6581c8ca0))\n",
    "print('b2 bid is: ', b2.bid(0x7fb6581c8ca0))\n",
    "print('b3 bid is: ', b3.bid(0x7fb6581c8ca0))"
   ]
  },
  {
   "cell_type": "code",
   "execution_count": 35,
   "id": "a9adf072-7da3-4bd3-9dfc-c9a17b4c90df",
   "metadata": {},
   "outputs": [
    {
     "data": {
      "text/plain": [
       "140224663290976"
      ]
     },
     "execution_count": 35,
     "metadata": {},
     "output_type": "execute_result"
    }
   ],
   "source": [
    "u1 = User()\n",
    "id(u1)"
   ]
  },
  {
   "cell_type": "code",
   "execution_count": 36,
   "id": "27429fac-a583-4489-a803-96af4e497ce4",
   "metadata": {},
   "outputs": [
    {
     "data": {
      "text/plain": [
       "{0: 0, 1: 0, 2: 0, 3: 0, 4: 0, 5: 0, 6: 0, 7: 0, 8: 0, 9: 0}"
      ]
     },
     "execution_count": 36,
     "metadata": {},
     "output_type": "execute_result"
    }
   ],
   "source": [
    "user_wins = {i: 0 for i in range(10)}\n",
    "user_wins"
   ]
  },
  {
   "cell_type": "code",
   "execution_count": 5,
   "id": "6745a1f1-a152-49af-8153-c58c7aa72076",
   "metadata": {
    "collapsed": true,
    "jupyter": {
     "outputs_hidden": true
    },
    "tags": []
   },
   "outputs": [
    {
     "name": "stdout",
     "output_type": "stream",
     "text": [
      "winning bidder [<__main__.Bidder object at 0x7fb6580d5df0>]\n",
      "winning bidder [<__main__.Bidder object at 0x7fb6580d5df0>]\n",
      "winning bidder [<__main__.Bidder object at 0x7fb6580d5df0>]\n",
      "winning bidder [<__main__.Bidder object at 0x7fb6580d5df0>]\n",
      "winning bidder [<__main__.Bidder object at 0x7fb6580d5df0>]\n",
      "winning bidder [<__main__.Bidder object at 0x7fb6580d5df0>]\n",
      "winning bidder [<__main__.Bidder object at 0x7fb6580d5df0>]\n",
      "winning bidder [<__main__.Bidder object at 0x7fb6580d5df0>]\n",
      "winning bidder [<__main__.Bidder object at 0x7fb6580d5df0>]\n",
      "winning bidder [<__main__.Bidder object at 0x7fb6580d5df0>]\n",
      "winning bidder [<__main__.Bidder object at 0x7fb6580d5df0>]\n",
      "winning bidder [<__main__.Bidder object at 0x7fb6580d5df0>]\n",
      "winning bidder [<__main__.Bidder object at 0x7fb6580d5df0>]\n",
      "winning bidder [<__main__.Bidder object at 0x7fb6580d5df0>]\n",
      "winning bidder [<__main__.Bidder object at 0x7fb6580d5df0>]\n",
      "winning bidder [<__main__.Bidder object at 0x7fb6580d5df0>]\n",
      "winning bidder [<__main__.Bidder object at 0x7fb6580d5df0>]\n",
      "winning bidder [<__main__.Bidder object at 0x7fb6580d5df0>]\n",
      "winning bidder [<__main__.Bidder object at 0x7fb6580d5df0>]\n",
      "winning bidder [<__main__.Bidder object at 0x7fb6580d5df0>]\n",
      "winning bidder [<__main__.Bidder object at 0x7fb6580d5df0>]\n",
      "winning bidder [<__main__.Bidder object at 0x7fb6580d5df0>]\n",
      "winning bidder [<__main__.Bidder object at 0x7fb6580d5df0>]\n",
      "winning bidder [<__main__.Bidder object at 0x7fb6580d5df0>]\n",
      "winning bidder [<__main__.Bidder object at 0x7fb6580d5df0>]\n",
      "winning bidder [<__main__.Bidder object at 0x7fb6580d5df0>]\n",
      "winning bidder [<__main__.Bidder object at 0x7fb6580d5df0>]\n",
      "winning bidder [<__main__.Bidder object at 0x7fb6580d5df0>]\n",
      "winning bidder [<__main__.Bidder object at 0x7fb6580d5df0>]\n",
      "winning bidder [<__main__.Bidder object at 0x7fb6580d5df0>]\n",
      "winning bidder [<__main__.Bidder object at 0x7fb6580d5df0>]\n",
      "winning bidder [<__main__.Bidder object at 0x7fb6580d5df0>]\n",
      "winning bidder [<__main__.Bidder object at 0x7fb6580d5df0>]\n",
      "winning bidder [<__main__.Bidder object at 0x7fb6580d5df0>]\n",
      "winning bidder [<__main__.Bidder object at 0x7fb6580d5df0>]\n",
      "winning bidder [<__main__.Bidder object at 0x7fb6580d5df0>]\n",
      "winning bidder [<__main__.Bidder object at 0x7fb6580d5df0>]\n",
      "winning bidder [<__main__.Bidder object at 0x7fb6580d5df0>]\n",
      "winning bidder [<__main__.Bidder object at 0x7fb6580d5df0>]\n",
      "winning bidder [<__main__.Bidder object at 0x7fb6580d5df0>]\n",
      "winning bidder [<__main__.Bidder object at 0x7fb6580d5df0>]\n",
      "winning bidder [<__main__.Bidder object at 0x7fb6580d5df0>]\n",
      "winning bidder [<__main__.Bidder object at 0x7fb6580d5df0>]\n",
      "winning bidder [<__main__.Bidder object at 0x7fb6580d5df0>]\n",
      "winning bidder [<__main__.Bidder object at 0x7fb6580d5df0>]\n",
      "winning bidder [<__main__.Bidder object at 0x7fb6580d5df0>]\n",
      "winning bidder [<__main__.Bidder object at 0x7fb6580d5df0>]\n",
      "winning bidder [<__main__.Bidder object at 0x7fb6580d5df0>]\n",
      "winning bidder [<__main__.Bidder object at 0x7fb6580d5df0>]\n",
      "winning bidder [<__main__.Bidder object at 0x7fb6580d5df0>]\n"
     ]
    },
    {
     "data": {
      "text/plain": [
       "[None,\n",
       " None,\n",
       " None,\n",
       " None,\n",
       " None,\n",
       " None,\n",
       " None,\n",
       " None,\n",
       " None,\n",
       " None,\n",
       " None,\n",
       " None,\n",
       " None,\n",
       " None,\n",
       " None,\n",
       " None,\n",
       " None,\n",
       " None,\n",
       " None,\n",
       " None,\n",
       " None,\n",
       " None,\n",
       " None,\n",
       " None,\n",
       " None,\n",
       " None,\n",
       " None,\n",
       " None,\n",
       " None,\n",
       " None,\n",
       " None,\n",
       " None,\n",
       " None,\n",
       " None,\n",
       " None,\n",
       " None,\n",
       " None,\n",
       " None,\n",
       " None,\n",
       " None,\n",
       " None,\n",
       " None,\n",
       " None,\n",
       " None,\n",
       " None,\n",
       " None,\n",
       " None,\n",
       " None,\n",
       " None,\n",
       " None]"
      ]
     },
     "execution_count": 5,
     "metadata": {},
     "output_type": "execute_result"
    }
   ],
   "source": [
    "b1 = Bidder(1,10)\n",
    "auction = Auction( [User()], [b1])\n",
    "[auction.execute_round() for i in range(50)]"
   ]
  },
  {
   "cell_type": "code",
   "execution_count": 47,
   "id": "c2f2e265-9421-4424-a942-34d541016dc8",
   "metadata": {},
   "outputs": [
    {
     "data": {
      "text/plain": [
       "840"
      ]
     },
     "execution_count": 47,
     "metadata": {},
     "output_type": "execute_result"
    }
   ],
   "source": [
    "lis=[(840, 32), (841, 3), (842, 4), (843, 4), (844, 6), (845, 6), (846, 12), (847, 6), (848, 10), (849, 4)]\n",
    "\n",
    "max(lis, key=lambda x:x[1])[0]"
   ]
  },
  {
   "cell_type": "code",
   "execution_count": 45,
   "id": "01503607-335d-4878-a405-077becffa081",
   "metadata": {},
   "outputs": [
    {
     "name": "stdout",
     "output_type": "stream",
     "text": [
      "{'A': 1, 'C': 1, 'D': 1, 'E': 2, 'F': 1, 'G': 1, 'H': 1, 'I': 1, 'K': 1, 'L': 1, 'M': 1, 'N': 1, 'P': 1, 'Q': 1, 'R': 1, 'S': 1, 'T': 1, 'V': 1, 'W': 1, 'Y': 1, 'Z': 2}\n"
     ]
    }
   ],
   "source": [
    "count_dict = {} \n",
    "\n",
    "aa_list = ['A', 'C', 'D', 'E' ,'E', 'F' ,'G' ,'H' ,'I' ,'K' ,'L' ,\n",
    "       'M' ,'N' ,'P' ,'Q' ,'R' ,'S' ,'T' ,'V' ,'W' ,'Y', 'Z', 'Z']\n",
    "\n",
    "for element in aa_list:\n",
    "    count_dict[element]=(count_dict).get(element,0)+1\n",
    "\n",
    "print (count_dict)"
   ]
  },
  {
   "cell_type": "code",
   "execution_count": null,
   "id": "f2f97964-d130-4682-ad84-531c586c15b7",
   "metadata": {},
   "outputs": [],
   "source": []
  }
 ],
 "metadata": {
  "kernelspec": {
   "display_name": "Python 3 (ipykernel)",
   "language": "python",
   "name": "python3"
  },
  "language_info": {
   "codemirror_mode": {
    "name": "ipython",
    "version": 3
   },
   "file_extension": ".py",
   "mimetype": "text/x-python",
   "name": "python",
   "nbconvert_exporter": "python",
   "pygments_lexer": "ipython3",
   "version": "3.9.12"
  }
 },
 "nbformat": 4,
 "nbformat_minor": 5
}
