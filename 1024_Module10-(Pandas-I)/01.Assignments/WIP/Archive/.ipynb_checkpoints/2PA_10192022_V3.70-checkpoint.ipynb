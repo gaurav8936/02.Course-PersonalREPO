{
 "cells": [
  {
   "cell_type": "markdown",
   "id": "ada87035-103d-4c1c-8f48-fd11f548480b",
   "metadata": {},
   "source": [
    "# Restarting"
   ]
  },
  {
   "cell_type": "code",
   "execution_count": 30,
   "id": "1b768ada-7452-4fe3-99ed-c4af81114e14",
   "metadata": {},
   "outputs": [],
   "source": [
    "import numpy as np\n",
    "import matplotlib.pyplot as plt\n",
    "import random\n",
    "from numpy import random\n",
    "from numpy.random import randint\n",
    "\n",
    "\n",
    "class User:\n",
    "    def __init__(self):\n",
    "        self.__probability = random.uniform(0, 1)\n",
    "        self.probability2 = random.uniform(0, 1)\n",
    "\n",
    "    def show_ad(self):\n",
    "        return  np.random.choice((True, False), p = [self.__probability, 1-self.__probability])\n",
    "        return  np.random.choice((True, False), p = [self.probability2, 1-self.probability2])\n",
    "\n",
    "class Auction:\n",
    "    \n",
    "    auction_history = [] # for the auction exchange only\n",
    "    \n",
    "    def __init__(self, users, bidders):\n",
    "        self.users = users\n",
    "        self.bidders = bidders\n",
    "        self.balances = {bidder: 0 for bidder in bidders}\n",
    "\n",
    "        # user master\n",
    "        self.user_master = []\n",
    "        for user in self.users:\n",
    "            self.user_master.append((user, id(user), user.probability2))\n",
    "        print(self.user_master)\n",
    "            \n",
    "    \n",
    "    def execute_round(self):\n",
    "        random_user = randint(0, len(self.users))\n",
    "#        random_user_id = random.choice(self.users)\n",
    "#        print('random user', random_user_id)\n",
    "        bids = {}\n",
    "        bids2 = []\n",
    "\n",
    "        # 1. COLLECT BIDS (send to all bidders) --------------------------------------------\n",
    "        for bidder in self.bidders:\n",
    "            #bidder_id = id(bidder)\n",
    "            bids[bidder] = bidder.bid(random_user)\n",
    "            # bids[bidder] = bidder.bid(random_user_id)\n",
    "            \n",
    "            #self.auction_history.append((bidder_id, bids[bidder]))\n",
    "            self.auction_history.append((id(bidder), bidder, bids[bidder]))\n",
    "\n",
    "        highest_bid = 0\n",
    "        winning_price = 0\n",
    "        #self.auction_history.append(bids)\n",
    "#        print(self.auction_history)\n",
    "        \n",
    "        # 2. DETERMINE WINNING BID --------------------------------------------\n",
    "        for bidder, bid_value in bids.items():\n",
    "#            winning_price = bid_value\n",
    "            #winning_price = max(bid_value)\n",
    "#            bids2.append([bidder_id, bid_value])\n",
    "            bids2.append((id(bidder), bid_value))\n",
    "#        print(bids2)\n",
    "#        print(bids)\n",
    "        winning_price = max(bids2, key=lambda x:x[1])[0]\n",
    "#        print(winning_price)\n",
    "\n",
    "        winning_bidders = [] #list only if there is a tie\n",
    "        #winning_bidders.append(bidder_id)\n",
    "        winning_bidders.append(bidder)\n",
    "        print('winning bidder', winning_bidders)\n",
    "        winning_bidder = winning_bidders[0]\n",
    "        #winning_bidder = winning_bidders[winning_bidder_index]\n",
    "        #print(bids)\n",
    "        \n",
    "        # 3. SHOW AD to USER --------------------------------------------\n",
    "        ad_result = self.users[random_user].show_ad()\n",
    "    \n",
    "        # 4. USER CLICKS? --------------------------------------------\n",
    "        for bidder in self.bidders:\n",
    "            if bidder == winning_bidder:\n",
    "                bidder.notify(True, winning_price, ad_result)\n",
    "                self.balances[bidder] -= winning_price\n",
    "                if ad_result:\n",
    "                    self.balances[bidder] += 1\n",
    "            else:\n",
    "                bidder.notify(False, winning_price, None)\n",
    "        #print(bids)\n",
    "\n",
    "class Bidder:\n",
    "    \n",
    "\n",
    "    # BIDDER CREATION -------------- initiated by GAME runner / Developer ------------------------\n",
    "    \n",
    "    def __init__(self, num_users, num_rounds):\n",
    "\n",
    "        self.num_users = num_users\n",
    "        self.num_rounds = num_rounds\n",
    "        self.bidding_round = 0\n",
    "\n",
    "        self.bid_participate = {i: 0 for i in range(num_users)} #whether bidder bids or not\n",
    "        self.bid_wins = {i: 0 for i in range(num_users)} # if bidder wins\n",
    "        print('bid wins', self.bid_wins)\n",
    "        self.bid_win_user_clicks = {i: 0 for i in range(num_users)} # if user clicks\n",
    "        \n",
    "        self.default_bid_price = random.uniform(0, 1)\n",
    "        \n",
    "        #Transaction records\n",
    "        self.bid_participate_history = []\n",
    "        self.bid_win_history = []\n",
    "        self.bid_win_user_click_history = []\n",
    "        \n",
    "        \n",
    "    # SUBMIT BID  ------------ initiated by auction ------------------------------------\n",
    "    \n",
    "    def bid(self, user_id):\n",
    "\n",
    "        self.bidding_round += 1\n",
    "        #self.bid_participate = 0\n",
    "        self.user_id = user_id\n",
    "        bid_price = self.default_bid_price + (self.bidding_round)*0.1\n",
    "        self.bid_participate[self.user_id] = (self.bid_participate).get(self.user_id, 0)+1\n",
    "        self.bid_participate_history.append([self.user_id, self.bidding_round])\n",
    "        print('bid price', bid_price)\n",
    "        print('bid participation', self.bid_participate)\n",
    "        return bid_price\n",
    "    \n",
    "    # NOTIFIED OF BID OUTCOME ------------ initiated by auction ------------------------------------\n",
    "    \n",
    "    def notify(self, auction_winner, price, clicked):\n",
    "        bid_y_n_won = 0\n",
    "        print('auction winner is')\n",
    "        if auction_winner:\n",
    "            #self.bid_participate_history.append([self.user_id, bid_y_n_won+1])\n",
    "            self.bid_win_history.append([self.user_id, bid_y_n_won+1])\n",
    "            self.bid_wins[self.user_id] = (self.bid_wins).get(self.user_id, 0)+1\n",
    "            print('bid wins is:', self.bid_wins)\n",
    "#            self.bid_wins[self.user_id] += 1\n",
    "            # self.bid_wins[user_id] += 1\n",
    "            if clicked:\n",
    "#                self.bid_win_user_clicks[self.user_id] += 1\n",
    "                self.bid_win_user_clicks[self.user_id] = (self.bid_win_user_clicks).get(self.user_id, 0)+1\n",
    "                self.bid_win_user_click_history.append([self.user_id, self.bidding_round])\n",
    "    \n",
    "                print('user clicks', self.bid_win_user_clicks)\n",
    "                print(\n",
    "                    f\"Smart {id(self)} won round; User {self.user_id}\"\n",
    "                    f\" clicked\"\n",
    "                )\n",
    "        else:\n",
    "            pass\n",
    "        print(self.bid_participate_history)\n",
    "        pass\n",
    "#        print(self.bid_win_user_clicks)\n",
    "#        print(self.bid_wins)"
   ]
  },
  {
   "cell_type": "code",
   "execution_count": 31,
   "id": "b2fa1421-6745-43a5-9c0b-5a4112f8d9dc",
   "metadata": {},
   "outputs": [
    {
     "name": "stdout",
     "output_type": "stream",
     "text": [
      "bid wins {0: 0}\n",
      "bid wins {0: 0}\n",
      "bid wins {0: 0}\n",
      "[(<__main__.User object at 0x7f88a91a6760>, 140224929359712, 0.21482197661652946), (<__main__.User object at 0x7f88993e8940>, 140224663292224, 0.7027799244477325), (<__main__.User object at 0x7f88993e8910>, 140224663292176, 0.4640642145025502), (<__main__.User object at 0x7f88993e8d90>, 140224663293328, 0.14404141108262436), (<__main__.User object at 0x7f88993e8ac0>, 140224663292608, 0.8167112231276307), (<__main__.User object at 0x7f88993e8af0>, 140224663292656, 0.1773955414774555), (<__main__.User object at 0x7f88993e88b0>, 140224663292080, 0.3846822583593581), (<__main__.User object at 0x7f88993e8040>, 140224663289920, 0.8304795957813739), (<__main__.User object at 0x7f88993e8700>, 140224663291648, 0.8615603556640435), (<__main__.User object at 0x7f88993e87f0>, 140224663291888, 0.8044250687293435)]\n",
      "bid price 0.4791052191925246\n",
      "bid participation {0: 0, 3: 1}\n",
      "bid price 0.7796828724087699\n",
      "bid participation {0: 0, 3: 1}\n",
      "bid price 0.9189837066967914\n",
      "bid participation {0: 0, 3: 1}\n",
      "winning bidder [<__main__.Bidder object at 0x7f88993e8d60>]\n",
      "auction winner is\n",
      "[[3, 1]]\n",
      "auction winner is\n",
      "[[3, 1]]\n",
      "auction winner is\n",
      "bid wins is: {0: 0, 3: 1}\n",
      "user clicks {0: 0, 3: 1}\n",
      "Smart 140224663293280 won round; User 3 clicked\n",
      "[[3, 1]]\n"
     ]
    }
   ],
   "source": [
    "b1, b2, b3 = Bidder(1,10), Bidder(1,10), Bidder(1,10)\n",
    "auction = Auction( [User()for i in range(10)], [b1, b2, b3])\n",
    "#auction = Auction( [User(), User()], [b1, b2, b3])\n",
    "\n",
    "auction.execute_round()"
   ]
  },
  {
   "cell_type": "code",
   "execution_count": 32,
   "id": "aea13a2f-7928-4e08-8240-83c9b677fb46",
   "metadata": {},
   "outputs": [
    {
     "name": "stdout",
     "output_type": "stream",
     "text": [
      "bid price 0.5791052191925246\n",
      "bid participation {0: 0, 3: 1, 7: 1}\n",
      "bid price 0.87968287240877\n",
      "bid participation {0: 0, 3: 1, 7: 1}\n",
      "bid price 1.0189837066967915\n",
      "bid participation {0: 0, 3: 1, 7: 1}\n",
      "winning bidder [<__main__.Bidder object at 0x7f88993e8d60>]\n",
      "auction winner is\n",
      "[[3, 1], [7, 2]]\n",
      "auction winner is\n",
      "[[3, 1], [7, 2]]\n",
      "auction winner is\n",
      "bid wins is: {0: 0, 3: 1, 7: 1}\n",
      "[[3, 1], [7, 2]]\n"
     ]
    }
   ],
   "source": [
    "auction.execute_round()"
   ]
  },
  {
   "cell_type": "code",
   "execution_count": 33,
   "id": "27546553-6123-4a24-98b8-52d9644b1b2e",
   "metadata": {},
   "outputs": [
    {
     "name": "stdout",
     "output_type": "stream",
     "text": [
      "bid wins {0: 0}\n",
      "bid wins {0: 0}\n",
      "bid wins {0: 0}\n",
      "[(<__main__.User object at 0x7f88a91a6520>, 140224929359136, 0.3355215096112506)]\n",
      "bid price 0.2381210908608076\n",
      "bid participation {0: 1}\n",
      "bid price 0.44052671727385373\n",
      "bid participation {0: 1}\n",
      "bid price 0.5039821033303621\n",
      "bid participation {0: 1}\n",
      "winning bidder [<__main__.Bidder object at 0x7f88993e8340>]\n",
      "auction winner is\n",
      "[[0, 1]]\n",
      "auction winner is\n",
      "[[0, 1]]\n",
      "auction winner is\n",
      "bid wins is: {0: 1}\n",
      "user clicks {0: 1}\n",
      "Smart 140224663290688 won round; User 0 clicked\n",
      "[[0, 1]]\n"
     ]
    }
   ],
   "source": [
    "b1, b2, b3 = Bidder(1,10), Bidder(1,10), Bidder(1,10)\n",
    "auction = Auction( [User()], [b1, b2, b3])\n",
    "auction.execute_round()"
   ]
  },
  {
   "cell_type": "code",
   "execution_count": 34,
   "id": "29188f71-f110-4534-915b-ee2e5bdaea24",
   "metadata": {},
   "outputs": [
    {
     "name": "stdout",
     "output_type": "stream",
     "text": [
      "bid price 0.3381210908608076\n",
      "bid participation {0: 1, 140421139041440: 1}\n",
      "b1 bid is:  0.3381210908608076\n",
      "bid price 0.5405267172738537\n",
      "bid participation {0: 1, 140421139041440: 1}\n",
      "b2 bid is:  0.5405267172738537\n",
      "bid price 0.6039821033303621\n",
      "bid participation {0: 1, 140421139041440: 1}\n",
      "b3 bid is:  0.6039821033303621\n"
     ]
    }
   ],
   "source": [
    "print('b1 bid is: ', b1.bid(0x7fb6581c8ca0))\n",
    "print('b2 bid is: ', b2.bid(0x7fb6581c8ca0))\n",
    "print('b3 bid is: ', b3.bid(0x7fb6581c8ca0))"
   ]
  },
  {
   "cell_type": "code",
   "execution_count": 35,
   "id": "a9adf072-7da3-4bd3-9dfc-c9a17b4c90df",
   "metadata": {},
   "outputs": [
    {
     "data": {
      "text/plain": [
       "140224663290976"
      ]
     },
     "execution_count": 35,
     "metadata": {},
     "output_type": "execute_result"
    }
   ],
   "source": [
    "u1 = User()\n",
    "id(u1)"
   ]
  },
  {
   "cell_type": "code",
   "execution_count": 36,
   "id": "27429fac-a583-4489-a803-96af4e497ce4",
   "metadata": {},
   "outputs": [
    {
     "data": {
      "text/plain": [
       "{0: 0, 1: 0, 2: 0, 3: 0, 4: 0, 5: 0, 6: 0, 7: 0, 8: 0, 9: 0}"
      ]
     },
     "execution_count": 36,
     "metadata": {},
     "output_type": "execute_result"
    }
   ],
   "source": [
    "user_wins = {i: 0 for i in range(10)}\n",
    "user_wins"
   ]
  },
  {
   "cell_type": "code",
   "execution_count": 5,
   "id": "6745a1f1-a152-49af-8153-c58c7aa72076",
   "metadata": {
    "collapsed": true,
    "jupyter": {
     "outputs_hidden": true
    },
    "tags": []
   },
   "outputs": [
    {
     "name": "stdout",
     "output_type": "stream",
     "text": [
      "winning bidder [<__main__.Bidder object at 0x7fb6580d5df0>]\n",
      "winning bidder [<__main__.Bidder object at 0x7fb6580d5df0>]\n",
      "winning bidder [<__main__.Bidder object at 0x7fb6580d5df0>]\n",
      "winning bidder [<__main__.Bidder object at 0x7fb6580d5df0>]\n",
      "winning bidder [<__main__.Bidder object at 0x7fb6580d5df0>]\n",
      "winning bidder [<__main__.Bidder object at 0x7fb6580d5df0>]\n",
      "winning bidder [<__main__.Bidder object at 0x7fb6580d5df0>]\n",
      "winning bidder [<__main__.Bidder object at 0x7fb6580d5df0>]\n",
      "winning bidder [<__main__.Bidder object at 0x7fb6580d5df0>]\n",
      "winning bidder [<__main__.Bidder object at 0x7fb6580d5df0>]\n",
      "winning bidder [<__main__.Bidder object at 0x7fb6580d5df0>]\n",
      "winning bidder [<__main__.Bidder object at 0x7fb6580d5df0>]\n",
      "winning bidder [<__main__.Bidder object at 0x7fb6580d5df0>]\n",
      "winning bidder [<__main__.Bidder object at 0x7fb6580d5df0>]\n",
      "winning bidder [<__main__.Bidder object at 0x7fb6580d5df0>]\n",
      "winning bidder [<__main__.Bidder object at 0x7fb6580d5df0>]\n",
      "winning bidder [<__main__.Bidder object at 0x7fb6580d5df0>]\n",
      "winning bidder [<__main__.Bidder object at 0x7fb6580d5df0>]\n",
      "winning bidder [<__main__.Bidder object at 0x7fb6580d5df0>]\n",
      "winning bidder [<__main__.Bidder object at 0x7fb6580d5df0>]\n",
      "winning bidder [<__main__.Bidder object at 0x7fb6580d5df0>]\n",
      "winning bidder [<__main__.Bidder object at 0x7fb6580d5df0>]\n",
      "winning bidder [<__main__.Bidder object at 0x7fb6580d5df0>]\n",
      "winning bidder [<__main__.Bidder object at 0x7fb6580d5df0>]\n",
      "winning bidder [<__main__.Bidder object at 0x7fb6580d5df0>]\n",
      "winning bidder [<__main__.Bidder object at 0x7fb6580d5df0>]\n",
      "winning bidder [<__main__.Bidder object at 0x7fb6580d5df0>]\n",
      "winning bidder [<__main__.Bidder object at 0x7fb6580d5df0>]\n",
      "winning bidder [<__main__.Bidder object at 0x7fb6580d5df0>]\n",
      "winning bidder [<__main__.Bidder object at 0x7fb6580d5df0>]\n",
      "winning bidder [<__main__.Bidder object at 0x7fb6580d5df0>]\n",
      "winning bidder [<__main__.Bidder object at 0x7fb6580d5df0>]\n",
      "winning bidder [<__main__.Bidder object at 0x7fb6580d5df0>]\n",
      "winning bidder [<__main__.Bidder object at 0x7fb6580d5df0>]\n",
      "winning bidder [<__main__.Bidder object at 0x7fb6580d5df0>]\n",
      "winning bidder [<__main__.Bidder object at 0x7fb6580d5df0>]\n",
      "winning bidder [<__main__.Bidder object at 0x7fb6580d5df0>]\n",
      "winning bidder [<__main__.Bidder object at 0x7fb6580d5df0>]\n",
      "winning bidder [<__main__.Bidder object at 0x7fb6580d5df0>]\n",
      "winning bidder [<__main__.Bidder object at 0x7fb6580d5df0>]\n",
      "winning bidder [<__main__.Bidder object at 0x7fb6580d5df0>]\n",
      "winning bidder [<__main__.Bidder object at 0x7fb6580d5df0>]\n",
      "winning bidder [<__main__.Bidder object at 0x7fb6580d5df0>]\n",
      "winning bidder [<__main__.Bidder object at 0x7fb6580d5df0>]\n",
      "winning bidder [<__main__.Bidder object at 0x7fb6580d5df0>]\n",
      "winning bidder [<__main__.Bidder object at 0x7fb6580d5df0>]\n",
      "winning bidder [<__main__.Bidder object at 0x7fb6580d5df0>]\n",
      "winning bidder [<__main__.Bidder object at 0x7fb6580d5df0>]\n",
      "winning bidder [<__main__.Bidder object at 0x7fb6580d5df0>]\n",
      "winning bidder [<__main__.Bidder object at 0x7fb6580d5df0>]\n"
     ]
    },
    {
     "data": {
      "text/plain": [
       "[None,\n",
       " None,\n",
       " None,\n",
       " None,\n",
       " None,\n",
       " None,\n",
       " None,\n",
       " None,\n",
       " None,\n",
       " None,\n",
       " None,\n",
       " None,\n",
       " None,\n",
       " None,\n",
       " None,\n",
       " None,\n",
       " None,\n",
       " None,\n",
       " None,\n",
       " None,\n",
       " None,\n",
       " None,\n",
       " None,\n",
       " None,\n",
       " None,\n",
       " None,\n",
       " None,\n",
       " None,\n",
       " None,\n",
       " None,\n",
       " None,\n",
       " None,\n",
       " None,\n",
       " None,\n",
       " None,\n",
       " None,\n",
       " None,\n",
       " None,\n",
       " None,\n",
       " None,\n",
       " None,\n",
       " None,\n",
       " None,\n",
       " None,\n",
       " None,\n",
       " None,\n",
       " None,\n",
       " None,\n",
       " None,\n",
       " None]"
      ]
     },
     "execution_count": 5,
     "metadata": {},
     "output_type": "execute_result"
    }
   ],
   "source": [
    "b1 = Bidder(1,10)\n",
    "auction = Auction( [User()], [b1])\n",
    "[auction.execute_round() for i in range(50)]"
   ]
  },
  {
   "cell_type": "code",
   "execution_count": 47,
   "id": "c2f2e265-9421-4424-a942-34d541016dc8",
   "metadata": {},
   "outputs": [
    {
     "data": {
      "text/plain": [
       "840"
      ]
     },
     "execution_count": 47,
     "metadata": {},
     "output_type": "execute_result"
    }
   ],
   "source": [
    "lis=[(840, 32), (841, 3), (842, 4), (843, 4), (844, 6), (845, 6), (846, 12), (847, 6), (848, 10), (849, 4)]\n",
    "\n",
    "max(lis, key=lambda x:x[1])[0]"
   ]
  },
  {
   "cell_type": "code",
   "execution_count": 45,
   "id": "01503607-335d-4878-a405-077becffa081",
   "metadata": {},
   "outputs": [
    {
     "name": "stdout",
     "output_type": "stream",
     "text": [
      "{'A': 1, 'C': 1, 'D': 1, 'E': 2, 'F': 1, 'G': 1, 'H': 1, 'I': 1, 'K': 1, 'L': 1, 'M': 1, 'N': 1, 'P': 1, 'Q': 1, 'R': 1, 'S': 1, 'T': 1, 'V': 1, 'W': 1, 'Y': 1, 'Z': 2}\n"
     ]
    }
   ],
   "source": [
    "count_dict = {} \n",
    "\n",
    "aa_list = ['A', 'C', 'D', 'E' ,'E', 'F' ,'G' ,'H' ,'I' ,'K' ,'L' ,\n",
    "       'M' ,'N' ,'P' ,'Q' ,'R' ,'S' ,'T' ,'V' ,'W' ,'Y', 'Z', 'Z']\n",
    "\n",
    "for element in aa_list:\n",
    "    count_dict[element]=(count_dict).get(element,0)+1\n",
    "\n",
    "print (count_dict)"
   ]
  },
  {
   "cell_type": "code",
   "execution_count": null,
   "id": "f2f97964-d130-4682-ad84-531c586c15b7",
   "metadata": {},
   "outputs": [],
   "source": []
  }
 ],
 "metadata": {
  "kernelspec": {
   "display_name": "Python 3 (ipykernel)",
   "language": "python",
   "name": "python3"
  },
  "language_info": {
   "codemirror_mode": {
    "name": "ipython",
    "version": 3
   },
   "file_extension": ".py",
   "mimetype": "text/x-python",
   "name": "python",
   "nbconvert_exporter": "python",
   "pygments_lexer": "ipython3",
   "version": "3.9.12"
  }
 },
 "nbformat": 4,
 "nbformat_minor": 5
}
