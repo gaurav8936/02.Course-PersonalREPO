{
 "cells": [
  {
   "cell_type": "markdown",
   "id": "ada87035-103d-4c1c-8f48-fd11f548480b",
   "metadata": {},
   "source": [
    "# Restarting"
   ]
  },
  {
   "cell_type": "code",
   "execution_count": 6,
   "id": "1b768ada-7452-4fe3-99ed-c4af81114e14",
   "metadata": {},
   "outputs": [],
   "source": [
    "import numpy as np\n",
    "import random\n",
    "\n",
    "class User:\n",
    "    def __init__(self):\n",
    "        self.probability2 = random.uniform(0, 1)\n",
    "\n",
    "    def show_ad(self):\n",
    "        return  np.random.choice((True, False), p = [self.probability2, 1-self.probability2])\n",
    "\n",
    "class Auction:\n",
    "    \n",
    "    auction_history = [] # for the auction exchange only\n",
    "    \n",
    "    def __init__(self, users, bidders):\n",
    "        self.users = users\n",
    "        self.bidders = bidders\n",
    "        self.balances = {bidder: 0 for bidder in bidders}\n",
    "        \n",
    "    def execute_round(self):\n",
    "        chosen_user = random.randint(0, len(self.users))\n",
    "        bids_dict = {}\n",
    "        bids_list = []\n",
    "\n",
    "        # 2. COLLECT BIDS (send to all bidders) --------------------------------------------\n",
    "        for bidder in self.bidders:\n",
    "            if self.balances[bidder] > -1000:\n",
    "                bids_dict[bidder] = bidder.bid(chosen_user)\n",
    "                self.auction_history.append((id(bids_dict[bidder]), bids_dict[bidder])) #bidder\n",
    "                highest_bid = 0\n",
    "                winning_price = 0\n",
    "            else:\n",
    "                raise Exception(\"Bidder's balance is less than -1000. Cannot continue bid\")\n",
    "                continue\n",
    "\n",
    "        \n",
    "        # 3. DETERMINE WINNING BID --------------------------------------------\n",
    "        for bidder, bid_value in bids_dict.items():\n",
    "            bids_list.append((id(bidder), bid_value))\n",
    "        \n",
    "        print('bids list', bids_list, '\\n','-'*100)\n",
    "        \n",
    "        ###### SORT THE Bids List based on price ##############\n",
    "        sorted_list = sorted(bids_list, key=lambda t:t[1])\n",
    "        print('sorted bids list', sorted_list, '\\n','-'*100 )\n",
    "        \n",
    "        ####### Select second highest price ###################\n",
    "        if len(sorted_list) > 1:\n",
    "            winning_price = (sorted_list)[-2][1]\n",
    "        else:\n",
    "            winning_price = (sorted_list)[0][-1]\n",
    "\n",
    "        print('winning price', winning_price, '\\n','-'*100)\n",
    "\n",
    "        winning_bidders = [] #list only if there is a tie\n",
    "        winning_bidders.append(bidder)\n",
    "        print('list of winning bidders', id(winning_bidders),'\\n','-'*100 )\n",
    "        if len(winning_bidders)>1:\n",
    "            winning_bidder = winning_bidders[random.randint(0, len(winning_bidders))]\n",
    "        else: winning_bidder = winning_bidders[0]\n",
    "        print('winning bidder', id(bidder), '\\n','-'*100)\n",
    "        \n",
    "        # 4. SHOW AD to USER --------------------------------------------\n",
    "        ad_result = self.users[chosen_user].show_ad()\n",
    "    \n",
    "        # 5. USER CLICKS? --------------------------------------------\n",
    "        \n",
    "        for bidder in self.bidders:\n",
    "            if bidder == winning_bidder:\n",
    "                bidder.notify(True, winning_price, ad_result)\n",
    "                self.balances[bidder] -= winning_price\n",
    "                if ad_result:\n",
    "                    self.balances[bidder] += 1\n",
    "#                print('balances-inside 5', self.balances,'\\n','-'*100)\n",
    "            else:\n",
    "                bidder.notify(False, winning_price, None)\n",
    "        print('balances at end of bidding round', self.balances,'\\n','-'*100)\n",
    "\n",
    "class Bidder:\n",
    "    \n",
    "    #### maintain account balance here as well\n",
    "\n",
    "    # BIDDER CREATION -------------- initiated by GAME runner / Developer ------------------------\n",
    "    \n",
    "    def __init__(self, num_users, num_rounds):\n",
    "\n",
    "        self.num_users = num_users\n",
    "        self.num_rounds = num_rounds\n",
    "        self.bidding_round = 0\n",
    "\n",
    "        self.bid_y_n = True\n",
    "        self.bid_participate = {i: 0 for i in range(num_users)} #whether bidder bids or not (USER: BID COUNT)\n",
    "        self.bid_wins = {i: 0 for i in range(num_users)} # if bidder wins\n",
    "        #print('bid wins', self.bid_wins)\n",
    "        self.bid_win_user_clicks = {i: 0 for i in range(num_users)} # if user clicks\n",
    "        \n",
    "        self.default_bid_price = random.uniform(0, 1)\n",
    "        \n",
    "        #Transaction records\n",
    "        self.bid_participate_history = [] # maintains bidderid, userid, bidding round, bid price\n",
    "        self.bid_win_history = []\n",
    "        self.bid_win_user_click_history = []\n",
    "        \n",
    "        ############\n",
    "        #? Winning bid price / user (because you get notified of winning bids) -- \n",
    "        ###### you know the user and winning bid (just not the click result)\n",
    "        \n",
    "    # SUBMIT BID  ------------ initiated by auction ------------------------------------\n",
    "    \n",
    "    def bid(self, user_id):\n",
    "        self.bidding_round += 1\n",
    "        #self.bid_participate = 0\n",
    "        self.user_id = user_id\n",
    "        #bid_price = self.default_bid_price + (self.bidding_round)*0.1\n",
    "        bid_price = 0.5\n",
    "        self.bid_participate[self.user_id] = (self.bid_participate).get(self.user_id, 0)+1\n",
    "        self.bid_participate_history.append([id(self), self.user_id, self.bidding_round, bid_price])\n",
    "        return bid_price\n",
    "    \n",
    "    def bid_strategy(self):\n",
    "        pass\n",
    "    \n",
    "    # NOTIFIED OF BID OUTCOME ------------ initiated by auction ------------------------------------\n",
    "    \n",
    "    def notify(self, auction_winner, price, clicked):\n",
    "        bid_y_n_won = 0\n",
    "        if auction_winner:\n",
    "            #self.bid_participate_history.append([self.user_id, bid_y_n_won+1])\n",
    "            self.bid_win_history.append([self.user_id, bid_y_n_won+1])\n",
    "            self.bid_wins[self.user_id] = (self.bid_wins).get(self.user_id, 0)+1\n",
    "            \n",
    "            if clicked:\n",
    "                self.bid_win_user_clicks[self.user_id] = (self.bid_win_user_clicks).get(self.user_id, 0)+1\n",
    "                self.bid_win_user_click_history.append([self.user_id, self.bidding_round])\n",
    "    \n",
    "                # print('user clicks', self.bid_win_user_clicks)\n",
    "                # print(\n",
    "                #     f\"Smart {id(self)} won round; User {self.user_id}\"\n",
    "                #     f\" clicked\"\n",
    "                # )\n",
    "        else:\n",
    "            pass"
   ]
  },
  {
   "cell_type": "code",
   "execution_count": null,
   "id": "5d16e238-bc64-4647-8167-b4fd71977dd6",
   "metadata": {},
   "outputs": [],
   "source": [
    "auction.balances"
   ]
  },
  {
   "cell_type": "code",
   "execution_count": 7,
   "id": "b2fa1421-6745-43a5-9c0b-5a4112f8d9dc",
   "metadata": {},
   "outputs": [
    {
     "name": "stdout",
     "output_type": "stream",
     "text": [
      "bids list [(140297939654064, 0.5), (140297940024864, 0.5), (140297940023904, 0.5)] \n",
      " ----------------------------------------------------------------------------------------------------\n",
      "sorted bids list [(140297939654064, 0.5), (140297940024864, 0.5), (140297940023904, 0.5)] \n",
      " ----------------------------------------------------------------------------------------------------\n",
      "winning price 0.5 \n",
      " ----------------------------------------------------------------------------------------------------\n",
      "list of winning bidders 140296985810752 \n",
      " ----------------------------------------------------------------------------------------------------\n",
      "winning bidder 140297940023904 \n",
      " ----------------------------------------------------------------------------------------------------\n",
      "balances at end of bidding round {<__main__.Bidder object at 0x7f99a8db15b0>: 0, <__main__.Bidder object at 0x7f99a8e0be20>: 0, <__main__.Bidder object at 0x7f99a8e0ba60>: -0.5} \n",
      " ----------------------------------------------------------------------------------------------------\n"
     ]
    }
   ],
   "source": [
    "b1, b2, b3 = Bidder(1,10), Bidder(1,10), Bidder(1,10)\n",
    "auction = Auction( [User()for i in range(10)], [b1, b2, b3])\n",
    "#auction = Auction( [User(), User()], [b1, b2, b3])\n",
    "\n",
    "auction.execute_round()\n",
    "# auction.execute_round()\n",
    "# auction.execute_round()\n",
    "# auction.execute_round()"
   ]
  },
  {
   "cell_type": "code",
   "execution_count": 3,
   "id": "aea13a2f-7928-4e08-8240-83c9b677fb46",
   "metadata": {},
   "outputs": [
    {
     "name": "stdout",
     "output_type": "stream",
     "text": [
      "bids list [(140297940042944, 0.5), (140297939980592, 0.5), (140297939980640, 0.5)] \n",
      " ----------------------------------------------------------------------------------------------------\n",
      "sorted bids list [(140297940042944, 0.5), (140297939980592, 0.5), (140297939980640, 0.5)] \n",
      " ----------------------------------------------------------------------------------------------------\n",
      "winning price 0.5 \n",
      " ----------------------------------------------------------------------------------------------------\n",
      "winning bidder 140297939980640 \n",
      " ----------------------------------------------------------------------------------------------------\n",
      "balances at end of bidding round {<__main__.Bidder object at 0x7f99a8e104c0>: 0, <__main__.Bidder object at 0x7f99a8e01130>: 0, <__main__.Bidder object at 0x7f99a8e01160>: -1.0} \n",
      " ----------------------------------------------------------------------------------------------------\n"
     ]
    }
   ],
   "source": [
    "auction.execute_round()"
   ]
  },
  {
   "cell_type": "code",
   "execution_count": null,
   "id": "585d393c-8c72-45de-be2c-e2e45016ff47",
   "metadata": {},
   "outputs": [],
   "source": [
    "b1.bid_participate_history #bidderid, userid, bidding round, bid price"
   ]
  },
  {
   "cell_type": "code",
   "execution_count": null,
   "id": "eabddcd7-f415-4b05-bd1b-b627da5736e6",
   "metadata": {},
   "outputs": [],
   "source": [
    "b2.bid_participate_history #bidderid, userid, bidding round, bid price"
   ]
  },
  {
   "cell_type": "code",
   "execution_count": null,
   "id": "3feb9e63-9eef-4821-9528-a3642e0382fa",
   "metadata": {},
   "outputs": [],
   "source": [
    "b3.bid_participate_history #bidderid, userid, bidding round, bid price"
   ]
  },
  {
   "cell_type": "code",
   "execution_count": null,
   "id": "a46458fe-0a5d-4a3a-a42d-92854e105f07",
   "metadata": {},
   "outputs": [],
   "source": [
    "[auction.execute_round() for i in range(10)]"
   ]
  },
  {
   "cell_type": "code",
   "execution_count": null,
   "id": "27546553-6123-4a24-98b8-52d9644b1b2e",
   "metadata": {},
   "outputs": [],
   "source": [
    "b1, b2, b3 = Bidder(1,10), Bidder(1,10), Bidder(1,10)\n",
    "auction = Auction( [User()], [b1, b2, b3])\n",
    "auction.execute_round()"
   ]
  },
  {
   "cell_type": "code",
   "execution_count": null,
   "id": "29188f71-f110-4534-915b-ee2e5bdaea24",
   "metadata": {},
   "outputs": [],
   "source": [
    "print('b1 bid is: ', b1.bid(0x7fb6581c8ca0))\n",
    "print('b2 bid is: ', b2.bid(0x7fb6581c8ca0))\n",
    "print('b3 bid is: ', b3.bid(0x7fb6581c8ca0))"
   ]
  },
  {
   "cell_type": "code",
   "execution_count": null,
   "id": "a9adf072-7da3-4bd3-9dfc-c9a17b4c90df",
   "metadata": {},
   "outputs": [],
   "source": [
    "u1 = User()\n",
    "id(u1)"
   ]
  },
  {
   "cell_type": "code",
   "execution_count": null,
   "id": "27429fac-a583-4489-a803-96af4e497ce4",
   "metadata": {},
   "outputs": [],
   "source": [
    "user_wins = {i: 0 for i in range(10)}\n",
    "user_wins"
   ]
  },
  {
   "cell_type": "code",
   "execution_count": null,
   "id": "f2f97964-d130-4682-ad84-531c586c15b7",
   "metadata": {},
   "outputs": [],
   "source": []
  }
 ],
 "metadata": {
  "kernelspec": {
   "display_name": "Python 3 (ipykernel)",
   "language": "python",
   "name": "python3"
  },
  "language_info": {
   "codemirror_mode": {
    "name": "ipython",
    "version": 3
   },
   "file_extension": ".py",
   "mimetype": "text/x-python",
   "name": "python",
   "nbconvert_exporter": "python",
   "pygments_lexer": "ipython3",
   "version": "3.9.12"
  }
 },
 "nbformat": 4,
 "nbformat_minor": 5
}
