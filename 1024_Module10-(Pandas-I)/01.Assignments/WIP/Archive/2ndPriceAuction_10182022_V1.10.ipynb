{
 "cells": [
  {
   "cell_type": "markdown",
   "id": "2de53388-4669-4db4-b143-91d51ec4af4d",
   "metadata": {},
   "source": [
    "# 2nd Price Auction"
   ]
  },
  {
   "cell_type": "code",
   "execution_count": 67,
   "id": "543542a3-cdae-4ea7-a514-568430458740",
   "metadata": {},
   "outputs": [],
   "source": [
    "import numpy as np\n",
    "import matplotlib.pyplot as plt\n",
    "import random\n",
    "\n",
    "class User:\n",
    "\n",
    "    def __init__(self): #, auction):\n",
    "        self.__probability = np.random.uniform()\n",
    "#        self.auction = auction\n",
    "        self.user_id = random.sample(range(100), 1)  #range(600000, 7000000\n",
    "        \n",
    "    def __repr__(self):\n",
    "        return \"The secret probability of this user is \" + str(self.__probability)\n",
    "\n",
    "    def __str__(self):\n",
    "        return \"The secret probability of this user is \" + str(self.__probability)\n",
    "    \n",
    "    def show_ad(self):\n",
    "        return np.random.choice((True, False), p = [self.__probability, 1-self.__probability])\n",
    "\n",
    "    \n",
    "#######################################################################################    \n",
    "class Bidder:\n",
    "\n",
    "    def __init__(self, num_users, num_rounds):\n",
    "        self.num_users = num_users\n",
    "        self.num_rounds = num_rounds\n",
    "#        self.current_user = current_user\n",
    "        self.users = users\n",
    "#        self.user = user\n",
    "        self.user_id = user.user_id\n",
    "\n",
    "\n",
    "    def select_user(self, users):\n",
    "#        self.user_id = user.user_id\n",
    "#        self.users = users\n",
    "#        chosen = np.random.randint(0, num_users)\n",
    "        chosen = self.user_id\n",
    "        return chosen\n",
    "#        return self.users[chosen].user_id\n",
    "    \n",
    "    def __repr__(self):\n",
    "        return \"This is a placeholder auction with 10 bidders and 10 users\"\n",
    "\n",
    "    def __str__(self):\n",
    "        return \"This is a placeholder auction with 10 bidders and 10 users\"\n",
    "\n",
    "    def bid(self, user_id):\n",
    "        # chosen = np.random.randint(0, len(num_users))\n",
    "        # return self.user[chosen].show_ad()\n",
    "        pass\n",
    "        \n",
    "    def notify(self, auction_winner, price, clicked):\n",
    "        pass\n",
    "\n",
    "\n",
    "#######################################################################################\n",
    "class Auction:\n",
    "\n",
    "    def __init__(self, users, bidders):\n",
    "        pass\n",
    "\n",
    "    def __repr__(self):\n",
    "        return \"This is a placeholder auction with 10 bidders and 10 users\"\n",
    "\n",
    "    def __str__(self):\n",
    "        return \"This is a placeholder auction with 10 bidders and 10 users\"\n",
    "\n",
    "    def execute_round(self):\n",
    "        pass"
   ]
  },
  {
   "cell_type": "markdown",
   "id": "fd6113e9-8f86-4c3b-88b5-f1c23ab80461",
   "metadata": {},
   "source": [
    "---"
   ]
  },
  {
   "cell_type": "markdown",
   "id": "8b2dd0bc-2885-4feb-9c36-f71d8d6eb7ed",
   "metadata": {},
   "source": [
    "---"
   ]
  },
  {
   "cell_type": "code",
   "execution_count": 68,
   "id": "b3f826e8-779a-43bc-b444-b285635b2fd0",
   "metadata": {},
   "outputs": [
    {
     "name": "stdout",
     "output_type": "stream",
     "text": [
      "The secret probability of this user is 0.25591257194459394\n",
      "[32]\n"
     ]
    }
   ],
   "source": [
    "user = User()\n",
    "print(user)\n",
    "print(user.user_id)"
   ]
  },
  {
   "cell_type": "code",
   "execution_count": 69,
   "id": "8fcfeea4-56a9-46e9-aee6-0abfa243e759",
   "metadata": {},
   "outputs": [
    {
     "name": "stdout",
     "output_type": "stream",
     "text": [
      "[The secret probability of this user is 0.06746087749532892, The secret probability of this user is 0.3786574582749139, The secret probability of this user is 0.46862676140630777, The secret probability of this user is 0.09841858974347883, The secret probability of this user is 0.918638157518802, The secret probability of this user is 0.01201059957941919, The secret probability of this user is 0.6226792603054657, The secret probability of this user is 0.593889865075646, The secret probability of this user is 0.16120921475188166, The secret probability of this user is 0.1976459523765961]\n",
      "[22]\n"
     ]
    }
   ],
   "source": [
    "users = [User() for i in range(10)]\n",
    "print(users)\n",
    "print(users[1].user_id)"
   ]
  },
  {
   "cell_type": "code",
   "execution_count": 70,
   "id": "b6848510-d976-43f9-808f-b6b78a5900b8",
   "metadata": {},
   "outputs": [
    {
     "data": {
      "text/plain": [
       "10"
      ]
     },
     "execution_count": 70,
     "metadata": {},
     "output_type": "execute_result"
    }
   ],
   "source": [
    "len(users)"
   ]
  },
  {
   "cell_type": "code",
   "execution_count": 71,
   "id": "fd11ef7a-898d-434d-9244-0a723015eada",
   "metadata": {},
   "outputs": [
    {
     "data": {
      "text/plain": [
       "{'num_users': 10,\n",
       " 'num_rounds': 10,\n",
       " 'users': [The secret probability of this user is 0.06746087749532892,\n",
       "  The secret probability of this user is 0.3786574582749139,\n",
       "  The secret probability of this user is 0.46862676140630777,\n",
       "  The secret probability of this user is 0.09841858974347883,\n",
       "  The secret probability of this user is 0.918638157518802,\n",
       "  The secret probability of this user is 0.01201059957941919,\n",
       "  The secret probability of this user is 0.6226792603054657,\n",
       "  The secret probability of this user is 0.593889865075646,\n",
       "  The secret probability of this user is 0.16120921475188166,\n",
       "  The secret probability of this user is 0.1976459523765961],\n",
       " 'user_id': [32]}"
      ]
     },
     "execution_count": 71,
     "metadata": {},
     "output_type": "execute_result"
    }
   ],
   "source": [
    "bidder = Bidder(10,10)\n",
    "bidder.__dict__"
   ]
  },
  {
   "cell_type": "code",
   "execution_count": 72,
   "id": "367b20b1-077e-410a-90c9-8f2a8abe37e9",
   "metadata": {},
   "outputs": [
    {
     "data": {
      "text/plain": [
       "[32]"
      ]
     },
     "execution_count": 72,
     "metadata": {},
     "output_type": "execute_result"
    }
   ],
   "source": [
    "bidder.user_id"
   ]
  },
  {
   "cell_type": "code",
   "execution_count": 73,
   "id": "11ef5488-738a-4700-84c4-1cf5f9335d98",
   "metadata": {},
   "outputs": [
    {
     "data": {
      "text/plain": [
       "[32]"
      ]
     },
     "execution_count": 73,
     "metadata": {},
     "output_type": "execute_result"
    }
   ],
   "source": [
    "bidder.select_user(users)"
   ]
  },
  {
   "cell_type": "markdown",
   "id": "5d72d1d4-c0e4-454c-a6e4-b7315396f57e",
   "metadata": {},
   "source": [
    "---"
   ]
  },
  {
   "cell_type": "code",
   "execution_count": null,
   "id": "b00869e0-e6e3-4916-8e1e-04d48b28799e",
   "metadata": {},
   "outputs": [],
   "source": []
  },
  {
   "cell_type": "code",
   "execution_count": 111,
   "id": "2ae4b0d1-3996-4ac5-bc55-c7fdd1439509",
   "metadata": {},
   "outputs": [],
   "source": [
    "user = [User() for i in range(10)]"
   ]
  },
  {
   "cell_type": "code",
   "execution_count": 113,
   "id": "b85914d2-49a1-47e2-a191-402d1b205b8f",
   "metadata": {
    "tags": []
   },
   "outputs": [
    {
     "data": {
      "text/plain": [
       "[The secret probability of this user is 0.7600109556871645,\n",
       " The secret probability of this user is 0.37854355760546565,\n",
       " The secret probability of this user is 0.5549672088687017,\n",
       " The secret probability of this user is 0.35098286252072997,\n",
       " The secret probability of this user is 0.7728947234815003,\n",
       " The secret probability of this user is 0.9214487034017462,\n",
       " The secret probability of this user is 0.5893665194740518,\n",
       " The secret probability of this user is 0.3563532008755165,\n",
       " The secret probability of this user is 0.7974510527142373,\n",
       " The secret probability of this user is 0.3606121809489833]"
      ]
     },
     "execution_count": 113,
     "metadata": {},
     "output_type": "execute_result"
    }
   ],
   "source": [
    "user"
   ]
  },
  {
   "cell_type": "code",
   "execution_count": 114,
   "id": "52bf1d81-12e0-4585-b472-22d9ce66e5fe",
   "metadata": {},
   "outputs": [
    {
     "ename": "AttributeError",
     "evalue": "'list' object has no attribute 'user_id'",
     "output_type": "error",
     "traceback": [
      "\u001b[0;31m---------------------------------------------------------------------------\u001b[0m",
      "\u001b[0;31mAttributeError\u001b[0m                            Traceback (most recent call last)",
      "Input \u001b[0;32mIn [114]\u001b[0m, in \u001b[0;36m<cell line: 1>\u001b[0;34m()\u001b[0m\n\u001b[0;32m----> 1\u001b[0m \u001b[43muser\u001b[49m\u001b[38;5;241;43m.\u001b[39;49m\u001b[43muser_id\u001b[49m\n",
      "\u001b[0;31mAttributeError\u001b[0m: 'list' object has no attribute 'user_id'"
     ]
    }
   ],
   "source": [
    "user.user_id"
   ]
  },
  {
   "cell_type": "code",
   "execution_count": 100,
   "id": "4cabe02e-6c8c-47f9-9842-a6160aabe5de",
   "metadata": {},
   "outputs": [
    {
     "data": {
      "text/plain": [
       "The secret probability of this user is 0.4378947687373598"
      ]
     },
     "execution_count": 100,
     "metadata": {},
     "output_type": "execute_result"
    }
   ],
   "source": [
    "current_user = User()\n",
    "current_user"
   ]
  },
  {
   "cell_type": "code",
   "execution_count": 66,
   "id": "70aa3f2d-0423-446a-a26a-4897b9366d19",
   "metadata": {
    "collapsed": true,
    "jupyter": {
     "outputs_hidden": true,
     "source_hidden": true
    },
    "tags": []
   },
   "outputs": [
    {
     "data": {
      "text/plain": [
       "[The secret probability of this user is 0.9175284204772322,\n",
       " The secret probability of this user is 0.4783559631451796,\n",
       " The secret probability of this user is 0.4157846424375258,\n",
       " The secret probability of this user is 0.9056182460879907,\n",
       " The secret probability of this user is 0.49282132344940954,\n",
       " The secret probability of this user is 0.1002877853688473,\n",
       " The secret probability of this user is 0.42654022483180454,\n",
       " The secret probability of this user is 0.8240189741712783,\n",
       " The secret probability of this user is 0.724775293550332,\n",
       " The secret probability of this user is 0.34708614561352114]"
      ]
     },
     "execution_count": 66,
     "metadata": {},
     "output_type": "execute_result"
    }
   ],
   "source": [
    "user = [User() for i in range(10)]\n",
    "user"
   ]
  },
  {
   "cell_type": "code",
   "execution_count": 83,
   "id": "695fd4a7-42e6-4765-a2b2-d3a63e447e7d",
   "metadata": {},
   "outputs": [
    {
     "data": {
      "text/plain": [
       "[98, 95, 21, 23, 48, 91, 52, 69, 75, 16]"
      ]
     },
     "execution_count": 83,
     "metadata": {},
     "output_type": "execute_result"
    }
   ],
   "source": [
    "user[1].user_id"
   ]
  },
  {
   "cell_type": "code",
   "execution_count": 75,
   "id": "78a87730-efdd-4c6c-b8fc-e7d2582c6cfa",
   "metadata": {},
   "outputs": [
    {
     "name": "stdout",
     "output_type": "stream",
     "text": [
      "The secret probability of this user is 0.9878152378679649\n"
     ]
    }
   ],
   "source": [
    "print(current_user)"
   ]
  },
  {
   "cell_type": "code",
   "execution_count": 84,
   "id": "0e87929e-e6e1-472d-af17-3648a64c593c",
   "metadata": {},
   "outputs": [],
   "source": [
    "bidder = Bidder(10, 10)"
   ]
  },
  {
   "cell_type": "code",
   "execution_count": 70,
   "id": "0b5ab58c-43ed-452f-9bb2-08c7365f79ee",
   "metadata": {},
   "outputs": [
    {
     "data": {
      "text/plain": [
       "This is a placeholder auction with 10 bidders and 10 users"
      ]
     },
     "execution_count": 70,
     "metadata": {},
     "output_type": "execute_result"
    }
   ],
   "source": [
    "bidder"
   ]
  },
  {
   "cell_type": "code",
   "execution_count": 85,
   "id": "2dc37fa8-2dde-444d-afa1-e4c80f6340fa",
   "metadata": {},
   "outputs": [
    {
     "data": {
      "text/plain": [
       "10"
      ]
     },
     "execution_count": 85,
     "metadata": {},
     "output_type": "execute_result"
    }
   ],
   "source": [
    "bidder.num_users"
   ]
  },
  {
   "cell_type": "code",
   "execution_count": 86,
   "id": "bd22a61a-b6a6-430c-8ffa-f09a2d8a0603",
   "metadata": {},
   "outputs": [
    {
     "data": {
      "text/plain": [
       "The secret probability of this user is 0.246258192913546"
      ]
     },
     "execution_count": 86,
     "metadata": {},
     "output_type": "execute_result"
    }
   ],
   "source": [
    "bidder.current_user"
   ]
  },
  {
   "cell_type": "code",
   "execution_count": 87,
   "id": "2c6211a3-5b3c-49bc-aa15-2ed372c79292",
   "metadata": {},
   "outputs": [
    {
     "data": {
      "text/plain": [
       "10"
      ]
     },
     "execution_count": 87,
     "metadata": {},
     "output_type": "execute_result"
    }
   ],
   "source": [
    "bidder.num_rounds"
   ]
  },
  {
   "cell_type": "code",
   "execution_count": 95,
   "id": "05b2e1b8-ed24-46ad-93d5-c7bf2a5631f7",
   "metadata": {},
   "outputs": [
    {
     "ename": "AttributeError",
     "evalue": "'Bidder' object has no attribute 'self'",
     "output_type": "error",
     "traceback": [
      "\u001b[0;31m---------------------------------------------------------------------------\u001b[0m",
      "\u001b[0;31mAttributeError\u001b[0m                            Traceback (most recent call last)",
      "Input \u001b[0;32mIn [95]\u001b[0m, in \u001b[0;36m<cell line: 1>\u001b[0;34m()\u001b[0m\n\u001b[0;32m----> 1\u001b[0m \u001b[43mbidder\u001b[49m\u001b[38;5;241;43m.\u001b[39;49m\u001b[43mself\u001b[49m\u001b[38;5;241m.\u001b[39muser\u001b[38;5;241m.\u001b[39mshow_ad()\n",
      "\u001b[0;31mAttributeError\u001b[0m: 'Bidder' object has no attribute 'self'"
     ]
    }
   ],
   "source": [
    "bidder.self.user.show_ad()"
   ]
  },
  {
   "cell_type": "code",
   "execution_count": null,
   "id": "ded6ecbe-22a4-49d2-b6d4-5e198342cabf",
   "metadata": {},
   "outputs": [],
   "source": []
  }
 ],
 "metadata": {
  "kernelspec": {
   "display_name": "Python 3 (ipykernel)",
   "language": "python",
   "name": "python3"
  },
  "language_info": {
   "codemirror_mode": {
    "name": "ipython",
    "version": 3
   },
   "file_extension": ".py",
   "mimetype": "text/x-python",
   "name": "python",
   "nbconvert_exporter": "python",
   "pygments_lexer": "ipython3",
   "version": "3.9.12"
  }
 },
 "nbformat": 4,
 "nbformat_minor": 5
}
