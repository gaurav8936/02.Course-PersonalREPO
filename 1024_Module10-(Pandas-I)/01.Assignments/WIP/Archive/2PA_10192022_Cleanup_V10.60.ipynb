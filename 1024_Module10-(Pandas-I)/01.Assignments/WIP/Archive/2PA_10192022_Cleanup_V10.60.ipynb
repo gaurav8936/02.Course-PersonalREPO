{
 "cells": [
  {
   "cell_type": "markdown",
   "id": "ada87035-103d-4c1c-8f48-fd11f548480b",
   "metadata": {},
   "source": [
    "# Sorting out basic design issues"
   ]
  },
  {
   "cell_type": "markdown",
   "id": "3473f749-23f2-4342-b3c3-1ea29ed93443",
   "metadata": {},
   "source": [
    "## Final Design Version before Cleaning"
   ]
  },
  {
   "cell_type": "code",
   "execution_count": 18,
   "id": "1b768ada-7452-4fe3-99ed-c4af81114e14",
   "metadata": {
    "tags": []
   },
   "outputs": [],
   "source": [
    "import numpy as np\n",
    "import random\n",
    "from collections import Counter\n",
    "\n",
    "class User:\n",
    "    \"\"\"\n",
    "    This is a relatively simple class that models the user (i,e the one that clicks the ad linkk or not)\n",
    "    The primary function is the user response to when an ad is shown (ie show_ad)\n",
    "    \"\"\"\n",
    "    \n",
    "    def __init__(self):\n",
    "        # Initializes the probability with the random-uniform distribution\n",
    "        self.probability = random.uniform(0, 1)\n",
    "\n",
    "    def show_ad(self):\n",
    "        # The show ad function is simple in that it returns a True / False value based on \n",
    "        # a random choice of the probability distribution\n",
    "        return  np.random.choice((True, False), p = [self.probability, 1-self.probability])\n",
    "\n",
    "class Auction:\n",
    "    \n",
    "    \"\"\"\n",
    "    The auction class sets the bidding rules and manages both the bidders and users\n",
    "    It also determines the winning bid and the price (which is the second highest)\n",
    "    Also, included is the interaction with the bidder to request and then notify the bidder of the outcome\n",
    "    The user function models the user (i,e the one that clicks the ad linkk or not)\n",
    "    \n",
    "    Key Assumption: Given the max reward is $1, we will limit max bids to at most $5\n",
    "    \"\"\"\n",
    "    \n",
    "    def __init__(self, users, bidders):\n",
    "        \n",
    "        # Initializes the auction class with users, bidders, auction history\n",
    "        # balances are tracked by bidder\n",
    "        \n",
    "        self.users = users\n",
    "        self.bidders = bidders\n",
    "        self.auction_history = []\n",
    "        \n",
    "        # To note, I have used id(bidder) instead of (bidder) as that is incomprehensible\n",
    "        self.balances = {id(bidder): 0 for bidder in bidders} ########### NEW LINE\n",
    "        \n",
    "        #print(\"*\"*100, '\\n')\n",
    "        #print('Beginning balances : ',self.balances, '\\n','-'*100)\n",
    "        \n",
    "        \n",
    "    def execute_round(self):\n",
    "        \n",
    "        ############  EXECUTE ROUND  #### This is the principal function orchestrator #####################\n",
    "        ###################################################################################################\n",
    "        \n",
    "        \n",
    "        all_invalid_bidders = any(x > -1000 for x in self.balances.values())\n",
    "        \n",
    "        \n",
    "        #########  if the -ve balance of ALL bidders is < -1000, then break ###############################\n",
    "        \n",
    "        while not all_invalid_bidders:\n",
    "            return \"no bidders are qualifed as all balances are below -1000\"\n",
    "            break\n",
    "        \n",
    "        #########  Proceed with the auction is even 1 bidder has a balance > -1000 #########################\n",
    "        ####################################################################################################\n",
    "        \n",
    "        else:\n",
    "            # Initialize dictionary and lists for tracking bids\n",
    "            bids_dict = {}\n",
    "            bids_list = []\n",
    "            bids_list_raw = []\n",
    "\n",
    "            ########## STEP 1. SELECT USER (from the pool of users) ########################################\n",
    "\n",
    "            chosen_user = random.randint(0, len(self.users)-1)\n",
    "            #print('Selected User: ', id(chosen_user), '\\n','-'*100) \n",
    "\n",
    "            ########### STEP 2. COLLECT BIDS (send to all bidders) #########################################\n",
    "            \n",
    "            for bidder in self.bidders:\n",
    "                if self.balances[id(bidder)] > -1000:\n",
    "                    bids_dict[bidder] = bidder.bid(chosen_user)\n",
    "                    bidding_round = bidder.bidding_round\n",
    "\n",
    "                    self.auction_history.append((id(bids_dict[bidder]), bids_dict[bidder])) #bidder\n",
    "                    highest_bid = 0\n",
    "                    winning_price = 0\n",
    "                else:\n",
    "                    print(\"Bidder \", id(bidder), \"balance is less than -1000. Cannot continue bid\" )\n",
    "     #               #raise Exception(\"Bidder's balance is less than -1000. Cannot continue bid\")\n",
    "                    continue\n",
    "\n",
    "            print(\"Current bidding Round: \", bidding_round, '\\n','-'*100)\n",
    "\n",
    "            ############ STEP 3. DETERMINE WINNING BID ####################################################\n",
    "            for bidder, bid_value in bids_dict.items():\n",
    "\n",
    "                bids_list_raw.append((bidder, bid_value))\n",
    "                ## only needed to track a human readable bidder id\n",
    "                bids_list.append((id(bidder), bid_value))\n",
    "\n",
    "            ########### STEP 4. SORT THE Bids List based on price #########################################\n",
    "            sorted_list = sorted(bids_list, key=lambda t:t[1])\n",
    "            #print('Sorted bids list', sorted_list, '\\n','-'*100 )\n",
    "\n",
    "            #------------- for analysis only - creating a copy with id(bidder) ---------------------------\n",
    "            sorted_list_raw = sorted(bids_list_raw, key=lambda t:t[1])\n",
    "    #        print('sorted bids list RAW', sorted_list_raw, '\\n','-'*100 )\n",
    "\n",
    "\n",
    "            ########### STEP 5. Select second highest price ###############################################\n",
    "            if len(sorted_list) > 1:\n",
    "                winning_price = (sorted_list_raw)[-2][1]\n",
    "                winning_bidder = (sorted_list_raw)[-1][0]\n",
    "            else:\n",
    "                winning_price = (sorted_list_raw)[0][-1]\n",
    "                winning_bidder = (sorted_list_raw)[0][0]\n",
    "\n",
    "    #        print('Winning Price: ', winning_price, '\\n','-'*100)\n",
    "    #        print('winning bidder', winning_bidder, '\\n','-'*100)\n",
    "\n",
    "            ########### STEP 6. Determine if there are more than 1 bidders with same price ################\n",
    "\n",
    "            multiple_winning_bidders = [tup for tup in sorted_list_raw if tup[1] == winning_price]\n",
    "\n",
    "            if len(multiple_winning_bidders)>1:\n",
    "                #print('List of biders that submitted similar bids: ' , multiple_winning_bidders, '\\n','-'*100)\n",
    "                randindex = random.randint(0, len(multiple_winning_bidders)-1)\n",
    "                winning_bidder = multiple_winning_bidders[randindex][0]\n",
    "                #print('Winning bidder from list of similar priced bids: ', winning_bidder, '\\n','-'*100)\n",
    "            else: \n",
    "                pass\n",
    "                #winning_bidder = multiple_winning_bidders[0][0]\n",
    "\n",
    "            print('Winning Bidder: ', id(winning_bidder), '\\n','-'*100)\n",
    "            print('Winning Price: ', winning_price, '\\n','-'*100)\n",
    "\n",
    "            ############ STEP 7. Validate USER CLICK after SHOW AD ###########################################\n",
    "\n",
    "            ad_result = self.users[chosen_user].show_ad()\n",
    "            #print('User Clicked on Ad?: ', ad_result,'\\n','-'*100)\n",
    "\n",
    "            ############# STEP 8.NOTIFY BIDDER & UPDATE BALANCES #############################################\n",
    "\n",
    "            for bidder in self.bidders:\n",
    "                if bidder == winning_bidder and ad_result == True:\n",
    "                    #print(id(bidder), \"bidder == winning_bidder and ad_result == True:\")\n",
    "                    self.balances[id(bidder)] -= winning_price\n",
    "                    self.balances[id(bidder)] += 1\n",
    "\n",
    "                    bidder.notify(True, winning_price, ad_result)\n",
    "\n",
    "                elif bidder == winning_bidder and ad_result == False:\n",
    "                    #print(id(bidder), \"bidder == winning_bidder and ad_result == False\")\n",
    "                    self.balances[id(bidder)] -= winning_price\n",
    "\n",
    "                    bidder.notify(True, winning_price, ad_result)\n",
    "\n",
    "                else:\n",
    "                    #print(id(bidder), \"Did not win bid - only notify\")\n",
    "                    bidder.notify(False, winning_price, None)\n",
    "            #print('-'*100, '\\n','balances at end of bidding round', self.balances,'\\n','-'*100)\n",
    "        \n",
    "class Bidder:\n",
    "    \n",
    "    \"\"\"\n",
    "    This is the bidder class where we track bidding details, patterns and history. \n",
    "    In addition to the required functions, there are five other functions that have been \n",
    "    created to model bidding strategies -- listed below\n",
    "    \n",
    "    Note the acronyms user\n",
    "    BWCY: Bidder Won, Clicked Yes\n",
    "    BWCN: Bidder Won, Clicked No\n",
    "    BLOS: Bidder Lost\n",
    "    \"\"\"\n",
    "    \n",
    "    def __init__(self, num_users, num_rounds):\n",
    "            \n",
    "    ############ Initialize Attributes for bid and history  ###########################################\n",
    "    ###################################################################################################\n",
    "        \n",
    "        ########### initializing basic attributes ###########\n",
    "        self.num_users = num_users\n",
    "        self.num_rounds = num_rounds\n",
    "        self.bidding_round = 0\n",
    "        self.bid_price = 0\n",
    "\n",
    "        ########### Basic tracking metrics - dictionaries ###########\n",
    "        self.bid_participate = {i: 0 for i in range(num_users)} #whether bidder bids or not (USER: BID COUNT)\n",
    "        self.bid_wins_no_click = {i: 0 for i in range(num_users)} # if bidder wins\n",
    "        self.bid_win_user_clicks = {i: 0 for i in range(num_users)} # if user clicks\n",
    "        self.bid_lost = {i: 0 for i in range(num_users)}\n",
    "\n",
    "        ########### Historical transaction tracking for trend analysis ###########\n",
    "        self.bid_win_click_no = []\n",
    "        self.bid_win_click_yes = []\n",
    "        self.bid_lost_list = []\n",
    "        self.bid_360 = []\n",
    "        self.user_id = 0\n",
    "        \n",
    "    ############ SUBMIT BID  ########### initiated by auction #########################################\n",
    "    ###################################################################################################\n",
    "    \n",
    "    def bid(self, user_id):\n",
    "        \"\"\"\n",
    "        Function to set teh default (aka base) bid price\n",
    "        The bid price is called from a separate function that determines the bid strategy\n",
    "        \"\"\"\n",
    "\n",
    "        self.bidding_round += 1\n",
    "        self.user_id = user_id\n",
    "        self.bid_price = self.bid_strategy(user_id)\n",
    "        #print('bid price from STRATEGY', self.bid_price, '\\n','-'*100 )\n",
    "        return self.bid_price\n",
    "\n",
    "    ############  NOTIFIED OF BID OUTCOME  ########### initiated by auction ###########################\n",
    "    ###################################################################################################\n",
    "    \n",
    "    def notify(self, auction_winner, price, clicked):\n",
    "        bid_y_n_won = 0\n",
    "        self.auction_winner = auction_winner\n",
    "        self.price = price\n",
    "        self.clicked = clicked\n",
    "        \n",
    "        if auction_winner == True and clicked == True:\n",
    "            self.bid_win_user_clicks[self.user_id] = (self.bid_win_user_clicks).get(self.user_id, 0)+1\n",
    "            self.bid_win_click_yes.append(['BWCY', self.bidding_round, id(self), self.user_id, self.auction_winner,self.bid_price, self.price, self.clicked])\n",
    "            self.bid_360.append(['BWCY', self.bidding_round, id(self), self.user_id, self.auction_winner,self.bid_price, self.price, self.clicked])\n",
    "\n",
    "        elif auction_winner == True and clicked == False:\n",
    "            self.bid_wins_no_click[self.user_id] = (self.bid_wins_no_click).get(self.user_id, 0)+1\n",
    "            self.bid_win_click_no.append(['BWCN', self.bidding_round, id(self), self.user_id, self.auction_winner,self.bid_price, self.price, self.clicked])\n",
    "            self.bid_360.append(['BWCN', self.bidding_round, id(self), self.user_id, self.auction_winner,self.bid_price, self.price, self.clicked])\n",
    "        \n",
    "        else:\n",
    "            self.bid_lost[self.user_id] = (self.bid_lost).get(self.user_id, 0)+1\n",
    "            self.bid_lost_list.append(['BLOS',self.bidding_round, id(self), self.user_id, self.auction_winner,self.bid_price, self.price, self.clicked])\n",
    "            self.bid_360.append(['BLOS',self.bidding_round, id(self), self.user_id, self.auction_winner,self.bid_price, self.price, self.clicked])\n",
    "    \n",
    "    ############  BID STRATEGY - CONTROL FLOW  ########################################################\n",
    "    ###################################################################################################\n",
    "    \n",
    "    def bid_strategy(self, user_id):\n",
    "\n",
    "        \"\"\"\n",
    "        This function controls the strategy and changes this with what it learns from the bidding process\n",
    "        There are two basic - default strategies that will be followed for the first 50 rounds which are\n",
    "        (1) start slow and observe bidding behavior for first 10 rounds\n",
    "        (2) go aggressive and match max price of past rounds and in crease base bid by 10%\n",
    "        After the first 50 rounds, the strategy revolves through 4 models (A, B, C & D) aso detailed below\n",
    "        \"\"\"\n",
    "        \n",
    "        ########## SET THE BASE BID PRICE  ##### Revise this based on Strategy ############################\n",
    "        #################### Ranges from 0 to $1 ##########################################################\n",
    "        self.base_bid_price = random.randint(0, 10000)/10000 #random.uniform(0, 1)\n",
    "        ###################################################################################################\n",
    "        \n",
    "        trx_master = [x for x in self.bid_360]\n",
    "        strategy_list = ['A', 'B', 'C', 'D']\n",
    "        strategy = random.choice(strategy_list)\n",
    "        \n",
    "        for item in trx_master:\n",
    "        \n",
    "        ########## Observe: Start Slow for the first 10 rounds  ###########################################\n",
    "        ###################################################################################################\n",
    "        \n",
    "            if item[1] < 2:\n",
    "                self.bid_price = 0.01\n",
    "            \n",
    "        ########## Next 40 rounds, match max price + 10%  #################################################\n",
    "        ###################################################################################################\n",
    "            \n",
    "            elif item[1] > 2 and item[1] < 4:\n",
    "                self.bid_price = max(self.bid_360, key=lambda x: x[6])[6]*1.10\n",
    "                if self.bid_price > self.base_bid_price * 100:\n",
    "                    self.bid_price = self.base_bid_price\n",
    "        \n",
    "        ########## Rounds 50+ Learn, Optimize, Mitigate Losses and Win  ###################################\n",
    "        ###################################################################################################\n",
    "        \n",
    "            elif strategy == 'A':\n",
    "                self.bid_price = self.strategy_a()\n",
    "            \n",
    "            elif strategy == 'B':\n",
    "                self.bid_price = self.strategy_b()\n",
    "                \n",
    "            elif strategy == 'C':\n",
    "                self.bid_price = self.strategy_c()\n",
    "                \n",
    "            elif strategy == 'D':\n",
    "                self.bid_price = self.strategy_d()\n",
    "            \n",
    "            else:\n",
    "                self.bid_price = self.base_bid_price\n",
    "            \n",
    "        \n",
    "        return self.bid_price\n",
    "        \n",
    "    \n",
    "    ############  STRATEGY A - Identify losses and counter  ###########################################\n",
    "    ###################################################################################################\n",
    "        \n",
    "    def strategy_a(self):\n",
    "            \n",
    "        \"\"\"\n",
    "        Setting min bid above average difference of loss for prior 10 bids  was greater than 10%\n",
    "        then adjust you next bid to in increase by that amount\n",
    "        \"\"\"\n",
    "\n",
    "        # filter last 10 losses  \n",
    "        a = [x for x in self.bid_360[-10:] if x[0] == 'BLOS' and (x[6]-x[5]) > (.1*x[5])]\n",
    "\n",
    "        # calculated the average percentage loss (> 10%)\n",
    "        avg_loss_10percent = ((sum(i[6] for i in a) - sum(i[5] for i in a))/(max(1, len(a))))\n",
    "\n",
    "        #adjust bid price\n",
    "        self.bid_price = self.base_bid_price + avg_loss_10percent\n",
    "        if self.bid_price > self.base_bid_price * 5:\n",
    "            self.bid_price = self.base_bid_price\n",
    "        return self.bid_price\n",
    "\n",
    "    ############  STRATEGY B - Exploit/Focus on top User   ############################################\n",
    "    ###################################################################################################\n",
    "    \n",
    "    def strategy_b(self):\n",
    "        self.user_id = bid_strategy.user_id\n",
    "        \n",
    "        \"\"\"\n",
    "        Focus on most successful user --- ie where bidder has worn atleast 5 times for same user\n",
    "        For this user, double the base bid price to increase odds of winning again\n",
    "        \"\"\"\n",
    "        \n",
    "        a = [x for x in self.bid_360[-100:] if x[0] == 'BWCY']\n",
    "        #print(a)\n",
    "        b = (Counter([x[3] for x in a]))\n",
    "        #print(b)\n",
    "        # filter for success > 5 times\n",
    "        c = { k: v for k, v in b.items() if v >= 5 }\n",
    "        # get max user (most successful thus far)\n",
    "#        d = max(c, key=c.get, default=0) # get user with max wins\n",
    "        \n",
    "#        if self.user_id ==  max(c, key=c.get, default=0):\n",
    "        # self.bid_price = self.base_bid_price*2\n",
    "        # return self.bid_price\n",
    "        if self.user_id ==  max(c, key=c.get, default=0):\n",
    "            self.bid_price = self.base_bid_price*2\n",
    "            return self.bid_price\n",
    "        \n",
    "    \n",
    "    ############  STRATEGY C - Identify Max leaders and counter   #####################################\n",
    "    ###################################################################################################\n",
    "    \n",
    "    def strategy_c(self):\n",
    "#        self.a = a\n",
    "        \n",
    "        \"\"\"\n",
    "        Find Max winning bid in past 10 bids and increase your base bid by 20%\n",
    "        \"\"\"\n",
    "\n",
    "        a = [x for x in self.bid_360[-10:] if x[0] == 'BLOS']\n",
    "        self.bid_price = max(a, key=lambda x: x[6])[6]*1.20\n",
    "        if self.bid_price > self.base_bid_price * 5:\n",
    "            self.bid_price = self.base_bid_price\n",
    "        return self.bid_price\n",
    "    \n",
    "    \n",
    "    ############  STRATEGY D - Conserve cash when <-500   #############################################\n",
    "    ###################################################################################################\n",
    "    \n",
    "    def strategy_d(self):\n",
    "            \n",
    "        \"\"\"\n",
    "        Monitor if balance goes < -500 then scale back on the bids by 10% of the base price\n",
    "        Conserve cash and wait for other random strategies A, B or C to try again\n",
    "        \"\"\"\n",
    "\n",
    "        # sum all bids that were won, but user not clicked (ie BWCN)\n",
    "        a = [x for x in self.bid_360 if x[0] == 'BWCN'] \n",
    "\n",
    "        # calculate cost of bids in BWCN\n",
    "        b = (sum(i[6] for i in a))\n",
    "        \n",
    "        # sum of all bids where user clicked (ie BWCY)\n",
    "        c = [x for x in self.bid_360 if x[0] == 'BWCY']\n",
    "        # sum of total cost\n",
    "        d = (sum(i[6] for i in c) )\n",
    "\n",
    "        # earnings till date (ie $1 for every BWCY)\n",
    "        e = len(c)\n",
    "        f = e * 1\n",
    "\n",
    "        current_balance = (b + d -f)\n",
    "        \n",
    "        if current_balance < -500:\n",
    "            self.bid_price = 0.01\n",
    "        return self.base_bid_price    \n",
    "    "
   ]
  },
  {
   "cell_type": "code",
   "execution_count": 19,
   "id": "b2fa1421-6745-43a5-9c0b-5a4112f8d9dc",
   "metadata": {
    "tags": []
   },
   "outputs": [
    {
     "name": "stdout",
     "output_type": "stream",
     "text": [
      "Current bidding Round:  1 \n",
      " ----------------------------------------------------------------------------------------------------\n",
      "Winning Bidder:  140535501490592 \n",
      " ----------------------------------------------------------------------------------------------------\n",
      "Winning Price:  0 \n",
      " ----------------------------------------------------------------------------------------------------\n"
     ]
    }
   ],
   "source": [
    "#b1, b2, b3 = Bidder(1,10), Bidder(1,10), Bidder(1,10)\n",
    "b1, b2, b3, b4, b5, b6, b7, b8, b9, b10 = Bidder(1,10), Bidder(1,10), Bidder(1,10), Bidder(1,10), Bidder(1,10), Bidder(1,10), Bidder(1,10), Bidder(1,10), Bidder(1,10), Bidder(1,10)\n",
    "auction = Auction( [User()for i in range(10)], [b1, b2, b3, b4, b5, b6, b7, b8, b9, b10])\n",
    "#auction = Auction( [User(), User()], [b1, b2, b3])\n",
    "auction.execute_round()"
   ]
  },
  {
   "cell_type": "code",
   "execution_count": 48,
   "id": "4de37e17-2d55-4e37-a0b1-56c2aadf933c",
   "metadata": {
    "collapsed": true,
    "jupyter": {
     "outputs_hidden": true,
     "source_hidden": true
    },
    "tags": []
   },
   "outputs": [
    {
     "name": "stdout",
     "output_type": "stream",
     "text": [
      "Selected User:  140598975851056 \n",
      " ----------------------------------------------------------------------------------------------------\n",
      "bid price from STRATEGY 0 \n",
      " ----------------------------------------------------------------------------------------------------\n",
      "bid price from STRATEGY 0 \n",
      " ----------------------------------------------------------------------------------------------------\n",
      "Current bidding Round:  1 \n",
      " ----------------------------------------------------------------------------------------------------\n",
      "Sorted bids list [(140597919164928, 0), (140597919165360, 0)] \n",
      " ----------------------------------------------------------------------------------------------------\n",
      "Winning bidder from list of similar priced bids:  <__main__.Bidder object at 0x7fdf81072a00> \n",
      " ----------------------------------------------------------------------------------------------------\n",
      "Winning Bidder (FINAL):  140597919164928 \n",
      " ----------------------------------------------------------------------------------------------------\n",
      "Winning Price (FINAL):  0 \n",
      " ----------------------------------------------------------------------------------------------------\n",
      "User Clicked on Ad?:  False \n",
      " ----------------------------------------------------------------------------------------------------\n",
      "Bidding Outcomes \n",
      " ----------------------------------------------------------------------------------------------------\n",
      "140597919164928 bidder == winning_bidder and ad_result == False\n",
      "140597919165360 Did not win bid - only notify\n",
      "---------------------------------------------------------------------------------------------------- \n",
      " balances at end of bidding round {140597919164928: 0, 140597919165360: 0} \n",
      " ----------------------------------------------------------------------------------------------------\n"
     ]
    }
   ],
   "source": [
    "b1, b2 = Bidder(1,10), Bidder(1,10)\n",
    "auction = Auction( [User()for i in range(10)], [b1, b2])\n",
    "\n",
    "#auction = Auction( [User(), User()], [b1, b2, b3])\n",
    "auction.execute_round()"
   ]
  },
  {
   "cell_type": "code",
   "execution_count": 17,
   "id": "6bfae97f-5d21-40d0-95bc-4b35338a7d3f",
   "metadata": {
    "jupyter": {
     "source_hidden": true
    },
    "tags": []
   },
   "outputs": [
    {
     "data": {
      "text/plain": [
       "{140659521303552: -16.520833936376356,\n",
       " 140659521303648: -8.873428291112624,\n",
       " 140659521305904: -36.623229772132774,\n",
       " 140659521305184: -12.44856547729011,\n",
       " 140659521305856: -23.55766476365462,\n",
       " 140659521305952: -21.897973868307883,\n",
       " 140659521305616: -41.871889760850074,\n",
       " 140659521305664: -10.31757061292901,\n",
       " 140659521302784: -28.829125208703946,\n",
       " 140659521302592: -18.743580269615745}"
      ]
     },
     "execution_count": 17,
     "metadata": {},
     "output_type": "execute_result"
    }
   ],
   "source": [
    "bal = auction.balances\n",
    "bal"
   ]
  },
  {
   "cell_type": "code",
   "execution_count": 20,
   "id": "1cd75767-8367-4c0a-b070-0e979ac897fe",
   "metadata": {
    "tags": []
   },
   "outputs": [
    {
     "name": "stdout",
     "output_type": "stream",
     "text": [
      "Current bidding Round:  2 \n",
      " ----------------------------------------------------------------------------------------------------\n",
      "Winning Bidder:  140535501490832 \n",
      " ----------------------------------------------------------------------------------------------------\n",
      "Winning Price:  0.01 \n",
      " ----------------------------------------------------------------------------------------------------\n"
     ]
    },
    {
     "ename": "NameError",
     "evalue": "name 'bid_strategy' is not defined",
     "output_type": "error",
     "traceback": [
      "\u001b[0;31m---------------------------------------------------------------------------\u001b[0m",
      "\u001b[0;31mNameError\u001b[0m                                 Traceback (most recent call last)",
      "Input \u001b[0;32mIn [20]\u001b[0m, in \u001b[0;36m<cell line: 1>\u001b[0;34m()\u001b[0m\n\u001b[0;32m----> 1\u001b[0m [auction\u001b[38;5;241m.\u001b[39mexecute_round() \u001b[38;5;28;01mfor\u001b[39;00m i \u001b[38;5;129;01min\u001b[39;00m \u001b[38;5;28mrange\u001b[39m(\u001b[38;5;241m100\u001b[39m)]\n",
      "Input \u001b[0;32mIn [20]\u001b[0m, in \u001b[0;36m<listcomp>\u001b[0;34m(.0)\u001b[0m\n\u001b[0;32m----> 1\u001b[0m [\u001b[43mauction\u001b[49m\u001b[38;5;241;43m.\u001b[39;49m\u001b[43mexecute_round\u001b[49m\u001b[43m(\u001b[49m\u001b[43m)\u001b[49m \u001b[38;5;28;01mfor\u001b[39;00m i \u001b[38;5;129;01min\u001b[39;00m \u001b[38;5;28mrange\u001b[39m(\u001b[38;5;241m100\u001b[39m)]\n",
      "Input \u001b[0;32mIn [18]\u001b[0m, in \u001b[0;36mAuction.execute_round\u001b[0;34m(self)\u001b[0m\n\u001b[1;32m     78\u001b[0m \u001b[38;5;28;01mfor\u001b[39;00m bidder \u001b[38;5;129;01min\u001b[39;00m \u001b[38;5;28mself\u001b[39m\u001b[38;5;241m.\u001b[39mbidders:\n\u001b[1;32m     79\u001b[0m     \u001b[38;5;28;01mif\u001b[39;00m \u001b[38;5;28mself\u001b[39m\u001b[38;5;241m.\u001b[39mbalances[\u001b[38;5;28mid\u001b[39m(bidder)] \u001b[38;5;241m>\u001b[39m \u001b[38;5;241m-\u001b[39m\u001b[38;5;241m1000\u001b[39m:\n\u001b[0;32m---> 80\u001b[0m         bids_dict[bidder] \u001b[38;5;241m=\u001b[39m \u001b[43mbidder\u001b[49m\u001b[38;5;241;43m.\u001b[39;49m\u001b[43mbid\u001b[49m\u001b[43m(\u001b[49m\u001b[43mchosen_user\u001b[49m\u001b[43m)\u001b[49m\n\u001b[1;32m     81\u001b[0m         bidding_round \u001b[38;5;241m=\u001b[39m bidder\u001b[38;5;241m.\u001b[39mbidding_round\n\u001b[1;32m     83\u001b[0m         \u001b[38;5;28mself\u001b[39m\u001b[38;5;241m.\u001b[39mauction_history\u001b[38;5;241m.\u001b[39mappend((\u001b[38;5;28mid\u001b[39m(bids_dict[bidder]), bids_dict[bidder])) \u001b[38;5;66;03m#bidder\u001b[39;00m\n",
      "Input \u001b[0;32mIn [18]\u001b[0m, in \u001b[0;36mBidder.bid\u001b[0;34m(self, user_id)\u001b[0m\n\u001b[1;32m    208\u001b[0m \u001b[38;5;28mself\u001b[39m\u001b[38;5;241m.\u001b[39mbidding_round \u001b[38;5;241m+\u001b[39m\u001b[38;5;241m=\u001b[39m \u001b[38;5;241m1\u001b[39m\n\u001b[1;32m    209\u001b[0m \u001b[38;5;28mself\u001b[39m\u001b[38;5;241m.\u001b[39muser_id \u001b[38;5;241m=\u001b[39m user_id\n\u001b[0;32m--> 210\u001b[0m \u001b[38;5;28mself\u001b[39m\u001b[38;5;241m.\u001b[39mbid_price \u001b[38;5;241m=\u001b[39m \u001b[38;5;28;43mself\u001b[39;49m\u001b[38;5;241;43m.\u001b[39;49m\u001b[43mbid_strategy\u001b[49m\u001b[43m(\u001b[49m\u001b[43muser_id\u001b[49m\u001b[43m)\u001b[49m\n\u001b[1;32m    211\u001b[0m \u001b[38;5;66;03m#print('bid price from STRATEGY', self.bid_price, '\\n','-'*100 )\u001b[39;00m\n\u001b[1;32m    212\u001b[0m \u001b[38;5;28;01mreturn\u001b[39;00m \u001b[38;5;28mself\u001b[39m\u001b[38;5;241m.\u001b[39mbid_price\n",
      "Input \u001b[0;32mIn [18]\u001b[0m, in \u001b[0;36mBidder.bid_strategy\u001b[0;34m(self, user_id)\u001b[0m\n\u001b[1;32m    280\u001b[0m     \u001b[38;5;28mself\u001b[39m\u001b[38;5;241m.\u001b[39mbid_price \u001b[38;5;241m=\u001b[39m \u001b[38;5;28mself\u001b[39m\u001b[38;5;241m.\u001b[39mstrategy_a()\n\u001b[1;32m    282\u001b[0m \u001b[38;5;28;01melif\u001b[39;00m strategy \u001b[38;5;241m==\u001b[39m \u001b[38;5;124m'\u001b[39m\u001b[38;5;124mB\u001b[39m\u001b[38;5;124m'\u001b[39m:\n\u001b[0;32m--> 283\u001b[0m     \u001b[38;5;28mself\u001b[39m\u001b[38;5;241m.\u001b[39mbid_price \u001b[38;5;241m=\u001b[39m \u001b[38;5;28;43mself\u001b[39;49m\u001b[38;5;241;43m.\u001b[39;49m\u001b[43mstrategy_b\u001b[49m\u001b[43m(\u001b[49m\u001b[43m)\u001b[49m\n\u001b[1;32m    285\u001b[0m \u001b[38;5;28;01melif\u001b[39;00m strategy \u001b[38;5;241m==\u001b[39m \u001b[38;5;124m'\u001b[39m\u001b[38;5;124mC\u001b[39m\u001b[38;5;124m'\u001b[39m:\n\u001b[1;32m    286\u001b[0m     \u001b[38;5;28mself\u001b[39m\u001b[38;5;241m.\u001b[39mbid_price \u001b[38;5;241m=\u001b[39m \u001b[38;5;28mself\u001b[39m\u001b[38;5;241m.\u001b[39mstrategy_c()\n",
      "Input \u001b[0;32mIn [18]\u001b[0m, in \u001b[0;36mBidder.strategy_b\u001b[0;34m(self)\u001b[0m\n\u001b[1;32m    323\u001b[0m \u001b[38;5;28;01mdef\u001b[39;00m \u001b[38;5;21mstrategy_b\u001b[39m(\u001b[38;5;28mself\u001b[39m):\n\u001b[0;32m--> 324\u001b[0m     \u001b[38;5;28mself\u001b[39m\u001b[38;5;241m.\u001b[39muser_id \u001b[38;5;241m=\u001b[39m \u001b[43mbid_strategy\u001b[49m\u001b[38;5;241m.\u001b[39muser_id\n\u001b[1;32m    326\u001b[0m     \u001b[38;5;124;03m\"\"\"\u001b[39;00m\n\u001b[1;32m    327\u001b[0m \u001b[38;5;124;03m    Focus on most successful user --- ie where bidder has worn atleast 5 times for same user\u001b[39;00m\n\u001b[1;32m    328\u001b[0m \u001b[38;5;124;03m    For this user, double the base bid price to increase odds of winning again\u001b[39;00m\n\u001b[1;32m    329\u001b[0m \u001b[38;5;124;03m    \"\"\"\u001b[39;00m\n\u001b[1;32m    331\u001b[0m     a \u001b[38;5;241m=\u001b[39m [x \u001b[38;5;28;01mfor\u001b[39;00m x \u001b[38;5;129;01min\u001b[39;00m \u001b[38;5;28mself\u001b[39m\u001b[38;5;241m.\u001b[39mbid_360[\u001b[38;5;241m-\u001b[39m\u001b[38;5;241m100\u001b[39m:] \u001b[38;5;28;01mif\u001b[39;00m x[\u001b[38;5;241m0\u001b[39m] \u001b[38;5;241m==\u001b[39m \u001b[38;5;124m'\u001b[39m\u001b[38;5;124mBWCY\u001b[39m\u001b[38;5;124m'\u001b[39m]\n",
      "\u001b[0;31mNameError\u001b[0m: name 'bid_strategy' is not defined"
     ]
    }
   ],
   "source": [
    "[auction.execute_round() for i in range(100)]"
   ]
  },
  {
   "cell_type": "markdown",
   "id": "ec16b259-32ba-4924-9f5b-aa45d3483839",
   "metadata": {},
   "source": [
    "# Consolidate Metrics: All Bidders"
   ]
  },
  {
   "cell_type": "markdown",
   "id": "4e5923f4-8bb5-407f-bdbf-ba71153def44",
   "metadata": {},
   "source": [
    "## Overall"
   ]
  },
  {
   "cell_type": "code",
   "execution_count": 45,
   "id": "9fda5fa8-aa43-447d-9356-f5f75d659b6e",
   "metadata": {
    "jupyter": {
     "source_hidden": true
    },
    "tags": []
   },
   "outputs": [
    {
     "name": "stdout",
     "output_type": "stream",
     "text": [
      "Bidding Rounds 101\n",
      "BWCY - Bid Win - Click YES: Count 59\n",
      "BWCN - Bid Win - Click NO: Count 42\n",
      "Overall Click Ratio  0.5841584158415841\n"
     ]
    }
   ],
   "source": [
    "# Summary Counts\n",
    "print('Bidding Rounds', b1.bidding_round)\n",
    "\n",
    "BWCY = (len(b1.bid_win_click_yes), len(b2.bid_win_click_yes), \\\n",
    "      len(b3.bid_win_click_yes), len(b4.bid_win_click_yes),  len(b5.bid_win_click_yes), len(b6.bid_win_click_yes), \\\n",
    "      len(b7.bid_win_click_yes), len(b8.bid_win_click_yes), len(b9.bid_win_click_yes), len(b10.bid_win_click_yes))\n",
    "\n",
    "sum(BWCY)\n",
    "print('BWCY - Bid Win - Click YES: Count', sum(BWCY))\n",
    "\n",
    "BWCN = (len(b1.bid_win_click_no),len(b2.bid_win_click_no),len(b3.bid_win_click_no)\\\n",
    "     ,len(b4.bid_win_click_no),len(b5.bid_win_click_no),len(b6.bid_win_click_no),len(b7.bid_win_click_no),\\\n",
    "    len(b8.bid_win_click_no),len(b9.bid_win_click_no),len(b10.bid_win_click_no))\n",
    "\n",
    "sum(BWCN)\n",
    "\n",
    "print('BWCN - Bid Win - Click NO: Count',sum(BWCN))\n",
    "\n",
    "# GENERAL CLICK RATIO\n",
    "\n",
    "print('Overall Click Ratio ', sum(BWCY) / (sum(BWCY)+sum(BWCN)) )\n",
    "\n",
    "# BLOS = NOT RELEVANT\n",
    "# print('BLOS - Bid LOST: Count',len(b1.bid_lost_list))\n",
    "\n",
    "# print('Balances', auction.balances)"
   ]
  },
  {
   "cell_type": "markdown",
   "id": "11be9217-f375-40cb-8883-772e45f5d2d6",
   "metadata": {},
   "source": [
    "# Bid Refining - Filters"
   ]
  },
  {
   "cell_type": "markdown",
   "id": "846383e2-14df-46bc-85be-1024eaad8bed",
   "metadata": {
    "tags": []
   },
   "source": [
    "## Observe first 10 rounds"
   ]
  },
  {
   "cell_type": "code",
   "execution_count": 8,
   "id": "43c30188-8765-4756-bf79-a705c09e4c92",
   "metadata": {
    "collapsed": true,
    "jupyter": {
     "outputs_hidden": true
    },
    "tags": []
   },
   "outputs": [
    {
     "ename": "NameError",
     "evalue": "name 'self' is not defined",
     "output_type": "error",
     "traceback": [
      "\u001b[0;31m---------------------------------------------------------------------------\u001b[0m",
      "\u001b[0;31mNameError\u001b[0m                                 Traceback (most recent call last)",
      "Input \u001b[0;32mIn [8]\u001b[0m, in \u001b[0;36m<cell line: 1>\u001b[0;34m()\u001b[0m\n\u001b[0;32m----> 1\u001b[0m trx_master \u001b[38;5;241m=\u001b[39m [x \u001b[38;5;28;01mfor\u001b[39;00m x \u001b[38;5;129;01min\u001b[39;00m \u001b[38;5;28;43mself\u001b[39;49m\u001b[38;5;241m.\u001b[39mbid_360]\n\u001b[1;32m      3\u001b[0m \u001b[38;5;28;01mfor\u001b[39;00m item \u001b[38;5;129;01min\u001b[39;00m trx_master:\n\u001b[1;32m      5\u001b[0m     \u001b[38;5;28;01mif\u001b[39;00m item[\u001b[38;5;241m1\u001b[39m] \u001b[38;5;241m<\u001b[39m \u001b[38;5;241m10\u001b[39m:\n",
      "\u001b[0;31mNameError\u001b[0m: name 'self' is not defined"
     ]
    }
   ],
   "source": [
    "trx_master = [x for x in self.bid_360]\n",
    "\n",
    "for item in trx_master:\n",
    "\n",
    "    if item[1] < 10:\n",
    "        self.bid_price = 0.01\n",
    "    else:\n",
    "        self.bid_price = base_bid_price\n",
    "\n",
    "# trx_master = [x for x in b1.bid_360]\n",
    "\n",
    "# for item in trx_master:\n",
    "#     if item[1] < 10:\n",
    "#         print('hey')\n",
    "#     else:\n",
    "#         print('hey no')"
   ]
  },
  {
   "cell_type": "markdown",
   "id": "4c7b6866-da1c-4490-beab-b167424941d4",
   "metadata": {
    "tags": []
   },
   "source": [
    "## Loss by > 10%"
   ]
  },
  {
   "cell_type": "code",
   "execution_count": 14,
   "id": "19f89c97-f429-4734-84d3-d85eabfc1fb5",
   "metadata": {
    "tags": []
   },
   "outputs": [
    {
     "name": "stdout",
     "output_type": "stream",
     "text": [
      "0.03324855583759785\n"
     ]
    }
   ],
   "source": [
    "# lost the bid by a price > 10%\n",
    "\n",
    "# filter last 10 bids for those you have lost \n",
    "a = [x for x in b1.bid_360[-10:] if x[0] == 'BLOS' and (x[6]-x[5]) > (.1*x[5])]\n",
    "#print(a)\n",
    "\n",
    "# calculated the average percentage loss (> 10%)\n",
    "b = ((sum(i[6] for i in a) - sum(i[5] for i in a))/(max(1, len(a))))\n",
    "\n",
    "print(b)\n",
    "\n",
    "# then set bid_price = \n",
    "\n",
    "# [0]Category, [1]self.bidding_round, [2]id(self), [3]self.user_id, \n",
    "# [4]self.auction_winner, [5]#self.bid_price, [6]self.winning price, [7]self.clicked"
   ]
  },
  {
   "cell_type": "markdown",
   "id": "ed5f2644-7a3b-469f-bde2-eddc97fe19c0",
   "metadata": {
    "tags": []
   },
   "source": [
    "## Most successful user"
   ]
  },
  {
   "cell_type": "code",
   "execution_count": 41,
   "id": "ac49bcb2-aed5-429b-98bb-af136cbe0545",
   "metadata": {
    "tags": []
   },
   "outputs": [
    {
     "name": "stdout",
     "output_type": "stream",
     "text": [
      "[['BWCY', 7, 140659256162288, 0, True, 2.5493499999999996, 2.32776, True], ['BWCY', 9, 140659256162288, 6, True, 2.4122508333333332, 2.0869, True], ['BWCY', 56, 140659256162288, 9, True, 4.064549395238772, 2.165417633104279, True], ['BWCY', 65, 140659256162288, 0, True, 2.1120271134422053, 0.8586, True], ['BWCY', 87, 140659256162288, 0, True, 2.640689710454851, 2.640689710454851, True], ['BWCY', 104, 140659256162288, 9, True, 2.0669332208909412, 0.961, True], ['BWCY', 110, 140659256162288, 6, True, 1.1020721763220986, 1.0598, True], ['BWCY', 120, 140659256162288, 0, True, 2.60900925457629, 2.081799598283614, True], ['BWCY', 155, 140659256162288, 3, True, 3.015625169076803, 1.9316, True], ['BWCY', 161, 140659256162288, 7, True, 2.5999199630038508, 1.6862, True], ['BWCY', 176, 140659256162288, 2, True, 1.5483605668183071, 0.6728, True], ['BWCY', 196, 140659256162288, 0, True, 2.5513547345882257, 2.1617260629653603, True], ['BWCY', 218, 140659256162288, 9, True, 3.8508744549847913, 0.918, True], ['BWCY', 221, 140659256162288, 5, True, 1.3826, 0.8508, True], ['BWCY', 235, 140659256162288, 5, True, 2.662210153340805, 2.662210153340805, True], ['BWCY', 236, 140659256162288, 6, True, 1.8999004312613308, 0.972, True], ['BWCY', 262, 140659256162288, 7, True, 2.790180122751969, 2.138329325398611, True]]\n",
      "Counter({0: 5, 6: 3, 9: 3, 7: 2, 5: 2, 3: 1, 2: 1})\n",
      "{0: 5, 6: 3, 9: 3, 3: 1, 7: 2, 2: 1, 5: 2}\n",
      "0\n",
      "this works\n"
     ]
    }
   ],
   "source": [
    "# lost the bid by a price > 10%\n",
    "user_id = 0\n",
    "from collections import Counter\n",
    "\n",
    "a = [x for x in b1.bid_360[-1000:] if x[0] == 'BWCY']\n",
    "print(a)\n",
    "b = (Counter([x[3] for x in a]))\n",
    "print(b)\n",
    "c = { k: v for k, v in b.items() if v >= 0 }\n",
    "print(c)\n",
    "d = max(c, key=c.get, default = 0) # get user with max wins\n",
    "print(d)\n",
    "#print(c)\n",
    "\n",
    "if user_id == max(c, key=c.get, default = 0):\n",
    "    print('this works')\n",
    "#print(max(b, key=b.get))\n",
    "\n",
    "# then set bid_price = \n",
    "\n",
    "# [0]Category, [1]self.bidding_round, [2]id(self), [3]self.user_id, \n",
    "# [4]self.auction_winner, [5]#self.bid_price, [6]self.winning price, [7]self.clicked"
   ]
  },
  {
   "cell_type": "markdown",
   "id": "3cb48de3-a29a-405b-9ea8-b9f5aa9d9212",
   "metadata": {
    "tags": []
   },
   "source": [
    "## Wait certain rounds, then accelerate"
   ]
  },
  {
   "cell_type": "code",
   "execution_count": 35,
   "id": "09ae2049-ffb4-4c0b-8987-04dad40c56ce",
   "metadata": {
    "collapsed": true,
    "jupyter": {
     "outputs_hidden": true,
     "source_hidden": true
    },
    "tags": []
   },
   "outputs": [
    {
     "name": "stdout",
     "output_type": "stream",
     "text": [
      "[['BLOS', 101, 140568245737168, 6, False, 0.04786, 0.08659, None]]\n"
     ]
    }
   ],
   "source": [
    "#a = [x for x in b1.bid_360[-100:] if x[0] == 'BWCN'] # < ]\n",
    "a = [x for x in b1.bid_360[-100:] if 100 < x[1] < 200] #'BWCN'] # < ]\n",
    "print(a)\n",
    "     # then take default bid probability"
   ]
  },
  {
   "cell_type": "markdown",
   "id": "069df4ec-491d-4cc5-9f1d-141a4d2da972",
   "metadata": {
    "tags": []
   },
   "source": [
    "## Match Max and go over 10%"
   ]
  },
  {
   "cell_type": "markdown",
   "id": "9adad945-ddc6-4e09-a1fe-a2d736e95890",
   "metadata": {
    "tags": []
   },
   "source": [
    "---"
   ]
  },
  {
   "cell_type": "code",
   "execution_count": 51,
   "id": "c33212bc-ed9a-4c9a-b975-006906c4a74e",
   "metadata": {
    "collapsed": true,
    "jupyter": {
     "outputs_hidden": true,
     "source_hidden": true
    },
    "tags": []
   },
   "outputs": [
    {
     "name": "stdout",
     "output_type": "stream",
     "text": [
      "0.012\n"
     ]
    }
   ],
   "source": [
    "b1.bid_360 # Category,self.bidding_round, id(self), self.user_id, self.auction_winner,\n",
    "           #self.bid_price, self.winning price, self.clicked\n",
    "#[x for x in b1.bid_360]    \n",
    "\n",
    "a = [x for x in b1.bid_360[-10:] if x[0] == 'BLOS']\n",
    "\n",
    "# a  = [x for x in b1.bid_360]\n",
    "# a = [trx_master[-10:] if x[0] == 'BLOS']\n",
    "#print(trx_master)\n",
    "a\n",
    "\n",
    "b = max(a, key=lambda x: x[6])[6]*1.20\n",
    "print(b)"
   ]
  },
  {
   "cell_type": "markdown",
   "id": "77748882-f5a9-4383-a6d3-55d701e8b63c",
   "metadata": {
    "tags": []
   },
   "source": [
    "## Monitor balance and go convervative"
   ]
  },
  {
   "cell_type": "code",
   "execution_count": 62,
   "id": "9130d5fd-cd98-4370-8585-3ac22450fdb5",
   "metadata": {
    "collapsed": true,
    "jupyter": {
     "outputs_hidden": true,
     "source_hidden": true
    },
    "tags": []
   },
   "outputs": [
    {
     "name": "stdout",
     "output_type": "stream",
     "text": [
      "1755.6575161955327\n",
      "45.451559031805296\n",
      "1797.109075227338\n"
     ]
    }
   ],
   "source": [
    "# Monitor if balance goes < -500\n",
    "# then scale back on the bids by 10% of the base price\n",
    "\n",
    "# filter last 10 bids for those you have lost \n",
    "a = [x for x in b1.bid_360 if x[0] == 'BWCN'] \n",
    "#print(a)\n",
    "\n",
    "# calculate current balance\n",
    "b = (sum(i[6] for i in a))# - sum(i[5] for i in a))/(max(1, len(a))))\n",
    "print(b)\n",
    "\n",
    "c = [x for x in b1.bid_360 if x[0] == 'BWCY']\n",
    "d = (sum(i[6] for i in c) )\n",
    "print(d)\n",
    "      \n",
    "e = len(c)\n",
    "\n",
    "f = e * 1\n",
    "\n",
    "\n",
    "balance = (b + d -f)\n",
    "print(balance)\n",
    "# then set bid_price = "
   ]
  },
  {
   "cell_type": "markdown",
   "id": "1638bc2a-25d9-4a5f-a3a6-d806a75b369d",
   "metadata": {},
   "source": [
    "---"
   ]
  },
  {
   "cell_type": "markdown",
   "id": "9d3b2087-12c5-4717-9d31-098501073799",
   "metadata": {},
   "source": [
    "## By Bidder"
   ]
  },
  {
   "cell_type": "markdown",
   "id": "ea99f900-a353-441d-9be7-0fcf219d92a4",
   "metadata": {},
   "source": [
    "### for b1"
   ]
  },
  {
   "cell_type": "code",
   "execution_count": 5,
   "id": "9cc81241-2346-4ffc-bfe9-5de0218a448f",
   "metadata": {
    "tags": []
   },
   "outputs": [
    {
     "name": "stdout",
     "output_type": "stream",
     "text": [
      "Bidding Rounds 68\n",
      "BWCY - Bid Win - Click YES: Count 6\n",
      "BWCN - Bid Win - Click NO: Count 6\n",
      "BLOS - Bid LOST: Count 73\n",
      "Balances {140597641037712: -1137.3780524846661, 140597641037568: -2732.4172326878843, 140597641037904: -1900.750469521423, 140597641038000: -1062.6159572654012, 140597641038240: -1377.4532861741338, 140597641038048: -2864.717876085827, 140597641038192: -1360.1529239092456, 140597641038144: -1007.8288178352286, 140597641038528: -1582.690163221218, 140597641038624: -1835.7285647786969}\n"
     ]
    }
   ],
   "source": [
    "# Summary Counts\n",
    "print('Bidding Rounds', b1.bidding_round)\n",
    "print('BWCY - Bid Win - Click YES: Count', len(b1.bid_win_click_yes))\n",
    "print('BWCN - Bid Win - Click NO: Count',len(b1.bid_win_click_no))\n",
    "print('BLOS - Bid LOST: Count',len(b1.bid_lost_list))\n",
    "print('Balances', auction.balances)"
   ]
  },
  {
   "cell_type": "markdown",
   "id": "e158c58f-7add-4809-81cb-6a3dadf14e1f",
   "metadata": {
    "tags": []
   },
   "source": [
    "## for b2"
   ]
  },
  {
   "cell_type": "code",
   "execution_count": 19,
   "id": "7a485c7a-6e11-4ddf-8273-2a0f18ccaf1f",
   "metadata": {
    "tags": []
   },
   "outputs": [
    {
     "name": "stdout",
     "output_type": "stream",
     "text": [
      "Bidding Rounds 80\n",
      "BWCY - Bid Win - Click YES: Count 4\n",
      "BWCN - Bid Win - Click NO: Count 7\n",
      "BLOS - Bid LOST: Count 78\n",
      "Balances {140609583389232: -3158.6218075228603, 140609583389472: -2036.9503334695264, 140609583388704: -1298.4005622498923, 140609583389088: -2422.3687593379536, 140609583389568: -1766.9887882813941, 140609583390528: -1248.6460170059604, 140609583390240: -1242.9306891310805, 140609583390048: -1558.7446566452027, 140609583389136: -1651.77405244511, 140608778463648: -1229.9684893382973}\n"
     ]
    }
   ],
   "source": [
    "# Summary Counts\n",
    "print('Bidding Rounds', b2.bidding_round)\n",
    "print('BWCY - Bid Win - Click YES: Count', len(b2.bid_win_click_yes))\n",
    "print('BWCN - Bid Win - Click NO: Count',len(b2.bid_win_click_no))\n",
    "print('BLOS - Bid LOST: Count',len(b2.bid_lost_list))\n",
    "print('Balances', auction.balances)"
   ]
  },
  {
   "cell_type": "markdown",
   "id": "42a7132e-86ed-4181-a72f-924287b1d816",
   "metadata": {
    "tags": []
   },
   "source": [
    "## for b3"
   ]
  },
  {
   "cell_type": "code",
   "execution_count": 33,
   "id": "024b85ed-abc7-4c12-922f-7c64aa15f4fd",
   "metadata": {},
   "outputs": [
    {
     "name": "stdout",
     "output_type": "stream",
     "text": [
      "Bidding Rounds 101\n",
      "BWCY - Bid Win - Click YES: Count 5\n",
      "BWCN - Bid Win - Click NO: Count 10\n",
      "BLOS - Bid LOST: Count 86\n",
      "Balances {140588383663200: -1147.6122670914983, 140588388722480: -1234.6556190166716, 140588388723152: -683.9171783816711, 140588388722912: -1103.359507689096, 140588388721088: -1428.327987930117, 140588388722816: -1782.5122671418005, 140588388720848: -1279.3556726191655, 140588388722864: -1182.55272084212, 140588388721616: -454.9901072078393, 140588388720944: -1439.5127313027533}\n"
     ]
    }
   ],
   "source": [
    "# Summary Counts\n",
    "print('Bidding Rounds', b3.bidding_round)\n",
    "print('BWCY - Bid Win - Click YES: Count', len(b3.bid_win_click_yes))\n",
    "print('BWCN - Bid Win - Click NO: Count',len(b3.bid_win_click_no))\n",
    "print('BLOS - Bid LOST: Count',len(b3.bid_lost_list))\n",
    "print('Balances', auction.balances)"
   ]
  },
  {
   "cell_type": "markdown",
   "id": "e5a05e68-6489-4c7c-b53b-036058fb45f0",
   "metadata": {},
   "source": [
    "---"
   ]
  },
  {
   "cell_type": "markdown",
   "id": "b21beb8e-9f63-49a1-8a88-0b794f2a2420",
   "metadata": {},
   "source": [
    "# User Info"
   ]
  },
  {
   "cell_type": "code",
   "execution_count": 34,
   "id": "ee3a2e67-0e9b-46aa-bdc4-e8d7b99c2bda",
   "metadata": {},
   "outputs": [
    {
     "name": "stdout",
     "output_type": "stream",
     "text": [
      "Bidding Rounds 89\n",
      "BWCY - Bid Wins User Clicked {0: 0, 2: 1, 3: 1, 6: 1}\n",
      "BWCN - Bid Wins User NO Clicked {0: 3, 1: 2, 5: 1, 8: 1, 9: 3}\n",
      "BLOS - Bids Lost {0: 9, 1: 12, 2: 5, 3: 7, 4: 9, 5: 5, 6: 5, 7: 9, 8: 21, 9: 6}\n"
     ]
    }
   ],
   "source": [
    "print('Bidding Rounds', b1.bidding_round)\n",
    "print('BWCY - Bid Wins User Clicked', {k: v for k, v in sorted(b1.bid_win_user_clicks.items(), key=lambda item: item[0])})\n",
    "print('BWCN - Bid Wins User NO Clicked', {k: v for k, v in sorted(b1.bid_wins_no_click.items(), key=lambda item: item[0])})\n",
    "print('BLOS - Bids Lost', {k: v for k, v in sorted(b1.bid_lost.items(), key=lambda item: item[0])})\n"
   ]
  },
  {
   "cell_type": "code",
   "execution_count": 16,
   "id": "2604e279-a9de-473b-a0aa-9887cd52a89b",
   "metadata": {
    "collapsed": true,
    "jupyter": {
     "outputs_hidden": true
    },
    "tags": []
   },
   "outputs": [
    {
     "data": {
      "text/plain": [
       "[['BWCY', 1, 140369076362160, 6, True, 0, 0, True],\n",
       " ['BLOS', 2, 140369076362160, 1, False, 0.01, 0.01, None],\n",
       " ['BLOS', 3, 140369076362160, 4, False, 0.01263, 0.034125, None],\n",
       " ['BLOS',\n",
       "  4,\n",
       "  140369076362160,\n",
       "  5,\n",
       "  False,\n",
       "  0.03753750000000001,\n",
       "  0.03753750000000001,\n",
       "  None],\n",
       " ['BWCY', 5, 140369076362160, 6, True, 0.08493, 0.07898, True],\n",
       " ['BLOS', 6, 140369076362160, 9, False, 0.08328, 0.08328, None],\n",
       " ['BLOS', 7, 140369076362160, 3, False, 0.00955, 0.09477599999999999, None],\n",
       " ['BLOS',\n",
       "  8,\n",
       "  140369076362160,\n",
       "  3,\n",
       "  False,\n",
       "  0.05403549999999999,\n",
       "  0.11373119999999998,\n",
       "  None],\n",
       " ['BLOS', 9, 140369076362160, 9, False, 0.03343, 0.13647743999999998, None],\n",
       " ['BLOS',\n",
       "  10,\n",
       "  140369076362160,\n",
       "  6,\n",
       "  False,\n",
       "  0.07888103499999997,\n",
       "  0.13647743999999998,\n",
       "  None],\n",
       " ['BLOS', 11, 140369076362160, 7, False, 0.0823, 0.08351, None],\n",
       " ['BLOS',\n",
       "  12,\n",
       "  140369076362160,\n",
       "  9,\n",
       "  False,\n",
       "  0.16377292799999996,\n",
       "  0.16377292799999996,\n",
       "  None],\n",
       " ['BLOS', 13, 140369076362160, 5, False, 0.035025, 0.10744785828571427, None],\n",
       " ['BLOS', 14, 140369076362160, 7, False, 0.012155, 0.19652751359999995, None],\n",
       " ['BWCY',\n",
       "  15,\n",
       "  140369076362160,\n",
       "  9,\n",
       "  True,\n",
       "  0.23583301631999992,\n",
       "  0.23583301631999992,\n",
       "  True],\n",
       " ['BLOS', 16, 140369076362160, 5, False, 0.0995, 0.2829996195839999, None],\n",
       " ['BWCY',\n",
       "  17,\n",
       "  140369076362160,\n",
       "  9,\n",
       "  True,\n",
       "  0.33959954350079985,\n",
       "  0.2829996195839999,\n",
       "  True],\n",
       " ['BLOS', 18, 140369076362160, 5, False, 0.0529, 0.33959954350079985, None],\n",
       " ['BLOS', 19, 140369076362160, 8, False, 0.04078, 0.177893292993736, None],\n",
       " ['BLOS', 20, 140369076362160, 8, False, 0.044085, 0.4075194522009598, None],\n",
       " ['BLOS', 21, 140369076362160, 3, False, 0.06743, 0.4075194522009598, None],\n",
       " ['BLOS',\n",
       "  22,\n",
       "  140369076362160,\n",
       "  9,\n",
       "  False,\n",
       "  0.48902334264115177,\n",
       "  0.48902334264115177,\n",
       "  None],\n",
       " ['BLOS', 23, 140369076362160, 4, False, 0.048865, 0.09918, None],\n",
       " ['BLOS', 24, 140369076362160, 0, False, 0.042935, 0.5868280111693821, None],\n",
       " ['BLOS', 25, 140369076362160, 3, False, 0.05247, 0.2871282300523307, None],\n",
       " ['BLOS',\n",
       "  26,\n",
       "  140369076362160,\n",
       "  8,\n",
       "  False,\n",
       "  0.28030282521277106,\n",
       "  0.7041936134032585,\n",
       "  None],\n",
       " ['BLOS',\n",
       "  27,\n",
       "  140369076362160,\n",
       "  6,\n",
       "  False,\n",
       "  0.33738672128858194,\n",
       "  0.33738672128858194,\n",
       "  None],\n",
       " ['BWCY',\n",
       "  28,\n",
       "  140369076362160,\n",
       "  8,\n",
       "  True,\n",
       "  0.8450323360839102,\n",
       "  0.8450323360839102,\n",
       "  True],\n",
       " ['BWCY',\n",
       "  29,\n",
       "  140369076362160,\n",
       "  9,\n",
       "  True,\n",
       "  0.8450323360839102,\n",
       "  0.4308563816466299,\n",
       "  True],\n",
       " ['BLOS', 30, 140369076362160, 6, False, 0.01588, 1.0140388033006922, None],\n",
       " ['BLOS', 31, 140369076362160, 9, False, 0.08751, 1.2168465639608306, None],\n",
       " ['BLOS', 32, 140369076362160, 0, False, 0.01939, 1.4602158767529967, None],\n",
       " ['BLOS',\n",
       "  33,\n",
       "  140369076362160,\n",
       "  2,\n",
       "  False,\n",
       "  1.752259052103596,\n",
       "  1.752259052103596,\n",
       "  None],\n",
       " ['BLOS', 34, 140369076362160, 1, False, 0.02704, 2.102710862524315, None],\n",
       " ['BLOS', 35, 140369076362160, 3, False, 0.04197, 2.523253035029178, None],\n",
       " ['BLOS',\n",
       "  36,\n",
       "  140369076362160,\n",
       "  9,\n",
       "  False,\n",
       "  3.027903642035014,\n",
       "  3.027903642035014,\n",
       "  None],\n",
       " ['BLOS',\n",
       "  37,\n",
       "  140369076362160,\n",
       "  9,\n",
       "  False,\n",
       "  1.6278150283136026,\n",
       "  3.6334843704420163,\n",
       "  None],\n",
       " ['BWCY',\n",
       "  38,\n",
       "  140369076362160,\n",
       "  8,\n",
       "  True,\n",
       "  1.7347807472827375,\n",
       "  1.6467699316658286,\n",
       "  True],\n",
       " ['BLOS',\n",
       "  39,\n",
       "  140369076362160,\n",
       "  1,\n",
       "  False,\n",
       "  1.7344307472827376,\n",
       "  4.36018124453042,\n",
       "  None],\n",
       " ['BLOS',\n",
       "  40,\n",
       "  140369076362160,\n",
       "  9,\n",
       "  False,\n",
       "  1.8325649972777298,\n",
       "  5.2322174934365036,\n",
       "  None],\n",
       " ['BLOS', 41, 140369076362160, 9, False, 0.05966, 6.278660992123804, None],\n",
       " ['BLOS',\n",
       "  42,\n",
       "  140369076362160,\n",
       "  5,\n",
       "  False,\n",
       "  2.9008704431378805,\n",
       "  7.534393190548564,\n",
       "  None],\n",
       " ['BLOS',\n",
       "  43,\n",
       "  140369076362160,\n",
       "  4,\n",
       "  False,\n",
       "  9.041271828658276,\n",
       "  9.041271828658276,\n",
       "  None],\n",
       " ['BWCN',\n",
       "  44,\n",
       "  140369076362160,\n",
       "  1,\n",
       "  True,\n",
       "  10.84952619438993,\n",
       "  10.84952619438993,\n",
       "  False],\n",
       " ['BLOS',\n",
       "  45,\n",
       "  140369076362160,\n",
       "  3,\n",
       "  False,\n",
       "  10.84952619438993,\n",
       "  10.84952619438993,\n",
       "  None],\n",
       " ['BLOS',\n",
       "  46,\n",
       "  140369076362160,\n",
       "  3,\n",
       "  False,\n",
       "  3.8195892150138713,\n",
       "  5.353344202047788,\n",
       "  None],\n",
       " ['BLOS', 47, 140369076362160, 8, False, 0.020365, 13.019431433267917, None],\n",
       " ['BWCY',\n",
       "  48,\n",
       "  140369076362160,\n",
       "  8,\n",
       "  True,\n",
       "  15.623317719921499,\n",
       "  15.623317719921499,\n",
       "  True],\n",
       " ['BLOS',\n",
       "  49,\n",
       "  140369076362160,\n",
       "  5,\n",
       "  False,\n",
       "  15.623317719921499,\n",
       "  18.747981263905796,\n",
       "  None],\n",
       " ['BWCN',\n",
       "  50,\n",
       "  140369076362160,\n",
       "  1,\n",
       "  True,\n",
       "  22.497577516686956,\n",
       "  8.965171318023883,\n",
       "  False],\n",
       " ['BLOS', 51, 140369076362160, 5, False, 0.024125, 22.497577516686956, None],\n",
       " ['BWCY', 52, 140369076362160, 8, True, 8.984712045676753, 0.09363, True],\n",
       " ['BLOS',\n",
       "  53,\n",
       "  140369076362160,\n",
       "  0,\n",
       "  False,\n",
       "  26.997093020024348,\n",
       "  26.997093020024348,\n",
       "  None],\n",
       " ['BLOS',\n",
       "  54,\n",
       "  140369076362160,\n",
       "  7,\n",
       "  False,\n",
       "  10.056439370243272,\n",
       "  32.396511624029216,\n",
       "  None],\n",
       " ['BWCN',\n",
       "  55,\n",
       "  140369076362160,\n",
       "  3,\n",
       "  True,\n",
       "  38.87581394883506,\n",
       "  38.87581394883506,\n",
       "  False],\n",
       " ['BLOS',\n",
       "  56,\n",
       "  140369076362160,\n",
       "  7,\n",
       "  False,\n",
       "  38.87581394883506,\n",
       "  38.87581394883506,\n",
       "  None],\n",
       " ['BLOS',\n",
       "  57,\n",
       "  140369076362160,\n",
       "  4,\n",
       "  False,\n",
       "  15.27388368693128,\n",
       "  46.65097673860207,\n",
       "  None],\n",
       " ['BWCY',\n",
       "  58,\n",
       "  140369076362160,\n",
       "  7,\n",
       "  True,\n",
       "  55.98117208632248,\n",
       "  55.98117208632248,\n",
       "  True],\n",
       " ['BLOS', 59, 140369076362160, 8, False, 0.06991, 0.06991, None],\n",
       " ['BLOS', 60, 140369076362160, 1, False, 0.06469, 67.17740650358698, None],\n",
       " ['BLOS',\n",
       "  61,\n",
       "  140369076362160,\n",
       "  5,\n",
       "  False,\n",
       "  80.61288780430438,\n",
       "  80.61288780430438,\n",
       "  None],\n",
       " ['BLOS', 62, 140369076362160, 8, False, 0.00744, 36.87436817646857, None],\n",
       " ['BLOS', 63, 140369076362160, 1, False, 0.01344, 96.73546536516525, None],\n",
       " ['BLOS', 64, 140369076362160, 7, False, 0.05499, 96.73546536516525, None],\n",
       " ['BLOS', 65, 140369076362160, 0, False, 0.04679, 116.0825584381983, None],\n",
       " ['BWCY',\n",
       "  66,\n",
       "  140369076362160,\n",
       "  4,\n",
       "  True,\n",
       "  139.29907012583797,\n",
       "  139.29907012583797,\n",
       "  True],\n",
       " ['BLOS',\n",
       "  67,\n",
       "  140369076362160,\n",
       "  2,\n",
       "  False,\n",
       "  139.29907012583797,\n",
       "  167.15888415100557,\n",
       "  None],\n",
       " ['BLOS', 68, 140369076362160, 4, False, 0.02824, 200.59066098120667, None],\n",
       " ['BLOS', 69, 140369076362160, 7, False, 0.06822, 240.708793177448, None],\n",
       " ['BWCY',\n",
       "  70,\n",
       "  140369076362160,\n",
       "  9,\n",
       "  True,\n",
       "  288.85055181293757,\n",
       "  288.85055181293757,\n",
       "  True],\n",
       " ['BLOS', 71, 140369076362160, 8, False, 0.040025, 346.62066217552507, None],\n",
       " ['BLOS',\n",
       "  72,\n",
       "  140369076362160,\n",
       "  4,\n",
       "  False,\n",
       "  145.2782803380431,\n",
       "  149.39575412541703,\n",
       "  None],\n",
       " ['BLOS',\n",
       "  73,\n",
       "  140369076362160,\n",
       "  8,\n",
       "  False,\n",
       "  160.732859218268,\n",
       "  415.9447946106301,\n",
       "  None],\n",
       " ['BLOS', 74, 140369076362160, 6, False, 0.01422, 499.1337535327561, None],\n",
       " ['BLOS', 75, 140369076362160, 7, False, 0.03593, 598.9605042393073, None],\n",
       " ['BLOS', 76, 140369076362160, 5, False, 0.01012, 258.14983916714436, None],\n",
       " ['BLOS',\n",
       "  77,\n",
       "  140369076362160,\n",
       "  7,\n",
       "  False,\n",
       "  718.7526050871687,\n",
       "  718.7526050871687,\n",
       "  None],\n",
       " ['BLOS', 78, 140369076362160, 7, False, 0.00961, 862.5031261046024, None],\n",
       " ['BLOS', 79, 140369076362160, 1, False, 0.010095, 1035.003751325523, None],\n",
       " ['BLOS', 80, 140369076362160, 0, False, 0.02637, 1242.0045015906273, None],\n",
       " ['BLOS', 81, 140369076362160, 2, False, 0.04419, 1490.4054019087528, None],\n",
       " ['BWCN',\n",
       "  82,\n",
       "  140369076362160,\n",
       "  0,\n",
       "  True,\n",
       "  1788.4864822905033,\n",
       "  1788.4864822905033,\n",
       "  False],\n",
       " ['BLOS',\n",
       "  82,\n",
       "  140369076362160,\n",
       "  0,\n",
       "  False,\n",
       "  1788.4864822905033,\n",
       "  846.038986532926,\n",
       "  None],\n",
       " ['BLOS', 82, 140369076362160, 0, False, 1788.4864822905033, 0.03834, None],\n",
       " ['BLOS',\n",
       "  82,\n",
       "  140369076362160,\n",
       "  0,\n",
       "  False,\n",
       "  1788.4864822905033,\n",
       "  659.7842865121158,\n",
       "  None],\n",
       " ['BLOS', 82, 140369076362160, 0, False, 1788.4864822905033, 0.06816, None],\n",
       " ['BLOS',\n",
       "  82,\n",
       "  140369076362160,\n",
       "  0,\n",
       "  False,\n",
       "  1788.4864822905033,\n",
       "  835.3846609884102,\n",
       "  None],\n",
       " ['BLOS',\n",
       "  82,\n",
       "  140369076362160,\n",
       "  0,\n",
       "  False,\n",
       "  1788.4864822905033,\n",
       "  858.6934641686585,\n",
       "  None],\n",
       " ['BLOS', 82, 140369076362160, 0, False, 1788.4864822905033, 0.00449, None],\n",
       " ['BLOS', 82, 140369076362160, 0, False, 1788.4864822905033, 0.07542, None],\n",
       " ['BLOS', 82, 140369076362160, 0, False, 1788.4864822905033, 0.023095, None],\n",
       " ['BLOS', 82, 140369076362160, 0, False, 1788.4864822905033, 0.09559, None],\n",
       " ['BLOS', 82, 140369076362160, 0, False, 1788.4864822905033, 0.07723, None],\n",
       " ['BLOS', 82, 140369076362160, 0, False, 1788.4864822905033, 0.04626, None],\n",
       " ['BLOS', 82, 140369076362160, 0, False, 1788.4864822905033, 0.03117, None],\n",
       " ['BLOS', 82, 140369076362160, 0, False, 1788.4864822905033, 0.07364, None],\n",
       " ['BLOS', 82, 140369076362160, 0, False, 1788.4864822905033, 0.033815, None],\n",
       " ['BLOS', 82, 140369076362160, 0, False, 1788.4864822905033, 0.00795, None],\n",
       " ['BLOS', 82, 140369076362160, 0, False, 1788.4864822905033, 0.002225, None],\n",
       " ['BLOS', 82, 140369076362160, 0, False, 1788.4864822905033, 0.005705, None],\n",
       " ['BLOS', 82, 140369076362160, 0, False, 1788.4864822905033, 0.024925, None]]"
      ]
     },
     "execution_count": 16,
     "metadata": {},
     "output_type": "execute_result"
    }
   ],
   "source": [
    "b1.bid_360"
   ]
  },
  {
   "cell_type": "code",
   "execution_count": null,
   "id": "ed604d9e-a344-4679-aeba-0764222bc49b",
   "metadata": {},
   "outputs": [],
   "source": []
  }
 ],
 "metadata": {
  "kernelspec": {
   "display_name": "Python 3 (ipykernel)",
   "language": "python",
   "name": "python3"
  },
  "language_info": {
   "codemirror_mode": {
    "name": "ipython",
    "version": 3
   },
   "file_extension": ".py",
   "mimetype": "text/x-python",
   "name": "python",
   "nbconvert_exporter": "python",
   "pygments_lexer": "ipython3",
   "version": "3.9.12"
  }
 },
 "nbformat": 4,
 "nbformat_minor": 5
}
