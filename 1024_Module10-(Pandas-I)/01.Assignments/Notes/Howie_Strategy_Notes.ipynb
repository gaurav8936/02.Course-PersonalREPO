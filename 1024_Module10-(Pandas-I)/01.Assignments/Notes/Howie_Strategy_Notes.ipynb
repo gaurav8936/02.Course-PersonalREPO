{
 "cells": [
  {
   "cell_type": "markdown",
   "id": "03c3aaa2-2fa0-4a60-8bec-9d46e84bd123",
   "metadata": {},
   "source": [
    "# Chat with Howie"
   ]
  },
  {
   "cell_type": "markdown",
   "id": "bd3f2219-6c05-4b1b-8d7f-ca811105bbe5",
   "metadata": {},
   "source": [
    "Auction - Howie\n",
    "\n",
    "Strategies : \n",
    "* 1.Total Randomness (Explore only)\n",
    "* 2. Big only 50 cents on everything\n",
    "* 3. I will bid 5 c on everything\n",
    "* 4. Explore - initially bid higher to learn more - over time I will taper that down\n",
    "* 5. Crowdsource strategy - you are notified the winning bid process:\n",
    "    1. Assume everyone else learns over time and start doing better - over time everyone gets smarter\n",
    "    2. User Howie - winning bid is 12c\n",
    "    3. Don’t spend any money to explore\n",
    "* 6. Winning bid info \n",
    "* 7. Don’t bid anything for first 50 rounds\n",
    "    1. Over time just jump in and copy everyone else\n",
    "* 8. you are not notified on who won? \n",
    "\tthis would change the strategy\n",
    "Multiple bidders - one user\n",
    "\tthere will be one user per round — but there will be tons of users\n",
    "\n",
    "    So, for a round, you will now who the user is and what the winning bid is\n",
    "\n",
    "\n",
    "\n",
    "    Variables\n",
    "        how much to bid (it will never be 0)\n",
    "\n",
    "    Comparison with MAB\n",
    "        crowdsourcing - machine with longest line"
   ]
  },
  {
   "cell_type": "code",
   "execution_count": null,
   "id": "9f045d3c-3475-461a-bdff-0e449f94bc3d",
   "metadata": {},
   "outputs": [],
   "source": []
  }
 ],
 "metadata": {
  "kernelspec": {
   "display_name": "Python 3 (ipykernel)",
   "language": "python",
   "name": "python3"
  },
  "language_info": {
   "codemirror_mode": {
    "name": "ipython",
    "version": 3
   },
   "file_extension": ".py",
   "mimetype": "text/x-python",
   "name": "python",
   "nbconvert_exporter": "python",
   "pygments_lexer": "ipython3",
   "version": "3.9.12"
  }
 },
 "nbformat": 4,
 "nbformat_minor": 5
}
