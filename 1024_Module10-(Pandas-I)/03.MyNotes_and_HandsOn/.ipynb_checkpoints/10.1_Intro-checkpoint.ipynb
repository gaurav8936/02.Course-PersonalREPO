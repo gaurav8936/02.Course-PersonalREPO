{
 "cells": [
  {
   "cell_type": "markdown",
   "id": "847051e9-f4d9-4adc-a2ab-203f4ff6bea9",
   "metadata": {},
   "source": [
    "# Intro"
   ]
  },
  {
   "cell_type": "markdown",
   "id": "cd44f5fa-1d75-4d4a-8b36-ba6eed1f2d62",
   "metadata": {},
   "source": [
    "    This year we'll introduce you to Pandas, one of the most important data packages in Python. If NumPy is the internal combustion engines of data analysis, Pandas is like the steering wheel. \n",
    "    \n",
    "    It's built on top of NumPy, and as you know, NumPy has a lot of low-level machinery that makes data crunching really efficient but actually will be kind of a lot of work to perform a data analysis just using NumPy arrays. So Pandas is a separate package that kind of addresses that gap. It takes all the power of NumPy but it wraps it in a user-friendly package. \n",
    "    \n",
    "    It gives us a higher level of tools that we can do a lot of things that we want to do with data. Panda has several core types that we need to become familiar with. \n",
    "    \n",
    "    First of all, there's an index that's kind of a way that we label the data. It's how we access different observations in the data set. \n",
    "    \n",
    "    Panda also has a series. So this is like a wrapper for a NumPy array. It represents a single column of data and then also includes an index. \n",
    "    \n",
    "    So a series would be something like a variable or a list of measurements that we have. \n",
    "    \n",
    "    And then finally, we have a data frame. And data frame is a combination of multiple series, and they also have an index. So you can think of this as a data table or a way to represent the data set that we're analyzing. \n",
    "    \n",
    "    So typically, a data frame, every column will represent a variable or a measurement, and every row will represent an observation of a set of variables or what we might call a unit of analysis. \n",
    "    \n",
    "    A lot of the syntax for Pandas was actually inspired by R. R is a very data-oriented language. So the syntax kind of really emphasizes functional programming and leads to very clean explicit code that makes clear all the operations that we want to perform on the data."
   ]
  },
  {
   "cell_type": "markdown",
   "id": "784dc831-38a2-4c2e-b8d8-1b6882c0986d",
   "metadata": {},
   "source": [
    "# Pandas"
   ]
  },
  {
   "cell_type": "code",
   "execution_count": 3,
   "id": "6c00d64b-98df-4fdb-9a34-6765594de2a4",
   "metadata": {},
   "outputs": [
    {
     "name": "stdout",
     "output_type": "stream",
     "text": [
      "3.9.12 (main, Apr  5 2022, 01:53:17) \n",
      "[Clang 12.0.0 ]\n",
      "1.21.5\n",
      "1.4.2\n"
     ]
    }
   ],
   "source": [
    "import sys\n",
    "print(sys.version)\n",
    "import numpy as np\n",
    "print(np.__version__)\n",
    "import pandas as pd\n",
    "print(pd.__version__)\n",
    "import matplotlib.pyplot as plt\n",
    "\n",
    "%matplotlib inline"
   ]
  },
  {
   "cell_type": "code",
   "execution_count": 4,
   "id": "cab10132-05e7-4dc6-90f6-d82997cb308d",
   "metadata": {},
   "outputs": [
    {
     "data": {
      "text/plain": [
       "pandas.core.series.Series"
      ]
     },
     "execution_count": 4,
     "metadata": {},
     "output_type": "execute_result"
    }
   ],
   "source": [
    "pd.Series"
   ]
  },
  {
   "cell_type": "markdown",
   "id": "f438cea1-2c7d-458c-855e-2055b1b9bd90",
   "metadata": {},
   "source": [
    "### Easiest way is to TYPECASE a list"
   ]
  },
  {
   "cell_type": "code",
   "execution_count": 9,
   "id": "309f4ee1-35f2-418b-9c2c-895dc21275b9",
   "metadata": {},
   "outputs": [],
   "source": [
    "quantities = pd.Series([5,4,6,7,8,10], name = 'quantities')"
   ]
  },
  {
   "cell_type": "code",
   "execution_count": 10,
   "id": "f7321384-1991-48f7-a24a-514cf1a4beac",
   "metadata": {},
   "outputs": [
    {
     "data": {
      "text/plain": [
       "0     5\n",
       "1     4\n",
       "2     6\n",
       "3     7\n",
       "4     8\n",
       "5    10\n",
       "Name: quantities, dtype: int64"
      ]
     },
     "execution_count": 10,
     "metadata": {},
     "output_type": "execute_result"
    }
   ],
   "source": [
    "quantities"
   ]
  },
  {
   "cell_type": "markdown",
   "id": "9f0b5b20-334e-49a4-9175-38e78ffec383",
   "metadata": {},
   "source": [
    "### to get numpy array"
   ]
  },
  {
   "cell_type": "code",
   "execution_count": 11,
   "id": "53089ce3-22a3-451a-9daa-c731d8fc23e0",
   "metadata": {},
   "outputs": [
    {
     "data": {
      "text/plain": [
       "array([ 5,  4,  6,  7,  8, 10])"
      ]
     },
     "execution_count": 11,
     "metadata": {},
     "output_type": "execute_result"
    }
   ],
   "source": [
    "quantities.values"
   ]
  },
  {
   "cell_type": "code",
   "execution_count": 25,
   "id": "c4b59551-b34b-4d54-80c5-a7edca06ffaa",
   "metadata": {},
   "outputs": [],
   "source": [
    "grades = pd.Series([75,84,96,57,88], name = 'midterms')"
   ]
  },
  {
   "cell_type": "code",
   "execution_count": 12,
   "id": "62f9ffb4-ad34-406e-a15f-d065980b768d",
   "metadata": {},
   "outputs": [
    {
     "data": {
      "text/plain": [
       "0    75\n",
       "1    84\n",
       "2    96\n",
       "3    57\n",
       "4    88\n",
       "Name: grades, dtype: int64"
      ]
     },
     "execution_count": 12,
     "metadata": {},
     "output_type": "execute_result"
    }
   ],
   "source": [
    "grades"
   ]
  },
  {
   "cell_type": "markdown",
   "id": "db51538c-c282-4e3c-bed0-8055893b7fe9",
   "metadata": {},
   "source": [
    "### to get numpy aray"
   ]
  },
  {
   "cell_type": "code",
   "execution_count": 13,
   "id": "5973051d-9785-4cc8-b005-04233d31ec55",
   "metadata": {},
   "outputs": [
    {
     "data": {
      "text/plain": [
       "array([75, 84, 96, 57, 88])"
      ]
     },
     "execution_count": 13,
     "metadata": {},
     "output_type": "execute_result"
    }
   ],
   "source": [
    "grades.values"
   ]
  },
  {
   "cell_type": "markdown",
   "id": "c727058a-5ecc-4ba3-af3e-ebda1e3b1370",
   "metadata": {},
   "source": [
    "# Under the hood, the values are stored as Numpy Arrays"
   ]
  },
  {
   "cell_type": "code",
   "execution_count": 14,
   "id": "f54b272a-eec0-4f62-927f-e72097c094f3",
   "metadata": {},
   "outputs": [],
   "source": [
    "grades = grades + 1"
   ]
  },
  {
   "cell_type": "code",
   "execution_count": 15,
   "id": "340f3c64-d6ac-4621-9ace-86cd1a5e7ccc",
   "metadata": {},
   "outputs": [
    {
     "data": {
      "text/plain": [
       "0    76\n",
       "1    85\n",
       "2    97\n",
       "3    58\n",
       "4    89\n",
       "Name: grades, dtype: int64"
      ]
     },
     "execution_count": 15,
     "metadata": {},
     "output_type": "execute_result"
    }
   ],
   "source": [
    "grades"
   ]
  },
  {
   "cell_type": "code",
   "execution_count": 16,
   "id": "e269335b-7560-4504-97d8-00e0d2d47bbf",
   "metadata": {},
   "outputs": [
    {
     "data": {
      "text/plain": [
       "0     True\n",
       "1     True\n",
       "2     True\n",
       "3    False\n",
       "4     True\n",
       "Name: grades, dtype: bool"
      ]
     },
     "execution_count": 16,
     "metadata": {},
     "output_type": "execute_result"
    }
   ],
   "source": [
    "grades > 70"
   ]
  },
  {
   "cell_type": "markdown",
   "id": "ebb4f469-fe69-4967-84be-b675b9c41ca6",
   "metadata": {},
   "source": [
    "## index"
   ]
  },
  {
   "attachments": {
    "7b026c83-f831-45f2-b0f9-aadf6b73b486.png": {
     "image/png": "[encoded data removed]"
    }
   },
   "cell_type": "markdown",
   "id": "ecfc22ab-d5af-4f4e-aaff-5faba53dbcd5",
   "metadata": {},
   "source": [
    "![image.png](attachment:7b026c83-f831-45f2-b0f9-aadf6b73b486.png)"
   ]
  },
  {
   "cell_type": "code",
   "execution_count": 17,
   "id": "3bc61c1a-7a55-49d5-bafc-f648bf80e658",
   "metadata": {},
   "outputs": [
    {
     "data": {
      "text/plain": [
       "RangeIndex(start=0, stop=5, step=1)"
      ]
     },
     "execution_count": 17,
     "metadata": {},
     "output_type": "execute_result"
    }
   ],
   "source": [
    "grades.index"
   ]
  },
  {
   "cell_type": "code",
   "execution_count": 18,
   "id": "13fb9103-e434-4a3e-b7e3-e8dca7891b9a",
   "metadata": {},
   "outputs": [],
   "source": [
    "# THIS IS A NEW ATTRIBUTE"
   ]
  },
  {
   "cell_type": "markdown",
   "id": "876af4e6-f78e-406d-974f-cceda774e2b4",
   "metadata": {},
   "source": [
    "### might be best to use strings as index"
   ]
  },
  {
   "cell_type": "code",
   "execution_count": 29,
   "id": "5a23e3bb-f861-4db8-b0c5-ae2205f27f3a",
   "metadata": {},
   "outputs": [],
   "source": [
    "grades.index = pd.Index(['dfg', 'tyt', 'yuu', 'iiio', 'poop'], name = 'student')"
   ]
  },
  {
   "cell_type": "markdown",
   "id": "944e07b6-633c-4906-969b-90b95457b677",
   "metadata": {},
   "source": [
    "---"
   ]
  },
  {
   "cell_type": "code",
   "execution_count": 30,
   "id": "1d3e404a-d81c-4308-9d72-791e8d50d7b5",
   "metadata": {},
   "outputs": [
    {
     "data": {
      "text/plain": [
       "student\n",
       "dfg     75\n",
       "tyt     84\n",
       "yuu     96\n",
       "iiio    57\n",
       "poop    88\n",
       "Name: midterms, dtype: int64"
      ]
     },
     "execution_count": 30,
     "metadata": {},
     "output_type": "execute_result"
    }
   ],
   "source": [
    "grades"
   ]
  },
  {
   "cell_type": "markdown",
   "id": "3368f5c9-e260-42c8-99ad-25cd6c8f147a",
   "metadata": {},
   "source": [
    "---"
   ]
  },
  {
   "cell_type": "code",
   "execution_count": 31,
   "id": "0334c804-af6e-4258-bb07-cc9b93226281",
   "metadata": {},
   "outputs": [
    {
     "data": {
      "text/plain": [
       "88"
      ]
     },
     "execution_count": 31,
     "metadata": {},
     "output_type": "execute_result"
    }
   ],
   "source": [
    "grades['poop']"
   ]
  },
  {
   "cell_type": "code",
   "execution_count": 33,
   "id": "4e4d3ed7-9c76-4480-b1fd-008ed8d12bd3",
   "metadata": {},
   "outputs": [
    {
     "data": {
      "text/plain": [
       "student\n",
       "poop    88\n",
       "iiio    57\n",
       "Name: midterms, dtype: int64"
      ]
     },
     "execution_count": 33,
     "metadata": {},
     "output_type": "execute_result"
    }
   ],
   "source": [
    "grades[['poop', 'iiio']]"
   ]
  },
  {
   "cell_type": "code",
   "execution_count": 35,
   "id": "4bd78a9f-6c85-4c51-858b-01438229e896",
   "metadata": {},
   "outputs": [
    {
     "data": {
      "text/plain": [
       "student\n",
       "dfg     75\n",
       "tyt     84\n",
       "yuu     96\n",
       "poop    88\n",
       "Name: midterms, dtype: int64"
      ]
     },
     "execution_count": 35,
     "metadata": {},
     "output_type": "execute_result"
    }
   ],
   "source": [
    "grades[grades>=70]\n",
    "\n",
    "# subseries"
   ]
  },
  {
   "cell_type": "markdown",
   "id": "03d44c32-fd1d-4400-bfaa-a05bfbad646c",
   "metadata": {},
   "source": [
    "## the index always corresponds to the value"
   ]
  },
  {
   "cell_type": "code",
   "execution_count": 36,
   "id": "018d790d-ee87-4d40-840c-c4cc4a2f9e7e",
   "metadata": {},
   "outputs": [],
   "source": [
    "# the index is a way to keep track of what each value means"
   ]
  },
  {
   "cell_type": "markdown",
   "id": "b5f0e803-adbf-4ae0-a6a1-57872abd59f0",
   "metadata": {},
   "source": [
    "---"
   ]
  },
  {
   "cell_type": "code",
   "execution_count": 37,
   "id": "993f911a-2fa1-44ef-98b4-613623cd113d",
   "metadata": {},
   "outputs": [],
   "source": [
    "# easy integration with matplotlib"
   ]
  },
  {
   "cell_type": "code",
   "execution_count": 38,
   "id": "d225de4e-9603-4f93-8bed-f3b232bab23f",
   "metadata": {},
   "outputs": [
    {
     "data": {
      "text/plain": [
       "<AxesSubplot:>"
      ]
     },
     "execution_count": 38,
     "metadata": {},
     "output_type": "execute_result"
    },
    {
     "data": {
      "image/png": "[encoded data removed]",
      "text/plain": [
       "<Figure size 432x288 with 1 Axes>"
      ]
     },
     "metadata": {
      "needs_background": "light"
     },
     "output_type": "display_data"
    }
   ],
   "source": [
    "grades.hist()"
   ]
  },
  {
   "cell_type": "code",
   "execution_count": 39,
   "id": "ddf9b423-44c9-4c7a-93b4-052415d338cd",
   "metadata": {},
   "outputs": [
    {
     "data": {
      "text/plain": [
       "Text(0.5, 1.0, 'Distribution of midterm grades')"
      ]
     },
     "execution_count": 39,
     "metadata": {},
     "output_type": "execute_result"
    },
    {
     "data": {
      "image/png": "[encoded data removed]",
      "text/plain": [
       "<Figure size 432x288 with 1 Axes>"
      ]
     },
     "metadata": {
      "needs_background": "light"
     },
     "output_type": "display_data"
    }
   ],
   "source": [
    "grades.hist(bins= 2)\n",
    "plt.title(\"Distribution of midterm grades\")"
   ]
  },
  {
   "cell_type": "code",
   "execution_count": null,
   "id": "bd903488-07aa-47ec-b1c9-bbd9e0092838",
   "metadata": {},
   "outputs": [],
   "source": []
  }
 ],
 "metadata": {
  "kernelspec": {
   "display_name": "Python 3 (ipykernel)",
   "language": "python",
   "name": "python3"
  },
  "language_info": {
   "codemirror_mode": {
    "name": "ipython",
    "version": 3
   },
   "file_extension": ".py",
   "mimetype": "text/x-python",
   "name": "python",
   "nbconvert_exporter": "python",
   "pygments_lexer": "ipython3",
   "version": "3.9.12"
  }
 },
 "nbformat": 4,
 "nbformat_minor": 5
}
