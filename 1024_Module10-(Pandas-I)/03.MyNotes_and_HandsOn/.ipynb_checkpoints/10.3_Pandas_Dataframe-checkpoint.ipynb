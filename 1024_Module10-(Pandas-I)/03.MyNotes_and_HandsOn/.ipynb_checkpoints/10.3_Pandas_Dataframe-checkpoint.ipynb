{
 "cells": [
  {
   "cell_type": "markdown",
   "id": "068c4b0e-786a-416e-b4f1-dc80ebce7387",
   "metadata": {},
   "source": [
    "# Pandas DataFrame"
   ]
  },
  {
   "cell_type": "code",
   "execution_count": 1,
   "id": "c7a09ec4-3ac3-4a1b-9f9e-8f1b3125d353",
   "metadata": {},
   "outputs": [
    {
     "name": "stdout",
     "output_type": "stream",
     "text": [
      "3.9.12 (main, Apr  5 2022, 01:53:17) \n",
      "[Clang 12.0.0 ]\n",
      "1.21.5\n",
      "1.4.2\n"
     ]
    }
   ],
   "source": [
    "import sys\n",
    "print(sys.version)\n",
    "import numpy as np\n",
    "print(np.__version__)\n",
    "import pandas as pd\n",
    "print(pd.__version__)\n",
    "import matplotlib.pyplot as plt\n",
    "\n",
    "%matplotlib inline"
   ]
  },
  {
   "cell_type": "code",
   "execution_count": 2,
   "id": "3b15200a-11b9-41fb-b0ad-c4f9832c1cf2",
   "metadata": {},
   "outputs": [],
   "source": [
    "# rectangular table of data"
   ]
  },
  {
   "cell_type": "code",
   "execution_count": 21,
   "id": "0dad58d5-7738-48ac-8edd-3b4a64dfb8f0",
   "metadata": {},
   "outputs": [],
   "source": [
    "grades1 = pd.Series([88,78,92,56,79,92])\n",
    "grades2 = pd.Series([84,81,58, 84,90,78])\n",
    "\n",
    "grades1.index = pd.Index([\"Ben\", \"May\", \"Sue\", \"Blake\", \"Amy\", \"Steve\"], name = 'student')\n",
    "grades2.index = grades1.index"
   ]
  },
  {
   "attachments": {
    "96910e99-934a-48a4-8527-e0ffd65699aa.png": {
     "image/png": "[encoded data removed]"
    }
   },
   "cell_type": "markdown",
   "id": "03f4eb15-e716-46bf-850d-0284aee75e89",
   "metadata": {},
   "source": [
    "![image.png](attachment:96910e99-934a-48a4-8527-e0ffd65699aa.png)"
   ]
  },
  {
   "cell_type": "markdown",
   "id": "2ff6e0c4-39be-4135-a6a5-c9db3e770a24",
   "metadata": {},
   "source": [
    "### pandas indices are immutable \n",
    "    it is safe for more than one series to share an index"
   ]
  },
  {
   "cell_type": "code",
   "execution_count": 4,
   "id": "7e6ac6f1-5518-4e19-8692-6b1381d82629",
   "metadata": {},
   "outputs": [
    {
     "data": {
      "text/plain": [
       "student\n",
       "Ben      84\n",
       "May      81\n",
       "Sue      58\n",
       "Blake    84\n",
       "Amy      90\n",
       "Steve    78\n",
       "dtype: int64"
      ]
     },
     "execution_count": 4,
     "metadata": {},
     "output_type": "execute_result"
    }
   ],
   "source": [
    "grades2"
   ]
  },
  {
   "cell_type": "markdown",
   "id": "a1ebaaeb-c9e3-43f5-ac19-b2322d443913",
   "metadata": {},
   "source": [
    "___\n"
   ]
  },
  {
   "cell_type": "code",
   "execution_count": 5,
   "id": "11117e8b-288a-48ae-98b5-c0c7c17050f5",
   "metadata": {},
   "outputs": [],
   "source": [
    "# create a dataframe"
   ]
  },
  {
   "cell_type": "code",
   "execution_count": 8,
   "id": "d58bfcf0-46bc-4884-991e-dcee517c94cf",
   "metadata": {},
   "outputs": [
    {
     "data": {
      "text/html": [
       "<div>\n",
       "<style scoped>\n",
       "    .dataframe tbody tr th:only-of-type {\n",
       "        vertical-align: middle;\n",
       "    }\n",
       "\n",
       "    .dataframe tbody tr th {\n",
       "        vertical-align: top;\n",
       "    }\n",
       "\n",
       "    .dataframe thead th {\n",
       "        text-align: right;\n",
       "    }\n",
       "</style>\n",
       "<table border=\"1\" class=\"dataframe\">\n",
       "  <thead>\n",
       "    <tr style=\"text-align: right;\">\n",
       "      <th>student</th>\n",
       "      <th>Ben</th>\n",
       "      <th>May</th>\n",
       "      <th>Sue</th>\n",
       "      <th>Blake</th>\n",
       "      <th>Amy</th>\n",
       "      <th>Steve</th>\n",
       "    </tr>\n",
       "  </thead>\n",
       "  <tbody>\n",
       "    <tr>\n",
       "      <th>0</th>\n",
       "      <td>88</td>\n",
       "      <td>78</td>\n",
       "      <td>92</td>\n",
       "      <td>56</td>\n",
       "      <td>79</td>\n",
       "      <td>92</td>\n",
       "    </tr>\n",
       "    <tr>\n",
       "      <th>1</th>\n",
       "      <td>84</td>\n",
       "      <td>81</td>\n",
       "      <td>58</td>\n",
       "      <td>84</td>\n",
       "      <td>90</td>\n",
       "      <td>78</td>\n",
       "    </tr>\n",
       "  </tbody>\n",
       "</table>\n",
       "</div>"
      ],
      "text/plain": [
       "student  Ben  May  Sue  Blake  Amy  Steve\n",
       "0         88   78   92     56   79     92\n",
       "1         84   81   58     84   90     78"
      ]
     },
     "execution_count": 8,
     "metadata": {},
     "output_type": "execute_result"
    }
   ],
   "source": [
    "gradebook = pd.DataFrame([grades1, grades2])\n",
    "gradebook"
   ]
  },
  {
   "cell_type": "code",
   "execution_count": 9,
   "id": "1817ec55-59e7-4b43-8a5e-9fbee62a3d2c",
   "metadata": {},
   "outputs": [],
   "source": [
    "# the students are not aligned"
   ]
  },
  {
   "cell_type": "code",
   "execution_count": 10,
   "id": "0f588679-529d-4f08-8fb5-c1438d71a761",
   "metadata": {},
   "outputs": [],
   "source": [
    "# we need to transpose"
   ]
  },
  {
   "cell_type": "code",
   "execution_count": 11,
   "id": "2955ae11-18bc-4d81-b5ee-744d6251909f",
   "metadata": {},
   "outputs": [
    {
     "data": {
      "text/html": [
       "<div>\n",
       "<style scoped>\n",
       "    .dataframe tbody tr th:only-of-type {\n",
       "        vertical-align: middle;\n",
       "    }\n",
       "\n",
       "    .dataframe tbody tr th {\n",
       "        vertical-align: top;\n",
       "    }\n",
       "\n",
       "    .dataframe thead th {\n",
       "        text-align: right;\n",
       "    }\n",
       "</style>\n",
       "<table border=\"1\" class=\"dataframe\">\n",
       "  <thead>\n",
       "    <tr style=\"text-align: right;\">\n",
       "      <th></th>\n",
       "      <th>0</th>\n",
       "      <th>1</th>\n",
       "    </tr>\n",
       "    <tr>\n",
       "      <th>student</th>\n",
       "      <th></th>\n",
       "      <th></th>\n",
       "    </tr>\n",
       "  </thead>\n",
       "  <tbody>\n",
       "    <tr>\n",
       "      <th>Ben</th>\n",
       "      <td>88</td>\n",
       "      <td>84</td>\n",
       "    </tr>\n",
       "    <tr>\n",
       "      <th>May</th>\n",
       "      <td>78</td>\n",
       "      <td>81</td>\n",
       "    </tr>\n",
       "    <tr>\n",
       "      <th>Sue</th>\n",
       "      <td>92</td>\n",
       "      <td>58</td>\n",
       "    </tr>\n",
       "    <tr>\n",
       "      <th>Blake</th>\n",
       "      <td>56</td>\n",
       "      <td>84</td>\n",
       "    </tr>\n",
       "    <tr>\n",
       "      <th>Amy</th>\n",
       "      <td>79</td>\n",
       "      <td>90</td>\n",
       "    </tr>\n",
       "    <tr>\n",
       "      <th>Steve</th>\n",
       "      <td>92</td>\n",
       "      <td>78</td>\n",
       "    </tr>\n",
       "  </tbody>\n",
       "</table>\n",
       "</div>"
      ],
      "text/plain": [
       "          0   1\n",
       "student        \n",
       "Ben      88  84\n",
       "May      78  81\n",
       "Sue      92  58\n",
       "Blake    56  84\n",
       "Amy      79  90\n",
       "Steve    92  78"
      ]
     },
     "execution_count": 11,
     "metadata": {},
     "output_type": "execute_result"
    }
   ],
   "source": [
    "gradebook = pd.DataFrame([grades1, grades2]).T\n",
    "gradebook"
   ]
  },
  {
   "cell_type": "code",
   "execution_count": 12,
   "id": "b13c94c4-1ef8-485d-bc64-dacf3b646846",
   "metadata": {},
   "outputs": [],
   "source": [
    "# the index is student"
   ]
  },
  {
   "cell_type": "code",
   "execution_count": 13,
   "id": "28c1fb4f-a6f9-401a-9689-41b2b80425a7",
   "metadata": {},
   "outputs": [],
   "source": [
    "# our variables do not hav a nice name"
   ]
  },
  {
   "cell_type": "markdown",
   "id": "c8140a44-dd0f-4911-b269-52c304e8e8ca",
   "metadata": {},
   "source": [
    "#### option 1 is to go back and update the original series"
   ]
  },
  {
   "cell_type": "code",
   "execution_count": 16,
   "id": "260693a5-010b-4ed2-b73a-a272ea32cf93",
   "metadata": {},
   "outputs": [],
   "source": [
    "# grades1 = pd.Series([88,78,92,56,79,92], name = 'midterm')\n",
    "# grades2 = pd.Series([84,81,58, 84,90,78], name = 'final')"
   ]
  },
  {
   "cell_type": "markdown",
   "id": "15a2512a-b493-449e-aed1-38d9b104a70b",
   "metadata": {},
   "source": [
    "---"
   ]
  },
  {
   "cell_type": "markdown",
   "id": "1653c24b-57dc-4169-961a-cd8bb65383ca",
   "metadata": {},
   "source": [
    "## alternate"
   ]
  },
  {
   "cell_type": "code",
   "execution_count": 22,
   "id": "982820ff-23d9-4d69-be40-3df831498b50",
   "metadata": {},
   "outputs": [],
   "source": [
    "gradebook.columns = ['Mid-term', 'Final']"
   ]
  },
  {
   "cell_type": "code",
   "execution_count": 18,
   "id": "8bcd7721-40a8-443e-9d46-faec38b7264e",
   "metadata": {},
   "outputs": [
    {
     "data": {
      "text/html": [
       "<div>\n",
       "<style scoped>\n",
       "    .dataframe tbody tr th:only-of-type {\n",
       "        vertical-align: middle;\n",
       "    }\n",
       "\n",
       "    .dataframe tbody tr th {\n",
       "        vertical-align: top;\n",
       "    }\n",
       "\n",
       "    .dataframe thead th {\n",
       "        text-align: right;\n",
       "    }\n",
       "</style>\n",
       "<table border=\"1\" class=\"dataframe\">\n",
       "  <thead>\n",
       "    <tr style=\"text-align: right;\">\n",
       "      <th></th>\n",
       "      <th>Mid-term</th>\n",
       "      <th>Final</th>\n",
       "    </tr>\n",
       "    <tr>\n",
       "      <th>student</th>\n",
       "      <th></th>\n",
       "      <th></th>\n",
       "    </tr>\n",
       "  </thead>\n",
       "  <tbody>\n",
       "    <tr>\n",
       "      <th>Ben</th>\n",
       "      <td>88</td>\n",
       "      <td>84</td>\n",
       "    </tr>\n",
       "    <tr>\n",
       "      <th>May</th>\n",
       "      <td>78</td>\n",
       "      <td>81</td>\n",
       "    </tr>\n",
       "    <tr>\n",
       "      <th>Sue</th>\n",
       "      <td>92</td>\n",
       "      <td>58</td>\n",
       "    </tr>\n",
       "    <tr>\n",
       "      <th>Blake</th>\n",
       "      <td>56</td>\n",
       "      <td>84</td>\n",
       "    </tr>\n",
       "    <tr>\n",
       "      <th>Amy</th>\n",
       "      <td>79</td>\n",
       "      <td>90</td>\n",
       "    </tr>\n",
       "    <tr>\n",
       "      <th>Steve</th>\n",
       "      <td>92</td>\n",
       "      <td>78</td>\n",
       "    </tr>\n",
       "  </tbody>\n",
       "</table>\n",
       "</div>"
      ],
      "text/plain": [
       "         Mid-term  Final\n",
       "student                 \n",
       "Ben            88     84\n",
       "May            78     81\n",
       "Sue            92     58\n",
       "Blake          56     84\n",
       "Amy            79     90\n",
       "Steve          92     78"
      ]
     },
     "execution_count": 18,
     "metadata": {},
     "output_type": "execute_result"
    }
   ],
   "source": [
    "gradebook"
   ]
  },
  {
   "cell_type": "markdown",
   "id": "c8b9ba47-2181-44a2-9577-05dfd64708b4",
   "metadata": {},
   "source": [
    "---"
   ]
  },
  {
   "cell_type": "markdown",
   "id": "5834bd9e-55d0-4876-8611-79b490fdbd85",
   "metadata": {},
   "source": [
    "## a common practice is to pass a dictionary into a dataframe"
   ]
  },
  {
   "cell_type": "code",
   "execution_count": 23,
   "id": "c946f6cb-5cc3-474a-828e-5a2b56110161",
   "metadata": {},
   "outputs": [],
   "source": [
    "gradebook = pd.DataFrame({'midterm':grades1, 'final': grades2})"
   ]
  },
  {
   "cell_type": "code",
   "execution_count": 24,
   "id": "ee02a252-1b75-406c-a996-9c10e18439a9",
   "metadata": {},
   "outputs": [
    {
     "data": {
      "text/html": [
       "<div>\n",
       "<style scoped>\n",
       "    .dataframe tbody tr th:only-of-type {\n",
       "        vertical-align: middle;\n",
       "    }\n",
       "\n",
       "    .dataframe tbody tr th {\n",
       "        vertical-align: top;\n",
       "    }\n",
       "\n",
       "    .dataframe thead th {\n",
       "        text-align: right;\n",
       "    }\n",
       "</style>\n",
       "<table border=\"1\" class=\"dataframe\">\n",
       "  <thead>\n",
       "    <tr style=\"text-align: right;\">\n",
       "      <th></th>\n",
       "      <th>midterm</th>\n",
       "      <th>final</th>\n",
       "    </tr>\n",
       "    <tr>\n",
       "      <th>student</th>\n",
       "      <th></th>\n",
       "      <th></th>\n",
       "    </tr>\n",
       "  </thead>\n",
       "  <tbody>\n",
       "    <tr>\n",
       "      <th>Ben</th>\n",
       "      <td>88</td>\n",
       "      <td>84</td>\n",
       "    </tr>\n",
       "    <tr>\n",
       "      <th>May</th>\n",
       "      <td>78</td>\n",
       "      <td>81</td>\n",
       "    </tr>\n",
       "    <tr>\n",
       "      <th>Sue</th>\n",
       "      <td>92</td>\n",
       "      <td>58</td>\n",
       "    </tr>\n",
       "    <tr>\n",
       "      <th>Blake</th>\n",
       "      <td>56</td>\n",
       "      <td>84</td>\n",
       "    </tr>\n",
       "    <tr>\n",
       "      <th>Amy</th>\n",
       "      <td>79</td>\n",
       "      <td>90</td>\n",
       "    </tr>\n",
       "    <tr>\n",
       "      <th>Steve</th>\n",
       "      <td>92</td>\n",
       "      <td>78</td>\n",
       "    </tr>\n",
       "  </tbody>\n",
       "</table>\n",
       "</div>"
      ],
      "text/plain": [
       "         midterm  final\n",
       "student                \n",
       "Ben           88     84\n",
       "May           78     81\n",
       "Sue           92     58\n",
       "Blake         56     84\n",
       "Amy           79     90\n",
       "Steve         92     78"
      ]
     },
     "execution_count": 24,
     "metadata": {},
     "output_type": "execute_result"
    }
   ],
   "source": [
    "gradebook"
   ]
  },
  {
   "cell_type": "code",
   "execution_count": null,
   "id": "0d8d16b4-85b5-4c18-92ce-38a8d7ca2cac",
   "metadata": {},
   "outputs": [],
   "source": []
  }
 ],
 "metadata": {
  "kernelspec": {
   "display_name": "Python 3 (ipykernel)",
   "language": "python",
   "name": "python3"
  },
  "language_info": {
   "codemirror_mode": {
    "name": "ipython",
    "version": 3
   },
   "file_extension": ".py",
   "mimetype": "text/x-python",
   "name": "python",
   "nbconvert_exporter": "python",
   "pygments_lexer": "ipython3",
   "version": "3.9.12"
  }
 },
 "nbformat": 4,
 "nbformat_minor": 5
}
