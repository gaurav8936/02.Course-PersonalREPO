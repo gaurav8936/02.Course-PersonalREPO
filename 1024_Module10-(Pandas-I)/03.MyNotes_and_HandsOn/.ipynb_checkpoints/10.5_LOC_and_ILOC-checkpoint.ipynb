{
 "cells": [
  {
   "cell_type": "markdown",
   "id": "41679d3e-3e38-4e9b-8895-d55608c5921b",
   "metadata": {},
   "source": [
    "# loc and iloc"
   ]
  },
  {
   "cell_type": "code",
   "execution_count": 1,
   "id": "369a0b14-618b-4484-9e13-62971f82c6fe",
   "metadata": {},
   "outputs": [
    {
     "name": "stdout",
     "output_type": "stream",
     "text": [
      "3.9.12 (main, Apr  5 2022, 01:53:17) \n",
      "[Clang 12.0.0 ]\n",
      "1.21.5\n",
      "1.4.2\n"
     ]
    }
   ],
   "source": [
    "import sys\n",
    "print(sys.version)\n",
    "import numpy as np\n",
    "print(np.__version__)\n",
    "import pandas as pd\n",
    "print(pd.__version__)\n",
    "import matplotlib.pyplot as plt\n",
    "\n",
    "%matplotlib inline"
   ]
  },
  {
   "cell_type": "code",
   "execution_count": 2,
   "id": "fdc03d03-6d29-4e5e-a3c2-82b1589d6e73",
   "metadata": {},
   "outputs": [
    {
     "data": {
      "text/html": [
       "<div>\n",
       "<style scoped>\n",
       "    .dataframe tbody tr th:only-of-type {\n",
       "        vertical-align: middle;\n",
       "    }\n",
       "\n",
       "    .dataframe tbody tr th {\n",
       "        vertical-align: top;\n",
       "    }\n",
       "\n",
       "    .dataframe thead th {\n",
       "        text-align: right;\n",
       "    }\n",
       "</style>\n",
       "<table border=\"1\" class=\"dataframe\">\n",
       "  <thead>\n",
       "    <tr style=\"text-align: right;\">\n",
       "      <th></th>\n",
       "      <th>test_0</th>\n",
       "      <th>test_1</th>\n",
       "      <th>test_2</th>\n",
       "      <th>test_3</th>\n",
       "      <th>test_4</th>\n",
       "    </tr>\n",
       "  </thead>\n",
       "  <tbody>\n",
       "    <tr>\n",
       "      <th>mouse_0</th>\n",
       "      <td>14</td>\n",
       "      <td>2</td>\n",
       "      <td>5</td>\n",
       "      <td>3</td>\n",
       "      <td>7</td>\n",
       "    </tr>\n",
       "    <tr>\n",
       "      <th>mouse_1</th>\n",
       "      <td>1</td>\n",
       "      <td>2</td>\n",
       "      <td>11</td>\n",
       "      <td>3</td>\n",
       "      <td>18</td>\n",
       "    </tr>\n",
       "    <tr>\n",
       "      <th>mouse_2</th>\n",
       "      <td>10</td>\n",
       "      <td>20</td>\n",
       "      <td>12</td>\n",
       "      <td>2</td>\n",
       "      <td>9</td>\n",
       "    </tr>\n",
       "    <tr>\n",
       "      <th>mouse_3</th>\n",
       "      <td>1</td>\n",
       "      <td>7</td>\n",
       "      <td>2</td>\n",
       "      <td>1</td>\n",
       "      <td>13</td>\n",
       "    </tr>\n",
       "    <tr>\n",
       "      <th>mouse_4</th>\n",
       "      <td>8</td>\n",
       "      <td>4</td>\n",
       "      <td>10</td>\n",
       "      <td>4</td>\n",
       "      <td>3</td>\n",
       "    </tr>\n",
       "  </tbody>\n",
       "</table>\n",
       "</div>"
      ],
      "text/plain": [
       "         test_0  test_1  test_2  test_3  test_4\n",
       "mouse_0      14       2       5       3       7\n",
       "mouse_1       1       2      11       3      18\n",
       "mouse_2      10      20      12       2       9\n",
       "mouse_3       1       7       2       1      13\n",
       "mouse_4       8       4      10       4       3"
      ]
     },
     "execution_count": 2,
     "metadata": {},
     "output_type": "execute_result"
    }
   ],
   "source": [
    "np.random.seed(200)\n",
    "\n",
    "Mice = pd.DataFrame( np.random.geometric(.2, size = (5,5)),\n",
    "                   columns = ['test_{}'.format(x) for x in range(5)],\n",
    "                   index = ['mouse_{}'.format(x) for x in range(5)])\n",
    "Mice"
   ]
  },
  {
   "cell_type": "markdown",
   "id": "cd8c8e0d-891b-4bb1-9e78-b6b455bbddfe",
   "metadata": {},
   "source": [
    "## how to select rows and columns from a dataframe?\n"
   ]
  },
  {
   "cell_type": "code",
   "execution_count": 3,
   "id": "d096d1f6-ebd2-4e13-81bf-53ae1a83f0a8",
   "metadata": {},
   "outputs": [],
   "source": [
    "## IX was used earlier\n",
    "\n",
    "# but this was confusing as it wasn't clear if the indexing was by index or label"
   ]
  },
  {
   "cell_type": "markdown",
   "id": "a2c98a42-2e18-4e2e-9814-5ee3c7ea8b76",
   "metadata": {},
   "source": [
    "### do not use IX"
   ]
  },
  {
   "cell_type": "code",
   "execution_count": 6,
   "id": "a234fb46-d84a-4405-b166-ad7baa8893a3",
   "metadata": {},
   "outputs": [],
   "source": [
    "# iloc - position (i for integer position)\n",
    "\n",
    "# loc - label"
   ]
  },
  {
   "cell_type": "markdown",
   "id": "748a37ef-8f87-4f15-922b-fb51acf6cd52",
   "metadata": {},
   "source": [
    "---"
   ]
  },
  {
   "cell_type": "code",
   "execution_count": 7,
   "id": "44e58a5a-9847-4b84-8f1c-6663d792f5dc",
   "metadata": {},
   "outputs": [],
   "source": [
    "# say, we need ot pull the middle value of the dataframe (12)"
   ]
  },
  {
   "cell_type": "markdown",
   "id": "1e64e34d-588f-4a79-87dc-22cfa90e1989",
   "metadata": {},
   "source": [
    "### using loc"
   ]
  },
  {
   "cell_type": "code",
   "execution_count": 9,
   "id": "939fe219-6cb5-4025-8fb4-121492db9ae6",
   "metadata": {},
   "outputs": [
    {
     "data": {
      "text/plain": [
       "12"
      ]
     },
     "execution_count": 9,
     "metadata": {},
     "output_type": "execute_result"
    }
   ],
   "source": [
    "Mice.loc['mouse_2', 'test_2']"
   ]
  },
  {
   "cell_type": "markdown",
   "id": "2ccdc6b3-436c-4ea8-88c8-71bada2afb82",
   "metadata": {},
   "source": [
    "### using iloc"
   ]
  },
  {
   "cell_type": "code",
   "execution_count": 10,
   "id": "1d450012-b397-405d-b6f8-4fc28ec74a52",
   "metadata": {},
   "outputs": [
    {
     "data": {
      "text/plain": [
       "12"
      ]
     },
     "execution_count": 10,
     "metadata": {},
     "output_type": "execute_result"
    }
   ],
   "source": [
    "Mice.iloc[2,2]"
   ]
  },
  {
   "cell_type": "markdown",
   "id": "3871dbae-16a7-44ca-8da2-2336f6596c7b",
   "metadata": {},
   "source": [
    "#### format always ROWS (axis 0) and COLUMNS (axis 1)"
   ]
  },
  {
   "cell_type": "markdown",
   "id": "00c3d90a-3f11-42df-9920-05ceb5dd0ee8",
   "metadata": {},
   "source": [
    "---"
   ]
  },
  {
   "cell_type": "code",
   "execution_count": 11,
   "id": "6596f645-a380-4bdd-b059-63ab347bc74e",
   "metadata": {},
   "outputs": [],
   "source": [
    "# multiple rows and columns"
   ]
  },
  {
   "cell_type": "code",
   "execution_count": 13,
   "id": "c88d0e5e-e224-4351-9ed0-5175ba163d25",
   "metadata": {},
   "outputs": [
    {
     "data": {
      "text/plain": [
       "mouse_2    12\n",
       "mouse_4    10\n",
       "Name: test_2, dtype: int64"
      ]
     },
     "execution_count": 13,
     "metadata": {},
     "output_type": "execute_result"
    }
   ],
   "source": [
    "Mice.loc[['mouse_2', 'mouse_4'], 'test_2']"
   ]
  },
  {
   "cell_type": "markdown",
   "id": "945145d0-caf1-4e64-be7f-251bdcc910fa",
   "metadata": {},
   "source": [
    "#### add slice"
   ]
  },
  {
   "cell_type": "code",
   "execution_count": 14,
   "id": "a03a008e-631c-495e-b0b5-f8ce2341c24a",
   "metadata": {},
   "outputs": [
    {
     "data": {
      "text/html": [
       "<div>\n",
       "<style scoped>\n",
       "    .dataframe tbody tr th:only-of-type {\n",
       "        vertical-align: middle;\n",
       "    }\n",
       "\n",
       "    .dataframe tbody tr th {\n",
       "        vertical-align: top;\n",
       "    }\n",
       "\n",
       "    .dataframe thead th {\n",
       "        text-align: right;\n",
       "    }\n",
       "</style>\n",
       "<table border=\"1\" class=\"dataframe\">\n",
       "  <thead>\n",
       "    <tr style=\"text-align: right;\">\n",
       "      <th></th>\n",
       "      <th>test_1</th>\n",
       "      <th>test_2</th>\n",
       "      <th>test_3</th>\n",
       "    </tr>\n",
       "  </thead>\n",
       "  <tbody>\n",
       "    <tr>\n",
       "      <th>mouse_2</th>\n",
       "      <td>20</td>\n",
       "      <td>12</td>\n",
       "      <td>2</td>\n",
       "    </tr>\n",
       "    <tr>\n",
       "      <th>mouse_4</th>\n",
       "      <td>4</td>\n",
       "      <td>10</td>\n",
       "      <td>4</td>\n",
       "    </tr>\n",
       "  </tbody>\n",
       "</table>\n",
       "</div>"
      ],
      "text/plain": [
       "         test_1  test_2  test_3\n",
       "mouse_2      20      12       2\n",
       "mouse_4       4      10       4"
      ]
     },
     "execution_count": 14,
     "metadata": {},
     "output_type": "execute_result"
    }
   ],
   "source": [
    "Mice.loc[['mouse_2', 'mouse_4'], 'test_1': 'test_3']"
   ]
  },
  {
   "cell_type": "markdown",
   "id": "ac819bb2-85ad-4144-b07a-792e3dc71b1f",
   "metadata": {},
   "source": [
    "---"
   ]
  },
  {
   "cell_type": "markdown",
   "id": "3096c25d-0361-464f-9a32-545d882f2ad1",
   "metadata": {},
   "source": [
    "### boolean series"
   ]
  },
  {
   "cell_type": "code",
   "execution_count": 15,
   "id": "63733e3f-c0a8-43ab-bdab-9153a0d17544",
   "metadata": {},
   "outputs": [
    {
     "data": {
      "text/plain": [
       "mouse_0    False\n",
       "mouse_1    False\n",
       "mouse_2     True\n",
       "mouse_3     True\n",
       "mouse_4    False\n",
       "Name: test_1, dtype: bool"
      ]
     },
     "execution_count": 15,
     "metadata": {},
     "output_type": "execute_result"
    }
   ],
   "source": [
    "Mice.test_1 > 5"
   ]
  },
  {
   "cell_type": "code",
   "execution_count": 16,
   "id": "a8db4e70-503e-452d-8009-06a1321bdb6d",
   "metadata": {},
   "outputs": [
    {
     "data": {
      "text/html": [
       "<div>\n",
       "<style scoped>\n",
       "    .dataframe tbody tr th:only-of-type {\n",
       "        vertical-align: middle;\n",
       "    }\n",
       "\n",
       "    .dataframe tbody tr th {\n",
       "        vertical-align: top;\n",
       "    }\n",
       "\n",
       "    .dataframe thead th {\n",
       "        text-align: right;\n",
       "    }\n",
       "</style>\n",
       "<table border=\"1\" class=\"dataframe\">\n",
       "  <thead>\n",
       "    <tr style=\"text-align: right;\">\n",
       "      <th></th>\n",
       "      <th>test_1</th>\n",
       "      <th>test_2</th>\n",
       "      <th>test_3</th>\n",
       "    </tr>\n",
       "  </thead>\n",
       "  <tbody>\n",
       "    <tr>\n",
       "      <th>mouse_2</th>\n",
       "      <td>20</td>\n",
       "      <td>12</td>\n",
       "      <td>2</td>\n",
       "    </tr>\n",
       "    <tr>\n",
       "      <th>mouse_3</th>\n",
       "      <td>7</td>\n",
       "      <td>2</td>\n",
       "      <td>1</td>\n",
       "    </tr>\n",
       "  </tbody>\n",
       "</table>\n",
       "</div>"
      ],
      "text/plain": [
       "         test_1  test_2  test_3\n",
       "mouse_2      20      12       2\n",
       "mouse_3       7       2       1"
      ]
     },
     "execution_count": 16,
     "metadata": {},
     "output_type": "execute_result"
    }
   ],
   "source": [
    "Mice.loc[Mice.test_1 > 5, 'test_1': 'test_3']"
   ]
  },
  {
   "cell_type": "code",
   "execution_count": 17,
   "id": "b52a7d2b-b9b1-49dc-ab8e-4df5eaae142e",
   "metadata": {},
   "outputs": [],
   "source": [
    "### notice that column 3 is also included"
   ]
  },
  {
   "cell_type": "markdown",
   "id": "4603bb62-c9fc-4fdc-984f-047351eefc43",
   "metadata": {},
   "source": [
    "---"
   ]
  },
  {
   "cell_type": "code",
   "execution_count": 18,
   "id": "135711bb-c95a-4772-ad6f-f653c1694dac",
   "metadata": {},
   "outputs": [],
   "source": [
    "#iloc"
   ]
  },
  {
   "cell_type": "code",
   "execution_count": 20,
   "id": "97971f1a-536b-4fc9-aeca-451950719423",
   "metadata": {},
   "outputs": [
    {
     "data": {
      "text/html": [
       "<div>\n",
       "<style scoped>\n",
       "    .dataframe tbody tr th:only-of-type {\n",
       "        vertical-align: middle;\n",
       "    }\n",
       "\n",
       "    .dataframe tbody tr th {\n",
       "        vertical-align: top;\n",
       "    }\n",
       "\n",
       "    .dataframe thead th {\n",
       "        text-align: right;\n",
       "    }\n",
       "</style>\n",
       "<table border=\"1\" class=\"dataframe\">\n",
       "  <thead>\n",
       "    <tr style=\"text-align: right;\">\n",
       "      <th></th>\n",
       "      <th>test_0</th>\n",
       "      <th>test_1</th>\n",
       "      <th>test_2</th>\n",
       "      <th>test_3</th>\n",
       "      <th>test_4</th>\n",
       "    </tr>\n",
       "  </thead>\n",
       "  <tbody>\n",
       "    <tr>\n",
       "      <th>mouse_0</th>\n",
       "      <td>14</td>\n",
       "      <td>2</td>\n",
       "      <td>5</td>\n",
       "      <td>3</td>\n",
       "      <td>7</td>\n",
       "    </tr>\n",
       "    <tr>\n",
       "      <th>mouse_1</th>\n",
       "      <td>1</td>\n",
       "      <td>2</td>\n",
       "      <td>11</td>\n",
       "      <td>3</td>\n",
       "      <td>18</td>\n",
       "    </tr>\n",
       "    <tr>\n",
       "      <th>mouse_2</th>\n",
       "      <td>10</td>\n",
       "      <td>20</td>\n",
       "      <td>12</td>\n",
       "      <td>2</td>\n",
       "      <td>9</td>\n",
       "    </tr>\n",
       "    <tr>\n",
       "      <th>mouse_3</th>\n",
       "      <td>1</td>\n",
       "      <td>7</td>\n",
       "      <td>2</td>\n",
       "      <td>1</td>\n",
       "      <td>13</td>\n",
       "    </tr>\n",
       "  </tbody>\n",
       "</table>\n",
       "</div>"
      ],
      "text/plain": [
       "         test_0  test_1  test_2  test_3  test_4\n",
       "mouse_0      14       2       5       3       7\n",
       "mouse_1       1       2      11       3      18\n",
       "mouse_2      10      20      12       2       9\n",
       "mouse_3       1       7       2       1      13"
      ]
     },
     "execution_count": 20,
     "metadata": {},
     "output_type": "execute_result"
    }
   ],
   "source": [
    "Mice.iloc[:4, :]"
   ]
  },
  {
   "cell_type": "code",
   "execution_count": 21,
   "id": "f2b100bb-2cac-468c-a1e9-dc44ae711bea",
   "metadata": {},
   "outputs": [
    {
     "name": "stderr",
     "output_type": "stream",
     "text": [
      "/var/folders/_5/mw87wr4s5p902pvj5xm4sqnw0000gn/T/ipykernel_53557/3654790616.py:1: UserWarning: Boolean Series key will be reindexed to match DataFrame index.\n",
      "  Mice.iloc[:4, :][Mice.test_0 > 2]\n"
     ]
    },
    {
     "data": {
      "text/html": [
       "<div>\n",
       "<style scoped>\n",
       "    .dataframe tbody tr th:only-of-type {\n",
       "        vertical-align: middle;\n",
       "    }\n",
       "\n",
       "    .dataframe tbody tr th {\n",
       "        vertical-align: top;\n",
       "    }\n",
       "\n",
       "    .dataframe thead th {\n",
       "        text-align: right;\n",
       "    }\n",
       "</style>\n",
       "<table border=\"1\" class=\"dataframe\">\n",
       "  <thead>\n",
       "    <tr style=\"text-align: right;\">\n",
       "      <th></th>\n",
       "      <th>test_0</th>\n",
       "      <th>test_1</th>\n",
       "      <th>test_2</th>\n",
       "      <th>test_3</th>\n",
       "      <th>test_4</th>\n",
       "    </tr>\n",
       "  </thead>\n",
       "  <tbody>\n",
       "    <tr>\n",
       "      <th>mouse_0</th>\n",
       "      <td>14</td>\n",
       "      <td>2</td>\n",
       "      <td>5</td>\n",
       "      <td>3</td>\n",
       "      <td>7</td>\n",
       "    </tr>\n",
       "    <tr>\n",
       "      <th>mouse_2</th>\n",
       "      <td>10</td>\n",
       "      <td>20</td>\n",
       "      <td>12</td>\n",
       "      <td>2</td>\n",
       "      <td>9</td>\n",
       "    </tr>\n",
       "  </tbody>\n",
       "</table>\n",
       "</div>"
      ],
      "text/plain": [
       "         test_0  test_1  test_2  test_3  test_4\n",
       "mouse_0      14       2       5       3       7\n",
       "mouse_2      10      20      12       2       9"
      ]
     },
     "execution_count": 21,
     "metadata": {},
     "output_type": "execute_result"
    }
   ],
   "source": [
    "Mice.iloc[:4, :][Mice.test_0 > 2]"
   ]
  },
  {
   "cell_type": "code",
   "execution_count": 22,
   "id": "8ec13d67-ee8c-4139-8b0b-f9cf39bf87ec",
   "metadata": {},
   "outputs": [],
   "source": [
    "## telling that the boolean being passed is for the entire dataframe\n",
    "\n",
    "# this is behaving exactly as we want"
   ]
  },
  {
   "cell_type": "markdown",
   "id": "9194649e-c855-4e32-af6c-a604cc9b4e72",
   "metadata": {},
   "source": [
    "---"
   ]
  },
  {
   "cell_type": "markdown",
   "id": "dba5f8e2-9ad4-4812-a7f1-7777769b789e",
   "metadata": {},
   "source": [
    "# Integer Indices"
   ]
  },
  {
   "cell_type": "code",
   "execution_count": 24,
   "id": "5f59873d-8430-4a3e-b9d6-6a454524fcb4",
   "metadata": {},
   "outputs": [
    {
     "data": {
      "text/plain": [
       "5    0\n",
       "4    1\n",
       "3    2\n",
       "2    3\n",
       "1    4\n",
       "dtype: int64"
      ]
     },
     "execution_count": 24,
     "metadata": {},
     "output_type": "execute_result"
    }
   ],
   "source": [
    "a = pd.Series(range(5), index = range(5,0, -1))\n",
    "a"
   ]
  },
  {
   "cell_type": "code",
   "execution_count": 25,
   "id": "975d808a-5b86-401d-b5bc-0f5f4c138b17",
   "metadata": {},
   "outputs": [],
   "source": [
    "# this is not the standard index\n",
    "\n",
    "# here it is resersed"
   ]
  },
  {
   "cell_type": "code",
   "execution_count": 26,
   "id": "ef0bbfa8-4730-4ab3-8b72-37b89a92c04b",
   "metadata": {},
   "outputs": [
    {
     "data": {
      "text/plain": [
       "4"
      ]
     },
     "execution_count": 26,
     "metadata": {},
     "output_type": "execute_result"
    }
   ],
   "source": [
    "a[1]"
   ]
  },
  {
   "attachments": {
    "d9db7ff2-eb6b-443e-8bd8-fdfff42136d1.png": {
     "image/png": "[encoded data removed]"
    }
   },
   "cell_type": "markdown",
   "id": "f54cf9f3-46b9-4a5c-81b0-e8b04e40895a",
   "metadata": {},
   "source": [
    "![image.png](attachment:d9db7ff2-eb6b-443e-8bd8-fdfff42136d1.png)"
   ]
  },
  {
   "cell_type": "code",
   "execution_count": 27,
   "id": "bb2e442d-bd11-4745-b725-25f10b283f64",
   "metadata": {},
   "outputs": [],
   "source": [
    "# is pandas take this as a label or a position"
   ]
  },
  {
   "cell_type": "markdown",
   "id": "dcc3246f-91e6-427d-a454-35bdafab0f3e",
   "metadata": {},
   "source": [
    "### pandas treats this as a label by default"
   ]
  },
  {
   "cell_type": "markdown",
   "id": "fffc690b-4d35-4f69-bff1-096f15178eef",
   "metadata": {},
   "source": [
    "---"
   ]
  },
  {
   "cell_type": "code",
   "execution_count": 28,
   "id": "e0c8a231-ca0e-4893-8b4a-92a08d024f4f",
   "metadata": {},
   "outputs": [],
   "source": [
    "# SLICE"
   ]
  },
  {
   "cell_type": "code",
   "execution_count": 29,
   "id": "2b339fcd-a877-4707-a14a-991866a5ca65",
   "metadata": {},
   "outputs": [
    {
     "data": {
      "text/plain": [
       "4    1\n",
       "3    2\n",
       "dtype: int64"
      ]
     },
     "execution_count": 29,
     "metadata": {},
     "output_type": "execute_result"
    }
   ],
   "source": [
    "a[1:3]"
   ]
  },
  {
   "cell_type": "code",
   "execution_count": null,
   "id": "79915b3c-c85d-4233-9cea-91754cdf420e",
   "metadata": {},
   "outputs": [],
   "source": [
    "# seems inconsistent \n",
    "\n",
    "# seems like a position"
   ]
  },
  {
   "attachments": {
    "c1ccc85b-33af-4627-9ca3-ed4ea301f8c0.png": {
     "image/png": "[encoded data removed]"
    }
   },
   "cell_type": "markdown",
   "id": "f392d012-0c11-4afa-85a9-a6aec166b110",
   "metadata": {},
   "source": [
    "![image.png](attachment:c1ccc85b-33af-4627-9ca3-ed4ea301f8c0.png)"
   ]
  },
  {
   "cell_type": "markdown",
   "id": "25325a67-edbd-46c6-9187-b98e05e28eb0",
   "metadata": {},
   "source": [
    "---"
   ]
  },
  {
   "cell_type": "markdown",
   "id": "b5b11013-0c4b-4611-b716-fbe4f58be834",
   "metadata": {},
   "source": [
    "## make things clear "
   ]
  },
  {
   "cell_type": "code",
   "execution_count": 33,
   "id": "e2095632-b26f-40de-a81c-7700e9c18a74",
   "metadata": {},
   "outputs": [
    {
     "data": {
      "text/plain": [
       "3    2\n",
       "2    3\n",
       "1    4\n",
       "dtype: int64"
      ]
     },
     "execution_count": 33,
     "metadata": {},
     "output_type": "execute_result"
    }
   ],
   "source": [
    "a.loc[3:1]"
   ]
  },
  {
   "cell_type": "code",
   "execution_count": 34,
   "id": "8bd1ad6d-c241-4583-8b09-4bdeb1d60c1d",
   "metadata": {},
   "outputs": [
    {
     "data": {
      "text/plain": [
       "4    1\n",
       "3    2\n",
       "dtype: int64"
      ]
     },
     "execution_count": 34,
     "metadata": {},
     "output_type": "execute_result"
    }
   ],
   "source": [
    "a.iloc[1:3]"
   ]
  },
  {
   "cell_type": "markdown",
   "id": "a0a82fe5-b01c-48c6-979f-998aefd6e7db",
   "metadata": {},
   "source": [
    "<font size = 5, color = red> Rather than trying to memorize the rules, use loc and iloc instead"
   ]
  },
  {
   "cell_type": "code",
   "execution_count": null,
   "id": "1ec894f9-64fd-4884-a812-7c993a4a7b8c",
   "metadata": {},
   "outputs": [],
   "source": []
  }
 ],
 "metadata": {
  "kernelspec": {
   "display_name": "Python 3 (ipykernel)",
   "language": "python",
   "name": "python3"
  },
  "language_info": {
   "codemirror_mode": {
    "name": "ipython",
    "version": 3
   },
   "file_extension": ".py",
   "mimetype": "text/x-python",
   "name": "python",
   "nbconvert_exporter": "python",
   "pygments_lexer": "ipython3",
   "version": "3.9.12"
  }
 },
 "nbformat": 4,
 "nbformat_minor": 5
}
