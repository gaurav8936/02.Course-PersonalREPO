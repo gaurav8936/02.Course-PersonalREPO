{
 "cells": [
  {
   "cell_type": "markdown",
   "id": "847051e9-f4d9-4adc-a2ab-203f4ff6bea9",
   "metadata": {},
   "source": [
    "# Intro"
   ]
  },
  {
   "cell_type": "markdown",
   "id": "cd44f5fa-1d75-4d4a-8b36-ba6eed1f2d62",
   "metadata": {},
   "source": [
    "    This year we'll introduce you to Pandas, one of the most important data packages in Python. If NumPy is the internal combustion engines of data analysis, Pandas is like the steering wheel. \n",
    "    \n",
    "    It's built on top of NumPy, and as you know, NumPy has a lot of low-level machinery that makes data crunching really efficient but actually will be kind of a lot of work to perform a data analysis just using NumPy arrays. So Pandas is a separate package that kind of addresses that gap. It takes all the power of NumPy but it wraps it in a user-friendly package. \n",
    "    \n",
    "    It gives us a higher level of tools that we can do a lot of things that we want to do with data. Panda has several core types that we need to become familiar with. \n",
    "    \n",
    "    First of all, there's an index that's kind of a way that we label the data. It's how we access different observations in the data set. \n",
    "    \n",
    "    Panda also has a series. So this is like a wrapper for a NumPy array. It represents a single column of data and then also includes an index. \n",
    "    \n",
    "    So a series would be something like a variable or a list of measurements that we have. \n",
    "    \n",
    "    And then finally, we have a data frame. And data frame is a combination of multiple series, and they also have an index. So you can think of this as a data table or a way to represent the data set that we're analyzing. \n",
    "    \n",
    "    So typically, a data frame, every column will represent a variable or a measurement, and every row will represent an observation of a set of variables or what we might call a unit of analysis. \n",
    "    \n",
    "    A lot of the syntax for Pandas was actually inspired by R. R is a very data-oriented language. So the syntax kind of really emphasizes functional programming and leads to very clean explicit code that makes clear all the operations that we want to perform on the data."
   ]
  },
  {
   "cell_type": "markdown",
   "id": "784dc831-38a2-4c2e-b8d8-1b6882c0986d",
   "metadata": {},
   "source": [
    "# Pandas"
   ]
  },
  {
   "cell_type": "code",
   "execution_count": 1,
   "id": "6c00d64b-98df-4fdb-9a34-6765594de2a4",
   "metadata": {},
   "outputs": [
    {
     "name": "stdout",
     "output_type": "stream",
     "text": [
      "3.9.12 (main, Apr  5 2022, 01:53:17) \n",
      "[Clang 12.0.0 ]\n",
      "1.21.5\n",
      "1.4.2\n"
     ]
    }
   ],
   "source": [
    "import sys\n",
    "print(sys.version)\n",
    "import numpy as np\n",
    "print(np.__version__)\n",
    "import pandas as pd\n",
    "print(pd.__version__)\n",
    "import matplotlib.pyplot as plt\n",
    "\n",
    "%matplotlib inline"
   ]
  },
  {
   "cell_type": "code",
   "execution_count": null,
   "id": "cab10132-05e7-4dc6-90f6-d82997cb308d",
   "metadata": {},
   "outputs": [],
   "source": []
  }
 ],
 "metadata": {
  "kernelspec": {
   "display_name": "Python 3 (ipykernel)",
   "language": "python",
   "name": "python3"
  },
  "language_info": {
   "codemirror_mode": {
    "name": "ipython",
    "version": 3
   },
   "file_extension": ".py",
   "mimetype": "text/x-python",
   "name": "python",
   "nbconvert_exporter": "python",
   "pygments_lexer": "ipython3",
   "version": "3.9.12"
  }
 },
 "nbformat": 4,
 "nbformat_minor": 5
}
