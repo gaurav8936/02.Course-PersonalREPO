{
 "cells": [
  {
   "cell_type": "markdown",
   "id": "c28c24ba-47cc-40c3-b025-079a268e06f8",
   "metadata": {},
   "source": [
    "# 11082022_01"
   ]
  },
  {
   "cell_type": "code",
   "execution_count": 33,
   "id": "a89327fe-ec53-43ee-8091-70ea05db8ba4",
   "metadata": {},
   "outputs": [
    {
     "name": "stdout",
     "output_type": "stream",
     "text": [
      "3.9.12 (main, Apr  5 2022, 01:53:17) \n",
      "[Clang 12.0.0 ]\n",
      "1.21.5\n",
      "1.4.2\n"
     ]
    }
   ],
   "source": [
    "import sys\n",
    "print(sys.version)\n",
    "import numpy as np\n",
    "print(np.__version__)\n",
    "import pandas as pd\n",
    "print(pd.__version__)\n",
    "import matplotlib.pyplot as plt\n",
    "\n",
    "%matplotlib inline"
   ]
  },
  {
   "cell_type": "code",
   "execution_count": 34,
   "id": "14114cf1-0925-4994-a813-fba54327855d",
   "metadata": {},
   "outputs": [
    {
     "data": {
      "text/plain": [
       "pandas.core.series.Series"
      ]
     },
     "execution_count": 34,
     "metadata": {},
     "output_type": "execute_result"
    }
   ],
   "source": [
    "pd.Series"
   ]
  },
  {
   "cell_type": "code",
   "execution_count": 5,
   "id": "cad1ad88-b02d-4499-b54a-6bced43aa470",
   "metadata": {},
   "outputs": [],
   "source": [
    " q = pd.Series([1,2,3,4,5], name = 'qty')"
   ]
  },
  {
   "cell_type": "code",
   "execution_count": 6,
   "id": "c39897bd-94d6-4ecc-9b5f-eb75ddbe6b17",
   "metadata": {},
   "outputs": [
    {
     "data": {
      "text/plain": [
       "0    1\n",
       "1    2\n",
       "2    3\n",
       "3    4\n",
       "4    5\n",
       "Name: qty, dtype: int64"
      ]
     },
     "execution_count": 6,
     "metadata": {},
     "output_type": "execute_result"
    }
   ],
   "source": [
    "q"
   ]
  },
  {
   "cell_type": "code",
   "execution_count": 7,
   "id": "8ca8f4f4-d8c8-4100-9d8e-5669e92f3997",
   "metadata": {},
   "outputs": [
    {
     "data": {
      "text/plain": [
       "array([1, 2, 3, 4, 5])"
      ]
     },
     "execution_count": 7,
     "metadata": {},
     "output_type": "execute_result"
    }
   ],
   "source": [
    "q.values"
   ]
  },
  {
   "cell_type": "code",
   "execution_count": 8,
   "id": "1157048e-b058-4f1c-b12e-67d0b42cf1a3",
   "metadata": {},
   "outputs": [],
   "source": [
    "grades = pd.Series([75,84,96,57,88], name = 'midterms')"
   ]
  },
  {
   "cell_type": "code",
   "execution_count": 9,
   "id": "498d3c1b-9b54-485d-93fe-13853673d428",
   "metadata": {},
   "outputs": [
    {
     "data": {
      "text/plain": [
       "array([75, 84, 96, 57, 88])"
      ]
     },
     "execution_count": 9,
     "metadata": {},
     "output_type": "execute_result"
    }
   ],
   "source": [
    "grades.values"
   ]
  },
  {
   "cell_type": "code",
   "execution_count": 10,
   "id": "71220e52-c4b4-4ff4-a38e-71ec921d39af",
   "metadata": {},
   "outputs": [],
   "source": [
    "grades = grades +1"
   ]
  },
  {
   "cell_type": "code",
   "execution_count": 11,
   "id": "6d719228-02af-4b96-8003-8e3799a4af67",
   "metadata": {},
   "outputs": [
    {
     "data": {
      "text/plain": [
       "0    76\n",
       "1    85\n",
       "2    97\n",
       "3    58\n",
       "4    89\n",
       "Name: midterms, dtype: int64"
      ]
     },
     "execution_count": 11,
     "metadata": {},
     "output_type": "execute_result"
    }
   ],
   "source": [
    "grades"
   ]
  },
  {
   "cell_type": "code",
   "execution_count": 12,
   "id": "ad92c975-1191-432b-916c-3fc9978fd8f3",
   "metadata": {},
   "outputs": [],
   "source": [
    "grades+=1"
   ]
  },
  {
   "cell_type": "code",
   "execution_count": 13,
   "id": "53a62b32-abb7-4d57-8529-feea27706953",
   "metadata": {},
   "outputs": [
    {
     "data": {
      "text/plain": [
       "0    77\n",
       "1    86\n",
       "2    98\n",
       "3    59\n",
       "4    90\n",
       "Name: midterms, dtype: int64"
      ]
     },
     "execution_count": 13,
     "metadata": {},
     "output_type": "execute_result"
    }
   ],
   "source": [
    "grades"
   ]
  },
  {
   "cell_type": "code",
   "execution_count": 14,
   "id": "85c38a6e-2aa8-48a2-a47e-fc42ea0e54f8",
   "metadata": {},
   "outputs": [
    {
     "data": {
      "text/plain": [
       "0     True\n",
       "1     True\n",
       "2     True\n",
       "3    False\n",
       "4     True\n",
       "Name: midterms, dtype: bool"
      ]
     },
     "execution_count": 14,
     "metadata": {},
     "output_type": "execute_result"
    }
   ],
   "source": [
    "grades > 70"
   ]
  },
  {
   "cell_type": "code",
   "execution_count": 15,
   "id": "217a5a28-e362-4e1a-a36e-a69bb8d7222e",
   "metadata": {},
   "outputs": [
    {
     "data": {
      "text/plain": [
       "RangeIndex(start=0, stop=5, step=1)"
      ]
     },
     "execution_count": 15,
     "metadata": {},
     "output_type": "execute_result"
    }
   ],
   "source": [
    "grades.index"
   ]
  },
  {
   "cell_type": "code",
   "execution_count": 16,
   "id": "b0d7dd2a-9f9b-4f04-a9bd-b6ebc7ba824c",
   "metadata": {},
   "outputs": [],
   "source": [
    "my = pd.Series([1,2,3,4], name = 'my')"
   ]
  },
  {
   "cell_type": "code",
   "execution_count": 17,
   "id": "a56a5596-0531-43d6-8bc8-402d54f2a12f",
   "metadata": {},
   "outputs": [
    {
     "data": {
      "text/plain": [
       "0    1\n",
       "1    2\n",
       "2    3\n",
       "3    4\n",
       "Name: my, dtype: int64"
      ]
     },
     "execution_count": 17,
     "metadata": {},
     "output_type": "execute_result"
    }
   ],
   "source": [
    "my"
   ]
  },
  {
   "cell_type": "code",
   "execution_count": 18,
   "id": "001da1ae-2d38-4d36-a245-74a5dbbd0d26",
   "metadata": {},
   "outputs": [],
   "source": [
    "# this is called typecasting"
   ]
  },
  {
   "cell_type": "code",
   "execution_count": 19,
   "id": "3c9b2280-55e8-481f-b6ca-fc1f8687abcc",
   "metadata": {},
   "outputs": [
    {
     "data": {
      "text/plain": [
       "0    77\n",
       "1    86\n",
       "2    98\n",
       "3    59\n",
       "4    90\n",
       "Name: midterms, dtype: int64"
      ]
     },
     "execution_count": 19,
     "metadata": {},
     "output_type": "execute_result"
    }
   ],
   "source": [
    "grades"
   ]
  },
  {
   "cell_type": "code",
   "execution_count": 20,
   "id": "8489f842-60e9-416f-a14a-d39d5443885b",
   "metadata": {},
   "outputs": [],
   "source": [
    "grades.index = pd.Index(['a', 'b', 'c', 'd', 'e'], name = 'student')"
   ]
  },
  {
   "cell_type": "code",
   "execution_count": 22,
   "id": "57185a00-2581-44bb-9f1d-bf74214ef3e0",
   "metadata": {},
   "outputs": [
    {
     "data": {
      "text/plain": [
       "student\n",
       "a    77\n",
       "b    86\n",
       "c    98\n",
       "d    59\n",
       "e    90\n",
       "Name: midterms, dtype: int64"
      ]
     },
     "execution_count": 22,
     "metadata": {},
     "output_type": "execute_result"
    }
   ],
   "source": [
    "grades"
   ]
  },
  {
   "cell_type": "code",
   "execution_count": 25,
   "id": "15820059-041d-4e27-830c-444fdc70fc87",
   "metadata": {},
   "outputs": [
    {
     "data": {
      "text/plain": [
       "student\n",
       "a    77\n",
       "b    86\n",
       "Name: midterms, dtype: int64"
      ]
     },
     "execution_count": 25,
     "metadata": {},
     "output_type": "execute_result"
    }
   ],
   "source": [
    "grades[['a', 'b']]"
   ]
  },
  {
   "cell_type": "code",
   "execution_count": 26,
   "id": "75ca263a-fa46-4f08-b9c1-e6abd7d82900",
   "metadata": {},
   "outputs": [
    {
     "data": {
      "text/plain": [
       "student\n",
       "a    77\n",
       "b    86\n",
       "c    98\n",
       "e    90\n",
       "Name: midterms, dtype: int64"
      ]
     },
     "execution_count": 26,
     "metadata": {},
     "output_type": "execute_result"
    }
   ],
   "source": [
    "grades[grades>70]"
   ]
  },
  {
   "cell_type": "code",
   "execution_count": 27,
   "id": "934ac601-8e2d-4a56-8a65-7e695f1e2c09",
   "metadata": {},
   "outputs": [
    {
     "data": {
      "text/plain": [
       "<AxesSubplot:>"
      ]
     },
     "execution_count": 27,
     "metadata": {},
     "output_type": "execute_result"
    },
    {
     "data": {
      "image/png": "[encoded data removed]",
      "text/plain": [
       "<Figure size 432x288 with 1 Axes>"
      ]
     },
     "metadata": {
      "needs_background": "light"
     },
     "output_type": "display_data"
    }
   ],
   "source": [
    "grades.hist()"
   ]
  },
  {
   "cell_type": "code",
   "execution_count": 28,
   "id": "0b287a49-810f-4c6d-ae8d-815ceda3a9c5",
   "metadata": {},
   "outputs": [
    {
     "data": {
      "text/plain": [
       "<AxesSubplot:>"
      ]
     },
     "execution_count": 28,
     "metadata": {},
     "output_type": "execute_result"
    },
    {
     "data": {
      "image/png": "[encoded data removed]",
      "text/plain": [
       "<Figure size 432x288 with 1 Axes>"
      ]
     },
     "metadata": {
      "needs_background": "light"
     },
     "output_type": "display_data"
    }
   ],
   "source": [
    "grades.hist(bins = 2)"
   ]
  },
  {
   "cell_type": "markdown",
   "id": "51bb5a3a-01e6-4454-b16f-9f45c86177a3",
   "metadata": {},
   "source": [
    "---"
   ]
  },
  {
   "cell_type": "code",
   "execution_count": 35,
   "id": "7e1e8549-ae28-4d56-a295-7199e5425e44",
   "metadata": {},
   "outputs": [],
   "source": [
    "class_grades = pd.Series([1,2,3,4,5])"
   ]
  },
  {
   "cell_type": "code",
   "execution_count": 36,
   "id": "0c529748-0866-4621-9f1c-883712a5389d",
   "metadata": {},
   "outputs": [],
   "source": [
    "student_names = pd.Series(['a', 'b', 'c', 'd', 'e'])"
   ]
  },
  {
   "cell_type": "code",
   "execution_count": 37,
   "id": "ba737a1f-50b1-4e4f-a3c4-0650f8945f2c",
   "metadata": {},
   "outputs": [
    {
     "name": "stdout",
     "output_type": "stream",
     "text": [
      "0    1\n",
      "1    2\n",
      "2    3\n",
      "3    4\n",
      "4    5\n",
      "dtype: int64\n"
     ]
    }
   ],
   "source": [
    "print(class_grades)"
   ]
  },
  {
   "cell_type": "code",
   "execution_count": 38,
   "id": "ab95e521-0b4b-4a0b-a0a4-feefe51fc26b",
   "metadata": {},
   "outputs": [],
   "source": [
    "class_grades = pd.Series([90, 80, 88, 100, 63])\n",
    "student_names = pd.Series(['Sarah', 'Bob', \"Steven\", \"Anna\", \"Potato\"])"
   ]
  },
  {
   "cell_type": "code",
   "execution_count": 39,
   "id": "1118ae19-1d87-4eb2-820f-8a55eeb2f0e3",
   "metadata": {},
   "outputs": [
    {
     "data": {
      "text/plain": [
       "0     90\n",
       "1     80\n",
       "2     88\n",
       "3    100\n",
       "4     63\n",
       "dtype: int64"
      ]
     },
     "execution_count": 39,
     "metadata": {},
     "output_type": "execute_result"
    }
   ],
   "source": [
    "class_grades"
   ]
  },
  {
   "cell_type": "code",
   "execution_count": 40,
   "id": "18cbed61-0496-41e5-b18c-49e5d7cff361",
   "metadata": {},
   "outputs": [
    {
     "data": {
      "text/plain": [
       "0     Sarah\n",
       "1       Bob\n",
       "2    Steven\n",
       "3      Anna\n",
       "4    Potato\n",
       "dtype: object"
      ]
     },
     "execution_count": 40,
     "metadata": {},
     "output_type": "execute_result"
    }
   ],
   "source": [
    "student_names"
   ]
  },
  {
   "cell_type": "code",
   "execution_count": 42,
   "id": "562278f2-a24b-4e0f-8c89-6998a000c1e1",
   "metadata": {},
   "outputs": [
    {
     "data": {
      "text/plain": [
       "RangeIndex(start=0, stop=5, step=1)"
      ]
     },
     "execution_count": 42,
     "metadata": {},
     "output_type": "execute_result"
    }
   ],
   "source": [
    "class_grades.index"
   ]
  },
  {
   "cell_type": "code",
   "execution_count": 43,
   "id": "ba7860d8-babe-4f8f-b79c-4b3ea30594aa",
   "metadata": {},
   "outputs": [],
   "source": [
    "class_grades.index = pd.Index(student_names)"
   ]
  },
  {
   "cell_type": "code",
   "execution_count": 44,
   "id": "b91f605c-a55c-44ad-aa1f-8ee0cff37aa6",
   "metadata": {},
   "outputs": [
    {
     "data": {
      "text/plain": [
       "Sarah      90\n",
       "Bob        80\n",
       "Steven     88\n",
       "Anna      100\n",
       "Potato     63\n",
       "dtype: int64"
      ]
     },
     "execution_count": 44,
     "metadata": {},
     "output_type": "execute_result"
    }
   ],
   "source": [
    "class_grades"
   ]
  },
  {
   "cell_type": "code",
   "execution_count": 45,
   "id": "dc4cf380-d781-41ca-a586-2166eeb81f9d",
   "metadata": {},
   "outputs": [
    {
     "data": {
      "text/plain": [
       "90"
      ]
     },
     "execution_count": 45,
     "metadata": {},
     "output_type": "execute_result"
    }
   ],
   "source": [
    "class_grades['Sarah']"
   ]
  },
  {
   "cell_type": "code",
   "execution_count": 46,
   "id": "01ad239b-26cd-4b18-8c91-9feea4ace31c",
   "metadata": {},
   "outputs": [
    {
     "data": {
      "text/plain": [
       "Sarah    90\n",
       "dtype: int64"
      ]
     },
     "execution_count": 46,
     "metadata": {},
     "output_type": "execute_result"
    }
   ],
   "source": [
    "class_grades[['Sarah']]"
   ]
  },
  {
   "cell_type": "code",
   "execution_count": 48,
   "id": "01bc904d-3c30-440a-b0eb-9cabecd214f3",
   "metadata": {},
   "outputs": [
    {
     "data": {
      "text/plain": [
       "Series([], dtype: int64)"
      ]
     },
     "execution_count": 48,
     "metadata": {},
     "output_type": "execute_result"
    }
   ],
   "source": [
    "class_grades[class_grades < 50]"
   ]
  },
  {
   "cell_type": "code",
   "execution_count": 49,
   "id": "96ae9335-516d-4bef-b65d-0bc1583983e7",
   "metadata": {},
   "outputs": [],
   "source": [
    "new_grades = class_grades.copy()"
   ]
  },
  {
   "cell_type": "code",
   "execution_count": 50,
   "id": "b4379af8-3786-488e-a1d4-33827c54ee59",
   "metadata": {},
   "outputs": [
    {
     "data": {
      "text/plain": [
       "Sarah      90\n",
       "Bob        80\n",
       "Steven     88\n",
       "Anna      100\n",
       "Potato     63\n",
       "dtype: int64"
      ]
     },
     "execution_count": 50,
     "metadata": {},
     "output_type": "execute_result"
    }
   ],
   "source": [
    "new_grades"
   ]
  },
  {
   "cell_type": "code",
   "execution_count": 51,
   "id": "fcbc8e49-03f1-4727-b1a7-2c2a1781d4b5",
   "metadata": {},
   "outputs": [],
   "source": [
    "new_grades[new_grades > 85] = 40"
   ]
  },
  {
   "cell_type": "code",
   "execution_count": 52,
   "id": "f817afba-2d12-44b6-bc87-5edbd5fed503",
   "metadata": {},
   "outputs": [
    {
     "data": {
      "text/plain": [
       "Sarah     40\n",
       "Bob       80\n",
       "Steven    40\n",
       "Anna      40\n",
       "Potato    63\n",
       "dtype: int64"
      ]
     },
     "execution_count": 52,
     "metadata": {},
     "output_type": "execute_result"
    }
   ],
   "source": [
    "new_grades"
   ]
  },
  {
   "cell_type": "code",
   "execution_count": null,
   "id": "f283e6ed-6c1a-4aa5-ad4e-6c3720be47f6",
   "metadata": {},
   "outputs": [],
   "source": []
  }
 ],
 "metadata": {
  "kernelspec": {
   "display_name": "Python 3 (ipykernel)",
   "language": "python",
   "name": "python3"
  },
  "language_info": {
   "codemirror_mode": {
    "name": "ipython",
    "version": 3
   },
   "file_extension": ".py",
   "mimetype": "text/x-python",
   "name": "python",
   "nbconvert_exporter": "python",
   "pygments_lexer": "ipython3",
   "version": "3.9.12"
  }
 },
 "nbformat": 4,
 "nbformat_minor": 5
}
