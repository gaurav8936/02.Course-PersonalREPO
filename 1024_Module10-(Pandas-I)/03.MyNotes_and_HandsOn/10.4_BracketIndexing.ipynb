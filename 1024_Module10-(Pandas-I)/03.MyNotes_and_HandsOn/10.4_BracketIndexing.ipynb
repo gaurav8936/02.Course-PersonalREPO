{
 "cells": [
  {
   "cell_type": "code",
   "execution_count": null,
   "id": "33e625d1-284f-480c-be8e-6d628844c622",
   "metadata": {},
   "outputs": [],
   "source": []
  },
  {
   "cell_type": "markdown",
   "id": "01c736ce-57ad-45ca-a97a-47d54d0289cd",
   "metadata": {},
   "source": [
    "# Bracking Indexing"
   ]
  },
  {
   "cell_type": "code",
   "execution_count": 1,
   "id": "3d0f619c-d900-4472-9522-929511e210e1",
   "metadata": {},
   "outputs": [
    {
     "name": "stdout",
     "output_type": "stream",
     "text": [
      "3.9.12 (main, Apr  5 2022, 01:53:17) \n",
      "[Clang 12.0.0 ]\n",
      "1.21.5\n",
      "1.4.2\n"
     ]
    }
   ],
   "source": [
    "import sys\n",
    "print(sys.version)\n",
    "import numpy as np\n",
    "print(np.__version__)\n",
    "import pandas as pd\n",
    "print(pd.__version__)\n",
    "import matplotlib.pyplot as plt\n",
    "\n",
    "%matplotlib inline"
   ]
  },
  {
   "cell_type": "code",
   "execution_count": 2,
   "id": "4fafc6f2-3614-459c-969d-02896d3949cf",
   "metadata": {},
   "outputs": [],
   "source": [
    "# more complicated than indexing in numpy"
   ]
  },
  {
   "cell_type": "markdown",
   "id": "2e5d0559-20b8-4032-af1c-207cec005069",
   "metadata": {},
   "source": [
    "### we need to pull value based on position & label"
   ]
  },
  {
   "cell_type": "markdown",
   "id": "ef7a7466-3ee6-4a2a-9f3b-768c2133697c",
   "metadata": {},
   "source": [
    "## Indexing wiht series"
   ]
  },
  {
   "cell_type": "code",
   "execution_count": 11,
   "id": "916622a3-d39b-4f58-806a-645842372905",
   "metadata": {},
   "outputs": [
    {
     "data": {
      "text/plain": [
       "mouse_0    0\n",
       "mouse_1    2\n",
       "mouse_2    4\n",
       "mouse_3    6\n",
       "mouse_4    8\n",
       "dtype: int64"
      ]
     },
     "execution_count": 11,
     "metadata": {},
     "output_type": "execute_result"
    }
   ],
   "source": [
    "treats = pd.Series([x*2 for x in range(5)], index = ['mouse_{}'.format(x) for x in range(5)])\n",
    "treats"
   ]
  },
  {
   "cell_type": "code",
   "execution_count": 12,
   "id": "59c85a85-8055-40d3-a91f-5f9ab72110d2",
   "metadata": {},
   "outputs": [
    {
     "data": {
      "text/plain": [
       "mouse_0    0\n",
       "mouse_1    2\n",
       "mouse_2    4\n",
       "mouse_3    6\n",
       "mouse_4    8\n",
       "dtype: int64"
      ]
     },
     "execution_count": 12,
     "metadata": {},
     "output_type": "execute_result"
    }
   ],
   "source": [
    "treats"
   ]
  },
  {
   "cell_type": "code",
   "execution_count": 13,
   "id": "3626f383-20c4-4c99-90b1-eb6fbb85f10e",
   "metadata": {},
   "outputs": [],
   "source": [
    "# you can use indexing very similar to numpy"
   ]
  },
  {
   "cell_type": "code",
   "execution_count": 17,
   "id": "d7894b54-7a79-43ae-9054-f1068798a6b3",
   "metadata": {},
   "outputs": [
    {
     "data": {
      "text/plain": [
       "2"
      ]
     },
     "execution_count": 17,
     "metadata": {},
     "output_type": "execute_result"
    }
   ],
   "source": [
    "# by position\n",
    "treats[1]"
   ]
  },
  {
   "cell_type": "code",
   "execution_count": 18,
   "id": "4cc00dd6-43e4-47f7-9c7e-3093b3855e41",
   "metadata": {},
   "outputs": [
    {
     "data": {
      "text/plain": [
       "2"
      ]
     },
     "execution_count": 18,
     "metadata": {},
     "output_type": "execute_result"
    }
   ],
   "source": [
    "# by label -- not possible in numpy\n",
    "\n",
    "treats['mouse_1']"
   ]
  },
  {
   "cell_type": "code",
   "execution_count": 19,
   "id": "20fad449-a7b1-4d48-b6ee-1ddae5e0b69e",
   "metadata": {},
   "outputs": [
    {
     "data": {
      "text/plain": [
       "mouse_1    2\n",
       "mouse_4    8\n",
       "dtype: int64"
      ]
     },
     "execution_count": 19,
     "metadata": {},
     "output_type": "execute_result"
    }
   ],
   "source": [
    "treats[['mouse_1', 'mouse_4']]"
   ]
  },
  {
   "cell_type": "code",
   "execution_count": 20,
   "id": "32c787d1-bd18-4aed-808f-8f70eafdf725",
   "metadata": {},
   "outputs": [
    {
     "data": {
      "text/plain": [
       "mouse_0    False\n",
       "mouse_1    False\n",
       "mouse_2     True\n",
       "mouse_3     True\n",
       "mouse_4     True\n",
       "dtype: bool"
      ]
     },
     "execution_count": 20,
     "metadata": {},
     "output_type": "execute_result"
    }
   ],
   "source": [
    "treats> 3"
   ]
  },
  {
   "cell_type": "code",
   "execution_count": 22,
   "id": "c7d9d51b-6cb3-42b3-9913-22e8c8425e88",
   "metadata": {},
   "outputs": [
    {
     "data": {
      "text/plain": [
       "mouse_2    4\n",
       "mouse_3    6\n",
       "mouse_4    8\n",
       "dtype: int64"
      ]
     },
     "execution_count": 22,
     "metadata": {},
     "output_type": "execute_result"
    }
   ],
   "source": [
    "treats[treats>3]"
   ]
  },
  {
   "cell_type": "markdown",
   "id": "1e4f1e87-5cfb-4a60-ad23-9bcbc600354e",
   "metadata": {},
   "source": [
    "---"
   ]
  },
  {
   "cell_type": "markdown",
   "id": "93c35563-3aea-46d5-b57c-dc96411d2a1d",
   "metadata": {},
   "source": [
    "## slicing"
   ]
  },
  {
   "cell_type": "markdown",
   "id": "41d5ee7b-5347-437a-bc44-0d1dcb9def4f",
   "metadata": {},
   "source": [
    "### by position"
   ]
  },
  {
   "cell_type": "code",
   "execution_count": 24,
   "id": "8af82b8a-350e-41b8-9da5-7dddfa643673",
   "metadata": {},
   "outputs": [
    {
     "data": {
      "text/plain": [
       "mouse_1    2\n",
       "mouse_2    4\n",
       "dtype: int64"
      ]
     },
     "execution_count": 24,
     "metadata": {},
     "output_type": "execute_result"
    }
   ],
   "source": [
    "treats[1:3]"
   ]
  },
  {
   "cell_type": "markdown",
   "id": "5b5b1277-379c-460c-ada5-9f1c76e1f42d",
   "metadata": {},
   "source": [
    "### by label"
   ]
  },
  {
   "cell_type": "code",
   "execution_count": 26,
   "id": "506a669a-a07d-4abb-a355-ac3f57a93a13",
   "metadata": {},
   "outputs": [
    {
     "data": {
      "text/plain": [
       "mouse_1    2\n",
       "mouse_2    4\n",
       "mouse_3    6\n",
       "dtype: int64"
      ]
     },
     "execution_count": 26,
     "metadata": {},
     "output_type": "execute_result"
    }
   ],
   "source": [
    "treats['mouse_1' : 'mouse_3']"
   ]
  },
  {
   "cell_type": "markdown",
   "id": "be58182f-b7d5-4392-9610-dce83e5a7d56",
   "metadata": {},
   "source": [
    "<font size = 5, color = red> Notice the slices did not work the same way"
   ]
  },
  {
   "attachments": {
    "38b56505-1da9-480b-a0c4-970fbdd6c3e6.png": {
     "image/png": "[encoded data removed]"
    }
   },
   "cell_type": "markdown",
   "id": "a1a96b4c-3a72-42d5-9c3f-bb443a18de72",
   "metadata": {},
   "source": [
    "![image.png](attachment:38b56505-1da9-480b-a0c4-970fbdd6c3e6.png)"
   ]
  },
  {
   "cell_type": "code",
   "execution_count": 27,
   "id": "35988d32-b4fa-43af-b847-510bada7c4d6",
   "metadata": {},
   "outputs": [],
   "source": [
    "# normally a splice from 1-3 works in a specific way\n",
    "# does not rtypically include the endpoing 3"
   ]
  },
  {
   "cell_type": "markdown",
   "id": "2137b2ac-5520-47ee-acf4-d2a563636c99",
   "metadata": {},
   "source": [
    "### however slicing by label includes the last element as well (ie 1:3 is different)"
   ]
  },
  {
   "cell_type": "markdown",
   "id": "b7688a7e-18df-4fc9-a1f3-1fea57d89456",
   "metadata": {},
   "source": [
    "---"
   ]
  },
  {
   "cell_type": "markdown",
   "id": "13e92d4f-d45a-4042-b1ee-bc06d75ff179",
   "metadata": {},
   "source": [
    "# Indexing by dataframe"
   ]
  },
  {
   "cell_type": "code",
   "execution_count": 31,
   "id": "8faf0394-c12a-434e-94cf-2289d03641d7",
   "metadata": {},
   "outputs": [
    {
     "data": {
      "text/html": [
       "<div>\n",
       "<style scoped>\n",
       "    .dataframe tbody tr th:only-of-type {\n",
       "        vertical-align: middle;\n",
       "    }\n",
       "\n",
       "    .dataframe tbody tr th {\n",
       "        vertical-align: top;\n",
       "    }\n",
       "\n",
       "    .dataframe thead th {\n",
       "        text-align: right;\n",
       "    }\n",
       "</style>\n",
       "<table border=\"1\" class=\"dataframe\">\n",
       "  <thead>\n",
       "    <tr style=\"text-align: right;\">\n",
       "      <th></th>\n",
       "      <th>test_0</th>\n",
       "      <th>test_1</th>\n",
       "      <th>test_2</th>\n",
       "      <th>test_3</th>\n",
       "      <th>test_4</th>\n",
       "    </tr>\n",
       "  </thead>\n",
       "  <tbody>\n",
       "    <tr>\n",
       "      <th>mouse_0</th>\n",
       "      <td>14</td>\n",
       "      <td>2</td>\n",
       "      <td>5</td>\n",
       "      <td>3</td>\n",
       "      <td>7</td>\n",
       "    </tr>\n",
       "    <tr>\n",
       "      <th>mouse_1</th>\n",
       "      <td>1</td>\n",
       "      <td>2</td>\n",
       "      <td>11</td>\n",
       "      <td>3</td>\n",
       "      <td>18</td>\n",
       "    </tr>\n",
       "    <tr>\n",
       "      <th>mouse_2</th>\n",
       "      <td>10</td>\n",
       "      <td>20</td>\n",
       "      <td>12</td>\n",
       "      <td>2</td>\n",
       "      <td>9</td>\n",
       "    </tr>\n",
       "    <tr>\n",
       "      <th>mouse_3</th>\n",
       "      <td>1</td>\n",
       "      <td>7</td>\n",
       "      <td>2</td>\n",
       "      <td>1</td>\n",
       "      <td>13</td>\n",
       "    </tr>\n",
       "    <tr>\n",
       "      <th>mouse_4</th>\n",
       "      <td>8</td>\n",
       "      <td>4</td>\n",
       "      <td>10</td>\n",
       "      <td>4</td>\n",
       "      <td>3</td>\n",
       "    </tr>\n",
       "  </tbody>\n",
       "</table>\n",
       "</div>"
      ],
      "text/plain": [
       "         test_0  test_1  test_2  test_3  test_4\n",
       "mouse_0      14       2       5       3       7\n",
       "mouse_1       1       2      11       3      18\n",
       "mouse_2      10      20      12       2       9\n",
       "mouse_3       1       7       2       1      13\n",
       "mouse_4       8       4      10       4       3"
      ]
     },
     "execution_count": 31,
     "metadata": {},
     "output_type": "execute_result"
    }
   ],
   "source": [
    "np.random.seed(200)\n",
    "\n",
    "Mice = pd.DataFrame( np.random.geometric(.2, size = (5,5)),\n",
    "                   columns = ['test_{}'.format(x) for x in range(5)],\n",
    "                   index = ['mouse_{}'.format(x) for x in range(5)])\n",
    "Mice"
   ]
  },
  {
   "cell_type": "markdown",
   "id": "6b46bb60-a3d2-402c-9355-0071cdac07d4",
   "metadata": {},
   "source": [
    "---"
   ]
  },
  {
   "cell_type": "code",
   "execution_count": 32,
   "id": "755247d9-d769-42d6-9c24-d7f7ff1c066a",
   "metadata": {},
   "outputs": [],
   "source": [
    "# simple index"
   ]
  },
  {
   "cell_type": "code",
   "execution_count": 34,
   "id": "7bf9ea52-c45d-48fd-a864-310bb3f6269f",
   "metadata": {},
   "outputs": [
    {
     "data": {
      "text/plain": [
       "mouse_0     2\n",
       "mouse_1     2\n",
       "mouse_2    20\n",
       "mouse_3     7\n",
       "mouse_4     4\n",
       "Name: test_1, dtype: int64"
      ]
     },
     "execution_count": 34,
     "metadata": {},
     "output_type": "execute_result"
    }
   ],
   "source": [
    "Mice['test_1']"
   ]
  },
  {
   "cell_type": "code",
   "execution_count": 36,
   "id": "6804bed5-7e02-48c5-8683-74d3e1af3017",
   "metadata": {},
   "outputs": [
    {
     "data": {
      "text/plain": [
       "mouse_0     2\n",
       "mouse_1     2\n",
       "mouse_2    20\n",
       "mouse_3     7\n",
       "mouse_4     4\n",
       "Name: test_1, dtype: int64"
      ]
     },
     "execution_count": 36,
     "metadata": {},
     "output_type": "execute_result"
    }
   ],
   "source": [
    "Mice.test_1\n",
    "\n",
    "# works if there are no spaces or special chars"
   ]
  },
  {
   "cell_type": "code",
   "execution_count": 38,
   "id": "29d06c00-bdf8-4e45-9c20-0a87806dc778",
   "metadata": {},
   "outputs": [
    {
     "data": {
      "text/html": [
       "<div>\n",
       "<style scoped>\n",
       "    .dataframe tbody tr th:only-of-type {\n",
       "        vertical-align: middle;\n",
       "    }\n",
       "\n",
       "    .dataframe tbody tr th {\n",
       "        vertical-align: top;\n",
       "    }\n",
       "\n",
       "    .dataframe thead th {\n",
       "        text-align: right;\n",
       "    }\n",
       "</style>\n",
       "<table border=\"1\" class=\"dataframe\">\n",
       "  <thead>\n",
       "    <tr style=\"text-align: right;\">\n",
       "      <th></th>\n",
       "      <th>test_1</th>\n",
       "      <th>test_4</th>\n",
       "    </tr>\n",
       "  </thead>\n",
       "  <tbody>\n",
       "    <tr>\n",
       "      <th>mouse_0</th>\n",
       "      <td>2</td>\n",
       "      <td>7</td>\n",
       "    </tr>\n",
       "    <tr>\n",
       "      <th>mouse_1</th>\n",
       "      <td>2</td>\n",
       "      <td>18</td>\n",
       "    </tr>\n",
       "    <tr>\n",
       "      <th>mouse_2</th>\n",
       "      <td>20</td>\n",
       "      <td>9</td>\n",
       "    </tr>\n",
       "    <tr>\n",
       "      <th>mouse_3</th>\n",
       "      <td>7</td>\n",
       "      <td>13</td>\n",
       "    </tr>\n",
       "    <tr>\n",
       "      <th>mouse_4</th>\n",
       "      <td>4</td>\n",
       "      <td>3</td>\n",
       "    </tr>\n",
       "  </tbody>\n",
       "</table>\n",
       "</div>"
      ],
      "text/plain": [
       "         test_1  test_4\n",
       "mouse_0       2       7\n",
       "mouse_1       2      18\n",
       "mouse_2      20       9\n",
       "mouse_3       7      13\n",
       "mouse_4       4       3"
      ]
     },
     "execution_count": 38,
     "metadata": {},
     "output_type": "execute_result"
    }
   ],
   "source": [
    "Mice[['test_1', 'test_4']]"
   ]
  },
  {
   "cell_type": "markdown",
   "id": "2e7994a4-2f54-40df-aad7-24de08b98466",
   "metadata": {},
   "source": [
    "---"
   ]
  },
  {
   "cell_type": "markdown",
   "id": "97afcb43-1fc0-46b7-9772-2a4a37c84301",
   "metadata": {},
   "source": [
    "## Indexing can work differently at times"
   ]
  },
  {
   "cell_type": "markdown",
   "id": "4a6f2dac-543a-484d-8eab-de2441664b1b",
   "metadata": {},
   "source": [
    "### boolean array"
   ]
  },
  {
   "cell_type": "code",
   "execution_count": 39,
   "id": "8db5cc0c-c014-4086-973c-728931c85393",
   "metadata": {},
   "outputs": [
    {
     "data": {
      "text/plain": [
       "mouse_0    False\n",
       "mouse_1    False\n",
       "mouse_2     True\n",
       "mouse_3     True\n",
       "mouse_4     True\n",
       "Name: test_1, dtype: bool"
      ]
     },
     "execution_count": 39,
     "metadata": {},
     "output_type": "execute_result"
    }
   ],
   "source": [
    "Mice.test_1 > 3"
   ]
  },
  {
   "cell_type": "code",
   "execution_count": 41,
   "id": "2b55a119-7d66-4e87-994e-2e755c146202",
   "metadata": {},
   "outputs": [
    {
     "data": {
      "text/html": [
       "<div>\n",
       "<style scoped>\n",
       "    .dataframe tbody tr th:only-of-type {\n",
       "        vertical-align: middle;\n",
       "    }\n",
       "\n",
       "    .dataframe tbody tr th {\n",
       "        vertical-align: top;\n",
       "    }\n",
       "\n",
       "    .dataframe thead th {\n",
       "        text-align: right;\n",
       "    }\n",
       "</style>\n",
       "<table border=\"1\" class=\"dataframe\">\n",
       "  <thead>\n",
       "    <tr style=\"text-align: right;\">\n",
       "      <th></th>\n",
       "      <th>test_0</th>\n",
       "      <th>test_1</th>\n",
       "      <th>test_2</th>\n",
       "      <th>test_3</th>\n",
       "      <th>test_4</th>\n",
       "    </tr>\n",
       "  </thead>\n",
       "  <tbody>\n",
       "    <tr>\n",
       "      <th>mouse_2</th>\n",
       "      <td>10</td>\n",
       "      <td>20</td>\n",
       "      <td>12</td>\n",
       "      <td>2</td>\n",
       "      <td>9</td>\n",
       "    </tr>\n",
       "    <tr>\n",
       "      <th>mouse_3</th>\n",
       "      <td>1</td>\n",
       "      <td>7</td>\n",
       "      <td>2</td>\n",
       "      <td>1</td>\n",
       "      <td>13</td>\n",
       "    </tr>\n",
       "    <tr>\n",
       "      <th>mouse_4</th>\n",
       "      <td>8</td>\n",
       "      <td>4</td>\n",
       "      <td>10</td>\n",
       "      <td>4</td>\n",
       "      <td>3</td>\n",
       "    </tr>\n",
       "  </tbody>\n",
       "</table>\n",
       "</div>"
      ],
      "text/plain": [
       "         test_0  test_1  test_2  test_3  test_4\n",
       "mouse_2      10      20      12       2       9\n",
       "mouse_3       1       7       2       1      13\n",
       "mouse_4       8       4      10       4       3"
      ]
     },
     "execution_count": 41,
     "metadata": {},
     "output_type": "execute_result"
    }
   ],
   "source": [
    "Mice[Mice.test_1 > 3]"
   ]
  },
  {
   "cell_type": "markdown",
   "id": "5095baa9-777c-4c20-9e79-96f1e9002327",
   "metadata": {},
   "source": [
    "     And you can see what happens is we actually have filtered on the rows. This is kind of unexpected behavior. It may be a little bit surprising if this happens. "
   ]
  },
  {
   "cell_type": "code",
   "execution_count": 42,
   "id": "602f59cb-7e26-41e7-8096-69366fe3a184",
   "metadata": {},
   "outputs": [],
   "source": [
    "# The contradiction is only because this boolean opeation is basic"
   ]
  },
  {
   "cell_type": "markdown",
   "id": "2837ee6e-2fc5-402c-8431-ac9dc86dbf3f",
   "metadata": {},
   "source": [
    "---"
   ]
  },
  {
   "cell_type": "markdown",
   "id": "db360e8e-3203-48cb-b3f3-8b023f0d1938",
   "metadata": {},
   "source": [
    "### boolean array"
   ]
  },
  {
   "cell_type": "code",
   "execution_count": 44,
   "id": "64de5175-eaf2-4373-9d72-35ad1a724f35",
   "metadata": {},
   "outputs": [
    {
     "data": {
      "text/html": [
       "<div>\n",
       "<style scoped>\n",
       "    .dataframe tbody tr th:only-of-type {\n",
       "        vertical-align: middle;\n",
       "    }\n",
       "\n",
       "    .dataframe tbody tr th {\n",
       "        vertical-align: top;\n",
       "    }\n",
       "\n",
       "    .dataframe thead th {\n",
       "        text-align: right;\n",
       "    }\n",
       "</style>\n",
       "<table border=\"1\" class=\"dataframe\">\n",
       "  <thead>\n",
       "    <tr style=\"text-align: right;\">\n",
       "      <th></th>\n",
       "      <th>test_0</th>\n",
       "      <th>test_1</th>\n",
       "      <th>test_2</th>\n",
       "      <th>test_3</th>\n",
       "      <th>test_4</th>\n",
       "    </tr>\n",
       "  </thead>\n",
       "  <tbody>\n",
       "    <tr>\n",
       "      <th>mouse_0</th>\n",
       "      <td>14</td>\n",
       "      <td>2</td>\n",
       "      <td>5</td>\n",
       "      <td>3</td>\n",
       "      <td>7</td>\n",
       "    </tr>\n",
       "    <tr>\n",
       "      <th>mouse_1</th>\n",
       "      <td>1</td>\n",
       "      <td>2</td>\n",
       "      <td>11</td>\n",
       "      <td>3</td>\n",
       "      <td>18</td>\n",
       "    </tr>\n",
       "    <tr>\n",
       "      <th>mouse_2</th>\n",
       "      <td>10</td>\n",
       "      <td>20</td>\n",
       "      <td>12</td>\n",
       "      <td>2</td>\n",
       "      <td>9</td>\n",
       "    </tr>\n",
       "    <tr>\n",
       "      <th>mouse_3</th>\n",
       "      <td>1</td>\n",
       "      <td>7</td>\n",
       "      <td>2</td>\n",
       "      <td>1</td>\n",
       "      <td>13</td>\n",
       "    </tr>\n",
       "    <tr>\n",
       "      <th>mouse_4</th>\n",
       "      <td>8</td>\n",
       "      <td>4</td>\n",
       "      <td>10</td>\n",
       "      <td>4</td>\n",
       "      <td>3</td>\n",
       "    </tr>\n",
       "  </tbody>\n",
       "</table>\n",
       "</div>"
      ],
      "text/plain": [
       "         test_0  test_1  test_2  test_3  test_4\n",
       "mouse_0      14       2       5       3       7\n",
       "mouse_1       1       2      11       3      18\n",
       "mouse_2      10      20      12       2       9\n",
       "mouse_3       1       7       2       1      13\n",
       "mouse_4       8       4      10       4       3"
      ]
     },
     "execution_count": 44,
     "metadata": {},
     "output_type": "execute_result"
    }
   ],
   "source": [
    "np.random.seed(200)\n",
    "\n",
    "Mice = pd.DataFrame( np.random.geometric(.2, size = (5,5)),\n",
    "                   columns = ['test_{}'.format(x) for x in range(5)],\n",
    "                   index = ['mouse_{}'.format(x) for x in range(5)])\n",
    "Mice"
   ]
  },
  {
   "cell_type": "code",
   "execution_count": 45,
   "id": "66d97bfd-8784-4a65-b99c-919984a5b203",
   "metadata": {},
   "outputs": [],
   "source": [
    "# let us take all the values > 15 adn set them to 15\n",
    "\n",
    "# maybe required for privacy purposes"
   ]
  },
  {
   "cell_type": "code",
   "execution_count": 46,
   "id": "b26e3c86-f5b2-4501-a4d7-217f396eadfd",
   "metadata": {},
   "outputs": [
    {
     "data": {
      "text/html": [
       "<div>\n",
       "<style scoped>\n",
       "    .dataframe tbody tr th:only-of-type {\n",
       "        vertical-align: middle;\n",
       "    }\n",
       "\n",
       "    .dataframe tbody tr th {\n",
       "        vertical-align: top;\n",
       "    }\n",
       "\n",
       "    .dataframe thead th {\n",
       "        text-align: right;\n",
       "    }\n",
       "</style>\n",
       "<table border=\"1\" class=\"dataframe\">\n",
       "  <thead>\n",
       "    <tr style=\"text-align: right;\">\n",
       "      <th></th>\n",
       "      <th>test_0</th>\n",
       "      <th>test_1</th>\n",
       "      <th>test_2</th>\n",
       "      <th>test_3</th>\n",
       "      <th>test_4</th>\n",
       "    </tr>\n",
       "  </thead>\n",
       "  <tbody>\n",
       "    <tr>\n",
       "      <th>mouse_0</th>\n",
       "      <td>False</td>\n",
       "      <td>False</td>\n",
       "      <td>False</td>\n",
       "      <td>False</td>\n",
       "      <td>False</td>\n",
       "    </tr>\n",
       "    <tr>\n",
       "      <th>mouse_1</th>\n",
       "      <td>False</td>\n",
       "      <td>False</td>\n",
       "      <td>False</td>\n",
       "      <td>False</td>\n",
       "      <td>True</td>\n",
       "    </tr>\n",
       "    <tr>\n",
       "      <th>mouse_2</th>\n",
       "      <td>False</td>\n",
       "      <td>True</td>\n",
       "      <td>False</td>\n",
       "      <td>False</td>\n",
       "      <td>False</td>\n",
       "    </tr>\n",
       "    <tr>\n",
       "      <th>mouse_3</th>\n",
       "      <td>False</td>\n",
       "      <td>False</td>\n",
       "      <td>False</td>\n",
       "      <td>False</td>\n",
       "      <td>False</td>\n",
       "    </tr>\n",
       "    <tr>\n",
       "      <th>mouse_4</th>\n",
       "      <td>False</td>\n",
       "      <td>False</td>\n",
       "      <td>False</td>\n",
       "      <td>False</td>\n",
       "      <td>False</td>\n",
       "    </tr>\n",
       "  </tbody>\n",
       "</table>\n",
       "</div>"
      ],
      "text/plain": [
       "         test_0  test_1  test_2  test_3  test_4\n",
       "mouse_0   False   False   False   False   False\n",
       "mouse_1   False   False   False   False    True\n",
       "mouse_2   False    True   False   False   False\n",
       "mouse_3   False   False   False   False   False\n",
       "mouse_4   False   False   False   False   False"
      ]
     },
     "execution_count": 46,
     "metadata": {},
     "output_type": "execute_result"
    }
   ],
   "source": [
    "Mice > 15"
   ]
  },
  {
   "cell_type": "code",
   "execution_count": 47,
   "id": "db131455-3562-42ab-b4c5-5375c4b05c72",
   "metadata": {},
   "outputs": [
    {
     "data": {
      "text/html": [
       "<div>\n",
       "<style scoped>\n",
       "    .dataframe tbody tr th:only-of-type {\n",
       "        vertical-align: middle;\n",
       "    }\n",
       "\n",
       "    .dataframe tbody tr th {\n",
       "        vertical-align: top;\n",
       "    }\n",
       "\n",
       "    .dataframe thead th {\n",
       "        text-align: right;\n",
       "    }\n",
       "</style>\n",
       "<table border=\"1\" class=\"dataframe\">\n",
       "  <thead>\n",
       "    <tr style=\"text-align: right;\">\n",
       "      <th></th>\n",
       "      <th>test_0</th>\n",
       "      <th>test_1</th>\n",
       "      <th>test_2</th>\n",
       "      <th>test_3</th>\n",
       "      <th>test_4</th>\n",
       "    </tr>\n",
       "  </thead>\n",
       "  <tbody>\n",
       "    <tr>\n",
       "      <th>mouse_0</th>\n",
       "      <td>NaN</td>\n",
       "      <td>NaN</td>\n",
       "      <td>NaN</td>\n",
       "      <td>NaN</td>\n",
       "      <td>NaN</td>\n",
       "    </tr>\n",
       "    <tr>\n",
       "      <th>mouse_1</th>\n",
       "      <td>NaN</td>\n",
       "      <td>NaN</td>\n",
       "      <td>NaN</td>\n",
       "      <td>NaN</td>\n",
       "      <td>18.0</td>\n",
       "    </tr>\n",
       "    <tr>\n",
       "      <th>mouse_2</th>\n",
       "      <td>NaN</td>\n",
       "      <td>20.0</td>\n",
       "      <td>NaN</td>\n",
       "      <td>NaN</td>\n",
       "      <td>NaN</td>\n",
       "    </tr>\n",
       "    <tr>\n",
       "      <th>mouse_3</th>\n",
       "      <td>NaN</td>\n",
       "      <td>NaN</td>\n",
       "      <td>NaN</td>\n",
       "      <td>NaN</td>\n",
       "      <td>NaN</td>\n",
       "    </tr>\n",
       "    <tr>\n",
       "      <th>mouse_4</th>\n",
       "      <td>NaN</td>\n",
       "      <td>NaN</td>\n",
       "      <td>NaN</td>\n",
       "      <td>NaN</td>\n",
       "      <td>NaN</td>\n",
       "    </tr>\n",
       "  </tbody>\n",
       "</table>\n",
       "</div>"
      ],
      "text/plain": [
       "         test_0  test_1  test_2  test_3  test_4\n",
       "mouse_0     NaN     NaN     NaN     NaN     NaN\n",
       "mouse_1     NaN     NaN     NaN     NaN    18.0\n",
       "mouse_2     NaN    20.0     NaN     NaN     NaN\n",
       "mouse_3     NaN     NaN     NaN     NaN     NaN\n",
       "mouse_4     NaN     NaN     NaN     NaN     NaN"
      ]
     },
     "execution_count": 47,
     "metadata": {},
     "output_type": "execute_result"
    }
   ],
   "source": [
    "Mice[Mice>15]"
   ]
  },
  {
   "cell_type": "code",
   "execution_count": 48,
   "id": "8c09a5e5-9891-4c3a-acb5-5f5fd20f12c6",
   "metadata": {},
   "outputs": [
    {
     "data": {
      "text/html": [
       "<div>\n",
       "<style scoped>\n",
       "    .dataframe tbody tr th:only-of-type {\n",
       "        vertical-align: middle;\n",
       "    }\n",
       "\n",
       "    .dataframe tbody tr th {\n",
       "        vertical-align: top;\n",
       "    }\n",
       "\n",
       "    .dataframe thead th {\n",
       "        text-align: right;\n",
       "    }\n",
       "</style>\n",
       "<table border=\"1\" class=\"dataframe\">\n",
       "  <thead>\n",
       "    <tr style=\"text-align: right;\">\n",
       "      <th></th>\n",
       "      <th>test_0</th>\n",
       "      <th>test_1</th>\n",
       "      <th>test_2</th>\n",
       "      <th>test_3</th>\n",
       "      <th>test_4</th>\n",
       "    </tr>\n",
       "  </thead>\n",
       "  <tbody>\n",
       "    <tr>\n",
       "      <th>mouse_0</th>\n",
       "      <td>14</td>\n",
       "      <td>2</td>\n",
       "      <td>5</td>\n",
       "      <td>3</td>\n",
       "      <td>7</td>\n",
       "    </tr>\n",
       "    <tr>\n",
       "      <th>mouse_1</th>\n",
       "      <td>1</td>\n",
       "      <td>2</td>\n",
       "      <td>11</td>\n",
       "      <td>3</td>\n",
       "      <td>15</td>\n",
       "    </tr>\n",
       "    <tr>\n",
       "      <th>mouse_2</th>\n",
       "      <td>10</td>\n",
       "      <td>15</td>\n",
       "      <td>12</td>\n",
       "      <td>2</td>\n",
       "      <td>9</td>\n",
       "    </tr>\n",
       "    <tr>\n",
       "      <th>mouse_3</th>\n",
       "      <td>1</td>\n",
       "      <td>7</td>\n",
       "      <td>2</td>\n",
       "      <td>1</td>\n",
       "      <td>13</td>\n",
       "    </tr>\n",
       "    <tr>\n",
       "      <th>mouse_4</th>\n",
       "      <td>8</td>\n",
       "      <td>4</td>\n",
       "      <td>10</td>\n",
       "      <td>4</td>\n",
       "      <td>3</td>\n",
       "    </tr>\n",
       "  </tbody>\n",
       "</table>\n",
       "</div>"
      ],
      "text/plain": [
       "         test_0  test_1  test_2  test_3  test_4\n",
       "mouse_0      14       2       5       3       7\n",
       "mouse_1       1       2      11       3      15\n",
       "mouse_2      10      15      12       2       9\n",
       "mouse_3       1       7       2       1      13\n",
       "mouse_4       8       4      10       4       3"
      ]
     },
     "execution_count": 48,
     "metadata": {},
     "output_type": "execute_result"
    }
   ],
   "source": [
    "Mice[Mice>15] = 15\n",
    "Mice"
   ]
  },
  {
   "cell_type": "markdown",
   "id": "91eac9b2-ea91-4894-9f2c-fa366022b6c0",
   "metadata": {},
   "source": [
    "---"
   ]
  },
  {
   "cell_type": "markdown",
   "id": "32753816-a20e-4e3e-9b91-dc5f8861b13d",
   "metadata": {},
   "source": [
    "### slices are matched up against rows"
   ]
  },
  {
   "cell_type": "code",
   "execution_count": 49,
   "id": "4ee01a82-3bd7-4530-a551-5346724c3d62",
   "metadata": {},
   "outputs": [
    {
     "data": {
      "text/html": [
       "<div>\n",
       "<style scoped>\n",
       "    .dataframe tbody tr th:only-of-type {\n",
       "        vertical-align: middle;\n",
       "    }\n",
       "\n",
       "    .dataframe tbody tr th {\n",
       "        vertical-align: top;\n",
       "    }\n",
       "\n",
       "    .dataframe thead th {\n",
       "        text-align: right;\n",
       "    }\n",
       "</style>\n",
       "<table border=\"1\" class=\"dataframe\">\n",
       "  <thead>\n",
       "    <tr style=\"text-align: right;\">\n",
       "      <th></th>\n",
       "      <th>test_0</th>\n",
       "      <th>test_1</th>\n",
       "      <th>test_2</th>\n",
       "      <th>test_3</th>\n",
       "      <th>test_4</th>\n",
       "    </tr>\n",
       "  </thead>\n",
       "  <tbody>\n",
       "    <tr>\n",
       "      <th>mouse_0</th>\n",
       "      <td>14</td>\n",
       "      <td>2</td>\n",
       "      <td>5</td>\n",
       "      <td>3</td>\n",
       "      <td>7</td>\n",
       "    </tr>\n",
       "    <tr>\n",
       "      <th>mouse_1</th>\n",
       "      <td>1</td>\n",
       "      <td>2</td>\n",
       "      <td>11</td>\n",
       "      <td>3</td>\n",
       "      <td>15</td>\n",
       "    </tr>\n",
       "  </tbody>\n",
       "</table>\n",
       "</div>"
      ],
      "text/plain": [
       "         test_0  test_1  test_2  test_3  test_4\n",
       "mouse_0      14       2       5       3       7\n",
       "mouse_1       1       2      11       3      15"
      ]
     },
     "execution_count": 49,
     "metadata": {},
     "output_type": "execute_result"
    }
   ],
   "source": [
    "Mice[0:2]"
   ]
  },
  {
   "cell_type": "code",
   "execution_count": 50,
   "id": "5795fa7a-8f74-49ed-9faf-18abbdab05d6",
   "metadata": {},
   "outputs": [
    {
     "data": {
      "text/html": [
       "<div>\n",
       "<style scoped>\n",
       "    .dataframe tbody tr th:only-of-type {\n",
       "        vertical-align: middle;\n",
       "    }\n",
       "\n",
       "    .dataframe tbody tr th {\n",
       "        vertical-align: top;\n",
       "    }\n",
       "\n",
       "    .dataframe thead th {\n",
       "        text-align: right;\n",
       "    }\n",
       "</style>\n",
       "<table border=\"1\" class=\"dataframe\">\n",
       "  <thead>\n",
       "    <tr style=\"text-align: right;\">\n",
       "      <th></th>\n",
       "      <th>test_0</th>\n",
       "      <th>test_1</th>\n",
       "      <th>test_2</th>\n",
       "      <th>test_3</th>\n",
       "      <th>test_4</th>\n",
       "    </tr>\n",
       "  </thead>\n",
       "  <tbody>\n",
       "    <tr>\n",
       "      <th>mouse_0</th>\n",
       "      <td>14</td>\n",
       "      <td>2</td>\n",
       "      <td>5</td>\n",
       "      <td>3</td>\n",
       "      <td>7</td>\n",
       "    </tr>\n",
       "    <tr>\n",
       "      <th>mouse_1</th>\n",
       "      <td>1</td>\n",
       "      <td>2</td>\n",
       "      <td>11</td>\n",
       "      <td>3</td>\n",
       "      <td>15</td>\n",
       "    </tr>\n",
       "    <tr>\n",
       "      <th>mouse_2</th>\n",
       "      <td>10</td>\n",
       "      <td>15</td>\n",
       "      <td>12</td>\n",
       "      <td>2</td>\n",
       "      <td>9</td>\n",
       "    </tr>\n",
       "  </tbody>\n",
       "</table>\n",
       "</div>"
      ],
      "text/plain": [
       "         test_0  test_1  test_2  test_3  test_4\n",
       "mouse_0      14       2       5       3       7\n",
       "mouse_1       1       2      11       3      15\n",
       "mouse_2      10      15      12       2       9"
      ]
     },
     "execution_count": 50,
     "metadata": {},
     "output_type": "execute_result"
    }
   ],
   "source": [
    "Mice['mouse_0':'mouse_2']"
   ]
  },
  {
   "cell_type": "code",
   "execution_count": 52,
   "id": "bcb9eb5e-7acb-40dd-b2fb-773773007d05",
   "metadata": {},
   "outputs": [],
   "source": [
    "# NOTE THE INDEX 2 is NOT INCLUDED when indexing by position\n",
    "# BUT INCLUDED WHEN INDEXING BY LABEL"
   ]
  },
  {
   "cell_type": "code",
   "execution_count": null,
   "id": "32b55759-fbae-41cb-a808-e7374567c487",
   "metadata": {},
   "outputs": [],
   "source": []
  }
 ],
 "metadata": {
  "kernelspec": {
   "display_name": "Python 3 (ipykernel)",
   "language": "python",
   "name": "python3"
  },
  "language_info": {
   "codemirror_mode": {
    "name": "ipython",
    "version": 3
   },
   "file_extension": ".py",
   "mimetype": "text/x-python",
   "name": "python",
   "nbconvert_exporter": "python",
   "pygments_lexer": "ipython3",
   "version": "3.9.12"
  }
 },
 "nbformat": 4,
 "nbformat_minor": 5
}
