{
 "cells": [
  {
   "cell_type": "markdown",
   "id": "41679d3e-3e38-4e9b-8895-d55608c5921b",
   "metadata": {},
   "source": [
    "# Applying Functions"
   ]
  },
  {
   "cell_type": "code",
   "execution_count": 34,
   "id": "369a0b14-618b-4484-9e13-62971f82c6fe",
   "metadata": {},
   "outputs": [
    {
     "name": "stdout",
     "output_type": "stream",
     "text": [
      "3.9.12 (main, Apr  5 2022, 01:53:17) \n",
      "[Clang 12.0.0 ]\n",
      "1.21.5\n",
      "1.4.2\n"
     ]
    }
   ],
   "source": [
    "import sys\n",
    "print(sys.version)\n",
    "import numpy as np\n",
    "print(np.__version__)\n",
    "import pandas as pd\n",
    "print(pd.__version__)\n",
    "import matplotlib.pyplot as plt\n",
    "\n",
    "%matplotlib inline"
   ]
  },
  {
   "cell_type": "code",
   "execution_count": 35,
   "id": "fdc03d03-6d29-4e5e-a3c2-82b1589d6e73",
   "metadata": {},
   "outputs": [
    {
     "data": {
      "text/html": [
       "<div>\n",
       "<style scoped>\n",
       "    .dataframe tbody tr th:only-of-type {\n",
       "        vertical-align: middle;\n",
       "    }\n",
       "\n",
       "    .dataframe tbody tr th {\n",
       "        vertical-align: top;\n",
       "    }\n",
       "\n",
       "    .dataframe thead th {\n",
       "        text-align: right;\n",
       "    }\n",
       "</style>\n",
       "<table border=\"1\" class=\"dataframe\">\n",
       "  <thead>\n",
       "    <tr style=\"text-align: right;\">\n",
       "      <th></th>\n",
       "      <th>test_0</th>\n",
       "      <th>test_1</th>\n",
       "      <th>test_2</th>\n",
       "      <th>test_3</th>\n",
       "      <th>test_4</th>\n",
       "    </tr>\n",
       "  </thead>\n",
       "  <tbody>\n",
       "    <tr>\n",
       "      <th>mouse_0</th>\n",
       "      <td>14</td>\n",
       "      <td>2</td>\n",
       "      <td>5</td>\n",
       "      <td>3</td>\n",
       "      <td>7</td>\n",
       "    </tr>\n",
       "    <tr>\n",
       "      <th>mouse_1</th>\n",
       "      <td>1</td>\n",
       "      <td>2</td>\n",
       "      <td>11</td>\n",
       "      <td>3</td>\n",
       "      <td>18</td>\n",
       "    </tr>\n",
       "    <tr>\n",
       "      <th>mouse_2</th>\n",
       "      <td>10</td>\n",
       "      <td>20</td>\n",
       "      <td>12</td>\n",
       "      <td>2</td>\n",
       "      <td>9</td>\n",
       "    </tr>\n",
       "    <tr>\n",
       "      <th>mouse_3</th>\n",
       "      <td>1</td>\n",
       "      <td>7</td>\n",
       "      <td>2</td>\n",
       "      <td>1</td>\n",
       "      <td>13</td>\n",
       "    </tr>\n",
       "    <tr>\n",
       "      <th>mouse_4</th>\n",
       "      <td>8</td>\n",
       "      <td>4</td>\n",
       "      <td>10</td>\n",
       "      <td>4</td>\n",
       "      <td>3</td>\n",
       "    </tr>\n",
       "  </tbody>\n",
       "</table>\n",
       "</div>"
      ],
      "text/plain": [
       "         test_0  test_1  test_2  test_3  test_4\n",
       "mouse_0      14       2       5       3       7\n",
       "mouse_1       1       2      11       3      18\n",
       "mouse_2      10      20      12       2       9\n",
       "mouse_3       1       7       2       1      13\n",
       "mouse_4       8       4      10       4       3"
      ]
     },
     "execution_count": 35,
     "metadata": {},
     "output_type": "execute_result"
    }
   ],
   "source": [
    "np.random.seed(200)\n",
    "\n",
    "Mice = pd.DataFrame( np.random.geometric(.2, size = (5,5)),\n",
    "                   columns = ['test_{}'.format(x) for x in range(5)],\n",
    "                   index = ['mouse_{}'.format(x) for x in range(5)])\n",
    "Mice"
   ]
  },
  {
   "cell_type": "markdown",
   "id": "7557ea5c-8cce-44cf-9585-ea36d1650577",
   "metadata": {},
   "source": [
    "# retrieve csv file"
   ]
  },
  {
   "cell_type": "code",
   "execution_count": 88,
   "id": "abb3bd23-e61a-4948-93fd-6754c66f8571",
   "metadata": {},
   "outputs": [
    {
     "data": {
      "text/html": [
       "<div>\n",
       "<style scoped>\n",
       "    .dataframe tbody tr th:only-of-type {\n",
       "        vertical-align: middle;\n",
       "    }\n",
       "\n",
       "    .dataframe tbody tr th {\n",
       "        vertical-align: top;\n",
       "    }\n",
       "\n",
       "    .dataframe thead th {\n",
       "        text-align: right;\n",
       "    }\n",
       "</style>\n",
       "<table border=\"1\" class=\"dataframe\">\n",
       "  <thead>\n",
       "    <tr style=\"text-align: right;\">\n",
       "      <th></th>\n",
       "      <th>student</th>\n",
       "      <th>midterm</th>\n",
       "      <th>final</th>\n",
       "    </tr>\n",
       "  </thead>\n",
       "  <tbody>\n",
       "    <tr>\n",
       "      <th>0</th>\n",
       "      <td>Ben</td>\n",
       "      <td>88</td>\n",
       "      <td>90</td>\n",
       "    </tr>\n",
       "    <tr>\n",
       "      <th>1</th>\n",
       "      <td>May</td>\n",
       "      <td>78</td>\n",
       "      <td>87</td>\n",
       "    </tr>\n",
       "    <tr>\n",
       "      <th>2</th>\n",
       "      <td>Sue</td>\n",
       "      <td>92</td>\n",
       "      <td>64</td>\n",
       "    </tr>\n",
       "    <tr>\n",
       "      <th>3</th>\n",
       "      <td>Blake</td>\n",
       "      <td>56</td>\n",
       "      <td>90</td>\n",
       "    </tr>\n",
       "    <tr>\n",
       "      <th>4</th>\n",
       "      <td>Amy</td>\n",
       "      <td>79</td>\n",
       "      <td>96</td>\n",
       "    </tr>\n",
       "    <tr>\n",
       "      <th>5</th>\n",
       "      <td>Steve</td>\n",
       "      <td>92</td>\n",
       "      <td>84</td>\n",
       "    </tr>\n",
       "  </tbody>\n",
       "</table>\n",
       "</div>"
      ],
      "text/plain": [
       "  student  midterm  final\n",
       "0     Ben       88     90\n",
       "1     May       78     87\n",
       "2     Sue       92     64\n",
       "3   Blake       56     90\n",
       "4     Amy       79     96\n",
       "5   Steve       92     84"
      ]
     },
     "execution_count": 88,
     "metadata": {},
     "output_type": "execute_result"
    }
   ],
   "source": [
    "gradebook = pd.read_csv('gradebook.csv')\n",
    "gradebook"
   ]
  },
  {
   "cell_type": "code",
   "execution_count": 8,
   "id": "b7c6d6e6-20eb-451f-bf0d-20d39bda6463",
   "metadata": {},
   "outputs": [],
   "source": [
    "# one difference"
   ]
  },
  {
   "cell_type": "markdown",
   "id": "43274a3d-da2f-421a-b6a4-81756e073d4b",
   "metadata": {},
   "source": [
    "## note the index (which was student) was lost when calling it back"
   ]
  },
  {
   "cell_type": "code",
   "execution_count": 9,
   "id": "1d16db02-e44d-4535-a438-100fb317b4ce",
   "metadata": {},
   "outputs": [],
   "source": [
    "#revert"
   ]
  },
  {
   "cell_type": "code",
   "execution_count": 89,
   "id": "3032b71f-e29b-4855-a8c5-e47d156c04e4",
   "metadata": {},
   "outputs": [
    {
     "data": {
      "text/html": [
       "<div>\n",
       "<style scoped>\n",
       "    .dataframe tbody tr th:only-of-type {\n",
       "        vertical-align: middle;\n",
       "    }\n",
       "\n",
       "    .dataframe tbody tr th {\n",
       "        vertical-align: top;\n",
       "    }\n",
       "\n",
       "    .dataframe thead th {\n",
       "        text-align: right;\n",
       "    }\n",
       "</style>\n",
       "<table border=\"1\" class=\"dataframe\">\n",
       "  <thead>\n",
       "    <tr style=\"text-align: right;\">\n",
       "      <th></th>\n",
       "      <th>midterm</th>\n",
       "      <th>final</th>\n",
       "    </tr>\n",
       "    <tr>\n",
       "      <th>student</th>\n",
       "      <th></th>\n",
       "      <th></th>\n",
       "    </tr>\n",
       "  </thead>\n",
       "  <tbody>\n",
       "    <tr>\n",
       "      <th>Ben</th>\n",
       "      <td>88</td>\n",
       "      <td>90</td>\n",
       "    </tr>\n",
       "    <tr>\n",
       "      <th>May</th>\n",
       "      <td>78</td>\n",
       "      <td>87</td>\n",
       "    </tr>\n",
       "    <tr>\n",
       "      <th>Sue</th>\n",
       "      <td>92</td>\n",
       "      <td>64</td>\n",
       "    </tr>\n",
       "    <tr>\n",
       "      <th>Blake</th>\n",
       "      <td>56</td>\n",
       "      <td>90</td>\n",
       "    </tr>\n",
       "    <tr>\n",
       "      <th>Amy</th>\n",
       "      <td>79</td>\n",
       "      <td>96</td>\n",
       "    </tr>\n",
       "    <tr>\n",
       "      <th>Steve</th>\n",
       "      <td>92</td>\n",
       "      <td>84</td>\n",
       "    </tr>\n",
       "  </tbody>\n",
       "</table>\n",
       "</div>"
      ],
      "text/plain": [
       "         midterm  final\n",
       "student                \n",
       "Ben           88     90\n",
       "May           78     87\n",
       "Sue           92     64\n",
       "Blake         56     90\n",
       "Amy           79     96\n",
       "Steve         92     84"
      ]
     },
     "execution_count": 89,
     "metadata": {},
     "output_type": "execute_result"
    }
   ],
   "source": [
    "gradebook = gradebook.set_index('student')\n",
    "gradebook"
   ]
  },
  {
   "cell_type": "code",
   "execution_count": 11,
   "id": "ad24f320-5377-4640-9920-471b3397b18d",
   "metadata": {},
   "outputs": [],
   "source": [
    "# now thiings are back to the way they were"
   ]
  },
  {
   "cell_type": "markdown",
   "id": "6c04fa76-682b-4426-b2c5-6949ec09141b",
   "metadata": {},
   "source": [
    "---"
   ]
  },
  {
   "cell_type": "code",
   "execution_count": 12,
   "id": "e717c77a-d834-4ab8-bf10-fe61d20ef6ee",
   "metadata": {},
   "outputs": [],
   "source": [
    "# add some missing values -- just to make things more interesting"
   ]
  },
  {
   "cell_type": "code",
   "execution_count": 91,
   "id": "6ee7f866-7b75-419f-aabf-9d9562f7eed7",
   "metadata": {},
   "outputs": [],
   "source": [
    "gradebook.loc['Steve', 'midterm'] = np.nan"
   ]
  },
  {
   "cell_type": "code",
   "execution_count": 92,
   "id": "50ea1203-e5da-43e2-9c89-488f114b5f82",
   "metadata": {},
   "outputs": [],
   "source": [
    "gradebook.loc['Amy', 'final'] = np.nan"
   ]
  },
  {
   "cell_type": "code",
   "execution_count": 19,
   "id": "0e60d72f-93fe-4018-a619-d6297ec9e572",
   "metadata": {},
   "outputs": [
    {
     "data": {
      "text/html": [
       "<div>\n",
       "<style scoped>\n",
       "    .dataframe tbody tr th:only-of-type {\n",
       "        vertical-align: middle;\n",
       "    }\n",
       "\n",
       "    .dataframe tbody tr th {\n",
       "        vertical-align: top;\n",
       "    }\n",
       "\n",
       "    .dataframe thead th {\n",
       "        text-align: right;\n",
       "    }\n",
       "</style>\n",
       "<table border=\"1\" class=\"dataframe\">\n",
       "  <thead>\n",
       "    <tr style=\"text-align: right;\">\n",
       "      <th></th>\n",
       "      <th>midterm</th>\n",
       "      <th>final</th>\n",
       "    </tr>\n",
       "    <tr>\n",
       "      <th>student</th>\n",
       "      <th></th>\n",
       "      <th></th>\n",
       "    </tr>\n",
       "  </thead>\n",
       "  <tbody>\n",
       "    <tr>\n",
       "      <th>Ben</th>\n",
       "      <td>88.0</td>\n",
       "      <td>90.0</td>\n",
       "    </tr>\n",
       "    <tr>\n",
       "      <th>May</th>\n",
       "      <td>78.0</td>\n",
       "      <td>87.0</td>\n",
       "    </tr>\n",
       "    <tr>\n",
       "      <th>Sue</th>\n",
       "      <td>92.0</td>\n",
       "      <td>64.0</td>\n",
       "    </tr>\n",
       "    <tr>\n",
       "      <th>Blake</th>\n",
       "      <td>56.0</td>\n",
       "      <td>90.0</td>\n",
       "    </tr>\n",
       "    <tr>\n",
       "      <th>Amy</th>\n",
       "      <td>NaN</td>\n",
       "      <td>NaN</td>\n",
       "    </tr>\n",
       "    <tr>\n",
       "      <th>Steve</th>\n",
       "      <td>NaN</td>\n",
       "      <td>84.0</td>\n",
       "    </tr>\n",
       "  </tbody>\n",
       "</table>\n",
       "</div>"
      ],
      "text/plain": [
       "         midterm  final\n",
       "student                \n",
       "Ben         88.0   90.0\n",
       "May         78.0   87.0\n",
       "Sue         92.0   64.0\n",
       "Blake       56.0   90.0\n",
       "Amy          NaN    NaN\n",
       "Steve        NaN   84.0"
      ]
     },
     "execution_count": 19,
     "metadata": {},
     "output_type": "execute_result"
    }
   ],
   "source": [
    "gradebook"
   ]
  },
  {
   "attachments": {
    "f15a056d-54d5-4db8-91f8-532f52b78444.png": {
     "image/png": "[encoded data removed]"
    }
   },
   "cell_type": "markdown",
   "id": "3ee1bc0b-2a11-4e67-af79-c189b971d738",
   "metadata": {},
   "source": [
    "![image.png](attachment:f15a056d-54d5-4db8-91f8-532f52b78444.png)"
   ]
  },
  {
   "cell_type": "markdown",
   "id": "5bb4c50b-8ef3-4d61-b4de-3b9ce928a3aa",
   "metadata": {},
   "source": [
    "---"
   ]
  },
  {
   "cell_type": "markdown",
   "id": "64a822e3-a35d-404a-97b8-8fac0ee0814b",
   "metadata": {},
   "source": [
    "### mean"
   ]
  },
  {
   "cell_type": "code",
   "execution_count": 93,
   "id": "f6428b6b-59e5-4c02-a432-f2715407dae8",
   "metadata": {},
   "outputs": [
    {
     "data": {
      "text/plain": [
       "midterm    78.6\n",
       "final      83.0\n",
       "dtype: float64"
      ]
     },
     "execution_count": 93,
     "metadata": {},
     "output_type": "execute_result"
    }
   ],
   "source": [
    "gradebook.mean()"
   ]
  },
  {
   "cell_type": "markdown",
   "id": "c2e9362c-a03f-4a67-b2a7-0f22d93ec501",
   "metadata": {},
   "source": [
    "#### pandas ignored the missing values"
   ]
  },
  {
   "cell_type": "markdown",
   "id": "b3fc07ce-b5f6-4e5c-9db3-8286f9b80a7e",
   "metadata": {},
   "source": [
    "#### with numpy this would have been different"
   ]
  },
  {
   "cell_type": "markdown",
   "id": "67b4bf56-7f3f-4a70-b0d2-b018ad74aa43",
   "metadata": {},
   "source": [
    "# Sometimes this can be a probem -- the fact that pandas does not care about them"
   ]
  },
  {
   "cell_type": "markdown",
   "id": "b4ddbb43-9d2f-4024-9afe-e9a30453ebba",
   "metadata": {},
   "source": [
    "#### replicate numpy functionality -- with skip NA"
   ]
  },
  {
   "cell_type": "code",
   "execution_count": 21,
   "id": "d9f150b1-0070-4846-afcc-ced526ae4b6a",
   "metadata": {},
   "outputs": [
    {
     "data": {
      "text/plain": [
       "midterm   NaN\n",
       "final     NaN\n",
       "dtype: float64"
      ]
     },
     "execution_count": 21,
     "metadata": {},
     "output_type": "execute_result"
    }
   ],
   "source": [
    "gradebook.mean(skipna = False)"
   ]
  },
  {
   "cell_type": "code",
   "execution_count": null,
   "id": "18a68011-3855-4d86-b285-92fe6eb97b2c",
   "metadata": {},
   "outputs": [],
   "source": []
  },
  {
   "cell_type": "markdown",
   "id": "32af0ec2-8945-42b7-8bcb-a788be659a80",
   "metadata": {},
   "source": [
    "---"
   ]
  },
  {
   "cell_type": "markdown",
   "id": "7b0fb75a-8419-485c-a6a4-ceb2cc5a73a3",
   "metadata": {},
   "source": [
    "## by default the mean function was applied to each column"
   ]
  },
  {
   "cell_type": "code",
   "execution_count": 22,
   "id": "663581b2-20f9-4939-9b6e-d5583dd3565e",
   "metadata": {},
   "outputs": [],
   "source": [
    "# as this usually what makes sens"
   ]
  },
  {
   "cell_type": "markdown",
   "id": "23445aee-5a25-4d63-95ff-10f6135cd782",
   "metadata": {},
   "source": [
    "---"
   ]
  },
  {
   "cell_type": "code",
   "execution_count": 94,
   "id": "4755598f-b056-492e-8eec-c22386486414",
   "metadata": {},
   "outputs": [
    {
     "data": {
      "text/plain": [
       "student\n",
       "Ben      89.0\n",
       "May      82.5\n",
       "Sue      78.0\n",
       "Blake    73.0\n",
       "Amy      79.0\n",
       "Steve    84.0\n",
       "dtype: float64"
      ]
     },
     "execution_count": 94,
     "metadata": {},
     "output_type": "execute_result"
    }
   ],
   "source": [
    "gradebook.mean(axis = 1)"
   ]
  },
  {
   "cell_type": "markdown",
   "id": "cfb5c52e-14ef-4e77-b1b3-65caf1c0131e",
   "metadata": {},
   "source": [
    "#### this does the mean by rows (axis =1)"
   ]
  },
  {
   "cell_type": "markdown",
   "id": "187ea519-83d1-4c7a-9639-83a776d3613f",
   "metadata": {},
   "source": [
    "---"
   ]
  },
  {
   "cell_type": "code",
   "execution_count": 95,
   "id": "9035ef59-25b0-4113-8405-70a40ff19dc0",
   "metadata": {},
   "outputs": [],
   "source": [
    "avg = gradebook.mean()"
   ]
  },
  {
   "cell_type": "code",
   "execution_count": 43,
   "id": "62b23132-1d1d-4be3-a76e-df65aea953f5",
   "metadata": {},
   "outputs": [
    {
     "data": {
      "text/plain": [
       "midterm    78.6\n",
       "final      83.0\n",
       "dtype: float64"
      ]
     },
     "execution_count": 43,
     "metadata": {},
     "output_type": "execute_result"
    }
   ],
   "source": [
    "avg"
   ]
  },
  {
   "cell_type": "code",
   "execution_count": 44,
   "id": "5b1d1e91-0905-4068-bfec-fd0330661b54",
   "metadata": {},
   "outputs": [
    {
     "data": {
      "text/plain": [
       "pandas.core.series.Series"
      ]
     },
     "execution_count": 44,
     "metadata": {},
     "output_type": "execute_result"
    }
   ],
   "source": [
    "type(avg)"
   ]
  },
  {
   "cell_type": "code",
   "execution_count": 45,
   "id": "18f2fe4e-4f44-4faf-b7e0-f9f20bfaf466",
   "metadata": {},
   "outputs": [],
   "source": [
    "# by default, this is a pandas series"
   ]
  },
  {
   "cell_type": "code",
   "execution_count": 46,
   "id": "ff099083-8778-4b23-8951-caf0a0ad422c",
   "metadata": {},
   "outputs": [
    {
     "data": {
      "text/html": [
       "<div>\n",
       "<style scoped>\n",
       "    .dataframe tbody tr th:only-of-type {\n",
       "        vertical-align: middle;\n",
       "    }\n",
       "\n",
       "    .dataframe tbody tr th {\n",
       "        vertical-align: top;\n",
       "    }\n",
       "\n",
       "    .dataframe thead th {\n",
       "        text-align: right;\n",
       "    }\n",
       "</style>\n",
       "<table border=\"1\" class=\"dataframe\">\n",
       "  <thead>\n",
       "    <tr style=\"text-align: right;\">\n",
       "      <th></th>\n",
       "      <th>midterm</th>\n",
       "      <th>final</th>\n",
       "    </tr>\n",
       "    <tr>\n",
       "      <th>student</th>\n",
       "      <th></th>\n",
       "      <th></th>\n",
       "    </tr>\n",
       "  </thead>\n",
       "  <tbody>\n",
       "    <tr>\n",
       "      <th>Ben</th>\n",
       "      <td>9.4</td>\n",
       "      <td>7.0</td>\n",
       "    </tr>\n",
       "    <tr>\n",
       "      <th>May</th>\n",
       "      <td>-0.6</td>\n",
       "      <td>4.0</td>\n",
       "    </tr>\n",
       "    <tr>\n",
       "      <th>Sue</th>\n",
       "      <td>13.4</td>\n",
       "      <td>-19.0</td>\n",
       "    </tr>\n",
       "    <tr>\n",
       "      <th>Blake</th>\n",
       "      <td>-22.6</td>\n",
       "      <td>7.0</td>\n",
       "    </tr>\n",
       "    <tr>\n",
       "      <th>Amy</th>\n",
       "      <td>0.4</td>\n",
       "      <td>NaN</td>\n",
       "    </tr>\n",
       "    <tr>\n",
       "      <th>Steve</th>\n",
       "      <td>NaN</td>\n",
       "      <td>1.0</td>\n",
       "    </tr>\n",
       "  </tbody>\n",
       "</table>\n",
       "</div>"
      ],
      "text/plain": [
       "         midterm  final\n",
       "student                \n",
       "Ben          9.4    7.0\n",
       "May         -0.6    4.0\n",
       "Sue         13.4  -19.0\n",
       "Blake      -22.6    7.0\n",
       "Amy          0.4    NaN\n",
       "Steve        NaN    1.0"
      ]
     },
     "execution_count": 46,
     "metadata": {},
     "output_type": "execute_result"
    }
   ],
   "source": [
    "gradebook - avg\n",
    "\n",
    "# subtract the midterm average"
   ]
  },
  {
   "cell_type": "code",
   "execution_count": 48,
   "id": "843b0c7c-0c32-4be3-bd00-d52f62e3d4fc",
   "metadata": {},
   "outputs": [],
   "source": [
    "# the average series is being BROADCAST in the same way as it would be in Numpy"
   ]
  },
  {
   "cell_type": "markdown",
   "id": "29aeafeb-80a1-479a-8217-013cd15c1742",
   "metadata": {},
   "source": [
    "---"
   ]
  },
  {
   "cell_type": "code",
   "execution_count": 49,
   "id": "05efc1b8-dc8e-4cec-b1a1-23348ddf86fe",
   "metadata": {},
   "outputs": [
    {
     "data": {
      "text/plain": [
       "midterm    393.0\n",
       "final      415.0\n",
       "dtype: float64"
      ]
     },
     "execution_count": 49,
     "metadata": {},
     "output_type": "execute_result"
    }
   ],
   "source": [
    "gradebook.sum()"
   ]
  },
  {
   "cell_type": "code",
   "execution_count": 50,
   "id": "a3aadd85-9219-400c-8945-86a638c8d6d4",
   "metadata": {},
   "outputs": [
    {
     "data": {
      "text/plain": [
       "midterm    56.0\n",
       "final      64.0\n",
       "dtype: float64"
      ]
     },
     "execution_count": 50,
     "metadata": {},
     "output_type": "execute_result"
    }
   ],
   "source": [
    "gradebook.min()"
   ]
  },
  {
   "cell_type": "code",
   "execution_count": 51,
   "id": "0986d050-2e8f-48c3-8912-c2192513edbc",
   "metadata": {},
   "outputs": [
    {
     "data": {
      "text/plain": [
       "midterm    13.957077\n",
       "final      10.908712\n",
       "dtype: float64"
      ]
     },
     "execution_count": 51,
     "metadata": {},
     "output_type": "execute_result"
    }
   ],
   "source": [
    "gradebook.std()"
   ]
  },
  {
   "cell_type": "code",
   "execution_count": 52,
   "id": "dc50fbac-c937-4bc8-88de-c69ff0d59fca",
   "metadata": {},
   "outputs": [
    {
     "data": {
      "text/html": [
       "<div>\n",
       "<style scoped>\n",
       "    .dataframe tbody tr th:only-of-type {\n",
       "        vertical-align: middle;\n",
       "    }\n",
       "\n",
       "    .dataframe tbody tr th {\n",
       "        vertical-align: top;\n",
       "    }\n",
       "\n",
       "    .dataframe thead th {\n",
       "        text-align: right;\n",
       "    }\n",
       "</style>\n",
       "<table border=\"1\" class=\"dataframe\">\n",
       "  <thead>\n",
       "    <tr style=\"text-align: right;\">\n",
       "      <th></th>\n",
       "      <th>midterm</th>\n",
       "      <th>final</th>\n",
       "    </tr>\n",
       "  </thead>\n",
       "  <tbody>\n",
       "    <tr>\n",
       "      <th>midterm</th>\n",
       "      <td>1.000000</td>\n",
       "      <td>-0.574706</td>\n",
       "    </tr>\n",
       "    <tr>\n",
       "      <th>final</th>\n",
       "      <td>-0.574706</td>\n",
       "      <td>1.000000</td>\n",
       "    </tr>\n",
       "  </tbody>\n",
       "</table>\n",
       "</div>"
      ],
      "text/plain": [
       "          midterm     final\n",
       "midterm  1.000000 -0.574706\n",
       "final   -0.574706  1.000000"
      ]
     },
     "execution_count": 52,
     "metadata": {},
     "output_type": "execute_result"
    }
   ],
   "source": [
    "gradebook.corr()"
   ]
  },
  {
   "cell_type": "code",
   "execution_count": 53,
   "id": "a6b2a42b-d298-436d-96cc-41fc74c80fbf",
   "metadata": {},
   "outputs": [],
   "source": [
    "# this is the correlation matrix"
   ]
  },
  {
   "cell_type": "code",
   "execution_count": 54,
   "id": "ad756603-b41e-41f7-b969-1a56d728b9f4",
   "metadata": {},
   "outputs": [],
   "source": [
    "# there is a negative correlation between midterm adn final"
   ]
  },
  {
   "cell_type": "markdown",
   "id": "925abac6-4af2-44ee-bc8c-bdd870600608",
   "metadata": {},
   "source": [
    "---"
   ]
  },
  {
   "cell_type": "code",
   "execution_count": 55,
   "id": "03998b0c-75f2-45b6-a5ed-63b7a2215cb2",
   "metadata": {},
   "outputs": [
    {
     "data": {
      "text/html": [
       "<div>\n",
       "<style scoped>\n",
       "    .dataframe tbody tr th:only-of-type {\n",
       "        vertical-align: middle;\n",
       "    }\n",
       "\n",
       "    .dataframe tbody tr th {\n",
       "        vertical-align: top;\n",
       "    }\n",
       "\n",
       "    .dataframe thead th {\n",
       "        text-align: right;\n",
       "    }\n",
       "</style>\n",
       "<table border=\"1\" class=\"dataframe\">\n",
       "  <thead>\n",
       "    <tr style=\"text-align: right;\">\n",
       "      <th></th>\n",
       "      <th>midterm</th>\n",
       "      <th>final</th>\n",
       "    </tr>\n",
       "  </thead>\n",
       "  <tbody>\n",
       "    <tr>\n",
       "      <th>midterm</th>\n",
       "      <td>194.8</td>\n",
       "      <td>-116.5</td>\n",
       "    </tr>\n",
       "    <tr>\n",
       "      <th>final</th>\n",
       "      <td>-116.5</td>\n",
       "      <td>119.0</td>\n",
       "    </tr>\n",
       "  </tbody>\n",
       "</table>\n",
       "</div>"
      ],
      "text/plain": [
       "         midterm  final\n",
       "midterm    194.8 -116.5\n",
       "final     -116.5  119.0"
      ]
     },
     "execution_count": 55,
     "metadata": {},
     "output_type": "execute_result"
    }
   ],
   "source": [
    "gradebook.cov()"
   ]
  },
  {
   "cell_type": "code",
   "execution_count": 56,
   "id": "806c0734-3101-4520-9456-b099db5e8f6c",
   "metadata": {},
   "outputs": [],
   "source": [
    "# covariance"
   ]
  },
  {
   "cell_type": "code",
   "execution_count": 57,
   "id": "30f131e6-fb40-4608-bba6-850c8d0c8118",
   "metadata": {},
   "outputs": [
    {
     "data": {
      "text/plain": [
       "midterm   -0.574706\n",
       "final      1.000000\n",
       "dtype: float64"
      ]
     },
     "execution_count": 57,
     "metadata": {},
     "output_type": "execute_result"
    }
   ],
   "source": [
    "gradebook.corrwith(gradebook.final)"
   ]
  },
  {
   "cell_type": "code",
   "execution_count": 58,
   "id": "7a85365a-e1f0-4348-a77e-39913bf4a2fc",
   "metadata": {},
   "outputs": [],
   "source": [
    "# this compares correlation with another series"
   ]
  },
  {
   "cell_type": "markdown",
   "id": "9bc179e5-ebb0-48ab-b1e2-307f4887ceb4",
   "metadata": {},
   "source": [
    "---"
   ]
  },
  {
   "cell_type": "markdown",
   "id": "8c05ae43-d2ac-443e-bc33-5e54f27f4236",
   "metadata": {},
   "source": [
    "# Custom Functions"
   ]
  },
  {
   "cell_type": "markdown",
   "id": "0fb52fe7-1bd1-4ae0-9bb7-dfaef24c276d",
   "metadata": {},
   "source": [
    "---"
   ]
  },
  {
   "cell_type": "code",
   "execution_count": 96,
   "id": "23cbac58-6d2e-4097-89c8-9a7d4dc41a2c",
   "metadata": {},
   "outputs": [],
   "source": [
    "g_range = lambda x:x.max() - x.min()\n",
    "\n",
    "# x has to be a series/array"
   ]
  },
  {
   "cell_type": "code",
   "execution_count": 97,
   "id": "d47ad24c-0cb6-44da-8baa-8b9bc56591e7",
   "metadata": {},
   "outputs": [
    {
     "data": {
      "text/plain": [
       "midterm    36.0\n",
       "final      26.0\n",
       "dtype: float64"
      ]
     },
     "execution_count": 97,
     "metadata": {},
     "output_type": "execute_result"
    }
   ],
   "source": [
    "gradebook.apply(g_range)"
   ]
  },
  {
   "cell_type": "code",
   "execution_count": 98,
   "id": "477d3904-605d-4e65-84ee-9d1de9e070d6",
   "metadata": {},
   "outputs": [
    {
     "data": {
      "text/plain": [
       "student\n",
       "Ben       2.0\n",
       "May       9.0\n",
       "Sue      28.0\n",
       "Blake    34.0\n",
       "Amy       0.0\n",
       "Steve     0.0\n",
       "dtype: float64"
      ]
     },
     "execution_count": 98,
     "metadata": {},
     "output_type": "execute_result"
    }
   ],
   "source": [
    "gradebook.apply(g_range, axis = 1)"
   ]
  },
  {
   "cell_type": "markdown",
   "id": "2308e399-6fa1-4a35-bea5-16c471ee5f7b",
   "metadata": {},
   "source": [
    "--"
   ]
  },
  {
   "cell_type": "markdown",
   "id": "f0805224-38b0-4562-8e6d-d703f43e8526",
   "metadata": {},
   "source": [
    "## Aggregate Method"
   ]
  },
  {
   "cell_type": "code",
   "execution_count": 63,
   "id": "e527198a-cd95-4489-8c0d-36d2e1f169e7",
   "metadata": {},
   "outputs": [
    {
     "data": {
      "text/plain": [
       "midterm    36.0\n",
       "final      26.0\n",
       "dtype: float64"
      ]
     },
     "execution_count": 63,
     "metadata": {},
     "output_type": "execute_result"
    }
   ],
   "source": [
    "gradebook.agg(g_range)"
   ]
  },
  {
   "cell_type": "code",
   "execution_count": 64,
   "id": "3c537abc-2a17-45ef-9196-c236ff24a694",
   "metadata": {},
   "outputs": [],
   "source": [
    "# we are now moving from a 2D dataframe to a 1D series"
   ]
  },
  {
   "cell_type": "code",
   "execution_count": 65,
   "id": "a41e9f98-abb3-47c2-bec8-9871e5d245bf",
   "metadata": {},
   "outputs": [],
   "source": [
    "# so far, the functions only return single values"
   ]
  },
  {
   "cell_type": "markdown",
   "id": "f34d6d06-16e4-4f8e-aa31-207e4a82fe45",
   "metadata": {},
   "source": [
    "---"
   ]
  },
  {
   "cell_type": "markdown",
   "id": "658050e4-d1db-4dc4-89d2-e90f3b75481d",
   "metadata": {},
   "source": [
    "### writing functions that return a series"
   ]
  },
  {
   "cell_type": "code",
   "execution_count": 99,
   "id": "efb4164b-7ba8-47df-8960-d9f355945a56",
   "metadata": {},
   "outputs": [],
   "source": [
    "def g_min_max(x): # think of x as a aseires that reprennts one row or column\n",
    "    return pd.Series([x.min(), x.max()], index = ['min', 'max'])"
   ]
  },
  {
   "cell_type": "code",
   "execution_count": 100,
   "id": "5dd6df69-4214-48c1-92bf-03cba1b04abe",
   "metadata": {},
   "outputs": [
    {
     "data": {
      "text/html": [
       "<div>\n",
       "<style scoped>\n",
       "    .dataframe tbody tr th:only-of-type {\n",
       "        vertical-align: middle;\n",
       "    }\n",
       "\n",
       "    .dataframe tbody tr th {\n",
       "        vertical-align: top;\n",
       "    }\n",
       "\n",
       "    .dataframe thead th {\n",
       "        text-align: right;\n",
       "    }\n",
       "</style>\n",
       "<table border=\"1\" class=\"dataframe\">\n",
       "  <thead>\n",
       "    <tr style=\"text-align: right;\">\n",
       "      <th></th>\n",
       "      <th>midterm</th>\n",
       "      <th>final</th>\n",
       "    </tr>\n",
       "  </thead>\n",
       "  <tbody>\n",
       "    <tr>\n",
       "      <th>min</th>\n",
       "      <td>56.0</td>\n",
       "      <td>64.0</td>\n",
       "    </tr>\n",
       "    <tr>\n",
       "      <th>max</th>\n",
       "      <td>92.0</td>\n",
       "      <td>90.0</td>\n",
       "    </tr>\n",
       "  </tbody>\n",
       "</table>\n",
       "</div>"
      ],
      "text/plain": [
       "     midterm  final\n",
       "min     56.0   64.0\n",
       "max     92.0   90.0"
      ]
     },
     "execution_count": 100,
     "metadata": {},
     "output_type": "execute_result"
    }
   ],
   "source": [
    "gradebook.apply(g_min_max)"
   ]
  },
  {
   "cell_type": "markdown",
   "id": "94c0e9a3-875b-4c50-a3e0-d3ad4412895e",
   "metadata": {},
   "source": [
    "---"
   ]
  },
  {
   "cell_type": "code",
   "execution_count": 70,
   "id": "c6aa8fe5-15b5-4a42-a816-83b5aab99af3",
   "metadata": {},
   "outputs": [],
   "source": [
    "# one more wrinkle on applying a function"
   ]
  },
  {
   "cell_type": "code",
   "execution_count": 71,
   "id": "92ba0ce8-91a2-4934-bd09-abd0692198fc",
   "metadata": {},
   "outputs": [],
   "source": [
    "# you can also apply a function to each single value of the dataframe"
   ]
  },
  {
   "cell_type": "code",
   "execution_count": 101,
   "id": "92965eae-89fc-444a-87be-f0bd13fb70b2",
   "metadata": {},
   "outputs": [
    {
     "data": {
      "text/html": [
       "<div>\n",
       "<style scoped>\n",
       "    .dataframe tbody tr th:only-of-type {\n",
       "        vertical-align: middle;\n",
       "    }\n",
       "\n",
       "    .dataframe tbody tr th {\n",
       "        vertical-align: top;\n",
       "    }\n",
       "\n",
       "    .dataframe thead th {\n",
       "        text-align: right;\n",
       "    }\n",
       "</style>\n",
       "<table border=\"1\" class=\"dataframe\">\n",
       "  <thead>\n",
       "    <tr style=\"text-align: right;\">\n",
       "      <th></th>\n",
       "      <th>midterm</th>\n",
       "      <th>final</th>\n",
       "    </tr>\n",
       "    <tr>\n",
       "      <th>student</th>\n",
       "      <th></th>\n",
       "      <th></th>\n",
       "    </tr>\n",
       "  </thead>\n",
       "  <tbody>\n",
       "    <tr>\n",
       "      <th>Ben</th>\n",
       "      <td>89.0</td>\n",
       "      <td>91.0</td>\n",
       "    </tr>\n",
       "    <tr>\n",
       "      <th>May</th>\n",
       "      <td>79.0</td>\n",
       "      <td>88.0</td>\n",
       "    </tr>\n",
       "    <tr>\n",
       "      <th>Sue</th>\n",
       "      <td>93.0</td>\n",
       "      <td>65.0</td>\n",
       "    </tr>\n",
       "    <tr>\n",
       "      <th>Blake</th>\n",
       "      <td>57.0</td>\n",
       "      <td>91.0</td>\n",
       "    </tr>\n",
       "    <tr>\n",
       "      <th>Amy</th>\n",
       "      <td>80.0</td>\n",
       "      <td>NaN</td>\n",
       "    </tr>\n",
       "    <tr>\n",
       "      <th>Steve</th>\n",
       "      <td>NaN</td>\n",
       "      <td>85.0</td>\n",
       "    </tr>\n",
       "  </tbody>\n",
       "</table>\n",
       "</div>"
      ],
      "text/plain": [
       "         midterm  final\n",
       "student                \n",
       "Ben         89.0   91.0\n",
       "May         79.0   88.0\n",
       "Sue         93.0   65.0\n",
       "Blake       57.0   91.0\n",
       "Amy         80.0    NaN\n",
       "Steve        NaN   85.0"
      ]
     },
     "execution_count": 101,
     "metadata": {},
     "output_type": "execute_result"
    }
   ],
   "source": [
    "gradebook.applymap(lambda x: x+1)"
   ]
  },
  {
   "cell_type": "code",
   "execution_count": 73,
   "id": "a8c1c0b8-9708-4788-8809-245c87b21191",
   "metadata": {},
   "outputs": [],
   "source": [
    "# this allows you to add a gradepoint to every single value"
   ]
  },
  {
   "cell_type": "markdown",
   "id": "cf416802-bbed-485a-addc-2634c63daf7f",
   "metadata": {},
   "source": [
    "---"
   ]
  },
  {
   "cell_type": "markdown",
   "id": "bf41a7d9-2611-41c8-b915-98a7bd11c3c4",
   "metadata": {},
   "source": [
    "## Describe"
   ]
  },
  {
   "cell_type": "code",
   "execution_count": 102,
   "id": "e47e9d2c-f136-4891-b831-7817347a0612",
   "metadata": {},
   "outputs": [
    {
     "data": {
      "text/html": [
       "<div>\n",
       "<style scoped>\n",
       "    .dataframe tbody tr th:only-of-type {\n",
       "        vertical-align: middle;\n",
       "    }\n",
       "\n",
       "    .dataframe tbody tr th {\n",
       "        vertical-align: top;\n",
       "    }\n",
       "\n",
       "    .dataframe thead th {\n",
       "        text-align: right;\n",
       "    }\n",
       "</style>\n",
       "<table border=\"1\" class=\"dataframe\">\n",
       "  <thead>\n",
       "    <tr style=\"text-align: right;\">\n",
       "      <th></th>\n",
       "      <th>midterm</th>\n",
       "      <th>final</th>\n",
       "    </tr>\n",
       "  </thead>\n",
       "  <tbody>\n",
       "    <tr>\n",
       "      <th>count</th>\n",
       "      <td>5.000000</td>\n",
       "      <td>5.000000</td>\n",
       "    </tr>\n",
       "    <tr>\n",
       "      <th>mean</th>\n",
       "      <td>78.600000</td>\n",
       "      <td>83.000000</td>\n",
       "    </tr>\n",
       "    <tr>\n",
       "      <th>std</th>\n",
       "      <td>13.957077</td>\n",
       "      <td>10.908712</td>\n",
       "    </tr>\n",
       "    <tr>\n",
       "      <th>min</th>\n",
       "      <td>56.000000</td>\n",
       "      <td>64.000000</td>\n",
       "    </tr>\n",
       "    <tr>\n",
       "      <th>25%</th>\n",
       "      <td>78.000000</td>\n",
       "      <td>84.000000</td>\n",
       "    </tr>\n",
       "    <tr>\n",
       "      <th>50%</th>\n",
       "      <td>79.000000</td>\n",
       "      <td>87.000000</td>\n",
       "    </tr>\n",
       "    <tr>\n",
       "      <th>75%</th>\n",
       "      <td>88.000000</td>\n",
       "      <td>90.000000</td>\n",
       "    </tr>\n",
       "    <tr>\n",
       "      <th>max</th>\n",
       "      <td>92.000000</td>\n",
       "      <td>90.000000</td>\n",
       "    </tr>\n",
       "  </tbody>\n",
       "</table>\n",
       "</div>"
      ],
      "text/plain": [
       "         midterm      final\n",
       "count   5.000000   5.000000\n",
       "mean   78.600000  83.000000\n",
       "std    13.957077  10.908712\n",
       "min    56.000000  64.000000\n",
       "25%    78.000000  84.000000\n",
       "50%    79.000000  87.000000\n",
       "75%    88.000000  90.000000\n",
       "max    92.000000  90.000000"
      ]
     },
     "execution_count": 102,
     "metadata": {},
     "output_type": "execute_result"
    }
   ],
   "source": [
    "gradebook.describe()"
   ]
  },
  {
   "cell_type": "markdown",
   "id": "cc703be3-bf12-4cc6-8f26-f10952fcc336",
   "metadata": {},
   "source": [
    "count = number of non missing values"
   ]
  },
  {
   "cell_type": "code",
   "execution_count": 75,
   "id": "4601a7b8-4211-4ec1-b148-02469fbc3df7",
   "metadata": {},
   "outputs": [],
   "source": [
    "# describe works differnt depending on the type of variable"
   ]
  },
  {
   "cell_type": "code",
   "execution_count": 76,
   "id": "defd53dd-c97f-4dd6-8ea7-445874a5e87f",
   "metadata": {},
   "outputs": [],
   "source": [
    "# add a letter grade"
   ]
  },
  {
   "cell_type": "code",
   "execution_count": 103,
   "id": "5b333386-e575-4a8a-a6a4-abac2f07ec06",
   "metadata": {},
   "outputs": [
    {
     "data": {
      "text/plain": [
       "student\n",
       "Ben      89.0\n",
       "May      82.5\n",
       "Sue      78.0\n",
       "Blake    73.0\n",
       "Amy      79.0\n",
       "Steve    84.0\n",
       "dtype: float64"
      ]
     },
     "execution_count": 103,
     "metadata": {},
     "output_type": "execute_result"
    }
   ],
   "source": [
    "gradebook.mean(axis=1)"
   ]
  },
  {
   "cell_type": "code",
   "execution_count": 104,
   "id": "390b1e24-db53-4d18-8745-558ad379fc24",
   "metadata": {},
   "outputs": [
    {
     "data": {
      "text/plain": [
       "student\n",
       "Ben      B\n",
       "May      B\n",
       "Sue      C\n",
       "Blake    C\n",
       "Amy      C\n",
       "Steve    B\n",
       "dtype: category\n",
       "Categories (4, object): ['F' < 'C' < 'B' < 'A']"
      ]
     },
     "execution_count": 104,
     "metadata": {},
     "output_type": "execute_result"
    }
   ],
   "source": [
    "pd.cut(gradebook.mean(axis=1), (0, 70, 80, 90, 100), labels =(\"F\", \"C\", \"B\", \"A\"))"
   ]
  },
  {
   "cell_type": "code",
   "execution_count": 81,
   "id": "eafea284-ca58-4eef-b9d0-2cb11fa20863",
   "metadata": {},
   "outputs": [],
   "source": [
    "# letters have to be less than couint"
   ]
  },
  {
   "cell_type": "code",
   "execution_count": 82,
   "id": "bde1f857-8b80-42df-bf8b-ef96c7a73d00",
   "metadata": {},
   "outputs": [],
   "source": [
    "# F is between 0-70"
   ]
  },
  {
   "cell_type": "markdown",
   "id": "18833fa3-7871-4682-b6b4-35f8ea6d0133",
   "metadata": {},
   "source": [
    "---"
   ]
  },
  {
   "cell_type": "code",
   "execution_count": 83,
   "id": "1e66244c-1593-4ad1-92d5-85768fce2115",
   "metadata": {},
   "outputs": [],
   "source": [
    "# save as new variable"
   ]
  },
  {
   "cell_type": "code",
   "execution_count": 105,
   "id": "a98fdf8b-42f9-42c1-9d9d-18ccb70f5715",
   "metadata": {},
   "outputs": [],
   "source": [
    "gradebook['letter_grade'] = pd.cut(gradebook.mean(axis=1), (0, 70, 80, 90, 100), labels =(\"F\", \"C\", \"B\", \"A\"))\n",
    "\n",
    "# take a dictionary style approach"
   ]
  },
  {
   "cell_type": "code",
   "execution_count": 106,
   "id": "92f680d0-559e-4464-b3d9-cf7da65939d3",
   "metadata": {},
   "outputs": [
    {
     "data": {
      "text/html": [
       "<div>\n",
       "<style scoped>\n",
       "    .dataframe tbody tr th:only-of-type {\n",
       "        vertical-align: middle;\n",
       "    }\n",
       "\n",
       "    .dataframe tbody tr th {\n",
       "        vertical-align: top;\n",
       "    }\n",
       "\n",
       "    .dataframe thead th {\n",
       "        text-align: right;\n",
       "    }\n",
       "</style>\n",
       "<table border=\"1\" class=\"dataframe\">\n",
       "  <thead>\n",
       "    <tr style=\"text-align: right;\">\n",
       "      <th></th>\n",
       "      <th>midterm</th>\n",
       "      <th>final</th>\n",
       "      <th>letter_grade</th>\n",
       "    </tr>\n",
       "    <tr>\n",
       "      <th>student</th>\n",
       "      <th></th>\n",
       "      <th></th>\n",
       "      <th></th>\n",
       "    </tr>\n",
       "  </thead>\n",
       "  <tbody>\n",
       "    <tr>\n",
       "      <th>Ben</th>\n",
       "      <td>88.0</td>\n",
       "      <td>90.0</td>\n",
       "      <td>B</td>\n",
       "    </tr>\n",
       "    <tr>\n",
       "      <th>May</th>\n",
       "      <td>78.0</td>\n",
       "      <td>87.0</td>\n",
       "      <td>B</td>\n",
       "    </tr>\n",
       "    <tr>\n",
       "      <th>Sue</th>\n",
       "      <td>92.0</td>\n",
       "      <td>64.0</td>\n",
       "      <td>C</td>\n",
       "    </tr>\n",
       "    <tr>\n",
       "      <th>Blake</th>\n",
       "      <td>56.0</td>\n",
       "      <td>90.0</td>\n",
       "      <td>C</td>\n",
       "    </tr>\n",
       "    <tr>\n",
       "      <th>Amy</th>\n",
       "      <td>79.0</td>\n",
       "      <td>NaN</td>\n",
       "      <td>C</td>\n",
       "    </tr>\n",
       "    <tr>\n",
       "      <th>Steve</th>\n",
       "      <td>NaN</td>\n",
       "      <td>84.0</td>\n",
       "      <td>B</td>\n",
       "    </tr>\n",
       "  </tbody>\n",
       "</table>\n",
       "</div>"
      ],
      "text/plain": [
       "         midterm  final letter_grade\n",
       "student                             \n",
       "Ben         88.0   90.0            B\n",
       "May         78.0   87.0            B\n",
       "Sue         92.0   64.0            C\n",
       "Blake       56.0   90.0            C\n",
       "Amy         79.0    NaN            C\n",
       "Steve        NaN   84.0            B"
      ]
     },
     "execution_count": 106,
     "metadata": {},
     "output_type": "execute_result"
    }
   ],
   "source": [
    "gradebook"
   ]
  },
  {
   "cell_type": "code",
   "execution_count": 109,
   "id": "3a2e824a-9494-4fa3-bc1c-10a81797ec5f",
   "metadata": {},
   "outputs": [
    {
     "data": {
      "text/plain": [
       "count     6\n",
       "unique    2\n",
       "top       C\n",
       "freq      3\n",
       "Name: letter_grade, dtype: object"
      ]
     },
     "execution_count": 109,
     "metadata": {},
     "output_type": "execute_result"
    }
   ],
   "source": [
    "gradebook.letter_grade.describe()\n",
    "\n",
    "# this runs describe for a variable"
   ]
  },
  {
   "cell_type": "markdown",
   "id": "071a99df-711d-45c1-b8f7-8601bd5f58e0",
   "metadata": {},
   "source": [
    "### see that describe works differently -- information"
   ]
  },
  {
   "cell_type": "code",
   "execution_count": 108,
   "id": "ea55df59-9830-4bb2-aded-05515680a5fd",
   "metadata": {},
   "outputs": [
    {
     "data": {
      "text/html": [
       "<div>\n",
       "<style scoped>\n",
       "    .dataframe tbody tr th:only-of-type {\n",
       "        vertical-align: middle;\n",
       "    }\n",
       "\n",
       "    .dataframe tbody tr th {\n",
       "        vertical-align: top;\n",
       "    }\n",
       "\n",
       "    .dataframe thead th {\n",
       "        text-align: right;\n",
       "    }\n",
       "</style>\n",
       "<table border=\"1\" class=\"dataframe\">\n",
       "  <thead>\n",
       "    <tr style=\"text-align: right;\">\n",
       "      <th></th>\n",
       "      <th>midterm</th>\n",
       "      <th>final</th>\n",
       "    </tr>\n",
       "  </thead>\n",
       "  <tbody>\n",
       "    <tr>\n",
       "      <th>count</th>\n",
       "      <td>5.000000</td>\n",
       "      <td>5.000000</td>\n",
       "    </tr>\n",
       "    <tr>\n",
       "      <th>mean</th>\n",
       "      <td>78.600000</td>\n",
       "      <td>83.000000</td>\n",
       "    </tr>\n",
       "    <tr>\n",
       "      <th>std</th>\n",
       "      <td>13.957077</td>\n",
       "      <td>10.908712</td>\n",
       "    </tr>\n",
       "    <tr>\n",
       "      <th>min</th>\n",
       "      <td>56.000000</td>\n",
       "      <td>64.000000</td>\n",
       "    </tr>\n",
       "    <tr>\n",
       "      <th>25%</th>\n",
       "      <td>78.000000</td>\n",
       "      <td>84.000000</td>\n",
       "    </tr>\n",
       "    <tr>\n",
       "      <th>50%</th>\n",
       "      <td>79.000000</td>\n",
       "      <td>87.000000</td>\n",
       "    </tr>\n",
       "    <tr>\n",
       "      <th>75%</th>\n",
       "      <td>88.000000</td>\n",
       "      <td>90.000000</td>\n",
       "    </tr>\n",
       "    <tr>\n",
       "      <th>max</th>\n",
       "      <td>92.000000</td>\n",
       "      <td>90.000000</td>\n",
       "    </tr>\n",
       "  </tbody>\n",
       "</table>\n",
       "</div>"
      ],
      "text/plain": [
       "         midterm      final\n",
       "count   5.000000   5.000000\n",
       "mean   78.600000  83.000000\n",
       "std    13.957077  10.908712\n",
       "min    56.000000  64.000000\n",
       "25%    78.000000  84.000000\n",
       "50%    79.000000  87.000000\n",
       "75%    88.000000  90.000000\n",
       "max    92.000000  90.000000"
      ]
     },
     "execution_count": 108,
     "metadata": {},
     "output_type": "execute_result"
    }
   ],
   "source": [
    "gradebook.describe()"
   ]
  },
  {
   "cell_type": "markdown",
   "id": "ce626f26-c053-436e-a108-cfd9463acd44",
   "metadata": {},
   "source": [
    "---"
   ]
  },
  {
   "cell_type": "markdown",
   "id": "c9d7ccb5-1ba0-4a5d-9932-4cc030738e81",
   "metadata": {},
   "source": [
    "# value counts"
   ]
  },
  {
   "cell_type": "code",
   "execution_count": 110,
   "id": "23d7c69a-b87a-486a-981e-a79b1c120b15",
   "metadata": {},
   "outputs": [],
   "source": [
    "# more important than describe"
   ]
  },
  {
   "cell_type": "code",
   "execution_count": 112,
   "id": "d19c34ca-62fb-411b-857f-07cb08c50125",
   "metadata": {},
   "outputs": [
    {
     "data": {
      "text/plain": [
       "count     6\n",
       "unique    2\n",
       "top       C\n",
       "freq      3\n",
       "Name: letter_grade, dtype: object"
      ]
     },
     "execution_count": 112,
     "metadata": {},
     "output_type": "execute_result"
    }
   ],
   "source": [
    "gradebook.letter_grade.describe()"
   ]
  },
  {
   "cell_type": "code",
   "execution_count": 113,
   "id": "c4184c85-9a25-4a11-9cb2-86c3d9c229f9",
   "metadata": {},
   "outputs": [
    {
     "data": {
      "text/plain": [
       "C    3\n",
       "B    3\n",
       "F    0\n",
       "A    0\n",
       "Name: letter_grade, dtype: int64"
      ]
     },
     "execution_count": 113,
     "metadata": {},
     "output_type": "execute_result"
    }
   ],
   "source": [
    "gradebook.letter_grade.value_counts()"
   ]
  },
  {
   "cell_type": "markdown",
   "id": "7ba401c3-11fd-4998-8844-fb7f335ab736",
   "metadata": {},
   "source": [
    "## this gives the frequency of the values"
   ]
  },
  {
   "cell_type": "code",
   "execution_count": 114,
   "id": "1f7430f1-6f44-43d9-a2fa-be588cbc1d26",
   "metadata": {},
   "outputs": [],
   "source": [
    "# 3 C's, 3 B's .."
   ]
  },
  {
   "cell_type": "markdown",
   "id": "4246065a-4565-4356-be2a-66f9625c9ce6",
   "metadata": {},
   "source": [
    "---"
   ]
  },
  {
   "cell_type": "code",
   "execution_count": 115,
   "id": "283e3ae1-405f-496a-b4c6-77f8b9e48eda",
   "metadata": {},
   "outputs": [],
   "source": [
    "gradebook.to_csv('gradebook_v2.csv')"
   ]
  },
  {
   "cell_type": "code",
   "execution_count": null,
   "id": "50718a89-5dc0-416a-b189-de2b54facb24",
   "metadata": {},
   "outputs": [],
   "source": []
  }
 ],
 "metadata": {
  "kernelspec": {
   "display_name": "Python 3 (ipykernel)",
   "language": "python",
   "name": "python3"
  },
  "language_info": {
   "codemirror_mode": {
    "name": "ipython",
    "version": 3
   },
   "file_extension": ".py",
   "mimetype": "text/x-python",
   "name": "python",
   "nbconvert_exporter": "python",
   "pygments_lexer": "ipython3",
   "version": "3.9.12"
  }
 },
 "nbformat": 4,
 "nbformat_minor": 5
}
