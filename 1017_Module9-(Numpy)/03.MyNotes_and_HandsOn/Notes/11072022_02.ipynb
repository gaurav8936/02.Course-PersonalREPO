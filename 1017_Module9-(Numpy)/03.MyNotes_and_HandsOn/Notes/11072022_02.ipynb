{
 "cells": [
  {
   "cell_type": "markdown",
   "id": "463f1463-a883-40cf-b2ee-8c694f412e4e",
   "metadata": {},
   "source": [
    "# 11072022 "
   ]
  },
  {
   "cell_type": "code",
   "execution_count": 1,
   "id": "81523f2a-c699-4333-a2f8-487af0887961",
   "metadata": {},
   "outputs": [],
   "source": [
    "import numpy as np"
   ]
  },
  {
   "cell_type": "code",
   "execution_count": 2,
   "id": "f6836daa-5554-4086-8893-7fee2ace2cd8",
   "metadata": {},
   "outputs": [],
   "source": [
    "# the design matrix"
   ]
  },
  {
   "cell_type": "code",
   "execution_count": 3,
   "id": "657f1f79-ab19-47dd-a48f-1c9db6c83ad6",
   "metadata": {},
   "outputs": [
    {
     "name": "stdout",
     "output_type": "stream",
     "text": [
      "caffiene_mg, sleep_hours, score\n",
      "2, 8, 2, 84\n",
      "31, 7,6, 90\n",
      "22, 7,6, 90\n",
      "30, 7,6, 90\n",
      "2, 8, 2, 84\n",
      "13, 5,5, 79\n",
      "15, 5,5, 79"
     ]
    }
   ],
   "source": [
    "!cat experiment.csv"
   ]
  },
  {
   "cell_type": "code",
   "execution_count": 4,
   "id": "4043bc84-8662-451b-8d43-44522735efc4",
   "metadata": {},
   "outputs": [],
   "source": [
    "import pandas as pd"
   ]
  },
  {
   "cell_type": "code",
   "execution_count": 5,
   "id": "2a9ce985-cc03-4e4f-9c21-5a65909e730b",
   "metadata": {},
   "outputs": [],
   "source": [
    "sleep_df = pd.read_csv(\"experiment.csv\")"
   ]
  },
  {
   "cell_type": "code",
   "execution_count": 6,
   "id": "416e5a2a-aef8-482d-a302-b60f40bbd4e6",
   "metadata": {},
   "outputs": [
    {
     "data": {
      "text/html": [
       "<div>\n",
       "<style scoped>\n",
       "    .dataframe tbody tr th:only-of-type {\n",
       "        vertical-align: middle;\n",
       "    }\n",
       "\n",
       "    .dataframe tbody tr th {\n",
       "        vertical-align: top;\n",
       "    }\n",
       "\n",
       "    .dataframe thead th {\n",
       "        text-align: right;\n",
       "    }\n",
       "</style>\n",
       "<table border=\"1\" class=\"dataframe\">\n",
       "  <thead>\n",
       "    <tr style=\"text-align: right;\">\n",
       "      <th></th>\n",
       "      <th>caffiene_mg</th>\n",
       "      <th>sleep_hours</th>\n",
       "      <th>score</th>\n",
       "    </tr>\n",
       "  </thead>\n",
       "  <tbody>\n",
       "    <tr>\n",
       "      <th>2</th>\n",
       "      <td>8</td>\n",
       "      <td>2</td>\n",
       "      <td>84</td>\n",
       "    </tr>\n",
       "    <tr>\n",
       "      <th>31</th>\n",
       "      <td>7</td>\n",
       "      <td>6</td>\n",
       "      <td>90</td>\n",
       "    </tr>\n",
       "    <tr>\n",
       "      <th>22</th>\n",
       "      <td>7</td>\n",
       "      <td>6</td>\n",
       "      <td>90</td>\n",
       "    </tr>\n",
       "    <tr>\n",
       "      <th>30</th>\n",
       "      <td>7</td>\n",
       "      <td>6</td>\n",
       "      <td>90</td>\n",
       "    </tr>\n",
       "    <tr>\n",
       "      <th>2</th>\n",
       "      <td>8</td>\n",
       "      <td>2</td>\n",
       "      <td>84</td>\n",
       "    </tr>\n",
       "    <tr>\n",
       "      <th>13</th>\n",
       "      <td>5</td>\n",
       "      <td>5</td>\n",
       "      <td>79</td>\n",
       "    </tr>\n",
       "    <tr>\n",
       "      <th>15</th>\n",
       "      <td>5</td>\n",
       "      <td>5</td>\n",
       "      <td>79</td>\n",
       "    </tr>\n",
       "  </tbody>\n",
       "</table>\n",
       "</div>"
      ],
      "text/plain": [
       "    caffiene_mg   sleep_hours   score\n",
       "2             8             2      84\n",
       "31            7             6      90\n",
       "22            7             6      90\n",
       "30            7             6      90\n",
       "2             8             2      84\n",
       "13            5             5      79\n",
       "15            5             5      79"
      ]
     },
     "execution_count": 6,
     "metadata": {},
     "output_type": "execute_result"
    }
   ],
   "source": [
    "sleep_df"
   ]
  },
  {
   "cell_type": "code",
   "execution_count": 10,
   "id": "2f51f60c-554f-4b47-b11c-5dbc525ad338",
   "metadata": {},
   "outputs": [
    {
     "data": {
      "text/plain": [
       "array([[ 8,  2, 84],\n",
       "       [ 7,  6, 90],\n",
       "       [ 7,  6, 90],\n",
       "       [ 7,  6, 90],\n",
       "       [ 8,  2, 84],\n",
       "       [ 5,  5, 79],\n",
       "       [ 5,  5, 79]])"
      ]
     },
     "execution_count": 10,
     "metadata": {},
     "output_type": "execute_result"
    }
   ],
   "source": [
    "data = sleep_df.values\n",
    "data"
   ]
  },
  {
   "cell_type": "code",
   "execution_count": 9,
   "id": "00e38efa-a1e7-48db-943e-436934d168c5",
   "metadata": {},
   "outputs": [],
   "source": [
    "# this is part edesign matrix\n",
    "\n",
    "# we just beed the first 2 columns"
   ]
  },
  {
   "cell_type": "code",
   "execution_count": 11,
   "id": "2a830e29-b9ac-42fc-a4fe-b4c4c3d1c4ed",
   "metadata": {},
   "outputs": [],
   "source": [
    "X = data[:2]"
   ]
  },
  {
   "cell_type": "code",
   "execution_count": 12,
   "id": "0931e582-6846-4e37-aaa2-9bda16bc93eb",
   "metadata": {},
   "outputs": [
    {
     "data": {
      "text/plain": [
       "array([[ 8,  2, 84],\n",
       "       [ 7,  6, 90]])"
      ]
     },
     "execution_count": 12,
     "metadata": {},
     "output_type": "execute_result"
    }
   ],
   "source": [
    "X"
   ]
  },
  {
   "cell_type": "code",
   "execution_count": 15,
   "id": "d9dd9bcf-ac3e-4384-9ae2-ebf4fe93fa6b",
   "metadata": {},
   "outputs": [
    {
     "data": {
      "text/plain": [
       "array([[8, 2],\n",
       "       [7, 6],\n",
       "       [7, 6],\n",
       "       [7, 6],\n",
       "       [8, 2],\n",
       "       [5, 5],\n",
       "       [5, 5]])"
      ]
     },
     "execution_count": 15,
     "metadata": {},
     "output_type": "execute_result"
    }
   ],
   "source": [
    "Y = data[:, :2]\n",
    "Y"
   ]
  },
  {
   "cell_type": "code",
   "execution_count": 16,
   "id": "6d3f4abf-1fed-4b07-9997-14fd3aec8fea",
   "metadata": {},
   "outputs": [],
   "source": [
    "Z = data[:, :1]"
   ]
  },
  {
   "cell_type": "code",
   "execution_count": 17,
   "id": "784fabe3-194c-497a-9898-e32f42eaded7",
   "metadata": {},
   "outputs": [
    {
     "data": {
      "text/plain": [
       "array([[8],\n",
       "       [7],\n",
       "       [7],\n",
       "       [7],\n",
       "       [8],\n",
       "       [5],\n",
       "       [5]])"
      ]
     },
     "execution_count": 17,
     "metadata": {},
     "output_type": "execute_result"
    }
   ],
   "source": [
    "Z"
   ]
  },
  {
   "cell_type": "code",
   "execution_count": 18,
   "id": "77ab4931-7259-4f75-ae0f-7c9d7cc82818",
   "metadata": {},
   "outputs": [
    {
     "data": {
      "text/plain": [
       "array([[1.],\n",
       "       [1.],\n",
       "       [1.],\n",
       "       [1.],\n",
       "       [1.],\n",
       "       [1.],\n",
       "       [1.]])"
      ]
     },
     "execution_count": 18,
     "metadata": {},
     "output_type": "execute_result"
    }
   ],
   "source": [
    "np.ones((Y.shape[0], 1))"
   ]
  },
  {
   "cell_type": "code",
   "execution_count": 20,
   "id": "cb0d2276-9625-4b01-9e9b-fded3521a59d",
   "metadata": {},
   "outputs": [
    {
     "data": {
      "text/plain": [
       "array([[1., 1., 1., 1.],\n",
       "       [1., 1., 1., 1.],\n",
       "       [1., 1., 1., 1.],\n",
       "       [1., 1., 1., 1.],\n",
       "       [1., 1., 1., 1.],\n",
       "       [1., 1., 1., 1.],\n",
       "       [1., 1., 1., 1.]])"
      ]
     },
     "execution_count": 20,
     "metadata": {},
     "output_type": "execute_result"
    }
   ],
   "source": [
    "np.ones((Y.shape[0], 4))"
   ]
  },
  {
   "cell_type": "code",
   "execution_count": 22,
   "id": "72dbf128-5b14-4137-924a-736ff87d878d",
   "metadata": {},
   "outputs": [
    {
     "data": {
      "text/plain": [
       "array([[1., 1., 1.],\n",
       "       [1., 1., 1.],\n",
       "       [1., 1., 1.],\n",
       "       [1., 1., 1.],\n",
       "       [1., 1., 1.],\n",
       "       [1., 1., 1.]])"
      ]
     },
     "execution_count": 22,
     "metadata": {},
     "output_type": "execute_result"
    }
   ],
   "source": [
    "np.ones((6,3))"
   ]
  },
  {
   "cell_type": "code",
   "execution_count": 23,
   "id": "20ad392f-372a-42f1-a70c-d84f0968b4bc",
   "metadata": {},
   "outputs": [
    {
     "data": {
      "text/plain": [
       "array([[1., 8., 2.],\n",
       "       [1., 7., 6.],\n",
       "       [1., 7., 6.],\n",
       "       [1., 7., 6.],\n",
       "       [1., 8., 2.],\n",
       "       [1., 5., 5.],\n",
       "       [1., 5., 5.]])"
      ]
     },
     "execution_count": 23,
     "metadata": {},
     "output_type": "execute_result"
    }
   ],
   "source": [
    "np.hstack((np.ones((Y.shape[0], 1)), Y))"
   ]
  },
  {
   "cell_type": "code",
   "execution_count": 24,
   "id": "f8a6b877-109d-4f0a-8acb-25eabc0a8653",
   "metadata": {},
   "outputs": [
    {
     "data": {
      "text/plain": [
       "array([[8, 2],\n",
       "       [7, 6],\n",
       "       [7, 6],\n",
       "       [7, 6],\n",
       "       [8, 2],\n",
       "       [5, 5],\n",
       "       [5, 5]])"
      ]
     },
     "execution_count": 24,
     "metadata": {},
     "output_type": "execute_result"
    }
   ],
   "source": [
    "Y"
   ]
  },
  {
   "cell_type": "code",
   "execution_count": 25,
   "id": "e539e5a5-46a1-44ac-999a-435e8e4a0162",
   "metadata": {},
   "outputs": [],
   "source": [
    "D = data[:, -1:]"
   ]
  },
  {
   "cell_type": "code",
   "execution_count": 26,
   "id": "f3946fac-4073-4590-bb5e-a9c92b91a82b",
   "metadata": {},
   "outputs": [
    {
     "data": {
      "text/plain": [
       "array([[84],\n",
       "       [90],\n",
       "       [90],\n",
       "       [90],\n",
       "       [84],\n",
       "       [79],\n",
       "       [79]])"
      ]
     },
     "execution_count": 26,
     "metadata": {},
     "output_type": "execute_result"
    }
   ],
   "source": [
    "D"
   ]
  },
  {
   "cell_type": "code",
   "execution_count": 27,
   "id": "c16180bd-9943-43cd-b923-12b2932aa2cd",
   "metadata": {},
   "outputs": [],
   "source": [
    "beta = np.array([60, .2, 2.5]).reshape((-1, 1))"
   ]
  },
  {
   "cell_type": "code",
   "execution_count": 28,
   "id": "150ee866-675a-4396-bef0-b1a0a8a847d9",
   "metadata": {},
   "outputs": [
    {
     "data": {
      "text/plain": [
       "array([[60. ],\n",
       "       [ 0.2],\n",
       "       [ 2.5]])"
      ]
     },
     "execution_count": 28,
     "metadata": {},
     "output_type": "execute_result"
    }
   ],
   "source": [
    "beta"
   ]
  },
  {
   "cell_type": "code",
   "execution_count": 31,
   "id": "ddc75604-9c8e-407a-a6d7-5746b336b5bb",
   "metadata": {},
   "outputs": [
    {
     "data": {
      "text/plain": [
       "array([[690.4],\n",
       "       [646.2]])"
      ]
     },
     "execution_count": 31,
     "metadata": {},
     "output_type": "execute_result"
    }
   ],
   "source": [
    "predict = X@beta\n",
    "predict"
   ]
  },
  {
   "cell_type": "code",
   "execution_count": 32,
   "id": "947723fe-ac94-4791-854e-c0497ff5b986",
   "metadata": {
    "collapsed": true,
    "jupyter": {
     "outputs_hidden": true
    },
    "tags": []
   },
   "outputs": [
    {
     "ename": "ValueError",
     "evalue": "matmul: Input operand 1 has a mismatch in its core dimension 0, with gufunc signature (n?,k),(k,m?)->(n?,m?) (size 3 is different from 1)",
     "output_type": "error",
     "traceback": [
      "\u001b[0;31m---------------------------------------------------------------------------\u001b[0m",
      "\u001b[0;31mValueError\u001b[0m                                Traceback (most recent call last)",
      "Input \u001b[0;32mIn [32]\u001b[0m, in \u001b[0;36m<cell line: 1>\u001b[0;34m()\u001b[0m\n\u001b[0;32m----> 1\u001b[0m predict \u001b[38;5;241m=\u001b[39m \u001b[43mZ\u001b[49m\u001b[38;5;129;43m@beta\u001b[39;49m\n",
      "\u001b[0;31mValueError\u001b[0m: matmul: Input operand 1 has a mismatch in its core dimension 0, with gufunc signature (n?,k),(k,m?)->(n?,m?) (size 3 is different from 1)"
     ]
    }
   ],
   "source": [
    "predict = Z@beta"
   ]
  },
  {
   "cell_type": "code",
   "execution_count": 33,
   "id": "132058c7-186b-42ec-8972-918400474f6f",
   "metadata": {},
   "outputs": [
    {
     "data": {
      "text/plain": [
       "array([[ 8,  2, 84],\n",
       "       [ 7,  6, 90]])"
      ]
     },
     "execution_count": 33,
     "metadata": {},
     "output_type": "execute_result"
    }
   ],
   "source": [
    "X"
   ]
  },
  {
   "cell_type": "code",
   "execution_count": 34,
   "id": "094e8dc6-c0e7-4236-8723-26b88dea4f0f",
   "metadata": {},
   "outputs": [
    {
     "data": {
      "text/plain": [
       "array([[60. ],\n",
       "       [ 0.2],\n",
       "       [ 2.5]])"
      ]
     },
     "execution_count": 34,
     "metadata": {},
     "output_type": "execute_result"
    }
   ],
   "source": [
    "beta"
   ]
  },
  {
   "cell_type": "code",
   "execution_count": 35,
   "id": "331d6599-6872-4801-8979-22dd9d9c9b5a",
   "metadata": {},
   "outputs": [
    {
     "data": {
      "text/plain": [
       "array([[8, 2],\n",
       "       [7, 6],\n",
       "       [7, 6],\n",
       "       [7, 6],\n",
       "       [8, 2],\n",
       "       [5, 5],\n",
       "       [5, 5]])"
      ]
     },
     "execution_count": 35,
     "metadata": {},
     "output_type": "execute_result"
    }
   ],
   "source": [
    "Y"
   ]
  },
  {
   "cell_type": "code",
   "execution_count": 36,
   "id": "77ae91cc-f554-4ee7-9540-724109353fac",
   "metadata": {},
   "outputs": [
    {
     "data": {
      "text/plain": [
       "array([[8],\n",
       "       [7],\n",
       "       [7],\n",
       "       [7],\n",
       "       [8],\n",
       "       [5],\n",
       "       [5]])"
      ]
     },
     "execution_count": 36,
     "metadata": {},
     "output_type": "execute_result"
    }
   ],
   "source": [
    "Z"
   ]
  },
  {
   "cell_type": "code",
   "execution_count": 37,
   "id": "f16c3c1b-7e72-4208-93b9-344e039a4f4f",
   "metadata": {},
   "outputs": [],
   "source": [
    "y = data@beta"
   ]
  },
  {
   "cell_type": "code",
   "execution_count": 38,
   "id": "df73bc5c-08a9-40c0-b512-6ac5ded922af",
   "metadata": {},
   "outputs": [
    {
     "data": {
      "text/plain": [
       "array([[690.4],\n",
       "       [646.2],\n",
       "       [646.2],\n",
       "       [646.2],\n",
       "       [690.4],\n",
       "       [498.5],\n",
       "       [498.5]])"
      ]
     },
     "execution_count": 38,
     "metadata": {},
     "output_type": "execute_result"
    }
   ],
   "source": [
    "y"
   ]
  },
  {
   "cell_type": "code",
   "execution_count": 39,
   "id": "01531f1b-b446-405d-a909-66f3d5baf455",
   "metadata": {},
   "outputs": [
    {
     "data": {
      "text/plain": [
       "array([[ 8,  2, 84],\n",
       "       [ 7,  6, 90],\n",
       "       [ 7,  6, 90],\n",
       "       [ 7,  6, 90],\n",
       "       [ 8,  2, 84],\n",
       "       [ 5,  5, 79],\n",
       "       [ 5,  5, 79]])"
      ]
     },
     "execution_count": 39,
     "metadata": {},
     "output_type": "execute_result"
    }
   ],
   "source": [
    "data"
   ]
  },
  {
   "cell_type": "code",
   "execution_count": 40,
   "id": "806ef6d2-0d96-49dd-b4a4-94d7727507d7",
   "metadata": {},
   "outputs": [
    {
     "data": {
      "text/plain": [
       "array([[60. ],\n",
       "       [ 0.2],\n",
       "       [ 2.5]])"
      ]
     },
     "execution_count": 40,
     "metadata": {},
     "output_type": "execute_result"
    }
   ],
   "source": [
    "beta"
   ]
  },
  {
   "cell_type": "code",
   "execution_count": 41,
   "id": "0e2e4b4a-e32e-429e-aa09-a42ba44cc5f7",
   "metadata": {},
   "outputs": [
    {
     "data": {
      "text/plain": [
       "array([[ 1.00000000e+00,  2.30371278e-14],\n",
       "       [-1.33226763e-15,  1.00000000e+00],\n",
       "       [-3.10862447e-15, -6.66133815e-16]])"
      ]
     },
     "execution_count": 41,
     "metadata": {},
     "output_type": "execute_result"
    }
   ],
   "source": [
    "np.linalg.inv(data.T@data)@data.T@Y"
   ]
  },
  {
   "cell_type": "code",
   "execution_count": 43,
   "id": "2dc59c55-7ebf-4a56-9dc0-76566e9a81c4",
   "metadata": {},
   "outputs": [],
   "source": [
    "import statsmodels.api as sm"
   ]
  },
  {
   "cell_type": "code",
   "execution_count": 44,
   "id": "376dc2fb-a498-47ed-8a32-885a6061efd1",
   "metadata": {
    "collapsed": true,
    "jupyter": {
     "outputs_hidden": true
    },
    "tags": []
   },
   "outputs": [
    {
     "ename": "ValueError",
     "evalue": "endog and exog matrices are different sizes",
     "output_type": "error",
     "traceback": [
      "\u001b[0;31m---------------------------------------------------------------------------\u001b[0m",
      "\u001b[0;31mValueError\u001b[0m                                Traceback (most recent call last)",
      "Input \u001b[0;32mIn [44]\u001b[0m, in \u001b[0;36m<cell line: 1>\u001b[0;34m()\u001b[0m\n\u001b[0;32m----> 1\u001b[0m mod \u001b[38;5;241m=\u001b[39m \u001b[43msm\u001b[49m\u001b[38;5;241;43m.\u001b[39;49m\u001b[43mOLS\u001b[49m\u001b[43m(\u001b[49m\u001b[43m \u001b[49m\u001b[43mY\u001b[49m\u001b[43m,\u001b[49m\u001b[43m \u001b[49m\u001b[43mX\u001b[49m\u001b[43m)\u001b[49m\n",
      "File \u001b[0;32m~/opt/anaconda3/lib/python3.9/site-packages/statsmodels/regression/linear_model.py:890\u001b[0m, in \u001b[0;36mOLS.__init__\u001b[0;34m(self, endog, exog, missing, hasconst, **kwargs)\u001b[0m\n\u001b[1;32m    887\u001b[0m     msg \u001b[38;5;241m=\u001b[39m (\u001b[38;5;124m\"\u001b[39m\u001b[38;5;124mWeights are not supported in OLS and will be ignored\u001b[39m\u001b[38;5;124m\"\u001b[39m\n\u001b[1;32m    888\u001b[0m            \u001b[38;5;124m\"\u001b[39m\u001b[38;5;124mAn exception will be raised in the next version.\u001b[39m\u001b[38;5;124m\"\u001b[39m)\n\u001b[1;32m    889\u001b[0m     warnings\u001b[38;5;241m.\u001b[39mwarn(msg, ValueWarning)\n\u001b[0;32m--> 890\u001b[0m \u001b[38;5;28;43msuper\u001b[39;49m\u001b[43m(\u001b[49m\u001b[43mOLS\u001b[49m\u001b[43m,\u001b[49m\u001b[43m \u001b[49m\u001b[38;5;28;43mself\u001b[39;49m\u001b[43m)\u001b[49m\u001b[38;5;241;43m.\u001b[39;49m\u001b[38;5;21;43m__init__\u001b[39;49m\u001b[43m(\u001b[49m\u001b[43mendog\u001b[49m\u001b[43m,\u001b[49m\u001b[43m \u001b[49m\u001b[43mexog\u001b[49m\u001b[43m,\u001b[49m\u001b[43m \u001b[49m\u001b[43mmissing\u001b[49m\u001b[38;5;241;43m=\u001b[39;49m\u001b[43mmissing\u001b[49m\u001b[43m,\u001b[49m\n\u001b[1;32m    891\u001b[0m \u001b[43m                          \u001b[49m\u001b[43mhasconst\u001b[49m\u001b[38;5;241;43m=\u001b[39;49m\u001b[43mhasconst\u001b[49m\u001b[43m,\u001b[49m\u001b[43m \u001b[49m\u001b[38;5;241;43m*\u001b[39;49m\u001b[38;5;241;43m*\u001b[39;49m\u001b[43mkwargs\u001b[49m\u001b[43m)\u001b[49m\n\u001b[1;32m    892\u001b[0m \u001b[38;5;28;01mif\u001b[39;00m \u001b[38;5;124m\"\u001b[39m\u001b[38;5;124mweights\u001b[39m\u001b[38;5;124m\"\u001b[39m \u001b[38;5;129;01min\u001b[39;00m \u001b[38;5;28mself\u001b[39m\u001b[38;5;241m.\u001b[39m_init_keys:\n\u001b[1;32m    893\u001b[0m     \u001b[38;5;28mself\u001b[39m\u001b[38;5;241m.\u001b[39m_init_keys\u001b[38;5;241m.\u001b[39mremove(\u001b[38;5;124m\"\u001b[39m\u001b[38;5;124mweights\u001b[39m\u001b[38;5;124m\"\u001b[39m)\n",
      "File \u001b[0;32m~/opt/anaconda3/lib/python3.9/site-packages/statsmodels/regression/linear_model.py:717\u001b[0m, in \u001b[0;36mWLS.__init__\u001b[0;34m(self, endog, exog, weights, missing, hasconst, **kwargs)\u001b[0m\n\u001b[1;32m    715\u001b[0m \u001b[38;5;28;01melse\u001b[39;00m:\n\u001b[1;32m    716\u001b[0m     weights \u001b[38;5;241m=\u001b[39m weights\u001b[38;5;241m.\u001b[39msqueeze()\n\u001b[0;32m--> 717\u001b[0m \u001b[38;5;28;43msuper\u001b[39;49m\u001b[43m(\u001b[49m\u001b[43mWLS\u001b[49m\u001b[43m,\u001b[49m\u001b[43m \u001b[49m\u001b[38;5;28;43mself\u001b[39;49m\u001b[43m)\u001b[49m\u001b[38;5;241;43m.\u001b[39;49m\u001b[38;5;21;43m__init__\u001b[39;49m\u001b[43m(\u001b[49m\u001b[43mendog\u001b[49m\u001b[43m,\u001b[49m\u001b[43m \u001b[49m\u001b[43mexog\u001b[49m\u001b[43m,\u001b[49m\u001b[43m \u001b[49m\u001b[43mmissing\u001b[49m\u001b[38;5;241;43m=\u001b[39;49m\u001b[43mmissing\u001b[49m\u001b[43m,\u001b[49m\n\u001b[1;32m    718\u001b[0m \u001b[43m                          \u001b[49m\u001b[43mweights\u001b[49m\u001b[38;5;241;43m=\u001b[39;49m\u001b[43mweights\u001b[49m\u001b[43m,\u001b[49m\u001b[43m \u001b[49m\u001b[43mhasconst\u001b[49m\u001b[38;5;241;43m=\u001b[39;49m\u001b[43mhasconst\u001b[49m\u001b[43m,\u001b[49m\u001b[43m \u001b[49m\u001b[38;5;241;43m*\u001b[39;49m\u001b[38;5;241;43m*\u001b[39;49m\u001b[43mkwargs\u001b[49m\u001b[43m)\u001b[49m\n\u001b[1;32m    719\u001b[0m nobs \u001b[38;5;241m=\u001b[39m \u001b[38;5;28mself\u001b[39m\u001b[38;5;241m.\u001b[39mexog\u001b[38;5;241m.\u001b[39mshape[\u001b[38;5;241m0\u001b[39m]\n\u001b[1;32m    720\u001b[0m weights \u001b[38;5;241m=\u001b[39m \u001b[38;5;28mself\u001b[39m\u001b[38;5;241m.\u001b[39mweights\n",
      "File \u001b[0;32m~/opt/anaconda3/lib/python3.9/site-packages/statsmodels/regression/linear_model.py:191\u001b[0m, in \u001b[0;36mRegressionModel.__init__\u001b[0;34m(self, endog, exog, **kwargs)\u001b[0m\n\u001b[1;32m    190\u001b[0m \u001b[38;5;28;01mdef\u001b[39;00m \u001b[38;5;21m__init__\u001b[39m(\u001b[38;5;28mself\u001b[39m, endog, exog, \u001b[38;5;241m*\u001b[39m\u001b[38;5;241m*\u001b[39mkwargs):\n\u001b[0;32m--> 191\u001b[0m     \u001b[38;5;28;43msuper\u001b[39;49m\u001b[43m(\u001b[49m\u001b[43mRegressionModel\u001b[49m\u001b[43m,\u001b[49m\u001b[43m \u001b[49m\u001b[38;5;28;43mself\u001b[39;49m\u001b[43m)\u001b[49m\u001b[38;5;241;43m.\u001b[39;49m\u001b[38;5;21;43m__init__\u001b[39;49m\u001b[43m(\u001b[49m\u001b[43mendog\u001b[49m\u001b[43m,\u001b[49m\u001b[43m \u001b[49m\u001b[43mexog\u001b[49m\u001b[43m,\u001b[49m\u001b[43m \u001b[49m\u001b[38;5;241;43m*\u001b[39;49m\u001b[38;5;241;43m*\u001b[39;49m\u001b[43mkwargs\u001b[49m\u001b[43m)\u001b[49m\n\u001b[1;32m    192\u001b[0m     \u001b[38;5;28mself\u001b[39m\u001b[38;5;241m.\u001b[39m_data_attr\u001b[38;5;241m.\u001b[39mextend([\u001b[38;5;124m'\u001b[39m\u001b[38;5;124mpinv_wexog\u001b[39m\u001b[38;5;124m'\u001b[39m, \u001b[38;5;124m'\u001b[39m\u001b[38;5;124mwendog\u001b[39m\u001b[38;5;124m'\u001b[39m, \u001b[38;5;124m'\u001b[39m\u001b[38;5;124mwexog\u001b[39m\u001b[38;5;124m'\u001b[39m, \u001b[38;5;124m'\u001b[39m\u001b[38;5;124mweights\u001b[39m\u001b[38;5;124m'\u001b[39m])\n",
      "File \u001b[0;32m~/opt/anaconda3/lib/python3.9/site-packages/statsmodels/base/model.py:267\u001b[0m, in \u001b[0;36mLikelihoodModel.__init__\u001b[0;34m(self, endog, exog, **kwargs)\u001b[0m\n\u001b[1;32m    266\u001b[0m \u001b[38;5;28;01mdef\u001b[39;00m \u001b[38;5;21m__init__\u001b[39m(\u001b[38;5;28mself\u001b[39m, endog, exog\u001b[38;5;241m=\u001b[39m\u001b[38;5;28;01mNone\u001b[39;00m, \u001b[38;5;241m*\u001b[39m\u001b[38;5;241m*\u001b[39mkwargs):\n\u001b[0;32m--> 267\u001b[0m     \u001b[38;5;28;43msuper\u001b[39;49m\u001b[43m(\u001b[49m\u001b[43m)\u001b[49m\u001b[38;5;241;43m.\u001b[39;49m\u001b[38;5;21;43m__init__\u001b[39;49m\u001b[43m(\u001b[49m\u001b[43mendog\u001b[49m\u001b[43m,\u001b[49m\u001b[43m \u001b[49m\u001b[43mexog\u001b[49m\u001b[43m,\u001b[49m\u001b[43m \u001b[49m\u001b[38;5;241;43m*\u001b[39;49m\u001b[38;5;241;43m*\u001b[39;49m\u001b[43mkwargs\u001b[49m\u001b[43m)\u001b[49m\n\u001b[1;32m    268\u001b[0m     \u001b[38;5;28mself\u001b[39m\u001b[38;5;241m.\u001b[39minitialize()\n",
      "File \u001b[0;32m~/opt/anaconda3/lib/python3.9/site-packages/statsmodels/base/model.py:92\u001b[0m, in \u001b[0;36mModel.__init__\u001b[0;34m(self, endog, exog, **kwargs)\u001b[0m\n\u001b[1;32m     90\u001b[0m missing \u001b[38;5;241m=\u001b[39m kwargs\u001b[38;5;241m.\u001b[39mpop(\u001b[38;5;124m'\u001b[39m\u001b[38;5;124mmissing\u001b[39m\u001b[38;5;124m'\u001b[39m, \u001b[38;5;124m'\u001b[39m\u001b[38;5;124mnone\u001b[39m\u001b[38;5;124m'\u001b[39m)\n\u001b[1;32m     91\u001b[0m hasconst \u001b[38;5;241m=\u001b[39m kwargs\u001b[38;5;241m.\u001b[39mpop(\u001b[38;5;124m'\u001b[39m\u001b[38;5;124mhasconst\u001b[39m\u001b[38;5;124m'\u001b[39m, \u001b[38;5;28;01mNone\u001b[39;00m)\n\u001b[0;32m---> 92\u001b[0m \u001b[38;5;28mself\u001b[39m\u001b[38;5;241m.\u001b[39mdata \u001b[38;5;241m=\u001b[39m \u001b[38;5;28;43mself\u001b[39;49m\u001b[38;5;241;43m.\u001b[39;49m\u001b[43m_handle_data\u001b[49m\u001b[43m(\u001b[49m\u001b[43mendog\u001b[49m\u001b[43m,\u001b[49m\u001b[43m \u001b[49m\u001b[43mexog\u001b[49m\u001b[43m,\u001b[49m\u001b[43m \u001b[49m\u001b[43mmissing\u001b[49m\u001b[43m,\u001b[49m\u001b[43m \u001b[49m\u001b[43mhasconst\u001b[49m\u001b[43m,\u001b[49m\n\u001b[1;32m     93\u001b[0m \u001b[43m                              \u001b[49m\u001b[38;5;241;43m*\u001b[39;49m\u001b[38;5;241;43m*\u001b[39;49m\u001b[43mkwargs\u001b[49m\u001b[43m)\u001b[49m\n\u001b[1;32m     94\u001b[0m \u001b[38;5;28mself\u001b[39m\u001b[38;5;241m.\u001b[39mk_constant \u001b[38;5;241m=\u001b[39m \u001b[38;5;28mself\u001b[39m\u001b[38;5;241m.\u001b[39mdata\u001b[38;5;241m.\u001b[39mk_constant\n\u001b[1;32m     95\u001b[0m \u001b[38;5;28mself\u001b[39m\u001b[38;5;241m.\u001b[39mexog \u001b[38;5;241m=\u001b[39m \u001b[38;5;28mself\u001b[39m\u001b[38;5;241m.\u001b[39mdata\u001b[38;5;241m.\u001b[39mexog\n",
      "File \u001b[0;32m~/opt/anaconda3/lib/python3.9/site-packages/statsmodels/base/model.py:132\u001b[0m, in \u001b[0;36mModel._handle_data\u001b[0;34m(self, endog, exog, missing, hasconst, **kwargs)\u001b[0m\n\u001b[1;32m    131\u001b[0m \u001b[38;5;28;01mdef\u001b[39;00m \u001b[38;5;21m_handle_data\u001b[39m(\u001b[38;5;28mself\u001b[39m, endog, exog, missing, hasconst, \u001b[38;5;241m*\u001b[39m\u001b[38;5;241m*\u001b[39mkwargs):\n\u001b[0;32m--> 132\u001b[0m     data \u001b[38;5;241m=\u001b[39m \u001b[43mhandle_data\u001b[49m\u001b[43m(\u001b[49m\u001b[43mendog\u001b[49m\u001b[43m,\u001b[49m\u001b[43m \u001b[49m\u001b[43mexog\u001b[49m\u001b[43m,\u001b[49m\u001b[43m \u001b[49m\u001b[43mmissing\u001b[49m\u001b[43m,\u001b[49m\u001b[43m \u001b[49m\u001b[43mhasconst\u001b[49m\u001b[43m,\u001b[49m\u001b[43m \u001b[49m\u001b[38;5;241;43m*\u001b[39;49m\u001b[38;5;241;43m*\u001b[39;49m\u001b[43mkwargs\u001b[49m\u001b[43m)\u001b[49m\n\u001b[1;32m    133\u001b[0m     \u001b[38;5;66;03m# kwargs arrays could have changed, easier to just attach here\u001b[39;00m\n\u001b[1;32m    134\u001b[0m     \u001b[38;5;28;01mfor\u001b[39;00m key \u001b[38;5;129;01min\u001b[39;00m kwargs:\n",
      "File \u001b[0;32m~/opt/anaconda3/lib/python3.9/site-packages/statsmodels/base/data.py:673\u001b[0m, in \u001b[0;36mhandle_data\u001b[0;34m(endog, exog, missing, hasconst, **kwargs)\u001b[0m\n\u001b[1;32m    670\u001b[0m     exog \u001b[38;5;241m=\u001b[39m np\u001b[38;5;241m.\u001b[39masarray(exog)\n\u001b[1;32m    672\u001b[0m klass \u001b[38;5;241m=\u001b[39m handle_data_class_factory(endog, exog)\n\u001b[0;32m--> 673\u001b[0m \u001b[38;5;28;01mreturn\u001b[39;00m \u001b[43mklass\u001b[49m\u001b[43m(\u001b[49m\u001b[43mendog\u001b[49m\u001b[43m,\u001b[49m\u001b[43m \u001b[49m\u001b[43mexog\u001b[49m\u001b[38;5;241;43m=\u001b[39;49m\u001b[43mexog\u001b[49m\u001b[43m,\u001b[49m\u001b[43m \u001b[49m\u001b[43mmissing\u001b[49m\u001b[38;5;241;43m=\u001b[39;49m\u001b[43mmissing\u001b[49m\u001b[43m,\u001b[49m\u001b[43m \u001b[49m\u001b[43mhasconst\u001b[49m\u001b[38;5;241;43m=\u001b[39;49m\u001b[43mhasconst\u001b[49m\u001b[43m,\u001b[49m\n\u001b[1;32m    674\u001b[0m \u001b[43m             \u001b[49m\u001b[38;5;241;43m*\u001b[39;49m\u001b[38;5;241;43m*\u001b[39;49m\u001b[43mkwargs\u001b[49m\u001b[43m)\u001b[49m\n",
      "File \u001b[0;32m~/opt/anaconda3/lib/python3.9/site-packages/statsmodels/base/data.py:87\u001b[0m, in \u001b[0;36mModelData.__init__\u001b[0;34m(self, endog, exog, missing, hasconst, **kwargs)\u001b[0m\n\u001b[1;32m     85\u001b[0m \u001b[38;5;28mself\u001b[39m\u001b[38;5;241m.\u001b[39mk_constant \u001b[38;5;241m=\u001b[39m \u001b[38;5;241m0\u001b[39m\n\u001b[1;32m     86\u001b[0m \u001b[38;5;28mself\u001b[39m\u001b[38;5;241m.\u001b[39m_handle_constant(hasconst)\n\u001b[0;32m---> 87\u001b[0m \u001b[38;5;28;43mself\u001b[39;49m\u001b[38;5;241;43m.\u001b[39;49m\u001b[43m_check_integrity\u001b[49m\u001b[43m(\u001b[49m\u001b[43m)\u001b[49m\n\u001b[1;32m     88\u001b[0m \u001b[38;5;28mself\u001b[39m\u001b[38;5;241m.\u001b[39m_cache \u001b[38;5;241m=\u001b[39m {}\n",
      "File \u001b[0;32m~/opt/anaconda3/lib/python3.9/site-packages/statsmodels/base/data.py:434\u001b[0m, in \u001b[0;36mModelData._check_integrity\u001b[0;34m(self)\u001b[0m\n\u001b[1;32m    432\u001b[0m \u001b[38;5;28;01mif\u001b[39;00m \u001b[38;5;28mself\u001b[39m\u001b[38;5;241m.\u001b[39mexog \u001b[38;5;129;01mis\u001b[39;00m \u001b[38;5;129;01mnot\u001b[39;00m \u001b[38;5;28;01mNone\u001b[39;00m:\n\u001b[1;32m    433\u001b[0m     \u001b[38;5;28;01mif\u001b[39;00m \u001b[38;5;28mlen\u001b[39m(\u001b[38;5;28mself\u001b[39m\u001b[38;5;241m.\u001b[39mexog) \u001b[38;5;241m!=\u001b[39m \u001b[38;5;28mlen\u001b[39m(\u001b[38;5;28mself\u001b[39m\u001b[38;5;241m.\u001b[39mendog):\n\u001b[0;32m--> 434\u001b[0m         \u001b[38;5;28;01mraise\u001b[39;00m \u001b[38;5;167;01mValueError\u001b[39;00m(\u001b[38;5;124m\"\u001b[39m\u001b[38;5;124mendog and exog matrices are different sizes\u001b[39m\u001b[38;5;124m\"\u001b[39m)\n",
      "\u001b[0;31mValueError\u001b[0m: endog and exog matrices are different sizes"
     ]
    }
   ],
   "source": [
    "mod = sm.OLS( Y, X)"
   ]
  },
  {
   "cell_type": "code",
   "execution_count": 45,
   "id": "35321a16-bed7-4c48-b183-d531221c7497",
   "metadata": {},
   "outputs": [],
   "source": [
    "a= np.array([\n",
    "    [1,2,3],\n",
    "    [4,5,6]\n",
    "    ])"
   ]
  },
  {
   "cell_type": "code",
   "execution_count": 46,
   "id": "40da786a-80cc-4060-96dd-111a19a3c039",
   "metadata": {},
   "outputs": [
    {
     "data": {
      "text/plain": [
       "array([[1, 2, 3],\n",
       "       [4, 5, 6]])"
      ]
     },
     "execution_count": 46,
     "metadata": {},
     "output_type": "execute_result"
    }
   ],
   "source": [
    "a"
   ]
  },
  {
   "cell_type": "code",
   "execution_count": 48,
   "id": "1b6d07f6-5b3a-45a0-97a2-c59a71ad23b0",
   "metadata": {},
   "outputs": [],
   "source": [
    "b = np.array([\n",
    "    [1,1],\n",
    "    [0,1],\n",
    "    [2,2]\n",
    "])"
   ]
  },
  {
   "cell_type": "code",
   "execution_count": 49,
   "id": "ce2ce618-fc3b-4964-81c2-052e46c58b3a",
   "metadata": {},
   "outputs": [
    {
     "data": {
      "text/plain": [
       "((2, 3), (3, 2))"
      ]
     },
     "execution_count": 49,
     "metadata": {},
     "output_type": "execute_result"
    }
   ],
   "source": [
    "a.shape, b.shape"
   ]
  },
  {
   "cell_type": "code",
   "execution_count": 50,
   "id": "348108d4-0f59-4156-8518-e279e200b320",
   "metadata": {},
   "outputs": [
    {
     "data": {
      "text/plain": [
       "array([[ 7,  9],\n",
       "       [16, 21]])"
      ]
     },
     "execution_count": 50,
     "metadata": {},
     "output_type": "execute_result"
    }
   ],
   "source": [
    "a.dot(b)"
   ]
  },
  {
   "cell_type": "code",
   "execution_count": 51,
   "id": "8f2dbdac-800a-4a6f-b894-e099e5e4253a",
   "metadata": {},
   "outputs": [
    {
     "data": {
      "text/plain": [
       "array([[ 7,  9],\n",
       "       [16, 21]])"
      ]
     },
     "execution_count": 51,
     "metadata": {},
     "output_type": "execute_result"
    }
   ],
   "source": [
    "a@b"
   ]
  },
  {
   "cell_type": "code",
   "execution_count": 52,
   "id": "7ec53a44-7bb8-430a-9ada-0a35f907a85a",
   "metadata": {},
   "outputs": [
    {
     "data": {
      "text/plain": [
       "array([[ 5,  7,  9],\n",
       "       [ 4,  5,  6],\n",
       "       [10, 14, 18]])"
      ]
     },
     "execution_count": 52,
     "metadata": {},
     "output_type": "execute_result"
    }
   ],
   "source": [
    "b@a"
   ]
  },
  {
   "cell_type": "code",
   "execution_count": 54,
   "id": "115fd388-35bb-45e7-99f4-4baac84f02b1",
   "metadata": {},
   "outputs": [],
   "source": [
    "v = np.array([1,2])"
   ]
  },
  {
   "cell_type": "code",
   "execution_count": 55,
   "id": "24f0290c-ccc9-4cbe-b698-e96538fe3164",
   "metadata": {},
   "outputs": [
    {
     "data": {
      "text/plain": [
       "array([1, 2])"
      ]
     },
     "execution_count": 55,
     "metadata": {},
     "output_type": "execute_result"
    }
   ],
   "source": [
    "v"
   ]
  },
  {
   "cell_type": "code",
   "execution_count": 56,
   "id": "e40f2c11-01b7-4e7f-80f8-124634624b63",
   "metadata": {},
   "outputs": [
    {
     "data": {
      "text/plain": [
       "(2,)"
      ]
     },
     "execution_count": 56,
     "metadata": {},
     "output_type": "execute_result"
    }
   ],
   "source": [
    "v.shape"
   ]
  },
  {
   "cell_type": "code",
   "execution_count": 59,
   "id": "54b0762a-1f4f-40d8-9e56-89dbbf932332",
   "metadata": {},
   "outputs": [],
   "source": [
    "v_row = v.reshape(1,2)"
   ]
  },
  {
   "cell_type": "code",
   "execution_count": 60,
   "id": "ef3a136e-e09c-4e9a-b1ca-f40e416275c3",
   "metadata": {},
   "outputs": [
    {
     "data": {
      "text/plain": [
       "array([[1, 2]])"
      ]
     },
     "execution_count": 60,
     "metadata": {},
     "output_type": "execute_result"
    }
   ],
   "source": [
    "v_row"
   ]
  },
  {
   "cell_type": "code",
   "execution_count": 61,
   "id": "465fe0d3-950d-4313-a1cb-33770443cb8c",
   "metadata": {},
   "outputs": [
    {
     "data": {
      "text/plain": [
       "(1, 2)"
      ]
     },
     "execution_count": 61,
     "metadata": {},
     "output_type": "execute_result"
    }
   ],
   "source": [
    "v_row.shape"
   ]
  },
  {
   "cell_type": "code",
   "execution_count": 62,
   "id": "b3a32274-afaa-454a-8c94-ae1dc398c9f4",
   "metadata": {},
   "outputs": [],
   "source": [
    "v_row = v.reshape(1, -1)"
   ]
  },
  {
   "cell_type": "code",
   "execution_count": 63,
   "id": "6f911abf-cd55-4ea7-a14d-f62cdda704ae",
   "metadata": {},
   "outputs": [
    {
     "data": {
      "text/plain": [
       "array([[1, 2]])"
      ]
     },
     "execution_count": 63,
     "metadata": {},
     "output_type": "execute_result"
    }
   ],
   "source": [
    "v_row"
   ]
  },
  {
   "cell_type": "code",
   "execution_count": 64,
   "id": "b960edd9-e665-4332-8164-c4c623883c56",
   "metadata": {},
   "outputs": [],
   "source": [
    "# put the -1"
   ]
  },
  {
   "cell_type": "code",
   "execution_count": 65,
   "id": "7656ab66-919d-4041-97de-2a06d5d34507",
   "metadata": {},
   "outputs": [],
   "source": [
    "v_col = v.reshape(-1, 1)"
   ]
  },
  {
   "cell_type": "code",
   "execution_count": 66,
   "id": "b52cfa55-8af3-4e40-9c3e-f066a51790b2",
   "metadata": {},
   "outputs": [
    {
     "data": {
      "text/plain": [
       "array([[1],\n",
       "       [2]])"
      ]
     },
     "execution_count": 66,
     "metadata": {},
     "output_type": "execute_result"
    }
   ],
   "source": [
    "v_col"
   ]
  },
  {
   "cell_type": "code",
   "execution_count": 67,
   "id": "01871ebb-3092-450a-9ac3-b7daf52c7655",
   "metadata": {},
   "outputs": [
    {
     "data": {
      "text/plain": [
       "((3, 2), (2, 1))"
      ]
     },
     "execution_count": 67,
     "metadata": {},
     "output_type": "execute_result"
    }
   ],
   "source": [
    "b.shape, v_col.shape"
   ]
  },
  {
   "cell_type": "code",
   "execution_count": 68,
   "id": "2e8df0d5-5a5f-4bf5-a7ac-55dfd8106880",
   "metadata": {},
   "outputs": [
    {
     "data": {
      "text/plain": [
       "array([[3],\n",
       "       [2],\n",
       "       [6]])"
      ]
     },
     "execution_count": 68,
     "metadata": {},
     "output_type": "execute_result"
    }
   ],
   "source": [
    "b@v_col"
   ]
  },
  {
   "cell_type": "code",
   "execution_count": 69,
   "id": "4253d63c-f05b-4965-bd24-9113d2347eff",
   "metadata": {},
   "outputs": [
    {
     "data": {
      "text/plain": [
       "((3, 2), (1, 2))"
      ]
     },
     "execution_count": 69,
     "metadata": {},
     "output_type": "execute_result"
    }
   ],
   "source": [
    "b.shape, v_row.shape"
   ]
  },
  {
   "cell_type": "code",
   "execution_count": 70,
   "id": "8ae4a4d7-9465-435e-8e18-afafba29eff5",
   "metadata": {},
   "outputs": [
    {
     "data": {
      "text/plain": [
       "(2,)"
      ]
     },
     "execution_count": 70,
     "metadata": {},
     "output_type": "execute_result"
    }
   ],
   "source": [
    "v.shape"
   ]
  },
  {
   "cell_type": "code",
   "execution_count": 71,
   "id": "6e315be7-a6d7-4c46-885a-57036d013828",
   "metadata": {},
   "outputs": [
    {
     "data": {
      "text/plain": [
       "array([3, 2, 6])"
      ]
     },
     "execution_count": 71,
     "metadata": {},
     "output_type": "execute_result"
    }
   ],
   "source": [
    "b@v"
   ]
  },
  {
   "cell_type": "markdown",
   "id": "7fcc4cec-d4ba-444b-ba35-36d8d7582395",
   "metadata": {},
   "source": [
    "---"
   ]
  },
  {
   "cell_type": "code",
   "execution_count": 72,
   "id": "77b59a4b-17cd-40c0-b50c-ceff9176fd5d",
   "metadata": {},
   "outputs": [
    {
     "data": {
      "text/plain": [
       "array([[ 8,  2, 84],\n",
       "       [ 7,  6, 90],\n",
       "       [ 7,  6, 90],\n",
       "       [ 7,  6, 90],\n",
       "       [ 8,  2, 84],\n",
       "       [ 5,  5, 79],\n",
       "       [ 5,  5, 79]])"
      ]
     },
     "execution_count": 72,
     "metadata": {},
     "output_type": "execute_result"
    }
   ],
   "source": [
    "data"
   ]
  },
  {
   "cell_type": "code",
   "execution_count": 73,
   "id": "691e86aa-fee5-42fd-ac06-bc0cecc32304",
   "metadata": {},
   "outputs": [
    {
     "data": {
      "text/plain": [
       "array([[ 8,  7,  7,  7,  8,  5,  5],\n",
       "       [ 2,  6,  6,  6,  2,  5,  5],\n",
       "       [84, 90, 90, 90, 84, 79, 79]])"
      ]
     },
     "execution_count": 73,
     "metadata": {},
     "output_type": "execute_result"
    }
   ],
   "source": [
    "data.T"
   ]
  },
  {
   "cell_type": "markdown",
   "id": "69b41284-18eb-47e7-8d47-cbf765cf74fe",
   "metadata": {},
   "source": [
    "---"
   ]
  },
  {
   "cell_type": "code",
   "execution_count": 74,
   "id": "996151c2-b6f1-4d38-a2e2-1eeba1fbc6b8",
   "metadata": {},
   "outputs": [
    {
     "name": "stdout",
     "output_type": "stream",
     "text": [
      "1.21.5\n"
     ]
    }
   ],
   "source": [
    "print(np.__version__)"
   ]
  },
  {
   "cell_type": "code",
   "execution_count": 75,
   "id": "d9b5413b-6a25-4ef0-b42f-6be483dfd09f",
   "metadata": {},
   "outputs": [],
   "source": [
    "ar = np.arange(10)"
   ]
  },
  {
   "cell_type": "code",
   "execution_count": 76,
   "id": "82665004-3418-4e63-91b9-a62eff8d15af",
   "metadata": {},
   "outputs": [
    {
     "data": {
      "text/plain": [
       "array([0, 1, 2, 3, 4, 5, 6, 7, 8, 9])"
      ]
     },
     "execution_count": 76,
     "metadata": {},
     "output_type": "execute_result"
    }
   ],
   "source": [
    "ar"
   ]
  },
  {
   "cell_type": "code",
   "execution_count": 77,
   "id": "1f6f0c06-9cf3-4549-94c5-29b416fe8755",
   "metadata": {},
   "outputs": [
    {
     "data": {
      "text/plain": [
       "10"
      ]
     },
     "execution_count": 77,
     "metadata": {},
     "output_type": "execute_result"
    }
   ],
   "source": [
    "ar.size"
   ]
  },
  {
   "cell_type": "code",
   "execution_count": 78,
   "id": "32e9b394-7faf-4072-989f-877df8225967",
   "metadata": {},
   "outputs": [
    {
     "data": {
      "text/plain": [
       "10"
      ]
     },
     "execution_count": 78,
     "metadata": {},
     "output_type": "execute_result"
    }
   ],
   "source": [
    "len(ar)"
   ]
  },
  {
   "cell_type": "code",
   "execution_count": 79,
   "id": "afcd4d7b-c623-4803-86e6-d44b1f7727cf",
   "metadata": {},
   "outputs": [
    {
     "data": {
      "text/plain": [
       "(10,)"
      ]
     },
     "execution_count": 79,
     "metadata": {},
     "output_type": "execute_result"
    }
   ],
   "source": [
    "ar.shape"
   ]
  },
  {
   "cell_type": "code",
   "execution_count": 80,
   "id": "21d46257-f675-461d-bcac-01edf10f38f4",
   "metadata": {},
   "outputs": [
    {
     "data": {
      "text/plain": [
       "4.5"
      ]
     },
     "execution_count": 80,
     "metadata": {},
     "output_type": "execute_result"
    }
   ],
   "source": [
    "ar.mean()"
   ]
  },
  {
   "cell_type": "code",
   "execution_count": 82,
   "id": "554d2673-4223-4ab5-81e9-3503447d4160",
   "metadata": {},
   "outputs": [
    {
     "data": {
      "text/plain": [
       "array([False, False, False, False, False, False, False, False,  True,\n",
       "        True])"
      ]
     },
     "execution_count": 82,
     "metadata": {},
     "output_type": "execute_result"
    }
   ],
   "source": [
    "ar>7"
   ]
  },
  {
   "cell_type": "code",
   "execution_count": 83,
   "id": "9434dfe7-dba2-4742-86b9-35c4cb272069",
   "metadata": {},
   "outputs": [],
   "source": [
    "over7 = ar > 7"
   ]
  },
  {
   "cell_type": "code",
   "execution_count": 85,
   "id": "334558bb-94a4-43ee-9485-bbe8e2da84a7",
   "metadata": {},
   "outputs": [
    {
     "data": {
      "text/plain": [
       "array([8, 9])"
      ]
     },
     "execution_count": 85,
     "metadata": {},
     "output_type": "execute_result"
    }
   ],
   "source": [
    "ar[over7]"
   ]
  },
  {
   "cell_type": "code",
   "execution_count": 88,
   "id": "a39d6f44-877c-45a6-b59b-b8195e848a6d",
   "metadata": {},
   "outputs": [],
   "source": [
    "demo = np.array(range(0,100,3))/70"
   ]
  },
  {
   "cell_type": "code",
   "execution_count": 89,
   "id": "e8d2d373-f413-4e2c-9e4f-c30cea452819",
   "metadata": {},
   "outputs": [
    {
     "data": {
      "text/plain": [
       "array([0.        , 0.04285714, 0.08571429, 0.12857143, 0.17142857,\n",
       "       0.21428571, 0.25714286, 0.3       , 0.34285714, 0.38571429,\n",
       "       0.42857143, 0.47142857, 0.51428571, 0.55714286, 0.6       ,\n",
       "       0.64285714, 0.68571429, 0.72857143, 0.77142857, 0.81428571,\n",
       "       0.85714286, 0.9       , 0.94285714, 0.98571429, 1.02857143,\n",
       "       1.07142857, 1.11428571, 1.15714286, 1.2       , 1.24285714,\n",
       "       1.28571429, 1.32857143, 1.37142857, 1.41428571])"
      ]
     },
     "execution_count": 89,
     "metadata": {},
     "output_type": "execute_result"
    }
   ],
   "source": [
    "demo"
   ]
  },
  {
   "cell_type": "code",
   "execution_count": 90,
   "id": "24db8bc3-120b-4c59-a452-c9c0a82d7871",
   "metadata": {},
   "outputs": [
    {
     "data": {
      "text/plain": [
       "array([0, 0, 0, 0, 0, 0, 0, 0, 0, 0, 0, 0, 0, 0, 0, 0, 0, 0, 0, 0, 0, 0,\n",
       "       0, 0, 1, 1, 1, 1, 1, 1, 1, 1, 1, 1])"
      ]
     },
     "execution_count": 90,
     "metadata": {},
     "output_type": "execute_result"
    }
   ],
   "source": [
    "demo.astype(int)"
   ]
  },
  {
   "cell_type": "code",
   "execution_count": 91,
   "id": "ee57c4cd-e02d-4058-91bf-0d3d3a6c8272",
   "metadata": {},
   "outputs": [
    {
     "data": {
      "text/plain": [
       "array([0.        , 0.04285714, 0.08571429, 0.12857144, 0.17142858,\n",
       "       0.21428572, 0.25714287, 0.3       , 0.34285715, 0.3857143 ,\n",
       "       0.42857143, 0.47142857, 0.51428574, 0.55714285, 0.6       ,\n",
       "       0.64285713, 0.6857143 , 0.7285714 , 0.7714286 , 0.8142857 ,\n",
       "       0.85714287, 0.9       , 0.94285715, 0.98571426, 1.0285715 ,\n",
       "       1.0714285 , 1.1142857 , 1.1571429 , 1.2       , 1.2428571 ,\n",
       "       1.2857143 , 1.3285714 , 1.3714286 , 1.4142857 ], dtype=float32)"
      ]
     },
     "execution_count": 91,
     "metadata": {},
     "output_type": "execute_result"
    }
   ],
   "source": [
    "demo.astype('float32')"
   ]
  },
  {
   "cell_type": "code",
   "execution_count": 92,
   "id": "c7aa7e3e-2c4c-4a33-9f6c-24fafdd5be7f",
   "metadata": {},
   "outputs": [],
   "source": [
    "test = np.array([True, True, 0.1, 1, 2.5, 7])"
   ]
  },
  {
   "cell_type": "code",
   "execution_count": 93,
   "id": "86b04713-420b-4abd-aecc-5a5276d8be29",
   "metadata": {},
   "outputs": [
    {
     "data": {
      "text/plain": [
       "array([1. , 1. , 0.1, 1. , 2.5, 7. ])"
      ]
     },
     "execution_count": 93,
     "metadata": {},
     "output_type": "execute_result"
    }
   ],
   "source": [
    "test"
   ]
  },
  {
   "cell_type": "code",
   "execution_count": 94,
   "id": "c837f08a-dfb8-4c9b-b74c-675fdea3a4e8",
   "metadata": {},
   "outputs": [
    {
     "data": {
      "text/plain": [
       "dtype('float64')"
      ]
     },
     "execution_count": 94,
     "metadata": {},
     "output_type": "execute_result"
    }
   ],
   "source": [
    "test.dtype"
   ]
  },
  {
   "cell_type": "code",
   "execution_count": 99,
   "id": "3e77e0a8-37f9-464b-af10-43764dcdaf47",
   "metadata": {},
   "outputs": [],
   "source": [
    "ln1 = np.linspace(0,100,11)"
   ]
  },
  {
   "cell_type": "code",
   "execution_count": 100,
   "id": "592ca123-38f7-4da2-ac42-77545eeffd53",
   "metadata": {},
   "outputs": [
    {
     "data": {
      "text/plain": [
       "array([  0.,  10.,  20.,  30.,  40.,  50.,  60.,  70.,  80.,  90., 100.])"
      ]
     },
     "execution_count": 100,
     "metadata": {},
     "output_type": "execute_result"
    }
   ],
   "source": [
    "ln1"
   ]
  },
  {
   "cell_type": "code",
   "execution_count": 101,
   "id": "fb19e862-7588-4354-9a9c-4dfb9caaa307",
   "metadata": {},
   "outputs": [],
   "source": [
    "ln2 = np.linspace(0, 100, 11, endpoint = False)"
   ]
  },
  {
   "cell_type": "code",
   "execution_count": 102,
   "id": "160a7667-a48c-4106-baff-0bc8e3c35eaf",
   "metadata": {},
   "outputs": [
    {
     "data": {
      "text/plain": [
       "array([ 0.        ,  9.09090909, 18.18181818, 27.27272727, 36.36363636,\n",
       "       45.45454545, 54.54545455, 63.63636364, 72.72727273, 81.81818182,\n",
       "       90.90909091])"
      ]
     },
     "execution_count": 102,
     "metadata": {},
     "output_type": "execute_result"
    }
   ],
   "source": [
    "ln2"
   ]
  },
  {
   "cell_type": "code",
   "execution_count": 103,
   "id": "bf51dcff-b7e6-4ac3-a92d-ad822673c3c4",
   "metadata": {},
   "outputs": [],
   "source": [
    "nanvals = np.array([np.nan, 123, 4, 5, 10, 50, 535])"
   ]
  },
  {
   "cell_type": "code",
   "execution_count": 104,
   "id": "355ae0d6-4b42-49e8-a476-c7ebb8d1eb4d",
   "metadata": {},
   "outputs": [
    {
     "data": {
      "text/plain": [
       "array([ nan, 123.,   4.,   5.,  10.,  50., 535.])"
      ]
     },
     "execution_count": 104,
     "metadata": {},
     "output_type": "execute_result"
    }
   ],
   "source": [
    "nanvals"
   ]
  },
  {
   "cell_type": "code",
   "execution_count": 105,
   "id": "981ee6ad-48d0-46fa-82cd-04ae7ff9d227",
   "metadata": {},
   "outputs": [
    {
     "data": {
      "text/plain": [
       "nan"
      ]
     },
     "execution_count": 105,
     "metadata": {},
     "output_type": "execute_result"
    }
   ],
   "source": [
    "nanvals.min()"
   ]
  },
  {
   "cell_type": "code",
   "execution_count": 106,
   "id": "4a78ff1b-ad1c-4b6e-ac65-53a8178cb694",
   "metadata": {},
   "outputs": [],
   "source": [
    "np.random.seed(5678)"
   ]
  },
  {
   "cell_type": "code",
   "execution_count": 107,
   "id": "a437e7ef-4481-4578-ba00-460478fea48a",
   "metadata": {},
   "outputs": [],
   "source": [
    "ar = np.random.randint(1,11,size = (5,3))"
   ]
  },
  {
   "cell_type": "code",
   "execution_count": 108,
   "id": "900cdbb3-fe27-4485-a6e9-e49ba7c7d9b9",
   "metadata": {},
   "outputs": [
    {
     "data": {
      "text/plain": [
       "array([[ 5,  8,  3],\n",
       "       [ 5,  4,  6],\n",
       "       [ 3,  7,  4],\n",
       "       [ 1,  6,  4],\n",
       "       [ 7, 10,  4]])"
      ]
     },
     "execution_count": 108,
     "metadata": {},
     "output_type": "execute_result"
    }
   ],
   "source": [
    "ar"
   ]
  },
  {
   "cell_type": "code",
   "execution_count": 109,
   "id": "b23f3c70-a4cf-47c7-bacf-681e9a913b9f",
   "metadata": {},
   "outputs": [],
   "source": [
    "ar = np.random.randint(0, 100, size = (10,2))"
   ]
  },
  {
   "cell_type": "code",
   "execution_count": 110,
   "id": "a14cd620-5b20-4b89-bd16-b79be547bbad",
   "metadata": {},
   "outputs": [
    {
     "data": {
      "text/plain": [
       "array([[19, 89],\n",
       "       [24,  3],\n",
       "       [25, 17],\n",
       "       [42, 85],\n",
       "       [ 4, 64],\n",
       "       [34, 82],\n",
       "       [76, 77],\n",
       "       [ 2, 21],\n",
       "       [28, 18],\n",
       "       [20, 85]])"
      ]
     },
     "execution_count": 110,
     "metadata": {},
     "output_type": "execute_result"
    }
   ],
   "source": [
    "ar"
   ]
  },
  {
   "cell_type": "code",
   "execution_count": 111,
   "id": "f6c3cf3d-afca-480a-a26a-610252f889f0",
   "metadata": {},
   "outputs": [
    {
     "data": {
      "text/plain": [
       "array([[ 38, 178],\n",
       "       [ 48,   6],\n",
       "       [ 50,  34],\n",
       "       [ 84, 170],\n",
       "       [  8, 128],\n",
       "       [ 68, 164],\n",
       "       [152, 154],\n",
       "       [  4,  42],\n",
       "       [ 56,  36],\n",
       "       [ 40, 170]])"
      ]
     },
     "execution_count": 111,
     "metadata": {},
     "output_type": "execute_result"
    }
   ],
   "source": [
    "ar*2"
   ]
  },
  {
   "cell_type": "code",
   "execution_count": 113,
   "id": "1c1f5195-c3ae-455c-a6a6-d9de73919da3",
   "metadata": {},
   "outputs": [
    {
     "data": {
      "text/plain": [
       "array([[7.2200e+03, 1.5842e+05],\n",
       "       [1.1520e+04, 1.8000e+02],\n",
       "       [1.2500e+04, 5.7800e+03],\n",
       "       [3.5280e+04, 1.4450e+05],\n",
       "       [3.2000e+02, 8.1920e+04],\n",
       "       [2.3120e+04, 1.3448e+05],\n",
       "       [1.1552e+05, 1.1858e+05],\n",
       "       [8.0000e+01, 8.8200e+03],\n",
       "       [1.5680e+04, 6.4800e+03],\n",
       "       [8.0000e+03, 1.4450e+05]])"
      ]
     },
     "execution_count": 113,
     "metadata": {},
     "output_type": "execute_result"
    }
   ],
   "source": [
    "(ar**2)/0.05"
   ]
  },
  {
   "cell_type": "code",
   "execution_count": 114,
   "id": "dfc36dac-17bc-441b-9aa5-0ccb26307a3c",
   "metadata": {},
   "outputs": [
    {
     "data": {
      "text/plain": [
       "array([[2.94443898, 4.48863637],\n",
       "       [3.17805383, 1.09861229],\n",
       "       [3.21887582, 2.83321334],\n",
       "       [3.73766962, 4.44265126],\n",
       "       [1.38629436, 4.15888308],\n",
       "       [3.52636052, 4.40671925],\n",
       "       [4.33073334, 4.34380542],\n",
       "       [0.69314718, 3.04452244],\n",
       "       [3.33220451, 2.89037176],\n",
       "       [2.99573227, 4.44265126]])"
      ]
     },
     "execution_count": 114,
     "metadata": {},
     "output_type": "execute_result"
    }
   ],
   "source": [
    "np.log(ar)"
   ]
  },
  {
   "cell_type": "code",
   "execution_count": 115,
   "id": "4c94c50a-8534-4bb0-80e1-1b4a7bb5cc80",
   "metadata": {},
   "outputs": [
    {
     "data": {
      "text/plain": [
       "array([[14, 10, 10, 13, 10],\n",
       "       [12, 13, 10, 14, 11],\n",
       "       [12, 12, 14, 13, 14],\n",
       "       [14, 11, 11, 10, 14]])"
      ]
     },
     "execution_count": 115,
     "metadata": {},
     "output_type": "execute_result"
    }
   ],
   "source": [
    "newArray = np.random.randint(10, 15, size=(4, 5))\n",
    "newArray"
   ]
  },
  {
   "cell_type": "code",
   "execution_count": 116,
   "id": "bb77f22e-cf39-441b-a63f-6aebc35e1757",
   "metadata": {},
   "outputs": [
    {
     "data": {
      "text/plain": [
       "array([[14, 10, 10, 13, 10, 12, 13, 10, 14, 11],\n",
       "       [12, 12, 14, 13, 14, 14, 11, 11, 10, 14]])"
      ]
     },
     "execution_count": 116,
     "metadata": {},
     "output_type": "execute_result"
    }
   ],
   "source": [
    "newArray.reshape((2,10))"
   ]
  },
  {
   "cell_type": "code",
   "execution_count": 117,
   "id": "0cef1dec-31bb-4830-83b3-822e59bdd0af",
   "metadata": {},
   "outputs": [
    {
     "data": {
      "text/plain": [
       "10"
      ]
     },
     "execution_count": 117,
     "metadata": {},
     "output_type": "execute_result"
    }
   ],
   "source": [
    "newArray.min()"
   ]
  },
  {
   "cell_type": "code",
   "execution_count": 118,
   "id": "9deb2a47-5aeb-410b-85dc-71634db3f8b9",
   "metadata": {},
   "outputs": [
    {
     "data": {
      "text/plain": [
       "array([14, 10, 10, 13, 10, 12, 13, 10, 14, 11, 12, 12, 14, 13, 14, 14, 11,\n",
       "       11, 10, 14])"
      ]
     },
     "execution_count": 118,
     "metadata": {},
     "output_type": "execute_result"
    }
   ],
   "source": [
    "newArray.flatten()"
   ]
  },
  {
   "cell_type": "markdown",
   "id": "ad08abbe-0b52-4d3f-a4e3-a76ece694ef8",
   "metadata": {},
   "source": [
    "---"
   ]
  },
  {
   "cell_type": "code",
   "execution_count": 119,
   "id": "192a8721-310b-47b0-acac-57e7049dc2d8",
   "metadata": {},
   "outputs": [],
   "source": [
    "np.random.seed(15)\n",
    "\n",
    "ar1 = np.random.randint(15, size=(5, 3))\n",
    "ar2 = np.random.randint(7, size=(5, 3))"
   ]
  },
  {
   "cell_type": "code",
   "execution_count": 120,
   "id": "cdaefd6f-0d79-4fe8-9dac-8b867f701a97",
   "metadata": {},
   "outputs": [
    {
     "data": {
      "text/plain": [
       "array([[ 8,  5, 12],\n",
       "       [ 5,  7,  0],\n",
       "       [12, 11,  7],\n",
       "       [11,  5,  6],\n",
       "       [13,  1, 13]])"
      ]
     },
     "execution_count": 120,
     "metadata": {},
     "output_type": "execute_result"
    }
   ],
   "source": [
    "ar1"
   ]
  },
  {
   "cell_type": "code",
   "execution_count": 121,
   "id": "fb6c04aa-b9d4-4172-986e-9bd1ec520d3c",
   "metadata": {},
   "outputs": [
    {
     "data": {
      "text/plain": [
       "array([[0, 6, 2],\n",
       "       [4, 1, 5],\n",
       "       [3, 4, 5],\n",
       "       [4, 5, 6],\n",
       "       [0, 2, 1]])"
      ]
     },
     "execution_count": 121,
     "metadata": {},
     "output_type": "execute_result"
    }
   ],
   "source": [
    "ar2"
   ]
  },
  {
   "cell_type": "code",
   "execution_count": 122,
   "id": "883b993f-701c-44b9-8806-5810a9b93f80",
   "metadata": {},
   "outputs": [
    {
     "data": {
      "text/plain": [
       "array([11,  5,  6])"
      ]
     },
     "execution_count": 122,
     "metadata": {},
     "output_type": "execute_result"
    }
   ],
   "source": [
    "ar1[-2, :]"
   ]
  },
  {
   "cell_type": "code",
   "execution_count": 123,
   "id": "ab1b37bb-ae97-4f89-950b-665c75f82a63",
   "metadata": {},
   "outputs": [
    {
     "data": {
      "text/plain": [
       "array([[11,  5,  6],\n",
       "       [13,  1, 13]])"
      ]
     },
     "execution_count": 123,
     "metadata": {},
     "output_type": "execute_result"
    }
   ],
   "source": [
    "ar1[-2:, :]"
   ]
  },
  {
   "cell_type": "code",
   "execution_count": 127,
   "id": "571658fb-7d85-43b2-b035-db8745ee9ddb",
   "metadata": {},
   "outputs": [
    {
     "data": {
      "text/plain": [
       "array([[0],\n",
       "       [4],\n",
       "       [3],\n",
       "       [4],\n",
       "       [0]])"
      ]
     },
     "execution_count": 127,
     "metadata": {},
     "output_type": "execute_result"
    }
   ],
   "source": [
    "ar2[:, :1]"
   ]
  },
  {
   "cell_type": "code",
   "execution_count": 128,
   "id": "091682e6-26a3-4637-938d-b5d091caaa3b",
   "metadata": {},
   "outputs": [
    {
     "data": {
      "text/plain": [
       "array([[7, 0]])"
      ]
     },
     "execution_count": 128,
     "metadata": {},
     "output_type": "execute_result"
    }
   ],
   "source": [
    "ar1[1:2, 1:4]"
   ]
  },
  {
   "cell_type": "code",
   "execution_count": 129,
   "id": "de6663e0-ad51-403d-aff4-71cdfb3f65c7",
   "metadata": {},
   "outputs": [
    {
     "data": {
      "text/plain": [
       "array([[6],\n",
       "       [1]])"
      ]
     },
     "execution_count": 129,
     "metadata": {},
     "output_type": "execute_result"
    }
   ],
   "source": [
    "ar2[-2:, -1:]"
   ]
  },
  {
   "cell_type": "code",
   "execution_count": 130,
   "id": "bc6ed18d-8bc9-42df-a6e1-cd942548406f",
   "metadata": {},
   "outputs": [
    {
     "data": {
      "text/plain": [
       "8"
      ]
     },
     "execution_count": 130,
     "metadata": {},
     "output_type": "execute_result"
    }
   ],
   "source": [
    "ar1[0,0]"
   ]
  },
  {
   "cell_type": "code",
   "execution_count": 132,
   "id": "576f7ef9-efe4-4465-936c-172ba37819eb",
   "metadata": {},
   "outputs": [
    {
     "data": {
      "text/plain": [
       "1"
      ]
     },
     "execution_count": 132,
     "metadata": {},
     "output_type": "execute_result"
    }
   ],
   "source": [
    "ar2[-1,-1]"
   ]
  },
  {
   "cell_type": "code",
   "execution_count": 133,
   "id": "04cbed16-a655-4402-8f45-894da2f51cf4",
   "metadata": {},
   "outputs": [
    {
     "data": {
      "text/plain": [
       "array([[ 8,  5, 12],\n",
       "       [ 5,  7,  0],\n",
       "       [12, 11,  7],\n",
       "       [11,  5,  6],\n",
       "       [13,  1, 13]])"
      ]
     },
     "execution_count": 133,
     "metadata": {},
     "output_type": "execute_result"
    }
   ],
   "source": [
    "ar1"
   ]
  },
  {
   "cell_type": "code",
   "execution_count": 134,
   "id": "cba12e7f-6c99-4e56-ba1b-6a93e1e73965",
   "metadata": {},
   "outputs": [
    {
     "data": {
      "text/plain": [
       "array([[0, 6, 2],\n",
       "       [4, 1, 5],\n",
       "       [3, 4, 5],\n",
       "       [4, 5, 6],\n",
       "       [0, 2, 1]])"
      ]
     },
     "execution_count": 134,
     "metadata": {},
     "output_type": "execute_result"
    }
   ],
   "source": [
    "ar2"
   ]
  },
  {
   "cell_type": "code",
   "execution_count": 135,
   "id": "9db10db6-4c6b-46d8-a862-44943382bd66",
   "metadata": {},
   "outputs": [
    {
     "data": {
      "text/plain": [
       "array([[ 8,  5, 12],\n",
       "       [ 5,  7,  0],\n",
       "       [12, 11,  7],\n",
       "       [11,  5,  6],\n",
       "       [13,  1, 13],\n",
       "       [ 0,  6,  2],\n",
       "       [ 4,  1,  5],\n",
       "       [ 3,  4,  5],\n",
       "       [ 4,  5,  6],\n",
       "       [ 0,  2,  1]])"
      ]
     },
     "execution_count": 135,
     "metadata": {},
     "output_type": "execute_result"
    }
   ],
   "source": [
    "np.vstack([ar1, ar2])"
   ]
  },
  {
   "cell_type": "code",
   "execution_count": 136,
   "id": "9604810e-ab47-487f-bf46-78f72779451c",
   "metadata": {},
   "outputs": [
    {
     "data": {
      "text/plain": [
       "array([[ 8,  5, 12,  0,  6,  2],\n",
       "       [ 5,  7,  0,  4,  1,  5],\n",
       "       [12, 11,  7,  3,  4,  5],\n",
       "       [11,  5,  6,  4,  5,  6],\n",
       "       [13,  1, 13,  0,  2,  1]])"
      ]
     },
     "execution_count": 136,
     "metadata": {},
     "output_type": "execute_result"
    }
   ],
   "source": [
    "np.hstack([ar1, ar2])"
   ]
  },
  {
   "cell_type": "code",
   "execution_count": 139,
   "id": "1b6f4ede-4ef9-4124-84aa-6c2cde326e9e",
   "metadata": {},
   "outputs": [
    {
     "data": {
      "text/plain": [
       "array([[ 8,  5, 12],\n",
       "       [ 5,  7,  0],\n",
       "       [12, 11,  7],\n",
       "       [11,  5,  6],\n",
       "       [13,  1, 13],\n",
       "       [ 0,  6,  2],\n",
       "       [ 4,  1,  5],\n",
       "       [ 3,  4,  5],\n",
       "       [ 4,  5,  6],\n",
       "       [ 0,  2,  1]])"
      ]
     },
     "execution_count": 139,
     "metadata": {},
     "output_type": "execute_result"
    }
   ],
   "source": [
    "np.concatenate((ar1, ar2))"
   ]
  },
  {
   "cell_type": "code",
   "execution_count": 140,
   "id": "f65afeae-7e0c-4d40-8c0a-f7837bf617f0",
   "metadata": {},
   "outputs": [
    {
     "data": {
      "text/plain": [
       "array([[ 8,  5, 12],\n",
       "       [ 5,  7,  0],\n",
       "       [12, 11,  7],\n",
       "       [11,  5,  6],\n",
       "       [13,  1, 13],\n",
       "       [ 0,  6,  2],\n",
       "       [ 4,  1,  5],\n",
       "       [ 3,  4,  5],\n",
       "       [ 4,  5,  6],\n",
       "       [ 0,  2,  1]])"
      ]
     },
     "execution_count": 140,
     "metadata": {},
     "output_type": "execute_result"
    }
   ],
   "source": [
    "np.concatenate((ar1, ar2), axis = 0)"
   ]
  },
  {
   "cell_type": "code",
   "execution_count": 141,
   "id": "30a74c24-0ec7-4f34-9960-2a09a7a24234",
   "metadata": {},
   "outputs": [
    {
     "data": {
      "text/plain": [
       "array([[ 8,  5, 12,  0,  6,  2],\n",
       "       [ 5,  7,  0,  4,  1,  5],\n",
       "       [12, 11,  7,  3,  4,  5],\n",
       "       [11,  5,  6,  4,  5,  6],\n",
       "       [13,  1, 13,  0,  2,  1]])"
      ]
     },
     "execution_count": 141,
     "metadata": {},
     "output_type": "execute_result"
    }
   ],
   "source": [
    "np.concatenate((ar1, ar2), axis = 1)"
   ]
  },
  {
   "cell_type": "code",
   "execution_count": 142,
   "id": "d6741be1-f298-49fd-b32e-e0efbf1260ac",
   "metadata": {},
   "outputs": [
    {
     "ename": "TypeError",
     "evalue": "_split_dispatcher() missing 1 required positional argument: 'indices_or_sections'",
     "output_type": "error",
     "traceback": [
      "\u001b[0;31m---------------------------------------------------------------------------\u001b[0m",
      "\u001b[0;31mTypeError\u001b[0m                                 Traceback (most recent call last)",
      "Input \u001b[0;32mIn [142]\u001b[0m, in \u001b[0;36m<cell line: 1>\u001b[0;34m()\u001b[0m\n\u001b[0;32m----> 1\u001b[0m \u001b[43mnp\u001b[49m\u001b[38;5;241;43m.\u001b[39;49m\u001b[43msplit\u001b[49m\u001b[43m(\u001b[49m\u001b[43m(\u001b[49m\u001b[43mar1\u001b[49m\u001b[43m,\u001b[49m\u001b[43m \u001b[49m\u001b[38;5;241;43m5\u001b[39;49m\u001b[43m)\u001b[49m\u001b[43m)\u001b[49m\n",
      "File \u001b[0;32m<__array_function__ internals>:4\u001b[0m, in \u001b[0;36msplit\u001b[0;34m(*args, **kwargs)\u001b[0m\n",
      "\u001b[0;31mTypeError\u001b[0m: _split_dispatcher() missing 1 required positional argument: 'indices_or_sections'"
     ]
    }
   ],
   "source": [
    "np.split((ar1, 5))"
   ]
  },
  {
   "cell_type": "code",
   "execution_count": 143,
   "id": "74d0348a-3cf8-44e0-98d1-6b808186e033",
   "metadata": {},
   "outputs": [
    {
     "data": {
      "text/plain": [
       "[array([[ 8,  5, 12]]),\n",
       " array([[5, 7, 0]]),\n",
       " array([[12, 11,  7]]),\n",
       " array([[11,  5,  6]]),\n",
       " array([[13,  1, 13]])]"
      ]
     },
     "execution_count": 143,
     "metadata": {},
     "output_type": "execute_result"
    }
   ],
   "source": [
    "np.split(ar1, 5)"
   ]
  },
  {
   "cell_type": "code",
   "execution_count": null,
   "id": "1248537c-261c-4f5c-85fe-f20da6bbeb1d",
   "metadata": {},
   "outputs": [],
   "source": []
  }
 ],
 "metadata": {
  "kernelspec": {
   "display_name": "Python 3 (ipykernel)",
   "language": "python",
   "name": "python3"
  },
  "language_info": {
   "codemirror_mode": {
    "name": "ipython",
    "version": 3
   },
   "file_extension": ".py",
   "mimetype": "text/x-python",
   "name": "python",
   "nbconvert_exporter": "python",
   "pygments_lexer": "ipython3",
   "version": "3.9.12"
  }
 },
 "nbformat": 4,
 "nbformat_minor": 5
}
