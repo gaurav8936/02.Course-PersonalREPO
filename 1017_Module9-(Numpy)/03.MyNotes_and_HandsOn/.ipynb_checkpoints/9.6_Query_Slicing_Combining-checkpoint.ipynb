{
 "cells": [
  {
   "cell_type": "markdown",
   "id": "a1ec1bff-cf8e-4b96-962d-54d740238ace",
   "metadata": {},
   "source": [
    "# Query,Slicing, Combining Arrays"
   ]
  },
  {
   "cell_type": "code",
   "execution_count": 2,
   "id": "217e2dd1-91e6-487e-8490-d3777810d30e",
   "metadata": {},
   "outputs": [],
   "source": [
    "import numpy as np\n",
    "\n",
    "np.random.seed(10)"
   ]
  },
  {
   "cell_type": "code",
   "execution_count": 3,
   "id": "1fa20639-b028-426c-9ca3-14d7064df4c8",
   "metadata": {},
   "outputs": [
    {
     "data": {
      "text/plain": [
       "array([ 0,  1,  2,  3,  4,  5,  6,  7,  8,  9, 10, 11])"
      ]
     },
     "execution_count": 3,
     "metadata": {},
     "output_type": "execute_result"
    }
   ],
   "source": [
    "ar = np.arange(12)\n",
    "ar"
   ]
  },
  {
   "cell_type": "markdown",
   "id": "c28ef483-85ea-4bf6-b6eb-2311f3a74ae4",
   "metadata": {},
   "source": [
    "# Slicing"
   ]
  },
  {
   "cell_type": "code",
   "execution_count": 6,
   "id": "5a38ac18-76ee-44dd-8236-e2deb4edc984",
   "metadata": {},
   "outputs": [
    {
     "data": {
      "text/plain": [
       "array([[1, 8, 4, 1],\n",
       "       [3, 6, 5, 3],\n",
       "       [9, 6, 9, 1]])"
      ]
     },
     "execution_count": 6,
     "metadata": {},
     "output_type": "execute_result"
    }
   ],
   "source": [
    "ar2 = np.random.randint(12, size = 12). reshape(3,4)\n",
    "ar2"
   ]
  },
  {
   "cell_type": "code",
   "execution_count": 7,
   "id": "a558b962-1ca5-4622-8cb2-21730d01ba7f",
   "metadata": {},
   "outputs": [
    {
     "data": {
      "text/plain": [
       "0"
      ]
     },
     "execution_count": 7,
     "metadata": {},
     "output_type": "execute_result"
    }
   ],
   "source": [
    "ar[0]"
   ]
  },
  {
   "cell_type": "code",
   "execution_count": 8,
   "id": "95a61f47-6a3b-4f06-aafe-da516f7df53d",
   "metadata": {},
   "outputs": [
    {
     "data": {
      "text/plain": [
       "5"
      ]
     },
     "execution_count": 8,
     "metadata": {},
     "output_type": "execute_result"
    }
   ],
   "source": [
    "ar[5]"
   ]
  },
  {
   "cell_type": "code",
   "execution_count": 9,
   "id": "3c6ca861-3043-41e5-ad0d-d3879beca2e5",
   "metadata": {},
   "outputs": [],
   "source": [
    "# 0 based arrays"
   ]
  },
  {
   "cell_type": "code",
   "execution_count": 11,
   "id": "9c51db77-3445-4162-a766-223d5b51abd9",
   "metadata": {},
   "outputs": [
    {
     "data": {
      "text/plain": [
       "array([ 5,  6,  7,  8,  9, 10, 11])"
      ]
     },
     "execution_count": 11,
     "metadata": {},
     "output_type": "execute_result"
    }
   ],
   "source": [
    "ar[5:]"
   ]
  },
  {
   "cell_type": "code",
   "execution_count": 12,
   "id": "f980bda1-0d61-45c6-a697-242bfefe885c",
   "metadata": {},
   "outputs": [
    {
     "data": {
      "text/plain": [
       "array([2, 4, 6])"
      ]
     },
     "execution_count": 12,
     "metadata": {},
     "output_type": "execute_result"
    }
   ],
   "source": [
    "ar[2:8:2]"
   ]
  },
  {
   "cell_type": "code",
   "execution_count": 13,
   "id": "f97e2c8f-228b-4bf0-a972-40b961ba5806",
   "metadata": {},
   "outputs": [
    {
     "data": {
      "text/plain": [
       "array([ 0,  1,  2,  3,  4,  5,  6,  7,  8,  9, 10])"
      ]
     },
     "execution_count": 13,
     "metadata": {},
     "output_type": "execute_result"
    }
   ],
   "source": [
    "ar[:-1]"
   ]
  },
  {
   "cell_type": "code",
   "execution_count": 16,
   "id": "46a846b8-58fe-4aec-8e3c-5105a3a406c3",
   "metadata": {},
   "outputs": [
    {
     "data": {
      "text/plain": [
       "array([0, 1, 2, 3, 4, 5, 6])"
      ]
     },
     "execution_count": 16,
     "metadata": {},
     "output_type": "execute_result"
    }
   ],
   "source": [
    "ar[:-5]"
   ]
  },
  {
   "cell_type": "code",
   "execution_count": 17,
   "id": "41e71286-d172-47c5-b266-96f129d19175",
   "metadata": {},
   "outputs": [
    {
     "data": {
      "text/plain": [
       "array([11,  9,  7,  5])"
      ]
     },
     "execution_count": 17,
     "metadata": {},
     "output_type": "execute_result"
    }
   ],
   "source": [
    "ar[-1:-8:-2]"
   ]
  },
  {
   "cell_type": "markdown",
   "id": "55e2ddee-d421-4d7c-89fd-4226ff791c4a",
   "metadata": {},
   "source": [
    "---"
   ]
  },
  {
   "cell_type": "code",
   "execution_count": 18,
   "id": "56305ab7-920c-4c9e-b650-65713bd351b4",
   "metadata": {},
   "outputs": [
    {
     "data": {
      "text/plain": [
       "array([[1, 8, 4, 1],\n",
       "       [3, 6, 5, 3],\n",
       "       [9, 6, 9, 1]])"
      ]
     },
     "execution_count": 18,
     "metadata": {},
     "output_type": "execute_result"
    }
   ],
   "source": [
    "ar2"
   ]
  },
  {
   "cell_type": "code",
   "execution_count": 19,
   "id": "94820216-b25a-4fae-bbf1-ff5d93d8cd58",
   "metadata": {},
   "outputs": [],
   "source": [
    "# specift the dimension you want to query on"
   ]
  },
  {
   "cell_type": "code",
   "execution_count": 20,
   "id": "590d2e33-2cf4-4d9e-945f-ab0d59defb44",
   "metadata": {},
   "outputs": [
    {
     "data": {
      "text/plain": [
       "array([[8, 4],\n",
       "       [6, 5],\n",
       "       [6, 9]])"
      ]
     },
     "execution_count": 20,
     "metadata": {},
     "output_type": "execute_result"
    }
   ],
   "source": [
    "ar2[:, 1:3]"
   ]
  },
  {
   "cell_type": "code",
   "execution_count": 21,
   "id": "63c7cf57-7007-4049-90f7-0937ca830451",
   "metadata": {},
   "outputs": [
    {
     "data": {
      "text/plain": [
       "array([[3, 6, 5, 3],\n",
       "       [9, 6, 9, 1]])"
      ]
     },
     "execution_count": 21,
     "metadata": {},
     "output_type": "execute_result"
    }
   ],
   "source": [
    "ar2[1:3, :]"
   ]
  },
  {
   "cell_type": "code",
   "execution_count": 22,
   "id": "28ec741d-4465-4010-b426-5fd21a0bcf93",
   "metadata": {},
   "outputs": [
    {
     "data": {
      "text/plain": [
       "array([[1, 8, 4, 1],\n",
       "       [9, 6, 9, 1]])"
      ]
     },
     "execution_count": 22,
     "metadata": {},
     "output_type": "execute_result"
    }
   ],
   "source": [
    "ar2[::2]"
   ]
  },
  {
   "cell_type": "code",
   "execution_count": 23,
   "id": "f36087ff-4dca-4f27-a598-48f95ca4fb8f",
   "metadata": {},
   "outputs": [
    {
     "data": {
      "text/plain": [
       "array([[1, 4],\n",
       "       [9, 9]])"
      ]
     },
     "execution_count": 23,
     "metadata": {},
     "output_type": "execute_result"
    }
   ],
   "source": [
    "ar2[::2, ::2]"
   ]
  },
  {
   "cell_type": "code",
   "execution_count": 24,
   "id": "41fa91ba-8665-4305-a3c7-33f71647b297",
   "metadata": {},
   "outputs": [
    {
     "data": {
      "text/plain": [
       "array([[6]])"
      ]
     },
     "execution_count": 24,
     "metadata": {},
     "output_type": "execute_result"
    }
   ],
   "source": [
    "ar2[1:3:2, 1:3:2]"
   ]
  },
  {
   "cell_type": "code",
   "execution_count": 25,
   "id": "382e1a90-cc4c-4955-b37e-bb05679198c4",
   "metadata": {},
   "outputs": [
    {
     "data": {
      "text/plain": [
       "array([[6, 3]])"
      ]
     },
     "execution_count": 25,
     "metadata": {},
     "output_type": "execute_result"
    }
   ],
   "source": [
    "ar2[1:3:2, 1:4:2]"
   ]
  },
  {
   "cell_type": "markdown",
   "id": "fdd9bbd6-c4a1-457c-b7c7-cb215f101191",
   "metadata": {},
   "source": [
    "---"
   ]
  },
  {
   "cell_type": "markdown",
   "id": "4122ec41-5005-42b3-88e3-86ec7281003b",
   "metadata": {},
   "source": [
    "# Combining Arrays"
   ]
  },
  {
   "cell_type": "code",
   "execution_count": 26,
   "id": "188db100-6904-4594-a131-62de320718ae",
   "metadata": {},
   "outputs": [
    {
     "data": {
      "text/plain": [
       "array([ 0,  1,  2,  3,  4,  5,  6,  7,  8,  9, 10, 11])"
      ]
     },
     "execution_count": 26,
     "metadata": {},
     "output_type": "execute_result"
    }
   ],
   "source": [
    "ar"
   ]
  },
  {
   "cell_type": "code",
   "execution_count": 27,
   "id": "3a586ef5-6a09-428e-a0e2-183d2602defb",
   "metadata": {},
   "outputs": [
    {
     "data": {
      "text/plain": [
       "array([[1, 8, 4, 1],\n",
       "       [3, 6, 5, 3],\n",
       "       [9, 6, 9, 1]])"
      ]
     },
     "execution_count": 27,
     "metadata": {},
     "output_type": "execute_result"
    }
   ],
   "source": [
    "ar2"
   ]
  },
  {
   "cell_type": "code",
   "execution_count": 28,
   "id": "4f5194c9-5cd0-438a-a51a-ff0bfd52b016",
   "metadata": {},
   "outputs": [],
   "source": [
    "# stack them vertically as well as horizontally"
   ]
  },
  {
   "cell_type": "code",
   "execution_count": 29,
   "id": "fa6a6033-8dc3-4f64-a7e6-70af4e6336be",
   "metadata": {},
   "outputs": [
    {
     "data": {
      "text/plain": [
       "array([1, 8, 4, 1, 3, 6, 5, 3, 9, 6, 9, 1])"
      ]
     },
     "execution_count": 29,
     "metadata": {},
     "output_type": "execute_result"
    }
   ],
   "source": [
    "ar2.flatten()"
   ]
  },
  {
   "cell_type": "code",
   "execution_count": 31,
   "id": "28045138-3739-4144-8e6f-c0e7694cb9a8",
   "metadata": {},
   "outputs": [
    {
     "data": {
      "text/plain": [
       "array([[ 0,  1,  2,  3,  4,  5,  6,  7,  8,  9, 10, 11],\n",
       "       [ 1,  8,  4,  1,  3,  6,  5,  3,  9,  6,  9,  1]])"
      ]
     },
     "execution_count": 31,
     "metadata": {},
     "output_type": "execute_result"
    }
   ],
   "source": [
    "np.vstack([ar, ar2.flatten()])"
   ]
  },
  {
   "cell_type": "code",
   "execution_count": 32,
   "id": "2243ecb5-d659-442a-96d6-469901c28865",
   "metadata": {},
   "outputs": [
    {
     "data": {
      "text/plain": [
       "array([[1, 8, 4, 1],\n",
       "       [3, 6, 5, 3],\n",
       "       [9, 6, 9, 1]])"
      ]
     },
     "execution_count": 32,
     "metadata": {},
     "output_type": "execute_result"
    }
   ],
   "source": [
    "ar2"
   ]
  },
  {
   "cell_type": "code",
   "execution_count": 33,
   "id": "dc1f9fe5-db42-4199-8a29-c01ef3a15683",
   "metadata": {},
   "outputs": [],
   "source": [
    "# we did not modify the original array"
   ]
  },
  {
   "cell_type": "code",
   "execution_count": 36,
   "id": "8b05cb79-8fcd-4413-9cd5-773bde186e15",
   "metadata": {},
   "outputs": [
    {
     "data": {
      "text/plain": [
       "array([[ 0,  1,  2,  3],\n",
       "       [ 4,  5,  6,  7],\n",
       "       [ 8,  9, 10, 11]])"
      ]
     },
     "execution_count": 36,
     "metadata": {},
     "output_type": "execute_result"
    }
   ],
   "source": [
    "ar.reshape((3,4))"
   ]
  },
  {
   "cell_type": "code",
   "execution_count": 38,
   "id": "df980c50-2a77-4a94-8bff-c41ebdcf6565",
   "metadata": {},
   "outputs": [
    {
     "data": {
      "text/plain": [
       "array([[ 0,  1,  2,  3],\n",
       "       [ 4,  5,  6,  7],\n",
       "       [ 8,  9, 10, 11],\n",
       "       [ 1,  8,  4,  1],\n",
       "       [ 3,  6,  5,  3],\n",
       "       [ 9,  6,  9,  1]])"
      ]
     },
     "execution_count": 38,
     "metadata": {},
     "output_type": "execute_result"
    }
   ],
   "source": [
    "np.vstack((ar.reshape((3,4)), ar2))"
   ]
  },
  {
   "cell_type": "code",
   "execution_count": 39,
   "id": "68463c03-529c-4270-913a-5a470ee18936",
   "metadata": {},
   "outputs": [],
   "source": [
    "# stack horizontally"
   ]
  },
  {
   "cell_type": "code",
   "execution_count": 40,
   "id": "1a4fe7f2-aeed-4164-aeeb-75604ea9f850",
   "metadata": {},
   "outputs": [
    {
     "data": {
      "text/plain": [
       "array([ 0,  1,  2,  3,  4,  5,  6,  7,  8,  9, 10, 11,  1,  8,  4,  1,  3,\n",
       "        6,  5,  3,  9,  6,  9,  1])"
      ]
     },
     "execution_count": 40,
     "metadata": {},
     "output_type": "execute_result"
    }
   ],
   "source": [
    "np.hstack((ar, ar2.flatten()))"
   ]
  },
  {
   "cell_type": "code",
   "execution_count": 41,
   "id": "970259c7-a014-479c-ba5b-c75d0d080ed4",
   "metadata": {},
   "outputs": [
    {
     "data": {
      "text/plain": [
       "array([ 0,  1,  2,  3,  4,  5,  6,  7,  8,  9, 10, 11,  1,  8,  4,  1,  3,\n",
       "        6,  5,  3,  9,  6,  9,  1,  0,  1,  2,  3,  4,  5,  6,  7,  8,  9,\n",
       "       10, 11])"
      ]
     },
     "execution_count": 41,
     "metadata": {},
     "output_type": "execute_result"
    }
   ],
   "source": [
    "np.hstack((ar, ar2.flatten(),ar))"
   ]
  },
  {
   "cell_type": "code",
   "execution_count": 42,
   "id": "e240f6a3-be95-4ca7-bc12-dfbf443f401a",
   "metadata": {},
   "outputs": [
    {
     "data": {
      "text/plain": [
       "array([[ 0,  1,  2,  3,  1,  8,  4,  1],\n",
       "       [ 4,  5,  6,  7,  3,  6,  5,  3],\n",
       "       [ 8,  9, 10, 11,  9,  6,  9,  1]])"
      ]
     },
     "execution_count": 42,
     "metadata": {},
     "output_type": "execute_result"
    }
   ],
   "source": [
    "np.hstack((ar.reshape((3,4)), ar2))"
   ]
  },
  {
   "cell_type": "markdown",
   "id": "2e4b8ac5-e54f-46b6-83d4-2dd20288cf99",
   "metadata": {},
   "source": [
    "---"
   ]
  },
  {
   "cell_type": "code",
   "execution_count": 43,
   "id": "24c81c6d-7dc5-4e7c-a0e0-d915bb58516f",
   "metadata": {},
   "outputs": [
    {
     "name": "stderr",
     "output_type": "stream",
     "text": [
      "/var/folders/_5/mw87wr4s5p902pvj5xm4sqnw0000gn/T/ipykernel_96648/1513872006.py:1: FutureWarning: arrays to stack must be passed as a \"sequence\" type such as list or tuple. Support for non-sequence iterables such as generators is deprecated as of NumPy 1.16 and will raise an error in the future.\n",
      "  np.vstack((ar for x in range(10)))\n"
     ]
    },
    {
     "data": {
      "text/plain": [
       "array([[ 0,  1,  2,  3,  4,  5,  6,  7,  8,  9, 10, 11],\n",
       "       [ 0,  1,  2,  3,  4,  5,  6,  7,  8,  9, 10, 11],\n",
       "       [ 0,  1,  2,  3,  4,  5,  6,  7,  8,  9, 10, 11],\n",
       "       [ 0,  1,  2,  3,  4,  5,  6,  7,  8,  9, 10, 11],\n",
       "       [ 0,  1,  2,  3,  4,  5,  6,  7,  8,  9, 10, 11],\n",
       "       [ 0,  1,  2,  3,  4,  5,  6,  7,  8,  9, 10, 11],\n",
       "       [ 0,  1,  2,  3,  4,  5,  6,  7,  8,  9, 10, 11],\n",
       "       [ 0,  1,  2,  3,  4,  5,  6,  7,  8,  9, 10, 11],\n",
       "       [ 0,  1,  2,  3,  4,  5,  6,  7,  8,  9, 10, 11],\n",
       "       [ 0,  1,  2,  3,  4,  5,  6,  7,  8,  9, 10, 11]])"
      ]
     },
     "execution_count": 43,
     "metadata": {},
     "output_type": "execute_result"
    }
   ],
   "source": [
    "np.vstack((ar for x in range(10)))"
   ]
  },
  {
   "cell_type": "code",
   "execution_count": 44,
   "id": "1da23f49-571e-4770-aba6-9e6f06e2adbf",
   "metadata": {},
   "outputs": [
    {
     "data": {
      "text/plain": [
       "<generator object <genexpr> at 0x7f81e0ad2970>"
      ]
     },
     "execution_count": 44,
     "metadata": {},
     "output_type": "execute_result"
    }
   ],
   "source": [
    "(ar for x in range(10))"
   ]
  },
  {
   "cell_type": "markdown",
   "id": "1d19ede4-d942-4591-a393-fe8f4582801c",
   "metadata": {},
   "source": [
    "---"
   ]
  },
  {
   "cell_type": "markdown",
   "id": "95520a30-3017-4e87-8889-31c000a3f167",
   "metadata": {},
   "source": [
    "## concatanate"
   ]
  },
  {
   "cell_type": "code",
   "execution_count": 45,
   "id": "4a1fad6f-f605-48d4-96d6-6a9c17821d77",
   "metadata": {},
   "outputs": [
    {
     "data": {
      "text/plain": [
       "array([ 0,  1,  2,  3,  4,  5,  6,  7,  8,  9, 10, 11,  1,  8,  4,  1,  3,\n",
       "        6,  5,  3,  9,  6,  9,  1])"
      ]
     },
     "execution_count": 45,
     "metadata": {},
     "output_type": "execute_result"
    }
   ],
   "source": [
    "np.concatenate((ar, ar2.flatten()))"
   ]
  },
  {
   "cell_type": "code",
   "execution_count": 48,
   "id": "b8005fa1-8d60-4505-a76a-ef8a9ab4e103",
   "metadata": {},
   "outputs": [
    {
     "data": {
      "text/plain": [
       "array([ 0,  1,  2,  3,  4,  5,  6,  7,  8,  9, 10, 11,  1,  8,  4,  1,  3,\n",
       "        6,  5,  3,  9,  6,  9,  1])"
      ]
     },
     "execution_count": 48,
     "metadata": {},
     "output_type": "execute_result"
    }
   ],
   "source": [
    "np.concatenate((ar, ar2.flatten()), axis = 0) \n",
    "\n",
    "# we cannot vertically stack them -- they are 1-dimensional arrays"
   ]
  },
  {
   "cell_type": "code",
   "execution_count": 49,
   "id": "372d0475-babe-4352-a704-8ac8371a9abe",
   "metadata": {},
   "outputs": [],
   "source": [
    "# numpy will not modify teh original dimentions of the array\n",
    "\n",
    "# all inputs should ahve the same number of dimensions"
   ]
  },
  {
   "cell_type": "code",
   "execution_count": 51,
   "id": "d6deef1d-def1-439c-a986-26ed759485cd",
   "metadata": {},
   "outputs": [
    {
     "data": {
      "text/plain": [
       "array([[ 0,  1,  2,  3,  4,  5,  6,  7,  8,  9, 10, 11,  1,  8,  4,  1,\n",
       "         3,  6,  5,  3,  9,  6,  9,  1]])"
      ]
     },
     "execution_count": 51,
     "metadata": {},
     "output_type": "execute_result"
    }
   ],
   "source": [
    "np.concatenate(([ar], [ar2.flatten()]), axis = 1) "
   ]
  },
  {
   "cell_type": "code",
   "execution_count": 52,
   "id": "d140a9ee-1ced-4e8d-ba1a-7a4182694004",
   "metadata": {},
   "outputs": [
    {
     "data": {
      "text/plain": [
       "array([[ 0,  1,  2,  3,  4,  5,  6,  7,  8,  9, 10, 11],\n",
       "       [ 1,  8,  4,  1,  3,  6,  5,  3,  9,  6,  9,  1]])"
      ]
     },
     "execution_count": 52,
     "metadata": {},
     "output_type": "execute_result"
    }
   ],
   "source": [
    "np.concatenate(([ar], [ar2.flatten()]), axis = 0) "
   ]
  },
  {
   "cell_type": "code",
   "execution_count": 53,
   "id": "7b369c2b-44c7-4e1d-9b54-525c882e6849",
   "metadata": {},
   "outputs": [],
   "source": [
    "# this is now vertically stacked"
   ]
  },
  {
   "cell_type": "code",
   "execution_count": 54,
   "id": "18c61ce8-cada-4e1e-8ff4-e0508eda1e24",
   "metadata": {},
   "outputs": [
    {
     "data": {
      "text/plain": [
       "array([[1, 8, 4, 1],\n",
       "       [3, 6, 5, 3],\n",
       "       [9, 6, 9, 1],\n",
       "       [1, 8, 4, 1],\n",
       "       [3, 6, 5, 3],\n",
       "       [9, 6, 9, 1]])"
      ]
     },
     "execution_count": 54,
     "metadata": {},
     "output_type": "execute_result"
    }
   ],
   "source": [
    "np.concatenate((ar2, ar2))"
   ]
  },
  {
   "cell_type": "code",
   "execution_count": 55,
   "id": "c164fe40-3a92-4f72-b6c4-84cc62acba5d",
   "metadata": {},
   "outputs": [
    {
     "data": {
      "text/plain": [
       "array([[1, 8, 4, 1, 1, 8, 4, 1],\n",
       "       [3, 6, 5, 3, 3, 6, 5, 3],\n",
       "       [9, 6, 9, 1, 9, 6, 9, 1]])"
      ]
     },
     "execution_count": 55,
     "metadata": {},
     "output_type": "execute_result"
    }
   ],
   "source": [
    "np.concatenate((ar2, ar2), axis=1)"
   ]
  },
  {
   "cell_type": "markdown",
   "id": "71d9adfd-e672-4675-b4c2-baecbbaf97da",
   "metadata": {},
   "source": [
    "---"
   ]
  },
  {
   "cell_type": "markdown",
   "id": "94ed5a9a-f6dc-47c8-8efe-52b74757ab7f",
   "metadata": {},
   "source": [
    "## DEPTH STACKING"
   ]
  },
  {
   "cell_type": "code",
   "execution_count": 56,
   "id": "2fd6845f-7d8a-4e5e-8b4d-81760644238b",
   "metadata": {},
   "outputs": [],
   "source": [
    "# putting one behind the other on a vertical axies\n",
    "# same can be done iwth the concatanate command as well"
   ]
  },
  {
   "cell_type": "code",
   "execution_count": 57,
   "id": "9dd89777-14ad-4354-82fa-e2195ebc884f",
   "metadata": {},
   "outputs": [
    {
     "data": {
      "text/plain": [
       "array([[[1, 1],\n",
       "        [8, 8],\n",
       "        [4, 4],\n",
       "        [1, 1]],\n",
       "\n",
       "       [[3, 3],\n",
       "        [6, 6],\n",
       "        [5, 5],\n",
       "        [3, 3]],\n",
       "\n",
       "       [[9, 9],\n",
       "        [6, 6],\n",
       "        [9, 9],\n",
       "        [1, 1]]])"
      ]
     },
     "execution_count": 57,
     "metadata": {},
     "output_type": "execute_result"
    }
   ],
   "source": [
    "np.dstack((ar2, ar2))"
   ]
  },
  {
   "cell_type": "markdown",
   "id": "0eba082d-c9f2-4c06-87ab-35be140c9118",
   "metadata": {},
   "source": [
    "---"
   ]
  },
  {
   "cell_type": "markdown",
   "id": "ae66634f-43d3-4f51-85c6-597a8e8ec04a",
   "metadata": {},
   "source": [
    "## SPLITTING"
   ]
  },
  {
   "cell_type": "code",
   "execution_count": 58,
   "id": "bfc8512b-90c7-4048-a649-db2ef4142d6f",
   "metadata": {},
   "outputs": [],
   "source": [
    "ar3 = np.dstack((ar2, ar2))"
   ]
  },
  {
   "cell_type": "code",
   "execution_count": 60,
   "id": "2d363f0d-a809-4f79-9d2a-a00e89885bd1",
   "metadata": {},
   "outputs": [
    {
     "data": {
      "text/plain": [
       "array([[[1, 1],\n",
       "        [8, 8],\n",
       "        [4, 4],\n",
       "        [1, 1]],\n",
       "\n",
       "       [[3, 3],\n",
       "        [6, 6],\n",
       "        [5, 5],\n",
       "        [3, 3]],\n",
       "\n",
       "       [[9, 9],\n",
       "        [6, 6],\n",
       "        [9, 9],\n",
       "        [1, 1]]])"
      ]
     },
     "execution_count": 60,
     "metadata": {},
     "output_type": "execute_result"
    }
   ],
   "source": [
    "ar3"
   ]
  },
  {
   "cell_type": "code",
   "execution_count": 62,
   "id": "fdcbc13b-ffe6-4e14-bf34-4be6304ee8ef",
   "metadata": {},
   "outputs": [
    {
     "data": {
      "text/plain": [
       "[array([[[1],\n",
       "         [8],\n",
       "         [4],\n",
       "         [1]],\n",
       " \n",
       "        [[3],\n",
       "         [6],\n",
       "         [5],\n",
       "         [3]],\n",
       " \n",
       "        [[9],\n",
       "         [6],\n",
       "         [9],\n",
       "         [1]]]),\n",
       " array([[[1],\n",
       "         [8],\n",
       "         [4],\n",
       "         [1]],\n",
       " \n",
       "        [[3],\n",
       "         [6],\n",
       "         [5],\n",
       "         [3]],\n",
       " \n",
       "        [[9],\n",
       "         [6],\n",
       "         [9],\n",
       "         [1]]])]"
      ]
     },
     "execution_count": 62,
     "metadata": {},
     "output_type": "execute_result"
    }
   ],
   "source": [
    "np.dsplit(ar3, 2)\n",
    "\n",
    "# reduce dimensions by 1"
   ]
  },
  {
   "cell_type": "code",
   "execution_count": 63,
   "id": "7875aecb-548b-489e-b48c-151dd980b4de",
   "metadata": {},
   "outputs": [
    {
     "data": {
      "text/plain": [
       "array([[[1],\n",
       "        [8],\n",
       "        [4],\n",
       "        [1]],\n",
       "\n",
       "       [[3],\n",
       "        [6],\n",
       "        [5],\n",
       "        [3]],\n",
       "\n",
       "       [[9],\n",
       "        [6],\n",
       "        [9],\n",
       "        [1]]])"
      ]
     },
     "execution_count": 63,
     "metadata": {},
     "output_type": "execute_result"
    }
   ],
   "source": [
    "ar21, ar22 = np.dsplit(ar3, 2)\n",
    "\n",
    "ar21"
   ]
  },
  {
   "cell_type": "code",
   "execution_count": 64,
   "id": "82eed822-9bb6-4010-a5cf-7b67ab3e68f1",
   "metadata": {},
   "outputs": [
    {
     "data": {
      "text/plain": [
       "array([[1, 8, 4, 1],\n",
       "       [3, 6, 5, 3],\n",
       "       [9, 6, 9, 1]])"
      ]
     },
     "execution_count": 64,
     "metadata": {},
     "output_type": "execute_result"
    }
   ],
   "source": [
    "ar21, ar22 = np.dsplit(ar3, 2)\n",
    "\n",
    "ar21.reshape(3,4)"
   ]
  },
  {
   "cell_type": "markdown",
   "id": "af23f820-c199-403f-99e3-062886f9f57b",
   "metadata": {},
   "source": [
    "---"
   ]
  },
  {
   "cell_type": "markdown",
   "id": "ea36ccba-3302-4f41-b87d-f5e9ed540e86",
   "metadata": {},
   "source": [
    "## SQUEEZE"
   ]
  },
  {
   "cell_type": "code",
   "execution_count": 65,
   "id": "618a4336-4554-4fba-a8a3-f854a37e3a80",
   "metadata": {},
   "outputs": [
    {
     "data": {
      "text/plain": [
       "[array([[[1],\n",
       "         [8],\n",
       "         [4],\n",
       "         [1]],\n",
       " \n",
       "        [[3],\n",
       "         [6],\n",
       "         [5],\n",
       "         [3]],\n",
       " \n",
       "        [[9],\n",
       "         [6],\n",
       "         [9],\n",
       "         [1]]]),\n",
       " array([[[1],\n",
       "         [8],\n",
       "         [4],\n",
       "         [1]],\n",
       " \n",
       "        [[3],\n",
       "         [6],\n",
       "         [5],\n",
       "         [3]],\n",
       " \n",
       "        [[9],\n",
       "         [6],\n",
       "         [9],\n",
       "         [1]]])]"
      ]
     },
     "execution_count": 65,
     "metadata": {},
     "output_type": "execute_result"
    }
   ],
   "source": [
    "np.dsplit(ar3, 2)"
   ]
  },
  {
   "cell_type": "code",
   "execution_count": 66,
   "id": "8996b25c-c384-4b35-9586-9da4af8959ba",
   "metadata": {},
   "outputs": [
    {
     "data": {
      "text/plain": [
       "array([[[1],\n",
       "        [8],\n",
       "        [4],\n",
       "        [1]],\n",
       "\n",
       "       [[3],\n",
       "        [6],\n",
       "        [5],\n",
       "        [3]],\n",
       "\n",
       "       [[9],\n",
       "        [6],\n",
       "        [9],\n",
       "        [1]]])"
      ]
     },
     "execution_count": 66,
     "metadata": {},
     "output_type": "execute_result"
    }
   ],
   "source": [
    "np.dsplit(ar3, 2)[0]"
   ]
  },
  {
   "cell_type": "code",
   "execution_count": 69,
   "id": "192866f2-e40f-45b1-8e9c-16a2c67ae087",
   "metadata": {},
   "outputs": [
    {
     "data": {
      "text/plain": [
       "array([[1, 8, 4, 1],\n",
       "       [3, 6, 5, 3],\n",
       "       [9, 6, 9, 1]])"
      ]
     },
     "execution_count": 69,
     "metadata": {},
     "output_type": "execute_result"
    }
   ],
   "source": [
    "np.squeeze(np.dsplit(ar3, 2)[0])"
   ]
  },
  {
   "cell_type": "markdown",
   "id": "d66380b4-7b38-41a2-a178-01b6531dffe3",
   "metadata": {},
   "source": [
    "---"
   ]
  },
  {
   "cell_type": "markdown",
   "id": "b248f30b-4df1-448c-b57b-996d0ae37dd5",
   "metadata": {},
   "source": [
    "## HSPLIT and VSPLIT"
   ]
  },
  {
   "cell_type": "code",
   "execution_count": 70,
   "id": "b1bf9b0a-6c13-4490-99ac-1927a5c2dedf",
   "metadata": {},
   "outputs": [
    {
     "data": {
      "text/plain": [
       "array([[1, 8, 4, 1],\n",
       "       [3, 6, 5, 3],\n",
       "       [9, 6, 9, 1]])"
      ]
     },
     "execution_count": 70,
     "metadata": {},
     "output_type": "execute_result"
    }
   ],
   "source": [
    "ar2"
   ]
  },
  {
   "cell_type": "code",
   "execution_count": 72,
   "id": "000b1b01-ffcc-4407-bfbe-bd0250162700",
   "metadata": {},
   "outputs": [
    {
     "data": {
      "text/plain": [
       "[array([[[1, 1],\n",
       "         [8, 8]],\n",
       " \n",
       "        [[3, 3],\n",
       "         [6, 6]],\n",
       " \n",
       "        [[9, 9],\n",
       "         [6, 6]]]),\n",
       " array([[[4, 4],\n",
       "         [1, 1]],\n",
       " \n",
       "        [[5, 5],\n",
       "         [3, 3]],\n",
       " \n",
       "        [[9, 9],\n",
       "         [1, 1]]])]"
      ]
     },
     "execution_count": 72,
     "metadata": {},
     "output_type": "execute_result"
    }
   ],
   "source": [
    "np.hsplit(ar3, 2)"
   ]
  },
  {
   "cell_type": "code",
   "execution_count": 73,
   "id": "cdce9e67-a614-4f55-aaff-8f7e7a9491d8",
   "metadata": {},
   "outputs": [
    {
     "data": {
      "text/plain": [
       "[array([[1, 8],\n",
       "        [3, 6],\n",
       "        [9, 6]]),\n",
       " array([[4, 1],\n",
       "        [5, 3],\n",
       "        [9, 1]])]"
      ]
     },
     "execution_count": 73,
     "metadata": {},
     "output_type": "execute_result"
    }
   ],
   "source": [
    "np.hsplit(ar2, 2)"
   ]
  },
  {
   "cell_type": "code",
   "execution_count": 74,
   "id": "473c4c6d-c4c3-4d89-9f80-c87bbe31c127",
   "metadata": {},
   "outputs": [
    {
     "data": {
      "text/plain": [
       "[array([[1],\n",
       "        [3],\n",
       "        [9]]),\n",
       " array([[8],\n",
       "        [6],\n",
       "        [6]]),\n",
       " array([[4],\n",
       "        [5],\n",
       "        [9]]),\n",
       " array([[1],\n",
       "        [3],\n",
       "        [1]])]"
      ]
     },
     "execution_count": 74,
     "metadata": {},
     "output_type": "execute_result"
    }
   ],
   "source": [
    "np.hsplit(ar2, 4)"
   ]
  },
  {
   "cell_type": "code",
   "execution_count": 75,
   "id": "37acf3e8-92d8-4380-90d1-91e3b806a6b5",
   "metadata": {},
   "outputs": [
    {
     "ename": "ValueError",
     "evalue": "array split does not result in an equal division",
     "output_type": "error",
     "traceback": [
      "\u001b[0;31m---------------------------------------------------------------------------\u001b[0m",
      "\u001b[0;31mValueError\u001b[0m                                Traceback (most recent call last)",
      "Input \u001b[0;32mIn [75]\u001b[0m, in \u001b[0;36m<cell line: 1>\u001b[0;34m()\u001b[0m\n\u001b[0;32m----> 1\u001b[0m \u001b[43mnp\u001b[49m\u001b[38;5;241;43m.\u001b[39;49m\u001b[43mhsplit\u001b[49m\u001b[43m(\u001b[49m\u001b[43mar2\u001b[49m\u001b[43m,\u001b[49m\u001b[43m \u001b[49m\u001b[38;5;241;43m3\u001b[39;49m\u001b[43m)\u001b[49m\n",
      "File \u001b[0;32m<__array_function__ internals>:5\u001b[0m, in \u001b[0;36mhsplit\u001b[0;34m(*args, **kwargs)\u001b[0m\n",
      "File \u001b[0;32m~/opt/anaconda3/lib/python3.9/site-packages/numpy/lib/shape_base.py:940\u001b[0m, in \u001b[0;36mhsplit\u001b[0;34m(ary, indices_or_sections)\u001b[0m\n\u001b[1;32m    938\u001b[0m     \u001b[38;5;28;01mraise\u001b[39;00m \u001b[38;5;167;01mValueError\u001b[39;00m(\u001b[38;5;124m'\u001b[39m\u001b[38;5;124mhsplit only works on arrays of 1 or more dimensions\u001b[39m\u001b[38;5;124m'\u001b[39m)\n\u001b[1;32m    939\u001b[0m \u001b[38;5;28;01mif\u001b[39;00m ary\u001b[38;5;241m.\u001b[39mndim \u001b[38;5;241m>\u001b[39m \u001b[38;5;241m1\u001b[39m:\n\u001b[0;32m--> 940\u001b[0m     \u001b[38;5;28;01mreturn\u001b[39;00m \u001b[43msplit\u001b[49m\u001b[43m(\u001b[49m\u001b[43mary\u001b[49m\u001b[43m,\u001b[49m\u001b[43m \u001b[49m\u001b[43mindices_or_sections\u001b[49m\u001b[43m,\u001b[49m\u001b[43m \u001b[49m\u001b[38;5;241;43m1\u001b[39;49m\u001b[43m)\u001b[49m\n\u001b[1;32m    941\u001b[0m \u001b[38;5;28;01melse\u001b[39;00m:\n\u001b[1;32m    942\u001b[0m     \u001b[38;5;28;01mreturn\u001b[39;00m split(ary, indices_or_sections, \u001b[38;5;241m0\u001b[39m)\n",
      "File \u001b[0;32m<__array_function__ internals>:5\u001b[0m, in \u001b[0;36msplit\u001b[0;34m(*args, **kwargs)\u001b[0m\n",
      "File \u001b[0;32m~/opt/anaconda3/lib/python3.9/site-packages/numpy/lib/shape_base.py:872\u001b[0m, in \u001b[0;36msplit\u001b[0;34m(ary, indices_or_sections, axis)\u001b[0m\n\u001b[1;32m    870\u001b[0m     N \u001b[38;5;241m=\u001b[39m ary\u001b[38;5;241m.\u001b[39mshape[axis]\n\u001b[1;32m    871\u001b[0m     \u001b[38;5;28;01mif\u001b[39;00m N \u001b[38;5;241m%\u001b[39m sections:\n\u001b[0;32m--> 872\u001b[0m         \u001b[38;5;28;01mraise\u001b[39;00m \u001b[38;5;167;01mValueError\u001b[39;00m(\n\u001b[1;32m    873\u001b[0m             \u001b[38;5;124m'\u001b[39m\u001b[38;5;124marray split does not result in an equal division\u001b[39m\u001b[38;5;124m'\u001b[39m) \u001b[38;5;28;01mfrom\u001b[39;00m \u001b[38;5;28mNone\u001b[39m\n\u001b[1;32m    874\u001b[0m \u001b[38;5;28;01mreturn\u001b[39;00m array_split(ary, indices_or_sections, axis)\n",
      "\u001b[0;31mValueError\u001b[0m: array split does not result in an equal division"
     ]
    }
   ],
   "source": [
    "np.hsplit(ar2, 3)"
   ]
  },
  {
   "cell_type": "code",
   "execution_count": 76,
   "id": "ec313b36-e8bd-4775-bf84-ecf576eeb4a5",
   "metadata": {},
   "outputs": [],
   "source": [
    "# however this will work with transpose"
   ]
  },
  {
   "cell_type": "code",
   "execution_count": 77,
   "id": "f9bb660c-4e7a-46de-a28a-facdfa207c03",
   "metadata": {},
   "outputs": [
    {
     "data": {
      "text/plain": [
       "[array([[1],\n",
       "        [8],\n",
       "        [4],\n",
       "        [1]]),\n",
       " array([[3],\n",
       "        [6],\n",
       "        [5],\n",
       "        [3]]),\n",
       " array([[9],\n",
       "        [6],\n",
       "        [9],\n",
       "        [1]])]"
      ]
     },
     "execution_count": 77,
     "metadata": {},
     "output_type": "execute_result"
    }
   ],
   "source": [
    "np.hsplit(ar2.T, 3)"
   ]
  },
  {
   "cell_type": "code",
   "execution_count": 78,
   "id": "82453b3c-a7c8-4b9e-b9c1-e4717c3cbf2e",
   "metadata": {},
   "outputs": [
    {
     "data": {
      "text/plain": [
       "array([[1, 8, 4, 1],\n",
       "       [3, 6, 5, 3],\n",
       "       [9, 6, 9, 1]])"
      ]
     },
     "execution_count": 78,
     "metadata": {},
     "output_type": "execute_result"
    }
   ],
   "source": [
    "ar2"
   ]
  },
  {
   "cell_type": "code",
   "execution_count": 79,
   "id": "392b8e7a-dafd-44a4-8a37-503fccc569a6",
   "metadata": {},
   "outputs": [
    {
     "data": {
      "text/plain": [
       "[array([[1, 8],\n",
       "        [3, 6],\n",
       "        [9, 6]]),\n",
       " array([[4, 1],\n",
       "        [5, 3],\n",
       "        [9, 1]])]"
      ]
     },
     "execution_count": 79,
     "metadata": {},
     "output_type": "execute_result"
    }
   ],
   "source": [
    "np.hsplit(ar2, 2)"
   ]
  },
  {
   "cell_type": "code",
   "execution_count": 80,
   "id": "39057d5c-bcc8-4b03-8515-de870f983c69",
   "metadata": {},
   "outputs": [
    {
     "ename": "ValueError",
     "evalue": "array split does not result in an equal division",
     "output_type": "error",
     "traceback": [
      "\u001b[0;31m---------------------------------------------------------------------------\u001b[0m",
      "\u001b[0;31mValueError\u001b[0m                                Traceback (most recent call last)",
      "Input \u001b[0;32mIn [80]\u001b[0m, in \u001b[0;36m<cell line: 1>\u001b[0;34m()\u001b[0m\n\u001b[0;32m----> 1\u001b[0m \u001b[43mnp\u001b[49m\u001b[38;5;241;43m.\u001b[39;49m\u001b[43mvsplit\u001b[49m\u001b[43m(\u001b[49m\u001b[43mar2\u001b[49m\u001b[43m,\u001b[49m\u001b[43m \u001b[49m\u001b[38;5;241;43m2\u001b[39;49m\u001b[43m)\u001b[49m\n",
      "File \u001b[0;32m<__array_function__ internals>:5\u001b[0m, in \u001b[0;36mvsplit\u001b[0;34m(*args, **kwargs)\u001b[0m\n",
      "File \u001b[0;32m~/opt/anaconda3/lib/python3.9/site-packages/numpy/lib/shape_base.py:991\u001b[0m, in \u001b[0;36mvsplit\u001b[0;34m(ary, indices_or_sections)\u001b[0m\n\u001b[1;32m    989\u001b[0m \u001b[38;5;28;01mif\u001b[39;00m _nx\u001b[38;5;241m.\u001b[39mndim(ary) \u001b[38;5;241m<\u001b[39m \u001b[38;5;241m2\u001b[39m:\n\u001b[1;32m    990\u001b[0m     \u001b[38;5;28;01mraise\u001b[39;00m \u001b[38;5;167;01mValueError\u001b[39;00m(\u001b[38;5;124m'\u001b[39m\u001b[38;5;124mvsplit only works on arrays of 2 or more dimensions\u001b[39m\u001b[38;5;124m'\u001b[39m)\n\u001b[0;32m--> 991\u001b[0m \u001b[38;5;28;01mreturn\u001b[39;00m \u001b[43msplit\u001b[49m\u001b[43m(\u001b[49m\u001b[43mary\u001b[49m\u001b[43m,\u001b[49m\u001b[43m \u001b[49m\u001b[43mindices_or_sections\u001b[49m\u001b[43m,\u001b[49m\u001b[43m \u001b[49m\u001b[38;5;241;43m0\u001b[39;49m\u001b[43m)\u001b[49m\n",
      "File \u001b[0;32m<__array_function__ internals>:5\u001b[0m, in \u001b[0;36msplit\u001b[0;34m(*args, **kwargs)\u001b[0m\n",
      "File \u001b[0;32m~/opt/anaconda3/lib/python3.9/site-packages/numpy/lib/shape_base.py:872\u001b[0m, in \u001b[0;36msplit\u001b[0;34m(ary, indices_or_sections, axis)\u001b[0m\n\u001b[1;32m    870\u001b[0m     N \u001b[38;5;241m=\u001b[39m ary\u001b[38;5;241m.\u001b[39mshape[axis]\n\u001b[1;32m    871\u001b[0m     \u001b[38;5;28;01mif\u001b[39;00m N \u001b[38;5;241m%\u001b[39m sections:\n\u001b[0;32m--> 872\u001b[0m         \u001b[38;5;28;01mraise\u001b[39;00m \u001b[38;5;167;01mValueError\u001b[39;00m(\n\u001b[1;32m    873\u001b[0m             \u001b[38;5;124m'\u001b[39m\u001b[38;5;124marray split does not result in an equal division\u001b[39m\u001b[38;5;124m'\u001b[39m) \u001b[38;5;28;01mfrom\u001b[39;00m \u001b[38;5;28mNone\u001b[39m\n\u001b[1;32m    874\u001b[0m \u001b[38;5;28;01mreturn\u001b[39;00m array_split(ary, indices_or_sections, axis)\n",
      "\u001b[0;31mValueError\u001b[0m: array split does not result in an equal division"
     ]
    }
   ],
   "source": [
    "np.vsplit(ar2, 2)"
   ]
  },
  {
   "cell_type": "code",
   "execution_count": 82,
   "id": "e57aca9e-80a4-4dc9-8844-a22044e643a7",
   "metadata": {},
   "outputs": [],
   "source": [
    "# however this will work with transpose"
   ]
  },
  {
   "cell_type": "code",
   "execution_count": 81,
   "id": "7ef04eb5-7f84-4430-bf9c-a1a7119a8b10",
   "metadata": {},
   "outputs": [
    {
     "data": {
      "text/plain": [
       "[array([[1, 3, 9],\n",
       "        [8, 6, 6]]),\n",
       " array([[4, 5, 9],\n",
       "        [1, 3, 1]])]"
      ]
     },
     "execution_count": 81,
     "metadata": {},
     "output_type": "execute_result"
    }
   ],
   "source": [
    "np.vsplit(ar2.T, 2)"
   ]
  },
  {
   "cell_type": "code",
   "execution_count": 83,
   "id": "3510ec31-09e3-49d6-816c-54da2607ed24",
   "metadata": {},
   "outputs": [
    {
     "data": {
      "text/plain": [
       "array([[1, 8, 4],\n",
       "       [1, 3, 6],\n",
       "       [5, 3, 9],\n",
       "       [6, 9, 1]])"
      ]
     },
     "execution_count": 83,
     "metadata": {},
     "output_type": "execute_result"
    }
   ],
   "source": [
    "ar2.reshape((4,3))"
   ]
  },
  {
   "cell_type": "code",
   "execution_count": 84,
   "id": "885ff731-190e-49d5-b305-50bf91355338",
   "metadata": {},
   "outputs": [
    {
     "ename": "ValueError",
     "evalue": "array split does not result in an equal division",
     "output_type": "error",
     "traceback": [
      "\u001b[0;31m---------------------------------------------------------------------------\u001b[0m",
      "\u001b[0;31mValueError\u001b[0m                                Traceback (most recent call last)",
      "Input \u001b[0;32mIn [84]\u001b[0m, in \u001b[0;36m<cell line: 1>\u001b[0;34m()\u001b[0m\n\u001b[0;32m----> 1\u001b[0m \u001b[43mnp\u001b[49m\u001b[38;5;241;43m.\u001b[39;49m\u001b[43mvsplit\u001b[49m\u001b[43m(\u001b[49m\u001b[43mar2\u001b[49m\u001b[43m,\u001b[49m\u001b[43m \u001b[49m\u001b[38;5;241;43m2\u001b[39;49m\u001b[43m)\u001b[49m\n",
      "File \u001b[0;32m<__array_function__ internals>:5\u001b[0m, in \u001b[0;36mvsplit\u001b[0;34m(*args, **kwargs)\u001b[0m\n",
      "File \u001b[0;32m~/opt/anaconda3/lib/python3.9/site-packages/numpy/lib/shape_base.py:991\u001b[0m, in \u001b[0;36mvsplit\u001b[0;34m(ary, indices_or_sections)\u001b[0m\n\u001b[1;32m    989\u001b[0m \u001b[38;5;28;01mif\u001b[39;00m _nx\u001b[38;5;241m.\u001b[39mndim(ary) \u001b[38;5;241m<\u001b[39m \u001b[38;5;241m2\u001b[39m:\n\u001b[1;32m    990\u001b[0m     \u001b[38;5;28;01mraise\u001b[39;00m \u001b[38;5;167;01mValueError\u001b[39;00m(\u001b[38;5;124m'\u001b[39m\u001b[38;5;124mvsplit only works on arrays of 2 or more dimensions\u001b[39m\u001b[38;5;124m'\u001b[39m)\n\u001b[0;32m--> 991\u001b[0m \u001b[38;5;28;01mreturn\u001b[39;00m \u001b[43msplit\u001b[49m\u001b[43m(\u001b[49m\u001b[43mary\u001b[49m\u001b[43m,\u001b[49m\u001b[43m \u001b[49m\u001b[43mindices_or_sections\u001b[49m\u001b[43m,\u001b[49m\u001b[43m \u001b[49m\u001b[38;5;241;43m0\u001b[39;49m\u001b[43m)\u001b[49m\n",
      "File \u001b[0;32m<__array_function__ internals>:5\u001b[0m, in \u001b[0;36msplit\u001b[0;34m(*args, **kwargs)\u001b[0m\n",
      "File \u001b[0;32m~/opt/anaconda3/lib/python3.9/site-packages/numpy/lib/shape_base.py:872\u001b[0m, in \u001b[0;36msplit\u001b[0;34m(ary, indices_or_sections, axis)\u001b[0m\n\u001b[1;32m    870\u001b[0m     N \u001b[38;5;241m=\u001b[39m ary\u001b[38;5;241m.\u001b[39mshape[axis]\n\u001b[1;32m    871\u001b[0m     \u001b[38;5;28;01mif\u001b[39;00m N \u001b[38;5;241m%\u001b[39m sections:\n\u001b[0;32m--> 872\u001b[0m         \u001b[38;5;28;01mraise\u001b[39;00m \u001b[38;5;167;01mValueError\u001b[39;00m(\n\u001b[1;32m    873\u001b[0m             \u001b[38;5;124m'\u001b[39m\u001b[38;5;124marray split does not result in an equal division\u001b[39m\u001b[38;5;124m'\u001b[39m) \u001b[38;5;28;01mfrom\u001b[39;00m \u001b[38;5;28mNone\u001b[39m\n\u001b[1;32m    874\u001b[0m \u001b[38;5;28;01mreturn\u001b[39;00m array_split(ary, indices_or_sections, axis)\n",
      "\u001b[0;31mValueError\u001b[0m: array split does not result in an equal division"
     ]
    }
   ],
   "source": [
    "np.vsplit(ar2, 2)"
   ]
  },
  {
   "cell_type": "code",
   "execution_count": 85,
   "id": "19e15a9c-0499-44fd-aa12-3c5d3c3ebeea",
   "metadata": {},
   "outputs": [],
   "source": [
    "# however this will work with 3"
   ]
  },
  {
   "cell_type": "code",
   "execution_count": 86,
   "id": "e4f40b9d-b312-42dd-9562-9fed056d70c9",
   "metadata": {},
   "outputs": [
    {
     "data": {
      "text/plain": [
       "[array([[1, 8, 4, 1]]), array([[3, 6, 5, 3]]), array([[9, 6, 9, 1]])]"
      ]
     },
     "execution_count": 86,
     "metadata": {},
     "output_type": "execute_result"
    }
   ],
   "source": [
    "np.vsplit(ar2, 3)"
   ]
  },
  {
   "cell_type": "markdown",
   "id": "ebe841e9-5690-4763-b0e0-b12c44377347",
   "metadata": {},
   "source": [
    "---"
   ]
  },
  {
   "cell_type": "markdown",
   "id": "09619812-eb16-4869-9c3d-a7092e9031bb",
   "metadata": {},
   "source": [
    "## also look into the dedicated matrix type in np"
   ]
  },
  {
   "cell_type": "code",
   "execution_count": null,
   "id": "18f10fcd-9727-40fa-9944-5f698bfad170",
   "metadata": {},
   "outputs": [],
   "source": []
  }
 ],
 "metadata": {
  "kernelspec": {
   "display_name": "Python 3 (ipykernel)",
   "language": "python",
   "name": "python3"
  },
  "language_info": {
   "codemirror_mode": {
    "name": "ipython",
    "version": 3
   },
   "file_extension": ".py",
   "mimetype": "text/x-python",
   "name": "python",
   "nbconvert_exporter": "python",
   "pygments_lexer": "ipython3",
   "version": "3.9.12"
  }
 },
 "nbformat": 4,
 "nbformat_minor": 5
}
