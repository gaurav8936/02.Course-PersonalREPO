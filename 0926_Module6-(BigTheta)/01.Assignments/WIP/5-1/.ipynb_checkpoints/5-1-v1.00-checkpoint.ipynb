{
 "cells": [
  {
   "cell_type": "markdown",
   "id": "643a443a",
   "metadata": {},
   "source": [
    "### 5-1 Nested (\"Wrapped\") Functions (20 points)\n",
    "For this question, please write three functions as follows:\n",
    "\n",
    "- `sum_digits`: a function which takes an `int` and returns the sum of its (positive value) digits. \n",
    "\n",
    "- `diff_sum_digits`: a function that \"wraps\" `sum_digits` in that it calls `sum_digits` from within it. Use the `diff_sum_digits` function to compute the absolute value of the input number, minus the sum of digits of the input number.\n",
    "\n",
    "- `wraps_diff_sum_digits`: a function that \"wraps\" `diff_sum_digits`. If `diff_sum_digits` returns a result that has more than one digit replace the result with the `diff_sum_digits` of the result. Do this repeatedly until the result has just one digit, then display it. \n",
    "\n",
    "- Note: The nested functions (all three functions above) will always run through once - even if the inputted number is only one digit!\n",
    "\n",
    "To illustrate this with an example:\n",
    "- The input number is 20 as in: `wraps_diff_sum_digits(20)`\n",
    "- `wraps_diff_sum_digits` calls `diff_sum_digits(20)` which calls `sum_digits(20)`\n",
    "- `sum_digits` adds the numbers (2+0 = 2) returns a 2, `diff_sum_digits` subtracts (20-2 = 18) and returns this to `wraps_diff_sum_digits`\n",
    "- `wraps_diff_sum_digits` sees that the number 18 stills has 2 digits and calls `diff_sum_digits(18)` which calls `sum_digits(18)`\n",
    "- `sum_digits` add the numbers (1+8 = 9) returns a 9, `diff_sum_digits` subtracts (18-9 = 9) and returns this to `wraps_diff_sum_digits`\n",
    "- `wraps_diff_sum_digits` sees that the number 9 only has 1 digit - stops and returns the value 9.\n",
    "\n",
    "Below you'll find an example of what we mean when we say \"wraps\"."
   ]
  },
  {
   "cell_type": "code",
   "execution_count": 1,
   "id": "a2429829",
   "metadata": {},
   "outputs": [
    {
     "name": "stdout",
     "output_type": "stream",
     "text": [
      "-5\n",
      "trivial example\n"
     ]
    }
   ],
   "source": [
    "def example_base_func(x):\n",
    "    \"Returns the value of the input * -1\"\n",
    "    return -1 * x\n",
    "\n",
    "def wraps_example_base_func(x):\n",
    "    temp_val = example_base_func(x)\n",
    "    if temp_val < 0:\n",
    "        return \"trivial example\"\n",
    "    \n",
    "print(example_base_func(5))\n",
    "print(wraps_example_base_func(5))"
   ]
  },
  {
   "cell_type": "code",
   "execution_count": null,
   "id": "69fabacb",
   "metadata": {},
   "outputs": [],
   "source": [
    "# Q5-1 Grading Tag:\n",
    "\n"
   ]
  },
  {
   "cell_type": "code",
   "execution_count": null,
   "id": "5884394a",
   "metadata": {},
   "outputs": [],
   "source": [
    "# Test examples:\n",
    "\n",
    "print(sum_digits(54321) == 15)\n",
    "print(sum_digits(-54321) == 15)\n",
    "print(diff_sum_digits(54321) == 54306)\n",
    "print(wraps_diff_sum_digits(54321) == 9)"
   ]
  },
  {
   "cell_type": "markdown",
   "id": "b144c22b-bb9c-4d40-b56a-61946c306d1c",
   "metadata": {},
   "source": [
    "---"
   ]
  },
  {
   "cell_type": "markdown",
   "id": "061dd0ef-90fd-4ca8-9e82-e98da07f9114",
   "metadata": {},
   "source": [
    "<font size = 6, color = green> Gold Standard"
   ]
  },
  {
   "cell_type": "code",
   "execution_count": 2,
   "id": "5707aa4e-0a91-4dc0-85c5-e1264b6b8511",
   "metadata": {},
   "outputs": [],
   "source": [
    "'''\n",
    "    Testing nested functions:\n",
    "    'sum_digits`: a function which takes an `int` and returns the sum of its (positive value) digits. \n",
    "\n",
    "    `diff_sum_digits`: a function that \"wraps\" `sum_digits` in that it calls `sum_digits` from within it. \n",
    "    Use the `diff_sum_digits` function to compute the absolute value of the input number, minus the sum of digits of the input number.\n",
    "\n",
    "    `wraps_diff_sum_digits`: a function that \"wraps\" `diff_sum_digits`. If `diff_sum_digits` returns a result that has more \n",
    "    than one digit replace the result with the `diff_sum_digits` of the result. Do this repeatedly until the result has just one digit, \n",
    "    then display it. \n",
    "    \n",
    "    \n",
    "    '''\n",
    "\n",
    "def sum_digits(x):   # the first function to just sum digits\n",
    "    \n",
    "    x = abs(x)\n",
    "    if isinstance(x, int):\n",
    "        sum = 0\n",
    "        while (x != 0):\n",
    "            sum = sum + (x%10)  # a fairly simply process to accumulate the mod values after incrementing them with the while loop\n",
    "            x = x//10\n",
    "        return sum\n",
    "    else:\n",
    "        print(\"This is not an integer\")\n",
    "        \n",
    "def diff_sum_digits(x):#, sum_digits):  # this computes the absolute value of the input (minus the sum of digits of the input)\n",
    "    x = abs(x)\n",
    "    return x - sum_digits(x)\n",
    "\n",
    "def wraps_diff_sum_digits(x): # this iteratatively runs the cycle of nested functions till there is just one digit left\n",
    "    x = abs(x)\n",
    "    while len(str(x)) > 1:\n",
    "        x = diff_sum_digits(x)\n",
    "    else:\n",
    "        return x"
   ]
  },
  {
   "cell_type": "code",
   "execution_count": null,
   "id": "e15b073b-0385-46a8-8d48-e1b77c6233af",
   "metadata": {},
   "outputs": [],
   "source": []
  },
  {
   "cell_type": "code",
   "execution_count": null,
   "id": "8ac655cc-4cb5-4b6e-a993-a8628e6fb726",
   "metadata": {},
   "outputs": [],
   "source": []
  },
  {
   "cell_type": "markdown",
   "id": "1353e24f-5ae0-4eae-9393-9ac5379d30e9",
   "metadata": {
    "jupyter": {
     "source_hidden": true
    },
    "tags": []
   },
   "source": [
    "# sum_digits"
   ]
  },
  {
   "cell_type": "code",
   "execution_count": 1,
   "id": "1b15640f-1e61-4262-9711-e531bcd0dc50",
   "metadata": {},
   "outputs": [],
   "source": [
    "def sum_digits(x):\n",
    "    \n",
    "    if isinstance(x, int):\n",
    "    \n",
    "        sum = 0\n",
    "        x = abs(x)\n",
    "\n",
    "        while (x != 0):\n",
    "\n",
    " #           print('x before: ', x)\n",
    " #           print('sum before: ', sum)\n",
    "\n",
    "            sum = sum + x%10\n",
    "\n",
    " #           print('sum after: ', sum)\n",
    "\n",
    "            x = x//10\n",
    "\n",
    " #           print('x after: ', x)\n",
    "        return sum\n",
    "    else:\n",
    "        print(\"This is not an integer\")\n",
    "#        break"
   ]
  },
  {
   "cell_type": "code",
   "execution_count": 3,
   "id": "76e476f0-05f5-437a-9f77-8f2a8c60bc89",
   "metadata": {},
   "outputs": [
    {
     "data": {
      "text/plain": [
       "5"
      ]
     },
     "execution_count": 3,
     "metadata": {},
     "output_type": "execute_result"
    }
   ],
   "source": [
    "sum_digits(-23)"
   ]
  },
  {
   "cell_type": "markdown",
   "id": "33944908-7d10-48be-ae2c-71b0f387fb49",
   "metadata": {},
   "source": [
    "---"
   ]
  },
  {
   "cell_type": "markdown",
   "id": "18dbd744-25f4-4189-bc4b-66085327487e",
   "metadata": {},
   "source": [
    "# diff_sum_digits"
   ]
  },
  {
   "cell_type": "code",
   "execution_count": 4,
   "id": "6969ef1f-f3d1-4e5c-b8b9-4d8ba3fc033e",
   "metadata": {},
   "outputs": [],
   "source": [
    "def diff_sum_digits(x):#, sum_digits):\n",
    "    x = abs(x)\n",
    "    return x - sum_digits(x)\n",
    "    "
   ]
  },
  {
   "cell_type": "code",
   "execution_count": 6,
   "id": "0fe86cd2-57d3-4eac-9ec9-d22559a79812",
   "metadata": {},
   "outputs": [
    {
     "data": {
      "text/plain": [
       "18"
      ]
     },
     "execution_count": 6,
     "metadata": {},
     "output_type": "execute_result"
    }
   ],
   "source": [
    "diff_sum_digits(-23)"
   ]
  },
  {
   "cell_type": "markdown",
   "id": "321ed090-be53-41e7-83b3-cddf01271901",
   "metadata": {},
   "source": [
    "---"
   ]
  },
  {
   "cell_type": "markdown",
   "id": "416bbc3e-4b31-43d8-871a-2ade63deaa1e",
   "metadata": {},
   "source": [
    "# wraps_diff_sum_digits"
   ]
  },
  {
   "cell_type": "code",
   "execution_count": 76,
   "id": "202c5889-00b4-4e73-bb8f-21b19632f1dc",
   "metadata": {},
   "outputs": [],
   "source": [
    "### THIS DOES NOT WORK -- NEED A WHILE LOOP\n",
    "\n",
    "# def wraps_diff_sum_digits(x):\n",
    "#     if len(str(x)) >1:\n",
    "#         print(len(str(x)))\n",
    "#         print('the output is: ', diff_sum_digits(x))\n",
    "#     else:\n",
    "#         return x"
   ]
  },
  {
   "cell_type": "markdown",
   "id": "e82ed1b9-66e2-488a-a3dd-0fa495e23686",
   "metadata": {},
   "source": [
    "---"
   ]
  },
  {
   "cell_type": "code",
   "execution_count": 7,
   "id": "664913f7-a241-4e00-b8fb-d5fc5e2c0c1b",
   "metadata": {},
   "outputs": [],
   "source": [
    "# This is the final working solution\n",
    "\n",
    "def wraps_diff_sum_digits(x):\n",
    "    \n",
    "#    x = int(input(\"Please enter a number: `\"))\n",
    "    x = abs(x)\n",
    "    \n",
    "    while len(str(x)) > 1:\n",
    "        print(len(str(x)))\n",
    "        print('the output is: ', diff_sum_digits(x))\n",
    "        x = diff_sum_digits(x)\n",
    "    \n",
    "    else:\n",
    "        return x "
   ]
  },
  {
   "cell_type": "code",
   "execution_count": 8,
   "id": "3426fb1e-ac44-485e-acd0-e88176dfa19a",
   "metadata": {},
   "outputs": [
    {
     "name": "stdout",
     "output_type": "stream",
     "text": [
      "2\n",
      "the output is:  18\n",
      "2\n",
      "the output is:  9\n"
     ]
    },
    {
     "data": {
      "text/plain": [
       "9"
      ]
     },
     "execution_count": 8,
     "metadata": {},
     "output_type": "execute_result"
    }
   ],
   "source": [
    "wraps_diff_sum_digits(-23)"
   ]
  },
  {
   "cell_type": "markdown",
   "id": "c307f73f-076e-4035-acdd-ad8d87eb27cb",
   "metadata": {},
   "source": [
    "---"
   ]
  },
  {
   "cell_type": "markdown",
   "id": "862dbafd-abaf-43b8-a029-b3dfd2b4694f",
   "metadata": {},
   "source": [
    "---"
   ]
  },
  {
   "cell_type": "markdown",
   "id": "6cb92623-57d3-4c00-b527-7796456343fd",
   "metadata": {},
   "source": [
    "# Putting it all together"
   ]
  },
  {
   "cell_type": "markdown",
   "id": "a9453a60-61b5-4678-ac9d-d8c6a545357c",
   "metadata": {},
   "source": [
    "## First Final"
   ]
  },
  {
   "cell_type": "code",
   "execution_count": 1,
   "id": "c4c050cc-490e-4212-ac00-e82c86b2bc57",
   "metadata": {},
   "outputs": [],
   "source": [
    "def sum_digits(x):\n",
    "    x = abs(x)\n",
    "    if isinstance(x, int):\n",
    "        sum = 0\n",
    "        while (x != 0):\n",
    "            sum = sum + (x%10)\n",
    "            x = x//10\n",
    "        return sum\n",
    "    else:\n",
    "        print(\"This is not an integer\")\n",
    "        \n",
    "def diff_sum_digits(x):#, sum_digits):\n",
    "    x = abs(x)\n",
    "    return x - sum_digits(x)\n",
    "\n",
    "def wraps_diff_sum_digits(x):\n",
    "    x = abs(x)\n",
    "    while len(str(x)) > 1:\n",
    "        x = diff_sum_digits(x)\n",
    "    else:\n",
    "        return x"
   ]
  },
  {
   "cell_type": "code",
   "execution_count": 15,
   "id": "f7a13850-12dc-40f5-b7fb-6012835c37e6",
   "metadata": {},
   "outputs": [
    {
     "data": {
      "text/plain": [
       "9"
      ]
     },
     "execution_count": 15,
     "metadata": {},
     "output_type": "execute_result"
    }
   ],
   "source": [
    "wraps_diff_sum_digits(-54321)"
   ]
  },
  {
   "cell_type": "code",
   "execution_count": 3,
   "id": "772d18b8-8be6-4113-9b14-28be30e1f044",
   "metadata": {},
   "outputs": [
    {
     "name": "stdout",
     "output_type": "stream",
     "text": [
      "15\n"
     ]
    }
   ],
   "source": [
    "print(sum_digits(54321))"
   ]
  },
  {
   "cell_type": "code",
   "execution_count": null,
   "id": "7298be2b-1379-443c-b3f9-512e15f063e1",
   "metadata": {},
   "outputs": [],
   "source": [
    "print(sum_digits(-54321))"
   ]
  },
  {
   "cell_type": "code",
   "execution_count": 5,
   "id": "174600d5-20c0-4971-a8e9-60e2692f3ed7",
   "metadata": {},
   "outputs": [
    {
     "name": "stdout",
     "output_type": "stream",
     "text": [
      "54306\n"
     ]
    }
   ],
   "source": [
    "print(diff_sum_digits(54321))"
   ]
  },
  {
   "cell_type": "code",
   "execution_count": 7,
   "id": "8e258d9d-93fd-4587-a4be-1efc2f95460a",
   "metadata": {},
   "outputs": [
    {
     "data": {
      "text/plain": [
       "54306"
      ]
     },
     "execution_count": 7,
     "metadata": {},
     "output_type": "execute_result"
    }
   ],
   "source": [
    "diff_sum_digits(54321)"
   ]
  },
  {
   "cell_type": "code",
   "execution_count": null,
   "id": "92dc2761-4a81-4c5f-b369-873fe1a9e547",
   "metadata": {},
   "outputs": [],
   "source": []
  }
 ],
 "metadata": {
  "kernelspec": {
   "display_name": "Python 3 (ipykernel)",
   "language": "python",
   "name": "python3"
  },
  "language_info": {
   "codemirror_mode": {
    "name": "ipython",
    "version": 3
   },
   "file_extension": ".py",
   "mimetype": "text/x-python",
   "name": "python",
   "nbconvert_exporter": "python",
   "pygments_lexer": "ipython3",
   "version": "3.9.12"
  }
 },
 "nbformat": 4,
 "nbformat_minor": 5
}
