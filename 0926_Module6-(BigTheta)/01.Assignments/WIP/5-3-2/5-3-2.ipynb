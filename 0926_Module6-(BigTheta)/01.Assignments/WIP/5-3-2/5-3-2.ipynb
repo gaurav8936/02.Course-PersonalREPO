{
 "cells": [
  {
   "cell_type": "markdown",
   "id": "555ef94a",
   "metadata": {},
   "source": [
    "### 5-3-2. Using Our Flexible Function (5 points)\n",
    "\n",
    "**NOTE: Do not change your best function from the answer in 5-3-1 above! The best function should be able to take any scoring function and return the result.** (you also do not need to copy your best function from above - we will run the cell above and then this cell in succession) \n",
    "\n",
    "Define a function, `number_of_vowels`, that returns the number of vowels in a string.  Pass it to your `best` function to find the name in `names` with the most vowels.\n",
    "\n",
    "See how easy it is to change the score function for different functionalities!\n",
    "\n",
    "Example: \n",
    "```\n",
    "names = [\"Ben\", \"April\", \"Zaber\", \"Alexis\", \"McJagger\", \"J.J.\", \"Madonna\"]\n",
    "\n",
    "best(number_of_vowels, names) -> 'Alexis'\n",
    "\n",
    "```"
   ]
  },
  {
   "cell_type": "markdown",
   "id": "53fa03ef-88d3-434d-bb01-d8a3600d0711",
   "metadata": {},
   "source": [
    "---"
   ]
  },
  {
   "cell_type": "markdown",
   "id": "12a1bf60-3188-4039-ad82-942ac4783b86",
   "metadata": {},
   "source": [
    "# Previous Function (for continuity)"
   ]
  },
  {
   "cell_type": "code",
   "execution_count": 82,
   "id": "170eb6e1-8861-4cd1-9032-1e45ee6bff57",
   "metadata": {},
   "outputs": [],
   "source": [
    "def best(score, names):\n",
    "    for word in names:\n",
    "        return (max([(score(word), word) for word in names])[1])\n",
    "    \n",
    "def len_score(word):\n",
    "    return len(word.lower())"
   ]
  },
  {
   "cell_type": "markdown",
   "id": "32c9f596-8c29-4386-95f1-4891b3a44ddb",
   "metadata": {},
   "source": [
    "---"
   ]
  },
  {
   "cell_type": "code",
   "execution_count": null,
   "id": "7c43f829-7e3c-48ce-bbe9-6cd6eede5818",
   "metadata": {},
   "outputs": [],
   "source": [
    "len_score"
   ]
  },
  {
   "cell_type": "code",
   "execution_count": 83,
   "id": "1d1d3967-5bdc-4653-abcb-05970ed68781",
   "metadata": {},
   "outputs": [
    {
     "data": {
      "text/plain": [
       "[(3, 'Alexis')]"
      ]
     },
     "execution_count": 83,
     "metadata": {},
     "output_type": "execute_result"
    }
   ],
   "source": [
    "best(number_of_vowels, names2)"
   ]
  },
  {
   "cell_type": "code",
   "execution_count": 79,
   "id": "6145cc47-91ec-423b-aaae-df7917ee1a3c",
   "metadata": {},
   "outputs": [
    {
     "data": {
      "text/plain": [
       "'Alexis'"
      ]
     },
     "execution_count": 79,
     "metadata": {},
     "output_type": "execute_result"
    }
   ],
   "source": [
    "best(len_score, names2)"
   ]
  },
  {
   "cell_type": "code",
   "execution_count": null,
   "id": "ca2d35c2-5912-43ff-8df5-a6efce715017",
   "metadata": {},
   "outputs": [],
   "source": []
  },
  {
   "cell_type": "code",
   "execution_count": null,
   "id": "719b8cc0-5fab-4bf5-ae22-8d8fac5293f9",
   "metadata": {},
   "outputs": [],
   "source": []
  },
  {
   "cell_type": "markdown",
   "id": "1f4da4de-3b2d-41fb-ac2f-aef96872be72",
   "metadata": {},
   "source": [
    "---"
   ]
  },
  {
   "cell_type": "code",
   "execution_count": null,
   "id": "ce3ff73c",
   "metadata": {},
   "outputs": [],
   "source": [
    "# Q5-3-2 Grading Tag:\n"
   ]
  },
  {
   "cell_type": "code",
   "execution_count": null,
   "id": "37b8bfa6",
   "metadata": {
    "jupyter": {
     "source_hidden": true
    },
    "tags": []
   },
   "outputs": [],
   "source": [
    "# You can use the sample output in this cell to sanity check your work.\n",
    "\n",
    "names = [\"Ben\", \"April\", \"Zaber\", \"Alexis\", \"McJagger\", \"J.J.\", \"Madonna\"]\n",
    "\n",
    "best(number_of_vowels, names) == 'Alexis'"
   ]
  },
  {
   "cell_type": "markdown",
   "id": "5483be23-2a13-4ca4-867c-8a72940ee8b3",
   "metadata": {},
   "source": [
    "---"
   ]
  },
  {
   "cell_type": "code",
   "execution_count": 57,
   "id": "a7f6a093-bb52-420e-af48-1d9116597c9d",
   "metadata": {},
   "outputs": [],
   "source": [
    "def number_of_vowels(word):\n",
    "    #return [len([letter for letter in word if letter in 'aeiou']) for word in names]\n",
    "    return len([letter for letter in word if letter.lower() in 'aeiou'])"
   ]
  },
  {
   "cell_type": "code",
   "execution_count": 68,
   "id": "177d00f8-d0d2-4ec2-8ad2-d20fedd651ab",
   "metadata": {},
   "outputs": [],
   "source": [
    "names2 =  [ \"Alexis\"]"
   ]
  },
  {
   "cell_type": "code",
   "execution_count": 35,
   "id": "8f9d3c24-4ac6-4e1f-ab17-8d80a08aba0f",
   "metadata": {},
   "outputs": [],
   "source": [
    "names1 =  [\"Jeff\", \"Alex\", \"Robert\", \"Chris\", \"Gunnar\", \"PAULA\", \"Madonna\", \"Aei\", \"AA\"]"
   ]
  },
  {
   "cell_type": "code",
   "execution_count": 3,
   "id": "8f49e2f3-0804-47db-a552-9e3e71d3237d",
   "metadata": {},
   "outputs": [],
   "source": [
    "names2 =  [\"Ben\", \"April\", \"Zaber\", \"Alexis\", \"McJagger\", \"J.J.\", \"Madonna\"]"
   ]
  },
  {
   "cell_type": "code",
   "execution_count": 65,
   "id": "2459d73c-80f8-43c5-b3d2-e1378bc23428",
   "metadata": {},
   "outputs": [
    {
     "data": {
      "text/plain": [
       "3"
      ]
     },
     "execution_count": 65,
     "metadata": {},
     "output_type": "execute_result"
    }
   ],
   "source": [
    "number_of_vowels('Alexis')"
   ]
  },
  {
   "cell_type": "markdown",
   "id": "1e5ebeee-9192-40ec-8eb4-fcd06c37616d",
   "metadata": {},
   "source": [
    "---"
   ]
  },
  {
   "cell_type": "code",
   "execution_count": 67,
   "id": "0e7d3117-754a-4a3e-8a24-a763146423bb",
   "metadata": {},
   "outputs": [
    {
     "data": {
      "text/plain": [
       "'PAULA'"
      ]
     },
     "execution_count": 67,
     "metadata": {},
     "output_type": "execute_result"
    }
   ],
   "source": [
    "best(number_of_vowels, names1)"
   ]
  },
  {
   "cell_type": "markdown",
   "id": "0e01f75a-3118-4fc0-af6f-a1d151284453",
   "metadata": {},
   "source": [
    "---"
   ]
  },
  {
   "cell_type": "markdown",
   "id": "2f704e94-4754-4295-a828-40069764d263",
   "metadata": {},
   "source": [
    "<font size = 6, color = red>Current Version - consoldiated"
   ]
  },
  {
   "cell_type": "code",
   "execution_count": 54,
   "id": "7896afa1-dbbd-466f-8828-eb660becea58",
   "metadata": {},
   "outputs": [],
   "source": [
    "def number_of_vowels(word):\n",
    "    return len([letter.lower() for letter in word if letter.lower() in 'aeiou'])"
   ]
  },
  {
   "cell_type": "code",
   "execution_count": null,
   "id": "aeecb3ee-5f18-44c6-b0c6-5876a8e9324e",
   "metadata": {},
   "outputs": [],
   "source": []
  }
 ],
 "metadata": {
  "kernelspec": {
   "display_name": "Python 3 (ipykernel)",
   "language": "python",
   "name": "python3"
  },
  "language_info": {
   "codemirror_mode": {
    "name": "ipython",
    "version": 3
   },
   "file_extension": ".py",
   "mimetype": "text/x-python",
   "name": "python",
   "nbconvert_exporter": "python",
   "pygments_lexer": "ipython3",
   "version": "3.9.12"
  }
 },
 "nbformat": 4,
 "nbformat_minor": 5
}
