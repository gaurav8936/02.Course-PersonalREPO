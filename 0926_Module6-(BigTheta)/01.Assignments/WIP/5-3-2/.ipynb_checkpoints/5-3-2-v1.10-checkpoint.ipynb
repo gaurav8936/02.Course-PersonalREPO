{
 "cells": [
  {
   "cell_type": "markdown",
   "id": "555ef94a",
   "metadata": {},
   "source": [
    "### 5-3-2. Using Our Flexible Function (5 points)\n",
    "\n",
    "**NOTE: Do not change your best function from the answer in 5-3-1 above! The best function should be able to take any scoring function and return the result.** (you also do not need to copy your best function from above - we will run the cell above and then this cell in succession) \n",
    "\n",
    "Define a function, `number_of_vowels`, that returns the number of vowels in a string.  Pass it to your `best` function to find the name in `names` with the most vowels.\n",
    "\n",
    "See how easy it is to change the score function for different functionalities!\n",
    "\n",
    "Example: \n",
    "```\n",
    "names = [\"Ben\", \"April\", \"Zaber\", \"Alexis\", \"McJagger\", \"J.J.\", \"Madonna\"]\n",
    "\n",
    "best(number_of_vowels, names) -> 'Alexis'\n",
    "\n",
    "```"
   ]
  },
  {
   "cell_type": "markdown",
   "id": "53fa03ef-88d3-434d-bb01-d8a3600d0711",
   "metadata": {},
   "source": [
    "---"
   ]
  },
  {
   "cell_type": "markdown",
   "id": "12a1bf60-3188-4039-ad82-942ac4783b86",
   "metadata": {},
   "source": [
    "# Previous Function (for continuity)"
   ]
  },
  {
   "cell_type": "code",
   "execution_count": 82,
   "id": "170eb6e1-8861-4cd1-9032-1e45ee6bff57",
   "metadata": {},
   "outputs": [],
   "source": [
    "def best(score, names):\n",
    "    for word in names:\n",
    "        return (max([(score(word), word) for word in names])[1])\n",
    "    \n",
    "def len_score(word):\n",
    "    return len(word.lower())"
   ]
  },
  {
   "cell_type": "markdown",
   "id": "32c9f596-8c29-4386-95f1-4891b3a44ddb",
   "metadata": {},
   "source": [
    "---"
   ]
  },
  {
   "cell_type": "code",
   "execution_count": null,
   "id": "7c43f829-7e3c-48ce-bbe9-6cd6eede5818",
   "metadata": {},
   "outputs": [],
   "source": [
    "len_score"
   ]
  },
  {
   "cell_type": "code",
   "execution_count": 83,
   "id": "1d1d3967-5bdc-4653-abcb-05970ed68781",
   "metadata": {},
   "outputs": [
    {
     "data": {
      "text/plain": [
       "[(3, 'Alexis')]"
      ]
     },
     "execution_count": 83,
     "metadata": {},
     "output_type": "execute_result"
    }
   ],
   "source": [
    "best(number_of_vowels, names2)"
   ]
  },
  {
   "cell_type": "code",
   "execution_count": 79,
   "id": "6145cc47-91ec-423b-aaae-df7917ee1a3c",
   "metadata": {},
   "outputs": [
    {
     "data": {
      "text/plain": [
       "'Alexis'"
      ]
     },
     "execution_count": 79,
     "metadata": {},
     "output_type": "execute_result"
    }
   ],
   "source": [
    "best(len_score, names2)"
   ]
  },
  {
   "cell_type": "code",
   "execution_count": null,
   "id": "ca2d35c2-5912-43ff-8df5-a6efce715017",
   "metadata": {},
   "outputs": [],
   "source": []
  },
  {
   "cell_type": "code",
   "execution_count": null,
   "id": "719b8cc0-5fab-4bf5-ae22-8d8fac5293f9",
   "metadata": {},
   "outputs": [],
   "source": []
  },
  {
   "cell_type": "markdown",
   "id": "1f4da4de-3b2d-41fb-ac2f-aef96872be72",
   "metadata": {},
   "source": [
    "---"
   ]
  },
  {
   "cell_type": "code",
   "execution_count": null,
   "id": "ce3ff73c",
   "metadata": {},
   "outputs": [],
   "source": [
    "# Q5-3-2 Grading Tag:\n"
   ]
  },
  {
   "cell_type": "code",
   "execution_count": null,
   "id": "37b8bfa6",
   "metadata": {
    "jupyter": {
     "source_hidden": true
    },
    "tags": []
   },
   "outputs": [],
   "source": [
    "# You can use the sample output in this cell to sanity check your work.\n",
    "\n",
    "names = [\"Ben\", \"April\", \"Zaber\", \"Alexis\", \"McJagger\", \"J.J.\", \"Madonna\"]\n",
    "\n",
    "best(number_of_vowels, names) == 'Alexis'"
   ]
  },
  {
   "cell_type": "markdown",
   "id": "5483be23-2a13-4ca4-867c-8a72940ee8b3",
   "metadata": {},
   "source": [
    "---"
   ]
  },
  {
   "cell_type": "code",
   "execution_count": 57,
   "id": "a7f6a093-bb52-420e-af48-1d9116597c9d",
   "metadata": {},
   "outputs": [],
   "source": [
    "def number_of_vowels(word):\n",
    "    #return [len([letter for letter in word if letter in 'aeiou']) for word in names]\n",
    "    return len([letter for letter in word if letter.lower() in 'aeiou'])"
   ]
  },
  {
   "cell_type": "code",
   "execution_count": 65,
   "id": "2459d73c-80f8-43c5-b3d2-e1378bc23428",
   "metadata": {},
   "outputs": [
    {
     "data": {
      "text/plain": [
       "3"
      ]
     },
     "execution_count": 65,
     "metadata": {},
     "output_type": "execute_result"
    }
   ],
   "source": [
    "number_of_vowels('Alexis')"
   ]
  },
  {
   "cell_type": "markdown",
   "id": "1e5ebeee-9192-40ec-8eb4-fcd06c37616d",
   "metadata": {},
   "source": [
    "---"
   ]
  },
  {
   "cell_type": "code",
   "execution_count": 67,
   "id": "0e7d3117-754a-4a3e-8a24-a763146423bb",
   "metadata": {},
   "outputs": [
    {
     "data": {
      "text/plain": [
       "'PAULA'"
      ]
     },
     "execution_count": 67,
     "metadata": {},
     "output_type": "execute_result"
    }
   ],
   "source": [
    "best(number_of_vowels, names1)"
   ]
  },
  {
   "cell_type": "markdown",
   "id": "0e01f75a-3118-4fc0-af6f-a1d151284453",
   "metadata": {},
   "source": [
    "---"
   ]
  },
  {
   "cell_type": "markdown",
   "id": "2f704e94-4754-4295-a828-40069764d263",
   "metadata": {},
   "source": [
    "<font size = 6, color = red>Previous Version - consoldiated (works with FOR loop)"
   ]
  },
  {
   "cell_type": "markdown",
   "id": "f2c7248a-2e36-49df-98cb-e8cef2bd3f0f",
   "metadata": {
    "tags": []
   },
   "source": [
    "# Option 1: For loop"
   ]
  },
  {
   "cell_type": "code",
   "execution_count": 3,
   "id": "5f846411-bd19-49c6-bfff-c0283caaa2e3",
   "metadata": {},
   "outputs": [],
   "source": [
    "def best(score, names):\n",
    "    mylist = []\n",
    "    newlist = []\n",
    "    \n",
    "    for word in names:\n",
    "\n",
    "#        return (max([(score(word), word) for word in names])[1])\n",
    "    \n",
    "        # changes\n",
    "#        return ([(score(word), word) for word in names])\n",
    "#        return (max([((score(word), key=lambda x:x[0]), word) for word in names]))\n",
    "#        return (max([((score(word), word), key=lambda x:x[0]) for word in names]))\n",
    "#        return (max([((score(word), word) for word in names)], key=lambda x:x[0]))\n",
    "#        return (max([((score(word), word) for word in names)], key=lambda x:x[0]))[1]\n",
    "#        return (max([((score(word), word) for word in names)], key=lambda x:x[0]))[1]\n",
    "#        return (max([((score(word), word) for word in names)].sort(key = lambda x: (x[0], x[1]))))[1]\n",
    "        \n",
    "#        mylist = mylist.append((score(word), word))\n",
    "#    print(([(score(word), word) for word in names]))\n",
    "\n",
    "#    print(sorted([(score(word), word) for word in names]))\n",
    "#    mylist.append(sorted([(score(word), word) for word in names]))\n",
    "\n",
    "\n",
    "#        mylist = ([(score(word), word) for word in names])\n",
    "        mylist.append((score(word), word))\n",
    "#        print('mylist', mylist)\n",
    "        newmax = max(mylist)[0]\n",
    "# #        print('newmax', newmax)\n",
    "#         print('mylist = 0', mylist[(0)])\n",
    "#         for item in mylist:\n",
    "#             if mylist[(0)] == newmax:\n",
    "#                 newlist.append(item)\n",
    "#             else:\n",
    "#                 continue\n",
    "\n",
    "                \n",
    "        newlist = [tup for tup in mylist if tup[0] == newmax]\n",
    "        \n",
    "#    print('mylist', mylist)\n",
    "#    print('newlist', newlist)\n",
    "#    print('newlist', newlist[0][1])\n",
    "    return newlist[0][1]\n",
    "\n",
    "    \n",
    "#    print(mylist)\n",
    "#    print(max(mylist)[1])\n",
    "#    return (max(mylist)[1])\n",
    "\n",
    "##    mylist.sort(key = lambda x: (x[0], x[1]))\n",
    "\n",
    "#    return mylist\n",
    "\n",
    "#    print(mylist)\n",
    "\n",
    "    #    print(max(mylist.sort(key = lambda x: (x[0], x[1])))[1])\n",
    "\n",
    "##    return (max(mylist.sort(key = lambda x: (x[0], x[1])))[1])\n",
    "    \n",
    "#    newlist = mylist.sort(key=lambda x: (x[0], x[1]))\n",
    "#    print(newlist)\n",
    "#    print(max(newlist[0]))\n",
    "#    print(newlist.sort())\n",
    "    \n",
    "#    print(max(sorted([(score(word), word) for word in names])))\n",
    "\n",
    "#    print(([(score(word), word) for word in names]))\n",
    "#    print(max([(score(word), word) for word in names]), key=lambda x:x[0])\n",
    "\n",
    "    \n",
    "    #    print(max(([(score(word), word) for word in names])))\n",
    "#    print(max(sorted(([(score(word), word) for word in names]))))\n",
    "#        mylist = mylist.append(([(score(word), word) for word in names]))\n",
    "#        print(mylist)         "
   ]
  },
  {
   "cell_type": "markdown",
   "id": "c178bb56-8b18-4e29-abd4-d5346be5d6b7",
   "metadata": {},
   "source": [
    "## Option 2: List Comprehension"
   ]
  },
  {
   "cell_type": "code",
   "execution_count": 190,
   "id": "7d1eae92-e857-48c5-abd2-d3b4f55d62b6",
   "metadata": {
    "jupyter": {
     "source_hidden": true
    },
    "tags": []
   },
   "outputs": [],
   "source": [
    "def best(score, names):\n",
    "    mylist = []\n",
    "    newlist = []\n",
    "    \n",
    "#        mylist = mylist.append((score(word), word))\n",
    "#    print(([(score(word), word) for word in names]))\n",
    "\n",
    "#    print(sorted([(score(word), word) for word in names]))\n",
    "#    mylist.append(sorted([(score(word), word) for word in names]))\n",
    "\n",
    "    mylist = (sorted([(score(word), word) for word in names]))\n",
    "    newmax = max(mylist)[0]\n",
    "    print(newmax)\n",
    "#    print(mylist.sort(key=lambda x: (x[0], x[1])))[1]\n",
    "    \n",
    "    n\n",
    "    \n",
    "#    print(mylist)\n",
    "    print(mylist)\n",
    "#    print(max(mylist))[1]\n",
    "    print(max(mylist))\n",
    "#    print(type(mylist))\n",
    "#    print(max(mylist)[1])\n",
    "#    return (max(mylist)[1])\n",
    "\n",
    "##    mylist.sort(key = lambda x: (x[0], x[1]))\n",
    "\n",
    "#    return mylist\n",
    "#    print(mylist)\n",
    "#    print(max(mylist.sort(key = lambda x: (x[0], x[1])))[1])\n",
    "\n",
    "##    return (max(mylist.sort(key = lambda x: (x[0], x[1])))[1])\n",
    "    \n",
    "#    newlist = mylist.sort(key=lambda x: (x[0], x[1]))\n",
    "#    print(newlist)\n",
    "#    print(max(newlist[0]))\n",
    "#    print(newlist.sort())\n",
    "    \n",
    "#    print(max(sorted([(score(word), word) for word in names])))\n",
    "\n",
    "#    print(([(score(word), word) for word in names]))\n",
    "#    print(max([(score(word), word) for word in names]), key=lambda x:x[0])\n",
    "\n",
    "    \n",
    "    #    print(max(([(score(word), word) for word in names])))\n",
    "#    print(max(sorted(([(score(word), word) for word in names]))))\n",
    "#        mylist = mylist.append(([(score(word), word) for word in names]))\n",
    "#        print(mylist)    "
   ]
  },
  {
   "cell_type": "code",
   "execution_count": null,
   "id": "218ed768-210c-4fbe-b3e3-6373ebe64efe",
   "metadata": {},
   "outputs": [],
   "source": []
  },
  {
   "cell_type": "code",
   "execution_count": 2,
   "id": "679963da-0774-4415-a49f-16903a3af634",
   "metadata": {},
   "outputs": [],
   "source": [
    "def len_score(word):\n",
    "    return len(word.lower())"
   ]
  },
  {
   "cell_type": "code",
   "execution_count": 1,
   "id": "7896afa1-dbbd-466f-8828-eb660becea58",
   "metadata": {},
   "outputs": [],
   "source": [
    "def number_of_vowels(word):\n",
    "    return len([letter for letter in word if letter.lower() in 'aeiou'])"
   ]
  },
  {
   "cell_type": "markdown",
   "id": "b3b3ff21-dc98-489a-ac13-a1121e161fd4",
   "metadata": {},
   "source": [
    "---"
   ]
  },
  {
   "cell_type": "markdown",
   "id": "9f29c032-bb0f-4130-86ae-c19d343abd83",
   "metadata": {},
   "source": [
    "## Testing"
   ]
  },
  {
   "cell_type": "code",
   "execution_count": 18,
   "id": "aeecb3ee-5f18-44c6-b0c6-5876a8e9324e",
   "metadata": {},
   "outputs": [
    {
     "data": {
      "text/plain": [
       "'Alexis'"
      ]
     },
     "execution_count": 18,
     "metadata": {},
     "output_type": "execute_result"
    }
   ],
   "source": [
    "best(number_of_vowels, names)"
   ]
  },
  {
   "cell_type": "code",
   "execution_count": 19,
   "id": "8045ff81-169b-464c-a790-84637d239130",
   "metadata": {},
   "outputs": [
    {
     "data": {
      "text/plain": [
       "'PAULA'"
      ]
     },
     "execution_count": 19,
     "metadata": {},
     "output_type": "execute_result"
    }
   ],
   "source": [
    "best(number_of_vowels, names1)"
   ]
  },
  {
   "cell_type": "code",
   "execution_count": 20,
   "id": "5c3bcd2a-23cf-40ee-90bf-d84c60682b35",
   "metadata": {},
   "outputs": [
    {
     "data": {
      "text/plain": [
       "'Alexis'"
      ]
     },
     "execution_count": 20,
     "metadata": {},
     "output_type": "execute_result"
    }
   ],
   "source": [
    "best(number_of_vowels, names2)"
   ]
  },
  {
   "cell_type": "code",
   "execution_count": 21,
   "id": "7ac557ba-eba0-4cc1-9027-7295de9fd0bd",
   "metadata": {},
   "outputs": [
    {
     "data": {
      "text/plain": [
       "'Alexis'"
      ]
     },
     "execution_count": 21,
     "metadata": {},
     "output_type": "execute_result"
    }
   ],
   "source": [
    "best(number_of_vowels,names3)"
   ]
  },
  {
   "cell_type": "code",
   "execution_count": null,
   "id": "828a4088-0f74-4376-a422-8640df168d7a",
   "metadata": {},
   "outputs": [],
   "source": []
  },
  {
   "cell_type": "code",
   "execution_count": null,
   "id": "5b15e198-6fae-4095-950c-7c07353ed8db",
   "metadata": {},
   "outputs": [],
   "source": []
  },
  {
   "cell_type": "code",
   "execution_count": 5,
   "id": "b340d3ff-f893-4253-afaf-90fefd238669",
   "metadata": {},
   "outputs": [],
   "source": [
    "names = [\"Ben\", \"April\", \"Zaber\", \"Alexis\", \"McJagger\", \"J.J.\", \"Madonna\"]"
   ]
  },
  {
   "cell_type": "code",
   "execution_count": 6,
   "id": "8f9d3c24-4ac6-4e1f-ab17-8d80a08aba0f",
   "metadata": {},
   "outputs": [],
   "source": [
    "names1 =  [\"Jeff\", \"Alex\", \"Robert\", \"Chris\", \"Gunnar\", \"PAULA\", \"Madonna\", \"Aei\", \"AA\"]"
   ]
  },
  {
   "cell_type": "code",
   "execution_count": 7,
   "id": "8f49e2f3-0804-47db-a552-9e3e71d3237d",
   "metadata": {},
   "outputs": [],
   "source": [
    "names2 =  [\"Ben\", \"April\", \"Zaber\", \"Alexis\", \"McJagger\", \"J.J.\", \"Madonna\", \"Beiurrr\"]"
   ]
  },
  {
   "cell_type": "code",
   "execution_count": 8,
   "id": "177d00f8-d0d2-4ec2-8ad2-d20fedd651ab",
   "metadata": {},
   "outputs": [],
   "source": [
    "names3 =  [ \"Alexis\"]"
   ]
  },
  {
   "cell_type": "code",
   "execution_count": 9,
   "id": "71826dd0-be25-44a4-b3ea-67774c6fd5b7",
   "metadata": {},
   "outputs": [],
   "source": [
    "names4 = [\"Alice\", \"Beatrice\", \"Amarnae\", \"Zootrope\"]"
   ]
  },
  {
   "cell_type": "code",
   "execution_count": null,
   "id": "fc61e6db-9f86-4ab8-9c9e-46c74237f2da",
   "metadata": {},
   "outputs": [],
   "source": []
  },
  {
   "cell_type": "markdown",
   "id": "528915dc-b662-4986-9f54-2f84403e789e",
   "metadata": {},
   "source": []
  },
  {
   "cell_type": "markdown",
   "id": "f864ab3d-ed3e-4b48-aa5d-79499c9ae1b9",
   "metadata": {},
   "source": [
    "<font size = 6, color = green> 2 working solutions (mine & stack overflow)"
   ]
  },
  {
   "cell_type": "markdown",
   "id": "9553b402-3276-4e28-b150-49f556997c2d",
   "metadata": {},
   "source": [
    "<font size = 6, color = red>Current Version - MINE - consoldiated (works with FOR loop)"
   ]
  },
  {
   "cell_type": "code",
   "execution_count": 22,
   "id": "3fffd449-d352-449c-beab-3759586d51cd",
   "metadata": {},
   "outputs": [],
   "source": [
    "def len_score(word):\n",
    "    return len(word.lower())"
   ]
  },
  {
   "cell_type": "code",
   "execution_count": 23,
   "id": "04984923-ed42-45c4-b8b3-5e19241fc46a",
   "metadata": {},
   "outputs": [],
   "source": [
    "def number_of_vowels(word):\n",
    "    return len([letter for letter in word if letter.lower() in 'aeiou'])"
   ]
  },
  {
   "cell_type": "code",
   "execution_count": 36,
   "id": "c51da279-0be0-4911-9b26-f8fb65b4f96c",
   "metadata": {},
   "outputs": [],
   "source": [
    "def best(score, names):\n",
    "    '''\n",
    "    Solution using FOR Loops and Lists\n",
    "    Uses two lists ( as max() does not return the first occurance on tie breaker)\n",
    "    '''\n",
    "    \n",
    "    mylist = []                                               # create empty list\n",
    "    newlist = []                                              # create placeholder for final extract\n",
    "    for word in names:                                        # for loop\n",
    "        mylist.append((score(word), word))                    # append to the empty list \n",
    "        newmax = max(mylist)[0]                               # find out the max occurances (we can't use max on mylist as that would not resolve the tie breaker)\n",
    "        newlist = [tup for tup in mylist if tup[0] == newmax] #append to a final list the winning entry (or entries for the tie condition)\n",
    "    return newlist[0][1]                                      # this gets the first occurance of the winning entry and breaks the tie"
   ]
  },
  {
   "cell_type": "markdown",
   "id": "2f3ce095-384a-413f-81e9-f16d03c59355",
   "metadata": {},
   "source": [
    "---"
   ]
  },
  {
   "cell_type": "markdown",
   "id": "4963c3df-9d59-428c-b731-db26350cd9d3",
   "metadata": {},
   "source": [
    "---"
   ]
  },
  {
   "cell_type": "markdown",
   "id": "b768a1a3-9b19-4a1a-b4b5-4a965046d66e",
   "metadata": {},
   "source": [
    "<font size = 6, color = red>StackOverflow Version - with list comprehensions"
   ]
  },
  {
   "cell_type": "code",
   "execution_count": 40,
   "id": "eb1aa67c-b87e-442a-83a1-795465c5d0ad",
   "metadata": {},
   "outputs": [],
   "source": [
    "def best(score, names):\n",
    "    \n",
    "    '''\n",
    "    Uses list comprehension to break tie for equal counts\n",
    "    However, this does not use the score function (ie not a function within a function)\n",
    "    Hence, trying to rewrite this below\n",
    "    '''\n",
    "    \n",
    "    mylist = []\n",
    "    mylist = [(sum(c in 'aeiou' for c in name.lower()), name) for name in names]\n",
    "    #print(mylist)\n",
    "    return max(mylist, key = lambda x : x[0])[1]"
   ]
  },
  {
   "cell_type": "code",
   "execution_count": 41,
   "id": "a2d5b421-d0b3-42ec-9d36-60db7ce397cb",
   "metadata": {},
   "outputs": [
    {
     "data": {
      "text/plain": [
       "'Alexis'"
      ]
     },
     "execution_count": 41,
     "metadata": {},
     "output_type": "execute_result"
    }
   ],
   "source": [
    "best(number_of_vowels, names)"
   ]
  },
  {
   "cell_type": "markdown",
   "id": "c1494cff-8698-4d89-a6d7-ecd98bacae55",
   "metadata": {},
   "source": [
    "# Rewriting Stack Overflow solution with using the SCORE function"
   ]
  },
  {
   "cell_type": "code",
   "execution_count": 52,
   "id": "56762a17-7b74-45a6-9d86-35a1546ecb32",
   "metadata": {},
   "outputs": [],
   "source": [
    "def best(score, names):\n",
    "    \n",
    "    '''\n",
    "    Uses list comprehension to \n",
    "    \n",
    "    '''\n",
    "    \n",
    "    mylist = []\n",
    "    #mylist = [(sum(c in 'aeiou' for c in name.lower()), name) for name in names]\n",
    "    mylist = [((score(word), word) for word in names)]\n",
    "#    mylist = list([((score(word), word) for word in names)])\n",
    "    for item in mylist:\n",
    "        print(item)\n",
    "    print(mylist)\n",
    "    #return max(mylist, key = lambda x : x[0])[1]"
   ]
  },
  {
   "cell_type": "code",
   "execution_count": 53,
   "id": "aab46f33-56fa-42db-869d-b69815d52275",
   "metadata": {},
   "outputs": [
    {
     "name": "stdout",
     "output_type": "stream",
     "text": [
      "<generator object best.<locals>.<genexpr> at 0x7fdb812f9040>\n",
      "[<generator object best.<locals>.<genexpr> at 0x7fdb812f9040>]\n"
     ]
    }
   ],
   "source": [
    "best(number_of_vowels, names)"
   ]
  },
  {
   "cell_type": "code",
   "execution_count": 97,
   "id": "60975d7d-3bb0-4bed-a7a1-d177655b2af7",
   "metadata": {},
   "outputs": [],
   "source": [
    "def myfunc(score, names):\n",
    "#    mylist = []\n",
    "    #mylist = [(sum(c in 'aeiou' for c in name.lower()), name) for name in names]\n",
    "#    mylist = [score(word) for word in names]                                         # this works\n",
    "#    mylist = [(score(word) for word in names)]                                       # this gives the generator error\n",
    "    mylist = [(score(word), word) for word in names]                                  # this gives us list in the original order\n",
    "    return max(mylist, key = lambda x : x[0])[1]                                      # the lambda function sorts on first and then second item\n",
    "#    print(mylist)\n",
    "#    print(max(mylist)[1])"
   ]
  },
  {
   "cell_type": "code",
   "execution_count": 98,
   "id": "11b7a6ec-db27-4eb8-9194-02844062645c",
   "metadata": {},
   "outputs": [
    {
     "data": {
      "text/plain": [
       "'Alexis'"
      ]
     },
     "execution_count": 98,
     "metadata": {},
     "output_type": "execute_result"
    }
   ],
   "source": [
    "myfunc(number_of_vowels, names)"
   ]
  },
  {
   "cell_type": "markdown",
   "id": "47b01447-e874-4828-ae45-aa716ed58219",
   "metadata": {},
   "source": [
    "---"
   ]
  },
  {
   "cell_type": "markdown",
   "id": "d4ca432f-9b0a-4cf3-be50-6ec31dfcf21e",
   "metadata": {},
   "source": [
    "<font size = 6, color = red>StackOverflow Version - Working with Nested Functions!"
   ]
  },
  {
   "cell_type": "markdown",
   "id": "eb2b8d06-8d01-4bf6-a195-3b28d2b30cc2",
   "metadata": {},
   "source": [
    "# Sanitized Version - of Stack Overflow Incorporated solution"
   ]
  },
  {
   "cell_type": "code",
   "execution_count": 107,
   "id": "515ff738-e5d9-4f59-98f8-d7bd513c562a",
   "metadata": {},
   "outputs": [],
   "source": [
    "def best(score, names):\n",
    "    \n",
    "    '''\n",
    "    Uses list comprehension to create a list of tuples organized by count and word. This is not sorted explicity but retains the original order\n",
    "    We retrive the max value (using the max function) coupled with a lambda function which breaks the tie based on a sort but retaining original sequence\n",
    "    \n",
    "    '''\n",
    "    \n",
    "    mylist = [(score(word), word) for word in names]                                  # this gives us list in the original order\n",
    "    return max(mylist, key = lambda x : x[0])[1]                                      # the lambda function sorts on first and then second item"
   ]
  },
  {
   "cell_type": "code",
   "execution_count": 95,
   "id": "cfe53d27-e479-483e-a87e-bdcabaa2678e",
   "metadata": {},
   "outputs": [],
   "source": [
    "def len_score(word):\n",
    "    return len(word.lower())"
   ]
  },
  {
   "cell_type": "code",
   "execution_count": 96,
   "id": "33c28d55-634b-45a1-bc09-de9eb9c40806",
   "metadata": {},
   "outputs": [],
   "source": [
    "def number_of_vowels(word):\n",
    "    \n",
    "    '''\n",
    "    function to calculate the number of vowels in a word. \n",
    "    uses list comprehension\n",
    "    '''\n",
    "    return len([letter for letter in word if letter.lower() in 'aeiou'])         # uses list comprehension to run  word through a vowel checker and returns the length"
   ]
  },
  {
   "cell_type": "markdown",
   "id": "fa8830cd-eabb-4d45-b788-6fd3bbb2adb6",
   "metadata": {},
   "source": [
    "## Testing for final upload"
   ]
  },
  {
   "cell_type": "code",
   "execution_count": 99,
   "id": "ab5656d3-3fcc-47cc-b9cb-66525f478d84",
   "metadata": {},
   "outputs": [
    {
     "data": {
      "text/plain": [
       "'Alexis'"
      ]
     },
     "execution_count": 99,
     "metadata": {},
     "output_type": "execute_result"
    }
   ],
   "source": [
    "best(number_of_vowels, names)"
   ]
  },
  {
   "cell_type": "code",
   "execution_count": 5,
   "id": "0933c361-67ec-442d-a40d-0e87de70fe33",
   "metadata": {},
   "outputs": [],
   "source": [
    "names = [\"Ben\", \"April\", \"Zaber\", \"Alexis\", \"McJagger\", \"J.J.\", \"Madonna\"]"
   ]
  },
  {
   "cell_type": "code",
   "execution_count": 101,
   "id": "9a1e7fed-5d9d-42e7-ad88-c81a73b5c769",
   "metadata": {},
   "outputs": [
    {
     "data": {
      "text/plain": [
       "'Alexis'"
      ]
     },
     "execution_count": 101,
     "metadata": {},
     "output_type": "execute_result"
    }
   ],
   "source": [
    "best(number_of_vowels, names)"
   ]
  },
  {
   "cell_type": "code",
   "execution_count": 6,
   "id": "f6cd03cb-2e09-4971-bdf3-78d6e5db7c61",
   "metadata": {},
   "outputs": [],
   "source": [
    "names1 =  [\"Jeff\", \"Alex\", \"Robert\", \"Chris\", \"Gunnar\", \"PAULA\", \"Madonna\", \"Aei\", \"AA\"]"
   ]
  },
  {
   "cell_type": "code",
   "execution_count": 102,
   "id": "71f721ca-c16e-418d-ab97-b7ee3f6fa441",
   "metadata": {},
   "outputs": [
    {
     "data": {
      "text/plain": [
       "'PAULA'"
      ]
     },
     "execution_count": 102,
     "metadata": {},
     "output_type": "execute_result"
    }
   ],
   "source": [
    "best(number_of_vowels, names1)"
   ]
  },
  {
   "cell_type": "code",
   "execution_count": 7,
   "id": "7127bd22-ae2b-4058-8feb-b1310284c008",
   "metadata": {},
   "outputs": [],
   "source": [
    "names2 =  [\"Ben\", \"April\", \"Zaber\", \"Alexis\", \"McJagger\", \"J.J.\", \"Madonna\", \"Beiurrr\"]"
   ]
  },
  {
   "cell_type": "code",
   "execution_count": 104,
   "id": "8f52e92b-51f4-4e0a-bc05-0368dfdf6c6b",
   "metadata": {},
   "outputs": [
    {
     "data": {
      "text/plain": [
       "'Alexis'"
      ]
     },
     "execution_count": 104,
     "metadata": {},
     "output_type": "execute_result"
    }
   ],
   "source": [
    "best(number_of_vowels, names2)"
   ]
  },
  {
   "cell_type": "code",
   "execution_count": 8,
   "id": "462f2cad-ba41-4edb-8acd-715455fce66a",
   "metadata": {},
   "outputs": [],
   "source": [
    "names3 =  [ \"Alexis\"]"
   ]
  },
  {
   "cell_type": "code",
   "execution_count": 105,
   "id": "e83bfaa0-7b71-4822-8cb3-531422d27f6f",
   "metadata": {},
   "outputs": [
    {
     "data": {
      "text/plain": [
       "'Alexis'"
      ]
     },
     "execution_count": 105,
     "metadata": {},
     "output_type": "execute_result"
    }
   ],
   "source": [
    "best(number_of_vowels, names3)"
   ]
  },
  {
   "cell_type": "code",
   "execution_count": 9,
   "id": "1b63f7d0-740c-49e0-b708-88f24fe106f9",
   "metadata": {},
   "outputs": [],
   "source": [
    "names4 = [\"Alice\", \"Beatrice\", \"Amarnae\", \"Zootrope\"]"
   ]
  },
  {
   "cell_type": "code",
   "execution_count": 106,
   "id": "d8e4025d-a5d4-4f5c-a5df-db12945eac7a",
   "metadata": {},
   "outputs": [
    {
     "data": {
      "text/plain": [
       "'Beatrice'"
      ]
     },
     "execution_count": 106,
     "metadata": {},
     "output_type": "execute_result"
    }
   ],
   "source": [
    "best(number_of_vowels, names4)"
   ]
  }
 ],
 "metadata": {
  "kernelspec": {
   "display_name": "Python 3 (ipykernel)",
   "language": "python",
   "name": "python3"
  },
  "language_info": {
   "codemirror_mode": {
    "name": "ipython",
    "version": 3
   },
   "file_extension": ".py",
   "mimetype": "text/x-python",
   "name": "python",
   "nbconvert_exporter": "python",
   "pygments_lexer": "ipython3",
   "version": "3.9.12"
  }
 },
 "nbformat": 4,
 "nbformat_minor": 5
}
