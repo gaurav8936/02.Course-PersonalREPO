{
 "cells": [
  {
   "cell_type": "markdown",
   "id": "1cfa62f1",
   "metadata": {},
   "source": [
    "## Objectives:\n",
    "\n",
    "- Demonstrate how to define functions \n",
    "- Understand how to call functions from within other functions\n",
    "- Understand how to return results from a function\n",
    "- Use the Python namespace to configure variables\n",
    "- Use functions as objects to pass to other functions\n",
    "- Design and implement a recursive function\n",
    "- Demonstrate knowledge of the Try/Except error checking statements"
   ]
  },
  {
   "cell_type": "markdown",
   "id": "65423049",
   "metadata": {},
   "source": [
    "## General Guidelines:\n",
    "\n",
    "- All calculations need to be done in the functions (that includes any formatting)\n",
    "- Name your functions exactly as written in the problem statement\n",
    "- Please have your functions return the answer rather than printing it inside the function\n",
    "- Do not make a separate input() statement. The functions will be passed the input as shown in the examples\n",
    "- The examples given are samples of how we will test/grade your code. Please ensure your functions output the same information\n",
    "- Answer format is graded - please match the examples\n",
    "- Other than for Part 5, user / function inputs do not need to be validated or checked. (For example, if the problem states input an integer we will check it by inputting an integer)\n",
    "- Docstrings and comments in your code are strongly suggested but won't be graded\n",
    "- In each code block, do NOT delete the ### comment at the top of a cell (it's needed for the auto-grading!)\n",
    "  - You will get 80 points from the autograder for this assignment and 20 points will be hidden. That is, passing all of the visible tests will give you 80 points. Make sure you are meeting the requirements of the problem to get the other 20 points!\n",
    "  - Do NOT print or put other statements in the grading cells. The autograder will fail - if this happens please delete those statments and re-submit \n",
    "  - You may upload and run the autograder as many times as needed in your time window to get full points\n",
    "  - The assignment needs to be named HW_Unit_05.ipynb to be graded from the autograder\n",
    "  - The examples given are samples of how we will test/grade your code. Please ensure your code outputs the same information.\n",
    "    - In addition to the given example, the autograder will test other examples\n",
    "    - Each autograder test tells you what input it is using\n",
    "  - Once complete, the autograder will show each tests, if that test is passed or failed, and your total score\n",
    "  - The autograder fails for a couple of reasons:\n",
    "    - Your code crashes with that input (for example: `Test Failed: string index out of range`)\n",
    "    - Your code output does not match the 'correct' output (for example: `Test Failed: '1 2 3 2 1' != '1 4 6 4 1'`)"
   ]
  },
  {
   "cell_type": "markdown",
   "id": "2bb4acac",
   "metadata": {},
   "source": [
    "### 5-2. Pigs, Continued (20 points)\n",
    "\n",
    "Write a function `is_consonant` that takes a character and returns `True` if it is a consonant.\n",
    "\n",
    "Use your function to create a new function `to_piglatin` that takes a word, moves all starting consonants (all consonants before the first vowel) to the end of the word, then adds *ay* to the end and returns the result. You may expect that the input to the function will be just one word. (we know this isn't **true** pig latin - please do not change this basic algorithm). For a single word input the first letter is capitalized and the rest are lower case as shown in the example below.\n",
    "\n",
    "Examples:\n",
    "```\n",
    "(format is: function call -> returns) - do not return this whole string just return the word after the arrow.\n",
    "\n",
    "to_piglatin('stay') ->  Aystay\n",
    "to_piglatin('Jared') -> Aredjay \n",
    "to_piglatin('and') -> Anday\n",
    "to_piglatin('CAR') -> Arcay\n",
    "```"
   ]
  },
  {
   "cell_type": "code",
   "execution_count": null,
   "id": "eb921cae",
   "metadata": {},
   "outputs": [],
   "source": [
    "# Q5-2 Grading Tag:\n"
   ]
  },
  {
   "cell_type": "code",
   "execution_count": null,
   "id": "a40190b7",
   "metadata": {},
   "outputs": [],
   "source": [
    "# Test examples:\n",
    "\n",
    "print(to_piglatin('stay') == 'Aystay')\n",
    "print(to_piglatin('Jared') == 'Aredjay')\n",
    "print(to_piglatin('and') == 'Anday')\n",
    "print(to_piglatin('CAR') == 'Arcay')"
   ]
  },
  {
   "cell_type": "markdown",
   "id": "53256dc2-7c02-4294-92d0-4867bd0ead07",
   "metadata": {},
   "source": [
    "---"
   ]
  },
  {
   "cell_type": "markdown",
   "id": "d1d1ce46-2328-4b37-92eb-a8cbca1476a2",
   "metadata": {},
   "source": [
    "---"
   ]
  },
  {
   "cell_type": "markdown",
   "id": "7f39f6da-0bb5-4f0a-a93d-e527ba9f543b",
   "metadata": {},
   "source": [
    "## Previous Problem (HW_Unit_03)"
   ]
  },
  {
   "cell_type": "markdown",
   "id": "b623e947-f1f1-4028-8a52-0685ca453143",
   "metadata": {},
   "source": [
    "### 3-1. Pig Latin Translator (25 points)\n",
    "\n",
    "Write code that translates a name into (simplified) Pig Latin. (Please do not make this a 'real' Pig Latin translator.)  Have your script ask the user for his or her name, which can comprise first, middle, and/or last parts. For each name part, move the first letter to the end of the part and append the letters \"ay\". Make sure that only the first letter of each word in your output is capitalized. You can use the ```split()``` method on the string to create a list of the name parts. Be sure that your script can handle one, two or three name parts separated by spaces. This will likely involve a loop.\n",
    "\n",
    "Your script should re-create the following example exactly:\n",
    "\n",
    "```\n",
    "Enter your name: Paul Laskowski\n",
    "\n",
    "Aulpay Askowskilay\n",
    "```"
   ]
  },
  {
   "cell_type": "code",
   "execution_count": null,
   "id": "6288f421-f09e-4226-8c3a-b476630d405a",
   "metadata": {},
   "outputs": [],
   "source": [
    "### Q3-1 Grading Tag: Please put your entire solution in this cell. Don't edit this line.\n",
    "\n",
    "name = input(\"Please enter your name\")\n",
    "\n",
    "namelist = name.split()\n",
    "result = \"\"\n",
    "mylist = []\n",
    "\n",
    "#print(len(elem[0]))\n",
    "\n",
    "for elem in namelist:\n",
    "    if len(elem) == 1:\n",
    "        result = result + elem[0].upper() + \"ay \"\n",
    "        mylist.append(result)\n",
    "    else:\n",
    "        result = result + elem[1:].capitalize() + elem[0].lower() + \"ay \"\n",
    "        mylist.append(result)\n",
    "\n",
    "mystring = str(mylist[-1])\n",
    "print(mystring)"
   ]
  },
  {
   "cell_type": "markdown",
   "id": "8209b319-6282-4832-8b52-a2bcd6125012",
   "metadata": {},
   "source": [
    "---"
   ]
  },
  {
   "cell_type": "markdown",
   "id": "fdc869f4-ec56-4f02-9595-35a732797f7d",
   "metadata": {},
   "source": [
    "---"
   ]
  },
  {
   "cell_type": "code",
   "execution_count": 2,
   "id": "374590c9-a4fb-4bfc-9754-096fce3b173f",
   "metadata": {},
   "outputs": [],
   "source": [
    "def to_piglatin(name):\n",
    "    \n",
    "    global namelist\n",
    "    \n",
    "    namelist = list(name)\n",
    "    result = \"\"\n",
    "    mylist = []\n",
    "\n",
    "    print(namelist)"
   ]
  },
  {
   "cell_type": "code",
   "execution_count": 3,
   "id": "6910f71f-08c4-432e-8d6b-de1b55f6b561",
   "metadata": {},
   "outputs": [
    {
     "name": "stdout",
     "output_type": "stream",
     "text": [
      "['h', 'e', 'l', 'l', 'o']\n"
     ]
    }
   ],
   "source": [
    "to_piglatin('hello')"
   ]
  },
  {
   "cell_type": "code",
   "execution_count": 4,
   "id": "cf587c86-370e-47da-8f82-02194cb39aff",
   "metadata": {},
   "outputs": [
    {
     "data": {
      "text/plain": [
       "'h'"
      ]
     },
     "execution_count": 4,
     "metadata": {},
     "output_type": "execute_result"
    }
   ],
   "source": [
    "namelist[0]"
   ]
  },
  {
   "cell_type": "code",
   "execution_count": 16,
   "id": "782aea0a-85f2-4561-a2c0-d9a9eaf1f1c4",
   "metadata": {},
   "outputs": [],
   "source": [
    "namelist = list('swweomewhere')"
   ]
  },
  {
   "cell_type": "code",
   "execution_count": 18,
   "id": "afb9335a-82ce-41b4-baf0-b73faac839de",
   "metadata": {},
   "outputs": [
    {
     "name": "stdout",
     "output_type": "stream",
     "text": [
      "sww\n"
     ]
    }
   ],
   "source": [
    "vowels = 'aeiou'\n",
    "before_vowel = ''\n",
    "after_vowel = ''\n",
    "\n",
    "for letter in namelist:\n",
    "    #print(letter)\n",
    "    if letter in vowels:\n",
    "        break\n",
    "    else:\n",
    "        before_vowel = before_vowel + letter# .append(letter)\n",
    "    \n",
    "#    before_vowel = namelist.append(letter)\n",
    "print(before_vowel)\n",
    "    "
   ]
  },
  {
   "cell_type": "markdown",
   "id": "03b03e9d-9ff3-4fce-8bce-57c253be8032",
   "metadata": {},
   "source": [
    "# Working Function"
   ]
  },
  {
   "cell_type": "code",
   "execution_count": null,
   "id": "e63044d5-3ca5-4c44-809b-f154e609f558",
   "metadata": {},
   "outputs": [],
   "source": [
    "# the query works"
   ]
  },
  {
   "cell_type": "code",
   "execution_count": 67,
   "id": "4e6d366d-1302-45b9-ab1f-219481f0d83c",
   "metadata": {},
   "outputs": [
    {
     "name": "stdout",
     "output_type": "stream",
     "text": [
      "Arcay\n"
     ]
    }
   ],
   "source": [
    "namelist = list('CAR')\n",
    "vowels = 'aeiou'\n",
    "before_vowel = ''\n",
    "after_vowel = ''\n",
    "combined_word = ''\n",
    "final_word = ''\n",
    "\n",
    "for letter in namelist:\n",
    "    #print(letter)\n",
    "    if letter.lower() in vowels:\n",
    "        #break\n",
    "#        print(namelist.index(letter))\n",
    "#        after_vowel = after_vowel + letter\n",
    "#        after_vowel = after_vowel + str(namelist[namelist.index(letter):])\n",
    "#        after_vowel = ''.join(str(namelist[namelist.index(letter):]))\n",
    "        after_vowel = (''.join(namelist[namelist.index(letter):])).lower()\n",
    "        #after_vowel = after_vowel.lower()\n",
    "    \n",
    "#        print(after_vowel)\n",
    "        break\n",
    "    \n",
    "    else:\n",
    "        before_vowel = (before_vowel + letter).lower() # .append(letter)\n",
    "#        before_vowel = before_vowel.lower()\n",
    "    \n",
    "#    before_vowel = namelist.append(letter)\n",
    "\n",
    "#print(after_vowel)\n",
    "#print(before_vowel)\n",
    "\n",
    "#print(after_vowel.capitalize())\n",
    "\n",
    "#combined_word = after_vowel.capitalize() + before_vowel + 'ay'\n",
    "#combined_word = after_vowel + before_vowel + 'ay'\n",
    "#final_word = combined_word.capitalize()\n",
    "combined_word = (after_vowel + before_vowel + 'ay').capitalize()\n",
    "print(combined_word)\n",
    "#print(final_word)"
   ]
  },
  {
   "cell_type": "markdown",
   "id": "a9d28b39-7d70-4e9f-a7d6-b8c1cf7e53df",
   "metadata": {},
   "source": [
    "---"
   ]
  },
  {
   "cell_type": "markdown",
   "id": "f8b9f878-be0b-4f42-8bf0-079fb594b4db",
   "metadata": {},
   "source": [
    "# Sanitized Query"
   ]
  },
  {
   "cell_type": "code",
   "execution_count": 73,
   "id": "94887da2-0efa-468e-b008-2e255500fd88",
   "metadata": {},
   "outputs": [
    {
     "name": "stdout",
     "output_type": "stream",
     "text": [
      "Arcay\n"
     ]
    }
   ],
   "source": [
    "namelist = list('CAR')\n",
    "vowels = 'aeiou'\n",
    "before_vowel = ''\n",
    "after_vowel = ''\n",
    "combined_word = ''\n",
    "\n",
    "for letter in namelist:\n",
    "    if letter.lower() in vowels:\n",
    "        after_vowel = (''.join(namelist[namelist.index(letter):])).lower()\n",
    "        break\n",
    "    else:\n",
    "        before_vowel = (before_vowel + letter).lower() # .append(letter)\n",
    "\n",
    "print((after_vowel + before_vowel + 'ay').capitalize())"
   ]
  },
  {
   "cell_type": "code",
   "execution_count": 53,
   "id": "36a2f162-282e-46d3-9f93-a57222657f64",
   "metadata": {},
   "outputs": [
    {
     "data": {
      "text/plain": [
       "str"
      ]
     },
     "execution_count": 53,
     "metadata": {},
     "output_type": "execute_result"
    }
   ],
   "source": [
    "type(before_vowel)"
   ]
  },
  {
   "cell_type": "code",
   "execution_count": null,
   "id": "cd3bb7a3-236a-4c62-8c31-4a3458c63baf",
   "metadata": {},
   "outputs": [],
   "source": []
  },
  {
   "cell_type": "markdown",
   "id": "5fe3a21c-b637-4dbb-8526-5a15f467b9a1",
   "metadata": {},
   "source": [
    "---"
   ]
  },
  {
   "cell_type": "markdown",
   "id": "c80e6ff4-5ba1-4c8c-aeac-7d78a103fdd6",
   "metadata": {},
   "source": [
    "# Current Model -- Putting it all together in a function"
   ]
  },
  {
   "cell_type": "code",
   "execution_count": 34,
   "id": "cfc1521b-461c-4ccd-a8fd-92fad2d75c8f",
   "metadata": {},
   "outputs": [],
   "source": [
    "def to_piglatin(name):\n",
    "    \n",
    "#    global namelist\n",
    "    \n",
    "    namelist = list(name)\n",
    "    vowels = 'aeiou'\n",
    "    before_vowel = ''\n",
    "    after_vowel = ''\n",
    "    combined_word = ''\n",
    "\n",
    "    for letter in namelist:\n",
    "        #print(letter)\n",
    "        if letter in vowels:\n",
    "            #break\n",
    "    #        print(namelist.index(letter))\n",
    "    #        after_vowel = after_vowel + letter\n",
    "    #        after_vowel = after_vowel + str(namelist[namelist.index(letter):])\n",
    "    #        after_vowel = ''.join(str(namelist[namelist.index(letter):]))\n",
    "            after_vowel = ''.join(namelist[namelist.index(letter):])\n",
    "\n",
    "    #        print(after_vowel)\n",
    "            break\n",
    "\n",
    "        else:\n",
    "            before_vowel = before_vowel + letter# .append(letter)\n",
    "\n",
    "    #    before_vowel = namelist.append(letter)\n",
    "\n",
    "    #print(after_vowel)\n",
    "    #print(before_vowel)\n",
    "\n",
    "    combined_word = after_vowel.capitalize() + before_vowel + 'ay'\n",
    "    print(combined_word)"
   ]
  },
  {
   "cell_type": "markdown",
   "id": "f2074a6c-6e0b-4408-b9c6-a7c8aaecef60",
   "metadata": {},
   "source": [
    "---"
   ]
  },
  {
   "cell_type": "markdown",
   "id": "cf28a5b2-0230-4388-ad53-e29affb19d00",
   "metadata": {},
   "source": [
    "---"
   ]
  },
  {
   "cell_type": "markdown",
   "id": "6d7b6c2f-f186-4e16-add2-ec72342af94a",
   "metadata": {},
   "source": [
    "<font size = 6, color = red>CURRENT"
   ]
  },
  {
   "cell_type": "markdown",
   "id": "8cc9744e-cf3f-4b6e-81a2-89d0445d429a",
   "metadata": {},
   "source": [
    "# Final - Working Function (with revised query - Capitalize)"
   ]
  },
  {
   "cell_type": "code",
   "execution_count": 78,
   "id": "6311ac36-e3f0-4129-8cb9-8fb8e7450e6b",
   "metadata": {},
   "outputs": [],
   "source": [
    "def to_piglatin(name):\n",
    "    namelist = list(name)\n",
    "    vowels = 'aeiou'\n",
    "    before_vowel = ''\n",
    "    after_vowel = ''\n",
    "    combined_word = ''\n",
    "\n",
    "    for letter in namelist:\n",
    "        if letter.lower() in vowels:\n",
    "            after_vowel = (''.join(namelist[namelist.index(letter):])).lower()\n",
    "            break\n",
    "        else:\n",
    "            before_vowel = (before_vowel + letter).lower() # .append(letter)\n",
    "\n",
    "    #print((after_vowel + before_vowel + 'ay').capitalize())\n",
    "    return ((after_vowel + before_vowel + 'ay').capitalize())"
   ]
  },
  {
   "cell_type": "code",
   "execution_count": 79,
   "id": "012c234e-cecf-4d38-ab62-0d5e3060ea17",
   "metadata": {
    "collapsed": true,
    "jupyter": {
     "outputs_hidden": true,
     "source_hidden": true
    },
    "tags": []
   },
   "outputs": [
    {
     "name": "stdout",
     "output_type": "stream",
     "text": [
      "Arcay\n"
     ]
    }
   ],
   "source": [
    "print(to_piglatin('CAR'))"
   ]
  },
  {
   "cell_type": "code",
   "execution_count": 80,
   "id": "18c880c3-0df7-43d7-8bb6-b443d1923168",
   "metadata": {
    "collapsed": true,
    "jupyter": {
     "outputs_hidden": true,
     "source_hidden": true
    },
    "tags": []
   },
   "outputs": [
    {
     "name": "stdout",
     "output_type": "stream",
     "text": [
      "Aystay\n"
     ]
    }
   ],
   "source": [
    "print(to_piglatin('stay'))"
   ]
  },
  {
   "cell_type": "code",
   "execution_count": 81,
   "id": "f537b5b6-777b-4717-a5de-e3fc24333588",
   "metadata": {
    "collapsed": true,
    "jupyter": {
     "outputs_hidden": true,
     "source_hidden": true
    },
    "tags": []
   },
   "outputs": [
    {
     "name": "stdout",
     "output_type": "stream",
     "text": [
      "Anday\n"
     ]
    }
   ],
   "source": [
    "print(to_piglatin('and'))"
   ]
  },
  {
   "cell_type": "code",
   "execution_count": 82,
   "id": "868c2a4e-2c9f-4c9b-bc4c-36f5e57e7c4e",
   "metadata": {
    "collapsed": true,
    "jupyter": {
     "outputs_hidden": true,
     "source_hidden": true
    },
    "tags": []
   },
   "outputs": [
    {
     "name": "stdout",
     "output_type": "stream",
     "text": [
      "Aredjay\n"
     ]
    }
   ],
   "source": [
    "print(to_piglatin('Jared'))"
   ]
  },
  {
   "cell_type": "code",
   "execution_count": null,
   "id": "94c18ae9-7a2d-409c-8ce1-a6812139fdde",
   "metadata": {
    "jupyter": {
     "source_hidden": true
    },
    "tags": []
   },
   "outputs": [],
   "source": []
  },
  {
   "cell_type": "code",
   "execution_count": 36,
   "id": "fff32c88-e889-4f5d-8346-0016b4793670",
   "metadata": {
    "collapsed": true,
    "jupyter": {
     "outputs_hidden": true,
     "source_hidden": true
    },
    "tags": []
   },
   "outputs": [
    {
     "name": "stdout",
     "output_type": "stream",
     "text": [
      "Aystay\n"
     ]
    }
   ],
   "source": [
    "to_piglatin('stay')"
   ]
  },
  {
   "cell_type": "code",
   "execution_count": 37,
   "id": "9975c3e4-78b7-49a6-92a4-d4ef8940ad63",
   "metadata": {
    "collapsed": true,
    "jupyter": {
     "outputs_hidden": true,
     "source_hidden": true
    },
    "tags": []
   },
   "outputs": [
    {
     "name": "stdout",
     "output_type": "stream",
     "text": [
      "Aredjay\n"
     ]
    }
   ],
   "source": [
    "to_piglatin('jared')"
   ]
  },
  {
   "cell_type": "code",
   "execution_count": 38,
   "id": "0e57f31d-b60b-4878-a0f9-fe29891e3974",
   "metadata": {
    "collapsed": true,
    "jupyter": {
     "outputs_hidden": true,
     "source_hidden": true
    },
    "tags": []
   },
   "outputs": [
    {
     "name": "stdout",
     "output_type": "stream",
     "text": [
      "Anday\n"
     ]
    }
   ],
   "source": [
    "to_piglatin('and')"
   ]
  },
  {
   "cell_type": "code",
   "execution_count": null,
   "id": "588d5c28-3196-4aee-bf19-14ca5946a758",
   "metadata": {
    "collapsed": true,
    "jupyter": {
     "outputs_hidden": true,
     "source_hidden": true
    },
    "tags": []
   },
   "outputs": [
    {
     "name": "stdout",
     "output_type": "stream",
     "text": [
      "CARay\n"
     ]
    }
   ],
   "source": [
    "to_piglatin('CAR')"
   ]
  },
  {
   "cell_type": "code",
   "execution_count": null,
   "id": "3105c33f-eccc-4f3a-aa00-abafedbc8a51",
   "metadata": {},
   "outputs": [],
   "source": []
  },
  {
   "cell_type": "code",
   "execution_count": null,
   "id": "af14cc40-d573-4c6b-ab02-52a4f8482ae7",
   "metadata": {},
   "outputs": [],
   "source": []
  },
  {
   "cell_type": "code",
   "execution_count": null,
   "id": "dc5809c3-a6e6-42ac-901a-67fe104779ac",
   "metadata": {},
   "outputs": [],
   "source": []
  },
  {
   "cell_type": "markdown",
   "id": "d65c2bc9-073c-4995-a0a2-5ec39f4fc43b",
   "metadata": {},
   "source": [
    "---"
   ]
  },
  {
   "cell_type": "markdown",
   "id": "e5608f9e-ac05-4bfb-9bd9-d8efd857ae5a",
   "metadata": {},
   "source": [
    "# Redoing Current model with strings instead of Lists"
   ]
  },
  {
   "cell_type": "code",
   "execution_count": null,
   "id": "328e1d4f-d890-48bd-8301-5363f51bc2bd",
   "metadata": {},
   "outputs": [],
   "source": [
    "word = 'swweomewhere'\n",
    "vowels = 'aeiou'\n",
    "before_vowel = ''\n",
    "after_vowel = ''\n",
    "\n",
    "for letter in word:\n",
    "    #print(letter)\n",
    "    if letter in vowels:\n",
    "        #break\n",
    "        print(namelist.index(letter))\n",
    "#        after_vowel = after_vowel + letter\n",
    "        after_vowel = after_vowel + str(namelist[namelist.index(letter):])\n",
    "        print(after_vowel)\n",
    "        break\n",
    "    \n",
    "    else:\n",
    "        before_vowel = before_vowel + letter# .append(letter)\n",
    "    \n",
    "#    before_vowel = namelist.append(letter)\n",
    "\n",
    "#print(after_vowel)\n",
    "#print(before_vowel)"
   ]
  },
  {
   "cell_type": "code",
   "execution_count": null,
   "id": "2336b013-67ec-4fac-8edd-135090784d3b",
   "metadata": {},
   "outputs": [],
   "source": []
  },
  {
   "cell_type": "code",
   "execution_count": null,
   "id": "f80ba49a-6e4f-40c8-b553-da145ea5049f",
   "metadata": {},
   "outputs": [],
   "source": []
  },
  {
   "cell_type": "code",
   "execution_count": null,
   "id": "053fa876-6187-4aac-a3d3-b2830e8e8734",
   "metadata": {},
   "outputs": [],
   "source": []
  },
  {
   "cell_type": "code",
   "execution_count": 21,
   "id": "4825f2c4-06b6-4947-a8a5-46f2e944ca8f",
   "metadata": {},
   "outputs": [
    {
     "data": {
      "text/plain": [
       "['s', 'w', 'w', 'e', 'o', 'm', 'e', 'w', 'h', 'e', 'r', 'e']"
      ]
     },
     "execution_count": 21,
     "metadata": {},
     "output_type": "execute_result"
    }
   ],
   "source": [
    "namelist"
   ]
  },
  {
   "cell_type": "code",
   "execution_count": 23,
   "id": "5704b986-35f9-47bc-bf3f-3657819249d6",
   "metadata": {},
   "outputs": [
    {
     "data": {
      "text/plain": [
       "1"
      ]
     },
     "execution_count": 23,
     "metadata": {},
     "output_type": "execute_result"
    }
   ],
   "source": [
    "vowels = 'aeiou'\n",
    "namelist = list('swweomewhere')\n",
    "\n",
    "\n",
    "namelist.index('w')\n",
    "\n",
    "namelist.index()"
   ]
  },
  {
   "cell_type": "code",
   "execution_count": null,
   "id": "520e1602-f48e-40e0-a9f3-087fa623e1e2",
   "metadata": {},
   "outputs": [],
   "source": []
  }
 ],
 "metadata": {
  "kernelspec": {
   "display_name": "Python 3 (ipykernel)",
   "language": "python",
   "name": "python3"
  },
  "language_info": {
   "codemirror_mode": {
    "name": "ipython",
    "version": 3
   },
   "file_extension": ".py",
   "mimetype": "text/x-python",
   "name": "python",
   "nbconvert_exporter": "python",
   "pygments_lexer": "ipython3",
   "version": "3.9.12"
  }
 },
 "nbformat": 4,
 "nbformat_minor": 5
}
