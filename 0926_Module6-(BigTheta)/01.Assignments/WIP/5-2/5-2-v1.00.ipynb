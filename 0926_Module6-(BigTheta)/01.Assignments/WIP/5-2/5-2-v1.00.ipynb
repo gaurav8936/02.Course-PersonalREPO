{
 "cells": [
  {
   "cell_type": "markdown",
   "id": "1cfa62f1",
   "metadata": {},
   "source": [
    "## Objectives:\n",
    "\n",
    "- Demonstrate how to define functions \n",
    "- Understand how to call functions from within other functions\n",
    "- Understand how to return results from a function\n",
    "- Use the Python namespace to configure variables\n",
    "- Use functions as objects to pass to other functions\n",
    "- Design and implement a recursive function\n",
    "- Demonstrate knowledge of the Try/Except error checking statements"
   ]
  },
  {
   "cell_type": "markdown",
   "id": "65423049",
   "metadata": {},
   "source": [
    "## General Guidelines:\n",
    "\n",
    "- All calculations need to be done in the functions (that includes any formatting)\n",
    "- Name your functions exactly as written in the problem statement\n",
    "- Please have your functions return the answer rather than printing it inside the function\n",
    "- Do not make a separate input() statement. The functions will be passed the input as shown in the examples\n",
    "- The examples given are samples of how we will test/grade your code. Please ensure your functions output the same information\n",
    "- Answer format is graded - please match the examples\n",
    "- Other than for Part 5, user / function inputs do not need to be validated or checked. (For example, if the problem states input an integer we will check it by inputting an integer)\n",
    "- Docstrings and comments in your code are strongly suggested but won't be graded\n",
    "- In each code block, do NOT delete the ### comment at the top of a cell (it's needed for the auto-grading!)\n",
    "  - You will get 80 points from the autograder for this assignment and 20 points will be hidden. That is, passing all of the visible tests will give you 80 points. Make sure you are meeting the requirements of the problem to get the other 20 points!\n",
    "  - Do NOT print or put other statements in the grading cells. The autograder will fail - if this happens please delete those statments and re-submit \n",
    "  - You may upload and run the autograder as many times as needed in your time window to get full points\n",
    "  - The assignment needs to be named HW_Unit_05.ipynb to be graded from the autograder\n",
    "  - The examples given are samples of how we will test/grade your code. Please ensure your code outputs the same information.\n",
    "    - In addition to the given example, the autograder will test other examples\n",
    "    - Each autograder test tells you what input it is using\n",
    "  - Once complete, the autograder will show each tests, if that test is passed or failed, and your total score\n",
    "  - The autograder fails for a couple of reasons:\n",
    "    - Your code crashes with that input (for example: `Test Failed: string index out of range`)\n",
    "    - Your code output does not match the 'correct' output (for example: `Test Failed: '1 2 3 2 1' != '1 4 6 4 1'`)"
   ]
  },
  {
   "cell_type": "markdown",
   "id": "2bb4acac",
   "metadata": {},
   "source": [
    "### 5-2. Pigs, Continued (20 points)\n",
    "\n",
    "Write a function `is_consonant` that takes a character and returns `True` if it is a consonant.\n",
    "\n",
    "Use your function to create a new function `to_piglatin` that takes a word, moves all starting consonants (all consonants before the first vowel) to the end of the word, then adds *ay* to the end and returns the result. You may expect that the input to the function will be just one word. (we know this isn't **true** pig latin - please do not change this basic algorithm). For a single word input the first letter is capitalized and the rest are lower case as shown in the example below.\n",
    "\n",
    "Examples:\n",
    "```\n",
    "(format is: function call -> returns) - do not return this whole string just return the word after the arrow.\n",
    "\n",
    "to_piglatin('stay') ->  Aystay\n",
    "to_piglatin('Jared') -> Aredjay \n",
    "to_piglatin('and') -> Anday\n",
    "to_piglatin('CAR') -> Arcay\n",
    "```"
   ]
  },
  {
   "cell_type": "code",
   "execution_count": null,
   "id": "eb921cae",
   "metadata": {},
   "outputs": [],
   "source": [
    "# Q5-2 Grading Tag:\n"
   ]
  },
  {
   "cell_type": "code",
   "execution_count": null,
   "id": "a40190b7",
   "metadata": {},
   "outputs": [],
   "source": [
    "# Test examples:\n",
    "\n",
    "print(to_piglatin('stay') == 'Aystay')\n",
    "print(to_piglatin('Jared') == 'Aredjay')\n",
    "print(to_piglatin('and') == 'Anday')\n",
    "print(to_piglatin('CAR') == 'Arcay')"
   ]
  },
  {
   "cell_type": "markdown",
   "id": "53256dc2-7c02-4294-92d0-4867bd0ead07",
   "metadata": {},
   "source": [
    "---"
   ]
  },
  {
   "cell_type": "markdown",
   "id": "d1d1ce46-2328-4b37-92eb-a8cbca1476a2",
   "metadata": {},
   "source": [
    "---"
   ]
  },
  {
   "cell_type": "markdown",
   "id": "7f39f6da-0bb5-4f0a-a93d-e527ba9f543b",
   "metadata": {},
   "source": [
    "## Previous Problem (HW_Unit_03)"
   ]
  },
  {
   "cell_type": "markdown",
   "id": "b623e947-f1f1-4028-8a52-0685ca453143",
   "metadata": {},
   "source": [
    "### 3-1. Pig Latin Translator (25 points)\n",
    "\n",
    "Write code that translates a name into (simplified) Pig Latin. (Please do not make this a 'real' Pig Latin translator.)  Have your script ask the user for his or her name, which can comprise first, middle, and/or last parts. For each name part, move the first letter to the end of the part and append the letters \"ay\". Make sure that only the first letter of each word in your output is capitalized. You can use the ```split()``` method on the string to create a list of the name parts. Be sure that your script can handle one, two or three name parts separated by spaces. This will likely involve a loop.\n",
    "\n",
    "Your script should re-create the following example exactly:\n",
    "\n",
    "```\n",
    "Enter your name: Paul Laskowski\n",
    "\n",
    "Aulpay Askowskilay\n",
    "```"
   ]
  },
  {
   "cell_type": "code",
   "execution_count": null,
   "id": "6288f421-f09e-4226-8c3a-b476630d405a",
   "metadata": {},
   "outputs": [],
   "source": [
    "### Q3-1 Grading Tag: Please put your entire solution in this cell. Don't edit this line.\n",
    "\n",
    "name = input(\"Please enter your name\")\n",
    "\n",
    "namelist = name.split()\n",
    "result = \"\"\n",
    "mylist = []\n",
    "\n",
    "#print(len(elem[0]))\n",
    "\n",
    "for elem in namelist:\n",
    "    if len(elem) == 1:\n",
    "        result = result + elem[0].upper() + \"ay \"\n",
    "        mylist.append(result)\n",
    "    else:\n",
    "        result = result + elem[1:].capitalize() + elem[0].lower() + \"ay \"\n",
    "        mylist.append(result)\n",
    "\n",
    "mystring = str(mylist[-1])\n",
    "print(mystring)"
   ]
  },
  {
   "cell_type": "markdown",
   "id": "8209b319-6282-4832-8b52-a2bcd6125012",
   "metadata": {},
   "source": [
    "---"
   ]
  },
  {
   "cell_type": "markdown",
   "id": "fdc869f4-ec56-4f02-9595-35a732797f7d",
   "metadata": {},
   "source": [
    "---"
   ]
  },
  {
   "cell_type": "markdown",
   "id": "03b03e9d-9ff3-4fce-8bce-57c253be8032",
   "metadata": {},
   "source": [
    "# Working Function"
   ]
  },
  {
   "cell_type": "code",
   "execution_count": null,
   "id": "e63044d5-3ca5-4c44-809b-f154e609f558",
   "metadata": {},
   "outputs": [],
   "source": [
    "# the query works"
   ]
  },
  {
   "cell_type": "code",
   "execution_count": 67,
   "id": "4e6d366d-1302-45b9-ab1f-219481f0d83c",
   "metadata": {
    "jupyter": {
     "source_hidden": true
    },
    "tags": []
   },
   "outputs": [
    {
     "name": "stdout",
     "output_type": "stream",
     "text": [
      "Arcay\n"
     ]
    }
   ],
   "source": [
    "namelist = list('CAR')\n",
    "vowels = 'aeiou'\n",
    "before_vowel = ''\n",
    "after_vowel = ''\n",
    "combined_word = ''\n",
    "final_word = ''\n",
    "\n",
    "for letter in namelist:\n",
    "    #print(letter)\n",
    "    if letter.lower() in vowels:\n",
    "        #break\n",
    "#        print(namelist.index(letter))\n",
    "#        after_vowel = after_vowel + letter\n",
    "#        after_vowel = after_vowel + str(namelist[namelist.index(letter):])\n",
    "#        after_vowel = ''.join(str(namelist[namelist.index(letter):]))\n",
    "        after_vowel = (''.join(namelist[namelist.index(letter):])).lower()\n",
    "        #after_vowel = after_vowel.lower()\n",
    "    \n",
    "#        print(after_vowel)\n",
    "        break\n",
    "    \n",
    "    else:\n",
    "        before_vowel = (before_vowel + letter).lower() # .append(letter)\n",
    "#        before_vowel = before_vowel.lower()\n",
    "    \n",
    "#    before_vowel = namelist.append(letter)\n",
    "\n",
    "#print(after_vowel)\n",
    "#print(before_vowel)\n",
    "\n",
    "#print(after_vowel.capitalize())\n",
    "\n",
    "#combined_word = after_vowel.capitalize() + before_vowel + 'ay'\n",
    "#combined_word = after_vowel + before_vowel + 'ay'\n",
    "#final_word = combined_word.capitalize()\n",
    "combined_word = (after_vowel + before_vowel + 'ay').capitalize()\n",
    "print(combined_word)\n",
    "#print(final_word)"
   ]
  },
  {
   "cell_type": "markdown",
   "id": "a9d28b39-7d70-4e9f-a7d6-b8c1cf7e53df",
   "metadata": {},
   "source": [
    "---"
   ]
  },
  {
   "cell_type": "markdown",
   "id": "f8b9f878-be0b-4f42-8bf0-079fb594b4db",
   "metadata": {},
   "source": [
    "# Sanitized Query"
   ]
  },
  {
   "cell_type": "code",
   "execution_count": 73,
   "id": "94887da2-0efa-468e-b008-2e255500fd88",
   "metadata": {
    "jupyter": {
     "source_hidden": true
    },
    "tags": []
   },
   "outputs": [
    {
     "name": "stdout",
     "output_type": "stream",
     "text": [
      "Arcay\n"
     ]
    }
   ],
   "source": [
    "namelist = list('CAR')\n",
    "vowels = 'aeiou'\n",
    "before_vowel = ''\n",
    "after_vowel = ''\n",
    "combined_word = ''\n",
    "\n",
    "for letter in namelist:\n",
    "    if letter.lower() in vowels:\n",
    "        after_vowel = (''.join(namelist[namelist.index(letter):])).lower()\n",
    "        break\n",
    "    else:\n",
    "        before_vowel = (before_vowel + letter).lower() # .append(letter)\n",
    "\n",
    "print((after_vowel + before_vowel + 'ay').capitalize())"
   ]
  },
  {
   "cell_type": "code",
   "execution_count": 53,
   "id": "36a2f162-282e-46d3-9f93-a57222657f64",
   "metadata": {},
   "outputs": [
    {
     "data": {
      "text/plain": [
       "str"
      ]
     },
     "execution_count": 53,
     "metadata": {},
     "output_type": "execute_result"
    }
   ],
   "source": [
    "type(before_vowel)"
   ]
  },
  {
   "cell_type": "code",
   "execution_count": null,
   "id": "cd3bb7a3-236a-4c62-8c31-4a3458c63baf",
   "metadata": {},
   "outputs": [],
   "source": []
  },
  {
   "cell_type": "markdown",
   "id": "5fe3a21c-b637-4dbb-8526-5a15f467b9a1",
   "metadata": {},
   "source": [
    "---"
   ]
  },
  {
   "cell_type": "markdown",
   "id": "c80e6ff4-5ba1-4c8c-aeac-7d78a103fdd6",
   "metadata": {},
   "source": [
    "# Current Model -- Putting it all together in a function"
   ]
  },
  {
   "cell_type": "code",
   "execution_count": 34,
   "id": "cfc1521b-461c-4ccd-a8fd-92fad2d75c8f",
   "metadata": {
    "jupyter": {
     "source_hidden": true
    },
    "tags": []
   },
   "outputs": [],
   "source": [
    "def to_piglatin(name):\n",
    "    \n",
    "#    global namelist\n",
    "    \n",
    "    namelist = list(name)\n",
    "    vowels = 'aeiou'\n",
    "    before_vowel = ''\n",
    "    after_vowel = ''\n",
    "    combined_word = ''\n",
    "\n",
    "    for letter in namelist:\n",
    "        #print(letter)\n",
    "        if letter in vowels:\n",
    "            #break\n",
    "    #        print(namelist.index(letter))\n",
    "    #        after_vowel = after_vowel + letter\n",
    "    #        after_vowel = after_vowel + str(namelist[namelist.index(letter):])\n",
    "    #        after_vowel = ''.join(str(namelist[namelist.index(letter):]))\n",
    "            after_vowel = ''.join(namelist[namelist.index(letter):])\n",
    "\n",
    "    #        print(after_vowel)\n",
    "            break\n",
    "\n",
    "        else:\n",
    "            before_vowel = before_vowel + letter# .append(letter)\n",
    "\n",
    "    #    before_vowel = namelist.append(letter)\n",
    "\n",
    "    #print(after_vowel)\n",
    "    #print(before_vowel)\n",
    "\n",
    "    combined_word = after_vowel.capitalize() + before_vowel + 'ay'\n",
    "    print(combined_word)"
   ]
  },
  {
   "cell_type": "markdown",
   "id": "f2074a6c-6e0b-4408-b9c6-a7c8aaecef60",
   "metadata": {},
   "source": [
    "---"
   ]
  },
  {
   "cell_type": "markdown",
   "id": "cf28a5b2-0230-4388-ad53-e29affb19d00",
   "metadata": {},
   "source": [
    "---"
   ]
  },
  {
   "cell_type": "markdown",
   "id": "6d7b6c2f-f186-4e16-add2-ec72342af94a",
   "metadata": {},
   "source": [
    "<font size = 6, color = red>CURRENT"
   ]
  },
  {
   "cell_type": "markdown",
   "id": "8cc9744e-cf3f-4b6e-81a2-89d0445d429a",
   "metadata": {},
   "source": [
    "# Final - Working Function (with revised query - Capitalize)"
   ]
  },
  {
   "cell_type": "code",
   "execution_count": 78,
   "id": "6311ac36-e3f0-4129-8cb9-8fb8e7450e6b",
   "metadata": {},
   "outputs": [],
   "source": [
    "def to_piglatin(name):\n",
    "    namelist = list(name)\n",
    "    vowels = 'aeiou'\n",
    "    before_vowel = ''\n",
    "    after_vowel = ''\n",
    "    combined_word = ''\n",
    "\n",
    "    for letter in namelist:\n",
    "        if letter.lower() in vowels:\n",
    "            after_vowel = (''.join(namelist[namelist.index(letter):])).lower()\n",
    "            break\n",
    "        else:\n",
    "            before_vowel = (before_vowel + letter).lower() # .append(letter)\n",
    "\n",
    "    #print((after_vowel + before_vowel + 'ay').capitalize())\n",
    "    return ((after_vowel + before_vowel + 'ay').capitalize())"
   ]
  },
  {
   "cell_type": "code",
   "execution_count": 79,
   "id": "012c234e-cecf-4d38-ab62-0d5e3060ea17",
   "metadata": {
    "collapsed": true,
    "jupyter": {
     "outputs_hidden": true,
     "source_hidden": true
    },
    "tags": []
   },
   "outputs": [
    {
     "name": "stdout",
     "output_type": "stream",
     "text": [
      "Arcay\n"
     ]
    }
   ],
   "source": [
    "print(to_piglatin('CAR'))"
   ]
  },
  {
   "cell_type": "code",
   "execution_count": 80,
   "id": "18c880c3-0df7-43d7-8bb6-b443d1923168",
   "metadata": {
    "collapsed": true,
    "jupyter": {
     "outputs_hidden": true,
     "source_hidden": true
    },
    "tags": []
   },
   "outputs": [
    {
     "name": "stdout",
     "output_type": "stream",
     "text": [
      "Aystay\n"
     ]
    }
   ],
   "source": [
    "print(to_piglatin('stay'))"
   ]
  },
  {
   "cell_type": "code",
   "execution_count": 81,
   "id": "f537b5b6-777b-4717-a5de-e3fc24333588",
   "metadata": {
    "collapsed": true,
    "jupyter": {
     "outputs_hidden": true,
     "source_hidden": true
    },
    "tags": []
   },
   "outputs": [
    {
     "name": "stdout",
     "output_type": "stream",
     "text": [
      "Anday\n"
     ]
    }
   ],
   "source": [
    "print(to_piglatin('and'))"
   ]
  },
  {
   "cell_type": "code",
   "execution_count": 82,
   "id": "868c2a4e-2c9f-4c9b-bc4c-36f5e57e7c4e",
   "metadata": {
    "collapsed": true,
    "jupyter": {
     "outputs_hidden": true,
     "source_hidden": true
    },
    "tags": []
   },
   "outputs": [
    {
     "name": "stdout",
     "output_type": "stream",
     "text": [
      "Aredjay\n"
     ]
    }
   ],
   "source": [
    "print(to_piglatin('Jared'))"
   ]
  },
  {
   "cell_type": "code",
   "execution_count": null,
   "id": "94c18ae9-7a2d-409c-8ce1-a6812139fdde",
   "metadata": {
    "jupyter": {
     "source_hidden": true
    },
    "tags": []
   },
   "outputs": [],
   "source": []
  },
  {
   "cell_type": "code",
   "execution_count": 36,
   "id": "fff32c88-e889-4f5d-8346-0016b4793670",
   "metadata": {
    "collapsed": true,
    "jupyter": {
     "outputs_hidden": true,
     "source_hidden": true
    },
    "tags": []
   },
   "outputs": [
    {
     "name": "stdout",
     "output_type": "stream",
     "text": [
      "Aystay\n"
     ]
    }
   ],
   "source": [
    "to_piglatin('stay')"
   ]
  },
  {
   "cell_type": "code",
   "execution_count": 37,
   "id": "9975c3e4-78b7-49a6-92a4-d4ef8940ad63",
   "metadata": {
    "collapsed": true,
    "jupyter": {
     "outputs_hidden": true,
     "source_hidden": true
    },
    "tags": []
   },
   "outputs": [
    {
     "name": "stdout",
     "output_type": "stream",
     "text": [
      "Aredjay\n"
     ]
    }
   ],
   "source": [
    "to_piglatin('jared')"
   ]
  },
  {
   "cell_type": "code",
   "execution_count": 38,
   "id": "0e57f31d-b60b-4878-a0f9-fe29891e3974",
   "metadata": {
    "collapsed": true,
    "jupyter": {
     "outputs_hidden": true,
     "source_hidden": true
    },
    "tags": []
   },
   "outputs": [
    {
     "name": "stdout",
     "output_type": "stream",
     "text": [
      "Anday\n"
     ]
    }
   ],
   "source": [
    "to_piglatin('and')"
   ]
  },
  {
   "cell_type": "code",
   "execution_count": null,
   "id": "588d5c28-3196-4aee-bf19-14ca5946a758",
   "metadata": {
    "collapsed": true,
    "jupyter": {
     "outputs_hidden": true,
     "source_hidden": true
    },
    "tags": []
   },
   "outputs": [
    {
     "name": "stdout",
     "output_type": "stream",
     "text": [
      "CARay\n"
     ]
    }
   ],
   "source": [
    "to_piglatin('CAR')"
   ]
  },
  {
   "cell_type": "code",
   "execution_count": null,
   "id": "3105c33f-eccc-4f3a-aa00-abafedbc8a51",
   "metadata": {},
   "outputs": [],
   "source": []
  },
  {
   "cell_type": "markdown",
   "id": "cbf8bca0-44cb-4941-9f04-20a33953c4e0",
   "metadata": {},
   "source": [
    "<font size = 6, color = red>SUPERCEDED: Need to REDO soluton with is_consonant"
   ]
  },
  {
   "cell_type": "code",
   "execution_count": null,
   "id": "1cc7d06c-b982-4627-842a-77481bd70e7a",
   "metadata": {},
   "outputs": [],
   "source": [
    "# write a function is_consonant"
   ]
  },
  {
   "cell_type": "code",
   "execution_count": 5,
   "id": "af14cc40-d573-4c6b-ab02-52a4f8482ae7",
   "metadata": {},
   "outputs": [
    {
     "name": "stdout",
     "output_type": "stream",
     "text": [
      "not a vowel\n",
      "True\n"
     ]
    }
   ],
   "source": [
    "vowels = 'aeiou'\n",
    "word = 'hello'\n",
    "letter = 'b'\n",
    "is_const = False\n",
    "\n",
    "if letter not in vowels:\n",
    "    print('not a vowel')\n",
    "    is_const = True\n",
    "else:\n",
    "    is_const = False\n",
    "\n",
    "print(is_const)\n"
   ]
  },
  {
   "cell_type": "code",
   "execution_count": 64,
   "id": "dc5809c3-a6e6-42ac-901a-67fe104779ac",
   "metadata": {},
   "outputs": [],
   "source": [
    "\n",
    "def is_consonant(letter):\n",
    "    vowels = 'aeiou'\n",
    "    is_const = False\n",
    "    \n",
    "    if letter.lower() not in vowels:\n",
    "#        print('not a vowel')\n",
    "        is_const = True\n",
    "    else:\n",
    "#        print('is a vowel')\n",
    "        is_const = False\n",
    "\n",
    "    print(is_const)\n",
    "    "
   ]
  },
  {
   "cell_type": "code",
   "execution_count": 66,
   "id": "520e1602-f48e-40e0-a9f3-087fa623e1e2",
   "metadata": {},
   "outputs": [
    {
     "name": "stdout",
     "output_type": "stream",
     "text": [
      "True\n"
     ]
    }
   ],
   "source": [
    "is_consonant('b')"
   ]
  },
  {
   "cell_type": "code",
   "execution_count": 68,
   "id": "ff8af875-5b85-4a92-b949-1e6fa784c95c",
   "metadata": {},
   "outputs": [
    {
     "ename": "IndentationError",
     "evalue": "expected an indented block (1288845206.py, line 1)",
     "output_type": "error",
     "traceback": [
      "\u001b[0;36m  Input \u001b[0;32mIn [68]\u001b[0;36m\u001b[0m\n\u001b[0;31m    if is_consonant('a'):# is True\u001b[0m\n\u001b[0m                                  ^\u001b[0m\n\u001b[0;31mIndentationError\u001b[0m\u001b[0;31m:\u001b[0m expected an indented block\n"
     ]
    }
   ],
   "source": [
    "is_consonant('a'):"
   ]
  },
  {
   "cell_type": "code",
   "execution_count": null,
   "id": "cdd13c9d-d9c0-4570-ad0a-48a91b6165f1",
   "metadata": {},
   "outputs": [],
   "source": []
  },
  {
   "cell_type": "code",
   "execution_count": null,
   "id": "09557acd-6c9a-4c6e-8074-308a4bec04e8",
   "metadata": {},
   "outputs": [],
   "source": []
  },
  {
   "cell_type": "markdown",
   "id": "1464c064-8e0c-4b0a-b70c-370964882b5c",
   "metadata": {},
   "source": [
    "---"
   ]
  },
  {
   "cell_type": "markdown",
   "id": "ecf05bd1-5a79-4049-abaa-1e1c78bc3987",
   "metadata": {},
   "source": [
    "---"
   ]
  },
  {
   "cell_type": "markdown",
   "id": "b80f28a2-e41a-434b-9585-4b4fa999b8e4",
   "metadata": {},
   "source": [
    "# Adding the is_consonant function to the final function"
   ]
  },
  {
   "cell_type": "code",
   "execution_count": 3,
   "id": "c17e771f-3ae5-4df1-a067-49f39474d854",
   "metadata": {},
   "outputs": [],
   "source": [
    "\n",
    "def is_consonant(letter):\n",
    "    vowels = 'aeiou'\n",
    "    is_const = True\n",
    "    \n",
    "    if letter.lower() in vowels:\n",
    "#        print('is a vowel')\n",
    "        is_const = False\n",
    "    else:\n",
    "#        print('is NOT a vowel')\n",
    "        is_const = True\n",
    "\n",
    "#    print(is_const)\n",
    "\n",
    "def to_piglatin(name):\n",
    "    namelist = list(name)\n",
    "    vowels = 'aeiou'\n",
    "    before_vowel = ''\n",
    "    after_vowel = ''\n",
    "    combined_word = ''\n",
    "\n",
    "    for letter in namelist:\n",
    "#        print(letter)\n",
    "        if is_consonant(letter) == False:\n",
    "#        if letter.lower() in vowels:\n",
    "            print('before if', after_vowel)\n",
    "            after_vowel = (''.join(namelist[namelist.index(letter):])).lower()\n",
    "            print('after if', after_vowel)\n",
    "            break\n",
    "        else:\n",
    "            print('else loop before', before_vowel)\n",
    "            before_vowel = (before_vowel + letter).lower() # .append(letter)\n",
    "            print('else loop after', before_vowel)\n",
    "            \n",
    "    #print((after_vowel + before_vowel + 'ay').capitalize())\n",
    "    return ((after_vowel + before_vowel + 'ay').capitalize())\n",
    "\n",
    "\n"
   ]
  },
  {
   "cell_type": "code",
   "execution_count": 4,
   "id": "e60f397c-c296-4382-ae54-143f1b40354b",
   "metadata": {},
   "outputs": [
    {
     "name": "stdout",
     "output_type": "stream",
     "text": [
      "else loop before \n",
      "else loop after s\n",
      "else loop before s\n",
      "else loop after st\n",
      "else loop before st\n",
      "else loop after sta\n",
      "else loop before sta\n",
      "else loop after stay\n"
     ]
    },
    {
     "data": {
      "text/plain": [
       "'Stayay'"
      ]
     },
     "execution_count": 4,
     "metadata": {},
     "output_type": "execute_result"
    }
   ],
   "source": [
    "to_piglatin('stay')"
   ]
  },
  {
   "cell_type": "code",
   "execution_count": 9,
   "id": "2dece3bd-4de3-45a9-9a72-01175e209fa0",
   "metadata": {},
   "outputs": [
    {
     "data": {
      "text/plain": [
       "False"
      ]
     },
     "execution_count": 9,
     "metadata": {},
     "output_type": "execute_result"
    }
   ],
   "source": [
    "is_consonant('r') == False"
   ]
  },
  {
   "cell_type": "code",
   "execution_count": 23,
   "id": "5a519ae1-16d0-451c-9fff-48a6386a7e0a",
   "metadata": {},
   "outputs": [],
   "source": [
    "def is_consonant(letter):\n",
    "    vowels = 'aeiou'\n",
    "    is_const = ''\n",
    "    \n",
    "    if letter.lower() in vowels:\n",
    "        #print('is a vowel')\n",
    "        is_const = 'Vowel'\n",
    "        print(is_const)\n",
    "        \n",
    "    else:\n",
    "        #print('is NOT a vowel')\n",
    "        is_const = 'Consonant'\n",
    "        print(is_const)\n",
    "    \n",
    "    return is_const    "
   ]
  },
  {
   "cell_type": "code",
   "execution_count": 24,
   "id": "ae80cf34-30db-48aa-bd61-3abb47caf2ca",
   "metadata": {},
   "outputs": [
    {
     "name": "stdout",
     "output_type": "stream",
     "text": [
      "Consonant\n"
     ]
    },
    {
     "data": {
      "text/plain": [
       "'Consonant'"
      ]
     },
     "execution_count": 24,
     "metadata": {},
     "output_type": "execute_result"
    }
   ],
   "source": [
    "is_consonant('b')"
   ]
  },
  {
   "cell_type": "code",
   "execution_count": 27,
   "id": "ab7c652d-c119-4e41-98c3-f1c4553e3bcc",
   "metadata": {},
   "outputs": [
    {
     "name": "stdout",
     "output_type": "stream",
     "text": [
      "Vowel\n"
     ]
    },
    {
     "data": {
      "text/plain": [
       "True"
      ]
     },
     "execution_count": 27,
     "metadata": {},
     "output_type": "execute_result"
    }
   ],
   "source": [
    "is_consonant('a') == 'Vowel'"
   ]
  },
  {
   "cell_type": "markdown",
   "id": "cfb49426-c8eb-4816-a3b7-74555608a3cb",
   "metadata": {},
   "source": [
    "---"
   ]
  },
  {
   "cell_type": "markdown",
   "id": "692ab1e3-56e7-4d0d-bdc5-82a302f7baa0",
   "metadata": {},
   "source": [
    "---"
   ]
  },
  {
   "cell_type": "markdown",
   "id": "f9e578fb-f02d-4c16-919e-3761dba16492",
   "metadata": {},
   "source": [
    "<font size = 6, color = red>CURRENT: Works with new definition of is_constant || Need to Redo with is_consonant = False"
   ]
  },
  {
   "cell_type": "markdown",
   "id": "c2e32eb6-107b-406c-a301-654b41aceed9",
   "metadata": {},
   "source": [
    "# Redoing with new defition of is_consonant function"
   ]
  },
  {
   "cell_type": "code",
   "execution_count": 40,
   "id": "d24d965a-e46c-4b5a-b1b8-a677c03586a3",
   "metadata": {},
   "outputs": [],
   "source": [
    "def is_consonant(letter):\n",
    "    vowels = 'aeiou'\n",
    "    is_const = ''\n",
    "    \n",
    "    if letter.lower() in vowels:\n",
    "        is_const = 'Vowel'\n",
    "        \n",
    "    else:\n",
    "        is_const = 'Consonant'\n",
    "    \n",
    "    return is_const   \n",
    "\n",
    "\n",
    "\n",
    "def to_piglatin(name):\n",
    "    namelist = list(name)\n",
    "    vowels = 'aeiou'\n",
    "    before_vowel = ''\n",
    "    after_vowel = ''\n",
    "    combined_word = ''\n",
    "\n",
    "    for letter in namelist:\n",
    "        if is_consonant(letter) == 'Vowel':\n",
    "            after_vowel = (''.join(namelist[namelist.index(letter):])).lower()\n",
    "            break\n",
    "        else:\n",
    "            before_vowel = (before_vowel + letter).lower() # .append(letter)\n",
    "            \n",
    "    return ((after_vowel + before_vowel + 'ay').capitalize())\n"
   ]
  },
  {
   "cell_type": "code",
   "execution_count": 41,
   "id": "55129d07-7f1c-4647-a7fe-a8f4ebdf3174",
   "metadata": {},
   "outputs": [
    {
     "data": {
      "text/plain": [
       "'Arcay'"
      ]
     },
     "execution_count": 41,
     "metadata": {},
     "output_type": "execute_result"
    }
   ],
   "source": [
    "to_piglatin('CAR')"
   ]
  },
  {
   "cell_type": "markdown",
   "id": "b204afc3-02c4-4243-894d-304d5c563b9f",
   "metadata": {},
   "source": [
    "---"
   ]
  },
  {
   "cell_type": "markdown",
   "id": "5c6f0b96-0187-49e4-a593-2bba97ad3ca9",
   "metadata": {},
   "source": [
    "<font size = 6, color = red>FINAL WORKING SOLUTION"
   ]
  },
  {
   "cell_type": "code",
   "execution_count": 42,
   "id": "e2c56c6f-c961-496f-95ef-e16f094797da",
   "metadata": {},
   "outputs": [],
   "source": [
    "def is_consonant(letter):\n",
    "    vowels = 'aeiou'\n",
    "    is_const = ''\n",
    "    \n",
    "    if letter.lower() in vowels:\n",
    "        is_const = False\n",
    "        \n",
    "    else:\n",
    "        is_const = True\n",
    "    \n",
    "    return is_const   \n",
    "\n",
    "\n",
    "\n",
    "def to_piglatin(name):\n",
    "    namelist = list(name)\n",
    "    vowels = 'aeiou'\n",
    "    before_vowel = ''\n",
    "    after_vowel = ''\n",
    "    combined_word = ''\n",
    "\n",
    "    for letter in namelist:\n",
    "        if is_consonant(letter) == False:\n",
    "            after_vowel = (''.join(namelist[namelist.index(letter):])).lower()\n",
    "            break\n",
    "        else:\n",
    "            before_vowel = (before_vowel + letter).lower() # .append(letter)\n",
    "            \n",
    "    return ((after_vowel + before_vowel + 'ay').capitalize())\n"
   ]
  },
  {
   "cell_type": "code",
   "execution_count": 45,
   "id": "26a1d822-116b-41ee-8f8e-ed252bf388b0",
   "metadata": {},
   "outputs": [
    {
     "data": {
      "text/plain": [
       "'Arcay'"
      ]
     },
     "execution_count": 45,
     "metadata": {},
     "output_type": "execute_result"
    }
   ],
   "source": [
    "to_piglatin('CAR')"
   ]
  },
  {
   "cell_type": "code",
   "execution_count": null,
   "id": "24c01eee-1b51-4910-b969-2e1ff50ff89e",
   "metadata": {},
   "outputs": [],
   "source": []
  }
 ],
 "metadata": {
  "kernelspec": {
   "display_name": "Python 3 (ipykernel)",
   "language": "python",
   "name": "python3"
  },
  "language_info": {
   "codemirror_mode": {
    "name": "ipython",
    "version": 3
   },
   "file_extension": ".py",
   "mimetype": "text/x-python",
   "name": "python",
   "nbconvert_exporter": "python",
   "pygments_lexer": "ipython3",
   "version": "3.9.12"
  }
 },
 "nbformat": 4,
 "nbformat_minor": 5
}
