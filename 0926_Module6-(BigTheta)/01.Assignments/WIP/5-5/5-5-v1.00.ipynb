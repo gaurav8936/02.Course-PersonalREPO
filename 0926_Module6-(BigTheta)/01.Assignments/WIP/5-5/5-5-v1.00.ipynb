{
 "cells": [
  {
   "cell_type": "markdown",
   "id": "0f5a39df",
   "metadata": {},
   "source": [
    "### 5-5 Raising Custom Exceptions (20 points)\n",
    "\n",
    "Write a function called `weighted_avg` that takes a list of grades and a corresponding list of weights and returns the weighted average of the grades rounded to 1 decimal place.  \n",
    "\n",
    "Your function should **raise an exception** with the message exactly as shown:\n",
    "- a weight is less than 0 or greater than 100 (message: \"A weight is less than 0 or greater than 100\")\n",
    "- the weights do not add to 100 (message: \"Weights do not add to 100\")\n",
    "- the number of weights and grades are not equal (message: \"The number of weight and grades are not equal\")\n",
    "- a grade is below 0 (grades above 100 would be considered extra credit and are acceptable)\n",
    "  (message: \"A grade is below 0\")\n",
    "\n",
    "Do not print the exception just 'raise' it.\n",
    "\n",
    "Run your function on `grades1` with `weights1` and `grades2` with `weights2` and `grades3` with `weights3` and `grades4` with `weights4`, defined below. Catch the errors generated in each case as an exception with the useful message for the user as defined above.  \n",
    "\n",
    "Hint: The first 3 test cases should raise an exception!\n",
    "\n",
    "Example:\n",
    "\n",
    "```\n",
    "weighted_avg(grades4, weights4) \n",
    "\n",
    "85.0\n",
    "```"
   ]
  },
  {
   "cell_type": "code",
   "execution_count": null,
   "id": "1e12677d",
   "metadata": {},
   "outputs": [],
   "source": [
    "# Q5-5 Grading Tag:\n"
   ]
  },
  {
   "cell_type": "code",
   "execution_count": 3,
   "id": "7ce66316",
   "metadata": {},
   "outputs": [],
   "source": [
    "# Example grade/weights to try:\n",
    "\n",
    "grades1 = [88,99,100,70]\n",
    "weights1 = [30, 30, 30, 5]\n",
    "\n",
    "grades2 = [78, 75, 80, 99]\n",
    "weights2 = [110, 10, -20, 0]\n",
    "\n",
    "grades3 = [84, 80, 67, 97]\n",
    "weights3 = [50, 25, 25]\n",
    "\n",
    "grades4 = [100, 80, 90, 75]\n",
    "weights4 = [20, 25, 25, 30]"
   ]
  },
  {
   "cell_type": "code",
   "execution_count": 56,
   "id": "7756ff34-c557-4eb2-b05e-ab6606a6cc72",
   "metadata": {},
   "outputs": [
    {
     "data": {
      "text/plain": [
       "85.0"
      ]
     },
     "execution_count": 56,
     "metadata": {},
     "output_type": "execute_result"
    }
   ],
   "source": [
    "((100*20) + (80 * 25) + (90*25) + (75*30))/(20+25+25+30)"
   ]
  },
  {
   "cell_type": "code",
   "execution_count": null,
   "id": "951f5980-14a6-4a8d-9c87-3d310c780c8b",
   "metadata": {},
   "outputs": [],
   "source": []
  },
  {
   "cell_type": "markdown",
   "id": "3a92636f-5f3c-4ad3-8a06-416688924214",
   "metadata": {},
   "source": [
    "---"
   ]
  },
  {
   "cell_type": "markdown",
   "id": "a12b1c17-5cec-41d0-b8de-3bf6b7267784",
   "metadata": {},
   "source": [
    "Write a function called `weighted_avg` that takes a list of grades and a corresponding list of weights and returns the weighted average of the grades rounded to 1 decimal place.  \n",
    "\n",
    "Your function should **raise an exception** with the message exactly as shown:\n",
    "- DONE a weight is less than 0 or greater than 100 (message: \"A weight is less than 0 or greater than 100\")\n",
    "- DONE a grade is below 0 (grades above 100 would be considered extra credit and are acceptable)\n",
    "  (message: \"A grade is below 0\")\n",
    "  \n",
    "\n",
    "- DONE the weights do not add to 100 (message: \"Weights do not add to 100\")\n",
    "- DONE the number of weights and grades are not equal (message: \"The number of weight and grades are not equal\")\n"
   ]
  },
  {
   "cell_type": "markdown",
   "id": "cb3b6a99-4f64-4c81-8d4f-e9c5611d2977",
   "metadata": {},
   "source": [
    "<font size = 6, color = green> PREVIOUS GOLD Standard"
   ]
  },
  {
   "cell_type": "code",
   "execution_count": 4,
   "id": "e20deafa-3cc7-4891-9edb-161f0784c0e4",
   "metadata": {},
   "outputs": [],
   "source": [
    "def weighted_ave(grades, weights):\n",
    "    weightavg = 0\n",
    "    multiple=0\n",
    "    if len(grades) != len(weights):\n",
    "        raise Exception(\"The number of weight and grades are not equal\")\n",
    "    elif sum(weights) != 100:\n",
    "        raise Exception(\"Weights do not add to 100\")\n",
    "    else:\n",
    "        for x, y in zip(grades1, weights1):\n",
    "            multiple +=  x * y\n",
    "            weightavg = multiple / sum(weights1)\n",
    "#        print(weightavg)\n",
    "        return weightavg\n",
    "        "
   ]
  },
  {
   "cell_type": "code",
   "execution_count": 5,
   "id": "6dc82038-3384-48ca-bfec-ec6313c58d4f",
   "metadata": {},
   "outputs": [
    {
     "data": {
      "text/plain": [
       "94.3157894736842"
      ]
     },
     "execution_count": 5,
     "metadata": {},
     "output_type": "execute_result"
    }
   ],
   "source": [
    "weighted_ave(grades2, weights2)"
   ]
  },
  {
   "cell_type": "markdown",
   "id": "aca73506-212d-4cf7-9c3d-51ad9a9d06c7",
   "metadata": {},
   "source": [
    "---"
   ]
  },
  {
   "cell_type": "markdown",
   "id": "4c7bd801-38f9-4bd1-8524-499b2e398443",
   "metadata": {},
   "source": [
    "<font size = 6, color = blue> Current WIP - Submitting to Gradescope"
   ]
  },
  {
   "cell_type": "markdown",
   "id": "b74a1ed6-f486-4743-98ad-93cd7a1b0bee",
   "metadata": {},
   "source": [
    "<font size = 6, color = green> NEW GOLD Standard"
   ]
  },
  {
   "cell_type": "code",
   "execution_count": 64,
   "id": "5012560f-a105-4abf-89ef-70eb0954113c",
   "metadata": {},
   "outputs": [],
   "source": [
    "def weighted_ave(grades, weights):\n",
    "    \n",
    "    '''\n",
    "    Function to calculate the weighted average and raise exceptions based on the following conditions\n",
    "    - Exception 1: a weight is less than 0 or greater than 100 (message: \"A weight is less than 0 or greater than 100\")\n",
    "    - Exception 2: a grade is below 0 (grades above 100 would be considered extra credit and are acceptable)\n",
    "      (message: \"A grade is below 0\")\n",
    "    - Exception 3: the weights do not add to 100 (message: \"Weights do not add to 100\")\n",
    "    - Exception 4: the number of weights and grades are not equal (message: \"The number of weight and grades are not equal\")\n",
    "    '''\n",
    "    \n",
    "    weightavg = 0\n",
    "    multiple= 0\n",
    "\n",
    "    for item in grades:                          # check for the exception 2 (grade below 0)\n",
    "        if item < 0:\n",
    "            raise Exception(\"A grade is below 0\")\n",
    "            continue\n",
    "    for item in weights:                         # check for the exception 1 (weight below 0 or over 100)\n",
    "        if item < 0 or item > 100:\n",
    "            raise Exception(\"A weight is less than 0 or greater than 100\")\n",
    "            continue\n",
    "\n",
    "    if len(grades) != len(weights):              # check if the count of weights and grades is not equal\n",
    "        raise Exception(\"The number of weight and grades are not equal\")\n",
    "    \n",
    "    elif sum(weights) != 100:                    # check if weights do not add up to 100\n",
    "        raise Exception(\"Weights do not add to 100\")\n",
    "    \n",
    "    else:\n",
    "        for x, y in zip(grades, weights):\n",
    "            multiple +=  x * y\n",
    "            weightavg = multiple / sum(weights)\n",
    "#           print('multiple', multiple)\n",
    "#          print('sum weights', sum(weights))\n",
    "        return round(weightavg, 1)\n",
    "        "
   ]
  },
  {
   "cell_type": "code",
   "execution_count": 65,
   "id": "ca9019a0-e10d-4b7b-8236-6a74302aafd0",
   "metadata": {},
   "outputs": [
    {
     "data": {
      "text/plain": [
       "85.0"
      ]
     },
     "execution_count": 65,
     "metadata": {},
     "output_type": "execute_result"
    }
   ],
   "source": [
    "weighted_ave(grades4, weights4)"
   ]
  },
  {
   "cell_type": "code",
   "execution_count": 44,
   "id": "c165b398-d47d-4bb5-bdd2-9337760ebf4f",
   "metadata": {},
   "outputs": [],
   "source": [
    "grades1 = [88,99,100,70]\n",
    "weights1 = [30, 30, 30, 5]\n",
    "\n",
    "grades2 = [78, 75, 80, 99]\n",
    "weights2 = [110, 10, -20, 0]\n",
    "\n",
    "grades3 = [84, 80, 67, 97]\n",
    "weights3 = [50, 25, 25]\n",
    "\n",
    "grades4 = [100, 80, 90, 75]\n",
    "weights4 = [20, 25, 25, 30]"
   ]
  },
  {
   "cell_type": "code",
   "execution_count": null,
   "id": "17749cbd-b9dd-485c-9735-59bfa79b47ff",
   "metadata": {},
   "outputs": [],
   "source": []
  },
  {
   "cell_type": "code",
   "execution_count": 36,
   "id": "c169d67a-735f-4683-9403-6afb06d2c9fb",
   "metadata": {},
   "outputs": [
    {
     "name": "stdout",
     "output_type": "stream",
     "text": [
      "78\n",
      "75\n",
      "80\n",
      "99\n"
     ]
    }
   ],
   "source": [
    "for item in grades2:\n",
    "    print(item)\n",
    "    if item < 0:\n",
    "        raise Exception(\"A grade is below 0\")\n",
    "        continue"
   ]
  },
  {
   "cell_type": "code",
   "execution_count": null,
   "id": "ef896a91-c12b-419b-95bc-a390aeb9b064",
   "metadata": {},
   "outputs": [],
   "source": [
    "A weight is less than 0 or greater than 100"
   ]
  },
  {
   "cell_type": "code",
   "execution_count": null,
   "id": "0d4818fa-ec38-434b-b4bd-8961ef25f476",
   "metadata": {},
   "outputs": [],
   "source": [
    "Weights do not add to 100"
   ]
  },
  {
   "attachments": {
    "b3bf8dd6-7099-4c25-b628-53a75d44ccd1.png": {
     "image/png": "[encoded data removed]"
    }
   },
   "cell_type": "markdown",
   "id": "515a464e-3661-44e8-828d-91f0faa45ba1",
   "metadata": {},
   "source": [
    "![image.png](attachment:b3bf8dd6-7099-4c25-b628-53a75d44ccd1.png)"
   ]
  },
  {
   "cell_type": "code",
   "execution_count": 10,
   "id": "a2ade154-8d97-4069-8ab8-387a7533a182",
   "metadata": {},
   "outputs": [],
   "source": [
    "grades1 = [88,99,100,70]\n",
    "weights1 = [30, 30, 30, 5]"
   ]
  },
  {
   "cell_type": "code",
   "execution_count": null,
   "id": "dc0495a9-3289-4f2e-9d56-2176f331eb2d",
   "metadata": {},
   "outputs": [],
   "source": [
    "# weight = 0\n",
    "# for g in range(len(grades1)):\n",
    "# #    weight = 0\n",
    "#     grades1[g] = grades1[g] * weights1[g] / sum(weights1)\n",
    "\n",
    "# grades1 = sum(grades1)\n",
    "# print(grades1)\n",
    "    "
   ]
  },
  {
   "cell_type": "markdown",
   "id": "06a63b49-89b2-422f-825a-312788b4d0f7",
   "metadata": {},
   "source": [
    "# Working Solution to get weighted average"
   ]
  },
  {
   "cell_type": "code",
   "execution_count": 11,
   "id": "ce0d8be7-c79f-4a67-9b63-b0548e96a43b",
   "metadata": {},
   "outputs": [
    {
     "name": "stdout",
     "output_type": "stream",
     "text": [
      "94.3157894736842\n"
     ]
    }
   ],
   "source": [
    "weightavg = 0\n",
    "multiple=0\n",
    "\n",
    "for x, y in zip(grades1, weights1):\n",
    "    multiple +=  x * y\n",
    "\n",
    "weightavg = multiple / sum(weights1)\n",
    "print(weightavg)"
   ]
  },
  {
   "cell_type": "code",
   "execution_count": null,
   "id": "797d218d-2a7e-4636-b4cc-3561a96016de",
   "metadata": {},
   "outputs": [],
   "source": []
  }
 ],
 "metadata": {
  "kernelspec": {
   "display_name": "Python 3 (ipykernel)",
   "language": "python",
   "name": "python3"
  },
  "language_info": {
   "codemirror_mode": {
    "name": "ipython",
    "version": 3
   },
   "file_extension": ".py",
   "mimetype": "text/x-python",
   "name": "python",
   "nbconvert_exporter": "python",
   "pygments_lexer": "ipython3",
   "version": "3.9.12"
  }
 },
 "nbformat": 4,
 "nbformat_minor": 5
}
