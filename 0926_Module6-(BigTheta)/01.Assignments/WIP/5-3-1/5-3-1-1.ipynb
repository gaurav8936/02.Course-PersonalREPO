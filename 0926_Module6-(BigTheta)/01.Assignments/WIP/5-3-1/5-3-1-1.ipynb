{
 "cells": [
  {
   "cell_type": "markdown",
   "id": "95a2b93b",
   "metadata": {},
   "source": [
    "## 5-3. Functions as Objects (20 points)\n",
    "\n",
    "### 5-3-1. A Flexible \"Scoring\" Function (5 points)\n",
    "\n",
    "The following code defines a list of names and also contains a header for the function `best`.  The `best` function takes two arguments: a generic scoring function, score, and a list of strings, names.  Fill in the function so that it applies a score function to each string in the names list and returns the name with the highest score. If there are ties in the list, your function should return the first item with the maximum score. The `best` function needs to be designed so that it can take any scoring function and return the name with the highest score.\n",
    "\n",
    "For this question, define a function called `len_score` that returns the length of a word.  Call the `best` function with the `len_score` function as a parameter.\n",
    "\n",
    "Example:\n",
    "```\n",
    "names = [\"Ben\", \"April\", \"Zaber\", \"Alexis\", \"McJagger\", \"J.J.\", \"Madonna\"]\n",
    "\n",
    "best(len_score, names) -> 'McJagger'\n",
    "```"
   ]
  },
  {
   "cell_type": "code",
   "execution_count": null,
   "id": "b8788ae3",
   "metadata": {},
   "outputs": [],
   "source": [
    "# Q5-3-1 Grading Tag:\n",
    "\n",
    "def best(score, names):\n",
    "    # YOUR CODE FOR best HERE\n",
    "    pass # delete this statement before entering your code!"
   ]
  },
  {
   "cell_type": "code",
   "execution_count": null,
   "id": "6e24d252",
   "metadata": {},
   "outputs": [],
   "source": [
    "names = [\"Ben\", \"April\", \"Zaber\", \"Alexis\", \"McJagger\", \"J.J.\", \"Madonna\"]\n",
    "\n",
    "best(len_score, names) == 'McJagger'"
   ]
  },
  {
   "cell_type": "markdown",
   "id": "246e50d9-a569-4020-bfd4-b9a745600cfa",
   "metadata": {},
   "source": [
    "---"
   ]
  },
  {
   "cell_type": "markdown",
   "id": "8351efe3-9412-4a26-9896-1d5dcd002bc9",
   "metadata": {},
   "source": [
    "---"
   ]
  },
  {
   "cell_type": "code",
   "execution_count": 1,
   "id": "0c3a3ca3-e15c-4cf4-bb4a-0992d4c86da6",
   "metadata": {},
   "outputs": [],
   "source": [
    "def len_score(word):\n",
    "    return len(word)"
   ]
  },
  {
   "cell_type": "code",
   "execution_count": 2,
   "id": "12871aad-c956-4ca8-b0ea-17ae014056c4",
   "metadata": {},
   "outputs": [
    {
     "data": {
      "text/plain": [
       "5"
      ]
     },
     "execution_count": 2,
     "metadata": {},
     "output_type": "execute_result"
    }
   ],
   "source": [
    "len_score('hello')"
   ]
  },
  {
   "cell_type": "code",
   "execution_count": 3,
   "id": "e168ee6a-974f-4d90-b91a-90fee6a8eee5",
   "metadata": {},
   "outputs": [],
   "source": [
    "names = [\"Ben\", \"April\", \"Zaber\", \"Alexis\", \"McJagger\", \"J.J.\", \"Madonna\"]"
   ]
  },
  {
   "cell_type": "markdown",
   "id": "1e71f6cd-47a0-4546-b5d6-e655ef0057ff",
   "metadata": {},
   "source": [
    "---"
   ]
  },
  {
   "cell_type": "markdown",
   "id": "0fd21151-2f82-4d28-b034-2ca91d493c66",
   "metadata": {},
   "source": [
    "# First Pass --> Solution seems to work"
   ]
  },
  {
   "cell_type": "code",
   "execution_count": 23,
   "id": "71c5515c-ff70-4481-a54e-6fec78ef5961",
   "metadata": {},
   "outputs": [],
   "source": [
    "def best(len_score, names):\n",
    "    for word in names:\n",
    "#        print(word)\n",
    "#        print(len_score)\n",
    "#        return [(names, len_score(names)) for names in names]\n",
    "        return [(word, len_score(word)) for word in names]\n",
    "#        return len_score(word)"
   ]
  },
  {
   "cell_type": "code",
   "execution_count": 24,
   "id": "b0a7d76c-7f5f-4f24-9912-da409977fe5d",
   "metadata": {},
   "outputs": [
    {
     "data": {
      "text/plain": [
       "[('Ben', 3),\n",
       " ('April', 5),\n",
       " ('Zaber', 5),\n",
       " ('Alexis', 6),\n",
       " ('McJagger', 8),\n",
       " ('J.J.', 4),\n",
       " ('Madonna', 7)]"
      ]
     },
     "execution_count": 24,
     "metadata": {},
     "output_type": "execute_result"
    }
   ],
   "source": [
    "best(len_score, names)"
   ]
  },
  {
   "cell_type": "code",
   "execution_count": 25,
   "id": "beb5ecf6-a283-4a45-9bb5-ff386ea90144",
   "metadata": {},
   "outputs": [
    {
     "name": "stdout",
     "output_type": "stream",
     "text": [
      "[('Ben', 3), ('April', 5), ('Zaber', 5), ('Alexis', 6), ('McJagger', 8), ('J.J.', 4), ('Madonna', 7)]\n"
     ]
    }
   ],
   "source": [
    "print(best(len_score, names))"
   ]
  },
  {
   "cell_type": "markdown",
   "id": "03e9bd9c-ba14-4ce2-8746-59b1cbc71f16",
   "metadata": {},
   "source": [
    "---"
   ]
  },
  {
   "cell_type": "code",
   "execution_count": 27,
   "id": "24e29a82-3c85-4012-82d2-7f8d47e7b500",
   "metadata": {},
   "outputs": [],
   "source": [
    "def len_score(word):\n",
    "    return len(word)\n",
    "\n",
    "def best(score, names):\n",
    "    for word in names:\n",
    "        return [(word, len_score(word)) for word in names]"
   ]
  },
  {
   "cell_type": "code",
   "execution_count": 28,
   "id": "fe7c67f8-eb08-427d-bcc8-106498ddeb7e",
   "metadata": {},
   "outputs": [
    {
     "name": "stdout",
     "output_type": "stream",
     "text": [
      "[('Ben', 3), ('April', 5), ('Zaber', 5), ('Alexis', 6), ('McJagger', 8), ('J.J.', 4), ('Madonna', 7)]\n"
     ]
    }
   ],
   "source": [
    "print(best(len_score, names))"
   ]
  },
  {
   "cell_type": "code",
   "execution_count": 59,
   "id": "e25d6883-abcb-4e5b-bf30-6c2a228314c4",
   "metadata": {},
   "outputs": [],
   "source": [
    "names1 =  [\"Jeff\", \"Alex\", \"Robert\", \"Chris\", \"Gunnar\", \"PAULA\", \"Madona\", \"Aei\", \"AA\"]"
   ]
  },
  {
   "cell_type": "code",
   "execution_count": 60,
   "id": "14e7173d-c46f-4a02-a724-cac165f9e4f1",
   "metadata": {},
   "outputs": [],
   "source": [
    "names2 =  [\"Ben\", \"April\", \"Zaber\", \"Alexis\", \"McJagger\", \"J.J.\", \"Madonna\"]"
   ]
  },
  {
   "cell_type": "code",
   "execution_count": 40,
   "id": "0a8fab14-a98c-4394-a9ca-dbb1a32f78f0",
   "metadata": {},
   "outputs": [],
   "source": [
    "def best(len_score, names):\n",
    "    for word in names:\n",
    "#        print(word)\n",
    "#        print(len_score)\n",
    "#        return [(names, len_score(names)) for names in names]\n",
    "#        return [(word, len_score(word)) for word in names]\n",
    "#        return len_score(word)\n",
    "#        return max([(word, len_score(word)) for word in names])\n",
    "#        return max([(len_score(word), word) for word in names])\n",
    "        return (max([(len_score(word), word) for word in names])[1])\n"
   ]
  },
  {
   "cell_type": "code",
   "execution_count": 41,
   "id": "3f14df31-7423-437f-908e-daf895ef794f",
   "metadata": {},
   "outputs": [
    {
     "data": {
      "text/plain": [
       "'McJagger'"
      ]
     },
     "execution_count": 41,
     "metadata": {},
     "output_type": "execute_result"
    }
   ],
   "source": [
    " best(len_score, names)"
   ]
  },
  {
   "cell_type": "markdown",
   "id": "f4dbe142-c65b-4522-8d01-8fa910754ca5",
   "metadata": {},
   "source": [
    "# Sanitized Version of best function"
   ]
  },
  {
   "cell_type": "code",
   "execution_count": 42,
   "id": "b9f2dd37-26c4-4e73-bfec-9148c730ebcc",
   "metadata": {},
   "outputs": [],
   "source": [
    "def best(len_score, names):\n",
    "    for word in names:\n",
    "        return (max([(len_score(word), word) for word in names])[1])"
   ]
  },
  {
   "cell_type": "markdown",
   "id": "a1d5861b-8f46-4b97-a665-88529ae1d142",
   "metadata": {},
   "source": [
    "---"
   ]
  },
  {
   "cell_type": "markdown",
   "id": "6edb79f4-8190-4871-941e-9889ccff3361",
   "metadata": {},
   "source": [
    "# Consolidated and in format"
   ]
  },
  {
   "cell_type": "code",
   "execution_count": 52,
   "id": "beec7594-6f37-4925-a455-d3dd74f56feb",
   "metadata": {},
   "outputs": [],
   "source": [
    "def best(score, names):\n",
    "    for word in names:\n",
    "#        return (max([(len_score(word), word) for word in names])[1])\n",
    "        return (max([(score(word), word) for word in names])[1])\n",
    "\n",
    "def len_score(word):\n",
    "    return len(word)\n",
    "    "
   ]
  },
  {
   "cell_type": "code",
   "execution_count": 54,
   "id": "c8f717c4-ff30-4cbb-9aa8-db4443e60ef1",
   "metadata": {},
   "outputs": [
    {
     "data": {
      "text/plain": [
       "'McJagger'"
      ]
     },
     "execution_count": 54,
     "metadata": {},
     "output_type": "execute_result"
    }
   ],
   "source": [
    "best(len_score, names2)"
   ]
  },
  {
   "cell_type": "markdown",
   "id": "a7343f9b-fb6e-4ee3-ace5-fb3f58ec9002",
   "metadata": {},
   "source": [
    "---"
   ]
  },
  {
   "cell_type": "markdown",
   "id": "5695140a-879b-42c8-b60c-d680baa180db",
   "metadata": {},
   "source": [
    "# Final Version uploaded on gradescope -- and worked perfectly. However, the max function for best has a problem (which was fixed in 5-3-2)"
   ]
  },
  {
   "cell_type": "markdown",
   "id": "6ec9a031-396c-4c7b-9c27-397bd18fde37",
   "metadata": {},
   "source": [
    "---"
   ]
  },
  {
   "cell_type": "code",
   "execution_count": 63,
   "id": "1551823c-481b-4549-976b-49d09650ed00",
   "metadata": {},
   "outputs": [],
   "source": [
    "def best(score, names):\n",
    "    for word in names:\n",
    "        return (max([(score(word), word) for word in names])[1])\n",
    "\n",
    "def len_score(word):\n",
    "    return len(word.lower())"
   ]
  },
  {
   "cell_type": "code",
   "execution_count": 64,
   "id": "b090fe20-53de-4a34-8680-64c3d828e7f6",
   "metadata": {},
   "outputs": [
    {
     "data": {
      "text/plain": [
       "'Robert'"
      ]
     },
     "execution_count": 64,
     "metadata": {},
     "output_type": "execute_result"
    }
   ],
   "source": [
    "best(len_score, names1)"
   ]
  },
  {
   "cell_type": "markdown",
   "id": "cadbe4db-f136-4940-a60e-c421644cfd4c",
   "metadata": {},
   "source": [
    "---"
   ]
  },
  {
   "cell_type": "markdown",
   "id": "6723a172-d2e1-4feb-9e39-c9e66b93e24a",
   "metadata": {},
   "source": [
    "<font size = 6, color = red>Current Version - Consolidated"
   ]
  },
  {
   "cell_type": "code",
   "execution_count": 17,
   "id": "11b929ce-5cc6-4624-bd89-936c47a94bb9",
   "metadata": {},
   "outputs": [],
   "source": [
    "def best(score, names):\n",
    "    \n",
    "    '''\n",
    "    Uses list comprehension to create a list of tuples organized by count and word. This is not sorted explicity but retains the original order\n",
    "    We retrive the max value (using the max function) coupled with a lambda function which breaks the tie based on a sort but retaining original sequence\n",
    "    \n",
    "    '''\n",
    "    \n",
    "    mylist = [(score(word), word) for word in names]                                  # this gives us list in the original order\n",
    "    return max(mylist, key = lambda x : x[0])[1]                                      # the lambda function sorts on first and then second item\n",
    "\n",
    "\n",
    "\n",
    "############ Alternate solution for documentation and my reference only #################\n",
    "\n",
    "# def best(score, names):\n",
    "#     '''\n",
    "#     Solution using FOR Loops and Lists\n",
    "#     Uses two lists ( as max() does not return the first occurance on tie breaker)\n",
    "#     '''\n",
    "    \n",
    "#     mylist = []                                               # create empty list\n",
    "#     newlist = []                                              # create placeholder for final extract\n",
    "#     for word in names:                                        # for loop\n",
    "#         mylist.append((score(word), word))                    # append to the empty list \n",
    "#         newmax = max(mylist)[0]                               # find out the max occurances (we can't use max on mylist as that would not resolve the tie breaker)\n",
    "#         newlist = [tup for tup in mylist if tup[0] == newmax] #append to a final list the winning entry (or entries for the tie condition)\n",
    "#     return newlist[0][1]                                      # this gets the first occurance of the winning entry and breaks the tie"
   ]
  },
  {
   "cell_type": "code",
   "execution_count": 18,
   "id": "73906c57-7a2a-43ce-89be-cfbd4203580c",
   "metadata": {},
   "outputs": [],
   "source": [
    "def len_score(word):\n",
    "    \n",
    "    '''\n",
    "    this returns the length of a word being passed\n",
    "    '''\n",
    "    return len(word.lower())"
   ]
  },
  {
   "cell_type": "markdown",
   "id": "89af5435-a5b4-4c2b-bcf3-3e39f527a8f2",
   "metadata": {},
   "source": [
    "## Tests"
   ]
  },
  {
   "cell_type": "code",
   "execution_count": 19,
   "id": "4ad9f3c4-7588-4f97-b5bc-109e5eab9c65",
   "metadata": {},
   "outputs": [
    {
     "name": "stdout",
     "output_type": "stream",
     "text": [
      "McJagger\n"
     ]
    }
   ],
   "source": [
    "print(best(len_score, names))"
   ]
  },
  {
   "cell_type": "code",
   "execution_count": 11,
   "id": "2d0d93d8-5888-4110-8111-892c6163bc85",
   "metadata": {},
   "outputs": [],
   "source": [
    "names = [\"Ben\", \"April\", \"Zaber\", \"Alexis\", \"McJagger\", \"J.J.\", \"Madonna\"]"
   ]
  },
  {
   "cell_type": "code",
   "execution_count": 20,
   "id": "5bcdf8a0-d118-4573-9acc-792824744c93",
   "metadata": {},
   "outputs": [
    {
     "name": "stdout",
     "output_type": "stream",
     "text": [
      "Robert\n"
     ]
    }
   ],
   "source": [
    "print(best(len_score, names1))"
   ]
  },
  {
   "cell_type": "code",
   "execution_count": 8,
   "id": "5f6beccc-3a34-4ea3-b240-49a3acb8eeb1",
   "metadata": {},
   "outputs": [],
   "source": [
    "names1 =  [\"Jeff\", \"Alex\", \"Robert\", \"Chris\", \"Gunnar\", \"PAULA\", \"Madona\", \"Aei\", \"AA\"]"
   ]
  },
  {
   "cell_type": "code",
   "execution_count": 21,
   "id": "365af62b-83bf-40c5-966e-843f8e6c04fd",
   "metadata": {},
   "outputs": [
    {
     "name": "stdout",
     "output_type": "stream",
     "text": [
      "McJagger\n"
     ]
    }
   ],
   "source": [
    "print(best(len_score, names2))"
   ]
  },
  {
   "cell_type": "code",
   "execution_count": 9,
   "id": "c8163d71-bb51-44b3-87bf-7ab8fea75536",
   "metadata": {},
   "outputs": [],
   "source": [
    "names2 =  [\"Ben\", \"April\", \"Zaber\", \"Alexis\", \"McJagger\", \"J.J.\", \"Madonna\"]"
   ]
  },
  {
   "cell_type": "code",
   "execution_count": null,
   "id": "b6163826-4ab0-4a90-9ca3-c6c08af59452",
   "metadata": {},
   "outputs": [],
   "source": []
  },
  {
   "cell_type": "code",
   "execution_count": null,
   "id": "cb9237b6-0c15-486d-be16-e3bbee540516",
   "metadata": {},
   "outputs": [],
   "source": []
  },
  {
   "cell_type": "code",
   "execution_count": null,
   "id": "f936a07e-287a-4a64-badf-e9fc960e42b3",
   "metadata": {},
   "outputs": [],
   "source": []
  }
 ],
 "metadata": {
  "kernelspec": {
   "display_name": "Python 3 (ipykernel)",
   "language": "python",
   "name": "python3"
  },
  "language_info": {
   "codemirror_mode": {
    "name": "ipython",
    "version": 3
   },
   "file_extension": ".py",
   "mimetype": "text/x-python",
   "name": "python",
   "nbconvert_exporter": "python",
   "pygments_lexer": "ipython3",
   "version": "3.9.12"
  }
 },
 "nbformat": 4,
 "nbformat_minor": 5
}
