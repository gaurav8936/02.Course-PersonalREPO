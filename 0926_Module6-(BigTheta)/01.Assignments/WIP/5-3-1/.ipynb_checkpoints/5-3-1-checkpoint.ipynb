{
 "cells": [
  {
   "cell_type": "markdown",
   "id": "95a2b93b",
   "metadata": {},
   "source": [
    "## 5-3. Functions as Objects (20 points)\n",
    "\n",
    "### 5-3-1. A Flexible \"Scoring\" Function (5 points)\n",
    "\n",
    "The following code defines a list of names and also contains a header for the function `best`.  The `best` function takes two arguments: a generic scoring function, score, and a list of strings, names.  Fill in the function so that it applies a score function to each string in the names list and returns the name with the highest score. If there are ties in the list, your function should return the first item with the maximum score. The `best` function needs to be designed so that it can take any scoring function and return the name with the highest score.\n",
    "\n",
    "For this question, define a function called `len_score` that returns the length of a word.  Call the `best` function with the `len_score` function as a parameter.\n",
    "\n",
    "Example:\n",
    "```\n",
    "names = [\"Ben\", \"April\", \"Zaber\", \"Alexis\", \"McJagger\", \"J.J.\", \"Madonna\"]\n",
    "\n",
    "best(len_score, names) -> 'McJagger'\n",
    "```"
   ]
  },
  {
   "cell_type": "code",
   "execution_count": null,
   "id": "b8788ae3",
   "metadata": {},
   "outputs": [],
   "source": [
    "# Q5-3-1 Grading Tag:\n",
    "\n",
    "def best(score, names):\n",
    "    # YOUR CODE FOR best HERE\n",
    "    pass # delete this statement before entering your code!"
   ]
  },
  {
   "cell_type": "code",
   "execution_count": null,
   "id": "6e24d252",
   "metadata": {},
   "outputs": [],
   "source": [
    "names = [\"Ben\", \"April\", \"Zaber\", \"Alexis\", \"McJagger\", \"J.J.\", \"Madonna\"]\n",
    "\n",
    "best(len_score, names) == 'McJagger'"
   ]
  },
  {
   "cell_type": "markdown",
   "id": "246e50d9-a569-4020-bfd4-b9a745600cfa",
   "metadata": {},
   "source": [
    "---"
   ]
  },
  {
   "cell_type": "markdown",
   "id": "8351efe3-9412-4a26-9896-1d5dcd002bc9",
   "metadata": {},
   "source": [
    "---"
   ]
  },
  {
   "cell_type": "code",
   "execution_count": 1,
   "id": "0c3a3ca3-e15c-4cf4-bb4a-0992d4c86da6",
   "metadata": {},
   "outputs": [],
   "source": [
    "def len_score(word):\n",
    "    return len(word)"
   ]
  },
  {
   "cell_type": "code",
   "execution_count": 2,
   "id": "12871aad-c956-4ca8-b0ea-17ae014056c4",
   "metadata": {},
   "outputs": [
    {
     "data": {
      "text/plain": [
       "5"
      ]
     },
     "execution_count": 2,
     "metadata": {},
     "output_type": "execute_result"
    }
   ],
   "source": [
    "len_score('hello')"
   ]
  },
  {
   "cell_type": "code",
   "execution_count": 3,
   "id": "e168ee6a-974f-4d90-b91a-90fee6a8eee5",
   "metadata": {},
   "outputs": [],
   "source": [
    "names = [\"Ben\", \"April\", \"Zaber\", \"Alexis\", \"McJagger\", \"J.J.\", \"Madonna\"]"
   ]
  },
  {
   "cell_type": "markdown",
   "id": "1e71f6cd-47a0-4546-b5d6-e655ef0057ff",
   "metadata": {},
   "source": [
    "---"
   ]
  },
  {
   "cell_type": "markdown",
   "id": "0fd21151-2f82-4d28-b034-2ca91d493c66",
   "metadata": {},
   "source": [
    "# First Pass --> Solution seems to work"
   ]
  },
  {
   "cell_type": "code",
   "execution_count": 23,
   "id": "71c5515c-ff70-4481-a54e-6fec78ef5961",
   "metadata": {},
   "outputs": [],
   "source": [
    "def best(len_score, names):\n",
    "    for word in names:\n",
    "#        print(word)\n",
    "#        print(len_score)\n",
    "#        return [(names, len_score(names)) for names in names]\n",
    "        return [(word, len_score(word)) for word in names]\n",
    "#        return len_score(word)"
   ]
  },
  {
   "cell_type": "code",
   "execution_count": 24,
   "id": "b0a7d76c-7f5f-4f24-9912-da409977fe5d",
   "metadata": {},
   "outputs": [
    {
     "data": {
      "text/plain": [
       "[('Ben', 3),\n",
       " ('April', 5),\n",
       " ('Zaber', 5),\n",
       " ('Alexis', 6),\n",
       " ('McJagger', 8),\n",
       " ('J.J.', 4),\n",
       " ('Madonna', 7)]"
      ]
     },
     "execution_count": 24,
     "metadata": {},
     "output_type": "execute_result"
    }
   ],
   "source": [
    "best(len_score, names)"
   ]
  },
  {
   "cell_type": "code",
   "execution_count": 25,
   "id": "beb5ecf6-a283-4a45-9bb5-ff386ea90144",
   "metadata": {},
   "outputs": [
    {
     "name": "stdout",
     "output_type": "stream",
     "text": [
      "[('Ben', 3), ('April', 5), ('Zaber', 5), ('Alexis', 6), ('McJagger', 8), ('J.J.', 4), ('Madonna', 7)]\n"
     ]
    }
   ],
   "source": [
    "print(best(len_score, names))"
   ]
  },
  {
   "cell_type": "markdown",
   "id": "03e9bd9c-ba14-4ce2-8746-59b1cbc71f16",
   "metadata": {},
   "source": [
    "---"
   ]
  },
  {
   "cell_type": "code",
   "execution_count": 27,
   "id": "24e29a82-3c85-4012-82d2-7f8d47e7b500",
   "metadata": {},
   "outputs": [],
   "source": [
    "def best(score, names):\n",
    "    for word in names:\n",
    "        return [(word, len_score(word)) for word in names]"
   ]
  },
  {
   "cell_type": "code",
   "execution_count": 28,
   "id": "fe7c67f8-eb08-427d-bcc8-106498ddeb7e",
   "metadata": {},
   "outputs": [
    {
     "name": "stdout",
     "output_type": "stream",
     "text": [
      "[('Ben', 3), ('April', 5), ('Zaber', 5), ('Alexis', 6), ('McJagger', 8), ('J.J.', 4), ('Madonna', 7)]\n"
     ]
    }
   ],
   "source": [
    "print(best(len_score, names))"
   ]
  },
  {
   "cell_type": "code",
   "execution_count": null,
   "id": "e25d6883-abcb-4e5b-bf30-6c2a228314c4",
   "metadata": {},
   "outputs": [],
   "source": []
  }
 ],
 "metadata": {
  "kernelspec": {
   "display_name": "Python 3 (ipykernel)",
   "language": "python",
   "name": "python3"
  },
  "language_info": {
   "codemirror_mode": {
    "name": "ipython",
    "version": 3
   },
   "file_extension": ".py",
   "mimetype": "text/x-python",
   "name": "python",
   "nbconvert_exporter": "python",
   "pygments_lexer": "ipython3",
   "version": "3.9.12"
  }
 },
 "nbformat": 4,
 "nbformat_minor": 5
}
