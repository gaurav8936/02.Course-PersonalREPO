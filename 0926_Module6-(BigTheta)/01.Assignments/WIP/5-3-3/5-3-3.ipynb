{
 "cells": [
  {
   "cell_type": "markdown",
   "id": "1cfa62f1",
   "metadata": {},
   "source": [
    "## Objectives:\n",
    "\n",
    "- Demonstrate how to define functions \n",
    "- Understand how to call functions from within other functions\n",
    "- Understand how to return results from a function\n",
    "- Use the Python namespace to configure variables\n",
    "- Use functions as objects to pass to other functions\n",
    "- Design and implement a recursive function\n",
    "- Demonstrate knowledge of the Try/Except error checking statements"
   ]
  },
  {
   "cell_type": "markdown",
   "id": "65423049",
   "metadata": {},
   "source": [
    "## General Guidelines:\n",
    "\n",
    "- All calculations need to be done in the functions (that includes any formatting)\n",
    "- Name your functions exactly as written in the problem statement\n",
    "- Please have your functions return the answer rather than printing it inside the function\n",
    "- Do not make a separate input() statement. The functions will be passed the input as shown in the examples\n",
    "- The examples given are samples of how we will test/grade your code. Please ensure your functions output the same information\n",
    "- Answer format is graded - please match the examples\n",
    "- Other than for Part 5, user / function inputs do not need to be validated or checked. (For example, if the problem states input an integer we will check it by inputting an integer)\n",
    "- Docstrings and comments in your code are strongly suggested but won't be graded\n",
    "- In each code block, do NOT delete the ### comment at the top of a cell (it's needed for the auto-grading!)\n",
    "  - You will get 80 points from the autograder for this assignment and 20 points will be hidden. That is, passing all of the visible tests will give you 80 points. Make sure you are meeting the requirements of the problem to get the other 20 points!\n",
    "  - Do NOT print or put other statements in the grading cells. The autograder will fail - if this happens please delete those statments and re-submit \n",
    "  - You may upload and run the autograder as many times as needed in your time window to get full points\n",
    "  - The assignment needs to be named HW_Unit_05.ipynb to be graded from the autograder\n",
    "  - The examples given are samples of how we will test/grade your code. Please ensure your code outputs the same information.\n",
    "    - In addition to the given example, the autograder will test other examples\n",
    "    - Each autograder test tells you what input it is using\n",
    "  - Once complete, the autograder will show each tests, if that test is passed or failed, and your total score\n",
    "  - The autograder fails for a couple of reasons:\n",
    "    - Your code crashes with that input (for example: `Test Failed: string index out of range`)\n",
    "    - Your code output does not match the 'correct' output (for example: `Test Failed: '1 2 3 2 1' != '1 4 6 4 1'`)"
   ]
  },
  {
   "cell_type": "markdown",
   "id": "5e54601c",
   "metadata": {},
   "source": [
    "### 5-3-3 Using Our Flexible Function with a Lambda Function (10 points)\n",
    "\n",
    "**NOTE: Do not change your best function from the answer in 5-3-1 above! The best function should be able to take any scoring function and return the result.** (you also do not need to copy your best function from above - we will run the cells above and then this cell in succession) \n",
    "\n",
    "Now pass a `lambda` function into your `best` function to find the name in `names` with the highest number of A's (upper or lower case). This needs to be a lambda function and only be one line! \n",
    "\n",
    "Example (replace `<lambda_function>` with the correct ```lambda```): \n",
    "```\n",
    "names = [\"Ben\", \"April\", \"Zaber\", \"Alexis\", \"McJagger\", \"J.J.\", \"MadonnA\"]\n",
    "\n",
    "print(best(<lambda_function>, names))\n",
    "\n",
    "MadonnA\n",
    "```"
   ]
  },
  {
   "cell_type": "code",
   "execution_count": null,
   "id": "71394153",
   "metadata": {},
   "outputs": [],
   "source": [
    "# Q5-3-3 Grading Tag: (also do not delete the names variable below)\n",
    "names = [\"Ben\", \"April\", \"Zaber\", \"Alexis\", \"McJagger\", \"J.J.\", \"MadonnA\"] \n",
    "\n",
    "print(best(<lambda_function>, names))"
   ]
  },
  {
   "cell_type": "code",
   "execution_count": null,
   "id": "ee09c2b9-34ce-4c98-a6a0-cc2a75774d63",
   "metadata": {},
   "outputs": [],
   "source": []
  },
  {
   "cell_type": "code",
   "execution_count": null,
   "id": "457040a0-fb58-4550-9fca-15aef1e56730",
   "metadata": {},
   "outputs": [],
   "source": []
  },
  {
   "cell_type": "markdown",
   "id": "f75804bf-7035-49ee-830a-84a6f0794a59",
   "metadata": {},
   "source": [
    "# Copied content from earlier exercises"
   ]
  },
  {
   "cell_type": "markdown",
   "id": "3828d41f-95c5-4845-827e-af764cb37569",
   "metadata": {},
   "source": [
    "---"
   ]
  },
  {
   "cell_type": "code",
   "execution_count": 1,
   "id": "b11881fe-9c6e-48ab-9284-331a53d58350",
   "metadata": {},
   "outputs": [],
   "source": [
    "def best(score, names):\n",
    "    \n",
    "    '''\n",
    "    Uses list comprehension to create a list of tuples organized by count and word. \n",
    "    This is not sorted explicity but retains the original order\n",
    "    We retrive the max value (using the max function) coupled with a lambda function \n",
    "    which breaks the tie based on a sort but retaining original sequence\n",
    "    \n",
    "    '''\n",
    "    \n",
    "    mylist = [(score(word), word) for word in names]     # this gives us list in the original order\n",
    "    return max(mylist, key = lambda x : x[0])[1]         # the lambda function sorts on first and then second item\n"
   ]
  },
  {
   "cell_type": "code",
   "execution_count": 2,
   "id": "5c5b29aa-8448-4c35-95ae-5d9b95c1da23",
   "metadata": {},
   "outputs": [],
   "source": [
    "def len_score(word):\n",
    "    return len(word.lower())"
   ]
  },
  {
   "cell_type": "code",
   "execution_count": 3,
   "id": "0305b501-1521-4ef2-a690-d72a448b1175",
   "metadata": {},
   "outputs": [],
   "source": [
    "def number_of_vowels(word):\n",
    "    \n",
    "    '''\n",
    "    function to calculate the number of vowels in a word. \n",
    "    uses list comprehension\n",
    "    '''\n",
    "    return len([letter for letter in word if letter.lower() in 'aeiou'])         \n",
    "    # uses list comprehension to run word through a vowel checker and returns the length"
   ]
  },
  {
   "cell_type": "markdown",
   "id": "f463d170-b89f-457b-a493-cd127a7b0802",
   "metadata": {},
   "source": [
    "---"
   ]
  },
  {
   "cell_type": "markdown",
   "id": "a4731c0b-faa4-4d72-a3ba-877df1ab2431",
   "metadata": {},
   "source": [
    "<font size = 4, color = green> Ask - write a new score function as a lambda expression"
   ]
  },
  {
   "cell_type": "markdown",
   "id": "0876e588-833a-46fb-bc36-198235051647",
   "metadata": {},
   "source": [
    "### From Stack Overflow"
   ]
  },
  {
   "cell_type": "code",
   "execution_count": null,
   "id": "b4f7b0ab-ab71-4f8c-a932-ca24d8d610df",
   "metadata": {},
   "outputs": [],
   "source": [
    "mylist = [(sum(c in 'aeiou' for c in name.lower()), name) for name in names]\n",
    "max(mylist, key=lambda t: t[0])\n",
    "\n"
   ]
  },
  {
   "cell_type": "code",
   "execution_count": 6,
   "id": "08316687-5fd7-4349-acf6-25c20e46e2d2",
   "metadata": {},
   "outputs": [],
   "source": [
    "def countA(word):\n",
    "    return len([1 for x in word if x == 'a'])"
   ]
  },
  {
   "cell_type": "code",
   "execution_count": 12,
   "id": "3753973c-5f7b-4e32-a19b-b8ca6da39228",
   "metadata": {},
   "outputs": [
    {
     "name": "stdout",
     "output_type": "stream",
     "text": [
      "[(1, 'Ben'), (2, 'April'), (2, 'Zaber'), (3, 'Alexis'), (2, 'McJagger'), (0, 'J.J.'), (3, 'Madonna')]\n"
     ]
    }
   ],
   "source": [
    "# rewriting this as lambda\n",
    "\n",
    "mylist = [(sum(c in 'aeiou' for c in name.lower()), name) for name in names]\n",
    "print(mylist)"
   ]
  },
  {
   "cell_type": "markdown",
   "id": "b88bb5e0-83ae-4027-9336-9737041ebd3b",
   "metadata": {
    "tags": []
   },
   "source": [
    "## this returns a list of names with count of A's"
   ]
  },
  {
   "cell_type": "markdown",
   "id": "79f82106-c1fe-4af4-a27c-6e5acfa3be74",
   "metadata": {},
   "source": [
    "---"
   ]
  },
  {
   "cell_type": "code",
   "execution_count": 16,
   "id": "4067a985-fab9-4aab-b58e-2b4dc1ca7567",
   "metadata": {},
   "outputs": [
    {
     "name": "stdout",
     "output_type": "stream",
     "text": [
      "[(0, 'Ben'), (1, 'April'), (1, 'Zaber'), (1, 'Alexis'), (1, 'McJagger'), (0, 'J.J.'), (2, 'Madonna')]\n"
     ]
    }
   ],
   "source": [
    "mylist = [(sum(c == 'a' for c in name.lower()), name) for name in names]\n",
    "print(mylist)"
   ]
  },
  {
   "cell_type": "markdown",
   "id": "dc6511e9-d5df-4e35-8f5d-d240717b52ff",
   "metadata": {},
   "source": [
    "---"
   ]
  },
  {
   "cell_type": "markdown",
   "id": "61889bc5-e17e-4a06-82ef-193b8458cae3",
   "metadata": {
    "tags": []
   },
   "source": [
    "## this returns a list of names with count of A's (remove case restriction)"
   ]
  },
  {
   "cell_type": "code",
   "execution_count": 51,
   "id": "2649b3f3-76a6-42cf-a67b-3030c3e6f2f4",
   "metadata": {},
   "outputs": [
    {
     "name": "stdout",
     "output_type": "stream",
     "text": [
      "[(0, 'Ben'), (1, 'April'), (1, 'Zaber'), (1, 'Alexis'), (1, 'McJagger'), (0, 'J.J.'), (3, 'MadonnAA')]\n"
     ]
    }
   ],
   "source": [
    "mylist = [(sum(c in ('a', 'A') for c in word), word) for word in names]\n",
    "print(mylist)"
   ]
  },
  {
   "cell_type": "markdown",
   "id": "1faa9a40-8fdf-498f-9c9b-445677795ac7",
   "metadata": {},
   "source": [
    "---"
   ]
  },
  {
   "cell_type": "markdown",
   "id": "79446d1e-b09a-42d7-844b-eea683e5d0b5",
   "metadata": {},
   "source": [
    "<font size = 6, color = 'red'>Current Version - Single line lamnda function"
   ]
  },
  {
   "cell_type": "markdown",
   "id": "b7c5ab21-7725-4131-a41c-9c1957291e3a",
   "metadata": {},
   "source": [
    "## Converting this into a single line"
   ]
  },
  {
   "cell_type": "code",
   "execution_count": 32,
   "id": "47f57212-105b-4000-9e89-923a045415ad",
   "metadata": {},
   "outputs": [
    {
     "data": {
      "text/plain": [
       "3"
      ]
     },
     "execution_count": 32,
     "metadata": {},
     "output_type": "execute_result"
    }
   ],
   "source": [
    "max([(sum(letter in ('a', 'A') for letter in word), word) for word in names], key=lambda t: t[0])[0]"
   ]
  },
  {
   "cell_type": "code",
   "execution_count": 57,
   "id": "84b767be-9d45-4b0f-90b0-8e06af3bf86c",
   "metadata": {},
   "outputs": [
    {
     "data": {
      "text/plain": [
       "[(0, 'Ben'),\n",
       " (1, 'April'),\n",
       " (1, 'Zaber'),\n",
       " (1, 'Alexis'),\n",
       " (1, 'McJagger'),\n",
       " (0, 'J.J.'),\n",
       " (3, 'MadonnAA')]"
      ]
     },
     "execution_count": 57,
     "metadata": {},
     "output_type": "execute_result"
    }
   ],
   "source": [
    "[(sum(letter in ('a', 'A') for letter in word), word) for word in names]"
   ]
  },
  {
   "cell_type": "code",
   "execution_count": 55,
   "id": "45d16f1b-33ce-46d8-b316-4aaf09d91b31",
   "metadata": {},
   "outputs": [
    {
     "ename": "TypeError",
     "evalue": "list() takes no keyword arguments",
     "output_type": "error",
     "traceback": [
      "\u001b[0;31m---------------------------------------------------------------------------\u001b[0m",
      "\u001b[0;31mTypeError\u001b[0m                                 Traceback (most recent call last)",
      "Input \u001b[0;32mIn [55]\u001b[0m, in \u001b[0;36m<cell line: 1>\u001b[0;34m()\u001b[0m\n\u001b[0;32m----> 1\u001b[0m \u001b[38;5;28;43mlist\u001b[39;49m\u001b[43m(\u001b[49m\u001b[43m[\u001b[49m\u001b[43m(\u001b[49m\u001b[38;5;28;43msum\u001b[39;49m\u001b[43m(\u001b[49m\u001b[43mletter\u001b[49m\u001b[43m \u001b[49m\u001b[38;5;129;43;01min\u001b[39;49;00m\u001b[43m \u001b[49m\u001b[43m(\u001b[49m\u001b[38;5;124;43m'\u001b[39;49m\u001b[38;5;124;43ma\u001b[39;49m\u001b[38;5;124;43m'\u001b[39;49m\u001b[43m,\u001b[49m\u001b[43m \u001b[49m\u001b[38;5;124;43m'\u001b[39;49m\u001b[38;5;124;43mA\u001b[39;49m\u001b[38;5;124;43m'\u001b[39;49m\u001b[43m)\u001b[49m\u001b[43m \u001b[49m\u001b[38;5;28;43;01mfor\u001b[39;49;00m\u001b[43m \u001b[49m\u001b[43mletter\u001b[49m\u001b[43m \u001b[49m\u001b[38;5;129;43;01min\u001b[39;49;00m\u001b[43m \u001b[49m\u001b[43mword\u001b[49m\u001b[43m)\u001b[49m\u001b[43m,\u001b[49m\u001b[43m \u001b[49m\u001b[43mword\u001b[49m\u001b[43m)\u001b[49m\u001b[43m \u001b[49m\u001b[38;5;28;43;01mfor\u001b[39;49;00m\u001b[43m \u001b[49m\u001b[43mword\u001b[49m\u001b[43m \u001b[49m\u001b[38;5;129;43;01min\u001b[39;49;00m\u001b[43m \u001b[49m\u001b[43mnames\u001b[49m\u001b[43m]\u001b[49m\u001b[43m,\u001b[49m\u001b[43m \u001b[49m\u001b[43mkey\u001b[49m\u001b[43m \u001b[49m\u001b[38;5;241;43m=\u001b[39;49m\u001b[43m \u001b[49m\u001b[38;5;28;43;01mlambda\u001b[39;49;00m\u001b[43m \u001b[49m\u001b[43mx\u001b[49m\u001b[43m \u001b[49m\u001b[43m:\u001b[49m\u001b[43m \u001b[49m\u001b[43mx\u001b[49m\u001b[43m[\u001b[49m\u001b[38;5;241;43m0\u001b[39;49m\u001b[43m]\u001b[49m\u001b[43m)\u001b[49m[\u001b[38;5;241m1\u001b[39m]\n",
      "\u001b[0;31mTypeError\u001b[0m: list() takes no keyword arguments"
     ]
    }
   ],
   "source": [
    "[(sum(letter in ('a', 'A') for letter in word), word) for word in names], key = lambda x : x[0])[1]"
   ]
  },
  {
   "cell_type": "code",
   "execution_count": null,
   "id": "0eaff6e1-5657-402f-a37c-4c51a789b678",
   "metadata": {},
   "outputs": [],
   "source": []
  },
  {
   "cell_type": "markdown",
   "id": "4156fbaf-2f7e-4727-abdf-7a9247c7d973",
   "metadata": {},
   "source": [
    "# This solution works with the lambda function (but returns a full list)"
   ]
  },
  {
   "cell_type": "markdown",
   "id": "58fb8a41-8c00-4483-ac1a-f727f0c37b65",
   "metadata": {},
   "source": [
    "---"
   ]
  },
  {
   "cell_type": "code",
   "execution_count": 61,
   "id": "d2fd9f17-a930-42ef-924f-e635f1bd5815",
   "metadata": {},
   "outputs": [
    {
     "name": "stdout",
     "output_type": "stream",
     "text": [
      "[0, 1, 1, 1, 1, 0, 3]\n"
     ]
    }
   ],
   "source": [
    "newlist = map(lambda x : x[0], [(sum(letter in ('a', 'A') for letter in word), word) for word in names])\n",
    "list2 = list(newlist)\n",
    "print(list2)"
   ]
  },
  {
   "cell_type": "code",
   "execution_count": 66,
   "id": "5dd3a4c1-8c3e-4d1c-9de3-6c1bde215237",
   "metadata": {},
   "outputs": [
    {
     "name": "stdout",
     "output_type": "stream",
     "text": [
      "[<function <lambda> at 0x7f85988b58b0>, [(0, 'Ben'), (1, 'April'), (1, 'Zaber'), (1, 'Alexis'), (1, 'McJagger'), (0, 'J.J.'), (3, 'MadonnAA')]]\n"
     ]
    }
   ],
   "source": [
    "newlist = (lambda x : x[0], [(sum(letter in ('a', 'A') for letter in word), word) for word in names])\n",
    "list2 = list(newlist)\n",
    "print(list2)"
   ]
  },
  {
   "cell_type": "code",
   "execution_count": null,
   "id": "60bb3703-9bdf-41fc-b017-0f8becb71043",
   "metadata": {},
   "outputs": [],
   "source": []
  },
  {
   "cell_type": "markdown",
   "id": "8a74a0c6-3c28-49e4-b8c7-289f0bcf1c74",
   "metadata": {},
   "source": [
    "---"
   ]
  },
  {
   "cell_type": "markdown",
   "id": "b8625292-2f65-4920-ba73-fefe6e2f49e7",
   "metadata": {},
   "source": [
    "### This works in a single line but returns the full list"
   ]
  },
  {
   "cell_type": "code",
   "execution_count": 62,
   "id": "b80de6d8-0111-4668-bd91-30e068f41c13",
   "metadata": {},
   "outputs": [
    {
     "name": "stdout",
     "output_type": "stream",
     "text": [
      "[0, 1, 1, 1, 1, 0, 3]\n"
     ]
    }
   ],
   "source": [
    "print(list(map(lambda x : x[0], [(sum(letter in ('a', 'A') for letter in word), word) for word in names])))"
   ]
  },
  {
   "cell_type": "markdown",
   "id": "12fc1e30-fb1c-4cb0-86a7-2a5448b6ce4f",
   "metadata": {},
   "source": [
    "---"
   ]
  },
  {
   "cell_type": "code",
   "execution_count": null,
   "id": "d270f11e-25a9-471a-93e0-6cf751c679fd",
   "metadata": {},
   "outputs": [],
   "source": []
  },
  {
   "cell_type": "markdown",
   "id": "265ef252-070c-4d26-a112-881efe4527ab",
   "metadata": {},
   "source": [
    "## This returns a single item based on the word"
   ]
  },
  {
   "cell_type": "code",
   "execution_count": 72,
   "id": "e9cb6f57-b2e9-440c-b102-9a3ef76e1eb3",
   "metadata": {},
   "outputs": [],
   "source": [
    "word = 'AssaS'"
   ]
  },
  {
   "cell_type": "code",
   "execution_count": 87,
   "id": "e5408064-a3c5-423c-b1bd-a7a7db10d3fc",
   "metadata": {},
   "outputs": [
    {
     "data": {
      "text/plain": [
       "2"
      ]
     },
     "execution_count": 87,
     "metadata": {},
     "output_type": "execute_result"
    }
   ],
   "source": [
    "list(map(lambda x : x[0], [(sum(letter in ('a', 'A') for letter in word), word)]))[0]"
   ]
  },
  {
   "cell_type": "markdown",
   "id": "aa8905b7-2070-4964-8ba9-01f63ec47667",
   "metadata": {},
   "source": [
    "# Experimenting with Lamnda"
   ]
  },
  {
   "cell_type": "code",
   "execution_count": 92,
   "id": "177c7ef1-d554-4e6e-adbd-b60dadb2ffc0",
   "metadata": {},
   "outputs": [
    {
     "ename": "TypeError",
     "evalue": "'int' object is not subscriptable",
     "output_type": "error",
     "traceback": [
      "\u001b[0;31m---------------------------------------------------------------------------\u001b[0m",
      "\u001b[0;31mTypeError\u001b[0m                                 Traceback (most recent call last)",
      "Input \u001b[0;32mIn [92]\u001b[0m, in \u001b[0;36m<cell line: 1>\u001b[0;34m()\u001b[0m\n\u001b[0;32m----> 1\u001b[0m \u001b[38;5;28;43mlist\u001b[39;49m\u001b[43m(\u001b[49m\u001b[38;5;28;43mmap\u001b[39;49m\u001b[43m(\u001b[49m\u001b[38;5;28;43;01mlambda\u001b[39;49;00m\u001b[43m \u001b[49m\u001b[43mx\u001b[49m\u001b[43m \u001b[49m\u001b[43m:\u001b[49m\u001b[43m \u001b[49m\u001b[43mx\u001b[49m\u001b[43m[\u001b[49m\u001b[38;5;241;43m0\u001b[39;49m\u001b[43m]\u001b[49m\u001b[43m,\u001b[49m\u001b[43m \u001b[49m\u001b[43m[\u001b[49m\u001b[43m(\u001b[49m\u001b[38;5;28;43msum\u001b[39;49m\u001b[43m(\u001b[49m\u001b[43mletter\u001b[49m\u001b[43m \u001b[49m\u001b[38;5;129;43;01min\u001b[39;49;00m\u001b[43m \u001b[49m\u001b[43m(\u001b[49m\u001b[38;5;124;43m'\u001b[39;49m\u001b[38;5;124;43ma\u001b[39;49m\u001b[38;5;124;43m'\u001b[39;49m\u001b[43m,\u001b[49m\u001b[43m \u001b[49m\u001b[38;5;124;43m'\u001b[39;49m\u001b[38;5;124;43mA\u001b[39;49m\u001b[38;5;124;43m'\u001b[39;49m\u001b[43m)\u001b[49m\u001b[43m \u001b[49m\u001b[38;5;28;43;01mfor\u001b[39;49;00m\u001b[43m \u001b[49m\u001b[43mletter\u001b[49m\u001b[43m \u001b[49m\u001b[38;5;129;43;01min\u001b[39;49;00m\u001b[43m \u001b[49m\u001b[43mword\u001b[49m\u001b[43m)\u001b[49m\u001b[43m)\u001b[49m\u001b[43m]\u001b[49m\u001b[43m)\u001b[49m\u001b[43m)\u001b[49m\n",
      "Input \u001b[0;32mIn [92]\u001b[0m, in \u001b[0;36m<lambda>\u001b[0;34m(x)\u001b[0m\n\u001b[0;32m----> 1\u001b[0m \u001b[38;5;28mlist\u001b[39m(\u001b[38;5;28mmap\u001b[39m(\u001b[38;5;28;01mlambda\u001b[39;00m x : \u001b[43mx\u001b[49m\u001b[43m[\u001b[49m\u001b[38;5;241;43m0\u001b[39;49m\u001b[43m]\u001b[49m, [(\u001b[38;5;28msum\u001b[39m(letter \u001b[38;5;129;01min\u001b[39;00m (\u001b[38;5;124m'\u001b[39m\u001b[38;5;124ma\u001b[39m\u001b[38;5;124m'\u001b[39m, \u001b[38;5;124m'\u001b[39m\u001b[38;5;124mA\u001b[39m\u001b[38;5;124m'\u001b[39m) \u001b[38;5;28;01mfor\u001b[39;00m letter \u001b[38;5;129;01min\u001b[39;00m word))]))\n",
      "\u001b[0;31mTypeError\u001b[0m: 'int' object is not subscriptable"
     ]
    }
   ],
   "source": [
    "list(map(lambda x : x[0], [(sum(letter in ('a', 'A') for letter in word))]))"
   ]
  },
  {
   "cell_type": "code",
   "execution_count": null,
   "id": "f1e96f0b-9e0d-4e4d-96a7-4fd3d7655af7",
   "metadata": {},
   "outputs": [],
   "source": []
  },
  {
   "cell_type": "markdown",
   "id": "dd43236e-0eda-4b25-9419-4f68f239f740",
   "metadata": {},
   "source": [
    "<font size = 6, color = red> Current Version"
   ]
  },
  {
   "cell_type": "markdown",
   "id": "e4423291-cd81-4b03-9162-aff8a40042f0",
   "metadata": {},
   "source": [
    "# This is the simple version of the query using list comprehensions"
   ]
  },
  {
   "cell_type": "code",
   "execution_count": 95,
   "id": "303e9fc7-57f6-4d9c-b6ab-27d4aadca831",
   "metadata": {},
   "outputs": [
    {
     "data": {
      "text/plain": [
       "2"
      ]
     },
     "execution_count": 95,
     "metadata": {},
     "output_type": "execute_result"
    }
   ],
   "source": [
    "(sum(letter in ('a', 'A') for letter in word))"
   ]
  },
  {
   "cell_type": "code",
   "execution_count": null,
   "id": "34b0937a-56a2-4545-a934-542e76b56411",
   "metadata": {},
   "outputs": [],
   "source": []
  },
  {
   "cell_type": "code",
   "execution_count": null,
   "id": "31680057-71ad-429c-a202-6af272c8d9d3",
   "metadata": {},
   "outputs": [],
   "source": []
  },
  {
   "cell_type": "code",
   "execution_count": null,
   "id": "008ef2cd-a4e7-4d5a-9464-36bf9ebcf953",
   "metadata": {},
   "outputs": [],
   "source": []
  },
  {
   "cell_type": "code",
   "execution_count": null,
   "id": "1aeb1317-7777-48a8-9cff-5a83beeaee5a",
   "metadata": {},
   "outputs": [],
   "source": []
  },
  {
   "cell_type": "markdown",
   "id": "eb556252-a72a-497e-868c-12fcdf9aa87b",
   "metadata": {},
   "source": [
    "#### Removing list"
   ]
  },
  {
   "cell_type": "code",
   "execution_count": 79,
   "id": "70c6a1ea-d06a-483a-bf08-5d2be8f47479",
   "metadata": {},
   "outputs": [
    {
     "ename": "TypeError",
     "evalue": "int() argument must be a string, a bytes-like object or a number, not 'map'",
     "output_type": "error",
     "traceback": [
      "\u001b[0;31m---------------------------------------------------------------------------\u001b[0m",
      "\u001b[0;31mTypeError\u001b[0m                                 Traceback (most recent call last)",
      "Input \u001b[0;32mIn [79]\u001b[0m, in \u001b[0;36m<cell line: 1>\u001b[0;34m()\u001b[0m\n\u001b[0;32m----> 1\u001b[0m \u001b[38;5;28;43mint\u001b[39;49m\u001b[43m(\u001b[49m\u001b[38;5;28;43mmap\u001b[39;49m\u001b[43m(\u001b[49m\u001b[38;5;28;43;01mlambda\u001b[39;49;00m\u001b[43m \u001b[49m\u001b[43mx\u001b[49m\u001b[43m \u001b[49m\u001b[43m:\u001b[49m\u001b[43m \u001b[49m\u001b[43mx\u001b[49m\u001b[43m[\u001b[49m\u001b[38;5;241;43m0\u001b[39;49m\u001b[43m]\u001b[49m\u001b[43m,\u001b[49m\u001b[43m \u001b[49m\u001b[43m[\u001b[49m\u001b[43m(\u001b[49m\u001b[38;5;28;43msum\u001b[39;49m\u001b[43m(\u001b[49m\u001b[43mletter\u001b[49m\u001b[43m \u001b[49m\u001b[38;5;129;43;01min\u001b[39;49;00m\u001b[43m \u001b[49m\u001b[43m(\u001b[49m\u001b[38;5;124;43m'\u001b[39;49m\u001b[38;5;124;43ma\u001b[39;49m\u001b[38;5;124;43m'\u001b[39;49m\u001b[43m,\u001b[49m\u001b[43m \u001b[49m\u001b[38;5;124;43m'\u001b[39;49m\u001b[38;5;124;43mA\u001b[39;49m\u001b[38;5;124;43m'\u001b[39;49m\u001b[43m)\u001b[49m\u001b[43m \u001b[49m\u001b[38;5;28;43;01mfor\u001b[39;49;00m\u001b[43m \u001b[49m\u001b[43mletter\u001b[49m\u001b[43m \u001b[49m\u001b[38;5;129;43;01min\u001b[39;49;00m\u001b[43m \u001b[49m\u001b[43mword\u001b[49m\u001b[43m)\u001b[49m\u001b[43m,\u001b[49m\u001b[43m \u001b[49m\u001b[43mword\u001b[49m\u001b[43m)\u001b[49m\u001b[43m]\u001b[49m\u001b[43m)\u001b[49m\u001b[43m)\u001b[49m\n",
      "\u001b[0;31mTypeError\u001b[0m: int() argument must be a string, a bytes-like object or a number, not 'map'"
     ]
    }
   ],
   "source": [
    "int(map(lambda x : x[0], [(sum(letter in ('a', 'A') for letter in word), word)]))"
   ]
  },
  {
   "cell_type": "code",
   "execution_count": 86,
   "id": "1cfdc359-afbc-47e8-9c90-fdbff8f653b9",
   "metadata": {},
   "outputs": [
    {
     "data": {
      "text/plain": [
       "2"
      ]
     },
     "execution_count": 86,
     "metadata": {},
     "output_type": "execute_result"
    }
   ],
   "source": [
    "list(map(lambda x : x[0], [(sum(letter in ('a', 'A') for letter in word), word)]))[0]"
   ]
  },
  {
   "cell_type": "code",
   "execution_count": null,
   "id": "22f6b0b6-fbc2-4a68-aafd-ace91baae434",
   "metadata": {},
   "outputs": [],
   "source": []
  },
  {
   "cell_type": "markdown",
   "id": "f01bb081-504a-4af4-8567-b6483e166139",
   "metadata": {},
   "source": [
    "---"
   ]
  },
  {
   "cell_type": "markdown",
   "id": "c98191d1-dea1-436f-80b8-ea1a12192ce5",
   "metadata": {},
   "source": [
    "# More trials"
   ]
  },
  {
   "cell_type": "code",
   "execution_count": 81,
   "id": "5b7a37c3-05d8-4689-92cb-a09027a2ca93",
   "metadata": {},
   "outputs": [],
   "source": [
    "a =[('a', 2), ('ee', 3), ('mm', 4), ('x', 1)]"
   ]
  },
  {
   "cell_type": "code",
   "execution_count": 82,
   "id": "abd48445-d919-4055-b4a8-0d161f580005",
   "metadata": {},
   "outputs": [
    {
     "data": {
      "text/plain": [
       "('x', 1)"
      ]
     },
     "execution_count": 82,
     "metadata": {},
     "output_type": "execute_result"
    }
   ],
   "source": [
    "min(a, key=lambda t: t[1])"
   ]
  },
  {
   "cell_type": "code",
   "execution_count": 84,
   "id": "b2a7f097-898c-4333-a292-21692ca7929d",
   "metadata": {},
   "outputs": [
    {
     "ename": "SyntaxError",
     "evalue": "invalid syntax (98766696.py, line 1)",
     "output_type": "error",
     "traceback": [
      "\u001b[0;36m  Input \u001b[0;32mIn [84]\u001b[0;36m\u001b[0m\n\u001b[0;31m    (a, key=lambda t: t[1])\u001b[0m\n\u001b[0m           ^\u001b[0m\n\u001b[0;31mSyntaxError\u001b[0m\u001b[0;31m:\u001b[0m invalid syntax\n"
     ]
    }
   ],
   "source": [
    "(a, key=lambda t: t[1])"
   ]
  },
  {
   "cell_type": "code",
   "execution_count": null,
   "id": "3b558e13-159a-4d1e-b9af-0335519f3ca7",
   "metadata": {},
   "outputs": [],
   "source": []
  },
  {
   "cell_type": "code",
   "execution_count": null,
   "id": "286dbcd5-1761-4b7e-be10-12825532f26b",
   "metadata": {},
   "outputs": [],
   "source": []
  },
  {
   "cell_type": "code",
   "execution_count": null,
   "id": "9d747e51-51bc-4806-937f-8526f7870273",
   "metadata": {},
   "outputs": [],
   "source": []
  },
  {
   "cell_type": "code",
   "execution_count": 76,
   "id": "00272ee9-20a5-4073-8dff-10e1b8ca5d7b",
   "metadata": {
    "collapsed": true,
    "jupyter": {
     "outputs_hidden": true
    },
    "tags": []
   },
   "outputs": [
    {
     "ename": "TypeError",
     "evalue": "'function' object is not iterable",
     "output_type": "error",
     "traceback": [
      "\u001b[0;31m---------------------------------------------------------------------------\u001b[0m",
      "\u001b[0;31mTypeError\u001b[0m                                 Traceback (most recent call last)",
      "Input \u001b[0;32mIn [76]\u001b[0m, in \u001b[0;36m<cell line: 1>\u001b[0;34m()\u001b[0m\n\u001b[0;32m----> 1\u001b[0m \u001b[38;5;28mlist\u001b[39m(\u001b[38;5;28;43mmap\u001b[39;49m\u001b[43m(\u001b[49m\u001b[43m[\u001b[49m\u001b[43m(\u001b[49m\u001b[38;5;28;43msum\u001b[39;49m\u001b[43m(\u001b[49m\u001b[43mletter\u001b[49m\u001b[43m \u001b[49m\u001b[38;5;129;43;01min\u001b[39;49;00m\u001b[43m \u001b[49m\u001b[43m(\u001b[49m\u001b[38;5;124;43m'\u001b[39;49m\u001b[38;5;124;43ma\u001b[39;49m\u001b[38;5;124;43m'\u001b[39;49m\u001b[43m,\u001b[49m\u001b[43m \u001b[49m\u001b[38;5;124;43m'\u001b[39;49m\u001b[38;5;124;43mA\u001b[39;49m\u001b[38;5;124;43m'\u001b[39;49m\u001b[43m)\u001b[49m\u001b[43m \u001b[49m\u001b[38;5;28;43;01mfor\u001b[39;49;00m\u001b[43m \u001b[49m\u001b[43mletter\u001b[49m\u001b[43m \u001b[49m\u001b[38;5;129;43;01min\u001b[39;49;00m\u001b[43m \u001b[49m\u001b[43mword\u001b[49m\u001b[43m)\u001b[49m\u001b[43m,\u001b[49m\u001b[43m \u001b[49m\u001b[43mword\u001b[49m\u001b[43m)\u001b[49m\u001b[43m]\u001b[49m\u001b[43m,\u001b[49m\u001b[43m \u001b[49m\u001b[38;5;28;43;01mlambda\u001b[39;49;00m\u001b[43m \u001b[49m\u001b[43mx\u001b[49m\u001b[43m \u001b[49m\u001b[43m:\u001b[49m\u001b[43m \u001b[49m\u001b[43mx\u001b[49m\u001b[43m[\u001b[49m\u001b[38;5;241;43m0\u001b[39;49m\u001b[43m]\u001b[49m\u001b[43m)\u001b[49m)\n",
      "\u001b[0;31mTypeError\u001b[0m: 'function' object is not iterable"
     ]
    }
   ],
   "source": [
    "list(map([(sum(letter in ('a', 'A') for letter in word), word)], lambda x : x[0]))"
   ]
  },
  {
   "cell_type": "code",
   "execution_count": null,
   "id": "093f7954-09c0-4f79-ab36-4ec42fc31223",
   "metadata": {},
   "outputs": [],
   "source": []
  },
  {
   "cell_type": "code",
   "execution_count": null,
   "id": "276f1b29-503a-4bba-b254-476777417d28",
   "metadata": {},
   "outputs": [],
   "source": []
  },
  {
   "cell_type": "code",
   "execution_count": 88,
   "id": "14007458-8e6c-481e-b707-b1f97cc54a04",
   "metadata": {
    "tags": []
   },
   "outputs": [
    {
     "ename": "TypeError",
     "evalue": "'int' object is not callable",
     "output_type": "error",
     "traceback": [
      "\u001b[0;31m---------------------------------------------------------------------------\u001b[0m",
      "\u001b[0;31mTypeError\u001b[0m                                 Traceback (most recent call last)",
      "Input \u001b[0;32mIn [88]\u001b[0m, in \u001b[0;36m<cell line: 1>\u001b[0;34m()\u001b[0m\n\u001b[0;32m----> 1\u001b[0m \u001b[43mbest\u001b[49m\u001b[43m(\u001b[49m\u001b[43m(\u001b[49m\u001b[38;5;28;43mlist\u001b[39;49m\u001b[43m(\u001b[49m\u001b[38;5;28;43mmap\u001b[39;49m\u001b[43m(\u001b[49m\u001b[38;5;28;43;01mlambda\u001b[39;49;00m\u001b[43m \u001b[49m\u001b[43mx\u001b[49m\u001b[43m \u001b[49m\u001b[43m:\u001b[49m\u001b[43m \u001b[49m\u001b[43mx\u001b[49m\u001b[43m[\u001b[49m\u001b[38;5;241;43m0\u001b[39;49m\u001b[43m]\u001b[49m\u001b[43m,\u001b[49m\u001b[43m \u001b[49m\u001b[43m[\u001b[49m\u001b[43m(\u001b[49m\u001b[38;5;28;43msum\u001b[39;49m\u001b[43m(\u001b[49m\u001b[43mletter\u001b[49m\u001b[43m \u001b[49m\u001b[38;5;129;43;01min\u001b[39;49;00m\u001b[43m \u001b[49m\u001b[43m(\u001b[49m\u001b[38;5;124;43m'\u001b[39;49m\u001b[38;5;124;43ma\u001b[39;49m\u001b[38;5;124;43m'\u001b[39;49m\u001b[43m,\u001b[49m\u001b[43m \u001b[49m\u001b[38;5;124;43m'\u001b[39;49m\u001b[38;5;124;43mA\u001b[39;49m\u001b[38;5;124;43m'\u001b[39;49m\u001b[43m)\u001b[49m\u001b[43m \u001b[49m\u001b[38;5;28;43;01mfor\u001b[39;49;00m\u001b[43m \u001b[49m\u001b[43mletter\u001b[49m\u001b[43m \u001b[49m\u001b[38;5;129;43;01min\u001b[39;49;00m\u001b[43m \u001b[49m\u001b[43mword\u001b[49m\u001b[43m)\u001b[49m\u001b[43m,\u001b[49m\u001b[43m \u001b[49m\u001b[43mword\u001b[49m\u001b[43m)\u001b[49m\u001b[43m]\u001b[49m\u001b[43m)\u001b[49m\u001b[43m)\u001b[49m\u001b[43m[\u001b[49m\u001b[38;5;241;43m0\u001b[39;49m\u001b[43m]\u001b[49m\u001b[43m)\u001b[49m\u001b[43m,\u001b[49m\u001b[43m \u001b[49m\u001b[43mnames\u001b[49m\u001b[43m)\u001b[49m\n",
      "Input \u001b[0;32mIn [1]\u001b[0m, in \u001b[0;36mbest\u001b[0;34m(score, names)\u001b[0m\n\u001b[1;32m      1\u001b[0m \u001b[38;5;28;01mdef\u001b[39;00m \u001b[38;5;21mbest\u001b[39m(score, names):\n\u001b[1;32m      3\u001b[0m     \u001b[38;5;124;03m'''\u001b[39;00m\n\u001b[1;32m      4\u001b[0m \u001b[38;5;124;03m    Uses list comprehension to create a list of tuples organized by count and word. \u001b[39;00m\n\u001b[1;32m      5\u001b[0m \u001b[38;5;124;03m    This is not sorted explicity but retains the original order\u001b[39;00m\n\u001b[0;32m   (...)\u001b[0m\n\u001b[1;32m      8\u001b[0m \u001b[38;5;124;03m    \u001b[39;00m\n\u001b[1;32m      9\u001b[0m \u001b[38;5;124;03m    '''\u001b[39;00m\n\u001b[0;32m---> 11\u001b[0m     mylist \u001b[38;5;241m=\u001b[39m [(score(word), word) \u001b[38;5;28;01mfor\u001b[39;00m word \u001b[38;5;129;01min\u001b[39;00m names]     \u001b[38;5;66;03m# this gives us list in the original order\u001b[39;00m\n\u001b[1;32m     12\u001b[0m     \u001b[38;5;28;01mreturn\u001b[39;00m \u001b[38;5;28mmax\u001b[39m(mylist, key \u001b[38;5;241m=\u001b[39m \u001b[38;5;28;01mlambda\u001b[39;00m x : x[\u001b[38;5;241m0\u001b[39m])[\u001b[38;5;241m1\u001b[39m]\n",
      "Input \u001b[0;32mIn [1]\u001b[0m, in \u001b[0;36m<listcomp>\u001b[0;34m(.0)\u001b[0m\n\u001b[1;32m      1\u001b[0m \u001b[38;5;28;01mdef\u001b[39;00m \u001b[38;5;21mbest\u001b[39m(score, names):\n\u001b[1;32m      3\u001b[0m     \u001b[38;5;124;03m'''\u001b[39;00m\n\u001b[1;32m      4\u001b[0m \u001b[38;5;124;03m    Uses list comprehension to create a list of tuples organized by count and word. \u001b[39;00m\n\u001b[1;32m      5\u001b[0m \u001b[38;5;124;03m    This is not sorted explicity but retains the original order\u001b[39;00m\n\u001b[0;32m   (...)\u001b[0m\n\u001b[1;32m      8\u001b[0m \u001b[38;5;124;03m    \u001b[39;00m\n\u001b[1;32m      9\u001b[0m \u001b[38;5;124;03m    '''\u001b[39;00m\n\u001b[0;32m---> 11\u001b[0m     mylist \u001b[38;5;241m=\u001b[39m [(\u001b[43mscore\u001b[49m\u001b[43m(\u001b[49m\u001b[43mword\u001b[49m\u001b[43m)\u001b[49m, word) \u001b[38;5;28;01mfor\u001b[39;00m word \u001b[38;5;129;01min\u001b[39;00m names]     \u001b[38;5;66;03m# this gives us list in the original order\u001b[39;00m\n\u001b[1;32m     12\u001b[0m     \u001b[38;5;28;01mreturn\u001b[39;00m \u001b[38;5;28mmax\u001b[39m(mylist, key \u001b[38;5;241m=\u001b[39m \u001b[38;5;28;01mlambda\u001b[39;00m x : x[\u001b[38;5;241m0\u001b[39m])[\u001b[38;5;241m1\u001b[39m]\n",
      "\u001b[0;31mTypeError\u001b[0m: 'int' object is not callable"
     ]
    }
   ],
   "source": [
    "best((list(map(lambda x : x[0], [(sum(letter in ('a', 'A') for letter in word), word)]))[0]), names)"
   ]
  },
  {
   "cell_type": "code",
   "execution_count": null,
   "id": "af8e1578-bad4-4591-a570-09db3f13f1d3",
   "metadata": {},
   "outputs": [],
   "source": []
  },
  {
   "cell_type": "code",
   "execution_count": null,
   "id": "e6b57f45-7def-4702-af71-b6e5e0c9f106",
   "metadata": {},
   "outputs": [],
   "source": []
  },
  {
   "cell_type": "code",
   "execution_count": 60,
   "id": "d77497aa-3813-4415-880f-931d783bdc0d",
   "metadata": {},
   "outputs": [
    {
     "name": "stdout",
     "output_type": "stream",
     "text": [
      "<map object at 0x7f8578a9b400>\n"
     ]
    }
   ],
   "source": [
    "print(map(lambda x : x[0], [(sum(letter in ('a', 'A') for letter in word), word) for word in names]))"
   ]
  },
  {
   "cell_type": "code",
   "execution_count": null,
   "id": "fa5dcd03-3beb-42c0-9883-a7320877dc77",
   "metadata": {},
   "outputs": [],
   "source": []
  },
  {
   "cell_type": "code",
   "execution_count": 34,
   "id": "cb6ad1b8-b024-470f-9390-93acd8ab1f9d",
   "metadata": {},
   "outputs": [],
   "source": [
    "# this is not necessary -- remove max (we need to get the corresponding numbwer)"
   ]
  },
  {
   "cell_type": "code",
   "execution_count": 38,
   "id": "bb01eef8-455c-44f6-b9de-e8bf60dcae4d",
   "metadata": {
    "collapsed": true,
    "jupyter": {
     "outputs_hidden": true
    },
    "tags": []
   },
   "outputs": [
    {
     "ename": "SyntaxError",
     "evalue": "cannot assign to list comprehension (898416719.py, line 1)",
     "output_type": "error",
     "traceback": [
      "\u001b[0;36m  Input \u001b[0;32mIn [38]\u001b[0;36m\u001b[0m\n\u001b[0;31m    mylist = [(sum(letter in ('a', 'A') for letter in word), word) for word in names], key=lambda t: t[0]\u001b[0m\n\u001b[0m             ^\u001b[0m\n\u001b[0;31mSyntaxError\u001b[0m\u001b[0;31m:\u001b[0m cannot assign to list comprehension\n"
     ]
    }
   ],
   "source": [
    "mylist = [(sum(letter in ('a', 'A') for letter in word), word) for word in names], key=lambda t: t[0]"
   ]
  },
  {
   "cell_type": "markdown",
   "id": "ad81701e-1ad7-4c32-b0ab-ec4f4e6fa06e",
   "metadata": {},
   "source": [
    "---"
   ]
  },
  {
   "cell_type": "markdown",
   "id": "9efb07c9-73e1-44a4-80bc-70cb5ebd5455",
   "metadata": {},
   "source": [
    "# Testing Current Version"
   ]
  },
  {
   "cell_type": "code",
   "execution_count": 33,
   "id": "d9f87a19-eafa-4b02-8cda-c05fdf03937d",
   "metadata": {
    "collapsed": true,
    "jupyter": {
     "outputs_hidden": true
    },
    "tags": []
   },
   "outputs": [
    {
     "ename": "TypeError",
     "evalue": "'int' object is not callable",
     "output_type": "error",
     "traceback": [
      "\u001b[0;31m---------------------------------------------------------------------------\u001b[0m",
      "\u001b[0;31mTypeError\u001b[0m                                 Traceback (most recent call last)",
      "Input \u001b[0;32mIn [33]\u001b[0m, in \u001b[0;36m<cell line: 1>\u001b[0;34m()\u001b[0m\n\u001b[0;32m----> 1\u001b[0m \u001b[38;5;28mprint\u001b[39m(\u001b[43mbest\u001b[49m\u001b[43m(\u001b[49m\u001b[38;5;28;43mmax\u001b[39;49m\u001b[43m(\u001b[49m\u001b[43m[\u001b[49m\u001b[43m(\u001b[49m\u001b[38;5;28;43msum\u001b[39;49m\u001b[43m(\u001b[49m\u001b[43mletter\u001b[49m\u001b[43m \u001b[49m\u001b[38;5;129;43;01min\u001b[39;49;00m\u001b[43m \u001b[49m\u001b[43m(\u001b[49m\u001b[38;5;124;43m'\u001b[39;49m\u001b[38;5;124;43ma\u001b[39;49m\u001b[38;5;124;43m'\u001b[39;49m\u001b[43m,\u001b[49m\u001b[43m \u001b[49m\u001b[38;5;124;43m'\u001b[39;49m\u001b[38;5;124;43mA\u001b[39;49m\u001b[38;5;124;43m'\u001b[39;49m\u001b[43m)\u001b[49m\u001b[43m \u001b[49m\u001b[38;5;28;43;01mfor\u001b[39;49;00m\u001b[43m \u001b[49m\u001b[43mletter\u001b[49m\u001b[43m \u001b[49m\u001b[38;5;129;43;01min\u001b[39;49;00m\u001b[43m \u001b[49m\u001b[43mword\u001b[49m\u001b[43m)\u001b[49m\u001b[43m,\u001b[49m\u001b[43m \u001b[49m\u001b[43mword\u001b[49m\u001b[43m)\u001b[49m\u001b[43m \u001b[49m\u001b[38;5;28;43;01mfor\u001b[39;49;00m\u001b[43m \u001b[49m\u001b[43mword\u001b[49m\u001b[43m \u001b[49m\u001b[38;5;129;43;01min\u001b[39;49;00m\u001b[43m \u001b[49m\u001b[43mnames\u001b[49m\u001b[43m]\u001b[49m\u001b[43m,\u001b[49m\u001b[43m \u001b[49m\u001b[43mkey\u001b[49m\u001b[38;5;241;43m=\u001b[39;49m\u001b[38;5;28;43;01mlambda\u001b[39;49;00m\u001b[43m \u001b[49m\u001b[43mt\u001b[49m\u001b[43m:\u001b[49m\u001b[43m \u001b[49m\u001b[43mt\u001b[49m\u001b[43m[\u001b[49m\u001b[38;5;241;43m0\u001b[39;49m\u001b[43m]\u001b[49m\u001b[43m)\u001b[49m\u001b[43m[\u001b[49m\u001b[38;5;241;43m0\u001b[39;49m\u001b[43m]\u001b[49m\u001b[43m,\u001b[49m\u001b[43m \u001b[49m\u001b[43mnames\u001b[49m\u001b[43m)\u001b[49m)\n",
      "Input \u001b[0;32mIn [1]\u001b[0m, in \u001b[0;36mbest\u001b[0;34m(score, names)\u001b[0m\n\u001b[1;32m      1\u001b[0m \u001b[38;5;28;01mdef\u001b[39;00m \u001b[38;5;21mbest\u001b[39m(score, names):\n\u001b[1;32m      3\u001b[0m     \u001b[38;5;124;03m'''\u001b[39;00m\n\u001b[1;32m      4\u001b[0m \u001b[38;5;124;03m    Uses list comprehension to create a list of tuples organized by count and word. \u001b[39;00m\n\u001b[1;32m      5\u001b[0m \u001b[38;5;124;03m    This is not sorted explicity but retains the original order\u001b[39;00m\n\u001b[0;32m   (...)\u001b[0m\n\u001b[1;32m      8\u001b[0m \u001b[38;5;124;03m    \u001b[39;00m\n\u001b[1;32m      9\u001b[0m \u001b[38;5;124;03m    '''\u001b[39;00m\n\u001b[0;32m---> 11\u001b[0m     mylist \u001b[38;5;241m=\u001b[39m [(score(word), word) \u001b[38;5;28;01mfor\u001b[39;00m word \u001b[38;5;129;01min\u001b[39;00m names]     \u001b[38;5;66;03m# this gives us list in the original order\u001b[39;00m\n\u001b[1;32m     12\u001b[0m     \u001b[38;5;28;01mreturn\u001b[39;00m \u001b[38;5;28mmax\u001b[39m(mylist, key \u001b[38;5;241m=\u001b[39m \u001b[38;5;28;01mlambda\u001b[39;00m x : x[\u001b[38;5;241m0\u001b[39m])[\u001b[38;5;241m1\u001b[39m]\n",
      "Input \u001b[0;32mIn [1]\u001b[0m, in \u001b[0;36m<listcomp>\u001b[0;34m(.0)\u001b[0m\n\u001b[1;32m      1\u001b[0m \u001b[38;5;28;01mdef\u001b[39;00m \u001b[38;5;21mbest\u001b[39m(score, names):\n\u001b[1;32m      3\u001b[0m     \u001b[38;5;124;03m'''\u001b[39;00m\n\u001b[1;32m      4\u001b[0m \u001b[38;5;124;03m    Uses list comprehension to create a list of tuples organized by count and word. \u001b[39;00m\n\u001b[1;32m      5\u001b[0m \u001b[38;5;124;03m    This is not sorted explicity but retains the original order\u001b[39;00m\n\u001b[0;32m   (...)\u001b[0m\n\u001b[1;32m      8\u001b[0m \u001b[38;5;124;03m    \u001b[39;00m\n\u001b[1;32m      9\u001b[0m \u001b[38;5;124;03m    '''\u001b[39;00m\n\u001b[0;32m---> 11\u001b[0m     mylist \u001b[38;5;241m=\u001b[39m [(\u001b[43mscore\u001b[49m\u001b[43m(\u001b[49m\u001b[43mword\u001b[49m\u001b[43m)\u001b[49m, word) \u001b[38;5;28;01mfor\u001b[39;00m word \u001b[38;5;129;01min\u001b[39;00m names]     \u001b[38;5;66;03m# this gives us list in the original order\u001b[39;00m\n\u001b[1;32m     12\u001b[0m     \u001b[38;5;28;01mreturn\u001b[39;00m \u001b[38;5;28mmax\u001b[39m(mylist, key \u001b[38;5;241m=\u001b[39m \u001b[38;5;28;01mlambda\u001b[39;00m x : x[\u001b[38;5;241m0\u001b[39m])[\u001b[38;5;241m1\u001b[39m]\n",
      "\u001b[0;31mTypeError\u001b[0m: 'int' object is not callable"
     ]
    }
   ],
   "source": [
    "print(best(max([(sum(letter in ('a', 'A') for letter in word), word) for word in names], key=lambda t: t[0])[0], names))"
   ]
  },
  {
   "cell_type": "markdown",
   "id": "5124fa73-d5d5-4f08-850d-23899950e882",
   "metadata": {},
   "source": [
    "---"
   ]
  },
  {
   "cell_type": "code",
   "execution_count": 7,
   "id": "b2af99b1-2478-45be-bbff-73d3fee93e3c",
   "metadata": {},
   "outputs": [
    {
     "data": {
      "text/plain": [
       "1"
      ]
     },
     "execution_count": 7,
     "metadata": {},
     "output_type": "execute_result"
    }
   ],
   "source": [
    "countA('apple')"
   ]
  },
  {
   "cell_type": "code",
   "execution_count": 8,
   "id": "b1acdc27-bd2e-453e-8c69-322c08f12c39",
   "metadata": {},
   "outputs": [
    {
     "data": {
      "text/plain": [
       "3"
      ]
     },
     "execution_count": 8,
     "metadata": {},
     "output_type": "execute_result"
    }
   ],
   "source": [
    "countA('anaconda')"
   ]
  },
  {
   "cell_type": "markdown",
   "id": "0b9dad76-4370-4c8c-939b-9107778c6f8c",
   "metadata": {},
   "source": [
    "## Testing for final upload"
   ]
  },
  {
   "cell_type": "code",
   "execution_count": 99,
   "id": "24ce4019-f80d-4029-bcbd-25de6858f41a",
   "metadata": {},
   "outputs": [
    {
     "data": {
      "text/plain": [
       "'Alexis'"
      ]
     },
     "execution_count": 99,
     "metadata": {},
     "output_type": "execute_result"
    }
   ],
   "source": [
    "best(number_of_vowels, names)"
   ]
  },
  {
   "cell_type": "code",
   "execution_count": 20,
   "id": "689f4ba6-c457-4257-beab-186c6f7b749d",
   "metadata": {},
   "outputs": [],
   "source": [
    "names = [\"Ben\", \"April\", \"Zaber\", \"Alexis\", \"McJagger\", \"J.J.\", \"MadonnAA\"]"
   ]
  },
  {
   "cell_type": "code",
   "execution_count": 101,
   "id": "0422f02e-91cc-459a-9bad-8fe2cbaf600a",
   "metadata": {},
   "outputs": [
    {
     "data": {
      "text/plain": [
       "'Alexis'"
      ]
     },
     "execution_count": 101,
     "metadata": {},
     "output_type": "execute_result"
    }
   ],
   "source": [
    "best(number_of_vowels, names)"
   ]
  },
  {
   "cell_type": "code",
   "execution_count": 13,
   "id": "12042ab4-e823-467d-b24a-9d3cbcaef8aa",
   "metadata": {},
   "outputs": [],
   "source": [
    "names1 =  [\"Jeff\", \"Alex\", \"Robert\", \"Chris\", \"Gunnar\", \"PAULA\", \"Madonna\", \"Aei\", \"AA\"]"
   ]
  },
  {
   "cell_type": "code",
   "execution_count": 102,
   "id": "0e6e023f-0c8e-4e55-ac4d-64d5d10c9ff6",
   "metadata": {},
   "outputs": [
    {
     "data": {
      "text/plain": [
       "'PAULA'"
      ]
     },
     "execution_count": 102,
     "metadata": {},
     "output_type": "execute_result"
    }
   ],
   "source": [
    "best(number_of_vowels, names1)"
   ]
  },
  {
   "cell_type": "code",
   "execution_count": 15,
   "id": "f1c3c63b-537e-41e2-b6f6-dc0165f400b0",
   "metadata": {},
   "outputs": [],
   "source": [
    "names2 =  [\"Ben\", \"April\", \"Zaber\", \"Alexis\", \"McJagger\", \"J.J.\", \"Madonna\", \"Beiurrr\"]"
   ]
  },
  {
   "cell_type": "code",
   "execution_count": 104,
   "id": "494080f8-8329-4006-83d4-dc6b062e03b2",
   "metadata": {},
   "outputs": [
    {
     "data": {
      "text/plain": [
       "'Alexis'"
      ]
     },
     "execution_count": 104,
     "metadata": {},
     "output_type": "execute_result"
    }
   ],
   "source": [
    "best(number_of_vowels, names2)"
   ]
  },
  {
   "cell_type": "code",
   "execution_count": 16,
   "id": "26e98e00-28df-4e31-b36c-f183c88f7bb6",
   "metadata": {},
   "outputs": [],
   "source": [
    "names3 =  [ \"Alexis\"]"
   ]
  },
  {
   "cell_type": "code",
   "execution_count": 17,
   "id": "b5fbea6f-da60-49ee-9a0c-a8a19ef488cc",
   "metadata": {},
   "outputs": [
    {
     "data": {
      "text/plain": [
       "'Alexis'"
      ]
     },
     "execution_count": 17,
     "metadata": {},
     "output_type": "execute_result"
    }
   ],
   "source": [
    "best(number_of_vowels, names3)"
   ]
  },
  {
   "cell_type": "code",
   "execution_count": 18,
   "id": "617f6b5c-0af0-4098-879e-307df6520d3f",
   "metadata": {},
   "outputs": [],
   "source": [
    "names4 = [\"Alice\", \"Beatrice\", \"Amarnae\", \"Zootrope\"]"
   ]
  },
  {
   "cell_type": "code",
   "execution_count": 19,
   "id": "b9a16a46-61d1-4e4b-b10e-e3add90e2c0f",
   "metadata": {},
   "outputs": [
    {
     "data": {
      "text/plain": [
       "'Beatrice'"
      ]
     },
     "execution_count": 19,
     "metadata": {},
     "output_type": "execute_result"
    }
   ],
   "source": [
    "best(number_of_vowels, names4)"
   ]
  },
  {
   "cell_type": "code",
   "execution_count": 9,
   "id": "f74d49c5-74a2-45ea-8408-be7ec9e9a97a",
   "metadata": {},
   "outputs": [
    {
     "data": {
      "text/plain": [
       "'Alexis'"
      ]
     },
     "execution_count": 9,
     "metadata": {},
     "output_type": "execute_result"
    }
   ],
   "source": [
    "best(number_of_vowels, names5)"
   ]
  },
  {
   "cell_type": "code",
   "execution_count": 20,
   "id": "8b60d8c3-fa0a-465b-96c9-a796c858bea0",
   "metadata": {},
   "outputs": [],
   "source": [
    "names5 =  [\"Ben\", \"April\", \"Zaber\", \"Alexis\", \"McJagger\", \"J.J.\", \"MadonnA\"]"
   ]
  },
  {
   "cell_type": "code",
   "execution_count": null,
   "id": "91af89c9-ae2d-4617-aa49-f4e75ca7a80d",
   "metadata": {},
   "outputs": [],
   "source": []
  }
 ],
 "metadata": {
  "kernelspec": {
   "display_name": "Python 3 (ipykernel)",
   "language": "python",
   "name": "python3"
  },
  "language_info": {
   "codemirror_mode": {
    "name": "ipython",
    "version": 3
   },
   "file_extension": ".py",
   "mimetype": "text/x-python",
   "name": "python",
   "nbconvert_exporter": "python",
   "pygments_lexer": "ipython3",
   "version": "3.9.12"
  }
 },
 "nbformat": 4,
 "nbformat_minor": 5
}
