{
 "cells": [
  {
   "cell_type": "code",
   "execution_count": 1,
   "id": "91b43735-230d-4ab9-93b8-324ee4c45dbe",
   "metadata": {},
   "outputs": [],
   "source": [
    "items = ['pillow', 'armchair', 'aloegel', 'hammer']"
   ]
  },
  {
   "cell_type": "code",
   "execution_count": 3,
   "id": "2c76f5a8-c315-41dc-9c4e-888fdc77cfce",
   "metadata": {},
   "outputs": [],
   "source": [
    "def maxa(tally, items):\n",
    "    mylist = [(tally(word), word) for word in items]     # this gives us list in the original order\n",
    "    return max(mylist, key = lambda x : x[0])[1]"
   ]
  },
  {
   "cell_type": "code",
   "execution_count": 4,
   "id": "db7bd727-b4fe-401b-bdca-643f7aec0a4a",
   "metadata": {},
   "outputs": [
    {
     "data": {
      "text/plain": [
       "'armchair'"
      ]
     },
     "execution_count": 4,
     "metadata": {},
     "output_type": "execute_result"
    }
   ],
   "source": [
    "maxa(lambda x : sum(letter in ('a', 'A') for letter in x), items)"
   ]
  },
  {
   "cell_type": "code",
   "execution_count": null,
   "id": "751bbad9-8295-4541-8589-eb2f1a230280",
   "metadata": {},
   "outputs": [],
   "source": []
  }
 ],
 "metadata": {
  "kernelspec": {
   "display_name": "Python 3 (ipykernel)",
   "language": "python",
   "name": "python3"
  },
  "language_info": {
   "codemirror_mode": {
    "name": "ipython",
    "version": 3
   },
   "file_extension": ".py",
   "mimetype": "text/x-python",
   "name": "python",
   "nbconvert_exporter": "python",
   "pygments_lexer": "ipython3",
   "version": "3.9.12"
  }
 },
 "nbformat": 4,
 "nbformat_minor": 5
}
