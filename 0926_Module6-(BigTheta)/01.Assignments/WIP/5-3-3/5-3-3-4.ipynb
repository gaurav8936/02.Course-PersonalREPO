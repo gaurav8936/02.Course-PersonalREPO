{
 "cells": [
  {
   "cell_type": "markdown",
   "id": "f75804bf-7035-49ee-830a-84a6f0794a59",
   "metadata": {},
   "source": [
    "# Copied content from earlier exercises"
   ]
  },
  {
   "cell_type": "markdown",
   "id": "d8ba3773-6e79-4885-9a4d-2b6a16cf3d1b",
   "metadata": {},
   "source": [
    "### 5-3-3 Using Our Flexible Function with a Lambda Function (10 points)\n",
    "\n",
    "**NOTE: Do not change your best function from the answer in 5-3-1 above! The best function should be able to take any scoring function and return the result.** (you also do not need to copy your best function from above - we will run the cells above and then this cell in succession) \n",
    "\n",
    "Now pass a `lambda` function into your `best` function to find the name in `names` with the highest number of A's (upper or lower case). This needs to be a lambda function and only be one line! \n",
    "\n",
    "Example (replace `<lambda_function>` with the correct ```lambda```): \n",
    "```\n",
    "names = [\"Ben\", \"April\", \"Zaber\", \"Alexis\", \"McJagger\", \"J.J.\", \"MadonnA\"]\n",
    "\n",
    "print(best(<lambda_function>, names))\n",
    "\n",
    "MadonnA\n",
    "```"
   ]
  },
  {
   "cell_type": "code",
   "execution_count": null,
   "id": "cd440a40-9332-4ae2-8f4b-89101e2bb600",
   "metadata": {},
   "outputs": [],
   "source": [
    "# Q5-3-3 Grading Tag: (also do not delete the names variable below)\n",
    "names = [\"Ben\", \"April\", \"Zaber\", \"Alexis\", \"McJagger\", \"J.J.\", \"MadonnA\"] \n",
    "\n",
    "print(best(<lambda_function>, names))"
   ]
  },
  {
   "cell_type": "code",
   "execution_count": null,
   "id": "51c04a8f-6fe7-4e93-b677-581a2556a04b",
   "metadata": {},
   "outputs": [],
   "source": []
  },
  {
   "cell_type": "markdown",
   "id": "3828d41f-95c5-4845-827e-af764cb37569",
   "metadata": {},
   "source": [
    "---"
   ]
  },
  {
   "cell_type": "code",
   "execution_count": 4,
   "id": "9e5d8088-f0e8-4c57-8b53-6383e0aebf80",
   "metadata": {},
   "outputs": [],
   "source": [
    "def best(score, names):\n",
    "    '''\n",
    "    Solution using FOR Loops and Lists\n",
    "    Uses two lists ( as max() does not return the first occurance on tie breaker)\n",
    "    '''\n",
    "    \n",
    "    mylist = []                                               # create empty list\n",
    "    newlist = []                                              # create placeholder for final extract\n",
    "    for word in names:                                        # for loop\n",
    "        mylist.append((score(word), word))                    # append to the empty list \n",
    "        newmax = max(mylist)[0]                               # find out the max occurances (we can't use max on mylist as that would not resolve the tie breaker)\n",
    "        newlist = [tup for tup in mylist if tup[0] == newmax] #append to a final list the winning entry (or entries for the tie condition)\n",
    "    return newlist[0][1]                                      # this gets the first occurance of the winning entry and breaks the tie"
   ]
  },
  {
   "cell_type": "code",
   "execution_count": 5,
   "id": "5c5b29aa-8448-4c35-95ae-5d9b95c1da23",
   "metadata": {},
   "outputs": [],
   "source": [
    "def len_score(word):\n",
    "    return len(word.lower())"
   ]
  },
  {
   "cell_type": "code",
   "execution_count": 6,
   "id": "0305b501-1521-4ef2-a690-d72a448b1175",
   "metadata": {},
   "outputs": [],
   "source": [
    "def number_of_vowels(word):\n",
    "    \n",
    "    '''\n",
    "    function to calculate the number of vowels in a word. \n",
    "    uses list comprehension\n",
    "    '''\n",
    "    return len([letter for letter in word if letter.lower() in 'aeiou'])         \n",
    "    # uses list comprehension to run word through a vowel checker and returns the length"
   ]
  },
  {
   "cell_type": "markdown",
   "id": "f463d170-b89f-457b-a493-cd127a7b0802",
   "metadata": {},
   "source": [
    "---"
   ]
  },
  {
   "cell_type": "markdown",
   "id": "dd43236e-0eda-4b25-9419-4f68f239f740",
   "metadata": {},
   "source": [
    "<font size = 6, color = red> Current Version"
   ]
  },
  {
   "cell_type": "markdown",
   "id": "49ffa97f-06be-49ac-8662-6e55f8a8f439",
   "metadata": {},
   "source": [
    "# Stack Overflow upload"
   ]
  },
  {
   "cell_type": "code",
   "execution_count": 1,
   "id": "3d7e732a-6f2d-47ae-9458-af9c074fc067",
   "metadata": {},
   "outputs": [],
   "source": [
    "items = ['pillow', 'armchair', 'aloegel', 'hammer']"
   ]
  },
  {
   "cell_type": "code",
   "execution_count": 2,
   "id": "480ca49d-ea98-40c7-b1c4-49907febe5df",
   "metadata": {},
   "outputs": [],
   "source": [
    "def maxa(tally, items):\n",
    "    mylist = [(tally(word), word) for word in items]     # this gives us list in the original order\n",
    "    return max(mylist, key = lambda x : x[0])[1]         # the lambda function sorts on first and then second item"
   ]
  },
  {
   "cell_type": "code",
   "execution_count": 104,
   "id": "851fe314-aa68-49e0-9d7f-218e9ae87795",
   "metadata": {
    "collapsed": true,
    "jupyter": {
     "outputs_hidden": true
    },
    "tags": []
   },
   "outputs": [
    {
     "data": {
      "text/plain": [
       "'pillow'"
      ]
     },
     "execution_count": 104,
     "metadata": {},
     "output_type": "execute_result"
    }
   ],
   "source": [
    "# maxa(lambda x : sum(letter in ('a', 'A') for letter in word), items)"
   ]
  },
  {
   "cell_type": "markdown",
   "id": "1d0d1085-f90a-47e0-92fa-b9299ba58080",
   "metadata": {},
   "source": [
    "<font size = 6, color = red> THIS WORKS!"
   ]
  },
  {
   "cell_type": "code",
   "execution_count": 3,
   "id": "682f9666-c7e0-46d9-a3d9-61896560ae2f",
   "metadata": {},
   "outputs": [
    {
     "data": {
      "text/plain": [
       "'armchair'"
      ]
     },
     "execution_count": 3,
     "metadata": {},
     "output_type": "execute_result"
    }
   ],
   "source": [
    "maxa(lambda x : sum(letter in ('a', 'A') for letter in x), items)"
   ]
  },
  {
   "cell_type": "markdown",
   "id": "fd1e3150-c28c-452b-8cfb-4e7e72a4a9e9",
   "metadata": {},
   "source": [
    "---"
   ]
  },
  {
   "cell_type": "markdown",
   "id": "f01bb081-504a-4af4-8567-b6483e166139",
   "metadata": {},
   "source": [
    "------"
   ]
  },
  {
   "cell_type": "markdown",
   "id": "e21da72e-6d9a-49d6-9c67-738a2023ce8d",
   "metadata": {},
   "source": [
    "<Font size = 6, color = green> Rewriting this for the course"
   ]
  },
  {
   "cell_type": "code",
   "execution_count": null,
   "id": "ca11847d-538a-4ce5-b746-4d07bae953a1",
   "metadata": {},
   "outputs": [],
   "source": []
  },
  {
   "cell_type": "code",
   "execution_count": null,
   "id": "99a73ce5-37cc-4659-b622-f10230096036",
   "metadata": {},
   "outputs": [],
   "source": []
  },
  {
   "cell_type": "markdown",
   "id": "0b9dad76-4370-4c8c-939b-9107778c6f8c",
   "metadata": {},
   "source": [
    "## Testing for final upload"
   ]
  },
  {
   "cell_type": "code",
   "execution_count": 11,
   "id": "689f4ba6-c457-4257-beab-186c6f7b749d",
   "metadata": {},
   "outputs": [],
   "source": [
    "names = [\"Ben\", \"April\", \"Zaber\", \"Alexis\", \"McJagger\", \"J.J.\", \"MadonnAA\"]"
   ]
  },
  {
   "cell_type": "code",
   "execution_count": 12,
   "id": "24ce4019-f80d-4029-bcbd-25de6858f41a",
   "metadata": {},
   "outputs": [
    {
     "data": {
      "text/plain": [
       "'MadonnAA'"
      ]
     },
     "execution_count": 12,
     "metadata": {},
     "output_type": "execute_result"
    }
   ],
   "source": [
    "best(lambda x : sum(letter in ('a', 'A') for letter in x), names)"
   ]
  },
  {
   "cell_type": "code",
   "execution_count": 13,
   "id": "12042ab4-e823-467d-b24a-9d3cbcaef8aa",
   "metadata": {},
   "outputs": [],
   "source": [
    "names1 =  [\"Jeff\", \"Alex\", \"Robert\", \"Chris\", \"Gunnar\", \"PAULA\", \"Madonna\", \"Aei\", \"AA\"]"
   ]
  },
  {
   "cell_type": "code",
   "execution_count": 14,
   "id": "0422f02e-91cc-459a-9bad-8fe2cbaf600a",
   "metadata": {},
   "outputs": [
    {
     "data": {
      "text/plain": [
       "'PAULA'"
      ]
     },
     "execution_count": 14,
     "metadata": {},
     "output_type": "execute_result"
    }
   ],
   "source": [
    "best(lambda x : sum(letter in ('a', 'A') for letter in x), names1)"
   ]
  },
  {
   "cell_type": "code",
   "execution_count": 15,
   "id": "f1c3c63b-537e-41e2-b6f6-dc0165f400b0",
   "metadata": {
    "tags": []
   },
   "outputs": [],
   "source": [
    "names2 =  [\"Ben\", \"April\", \"Zaber\", \"Alexis\", \"McJagger\", \"J.J.\", \"Madonna\", \"Beiurrr\"]"
   ]
  },
  {
   "cell_type": "code",
   "execution_count": 16,
   "id": "0e6e023f-0c8e-4e55-ac4d-64d5d10c9ff6",
   "metadata": {},
   "outputs": [
    {
     "data": {
      "text/plain": [
       "'Madonna'"
      ]
     },
     "execution_count": 16,
     "metadata": {},
     "output_type": "execute_result"
    }
   ],
   "source": [
    "best(lambda x : sum(letter in ('a', 'A') for letter in x), names2)"
   ]
  },
  {
   "cell_type": "code",
   "execution_count": 17,
   "id": "26e98e00-28df-4e31-b36c-f183c88f7bb6",
   "metadata": {},
   "outputs": [],
   "source": [
    "names3 =  [ \"Alexis\"]"
   ]
  },
  {
   "cell_type": "code",
   "execution_count": 19,
   "id": "494080f8-8329-4006-83d4-dc6b062e03b2",
   "metadata": {},
   "outputs": [
    {
     "data": {
      "text/plain": [
       "'Alexis'"
      ]
     },
     "execution_count": 19,
     "metadata": {},
     "output_type": "execute_result"
    }
   ],
   "source": [
    "best(lambda x : sum(letter in ('a', 'A') for letter in x), names3)"
   ]
  },
  {
   "cell_type": "code",
   "execution_count": 20,
   "id": "617f6b5c-0af0-4098-879e-307df6520d3f",
   "metadata": {},
   "outputs": [],
   "source": [
    "names4 = [\"Alice\", \"Beatrice\", \"Amarnae\", \"Zootrope\"]"
   ]
  },
  {
   "cell_type": "code",
   "execution_count": 21,
   "id": "b5fbea6f-da60-49ee-9a0c-a8a19ef488cc",
   "metadata": {},
   "outputs": [
    {
     "data": {
      "text/plain": [
       "'Amarnae'"
      ]
     },
     "execution_count": 21,
     "metadata": {},
     "output_type": "execute_result"
    }
   ],
   "source": [
    "best(lambda x : sum(letter in ('a', 'A') for letter in x), names4)"
   ]
  },
  {
   "cell_type": "code",
   "execution_count": 25,
   "id": "7ef39d3d-04f4-4443-aa24-66b3adef484c",
   "metadata": {},
   "outputs": [
    {
     "data": {
      "text/plain": [
       "'MadonnA'"
      ]
     },
     "execution_count": 25,
     "metadata": {},
     "output_type": "execute_result"
    }
   ],
   "source": [
    "best(lambda x : sum(letter in ('a', 'A') for letter in x), namescourse)"
   ]
  },
  {
   "cell_type": "code",
   "execution_count": 24,
   "id": "8b60d8c3-fa0a-465b-96c9-a796c858bea0",
   "metadata": {},
   "outputs": [],
   "source": [
    "namescourse = [\"Ben\", \"April\", \"Zaber\", \"Alexis\", \"McJagger\", \"J.J.\", \"MadonnA\"]"
   ]
  },
  {
   "cell_type": "code",
   "execution_count": null,
   "id": "91af89c9-ae2d-4617-aa49-f4e75ca7a80d",
   "metadata": {},
   "outputs": [],
   "source": []
  }
 ],
 "metadata": {
  "kernelspec": {
   "display_name": "Python 3 (ipykernel)",
   "language": "python",
   "name": "python3"
  },
  "language_info": {
   "codemirror_mode": {
    "name": "ipython",
    "version": 3
   },
   "file_extension": ".py",
   "mimetype": "text/x-python",
   "name": "python",
   "nbconvert_exporter": "python",
   "pygments_lexer": "ipython3",
   "version": "3.9.12"
  }
 },
 "nbformat": 4,
 "nbformat_minor": 5
}
