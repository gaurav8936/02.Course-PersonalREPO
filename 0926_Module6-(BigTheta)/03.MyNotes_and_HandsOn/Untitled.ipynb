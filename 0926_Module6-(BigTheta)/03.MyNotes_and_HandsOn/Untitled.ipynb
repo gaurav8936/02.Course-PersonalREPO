{
 "cells": [
  {
   "cell_type": "code",
   "execution_count": 6,
   "id": "2e199bd3-28ac-4584-91af-b02a2f91aedd",
   "metadata": {},
   "outputs": [
    {
     "name": "stdout",
     "output_type": "stream",
     "text": [
      "45\n",
      "1\n",
      "Fred is the oldest.\n"
     ]
    }
   ],
   "source": [
    "names = ['Bill', 'Fred', 'Alice', 'Betty']\n",
    "ages = [34, 45, 14, 17]\n",
    "\n",
    "max_age = max(ages)\n",
    "print(max_age)\n",
    "index_max = ages.index(max_age)\n",
    "print(index_max)\n",
    "max_name = names[index_max]\n",
    "print(max_name, 'is the oldest.')"
   ]
  },
  {
   "cell_type": "code",
   "execution_count": 4,
   "id": "5d5b9b4d-1a8b-418a-b01a-5c54b68902bb",
   "metadata": {},
   "outputs": [
    {
     "name": "stdout",
     "output_type": "stream",
     "text": [
      "Fred is the oldest.\n"
     ]
    }
   ],
   "source": [
    "\n",
    "\n",
    "print(max_name, 'is the oldest.')"
   ]
  },
  {
   "cell_type": "code",
   "execution_count": 10,
   "id": "49bb038e-1a22-489e-b089-ce37cedcc4d3",
   "metadata": {},
   "outputs": [
    {
     "name": "stdout",
     "output_type": "stream",
     "text": [
      "140210155755456\n",
      "(['change', 'cat', 'fish'], ['blue', 'red', 'yellow', 'green'])\n",
      "140210155755456\n"
     ]
    }
   ],
   "source": [
    "list_a = ['dog', 'cat', 'fish']\n",
    "list_b = ['blue', 'red', 'yellow', 'green']\n",
    "my_tuple = (list_a, list_b)\n",
    "print(id(my_tuple))\n",
    "list_a[0] = 'change'\n",
    "print(my_tuple)\n",
    "print(id(my_tuple))"
   ]
  },
  {
   "cell_type": "code",
   "execution_count": 12,
   "id": "9025fae9-0f25-4860-be65-2a037fd1a168",
   "metadata": {},
   "outputs": [
    {
     "ename": "TypeError",
     "evalue": "'tuple' object does not support item assignment",
     "output_type": "error",
     "traceback": [
      "\u001b[0;31m---------------------------------------------------------------------------\u001b[0m",
      "\u001b[0;31mTypeError\u001b[0m                                 Traceback (most recent call last)",
      "Input \u001b[0;32mIn [12]\u001b[0m, in \u001b[0;36m<cell line: 4>\u001b[0;34m()\u001b[0m\n\u001b[1;32m      2\u001b[0m list_b \u001b[38;5;241m=\u001b[39m [\u001b[38;5;124m'\u001b[39m\u001b[38;5;124mblue\u001b[39m\u001b[38;5;124m'\u001b[39m, \u001b[38;5;124m'\u001b[39m\u001b[38;5;124mred\u001b[39m\u001b[38;5;124m'\u001b[39m, \u001b[38;5;124m'\u001b[39m\u001b[38;5;124myellow\u001b[39m\u001b[38;5;124m'\u001b[39m, \u001b[38;5;124m'\u001b[39m\u001b[38;5;124mgreen\u001b[39m\u001b[38;5;124m'\u001b[39m]\n\u001b[1;32m      3\u001b[0m my_tuple \u001b[38;5;241m=\u001b[39m (list_a, list_b)\n\u001b[0;32m----> 4\u001b[0m list_a[\u001b[38;5;241m0\u001b[39m] \u001b[38;5;241m=\u001b[39m \u001b[38;5;124m'\u001b[39m\u001b[38;5;124mchange\u001b[39m\u001b[38;5;124m'\u001b[39m\n\u001b[1;32m      5\u001b[0m \u001b[38;5;28mprint\u001b[39m(my_tuple)\n",
      "\u001b[0;31mTypeError\u001b[0m: 'tuple' object does not support item assignment"
     ]
    }
   ],
   "source": [
    "list_a = ('dog', 'cat', 'fish')\n",
    "list_b = ['blue', 'red', 'yellow', 'green']\n",
    "my_tuple = (list_a, list_b)\n",
    "list_a[0] = 'change'\n",
    "print(my_tuple)"
   ]
  },
  {
   "cell_type": "code",
   "execution_count": null,
   "id": "48806fef-8469-4d38-ac9e-31aeaa5a0005",
   "metadata": {},
   "outputs": [],
   "source": []
  }
 ],
 "metadata": {
  "kernelspec": {
   "display_name": "Python 3 (ipykernel)",
   "language": "python",
   "name": "python3"
  },
  "language_info": {
   "codemirror_mode": {
    "name": "ipython",
    "version": 3
   },
   "file_extension": ".py",
   "mimetype": "text/x-python",
   "name": "python",
   "nbconvert_exporter": "python",
   "pygments_lexer": "ipython3",
   "version": "3.9.12"
  }
 },
 "nbformat": 4,
 "nbformat_minor": 5
}
