{
 "cells": [
  {
   "cell_type": "markdown",
   "id": "b566b455-a15d-47a5-9ed3-b0456c4dca73",
   "metadata": {},
   "source": [
    "# Random Tricks - Data Shapes"
   ]
  },
  {
   "cell_type": "markdown",
   "id": "2b471c6f-f19c-49b6-a3b3-84c5172f4a0f",
   "metadata": {
    "tags": []
   },
   "source": [
    "## Measuring Execution Time"
   ]
  },
  {
   "cell_type": "code",
   "execution_count": 1,
   "id": "be377504-fb46-40a2-b661-2c0840752005",
   "metadata": {},
   "outputs": [
    {
     "data": {
      "text/plain": [
       "Text(0.5, 1.0, 'Execution Times for PowerSet Experiments')"
      ]
     },
     "execution_count": 1,
     "metadata": {},
     "output_type": "execute_result"
    },
    {
     "data": {
      "image/png": "[encoded data removed]",
      "text/plain": [
       "<Figure size 432x288 with 1 Axes>"
      ]
     },
     "metadata": {
      "needs_background": "light"
     },
     "output_type": "display_data"
    }
   ],
   "source": [
    "##########################################\n",
    "\n",
    "import time\n",
    "\n",
    "##########################################\n",
    "\n",
    "from itertools import chain, combinations\n",
    "\n",
    "def powerset(iterable):\n",
    "    \n",
    "    \"powerset([1,2,3]) --> (), (1,) (2,) (3,) (1,2) (1,3) (2,3) (1,2,3)\"\n",
    "    \n",
    "    s = list(iterable)\n",
    "    \n",
    "    return chain.from_iterable(combinations(s,r) for r in range(len(s) + 1))\n",
    "\n",
    "##########################################\n",
    "\n",
    "times4 = []\n",
    "\n",
    "for n in range(25):\n",
    "    # n is the size of population\n",
    "    population4 = set(range(n))\n",
    "    start_time = time.time()\n",
    "\n",
    "    for group in powerset(population4):\n",
    "        #print(group)\n",
    "        pass\n",
    "    end_time = time.time()\n",
    "    \n",
    "    #print(\"execution time: \", end_time - start_time)\n",
    "    times4.append(end_time - start_time)\n",
    "#times4\n",
    "\n",
    "##########################################\n",
    "\n",
    "import matplotlib.pyplot as plt\n",
    "\n",
    "plt.scatter(x=range(25), y = times4)\n",
    "plt.title(\"Execution Times for PowerSet Experiments\")\n",
    "\n",
    "##########################################\n"
   ]
  },
  {
   "cell_type": "markdown",
   "id": "854fcc7d-8d4d-47a8-81f4-1e6fbfb3719e",
   "metadata": {},
   "source": [
    "---"
   ]
  },
  {
   "cell_type": "markdown",
   "id": "024b6dda-590b-4168-ada2-78e7b736f01d",
   "metadata": {},
   "source": [
    "---"
   ]
  },
  {
   "cell_type": "markdown",
   "id": "3fee4e9e-8506-4bec-b93c-93aded5c2d81",
   "metadata": {},
   "source": [
    "##  Import data from Numpy - Normal Distribution"
   ]
  },
  {
   "cell_type": "code",
   "execution_count": 12,
   "id": "d324f4e9-36dd-471b-94a6-123125f481e3",
   "metadata": {},
   "outputs": [
    {
     "data": {
      "text/plain": [
       "Text(0.5, 1.0, 'Execution Times for Max Experiment')"
      ]
     },
     "execution_count": 12,
     "metadata": {},
     "output_type": "execute_result"
    },
    {
     "data": {
      "image/png": "[encoded data removed]",
      "text/plain": [
       "<Figure size 432x288 with 1 Axes>"
      ]
     },
     "metadata": {
      "needs_background": "light"
     },
     "output_type": "display_data"
    }
   ],
   "source": [
    "## FINDING time for calculating MAX for a range of lists (from 1-1000)\n",
    "\n",
    "################################################\n",
    "\n",
    "import numpy as np\n",
    "\n",
    "price_changes = np.random.uniform(0,100, size = 100)\n",
    "\n",
    "#price_changes\n",
    "\n",
    "# using the random.unoform method\n",
    "# this draws from the uniform propability distribution\n",
    "\n",
    "################################################\n",
    "\n",
    "import time\n",
    "\n",
    "times = []\n",
    "sizes = list(range(1,1000))\n",
    "\n",
    "for n in sizes:\n",
    "    price_changes = np.random.uniform(0,100, size = n)\n",
    "    # this is the array of random numbers \n",
    "    \n",
    "    start_time = time.time()\n",
    "    \n",
    "    max(price_changes)\n",
    "    \n",
    "    end_time = time.time()\n",
    "    \n",
    "    times.append(end_time - start_time)\n",
    "#times\n",
    "\n",
    "################################################\n",
    "\n",
    "import matplotlib.pyplot as plt\n",
    "\n",
    "plt.scatter(x=sizes, y = times)\n",
    "plt.title(\"Execution Times for Max Experiment\")\n"
   ]
  },
  {
   "cell_type": "markdown",
   "id": "9f6ef810-ce55-44d1-affe-1ef43a7fb389",
   "metadata": {},
   "source": [
    "---"
   ]
  },
  {
   "cell_type": "markdown",
   "id": "a0476ad6-69e4-4e81-8a4c-717949ea532c",
   "metadata": {},
   "source": [
    "---"
   ]
  },
  {
   "cell_type": "markdown",
   "id": "c00dd62c-8082-44bf-a32a-b376e16bfbda",
   "metadata": {},
   "source": [
    "## Big-$\\Theta$ and Search"
   ]
  },
  {
   "cell_type": "code",
   "execution_count": 16,
   "id": "0ade7104-8f46-4078-8d23-31588cfe3e40",
   "metadata": {},
   "outputs": [
    {
     "name": "stdout",
     "output_type": "stream",
     "text": [
      "97\n"
     ]
    }
   ],
   "source": [
    "sorted_data = [(\"Ann\", 84), (\"Bharat\", 91), (\"Jamal\", 89), (\"Kendrick\", 79), \n",
    "               (\"Lee\", 77), (\"Rob\", 97), (\"Sruthi\", 98), (\"Zoe\", 78)]\n",
    "\n",
    "target = 'Rob'\n",
    "# or item in sorted_data:\n",
    "#     print(item)\n",
    "    \n",
    "for name, grade in sorted_data:\n",
    "    if name == target:\n",
    "        print(grade)\n",
    "        break\n",
    "\n",
    "# this is theta(n)"
   ]
  },
  {
   "cell_type": "markdown",
   "id": "3740cd25-ee97-4d06-86bf-13b7168c22dd",
   "metadata": {},
   "source": [
    "### Bisection Search"
   ]
  },
  {
   "attachments": {
    "8f5c1618-d762-4f4f-82cc-820b071ead41.png": {
     "image/png": "[encoded data removed]"
    },
    "eea06472-e334-4fb7-bc19-d2709b036f3f.png": {
     "image/png": "[encoded data removed]"
    }
   },
   "cell_type": "markdown",
   "id": "10a90255-fffc-4dcd-b41e-cdb5b3370d93",
   "metadata": {},
   "source": [
    " ![image.png](attachment:eea06472-e334-4fb7-bc19-d2709b036f3f.png) ![image.png](attachment:8f5c1618-d762-4f4f-82cc-820b071ead41.png)"
   ]
  },
  {
   "cell_type": "code",
   "execution_count": 17,
   "id": "d2e12ddc-db54-43c4-a759-69c6e9aebaad",
   "metadata": {},
   "outputs": [],
   "source": [
    "# starts with sorted list"
   ]
  },
  {
   "cell_type": "code",
   "execution_count": 19,
   "id": "4d5ef7fd-7466-44ea-8620-ad725be3afdf",
   "metadata": {},
   "outputs": [
    {
     "name": "stdout",
     "output_type": "stream",
     "text": [
      "Window: 0 7\n",
      "target in if loop Rob\n",
      "Window: 4 7\n",
      "Window: 4 5\n",
      "target in if loop Rob\n",
      "('Rob', 97)\n"
     ]
    }
   ],
   "source": [
    "start, end = 0, len(sorted_data)-1\n",
    "\n",
    "while start < end:\n",
    "    \n",
    "    print('Window:', start, end)\n",
    "    \n",
    "    middle = (start + end)// 2\n",
    "    # Remember to do the // integer division here (else code will fail)\n",
    "    \n",
    "    # make a decision to round down or up\n",
    "    # in pyuthon it is clearner to ROUND DOWN\n",
    "    # INTEGER DIVIDE WILL ALWAYS ROUND DOWN\n",
    "    \n",
    "    if target > sorted_data[middle][0]:\n",
    "        print('target in if loop', target)\n",
    "        start = middle + 1\n",
    "    else:\n",
    "        end = middle\n",
    "\n",
    "print(sorted_data[start])"
   ]
  },
  {
   "cell_type": "markdown",
   "id": "c0da9c12-e0a7-4e82-9196-2df5ef172f88",
   "metadata": {},
   "source": [
    "---"
   ]
  },
  {
   "cell_type": "markdown",
   "id": "c2792256-e164-483c-b70c-3d3950bc0475",
   "metadata": {},
   "source": [
    "---"
   ]
  },
  {
   "cell_type": "markdown",
   "id": "5e5c3715-708d-43d3-a5bb-794800ea3050",
   "metadata": {},
   "source": [
    "## Subsequences"
   ]
  },
  {
   "cell_type": "code",
   "execution_count": 48,
   "id": "017f748a-60db-4891-85c4-2f116db03665",
   "metadata": {},
   "outputs": [
    {
     "name": "stdout",
     "output_type": "stream",
     "text": [
      "[ 0.09200985  1.19338596  0.22075474 -0.19822766 -2.63196511  2.22733117\n",
      " -1.51799448  0.41958813  2.63987556 -0.11929114]\n"
     ]
    },
    {
     "data": {
      "text/plain": [
       "Text(0.5, 1.0, 'Price Changes over time')"
      ]
     },
     "execution_count": 48,
     "metadata": {},
     "output_type": "execute_result"
    },
    {
     "data": {
      "image/png": "[encoded data removed]",
      "text/plain": [
       "<Figure size 432x288 with 1 Axes>"
      ]
     },
     "metadata": {
      "needs_background": "light"
     },
     "output_type": "display_data"
    }
   ],
   "source": [
    "import numpy as np\n",
    "import matplotlib.pyplot as plt\n",
    "\n",
    "price_changes = np.random.normal(0, 1, size = 10)\n",
    "# just 50 random numbers on the normal distribution\n",
    "\n",
    "print(price_changes)\n",
    "\n",
    "plt.plot(price_changes)\n",
    "plt.title('Price Changes over time')"
   ]
  },
  {
   "cell_type": "markdown",
   "id": "66a44c8a-4c40-49dd-8935-85bc171be12d",
   "metadata": {},
   "source": [
    "#### Max Subsequence Sum"
   ]
  },
  {
   "cell_type": "markdown",
   "id": "2f1277fe-0c07-4a3a-bf38-7eb09dce31df",
   "metadata": {},
   "source": [
    "##### find a window (say day 10-20, or 39-50) where the sum is the biggest"
   ]
  },
  {
   "cell_type": "markdown",
   "id": "cba83b34-1486-4988-b3ca-5a86142cd919",
   "metadata": {},
   "source": [
    "#### Brute Force Method"
   ]
  },
  {
   "cell_type": "code",
   "execution_count": 59,
   "id": "883f9cc1-c5b6-413c-bdcd-b1c8f0ba897f",
   "metadata": {},
   "outputs": [
    {
     "name": "stdout",
     "output_type": "stream",
     "text": [
      "start index -- first for loop 0\n",
      "start index -- first (value) 0.09200984545735913\n",
      "end index -- inside for loop 1\n",
      "end index -- inside (value) 1.1933859564497318\n",
      "sum 0.09200984545735913\n",
      "end index -- inside for loop 2\n",
      "end index -- inside (value) 0.220754735553426\n",
      "sum 1.2853958019070908\n",
      "end index -- inside for loop 3\n",
      "end index -- inside (value) -0.19822766236937292\n",
      "sum 1.5061505374605169\n",
      "end index -- inside for loop 4\n",
      "end index -- inside (value) -2.631965107608147\n",
      "sum 1.307922875091144\n",
      "end index -- inside for loop 5\n",
      "end index -- inside (value) 2.2273311706945074\n",
      "sum -1.324042232517003\n",
      "end index -- inside for loop 6\n",
      "end index -- inside (value) -1.5179944787530593\n",
      "sum 0.9032889381775044\n",
      "end index -- inside for loop 7\n",
      "end index -- inside (value) 0.419588131717963\n",
      "sum -0.6147055405755548\n",
      "end index -- inside for loop 8\n",
      "end index -- inside (value) 2.6398755570159915\n",
      "sum -0.19511740885759182\n",
      "end index -- inside for loop 9\n",
      "end index -- inside (value) -0.11929114416906982\n",
      "sum 2.4447581481583995\n",
      "start index -- first for loop 1\n",
      "start index -- first (value) 1.1933859564497318\n",
      "end index -- inside for loop 2\n",
      "end index -- inside (value) 0.220754735553426\n",
      "sum 1.1933859564497318\n",
      "end index -- inside for loop 3\n",
      "end index -- inside (value) -0.19822766236937292\n",
      "sum 1.4141406920031578\n",
      "end index -- inside for loop 4\n",
      "end index -- inside (value) -2.631965107608147\n",
      "sum 1.215913029633785\n",
      "end index -- inside for loop 5\n",
      "end index -- inside (value) 2.2273311706945074\n",
      "sum -1.416052077974362\n",
      "end index -- inside for loop 6\n",
      "end index -- inside (value) -1.5179944787530593\n",
      "sum 0.8112790927201454\n",
      "end index -- inside for loop 7\n",
      "end index -- inside (value) 0.419588131717963\n",
      "sum -0.7067153860329138\n",
      "end index -- inside for loop 8\n",
      "end index -- inside (value) 2.6398755570159915\n",
      "sum -0.28712725431495084\n",
      "end index -- inside for loop 9\n",
      "end index -- inside (value) -0.11929114416906982\n",
      "sum 2.3527483027010407\n",
      "start index -- first for loop 2\n",
      "start index -- first (value) 0.220754735553426\n",
      "end index -- inside for loop 3\n",
      "end index -- inside (value) -0.19822766236937292\n",
      "sum 0.220754735553426\n",
      "end index -- inside for loop 4\n",
      "end index -- inside (value) -2.631965107608147\n",
      "sum 0.022527073184053087\n",
      "end index -- inside for loop 5\n",
      "end index -- inside (value) 2.2273311706945074\n",
      "sum -2.6094380344240937\n",
      "end index -- inside for loop 6\n",
      "end index -- inside (value) -1.5179944787530593\n",
      "sum -0.38210686372958635\n",
      "end index -- inside for loop 7\n",
      "end index -- inside (value) 0.419588131717963\n",
      "sum -1.9001013424826456\n",
      "end index -- inside for loop 8\n",
      "end index -- inside (value) 2.6398755570159915\n",
      "sum -1.4805132107646826\n",
      "end index -- inside for loop 9\n",
      "end index -- inside (value) -0.11929114416906982\n",
      "sum 1.159362346251309\n",
      "start index -- first for loop 3\n",
      "start index -- first (value) -0.19822766236937292\n",
      "end index -- inside for loop 4\n",
      "end index -- inside (value) -2.631965107608147\n",
      "sum -0.19822766236937292\n",
      "end index -- inside for loop 5\n",
      "end index -- inside (value) 2.2273311706945074\n",
      "sum -2.83019276997752\n",
      "end index -- inside for loop 6\n",
      "end index -- inside (value) -1.5179944787530593\n",
      "sum -0.6028615992830124\n",
      "end index -- inside for loop 7\n",
      "end index -- inside (value) 0.419588131717963\n",
      "sum -2.1208560780360717\n",
      "end index -- inside for loop 8\n",
      "end index -- inside (value) 2.6398755570159915\n",
      "sum -1.7012679463181086\n",
      "end index -- inside for loop 9\n",
      "end index -- inside (value) -0.11929114416906982\n",
      "sum 0.9386076106978829\n",
      "start index -- first for loop 4\n",
      "start index -- first (value) -2.631965107608147\n",
      "end index -- inside for loop 5\n",
      "end index -- inside (value) 2.2273311706945074\n",
      "sum -2.631965107608147\n",
      "end index -- inside for loop 6\n",
      "end index -- inside (value) -1.5179944787530593\n",
      "sum -0.4046339369136396\n",
      "end index -- inside for loop 7\n",
      "end index -- inside (value) 0.419588131717963\n",
      "sum -1.9226284156666988\n",
      "end index -- inside for loop 8\n",
      "end index -- inside (value) 2.6398755570159915\n",
      "sum -1.5030402839487358\n",
      "end index -- inside for loop 9\n",
      "end index -- inside (value) -0.11929114416906982\n",
      "sum 1.1368352730672557\n",
      "start index -- first for loop 5\n",
      "start index -- first (value) 2.2273311706945074\n",
      "end index -- inside for loop 6\n",
      "end index -- inside (value) -1.5179944787530593\n",
      "sum 2.2273311706945074\n",
      "end index -- inside for loop 7\n",
      "end index -- inside (value) 0.419588131717963\n",
      "sum 0.7093366919414481\n",
      "end index -- inside for loop 8\n",
      "end index -- inside (value) 2.6398755570159915\n",
      "sum 1.1289248236594112\n",
      "end index -- inside for loop 9\n",
      "end index -- inside (value) -0.11929114416906982\n",
      "sum 3.768800380675403\n",
      "start index -- first for loop 6\n",
      "start index -- first (value) -1.5179944787530593\n",
      "end index -- inside for loop 7\n",
      "end index -- inside (value) 0.419588131717963\n",
      "sum -1.5179944787530593\n",
      "end index -- inside for loop 8\n",
      "end index -- inside (value) 2.6398755570159915\n",
      "sum -1.0984063470350962\n",
      "end index -- inside for loop 9\n",
      "end index -- inside (value) -0.11929114416906982\n",
      "sum 1.5414692099808953\n",
      "start index -- first for loop 7\n",
      "start index -- first (value) 0.419588131717963\n",
      "end index -- inside for loop 8\n",
      "end index -- inside (value) 2.6398755570159915\n",
      "sum 0.419588131717963\n",
      "end index -- inside for loop 9\n",
      "end index -- inside (value) -0.11929114416906982\n",
      "sum 3.0594636887339544\n",
      "start index -- first for loop 8\n",
      "start index -- first (value) 2.6398755570159915\n",
      "end index -- inside for loop 9\n",
      "end index -- inside (value) -0.11929114416906982\n",
      "sum 2.6398755570159915\n",
      "start index -- first for loop 9\n",
      "start index -- first (value) -0.11929114416906982\n",
      "3.768800380675403\n"
     ]
    }
   ],
   "source": [
    "############### ORIG #################\n",
    "\n",
    "# best = price_changes[0]\n",
    "\n",
    "# for start in range(len(price_changes)):\n",
    "#     for end in range(start + 1, len(price_changes)):\n",
    "#         if (price_changes[end] - price_changes[start]) > best:\n",
    "#             best = (price_changes[end] - price_changes[start])\n",
    "# print(best)\n",
    "\n",
    "############### MY VARIATION #################\n",
    "\n",
    "\n",
    "best = price_changes[0]\n",
    "\n",
    "for start in range(len(price_changes)):\n",
    "    \n",
    "    print('start index -- first for loop', start )\n",
    "#    print('start value', start)\n",
    "    print('start index -- first (value)', price_changes[start])\n",
    "    \n",
    "#    for end in range(start+1, len(price_changes)+1):\n",
    "    for end in range(start+1, len(price_changes)):\n",
    "\n",
    "        \n",
    "        print('end index -- inside for loop', end)\n",
    "        print('end index -- inside (value)', price_changes[end])\n",
    "        print('sum', sum(price_changes[start:end]))\n",
    "        \n",
    "        if sum(price_changes[start:end]) > best:\n",
    "            \n",
    "            best = sum(price_changes[start:end])\n",
    "print(best)"
   ]
  },
  {
   "cell_type": "markdown",
   "id": "fc42458c-16a0-4d8a-bfe4-287c791a7cb6",
   "metadata": {},
   "source": [
    "---"
   ]
  },
  {
   "cell_type": "markdown",
   "id": "3b7722ac-7704-4887-80bc-f427c6e01d60",
   "metadata": {},
   "source": [
    "#### Kadane's Algorithm"
   ]
  },
  {
   "cell_type": "code",
   "execution_count": 58,
   "id": "ad1086c9-540f-4ae1-82ca-c2ceea355a4c",
   "metadata": {},
   "outputs": [
    {
     "name": "stdout",
     "output_type": "stream",
     "text": [
      "best at beginning 0.09200984545735913\n",
      "end INDEX at start of FOR loop 0\n",
      "best_to_end inside FOR loop 0.09200984545735913\n",
      "best at beginning 0.09200984545735913\n",
      "end INDEX at start of FOR loop 1\n",
      "best_to_end inside FOR loop 1.2853958019070908\n",
      "best inner 1.2853958019070908\n",
      "**************************************************\n",
      "best at beginning 1.2853958019070908\n",
      "end INDEX at start of FOR loop 2\n",
      "best_to_end inside FOR loop 1.5061505374605169\n",
      "best inner 1.5061505374605169\n",
      "**************************************************\n",
      "best at beginning 1.5061505374605169\n",
      "end INDEX at start of FOR loop 3\n",
      "best_to_end inside FOR loop 1.307922875091144\n",
      "best at beginning 1.5061505374605169\n",
      "end INDEX at start of FOR loop 4\n",
      "best_to_end inside FOR loop 0\n",
      "best at beginning 1.5061505374605169\n",
      "end INDEX at start of FOR loop 5\n",
      "best_to_end inside FOR loop 2.2273311706945074\n",
      "best inner 2.2273311706945074\n",
      "**************************************************\n",
      "best at beginning 2.2273311706945074\n",
      "end INDEX at start of FOR loop 6\n",
      "best_to_end inside FOR loop 0.7093366919414481\n",
      "best at beginning 2.2273311706945074\n",
      "end INDEX at start of FOR loop 7\n",
      "best_to_end inside FOR loop 1.1289248236594112\n",
      "best at beginning 2.2273311706945074\n",
      "end INDEX at start of FOR loop 8\n",
      "best_to_end inside FOR loop 3.768800380675403\n",
      "best inner 3.768800380675403\n",
      "**************************************************\n",
      "best at beginning 3.768800380675403\n",
      "end INDEX at start of FOR loop 9\n",
      "best_to_end inside FOR loop 3.6495092365063333\n",
      "3.768800380675403\n"
     ]
    }
   ],
   "source": [
    "best_to_end =  0 # this assumse we can have a subsequence of 0\n",
    "\n",
    "best = price_changes[0]\n",
    "\n",
    "for end in range(len(price_changes)):\n",
    "    print('best at beginning', best)\n",
    "    print('end INDEX at start of FOR loop', end)\n",
    "    best_to_end = max(best_to_end + price_changes[end], 0)\n",
    "    \n",
    "    print('best_to_end inside FOR loop', best_to_end)\n",
    "    \n",
    "    if best_to_end > best:\n",
    "        best = best_to_end\n",
    "        print('best inner', best)\n",
    "        print('*'*50)\n",
    "\n",
    "print(best)\n",
    "        "
   ]
  },
  {
   "cell_type": "markdown",
   "id": "ecd5bbd4-3e29-44aa-b92c-89cacd14f4d1",
   "metadata": {},
   "source": [
    "---"
   ]
  },
  {
   "cell_type": "markdown",
   "id": "c1400970-b0a8-4504-95dd-ed06ac040d43",
   "metadata": {},
   "source": [
    "---"
   ]
  },
  {
   "cell_type": "markdown",
   "id": "de5ed5ca-a6d0-4321-bd13-68401e2124da",
   "metadata": {},
   "source": [
    "## Big $\\Theta$ Drill"
   ]
  },
  {
   "cell_type": "code",
   "execution_count": 60,
   "id": "46e6485b-9dc9-4b62-a806-e5a0e150e962",
   "metadata": {},
   "outputs": [
    {
     "name": "stdout",
     "output_type": "stream",
     "text": [
      "585\n",
      "2\n",
      "17\n"
     ]
    },
    {
     "data": {
      "text/html": [
       "<div>\n",
       "<style scoped>\n",
       "    .dataframe tbody tr th:only-of-type {\n",
       "        vertical-align: middle;\n",
       "    }\n",
       "\n",
       "    .dataframe tbody tr th {\n",
       "        vertical-align: top;\n",
       "    }\n",
       "\n",
       "    .dataframe thead th {\n",
       "        text-align: right;\n",
       "    }\n",
       "</style>\n",
       "<table border=\"1\" class=\"dataframe\">\n",
       "  <thead>\n",
       "    <tr style=\"text-align: right;\">\n",
       "      <th></th>\n",
       "      <th>n</th>\n",
       "      <th>func</th>\n",
       "      <th>func/log2(n)</th>\n",
       "      <th>func/n</th>\n",
       "      <th>func/(nlog2(n))</th>\n",
       "      <th>func/n^2</th>\n",
       "      <th>func/n^3</th>\n",
       "    </tr>\n",
       "  </thead>\n",
       "  <tbody>\n",
       "    <tr>\n",
       "      <th>0</th>\n",
       "      <td>2</td>\n",
       "      <td>0</td>\n",
       "      <td>0.00</td>\n",
       "      <td>0.00</td>\n",
       "      <td>0.00</td>\n",
       "      <td>0.00</td>\n",
       "      <td>0.00</td>\n",
       "    </tr>\n",
       "    <tr>\n",
       "      <th>1</th>\n",
       "      <td>4</td>\n",
       "      <td>1</td>\n",
       "      <td>0.50</td>\n",
       "      <td>0.25</td>\n",
       "      <td>0.12</td>\n",
       "      <td>0.06</td>\n",
       "      <td>0.02</td>\n",
       "    </tr>\n",
       "    <tr>\n",
       "      <th>2</th>\n",
       "      <td>8</td>\n",
       "      <td>2</td>\n",
       "      <td>0.67</td>\n",
       "      <td>0.25</td>\n",
       "      <td>0.08</td>\n",
       "      <td>0.03</td>\n",
       "      <td>0.00</td>\n",
       "    </tr>\n",
       "    <tr>\n",
       "      <th>3</th>\n",
       "      <td>16</td>\n",
       "      <td>3</td>\n",
       "      <td>0.75</td>\n",
       "      <td>0.19</td>\n",
       "      <td>0.05</td>\n",
       "      <td>0.01</td>\n",
       "      <td>0.00</td>\n",
       "    </tr>\n",
       "    <tr>\n",
       "      <th>4</th>\n",
       "      <td>32</td>\n",
       "      <td>4</td>\n",
       "      <td>0.80</td>\n",
       "      <td>0.12</td>\n",
       "      <td>0.03</td>\n",
       "      <td>0.00</td>\n",
       "      <td>0.00</td>\n",
       "    </tr>\n",
       "    <tr>\n",
       "      <th>5</th>\n",
       "      <td>64</td>\n",
       "      <td>5</td>\n",
       "      <td>0.83</td>\n",
       "      <td>0.08</td>\n",
       "      <td>0.01</td>\n",
       "      <td>0.00</td>\n",
       "      <td>0.00</td>\n",
       "    </tr>\n",
       "    <tr>\n",
       "      <th>6</th>\n",
       "      <td>128</td>\n",
       "      <td>6</td>\n",
       "      <td>0.86</td>\n",
       "      <td>0.05</td>\n",
       "      <td>0.01</td>\n",
       "      <td>0.00</td>\n",
       "      <td>0.00</td>\n",
       "    </tr>\n",
       "    <tr>\n",
       "      <th>7</th>\n",
       "      <td>256</td>\n",
       "      <td>7</td>\n",
       "      <td>0.88</td>\n",
       "      <td>0.03</td>\n",
       "      <td>0.00</td>\n",
       "      <td>0.00</td>\n",
       "      <td>0.00</td>\n",
       "    </tr>\n",
       "    <tr>\n",
       "      <th>8</th>\n",
       "      <td>512</td>\n",
       "      <td>8</td>\n",
       "      <td>0.89</td>\n",
       "      <td>0.02</td>\n",
       "      <td>0.00</td>\n",
       "      <td>0.00</td>\n",
       "      <td>0.00</td>\n",
       "    </tr>\n",
       "    <tr>\n",
       "      <th>9</th>\n",
       "      <td>1024</td>\n",
       "      <td>9</td>\n",
       "      <td>0.90</td>\n",
       "      <td>0.01</td>\n",
       "      <td>0.00</td>\n",
       "      <td>0.00</td>\n",
       "      <td>0.00</td>\n",
       "    </tr>\n",
       "    <tr>\n",
       "      <th>10</th>\n",
       "      <td>2048</td>\n",
       "      <td>10</td>\n",
       "      <td>0.91</td>\n",
       "      <td>0.00</td>\n",
       "      <td>0.00</td>\n",
       "      <td>0.00</td>\n",
       "      <td>0.00</td>\n",
       "    </tr>\n",
       "    <tr>\n",
       "      <th>11</th>\n",
       "      <td>4096</td>\n",
       "      <td>11</td>\n",
       "      <td>0.92</td>\n",
       "      <td>0.00</td>\n",
       "      <td>0.00</td>\n",
       "      <td>0.00</td>\n",
       "      <td>0.00</td>\n",
       "    </tr>\n",
       "    <tr>\n",
       "      <th>12</th>\n",
       "      <td>8192</td>\n",
       "      <td>12</td>\n",
       "      <td>0.92</td>\n",
       "      <td>0.00</td>\n",
       "      <td>0.00</td>\n",
       "      <td>0.00</td>\n",
       "      <td>0.00</td>\n",
       "    </tr>\n",
       "    <tr>\n",
       "      <th>13</th>\n",
       "      <td>16384</td>\n",
       "      <td>13</td>\n",
       "      <td>0.93</td>\n",
       "      <td>0.00</td>\n",
       "      <td>0.00</td>\n",
       "      <td>0.00</td>\n",
       "      <td>0.00</td>\n",
       "    </tr>\n",
       "    <tr>\n",
       "      <th>14</th>\n",
       "      <td>32768</td>\n",
       "      <td>14</td>\n",
       "      <td>0.93</td>\n",
       "      <td>0.00</td>\n",
       "      <td>0.00</td>\n",
       "      <td>0.00</td>\n",
       "      <td>0.00</td>\n",
       "    </tr>\n",
       "    <tr>\n",
       "      <th>15</th>\n",
       "      <td>65536</td>\n",
       "      <td>15</td>\n",
       "      <td>0.94</td>\n",
       "      <td>0.00</td>\n",
       "      <td>0.00</td>\n",
       "      <td>0.00</td>\n",
       "      <td>0.00</td>\n",
       "    </tr>\n",
       "    <tr>\n",
       "      <th>16</th>\n",
       "      <td>131072</td>\n",
       "      <td>16</td>\n",
       "      <td>0.94</td>\n",
       "      <td>0.00</td>\n",
       "      <td>0.00</td>\n",
       "      <td>0.00</td>\n",
       "      <td>0.00</td>\n",
       "    </tr>\n",
       "    <tr>\n",
       "      <th>17</th>\n",
       "      <td>262144</td>\n",
       "      <td>17</td>\n",
       "      <td>0.94</td>\n",
       "      <td>0.00</td>\n",
       "      <td>0.00</td>\n",
       "      <td>0.00</td>\n",
       "      <td>0.00</td>\n",
       "    </tr>\n",
       "    <tr>\n",
       "      <th>18</th>\n",
       "      <td>524288</td>\n",
       "      <td>18</td>\n",
       "      <td>0.95</td>\n",
       "      <td>0.00</td>\n",
       "      <td>0.00</td>\n",
       "      <td>0.00</td>\n",
       "      <td>0.00</td>\n",
       "    </tr>\n",
       "    <tr>\n",
       "      <th>19</th>\n",
       "      <td>1048576</td>\n",
       "      <td>19</td>\n",
       "      <td>0.95</td>\n",
       "      <td>0.00</td>\n",
       "      <td>0.00</td>\n",
       "      <td>0.00</td>\n",
       "      <td>0.00</td>\n",
       "    </tr>\n",
       "  </tbody>\n",
       "</table>\n",
       "</div>"
      ],
      "text/plain": [
       "          n  func  func/log2(n)  func/n  func/(nlog2(n))  func/n^2  func/n^3\n",
       "0         2     0          0.00    0.00             0.00      0.00      0.00\n",
       "1         4     1          0.50    0.25             0.12      0.06      0.02\n",
       "2         8     2          0.67    0.25             0.08      0.03      0.00\n",
       "3        16     3          0.75    0.19             0.05      0.01      0.00\n",
       "4        32     4          0.80    0.12             0.03      0.00      0.00\n",
       "5        64     5          0.83    0.08             0.01      0.00      0.00\n",
       "6       128     6          0.86    0.05             0.01      0.00      0.00\n",
       "7       256     7          0.88    0.03             0.00      0.00      0.00\n",
       "8       512     8          0.89    0.02             0.00      0.00      0.00\n",
       "9      1024     9          0.90    0.01             0.00      0.00      0.00\n",
       "10     2048    10          0.91    0.00             0.00      0.00      0.00\n",
       "11     4096    11          0.92    0.00             0.00      0.00      0.00\n",
       "12     8192    12          0.92    0.00             0.00      0.00      0.00\n",
       "13    16384    13          0.93    0.00             0.00      0.00      0.00\n",
       "14    32768    14          0.93    0.00             0.00      0.00      0.00\n",
       "15    65536    15          0.94    0.00             0.00      0.00      0.00\n",
       "16   131072    16          0.94    0.00             0.00      0.00      0.00\n",
       "17   262144    17          0.94    0.00             0.00      0.00      0.00\n",
       "18   524288    18          0.95    0.00             0.00      0.00      0.00\n",
       "19  1048576    19          0.95    0.00             0.00      0.00      0.00"
      ]
     },
     "execution_count": 60,
     "metadata": {},
     "output_type": "execute_result"
    }
   ],
   "source": [
    "################ Quadratic Time #################\n",
    "\n",
    "def linearSearch(sortedList, targetList):\n",
    "    for i in range(len(sortedList)):    \n",
    "        if sortedList[i] in targetList:\n",
    "            return i\n",
    "        # If target is not in the list, return -1\n",
    "    else:\n",
    "        return -1\n",
    "\n",
    "linearSearch([1,3,9,22], [22,8,6,101])\n",
    "\n",
    "################ Cubic Time #################\n",
    "\n",
    "def TN3(input_):\n",
    "    count = 0\n",
    "    for i in input_:\n",
    "        count += 1\n",
    "        for j in input_:\n",
    "            count += 1\n",
    "            for k in input_:\n",
    "                count +=1\n",
    "    return 1 + count\n",
    "\n",
    "print(TN3([1,2,3,4,5, 6, 7, 8]))\n",
    "\n",
    "################ Logarithmic Time #################\n",
    "\n",
    "def TlogN(input_):\n",
    "    count = 0\n",
    "    high = len(input_) - 1\n",
    "    while high//2 != 0:\n",
    "        high = high//2\n",
    "        count +=1\n",
    "    return count\n",
    "\n",
    "print(TlogN([1,2,3,4,5]))\n",
    "\n",
    "\n",
    "################ Log-Linear Time #################\n",
    "\n",
    "def TNlogN(input_, count=0):\n",
    "    length = len(input_)\n",
    "    count += 1\n",
    "    if length <= 1:\n",
    "        return count\n",
    "    else:\n",
    "        return TNlogN(input_[:length//2], count) + TNlogN(input_[length//2:], count)\n",
    "    \n",
    "print(TNlogN([1,2,3,4,5]))\n",
    "\n",
    "\n",
    "################ TESTING (GENERATOR) #################\n",
    "\n",
    "import pandas as pd \n",
    "import math\n",
    "\n",
    "#format of float number display in pandas\n",
    "pd.options.display.float_format = \"{:,.2f}\".format\n",
    "\n",
    "def test_theta(func, no_of_doubles):\n",
    "    \"\"\"Runs trials doubling size of input list until no_of_doubles reached.\n",
    "    Returns dataframe with ratios of function number of iterations to common growth functions.\n",
    "    \n",
    "    Note: func is required to return number of iterations for each run of func\n",
    "    \"\"\"\n",
    "    \n",
    "    out = []\n",
    "    #compute table\n",
    "    for i in range(1,no_of_doubles+1):\n",
    "        n = 2**i\n",
    "        func_n = func([j for j in range(n)])\n",
    "        out.append([n,\n",
    "                    func_n,\n",
    "                    func_n / math.log(n, 2),\n",
    "                    func_n / n,\n",
    "                    func_n / (n * math.log(n, 2)),\n",
    "                    func_n / n**2,\n",
    "                    func_n / n**3,\n",
    "                   ]\n",
    "                  )    \n",
    "    df = pd.DataFrame(out, columns = [\"n\", \"func\", \"func/log2(n)\", \"func/n\", \"func/(nlog2(n))\", \"func/n^2\", \"func/n^3\"])\n",
    "    \n",
    "    return df\n",
    "\n",
    "######################################################\n",
    "################ RUNNING SIMULATIONS #################\n",
    "\n",
    "################ RUNNING SIMULATIONS #################\n",
    "\n",
    "test_theta(TlogN,20)  # Logarithmic Time\n",
    "\n",
    "#test_theta(TNlogN,20) # Log Linear Time\n",
    "\n",
    "#test_theta(TN3, 9) # Cubic Time\n",
    "\n",
    "\n"
   ]
  },
  {
   "cell_type": "code",
   "execution_count": null,
   "id": "4c1ac620-47b9-4b2d-8c60-1f6fbdd6846d",
   "metadata": {},
   "outputs": [],
   "source": []
  }
 ],
 "metadata": {
  "kernelspec": {
   "display_name": "Python 3 (ipykernel)",
   "language": "python",
   "name": "python3"
  },
  "language_info": {
   "codemirror_mode": {
    "name": "ipython",
    "version": 3
   },
   "file_extension": ".py",
   "mimetype": "text/x-python",
   "name": "python",
   "nbconvert_exporter": "python",
   "pygments_lexer": "ipython3",
   "version": "3.9.12"
  }
 },
 "nbformat": 4,
 "nbformat_minor": 5
}
