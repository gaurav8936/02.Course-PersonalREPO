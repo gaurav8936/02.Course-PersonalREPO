{
 "cells": [
  {
   "cell_type": "markdown",
   "metadata": {},
   "source": [
    "## Modules and the Import Statement"
   ]
  },
  {
   "cell_type": "markdown",
   "metadata": {},
   "source": [
    "In the progression from a single .py file to an entire program using modules and libraries, we think about grouping functionally-related code and storing the .py files in functionally-related folders. For instance, perhaps store all things related to staff and payroll in a staff_info folder and then convert that folder into a package. Let's take the first step by writing a python script, storing it in a .py file, and then creating another script that calls or imports that file. "
   ]
  },
  {
   "cell_type": "markdown",
   "metadata": {},
   "source": [
    "### Making a module\n",
    "\n",
    "Run the cell below to make the the file cur_date.py\n",
    "\n",
    "- The ```%%writefile``` command is a 'magic' command in jupyter to automatically write that file to the same folder as this jupyter notebook. Running the block wont run the Python script - rather it outputs the content of the block to that filename."
   ]
  },
  {
   "cell_type": "code",
   "execution_count": 1,
   "metadata": {},
   "outputs": [
    {
     "name": "stdout",
     "output_type": "stream",
     "text": [
      "Writing cur_date.py\n"
     ]
    }
   ],
   "source": [
    "%%writefile cur_date.py\n",
    "import datetime\n",
    "\n",
    "current_date = datetime.datetime.now()"
   ]
  },
  {
   "cell_type": "markdown",
   "metadata": {},
   "source": [
    "Now create a script of your own that -imports- the cur_date.py.  Have your script print the variable \"current_date\"."
   ]
  },
  {
   "cell_type": "code",
   "execution_count": 3,
   "metadata": {},
   "outputs": [
    {
     "name": "stdout",
     "output_type": "stream",
     "text": [
      "2022-09-28 22:29:23.631587\n"
     ]
    }
   ],
   "source": [
    "import cur_date# add code here to import the script\n",
    "\n",
    "print(cur_date.current_date)\n",
    "\n",
    "# Print the variable current_date from your script"
   ]
  },
  {
   "cell_type": "markdown",
   "metadata": {},
   "source": [
    "### Making a module into a package\n",
    "\n",
    "Now let's take the file we made above and put it into a package. A package is a collection of .py files (used as modules) and stored in a shared folder. To create this package use the following steps:\n",
    "\n",
    "- Create a folder named mymodule\n",
    "- Add the file cur_date.py that you made above into that folder\n",
    "- Turn this folder into a \"package\" by making the `__init__.py` file. [Remember to create an empty file...]\n",
    "- Load the package and print the variable like above!"
   ]
  },
  {
   "cell_type": "code",
   "execution_count": 3,
   "metadata": {},
   "outputs": [
    {
     "name": "stdout",
     "output_type": "stream",
     "text": [
      "2022-09-25 19:06:43.953942\n"
     ]
    }
   ],
   "source": [
    "# from ? import ? # add code here to import the package (replace the ?s)\n",
    "\n",
    "# # Print the variable current_date from your script\n",
    "\n",
    "from mymodule import cur_date # add code here to import the package (replace the ?s)\n",
    "\n",
    "# Print the variable current_date from your script\n",
    "print(cur_date.current_date)"
   ]
  },
  {
   "cell_type": "code",
   "execution_count": 4,
   "metadata": {},
   "outputs": [
    {
     "name": "stdout",
     "output_type": "stream",
     "text": [
      "Hello World, revisited\n"
     ]
    }
   ],
   "source": [
    "!python3 helloworld.py"
   ]
  },
  {
   "cell_type": "code",
   "execution_count": 5,
   "metadata": {},
   "outputs": [
    {
     "name": "stdout",
     "output_type": "stream",
     "text": [
      "#This is our first python script run from the command line as a standalone application#\n",
      "\n",
      "print(\"Hello World, revisited\")"
     ]
    }
   ],
   "source": [
    "!cat helloworld.py"
   ]
  },
  {
   "cell_type": "code",
   "execution_count": 7,
   "metadata": {},
   "outputs": [
    {
     "name": "stdout",
     "output_type": "stream",
     "text": [
      "# prints out the program arguments that have been passed into this standalone application\n",
      "\n",
      "import sys # We need to import the sys module in order to gain access to the arguments\n",
      "\n",
      "print(\"Program Arguments: \", sys.argv)"
     ]
    }
   ],
   "source": [
    "!cat showarguments.py"
   ]
  },
  {
   "cell_type": "code",
   "execution_count": 8,
   "metadata": {},
   "outputs": [
    {
     "name": "stdout",
     "output_type": "stream",
     "text": [
      "Program Argument:  ['showarg_gn.py']\n"
     ]
    }
   ],
   "source": [
    "!python3 showarg_gn.py"
   ]
  },
  {
   "cell_type": "code",
   "execution_count": 9,
   "metadata": {},
   "outputs": [
    {
     "name": "stdout",
     "output_type": "stream",
     "text": [
      "Program Argument:  ['showarg_gn.py', 'firstarg,', 'secondarg,', 'thirdarg']\n"
     ]
    }
   ],
   "source": [
    "!python3 showarg_gn.py firstarg, secondarg, thirdarg"
   ]
  },
  {
   "cell_type": "markdown",
   "metadata": {},
   "source": [
    "#### module is another name for a .py file"
   ]
  },
  {
   "cell_type": "code",
   "execution_count": 11,
   "metadata": {},
   "outputs": [
    {
     "name": "stdout",
     "output_type": "stream",
     "text": [
      "Brekeley, CA Forecast: Clouds\n"
     ]
    }
   ],
   "source": [
    "import weatherman\n",
    "# weatherman is a module\n",
    "\n",
    "print(weatherman.get_report())"
   ]
  },
  {
   "cell_type": "markdown",
   "metadata": {},
   "source": [
    "### import a specific function from an external module"
   ]
  },
  {
   "cell_type": "code",
   "execution_count": 13,
   "metadata": {},
   "outputs": [
    {
     "name": "stdout",
     "output_type": "stream",
     "text": [
      "Brekeley, CA Forecast: Clouds\n"
     ]
    }
   ],
   "source": [
    "from weatherman import get_report\n",
    "\n",
    "print(get_report())"
   ]
  },
  {
   "cell_type": "markdown",
   "metadata": {},
   "source": [
    "---"
   ]
  },
  {
   "cell_type": "markdown",
   "metadata": {},
   "source": [
    "### import the module name to avoid naming conflicts"
   ]
  },
  {
   "cell_type": "code",
   "execution_count": 14,
   "metadata": {},
   "outputs": [
    {
     "name": "stdout",
     "output_type": "stream",
     "text": [
      "Brekeley, CA Forecast: Clouds\n"
     ]
    }
   ],
   "source": [
    "import weatherman\n",
    "\n",
    "print(weatherman.get_report())"
   ]
  },
  {
   "cell_type": "markdown",
   "metadata": {},
   "source": [
    "---"
   ]
  },
  {
   "cell_type": "markdown",
   "metadata": {},
   "source": [
    "### import only what you want from a module by renaming the function"
   ]
  },
  {
   "cell_type": "code",
   "execution_count": 15,
   "metadata": {},
   "outputs": [
    {
     "name": "stdout",
     "output_type": "stream",
     "text": [
      "Brekeley, CA Forecast: Clouds\n"
     ]
    }
   ],
   "source": [
    "from weatherman import get_report as do_it\n",
    "\n",
    "print(do_it())"
   ]
  },
  {
   "cell_type": "markdown",
   "metadata": {},
   "source": [
    "---"
   ]
  },
  {
   "cell_type": "markdown",
   "metadata": {},
   "source": [
    "### module search path"
   ]
  },
  {
   "cell_type": "code",
   "execution_count": 16,
   "metadata": {},
   "outputs": [],
   "source": [
    "# current director\n",
    "\n",
    "# set of dictionaries sys.path"
   ]
  },
  {
   "cell_type": "code",
   "execution_count": 17,
   "metadata": {},
   "outputs": [
    {
     "name": "stdout",
     "output_type": "stream",
     "text": [
      "/Users/ganarasi/Dropbox/Berkeley2022/01.W200-Python/02.Course-PersonalREPO-Home/16.Week6/03.MyNotes_and_HandsOn/DNU_PracticeOnly\n",
      "/Users/ganarasi/opt/anaconda3/lib/python39.zip\n",
      "/Users/ganarasi/opt/anaconda3/lib/python3.9\n",
      "/Users/ganarasi/opt/anaconda3/lib/python3.9/lib-dynload\n",
      "\n",
      "/Users/ganarasi/opt/anaconda3/lib/python3.9/site-packages\n",
      "/Users/ganarasi/opt/anaconda3/lib/python3.9/site-packages/aeosa\n"
     ]
    }
   ],
   "source": [
    "import sys \n",
    "\n",
    "for place in sys.path:\n",
    "    print(place)"
   ]
  },
  {
   "cell_type": "code",
   "execution_count": null,
   "metadata": {},
   "outputs": [],
   "source": []
  }
 ],
 "metadata": {
  "kernelspec": {
   "display_name": "Python 3 (ipykernel)",
   "language": "python",
   "name": "python3"
  },
  "language_info": {
   "codemirror_mode": {
    "name": "ipython",
    "version": 3
   },
   "file_extension": ".py",
   "mimetype": "text/x-python",
   "name": "python",
   "nbconvert_exporter": "python",
   "pygments_lexer": "ipython3",
   "version": "3.9.12"
  }
 },
 "nbformat": 4,
 "nbformat_minor": 4
}
